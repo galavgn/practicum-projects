{
 "cells": [
  {
   "cell_type": "markdown",
   "metadata": {},
   "source": [
    "# Analyzing borrowers’ risk of defaulting\n",
    "\n",
    "Our project is to prepare a report for a bank’s loan division. We’ll need to find out if a customer’s marital status and number of children has an impact on whether they will default on a loan. The bank already has some data on customers’ credit worthiness.\n",
    "\n",
    "Our report will be considered when building **credit score** of a potential customer. The **credit score** is used to evaluate the ability of a potential borrower to repay their loan.\n",
    "\n",
    "\n",
    "# 1.Goal:\n",
    "Test five hypotheses:\n",
    "\n",
    "- Is there a correlation between having children and paying back on time?\n",
    "- Is there a correlation between family status and paying back on time?\n",
    "- Is there a correlation between income level and paying back on time?"
   ]
  },
  {
   "cell_type": "markdown",
   "metadata": {},
   "source": [
    "## Open the data file and have a look at the general information. "
   ]
  },
  {
   "cell_type": "code",
   "execution_count": 1,
   "metadata": {},
   "outputs": [
    {
     "data": {
      "text/html": [
       "<div>\n",
       "<style scoped>\n",
       "    .dataframe tbody tr th:only-of-type {\n",
       "        vertical-align: middle;\n",
       "    }\n",
       "\n",
       "    .dataframe tbody tr th {\n",
       "        vertical-align: top;\n",
       "    }\n",
       "\n",
       "    .dataframe thead th {\n",
       "        text-align: right;\n",
       "    }\n",
       "</style>\n",
       "<table border=\"1\" class=\"dataframe\">\n",
       "  <thead>\n",
       "    <tr style=\"text-align: right;\">\n",
       "      <th></th>\n",
       "      <th>children</th>\n",
       "      <th>days_employed</th>\n",
       "      <th>dob_years</th>\n",
       "      <th>education</th>\n",
       "      <th>education_id</th>\n",
       "      <th>family_status</th>\n",
       "      <th>family_status_id</th>\n",
       "      <th>gender</th>\n",
       "      <th>income_type</th>\n",
       "      <th>debt</th>\n",
       "      <th>total_income</th>\n",
       "      <th>purpose</th>\n",
       "    </tr>\n",
       "  </thead>\n",
       "  <tbody>\n",
       "    <tr>\n",
       "      <td>0</td>\n",
       "      <td>1</td>\n",
       "      <td>-8437.673028</td>\n",
       "      <td>42</td>\n",
       "      <td>bachelor's degree</td>\n",
       "      <td>0</td>\n",
       "      <td>married</td>\n",
       "      <td>0</td>\n",
       "      <td>F</td>\n",
       "      <td>employee</td>\n",
       "      <td>0</td>\n",
       "      <td>40620.102</td>\n",
       "      <td>purchase of the house</td>\n",
       "    </tr>\n",
       "    <tr>\n",
       "      <td>1</td>\n",
       "      <td>1</td>\n",
       "      <td>-4024.803754</td>\n",
       "      <td>36</td>\n",
       "      <td>secondary education</td>\n",
       "      <td>1</td>\n",
       "      <td>married</td>\n",
       "      <td>0</td>\n",
       "      <td>F</td>\n",
       "      <td>employee</td>\n",
       "      <td>0</td>\n",
       "      <td>17932.802</td>\n",
       "      <td>car purchase</td>\n",
       "    </tr>\n",
       "    <tr>\n",
       "      <td>2</td>\n",
       "      <td>0</td>\n",
       "      <td>-5623.422610</td>\n",
       "      <td>33</td>\n",
       "      <td>Secondary Education</td>\n",
       "      <td>1</td>\n",
       "      <td>married</td>\n",
       "      <td>0</td>\n",
       "      <td>M</td>\n",
       "      <td>employee</td>\n",
       "      <td>0</td>\n",
       "      <td>23341.752</td>\n",
       "      <td>purchase of the house</td>\n",
       "    </tr>\n",
       "    <tr>\n",
       "      <td>3</td>\n",
       "      <td>3</td>\n",
       "      <td>-4124.747207</td>\n",
       "      <td>32</td>\n",
       "      <td>secondary education</td>\n",
       "      <td>1</td>\n",
       "      <td>married</td>\n",
       "      <td>0</td>\n",
       "      <td>M</td>\n",
       "      <td>employee</td>\n",
       "      <td>0</td>\n",
       "      <td>42820.568</td>\n",
       "      <td>supplementary education</td>\n",
       "    </tr>\n",
       "    <tr>\n",
       "      <td>4</td>\n",
       "      <td>0</td>\n",
       "      <td>340266.072047</td>\n",
       "      <td>53</td>\n",
       "      <td>secondary education</td>\n",
       "      <td>1</td>\n",
       "      <td>civil partnership</td>\n",
       "      <td>1</td>\n",
       "      <td>F</td>\n",
       "      <td>retiree</td>\n",
       "      <td>0</td>\n",
       "      <td>25378.572</td>\n",
       "      <td>to have a wedding</td>\n",
       "    </tr>\n",
       "    <tr>\n",
       "      <td>...</td>\n",
       "      <td>...</td>\n",
       "      <td>...</td>\n",
       "      <td>...</td>\n",
       "      <td>...</td>\n",
       "      <td>...</td>\n",
       "      <td>...</td>\n",
       "      <td>...</td>\n",
       "      <td>...</td>\n",
       "      <td>...</td>\n",
       "      <td>...</td>\n",
       "      <td>...</td>\n",
       "      <td>...</td>\n",
       "    </tr>\n",
       "    <tr>\n",
       "      <td>21520</td>\n",
       "      <td>1</td>\n",
       "      <td>-4529.316663</td>\n",
       "      <td>43</td>\n",
       "      <td>secondary education</td>\n",
       "      <td>1</td>\n",
       "      <td>civil partnership</td>\n",
       "      <td>1</td>\n",
       "      <td>F</td>\n",
       "      <td>business</td>\n",
       "      <td>0</td>\n",
       "      <td>35966.698</td>\n",
       "      <td>housing transactions</td>\n",
       "    </tr>\n",
       "    <tr>\n",
       "      <td>21521</td>\n",
       "      <td>0</td>\n",
       "      <td>343937.404131</td>\n",
       "      <td>67</td>\n",
       "      <td>secondary education</td>\n",
       "      <td>1</td>\n",
       "      <td>married</td>\n",
       "      <td>0</td>\n",
       "      <td>F</td>\n",
       "      <td>retiree</td>\n",
       "      <td>0</td>\n",
       "      <td>24959.969</td>\n",
       "      <td>purchase of a car</td>\n",
       "    </tr>\n",
       "    <tr>\n",
       "      <td>21522</td>\n",
       "      <td>1</td>\n",
       "      <td>-2113.346888</td>\n",
       "      <td>38</td>\n",
       "      <td>secondary education</td>\n",
       "      <td>1</td>\n",
       "      <td>civil partnership</td>\n",
       "      <td>1</td>\n",
       "      <td>M</td>\n",
       "      <td>employee</td>\n",
       "      <td>1</td>\n",
       "      <td>14347.610</td>\n",
       "      <td>property</td>\n",
       "    </tr>\n",
       "    <tr>\n",
       "      <td>21523</td>\n",
       "      <td>3</td>\n",
       "      <td>-3112.481705</td>\n",
       "      <td>38</td>\n",
       "      <td>secondary education</td>\n",
       "      <td>1</td>\n",
       "      <td>married</td>\n",
       "      <td>0</td>\n",
       "      <td>M</td>\n",
       "      <td>employee</td>\n",
       "      <td>1</td>\n",
       "      <td>39054.888</td>\n",
       "      <td>buying my own car</td>\n",
       "    </tr>\n",
       "    <tr>\n",
       "      <td>21524</td>\n",
       "      <td>2</td>\n",
       "      <td>-1984.507589</td>\n",
       "      <td>40</td>\n",
       "      <td>secondary education</td>\n",
       "      <td>1</td>\n",
       "      <td>married</td>\n",
       "      <td>0</td>\n",
       "      <td>F</td>\n",
       "      <td>employee</td>\n",
       "      <td>0</td>\n",
       "      <td>13127.587</td>\n",
       "      <td>to buy a car</td>\n",
       "    </tr>\n",
       "  </tbody>\n",
       "</table>\n",
       "<p>21525 rows × 12 columns</p>\n",
       "</div>"
      ],
      "text/plain": [
       "       children  days_employed  dob_years            education  education_id  \\\n",
       "0             1   -8437.673028         42    bachelor's degree             0   \n",
       "1             1   -4024.803754         36  secondary education             1   \n",
       "2             0   -5623.422610         33  Secondary Education             1   \n",
       "3             3   -4124.747207         32  secondary education             1   \n",
       "4             0  340266.072047         53  secondary education             1   \n",
       "...         ...            ...        ...                  ...           ...   \n",
       "21520         1   -4529.316663         43  secondary education             1   \n",
       "21521         0  343937.404131         67  secondary education             1   \n",
       "21522         1   -2113.346888         38  secondary education             1   \n",
       "21523         3   -3112.481705         38  secondary education             1   \n",
       "21524         2   -1984.507589         40  secondary education             1   \n",
       "\n",
       "           family_status  family_status_id gender income_type  debt  \\\n",
       "0                married                 0      F    employee     0   \n",
       "1                married                 0      F    employee     0   \n",
       "2                married                 0      M    employee     0   \n",
       "3                married                 0      M    employee     0   \n",
       "4      civil partnership                 1      F     retiree     0   \n",
       "...                  ...               ...    ...         ...   ...   \n",
       "21520  civil partnership                 1      F    business     0   \n",
       "21521            married                 0      F     retiree     0   \n",
       "21522  civil partnership                 1      M    employee     1   \n",
       "21523            married                 0      M    employee     1   \n",
       "21524            married                 0      F    employee     0   \n",
       "\n",
       "       total_income                  purpose  \n",
       "0         40620.102    purchase of the house  \n",
       "1         17932.802             car purchase  \n",
       "2         23341.752    purchase of the house  \n",
       "3         42820.568  supplementary education  \n",
       "4         25378.572        to have a wedding  \n",
       "...             ...                      ...  \n",
       "21520     35966.698     housing transactions  \n",
       "21521     24959.969        purchase of a car  \n",
       "21522     14347.610                 property  \n",
       "21523     39054.888        buying my own car  \n",
       "21524     13127.587             to buy a car  \n",
       "\n",
       "[21525 rows x 12 columns]"
      ]
     },
     "execution_count": 1,
     "metadata": {},
     "output_type": "execute_result"
    }
   ],
   "source": [
    "# import packages\n",
    "import pandas as pd\n",
    "import matplotlib.pyplot as plt\n",
    "import seaborn as sns\n",
    "import numpy as np\n",
    "df = pd.read_csv('https://code.s3.yandex.net/datasets/credit_scoring_eng.csv')\n",
    "df\n"
   ]
  },
  {
   "cell_type": "markdown",
   "metadata": {},
   "source": [
    "## Task 1. Data exploration\n",
    "\n",
    "**Description of the data**\n",
    "- `children` - the number of children in the family\n",
    "- `days_employed` - work experience in days\n",
    "- `dob_years` - client's age in years\n",
    "- `education` - client's education\n",
    "- `education_id` - education identifier\n",
    "- `family_status` - marital status\n",
    "- `family_status_id` - marital status identifier\n",
    "- `gender` - gender of the client\n",
    "- `income_type` - type of employment\n",
    "- `debt` - was there any debt on loan repayment\n",
    "- `total_income` - monthly income\n",
    "- `purpose` - the purpose of obtaining a loan\n",
    "\n"
   ]
  },
  {
   "cell_type": "code",
   "execution_count": 2,
   "metadata": {},
   "outputs": [
    {
     "data": {
      "text/plain": [
       "(21525, 12)"
      ]
     },
     "execution_count": 2,
     "metadata": {},
     "output_type": "execute_result"
    }
   ],
   "source": [
    "# Let's see how many rows and columns our dataset has\n",
    "df.shape"
   ]
  },
  {
   "cell_type": "code",
   "execution_count": 3,
   "metadata": {
    "scrolled": true
   },
   "outputs": [
    {
     "data": {
      "text/html": [
       "<div>\n",
       "<style scoped>\n",
       "    .dataframe tbody tr th:only-of-type {\n",
       "        vertical-align: middle;\n",
       "    }\n",
       "\n",
       "    .dataframe tbody tr th {\n",
       "        vertical-align: top;\n",
       "    }\n",
       "\n",
       "    .dataframe thead th {\n",
       "        text-align: right;\n",
       "    }\n",
       "</style>\n",
       "<table border=\"1\" class=\"dataframe\">\n",
       "  <thead>\n",
       "    <tr style=\"text-align: right;\">\n",
       "      <th></th>\n",
       "      <th>children</th>\n",
       "      <th>days_employed</th>\n",
       "      <th>dob_years</th>\n",
       "      <th>education</th>\n",
       "      <th>education_id</th>\n",
       "      <th>family_status</th>\n",
       "      <th>family_status_id</th>\n",
       "      <th>gender</th>\n",
       "      <th>income_type</th>\n",
       "      <th>debt</th>\n",
       "      <th>total_income</th>\n",
       "      <th>purpose</th>\n",
       "    </tr>\n",
       "  </thead>\n",
       "  <tbody>\n",
       "    <tr>\n",
       "      <td>0</td>\n",
       "      <td>1</td>\n",
       "      <td>-8437.673028</td>\n",
       "      <td>42</td>\n",
       "      <td>bachelor's degree</td>\n",
       "      <td>0</td>\n",
       "      <td>married</td>\n",
       "      <td>0</td>\n",
       "      <td>F</td>\n",
       "      <td>employee</td>\n",
       "      <td>0</td>\n",
       "      <td>40620.102</td>\n",
       "      <td>purchase of the house</td>\n",
       "    </tr>\n",
       "    <tr>\n",
       "      <td>1</td>\n",
       "      <td>1</td>\n",
       "      <td>-4024.803754</td>\n",
       "      <td>36</td>\n",
       "      <td>secondary education</td>\n",
       "      <td>1</td>\n",
       "      <td>married</td>\n",
       "      <td>0</td>\n",
       "      <td>F</td>\n",
       "      <td>employee</td>\n",
       "      <td>0</td>\n",
       "      <td>17932.802</td>\n",
       "      <td>car purchase</td>\n",
       "    </tr>\n",
       "    <tr>\n",
       "      <td>2</td>\n",
       "      <td>0</td>\n",
       "      <td>-5623.422610</td>\n",
       "      <td>33</td>\n",
       "      <td>Secondary Education</td>\n",
       "      <td>1</td>\n",
       "      <td>married</td>\n",
       "      <td>0</td>\n",
       "      <td>M</td>\n",
       "      <td>employee</td>\n",
       "      <td>0</td>\n",
       "      <td>23341.752</td>\n",
       "      <td>purchase of the house</td>\n",
       "    </tr>\n",
       "    <tr>\n",
       "      <td>3</td>\n",
       "      <td>3</td>\n",
       "      <td>-4124.747207</td>\n",
       "      <td>32</td>\n",
       "      <td>secondary education</td>\n",
       "      <td>1</td>\n",
       "      <td>married</td>\n",
       "      <td>0</td>\n",
       "      <td>M</td>\n",
       "      <td>employee</td>\n",
       "      <td>0</td>\n",
       "      <td>42820.568</td>\n",
       "      <td>supplementary education</td>\n",
       "    </tr>\n",
       "    <tr>\n",
       "      <td>4</td>\n",
       "      <td>0</td>\n",
       "      <td>340266.072047</td>\n",
       "      <td>53</td>\n",
       "      <td>secondary education</td>\n",
       "      <td>1</td>\n",
       "      <td>civil partnership</td>\n",
       "      <td>1</td>\n",
       "      <td>F</td>\n",
       "      <td>retiree</td>\n",
       "      <td>0</td>\n",
       "      <td>25378.572</td>\n",
       "      <td>to have a wedding</td>\n",
       "    </tr>\n",
       "    <tr>\n",
       "      <td>5</td>\n",
       "      <td>0</td>\n",
       "      <td>-926.185831</td>\n",
       "      <td>27</td>\n",
       "      <td>bachelor's degree</td>\n",
       "      <td>0</td>\n",
       "      <td>civil partnership</td>\n",
       "      <td>1</td>\n",
       "      <td>M</td>\n",
       "      <td>business</td>\n",
       "      <td>0</td>\n",
       "      <td>40922.170</td>\n",
       "      <td>purchase of the house</td>\n",
       "    </tr>\n",
       "    <tr>\n",
       "      <td>6</td>\n",
       "      <td>0</td>\n",
       "      <td>-2879.202052</td>\n",
       "      <td>43</td>\n",
       "      <td>bachelor's degree</td>\n",
       "      <td>0</td>\n",
       "      <td>married</td>\n",
       "      <td>0</td>\n",
       "      <td>F</td>\n",
       "      <td>business</td>\n",
       "      <td>0</td>\n",
       "      <td>38484.156</td>\n",
       "      <td>housing transactions</td>\n",
       "    </tr>\n",
       "    <tr>\n",
       "      <td>7</td>\n",
       "      <td>0</td>\n",
       "      <td>-152.779569</td>\n",
       "      <td>50</td>\n",
       "      <td>SECONDARY EDUCATION</td>\n",
       "      <td>1</td>\n",
       "      <td>married</td>\n",
       "      <td>0</td>\n",
       "      <td>M</td>\n",
       "      <td>employee</td>\n",
       "      <td>0</td>\n",
       "      <td>21731.829</td>\n",
       "      <td>education</td>\n",
       "    </tr>\n",
       "    <tr>\n",
       "      <td>8</td>\n",
       "      <td>2</td>\n",
       "      <td>-6929.865299</td>\n",
       "      <td>35</td>\n",
       "      <td>BACHELOR'S DEGREE</td>\n",
       "      <td>0</td>\n",
       "      <td>civil partnership</td>\n",
       "      <td>1</td>\n",
       "      <td>F</td>\n",
       "      <td>employee</td>\n",
       "      <td>0</td>\n",
       "      <td>15337.093</td>\n",
       "      <td>having a wedding</td>\n",
       "    </tr>\n",
       "    <tr>\n",
       "      <td>9</td>\n",
       "      <td>0</td>\n",
       "      <td>-2188.756445</td>\n",
       "      <td>41</td>\n",
       "      <td>secondary education</td>\n",
       "      <td>1</td>\n",
       "      <td>married</td>\n",
       "      <td>0</td>\n",
       "      <td>M</td>\n",
       "      <td>employee</td>\n",
       "      <td>0</td>\n",
       "      <td>23108.150</td>\n",
       "      <td>purchase of the house for my family</td>\n",
       "    </tr>\n",
       "  </tbody>\n",
       "</table>\n",
       "</div>"
      ],
      "text/plain": [
       "   children  days_employed  dob_years            education  education_id  \\\n",
       "0         1   -8437.673028         42    bachelor's degree             0   \n",
       "1         1   -4024.803754         36  secondary education             1   \n",
       "2         0   -5623.422610         33  Secondary Education             1   \n",
       "3         3   -4124.747207         32  secondary education             1   \n",
       "4         0  340266.072047         53  secondary education             1   \n",
       "5         0    -926.185831         27    bachelor's degree             0   \n",
       "6         0   -2879.202052         43    bachelor's degree             0   \n",
       "7         0    -152.779569         50  SECONDARY EDUCATION             1   \n",
       "8         2   -6929.865299         35    BACHELOR'S DEGREE             0   \n",
       "9         0   -2188.756445         41  secondary education             1   \n",
       "\n",
       "       family_status  family_status_id gender income_type  debt  total_income  \\\n",
       "0            married                 0      F    employee     0     40620.102   \n",
       "1            married                 0      F    employee     0     17932.802   \n",
       "2            married                 0      M    employee     0     23341.752   \n",
       "3            married                 0      M    employee     0     42820.568   \n",
       "4  civil partnership                 1      F     retiree     0     25378.572   \n",
       "5  civil partnership                 1      M    business     0     40922.170   \n",
       "6            married                 0      F    business     0     38484.156   \n",
       "7            married                 0      M    employee     0     21731.829   \n",
       "8  civil partnership                 1      F    employee     0     15337.093   \n",
       "9            married                 0      M    employee     0     23108.150   \n",
       "\n",
       "                               purpose  \n",
       "0                purchase of the house  \n",
       "1                         car purchase  \n",
       "2                purchase of the house  \n",
       "3              supplementary education  \n",
       "4                    to have a wedding  \n",
       "5                purchase of the house  \n",
       "6                 housing transactions  \n",
       "7                            education  \n",
       "8                     having a wedding  \n",
       "9  purchase of the house for my family  "
      ]
     },
     "execution_count": 3,
     "metadata": {},
     "output_type": "execute_result"
    }
   ],
   "source": [
    "# Let's print the first N row\n",
    "df.head(10)"
   ]
  },
  {
   "cell_type": "markdown",
   "metadata": {},
   "source": [
    "\n",
    "- The table contains 12 columns and have differant type of data: float, integer,object.\n",
    "\n",
    "- We can see some issue with values in columns:\n",
    "1. Column 'education' have different registers: some letter uppercase and some lowercase\n",
    "2. Column 'days_employed' have incorect artifacts\n",
    "3. Column 'total_income' have blank cells"
   ]
  },
  {
   "cell_type": "code",
   "execution_count": 4,
   "metadata": {
    "scrolled": false
   },
   "outputs": [
    {
     "name": "stdout",
     "output_type": "stream",
     "text": [
      "<class 'pandas.core.frame.DataFrame'>\n",
      "RangeIndex: 21525 entries, 0 to 21524\n",
      "Data columns (total 12 columns):\n",
      "children            21525 non-null int64\n",
      "days_employed       19351 non-null float64\n",
      "dob_years           21525 non-null int64\n",
      "education           21525 non-null object\n",
      "education_id        21525 non-null int64\n",
      "family_status       21525 non-null object\n",
      "family_status_id    21525 non-null int64\n",
      "gender              21525 non-null object\n",
      "income_type         21525 non-null object\n",
      "debt                21525 non-null int64\n",
      "total_income        19351 non-null float64\n",
      "purpose             21525 non-null object\n",
      "dtypes: float64(2), int64(5), object(5)\n",
      "memory usage: 2.0+ MB\n"
     ]
    }
   ],
   "source": [
    "# Get info on data\n",
    "df.info()"
   ]
  },
  {
   "cell_type": "markdown",
   "metadata": {},
   "source": [
    "\n",
    "- Dataset has 21525 rows and data types int64, float64, and object.\n",
    "- The columns 'days_employed' and 'total_income' have 19351 rows.As we see the number of row is different. This means the data contains missing values."
   ]
  },
  {
   "cell_type": "code",
   "execution_count": 5,
   "metadata": {
    "scrolled": true
   },
   "outputs": [
    {
     "data": {
      "text/html": [
       "<div>\n",
       "<style scoped>\n",
       "    .dataframe tbody tr th:only-of-type {\n",
       "        vertical-align: middle;\n",
       "    }\n",
       "\n",
       "    .dataframe tbody tr th {\n",
       "        vertical-align: top;\n",
       "    }\n",
       "\n",
       "    .dataframe thead th {\n",
       "        text-align: right;\n",
       "    }\n",
       "</style>\n",
       "<table border=\"1\" class=\"dataframe\">\n",
       "  <thead>\n",
       "    <tr style=\"text-align: right;\">\n",
       "      <th></th>\n",
       "      <th>children</th>\n",
       "      <th>days_employed</th>\n",
       "      <th>dob_years</th>\n",
       "      <th>education_id</th>\n",
       "      <th>family_status_id</th>\n",
       "      <th>debt</th>\n",
       "      <th>total_income</th>\n",
       "    </tr>\n",
       "  </thead>\n",
       "  <tbody>\n",
       "    <tr>\n",
       "      <td>count</td>\n",
       "      <td>21525.000000</td>\n",
       "      <td>19351.000000</td>\n",
       "      <td>21525.000000</td>\n",
       "      <td>21525.000000</td>\n",
       "      <td>21525.000000</td>\n",
       "      <td>21525.000000</td>\n",
       "      <td>19351.000000</td>\n",
       "    </tr>\n",
       "    <tr>\n",
       "      <td>mean</td>\n",
       "      <td>0.538908</td>\n",
       "      <td>63046.497661</td>\n",
       "      <td>43.293380</td>\n",
       "      <td>0.817236</td>\n",
       "      <td>0.972544</td>\n",
       "      <td>0.080883</td>\n",
       "      <td>26787.568355</td>\n",
       "    </tr>\n",
       "    <tr>\n",
       "      <td>std</td>\n",
       "      <td>1.381587</td>\n",
       "      <td>140827.311974</td>\n",
       "      <td>12.574584</td>\n",
       "      <td>0.548138</td>\n",
       "      <td>1.420324</td>\n",
       "      <td>0.272661</td>\n",
       "      <td>16475.450632</td>\n",
       "    </tr>\n",
       "    <tr>\n",
       "      <td>min</td>\n",
       "      <td>-1.000000</td>\n",
       "      <td>-18388.949901</td>\n",
       "      <td>0.000000</td>\n",
       "      <td>0.000000</td>\n",
       "      <td>0.000000</td>\n",
       "      <td>0.000000</td>\n",
       "      <td>3306.762000</td>\n",
       "    </tr>\n",
       "    <tr>\n",
       "      <td>25%</td>\n",
       "      <td>0.000000</td>\n",
       "      <td>-2747.423625</td>\n",
       "      <td>33.000000</td>\n",
       "      <td>1.000000</td>\n",
       "      <td>0.000000</td>\n",
       "      <td>0.000000</td>\n",
       "      <td>16488.504500</td>\n",
       "    </tr>\n",
       "    <tr>\n",
       "      <td>50%</td>\n",
       "      <td>0.000000</td>\n",
       "      <td>-1203.369529</td>\n",
       "      <td>42.000000</td>\n",
       "      <td>1.000000</td>\n",
       "      <td>0.000000</td>\n",
       "      <td>0.000000</td>\n",
       "      <td>23202.870000</td>\n",
       "    </tr>\n",
       "    <tr>\n",
       "      <td>75%</td>\n",
       "      <td>1.000000</td>\n",
       "      <td>-291.095954</td>\n",
       "      <td>53.000000</td>\n",
       "      <td>1.000000</td>\n",
       "      <td>1.000000</td>\n",
       "      <td>0.000000</td>\n",
       "      <td>32549.611000</td>\n",
       "    </tr>\n",
       "    <tr>\n",
       "      <td>max</td>\n",
       "      <td>20.000000</td>\n",
       "      <td>401755.400475</td>\n",
       "      <td>75.000000</td>\n",
       "      <td>4.000000</td>\n",
       "      <td>4.000000</td>\n",
       "      <td>1.000000</td>\n",
       "      <td>362496.645000</td>\n",
       "    </tr>\n",
       "  </tbody>\n",
       "</table>\n",
       "</div>"
      ],
      "text/plain": [
       "           children  days_employed     dob_years  education_id  \\\n",
       "count  21525.000000   19351.000000  21525.000000  21525.000000   \n",
       "mean       0.538908   63046.497661     43.293380      0.817236   \n",
       "std        1.381587  140827.311974     12.574584      0.548138   \n",
       "min       -1.000000  -18388.949901      0.000000      0.000000   \n",
       "25%        0.000000   -2747.423625     33.000000      1.000000   \n",
       "50%        0.000000   -1203.369529     42.000000      1.000000   \n",
       "75%        1.000000    -291.095954     53.000000      1.000000   \n",
       "max       20.000000  401755.400475     75.000000      4.000000   \n",
       "\n",
       "       family_status_id          debt   total_income  \n",
       "count      21525.000000  21525.000000   19351.000000  \n",
       "mean           0.972544      0.080883   26787.568355  \n",
       "std            1.420324      0.272661   16475.450632  \n",
       "min            0.000000      0.000000    3306.762000  \n",
       "25%            0.000000      0.000000   16488.504500  \n",
       "50%            0.000000      0.000000   23202.870000  \n",
       "75%            1.000000      0.000000   32549.611000  \n",
       "max            4.000000      1.000000  362496.645000  "
      ]
     },
     "execution_count": 5,
     "metadata": {},
     "output_type": "execute_result"
    }
   ],
   "source": [
    "#View the statistical details\n",
    "df.describe()\n"
   ]
  },
  {
   "cell_type": "code",
   "execution_count": 6,
   "metadata": {
    "scrolled": false
   },
   "outputs": [
    {
     "data": {
      "text/html": [
       "<div>\n",
       "<style scoped>\n",
       "    .dataframe tbody tr th:only-of-type {\n",
       "        vertical-align: middle;\n",
       "    }\n",
       "\n",
       "    .dataframe tbody tr th {\n",
       "        vertical-align: top;\n",
       "    }\n",
       "\n",
       "    .dataframe thead th {\n",
       "        text-align: right;\n",
       "    }\n",
       "</style>\n",
       "<table border=\"1\" class=\"dataframe\">\n",
       "  <thead>\n",
       "    <tr style=\"text-align: right;\">\n",
       "      <th></th>\n",
       "      <th>education</th>\n",
       "      <th>family_status</th>\n",
       "      <th>gender</th>\n",
       "      <th>income_type</th>\n",
       "      <th>purpose</th>\n",
       "    </tr>\n",
       "  </thead>\n",
       "  <tbody>\n",
       "    <tr>\n",
       "      <td>count</td>\n",
       "      <td>21525</td>\n",
       "      <td>21525</td>\n",
       "      <td>21525</td>\n",
       "      <td>21525</td>\n",
       "      <td>21525</td>\n",
       "    </tr>\n",
       "    <tr>\n",
       "      <td>unique</td>\n",
       "      <td>15</td>\n",
       "      <td>5</td>\n",
       "      <td>3</td>\n",
       "      <td>8</td>\n",
       "      <td>38</td>\n",
       "    </tr>\n",
       "    <tr>\n",
       "      <td>top</td>\n",
       "      <td>secondary education</td>\n",
       "      <td>married</td>\n",
       "      <td>F</td>\n",
       "      <td>employee</td>\n",
       "      <td>wedding ceremony</td>\n",
       "    </tr>\n",
       "    <tr>\n",
       "      <td>freq</td>\n",
       "      <td>13750</td>\n",
       "      <td>12380</td>\n",
       "      <td>14236</td>\n",
       "      <td>11119</td>\n",
       "      <td>797</td>\n",
       "    </tr>\n",
       "  </tbody>\n",
       "</table>\n",
       "</div>"
      ],
      "text/plain": [
       "                  education family_status gender income_type           purpose\n",
       "count                 21525         21525  21525       21525             21525\n",
       "unique                   15             5      3           8                38\n",
       "top     secondary education       married      F    employee  wedding ceremony\n",
       "freq                  13750         12380  14236       11119               797"
      ]
     },
     "execution_count": 6,
     "metadata": {},
     "output_type": "execute_result"
    }
   ],
   "source": [
    "df.describe(include=object)"
   ]
  },
  {
   "cell_type": "code",
   "execution_count": 7,
   "metadata": {
    "scrolled": true
   },
   "outputs": [
    {
     "data": {
      "text/plain": [
       " NaN            2174\n",
       "-1645.463049       1\n",
       "-6620.396473       1\n",
       "-1238.560080       1\n",
       "-3047.519891       1\n",
       "                ... \n",
       "-2849.351119       1\n",
       "-5619.328204       1\n",
       "-448.829898        1\n",
       "-1687.038672       1\n",
       "-206.107342        1\n",
       "Name: days_employed, Length: 19352, dtype: int64"
      ]
     },
     "metadata": {},
     "output_type": "display_data"
    }
   ],
   "source": [
    "# Let's look at the filtered table with missing values in the the first column with missing data\n",
    "display(df['days_employed'].value_counts(dropna=False))"
   ]
  },
  {
   "cell_type": "markdown",
   "metadata": {},
   "source": [
    "\n",
    "\n",
    "- The missing values in 'days_employed' is repesented as NaN \n",
    "- 'days_employed' column has 2174 missing values \n",
    "- The size of missing value columns 'days_employed' and 'total_income' have same number of row 2174\n"
   ]
  },
  {
   "cell_type": "code",
   "execution_count": 8,
   "metadata": {},
   "outputs": [
    {
     "data": {
      "text/html": [
       "<div>\n",
       "<style scoped>\n",
       "    .dataframe tbody tr th:only-of-type {\n",
       "        vertical-align: middle;\n",
       "    }\n",
       "\n",
       "    .dataframe tbody tr th {\n",
       "        vertical-align: top;\n",
       "    }\n",
       "\n",
       "    .dataframe thead th {\n",
       "        text-align: right;\n",
       "    }\n",
       "</style>\n",
       "<table border=\"1\" class=\"dataframe\">\n",
       "  <thead>\n",
       "    <tr style=\"text-align: right;\">\n",
       "      <th></th>\n",
       "      <th>days_employed</th>\n",
       "      <th>total_income</th>\n",
       "      <th>count</th>\n",
       "    </tr>\n",
       "  </thead>\n",
       "  <tbody>\n",
       "    <tr>\n",
       "      <td>0</td>\n",
       "      <td>-18388.949901</td>\n",
       "      <td>29788.629</td>\n",
       "      <td>1</td>\n",
       "    </tr>\n",
       "    <tr>\n",
       "      <td>1</td>\n",
       "      <td>-17615.563266</td>\n",
       "      <td>19609.719</td>\n",
       "      <td>1</td>\n",
       "    </tr>\n",
       "    <tr>\n",
       "      <td>2</td>\n",
       "      <td>-16593.472817</td>\n",
       "      <td>19951.655</td>\n",
       "      <td>1</td>\n",
       "    </tr>\n",
       "    <tr>\n",
       "      <td>3</td>\n",
       "      <td>-16264.699501</td>\n",
       "      <td>8198.235</td>\n",
       "      <td>1</td>\n",
       "    </tr>\n",
       "    <tr>\n",
       "      <td>4</td>\n",
       "      <td>-16119.687737</td>\n",
       "      <td>14644.430</td>\n",
       "      <td>1</td>\n",
       "    </tr>\n",
       "    <tr>\n",
       "      <td>...</td>\n",
       "      <td>...</td>\n",
       "      <td>...</td>\n",
       "      <td>...</td>\n",
       "    </tr>\n",
       "    <tr>\n",
       "      <td>19346</td>\n",
       "      <td>401663.850046</td>\n",
       "      <td>7725.831</td>\n",
       "      <td>1</td>\n",
       "    </tr>\n",
       "    <tr>\n",
       "      <td>19347</td>\n",
       "      <td>401674.466633</td>\n",
       "      <td>52063.316</td>\n",
       "      <td>1</td>\n",
       "    </tr>\n",
       "    <tr>\n",
       "      <td>19348</td>\n",
       "      <td>401675.093434</td>\n",
       "      <td>20194.323</td>\n",
       "      <td>1</td>\n",
       "    </tr>\n",
       "    <tr>\n",
       "      <td>19349</td>\n",
       "      <td>401715.811749</td>\n",
       "      <td>9182.441</td>\n",
       "      <td>1</td>\n",
       "    </tr>\n",
       "    <tr>\n",
       "      <td>19350</td>\n",
       "      <td>401755.400475</td>\n",
       "      <td>28204.551</td>\n",
       "      <td>1</td>\n",
       "    </tr>\n",
       "  </tbody>\n",
       "</table>\n",
       "<p>19351 rows × 3 columns</p>\n",
       "</div>"
      ],
      "text/plain": [
       "       days_employed  total_income  count\n",
       "0      -18388.949901     29788.629      1\n",
       "1      -17615.563266     19609.719      1\n",
       "2      -16593.472817     19951.655      1\n",
       "3      -16264.699501      8198.235      1\n",
       "4      -16119.687737     14644.430      1\n",
       "...              ...           ...    ...\n",
       "19346  401663.850046      7725.831      1\n",
       "19347  401674.466633     52063.316      1\n",
       "19348  401675.093434     20194.323      1\n",
       "19349  401715.811749      9182.441      1\n",
       "19350  401755.400475     28204.551      1\n",
       "\n",
       "[19351 rows x 3 columns]"
      ]
     },
     "execution_count": 8,
     "metadata": {},
     "output_type": "execute_result"
    }
   ],
   "source": [
    "# Let's apply multiple conditions for filtering data and look at the number of rows in the filtered table.\n",
    "\n",
    "#df.loc[(df['days_employed'].isna()) & (df['total_income'].isna())]\n",
    "df.groupby(['days_employed','total_income']).size().reset_index(name='count')"
   ]
  },
  {
   "cell_type": "markdown",
   "metadata": {},
   "source": [
    " - Missing value muched with missing value to other dataset. that means it might be have corralation"
   ]
  },
  {
   "cell_type": "code",
   "execution_count": 9,
   "metadata": {
    "scrolled": true
   },
   "outputs": [
    {
     "data": {
      "text/html": [
       "<div>\n",
       "<style scoped>\n",
       "    .dataframe tbody tr th:only-of-type {\n",
       "        vertical-align: middle;\n",
       "    }\n",
       "\n",
       "    .dataframe tbody tr th {\n",
       "        vertical-align: top;\n",
       "    }\n",
       "\n",
       "    .dataframe thead th {\n",
       "        text-align: right;\n",
       "    }\n",
       "</style>\n",
       "<table border=\"1\" class=\"dataframe\">\n",
       "  <thead>\n",
       "    <tr style=\"text-align: right;\">\n",
       "      <th></th>\n",
       "      <th>children</th>\n",
       "      <th>days_employed</th>\n",
       "      <th>dob_years</th>\n",
       "      <th>education</th>\n",
       "      <th>education_id</th>\n",
       "      <th>family_status</th>\n",
       "      <th>family_status_id</th>\n",
       "      <th>gender</th>\n",
       "      <th>income_type</th>\n",
       "      <th>debt</th>\n",
       "      <th>total_income</th>\n",
       "      <th>purpose</th>\n",
       "    </tr>\n",
       "  </thead>\n",
       "  <tbody>\n",
       "    <tr>\n",
       "      <td>0</td>\n",
       "      <td>1</td>\n",
       "      <td>-8437.673028</td>\n",
       "      <td>42</td>\n",
       "      <td>bachelor's degree</td>\n",
       "      <td>0</td>\n",
       "      <td>married</td>\n",
       "      <td>0</td>\n",
       "      <td>F</td>\n",
       "      <td>employee</td>\n",
       "      <td>0</td>\n",
       "      <td>40620.102</td>\n",
       "      <td>purchase of the house</td>\n",
       "    </tr>\n",
       "    <tr>\n",
       "      <td>1</td>\n",
       "      <td>1</td>\n",
       "      <td>-4024.803754</td>\n",
       "      <td>36</td>\n",
       "      <td>secondary education</td>\n",
       "      <td>1</td>\n",
       "      <td>married</td>\n",
       "      <td>0</td>\n",
       "      <td>F</td>\n",
       "      <td>employee</td>\n",
       "      <td>0</td>\n",
       "      <td>17932.802</td>\n",
       "      <td>car purchase</td>\n",
       "    </tr>\n",
       "    <tr>\n",
       "      <td>2</td>\n",
       "      <td>0</td>\n",
       "      <td>-5623.422610</td>\n",
       "      <td>33</td>\n",
       "      <td>Secondary Education</td>\n",
       "      <td>1</td>\n",
       "      <td>married</td>\n",
       "      <td>0</td>\n",
       "      <td>M</td>\n",
       "      <td>employee</td>\n",
       "      <td>0</td>\n",
       "      <td>23341.752</td>\n",
       "      <td>purchase of the house</td>\n",
       "    </tr>\n",
       "    <tr>\n",
       "      <td>3</td>\n",
       "      <td>3</td>\n",
       "      <td>-4124.747207</td>\n",
       "      <td>32</td>\n",
       "      <td>secondary education</td>\n",
       "      <td>1</td>\n",
       "      <td>married</td>\n",
       "      <td>0</td>\n",
       "      <td>M</td>\n",
       "      <td>employee</td>\n",
       "      <td>0</td>\n",
       "      <td>42820.568</td>\n",
       "      <td>supplementary education</td>\n",
       "    </tr>\n",
       "    <tr>\n",
       "      <td>4</td>\n",
       "      <td>0</td>\n",
       "      <td>340266.072047</td>\n",
       "      <td>53</td>\n",
       "      <td>secondary education</td>\n",
       "      <td>1</td>\n",
       "      <td>civil partnership</td>\n",
       "      <td>1</td>\n",
       "      <td>F</td>\n",
       "      <td>retiree</td>\n",
       "      <td>0</td>\n",
       "      <td>25378.572</td>\n",
       "      <td>to have a wedding</td>\n",
       "    </tr>\n",
       "    <tr>\n",
       "      <td>...</td>\n",
       "      <td>...</td>\n",
       "      <td>...</td>\n",
       "      <td>...</td>\n",
       "      <td>...</td>\n",
       "      <td>...</td>\n",
       "      <td>...</td>\n",
       "      <td>...</td>\n",
       "      <td>...</td>\n",
       "      <td>...</td>\n",
       "      <td>...</td>\n",
       "      <td>...</td>\n",
       "      <td>...</td>\n",
       "    </tr>\n",
       "    <tr>\n",
       "      <td>21520</td>\n",
       "      <td>1</td>\n",
       "      <td>-4529.316663</td>\n",
       "      <td>43</td>\n",
       "      <td>secondary education</td>\n",
       "      <td>1</td>\n",
       "      <td>civil partnership</td>\n",
       "      <td>1</td>\n",
       "      <td>F</td>\n",
       "      <td>business</td>\n",
       "      <td>0</td>\n",
       "      <td>35966.698</td>\n",
       "      <td>housing transactions</td>\n",
       "    </tr>\n",
       "    <tr>\n",
       "      <td>21521</td>\n",
       "      <td>0</td>\n",
       "      <td>343937.404131</td>\n",
       "      <td>67</td>\n",
       "      <td>secondary education</td>\n",
       "      <td>1</td>\n",
       "      <td>married</td>\n",
       "      <td>0</td>\n",
       "      <td>F</td>\n",
       "      <td>retiree</td>\n",
       "      <td>0</td>\n",
       "      <td>24959.969</td>\n",
       "      <td>purchase of a car</td>\n",
       "    </tr>\n",
       "    <tr>\n",
       "      <td>21522</td>\n",
       "      <td>1</td>\n",
       "      <td>-2113.346888</td>\n",
       "      <td>38</td>\n",
       "      <td>secondary education</td>\n",
       "      <td>1</td>\n",
       "      <td>civil partnership</td>\n",
       "      <td>1</td>\n",
       "      <td>M</td>\n",
       "      <td>employee</td>\n",
       "      <td>1</td>\n",
       "      <td>14347.610</td>\n",
       "      <td>property</td>\n",
       "    </tr>\n",
       "    <tr>\n",
       "      <td>21523</td>\n",
       "      <td>3</td>\n",
       "      <td>-3112.481705</td>\n",
       "      <td>38</td>\n",
       "      <td>secondary education</td>\n",
       "      <td>1</td>\n",
       "      <td>married</td>\n",
       "      <td>0</td>\n",
       "      <td>M</td>\n",
       "      <td>employee</td>\n",
       "      <td>1</td>\n",
       "      <td>39054.888</td>\n",
       "      <td>buying my own car</td>\n",
       "    </tr>\n",
       "    <tr>\n",
       "      <td>21524</td>\n",
       "      <td>2</td>\n",
       "      <td>-1984.507589</td>\n",
       "      <td>40</td>\n",
       "      <td>secondary education</td>\n",
       "      <td>1</td>\n",
       "      <td>married</td>\n",
       "      <td>0</td>\n",
       "      <td>F</td>\n",
       "      <td>employee</td>\n",
       "      <td>0</td>\n",
       "      <td>13127.587</td>\n",
       "      <td>to buy a car</td>\n",
       "    </tr>\n",
       "  </tbody>\n",
       "</table>\n",
       "<p>19351 rows × 12 columns</p>\n",
       "</div>"
      ],
      "text/plain": [
       "       children  days_employed  dob_years            education  education_id  \\\n",
       "0             1   -8437.673028         42    bachelor's degree             0   \n",
       "1             1   -4024.803754         36  secondary education             1   \n",
       "2             0   -5623.422610         33  Secondary Education             1   \n",
       "3             3   -4124.747207         32  secondary education             1   \n",
       "4             0  340266.072047         53  secondary education             1   \n",
       "...         ...            ...        ...                  ...           ...   \n",
       "21520         1   -4529.316663         43  secondary education             1   \n",
       "21521         0  343937.404131         67  secondary education             1   \n",
       "21522         1   -2113.346888         38  secondary education             1   \n",
       "21523         3   -3112.481705         38  secondary education             1   \n",
       "21524         2   -1984.507589         40  secondary education             1   \n",
       "\n",
       "           family_status  family_status_id gender income_type  debt  \\\n",
       "0                married                 0      F    employee     0   \n",
       "1                married                 0      F    employee     0   \n",
       "2                married                 0      M    employee     0   \n",
       "3                married                 0      M    employee     0   \n",
       "4      civil partnership                 1      F     retiree     0   \n",
       "...                  ...               ...    ...         ...   ...   \n",
       "21520  civil partnership                 1      F    business     0   \n",
       "21521            married                 0      F     retiree     0   \n",
       "21522  civil partnership                 1      M    employee     1   \n",
       "21523            married                 0      M    employee     1   \n",
       "21524            married                 0      F    employee     0   \n",
       "\n",
       "       total_income                  purpose  \n",
       "0         40620.102    purchase of the house  \n",
       "1         17932.802             car purchase  \n",
       "2         23341.752    purchase of the house  \n",
       "3         42820.568  supplementary education  \n",
       "4         25378.572        to have a wedding  \n",
       "...             ...                      ...  \n",
       "21520     35966.698     housing transactions  \n",
       "21521     24959.969        purchase of a car  \n",
       "21522     14347.610                 property  \n",
       "21523     39054.888        buying my own car  \n",
       "21524     13127.587             to buy a car  \n",
       "\n",
       "[19351 rows x 12 columns]"
      ]
     },
     "execution_count": 9,
     "metadata": {},
     "output_type": "execute_result"
    }
   ],
   "source": [
    "# Let's investigate clients who do not on identified characteristic have data  and the column with the missing values\n",
    "#df.count()\n",
    "df[df['days_employed'].notna()]"
   ]
  },
  {
   "cell_type": "code",
   "execution_count": 10,
   "metadata": {
    "scrolled": false
   },
   "outputs": [
    {
     "data": {
      "text/plain": [
       "children               0\n",
       "days_employed       2174\n",
       "dob_years              0\n",
       "education              0\n",
       "education_id           0\n",
       "family_status          0\n",
       "family_status_id       0\n",
       "gender                 0\n",
       "income_type            0\n",
       "debt                   0\n",
       "total_income        2174\n",
       "purpose                0\n",
       "dtype: int64"
      ]
     },
     "execution_count": 10,
     "metadata": {},
     "output_type": "execute_result"
    }
   ],
   "source": [
    "# Checking distribution\n",
    "df.isna().sum()"
   ]
  },
  {
   "cell_type": "code",
   "execution_count": 11,
   "metadata": {},
   "outputs": [
    {
     "data": {
      "text/plain": [
       "children             0.0\n",
       "days_employed       10.1\n",
       "dob_years            0.0\n",
       "education            0.0\n",
       "education_id         0.0\n",
       "family_status        0.0\n",
       "family_status_id     0.0\n",
       "gender               0.0\n",
       "income_type          0.0\n",
       "debt                 0.0\n",
       "total_income        10.1\n",
       "purpose              0.0\n",
       "dtype: float64"
      ]
     },
     "execution_count": 11,
     "metadata": {},
     "output_type": "execute_result"
    }
   ],
   "source": [
    "#Calculate the percentage of the missing values compared to the whole dataset.\n",
    "df.isna().mean().round(4)*100"
   ]
  },
  {
   "cell_type": "code",
   "execution_count": 12,
   "metadata": {},
   "outputs": [
    {
     "data": {
      "text/plain": [
       "days_employed    10.099884\n",
       "total_income     10.099884\n",
       "dtype: float64"
      ]
     },
     "execution_count": 12,
     "metadata": {},
     "output_type": "execute_result"
    }
   ],
   "source": [
    "#Percentage of missing values\n",
    "\n",
    "missing_values=df.isnull().sum()\n",
    "missing_values[missing_values>0]/len(df)*100"
   ]
  },
  {
   "cell_type": "markdown",
   "metadata": {},
   "source": [
    "- Dataset has 10% of missing values.In term of rule we can not use method drop value if 5-10% mising\n"
   ]
  },
  {
   "cell_type": "markdown",
   "metadata": {},
   "source": [
    "**Possible reasons for missing values in data**\n",
    "- According my hypotesis type of missing values is MAR.Missing at random (MAR) means that the chance of being missing does not depend on the unobserved value of the variable itself, but it can depend on other observed variables.\n",
    "- Missing value related to other value .Variable 'total_income' and 'days_employed' have the same amount of missing data\n",
    "- This is confusing and would be better stated as missing conditionally at random. Here, missing data do have a relationship with other variables in the dataset. However, the actual values that are missing are random.\n"
   ]
  },
  {
   "cell_type": "code",
   "execution_count": 13,
   "metadata": {},
   "outputs": [
    {
     "data": {
      "text/html": [
       "<div>\n",
       "<style scoped>\n",
       "    .dataframe tbody tr th:only-of-type {\n",
       "        vertical-align: middle;\n",
       "    }\n",
       "\n",
       "    .dataframe tbody tr th {\n",
       "        vertical-align: top;\n",
       "    }\n",
       "\n",
       "    .dataframe thead th {\n",
       "        text-align: right;\n",
       "    }\n",
       "</style>\n",
       "<table border=\"1\" class=\"dataframe\">\n",
       "  <thead>\n",
       "    <tr style=\"text-align: right;\">\n",
       "      <th></th>\n",
       "      <th>children</th>\n",
       "      <th>days_employed</th>\n",
       "      <th>dob_years</th>\n",
       "      <th>education_id</th>\n",
       "      <th>family_status_id</th>\n",
       "      <th>debt</th>\n",
       "      <th>total_income</th>\n",
       "    </tr>\n",
       "  </thead>\n",
       "  <tbody>\n",
       "    <tr>\n",
       "      <td>count</td>\n",
       "      <td>21525.000000</td>\n",
       "      <td>19351.000000</td>\n",
       "      <td>21525.000000</td>\n",
       "      <td>21525.000000</td>\n",
       "      <td>21525.000000</td>\n",
       "      <td>21525.000000</td>\n",
       "      <td>19351.000000</td>\n",
       "    </tr>\n",
       "    <tr>\n",
       "      <td>mean</td>\n",
       "      <td>0.538908</td>\n",
       "      <td>63046.497661</td>\n",
       "      <td>43.293380</td>\n",
       "      <td>0.817236</td>\n",
       "      <td>0.972544</td>\n",
       "      <td>0.080883</td>\n",
       "      <td>26787.568355</td>\n",
       "    </tr>\n",
       "    <tr>\n",
       "      <td>std</td>\n",
       "      <td>1.381587</td>\n",
       "      <td>140827.311974</td>\n",
       "      <td>12.574584</td>\n",
       "      <td>0.548138</td>\n",
       "      <td>1.420324</td>\n",
       "      <td>0.272661</td>\n",
       "      <td>16475.450632</td>\n",
       "    </tr>\n",
       "    <tr>\n",
       "      <td>min</td>\n",
       "      <td>-1.000000</td>\n",
       "      <td>-18388.949901</td>\n",
       "      <td>0.000000</td>\n",
       "      <td>0.000000</td>\n",
       "      <td>0.000000</td>\n",
       "      <td>0.000000</td>\n",
       "      <td>3306.762000</td>\n",
       "    </tr>\n",
       "    <tr>\n",
       "      <td>25%</td>\n",
       "      <td>0.000000</td>\n",
       "      <td>-2747.423625</td>\n",
       "      <td>33.000000</td>\n",
       "      <td>1.000000</td>\n",
       "      <td>0.000000</td>\n",
       "      <td>0.000000</td>\n",
       "      <td>16488.504500</td>\n",
       "    </tr>\n",
       "    <tr>\n",
       "      <td>50%</td>\n",
       "      <td>0.000000</td>\n",
       "      <td>-1203.369529</td>\n",
       "      <td>42.000000</td>\n",
       "      <td>1.000000</td>\n",
       "      <td>0.000000</td>\n",
       "      <td>0.000000</td>\n",
       "      <td>23202.870000</td>\n",
       "    </tr>\n",
       "    <tr>\n",
       "      <td>75%</td>\n",
       "      <td>1.000000</td>\n",
       "      <td>-291.095954</td>\n",
       "      <td>53.000000</td>\n",
       "      <td>1.000000</td>\n",
       "      <td>1.000000</td>\n",
       "      <td>0.000000</td>\n",
       "      <td>32549.611000</td>\n",
       "    </tr>\n",
       "    <tr>\n",
       "      <td>max</td>\n",
       "      <td>20.000000</td>\n",
       "      <td>401755.400475</td>\n",
       "      <td>75.000000</td>\n",
       "      <td>4.000000</td>\n",
       "      <td>4.000000</td>\n",
       "      <td>1.000000</td>\n",
       "      <td>362496.645000</td>\n",
       "    </tr>\n",
       "  </tbody>\n",
       "</table>\n",
       "</div>"
      ],
      "text/plain": [
       "           children  days_employed     dob_years  education_id  \\\n",
       "count  21525.000000   19351.000000  21525.000000  21525.000000   \n",
       "mean       0.538908   63046.497661     43.293380      0.817236   \n",
       "std        1.381587  140827.311974     12.574584      0.548138   \n",
       "min       -1.000000  -18388.949901      0.000000      0.000000   \n",
       "25%        0.000000   -2747.423625     33.000000      1.000000   \n",
       "50%        0.000000   -1203.369529     42.000000      1.000000   \n",
       "75%        1.000000    -291.095954     53.000000      1.000000   \n",
       "max       20.000000  401755.400475     75.000000      4.000000   \n",
       "\n",
       "       family_status_id          debt   total_income  \n",
       "count      21525.000000  21525.000000   19351.000000  \n",
       "mean           0.972544      0.080883   26787.568355  \n",
       "std            1.420324      0.272661   16475.450632  \n",
       "min            0.000000      0.000000    3306.762000  \n",
       "25%            0.000000      0.000000   16488.504500  \n",
       "50%            0.000000      0.000000   23202.870000  \n",
       "75%            1.000000      0.000000   32549.611000  \n",
       "max            4.000000      1.000000  362496.645000  "
      ]
     },
     "execution_count": 13,
     "metadata": {},
     "output_type": "execute_result"
    }
   ],
   "source": [
    "# Checking the distribution in the whole dataset\n",
    "df.describe()"
   ]
  },
  {
   "cell_type": "code",
   "execution_count": 14,
   "metadata": {},
   "outputs": [
    {
     "data": {
      "text/html": [
       "<div>\n",
       "<style scoped>\n",
       "    .dataframe tbody tr th:only-of-type {\n",
       "        vertical-align: middle;\n",
       "    }\n",
       "\n",
       "    .dataframe tbody tr th {\n",
       "        vertical-align: top;\n",
       "    }\n",
       "\n",
       "    .dataframe thead th {\n",
       "        text-align: right;\n",
       "    }\n",
       "</style>\n",
       "<table border=\"1\" class=\"dataframe\">\n",
       "  <thead>\n",
       "    <tr style=\"text-align: right;\">\n",
       "      <th></th>\n",
       "      <th>education</th>\n",
       "      <th>family_status</th>\n",
       "      <th>gender</th>\n",
       "      <th>income_type</th>\n",
       "      <th>purpose</th>\n",
       "    </tr>\n",
       "  </thead>\n",
       "  <tbody>\n",
       "    <tr>\n",
       "      <td>count</td>\n",
       "      <td>21525</td>\n",
       "      <td>21525</td>\n",
       "      <td>21525</td>\n",
       "      <td>21525</td>\n",
       "      <td>21525</td>\n",
       "    </tr>\n",
       "    <tr>\n",
       "      <td>unique</td>\n",
       "      <td>15</td>\n",
       "      <td>5</td>\n",
       "      <td>3</td>\n",
       "      <td>8</td>\n",
       "      <td>38</td>\n",
       "    </tr>\n",
       "    <tr>\n",
       "      <td>top</td>\n",
       "      <td>secondary education</td>\n",
       "      <td>married</td>\n",
       "      <td>F</td>\n",
       "      <td>employee</td>\n",
       "      <td>wedding ceremony</td>\n",
       "    </tr>\n",
       "    <tr>\n",
       "      <td>freq</td>\n",
       "      <td>13750</td>\n",
       "      <td>12380</td>\n",
       "      <td>14236</td>\n",
       "      <td>11119</td>\n",
       "      <td>797</td>\n",
       "    </tr>\n",
       "  </tbody>\n",
       "</table>\n",
       "</div>"
      ],
      "text/plain": [
       "                  education family_status gender income_type           purpose\n",
       "count                 21525         21525  21525       21525             21525\n",
       "unique                   15             5      3           8                38\n",
       "top     secondary education       married      F    employee  wedding ceremony\n",
       "freq                  13750         12380  14236       11119               797"
      ]
     },
     "execution_count": 14,
     "metadata": {},
     "output_type": "execute_result"
    }
   ],
   "source": [
    "# Check for other reasons and patterns that could lead to missing values\n",
    "\n",
    "df.describe(include=object)"
   ]
  },
  {
   "cell_type": "markdown",
   "metadata": {},
   "source": [
    "###### My conclusions\n",
    "- 1.Dataset has 10% of missing values.\n",
    "- 2. According my hypotesis type of missing values is MAR.Missing at random (MAR) means that the chance of being missing does not depend on the unobserved value of the variable itself, but it can depend on other observed variables.\n",
    "- Missing value related to other value .Variable 'total_income' and 'days_employed' have the same amount of missing data\n",
    "- This is confusing and would be better stated as missing conditionally at random. Here, missing data do have a relationship with other variables in the dataset. However, the actual values that are missing are random.\n",
    "- 3.Type of missing data is MAP\n",
    "\n",
    "- 4.Data in columns 'days_employed' and 'total_income' are quantitative variables.\n",
    "- 5.Missing values for such variables are filled in with representative values (mean or median if any outliers)\n"
   ]
  },
  {
   "cell_type": "markdown",
   "metadata": {},
   "source": [
    "## Data transformation\n",
    "\n",
    "Let's go through each column to see what issues we may have in them and Check the data in each columns\n",
    "\n"
   ]
  },
  {
   "cell_type": "markdown",
   "metadata": {},
   "source": [
    "**Education column**"
   ]
  },
  {
   "cell_type": "code",
   "execution_count": 15,
   "metadata": {
    "scrolled": false
   },
   "outputs": [
    {
     "data": {
      "text/plain": [
       "[\"BACHELOR'S DEGREE\",\n",
       " \"Bachelor's Degree\",\n",
       " 'GRADUATE DEGREE',\n",
       " 'Graduate Degree',\n",
       " 'PRIMARY EDUCATION',\n",
       " 'Primary Education',\n",
       " 'SECONDARY EDUCATION',\n",
       " 'SOME COLLEGE',\n",
       " 'Secondary Education',\n",
       " 'Some College',\n",
       " \"bachelor's degree\",\n",
       " 'graduate degree',\n",
       " 'primary education',\n",
       " 'secondary education',\n",
       " 'some college']"
      ]
     },
     "metadata": {},
     "output_type": "display_data"
    }
   ],
   "source": [
    "# Let's see all values in education column to check if and what spellings will need to be fixed\n",
    "display(sorted(df['education'].unique()))"
   ]
  },
  {
   "cell_type": "markdown",
   "metadata": {},
   "source": [
    "- Column 'education' have different registers: some letter uppercase and some lowercase"
   ]
  },
  {
   "cell_type": "code",
   "execution_count": 16,
   "metadata": {
    "scrolled": true
   },
   "outputs": [],
   "source": [
    "# Fix the registers if required\n",
    "df['education'] = df['education'].str.lower()"
   ]
  },
  {
   "cell_type": "code",
   "execution_count": 17,
   "metadata": {
    "scrolled": true
   },
   "outputs": [
    {
     "data": {
      "text/plain": [
       "[\"bachelor's degree\",\n",
       " 'graduate degree',\n",
       " 'primary education',\n",
       " 'secondary education',\n",
       " 'some college']"
      ]
     },
     "metadata": {},
     "output_type": "display_data"
    }
   ],
   "source": [
    "# Checking all the values in the column to make sure we fixed them\n",
    "display(sorted(df['education'].unique()))"
   ]
  },
  {
   "cell_type": "markdown",
   "metadata": {},
   "source": [
    "- have spelling problem with \"bachelor's degree\","
   ]
  },
  {
   "cell_type": "code",
   "execution_count": 18,
   "metadata": {},
   "outputs": [
    {
     "data": {
      "text/plain": [
       "['bachelor degree',\n",
       " 'graduate degree',\n",
       " 'primary education',\n",
       " 'secondary education',\n",
       " 'some college']"
      ]
     },
     "metadata": {},
     "output_type": "display_data"
    }
   ],
   "source": [
    "# Let's fix it\n",
    "df['education'] = df['education'].replace(\"bachelor's degree\",'bachelor degree')\n",
    "display(sorted(df['education'].unique()))"
   ]
  },
  {
   "cell_type": "markdown",
   "metadata": {},
   "source": [
    "**Chldren column**\n"
   ]
  },
  {
   "cell_type": "code",
   "execution_count": 19,
   "metadata": {},
   "outputs": [
    {
     "data": {
      "text/plain": [
       " 0     14149\n",
       " 1      4818\n",
       " 2      2055\n",
       " 3       330\n",
       " 20       76\n",
       "-1        47\n",
       " 4        41\n",
       " 5         9\n",
       "Name: children, dtype: int64"
      ]
     },
     "execution_count": 19,
     "metadata": {},
     "output_type": "execute_result"
    }
   ],
   "source": [
    "# Let's see the distribution of values in the `children` column\n",
    "df['children'].value_counts()"
   ]
  },
  {
   "cell_type": "code",
   "execution_count": 20,
   "metadata": {},
   "outputs": [
    {
     "data": {
      "text/html": [
       "<div>\n",
       "<style scoped>\n",
       "    .dataframe tbody tr th:only-of-type {\n",
       "        vertical-align: middle;\n",
       "    }\n",
       "\n",
       "    .dataframe tbody tr th {\n",
       "        vertical-align: top;\n",
       "    }\n",
       "\n",
       "    .dataframe thead th {\n",
       "        text-align: right;\n",
       "    }\n",
       "</style>\n",
       "<table border=\"1\" class=\"dataframe\">\n",
       "  <thead>\n",
       "    <tr style=\"text-align: right;\">\n",
       "      <th></th>\n",
       "      <th>children</th>\n",
       "    </tr>\n",
       "    <tr>\n",
       "      <th>children</th>\n",
       "      <th></th>\n",
       "    </tr>\n",
       "  </thead>\n",
       "  <tbody>\n",
       "    <tr>\n",
       "      <td>-1</td>\n",
       "      <td>-0.218351</td>\n",
       "    </tr>\n",
       "    <tr>\n",
       "      <td>0</td>\n",
       "      <td>0.000000</td>\n",
       "    </tr>\n",
       "    <tr>\n",
       "      <td>1</td>\n",
       "      <td>22.383275</td>\n",
       "    </tr>\n",
       "    <tr>\n",
       "      <td>2</td>\n",
       "      <td>19.094077</td>\n",
       "    </tr>\n",
       "    <tr>\n",
       "      <td>3</td>\n",
       "      <td>4.599303</td>\n",
       "    </tr>\n",
       "    <tr>\n",
       "      <td>4</td>\n",
       "      <td>0.761905</td>\n",
       "    </tr>\n",
       "    <tr>\n",
       "      <td>5</td>\n",
       "      <td>0.209059</td>\n",
       "    </tr>\n",
       "    <tr>\n",
       "      <td>20</td>\n",
       "      <td>7.061556</td>\n",
       "    </tr>\n",
       "  </tbody>\n",
       "</table>\n",
       "</div>"
      ],
      "text/plain": [
       "           children\n",
       "children           \n",
       "-1        -0.218351\n",
       " 0         0.000000\n",
       " 1        22.383275\n",
       " 2        19.094077\n",
       " 3         4.599303\n",
       " 4         0.761905\n",
       " 5         0.209059\n",
       " 20        7.061556"
      ]
     },
     "execution_count": 20,
     "metadata": {},
     "output_type": "execute_result"
    }
   ],
   "source": [
    "# Calculation of percantage of problematic data.\n",
    "df.groupby(['children']).agg({'children': 'sum'})/len(df['children'])*100"
   ]
  },
  {
   "cell_type": "markdown",
   "metadata": {},
   "source": [
    "- As we see dataset have problematic data like Inconsistent data  -1  and Irregular data  like 20 (outliers). \n",
    "- The number of children not be \"negative\" and some family have 20 children \n",
    "- We can not remove it becouse this is meanful variable for us\n",
    "- Negative value we can replace with absolute values.\n",
    "- Outliers 20 we can replace using the winsorization method: replace these values with a quantile, for example, the value 0.9. Method .quantile()"
   ]
  },
  {
   "cell_type": "code",
   "execution_count": 21,
   "metadata": {},
   "outputs": [],
   "source": [
    "# fix the data based on replace with abcolute values\n",
    "#df['children'] = df['children'].apply(lambda x: 0 if x < 0 else x)\n",
    "df['children'] = np.abs(df['children'])"
   ]
  },
  {
   "cell_type": "code",
   "execution_count": 22,
   "metadata": {
    "scrolled": true
   },
   "outputs": [
    {
     "data": {
      "text/plain": [
       "0     14149\n",
       "1      4865\n",
       "2      2055\n",
       "3       330\n",
       "20       76\n",
       "4        41\n",
       "5         9\n",
       "Name: children, dtype: int64"
      ]
     },
     "execution_count": 22,
     "metadata": {},
     "output_type": "execute_result"
    }
   ],
   "source": [
    "#Checking the `children` column again to make sure it's all fixed\n",
    "df['children'].value_counts()"
   ]
  },
  {
   "cell_type": "code",
   "execution_count": 23,
   "metadata": {},
   "outputs": [
    {
     "data": {
      "text/plain": [
       "<matplotlib.axes._subplots.AxesSubplot at 0x7f0faa0ed850>"
      ]
     },
     "execution_count": 23,
     "metadata": {},
     "output_type": "execute_result"
    },
    {
     "data": {
      "image/png": "[encoded data removed]",
      "text/plain": [
       "<Figure size 432x288 with 1 Axes>"
      ]
     },
     "metadata": {
      "needs_background": "light"
     },
     "output_type": "display_data"
    }
   ],
   "source": [
    "# Detected outliers by visualisation with histogram \n",
    "df['children'].hist()"
   ]
  },
  {
   "cell_type": "code",
   "execution_count": 24,
   "metadata": {},
   "outputs": [
    {
     "name": "stdout",
     "output_type": "stream",
     "text": [
      "2.0\n"
     ]
    }
   ],
   "source": [
    "\n",
    "q = df['children'].quantile(0.9)\n",
    "print(q)\n"
   ]
  },
  {
   "cell_type": "code",
   "execution_count": 25,
   "metadata": {},
   "outputs": [],
   "source": [
    "#replace these values with a replace these values with a quantile ()df['children'].quantile(0.9)\n",
    "df['children'] = df['children'].replace({20: 2})\n"
   ]
  },
  {
   "cell_type": "code",
   "execution_count": 26,
   "metadata": {},
   "outputs": [
    {
     "data": {
      "text/plain": [
       "[0, 1, 2, 3, 4, 5]"
      ]
     },
     "metadata": {},
     "output_type": "display_data"
    }
   ],
   "source": [
    "# Let's check\n",
    "display(sorted(df['children'].unique()))"
   ]
  },
  {
   "cell_type": "code",
   "execution_count": 27,
   "metadata": {},
   "outputs": [
    {
     "data": {
      "text/plain": [
       "0    14149\n",
       "1     4865\n",
       "2     2131\n",
       "3      330\n",
       "4       41\n",
       "5        9\n",
       "Name: children, dtype: int64"
      ]
     },
     "execution_count": 27,
     "metadata": {},
     "output_type": "execute_result"
    }
   ],
   "source": [
    " \n",
    "df['children'].value_counts()"
   ]
  },
  {
   "cell_type": "markdown",
   "metadata": {},
   "source": [
    "**Days_employed column**"
   ]
  },
  {
   "cell_type": "code",
   "execution_count": 28,
   "metadata": {},
   "outputs": [
    {
     "data": {
      "text/plain": [
       "73.89547038327527"
      ]
     },
     "execution_count": 28,
     "metadata": {},
     "output_type": "execute_result"
    }
   ],
   "source": [
    "# Find problematic data in `days_employed`, if they exist, and calculate the percentage\n",
    "#df['days_employed'].value_counts() \n",
    "#df.groupby(['days_employed']).agg({'days_employed': 'sum'})/len(df['days_employed'])*100.\n",
    "df.loc[df['days_employed']< 0]['days_employed'].count()/len(df['days_employed'])*100"
   ]
  },
  {
   "cell_type": "markdown",
   "metadata": {},
   "source": [
    "- If the amount of problematic data is high, it could've been due to some technical issues. We may probably want to propose the most obvious reason why it could've happened and what the correct data might've been, as we can't drop these problematic rows"
   ]
  },
  {
   "cell_type": "code",
   "execution_count": 29,
   "metadata": {},
   "outputs": [],
   "source": [
    "# Address the problematic values, if they exist \n",
    "df['days_employed'] = np.abs(df['days_employed'])"
   ]
  },
  {
   "cell_type": "code",
   "execution_count": 30,
   "metadata": {},
   "outputs": [
    {
     "data": {
      "text/plain": [
       "986.927316     1\n",
       "7026.359174    1\n",
       "4236.274243    1\n",
       "6620.396473    1\n",
       "1238.560080    1\n",
       "              ..\n",
       "2849.351119    1\n",
       "5619.328204    1\n",
       "448.829898     1\n",
       "1687.038672    1\n",
       "582.538413     1\n",
       "Name: days_employed, Length: 19351, dtype: int64"
      ]
     },
     "execution_count": 30,
     "metadata": {},
     "output_type": "execute_result"
    }
   ],
   "source": [
    "# Check the result - make sure it's fixed\n",
    "df['days_employed'].value_counts()"
   ]
  },
  {
   "cell_type": "markdown",
   "metadata": {},
   "source": [
    "**Age column**"
   ]
  },
  {
   "cell_type": "code",
   "execution_count": 31,
   "metadata": {},
   "outputs": [
    {
     "data": {
      "text/plain": [
       "35    617\n",
       "40    609\n",
       "41    607\n",
       "34    603\n",
       "38    598\n",
       "42    597\n",
       "33    581\n",
       "39    573\n",
       "31    560\n",
       "36    555\n",
       "44    547\n",
       "29    545\n",
       "30    540\n",
       "48    538\n",
       "37    537\n",
       "50    514\n",
       "43    513\n",
       "32    510\n",
       "49    508\n",
       "28    503\n",
       "45    497\n",
       "27    493\n",
       "56    487\n",
       "52    484\n",
       "47    480\n",
       "54    479\n",
       "46    475\n",
       "58    461\n",
       "57    460\n",
       "53    459\n",
       "51    448\n",
       "59    444\n",
       "55    443\n",
       "26    408\n",
       "60    377\n",
       "25    357\n",
       "61    355\n",
       "62    352\n",
       "63    269\n",
       "64    265\n",
       "24    264\n",
       "23    254\n",
       "65    194\n",
       "66    183\n",
       "22    183\n",
       "67    167\n",
       "21    111\n",
       "0     101\n",
       "68     99\n",
       "69     85\n",
       "70     65\n",
       "71     58\n",
       "20     51\n",
       "72     33\n",
       "19     14\n",
       "73      8\n",
       "74      6\n",
       "75      1\n",
       "Name: dob_years, dtype: int64"
      ]
     },
     "execution_count": 31,
     "metadata": {},
     "output_type": "execute_result"
    }
   ],
   "source": [
    "# Check the `dob_years` for suspicious values and count the percentage\n",
    "df['dob_years'].value_counts() \n",
    "#df.groupby(['dob_years']).agg({'dob_years': 'sum'})/len(df['dob_years'])*100\n",
    "\n"
   ]
  },
  {
   "cell_type": "code",
   "execution_count": 32,
   "metadata": {},
   "outputs": [
    {
     "data": {
      "text/plain": [
       "0.4692218350754936"
      ]
     },
     "execution_count": 32,
     "metadata": {},
     "output_type": "execute_result"
    }
   ],
   "source": [
    "df.loc[df['dob_years'] == 0]['dob_years'].count()/len(df['dob_years'])*100"
   ]
  },
  {
   "cell_type": "markdown",
   "metadata": {},
   "source": [
    "\n",
    " - We have 0 age value wich is removed"
   ]
  },
  {
   "cell_type": "code",
   "execution_count": 33,
   "metadata": {
    "scrolled": false
   },
   "outputs": [],
   "source": [
    "# Address the issues in the `dob_years` column, if they exist\n",
    "# Remove all 0 values from column 'dob_years'\n",
    "df =df[df['dob_years'] !=0]\n"
   ]
  },
  {
   "cell_type": "code",
   "execution_count": 34,
   "metadata": {
    "scrolled": false
   },
   "outputs": [
    {
     "data": {
      "text/plain": [
       "[19,\n",
       " 20,\n",
       " 21,\n",
       " 22,\n",
       " 23,\n",
       " 24,\n",
       " 25,\n",
       " 26,\n",
       " 27,\n",
       " 28,\n",
       " 29,\n",
       " 30,\n",
       " 31,\n",
       " 32,\n",
       " 33,\n",
       " 34,\n",
       " 35,\n",
       " 36,\n",
       " 37,\n",
       " 38,\n",
       " 39,\n",
       " 40,\n",
       " 41,\n",
       " 42,\n",
       " 43,\n",
       " 44,\n",
       " 45,\n",
       " 46,\n",
       " 47,\n",
       " 48,\n",
       " 49,\n",
       " 50,\n",
       " 51,\n",
       " 52,\n",
       " 53,\n",
       " 54,\n",
       " 55,\n",
       " 56,\n",
       " 57,\n",
       " 58,\n",
       " 59,\n",
       " 60,\n",
       " 61,\n",
       " 62,\n",
       " 63,\n",
       " 64,\n",
       " 65,\n",
       " 66,\n",
       " 67,\n",
       " 68,\n",
       " 69,\n",
       " 70,\n",
       " 71,\n",
       " 72,\n",
       " 73,\n",
       " 74,\n",
       " 75]"
      ]
     },
     "metadata": {},
     "output_type": "display_data"
    }
   ],
   "source": [
    "# Check the result - make sure it's fixed\n",
    "display(sorted(df['dob_years'].unique())) \n"
   ]
  },
  {
   "cell_type": "markdown",
   "metadata": {},
   "source": [
    "**family_status column**"
   ]
  },
  {
   "cell_type": "code",
   "execution_count": 35,
   "metadata": {},
   "outputs": [
    {
     "data": {
      "text/plain": [
       "married              12331\n",
       "civil partnership     4156\n",
       "unmarried             2797\n",
       "divorced              1185\n",
       "widow / widower        955\n",
       "Name: family_status, dtype: int64"
      ]
     },
     "execution_count": 35,
     "metadata": {},
     "output_type": "execute_result"
    }
   ],
   "source": [
    "# Let's see the values for the column\n",
    "df['family_status'].value_counts()\n",
    "\n"
   ]
  },
  {
   "cell_type": "code",
   "execution_count": 36,
   "metadata": {},
   "outputs": [],
   "source": [
    "# Address the problematic values in `family_status`, if they exist\n",
    "#df.loc[:,'famaly_status'] = df.loc[:,'family_status'].replace('widow / widower','widoved')\n",
    "#df['family_status']= df['family_status'].str.strip().str.replace('widow / widower','widoved')\n"
   ]
  },
  {
   "cell_type": "code",
   "execution_count": 37,
   "metadata": {},
   "outputs": [
    {
     "data": {
      "text/plain": [
       "married              12331\n",
       "civil partnership     4156\n",
       "unmarried             2797\n",
       "divorced              1185\n",
       "widow / widower        955\n",
       "Name: family_status, dtype: int64"
      ]
     },
     "execution_count": 37,
     "metadata": {},
     "output_type": "execute_result"
    }
   ],
   "source": [
    "# Check the result - make sure it's fixed\n",
    "df['family_status'].value_counts()"
   ]
  },
  {
   "cell_type": "markdown",
   "metadata": {},
   "source": [
    "**Gender Column**"
   ]
  },
  {
   "cell_type": "code",
   "execution_count": 38,
   "metadata": {},
   "outputs": [
    {
     "data": {
      "text/plain": [
       "F      14164\n",
       "M       7259\n",
       "XNA        1\n",
       "Name: gender, dtype: int64"
      ]
     },
     "execution_count": 38,
     "metadata": {},
     "output_type": "execute_result"
    }
   ],
   "source": [
    "# Let's see the values in the column\n",
    "df['gender'].value_counts()"
   ]
  },
  {
   "cell_type": "code",
   "execution_count": 39,
   "metadata": {},
   "outputs": [],
   "source": [
    "# Address the problematic values, if they exist\n",
    "#df['gender'] = df['gender'].replace('XNA','X')\n",
    "#df =df[df['gender'] !='XNA']\n",
    "df =df[df['gender'] !='XNA']\n"
   ]
  },
  {
   "cell_type": "markdown",
   "metadata": {},
   "source": [
    "- under new national guidelines, individuals will be given the option of selecting M (male), F (female) or X (Indeterminate/Intersex/Unspecified) for personal records held by government departments and agencies from July 1."
   ]
  },
  {
   "cell_type": "code",
   "execution_count": 40,
   "metadata": {},
   "outputs": [
    {
     "data": {
      "text/plain": [
       "F    14164\n",
       "M     7259\n",
       "Name: gender, dtype: int64"
      ]
     },
     "execution_count": 40,
     "metadata": {},
     "output_type": "execute_result"
    }
   ],
   "source": [
    "df['gender'].value_counts()\n",
    "# Check the result - make sure it's fixed\n",
    "\n"
   ]
  },
  {
   "cell_type": "markdown",
   "metadata": {},
   "source": [
    "#### income_type column "
   ]
  },
  {
   "cell_type": "code",
   "execution_count": 41,
   "metadata": {},
   "outputs": [
    {
     "data": {
      "text/plain": [
       "employee                       11064\n",
       "business                        5064\n",
       "retiree                         3836\n",
       "civil servant                   1453\n",
       "unemployed                         2\n",
       "entrepreneur                       2\n",
       "student                            1\n",
       "paternity / maternity leave        1\n",
       "Name: income_type, dtype: int64"
      ]
     },
     "execution_count": 41,
     "metadata": {},
     "output_type": "execute_result"
    }
   ],
   "source": [
    "# Let's see the values in the column\n",
    "df['income_type'].value_counts()\n",
    "\n"
   ]
  },
  {
   "cell_type": "markdown",
   "metadata": {},
   "source": [
    "Now let's see if we have any duplicates in our data."
   ]
  },
  {
   "cell_type": "code",
   "execution_count": 42,
   "metadata": {},
   "outputs": [
    {
     "name": "stdout",
     "output_type": "stream",
     "text": [
      "71\n"
     ]
    }
   ],
   "source": [
    "# Checking duplicates\n",
    "print(df.duplicated().sum()) \n"
   ]
  },
  {
   "cell_type": "code",
   "execution_count": 43,
   "metadata": {},
   "outputs": [],
   "source": [
    "# Address the duplicates, if they exist\n",
    "df = df.drop_duplicates().reset_index(drop=True)"
   ]
  },
  {
   "cell_type": "code",
   "execution_count": 44,
   "metadata": {},
   "outputs": [
    {
     "name": "stdout",
     "output_type": "stream",
     "text": [
      "0\n"
     ]
    }
   ],
   "source": [
    "# Last check whether we have any duplicates\n",
    "print(df.duplicated().sum()) "
   ]
  },
  {
   "cell_type": "code",
   "execution_count": 45,
   "metadata": {},
   "outputs": [
    {
     "data": {
      "text/plain": [
       "(21352, 12)"
      ]
     },
     "execution_count": 45,
     "metadata": {},
     "output_type": "execute_result"
    }
   ],
   "source": [
    "# Check the size of the dataset that you now have after your first manipulations with it\n",
    "df.shape"
   ]
  },
  {
   "cell_type": "markdown",
   "metadata": {},
   "source": [
    "#### Conclusion\n",
    "**In the  data transformation stage and the data-cleaning process:**\n",
    "- Column 'education' have different registers: some letter uppercase and some lowercase..str.lower() to convert string   data to the same lowercase format.We used str.lower() to convert string data to the same lowercase format.\n",
    "\n",
    "- Column 'children' have negotive value -1 and have been replaced by abcolute values and outliers 20 replaced by 2\n",
    "\n",
    "- Column 'dob_yaers' have 0 age and 'gender' with problematic value were removed\n",
    "- We removed dublicates\n"
   ]
  },
  {
   "cell_type": "markdown",
   "metadata": {},
   "source": [
    "# Working with missing values"
   ]
  },
  {
   "cell_type": "markdown",
   "metadata": {},
   "source": [
    "To speed up working with some data, we want to work with dictionaries for some values, where IDs are provided"
   ]
  },
  {
   "cell_type": "code",
   "execution_count": 46,
   "metadata": {
    "scrolled": true
   },
   "outputs": [
    {
     "name": "stdout",
     "output_type": "stream",
     "text": [
      "       education_id            education  total_income\n",
      "0                 0      bachelor degree     40620.102\n",
      "1                 1  secondary education     17932.802\n",
      "2                 1  secondary education     23341.752\n",
      "3                 1  secondary education     42820.568\n",
      "4                 1  secondary education     25378.572\n",
      "...             ...                  ...           ...\n",
      "19257             1  secondary education     35966.698\n",
      "19258             1  secondary education     24959.969\n",
      "19259             1  secondary education     14347.610\n",
      "19260             1  secondary education     39054.888\n",
      "19261             1  secondary education     13127.587\n",
      "\n",
      "[19262 rows x 3 columns]\n"
     ]
    }
   ],
   "source": [
    "# find dictionary\n",
    "education_dict = df[['education_id', 'education','total_income']].drop_duplicates().reset_index(drop=True)\n",
    "print(education_dict)"
   ]
  },
  {
   "cell_type": "code",
   "execution_count": 47,
   "metadata": {},
   "outputs": [
    {
     "name": "stdout",
     "output_type": "stream",
     "text": [
      "       dob_years  total_income\n",
      "0             42     40620.102\n",
      "1             36     17932.802\n",
      "2             33     23341.752\n",
      "3             32     42820.568\n",
      "4             53     25378.572\n",
      "...          ...           ...\n",
      "19309         43     35966.698\n",
      "19310         67     24959.969\n",
      "19311         38     14347.610\n",
      "19312         38     39054.888\n",
      "19313         40     13127.587\n",
      "\n",
      "[19314 rows x 2 columns]\n"
     ]
    }
   ],
   "source": [
    "age_dict = df[['dob_years','total_income']].drop_duplicates().reset_index(drop=True)\n",
    "print(age_dict)"
   ]
  },
  {
   "cell_type": "code",
   "execution_count": 48,
   "metadata": {
    "scrolled": true
   },
   "outputs": [
    {
     "name": "stdout",
     "output_type": "stream",
     "text": [
      "       family_status_id      family_status  total_income\n",
      "0                     0            married     40620.102\n",
      "1                     0            married     17932.802\n",
      "2                     0            married     23341.752\n",
      "3                     0            married     42820.568\n",
      "4                     1  civil partnership     25378.572\n",
      "...                 ...                ...           ...\n",
      "19259                 1  civil partnership     35966.698\n",
      "19260                 0            married     24959.969\n",
      "19261                 1  civil partnership     14347.610\n",
      "19262                 0            married     39054.888\n",
      "19263                 0            married     13127.587\n",
      "\n",
      "[19264 rows x 3 columns]\n"
     ]
    }
   ],
   "source": [
    "marital_status_dict = df[['family_status_id', 'family_status','total_income']].drop_duplicates().reset_index(drop=True)\n",
    "print(marital_status_dict)\n"
   ]
  },
  {
   "cell_type": "code",
   "execution_count": 49,
   "metadata": {},
   "outputs": [
    {
     "data": {
      "text/html": [
       "<div>\n",
       "<style scoped>\n",
       "    .dataframe tbody tr th:only-of-type {\n",
       "        vertical-align: middle;\n",
       "    }\n",
       "\n",
       "    .dataframe tbody tr th {\n",
       "        vertical-align: top;\n",
       "    }\n",
       "\n",
       "    .dataframe thead th {\n",
       "        text-align: right;\n",
       "    }\n",
       "</style>\n",
       "<table border=\"1\" class=\"dataframe\">\n",
       "  <thead>\n",
       "    <tr style=\"text-align: right;\">\n",
       "      <th></th>\n",
       "      <th>education</th>\n",
       "      <th>bachelor degree</th>\n",
       "      <th>graduate degree</th>\n",
       "      <th>primary education</th>\n",
       "      <th>secondary education</th>\n",
       "      <th>some college</th>\n",
       "    </tr>\n",
       "    <tr>\n",
       "      <th>dob_years</th>\n",
       "      <th>income_type</th>\n",
       "      <th></th>\n",
       "      <th></th>\n",
       "      <th></th>\n",
       "      <th></th>\n",
       "      <th></th>\n",
       "    </tr>\n",
       "  </thead>\n",
       "  <tbody>\n",
       "    <tr>\n",
       "      <td rowspan=\"3\" valign=\"top\">19</td>\n",
       "      <td>business</td>\n",
       "      <td>NaN</td>\n",
       "      <td>NaN</td>\n",
       "      <td>NaN</td>\n",
       "      <td>16588.237</td>\n",
       "      <td>26598.4335</td>\n",
       "    </tr>\n",
       "    <tr>\n",
       "      <td>civil servant</td>\n",
       "      <td>NaN</td>\n",
       "      <td>NaN</td>\n",
       "      <td>NaN</td>\n",
       "      <td>NaN</td>\n",
       "      <td>12125.9860</td>\n",
       "    </tr>\n",
       "    <tr>\n",
       "      <td>employee</td>\n",
       "      <td>NaN</td>\n",
       "      <td>NaN</td>\n",
       "      <td>NaN</td>\n",
       "      <td>14934.901</td>\n",
       "      <td>13752.8305</td>\n",
       "    </tr>\n",
       "    <tr>\n",
       "      <td rowspan=\"2\" valign=\"top\">20</td>\n",
       "      <td>business</td>\n",
       "      <td>16000.3725</td>\n",
       "      <td>NaN</td>\n",
       "      <td>NaN</td>\n",
       "      <td>23197.793</td>\n",
       "      <td>13850.4680</td>\n",
       "    </tr>\n",
       "    <tr>\n",
       "      <td>civil servant</td>\n",
       "      <td>11376.8600</td>\n",
       "      <td>NaN</td>\n",
       "      <td>NaN</td>\n",
       "      <td>39796.052</td>\n",
       "      <td>NaN</td>\n",
       "    </tr>\n",
       "    <tr>\n",
       "      <td>...</td>\n",
       "      <td>...</td>\n",
       "      <td>...</td>\n",
       "      <td>...</td>\n",
       "      <td>...</td>\n",
       "      <td>...</td>\n",
       "      <td>...</td>\n",
       "    </tr>\n",
       "    <tr>\n",
       "      <td>73</td>\n",
       "      <td>retiree</td>\n",
       "      <td>NaN</td>\n",
       "      <td>NaN</td>\n",
       "      <td>16026.66</td>\n",
       "      <td>19070.478</td>\n",
       "      <td>NaN</td>\n",
       "    </tr>\n",
       "    <tr>\n",
       "      <td rowspan=\"3\" valign=\"top\">74</td>\n",
       "      <td>business</td>\n",
       "      <td>NaN</td>\n",
       "      <td>NaN</td>\n",
       "      <td>NaN</td>\n",
       "      <td>19972.813</td>\n",
       "      <td>NaN</td>\n",
       "    </tr>\n",
       "    <tr>\n",
       "      <td>employee</td>\n",
       "      <td>NaN</td>\n",
       "      <td>NaN</td>\n",
       "      <td>NaN</td>\n",
       "      <td>15831.345</td>\n",
       "      <td>NaN</td>\n",
       "    </tr>\n",
       "    <tr>\n",
       "      <td>retiree</td>\n",
       "      <td>21589.6570</td>\n",
       "      <td>NaN</td>\n",
       "      <td>NaN</td>\n",
       "      <td>7214.327</td>\n",
       "      <td>NaN</td>\n",
       "    </tr>\n",
       "    <tr>\n",
       "      <td>75</td>\n",
       "      <td>civil servant</td>\n",
       "      <td>NaN</td>\n",
       "      <td>NaN</td>\n",
       "      <td>NaN</td>\n",
       "      <td>24525.224</td>\n",
       "      <td>NaN</td>\n",
       "    </tr>\n",
       "  </tbody>\n",
       "</table>\n",
       "<p>213 rows × 5 columns</p>\n",
       "</div>"
      ],
      "text/plain": [
       "education                bachelor degree  graduate degree  primary education  \\\n",
       "dob_years income_type                                                          \n",
       "19        business                   NaN              NaN                NaN   \n",
       "          civil servant              NaN              NaN                NaN   \n",
       "          employee                   NaN              NaN                NaN   \n",
       "20        business            16000.3725              NaN                NaN   \n",
       "          civil servant       11376.8600              NaN                NaN   \n",
       "...                                  ...              ...                ...   \n",
       "73        retiree                    NaN              NaN           16026.66   \n",
       "74        business                   NaN              NaN                NaN   \n",
       "          employee                   NaN              NaN                NaN   \n",
       "          retiree             21589.6570              NaN                NaN   \n",
       "75        civil servant              NaN              NaN                NaN   \n",
       "\n",
       "education                secondary education  some college  \n",
       "dob_years income_type                                       \n",
       "19        business                 16588.237    26598.4335  \n",
       "          civil servant                  NaN    12125.9860  \n",
       "          employee                 14934.901    13752.8305  \n",
       "20        business                 23197.793    13850.4680  \n",
       "          civil servant            39796.052           NaN  \n",
       "...                                      ...           ...  \n",
       "73        retiree                  19070.478           NaN  \n",
       "74        business                 19972.813           NaN  \n",
       "          employee                 15831.345           NaN  \n",
       "          retiree                   7214.327           NaN  \n",
       "75        civil servant            24525.224           NaN  \n",
       "\n",
       "[213 rows x 5 columns]"
      ]
     },
     "execution_count": 49,
     "metadata": {},
     "output_type": "execute_result"
    }
   ],
   "source": [
    "df.pivot_table(index=['dob_years','income_type'],\n",
    "               columns='education',\n",
    "               values='total_income', \n",
    "               aggfunc='median')"
   ]
  },
  {
   "cell_type": "markdown",
   "metadata": {},
   "source": [
    "### Restoring missing values in `total_income`"
   ]
  },
  {
   "cell_type": "markdown",
   "metadata": {},
   "source": [
    "\n",
    "\n",
    "\n",
    "Let's Start with addressing total income missing values. Create and age category for clients. Create a new column with the age category. This strategy can help with calculating values for the total income.\n"
   ]
  },
  {
   "cell_type": "code",
   "execution_count": 50,
   "metadata": {},
   "outputs": [],
   "source": [
    "# Let's write a function that calculates the age category\n",
    "def age_group(dob_years):\n",
    "    if 19 <= dob_years <= 35:\n",
    "        return 'young'\n",
    "    if 36 <= dob_years <= 65:\n",
    "        return 'adults'\n",
    "    else:\n",
    "        return 'retired'  "
   ]
  },
  {
   "cell_type": "code",
   "execution_count": 51,
   "metadata": {},
   "outputs": [
    {
     "name": "stdout",
     "output_type": "stream",
     "text": [
      "young\n",
      "adults\n",
      "retired\n"
     ]
    }
   ],
   "source": [
    "# Test if the function works\n",
    "print(age_group(35))\n",
    "print(age_group(52))\n",
    "print(age_group(66))"
   ]
  },
  {
   "cell_type": "code",
   "execution_count": 52,
   "metadata": {},
   "outputs": [],
   "source": [
    "# Creating new column based on function\n",
    "\n",
    "df['age_group'] = df['dob_years'].apply(age_group)"
   ]
  },
  {
   "cell_type": "code",
   "execution_count": 53,
   "metadata": {},
   "outputs": [
    {
     "data": {
      "text/plain": [
       "adults     14068\n",
       "young       6582\n",
       "retired      702\n",
       "Name: age_group, dtype: int64"
      ]
     },
     "execution_count": 53,
     "metadata": {},
     "output_type": "execute_result"
    }
   ],
   "source": [
    "# count age_group \n",
    "df['age_group'].value_counts() "
   ]
  },
  {
   "cell_type": "code",
   "execution_count": 54,
   "metadata": {},
   "outputs": [
    {
     "data": {
      "text/html": [
       "<div>\n",
       "<style scoped>\n",
       "    .dataframe tbody tr th:only-of-type {\n",
       "        vertical-align: middle;\n",
       "    }\n",
       "\n",
       "    .dataframe tbody tr th {\n",
       "        vertical-align: top;\n",
       "    }\n",
       "\n",
       "    .dataframe thead th {\n",
       "        text-align: right;\n",
       "    }\n",
       "</style>\n",
       "<table border=\"1\" class=\"dataframe\">\n",
       "  <thead>\n",
       "    <tr style=\"text-align: right;\">\n",
       "      <th></th>\n",
       "      <th>children</th>\n",
       "      <th>days_employed</th>\n",
       "      <th>dob_years</th>\n",
       "      <th>education</th>\n",
       "      <th>education_id</th>\n",
       "      <th>family_status</th>\n",
       "      <th>family_status_id</th>\n",
       "      <th>gender</th>\n",
       "      <th>income_type</th>\n",
       "      <th>debt</th>\n",
       "      <th>total_income</th>\n",
       "      <th>purpose</th>\n",
       "      <th>age_group</th>\n",
       "    </tr>\n",
       "  </thead>\n",
       "  <tbody>\n",
       "    <tr>\n",
       "      <td>0</td>\n",
       "      <td>1</td>\n",
       "      <td>8437.673028</td>\n",
       "      <td>42</td>\n",
       "      <td>bachelor degree</td>\n",
       "      <td>0</td>\n",
       "      <td>married</td>\n",
       "      <td>0</td>\n",
       "      <td>F</td>\n",
       "      <td>employee</td>\n",
       "      <td>0</td>\n",
       "      <td>40620.102</td>\n",
       "      <td>purchase of the house</td>\n",
       "      <td>adults</td>\n",
       "    </tr>\n",
       "    <tr>\n",
       "      <td>1</td>\n",
       "      <td>1</td>\n",
       "      <td>4024.803754</td>\n",
       "      <td>36</td>\n",
       "      <td>secondary education</td>\n",
       "      <td>1</td>\n",
       "      <td>married</td>\n",
       "      <td>0</td>\n",
       "      <td>F</td>\n",
       "      <td>employee</td>\n",
       "      <td>0</td>\n",
       "      <td>17932.802</td>\n",
       "      <td>car purchase</td>\n",
       "      <td>adults</td>\n",
       "    </tr>\n",
       "    <tr>\n",
       "      <td>2</td>\n",
       "      <td>0</td>\n",
       "      <td>5623.422610</td>\n",
       "      <td>33</td>\n",
       "      <td>secondary education</td>\n",
       "      <td>1</td>\n",
       "      <td>married</td>\n",
       "      <td>0</td>\n",
       "      <td>M</td>\n",
       "      <td>employee</td>\n",
       "      <td>0</td>\n",
       "      <td>23341.752</td>\n",
       "      <td>purchase of the house</td>\n",
       "      <td>young</td>\n",
       "    </tr>\n",
       "    <tr>\n",
       "      <td>3</td>\n",
       "      <td>3</td>\n",
       "      <td>4124.747207</td>\n",
       "      <td>32</td>\n",
       "      <td>secondary education</td>\n",
       "      <td>1</td>\n",
       "      <td>married</td>\n",
       "      <td>0</td>\n",
       "      <td>M</td>\n",
       "      <td>employee</td>\n",
       "      <td>0</td>\n",
       "      <td>42820.568</td>\n",
       "      <td>supplementary education</td>\n",
       "      <td>young</td>\n",
       "    </tr>\n",
       "    <tr>\n",
       "      <td>4</td>\n",
       "      <td>0</td>\n",
       "      <td>340266.072047</td>\n",
       "      <td>53</td>\n",
       "      <td>secondary education</td>\n",
       "      <td>1</td>\n",
       "      <td>civil partnership</td>\n",
       "      <td>1</td>\n",
       "      <td>F</td>\n",
       "      <td>retiree</td>\n",
       "      <td>0</td>\n",
       "      <td>25378.572</td>\n",
       "      <td>to have a wedding</td>\n",
       "      <td>adults</td>\n",
       "    </tr>\n",
       "  </tbody>\n",
       "</table>\n",
       "</div>"
      ],
      "text/plain": [
       "   children  days_employed  dob_years            education  education_id  \\\n",
       "0         1    8437.673028         42      bachelor degree             0   \n",
       "1         1    4024.803754         36  secondary education             1   \n",
       "2         0    5623.422610         33  secondary education             1   \n",
       "3         3    4124.747207         32  secondary education             1   \n",
       "4         0  340266.072047         53  secondary education             1   \n",
       "\n",
       "       family_status  family_status_id gender income_type  debt  total_income  \\\n",
       "0            married                 0      F    employee     0     40620.102   \n",
       "1            married                 0      F    employee     0     17932.802   \n",
       "2            married                 0      M    employee     0     23341.752   \n",
       "3            married                 0      M    employee     0     42820.568   \n",
       "4  civil partnership                 1      F     retiree     0     25378.572   \n",
       "\n",
       "                   purpose age_group  \n",
       "0    purchase of the house    adults  \n",
       "1             car purchase    adults  \n",
       "2    purchase of the house     young  \n",
       "3  supplementary education     young  \n",
       "4        to have a wedding    adults  "
      ]
     },
     "execution_count": 54,
     "metadata": {},
     "output_type": "execute_result"
    }
   ],
   "source": [
    "# Checking how values in the new column\n",
    "df.head(5)"
   ]
  },
  {
   "cell_type": "markdown",
   "metadata": {},
   "source": [
    "Create a table that only has data without missing values. This data will be used to restore the missing values."
   ]
  },
  {
   "cell_type": "code",
   "execution_count": 55,
   "metadata": {},
   "outputs": [
    {
     "data": {
      "text/html": [
       "<div>\n",
       "<style scoped>\n",
       "    .dataframe tbody tr th:only-of-type {\n",
       "        vertical-align: middle;\n",
       "    }\n",
       "\n",
       "    .dataframe tbody tr th {\n",
       "        vertical-align: top;\n",
       "    }\n",
       "\n",
       "    .dataframe thead th {\n",
       "        text-align: right;\n",
       "    }\n",
       "</style>\n",
       "<table border=\"1\" class=\"dataframe\">\n",
       "  <thead>\n",
       "    <tr style=\"text-align: right;\">\n",
       "      <th></th>\n",
       "      <th>children</th>\n",
       "      <th>days_employed</th>\n",
       "      <th>dob_years</th>\n",
       "      <th>education</th>\n",
       "      <th>education_id</th>\n",
       "      <th>family_status</th>\n",
       "      <th>family_status_id</th>\n",
       "      <th>gender</th>\n",
       "      <th>income_type</th>\n",
       "      <th>debt</th>\n",
       "      <th>total_income</th>\n",
       "      <th>purpose</th>\n",
       "      <th>age_group</th>\n",
       "    </tr>\n",
       "  </thead>\n",
       "  <tbody>\n",
       "    <tr>\n",
       "      <td>0</td>\n",
       "      <td>1</td>\n",
       "      <td>8437.673028</td>\n",
       "      <td>42</td>\n",
       "      <td>bachelor degree</td>\n",
       "      <td>0</td>\n",
       "      <td>married</td>\n",
       "      <td>0</td>\n",
       "      <td>F</td>\n",
       "      <td>employee</td>\n",
       "      <td>0</td>\n",
       "      <td>40620.102</td>\n",
       "      <td>purchase of the house</td>\n",
       "      <td>adults</td>\n",
       "    </tr>\n",
       "    <tr>\n",
       "      <td>1</td>\n",
       "      <td>1</td>\n",
       "      <td>4024.803754</td>\n",
       "      <td>36</td>\n",
       "      <td>secondary education</td>\n",
       "      <td>1</td>\n",
       "      <td>married</td>\n",
       "      <td>0</td>\n",
       "      <td>F</td>\n",
       "      <td>employee</td>\n",
       "      <td>0</td>\n",
       "      <td>17932.802</td>\n",
       "      <td>car purchase</td>\n",
       "      <td>adults</td>\n",
       "    </tr>\n",
       "    <tr>\n",
       "      <td>2</td>\n",
       "      <td>0</td>\n",
       "      <td>5623.422610</td>\n",
       "      <td>33</td>\n",
       "      <td>secondary education</td>\n",
       "      <td>1</td>\n",
       "      <td>married</td>\n",
       "      <td>0</td>\n",
       "      <td>M</td>\n",
       "      <td>employee</td>\n",
       "      <td>0</td>\n",
       "      <td>23341.752</td>\n",
       "      <td>purchase of the house</td>\n",
       "      <td>young</td>\n",
       "    </tr>\n",
       "    <tr>\n",
       "      <td>3</td>\n",
       "      <td>3</td>\n",
       "      <td>4124.747207</td>\n",
       "      <td>32</td>\n",
       "      <td>secondary education</td>\n",
       "      <td>1</td>\n",
       "      <td>married</td>\n",
       "      <td>0</td>\n",
       "      <td>M</td>\n",
       "      <td>employee</td>\n",
       "      <td>0</td>\n",
       "      <td>42820.568</td>\n",
       "      <td>supplementary education</td>\n",
       "      <td>young</td>\n",
       "    </tr>\n",
       "    <tr>\n",
       "      <td>4</td>\n",
       "      <td>0</td>\n",
       "      <td>340266.072047</td>\n",
       "      <td>53</td>\n",
       "      <td>secondary education</td>\n",
       "      <td>1</td>\n",
       "      <td>civil partnership</td>\n",
       "      <td>1</td>\n",
       "      <td>F</td>\n",
       "      <td>retiree</td>\n",
       "      <td>0</td>\n",
       "      <td>25378.572</td>\n",
       "      <td>to have a wedding</td>\n",
       "      <td>adults</td>\n",
       "    </tr>\n",
       "  </tbody>\n",
       "</table>\n",
       "</div>"
      ],
      "text/plain": [
       "   children  days_employed  dob_years            education  education_id  \\\n",
       "0         1    8437.673028         42      bachelor degree             0   \n",
       "1         1    4024.803754         36  secondary education             1   \n",
       "2         0    5623.422610         33  secondary education             1   \n",
       "3         3    4124.747207         32  secondary education             1   \n",
       "4         0  340266.072047         53  secondary education             1   \n",
       "\n",
       "       family_status  family_status_id gender income_type  debt  total_income  \\\n",
       "0            married                 0      F    employee     0     40620.102   \n",
       "1            married                 0      F    employee     0     17932.802   \n",
       "2            married                 0      M    employee     0     23341.752   \n",
       "3            married                 0      M    employee     0     42820.568   \n",
       "4  civil partnership                 1      F     retiree     0     25378.572   \n",
       "\n",
       "                   purpose age_group  \n",
       "0    purchase of the house    adults  \n",
       "1             car purchase    adults  \n",
       "2    purchase of the house     young  \n",
       "3  supplementary education     young  \n",
       "4        to have a wedding    adults  "
      ]
     },
     "metadata": {},
     "output_type": "display_data"
    }
   ],
   "source": [
    "# Create a table without missing values and print a few of its rows to make sure it looks fine\n",
    "new_table = df[df['total_income'].notna()]\n",
    "display(new_table.head(5))"
   ]
  },
  {
   "cell_type": "code",
   "execution_count": 56,
   "metadata": {},
   "outputs": [
    {
     "data": {
      "text/plain": [
       "age_group\n",
       "adults     27079.438987\n",
       "retired    20804.461461\n",
       "young      26835.133080\n",
       "Name: total_income, dtype: float64"
      ]
     },
     "execution_count": 56,
     "metadata": {},
     "output_type": "execute_result"
    }
   ],
   "source": [
    "# Look at the mean values for income based on your identified factors\n",
    "df.groupby(['age_group'])['total_income'].mean()\n"
   ]
  },
  {
   "cell_type": "code",
   "execution_count": 57,
   "metadata": {
    "scrolled": true
   },
   "outputs": [
    {
     "data": {
      "text/plain": [
       "age_group\n",
       "adults     23246.3940\n",
       "retired    17978.2310\n",
       "young      23522.1745\n",
       "Name: total_income, dtype: float64"
      ]
     },
     "execution_count": 57,
     "metadata": {},
     "output_type": "execute_result"
    }
   ],
   "source": [
    "# Look at the median values for income based on your identified factors\n",
    "df.groupby(['age_group'])['total_income'].median()\n"
   ]
  },
  {
   "cell_type": "code",
   "execution_count": 58,
   "metadata": {},
   "outputs": [],
   "source": [
    "#  Write a function that we will use for filling in missing values\n",
    "df[\"total_income\"] = df.groupby(\"age_group\").transform(lambda x: x.fillna(x.mean()))"
   ]
  },
  {
   "cell_type": "code",
   "execution_count": 59,
   "metadata": {},
   "outputs": [
    {
     "data": {
      "text/plain": [
       "0"
      ]
     },
     "execution_count": 59,
     "metadata": {},
     "output_type": "execute_result"
    }
   ],
   "source": [
    "# Check if it work\n",
    "df['total_income'].isna().sum()"
   ]
  },
  {
   "cell_type": "code",
   "execution_count": 60,
   "metadata": {},
   "outputs": [
    {
     "data": {
      "text/plain": [
       "education\n",
       "bachelor degree        0.0\n",
       "graduate degree        0.0\n",
       "primary education      0.0\n",
       "secondary education    0.0\n",
       "some college           0.0\n",
       "Name: total_income, dtype: float64"
      ]
     },
     "execution_count": 60,
     "metadata": {},
     "output_type": "execute_result"
    }
   ],
   "source": [
    "# Replacing missing values if there are any errors\n",
    "\n",
    "df.groupby(['education'])['total_income'].median()"
   ]
  },
  {
   "cell_type": "code",
   "execution_count": 61,
   "metadata": {},
   "outputs": [],
   "source": [
    "# Checking the number of entries in the columns\n",
    "df[\"total_income\"] = df.groupby(\"education\").transform(lambda x: x.fillna(x.mean()))"
   ]
  },
  {
   "cell_type": "code",
   "execution_count": 62,
   "metadata": {},
   "outputs": [
    {
     "data": {
      "text/plain": [
       "children               0\n",
       "days_employed       2093\n",
       "dob_years              0\n",
       "education              0\n",
       "education_id           0\n",
       "family_status          0\n",
       "family_status_id       0\n",
       "gender                 0\n",
       "income_type            0\n",
       "debt                   0\n",
       "total_income           0\n",
       "purpose                0\n",
       "age_group              0\n",
       "dtype: int64"
      ]
     },
     "execution_count": 62,
     "metadata": {},
     "output_type": "execute_result"
    }
   ],
   "source": [
    "df.isna().sum()"
   ]
  },
  {
   "cell_type": "markdown",
   "metadata": {},
   "source": [
    "###  Restoring values in `days_employed`"
   ]
  },
  {
   "cell_type": "code",
   "execution_count": 63,
   "metadata": {},
   "outputs": [
    {
     "data": {
      "text/html": [
       "<div>\n",
       "<style scoped>\n",
       "    .dataframe tbody tr th:only-of-type {\n",
       "        vertical-align: middle;\n",
       "    }\n",
       "\n",
       "    .dataframe tbody tr th {\n",
       "        vertical-align: top;\n",
       "    }\n",
       "\n",
       "    .dataframe thead th {\n",
       "        text-align: right;\n",
       "    }\n",
       "</style>\n",
       "<table border=\"1\" class=\"dataframe\">\n",
       "  <thead>\n",
       "    <tr style=\"text-align: right;\">\n",
       "      <th></th>\n",
       "      <th>children</th>\n",
       "      <th>days_employed</th>\n",
       "      <th>dob_years</th>\n",
       "      <th>education_id</th>\n",
       "      <th>family_status_id</th>\n",
       "      <th>debt</th>\n",
       "      <th>total_income</th>\n",
       "    </tr>\n",
       "  </thead>\n",
       "  <tbody>\n",
       "    <tr>\n",
       "      <td>count</td>\n",
       "      <td>21352.000000</td>\n",
       "      <td>19259.000000</td>\n",
       "      <td>21352.000000</td>\n",
       "      <td>21352.000000</td>\n",
       "      <td>21352.000000</td>\n",
       "      <td>21352.000000</td>\n",
       "      <td>21352.000000</td>\n",
       "    </tr>\n",
       "    <tr>\n",
       "      <td>mean</td>\n",
       "      <td>0.480517</td>\n",
       "      <td>66905.789237</td>\n",
       "      <td>43.476817</td>\n",
       "      <td>0.817722</td>\n",
       "      <td>0.972649</td>\n",
       "      <td>0.081163</td>\n",
       "      <td>0.480517</td>\n",
       "    </tr>\n",
       "    <tr>\n",
       "      <td>std</td>\n",
       "      <td>0.755846</td>\n",
       "      <td>139025.028132</td>\n",
       "      <td>12.241877</td>\n",
       "      <td>0.548717</td>\n",
       "      <td>1.421020</td>\n",
       "      <td>0.273092</td>\n",
       "      <td>0.755846</td>\n",
       "    </tr>\n",
       "    <tr>\n",
       "      <td>min</td>\n",
       "      <td>0.000000</td>\n",
       "      <td>24.141633</td>\n",
       "      <td>19.000000</td>\n",
       "      <td>0.000000</td>\n",
       "      <td>0.000000</td>\n",
       "      <td>0.000000</td>\n",
       "      <td>0.000000</td>\n",
       "    </tr>\n",
       "    <tr>\n",
       "      <td>25%</td>\n",
       "      <td>0.000000</td>\n",
       "      <td>926.823974</td>\n",
       "      <td>33.000000</td>\n",
       "      <td>1.000000</td>\n",
       "      <td>0.000000</td>\n",
       "      <td>0.000000</td>\n",
       "      <td>0.000000</td>\n",
       "    </tr>\n",
       "    <tr>\n",
       "      <td>50%</td>\n",
       "      <td>0.000000</td>\n",
       "      <td>2197.320350</td>\n",
       "      <td>43.000000</td>\n",
       "      <td>1.000000</td>\n",
       "      <td>0.000000</td>\n",
       "      <td>0.000000</td>\n",
       "      <td>0.000000</td>\n",
       "    </tr>\n",
       "    <tr>\n",
       "      <td>75%</td>\n",
       "      <td>1.000000</td>\n",
       "      <td>5540.399763</td>\n",
       "      <td>53.000000</td>\n",
       "      <td>1.000000</td>\n",
       "      <td>1.000000</td>\n",
       "      <td>0.000000</td>\n",
       "      <td>1.000000</td>\n",
       "    </tr>\n",
       "    <tr>\n",
       "      <td>max</td>\n",
       "      <td>5.000000</td>\n",
       "      <td>401755.400475</td>\n",
       "      <td>75.000000</td>\n",
       "      <td>4.000000</td>\n",
       "      <td>4.000000</td>\n",
       "      <td>1.000000</td>\n",
       "      <td>5.000000</td>\n",
       "    </tr>\n",
       "  </tbody>\n",
       "</table>\n",
       "</div>"
      ],
      "text/plain": [
       "           children  days_employed     dob_years  education_id  \\\n",
       "count  21352.000000   19259.000000  21352.000000  21352.000000   \n",
       "mean       0.480517   66905.789237     43.476817      0.817722   \n",
       "std        0.755846  139025.028132     12.241877      0.548717   \n",
       "min        0.000000      24.141633     19.000000      0.000000   \n",
       "25%        0.000000     926.823974     33.000000      1.000000   \n",
       "50%        0.000000    2197.320350     43.000000      1.000000   \n",
       "75%        1.000000    5540.399763     53.000000      1.000000   \n",
       "max        5.000000  401755.400475     75.000000      4.000000   \n",
       "\n",
       "       family_status_id          debt  total_income  \n",
       "count      21352.000000  21352.000000  21352.000000  \n",
       "mean           0.972649      0.081163      0.480517  \n",
       "std            1.421020      0.273092      0.755846  \n",
       "min            0.000000      0.000000      0.000000  \n",
       "25%            0.000000      0.000000      0.000000  \n",
       "50%            0.000000      0.000000      0.000000  \n",
       "75%            1.000000      0.000000      1.000000  \n",
       "max            4.000000      1.000000      5.000000  "
      ]
     },
     "execution_count": 63,
     "metadata": {},
     "output_type": "execute_result"
    }
   ],
   "source": [
    "df.describe()"
   ]
  },
  {
   "cell_type": "code",
   "execution_count": 64,
   "metadata": {
    "pycharm": {
     "name": "#%%\n"
    }
   },
   "outputs": [
    {
     "data": {
      "text/plain": [
       "2197.320349646864"
      ]
     },
     "execution_count": 64,
     "metadata": {},
     "output_type": "execute_result"
    }
   ],
   "source": [
    "# Distribution of `days_employed` medians based on your identified parametedf['days_employed'].median\n",
    "df['days_employed'].median()\n"
   ]
  },
  {
   "cell_type": "code",
   "execution_count": 65,
   "metadata": {},
   "outputs": [
    {
     "data": {
      "text/plain": [
       "income_type\n",
       "business                         2112.744402\n",
       "civil servant                    3388.508552\n",
       "employee                         2328.603723\n",
       "entrepreneur                      520.848083\n",
       "paternity / maternity leave      3296.759962\n",
       "retiree                        365015.727554\n",
       "student                           578.751554\n",
       "unemployed                     366413.652744\n",
       "Name: days_employed, dtype: float64"
      ]
     },
     "execution_count": 65,
     "metadata": {},
     "output_type": "execute_result"
    }
   ],
   "source": [
    "# Distribution of `days_employed` means based on your identified parameters\n",
    "df.groupby(['income_type'])['days_employed'].mean()"
   ]
  },
  {
   "cell_type": "markdown",
   "metadata": {},
   "source": [
    "we going to use median for replace missing values becouse data is numerical and dataset have outliers "
   ]
  },
  {
   "cell_type": "code",
   "execution_count": 66,
   "metadata": {},
   "outputs": [],
   "source": [
    "#Let's write a function that calculates means or medians (depending on your decision) \n",
    "#based on your identified parameter\n",
    "df[\"days_employed\"] = df.groupby(\"income_type\").transform(lambda x: x.fillna(x.mean()))\n"
   ]
  },
  {
   "cell_type": "code",
   "execution_count": 67,
   "metadata": {},
   "outputs": [
    {
     "data": {
      "text/plain": [
       "0"
      ]
     },
     "execution_count": 67,
     "metadata": {},
     "output_type": "execute_result"
    }
   ],
   "source": [
    "# Check that the function works\n",
    "df['days_employed'].isna().sum()\n"
   ]
  },
  {
   "cell_type": "code",
   "execution_count": 68,
   "metadata": {},
   "outputs": [],
   "source": [
    "# Replacing missing values\n",
    "#df['days_employed'].fillna(df['days_employed'].median(),inplace = True\n",
    "df[\"days_employed\"] = df.groupby(\"income_type\").transform(lambda x: x.fillna(x.mean()))\n"
   ]
  },
  {
   "cell_type": "code",
   "execution_count": 69,
   "metadata": {},
   "outputs": [
    {
     "data": {
      "text/plain": [
       "children            0\n",
       "days_employed       0\n",
       "dob_years           0\n",
       "education           0\n",
       "education_id        0\n",
       "family_status       0\n",
       "family_status_id    0\n",
       "gender              0\n",
       "income_type         0\n",
       "debt                0\n",
       "total_income        0\n",
       "purpose             0\n",
       "age_group           0\n",
       "dtype: int64"
      ]
     },
     "execution_count": 69,
     "metadata": {},
     "output_type": "execute_result"
    }
   ],
   "source": [
    "# Check the entries in all columns - make sure we fixed all missing values\n",
    "df.isna().sum()\n"
   ]
  },
  {
   "cell_type": "code",
   "execution_count": 70,
   "metadata": {},
   "outputs": [],
   "source": [
    "data = df.copy()"
   ]
  },
  {
   "cell_type": "code",
   "execution_count": 71,
   "metadata": {
    "scrolled": true
   },
   "outputs": [
    {
     "data": {
      "text/plain": [
       "children            0\n",
       "days_employed       0\n",
       "dob_years           0\n",
       "education           0\n",
       "education_id        0\n",
       "family_status       0\n",
       "family_status_id    0\n",
       "gender              0\n",
       "income_type         0\n",
       "debt                0\n",
       "total_income        0\n",
       "purpose             0\n",
       "age_group           0\n",
       "dtype: int64"
      ]
     },
     "execution_count": 71,
     "metadata": {},
     "output_type": "execute_result"
    }
   ],
   "source": [
    "data.isna().sum()"
   ]
  },
  {
   "cell_type": "code",
   "execution_count": 72,
   "metadata": {},
   "outputs": [],
   "source": [
    "data = data.apply(lambda x: x.fillna(x.median())\n",
    "                  if x.dtype == 'float'\n",
    "                  else x.fillna(x.value_counts().index[0]))"
   ]
  },
  {
   "cell_type": "code",
   "execution_count": 73,
   "metadata": {},
   "outputs": [
    {
     "data": {
      "text/plain": [
       "children            0\n",
       "days_employed       0\n",
       "dob_years           0\n",
       "education           0\n",
       "education_id        0\n",
       "family_status       0\n",
       "family_status_id    0\n",
       "gender              0\n",
       "income_type         0\n",
       "debt                0\n",
       "total_income        0\n",
       "purpose             0\n",
       "age_group           0\n",
       "dtype: int64"
      ]
     },
     "execution_count": 73,
     "metadata": {},
     "output_type": "execute_result"
    }
   ],
   "source": [
    "data.isna().sum()"
   ]
  },
  {
   "cell_type": "markdown",
   "metadata": {},
   "source": [
    "## Categorization of data\n",
    "\n",
    "To answer the questions and test the hypotheses, i will want to work with categorized data\n"
   ]
  },
  {
   "cell_type": "code",
   "execution_count": 74,
   "metadata": {},
   "outputs": [
    {
     "data": {
      "text/plain": [
       "array(['married', 'civil partnership', 'widow / widower', 'divorced',\n",
       "       'unmarried'], dtype=object)"
      ]
     },
     "execution_count": 74,
     "metadata": {},
     "output_type": "execute_result"
    }
   ],
   "source": [
    "#Let's check unique values\n",
    "\n",
    "df['family_status'].unique()"
   ]
  },
  {
   "cell_type": "code",
   "execution_count": 75,
   "metadata": {},
   "outputs": [
    {
     "name": "stdout",
     "output_type": "stream",
     "text": [
      "unpaid\n"
     ]
    }
   ],
   "source": [
    "# Let's write a function to categorize the data based on common topics\n",
    "def status_unpaid(row):\n",
    "    family_status = row['family_status']\n",
    "    debt = row['debt']\n",
    "    \n",
    "    if family_status == 'married':\n",
    "        if debt == 1:\n",
    "            return 'unpaid'\n",
    "    if family_status == 'civil partnership':\n",
    "        if debt == 1:\n",
    "            return 'unpaid'\n",
    "    if family_status == 'widow / widower':\n",
    "        if debt == 1:\n",
    "            return 'unpaid'\n",
    "    if family_status == 'divorced':\n",
    "        if debt == 1:\n",
    "            return 'unpaid'\n",
    "    if family_status == 'unmarried':\n",
    "        if debt == 1:\n",
    "            return 'unpaid'\n",
    "    return 'paid'\n",
    "row_values = ['unmarried', 1]\n",
    "row_columns = ['family_status', 'debt'] # create a list containing the two columns relevant to the function\n",
    "row =pd.Series(data=row_values, index=row_columns) # create the row\n",
    "# pass the row to the function and print the output\n",
    "\n",
    "print(status_unpaid(row))\n",
    "\n"
   ]
  },
  {
   "cell_type": "code",
   "execution_count": 76,
   "metadata": {
    "scrolled": true
   },
   "outputs": [],
   "source": [
    "# Create a column with the categories and count the values for them\n",
    "\n",
    "df['status_unpaid'] = df.apply(status_unpaid, axis=1) "
   ]
  },
  {
   "cell_type": "code",
   "execution_count": 77,
   "metadata": {},
   "outputs": [
    {
     "name": "stdout",
     "output_type": "stream",
     "text": [
      "paid      19619\n",
      "unpaid     1733\n",
      "Name: status_unpaid, dtype: int64\n"
     ]
    }
   ],
   "source": [
    "# Looking through all the numerical data in your selected column for categorization\n",
    "print(df['status_unpaid'].value_counts())\n"
   ]
  },
  {
   "cell_type": "code",
   "execution_count": 78,
   "metadata": {},
   "outputs": [
    {
     "data": {
      "text/html": [
       "<div>\n",
       "<style scoped>\n",
       "    .dataframe tbody tr th:only-of-type {\n",
       "        vertical-align: middle;\n",
       "    }\n",
       "\n",
       "    .dataframe tbody tr th {\n",
       "        vertical-align: top;\n",
       "    }\n",
       "\n",
       "    .dataframe thead th {\n",
       "        text-align: right;\n",
       "    }\n",
       "</style>\n",
       "<table border=\"1\" class=\"dataframe\">\n",
       "  <thead>\n",
       "    <tr style=\"text-align: right;\">\n",
       "      <th></th>\n",
       "      <th>family_status</th>\n",
       "      <th>status_unpaid</th>\n",
       "      <th>debt</th>\n",
       "    </tr>\n",
       "  </thead>\n",
       "  <tbody>\n",
       "    <tr>\n",
       "      <td>0</td>\n",
       "      <td>civil partnership</td>\n",
       "      <td>paid</td>\n",
       "      <td>0</td>\n",
       "    </tr>\n",
       "    <tr>\n",
       "      <td>1</td>\n",
       "      <td>civil partnership</td>\n",
       "      <td>unpaid</td>\n",
       "      <td>386</td>\n",
       "    </tr>\n",
       "    <tr>\n",
       "      <td>2</td>\n",
       "      <td>divorced</td>\n",
       "      <td>paid</td>\n",
       "      <td>0</td>\n",
       "    </tr>\n",
       "    <tr>\n",
       "      <td>3</td>\n",
       "      <td>divorced</td>\n",
       "      <td>unpaid</td>\n",
       "      <td>85</td>\n",
       "    </tr>\n",
       "    <tr>\n",
       "      <td>4</td>\n",
       "      <td>married</td>\n",
       "      <td>paid</td>\n",
       "      <td>0</td>\n",
       "    </tr>\n",
       "    <tr>\n",
       "      <td>5</td>\n",
       "      <td>married</td>\n",
       "      <td>unpaid</td>\n",
       "      <td>927</td>\n",
       "    </tr>\n",
       "    <tr>\n",
       "      <td>6</td>\n",
       "      <td>unmarried</td>\n",
       "      <td>paid</td>\n",
       "      <td>0</td>\n",
       "    </tr>\n",
       "    <tr>\n",
       "      <td>7</td>\n",
       "      <td>unmarried</td>\n",
       "      <td>unpaid</td>\n",
       "      <td>273</td>\n",
       "    </tr>\n",
       "    <tr>\n",
       "      <td>8</td>\n",
       "      <td>widow / widower</td>\n",
       "      <td>paid</td>\n",
       "      <td>0</td>\n",
       "    </tr>\n",
       "    <tr>\n",
       "      <td>9</td>\n",
       "      <td>widow / widower</td>\n",
       "      <td>unpaid</td>\n",
       "      <td>62</td>\n",
       "    </tr>\n",
       "  </tbody>\n",
       "</table>\n",
       "</div>"
      ],
      "text/plain": [
       "       family_status status_unpaid  debt\n",
       "0  civil partnership          paid     0\n",
       "1  civil partnership        unpaid   386\n",
       "2           divorced          paid     0\n",
       "3           divorced        unpaid    85\n",
       "4            married          paid     0\n",
       "5            married        unpaid   927\n",
       "6          unmarried          paid     0\n",
       "7          unmarried        unpaid   273\n",
       "8    widow / widower          paid     0\n",
       "9    widow / widower        unpaid    62"
      ]
     },
     "execution_count": 78,
     "metadata": {},
     "output_type": "execute_result"
    }
   ],
   "source": [
    "# Getting summury statistics for the column\n",
    "#df.groupby(['family_status','status_unpaid'])['debt'].count()\n",
    "\n",
    "df.groupby(['family_status','status_unpaid'],as_index = False)['debt'].sum()\n"
   ]
  },
  {
   "cell_type": "markdown",
   "metadata": {},
   "source": [
    "## Checking the Hypotheses\n"
   ]
  },
  {
   "cell_type": "markdown",
   "metadata": {},
   "source": [
    "**Is there a correlation between having children and paying back on time?**"
   ]
  },
  {
   "cell_type": "code",
   "execution_count": 79,
   "metadata": {},
   "outputs": [],
   "source": [
    "#debt_rate = all unpaid/all\n",
    "# sum('debt')/count('debt')\n",
    "#df['debt'].mean().round(2)\n"
   ]
  },
  {
   "cell_type": "code",
   "execution_count": 80,
   "metadata": {},
   "outputs": [
    {
     "data": {
      "text/plain": [
       "children\n",
       "0    1058\n",
       "1     442\n",
       "2     202\n",
       "3      27\n",
       "4       4\n",
       "5       0\n",
       "Name: debt, dtype: int64"
      ]
     },
     "execution_count": 80,
     "metadata": {},
     "output_type": "execute_result"
    }
   ],
   "source": [
    "# Check the children data and paying back on time\n",
    "df.groupby(['children'])['debt'].sum()\n",
    "\n",
    "\n",
    "\n",
    "# Calculating default-rate based on the number of children\n",
    "\n",
    "#df.groupby(['children'])['debt'].agg('count()', 'mean()').sort_values(by='debt',ascending=False)"
   ]
  },
  {
   "cell_type": "markdown",
   "metadata": {},
   "source": [
    "**Conclusion**\n",
    "\n",
    "Based on our manipulations and observations:\n",
    "- We see some corralation between number of children and debt so then number of children greater than debt is low "
   ]
  },
  {
   "cell_type": "markdown",
   "metadata": {},
   "source": [
    "**Is there a correlation between family status and paying back on time?**"
   ]
  },
  {
   "cell_type": "code",
   "execution_count": 81,
   "metadata": {},
   "outputs": [
    {
     "data": {
      "text/html": [
       "<div>\n",
       "<style scoped>\n",
       "    .dataframe tbody tr th:only-of-type {\n",
       "        vertical-align: middle;\n",
       "    }\n",
       "\n",
       "    .dataframe tbody tr th {\n",
       "        vertical-align: top;\n",
       "    }\n",
       "\n",
       "    .dataframe thead th {\n",
       "        text-align: right;\n",
       "    }\n",
       "</style>\n",
       "<table border=\"1\" class=\"dataframe\">\n",
       "  <thead>\n",
       "    <tr style=\"text-align: right;\">\n",
       "      <th></th>\n",
       "      <th>family_status</th>\n",
       "      <th>debt</th>\n",
       "    </tr>\n",
       "  </thead>\n",
       "  <tbody>\n",
       "    <tr>\n",
       "      <td>2</td>\n",
       "      <td>married</td>\n",
       "      <td>927</td>\n",
       "    </tr>\n",
       "    <tr>\n",
       "      <td>0</td>\n",
       "      <td>civil partnership</td>\n",
       "      <td>386</td>\n",
       "    </tr>\n",
       "    <tr>\n",
       "      <td>3</td>\n",
       "      <td>unmarried</td>\n",
       "      <td>273</td>\n",
       "    </tr>\n",
       "    <tr>\n",
       "      <td>1</td>\n",
       "      <td>divorced</td>\n",
       "      <td>85</td>\n",
       "    </tr>\n",
       "    <tr>\n",
       "      <td>4</td>\n",
       "      <td>widow / widower</td>\n",
       "      <td>62</td>\n",
       "    </tr>\n",
       "  </tbody>\n",
       "</table>\n",
       "</div>"
      ],
      "text/plain": [
       "       family_status  debt\n",
       "2            married   927\n",
       "0  civil partnership   386\n",
       "3          unmarried   273\n",
       "1           divorced    85\n",
       "4    widow / widower    62"
      ]
     },
     "execution_count": 81,
     "metadata": {},
     "output_type": "execute_result"
    }
   ],
   "source": [
    "# Check the family status data and paying back on time\n",
    "df.groupby('family_status')['debt'].mean().reset_index().sort_values(by='debt')\n",
    "\n",
    "\n",
    "\n",
    "# Calculating default-rate based on family status\n",
    "df.groupby(['family_status'])['debt'].sum().reset_index().sort_values(by='debt',ascending=False)\n"
   ]
  },
  {
   "cell_type": "markdown",
   "metadata": {},
   "source": [
    "**Conclusion**\n",
    "\n",
    "\n",
    "- There is corralation between marital status and debt so married couple and civil partners have more debt than single unmarried person"
   ]
  },
  {
   "cell_type": "markdown",
   "metadata": {},
   "source": [
    "**Is there a correlation between income level and paying back on time?**"
   ]
  },
  {
   "cell_type": "code",
   "execution_count": 82,
   "metadata": {},
   "outputs": [
    {
     "data": {
      "text/html": [
       "<div>\n",
       "<style scoped>\n",
       "    .dataframe tbody tr th:only-of-type {\n",
       "        vertical-align: middle;\n",
       "    }\n",
       "\n",
       "    .dataframe tbody tr th {\n",
       "        vertical-align: top;\n",
       "    }\n",
       "\n",
       "    .dataframe thead th {\n",
       "        text-align: right;\n",
       "    }\n",
       "</style>\n",
       "<table border=\"1\" class=\"dataframe\">\n",
       "  <thead>\n",
       "    <tr style=\"text-align: right;\">\n",
       "      <th></th>\n",
       "      <th>total_income</th>\n",
       "      <th>debt</th>\n",
       "    </tr>\n",
       "  </thead>\n",
       "  <tbody>\n",
       "    <tr>\n",
       "      <td>0</td>\n",
       "      <td>0.0</td>\n",
       "      <td>1058</td>\n",
       "    </tr>\n",
       "    <tr>\n",
       "      <td>1</td>\n",
       "      <td>1.0</td>\n",
       "      <td>442</td>\n",
       "    </tr>\n",
       "    <tr>\n",
       "      <td>2</td>\n",
       "      <td>2.0</td>\n",
       "      <td>202</td>\n",
       "    </tr>\n",
       "    <tr>\n",
       "      <td>3</td>\n",
       "      <td>3.0</td>\n",
       "      <td>27</td>\n",
       "    </tr>\n",
       "    <tr>\n",
       "      <td>4</td>\n",
       "      <td>4.0</td>\n",
       "      <td>4</td>\n",
       "    </tr>\n",
       "    <tr>\n",
       "      <td>5</td>\n",
       "      <td>5.0</td>\n",
       "      <td>0</td>\n",
       "    </tr>\n",
       "  </tbody>\n",
       "</table>\n",
       "</div>"
      ],
      "text/plain": [
       "   total_income  debt\n",
       "0           0.0  1058\n",
       "1           1.0   442\n",
       "2           2.0   202\n",
       "3           3.0    27\n",
       "4           4.0     4\n",
       "5           5.0     0"
      ]
     },
     "execution_count": 82,
     "metadata": {},
     "output_type": "execute_result"
    }
   ],
   "source": [
    "# Check the income level data and paying back on time\n",
    "df.groupby('total_income')[['debt']].ascending=False\n",
    "\n",
    "\n",
    "\n",
    "# Check the income level data and paying back on time\n",
    "\n",
    "df.groupby(['total_income'])[['debt']].sum().reset_index().sort_values(by='debt',ascending=False)"
   ]
  },
  {
   "cell_type": "markdown",
   "metadata": {},
   "source": [
    "**Conclusion**\n",
    "\n",
    "\n",
    "- There is no corralation between total_income and debt"
   ]
  },
  {
   "cell_type": "markdown",
   "metadata": {},
   "source": [
    "**How does credit purpose affect the default rate?**"
   ]
  },
  {
   "cell_type": "code",
   "execution_count": 83,
   "metadata": {
    "scrolled": true
   },
   "outputs": [
    {
     "data": {
      "text/html": [
       "<div>\n",
       "<style scoped>\n",
       "    .dataframe tbody tr th:only-of-type {\n",
       "        vertical-align: middle;\n",
       "    }\n",
       "\n",
       "    .dataframe tbody tr th {\n",
       "        vertical-align: top;\n",
       "    }\n",
       "\n",
       "    .dataframe thead th {\n",
       "        text-align: right;\n",
       "    }\n",
       "</style>\n",
       "<table border=\"1\" class=\"dataframe\">\n",
       "  <thead>\n",
       "    <tr style=\"text-align: right;\">\n",
       "      <th></th>\n",
       "      <th>purpose</th>\n",
       "      <th>status_unpaid</th>\n",
       "      <th>debt</th>\n",
       "    </tr>\n",
       "  </thead>\n",
       "  <tbody>\n",
       "    <tr>\n",
       "      <td>0</td>\n",
       "      <td>building a property</td>\n",
       "      <td>paid</td>\n",
       "      <td>0</td>\n",
       "    </tr>\n",
       "    <tr>\n",
       "      <td>1</td>\n",
       "      <td>building a property</td>\n",
       "      <td>unpaid</td>\n",
       "      <td>54</td>\n",
       "    </tr>\n",
       "    <tr>\n",
       "      <td>2</td>\n",
       "      <td>building a real estate</td>\n",
       "      <td>paid</td>\n",
       "      <td>0</td>\n",
       "    </tr>\n",
       "    <tr>\n",
       "      <td>3</td>\n",
       "      <td>building a real estate</td>\n",
       "      <td>unpaid</td>\n",
       "      <td>48</td>\n",
       "    </tr>\n",
       "    <tr>\n",
       "      <td>4</td>\n",
       "      <td>buy commercial real estate</td>\n",
       "      <td>paid</td>\n",
       "      <td>0</td>\n",
       "    </tr>\n",
       "    <tr>\n",
       "      <td>...</td>\n",
       "      <td>...</td>\n",
       "      <td>...</td>\n",
       "      <td>...</td>\n",
       "    </tr>\n",
       "    <tr>\n",
       "      <td>71</td>\n",
       "      <td>transactions with my real estate</td>\n",
       "      <td>unpaid</td>\n",
       "      <td>50</td>\n",
       "    </tr>\n",
       "    <tr>\n",
       "      <td>72</td>\n",
       "      <td>university education</td>\n",
       "      <td>paid</td>\n",
       "      <td>0</td>\n",
       "    </tr>\n",
       "    <tr>\n",
       "      <td>73</td>\n",
       "      <td>university education</td>\n",
       "      <td>unpaid</td>\n",
       "      <td>40</td>\n",
       "    </tr>\n",
       "    <tr>\n",
       "      <td>74</td>\n",
       "      <td>wedding ceremony</td>\n",
       "      <td>paid</td>\n",
       "      <td>0</td>\n",
       "    </tr>\n",
       "    <tr>\n",
       "      <td>75</td>\n",
       "      <td>wedding ceremony</td>\n",
       "      <td>unpaid</td>\n",
       "      <td>63</td>\n",
       "    </tr>\n",
       "  </tbody>\n",
       "</table>\n",
       "<p>76 rows × 3 columns</p>\n",
       "</div>"
      ],
      "text/plain": [
       "                             purpose status_unpaid  debt\n",
       "0                building a property          paid     0\n",
       "1                building a property        unpaid    54\n",
       "2             building a real estate          paid     0\n",
       "3             building a real estate        unpaid    48\n",
       "4         buy commercial real estate          paid     0\n",
       "..                               ...           ...   ...\n",
       "71  transactions with my real estate        unpaid    50\n",
       "72              university education          paid     0\n",
       "73              university education        unpaid    40\n",
       "74                  wedding ceremony          paid     0\n",
       "75                  wedding ceremony        unpaid    63\n",
       "\n",
       "[76 rows x 3 columns]"
      ]
     },
     "execution_count": 83,
     "metadata": {},
     "output_type": "execute_result"
    }
   ],
   "source": [
    "# Check the percentages for default rate for each credit purpose and analyze them\n",
    "df.groupby(['purpose','status_unpaid'], as_index =False)['debt'].sum()\n"
   ]
  },
  {
   "cell_type": "markdown",
   "metadata": {},
   "source": [
    "**Conclusion**\n",
    "\n",
    "\n",
    "- As we see debt_rate is more high for individuals who get loan for building a real_estate and commercial real estate\n"
   ]
  },
  {
   "cell_type": "markdown",
   "metadata": {},
   "source": [
    "# General Conclusion "
   ]
  },
  {
   "cell_type": "markdown",
   "metadata": {},
   "source": [
    "\n",
    "**1.In the data's preparation & exploration stage:**\n",
    "\n",
    "-     We observed missing values in column 'days_employed' and 'total_income', both was numerical data and have             20% of misslingness.\n",
    "-     Type of missing data is MAP.\n",
    "-     Missing values for such variables are filled in with representative values (mean or median if any outliers)\n",
    "\n",
    "\n",
    "\n",
    "\n",
    "**2.In the data transformation and data-cleaning process stage:**\n",
    "-      We have missing values in column 'days_employed' and 'total_income', bouth was numerical data  so it was        used impute method by median becouse if we have some outliers in dataset.\n",
    "-      We replaced negative values in column 'days_employed'and 'children' by absolute value.\n",
    "-      We transformed format to lower register  in column 'education' and fixed misspeling.\n",
    "-      We removed duplicates in our dataset\n",
    "\n",
    "\n",
    "**3.In analysis stage to answer our questions  we got next conclusion:**\n",
    "-     Ther is negative corralation between number of children and debt so then number of children greater than         debt is low\n",
    "-     There is positive corralation between marital status and debt so married couple and civil partners have         more debt than single unmarried person\n",
    "-     There is 0 (NO)corralation between total_income and debt\n"
   ]
  },
  {
   "cell_type": "code",
   "execution_count": null,
   "metadata": {},
   "outputs": [],
   "source": []
  }
 ],
 "metadata": {
  "ExecuteTimeLog": [
   {
    "duration": 2741,
    "start_time": "2021-10-21T01:08:49.480Z"
   },
   {
    "duration": 52,
    "start_time": "2021-10-21T01:08:53.315Z"
   },
   {
    "duration": 49,
    "start_time": "2021-10-21T01:08:57.432Z"
   },
   {
    "duration": 70,
    "start_time": "2021-10-21T01:09:07.706Z"
   },
   {
    "duration": 167,
    "start_time": "2022-01-17T06:23:54.881Z"
   },
   {
    "duration": 173,
    "start_time": "2022-01-17T06:24:27.186Z"
   },
   {
    "duration": 447,
    "start_time": "2022-01-17T06:25:10.455Z"
   },
   {
    "duration": 574,
    "start_time": "2022-01-17T06:25:22.299Z"
   },
   {
    "duration": 373,
    "start_time": "2022-01-17T06:44:06.166Z"
   },
   {
    "duration": 254,
    "start_time": "2022-01-17T06:44:50.378Z"
   },
   {
    "duration": 22,
    "start_time": "2022-01-17T06:45:58.036Z"
   },
   {
    "duration": 13,
    "start_time": "2022-01-17T06:46:22.928Z"
   },
   {
    "duration": 11,
    "start_time": "2022-01-17T06:46:42.252Z"
   },
   {
    "duration": 13,
    "start_time": "2022-01-17T09:21:33.716Z"
   },
   {
    "duration": 13,
    "start_time": "2022-01-17T09:21:51.056Z"
   },
   {
    "duration": 237,
    "start_time": "2022-01-17T09:33:56.673Z"
   },
   {
    "duration": 248,
    "start_time": "2022-01-17T09:34:11.657Z"
   },
   {
    "duration": 240,
    "start_time": "2022-01-17T09:34:39.930Z"
   },
   {
    "duration": 4,
    "start_time": "2022-01-17T09:34:47.124Z"
   },
   {
    "duration": 3,
    "start_time": "2022-01-17T09:35:11.119Z"
   },
   {
    "duration": 318,
    "start_time": "2022-01-17T22:21:51.598Z"
   },
   {
    "duration": 982,
    "start_time": "2022-01-17T22:22:11.104Z"
   },
   {
    "duration": 48,
    "start_time": "2022-01-17T22:22:12.089Z"
   },
   {
    "duration": 17,
    "start_time": "2022-01-17T22:22:12.140Z"
   },
   {
    "duration": 16,
    "start_time": "2022-01-17T22:22:12.159Z"
   },
   {
    "duration": 8,
    "start_time": "2022-01-17T22:22:12.177Z"
   },
   {
    "duration": 4,
    "start_time": "2022-01-17T22:22:12.188Z"
   },
   {
    "duration": 8,
    "start_time": "2022-01-17T22:22:12.234Z"
   },
   {
    "duration": 3,
    "start_time": "2022-01-17T22:22:12.248Z"
   },
   {
    "duration": 6,
    "start_time": "2022-01-17T22:22:12.254Z"
   },
   {
    "duration": 7,
    "start_time": "2022-01-17T22:22:12.262Z"
   },
   {
    "duration": 7,
    "start_time": "2022-01-17T22:22:12.271Z"
   },
   {
    "duration": 6,
    "start_time": "2022-01-17T22:22:12.281Z"
   },
   {
    "duration": 49,
    "start_time": "2022-01-17T22:22:12.290Z"
   },
   {
    "duration": 3,
    "start_time": "2022-01-17T22:22:12.341Z"
   },
   {
    "duration": 6,
    "start_time": "2022-01-17T22:22:12.347Z"
   },
   {
    "duration": 8,
    "start_time": "2022-01-17T22:22:12.356Z"
   },
   {
    "duration": 8,
    "start_time": "2022-01-17T22:22:12.367Z"
   },
   {
    "duration": 13,
    "start_time": "2022-01-17T22:22:12.378Z"
   },
   {
    "duration": 8,
    "start_time": "2022-01-17T22:22:12.393Z"
   },
   {
    "duration": 28,
    "start_time": "2022-01-17T22:22:12.404Z"
   },
   {
    "duration": 6,
    "start_time": "2022-01-17T22:22:12.435Z"
   },
   {
    "duration": 6,
    "start_time": "2022-01-17T22:22:12.444Z"
   },
   {
    "duration": 4,
    "start_time": "2022-01-17T22:22:12.461Z"
   },
   {
    "duration": 4,
    "start_time": "2022-01-17T22:22:12.470Z"
   },
   {
    "duration": 5,
    "start_time": "2022-01-17T22:22:12.477Z"
   },
   {
    "duration": 5,
    "start_time": "2022-01-17T22:22:12.484Z"
   },
   {
    "duration": 40,
    "start_time": "2022-01-17T22:22:12.492Z"
   },
   {
    "duration": 4,
    "start_time": "2022-01-17T22:22:12.536Z"
   },
   {
    "duration": 13,
    "start_time": "2022-01-17T22:22:12.543Z"
   },
   {
    "duration": 9,
    "start_time": "2022-01-17T22:22:12.559Z"
   },
   {
    "duration": 6,
    "start_time": "2022-01-17T22:22:12.571Z"
   },
   {
    "duration": 4,
    "start_time": "2022-01-17T22:22:12.580Z"
   },
   {
    "duration": 5,
    "start_time": "2022-01-17T22:22:12.587Z"
   },
   {
    "duration": 40,
    "start_time": "2022-01-17T22:22:12.595Z"
   },
   {
    "duration": 7,
    "start_time": "2022-01-17T22:22:12.637Z"
   },
   {
    "duration": 5,
    "start_time": "2022-01-17T22:22:12.646Z"
   },
   {
    "duration": 6,
    "start_time": "2022-01-17T22:22:12.654Z"
   },
   {
    "duration": 5,
    "start_time": "2022-01-17T22:22:12.662Z"
   },
   {
    "duration": 5,
    "start_time": "2022-01-17T22:22:12.669Z"
   },
   {
    "duration": 8,
    "start_time": "2022-01-17T22:22:12.677Z"
   },
   {
    "duration": 6,
    "start_time": "2022-01-17T22:22:12.687Z"
   },
   {
    "duration": 37,
    "start_time": "2022-01-17T22:22:12.695Z"
   },
   {
    "duration": 7,
    "start_time": "2022-01-17T22:22:12.734Z"
   },
   {
    "duration": 5,
    "start_time": "2022-01-17T22:22:12.743Z"
   },
   {
    "duration": 9,
    "start_time": "2022-01-17T22:22:12.750Z"
   },
   {
    "duration": 6,
    "start_time": "2022-01-17T22:22:12.761Z"
   },
   {
    "duration": 6,
    "start_time": "2022-01-17T22:22:12.770Z"
   },
   {
    "duration": 6,
    "start_time": "2022-01-17T22:22:12.778Z"
   },
   {
    "duration": 5,
    "start_time": "2022-01-17T22:22:12.787Z"
   },
   {
    "duration": 3,
    "start_time": "2022-01-17T22:22:12.833Z"
   },
   {
    "duration": 6,
    "start_time": "2022-01-17T22:22:12.838Z"
   },
   {
    "duration": 5,
    "start_time": "2022-01-17T22:22:12.847Z"
   },
   {
    "duration": 5,
    "start_time": "2022-01-17T22:22:12.855Z"
   },
   {
    "duration": 5,
    "start_time": "2022-01-17T22:22:12.863Z"
   },
   {
    "duration": 5,
    "start_time": "2022-01-17T22:22:12.870Z"
   },
   {
    "duration": 55,
    "start_time": "2022-01-17T22:22:12.877Z"
   },
   {
    "duration": 3,
    "start_time": "2022-01-17T22:22:12.934Z"
   },
   {
    "duration": 7,
    "start_time": "2022-01-17T22:22:12.939Z"
   },
   {
    "duration": 6,
    "start_time": "2022-01-17T22:22:12.949Z"
   },
   {
    "duration": 12,
    "start_time": "2022-01-17T22:22:12.957Z"
   },
   {
    "duration": 6,
    "start_time": "2022-01-17T22:22:12.972Z"
   },
   {
    "duration": 5,
    "start_time": "2022-01-17T22:22:12.980Z"
   },
   {
    "duration": 5,
    "start_time": "2022-01-17T22:22:12.988Z"
   },
   {
    "duration": 3,
    "start_time": "2022-01-17T22:22:13.037Z"
   },
   {
    "duration": 6,
    "start_time": "2022-01-17T22:22:13.043Z"
   },
   {
    "duration": 6,
    "start_time": "2022-01-17T22:22:13.051Z"
   },
   {
    "duration": 8,
    "start_time": "2022-01-17T22:22:13.059Z"
   },
   {
    "duration": 2,
    "start_time": "2022-01-17T22:22:13.075Z"
   },
   {
    "duration": 5,
    "start_time": "2022-01-17T22:22:13.080Z"
   },
   {
    "duration": 46,
    "start_time": "2022-01-17T22:22:13.087Z"
   },
   {
    "duration": 6,
    "start_time": "2022-01-17T22:22:13.136Z"
   },
   {
    "duration": 15,
    "start_time": "2022-01-17T22:25:18.136Z"
   },
   {
    "duration": 8,
    "start_time": "2022-01-17T22:25:35.310Z"
   },
   {
    "duration": 28,
    "start_time": "2022-01-17T22:28:55.868Z"
   },
   {
    "duration": 14,
    "start_time": "2022-01-17T22:29:10.656Z"
   },
   {
    "duration": 281,
    "start_time": "2022-01-17T22:37:25.105Z"
   },
   {
    "duration": 1341,
    "start_time": "2022-01-17T22:37:51.257Z"
   },
   {
    "duration": 6120,
    "start_time": "2022-01-17T22:39:00.906Z"
   },
   {
    "duration": 7,
    "start_time": "2022-01-17T22:39:25.644Z"
   },
   {
    "duration": 6013,
    "start_time": "2022-01-17T22:45:39.710Z"
   },
   {
    "duration": 11,
    "start_time": "2022-01-17T22:45:56.640Z"
   },
   {
    "duration": 12,
    "start_time": "2022-01-17T23:12:24.128Z"
   },
   {
    "duration": 19,
    "start_time": "2022-01-17T23:32:33.614Z"
   },
   {
    "duration": 12,
    "start_time": "2022-01-17T23:33:25.512Z"
   },
   {
    "duration": 19,
    "start_time": "2022-01-17T23:33:51.741Z"
   },
   {
    "duration": 17,
    "start_time": "2022-01-17T23:34:15.253Z"
   },
   {
    "duration": 242,
    "start_time": "2022-01-17T23:54:36.287Z"
   },
   {
    "duration": 2,
    "start_time": "2022-01-17T23:56:32.306Z"
   },
   {
    "duration": 10,
    "start_time": "2022-01-17T23:58:12.331Z"
   },
   {
    "duration": 240,
    "start_time": "2022-01-18T00:01:40.287Z"
   },
   {
    "duration": 281,
    "start_time": "2022-01-18T00:01:55.659Z"
   },
   {
    "duration": 444,
    "start_time": "2022-01-18T00:02:10.696Z"
   },
   {
    "duration": 4,
    "start_time": "2022-01-18T00:02:39.209Z"
   },
   {
    "duration": 14,
    "start_time": "2022-01-18T00:14:04.720Z"
   },
   {
    "duration": 19,
    "start_time": "2022-01-18T00:20:18.789Z"
   },
   {
    "duration": 12,
    "start_time": "2022-01-18T00:20:34.671Z"
   },
   {
    "duration": 5,
    "start_time": "2022-01-18T00:27:25.083Z"
   },
   {
    "duration": 11,
    "start_time": "2022-01-18T00:29:10.110Z"
   },
   {
    "duration": 5,
    "start_time": "2022-01-18T00:29:12.763Z"
   },
   {
    "duration": 10,
    "start_time": "2022-01-18T00:29:17.205Z"
   },
   {
    "duration": 11,
    "start_time": "2022-01-18T00:29:20.709Z"
   },
   {
    "duration": 13,
    "start_time": "2022-01-18T00:29:30.061Z"
   },
   {
    "duration": 15,
    "start_time": "2022-01-18T00:30:19.605Z"
   },
   {
    "duration": 10,
    "start_time": "2022-01-18T00:30:24.245Z"
   },
   {
    "duration": 4420,
    "start_time": "2022-01-18T00:33:28.961Z"
   },
   {
    "duration": 12,
    "start_time": "2022-01-18T00:35:29.497Z"
   },
   {
    "duration": 23,
    "start_time": "2022-01-18T00:37:04.905Z"
   },
   {
    "duration": 7,
    "start_time": "2022-01-18T00:39:06.223Z"
   },
   {
    "duration": 14,
    "start_time": "2022-01-18T00:41:40.877Z"
   },
   {
    "duration": 15,
    "start_time": "2022-01-18T00:42:01.980Z"
   },
   {
    "duration": 13,
    "start_time": "2022-01-18T00:49:26.785Z"
   },
   {
    "duration": 13,
    "start_time": "2022-01-18T00:51:03.757Z"
   },
   {
    "duration": 13,
    "start_time": "2022-01-18T00:52:42.823Z"
   },
   {
    "duration": 34,
    "start_time": "2022-01-18T01:04:34.294Z"
   },
   {
    "duration": 12,
    "start_time": "2022-01-18T01:50:32.380Z"
   },
   {
    "duration": 282,
    "start_time": "2022-01-18T01:52:57.743Z"
   },
   {
    "duration": 7,
    "start_time": "2022-01-18T01:53:11.021Z"
   },
   {
    "duration": 238,
    "start_time": "2022-01-18T01:53:49.695Z"
   },
   {
    "duration": 7,
    "start_time": "2022-01-18T01:54:02.009Z"
   },
   {
    "duration": 322,
    "start_time": "2022-01-18T01:54:45.493Z"
   },
   {
    "duration": 250,
    "start_time": "2022-01-18T01:54:48.865Z"
   },
   {
    "duration": 11,
    "start_time": "2022-01-18T01:56:05.485Z"
   },
   {
    "duration": 2,
    "start_time": "2022-01-18T01:56:35.309Z"
   },
   {
    "duration": 15,
    "start_time": "2022-01-18T01:56:38.293Z"
   },
   {
    "duration": 14,
    "start_time": "2022-01-18T01:58:21.077Z"
   },
   {
    "duration": 3,
    "start_time": "2022-01-18T01:58:31.280Z"
   },
   {
    "duration": 33,
    "start_time": "2022-01-18T02:00:09.615Z"
   },
   {
    "duration": 33,
    "start_time": "2022-01-18T02:01:04.838Z"
   },
   {
    "duration": 308,
    "start_time": "2022-01-18T03:34:14.070Z"
   },
   {
    "duration": 257,
    "start_time": "2022-01-18T03:34:22.458Z"
   },
   {
    "duration": 244,
    "start_time": "2022-01-18T03:34:55.889Z"
   },
   {
    "duration": 230,
    "start_time": "2022-01-18T03:35:24.769Z"
   },
   {
    "duration": 259,
    "start_time": "2022-01-18T03:36:04.960Z"
   },
   {
    "duration": 905,
    "start_time": "2022-01-18T03:36:13.423Z"
   },
   {
    "duration": 41,
    "start_time": "2022-01-18T03:36:14.331Z"
   },
   {
    "duration": 17,
    "start_time": "2022-01-18T03:36:14.376Z"
   },
   {
    "duration": 18,
    "start_time": "2022-01-18T03:36:14.396Z"
   },
   {
    "duration": 10,
    "start_time": "2022-01-18T03:36:14.433Z"
   },
   {
    "duration": 19,
    "start_time": "2022-01-18T03:36:14.445Z"
   },
   {
    "duration": 19,
    "start_time": "2022-01-18T03:36:14.466Z"
   },
   {
    "duration": 18,
    "start_time": "2022-01-18T03:36:14.488Z"
   },
   {
    "duration": 14,
    "start_time": "2022-01-18T03:36:14.534Z"
   },
   {
    "duration": 31,
    "start_time": "2022-01-18T03:36:14.551Z"
   },
   {
    "duration": 54,
    "start_time": "2022-01-18T03:36:14.584Z"
   },
   {
    "duration": 3,
    "start_time": "2022-01-18T03:36:14.640Z"
   },
   {
    "duration": 6,
    "start_time": "2022-01-18T03:36:14.645Z"
   },
   {
    "duration": 6,
    "start_time": "2022-01-18T03:36:14.654Z"
   },
   {
    "duration": 8,
    "start_time": "2022-01-18T03:36:14.662Z"
   },
   {
    "duration": 6,
    "start_time": "2022-01-18T03:36:14.672Z"
   },
   {
    "duration": 8,
    "start_time": "2022-01-18T03:36:14.680Z"
   },
   {
    "duration": 5,
    "start_time": "2022-01-18T03:36:14.690Z"
   },
   {
    "duration": 35,
    "start_time": "2022-01-18T03:36:14.697Z"
   },
   {
    "duration": 5,
    "start_time": "2022-01-18T03:36:14.734Z"
   },
   {
    "duration": 5,
    "start_time": "2022-01-18T03:36:14.741Z"
   },
   {
    "duration": 6,
    "start_time": "2022-01-18T03:36:14.748Z"
   },
   {
    "duration": 6,
    "start_time": "2022-01-18T03:36:14.756Z"
   },
   {
    "duration": 5,
    "start_time": "2022-01-18T03:36:14.764Z"
   },
   {
    "duration": 5,
    "start_time": "2022-01-18T03:36:14.771Z"
   },
   {
    "duration": 5,
    "start_time": "2022-01-18T03:36:14.779Z"
   },
   {
    "duration": 3,
    "start_time": "2022-01-18T03:36:14.790Z"
   },
   {
    "duration": 3,
    "start_time": "2022-01-18T03:36:14.834Z"
   },
   {
    "duration": 7,
    "start_time": "2022-01-18T03:36:14.839Z"
   },
   {
    "duration": 6,
    "start_time": "2022-01-18T03:36:14.848Z"
   },
   {
    "duration": 7,
    "start_time": "2022-01-18T03:36:14.856Z"
   },
   {
    "duration": 5,
    "start_time": "2022-01-18T03:36:14.865Z"
   },
   {
    "duration": 5,
    "start_time": "2022-01-18T03:36:14.872Z"
   },
   {
    "duration": 11,
    "start_time": "2022-01-18T03:36:14.879Z"
   },
   {
    "duration": 9,
    "start_time": "2022-01-18T03:36:14.893Z"
   },
   {
    "duration": 28,
    "start_time": "2022-01-18T03:36:14.904Z"
   },
   {
    "duration": 5,
    "start_time": "2022-01-18T03:36:14.934Z"
   },
   {
    "duration": 8,
    "start_time": "2022-01-18T03:36:14.941Z"
   },
   {
    "duration": 9,
    "start_time": "2022-01-18T03:36:14.951Z"
   },
   {
    "duration": 7,
    "start_time": "2022-01-18T03:36:14.962Z"
   },
   {
    "duration": 10,
    "start_time": "2022-01-18T03:36:14.971Z"
   },
   {
    "duration": 9,
    "start_time": "2022-01-18T03:36:14.983Z"
   },
   {
    "duration": 5,
    "start_time": "2022-01-18T03:36:14.994Z"
   },
   {
    "duration": 16,
    "start_time": "2022-01-18T03:36:15.001Z"
   },
   {
    "duration": 11,
    "start_time": "2022-01-18T03:36:15.033Z"
   },
   {
    "duration": 12,
    "start_time": "2022-01-18T03:36:15.046Z"
   },
   {
    "duration": 8,
    "start_time": "2022-01-18T03:36:15.060Z"
   },
   {
    "duration": 8,
    "start_time": "2022-01-18T03:36:15.070Z"
   },
   {
    "duration": 14,
    "start_time": "2022-01-18T03:36:15.080Z"
   },
   {
    "duration": 9,
    "start_time": "2022-01-18T03:36:15.096Z"
   },
   {
    "duration": 12,
    "start_time": "2022-01-18T03:36:15.108Z"
   },
   {
    "duration": 17,
    "start_time": "2022-01-18T03:36:15.123Z"
   },
   {
    "duration": 6,
    "start_time": "2022-01-18T03:36:15.143Z"
   },
   {
    "duration": 7,
    "start_time": "2022-01-18T03:36:15.151Z"
   },
   {
    "duration": 5,
    "start_time": "2022-01-18T03:36:15.161Z"
   },
   {
    "duration": 9,
    "start_time": "2022-01-18T03:36:15.168Z"
   },
   {
    "duration": 9,
    "start_time": "2022-01-18T03:36:15.179Z"
   },
   {
    "duration": 5,
    "start_time": "2022-01-18T03:36:15.191Z"
   },
   {
    "duration": 6,
    "start_time": "2022-01-18T03:36:15.199Z"
   },
   {
    "duration": 9,
    "start_time": "2022-01-18T03:36:15.207Z"
   },
   {
    "duration": 7,
    "start_time": "2022-01-18T03:36:15.218Z"
   },
   {
    "duration": 8,
    "start_time": "2022-01-18T03:36:15.233Z"
   },
   {
    "duration": 8,
    "start_time": "2022-01-18T03:36:15.243Z"
   },
   {
    "duration": 6,
    "start_time": "2022-01-18T03:36:15.253Z"
   },
   {
    "duration": 9,
    "start_time": "2022-01-18T03:36:15.261Z"
   },
   {
    "duration": 9,
    "start_time": "2022-01-18T03:36:15.272Z"
   },
   {
    "duration": 7,
    "start_time": "2022-01-18T03:36:15.283Z"
   },
   {
    "duration": 8,
    "start_time": "2022-01-18T03:36:15.292Z"
   },
   {
    "duration": 6,
    "start_time": "2022-01-18T03:36:15.302Z"
   },
   {
    "duration": 22,
    "start_time": "2022-01-18T03:36:15.310Z"
   },
   {
    "duration": 3,
    "start_time": "2022-01-18T03:36:15.335Z"
   },
   {
    "duration": 15,
    "start_time": "2022-01-18T03:36:15.340Z"
   },
   {
    "duration": 7,
    "start_time": "2022-01-18T03:36:15.357Z"
   },
   {
    "duration": 8,
    "start_time": "2022-01-18T03:36:15.367Z"
   },
   {
    "duration": 13,
    "start_time": "2022-01-18T03:45:52.487Z"
   },
   {
    "duration": 13,
    "start_time": "2022-01-18T03:48:55.896Z"
   },
   {
    "duration": 3,
    "start_time": "2022-01-18T04:04:18.563Z"
   },
   {
    "duration": 3,
    "start_time": "2022-01-18T04:04:24.305Z"
   },
   {
    "duration": 20,
    "start_time": "2022-01-18T04:11:08.481Z"
   },
   {
    "duration": 10,
    "start_time": "2022-01-18T04:25:35.017Z"
   },
   {
    "duration": 17,
    "start_time": "2022-01-18T04:26:01.612Z"
   },
   {
    "duration": 3,
    "start_time": "2022-01-18T04:26:23.872Z"
   },
   {
    "duration": 11,
    "start_time": "2022-01-18T04:31:00.814Z"
   },
   {
    "duration": -725,
    "start_time": "2022-01-18T04:47:54.947Z"
   },
   {
    "duration": 9,
    "start_time": "2022-01-18T04:53:30.512Z"
   },
   {
    "duration": 21,
    "start_time": "2022-01-18T04:57:29.914Z"
   },
   {
    "duration": 35,
    "start_time": "2022-01-18T04:58:03.956Z"
   },
   {
    "duration": 9,
    "start_time": "2022-01-18T05:06:55.130Z"
   },
   {
    "duration": 10,
    "start_time": "2022-01-18T05:07:13.983Z"
   },
   {
    "duration": 3,
    "start_time": "2022-01-18T05:07:59.142Z"
   },
   {
    "duration": 3,
    "start_time": "2022-01-18T05:09:11.820Z"
   },
   {
    "duration": 91,
    "start_time": "2022-01-18T05:09:51.400Z"
   },
   {
    "duration": 4,
    "start_time": "2022-01-18T05:11:25.204Z"
   },
   {
    "duration": 3,
    "start_time": "2022-01-18T05:11:33.006Z"
   },
   {
    "duration": 4,
    "start_time": "2022-01-18T05:11:40.182Z"
   },
   {
    "duration": 3,
    "start_time": "2022-01-18T05:11:46.264Z"
   },
   {
    "duration": 3,
    "start_time": "2022-01-18T05:11:53.604Z"
   },
   {
    "duration": 844,
    "start_time": "2022-01-18T22:02:39.950Z"
   },
   {
    "duration": 213,
    "start_time": "2022-01-18T22:02:48.185Z"
   },
   {
    "duration": 316,
    "start_time": "2022-01-18T22:03:15.643Z"
   },
   {
    "duration": 287,
    "start_time": "2022-01-18T22:03:30.383Z"
   },
   {
    "duration": 293,
    "start_time": "2022-01-18T22:03:44.558Z"
   },
   {
    "duration": 3,
    "start_time": "2022-01-18T22:05:05.613Z"
   },
   {
    "duration": 14,
    "start_time": "2022-01-18T22:05:40.156Z"
   },
   {
    "duration": 14,
    "start_time": "2022-01-18T22:09:26.831Z"
   },
   {
    "duration": 11,
    "start_time": "2022-01-18T22:09:41.545Z"
   },
   {
    "duration": 20,
    "start_time": "2022-01-18T22:13:10.777Z"
   },
   {
    "duration": 10,
    "start_time": "2022-01-18T22:13:21.226Z"
   },
   {
    "duration": 6758,
    "start_time": "2022-01-18T22:21:16.058Z"
   },
   {
    "duration": 6505,
    "start_time": "2022-01-18T22:21:41.184Z"
   },
   {
    "duration": 269,
    "start_time": "2022-01-18T22:22:36.640Z"
   },
   {
    "duration": 252,
    "start_time": "2022-01-18T22:23:32.263Z"
   },
   {
    "duration": 5,
    "start_time": "2022-01-18T22:24:16.224Z"
   },
   {
    "duration": 6,
    "start_time": "2022-01-18T22:24:58.507Z"
   },
   {
    "duration": 5,
    "start_time": "2022-01-18T22:26:30.838Z"
   },
   {
    "duration": 9,
    "start_time": "2022-01-18T22:28:08.370Z"
   },
   {
    "duration": 7,
    "start_time": "2022-01-18T22:31:31.860Z"
   },
   {
    "duration": 94,
    "start_time": "2022-01-18T22:36:05.830Z"
   },
   {
    "duration": 85,
    "start_time": "2022-01-18T22:37:06.762Z"
   },
   {
    "duration": 95,
    "start_time": "2022-01-18T22:37:55.202Z"
   },
   {
    "duration": 21,
    "start_time": "2022-01-18T22:38:10.903Z"
   },
   {
    "duration": 22,
    "start_time": "2022-01-18T22:41:12.571Z"
   },
   {
    "duration": 22,
    "start_time": "2022-01-18T22:41:36.809Z"
   },
   {
    "duration": 9,
    "start_time": "2022-01-18T22:47:03.693Z"
   },
   {
    "duration": 10,
    "start_time": "2022-01-18T22:48:15.189Z"
   },
   {
    "duration": 277,
    "start_time": "2022-01-18T22:50:41.217Z"
   },
   {
    "duration": 383,
    "start_time": "2022-01-18T22:51:15.330Z"
   },
   {
    "duration": 264,
    "start_time": "2022-01-18T22:54:18.207Z"
   },
   {
    "duration": 269,
    "start_time": "2022-01-18T22:54:45.451Z"
   },
   {
    "duration": 4,
    "start_time": "2022-01-18T22:55:02.090Z"
   },
   {
    "duration": 22,
    "start_time": "2022-01-18T22:55:21.448Z"
   },
   {
    "duration": 13,
    "start_time": "2022-01-18T22:56:24.641Z"
   },
   {
    "duration": 10,
    "start_time": "2022-01-18T22:58:34.998Z"
   },
   {
    "duration": 12,
    "start_time": "2022-01-18T22:58:52.324Z"
   },
   {
    "duration": 10,
    "start_time": "2022-01-18T23:01:33.922Z"
   },
   {
    "duration": 8,
    "start_time": "2022-01-18T23:22:14.960Z"
   },
   {
    "duration": 8,
    "start_time": "2022-01-18T23:22:57.202Z"
   },
   {
    "duration": 223,
    "start_time": "2022-01-18T23:26:02.472Z"
   },
   {
    "duration": 4,
    "start_time": "2022-01-18T23:26:10.654Z"
   },
   {
    "duration": 11,
    "start_time": "2022-01-18T23:26:16.068Z"
   },
   {
    "duration": 8,
    "start_time": "2022-01-18T23:26:20.471Z"
   },
   {
    "duration": 264,
    "start_time": "2022-01-18T23:30:35.000Z"
   },
   {
    "duration": 13,
    "start_time": "2022-01-18T23:30:46.100Z"
   },
   {
    "duration": 314,
    "start_time": "2022-01-18T23:31:29.438Z"
   },
   {
    "duration": 12,
    "start_time": "2022-01-18T23:31:39.036Z"
   },
   {
    "duration": 8,
    "start_time": "2022-01-18T23:33:24.736Z"
   },
   {
    "duration": 11,
    "start_time": "2022-01-18T23:34:56.071Z"
   },
   {
    "duration": 11,
    "start_time": "2022-01-18T23:35:04.398Z"
   },
   {
    "duration": 12,
    "start_time": "2022-01-18T23:35:32.103Z"
   },
   {
    "duration": 260,
    "start_time": "2022-01-18T23:43:09.082Z"
   },
   {
    "duration": 4,
    "start_time": "2022-01-18T23:43:22.507Z"
   },
   {
    "duration": 291,
    "start_time": "2022-01-18T23:50:27.078Z"
   },
   {
    "duration": 269,
    "start_time": "2022-01-18T23:50:44.494Z"
   },
   {
    "duration": 5,
    "start_time": "2022-01-18T23:57:04.282Z"
   },
   {
    "duration": 10,
    "start_time": "2022-01-19T00:02:17.711Z"
   },
   {
    "duration": 5,
    "start_time": "2022-01-19T00:02:39.479Z"
   },
   {
    "duration": 15,
    "start_time": "2022-01-19T00:06:13.001Z"
   },
   {
    "duration": 18,
    "start_time": "2022-01-19T00:09:09.695Z"
   },
   {
    "duration": 84,
    "start_time": "2022-01-19T00:09:29.292Z"
   },
   {
    "duration": 264,
    "start_time": "2022-01-19T00:09:40.413Z"
   },
   {
    "duration": 16,
    "start_time": "2022-01-19T00:10:20.313Z"
   },
   {
    "duration": 5,
    "start_time": "2022-01-19T00:10:26.099Z"
   },
   {
    "duration": 11,
    "start_time": "2022-01-19T00:10:45.351Z"
   },
   {
    "duration": 5,
    "start_time": "2022-01-19T00:12:09.381Z"
   },
   {
    "duration": 5,
    "start_time": "2022-01-19T00:13:11.315Z"
   },
   {
    "duration": 6,
    "start_time": "2022-01-19T00:13:31.535Z"
   },
   {
    "duration": 103,
    "start_time": "2022-01-19T00:17:58.691Z"
   },
   {
    "duration": 866,
    "start_time": "2022-01-19T00:37:22.681Z"
   },
   {
    "duration": 5,
    "start_time": "2022-01-19T00:37:39.421Z"
   },
   {
    "duration": 473,
    "start_time": "2022-01-19T00:39:00.234Z"
   },
   {
    "duration": 2,
    "start_time": "2022-01-19T00:39:34.482Z"
   },
   {
    "duration": 6,
    "start_time": "2022-01-19T00:53:15.753Z"
   },
   {
    "duration": 85,
    "start_time": "2022-01-19T00:58:20.664Z"
   },
   {
    "duration": 82,
    "start_time": "2022-01-19T00:58:38.802Z"
   },
   {
    "duration": 7,
    "start_time": "2022-01-19T00:59:48.482Z"
   },
   {
    "duration": -728,
    "start_time": "2022-01-19T01:20:59.380Z"
   },
   {
    "duration": 6763,
    "start_time": "2022-01-19T01:21:03.457Z"
   },
   {
    "duration": -853,
    "start_time": "2022-01-19T01:21:18.563Z"
   },
   {
    "duration": 11173,
    "start_time": "2022-01-19T01:21:26.497Z"
   },
   {
    "duration": 5,
    "start_time": "2022-01-19T01:22:27.029Z"
   },
   {
    "duration": 13,
    "start_time": "2022-01-19T01:22:50.527Z"
   },
   {
    "duration": 22,
    "start_time": "2022-01-19T01:23:23.904Z"
   },
   {
    "duration": 22,
    "start_time": "2022-01-19T01:24:45.493Z"
   },
   {
    "duration": 22,
    "start_time": "2022-01-19T01:24:57.136Z"
   },
   {
    "duration": 2,
    "start_time": "2022-01-19T01:25:48.325Z"
   },
   {
    "duration": 6,
    "start_time": "2022-01-19T01:44:00.289Z"
   },
   {
    "duration": 249,
    "start_time": "2022-01-19T01:44:00.297Z"
   },
   {
    "duration": 3,
    "start_time": "2022-01-19T01:44:00.548Z"
   },
   {
    "duration": 20,
    "start_time": "2022-01-19T01:44:00.553Z"
   },
   {
    "duration": 28,
    "start_time": "2022-01-19T01:44:00.575Z"
   },
   {
    "duration": 6,
    "start_time": "2022-01-19T01:44:00.605Z"
   },
   {
    "duration": 26,
    "start_time": "2022-01-19T01:44:00.612Z"
   },
   {
    "duration": 10,
    "start_time": "2022-01-19T01:44:00.640Z"
   },
   {
    "duration": 9,
    "start_time": "2022-01-19T01:44:00.652Z"
   },
   {
    "duration": 36,
    "start_time": "2022-01-19T01:44:00.663Z"
   },
   {
    "duration": 2,
    "start_time": "2022-01-19T01:44:00.701Z"
   },
   {
    "duration": 16,
    "start_time": "2022-01-19T01:44:00.704Z"
   },
   {
    "duration": 24,
    "start_time": "2022-01-19T01:44:00.722Z"
   },
   {
    "duration": 14,
    "start_time": "2022-01-19T01:44:00.747Z"
   },
   {
    "duration": 5,
    "start_time": "2022-01-19T01:44:00.763Z"
   },
   {
    "duration": 7,
    "start_time": "2022-01-19T01:44:00.769Z"
   },
   {
    "duration": 23,
    "start_time": "2022-01-19T01:44:00.778Z"
   },
   {
    "duration": 9,
    "start_time": "2022-01-19T01:44:00.803Z"
   },
   {
    "duration": 15,
    "start_time": "2022-01-19T01:44:00.814Z"
   },
   {
    "duration": 9,
    "start_time": "2022-01-19T01:44:00.830Z"
   },
   {
    "duration": 7,
    "start_time": "2022-01-19T01:44:00.840Z"
   },
   {
    "duration": 9,
    "start_time": "2022-01-19T01:44:00.849Z"
   },
   {
    "duration": 6,
    "start_time": "2022-01-19T01:44:00.859Z"
   },
   {
    "duration": 7,
    "start_time": "2022-01-19T01:44:00.867Z"
   },
   {
    "duration": 6,
    "start_time": "2022-01-19T01:44:00.875Z"
   },
   {
    "duration": 7,
    "start_time": "2022-01-19T01:44:00.883Z"
   },
   {
    "duration": 2,
    "start_time": "2022-01-19T01:44:00.900Z"
   },
   {
    "duration": 6,
    "start_time": "2022-01-19T01:44:00.905Z"
   },
   {
    "duration": 7,
    "start_time": "2022-01-19T01:44:00.913Z"
   },
   {
    "duration": 6,
    "start_time": "2022-01-19T01:44:00.922Z"
   },
   {
    "duration": 10,
    "start_time": "2022-01-19T01:44:00.930Z"
   },
   {
    "duration": 7,
    "start_time": "2022-01-19T01:44:00.942Z"
   },
   {
    "duration": 6,
    "start_time": "2022-01-19T01:44:00.951Z"
   },
   {
    "duration": 7,
    "start_time": "2022-01-19T01:44:00.958Z"
   },
   {
    "duration": 10,
    "start_time": "2022-01-19T01:44:00.966Z"
   },
   {
    "duration": 8,
    "start_time": "2022-01-19T01:44:00.978Z"
   },
   {
    "duration": 7,
    "start_time": "2022-01-19T01:44:00.987Z"
   },
   {
    "duration": 11,
    "start_time": "2022-01-19T01:44:00.996Z"
   },
   {
    "duration": 8,
    "start_time": "2022-01-19T01:44:01.008Z"
   },
   {
    "duration": 8,
    "start_time": "2022-01-19T01:44:01.018Z"
   },
   {
    "duration": 9,
    "start_time": "2022-01-19T01:44:01.027Z"
   },
   {
    "duration": 7,
    "start_time": "2022-01-19T01:44:01.038Z"
   },
   {
    "duration": 12,
    "start_time": "2022-01-19T01:44:01.046Z"
   },
   {
    "duration": 10,
    "start_time": "2022-01-19T01:44:01.059Z"
   },
   {
    "duration": 10,
    "start_time": "2022-01-19T01:44:01.071Z"
   },
   {
    "duration": 23,
    "start_time": "2022-01-19T01:44:01.083Z"
   },
   {
    "duration": 9,
    "start_time": "2022-01-19T01:44:01.108Z"
   },
   {
    "duration": 9,
    "start_time": "2022-01-19T01:44:01.118Z"
   },
   {
    "duration": 7,
    "start_time": "2022-01-19T01:44:01.128Z"
   },
   {
    "duration": 13,
    "start_time": "2022-01-19T01:44:01.137Z"
   },
   {
    "duration": 6,
    "start_time": "2022-01-19T01:44:01.151Z"
   },
   {
    "duration": 8,
    "start_time": "2022-01-19T01:44:01.159Z"
   },
   {
    "duration": 12,
    "start_time": "2022-01-19T01:44:01.168Z"
   },
   {
    "duration": 14,
    "start_time": "2022-01-19T01:44:01.182Z"
   },
   {
    "duration": 7,
    "start_time": "2022-01-19T01:44:01.197Z"
   },
   {
    "duration": 9,
    "start_time": "2022-01-19T01:44:01.205Z"
   },
   {
    "duration": 9,
    "start_time": "2022-01-19T01:44:01.215Z"
   },
   {
    "duration": 7,
    "start_time": "2022-01-19T01:44:01.225Z"
   },
   {
    "duration": 9,
    "start_time": "2022-01-19T01:44:01.234Z"
   },
   {
    "duration": 9,
    "start_time": "2022-01-19T01:44:01.245Z"
   },
   {
    "duration": 15,
    "start_time": "2022-01-19T01:44:01.256Z"
   },
   {
    "duration": 10,
    "start_time": "2022-01-19T01:44:01.272Z"
   },
   {
    "duration": 7,
    "start_time": "2022-01-19T01:44:01.284Z"
   },
   {
    "duration": 8,
    "start_time": "2022-01-19T01:44:01.293Z"
   },
   {
    "duration": 5,
    "start_time": "2022-01-19T01:44:01.303Z"
   },
   {
    "duration": 7,
    "start_time": "2022-01-19T01:44:01.310Z"
   },
   {
    "duration": 9,
    "start_time": "2022-01-19T01:44:01.319Z"
   },
   {
    "duration": 8,
    "start_time": "2022-01-19T01:44:01.330Z"
   },
   {
    "duration": 9,
    "start_time": "2022-01-19T01:44:01.339Z"
   },
   {
    "duration": 5,
    "start_time": "2022-01-19T01:44:01.350Z"
   },
   {
    "duration": 7,
    "start_time": "2022-01-19T01:44:01.357Z"
   },
   {
    "duration": 9,
    "start_time": "2022-01-19T01:44:01.366Z"
   },
   {
    "duration": 12,
    "start_time": "2022-01-19T01:44:01.376Z"
   },
   {
    "duration": 8,
    "start_time": "2022-01-19T01:44:01.389Z"
   },
   {
    "duration": 16,
    "start_time": "2022-01-19T01:44:01.399Z"
   },
   {
    "duration": 19,
    "start_time": "2022-01-19T01:44:43.475Z"
   },
   {
    "duration": 5,
    "start_time": "2022-01-19T01:46:55.189Z"
   },
   {
    "duration": 289,
    "start_time": "2022-01-19T01:47:26.445Z"
   },
   {
    "duration": 278,
    "start_time": "2022-01-19T01:47:36.891Z"
   },
   {
    "duration": 6,
    "start_time": "2022-01-19T01:47:44.395Z"
   },
   {
    "duration": 275,
    "start_time": "2022-01-19T01:48:04.595Z"
   },
   {
    "duration": 267,
    "start_time": "2022-01-19T01:48:14.408Z"
   },
   {
    "duration": 6,
    "start_time": "2022-01-19T01:48:21.101Z"
   },
   {
    "duration": 1080,
    "start_time": "2022-01-19T02:16:52.010Z"
   },
   {
    "duration": 1142,
    "start_time": "2022-01-19T02:17:29.297Z"
   },
   {
    "duration": 293,
    "start_time": "2022-01-19T02:18:15.069Z"
   },
   {
    "duration": 2,
    "start_time": "2022-01-19T02:25:46.221Z"
   },
   {
    "duration": 10,
    "start_time": "2022-01-19T02:35:09.790Z"
   },
   {
    "duration": 100,
    "start_time": "2022-01-19T02:36:07.938Z"
   },
   {
    "duration": 6,
    "start_time": "2022-01-19T02:36:41.568Z"
   },
   {
    "duration": 5,
    "start_time": "2022-01-19T02:41:23.271Z"
   },
   {
    "duration": -879,
    "start_time": "2022-01-19T02:42:56.539Z"
   },
   {
    "duration": 6467,
    "start_time": "2022-01-19T02:43:07.816Z"
   },
   {
    "duration": 6,
    "start_time": "2022-01-19T02:43:41.872Z"
   },
   {
    "duration": 6,
    "start_time": "2022-01-19T02:44:47.890Z"
   },
   {
    "duration": 6,
    "start_time": "2022-01-19T02:45:18.526Z"
   },
   {
    "duration": 8,
    "start_time": "2022-01-19T02:47:15.870Z"
   },
   {
    "duration": 7,
    "start_time": "2022-01-19T02:49:28.274Z"
   },
   {
    "duration": 7,
    "start_time": "2022-01-19T02:50:37.629Z"
   },
   {
    "duration": 5,
    "start_time": "2022-01-19T02:52:43.047Z"
   },
   {
    "duration": 5,
    "start_time": "2022-01-19T02:52:53.608Z"
   },
   {
    "duration": 11,
    "start_time": "2022-01-19T02:53:15.957Z"
   },
   {
    "duration": 6,
    "start_time": "2022-01-19T02:53:29.998Z"
   },
   {
    "duration": 426,
    "start_time": "2022-01-19T02:53:30.006Z"
   },
   {
    "duration": 3,
    "start_time": "2022-01-19T02:53:30.434Z"
   },
   {
    "duration": 21,
    "start_time": "2022-01-19T02:53:30.439Z"
   },
   {
    "duration": 15,
    "start_time": "2022-01-19T02:53:30.462Z"
   },
   {
    "duration": 19,
    "start_time": "2022-01-19T02:53:30.479Z"
   },
   {
    "duration": 32,
    "start_time": "2022-01-19T02:53:30.500Z"
   },
   {
    "duration": 11,
    "start_time": "2022-01-19T02:53:30.535Z"
   },
   {
    "duration": 20,
    "start_time": "2022-01-19T02:53:30.548Z"
   },
   {
    "duration": 9,
    "start_time": "2022-01-19T02:53:30.570Z"
   },
   {
    "duration": 17,
    "start_time": "2022-01-19T02:53:30.581Z"
   },
   {
    "duration": 14,
    "start_time": "2022-01-19T02:53:30.600Z"
   },
   {
    "duration": 13,
    "start_time": "2022-01-19T02:53:30.615Z"
   },
   {
    "duration": 14,
    "start_time": "2022-01-19T02:53:30.630Z"
   },
   {
    "duration": 9,
    "start_time": "2022-01-19T02:53:30.646Z"
   },
   {
    "duration": 6,
    "start_time": "2022-01-19T02:53:30.656Z"
   },
   {
    "duration": 5,
    "start_time": "2022-01-19T02:53:30.663Z"
   },
   {
    "duration": 7,
    "start_time": "2022-01-19T02:53:30.670Z"
   },
   {
    "duration": 14,
    "start_time": "2022-01-19T02:53:30.679Z"
   },
   {
    "duration": 8,
    "start_time": "2022-01-19T02:53:30.694Z"
   },
   {
    "duration": 7,
    "start_time": "2022-01-19T02:53:30.704Z"
   },
   {
    "duration": 12,
    "start_time": "2022-01-19T02:53:30.712Z"
   },
   {
    "duration": 10,
    "start_time": "2022-01-19T02:53:30.727Z"
   },
   {
    "duration": 15,
    "start_time": "2022-01-19T02:53:30.740Z"
   },
   {
    "duration": 22,
    "start_time": "2022-01-19T02:53:30.757Z"
   },
   {
    "duration": 14,
    "start_time": "2022-01-19T02:53:30.780Z"
   },
   {
    "duration": 18,
    "start_time": "2022-01-19T02:53:30.795Z"
   },
   {
    "duration": 20,
    "start_time": "2022-01-19T02:53:30.815Z"
   },
   {
    "duration": 30,
    "start_time": "2022-01-19T02:53:30.836Z"
   },
   {
    "duration": 13,
    "start_time": "2022-01-19T02:53:30.868Z"
   },
   {
    "duration": 16,
    "start_time": "2022-01-19T02:53:30.883Z"
   },
   {
    "duration": 6,
    "start_time": "2022-01-19T02:53:30.901Z"
   },
   {
    "duration": 7,
    "start_time": "2022-01-19T02:53:30.909Z"
   },
   {
    "duration": 15,
    "start_time": "2022-01-19T02:53:30.917Z"
   },
   {
    "duration": 12,
    "start_time": "2022-01-19T02:53:30.934Z"
   },
   {
    "duration": 9,
    "start_time": "2022-01-19T02:53:30.948Z"
   },
   {
    "duration": 14,
    "start_time": "2022-01-19T02:53:30.959Z"
   },
   {
    "duration": 15,
    "start_time": "2022-01-19T02:53:30.975Z"
   },
   {
    "duration": 23,
    "start_time": "2022-01-19T02:53:30.991Z"
   },
   {
    "duration": 12,
    "start_time": "2022-01-19T02:53:31.016Z"
   },
   {
    "duration": 10,
    "start_time": "2022-01-19T02:53:31.030Z"
   },
   {
    "duration": 14,
    "start_time": "2022-01-19T02:53:31.042Z"
   },
   {
    "duration": 11,
    "start_time": "2022-01-19T02:53:31.058Z"
   },
   {
    "duration": 8,
    "start_time": "2022-01-19T02:53:31.071Z"
   },
   {
    "duration": 10,
    "start_time": "2022-01-19T02:53:31.080Z"
   },
   {
    "duration": 11,
    "start_time": "2022-01-19T02:53:31.092Z"
   },
   {
    "duration": 17,
    "start_time": "2022-01-19T02:53:31.105Z"
   },
   {
    "duration": 10,
    "start_time": "2022-01-19T02:53:31.124Z"
   },
   {
    "duration": 22,
    "start_time": "2022-01-19T02:53:31.136Z"
   },
   {
    "duration": 12,
    "start_time": "2022-01-19T02:53:31.160Z"
   },
   {
    "duration": 9,
    "start_time": "2022-01-19T02:53:31.174Z"
   },
   {
    "duration": 9,
    "start_time": "2022-01-19T02:53:31.185Z"
   },
   {
    "duration": 7,
    "start_time": "2022-01-19T02:53:31.195Z"
   },
   {
    "duration": 9,
    "start_time": "2022-01-19T02:53:31.203Z"
   },
   {
    "duration": 9,
    "start_time": "2022-01-19T02:53:31.213Z"
   },
   {
    "duration": 8,
    "start_time": "2022-01-19T02:53:31.224Z"
   },
   {
    "duration": 13,
    "start_time": "2022-01-19T02:53:31.234Z"
   },
   {
    "duration": 9,
    "start_time": "2022-01-19T02:53:31.249Z"
   },
   {
    "duration": 6,
    "start_time": "2022-01-19T02:53:31.259Z"
   },
   {
    "duration": 8,
    "start_time": "2022-01-19T02:53:31.267Z"
   },
   {
    "duration": 10,
    "start_time": "2022-01-19T02:53:31.277Z"
   },
   {
    "duration": 9,
    "start_time": "2022-01-19T02:53:31.288Z"
   },
   {
    "duration": 6,
    "start_time": "2022-01-19T02:53:31.299Z"
   },
   {
    "duration": 9,
    "start_time": "2022-01-19T02:53:31.307Z"
   },
   {
    "duration": 16,
    "start_time": "2022-01-19T02:53:31.318Z"
   },
   {
    "duration": 9,
    "start_time": "2022-01-19T02:53:31.336Z"
   },
   {
    "duration": 9,
    "start_time": "2022-01-19T02:53:31.347Z"
   },
   {
    "duration": 10,
    "start_time": "2022-01-19T02:53:31.361Z"
   },
   {
    "duration": 6,
    "start_time": "2022-01-19T02:53:31.373Z"
   },
   {
    "duration": 9,
    "start_time": "2022-01-19T02:53:31.381Z"
   },
   {
    "duration": 11,
    "start_time": "2022-01-19T02:53:31.392Z"
   },
   {
    "duration": 7,
    "start_time": "2022-01-19T02:53:31.405Z"
   },
   {
    "duration": 348,
    "start_time": "2022-01-19T14:40:54.961Z"
   },
   {
    "duration": 1517,
    "start_time": "2022-01-19T14:41:00.304Z"
   },
   {
    "duration": 214,
    "start_time": "2022-01-19T14:41:01.823Z"
   },
   {
    "duration": 4,
    "start_time": "2022-01-19T14:41:02.040Z"
   },
   {
    "duration": 30,
    "start_time": "2022-01-19T14:41:02.047Z"
   },
   {
    "duration": 15,
    "start_time": "2022-01-19T14:41:02.080Z"
   },
   {
    "duration": 9,
    "start_time": "2022-01-19T14:41:02.097Z"
   },
   {
    "duration": 22,
    "start_time": "2022-01-19T14:41:02.107Z"
   },
   {
    "duration": 32,
    "start_time": "2022-01-19T14:41:02.132Z"
   },
   {
    "duration": 18,
    "start_time": "2022-01-19T14:41:02.167Z"
   },
   {
    "duration": 10,
    "start_time": "2022-01-19T14:41:02.187Z"
   },
   {
    "duration": 3,
    "start_time": "2022-01-19T14:41:02.199Z"
   },
   {
    "duration": 8,
    "start_time": "2022-01-19T14:41:02.204Z"
   },
   {
    "duration": 11,
    "start_time": "2022-01-19T14:41:02.214Z"
   },
   {
    "duration": 41,
    "start_time": "2022-01-19T14:41:02.227Z"
   },
   {
    "duration": 40,
    "start_time": "2022-01-19T14:41:02.271Z"
   },
   {
    "duration": 23,
    "start_time": "2022-01-19T14:41:02.313Z"
   },
   {
    "duration": 36,
    "start_time": "2022-01-19T14:41:02.338Z"
   },
   {
    "duration": 35,
    "start_time": "2022-01-19T14:41:02.377Z"
   },
   {
    "duration": 31,
    "start_time": "2022-01-19T14:41:02.415Z"
   },
   {
    "duration": 63,
    "start_time": "2022-01-19T14:41:02.448Z"
   },
   {
    "duration": 36,
    "start_time": "2022-01-19T14:41:02.513Z"
   },
   {
    "duration": 45,
    "start_time": "2022-01-19T14:41:02.551Z"
   },
   {
    "duration": 18,
    "start_time": "2022-01-19T14:41:02.600Z"
   },
   {
    "duration": 18,
    "start_time": "2022-01-19T14:41:02.621Z"
   },
   {
    "duration": 42,
    "start_time": "2022-01-19T14:41:02.641Z"
   },
   {
    "duration": 14,
    "start_time": "2022-01-19T14:41:02.685Z"
   },
   {
    "duration": 23,
    "start_time": "2022-01-19T14:41:02.700Z"
   },
   {
    "duration": 34,
    "start_time": "2022-01-19T14:41:02.725Z"
   },
   {
    "duration": 17,
    "start_time": "2022-01-19T14:41:02.762Z"
   },
   {
    "duration": 4,
    "start_time": "2022-01-19T14:41:02.781Z"
   },
   {
    "duration": 11,
    "start_time": "2022-01-19T14:41:02.787Z"
   },
   {
    "duration": 5,
    "start_time": "2022-01-19T14:41:02.800Z"
   },
   {
    "duration": 10,
    "start_time": "2022-01-19T14:41:02.807Z"
   },
   {
    "duration": 5,
    "start_time": "2022-01-19T14:41:02.819Z"
   },
   {
    "duration": 7,
    "start_time": "2022-01-19T14:41:02.826Z"
   },
   {
    "duration": 6,
    "start_time": "2022-01-19T14:41:02.834Z"
   },
   {
    "duration": 5,
    "start_time": "2022-01-19T14:41:02.842Z"
   },
   {
    "duration": 5,
    "start_time": "2022-01-19T14:41:02.848Z"
   },
   {
    "duration": 10,
    "start_time": "2022-01-19T14:41:02.855Z"
   },
   {
    "duration": 14,
    "start_time": "2022-01-19T14:41:02.867Z"
   },
   {
    "duration": 9,
    "start_time": "2022-01-19T14:41:02.883Z"
   },
   {
    "duration": 5,
    "start_time": "2022-01-19T14:41:02.894Z"
   },
   {
    "duration": 11,
    "start_time": "2022-01-19T14:41:02.900Z"
   },
   {
    "duration": 9,
    "start_time": "2022-01-19T14:41:02.912Z"
   },
   {
    "duration": 5,
    "start_time": "2022-01-19T14:41:02.923Z"
   },
   {
    "duration": 5,
    "start_time": "2022-01-19T14:41:02.929Z"
   },
   {
    "duration": 5,
    "start_time": "2022-01-19T14:41:02.936Z"
   },
   {
    "duration": 11,
    "start_time": "2022-01-19T14:41:02.943Z"
   },
   {
    "duration": 8,
    "start_time": "2022-01-19T14:41:02.956Z"
   },
   {
    "duration": 11,
    "start_time": "2022-01-19T14:41:02.966Z"
   },
   {
    "duration": 5,
    "start_time": "2022-01-19T14:41:02.979Z"
   },
   {
    "duration": 10,
    "start_time": "2022-01-19T14:41:02.986Z"
   },
   {
    "duration": 15,
    "start_time": "2022-01-19T14:41:02.998Z"
   },
   {
    "duration": 5,
    "start_time": "2022-01-19T14:41:03.015Z"
   },
   {
    "duration": 8,
    "start_time": "2022-01-19T14:41:03.022Z"
   },
   {
    "duration": 9,
    "start_time": "2022-01-19T14:41:03.032Z"
   },
   {
    "duration": 7,
    "start_time": "2022-01-19T14:41:03.043Z"
   },
   {
    "duration": 6,
    "start_time": "2022-01-19T14:41:03.052Z"
   },
   {
    "duration": 4,
    "start_time": "2022-01-19T14:41:03.073Z"
   },
   {
    "duration": 8,
    "start_time": "2022-01-19T14:41:03.079Z"
   },
   {
    "duration": 4,
    "start_time": "2022-01-19T14:41:03.089Z"
   },
   {
    "duration": 5,
    "start_time": "2022-01-19T14:41:03.095Z"
   },
   {
    "duration": 6,
    "start_time": "2022-01-19T14:41:03.101Z"
   },
   {
    "duration": 5,
    "start_time": "2022-01-19T14:41:03.109Z"
   },
   {
    "duration": 5,
    "start_time": "2022-01-19T14:41:03.115Z"
   },
   {
    "duration": 5,
    "start_time": "2022-01-19T14:41:03.121Z"
   },
   {
    "duration": 4,
    "start_time": "2022-01-19T14:41:03.128Z"
   },
   {
    "duration": 4,
    "start_time": "2022-01-19T14:41:03.136Z"
   },
   {
    "duration": 19,
    "start_time": "2022-01-19T14:41:03.141Z"
   },
   {
    "duration": 19,
    "start_time": "2022-01-19T14:41:03.170Z"
   },
   {
    "duration": 17,
    "start_time": "2022-01-19T14:41:03.191Z"
   },
   {
    "duration": 22,
    "start_time": "2022-01-19T14:41:03.210Z"
   },
   {
    "duration": 40,
    "start_time": "2022-01-19T15:07:19.833Z"
   },
   {
    "duration": 15,
    "start_time": "2022-01-19T15:07:51.254Z"
   },
   {
    "duration": 36,
    "start_time": "2022-01-19T15:08:00.458Z"
   },
   {
    "duration": 54,
    "start_time": "2022-01-19T15:09:19.190Z"
   },
   {
    "duration": 6,
    "start_time": "2022-01-19T16:19:56.477Z"
   },
   {
    "duration": 5,
    "start_time": "2022-01-19T16:20:08.083Z"
   },
   {
    "duration": 4,
    "start_time": "2022-01-19T16:20:11.841Z"
   },
   {
    "duration": 335,
    "start_time": "2022-01-19T16:20:27.920Z"
   },
   {
    "duration": 4,
    "start_time": "2022-01-19T16:21:54.546Z"
   },
   {
    "duration": 4,
    "start_time": "2022-01-19T16:22:20.356Z"
   },
   {
    "duration": 4,
    "start_time": "2022-01-19T16:22:32.932Z"
   },
   {
    "duration": 244,
    "start_time": "2022-01-19T16:23:37.514Z"
   },
   {
    "duration": 2067,
    "start_time": "2022-01-19T16:23:47.368Z"
   },
   {
    "duration": 13,
    "start_time": "2022-01-19T16:24:12.034Z"
   },
   {
    "duration": 14,
    "start_time": "2022-01-19T16:24:25.740Z"
   },
   {
    "duration": 32,
    "start_time": "2022-01-19T16:26:11.428Z"
   },
   {
    "duration": 71,
    "start_time": "2022-01-19T16:26:24.174Z"
   },
   {
    "duration": 32,
    "start_time": "2022-01-19T16:30:12.740Z"
   },
   {
    "duration": 30,
    "start_time": "2022-01-19T16:32:52.919Z"
   },
   {
    "duration": 37,
    "start_time": "2022-01-19T16:33:31.283Z"
   },
   {
    "duration": 10,
    "start_time": "2022-01-19T16:42:34.818Z"
   },
   {
    "duration": 115,
    "start_time": "2022-01-19T16:43:35.664Z"
   },
   {
    "duration": 88,
    "start_time": "2022-01-19T16:44:24.900Z"
   },
   {
    "duration": 6,
    "start_time": "2022-01-19T16:44:53.224Z"
   },
   {
    "duration": 8,
    "start_time": "2022-01-19T16:49:03.262Z"
   },
   {
    "duration": 89,
    "start_time": "2022-01-19T16:52:21.453Z"
   },
   {
    "duration": 21,
    "start_time": "2022-01-19T16:52:59.406Z"
   },
   {
    "duration": 82,
    "start_time": "2022-01-19T17:00:17.668Z"
   },
   {
    "duration": 10,
    "start_time": "2022-01-19T17:00:28.893Z"
   },
   {
    "duration": 11,
    "start_time": "2022-01-19T17:01:14.781Z"
   },
   {
    "duration": 7,
    "start_time": "2022-01-19T17:01:38.286Z"
   },
   {
    "duration": 10,
    "start_time": "2022-01-19T17:09:02.657Z"
   },
   {
    "duration": 82,
    "start_time": "2022-01-19T17:42:51.821Z"
   },
   {
    "duration": 338,
    "start_time": "2022-01-20T01:02:07.286Z"
   },
   {
    "duration": 2,
    "start_time": "2022-01-20T01:02:11.691Z"
   },
   {
    "duration": 1061,
    "start_time": "2022-01-20T01:02:15.876Z"
   },
   {
    "duration": 176,
    "start_time": "2022-01-20T01:02:16.939Z"
   },
   {
    "duration": 4,
    "start_time": "2022-01-20T01:02:17.118Z"
   },
   {
    "duration": 12,
    "start_time": "2022-01-20T01:02:17.124Z"
   },
   {
    "duration": 11,
    "start_time": "2022-01-20T01:02:17.138Z"
   },
   {
    "duration": 29,
    "start_time": "2022-01-20T01:02:17.151Z"
   },
   {
    "duration": 54,
    "start_time": "2022-01-20T01:02:17.182Z"
   },
   {
    "duration": 7,
    "start_time": "2022-01-20T01:02:17.239Z"
   },
   {
    "duration": 19,
    "start_time": "2022-01-20T01:02:17.248Z"
   },
   {
    "duration": 10,
    "start_time": "2022-01-20T01:02:17.269Z"
   },
   {
    "duration": 11,
    "start_time": "2022-01-20T01:02:17.280Z"
   },
   {
    "duration": 37,
    "start_time": "2022-01-20T01:02:17.292Z"
   },
   {
    "duration": 2,
    "start_time": "2022-01-20T01:02:17.331Z"
   },
   {
    "duration": 4,
    "start_time": "2022-01-20T01:02:17.335Z"
   },
   {
    "duration": 6,
    "start_time": "2022-01-20T01:02:17.341Z"
   },
   {
    "duration": 10,
    "start_time": "2022-01-20T01:02:17.349Z"
   },
   {
    "duration": 6,
    "start_time": "2022-01-20T01:02:17.360Z"
   },
   {
    "duration": 6,
    "start_time": "2022-01-20T01:02:17.368Z"
   },
   {
    "duration": 1302,
    "start_time": "2022-01-20T01:02:17.375Z"
   },
   {
    "duration": -1483,
    "start_time": "2022-01-20T01:02:20.165Z"
   },
   {
    "duration": -1490,
    "start_time": "2022-01-20T01:02:20.173Z"
   },
   {
    "duration": -1494,
    "start_time": "2022-01-20T01:02:20.178Z"
   },
   {
    "duration": -1505,
    "start_time": "2022-01-20T01:02:20.191Z"
   },
   {
    "duration": -1512,
    "start_time": "2022-01-20T01:02:20.199Z"
   },
   {
    "duration": -1513,
    "start_time": "2022-01-20T01:02:20.201Z"
   },
   {
    "duration": -1527,
    "start_time": "2022-01-20T01:02:20.217Z"
   },
   {
    "duration": -1629,
    "start_time": "2022-01-20T01:02:20.320Z"
   },
   {
    "duration": -1791,
    "start_time": "2022-01-20T01:02:20.483Z"
   },
   {
    "duration": -1791,
    "start_time": "2022-01-20T01:02:20.485Z"
   },
   {
    "duration": -1793,
    "start_time": "2022-01-20T01:02:20.488Z"
   },
   {
    "duration": -1797,
    "start_time": "2022-01-20T01:02:20.493Z"
   },
   {
    "duration": -1808,
    "start_time": "2022-01-20T01:02:20.505Z"
   },
   {
    "duration": -1817,
    "start_time": "2022-01-20T01:02:20.516Z"
   },
   {
    "duration": -1819,
    "start_time": "2022-01-20T01:02:20.519Z"
   },
   {
    "duration": -1820,
    "start_time": "2022-01-20T01:02:20.521Z"
   },
   {
    "duration": -1832,
    "start_time": "2022-01-20T01:02:20.535Z"
   },
   {
    "duration": -1834,
    "start_time": "2022-01-20T01:02:20.538Z"
   },
   {
    "duration": -1845,
    "start_time": "2022-01-20T01:02:20.550Z"
   },
   {
    "duration": -1847,
    "start_time": "2022-01-20T01:02:20.553Z"
   },
   {
    "duration": -1852,
    "start_time": "2022-01-20T01:02:20.560Z"
   },
   {
    "duration": -1860,
    "start_time": "2022-01-20T01:02:20.569Z"
   },
   {
    "duration": -1866,
    "start_time": "2022-01-20T01:02:20.576Z"
   },
   {
    "duration": -1867,
    "start_time": "2022-01-20T01:02:20.579Z"
   },
   {
    "duration": -1869,
    "start_time": "2022-01-20T01:02:20.582Z"
   },
   {
    "duration": -1870,
    "start_time": "2022-01-20T01:02:20.584Z"
   },
   {
    "duration": -1872,
    "start_time": "2022-01-20T01:02:20.588Z"
   },
   {
    "duration": -1876,
    "start_time": "2022-01-20T01:02:20.593Z"
   },
   {
    "duration": -1893,
    "start_time": "2022-01-20T01:02:20.611Z"
   },
   {
    "duration": -1931,
    "start_time": "2022-01-20T01:02:20.651Z"
   },
   {
    "duration": -1934,
    "start_time": "2022-01-20T01:02:20.654Z"
   },
   {
    "duration": -2030,
    "start_time": "2022-01-20T01:02:20.751Z"
   },
   {
    "duration": -2028,
    "start_time": "2022-01-20T01:02:20.754Z"
   },
   {
    "duration": -2116,
    "start_time": "2022-01-20T01:02:20.844Z"
   },
   {
    "duration": -2118,
    "start_time": "2022-01-20T01:02:20.847Z"
   },
   {
    "duration": -2134,
    "start_time": "2022-01-20T01:02:20.864Z"
   },
   {
    "duration": -2138,
    "start_time": "2022-01-20T01:02:20.870Z"
   },
   {
    "duration": -2140,
    "start_time": "2022-01-20T01:02:20.873Z"
   },
   {
    "duration": -2141,
    "start_time": "2022-01-20T01:02:20.876Z"
   },
   {
    "duration": -2143,
    "start_time": "2022-01-20T01:02:20.879Z"
   },
   {
    "duration": -2145,
    "start_time": "2022-01-20T01:02:20.882Z"
   },
   {
    "duration": -2147,
    "start_time": "2022-01-20T01:02:20.885Z"
   },
   {
    "duration": -2149,
    "start_time": "2022-01-20T01:02:20.889Z"
   },
   {
    "duration": -2150,
    "start_time": "2022-01-20T01:02:20.891Z"
   },
   {
    "duration": -2152,
    "start_time": "2022-01-20T01:02:20.894Z"
   },
   {
    "duration": -2153,
    "start_time": "2022-01-20T01:02:20.896Z"
   },
   {
    "duration": -2154,
    "start_time": "2022-01-20T01:02:20.899Z"
   },
   {
    "duration": -2197,
    "start_time": "2022-01-20T01:02:20.943Z"
   },
   {
    "duration": -2205,
    "start_time": "2022-01-20T01:02:20.952Z"
   },
   {
    "duration": -2237,
    "start_time": "2022-01-20T01:02:20.986Z"
   },
   {
    "duration": -2242,
    "start_time": "2022-01-20T01:02:20.992Z"
   },
   {
    "duration": -2243,
    "start_time": "2022-01-20T01:02:20.994Z"
   },
   {
    "duration": -2245,
    "start_time": "2022-01-20T01:02:20.997Z"
   },
   {
    "duration": -2246,
    "start_time": "2022-01-20T01:02:20.999Z"
   },
   {
    "duration": -2247,
    "start_time": "2022-01-20T01:02:21.002Z"
   },
   {
    "duration": 10,
    "start_time": "2022-01-20T01:08:35.952Z"
   },
   {
    "duration": 6,
    "start_time": "2022-01-20T01:09:27.582Z"
   },
   {
    "duration": 7,
    "start_time": "2022-01-20T01:14:09.202Z"
   },
   {
    "duration": 6,
    "start_time": "2022-01-20T01:26:17.071Z"
   },
   {
    "duration": 4,
    "start_time": "2022-01-20T01:29:57.899Z"
   },
   {
    "duration": 4,
    "start_time": "2022-01-20T01:30:17.173Z"
   },
   {
    "duration": 3,
    "start_time": "2022-01-20T01:35:52.066Z"
   },
   {
    "duration": 4,
    "start_time": "2022-01-20T01:35:55.155Z"
   },
   {
    "duration": 5,
    "start_time": "2022-01-20T01:36:06.834Z"
   },
   {
    "duration": 116,
    "start_time": "2022-01-20T01:36:54.712Z"
   },
   {
    "duration": 1426,
    "start_time": "2022-01-20T01:38:39.601Z"
   },
   {
    "duration": 10,
    "start_time": "2022-01-20T01:39:11.526Z"
   },
   {
    "duration": 1500,
    "start_time": "2022-01-20T01:41:33.314Z"
   },
   {
    "duration": 2065,
    "start_time": "2022-01-20T01:41:46.407Z"
   },
   {
    "duration": 2,
    "start_time": "2022-01-20T01:42:22.964Z"
   },
   {
    "duration": 106,
    "start_time": "2022-01-20T02:01:26.331Z"
   },
   {
    "duration": 21,
    "start_time": "2022-01-20T02:01:58.003Z"
   },
   {
    "duration": 12,
    "start_time": "2022-01-20T02:02:55.324Z"
   },
   {
    "duration": 20,
    "start_time": "2022-01-20T02:03:36.319Z"
   },
   {
    "duration": 6,
    "start_time": "2022-01-20T02:04:32.985Z"
   },
   {
    "duration": 7,
    "start_time": "2022-01-20T02:05:34.153Z"
   },
   {
    "duration": 8,
    "start_time": "2022-01-20T02:05:54.715Z"
   },
   {
    "duration": 8,
    "start_time": "2022-01-20T02:34:29.063Z"
   },
   {
    "duration": 10,
    "start_time": "2022-01-20T02:35:17.746Z"
   },
   {
    "duration": 8,
    "start_time": "2022-01-20T02:35:48.295Z"
   },
   {
    "duration": 4,
    "start_time": "2022-01-20T02:42:02.264Z"
   },
   {
    "duration": 7,
    "start_time": "2022-01-20T02:42:27.409Z"
   },
   {
    "duration": 6,
    "start_time": "2022-01-20T02:43:26.281Z"
   },
   {
    "duration": 10,
    "start_time": "2022-01-20T02:43:54.403Z"
   },
   {
    "duration": 4,
    "start_time": "2022-01-20T02:49:34.453Z"
   },
   {
    "duration": 6,
    "start_time": "2022-01-20T02:49:44.775Z"
   },
   {
    "duration": 15,
    "start_time": "2022-01-20T02:52:36.712Z"
   },
   {
    "duration": 12,
    "start_time": "2022-01-20T02:52:47.365Z"
   },
   {
    "duration": 7,
    "start_time": "2022-01-20T02:53:04.779Z"
   },
   {
    "duration": 13,
    "start_time": "2022-01-20T02:54:49.175Z"
   },
   {
    "duration": 6,
    "start_time": "2022-01-20T02:56:40.531Z"
   },
   {
    "duration": 323,
    "start_time": "2022-01-20T03:01:12.115Z"
   },
   {
    "duration": 372,
    "start_time": "2022-01-20T03:01:24.940Z"
   },
   {
    "duration": 16,
    "start_time": "2022-01-20T03:03:43.059Z"
   },
   {
    "duration": 8,
    "start_time": "2022-01-20T03:05:03.607Z"
   },
   {
    "duration": 7,
    "start_time": "2022-01-20T03:05:29.476Z"
   },
   {
    "duration": 15,
    "start_time": "2022-01-20T03:14:15.123Z"
   },
   {
    "duration": 13,
    "start_time": "2022-01-20T03:14:41.300Z"
   },
   {
    "duration": 7,
    "start_time": "2022-01-20T03:16:48.941Z"
   },
   {
    "duration": 16,
    "start_time": "2022-01-20T03:23:02.347Z"
   },
   {
    "duration": 13,
    "start_time": "2022-01-20T03:23:20.741Z"
   },
   {
    "duration": 3,
    "start_time": "2022-01-20T03:23:37.863Z"
   },
   {
    "duration": 477,
    "start_time": "2022-01-20T06:13:21.945Z"
   },
   {
    "duration": 208,
    "start_time": "2022-01-20T06:13:28.511Z"
   },
   {
    "duration": 1081,
    "start_time": "2022-01-20T06:13:33.193Z"
   },
   {
    "duration": 341,
    "start_time": "2022-01-20T06:13:34.276Z"
   },
   {
    "duration": 4,
    "start_time": "2022-01-20T06:13:34.619Z"
   },
   {
    "duration": 12,
    "start_time": "2022-01-20T06:13:34.625Z"
   },
   {
    "duration": 11,
    "start_time": "2022-01-20T06:13:34.639Z"
   },
   {
    "duration": 29,
    "start_time": "2022-01-20T06:13:34.652Z"
   },
   {
    "duration": 54,
    "start_time": "2022-01-20T06:13:34.682Z"
   },
   {
    "duration": 6,
    "start_time": "2022-01-20T06:13:34.739Z"
   },
   {
    "duration": 19,
    "start_time": "2022-01-20T06:13:34.747Z"
   },
   {
    "duration": 9,
    "start_time": "2022-01-20T06:13:34.768Z"
   },
   {
    "duration": 39,
    "start_time": "2022-01-20T06:13:34.779Z"
   },
   {
    "duration": 8,
    "start_time": "2022-01-20T06:13:34.819Z"
   },
   {
    "duration": 2,
    "start_time": "2022-01-20T06:13:34.828Z"
   },
   {
    "duration": 4,
    "start_time": "2022-01-20T06:13:34.831Z"
   },
   {
    "duration": 6,
    "start_time": "2022-01-20T06:13:34.837Z"
   },
   {
    "duration": 9,
    "start_time": "2022-01-20T06:13:34.844Z"
   },
   {
    "duration": 6,
    "start_time": "2022-01-20T06:13:34.855Z"
   },
   {
    "duration": 8,
    "start_time": "2022-01-20T06:13:34.862Z"
   },
   {
    "duration": 41,
    "start_time": "2022-01-20T06:13:34.871Z"
   },
   {
    "duration": 8,
    "start_time": "2022-01-20T06:13:34.913Z"
   },
   {
    "duration": 6,
    "start_time": "2022-01-20T06:13:34.923Z"
   },
   {
    "duration": 6,
    "start_time": "2022-01-20T06:13:34.930Z"
   },
   {
    "duration": 19,
    "start_time": "2022-01-20T06:13:34.939Z"
   },
   {
    "duration": 2,
    "start_time": "2022-01-20T06:13:34.960Z"
   },
   {
    "duration": 7,
    "start_time": "2022-01-20T06:13:34.963Z"
   },
   {
    "duration": 3,
    "start_time": "2022-01-20T06:13:34.972Z"
   },
   {
    "duration": 37,
    "start_time": "2022-01-20T06:13:34.976Z"
   },
   {
    "duration": 9,
    "start_time": "2022-01-20T06:13:35.014Z"
   },
   {
    "duration": 5,
    "start_time": "2022-01-20T06:13:35.025Z"
   },
   {
    "duration": 8,
    "start_time": "2022-01-20T06:13:35.031Z"
   },
   {
    "duration": 7,
    "start_time": "2022-01-20T06:13:35.040Z"
   },
   {
    "duration": 5,
    "start_time": "2022-01-20T06:13:35.048Z"
   },
   {
    "duration": 10,
    "start_time": "2022-01-20T06:13:35.054Z"
   },
   {
    "duration": 9,
    "start_time": "2022-01-20T06:13:35.066Z"
   },
   {
    "duration": 2,
    "start_time": "2022-01-20T06:13:35.076Z"
   },
   {
    "duration": 32,
    "start_time": "2022-01-20T06:13:35.080Z"
   },
   {
    "duration": 16,
    "start_time": "2022-01-20T06:13:35.114Z"
   },
   {
    "duration": 14,
    "start_time": "2022-01-20T06:13:35.131Z"
   },
   {
    "duration": 12,
    "start_time": "2022-01-20T06:13:35.146Z"
   },
   {
    "duration": 3,
    "start_time": "2022-01-20T06:13:35.160Z"
   },
   {
    "duration": 55,
    "start_time": "2022-01-20T06:13:35.164Z"
   },
   {
    "duration": 2,
    "start_time": "2022-01-20T06:13:35.221Z"
   },
   {
    "duration": 4,
    "start_time": "2022-01-20T06:13:35.225Z"
   },
   {
    "duration": 10,
    "start_time": "2022-01-20T06:13:35.230Z"
   },
   {
    "duration": 7,
    "start_time": "2022-01-20T06:13:35.241Z"
   },
   {
    "duration": 8,
    "start_time": "2022-01-20T06:13:35.250Z"
   },
   {
    "duration": 6,
    "start_time": "2022-01-20T06:13:35.259Z"
   },
   {
    "duration": 8,
    "start_time": "2022-01-20T06:13:35.266Z"
   },
   {
    "duration": 4,
    "start_time": "2022-01-20T06:13:35.275Z"
   },
   {
    "duration": 4,
    "start_time": "2022-01-20T06:13:35.280Z"
   },
   {
    "duration": 4,
    "start_time": "2022-01-20T06:13:35.286Z"
   },
   {
    "duration": 23,
    "start_time": "2022-01-20T06:13:35.291Z"
   },
   {
    "duration": 4,
    "start_time": "2022-01-20T06:13:35.315Z"
   },
   {
    "duration": 4,
    "start_time": "2022-01-20T06:13:35.320Z"
   },
   {
    "duration": 4,
    "start_time": "2022-01-20T06:13:35.325Z"
   },
   {
    "duration": 4,
    "start_time": "2022-01-20T06:13:35.330Z"
   },
   {
    "duration": 4,
    "start_time": "2022-01-20T06:13:35.335Z"
   },
   {
    "duration": 4,
    "start_time": "2022-01-20T06:13:35.340Z"
   },
   {
    "duration": 6,
    "start_time": "2022-01-20T06:13:35.345Z"
   },
   {
    "duration": 3,
    "start_time": "2022-01-20T06:13:35.353Z"
   },
   {
    "duration": 4,
    "start_time": "2022-01-20T06:13:35.358Z"
   },
   {
    "duration": 4,
    "start_time": "2022-01-20T06:13:35.363Z"
   },
   {
    "duration": 43,
    "start_time": "2022-01-20T06:13:35.369Z"
   },
   {
    "duration": 2,
    "start_time": "2022-01-20T06:13:35.413Z"
   },
   {
    "duration": 5,
    "start_time": "2022-01-20T06:13:35.416Z"
   },
   {
    "duration": 4,
    "start_time": "2022-01-20T06:13:35.423Z"
   },
   {
    "duration": 5,
    "start_time": "2022-01-20T06:13:35.428Z"
   },
   {
    "duration": 2,
    "start_time": "2022-01-20T06:13:35.437Z"
   },
   {
    "duration": 4,
    "start_time": "2022-01-20T06:13:35.441Z"
   },
   {
    "duration": 5,
    "start_time": "2022-01-20T06:13:35.446Z"
   },
   {
    "duration": 4,
    "start_time": "2022-01-20T06:13:35.452Z"
   },
   {
    "duration": 4,
    "start_time": "2022-01-20T06:13:35.458Z"
   },
   {
    "duration": 4,
    "start_time": "2022-01-20T06:13:35.463Z"
   },
   {
    "duration": 4,
    "start_time": "2022-01-20T06:13:35.468Z"
   },
   {
    "duration": 6,
    "start_time": "2022-01-20T06:13:35.473Z"
   },
   {
    "duration": 2,
    "start_time": "2022-01-20T06:17:29.855Z"
   },
   {
    "duration": 5,
    "start_time": "2022-01-20T06:17:42.303Z"
   },
   {
    "duration": 253,
    "start_time": "2022-01-20T06:20:25.783Z"
   },
   {
    "duration": 59,
    "start_time": "2022-01-20T06:20:33.680Z"
   },
   {
    "duration": 113,
    "start_time": "2022-01-20T06:20:50.908Z"
   },
   {
    "duration": 2,
    "start_time": "2022-01-20T06:26:35.332Z"
   },
   {
    "duration": 20,
    "start_time": "2022-01-20T06:28:10.612Z"
   },
   {
    "duration": 2,
    "start_time": "2022-01-20T06:29:51.557Z"
   },
   {
    "duration": 4,
    "start_time": "2022-01-20T06:30:32.948Z"
   },
   {
    "duration": 5,
    "start_time": "2022-01-20T06:30:40.252Z"
   },
   {
    "duration": 68,
    "start_time": "2022-01-20T06:31:59.904Z"
   },
   {
    "duration": 198,
    "start_time": "2022-01-20T06:32:38.193Z"
   },
   {
    "duration": 202,
    "start_time": "2022-01-20T06:32:53.909Z"
   },
   {
    "duration": 209,
    "start_time": "2022-01-20T06:33:22.879Z"
   },
   {
    "duration": 206,
    "start_time": "2022-01-20T06:33:30.843Z"
   },
   {
    "duration": 193,
    "start_time": "2022-01-20T06:33:37.455Z"
   },
   {
    "duration": 184,
    "start_time": "2022-01-20T06:33:45.446Z"
   },
   {
    "duration": 191,
    "start_time": "2022-01-20T06:33:58.339Z"
   },
   {
    "duration": 24,
    "start_time": "2022-01-20T06:42:47.737Z"
   },
   {
    "duration": 188,
    "start_time": "2022-01-20T07:06:12.871Z"
   },
   {
    "duration": 225,
    "start_time": "2022-01-20T07:06:24.832Z"
   },
   {
    "duration": 3,
    "start_time": "2022-01-20T07:06:34.883Z"
   },
   {
    "duration": 6,
    "start_time": "2022-01-20T07:06:55.915Z"
   },
   {
    "duration": 18,
    "start_time": "2022-01-20T07:08:15.177Z"
   },
   {
    "duration": 205,
    "start_time": "2022-01-20T07:13:57.437Z"
   },
   {
    "duration": 3908,
    "start_time": "2022-01-20T07:14:07.918Z"
   },
   {
    "duration": 21,
    "start_time": "2022-01-20T07:14:55.112Z"
   },
   {
    "duration": 71,
    "start_time": "2022-01-20T07:16:06.195Z"
   },
   {
    "duration": 6,
    "start_time": "2022-01-20T07:16:26.326Z"
   },
   {
    "duration": 16,
    "start_time": "2022-01-20T07:19:16.191Z"
   },
   {
    "duration": 23,
    "start_time": "2022-01-20T07:19:47.537Z"
   },
   {
    "duration": 5,
    "start_time": "2022-01-20T07:23:34.965Z"
   },
   {
    "duration": 62,
    "start_time": "2022-01-20T07:24:53.652Z"
   },
   {
    "duration": 17,
    "start_time": "2022-01-20T07:25:03.847Z"
   },
   {
    "duration": 206,
    "start_time": "2022-01-20T07:25:40.370Z"
   },
   {
    "duration": 7,
    "start_time": "2022-01-20T07:26:00.568Z"
   },
   {
    "duration": 6,
    "start_time": "2022-01-20T07:26:28.908Z"
   },
   {
    "duration": 8,
    "start_time": "2022-01-20T07:27:47.558Z"
   },
   {
    "duration": 5,
    "start_time": "2022-01-20T07:27:57.442Z"
   },
   {
    "duration": 7,
    "start_time": "2022-01-20T07:28:11.746Z"
   },
   {
    "duration": 5,
    "start_time": "2022-01-20T07:31:09.164Z"
   },
   {
    "duration": 6,
    "start_time": "2022-01-20T07:31:24.780Z"
   },
   {
    "duration": 6,
    "start_time": "2022-01-20T07:40:08.960Z"
   },
   {
    "duration": 6,
    "start_time": "2022-01-20T07:40:22.276Z"
   },
   {
    "duration": 337,
    "start_time": "2022-01-20T07:42:04.954Z"
   },
   {
    "duration": 21,
    "start_time": "2022-01-20T07:46:57.852Z"
   },
   {
    "duration": 22,
    "start_time": "2022-01-20T07:47:09.279Z"
   },
   {
    "duration": 6,
    "start_time": "2022-01-20T07:47:45.120Z"
   },
   {
    "duration": 22,
    "start_time": "2022-01-20T07:49:08.893Z"
   },
   {
    "duration": 6,
    "start_time": "2022-01-20T07:49:28.626Z"
   },
   {
    "duration": 2,
    "start_time": "2022-01-20T07:54:37.288Z"
   },
   {
    "duration": 6,
    "start_time": "2022-01-20T07:55:33.802Z"
   },
   {
    "duration": 192,
    "start_time": "2022-01-20T07:57:25.086Z"
   },
   {
    "duration": 7,
    "start_time": "2022-01-20T08:03:13.079Z"
   },
   {
    "duration": 7,
    "start_time": "2022-01-20T08:03:19.669Z"
   },
   {
    "duration": 6,
    "start_time": "2022-01-20T08:03:25.597Z"
   },
   {
    "duration": 4,
    "start_time": "2022-01-20T08:05:02.063Z"
   },
   {
    "duration": 5,
    "start_time": "2022-01-20T08:05:37.347Z"
   },
   {
    "duration": 178,
    "start_time": "2022-01-20T08:05:37.354Z"
   },
   {
    "duration": 3,
    "start_time": "2022-01-20T08:05:37.534Z"
   },
   {
    "duration": 12,
    "start_time": "2022-01-20T08:05:37.538Z"
   },
   {
    "duration": 9,
    "start_time": "2022-01-20T08:05:37.552Z"
   },
   {
    "duration": 26,
    "start_time": "2022-01-20T08:05:37.563Z"
   },
   {
    "duration": 30,
    "start_time": "2022-01-20T08:05:37.612Z"
   },
   {
    "duration": 16,
    "start_time": "2022-01-20T08:05:37.643Z"
   },
   {
    "duration": 18,
    "start_time": "2022-01-20T08:05:37.661Z"
   },
   {
    "duration": 8,
    "start_time": "2022-01-20T08:05:37.680Z"
   },
   {
    "duration": 25,
    "start_time": "2022-01-20T08:05:37.690Z"
   },
   {
    "duration": 8,
    "start_time": "2022-01-20T08:05:37.716Z"
   },
   {
    "duration": 2,
    "start_time": "2022-01-20T08:05:37.726Z"
   },
   {
    "duration": 8,
    "start_time": "2022-01-20T08:05:37.729Z"
   },
   {
    "duration": 8,
    "start_time": "2022-01-20T08:05:37.738Z"
   },
   {
    "duration": 12,
    "start_time": "2022-01-20T08:05:37.747Z"
   },
   {
    "duration": 6,
    "start_time": "2022-01-20T08:05:37.761Z"
   },
   {
    "duration": 8,
    "start_time": "2022-01-20T08:05:37.768Z"
   },
   {
    "duration": 4,
    "start_time": "2022-01-20T08:05:37.780Z"
   },
   {
    "duration": 8,
    "start_time": "2022-01-20T08:05:37.812Z"
   },
   {
    "duration": 5,
    "start_time": "2022-01-20T08:05:37.821Z"
   },
   {
    "duration": 8,
    "start_time": "2022-01-20T08:05:37.827Z"
   },
   {
    "duration": 18,
    "start_time": "2022-01-20T08:05:37.836Z"
   },
   {
    "duration": 2,
    "start_time": "2022-01-20T08:05:37.856Z"
   },
   {
    "duration": 8,
    "start_time": "2022-01-20T08:05:37.859Z"
   },
   {
    "duration": 4,
    "start_time": "2022-01-20T08:05:37.868Z"
   },
   {
    "duration": 40,
    "start_time": "2022-01-20T08:05:37.874Z"
   },
   {
    "duration": 6,
    "start_time": "2022-01-20T08:05:37.915Z"
   },
   {
    "duration": 6,
    "start_time": "2022-01-20T08:05:37.923Z"
   },
   {
    "duration": 13,
    "start_time": "2022-01-20T08:05:37.931Z"
   },
   {
    "duration": 7,
    "start_time": "2022-01-20T08:05:37.946Z"
   },
   {
    "duration": 10,
    "start_time": "2022-01-20T08:05:37.954Z"
   },
   {
    "duration": 5,
    "start_time": "2022-01-20T08:05:37.966Z"
   },
   {
    "duration": 16,
    "start_time": "2022-01-20T08:05:37.972Z"
   },
   {
    "duration": 8,
    "start_time": "2022-01-20T08:05:37.990Z"
   },
   {
    "duration": 3,
    "start_time": "2022-01-20T08:05:38.012Z"
   },
   {
    "duration": 9,
    "start_time": "2022-01-20T08:05:38.016Z"
   },
   {
    "duration": 16,
    "start_time": "2022-01-20T08:05:38.027Z"
   },
   {
    "duration": 16,
    "start_time": "2022-01-20T08:05:38.045Z"
   },
   {
    "duration": 11,
    "start_time": "2022-01-20T08:05:38.063Z"
   },
   {
    "duration": 3,
    "start_time": "2022-01-20T08:05:38.076Z"
   },
   {
    "duration": 42,
    "start_time": "2022-01-20T08:05:38.080Z"
   },
   {
    "duration": 83,
    "start_time": "2022-01-20T08:05:38.124Z"
   },
   {
    "duration": -2007,
    "start_time": "2022-01-20T08:05:40.215Z"
   },
   {
    "duration": -2008,
    "start_time": "2022-01-20T08:05:40.217Z"
   },
   {
    "duration": -2010,
    "start_time": "2022-01-20T08:05:40.220Z"
   },
   {
    "duration": -2012,
    "start_time": "2022-01-20T08:05:40.223Z"
   },
   {
    "duration": -2013,
    "start_time": "2022-01-20T08:05:40.225Z"
   },
   {
    "duration": -2016,
    "start_time": "2022-01-20T08:05:40.229Z"
   },
   {
    "duration": -2018,
    "start_time": "2022-01-20T08:05:40.231Z"
   },
   {
    "duration": -2021,
    "start_time": "2022-01-20T08:05:40.235Z"
   },
   {
    "duration": -2022,
    "start_time": "2022-01-20T08:05:40.237Z"
   },
   {
    "duration": -2025,
    "start_time": "2022-01-20T08:05:40.241Z"
   },
   {
    "duration": -2051,
    "start_time": "2022-01-20T08:05:40.268Z"
   },
   {
    "duration": -2056,
    "start_time": "2022-01-20T08:05:40.274Z"
   },
   {
    "duration": -2064,
    "start_time": "2022-01-20T08:05:40.282Z"
   },
   {
    "duration": -2066,
    "start_time": "2022-01-20T08:05:40.285Z"
   },
   {
    "duration": -2069,
    "start_time": "2022-01-20T08:05:40.290Z"
   },
   {
    "duration": -2077,
    "start_time": "2022-01-20T08:05:40.299Z"
   },
   {
    "duration": -2080,
    "start_time": "2022-01-20T08:05:40.302Z"
   },
   {
    "duration": -2084,
    "start_time": "2022-01-20T08:05:40.307Z"
   },
   {
    "duration": -2092,
    "start_time": "2022-01-20T08:05:40.316Z"
   },
   {
    "duration": -2111,
    "start_time": "2022-01-20T08:05:40.336Z"
   },
   {
    "duration": -2141,
    "start_time": "2022-01-20T08:05:40.367Z"
   },
   {
    "duration": -2171,
    "start_time": "2022-01-20T08:05:40.397Z"
   },
   {
    "duration": -2172,
    "start_time": "2022-01-20T08:05:40.399Z"
   },
   {
    "duration": -2175,
    "start_time": "2022-01-20T08:05:40.403Z"
   },
   {
    "duration": -2177,
    "start_time": "2022-01-20T08:05:40.406Z"
   },
   {
    "duration": -2192,
    "start_time": "2022-01-20T08:05:40.422Z"
   },
   {
    "duration": -2196,
    "start_time": "2022-01-20T08:05:40.427Z"
   },
   {
    "duration": -2200,
    "start_time": "2022-01-20T08:05:40.431Z"
   },
   {
    "duration": -2201,
    "start_time": "2022-01-20T08:05:40.433Z"
   },
   {
    "duration": -2203,
    "start_time": "2022-01-20T08:05:40.436Z"
   },
   {
    "duration": -2203,
    "start_time": "2022-01-20T08:05:40.438Z"
   },
   {
    "duration": -2205,
    "start_time": "2022-01-20T08:05:40.441Z"
   },
   {
    "duration": -2206,
    "start_time": "2022-01-20T08:05:40.443Z"
   },
   {
    "duration": 3,
    "start_time": "2022-01-20T08:06:23.585Z"
   },
   {
    "duration": 7,
    "start_time": "2022-01-20T08:06:27.019Z"
   },
   {
    "duration": 6,
    "start_time": "2022-01-20T08:10:08.130Z"
   },
   {
    "duration": 6,
    "start_time": "2022-01-20T08:10:19.561Z"
   },
   {
    "duration": 11,
    "start_time": "2022-01-20T08:10:51.081Z"
   },
   {
    "duration": 7,
    "start_time": "2022-01-20T08:10:58.455Z"
   },
   {
    "duration": 7,
    "start_time": "2022-01-20T08:11:03.093Z"
   },
   {
    "duration": 5,
    "start_time": "2022-01-20T08:13:30.493Z"
   },
   {
    "duration": 5,
    "start_time": "2022-01-20T08:13:52.511Z"
   },
   {
    "duration": 6,
    "start_time": "2022-01-20T08:24:28.793Z"
   },
   {
    "duration": 215,
    "start_time": "2022-01-20T08:25:01.786Z"
   },
   {
    "duration": 214,
    "start_time": "2022-01-20T08:25:11.669Z"
   },
   {
    "duration": 7,
    "start_time": "2022-01-20T08:25:48.323Z"
   },
   {
    "duration": 7,
    "start_time": "2022-01-20T08:26:14.583Z"
   },
   {
    "duration": 60,
    "start_time": "2022-01-20T08:27:40.113Z"
   },
   {
    "duration": 211,
    "start_time": "2022-01-20T08:27:51.963Z"
   },
   {
    "duration": 72,
    "start_time": "2022-01-20T08:28:13.726Z"
   },
   {
    "duration": 17,
    "start_time": "2022-01-20T08:28:20.479Z"
   },
   {
    "duration": 6,
    "start_time": "2022-01-20T08:29:18.889Z"
   },
   {
    "duration": 112,
    "start_time": "2022-01-20T08:33:24.065Z"
   },
   {
    "duration": 69,
    "start_time": "2022-01-20T08:33:42.629Z"
   },
   {
    "duration": 3,
    "start_time": "2022-01-20T08:33:57.872Z"
   },
   {
    "duration": 4,
    "start_time": "2022-01-20T08:34:33.031Z"
   },
   {
    "duration": 4,
    "start_time": "2022-01-20T08:34:55.786Z"
   },
   {
    "duration": 3,
    "start_time": "2022-01-20T08:35:43.018Z"
   },
   {
    "duration": 2,
    "start_time": "2022-01-20T08:41:05.312Z"
   },
   {
    "duration": 4937,
    "start_time": "2022-01-20T08:50:08.176Z"
   },
   {
    "duration": 15,
    "start_time": "2022-01-20T08:50:56.793Z"
   },
   {
    "duration": 19,
    "start_time": "2022-01-20T08:51:34.860Z"
   },
   {
    "duration": 4,
    "start_time": "2022-01-20T08:51:56.010Z"
   },
   {
    "duration": 17,
    "start_time": "2022-01-20T08:52:02.494Z"
   },
   {
    "duration": 13,
    "start_time": "2022-01-20T08:52:42.155Z"
   },
   {
    "duration": 9,
    "start_time": "2022-01-20T08:52:55.573Z"
   },
   {
    "duration": 188,
    "start_time": "2022-01-20T09:07:31.547Z"
   },
   {
    "duration": 61,
    "start_time": "2022-01-20T09:08:15.692Z"
   },
   {
    "duration": 364,
    "start_time": "2022-01-20T09:08:21.448Z"
   },
   {
    "duration": 2,
    "start_time": "2022-01-20T09:11:03.612Z"
   },
   {
    "duration": 11,
    "start_time": "2022-01-20T09:48:51.921Z"
   },
   {
    "duration": 185,
    "start_time": "2022-01-20T09:49:11.161Z"
   },
   {
    "duration": 11,
    "start_time": "2022-01-20T09:49:44.235Z"
   },
   {
    "duration": 2,
    "start_time": "2022-01-20T09:50:27.391Z"
   },
   {
    "duration": 3,
    "start_time": "2022-01-20T09:52:23.266Z"
   },
   {
    "duration": 3,
    "start_time": "2022-01-20T09:52:40.999Z"
   },
   {
    "duration": 2,
    "start_time": "2022-01-20T09:53:38.061Z"
   },
   {
    "duration": 5,
    "start_time": "2022-01-20T09:53:41.347Z"
   },
   {
    "duration": 3,
    "start_time": "2022-01-20T09:55:59.545Z"
   },
   {
    "duration": 3,
    "start_time": "2022-01-20T09:56:11.619Z"
   },
   {
    "duration": 4,
    "start_time": "2022-01-20T09:56:40.431Z"
   },
   {
    "duration": 4,
    "start_time": "2022-01-20T09:58:44.848Z"
   },
   {
    "duration": 21,
    "start_time": "2022-01-20T09:59:14.092Z"
   },
   {
    "duration": 196,
    "start_time": "2022-01-20T09:59:52.453Z"
   },
   {
    "duration": 12,
    "start_time": "2022-01-20T09:59:58.234Z"
   },
   {
    "duration": 3,
    "start_time": "2022-01-20T10:04:09.137Z"
   },
   {
    "duration": 4,
    "start_time": "2022-01-20T10:04:26.505Z"
   },
   {
    "duration": 4,
    "start_time": "2022-01-20T10:05:19.242Z"
   },
   {
    "duration": 3,
    "start_time": "2022-01-20T10:05:24.815Z"
   },
   {
    "duration": 8,
    "start_time": "2022-01-20T10:14:02.986Z"
   },
   {
    "duration": 23,
    "start_time": "2022-01-20T10:14:17.076Z"
   },
   {
    "duration": 10,
    "start_time": "2022-01-20T10:14:43.691Z"
   },
   {
    "duration": 5,
    "start_time": "2022-01-20T10:15:52.968Z"
   },
   {
    "duration": 9,
    "start_time": "2022-01-20T10:16:04.696Z"
   },
   {
    "duration": 7,
    "start_time": "2022-01-20T10:20:35.027Z"
   },
   {
    "duration": 7,
    "start_time": "2022-01-20T10:20:58.205Z"
   },
   {
    "duration": 255,
    "start_time": "2022-01-20T10:21:36.145Z"
   },
   {
    "duration": 12,
    "start_time": "2022-01-20T10:22:05.908Z"
   },
   {
    "duration": 13,
    "start_time": "2022-01-20T10:27:49.800Z"
   },
   {
    "duration": 10,
    "start_time": "2022-01-20T10:29:08.978Z"
   },
   {
    "duration": 5,
    "start_time": "2022-01-20T10:30:40.063Z"
   },
   {
    "duration": 5,
    "start_time": "2022-01-20T10:32:16.097Z"
   },
   {
    "duration": 5,
    "start_time": "2022-01-20T10:34:13.154Z"
   },
   {
    "duration": 6,
    "start_time": "2022-01-20T10:40:10.866Z"
   },
   {
    "duration": 4,
    "start_time": "2022-01-20T10:40:56.411Z"
   },
   {
    "duration": 13,
    "start_time": "2022-01-20T10:41:12.879Z"
   },
   {
    "duration": 6,
    "start_time": "2022-01-20T10:42:58.728Z"
   },
   {
    "duration": 13,
    "start_time": "2022-01-20T10:49:58.377Z"
   },
   {
    "duration": 4,
    "start_time": "2022-01-20T10:50:55.191Z"
   },
   {
    "duration": 21,
    "start_time": "2022-01-20T10:52:05.977Z"
   },
   {
    "duration": 22,
    "start_time": "2022-01-20T10:52:21.253Z"
   },
   {
    "duration": 20,
    "start_time": "2022-01-20T10:52:37.019Z"
   },
   {
    "duration": 23,
    "start_time": "2022-01-20T10:53:23.391Z"
   },
   {
    "duration": 21,
    "start_time": "2022-01-20T10:53:34.007Z"
   },
   {
    "duration": 8,
    "start_time": "2022-01-20T10:57:43.693Z"
   },
   {
    "duration": 10,
    "start_time": "2022-01-20T11:02:25.328Z"
   },
   {
    "duration": 228,
    "start_time": "2022-01-20T22:50:35.893Z"
   },
   {
    "duration": 184,
    "start_time": "2022-01-20T22:50:45.229Z"
   },
   {
    "duration": 163,
    "start_time": "2022-01-20T22:51:11.841Z"
   },
   {
    "duration": 1311,
    "start_time": "2022-01-20T22:51:27.841Z"
   },
   {
    "duration": 271,
    "start_time": "2022-01-20T22:51:29.154Z"
   },
   {
    "duration": 4,
    "start_time": "2022-01-20T22:51:29.428Z"
   },
   {
    "duration": 16,
    "start_time": "2022-01-20T22:51:29.433Z"
   },
   {
    "duration": 17,
    "start_time": "2022-01-20T22:51:29.451Z"
   },
   {
    "duration": 73,
    "start_time": "2022-01-20T22:51:29.470Z"
   },
   {
    "duration": 37,
    "start_time": "2022-01-20T22:51:29.545Z"
   },
   {
    "duration": 10,
    "start_time": "2022-01-20T22:51:29.599Z"
   },
   {
    "duration": 25,
    "start_time": "2022-01-20T22:51:29.611Z"
   },
   {
    "duration": 11,
    "start_time": "2022-01-20T22:51:29.637Z"
   },
   {
    "duration": 252,
    "start_time": "2022-01-20T22:51:38.034Z"
   },
   {
    "duration": 33,
    "start_time": "2022-01-20T23:17:52.934Z"
   },
   {
    "duration": 177,
    "start_time": "2022-01-20T23:23:37.064Z"
   },
   {
    "duration": 9,
    "start_time": "2022-01-20T23:23:54.590Z"
   },
   {
    "duration": 11,
    "start_time": "2022-01-20T23:24:20.979Z"
   },
   {
    "duration": 12,
    "start_time": "2022-01-20T23:32:30.816Z"
   },
   {
    "duration": 11,
    "start_time": "2022-01-21T00:11:31.753Z"
   },
   {
    "duration": 186,
    "start_time": "2022-01-21T00:23:34.735Z"
   },
   {
    "duration": 13,
    "start_time": "2022-01-21T00:25:23.681Z"
   },
   {
    "duration": 9,
    "start_time": "2022-01-21T00:29:30.668Z"
   },
   {
    "duration": 10,
    "start_time": "2022-01-21T00:32:04.490Z"
   },
   {
    "duration": 9,
    "start_time": "2022-01-21T00:32:12.468Z"
   },
   {
    "duration": 4,
    "start_time": "2022-01-21T00:33:49.698Z"
   },
   {
    "duration": 10,
    "start_time": "2022-01-21T00:34:36.384Z"
   },
   {
    "duration": 11,
    "start_time": "2022-01-21T00:35:05.210Z"
   },
   {
    "duration": 58,
    "start_time": "2022-01-21T00:35:45.154Z"
   },
   {
    "duration": 12,
    "start_time": "2022-01-21T00:35:53.688Z"
   },
   {
    "duration": 6,
    "start_time": "2022-01-21T00:39:00.238Z"
   },
   {
    "duration": 11,
    "start_time": "2022-01-21T00:39:53.423Z"
   },
   {
    "duration": 3,
    "start_time": "2022-01-21T00:56:58.888Z"
   },
   {
    "duration": 7,
    "start_time": "2022-01-21T00:57:06.026Z"
   },
   {
    "duration": 6,
    "start_time": "2022-01-21T01:09:48.249Z"
   },
   {
    "duration": 11,
    "start_time": "2022-01-21T01:29:27.908Z"
   },
   {
    "duration": 12,
    "start_time": "2022-01-21T01:31:35.591Z"
   },
   {
    "duration": 200,
    "start_time": "2022-01-21T01:32:30.556Z"
   },
   {
    "duration": 12,
    "start_time": "2022-01-21T01:32:40.033Z"
   },
   {
    "duration": 3,
    "start_time": "2022-01-21T01:46:44.268Z"
   },
   {
    "duration": 209,
    "start_time": "2022-01-21T01:47:03.152Z"
   },
   {
    "duration": 2,
    "start_time": "2022-01-21T01:57:08.392Z"
   },
   {
    "duration": 11,
    "start_time": "2022-01-21T01:59:08.679Z"
   },
   {
    "duration": 11,
    "start_time": "2022-01-21T02:00:34.615Z"
   },
   {
    "duration": 274,
    "start_time": "2022-01-21T02:06:23.757Z"
   },
   {
    "duration": 6,
    "start_time": "2022-01-21T02:17:24.148Z"
   },
   {
    "duration": 6,
    "start_time": "2022-01-21T02:17:36.710Z"
   },
   {
    "duration": 6,
    "start_time": "2022-01-21T02:17:47.339Z"
   },
   {
    "duration": 64,
    "start_time": "2022-01-21T02:25:23.719Z"
   },
   {
    "duration": 6,
    "start_time": "2022-01-21T02:37:39.564Z"
   },
   {
    "duration": 368,
    "start_time": "2022-01-21T02:38:01.762Z"
   },
   {
    "duration": 195,
    "start_time": "2022-01-21T02:40:30.078Z"
   },
   {
    "duration": 6,
    "start_time": "2022-01-21T02:40:46.796Z"
   },
   {
    "duration": 21505,
    "start_time": "2022-01-21T02:55:49.813Z"
   },
   {
    "duration": 6,
    "start_time": "2022-01-21T02:56:32.111Z"
   },
   {
    "duration": 6,
    "start_time": "2022-01-21T02:56:45.620Z"
   },
   {
    "duration": 4,
    "start_time": "2022-01-21T02:56:59.559Z"
   },
   {
    "duration": 2,
    "start_time": "2022-01-21T02:57:20.089Z"
   },
   {
    "duration": 6,
    "start_time": "2022-01-21T02:57:26.066Z"
   },
   {
    "duration": 6,
    "start_time": "2022-01-21T02:57:29.294Z"
   },
   {
    "duration": 6,
    "start_time": "2022-01-21T02:57:49.426Z"
   },
   {
    "duration": 6,
    "start_time": "2022-01-21T02:59:27.310Z"
   },
   {
    "duration": 272,
    "start_time": "2022-01-21T02:59:48.599Z"
   },
   {
    "duration": 6,
    "start_time": "2022-01-21T03:03:56.429Z"
   },
   {
    "duration": 5,
    "start_time": "2022-01-21T03:04:42.474Z"
   },
   {
    "duration": 6,
    "start_time": "2022-01-21T03:06:17.430Z"
   },
   {
    "duration": 217,
    "start_time": "2022-01-21T03:06:41.514Z"
   },
   {
    "duration": 15,
    "start_time": "2022-01-21T03:06:55.908Z"
   },
   {
    "duration": 1131,
    "start_time": "2022-01-21T03:07:56.580Z"
   },
   {
    "duration": 272,
    "start_time": "2022-01-21T03:07:57.713Z"
   },
   {
    "duration": 3,
    "start_time": "2022-01-21T03:07:57.987Z"
   },
   {
    "duration": 44,
    "start_time": "2022-01-21T03:07:57.992Z"
   },
   {
    "duration": 39,
    "start_time": "2022-01-21T03:07:58.038Z"
   },
   {
    "duration": 56,
    "start_time": "2022-01-21T03:07:58.078Z"
   },
   {
    "duration": 35,
    "start_time": "2022-01-21T03:07:58.135Z"
   },
   {
    "duration": 21,
    "start_time": "2022-01-21T03:07:58.173Z"
   },
   {
    "duration": 34,
    "start_time": "2022-01-21T03:07:58.196Z"
   },
   {
    "duration": 16,
    "start_time": "2022-01-21T03:07:58.231Z"
   },
   {
    "duration": 38,
    "start_time": "2022-01-21T03:07:58.249Z"
   },
   {
    "duration": 24,
    "start_time": "2022-01-21T03:07:58.288Z"
   },
   {
    "duration": 25,
    "start_time": "2022-01-21T03:07:58.314Z"
   },
   {
    "duration": 8,
    "start_time": "2022-01-21T03:07:58.341Z"
   },
   {
    "duration": 2,
    "start_time": "2022-01-21T03:07:58.350Z"
   },
   {
    "duration": 4,
    "start_time": "2022-01-21T03:07:58.354Z"
   },
   {
    "duration": 6,
    "start_time": "2022-01-21T03:07:58.360Z"
   },
   {
    "duration": 12,
    "start_time": "2022-01-21T03:07:58.368Z"
   },
   {
    "duration": 9,
    "start_time": "2022-01-21T03:07:58.382Z"
   },
   {
    "duration": 9,
    "start_time": "2022-01-21T03:07:58.393Z"
   },
   {
    "duration": 7,
    "start_time": "2022-01-21T03:07:58.403Z"
   },
   {
    "duration": 12,
    "start_time": "2022-01-21T03:07:58.411Z"
   },
   {
    "duration": 4,
    "start_time": "2022-01-21T03:07:58.426Z"
   },
   {
    "duration": 7,
    "start_time": "2022-01-21T03:07:58.432Z"
   },
   {
    "duration": 4,
    "start_time": "2022-01-21T03:07:58.440Z"
   },
   {
    "duration": 217,
    "start_time": "2022-01-21T03:07:58.445Z"
   },
   {
    "duration": 68,
    "start_time": "2022-01-21T03:07:58.664Z"
   },
   {
    "duration": -1857,
    "start_time": "2022-01-21T03:08:00.591Z"
   },
   {
    "duration": -1975,
    "start_time": "2022-01-21T03:08:00.710Z"
   },
   {
    "duration": -1979,
    "start_time": "2022-01-21T03:08:00.715Z"
   },
   {
    "duration": -1988,
    "start_time": "2022-01-21T03:08:00.725Z"
   },
   {
    "duration": -1992,
    "start_time": "2022-01-21T03:08:00.730Z"
   },
   {
    "duration": -2000,
    "start_time": "2022-01-21T03:08:00.739Z"
   },
   {
    "duration": -2006,
    "start_time": "2022-01-21T03:08:00.746Z"
   },
   {
    "duration": -2018,
    "start_time": "2022-01-21T03:08:00.759Z"
   },
   {
    "duration": -2031,
    "start_time": "2022-01-21T03:08:00.772Z"
   },
   {
    "duration": -2039,
    "start_time": "2022-01-21T03:08:00.781Z"
   },
   {
    "duration": -2061,
    "start_time": "2022-01-21T03:08:00.804Z"
   },
   {
    "duration": -2081,
    "start_time": "2022-01-21T03:08:00.825Z"
   },
   {
    "duration": -2085,
    "start_time": "2022-01-21T03:08:00.830Z"
   },
   {
    "duration": -2095,
    "start_time": "2022-01-21T03:08:00.841Z"
   },
   {
    "duration": -2192,
    "start_time": "2022-01-21T03:08:00.939Z"
   },
   {
    "duration": -2194,
    "start_time": "2022-01-21T03:08:00.942Z"
   },
   {
    "duration": -2200,
    "start_time": "2022-01-21T03:08:00.948Z"
   },
   {
    "duration": -2204,
    "start_time": "2022-01-21T03:08:00.953Z"
   },
   {
    "duration": -2206,
    "start_time": "2022-01-21T03:08:00.956Z"
   },
   {
    "duration": -2208,
    "start_time": "2022-01-21T03:08:00.959Z"
   },
   {
    "duration": -2213,
    "start_time": "2022-01-21T03:08:00.965Z"
   },
   {
    "duration": -2215,
    "start_time": "2022-01-21T03:08:00.968Z"
   },
   {
    "duration": -2217,
    "start_time": "2022-01-21T03:08:00.971Z"
   },
   {
    "duration": -2221,
    "start_time": "2022-01-21T03:08:00.976Z"
   },
   {
    "duration": -2226,
    "start_time": "2022-01-21T03:08:00.982Z"
   },
   {
    "duration": -2228,
    "start_time": "2022-01-21T03:08:00.985Z"
   },
   {
    "duration": -2230,
    "start_time": "2022-01-21T03:08:00.988Z"
   },
   {
    "duration": -2232,
    "start_time": "2022-01-21T03:08:00.991Z"
   },
   {
    "duration": -2236,
    "start_time": "2022-01-21T03:08:00.996Z"
   },
   {
    "duration": -2239,
    "start_time": "2022-01-21T03:08:01.000Z"
   },
   {
    "duration": -2241,
    "start_time": "2022-01-21T03:08:01.003Z"
   },
   {
    "duration": -2243,
    "start_time": "2022-01-21T03:08:01.006Z"
   },
   {
    "duration": -2246,
    "start_time": "2022-01-21T03:08:01.010Z"
   },
   {
    "duration": -2250,
    "start_time": "2022-01-21T03:08:01.015Z"
   },
   {
    "duration": -2252,
    "start_time": "2022-01-21T03:08:01.018Z"
   },
   {
    "duration": -2254,
    "start_time": "2022-01-21T03:08:01.021Z"
   },
   {
    "duration": -2257,
    "start_time": "2022-01-21T03:08:01.025Z"
   },
   {
    "duration": -2259,
    "start_time": "2022-01-21T03:08:01.028Z"
   },
   {
    "duration": -2264,
    "start_time": "2022-01-21T03:08:01.034Z"
   },
   {
    "duration": -2265,
    "start_time": "2022-01-21T03:08:01.036Z"
   },
   {
    "duration": -2296,
    "start_time": "2022-01-21T03:08:01.068Z"
   },
   {
    "duration": -2298,
    "start_time": "2022-01-21T03:08:01.071Z"
   },
   {
    "duration": -2279,
    "start_time": "2022-01-21T03:08:01.075Z"
   },
   {
    "duration": -2284,
    "start_time": "2022-01-21T03:08:01.081Z"
   },
   {
    "duration": -2287,
    "start_time": "2022-01-21T03:08:01.085Z"
   },
   {
    "duration": -2289,
    "start_time": "2022-01-21T03:08:01.088Z"
   },
   {
    "duration": -2291,
    "start_time": "2022-01-21T03:08:01.091Z"
   },
   {
    "duration": -2296,
    "start_time": "2022-01-21T03:08:01.097Z"
   },
   {
    "duration": -2299,
    "start_time": "2022-01-21T03:08:01.101Z"
   },
   {
    "duration": -2300,
    "start_time": "2022-01-21T03:08:01.103Z"
   },
   {
    "duration": -2302,
    "start_time": "2022-01-21T03:08:01.106Z"
   },
   {
    "duration": -2304,
    "start_time": "2022-01-21T03:08:01.109Z"
   },
   {
    "duration": -2308,
    "start_time": "2022-01-21T03:08:01.114Z"
   },
   {
    "duration": -2309,
    "start_time": "2022-01-21T03:08:01.116Z"
   },
   {
    "duration": -2311,
    "start_time": "2022-01-21T03:08:01.119Z"
   },
   {
    "duration": -2313,
    "start_time": "2022-01-21T03:08:01.122Z"
   },
   {
    "duration": 4,
    "start_time": "2022-01-21T03:09:22.075Z"
   },
   {
    "duration": 4,
    "start_time": "2022-01-21T03:09:30.870Z"
   },
   {
    "duration": 6,
    "start_time": "2022-01-21T03:10:07.608Z"
   },
   {
    "duration": 4,
    "start_time": "2022-01-21T03:10:17.461Z"
   },
   {
    "duration": 6,
    "start_time": "2022-01-21T03:11:28.058Z"
   },
   {
    "duration": 10,
    "start_time": "2022-01-21T03:43:51.475Z"
   },
   {
    "duration": 8,
    "start_time": "2022-01-21T03:51:41.722Z"
   },
   {
    "duration": 17,
    "start_time": "2022-01-21T03:53:19.490Z"
   },
   {
    "duration": 4,
    "start_time": "2022-01-21T04:03:22.982Z"
   },
   {
    "duration": 8,
    "start_time": "2022-01-21T04:04:06.998Z"
   },
   {
    "duration": 4,
    "start_time": "2022-01-21T04:04:23.626Z"
   },
   {
    "duration": 9,
    "start_time": "2022-01-21T04:04:38.456Z"
   },
   {
    "duration": 23,
    "start_time": "2022-01-21T04:04:48.062Z"
   },
   {
    "duration": 9,
    "start_time": "2022-01-21T04:05:43.787Z"
   },
   {
    "duration": 8,
    "start_time": "2022-01-21T04:05:58.060Z"
   },
   {
    "duration": 8,
    "start_time": "2022-01-21T04:08:17.275Z"
   },
   {
    "duration": 8,
    "start_time": "2022-01-21T04:09:56.324Z"
   },
   {
    "duration": 4,
    "start_time": "2022-01-21T04:10:20.610Z"
   },
   {
    "duration": 8,
    "start_time": "2022-01-21T04:10:27.421Z"
   },
   {
    "duration": 6,
    "start_time": "2022-01-21T04:11:43.501Z"
   },
   {
    "duration": 7,
    "start_time": "2022-01-21T04:13:29.982Z"
   },
   {
    "duration": 29,
    "start_time": "2022-01-21T04:14:22.478Z"
   },
   {
    "duration": 6,
    "start_time": "2022-01-21T04:15:05.628Z"
   },
   {
    "duration": 6,
    "start_time": "2022-01-21T04:16:26.931Z"
   },
   {
    "duration": 4,
    "start_time": "2022-01-21T04:17:06.718Z"
   },
   {
    "duration": 6,
    "start_time": "2022-01-21T04:18:09.180Z"
   },
   {
    "duration": 6,
    "start_time": "2022-01-21T04:18:17.381Z"
   },
   {
    "duration": 268,
    "start_time": "2022-01-21T04:23:00.872Z"
   },
   {
    "duration": 6,
    "start_time": "2022-01-21T04:23:50.180Z"
   },
   {
    "duration": 8,
    "start_time": "2022-01-21T04:25:59.200Z"
   },
   {
    "duration": 5,
    "start_time": "2022-01-21T04:26:05.492Z"
   },
   {
    "duration": 63,
    "start_time": "2022-01-21T04:27:29.224Z"
   },
   {
    "duration": 199,
    "start_time": "2022-01-21T04:29:22.183Z"
   },
   {
    "duration": 6,
    "start_time": "2022-01-21T04:29:45.382Z"
   },
   {
    "duration": 8,
    "start_time": "2022-01-21T04:30:05.176Z"
   },
   {
    "duration": 7,
    "start_time": "2022-01-21T04:32:57.116Z"
   },
   {
    "duration": 8,
    "start_time": "2022-01-21T04:33:07.403Z"
   },
   {
    "duration": 8,
    "start_time": "2022-01-21T04:33:19.804Z"
   },
   {
    "duration": 8,
    "start_time": "2022-01-21T04:33:24.159Z"
   },
   {
    "duration": 7,
    "start_time": "2022-01-21T04:33:28.022Z"
   },
   {
    "duration": 5,
    "start_time": "2022-01-21T04:34:08.809Z"
   },
   {
    "duration": 4,
    "start_time": "2022-01-21T04:34:13.675Z"
   },
   {
    "duration": 6,
    "start_time": "2022-01-21T04:34:16.933Z"
   },
   {
    "duration": 7,
    "start_time": "2022-01-21T04:34:21.632Z"
   },
   {
    "duration": 6,
    "start_time": "2022-01-21T04:34:28.278Z"
   },
   {
    "duration": 7,
    "start_time": "2022-01-21T04:34:47.720Z"
   },
   {
    "duration": 8,
    "start_time": "2022-01-21T04:35:11.006Z"
   },
   {
    "duration": 8,
    "start_time": "2022-01-21T04:35:14.821Z"
   },
   {
    "duration": 8,
    "start_time": "2022-01-21T04:37:54.268Z"
   },
   {
    "duration": 13,
    "start_time": "2022-01-21T04:55:16.887Z"
   },
   {
    "duration": 2,
    "start_time": "2022-01-21T04:55:19.950Z"
   },
   {
    "duration": 6,
    "start_time": "2022-01-21T04:55:37.876Z"
   },
   {
    "duration": 5,
    "start_time": "2022-01-21T04:57:56.787Z"
   },
   {
    "duration": 5,
    "start_time": "2022-01-21T04:58:02.973Z"
   },
   {
    "duration": 12,
    "start_time": "2022-01-21T04:58:44.725Z"
   },
   {
    "duration": 12,
    "start_time": "2022-01-21T04:58:52.554Z"
   },
   {
    "duration": 11,
    "start_time": "2022-01-21T04:59:19.537Z"
   },
   {
    "duration": 12,
    "start_time": "2022-01-21T04:59:24.391Z"
   },
   {
    "duration": 478,
    "start_time": "2022-01-22T03:25:29.316Z"
   },
   {
    "duration": 1101,
    "start_time": "2022-01-22T03:25:37.649Z"
   },
   {
    "duration": 221,
    "start_time": "2022-01-22T03:25:38.752Z"
   },
   {
    "duration": 5,
    "start_time": "2022-01-22T03:25:38.975Z"
   },
   {
    "duration": 11,
    "start_time": "2022-01-22T03:25:38.982Z"
   },
   {
    "duration": 11,
    "start_time": "2022-01-22T03:25:38.995Z"
   },
   {
    "duration": 30,
    "start_time": "2022-01-22T03:25:39.007Z"
   },
   {
    "duration": 58,
    "start_time": "2022-01-22T03:25:39.039Z"
   },
   {
    "duration": 6,
    "start_time": "2022-01-22T03:25:39.099Z"
   },
   {
    "duration": 18,
    "start_time": "2022-01-22T03:25:39.107Z"
   },
   {
    "duration": 8,
    "start_time": "2022-01-22T03:25:39.126Z"
   },
   {
    "duration": 36,
    "start_time": "2022-01-22T03:25:39.136Z"
   },
   {
    "duration": 10,
    "start_time": "2022-01-22T03:25:39.174Z"
   },
   {
    "duration": 9,
    "start_time": "2022-01-22T03:25:39.185Z"
   },
   {
    "duration": 7,
    "start_time": "2022-01-22T03:25:39.196Z"
   },
   {
    "duration": 10,
    "start_time": "2022-01-22T03:26:55.456Z"
   },
   {
    "duration": 164,
    "start_time": "2022-01-22T04:01:52.724Z"
   },
   {
    "duration": 8,
    "start_time": "2022-01-22T04:03:22.400Z"
   },
   {
    "duration": 6,
    "start_time": "2022-01-22T04:03:56.715Z"
   },
   {
    "duration": 4,
    "start_time": "2022-01-22T04:06:56.947Z"
   },
   {
    "duration": 6,
    "start_time": "2022-01-22T04:07:03.266Z"
   },
   {
    "duration": 6,
    "start_time": "2022-01-22T04:09:08.796Z"
   },
   {
    "duration": 7,
    "start_time": "2022-01-22T04:09:13.694Z"
   },
   {
    "duration": 1151,
    "start_time": "2022-01-22T04:10:01.956Z"
   },
   {
    "duration": 165,
    "start_time": "2022-01-22T04:10:03.109Z"
   },
   {
    "duration": 3,
    "start_time": "2022-01-22T04:10:03.276Z"
   },
   {
    "duration": 12,
    "start_time": "2022-01-22T04:10:03.281Z"
   },
   {
    "duration": 10,
    "start_time": "2022-01-22T04:10:03.295Z"
   },
   {
    "duration": 29,
    "start_time": "2022-01-22T04:10:03.307Z"
   },
   {
    "duration": 53,
    "start_time": "2022-01-22T04:10:03.338Z"
   },
   {
    "duration": 6,
    "start_time": "2022-01-22T04:10:03.393Z"
   },
   {
    "duration": 18,
    "start_time": "2022-01-22T04:10:03.401Z"
   },
   {
    "duration": 9,
    "start_time": "2022-01-22T04:10:03.420Z"
   },
   {
    "duration": 8,
    "start_time": "2022-01-22T04:10:03.430Z"
   },
   {
    "duration": 40,
    "start_time": "2022-01-22T04:10:03.439Z"
   },
   {
    "duration": 10,
    "start_time": "2022-01-22T04:10:03.481Z"
   },
   {
    "duration": 14,
    "start_time": "2022-01-22T04:10:03.493Z"
   },
   {
    "duration": 3,
    "start_time": "2022-01-22T04:10:03.508Z"
   },
   {
    "duration": 4,
    "start_time": "2022-01-22T04:10:03.512Z"
   },
   {
    "duration": 9,
    "start_time": "2022-01-22T04:10:03.517Z"
   },
   {
    "duration": 12,
    "start_time": "2022-01-22T04:10:03.528Z"
   },
   {
    "duration": 8,
    "start_time": "2022-01-22T04:10:03.542Z"
   },
   {
    "duration": 6,
    "start_time": "2022-01-22T04:10:03.572Z"
   },
   {
    "duration": 5,
    "start_time": "2022-01-22T04:10:03.580Z"
   },
   {
    "duration": 18,
    "start_time": "2022-01-22T04:10:03.586Z"
   },
   {
    "duration": 5,
    "start_time": "2022-01-22T04:10:03.608Z"
   },
   {
    "duration": 10,
    "start_time": "2022-01-22T04:10:03.615Z"
   },
   {
    "duration": 191,
    "start_time": "2022-01-22T04:10:03.626Z"
   },
   {
    "duration": 2,
    "start_time": "2022-01-22T04:10:03.819Z"
   },
   {
    "duration": 8,
    "start_time": "2022-01-22T04:10:03.822Z"
   },
   {
    "duration": 5,
    "start_time": "2022-01-22T04:10:03.831Z"
   },
   {
    "duration": 8,
    "start_time": "2022-01-22T04:10:03.838Z"
   },
   {
    "duration": 24,
    "start_time": "2022-01-22T04:10:03.847Z"
   },
   {
    "duration": 6,
    "start_time": "2022-01-22T04:10:03.873Z"
   },
   {
    "duration": 5,
    "start_time": "2022-01-22T04:10:03.880Z"
   },
   {
    "duration": 8,
    "start_time": "2022-01-22T04:10:03.886Z"
   },
   {
    "duration": 9,
    "start_time": "2022-01-22T04:10:03.896Z"
   },
   {
    "duration": 10,
    "start_time": "2022-01-22T04:10:03.906Z"
   },
   {
    "duration": 9,
    "start_time": "2022-01-22T04:10:03.918Z"
   },
   {
    "duration": 12,
    "start_time": "2022-01-22T04:10:03.928Z"
   },
   {
    "duration": 11,
    "start_time": "2022-01-22T04:10:03.941Z"
   },
   {
    "duration": 22,
    "start_time": "2022-01-22T04:10:03.953Z"
   },
   {
    "duration": 6,
    "start_time": "2022-01-22T04:10:03.976Z"
   },
   {
    "duration": 13,
    "start_time": "2022-01-22T04:10:03.983Z"
   },
   {
    "duration": 19,
    "start_time": "2022-01-22T04:10:03.997Z"
   },
   {
    "duration": 19,
    "start_time": "2022-01-22T04:10:04.018Z"
   },
   {
    "duration": 27,
    "start_time": "2022-01-22T04:10:04.038Z"
   },
   {
    "duration": 17,
    "start_time": "2022-01-22T04:10:04.067Z"
   },
   {
    "duration": 12,
    "start_time": "2022-01-22T04:10:04.086Z"
   },
   {
    "duration": 10,
    "start_time": "2022-01-22T04:10:04.099Z"
   },
   {
    "duration": 18,
    "start_time": "2022-01-22T04:10:04.110Z"
   },
   {
    "duration": 19,
    "start_time": "2022-01-22T04:10:04.130Z"
   },
   {
    "duration": 19,
    "start_time": "2022-01-22T04:10:04.150Z"
   },
   {
    "duration": 22,
    "start_time": "2022-01-22T04:10:04.170Z"
   },
   {
    "duration": 14,
    "start_time": "2022-01-22T04:10:04.194Z"
   },
   {
    "duration": 22,
    "start_time": "2022-01-22T04:10:04.210Z"
   },
   {
    "duration": 26,
    "start_time": "2022-01-22T04:10:04.233Z"
   },
   {
    "duration": 12,
    "start_time": "2022-01-22T04:10:04.260Z"
   },
   {
    "duration": 21,
    "start_time": "2022-01-22T04:10:04.273Z"
   },
   {
    "duration": 17,
    "start_time": "2022-01-22T04:10:04.295Z"
   },
   {
    "duration": 12,
    "start_time": "2022-01-22T04:10:04.314Z"
   },
   {
    "duration": 20,
    "start_time": "2022-01-22T04:10:04.328Z"
   },
   {
    "duration": 20,
    "start_time": "2022-01-22T04:10:04.350Z"
   },
   {
    "duration": 8,
    "start_time": "2022-01-22T04:10:04.372Z"
   },
   {
    "duration": 10,
    "start_time": "2022-01-22T04:10:04.381Z"
   },
   {
    "duration": 11,
    "start_time": "2022-01-22T04:10:04.393Z"
   },
   {
    "duration": 10,
    "start_time": "2022-01-22T04:10:04.405Z"
   },
   {
    "duration": 9,
    "start_time": "2022-01-22T04:10:04.416Z"
   },
   {
    "duration": 7,
    "start_time": "2022-01-22T04:10:04.427Z"
   },
   {
    "duration": 9,
    "start_time": "2022-01-22T04:10:04.435Z"
   },
   {
    "duration": 5,
    "start_time": "2022-01-22T04:10:04.448Z"
   },
   {
    "duration": 8,
    "start_time": "2022-01-22T04:10:04.455Z"
   },
   {
    "duration": 18,
    "start_time": "2022-01-22T04:10:04.464Z"
   },
   {
    "duration": 19,
    "start_time": "2022-01-22T04:10:04.484Z"
   },
   {
    "duration": 9,
    "start_time": "2022-01-22T04:10:04.505Z"
   },
   {
    "duration": 2,
    "start_time": "2022-01-22T04:10:04.516Z"
   },
   {
    "duration": 8,
    "start_time": "2022-01-22T04:10:04.519Z"
   },
   {
    "duration": 7,
    "start_time": "2022-01-22T04:10:04.529Z"
   },
   {
    "duration": 9,
    "start_time": "2022-01-22T04:10:04.538Z"
   },
   {
    "duration": 17,
    "start_time": "2022-01-22T04:10:04.548Z"
   },
   {
    "duration": 8,
    "start_time": "2022-01-22T04:10:04.566Z"
   },
   {
    "duration": 10,
    "start_time": "2022-01-22T04:10:04.575Z"
   },
   {
    "duration": 9,
    "start_time": "2022-01-22T04:10:04.586Z"
   },
   {
    "duration": 8,
    "start_time": "2022-01-22T04:10:04.597Z"
   },
   {
    "duration": 14,
    "start_time": "2022-01-22T04:10:04.606Z"
   },
   {
    "duration": 6,
    "start_time": "2022-01-22T04:11:07.744Z"
   },
   {
    "duration": 6,
    "start_time": "2022-01-22T04:14:23.780Z"
   },
   {
    "duration": 7,
    "start_time": "2022-01-22T04:14:35.380Z"
   },
   {
    "duration": 15,
    "start_time": "2022-01-22T04:15:20.901Z"
   },
   {
    "duration": 4,
    "start_time": "2022-01-22T04:15:30.111Z"
   },
   {
    "duration": 4,
    "start_time": "2022-01-22T05:25:25.713Z"
   },
   {
    "duration": 5,
    "start_time": "2022-01-22T05:25:31.318Z"
   },
   {
    "duration": 11,
    "start_time": "2022-01-22T05:26:02.810Z"
   },
   {
    "duration": 10,
    "start_time": "2022-01-22T05:26:07.654Z"
   },
   {
    "duration": 4,
    "start_time": "2022-01-22T05:27:00.198Z"
   },
   {
    "duration": 5,
    "start_time": "2022-01-22T05:27:14.108Z"
   },
   {
    "duration": 442,
    "start_time": "2022-01-22T05:28:42.390Z"
   },
   {
    "duration": 4,
    "start_time": "2022-01-22T05:29:11.474Z"
   },
   {
    "duration": 4,
    "start_time": "2022-01-22T05:29:47.578Z"
   },
   {
    "duration": 4,
    "start_time": "2022-01-22T05:30:07.034Z"
   },
   {
    "duration": 10,
    "start_time": "2022-01-22T05:30:17.620Z"
   },
   {
    "duration": 20,
    "start_time": "2022-01-22T05:32:48.015Z"
   },
   {
    "duration": 2,
    "start_time": "2022-01-22T05:33:08.577Z"
   },
   {
    "duration": 5,
    "start_time": "2022-01-22T05:35:27.198Z"
   },
   {
    "duration": 4,
    "start_time": "2022-01-22T05:35:28.284Z"
   },
   {
    "duration": 4,
    "start_time": "2022-01-22T05:37:17.358Z"
   },
   {
    "duration": 10,
    "start_time": "2022-01-22T05:37:32.971Z"
   },
   {
    "duration": 2,
    "start_time": "2022-01-22T05:46:23.612Z"
   },
   {
    "duration": 3,
    "start_time": "2022-01-22T05:46:42.113Z"
   },
   {
    "duration": 7510,
    "start_time": "2022-01-22T05:50:05.193Z"
   },
   {
    "duration": 4,
    "start_time": "2022-01-22T05:50:27.842Z"
   },
   {
    "duration": 9,
    "start_time": "2022-01-22T05:57:44.546Z"
   },
   {
    "duration": 20,
    "start_time": "2022-01-22T05:59:20.368Z"
   },
   {
    "duration": 13,
    "start_time": "2022-01-22T05:59:36.764Z"
   },
   {
    "duration": 13,
    "start_time": "2022-01-22T06:07:45.397Z"
   },
   {
    "duration": 13,
    "start_time": "2022-01-22T06:08:07.110Z"
   },
   {
    "duration": 14,
    "start_time": "2022-01-22T06:08:24.904Z"
   },
   {
    "duration": 13,
    "start_time": "2022-01-22T06:08:43.790Z"
   },
   {
    "duration": 308,
    "start_time": "2022-01-22T06:11:24.712Z"
   },
   {
    "duration": 321,
    "start_time": "2022-01-22T06:12:07.912Z"
   },
   {
    "duration": 1384,
    "start_time": "2022-01-22T06:12:21.469Z"
   },
   {
    "duration": 310,
    "start_time": "2022-01-22T06:12:36.044Z"
   },
   {
    "duration": 6,
    "start_time": "2022-01-22T06:14:11.626Z"
   },
   {
    "duration": 6,
    "start_time": "2022-01-22T06:14:54.836Z"
   },
   {
    "duration": 13,
    "start_time": "2022-01-22T06:15:39.449Z"
   },
   {
    "duration": 19,
    "start_time": "2022-01-22T06:15:49.932Z"
   },
   {
    "duration": 3888,
    "start_time": "2022-01-22T07:10:17.089Z"
   },
   {
    "duration": 6,
    "start_time": "2022-01-22T07:10:42.896Z"
   },
   {
    "duration": 6,
    "start_time": "2022-01-22T07:11:55.830Z"
   },
   {
    "duration": 20,
    "start_time": "2022-01-22T07:13:57.207Z"
   },
   {
    "duration": 11,
    "start_time": "2022-01-22T07:14:12.413Z"
   },
   {
    "duration": 100,
    "start_time": "2022-01-22T07:16:41.403Z"
   },
   {
    "duration": 4,
    "start_time": "2022-01-22T07:16:51.950Z"
   },
   {
    "duration": 5,
    "start_time": "2022-01-22T07:17:06.075Z"
   },
   {
    "duration": 214,
    "start_time": "2022-01-22T07:30:26.100Z"
   },
   {
    "duration": 118,
    "start_time": "2022-01-22T07:34:25.189Z"
   },
   {
    "duration": 867,
    "start_time": "2022-01-22T07:36:04.662Z"
   },
   {
    "duration": 305,
    "start_time": "2022-01-22T07:37:07.129Z"
   },
   {
    "duration": 293,
    "start_time": "2022-01-22T07:38:32.993Z"
   },
   {
    "duration": 302,
    "start_time": "2022-01-22T07:39:10.139Z"
   },
   {
    "duration": 308,
    "start_time": "2022-01-22T07:39:32.254Z"
   },
   {
    "duration": 101,
    "start_time": "2022-01-22T07:40:05.176Z"
   },
   {
    "duration": 311,
    "start_time": "2022-01-22T07:40:17.031Z"
   },
   {
    "duration": 3,
    "start_time": "2022-01-22T07:40:28.174Z"
   },
   {
    "duration": 4,
    "start_time": "2022-01-22T07:40:58.737Z"
   },
   {
    "duration": 3,
    "start_time": "2022-01-22T07:41:22.348Z"
   },
   {
    "duration": 3,
    "start_time": "2022-01-22T07:41:49.019Z"
   },
   {
    "duration": 106,
    "start_time": "2022-01-22T07:41:59.285Z"
   },
   {
    "duration": 3,
    "start_time": "2022-01-22T07:42:09.238Z"
   },
   {
    "duration": 111,
    "start_time": "2022-01-22T07:42:33.268Z"
   },
   {
    "duration": 3,
    "start_time": "2022-01-22T07:42:55.855Z"
   },
   {
    "duration": 4,
    "start_time": "2022-01-22T07:43:07.240Z"
   },
   {
    "duration": 4,
    "start_time": "2022-01-22T07:43:32.237Z"
   },
   {
    "duration": 2,
    "start_time": "2022-01-22T07:43:36.002Z"
   },
   {
    "duration": 3,
    "start_time": "2022-01-22T07:43:41.175Z"
   },
   {
    "duration": 4,
    "start_time": "2022-01-22T07:43:49.582Z"
   },
   {
    "duration": 3,
    "start_time": "2022-01-22T07:44:11.340Z"
   },
   {
    "duration": 4,
    "start_time": "2022-01-22T07:44:26.878Z"
   },
   {
    "duration": 4,
    "start_time": "2022-01-22T07:46:17.713Z"
   },
   {
    "duration": 4,
    "start_time": "2022-01-22T07:50:22.818Z"
   },
   {
    "duration": 4,
    "start_time": "2022-01-22T07:52:07.071Z"
   },
   {
    "duration": 97,
    "start_time": "2022-01-22T07:53:18.651Z"
   },
   {
    "duration": 95,
    "start_time": "2022-01-22T07:53:43.736Z"
   },
   {
    "duration": 117,
    "start_time": "2022-01-22T07:54:27.383Z"
   },
   {
    "duration": 5,
    "start_time": "2022-01-22T07:54:38.914Z"
   },
   {
    "duration": 305,
    "start_time": "2022-01-22T07:55:02.320Z"
   },
   {
    "duration": 4,
    "start_time": "2022-01-22T07:55:20.776Z"
   },
   {
    "duration": 12,
    "start_time": "2022-01-22T07:56:23.477Z"
   },
   {
    "duration": 14,
    "start_time": "2022-01-22T07:57:16.914Z"
   },
   {
    "duration": 7668,
    "start_time": "2022-01-22T07:58:35.078Z"
   },
   {
    "duration": 7839,
    "start_time": "2022-01-22T07:58:44.453Z"
   },
   {
    "duration": 769,
    "start_time": "2022-01-22T08:00:17.009Z"
   },
   {
    "duration": 104,
    "start_time": "2022-01-22T08:00:54.814Z"
   },
   {
    "duration": 1187,
    "start_time": "2022-01-22T08:01:18.348Z"
   },
   {
    "duration": 7504,
    "start_time": "2022-01-22T08:01:41.077Z"
   },
   {
    "duration": 8189,
    "start_time": "2022-01-22T08:01:57.761Z"
   },
   {
    "duration": 467,
    "start_time": "2022-01-22T08:03:01.696Z"
   },
   {
    "duration": 4,
    "start_time": "2022-01-22T08:03:37.008Z"
   },
   {
    "duration": 317,
    "start_time": "2022-01-22T08:03:55.433Z"
   },
   {
    "duration": 8,
    "start_time": "2022-01-22T08:04:36.554Z"
   },
   {
    "duration": 14,
    "start_time": "2022-01-22T08:05:04.890Z"
   },
   {
    "duration": 1332,
    "start_time": "2022-01-22T22:38:37.300Z"
   },
   {
    "duration": 207,
    "start_time": "2022-01-22T22:38:38.634Z"
   },
   {
    "duration": 3,
    "start_time": "2022-01-22T22:38:38.843Z"
   },
   {
    "duration": 17,
    "start_time": "2022-01-22T22:38:38.847Z"
   },
   {
    "duration": 10,
    "start_time": "2022-01-22T22:38:38.865Z"
   },
   {
    "duration": 28,
    "start_time": "2022-01-22T22:38:38.876Z"
   },
   {
    "duration": 32,
    "start_time": "2022-01-22T22:38:38.906Z"
   },
   {
    "duration": 6,
    "start_time": "2022-01-22T22:38:38.940Z"
   },
   {
    "duration": 21,
    "start_time": "2022-01-22T22:38:38.948Z"
   },
   {
    "duration": 8,
    "start_time": "2022-01-22T22:38:38.970Z"
   },
   {
    "duration": 9,
    "start_time": "2022-01-22T22:38:38.980Z"
   },
   {
    "duration": 12,
    "start_time": "2022-01-22T22:38:38.991Z"
   },
   {
    "duration": 10,
    "start_time": "2022-01-22T22:38:39.004Z"
   },
   {
    "duration": 8,
    "start_time": "2022-01-22T22:38:39.015Z"
   },
   {
    "duration": 2,
    "start_time": "2022-01-22T22:38:39.025Z"
   },
   {
    "duration": 6,
    "start_time": "2022-01-22T22:38:39.029Z"
   },
   {
    "duration": 8,
    "start_time": "2022-01-22T22:38:39.037Z"
   },
   {
    "duration": 11,
    "start_time": "2022-01-22T22:38:39.047Z"
   },
   {
    "duration": 11,
    "start_time": "2022-01-22T22:38:39.060Z"
   },
   {
    "duration": 12,
    "start_time": "2022-01-22T22:38:39.073Z"
   },
   {
    "duration": 8,
    "start_time": "2022-01-22T22:38:39.087Z"
   },
   {
    "duration": 19,
    "start_time": "2022-01-22T22:38:39.097Z"
   },
   {
    "duration": 4,
    "start_time": "2022-01-22T22:38:39.121Z"
   },
   {
    "duration": 9,
    "start_time": "2022-01-22T22:38:39.128Z"
   },
   {
    "duration": 288,
    "start_time": "2022-01-22T22:38:39.139Z"
   },
   {
    "duration": 2,
    "start_time": "2022-01-22T22:38:39.429Z"
   },
   {
    "duration": 9,
    "start_time": "2022-01-22T22:38:39.433Z"
   },
   {
    "duration": 31,
    "start_time": "2022-01-22T22:38:39.444Z"
   },
   {
    "duration": 9,
    "start_time": "2022-01-22T22:38:39.477Z"
   },
   {
    "duration": 7,
    "start_time": "2022-01-22T22:38:39.488Z"
   },
   {
    "duration": 23,
    "start_time": "2022-01-22T22:38:39.496Z"
   },
   {
    "duration": 14,
    "start_time": "2022-01-22T22:38:39.521Z"
   },
   {
    "duration": 19,
    "start_time": "2022-01-22T22:38:39.536Z"
   },
   {
    "duration": 8,
    "start_time": "2022-01-22T22:38:39.556Z"
   },
   {
    "duration": 21,
    "start_time": "2022-01-22T22:38:39.565Z"
   },
   {
    "duration": 20,
    "start_time": "2022-01-22T22:38:39.587Z"
   },
   {
    "duration": 10,
    "start_time": "2022-01-22T22:38:39.608Z"
   },
   {
    "duration": 14,
    "start_time": "2022-01-22T22:38:39.620Z"
   },
   {
    "duration": 20,
    "start_time": "2022-01-22T22:38:39.635Z"
   },
   {
    "duration": 14,
    "start_time": "2022-01-22T22:38:39.656Z"
   },
   {
    "duration": 16,
    "start_time": "2022-01-22T22:38:39.672Z"
   },
   {
    "duration": 10,
    "start_time": "2022-01-22T22:38:39.690Z"
   },
   {
    "duration": 17,
    "start_time": "2022-01-22T22:38:39.702Z"
   },
   {
    "duration": 55,
    "start_time": "2022-01-22T22:38:39.721Z"
   },
   {
    "duration": 24,
    "start_time": "2022-01-22T22:38:39.778Z"
   },
   {
    "duration": 72,
    "start_time": "2022-01-22T22:38:39.804Z"
   },
   {
    "duration": 5,
    "start_time": "2022-01-22T22:38:39.878Z"
   },
   {
    "duration": 3,
    "start_time": "2022-01-22T22:38:39.884Z"
   },
   {
    "duration": 3,
    "start_time": "2022-01-22T22:38:39.889Z"
   },
   {
    "duration": 6,
    "start_time": "2022-01-22T22:38:39.894Z"
   },
   {
    "duration": 3,
    "start_time": "2022-01-22T22:38:39.902Z"
   },
   {
    "duration": 6,
    "start_time": "2022-01-22T22:38:39.907Z"
   },
   {
    "duration": 84,
    "start_time": "2022-01-22T22:38:39.915Z"
   },
   {
    "duration": 401,
    "start_time": "2022-01-22T22:38:40.001Z"
   },
   {
    "duration": -1099,
    "start_time": "2022-01-22T22:38:41.504Z"
   },
   {
    "duration": -1099,
    "start_time": "2022-01-22T22:38:41.506Z"
   },
   {
    "duration": -1101,
    "start_time": "2022-01-22T22:38:41.509Z"
   },
   {
    "duration": -1103,
    "start_time": "2022-01-22T22:38:41.512Z"
   },
   {
    "duration": -1105,
    "start_time": "2022-01-22T22:38:41.516Z"
   },
   {
    "duration": -1194,
    "start_time": "2022-01-22T22:38:41.606Z"
   },
   {
    "duration": -1269,
    "start_time": "2022-01-22T22:38:41.682Z"
   },
   {
    "duration": -1299,
    "start_time": "2022-01-22T22:38:41.714Z"
   },
   {
    "duration": -1306,
    "start_time": "2022-01-22T22:38:41.722Z"
   },
   {
    "duration": -1334,
    "start_time": "2022-01-22T22:38:41.752Z"
   },
   {
    "duration": -1345,
    "start_time": "2022-01-22T22:38:41.764Z"
   },
   {
    "duration": -1352,
    "start_time": "2022-01-22T22:38:41.772Z"
   },
   {
    "duration": -1360,
    "start_time": "2022-01-22T22:38:41.782Z"
   },
   {
    "duration": -1366,
    "start_time": "2022-01-22T22:38:41.789Z"
   },
   {
    "duration": -1375,
    "start_time": "2022-01-22T22:38:41.799Z"
   },
   {
    "duration": -1381,
    "start_time": "2022-01-22T22:38:41.807Z"
   },
   {
    "duration": -1395,
    "start_time": "2022-01-22T22:38:41.822Z"
   },
   {
    "duration": -1403,
    "start_time": "2022-01-22T22:38:41.831Z"
   },
   {
    "duration": -1407,
    "start_time": "2022-01-22T22:38:41.837Z"
   },
   {
    "duration": -1416,
    "start_time": "2022-01-22T22:38:41.847Z"
   },
   {
    "duration": -1430,
    "start_time": "2022-01-22T22:38:41.863Z"
   },
   {
    "duration": -1431,
    "start_time": "2022-01-22T22:38:41.865Z"
   },
   {
    "duration": -1436,
    "start_time": "2022-01-22T22:38:41.871Z"
   },
   {
    "duration": -1444,
    "start_time": "2022-01-22T22:38:41.881Z"
   },
   {
    "duration": -1449,
    "start_time": "2022-01-22T22:38:41.887Z"
   },
   {
    "duration": -1459,
    "start_time": "2022-01-22T22:38:41.898Z"
   },
   {
    "duration": -1463,
    "start_time": "2022-01-22T22:38:41.904Z"
   },
   {
    "duration": -1467,
    "start_time": "2022-01-22T22:38:41.909Z"
   },
   {
    "duration": 20,
    "start_time": "2022-01-22T22:40:12.446Z"
   },
   {
    "duration": 10,
    "start_time": "2022-01-22T22:41:16.718Z"
   },
   {
    "duration": 10,
    "start_time": "2022-01-22T22:42:17.897Z"
   },
   {
    "duration": 2,
    "start_time": "2022-01-22T22:42:42.529Z"
   },
   {
    "duration": 5,
    "start_time": "2022-01-22T22:45:24.130Z"
   },
   {
    "duration": 4,
    "start_time": "2022-01-22T22:45:50.713Z"
   },
   {
    "duration": 348,
    "start_time": "2022-01-22T22:46:02.568Z"
   },
   {
    "duration": 5,
    "start_time": "2022-01-22T22:46:17.200Z"
   },
   {
    "duration": 10,
    "start_time": "2022-01-22T22:47:15.849Z"
   },
   {
    "duration": 4,
    "start_time": "2022-01-22T22:47:28.921Z"
   },
   {
    "duration": 4,
    "start_time": "2022-01-22T22:49:12.799Z"
   },
   {
    "duration": 4,
    "start_time": "2022-01-22T22:49:21.805Z"
   },
   {
    "duration": 6,
    "start_time": "2022-01-22T22:51:45.866Z"
   },
   {
    "duration": 291,
    "start_time": "2022-01-22T22:52:39.095Z"
   },
   {
    "duration": 4,
    "start_time": "2022-01-22T22:52:51.767Z"
   },
   {
    "duration": 3,
    "start_time": "2022-01-22T22:53:43.292Z"
   },
   {
    "duration": 6,
    "start_time": "2022-01-22T22:53:52.159Z"
   },
   {
    "duration": 4,
    "start_time": "2022-01-22T22:54:20.782Z"
   },
   {
    "duration": 201,
    "start_time": "2022-01-22T22:54:20.788Z"
   },
   {
    "duration": 4,
    "start_time": "2022-01-22T22:54:20.992Z"
   },
   {
    "duration": 15,
    "start_time": "2022-01-22T22:54:20.998Z"
   },
   {
    "duration": 10,
    "start_time": "2022-01-22T22:54:21.014Z"
   },
   {
    "duration": 55,
    "start_time": "2022-01-22T22:54:21.026Z"
   },
   {
    "duration": 35,
    "start_time": "2022-01-22T22:54:21.083Z"
   },
   {
    "duration": 8,
    "start_time": "2022-01-22T22:54:21.120Z"
   },
   {
    "duration": 51,
    "start_time": "2022-01-22T22:54:21.131Z"
   },
   {
    "duration": 18,
    "start_time": "2022-01-22T22:54:21.185Z"
   },
   {
    "duration": 14,
    "start_time": "2022-01-22T22:54:21.206Z"
   },
   {
    "duration": 10,
    "start_time": "2022-01-22T22:54:21.222Z"
   },
   {
    "duration": 39,
    "start_time": "2022-01-22T22:54:21.234Z"
   },
   {
    "duration": 9,
    "start_time": "2022-01-22T22:54:21.274Z"
   },
   {
    "duration": 3,
    "start_time": "2022-01-22T22:54:21.285Z"
   },
   {
    "duration": 4,
    "start_time": "2022-01-22T22:54:21.289Z"
   },
   {
    "duration": 6,
    "start_time": "2022-01-22T22:54:21.295Z"
   },
   {
    "duration": 10,
    "start_time": "2022-01-22T22:54:21.303Z"
   },
   {
    "duration": 6,
    "start_time": "2022-01-22T22:54:21.315Z"
   },
   {
    "duration": 50,
    "start_time": "2022-01-22T22:54:21.322Z"
   },
   {
    "duration": 6,
    "start_time": "2022-01-22T22:54:21.373Z"
   },
   {
    "duration": 11,
    "start_time": "2022-01-22T22:54:21.381Z"
   },
   {
    "duration": 4,
    "start_time": "2022-01-22T22:54:21.393Z"
   },
   {
    "duration": 6,
    "start_time": "2022-01-22T22:54:21.401Z"
   },
   {
    "duration": 206,
    "start_time": "2022-01-22T22:54:21.410Z"
   },
   {
    "duration": 2,
    "start_time": "2022-01-22T22:54:21.617Z"
   },
   {
    "duration": 9,
    "start_time": "2022-01-22T22:54:21.620Z"
   },
   {
    "duration": 7,
    "start_time": "2022-01-22T22:54:21.630Z"
   },
   {
    "duration": 6,
    "start_time": "2022-01-22T22:54:21.639Z"
   },
   {
    "duration": 26,
    "start_time": "2022-01-22T22:54:21.647Z"
   },
   {
    "duration": 9,
    "start_time": "2022-01-22T22:54:21.675Z"
   },
   {
    "duration": 5,
    "start_time": "2022-01-22T22:54:21.686Z"
   },
   {
    "duration": 7,
    "start_time": "2022-01-22T22:54:21.693Z"
   },
   {
    "duration": 7,
    "start_time": "2022-01-22T22:54:21.702Z"
   },
   {
    "duration": 11,
    "start_time": "2022-01-22T22:54:21.711Z"
   },
   {
    "duration": 8,
    "start_time": "2022-01-22T22:54:21.724Z"
   },
   {
    "duration": 39,
    "start_time": "2022-01-22T22:54:21.734Z"
   },
   {
    "duration": 7,
    "start_time": "2022-01-22T22:54:21.775Z"
   },
   {
    "duration": 9,
    "start_time": "2022-01-22T22:54:21.784Z"
   },
   {
    "duration": 7,
    "start_time": "2022-01-22T22:54:21.794Z"
   },
   {
    "duration": 10,
    "start_time": "2022-01-22T22:54:21.803Z"
   },
   {
    "duration": 6,
    "start_time": "2022-01-22T22:54:21.814Z"
   },
   {
    "duration": 8,
    "start_time": "2022-01-22T22:54:21.822Z"
   },
   {
    "duration": 41,
    "start_time": "2022-01-22T22:54:21.831Z"
   },
   {
    "duration": 17,
    "start_time": "2022-01-22T22:54:21.873Z"
   },
   {
    "duration": 13,
    "start_time": "2022-01-22T22:54:21.891Z"
   },
   {
    "duration": 4,
    "start_time": "2022-01-22T22:54:21.905Z"
   },
   {
    "duration": 6,
    "start_time": "2022-01-22T22:54:21.910Z"
   },
   {
    "duration": 8,
    "start_time": "2022-01-22T22:54:21.918Z"
   },
   {
    "duration": 9,
    "start_time": "2022-01-22T22:54:21.928Z"
   },
   {
    "duration": 8,
    "start_time": "2022-01-22T22:54:21.939Z"
   },
   {
    "duration": 8,
    "start_time": "2022-01-22T22:54:21.948Z"
   },
   {
    "duration": 19,
    "start_time": "2022-01-22T22:54:21.958Z"
   },
   {
    "duration": 4,
    "start_time": "2022-01-22T22:54:21.979Z"
   },
   {
    "duration": 7,
    "start_time": "2022-01-22T22:54:21.984Z"
   },
   {
    "duration": 9,
    "start_time": "2022-01-22T22:54:21.993Z"
   },
   {
    "duration": 16,
    "start_time": "2022-01-22T22:54:22.004Z"
   },
   {
    "duration": 3,
    "start_time": "2022-01-22T22:54:22.021Z"
   },
   {
    "duration": 8,
    "start_time": "2022-01-22T22:54:22.025Z"
   },
   {
    "duration": 8,
    "start_time": "2022-01-22T22:54:22.034Z"
   },
   {
    "duration": 7,
    "start_time": "2022-01-22T22:54:22.044Z"
   },
   {
    "duration": 4,
    "start_time": "2022-01-22T22:54:22.072Z"
   },
   {
    "duration": 7,
    "start_time": "2022-01-22T22:54:22.078Z"
   },
   {
    "duration": 6,
    "start_time": "2022-01-22T22:54:22.087Z"
   },
   {
    "duration": 8,
    "start_time": "2022-01-22T22:54:22.095Z"
   },
   {
    "duration": 8,
    "start_time": "2022-01-22T22:54:22.104Z"
   },
   {
    "duration": 7,
    "start_time": "2022-01-22T22:54:22.114Z"
   },
   {
    "duration": 9,
    "start_time": "2022-01-22T22:54:22.122Z"
   },
   {
    "duration": 12,
    "start_time": "2022-01-22T22:54:22.135Z"
   },
   {
    "duration": 11,
    "start_time": "2022-01-22T22:54:22.148Z"
   },
   {
    "duration": 13,
    "start_time": "2022-01-22T22:54:22.161Z"
   },
   {
    "duration": 6,
    "start_time": "2022-01-22T22:54:22.176Z"
   },
   {
    "duration": 15,
    "start_time": "2022-01-22T22:54:22.183Z"
   },
   {
    "duration": 4,
    "start_time": "2022-01-22T22:54:22.199Z"
   },
   {
    "duration": 7,
    "start_time": "2022-01-22T22:54:22.204Z"
   },
   {
    "duration": 16,
    "start_time": "2022-01-22T22:54:22.213Z"
   },
   {
    "duration": 7,
    "start_time": "2022-01-22T22:54:22.231Z"
   },
   {
    "duration": 7,
    "start_time": "2022-01-22T22:54:22.239Z"
   },
   {
    "duration": 8,
    "start_time": "2022-01-22T22:54:22.248Z"
   },
   {
    "duration": 14,
    "start_time": "2022-01-22T22:54:22.257Z"
   },
   {
    "duration": 7,
    "start_time": "2022-01-22T22:54:22.273Z"
   },
   {
    "duration": 13,
    "start_time": "2022-01-22T22:54:22.281Z"
   },
   {
    "duration": 5,
    "start_time": "2022-01-22T22:54:47.991Z"
   },
   {
    "duration": 7,
    "start_time": "2022-01-22T22:58:03.137Z"
   },
   {
    "duration": 6,
    "start_time": "2022-01-22T22:58:13.015Z"
   },
   {
    "duration": 7,
    "start_time": "2022-01-22T22:58:20.722Z"
   },
   {
    "duration": 6,
    "start_time": "2022-01-22T22:58:43.775Z"
   },
   {
    "duration": 7,
    "start_time": "2022-01-22T22:58:52.107Z"
   },
   {
    "duration": 5,
    "start_time": "2022-01-22T23:00:04.504Z"
   },
   {
    "duration": 15,
    "start_time": "2022-01-22T23:00:56.575Z"
   },
   {
    "duration": 6,
    "start_time": "2022-01-22T23:12:55.213Z"
   },
   {
    "duration": 7,
    "start_time": "2022-01-22T23:12:59.975Z"
   },
   {
    "duration": 311,
    "start_time": "2022-01-22T23:14:21.559Z"
   },
   {
    "duration": 8,
    "start_time": "2022-01-22T23:14:34.707Z"
   },
   {
    "duration": 11,
    "start_time": "2022-01-22T23:14:41.541Z"
   },
   {
    "duration": 6,
    "start_time": "2022-01-22T23:16:55.563Z"
   },
   {
    "duration": 10,
    "start_time": "2022-01-22T23:17:01.807Z"
   },
   {
    "duration": 5,
    "start_time": "2022-01-22T23:19:12.507Z"
   },
   {
    "duration": 5,
    "start_time": "2022-01-22T23:19:28.291Z"
   },
   {
    "duration": 5,
    "start_time": "2022-01-22T23:19:56.827Z"
   },
   {
    "duration": 5,
    "start_time": "2022-01-22T23:20:06.927Z"
   },
   {
    "duration": 9,
    "start_time": "2022-01-22T23:24:00.471Z"
   },
   {
    "duration": 299,
    "start_time": "2022-01-22T23:29:58.671Z"
   },
   {
    "duration": 4,
    "start_time": "2022-01-22T23:30:07.560Z"
   },
   {
    "duration": 7,
    "start_time": "2022-01-22T23:30:13.135Z"
   },
   {
    "duration": 7,
    "start_time": "2022-01-22T23:30:41.421Z"
   },
   {
    "duration": 14,
    "start_time": "2022-01-23T00:05:36.128Z"
   },
   {
    "duration": 8,
    "start_time": "2022-01-23T00:05:48.046Z"
   },
   {
    "duration": 7,
    "start_time": "2022-01-23T00:06:51.164Z"
   },
   {
    "duration": 7,
    "start_time": "2022-01-23T00:06:52.762Z"
   },
   {
    "duration": 5,
    "start_time": "2022-01-23T00:06:58.350Z"
   },
   {
    "duration": 7,
    "start_time": "2022-01-23T00:07:00.974Z"
   },
   {
    "duration": 5,
    "start_time": "2022-01-23T00:07:21.124Z"
   },
   {
    "duration": 6,
    "start_time": "2022-01-23T00:07:49.329Z"
   },
   {
    "duration": 7,
    "start_time": "2022-01-23T00:07:57.279Z"
   },
   {
    "duration": 7,
    "start_time": "2022-01-23T00:08:08.435Z"
   },
   {
    "duration": 5,
    "start_time": "2022-01-23T00:08:15.640Z"
   },
   {
    "duration": 8,
    "start_time": "2022-01-23T00:08:21.832Z"
   },
   {
    "duration": 15,
    "start_time": "2022-01-23T00:09:06.599Z"
   },
   {
    "duration": 11,
    "start_time": "2022-01-23T00:09:53.974Z"
   },
   {
    "duration": 16,
    "start_time": "2022-01-23T00:15:30.448Z"
   },
   {
    "duration": 7,
    "start_time": "2022-01-23T00:15:35.709Z"
   },
   {
    "duration": 2,
    "start_time": "2022-01-23T00:15:48.268Z"
   },
   {
    "duration": 326,
    "start_time": "2022-01-23T00:15:48.275Z"
   },
   {
    "duration": 3,
    "start_time": "2022-01-23T00:15:48.603Z"
   },
   {
    "duration": 12,
    "start_time": "2022-01-23T00:15:48.608Z"
   },
   {
    "duration": 9,
    "start_time": "2022-01-23T00:15:48.622Z"
   },
   {
    "duration": 45,
    "start_time": "2022-01-23T00:15:48.633Z"
   },
   {
    "duration": 30,
    "start_time": "2022-01-23T00:15:48.680Z"
   },
   {
    "duration": 5,
    "start_time": "2022-01-23T00:15:48.712Z"
   },
   {
    "duration": 18,
    "start_time": "2022-01-23T00:15:48.720Z"
   },
   {
    "duration": 36,
    "start_time": "2022-01-23T00:15:48.740Z"
   },
   {
    "duration": 8,
    "start_time": "2022-01-23T00:15:48.778Z"
   },
   {
    "duration": 10,
    "start_time": "2022-01-23T00:15:48.787Z"
   },
   {
    "duration": 10,
    "start_time": "2022-01-23T00:15:48.798Z"
   },
   {
    "duration": 8,
    "start_time": "2022-01-23T00:15:48.810Z"
   },
   {
    "duration": 2,
    "start_time": "2022-01-23T00:15:48.819Z"
   },
   {
    "duration": 6,
    "start_time": "2022-01-23T00:15:48.823Z"
   },
   {
    "duration": 41,
    "start_time": "2022-01-23T00:15:48.830Z"
   },
   {
    "duration": 9,
    "start_time": "2022-01-23T00:15:48.873Z"
   },
   {
    "duration": 7,
    "start_time": "2022-01-23T00:15:48.883Z"
   },
   {
    "duration": 9,
    "start_time": "2022-01-23T00:15:48.891Z"
   },
   {
    "duration": 9,
    "start_time": "2022-01-23T00:15:48.901Z"
   },
   {
    "duration": 12,
    "start_time": "2022-01-23T00:15:48.912Z"
   },
   {
    "duration": 5,
    "start_time": "2022-01-23T00:15:48.925Z"
   },
   {
    "duration": 7,
    "start_time": "2022-01-23T00:15:48.934Z"
   },
   {
    "duration": 197,
    "start_time": "2022-01-23T00:15:48.943Z"
   },
   {
    "duration": 2,
    "start_time": "2022-01-23T00:15:49.142Z"
   },
   {
    "duration": 8,
    "start_time": "2022-01-23T00:15:49.146Z"
   },
   {
    "duration": 18,
    "start_time": "2022-01-23T00:15:49.156Z"
   },
   {
    "duration": 8,
    "start_time": "2022-01-23T00:15:49.176Z"
   },
   {
    "duration": 3,
    "start_time": "2022-01-23T00:15:49.186Z"
   },
   {
    "duration": 9,
    "start_time": "2022-01-23T00:15:49.191Z"
   },
   {
    "duration": 7,
    "start_time": "2022-01-23T00:15:49.201Z"
   },
   {
    "duration": 13,
    "start_time": "2022-01-23T00:15:49.210Z"
   },
   {
    "duration": 14,
    "start_time": "2022-01-23T00:15:49.225Z"
   },
   {
    "duration": 33,
    "start_time": "2022-01-23T00:15:49.241Z"
   },
   {
    "duration": 17,
    "start_time": "2022-01-23T00:15:49.275Z"
   },
   {
    "duration": 8,
    "start_time": "2022-01-23T00:15:49.293Z"
   },
   {
    "duration": 8,
    "start_time": "2022-01-23T00:15:49.303Z"
   },
   {
    "duration": 12,
    "start_time": "2022-01-23T00:15:49.313Z"
   },
   {
    "duration": 11,
    "start_time": "2022-01-23T00:15:49.326Z"
   },
   {
    "duration": 10,
    "start_time": "2022-01-23T00:15:49.338Z"
   },
   {
    "duration": 6,
    "start_time": "2022-01-23T00:15:49.350Z"
   },
   {
    "duration": 2,
    "start_time": "2022-01-23T00:15:49.371Z"
   },
   {
    "duration": 18,
    "start_time": "2022-01-23T00:15:49.375Z"
   },
   {
    "duration": 15,
    "start_time": "2022-01-23T00:15:49.395Z"
   },
   {
    "duration": 13,
    "start_time": "2022-01-23T00:15:49.412Z"
   },
   {
    "duration": 4,
    "start_time": "2022-01-23T00:15:49.426Z"
   },
   {
    "duration": 6,
    "start_time": "2022-01-23T00:15:49.432Z"
   },
   {
    "duration": 33,
    "start_time": "2022-01-23T00:15:49.440Z"
   },
   {
    "duration": 4,
    "start_time": "2022-01-23T00:15:49.475Z"
   },
   {
    "duration": 8,
    "start_time": "2022-01-23T00:15:49.481Z"
   },
   {
    "duration": 7,
    "start_time": "2022-01-23T00:15:49.491Z"
   },
   {
    "duration": 14,
    "start_time": "2022-01-23T00:15:49.500Z"
   },
   {
    "duration": 7,
    "start_time": "2022-01-23T00:15:49.516Z"
   },
   {
    "duration": 7,
    "start_time": "2022-01-23T00:15:49.524Z"
   },
   {
    "duration": 7,
    "start_time": "2022-01-23T00:15:49.533Z"
   },
   {
    "duration": 15,
    "start_time": "2022-01-23T00:15:49.541Z"
   },
   {
    "duration": 15,
    "start_time": "2022-01-23T00:15:49.558Z"
   },
   {
    "duration": 8,
    "start_time": "2022-01-23T00:15:49.574Z"
   },
   {
    "duration": 8,
    "start_time": "2022-01-23T00:15:49.584Z"
   },
   {
    "duration": 8,
    "start_time": "2022-01-23T00:15:49.594Z"
   },
   {
    "duration": 11,
    "start_time": "2022-01-23T00:15:49.603Z"
   },
   {
    "duration": 10,
    "start_time": "2022-01-23T00:15:49.615Z"
   },
   {
    "duration": 7,
    "start_time": "2022-01-23T00:15:49.626Z"
   },
   {
    "duration": 14,
    "start_time": "2022-01-23T00:15:49.635Z"
   },
   {
    "duration": 9,
    "start_time": "2022-01-23T00:15:49.650Z"
   },
   {
    "duration": 7,
    "start_time": "2022-01-23T00:15:49.661Z"
   },
   {
    "duration": 12,
    "start_time": "2022-01-23T00:15:49.670Z"
   },
   {
    "duration": 12,
    "start_time": "2022-01-23T00:15:49.687Z"
   },
   {
    "duration": 11,
    "start_time": "2022-01-23T00:15:49.701Z"
   },
   {
    "duration": 9,
    "start_time": "2022-01-23T00:15:49.714Z"
   },
   {
    "duration": 8,
    "start_time": "2022-01-23T00:15:49.724Z"
   },
   {
    "duration": 16,
    "start_time": "2022-01-23T00:15:49.733Z"
   },
   {
    "duration": 4,
    "start_time": "2022-01-23T00:15:49.751Z"
   },
   {
    "duration": 9,
    "start_time": "2022-01-23T00:15:49.756Z"
   },
   {
    "duration": 4,
    "start_time": "2022-01-23T00:15:49.771Z"
   },
   {
    "duration": 10,
    "start_time": "2022-01-23T00:15:49.776Z"
   },
   {
    "duration": 8,
    "start_time": "2022-01-23T00:15:49.787Z"
   },
   {
    "duration": 9,
    "start_time": "2022-01-23T00:15:49.796Z"
   },
   {
    "duration": 9,
    "start_time": "2022-01-23T00:15:49.807Z"
   },
   {
    "duration": 7,
    "start_time": "2022-01-23T00:15:49.818Z"
   },
   {
    "duration": 13,
    "start_time": "2022-01-23T00:15:49.827Z"
   },
   {
    "duration": 12,
    "start_time": "2022-01-23T00:16:06.504Z"
   },
   {
    "duration": 11,
    "start_time": "2022-01-23T00:16:11.464Z"
   },
   {
    "duration": 4,
    "start_time": "2022-01-23T00:16:17.934Z"
   },
   {
    "duration": 4,
    "start_time": "2022-01-23T00:16:33.552Z"
   },
   {
    "duration": 11,
    "start_time": "2022-01-23T00:16:39.777Z"
   },
   {
    "duration": 20,
    "start_time": "2022-01-23T00:18:15.206Z"
   },
   {
    "duration": 8,
    "start_time": "2022-01-23T00:19:08.058Z"
   },
   {
    "duration": 12,
    "start_time": "2022-01-23T00:19:14.789Z"
   },
   {
    "duration": 3,
    "start_time": "2022-01-23T00:37:02.489Z"
   },
   {
    "duration": 11,
    "start_time": "2022-01-23T00:37:07.992Z"
   },
   {
    "duration": 5,
    "start_time": "2022-01-23T00:37:47.568Z"
   },
   {
    "duration": 341,
    "start_time": "2022-01-23T00:37:58.889Z"
   },
   {
    "duration": 303,
    "start_time": "2022-01-23T00:38:30.049Z"
   },
   {
    "duration": 304,
    "start_time": "2022-01-23T00:38:52.969Z"
   },
   {
    "duration": 1134,
    "start_time": "2022-01-23T00:39:05.321Z"
   },
   {
    "duration": 204,
    "start_time": "2022-01-23T00:39:06.457Z"
   },
   {
    "duration": 3,
    "start_time": "2022-01-23T00:39:06.663Z"
   },
   {
    "duration": 12,
    "start_time": "2022-01-23T00:39:06.667Z"
   },
   {
    "duration": 10,
    "start_time": "2022-01-23T00:39:06.681Z"
   },
   {
    "duration": 29,
    "start_time": "2022-01-23T00:39:06.692Z"
   },
   {
    "duration": 50,
    "start_time": "2022-01-23T00:39:06.722Z"
   },
   {
    "duration": 6,
    "start_time": "2022-01-23T00:39:06.775Z"
   },
   {
    "duration": 20,
    "start_time": "2022-01-23T00:39:06.783Z"
   },
   {
    "duration": 8,
    "start_time": "2022-01-23T00:39:06.804Z"
   },
   {
    "duration": 8,
    "start_time": "2022-01-23T00:39:06.814Z"
   },
   {
    "duration": 9,
    "start_time": "2022-01-23T00:39:06.824Z"
   },
   {
    "duration": 38,
    "start_time": "2022-01-23T00:39:06.834Z"
   },
   {
    "duration": 8,
    "start_time": "2022-01-23T00:39:06.874Z"
   },
   {
    "duration": 3,
    "start_time": "2022-01-23T00:39:06.883Z"
   },
   {
    "duration": 6,
    "start_time": "2022-01-23T00:39:06.887Z"
   },
   {
    "duration": 11,
    "start_time": "2022-01-23T00:39:06.894Z"
   },
   {
    "duration": 13,
    "start_time": "2022-01-23T00:39:06.906Z"
   },
   {
    "duration": 9,
    "start_time": "2022-01-23T00:39:06.921Z"
   },
   {
    "duration": 10,
    "start_time": "2022-01-23T00:39:06.931Z"
   },
   {
    "duration": 8,
    "start_time": "2022-01-23T00:39:06.942Z"
   },
   {
    "duration": 29,
    "start_time": "2022-01-23T00:39:06.951Z"
   },
   {
    "duration": 3,
    "start_time": "2022-01-23T00:39:06.983Z"
   },
   {
    "duration": 9,
    "start_time": "2022-01-23T00:39:06.988Z"
   },
   {
    "duration": 190,
    "start_time": "2022-01-23T00:39:06.999Z"
   },
   {
    "duration": 2,
    "start_time": "2022-01-23T00:39:07.191Z"
   },
   {
    "duration": 9,
    "start_time": "2022-01-23T00:39:07.195Z"
   },
   {
    "duration": 7,
    "start_time": "2022-01-23T00:39:07.205Z"
   },
   {
    "duration": 8,
    "start_time": "2022-01-23T00:39:07.213Z"
   },
   {
    "duration": 2,
    "start_time": "2022-01-23T00:39:07.223Z"
   },
   {
    "duration": 7,
    "start_time": "2022-01-23T00:39:07.227Z"
   },
   {
    "duration": 37,
    "start_time": "2022-01-23T00:39:07.236Z"
   },
   {
    "duration": 6,
    "start_time": "2022-01-23T00:39:07.274Z"
   },
   {
    "duration": 5,
    "start_time": "2022-01-23T00:39:07.281Z"
   },
   {
    "duration": 13,
    "start_time": "2022-01-23T00:39:07.287Z"
   },
   {
    "duration": 21,
    "start_time": "2022-01-23T00:39:07.301Z"
   },
   {
    "duration": 7,
    "start_time": "2022-01-23T00:39:07.324Z"
   },
   {
    "duration": 11,
    "start_time": "2022-01-23T00:39:07.332Z"
   },
   {
    "duration": 31,
    "start_time": "2022-01-23T00:39:07.345Z"
   },
   {
    "duration": 7,
    "start_time": "2022-01-23T00:39:07.377Z"
   },
   {
    "duration": 11,
    "start_time": "2022-01-23T00:39:07.386Z"
   },
   {
    "duration": 10,
    "start_time": "2022-01-23T00:39:07.398Z"
   },
   {
    "duration": 8,
    "start_time": "2022-01-23T00:39:07.409Z"
   },
   {
    "duration": 19,
    "start_time": "2022-01-23T00:39:07.419Z"
   },
   {
    "duration": 15,
    "start_time": "2022-01-23T00:39:07.439Z"
   },
   {
    "duration": 24,
    "start_time": "2022-01-23T00:39:07.456Z"
   },
   {
    "duration": 3,
    "start_time": "2022-01-23T00:39:07.482Z"
   },
   {
    "duration": 4,
    "start_time": "2022-01-23T00:39:07.486Z"
   },
   {
    "duration": 9,
    "start_time": "2022-01-23T00:39:07.491Z"
   },
   {
    "duration": 8,
    "start_time": "2022-01-23T00:39:07.501Z"
   },
   {
    "duration": 8,
    "start_time": "2022-01-23T00:39:07.510Z"
   },
   {
    "duration": 10,
    "start_time": "2022-01-23T00:39:07.520Z"
   },
   {
    "duration": 23,
    "start_time": "2022-01-23T00:39:07.531Z"
   },
   {
    "duration": 15,
    "start_time": "2022-01-23T00:39:07.556Z"
   },
   {
    "duration": 15,
    "start_time": "2022-01-23T00:39:07.573Z"
   },
   {
    "duration": 21,
    "start_time": "2022-01-23T00:39:07.589Z"
   },
   {
    "duration": 20,
    "start_time": "2022-01-23T00:39:07.611Z"
   },
   {
    "duration": 19,
    "start_time": "2022-01-23T00:39:07.633Z"
   },
   {
    "duration": 21,
    "start_time": "2022-01-23T00:39:07.653Z"
   },
   {
    "duration": 28,
    "start_time": "2022-01-23T00:39:07.676Z"
   },
   {
    "duration": 19,
    "start_time": "2022-01-23T00:39:07.706Z"
   },
   {
    "duration": 22,
    "start_time": "2022-01-23T00:39:07.727Z"
   },
   {
    "duration": 21,
    "start_time": "2022-01-23T00:39:07.750Z"
   },
   {
    "duration": 13,
    "start_time": "2022-01-23T00:39:07.772Z"
   },
   {
    "duration": 16,
    "start_time": "2022-01-23T00:39:07.787Z"
   },
   {
    "duration": 21,
    "start_time": "2022-01-23T00:39:07.804Z"
   },
   {
    "duration": 13,
    "start_time": "2022-01-23T00:39:07.827Z"
   },
   {
    "duration": 8,
    "start_time": "2022-01-23T00:39:07.845Z"
   },
   {
    "duration": 39,
    "start_time": "2022-01-23T00:39:07.855Z"
   },
   {
    "duration": 27,
    "start_time": "2022-01-23T00:39:07.896Z"
   },
   {
    "duration": 6,
    "start_time": "2022-01-23T00:39:07.925Z"
   },
   {
    "duration": 14,
    "start_time": "2022-01-23T00:39:07.932Z"
   },
   {
    "duration": 23,
    "start_time": "2022-01-23T00:39:07.947Z"
   },
   {
    "duration": 2,
    "start_time": "2022-01-23T00:39:07.972Z"
   },
   {
    "duration": 9,
    "start_time": "2022-01-23T00:39:07.975Z"
   },
   {
    "duration": 9,
    "start_time": "2022-01-23T00:39:07.985Z"
   },
   {
    "duration": 7,
    "start_time": "2022-01-23T00:39:07.995Z"
   },
   {
    "duration": 7,
    "start_time": "2022-01-23T00:39:08.003Z"
   },
   {
    "duration": 7,
    "start_time": "2022-01-23T00:39:08.012Z"
   },
   {
    "duration": 8,
    "start_time": "2022-01-23T00:39:08.021Z"
   },
   {
    "duration": 8,
    "start_time": "2022-01-23T00:39:08.031Z"
   },
   {
    "duration": 13,
    "start_time": "2022-01-23T00:39:08.040Z"
   },
   {
    "duration": 6,
    "start_time": "2022-01-23T00:39:27.585Z"
   },
   {
    "duration": 4,
    "start_time": "2022-01-23T00:39:38.521Z"
   },
   {
    "duration": 13,
    "start_time": "2022-01-23T00:39:56.063Z"
   },
   {
    "duration": 8,
    "start_time": "2022-01-23T00:40:08.995Z"
   },
   {
    "duration": 4,
    "start_time": "2022-01-23T00:42:58.605Z"
   },
   {
    "duration": 8,
    "start_time": "2022-01-23T00:43:05.026Z"
   },
   {
    "duration": 12,
    "start_time": "2022-01-23T00:43:48.374Z"
   },
   {
    "duration": 2,
    "start_time": "2022-01-23T00:44:13.307Z"
   },
   {
    "duration": 7,
    "start_time": "2022-01-23T00:44:18.997Z"
   },
   {
    "duration": 1157,
    "start_time": "2022-01-23T00:44:53.447Z"
   },
   {
    "duration": 226,
    "start_time": "2022-01-23T00:44:54.606Z"
   },
   {
    "duration": 4,
    "start_time": "2022-01-23T00:44:54.834Z"
   },
   {
    "duration": 12,
    "start_time": "2022-01-23T00:44:54.840Z"
   },
   {
    "duration": 19,
    "start_time": "2022-01-23T00:44:54.854Z"
   },
   {
    "duration": 28,
    "start_time": "2022-01-23T00:44:54.875Z"
   },
   {
    "duration": 29,
    "start_time": "2022-01-23T00:44:54.905Z"
   },
   {
    "duration": 6,
    "start_time": "2022-01-23T00:44:54.936Z"
   },
   {
    "duration": 44,
    "start_time": "2022-01-23T00:44:54.943Z"
   },
   {
    "duration": 8,
    "start_time": "2022-01-23T00:44:54.988Z"
   },
   {
    "duration": 8,
    "start_time": "2022-01-23T00:44:54.998Z"
   },
   {
    "duration": 9,
    "start_time": "2022-01-23T00:44:55.007Z"
   },
   {
    "duration": 8,
    "start_time": "2022-01-23T00:44:55.018Z"
   },
   {
    "duration": 8,
    "start_time": "2022-01-23T00:44:55.027Z"
   },
   {
    "duration": 2,
    "start_time": "2022-01-23T00:44:55.036Z"
   },
   {
    "duration": 32,
    "start_time": "2022-01-23T00:44:55.040Z"
   },
   {
    "duration": 8,
    "start_time": "2022-01-23T00:44:55.074Z"
   },
   {
    "duration": 13,
    "start_time": "2022-01-23T00:44:55.084Z"
   },
   {
    "duration": 9,
    "start_time": "2022-01-23T00:44:55.098Z"
   },
   {
    "duration": 10,
    "start_time": "2022-01-23T00:44:55.108Z"
   },
   {
    "duration": 8,
    "start_time": "2022-01-23T00:44:55.119Z"
   },
   {
    "duration": 19,
    "start_time": "2022-01-23T00:44:55.128Z"
   },
   {
    "duration": 3,
    "start_time": "2022-01-23T00:44:55.151Z"
   },
   {
    "duration": 19,
    "start_time": "2022-01-23T00:44:55.156Z"
   },
   {
    "duration": 184,
    "start_time": "2022-01-23T00:44:55.176Z"
   },
   {
    "duration": 2,
    "start_time": "2022-01-23T00:44:55.361Z"
   },
   {
    "duration": 7,
    "start_time": "2022-01-23T00:44:55.371Z"
   },
   {
    "duration": 7,
    "start_time": "2022-01-23T00:44:55.379Z"
   },
   {
    "duration": 7,
    "start_time": "2022-01-23T00:44:55.387Z"
   },
   {
    "duration": 3,
    "start_time": "2022-01-23T00:44:55.396Z"
   },
   {
    "duration": 8,
    "start_time": "2022-01-23T00:44:55.400Z"
   },
   {
    "duration": 5,
    "start_time": "2022-01-23T00:44:55.409Z"
   },
   {
    "duration": 9,
    "start_time": "2022-01-23T00:44:55.415Z"
   },
   {
    "duration": 7,
    "start_time": "2022-01-23T00:44:55.426Z"
   },
   {
    "duration": 42,
    "start_time": "2022-01-23T00:44:55.435Z"
   },
   {
    "duration": 4,
    "start_time": "2022-01-23T00:44:55.478Z"
   },
   {
    "duration": 10,
    "start_time": "2022-01-23T00:44:55.483Z"
   },
   {
    "duration": 16,
    "start_time": "2022-01-23T00:44:55.494Z"
   },
   {
    "duration": 16,
    "start_time": "2022-01-23T00:44:55.512Z"
   },
   {
    "duration": 12,
    "start_time": "2022-01-23T00:44:55.529Z"
   },
   {
    "duration": 11,
    "start_time": "2022-01-23T00:44:55.543Z"
   },
   {
    "duration": 7,
    "start_time": "2022-01-23T00:44:55.556Z"
   },
   {
    "duration": 8,
    "start_time": "2022-01-23T00:44:55.564Z"
   },
   {
    "duration": 19,
    "start_time": "2022-01-23T00:44:55.574Z"
   },
   {
    "duration": 17,
    "start_time": "2022-01-23T00:44:55.595Z"
   },
   {
    "duration": 14,
    "start_time": "2022-01-23T00:44:55.614Z"
   },
   {
    "duration": 3,
    "start_time": "2022-01-23T00:44:55.630Z"
   },
   {
    "duration": 6,
    "start_time": "2022-01-23T00:44:55.635Z"
   },
   {
    "duration": 8,
    "start_time": "2022-01-23T00:44:55.642Z"
   },
   {
    "duration": 21,
    "start_time": "2022-01-23T00:44:55.651Z"
   },
   {
    "duration": 8,
    "start_time": "2022-01-23T00:44:55.673Z"
   },
   {
    "duration": 10,
    "start_time": "2022-01-23T00:44:55.682Z"
   },
   {
    "duration": 14,
    "start_time": "2022-01-23T00:44:55.693Z"
   },
   {
    "duration": 7,
    "start_time": "2022-01-23T00:44:55.708Z"
   },
   {
    "duration": 9,
    "start_time": "2022-01-23T00:44:55.717Z"
   },
   {
    "duration": 7,
    "start_time": "2022-01-23T00:44:55.728Z"
   },
   {
    "duration": 16,
    "start_time": "2022-01-23T00:44:55.736Z"
   },
   {
    "duration": 4,
    "start_time": "2022-01-23T00:44:55.753Z"
   },
   {
    "duration": 9,
    "start_time": "2022-01-23T00:44:55.759Z"
   },
   {
    "duration": 8,
    "start_time": "2022-01-23T00:44:55.769Z"
   },
   {
    "duration": 8,
    "start_time": "2022-01-23T00:44:55.778Z"
   },
   {
    "duration": 10,
    "start_time": "2022-01-23T00:44:55.788Z"
   },
   {
    "duration": 7,
    "start_time": "2022-01-23T00:44:55.800Z"
   },
   {
    "duration": 10,
    "start_time": "2022-01-23T00:44:55.809Z"
   },
   {
    "duration": 7,
    "start_time": "2022-01-23T00:44:55.821Z"
   },
   {
    "duration": 8,
    "start_time": "2022-01-23T00:44:55.830Z"
   },
   {
    "duration": 8,
    "start_time": "2022-01-23T00:44:55.840Z"
   },
   {
    "duration": 6,
    "start_time": "2022-01-23T00:44:55.852Z"
   },
   {
    "duration": 15,
    "start_time": "2022-01-23T00:44:55.860Z"
   },
   {
    "duration": 11,
    "start_time": "2022-01-23T00:44:55.876Z"
   },
   {
    "duration": 13,
    "start_time": "2022-01-23T00:44:55.888Z"
   },
   {
    "duration": 7,
    "start_time": "2022-01-23T00:44:55.902Z"
   },
   {
    "duration": 19,
    "start_time": "2022-01-23T00:44:55.910Z"
   },
   {
    "duration": 2,
    "start_time": "2022-01-23T00:44:55.930Z"
   },
   {
    "duration": 8,
    "start_time": "2022-01-23T00:44:55.933Z"
   },
   {
    "duration": 8,
    "start_time": "2022-01-23T00:44:55.943Z"
   },
   {
    "duration": 8,
    "start_time": "2022-01-23T00:44:55.953Z"
   },
   {
    "duration": 10,
    "start_time": "2022-01-23T00:44:55.962Z"
   },
   {
    "duration": 8,
    "start_time": "2022-01-23T00:44:55.973Z"
   },
   {
    "duration": 7,
    "start_time": "2022-01-23T00:44:55.983Z"
   },
   {
    "duration": 8,
    "start_time": "2022-01-23T00:44:55.992Z"
   },
   {
    "duration": 16,
    "start_time": "2022-01-23T00:44:56.001Z"
   },
   {
    "duration": 4,
    "start_time": "2022-01-23T00:46:04.393Z"
   },
   {
    "duration": 13,
    "start_time": "2022-01-23T00:46:10.436Z"
   },
   {
    "duration": 402,
    "start_time": "2022-01-23T00:48:02.401Z"
   },
   {
    "duration": 14,
    "start_time": "2022-01-23T00:48:25.916Z"
   },
   {
    "duration": 114,
    "start_time": "2022-01-23T00:49:32.225Z"
   },
   {
    "duration": 15,
    "start_time": "2022-01-23T00:49:48.678Z"
   },
   {
    "duration": 14,
    "start_time": "2022-01-23T00:50:50.275Z"
   },
   {
    "duration": 102,
    "start_time": "2022-01-23T01:12:12.980Z"
   },
   {
    "duration": 110,
    "start_time": "2022-01-23T01:12:27.629Z"
   },
   {
    "duration": 11,
    "start_time": "2022-01-23T01:15:22.274Z"
   },
   {
    "duration": 97,
    "start_time": "2022-01-23T01:16:33.463Z"
   },
   {
    "duration": 14,
    "start_time": "2022-01-23T01:16:45.701Z"
   },
   {
    "duration": 5,
    "start_time": "2022-01-23T01:16:55.228Z"
   },
   {
    "duration": 18,
    "start_time": "2022-01-23T01:17:17.852Z"
   },
   {
    "duration": 11,
    "start_time": "2022-01-23T01:17:27.222Z"
   },
   {
    "duration": 102,
    "start_time": "2022-01-23T01:22:01.291Z"
   },
   {
    "duration": 101,
    "start_time": "2022-01-23T01:23:09.325Z"
   },
   {
    "duration": 184,
    "start_time": "2022-01-23T01:24:27.271Z"
   },
   {
    "duration": 125,
    "start_time": "2022-01-23T01:25:04.382Z"
   },
   {
    "duration": 5,
    "start_time": "2022-01-23T01:27:00.005Z"
   },
   {
    "duration": 4,
    "start_time": "2022-01-23T01:27:10.484Z"
   },
   {
    "duration": 10,
    "start_time": "2022-01-23T01:27:36.835Z"
   },
   {
    "duration": 118,
    "start_time": "2022-01-23T01:28:05.905Z"
   },
   {
    "duration": 1149,
    "start_time": "2022-01-23T01:29:04.463Z"
   },
   {
    "duration": 177,
    "start_time": "2022-01-23T01:29:05.614Z"
   },
   {
    "duration": 4,
    "start_time": "2022-01-23T01:29:05.793Z"
   },
   {
    "duration": 13,
    "start_time": "2022-01-23T01:29:05.798Z"
   },
   {
    "duration": 12,
    "start_time": "2022-01-23T01:29:05.812Z"
   },
   {
    "duration": 28,
    "start_time": "2022-01-23T01:29:05.826Z"
   },
   {
    "duration": 44,
    "start_time": "2022-01-23T01:29:05.856Z"
   },
   {
    "duration": 7,
    "start_time": "2022-01-23T01:29:05.903Z"
   },
   {
    "duration": 20,
    "start_time": "2022-01-23T01:29:05.913Z"
   },
   {
    "duration": 43,
    "start_time": "2022-01-23T01:29:05.934Z"
   },
   {
    "duration": 10,
    "start_time": "2022-01-23T01:29:05.979Z"
   },
   {
    "duration": 13,
    "start_time": "2022-01-23T01:29:05.991Z"
   },
   {
    "duration": 11,
    "start_time": "2022-01-23T01:29:06.006Z"
   },
   {
    "duration": 9,
    "start_time": "2022-01-23T01:29:06.019Z"
   },
   {
    "duration": 3,
    "start_time": "2022-01-23T01:29:06.030Z"
   },
   {
    "duration": 12,
    "start_time": "2022-01-23T01:29:06.035Z"
   },
   {
    "duration": 9,
    "start_time": "2022-01-23T01:29:06.071Z"
   },
   {
    "duration": 11,
    "start_time": "2022-01-23T01:29:06.082Z"
   },
   {
    "duration": 8,
    "start_time": "2022-01-23T01:29:06.094Z"
   },
   {
    "duration": 13,
    "start_time": "2022-01-23T01:29:06.103Z"
   },
   {
    "duration": 11,
    "start_time": "2022-01-23T01:29:06.117Z"
   },
   {
    "duration": 13,
    "start_time": "2022-01-23T01:29:06.129Z"
   },
   {
    "duration": 3,
    "start_time": "2022-01-23T01:29:06.146Z"
   },
   {
    "duration": 20,
    "start_time": "2022-01-23T01:29:06.151Z"
   },
   {
    "duration": 178,
    "start_time": "2022-01-23T01:29:06.173Z"
   },
   {
    "duration": 2,
    "start_time": "2022-01-23T01:29:06.353Z"
   },
   {
    "duration": 15,
    "start_time": "2022-01-23T01:29:06.356Z"
   },
   {
    "duration": 5,
    "start_time": "2022-01-23T01:29:06.373Z"
   },
   {
    "duration": 7,
    "start_time": "2022-01-23T01:29:06.379Z"
   },
   {
    "duration": 2,
    "start_time": "2022-01-23T01:29:06.388Z"
   },
   {
    "duration": 9,
    "start_time": "2022-01-23T01:29:06.392Z"
   },
   {
    "duration": 6,
    "start_time": "2022-01-23T01:29:06.402Z"
   },
   {
    "duration": 9,
    "start_time": "2022-01-23T01:29:06.409Z"
   },
   {
    "duration": 8,
    "start_time": "2022-01-23T01:29:06.420Z"
   },
   {
    "duration": 10,
    "start_time": "2022-01-23T01:29:06.429Z"
   },
   {
    "duration": 31,
    "start_time": "2022-01-23T01:29:06.441Z"
   },
   {
    "duration": 6,
    "start_time": "2022-01-23T01:29:06.473Z"
   },
   {
    "duration": 9,
    "start_time": "2022-01-23T01:29:06.480Z"
   },
   {
    "duration": 9,
    "start_time": "2022-01-23T01:29:06.491Z"
   },
   {
    "duration": 10,
    "start_time": "2022-01-23T01:29:06.501Z"
   },
   {
    "duration": 11,
    "start_time": "2022-01-23T01:29:06.512Z"
   },
   {
    "duration": 7,
    "start_time": "2022-01-23T01:29:06.524Z"
   },
   {
    "duration": 8,
    "start_time": "2022-01-23T01:29:06.532Z"
   },
   {
    "duration": 29,
    "start_time": "2022-01-23T01:29:06.542Z"
   },
   {
    "duration": 15,
    "start_time": "2022-01-23T01:29:06.573Z"
   },
   {
    "duration": 13,
    "start_time": "2022-01-23T01:29:06.589Z"
   },
   {
    "duration": 3,
    "start_time": "2022-01-23T01:29:06.603Z"
   },
   {
    "duration": 7,
    "start_time": "2022-01-23T01:29:06.608Z"
   },
   {
    "duration": 7,
    "start_time": "2022-01-23T01:29:06.616Z"
   },
   {
    "duration": 8,
    "start_time": "2022-01-23T01:29:06.625Z"
   },
   {
    "duration": 7,
    "start_time": "2022-01-23T01:29:06.635Z"
   },
   {
    "duration": 10,
    "start_time": "2022-01-23T01:29:06.643Z"
   },
   {
    "duration": 21,
    "start_time": "2022-01-23T01:29:06.654Z"
   },
   {
    "duration": 6,
    "start_time": "2022-01-23T01:29:06.677Z"
   },
   {
    "duration": 8,
    "start_time": "2022-01-23T01:29:06.684Z"
   },
   {
    "duration": 6,
    "start_time": "2022-01-23T01:29:06.694Z"
   },
   {
    "duration": 15,
    "start_time": "2022-01-23T01:29:06.701Z"
   },
   {
    "duration": 5,
    "start_time": "2022-01-23T01:29:06.717Z"
   },
   {
    "duration": 8,
    "start_time": "2022-01-23T01:29:06.723Z"
   },
   {
    "duration": 8,
    "start_time": "2022-01-23T01:29:06.732Z"
   },
   {
    "duration": 8,
    "start_time": "2022-01-23T01:29:06.741Z"
   },
   {
    "duration": 9,
    "start_time": "2022-01-23T01:29:06.751Z"
   },
   {
    "duration": 13,
    "start_time": "2022-01-23T01:29:06.761Z"
   },
   {
    "duration": 7,
    "start_time": "2022-01-23T01:29:06.775Z"
   },
   {
    "duration": 8,
    "start_time": "2022-01-23T01:29:06.784Z"
   },
   {
    "duration": 8,
    "start_time": "2022-01-23T01:29:06.794Z"
   },
   {
    "duration": 8,
    "start_time": "2022-01-23T01:29:06.804Z"
   },
   {
    "duration": 7,
    "start_time": "2022-01-23T01:29:06.816Z"
   },
   {
    "duration": 16,
    "start_time": "2022-01-23T01:29:06.825Z"
   },
   {
    "duration": 12,
    "start_time": "2022-01-23T01:29:06.842Z"
   },
   {
    "duration": 5,
    "start_time": "2022-01-23T01:29:06.856Z"
   },
   {
    "duration": 9,
    "start_time": "2022-01-23T01:29:06.863Z"
   },
   {
    "duration": 23,
    "start_time": "2022-01-23T01:29:06.874Z"
   },
   {
    "duration": 10,
    "start_time": "2022-01-23T01:29:06.898Z"
   },
   {
    "duration": 122,
    "start_time": "2022-01-23T01:29:06.910Z"
   },
   {
    "duration": -2180,
    "start_time": "2022-01-23T01:29:09.214Z"
   },
   {
    "duration": -2183,
    "start_time": "2022-01-23T01:29:09.218Z"
   },
   {
    "duration": -2222,
    "start_time": "2022-01-23T01:29:09.258Z"
   },
   {
    "duration": -2225,
    "start_time": "2022-01-23T01:29:09.262Z"
   },
   {
    "duration": -2236,
    "start_time": "2022-01-23T01:29:09.274Z"
   },
   {
    "duration": -2239,
    "start_time": "2022-01-23T01:29:09.278Z"
   },
   {
    "duration": -2244,
    "start_time": "2022-01-23T01:29:09.283Z"
   },
   {
    "duration": -2275,
    "start_time": "2022-01-23T01:29:09.315Z"
   },
   {
    "duration": -2285,
    "start_time": "2022-01-23T01:29:09.326Z"
   },
   {
    "duration": 13,
    "start_time": "2022-01-23T01:30:03.330Z"
   },
   {
    "duration": 102,
    "start_time": "2022-01-23T01:31:32.494Z"
   },
   {
    "duration": 113,
    "start_time": "2022-01-23T01:32:09.484Z"
   },
   {
    "duration": 123,
    "start_time": "2022-01-23T01:33:36.438Z"
   },
   {
    "duration": 99,
    "start_time": "2022-01-23T01:34:40.376Z"
   },
   {
    "duration": 373,
    "start_time": "2022-01-23T01:34:54.920Z"
   },
   {
    "duration": 608,
    "start_time": "2022-01-23T01:35:54.310Z"
   },
   {
    "duration": 102,
    "start_time": "2022-01-23T01:39:41.016Z"
   },
   {
    "duration": 3,
    "start_time": "2022-01-23T01:44:02.762Z"
   },
   {
    "duration": 8828,
    "start_time": "2022-01-23T01:47:21.158Z"
   },
   {
    "duration": 8869,
    "start_time": "2022-01-23T01:47:45.869Z"
   },
   {
    "duration": 8842,
    "start_time": "2022-01-23T01:48:45.318Z"
   },
   {
    "duration": 9822,
    "start_time": "2022-01-23T01:52:07.527Z"
   },
   {
    "duration": 9368,
    "start_time": "2022-01-23T01:53:00.930Z"
   },
   {
    "duration": 8422,
    "start_time": "2022-01-23T01:53:40.734Z"
   },
   {
    "duration": 9480,
    "start_time": "2022-01-23T01:54:46.167Z"
   },
   {
    "duration": 2,
    "start_time": "2022-01-23T01:58:03.821Z"
   },
   {
    "duration": 5,
    "start_time": "2022-01-23T02:11:51.519Z"
   },
   {
    "duration": 316,
    "start_time": "2022-01-23T02:14:58.157Z"
   },
   {
    "duration": 324,
    "start_time": "2022-01-23T02:16:20.048Z"
   },
   {
    "duration": 12,
    "start_time": "2022-01-23T02:16:50.527Z"
   },
   {
    "duration": 7,
    "start_time": "2022-01-23T02:17:54.626Z"
   },
   {
    "duration": 5,
    "start_time": "2022-01-23T02:18:44.287Z"
   },
   {
    "duration": 6,
    "start_time": "2022-01-23T02:18:53.390Z"
   },
   {
    "duration": 6,
    "start_time": "2022-01-23T02:19:22.741Z"
   },
   {
    "duration": 6,
    "start_time": "2022-01-23T02:19:55.145Z"
   },
   {
    "duration": 326,
    "start_time": "2022-01-23T02:20:22.604Z"
   },
   {
    "duration": 12,
    "start_time": "2022-01-23T02:22:05.856Z"
   },
   {
    "duration": 6,
    "start_time": "2022-01-23T02:22:31.837Z"
   },
   {
    "duration": 11,
    "start_time": "2022-01-23T02:22:41.023Z"
   },
   {
    "duration": 6,
    "start_time": "2022-01-23T02:22:49.840Z"
   },
   {
    "duration": 7,
    "start_time": "2022-01-23T02:24:12.747Z"
   },
   {
    "duration": 113,
    "start_time": "2022-01-23T02:26:26.277Z"
   },
   {
    "duration": 301,
    "start_time": "2022-01-23T02:26:36.001Z"
   },
   {
    "duration": 9,
    "start_time": "2022-01-23T02:28:43.825Z"
   },
   {
    "duration": 295,
    "start_time": "2022-01-23T02:31:27.117Z"
   },
   {
    "duration": 22,
    "start_time": "2022-01-23T02:31:39.913Z"
   },
   {
    "duration": 320,
    "start_time": "2022-01-23T02:35:10.301Z"
   },
   {
    "duration": 4,
    "start_time": "2022-01-23T02:37:36.925Z"
   },
   {
    "duration": 13,
    "start_time": "2022-01-23T02:37:49.908Z"
   },
   {
    "duration": 284,
    "start_time": "2022-01-23T02:40:55.551Z"
   },
   {
    "duration": 308,
    "start_time": "2022-01-23T02:41:33.615Z"
   },
   {
    "duration": 299,
    "start_time": "2022-01-23T02:41:46.370Z"
   },
   {
    "duration": 319,
    "start_time": "2022-01-23T02:42:00.837Z"
   },
   {
    "duration": 301,
    "start_time": "2022-01-23T02:42:12.320Z"
   },
   {
    "duration": 309,
    "start_time": "2022-01-23T02:42:33.200Z"
   },
   {
    "duration": 4,
    "start_time": "2022-01-23T02:42:57.610Z"
   },
   {
    "duration": 7,
    "start_time": "2022-01-23T02:43:15.369Z"
   },
   {
    "duration": 5,
    "start_time": "2022-01-23T02:43:40.776Z"
   },
   {
    "duration": 6,
    "start_time": "2022-01-23T02:43:54.182Z"
   },
   {
    "duration": 8,
    "start_time": "2022-01-23T02:46:04.231Z"
   },
   {
    "duration": 322,
    "start_time": "2022-01-23T02:48:22.794Z"
   },
   {
    "duration": 6,
    "start_time": "2022-01-23T02:48:55.297Z"
   },
   {
    "duration": 7,
    "start_time": "2022-01-23T02:49:44.403Z"
   },
   {
    "duration": 10,
    "start_time": "2022-01-23T02:50:32.660Z"
   },
   {
    "duration": 5,
    "start_time": "2022-01-23T02:51:09.103Z"
   },
   {
    "duration": 20,
    "start_time": "2022-01-23T03:51:46.389Z"
   },
   {
    "duration": 23,
    "start_time": "2022-01-23T04:09:54.227Z"
   },
   {
    "duration": 21,
    "start_time": "2022-01-23T04:24:19.797Z"
   },
   {
    "duration": 7,
    "start_time": "2022-01-23T05:14:09.646Z"
   },
   {
    "duration": 11,
    "start_time": "2022-01-23T05:17:27.350Z"
   },
   {
    "duration": 11,
    "start_time": "2022-01-23T05:19:39.141Z"
   },
   {
    "duration": 17,
    "start_time": "2022-01-23T05:21:09.578Z"
   },
   {
    "duration": 149,
    "start_time": "2022-01-23T05:26:09.564Z"
   },
   {
    "duration": 98,
    "start_time": "2022-01-23T05:26:24.263Z"
   },
   {
    "duration": 463,
    "start_time": "2022-01-23T05:26:45.074Z"
   },
   {
    "duration": 356,
    "start_time": "2022-01-23T05:27:19.810Z"
   },
   {
    "duration": 14,
    "start_time": "2022-01-23T05:29:05.400Z"
   },
   {
    "duration": 97,
    "start_time": "2022-01-23T05:29:39.292Z"
   },
   {
    "duration": 96,
    "start_time": "2022-01-23T05:30:13.254Z"
   },
   {
    "duration": 115,
    "start_time": "2022-01-23T05:30:37.499Z"
   },
   {
    "duration": 2,
    "start_time": "2022-01-23T05:30:54.594Z"
   },
   {
    "duration": 5,
    "start_time": "2022-01-23T05:32:27.954Z"
   },
   {
    "duration": 5,
    "start_time": "2022-01-23T05:32:51.324Z"
   },
   {
    "duration": 5,
    "start_time": "2022-01-23T05:33:00.126Z"
   },
   {
    "duration": 5,
    "start_time": "2022-01-23T05:33:10.434Z"
   },
   {
    "duration": 6,
    "start_time": "2022-01-23T05:34:06.086Z"
   },
   {
    "duration": 4,
    "start_time": "2022-01-23T05:34:22.652Z"
   },
   {
    "duration": 7,
    "start_time": "2022-01-23T05:37:04.179Z"
   },
   {
    "duration": 314,
    "start_time": "2022-01-23T23:45:29.891Z"
   },
   {
    "duration": 1157,
    "start_time": "2022-01-23T23:46:32.368Z"
   },
   {
    "duration": 261,
    "start_time": "2022-01-23T23:46:33.527Z"
   },
   {
    "duration": 3,
    "start_time": "2022-01-23T23:46:33.790Z"
   },
   {
    "duration": 27,
    "start_time": "2022-01-23T23:46:33.795Z"
   },
   {
    "duration": 12,
    "start_time": "2022-01-23T23:46:33.824Z"
   },
   {
    "duration": 47,
    "start_time": "2022-01-23T23:46:33.837Z"
   },
   {
    "duration": 34,
    "start_time": "2022-01-23T23:46:33.885Z"
   },
   {
    "duration": 25,
    "start_time": "2022-01-23T23:46:33.921Z"
   },
   {
    "duration": 43,
    "start_time": "2022-01-23T23:46:33.948Z"
   },
   {
    "duration": 26,
    "start_time": "2022-01-23T23:46:33.992Z"
   },
   {
    "duration": 9,
    "start_time": "2022-01-23T23:46:34.020Z"
   },
   {
    "duration": 21,
    "start_time": "2022-01-23T23:46:34.030Z"
   },
   {
    "duration": 21,
    "start_time": "2022-01-23T23:46:34.053Z"
   },
   {
    "duration": 23,
    "start_time": "2022-01-23T23:46:34.075Z"
   },
   {
    "duration": 19,
    "start_time": "2022-01-23T23:46:34.099Z"
   },
   {
    "duration": 25,
    "start_time": "2022-01-23T23:46:34.120Z"
   },
   {
    "duration": 31,
    "start_time": "2022-01-23T23:46:34.147Z"
   },
   {
    "duration": 27,
    "start_time": "2022-01-23T23:46:34.180Z"
   },
   {
    "duration": 24,
    "start_time": "2022-01-23T23:46:34.209Z"
   },
   {
    "duration": 27,
    "start_time": "2022-01-23T23:46:34.235Z"
   },
   {
    "duration": 18,
    "start_time": "2022-01-23T23:46:34.264Z"
   },
   {
    "duration": 27,
    "start_time": "2022-01-23T23:46:34.284Z"
   },
   {
    "duration": 11,
    "start_time": "2022-01-23T23:46:34.315Z"
   },
   {
    "duration": 25,
    "start_time": "2022-01-23T23:46:34.329Z"
   },
   {
    "duration": 205,
    "start_time": "2022-01-23T23:46:34.355Z"
   },
   {
    "duration": 14,
    "start_time": "2022-01-23T23:46:34.562Z"
   },
   {
    "duration": 7,
    "start_time": "2022-01-23T23:46:34.578Z"
   },
   {
    "duration": 27,
    "start_time": "2022-01-23T23:46:34.586Z"
   },
   {
    "duration": 23,
    "start_time": "2022-01-23T23:46:34.614Z"
   },
   {
    "duration": 15,
    "start_time": "2022-01-23T23:46:34.638Z"
   },
   {
    "duration": 32,
    "start_time": "2022-01-23T23:46:34.655Z"
   },
   {
    "duration": 18,
    "start_time": "2022-01-23T23:46:34.689Z"
   },
   {
    "duration": 19,
    "start_time": "2022-01-23T23:46:34.709Z"
   },
   {
    "duration": 27,
    "start_time": "2022-01-23T23:46:34.730Z"
   },
   {
    "duration": 25,
    "start_time": "2022-01-23T23:46:34.759Z"
   },
   {
    "duration": 19,
    "start_time": "2022-01-23T23:46:34.785Z"
   },
   {
    "duration": 15,
    "start_time": "2022-01-23T23:46:34.806Z"
   },
   {
    "duration": 29,
    "start_time": "2022-01-23T23:46:34.823Z"
   },
   {
    "duration": 17,
    "start_time": "2022-01-23T23:46:34.854Z"
   },
   {
    "duration": 25,
    "start_time": "2022-01-23T23:46:34.872Z"
   },
   {
    "duration": 23,
    "start_time": "2022-01-23T23:46:34.898Z"
   },
   {
    "duration": 28,
    "start_time": "2022-01-23T23:46:34.923Z"
   },
   {
    "duration": 31,
    "start_time": "2022-01-23T23:46:34.952Z"
   },
   {
    "duration": 45,
    "start_time": "2022-01-23T23:46:34.985Z"
   },
   {
    "duration": 33,
    "start_time": "2022-01-23T23:46:35.032Z"
   },
   {
    "duration": 22,
    "start_time": "2022-01-23T23:46:35.067Z"
   },
   {
    "duration": 22,
    "start_time": "2022-01-23T23:46:35.091Z"
   },
   {
    "duration": 32,
    "start_time": "2022-01-23T23:46:35.114Z"
   },
   {
    "duration": 26,
    "start_time": "2022-01-23T23:46:35.148Z"
   },
   {
    "duration": 27,
    "start_time": "2022-01-23T23:46:35.176Z"
   },
   {
    "duration": 30,
    "start_time": "2022-01-23T23:46:35.204Z"
   },
   {
    "duration": 24,
    "start_time": "2022-01-23T23:46:35.236Z"
   },
   {
    "duration": 36,
    "start_time": "2022-01-23T23:46:35.262Z"
   },
   {
    "duration": 25,
    "start_time": "2022-01-23T23:46:35.300Z"
   },
   {
    "duration": 35,
    "start_time": "2022-01-23T23:46:35.327Z"
   },
   {
    "duration": 16,
    "start_time": "2022-01-23T23:46:35.363Z"
   },
   {
    "duration": 42,
    "start_time": "2022-01-23T23:46:35.380Z"
   },
   {
    "duration": 21,
    "start_time": "2022-01-23T23:46:35.424Z"
   },
   {
    "duration": 36,
    "start_time": "2022-01-23T23:46:35.446Z"
   },
   {
    "duration": 28,
    "start_time": "2022-01-23T23:46:35.484Z"
   },
   {
    "duration": 24,
    "start_time": "2022-01-23T23:46:35.514Z"
   },
   {
    "duration": 31,
    "start_time": "2022-01-23T23:46:35.540Z"
   },
   {
    "duration": 33,
    "start_time": "2022-01-23T23:46:35.572Z"
   },
   {
    "duration": 23,
    "start_time": "2022-01-23T23:46:35.607Z"
   },
   {
    "duration": 28,
    "start_time": "2022-01-23T23:46:35.632Z"
   },
   {
    "duration": 27,
    "start_time": "2022-01-23T23:46:35.661Z"
   },
   {
    "duration": 24,
    "start_time": "2022-01-23T23:46:35.690Z"
   },
   {
    "duration": 29,
    "start_time": "2022-01-23T23:46:35.719Z"
   },
   {
    "duration": 37,
    "start_time": "2022-01-23T23:46:35.751Z"
   },
   {
    "duration": 18,
    "start_time": "2022-01-23T23:46:35.789Z"
   },
   {
    "duration": 20,
    "start_time": "2022-01-23T23:46:35.809Z"
   },
   {
    "duration": 298,
    "start_time": "2022-01-23T23:46:35.831Z"
   },
   {
    "duration": -522,
    "start_time": "2022-01-23T23:46:36.653Z"
   },
   {
    "duration": -526,
    "start_time": "2022-01-23T23:46:36.658Z"
   },
   {
    "duration": -536,
    "start_time": "2022-01-23T23:46:36.669Z"
   },
   {
    "duration": -541,
    "start_time": "2022-01-23T23:46:36.675Z"
   },
   {
    "duration": -549,
    "start_time": "2022-01-23T23:46:36.684Z"
   },
   {
    "duration": -552,
    "start_time": "2022-01-23T23:46:36.687Z"
   },
   {
    "duration": -563,
    "start_time": "2022-01-23T23:46:36.700Z"
   },
   {
    "duration": -566,
    "start_time": "2022-01-23T23:46:36.703Z"
   },
   {
    "duration": -577,
    "start_time": "2022-01-23T23:46:36.715Z"
   },
   {
    "duration": -579,
    "start_time": "2022-01-23T23:46:36.718Z"
   },
   {
    "duration": -585,
    "start_time": "2022-01-23T23:46:36.725Z"
   },
   {
    "duration": -594,
    "start_time": "2022-01-23T23:46:36.735Z"
   },
   {
    "duration": -599,
    "start_time": "2022-01-23T23:46:36.741Z"
   },
   {
    "duration": 1201,
    "start_time": "2022-01-23T23:50:21.128Z"
   },
   {
    "duration": 197,
    "start_time": "2022-01-23T23:50:22.331Z"
   },
   {
    "duration": 4,
    "start_time": "2022-01-23T23:50:22.530Z"
   },
   {
    "duration": 15,
    "start_time": "2022-01-23T23:50:22.535Z"
   },
   {
    "duration": 11,
    "start_time": "2022-01-23T23:50:22.552Z"
   },
   {
    "duration": 29,
    "start_time": "2022-01-23T23:50:22.565Z"
   },
   {
    "duration": 33,
    "start_time": "2022-01-23T23:50:22.596Z"
   },
   {
    "duration": 8,
    "start_time": "2022-01-23T23:50:22.631Z"
   },
   {
    "duration": 23,
    "start_time": "2022-01-23T23:50:22.661Z"
   },
   {
    "duration": 21,
    "start_time": "2022-01-23T23:50:22.686Z"
   },
   {
    "duration": 9,
    "start_time": "2022-01-23T23:50:22.709Z"
   },
   {
    "duration": 10,
    "start_time": "2022-01-23T23:50:22.719Z"
   },
   {
    "duration": 38,
    "start_time": "2022-01-23T23:50:22.731Z"
   },
   {
    "duration": 10,
    "start_time": "2022-01-23T23:50:22.771Z"
   },
   {
    "duration": 6,
    "start_time": "2022-01-23T23:50:22.783Z"
   },
   {
    "duration": 13,
    "start_time": "2022-01-23T23:50:22.790Z"
   },
   {
    "duration": 11,
    "start_time": "2022-01-23T23:50:22.804Z"
   },
   {
    "duration": 12,
    "start_time": "2022-01-23T23:50:22.816Z"
   },
   {
    "duration": 7,
    "start_time": "2022-01-23T23:50:22.830Z"
   },
   {
    "duration": 21,
    "start_time": "2022-01-23T23:50:22.839Z"
   },
   {
    "duration": 5,
    "start_time": "2022-01-23T23:50:22.862Z"
   },
   {
    "duration": 12,
    "start_time": "2022-01-23T23:50:22.869Z"
   },
   {
    "duration": 2,
    "start_time": "2022-01-23T23:50:22.885Z"
   },
   {
    "duration": 7,
    "start_time": "2022-01-23T23:50:22.890Z"
   },
   {
    "duration": 212,
    "start_time": "2022-01-23T23:50:22.899Z"
   },
   {
    "duration": 2,
    "start_time": "2022-01-23T23:50:23.113Z"
   },
   {
    "duration": 25,
    "start_time": "2022-01-23T23:50:23.116Z"
   },
   {
    "duration": 27,
    "start_time": "2022-01-23T23:50:23.142Z"
   },
   {
    "duration": 40,
    "start_time": "2022-01-23T23:50:23.170Z"
   },
   {
    "duration": 31,
    "start_time": "2022-01-23T23:50:23.211Z"
   },
   {
    "duration": 35,
    "start_time": "2022-01-23T23:50:23.244Z"
   },
   {
    "duration": 29,
    "start_time": "2022-01-23T23:50:23.281Z"
   },
   {
    "duration": 30,
    "start_time": "2022-01-23T23:50:23.311Z"
   },
   {
    "duration": 34,
    "start_time": "2022-01-23T23:50:23.343Z"
   },
   {
    "duration": 34,
    "start_time": "2022-01-23T23:50:23.378Z"
   },
   {
    "duration": 34,
    "start_time": "2022-01-23T23:50:23.414Z"
   },
   {
    "duration": 47,
    "start_time": "2022-01-23T23:50:23.450Z"
   },
   {
    "duration": 28,
    "start_time": "2022-01-23T23:50:23.499Z"
   },
   {
    "duration": 21,
    "start_time": "2022-01-23T23:50:23.529Z"
   },
   {
    "duration": 34,
    "start_time": "2022-01-23T23:50:23.552Z"
   },
   {
    "duration": 22,
    "start_time": "2022-01-23T23:50:23.588Z"
   },
   {
    "duration": 11,
    "start_time": "2022-01-23T23:50:23.612Z"
   },
   {
    "duration": 31,
    "start_time": "2022-01-23T23:50:23.624Z"
   },
   {
    "duration": 36,
    "start_time": "2022-01-23T23:50:23.657Z"
   },
   {
    "duration": 31,
    "start_time": "2022-01-23T23:50:23.695Z"
   },
   {
    "duration": 37,
    "start_time": "2022-01-23T23:50:23.728Z"
   },
   {
    "duration": 4,
    "start_time": "2022-01-23T23:50:23.767Z"
   },
   {
    "duration": 28,
    "start_time": "2022-01-23T23:50:23.772Z"
   },
   {
    "duration": 17,
    "start_time": "2022-01-23T23:50:23.802Z"
   },
   {
    "duration": 25,
    "start_time": "2022-01-23T23:50:23.821Z"
   },
   {
    "duration": 48,
    "start_time": "2022-01-23T23:50:23.848Z"
   },
   {
    "duration": 31,
    "start_time": "2022-01-23T23:50:23.898Z"
   },
   {
    "duration": 33,
    "start_time": "2022-01-23T23:50:23.930Z"
   },
   {
    "duration": 19,
    "start_time": "2022-01-23T23:50:23.965Z"
   },
   {
    "duration": 37,
    "start_time": "2022-01-23T23:50:23.986Z"
   },
   {
    "duration": 21,
    "start_time": "2022-01-23T23:50:24.025Z"
   },
   {
    "duration": 33,
    "start_time": "2022-01-23T23:50:24.047Z"
   },
   {
    "duration": 32,
    "start_time": "2022-01-23T23:50:24.082Z"
   },
   {
    "duration": 21,
    "start_time": "2022-01-23T23:50:24.116Z"
   },
   {
    "duration": 40,
    "start_time": "2022-01-23T23:50:24.138Z"
   },
   {
    "duration": 40,
    "start_time": "2022-01-23T23:50:24.180Z"
   },
   {
    "duration": 46,
    "start_time": "2022-01-23T23:50:24.222Z"
   },
   {
    "duration": 33,
    "start_time": "2022-01-23T23:50:24.269Z"
   },
   {
    "duration": 45,
    "start_time": "2022-01-23T23:50:24.304Z"
   },
   {
    "duration": 26,
    "start_time": "2022-01-23T23:50:24.351Z"
   },
   {
    "duration": 31,
    "start_time": "2022-01-23T23:50:24.379Z"
   },
   {
    "duration": 31,
    "start_time": "2022-01-23T23:50:24.412Z"
   },
   {
    "duration": 29,
    "start_time": "2022-01-23T23:50:24.448Z"
   },
   {
    "duration": 39,
    "start_time": "2022-01-23T23:50:24.479Z"
   },
   {
    "duration": 30,
    "start_time": "2022-01-23T23:50:24.520Z"
   },
   {
    "duration": 35,
    "start_time": "2022-01-23T23:50:24.552Z"
   },
   {
    "duration": 371,
    "start_time": "2022-01-23T23:50:24.589Z"
   },
   {
    "duration": -565,
    "start_time": "2022-01-23T23:50:25.527Z"
   },
   {
    "duration": -572,
    "start_time": "2022-01-23T23:50:25.534Z"
   },
   {
    "duration": -581,
    "start_time": "2022-01-23T23:50:25.544Z"
   },
   {
    "duration": -584,
    "start_time": "2022-01-23T23:50:25.548Z"
   },
   {
    "duration": -595,
    "start_time": "2022-01-23T23:50:25.560Z"
   },
   {
    "duration": -598,
    "start_time": "2022-01-23T23:50:25.564Z"
   },
   {
    "duration": -604,
    "start_time": "2022-01-23T23:50:25.570Z"
   },
   {
    "duration": -606,
    "start_time": "2022-01-23T23:50:25.573Z"
   },
   {
    "duration": -608,
    "start_time": "2022-01-23T23:50:25.576Z"
   },
   {
    "duration": -610,
    "start_time": "2022-01-23T23:50:25.579Z"
   },
   {
    "duration": -614,
    "start_time": "2022-01-23T23:50:25.584Z"
   },
   {
    "duration": -617,
    "start_time": "2022-01-23T23:50:25.587Z"
   },
   {
    "duration": -619,
    "start_time": "2022-01-23T23:50:25.590Z"
   },
   {
    "duration": 7,
    "start_time": "2022-01-24T01:19:08.472Z"
   },
   {
    "duration": 276,
    "start_time": "2022-01-24T09:15:20.080Z"
   },
   {
    "duration": 240,
    "start_time": "2022-01-24T09:15:39.288Z"
   },
   {
    "duration": 1144,
    "start_time": "2022-01-24T09:15:46.000Z"
   },
   {
    "duration": 196,
    "start_time": "2022-01-24T09:15:47.146Z"
   },
   {
    "duration": 3,
    "start_time": "2022-01-24T09:15:47.344Z"
   },
   {
    "duration": 17,
    "start_time": "2022-01-24T09:15:47.349Z"
   },
   {
    "duration": 11,
    "start_time": "2022-01-24T09:15:47.368Z"
   },
   {
    "duration": 29,
    "start_time": "2022-01-24T09:15:47.381Z"
   },
   {
    "duration": 49,
    "start_time": "2022-01-24T09:15:47.412Z"
   },
   {
    "duration": 7,
    "start_time": "2022-01-24T09:15:47.464Z"
   },
   {
    "duration": 24,
    "start_time": "2022-01-24T09:15:47.473Z"
   },
   {
    "duration": 22,
    "start_time": "2022-01-24T09:15:47.498Z"
   },
   {
    "duration": 40,
    "start_time": "2022-01-24T09:15:47.522Z"
   },
   {
    "duration": 11,
    "start_time": "2022-01-24T09:15:47.564Z"
   },
   {
    "duration": 14,
    "start_time": "2022-01-24T09:15:47.576Z"
   },
   {
    "duration": 11,
    "start_time": "2022-01-24T09:15:47.592Z"
   },
   {
    "duration": 6,
    "start_time": "2022-01-24T09:15:47.605Z"
   },
   {
    "duration": 7,
    "start_time": "2022-01-24T09:15:47.613Z"
   },
   {
    "duration": 10,
    "start_time": "2022-01-24T09:15:47.622Z"
   },
   {
    "duration": 34,
    "start_time": "2022-01-24T09:15:47.633Z"
   },
   {
    "duration": 15,
    "start_time": "2022-01-24T09:15:47.669Z"
   },
   {
    "duration": 10,
    "start_time": "2022-01-24T09:15:47.686Z"
   },
   {
    "duration": 11,
    "start_time": "2022-01-24T09:15:47.698Z"
   },
   {
    "duration": 15,
    "start_time": "2022-01-24T09:15:47.710Z"
   },
   {
    "duration": 4,
    "start_time": "2022-01-24T09:15:47.728Z"
   },
   {
    "duration": 27,
    "start_time": "2022-01-24T09:15:47.734Z"
   },
   {
    "duration": 201,
    "start_time": "2022-01-24T09:15:47.762Z"
   },
   {
    "duration": 2,
    "start_time": "2022-01-24T09:15:47.965Z"
   },
   {
    "duration": 11,
    "start_time": "2022-01-24T09:15:47.969Z"
   },
   {
    "duration": 6,
    "start_time": "2022-01-24T09:15:47.982Z"
   },
   {
    "duration": 7,
    "start_time": "2022-01-24T09:15:47.990Z"
   },
   {
    "duration": 3,
    "start_time": "2022-01-24T09:15:47.999Z"
   },
   {
    "duration": 19,
    "start_time": "2022-01-24T09:15:48.004Z"
   },
   {
    "duration": 10,
    "start_time": "2022-01-24T09:15:48.024Z"
   },
   {
    "duration": 28,
    "start_time": "2022-01-24T09:15:48.036Z"
   },
   {
    "duration": 18,
    "start_time": "2022-01-24T09:15:48.066Z"
   },
   {
    "duration": 10,
    "start_time": "2022-01-24T09:15:48.086Z"
   },
   {
    "duration": 10,
    "start_time": "2022-01-24T09:15:48.097Z"
   },
   {
    "duration": 10,
    "start_time": "2022-01-24T09:15:48.109Z"
   },
   {
    "duration": 19,
    "start_time": "2022-01-24T09:15:48.121Z"
   },
   {
    "duration": 22,
    "start_time": "2022-01-24T09:15:48.141Z"
   },
   {
    "duration": 25,
    "start_time": "2022-01-24T09:15:48.165Z"
   },
   {
    "duration": 24,
    "start_time": "2022-01-24T09:15:48.192Z"
   },
   {
    "duration": 33,
    "start_time": "2022-01-24T09:15:48.218Z"
   },
   {
    "duration": 35,
    "start_time": "2022-01-24T09:15:48.253Z"
   },
   {
    "duration": 37,
    "start_time": "2022-01-24T09:15:48.289Z"
   },
   {
    "duration": 23,
    "start_time": "2022-01-24T09:15:48.328Z"
   },
   {
    "duration": 14,
    "start_time": "2022-01-24T09:15:48.352Z"
   },
   {
    "duration": 7,
    "start_time": "2022-01-24T09:15:48.368Z"
   },
   {
    "duration": 319,
    "start_time": "2022-01-24T09:15:48.376Z"
   },
   {
    "duration": -3716,
    "start_time": "2022-01-24T09:15:52.413Z"
   },
   {
    "duration": -3726,
    "start_time": "2022-01-24T09:15:52.425Z"
   },
   {
    "duration": -3728,
    "start_time": "2022-01-24T09:15:52.428Z"
   },
   {
    "duration": -3760,
    "start_time": "2022-01-24T09:15:52.461Z"
   },
   {
    "duration": -3764,
    "start_time": "2022-01-24T09:15:52.466Z"
   },
   {
    "duration": -3809,
    "start_time": "2022-01-24T09:15:52.512Z"
   },
   {
    "duration": -3821,
    "start_time": "2022-01-24T09:15:52.525Z"
   },
   {
    "duration": -3823,
    "start_time": "2022-01-24T09:15:52.528Z"
   },
   {
    "duration": -3827,
    "start_time": "2022-01-24T09:15:52.533Z"
   },
   {
    "duration": -3828,
    "start_time": "2022-01-24T09:15:52.536Z"
   },
   {
    "duration": -3830,
    "start_time": "2022-01-24T09:15:52.539Z"
   },
   {
    "duration": -3831,
    "start_time": "2022-01-24T09:15:52.541Z"
   },
   {
    "duration": -3833,
    "start_time": "2022-01-24T09:15:52.544Z"
   },
   {
    "duration": -3836,
    "start_time": "2022-01-24T09:15:52.548Z"
   },
   {
    "duration": -3953,
    "start_time": "2022-01-24T09:15:52.666Z"
   },
   {
    "duration": -3962,
    "start_time": "2022-01-24T09:15:52.676Z"
   },
   {
    "duration": -4040,
    "start_time": "2022-01-24T09:15:52.756Z"
   },
   {
    "duration": -4050,
    "start_time": "2022-01-24T09:15:52.767Z"
   },
   {
    "duration": -4053,
    "start_time": "2022-01-24T09:15:52.771Z"
   },
   {
    "duration": -4055,
    "start_time": "2022-01-24T09:15:52.774Z"
   },
   {
    "duration": -4057,
    "start_time": "2022-01-24T09:15:52.777Z"
   },
   {
    "duration": -4060,
    "start_time": "2022-01-24T09:15:52.781Z"
   },
   {
    "duration": -4070,
    "start_time": "2022-01-24T09:15:52.792Z"
   },
   {
    "duration": -4084,
    "start_time": "2022-01-24T09:15:52.807Z"
   },
   {
    "duration": -4086,
    "start_time": "2022-01-24T09:15:52.810Z"
   },
   {
    "duration": -4090,
    "start_time": "2022-01-24T09:15:52.815Z"
   },
   {
    "duration": -4099,
    "start_time": "2022-01-24T09:15:52.825Z"
   },
   {
    "duration": -4102,
    "start_time": "2022-01-24T09:15:52.829Z"
   },
   {
    "duration": -4130,
    "start_time": "2022-01-24T09:15:52.858Z"
   },
   {
    "duration": -4132,
    "start_time": "2022-01-24T09:15:52.861Z"
   },
   {
    "duration": -4185,
    "start_time": "2022-01-24T09:15:52.915Z"
   },
   {
    "duration": -4194,
    "start_time": "2022-01-24T09:15:52.925Z"
   },
   {
    "duration": -4221,
    "start_time": "2022-01-24T09:15:52.953Z"
   },
   {
    "duration": -4222,
    "start_time": "2022-01-24T09:15:52.957Z"
   },
   {
    "duration": -4223,
    "start_time": "2022-01-24T09:15:52.959Z"
   },
   {
    "duration": -4203,
    "start_time": "2022-01-24T09:15:52.963Z"
   },
   {
    "duration": -4213,
    "start_time": "2022-01-24T09:15:52.974Z"
   },
   {
    "duration": 20,
    "start_time": "2022-01-24T09:18:18.888Z"
   },
   {
    "duration": 10,
    "start_time": "2022-01-24T09:18:41.547Z"
   },
   {
    "duration": 18,
    "start_time": "2022-01-24T09:18:55.600Z"
   },
   {
    "duration": 24,
    "start_time": "2022-01-24T09:20:02.395Z"
   },
   {
    "duration": 11,
    "start_time": "2022-01-24T09:23:07.944Z"
   },
   {
    "duration": 311,
    "start_time": "2022-01-24T09:29:25.776Z"
   },
   {
    "duration": 263,
    "start_time": "2022-01-24T09:29:37.644Z"
   },
   {
    "duration": 9,
    "start_time": "2022-01-24T09:35:32.080Z"
   },
   {
    "duration": 10,
    "start_time": "2022-01-24T09:35:49.709Z"
   },
   {
    "duration": 23,
    "start_time": "2022-01-24T09:36:45.414Z"
   },
   {
    "duration": 258,
    "start_time": "2022-01-24T09:38:54.634Z"
   },
   {
    "duration": 9,
    "start_time": "2022-01-24T09:39:27.234Z"
   },
   {
    "duration": 3,
    "start_time": "2022-01-24T09:50:11.477Z"
   },
   {
    "duration": 303,
    "start_time": "2022-01-24T09:52:38.122Z"
   },
   {
    "duration": 253,
    "start_time": "2022-01-24T09:54:17.556Z"
   },
   {
    "duration": 8583,
    "start_time": "2022-01-24T09:55:00.020Z"
   },
   {
    "duration": 85,
    "start_time": "2022-01-24T10:06:42.524Z"
   },
   {
    "duration": 108,
    "start_time": "2022-01-24T10:07:09.863Z"
   },
   {
    "duration": 84,
    "start_time": "2022-01-24T10:07:26.833Z"
   },
   {
    "duration": 13,
    "start_time": "2022-01-24T10:09:49.963Z"
   },
   {
    "duration": 101,
    "start_time": "2022-01-24T10:13:04.120Z"
   },
   {
    "duration": 254,
    "start_time": "2022-01-24T10:13:52.281Z"
   },
   {
    "duration": 67,
    "start_time": "2022-01-24T10:14:15.450Z"
   },
   {
    "duration": 61,
    "start_time": "2022-01-24T10:15:36.818Z"
   },
   {
    "duration": 18,
    "start_time": "2022-01-24T10:15:42.122Z"
   },
   {
    "duration": 22,
    "start_time": "2022-01-24T10:19:57.512Z"
   },
   {
    "duration": -282,
    "start_time": "2022-01-24T10:20:47.567Z"
   },
   {
    "duration": -279,
    "start_time": "2022-01-24T10:20:57.315Z"
   },
   {
    "duration": 22,
    "start_time": "2022-01-24T10:21:21.500Z"
   },
   {
    "duration": 22,
    "start_time": "2022-01-24T10:23:48.210Z"
   },
   {
    "duration": 65,
    "start_time": "2022-01-24T10:24:57.276Z"
   },
   {
    "duration": 4,
    "start_time": "2022-01-24T10:25:25.198Z"
   },
   {
    "duration": 80,
    "start_time": "2022-01-24T10:25:45.082Z"
   },
   {
    "duration": 62,
    "start_time": "2022-01-24T10:25:51.392Z"
   },
   {
    "duration": 11,
    "start_time": "2022-01-24T10:29:11.706Z"
   },
   {
    "duration": 68,
    "start_time": "2022-01-24T10:29:44.994Z"
   },
   {
    "duration": 1169,
    "start_time": "2022-01-24T10:30:05.667Z"
   },
   {
    "duration": 273,
    "start_time": "2022-01-24T10:30:06.838Z"
   },
   {
    "duration": 3,
    "start_time": "2022-01-24T10:30:07.113Z"
   },
   {
    "duration": 40,
    "start_time": "2022-01-24T10:30:07.118Z"
   },
   {
    "duration": 31,
    "start_time": "2022-01-24T10:30:07.160Z"
   },
   {
    "duration": 41,
    "start_time": "2022-01-24T10:30:07.193Z"
   },
   {
    "duration": 38,
    "start_time": "2022-01-24T10:30:07.236Z"
   },
   {
    "duration": 22,
    "start_time": "2022-01-24T10:30:07.276Z"
   },
   {
    "duration": 30,
    "start_time": "2022-01-24T10:30:07.300Z"
   },
   {
    "duration": 32,
    "start_time": "2022-01-24T10:30:07.332Z"
   },
   {
    "duration": 13,
    "start_time": "2022-01-24T10:30:07.366Z"
   },
   {
    "duration": 18,
    "start_time": "2022-01-24T10:30:07.381Z"
   },
   {
    "duration": 31,
    "start_time": "2022-01-24T10:30:07.400Z"
   },
   {
    "duration": 32,
    "start_time": "2022-01-24T10:30:07.433Z"
   },
   {
    "duration": 12,
    "start_time": "2022-01-24T10:30:07.467Z"
   },
   {
    "duration": 11,
    "start_time": "2022-01-24T10:30:07.480Z"
   },
   {
    "duration": 7,
    "start_time": "2022-01-24T10:30:07.493Z"
   },
   {
    "duration": 11,
    "start_time": "2022-01-24T10:30:07.502Z"
   },
   {
    "duration": 10,
    "start_time": "2022-01-24T10:30:07.515Z"
   },
   {
    "duration": 19,
    "start_time": "2022-01-24T10:30:07.527Z"
   },
   {
    "duration": 21,
    "start_time": "2022-01-24T10:30:07.548Z"
   },
   {
    "duration": 21,
    "start_time": "2022-01-24T10:30:07.570Z"
   },
   {
    "duration": 4,
    "start_time": "2022-01-24T10:30:07.593Z"
   },
   {
    "duration": 11,
    "start_time": "2022-01-24T10:30:07.599Z"
   },
   {
    "duration": 208,
    "start_time": "2022-01-24T10:30:07.612Z"
   },
   {
    "duration": 2,
    "start_time": "2022-01-24T10:30:07.822Z"
   },
   {
    "duration": 10,
    "start_time": "2022-01-24T10:30:07.830Z"
   },
   {
    "duration": 19,
    "start_time": "2022-01-24T10:30:07.844Z"
   },
   {
    "duration": 7,
    "start_time": "2022-01-24T10:30:07.865Z"
   },
   {
    "duration": 13,
    "start_time": "2022-01-24T10:30:07.874Z"
   },
   {
    "duration": 12,
    "start_time": "2022-01-24T10:30:07.888Z"
   },
   {
    "duration": 5,
    "start_time": "2022-01-24T10:30:07.901Z"
   },
   {
    "duration": 10,
    "start_time": "2022-01-24T10:30:07.908Z"
   },
   {
    "duration": 24,
    "start_time": "2022-01-24T10:30:07.920Z"
   },
   {
    "duration": 37,
    "start_time": "2022-01-24T10:30:07.946Z"
   },
   {
    "duration": 14,
    "start_time": "2022-01-24T10:30:07.984Z"
   },
   {
    "duration": 19,
    "start_time": "2022-01-24T10:30:07.999Z"
   },
   {
    "duration": 28,
    "start_time": "2022-01-24T10:30:08.020Z"
   },
   {
    "duration": 33,
    "start_time": "2022-01-24T10:30:08.050Z"
   },
   {
    "duration": 19,
    "start_time": "2022-01-24T10:30:08.084Z"
   },
   {
    "duration": 12,
    "start_time": "2022-01-24T10:30:08.105Z"
   },
   {
    "duration": 35,
    "start_time": "2022-01-24T10:30:08.118Z"
   },
   {
    "duration": 27,
    "start_time": "2022-01-24T10:30:08.154Z"
   },
   {
    "duration": 49,
    "start_time": "2022-01-24T10:30:08.183Z"
   },
   {
    "duration": 29,
    "start_time": "2022-01-24T10:30:08.234Z"
   },
   {
    "duration": 28,
    "start_time": "2022-01-24T10:30:08.264Z"
   },
   {
    "duration": 11,
    "start_time": "2022-01-24T10:30:08.294Z"
   },
   {
    "duration": 31,
    "start_time": "2022-01-24T10:30:08.307Z"
   },
   {
    "duration": 31,
    "start_time": "2022-01-24T10:30:08.340Z"
   },
   {
    "duration": 96,
    "start_time": "2022-01-24T10:30:08.373Z"
   },
   {
    "duration": -275,
    "start_time": "2022-01-24T10:30:08.746Z"
   },
   {
    "duration": -279,
    "start_time": "2022-01-24T10:30:08.751Z"
   },
   {
    "duration": -297,
    "start_time": "2022-01-24T10:30:08.771Z"
   },
   {
    "duration": -307,
    "start_time": "2022-01-24T10:30:08.781Z"
   },
   {
    "duration": -309,
    "start_time": "2022-01-24T10:30:08.784Z"
   },
   {
    "duration": -311,
    "start_time": "2022-01-24T10:30:08.787Z"
   },
   {
    "duration": -315,
    "start_time": "2022-01-24T10:30:08.792Z"
   },
   {
    "duration": -322,
    "start_time": "2022-01-24T10:30:08.800Z"
   },
   {
    "duration": -328,
    "start_time": "2022-01-24T10:30:08.807Z"
   },
   {
    "duration": -422,
    "start_time": "2022-01-24T10:30:08.902Z"
   },
   {
    "duration": -483,
    "start_time": "2022-01-24T10:30:08.964Z"
   },
   {
    "duration": -486,
    "start_time": "2022-01-24T10:30:08.967Z"
   },
   {
    "duration": -490,
    "start_time": "2022-01-24T10:30:08.972Z"
   },
   {
    "duration": -497,
    "start_time": "2022-01-24T10:30:08.980Z"
   },
   {
    "duration": -500,
    "start_time": "2022-01-24T10:30:08.984Z"
   },
   {
    "duration": -504,
    "start_time": "2022-01-24T10:30:08.989Z"
   },
   {
    "duration": -513,
    "start_time": "2022-01-24T10:30:08.999Z"
   },
   {
    "duration": -517,
    "start_time": "2022-01-24T10:30:09.004Z"
   },
   {
    "duration": -529,
    "start_time": "2022-01-24T10:30:09.016Z"
   },
   {
    "duration": -532,
    "start_time": "2022-01-24T10:30:09.020Z"
   },
   {
    "duration": -543,
    "start_time": "2022-01-24T10:30:09.032Z"
   },
   {
    "duration": -547,
    "start_time": "2022-01-24T10:30:09.037Z"
   },
   {
    "duration": -558,
    "start_time": "2022-01-24T10:30:09.049Z"
   },
   {
    "duration": -561,
    "start_time": "2022-01-24T10:30:09.053Z"
   },
   {
    "duration": -565,
    "start_time": "2022-01-24T10:30:09.058Z"
   },
   {
    "duration": -574,
    "start_time": "2022-01-24T10:30:09.068Z"
   },
   {
    "duration": -579,
    "start_time": "2022-01-24T10:30:09.073Z"
   },
   {
    "duration": -588,
    "start_time": "2022-01-24T10:30:09.083Z"
   },
   {
    "duration": -591,
    "start_time": "2022-01-24T10:30:09.087Z"
   },
   {
    "duration": -605,
    "start_time": "2022-01-24T10:30:09.102Z"
   },
   {
    "duration": -612,
    "start_time": "2022-01-24T10:30:09.110Z"
   },
   {
    "duration": -620,
    "start_time": "2022-01-24T10:30:09.119Z"
   },
   {
    "duration": -627,
    "start_time": "2022-01-24T10:30:09.127Z"
   },
   {
    "duration": -636,
    "start_time": "2022-01-24T10:30:09.137Z"
   },
   {
    "duration": -649,
    "start_time": "2022-01-24T10:30:09.151Z"
   },
   {
    "duration": -654,
    "start_time": "2022-01-24T10:30:09.156Z"
   },
   {
    "duration": 24,
    "start_time": "2022-01-24T10:32:38.997Z"
   },
   {
    "duration": 85,
    "start_time": "2022-01-24T10:34:57.966Z"
   },
   {
    "duration": 100,
    "start_time": "2022-01-24T10:35:10.909Z"
   },
   {
    "duration": 23,
    "start_time": "2022-01-24T10:35:28.280Z"
   },
   {
    "duration": 2005,
    "start_time": "2022-01-24T10:35:37.996Z"
   },
   {
    "duration": 5,
    "start_time": "2022-01-24T10:37:01.227Z"
   },
   {
    "duration": 4,
    "start_time": "2022-01-24T10:37:48.885Z"
   },
   {
    "duration": 4,
    "start_time": "2022-01-24T10:37:53.872Z"
   },
   {
    "duration": 4,
    "start_time": "2022-01-24T10:37:59.074Z"
   },
   {
    "duration": 4,
    "start_time": "2022-01-24T10:38:05.197Z"
   },
   {
    "duration": 4,
    "start_time": "2022-01-24T10:38:17.317Z"
   },
   {
    "duration": 5,
    "start_time": "2022-01-24T10:38:23.884Z"
   },
   {
    "duration": 25,
    "start_time": "2022-01-24T10:48:02.144Z"
   },
   {
    "duration": 9,
    "start_time": "2022-01-24T10:49:41.982Z"
   },
   {
    "duration": 1141,
    "start_time": "2022-01-24T10:51:33.195Z"
   },
   {
    "duration": 219,
    "start_time": "2022-01-24T10:51:34.338Z"
   },
   {
    "duration": 3,
    "start_time": "2022-01-24T10:51:34.560Z"
   },
   {
    "duration": 15,
    "start_time": "2022-01-24T10:51:34.565Z"
   },
   {
    "duration": 15,
    "start_time": "2022-01-24T10:51:34.582Z"
   },
   {
    "duration": 43,
    "start_time": "2022-01-24T10:51:34.599Z"
   },
   {
    "duration": 46,
    "start_time": "2022-01-24T10:51:34.644Z"
   },
   {
    "duration": 7,
    "start_time": "2022-01-24T10:51:34.693Z"
   },
   {
    "duration": 24,
    "start_time": "2022-01-24T10:51:34.702Z"
   },
   {
    "duration": 43,
    "start_time": "2022-01-24T10:51:34.728Z"
   },
   {
    "duration": 11,
    "start_time": "2022-01-24T10:51:34.772Z"
   },
   {
    "duration": 36,
    "start_time": "2022-01-24T10:51:34.784Z"
   },
   {
    "duration": 31,
    "start_time": "2022-01-24T10:51:34.822Z"
   },
   {
    "duration": 52,
    "start_time": "2022-01-24T10:51:34.855Z"
   },
   {
    "duration": 42,
    "start_time": "2022-01-24T10:51:34.908Z"
   },
   {
    "duration": 41,
    "start_time": "2022-01-24T10:51:34.951Z"
   },
   {
    "duration": 39,
    "start_time": "2022-01-24T10:51:34.993Z"
   },
   {
    "duration": 50,
    "start_time": "2022-01-24T10:51:35.034Z"
   },
   {
    "duration": 42,
    "start_time": "2022-01-24T10:51:35.086Z"
   },
   {
    "duration": 32,
    "start_time": "2022-01-24T10:51:35.130Z"
   },
   {
    "duration": 23,
    "start_time": "2022-01-24T10:51:35.163Z"
   },
   {
    "duration": 20,
    "start_time": "2022-01-24T10:51:35.188Z"
   },
   {
    "duration": 3,
    "start_time": "2022-01-24T10:51:35.211Z"
   },
   {
    "duration": 24,
    "start_time": "2022-01-24T10:51:35.217Z"
   },
   {
    "duration": 212,
    "start_time": "2022-01-24T10:51:35.243Z"
   },
   {
    "duration": 3,
    "start_time": "2022-01-24T10:51:35.460Z"
   },
   {
    "duration": 31,
    "start_time": "2022-01-24T10:51:35.464Z"
   },
   {
    "duration": 21,
    "start_time": "2022-01-24T10:51:35.496Z"
   },
   {
    "duration": 37,
    "start_time": "2022-01-24T10:51:35.519Z"
   },
   {
    "duration": 32,
    "start_time": "2022-01-24T10:51:35.558Z"
   },
   {
    "duration": 38,
    "start_time": "2022-01-24T10:51:35.592Z"
   },
   {
    "duration": 25,
    "start_time": "2022-01-24T10:51:35.632Z"
   },
   {
    "duration": 37,
    "start_time": "2022-01-24T10:51:35.659Z"
   },
   {
    "duration": 41,
    "start_time": "2022-01-24T10:51:35.698Z"
   },
   {
    "duration": 35,
    "start_time": "2022-01-24T10:51:35.741Z"
   },
   {
    "duration": 37,
    "start_time": "2022-01-24T10:51:35.778Z"
   },
   {
    "duration": 27,
    "start_time": "2022-01-24T10:51:35.817Z"
   },
   {
    "duration": 37,
    "start_time": "2022-01-24T10:51:35.846Z"
   },
   {
    "duration": 30,
    "start_time": "2022-01-24T10:51:35.885Z"
   },
   {
    "duration": 25,
    "start_time": "2022-01-24T10:51:35.916Z"
   },
   {
    "duration": 38,
    "start_time": "2022-01-24T10:51:35.943Z"
   },
   {
    "duration": 21,
    "start_time": "2022-01-24T10:51:35.982Z"
   },
   {
    "duration": 35,
    "start_time": "2022-01-24T10:51:36.004Z"
   },
   {
    "duration": 37,
    "start_time": "2022-01-24T10:51:36.041Z"
   },
   {
    "duration": 32,
    "start_time": "2022-01-24T10:51:36.079Z"
   },
   {
    "duration": 18,
    "start_time": "2022-01-24T10:51:36.113Z"
   },
   {
    "duration": 11,
    "start_time": "2022-01-24T10:51:36.133Z"
   },
   {
    "duration": 32,
    "start_time": "2022-01-24T10:51:36.145Z"
   },
   {
    "duration": 32,
    "start_time": "2022-01-24T10:51:36.179Z"
   },
   {
    "duration": 142,
    "start_time": "2022-01-24T10:51:36.212Z"
   },
   {
    "duration": -127,
    "start_time": "2022-01-24T10:51:36.484Z"
   },
   {
    "duration": -139,
    "start_time": "2022-01-24T10:51:36.497Z"
   },
   {
    "duration": -141,
    "start_time": "2022-01-24T10:51:36.500Z"
   },
   {
    "duration": -145,
    "start_time": "2022-01-24T10:51:36.505Z"
   },
   {
    "duration": -155,
    "start_time": "2022-01-24T10:51:36.516Z"
   },
   {
    "duration": -159,
    "start_time": "2022-01-24T10:51:36.521Z"
   },
   {
    "duration": -171,
    "start_time": "2022-01-24T10:51:36.534Z"
   },
   {
    "duration": -185,
    "start_time": "2022-01-24T10:51:36.549Z"
   },
   {
    "duration": -189,
    "start_time": "2022-01-24T10:51:36.554Z"
   },
   {
    "duration": -199,
    "start_time": "2022-01-24T10:51:36.565Z"
   },
   {
    "duration": -202,
    "start_time": "2022-01-24T10:51:36.569Z"
   },
   {
    "duration": -214,
    "start_time": "2022-01-24T10:51:36.582Z"
   },
   {
    "duration": -219,
    "start_time": "2022-01-24T10:51:36.588Z"
   },
   {
    "duration": -228,
    "start_time": "2022-01-24T10:51:36.598Z"
   },
   {
    "duration": -233,
    "start_time": "2022-01-24T10:51:36.604Z"
   },
   {
    "duration": -244,
    "start_time": "2022-01-24T10:51:36.616Z"
   },
   {
    "duration": -249,
    "start_time": "2022-01-24T10:51:36.621Z"
   },
   {
    "duration": -259,
    "start_time": "2022-01-24T10:51:36.632Z"
   },
   {
    "duration": -264,
    "start_time": "2022-01-24T10:51:36.639Z"
   },
   {
    "duration": -271,
    "start_time": "2022-01-24T10:51:36.646Z"
   },
   {
    "duration": -278,
    "start_time": "2022-01-24T10:51:36.654Z"
   },
   {
    "duration": -280,
    "start_time": "2022-01-24T10:51:36.657Z"
   },
   {
    "duration": -309,
    "start_time": "2022-01-24T10:51:36.687Z"
   },
   {
    "duration": -311,
    "start_time": "2022-01-24T10:51:36.690Z"
   },
   {
    "duration": -313,
    "start_time": "2022-01-24T10:51:36.693Z"
   },
   {
    "duration": -314,
    "start_time": "2022-01-24T10:51:36.695Z"
   },
   {
    "duration": -317,
    "start_time": "2022-01-24T10:51:36.699Z"
   },
   {
    "duration": -320,
    "start_time": "2022-01-24T10:51:36.703Z"
   },
   {
    "duration": -322,
    "start_time": "2022-01-24T10:51:36.706Z"
   },
   {
    "duration": -323,
    "start_time": "2022-01-24T10:51:36.708Z"
   },
   {
    "duration": -325,
    "start_time": "2022-01-24T10:51:36.711Z"
   },
   {
    "duration": -327,
    "start_time": "2022-01-24T10:51:36.714Z"
   },
   {
    "duration": -330,
    "start_time": "2022-01-24T10:51:36.718Z"
   },
   {
    "duration": -333,
    "start_time": "2022-01-24T10:51:36.721Z"
   },
   {
    "duration": -335,
    "start_time": "2022-01-24T10:51:36.724Z"
   },
   {
    "duration": -337,
    "start_time": "2022-01-24T10:51:36.727Z"
   },
   {
    "duration": 6,
    "start_time": "2022-01-24T10:58:30.641Z"
   },
   {
    "duration": 5,
    "start_time": "2022-01-24T10:58:36.322Z"
   },
   {
    "duration": 5,
    "start_time": "2022-01-24T10:58:47.876Z"
   },
   {
    "duration": 6,
    "start_time": "2022-01-24T10:58:54.003Z"
   },
   {
    "duration": 6,
    "start_time": "2022-01-24T10:59:04.211Z"
   },
   {
    "duration": 23,
    "start_time": "2022-01-24T11:00:26.947Z"
   },
   {
    "duration": 217,
    "start_time": "2022-01-24T11:15:15.002Z"
   },
   {
    "duration": 8,
    "start_time": "2022-01-24T11:15:29.405Z"
   },
   {
    "duration": 1167,
    "start_time": "2022-01-24T11:15:56.063Z"
   },
   {
    "duration": 184,
    "start_time": "2022-01-24T11:15:57.232Z"
   },
   {
    "duration": 3,
    "start_time": "2022-01-24T11:15:57.418Z"
   },
   {
    "duration": 24,
    "start_time": "2022-01-24T11:15:57.423Z"
   },
   {
    "duration": 24,
    "start_time": "2022-01-24T11:15:57.449Z"
   },
   {
    "duration": 52,
    "start_time": "2022-01-24T11:15:57.475Z"
   },
   {
    "duration": 34,
    "start_time": "2022-01-24T11:15:57.529Z"
   },
   {
    "duration": 35,
    "start_time": "2022-01-24T11:15:57.566Z"
   },
   {
    "duration": 45,
    "start_time": "2022-01-24T11:15:57.602Z"
   },
   {
    "duration": 55,
    "start_time": "2022-01-24T11:15:57.649Z"
   },
   {
    "duration": 24,
    "start_time": "2022-01-24T11:15:57.707Z"
   },
   {
    "duration": 52,
    "start_time": "2022-01-24T11:15:57.733Z"
   },
   {
    "duration": 43,
    "start_time": "2022-01-24T11:15:57.787Z"
   },
   {
    "duration": 32,
    "start_time": "2022-01-24T11:15:57.832Z"
   },
   {
    "duration": 24,
    "start_time": "2022-01-24T11:15:57.865Z"
   },
   {
    "duration": 31,
    "start_time": "2022-01-24T11:15:57.891Z"
   },
   {
    "duration": 17,
    "start_time": "2022-01-24T11:15:57.924Z"
   },
   {
    "duration": 52,
    "start_time": "2022-01-24T11:15:57.943Z"
   },
   {
    "duration": 45,
    "start_time": "2022-01-24T11:15:57.997Z"
   },
   {
    "duration": 28,
    "start_time": "2022-01-24T11:15:58.044Z"
   },
   {
    "duration": 29,
    "start_time": "2022-01-24T11:15:58.074Z"
   },
   {
    "duration": 50,
    "start_time": "2022-01-24T11:15:58.105Z"
   },
   {
    "duration": 9,
    "start_time": "2022-01-24T11:15:58.160Z"
   },
   {
    "duration": 37,
    "start_time": "2022-01-24T11:15:58.171Z"
   },
   {
    "duration": 209,
    "start_time": "2022-01-24T11:15:58.209Z"
   },
   {
    "duration": 2,
    "start_time": "2022-01-24T11:15:58.419Z"
   },
   {
    "duration": 32,
    "start_time": "2022-01-24T11:15:58.423Z"
   },
   {
    "duration": 50,
    "start_time": "2022-01-24T11:15:58.457Z"
   },
   {
    "duration": 7,
    "start_time": "2022-01-24T11:15:58.509Z"
   },
   {
    "duration": 26,
    "start_time": "2022-01-24T11:15:58.517Z"
   },
   {
    "duration": 13,
    "start_time": "2022-01-24T11:15:58.545Z"
   },
   {
    "duration": 49,
    "start_time": "2022-01-24T11:15:58.560Z"
   },
   {
    "duration": 26,
    "start_time": "2022-01-24T11:15:58.611Z"
   },
   {
    "duration": 27,
    "start_time": "2022-01-24T11:15:58.638Z"
   },
   {
    "duration": 38,
    "start_time": "2022-01-24T11:15:58.667Z"
   },
   {
    "duration": 37,
    "start_time": "2022-01-24T11:15:58.707Z"
   },
   {
    "duration": 25,
    "start_time": "2022-01-24T11:15:58.746Z"
   },
   {
    "duration": 31,
    "start_time": "2022-01-24T11:15:58.773Z"
   },
   {
    "duration": 34,
    "start_time": "2022-01-24T11:15:58.805Z"
   },
   {
    "duration": 38,
    "start_time": "2022-01-24T11:15:58.841Z"
   },
   {
    "duration": 36,
    "start_time": "2022-01-24T11:15:58.880Z"
   },
   {
    "duration": 37,
    "start_time": "2022-01-24T11:15:58.918Z"
   },
   {
    "duration": 34,
    "start_time": "2022-01-24T11:15:58.957Z"
   },
   {
    "duration": 29,
    "start_time": "2022-01-24T11:15:58.993Z"
   },
   {
    "duration": 41,
    "start_time": "2022-01-24T11:15:59.024Z"
   },
   {
    "duration": 24,
    "start_time": "2022-01-24T11:15:59.067Z"
   },
   {
    "duration": 24,
    "start_time": "2022-01-24T11:15:59.092Z"
   },
   {
    "duration": 11,
    "start_time": "2022-01-24T11:15:59.118Z"
   },
   {
    "duration": 30,
    "start_time": "2022-01-24T11:15:59.131Z"
   },
   {
    "duration": 45,
    "start_time": "2022-01-24T11:15:59.163Z"
   },
   {
    "duration": 88,
    "start_time": "2022-01-24T11:15:59.210Z"
   },
   {
    "duration": -197,
    "start_time": "2022-01-24T11:15:59.497Z"
   },
   {
    "duration": -209,
    "start_time": "2022-01-24T11:15:59.510Z"
   },
   {
    "duration": -220,
    "start_time": "2022-01-24T11:15:59.522Z"
   },
   {
    "duration": -225,
    "start_time": "2022-01-24T11:15:59.528Z"
   },
   {
    "duration": -235,
    "start_time": "2022-01-24T11:15:59.539Z"
   },
   {
    "duration": -240,
    "start_time": "2022-01-24T11:15:59.545Z"
   },
   {
    "duration": -249,
    "start_time": "2022-01-24T11:15:59.555Z"
   },
   {
    "duration": -255,
    "start_time": "2022-01-24T11:15:59.562Z"
   },
   {
    "duration": -297,
    "start_time": "2022-01-24T11:15:59.605Z"
   },
   {
    "duration": -302,
    "start_time": "2022-01-24T11:15:59.611Z"
   },
   {
    "duration": -304,
    "start_time": "2022-01-24T11:15:59.615Z"
   },
   {
    "duration": -306,
    "start_time": "2022-01-24T11:15:59.618Z"
   },
   {
    "duration": -309,
    "start_time": "2022-01-24T11:15:59.622Z"
   },
   {
    "duration": -313,
    "start_time": "2022-01-24T11:15:59.627Z"
   },
   {
    "duration": -315,
    "start_time": "2022-01-24T11:15:59.630Z"
   },
   {
    "duration": -317,
    "start_time": "2022-01-24T11:15:59.633Z"
   },
   {
    "duration": -319,
    "start_time": "2022-01-24T11:15:59.636Z"
   },
   {
    "duration": -322,
    "start_time": "2022-01-24T11:15:59.640Z"
   },
   {
    "duration": -325,
    "start_time": "2022-01-24T11:15:59.644Z"
   },
   {
    "duration": -327,
    "start_time": "2022-01-24T11:15:59.647Z"
   },
   {
    "duration": -329,
    "start_time": "2022-01-24T11:15:59.650Z"
   },
   {
    "duration": -331,
    "start_time": "2022-01-24T11:15:59.653Z"
   },
   {
    "duration": -340,
    "start_time": "2022-01-24T11:15:59.663Z"
   },
   {
    "duration": -343,
    "start_time": "2022-01-24T11:15:59.667Z"
   },
   {
    "duration": -345,
    "start_time": "2022-01-24T11:15:59.669Z"
   },
   {
    "duration": -361,
    "start_time": "2022-01-24T11:15:59.686Z"
   },
   {
    "duration": -368,
    "start_time": "2022-01-24T11:15:59.694Z"
   },
   {
    "duration": -371,
    "start_time": "2022-01-24T11:15:59.698Z"
   },
   {
    "duration": -373,
    "start_time": "2022-01-24T11:15:59.701Z"
   },
   {
    "duration": -375,
    "start_time": "2022-01-24T11:15:59.704Z"
   },
   {
    "duration": -376,
    "start_time": "2022-01-24T11:15:59.707Z"
   },
   {
    "duration": -381,
    "start_time": "2022-01-24T11:15:59.713Z"
   },
   {
    "duration": -383,
    "start_time": "2022-01-24T11:15:59.716Z"
   },
   {
    "duration": -388,
    "start_time": "2022-01-24T11:15:59.722Z"
   },
   {
    "duration": -391,
    "start_time": "2022-01-24T11:15:59.726Z"
   },
   {
    "duration": -394,
    "start_time": "2022-01-24T11:15:59.730Z"
   },
   {
    "duration": 5,
    "start_time": "2022-01-24T11:17:06.655Z"
   },
   {
    "duration": 5,
    "start_time": "2022-01-24T11:17:21.822Z"
   },
   {
    "duration": 346,
    "start_time": "2022-01-25T09:16:25.836Z"
   },
   {
    "duration": 1536,
    "start_time": "2022-01-25T09:16:34.560Z"
   },
   {
    "duration": 275,
    "start_time": "2022-01-25T09:16:36.099Z"
   },
   {
    "duration": 6,
    "start_time": "2022-01-25T09:16:36.378Z"
   },
   {
    "duration": 21,
    "start_time": "2022-01-25T09:16:36.386Z"
   },
   {
    "duration": 16,
    "start_time": "2022-01-25T09:16:36.409Z"
   },
   {
    "duration": 78,
    "start_time": "2022-01-25T09:16:36.427Z"
   },
   {
    "duration": 69,
    "start_time": "2022-01-25T09:16:36.507Z"
   },
   {
    "duration": 12,
    "start_time": "2022-01-25T09:16:36.580Z"
   },
   {
    "duration": 35,
    "start_time": "2022-01-25T09:16:36.596Z"
   },
   {
    "duration": 47,
    "start_time": "2022-01-25T09:16:36.634Z"
   },
   {
    "duration": 12,
    "start_time": "2022-01-25T09:16:36.684Z"
   },
   {
    "duration": 21,
    "start_time": "2022-01-25T09:16:36.699Z"
   },
   {
    "duration": 49,
    "start_time": "2022-01-25T09:16:36.722Z"
   },
   {
    "duration": 12,
    "start_time": "2022-01-25T09:16:36.773Z"
   },
   {
    "duration": 4,
    "start_time": "2022-01-25T09:16:36.788Z"
   },
   {
    "duration": 8,
    "start_time": "2022-01-25T09:16:36.794Z"
   },
   {
    "duration": 10,
    "start_time": "2022-01-25T09:16:36.804Z"
   },
   {
    "duration": 15,
    "start_time": "2022-01-25T09:16:36.817Z"
   },
   {
    "duration": 40,
    "start_time": "2022-01-25T09:16:36.835Z"
   },
   {
    "duration": 12,
    "start_time": "2022-01-25T09:16:36.877Z"
   },
   {
    "duration": 7,
    "start_time": "2022-01-25T09:16:36.892Z"
   },
   {
    "duration": 17,
    "start_time": "2022-01-25T09:16:36.901Z"
   },
   {
    "duration": 46,
    "start_time": "2022-01-25T09:16:36.927Z"
   },
   {
    "duration": 11,
    "start_time": "2022-01-25T09:16:36.978Z"
   },
   {
    "duration": 380,
    "start_time": "2022-01-25T09:16:36.992Z"
   },
   {
    "duration": 3,
    "start_time": "2022-01-25T09:16:37.374Z"
   },
   {
    "duration": 11,
    "start_time": "2022-01-25T09:16:37.379Z"
   },
   {
    "duration": 42,
    "start_time": "2022-01-25T09:16:37.393Z"
   },
   {
    "duration": 33,
    "start_time": "2022-01-25T09:16:37.439Z"
   },
   {
    "duration": 17,
    "start_time": "2022-01-25T09:16:37.475Z"
   },
   {
    "duration": 6,
    "start_time": "2022-01-25T09:16:37.495Z"
   },
   {
    "duration": 13,
    "start_time": "2022-01-25T09:16:37.504Z"
   },
   {
    "duration": 50,
    "start_time": "2022-01-25T09:16:37.519Z"
   },
   {
    "duration": 9,
    "start_time": "2022-01-25T09:16:37.572Z"
   },
   {
    "duration": 7,
    "start_time": "2022-01-25T09:16:37.583Z"
   },
   {
    "duration": 11,
    "start_time": "2022-01-25T09:16:37.593Z"
   },
   {
    "duration": 9,
    "start_time": "2022-01-25T09:16:37.606Z"
   },
   {
    "duration": 12,
    "start_time": "2022-01-25T09:16:37.618Z"
   },
   {
    "duration": 13,
    "start_time": "2022-01-25T09:16:37.670Z"
   },
   {
    "duration": 11,
    "start_time": "2022-01-25T09:16:37.686Z"
   },
   {
    "duration": 10,
    "start_time": "2022-01-25T09:16:37.700Z"
   },
   {
    "duration": 10,
    "start_time": "2022-01-25T09:16:37.712Z"
   },
   {
    "duration": 44,
    "start_time": "2022-01-25T09:16:37.725Z"
   },
   {
    "duration": 6,
    "start_time": "2022-01-25T09:16:37.771Z"
   },
   {
    "duration": 28,
    "start_time": "2022-01-25T09:16:37.779Z"
   },
   {
    "duration": 24,
    "start_time": "2022-01-25T09:16:37.809Z"
   },
   {
    "duration": 50,
    "start_time": "2022-01-25T09:16:37.836Z"
   },
   {
    "duration": 5,
    "start_time": "2022-01-25T09:16:37.888Z"
   },
   {
    "duration": 24,
    "start_time": "2022-01-25T09:16:37.896Z"
   },
   {
    "duration": 19,
    "start_time": "2022-01-25T09:16:37.922Z"
   },
   {
    "duration": 99,
    "start_time": "2022-01-25T09:16:37.970Z"
   },
   {
    "duration": -1441,
    "start_time": "2022-01-25T09:16:39.516Z"
   },
   {
    "duration": -1451,
    "start_time": "2022-01-25T09:16:39.528Z"
   },
   {
    "duration": -1455,
    "start_time": "2022-01-25T09:16:39.534Z"
   },
   {
    "duration": -1454,
    "start_time": "2022-01-25T09:16:39.536Z"
   },
   {
    "duration": -1455,
    "start_time": "2022-01-25T09:16:39.539Z"
   },
   {
    "duration": -1456,
    "start_time": "2022-01-25T09:16:39.542Z"
   },
   {
    "duration": -1457,
    "start_time": "2022-01-25T09:16:39.546Z"
   },
   {
    "duration": -1457,
    "start_time": "2022-01-25T09:16:39.548Z"
   },
   {
    "duration": -1458,
    "start_time": "2022-01-25T09:16:39.551Z"
   },
   {
    "duration": -1459,
    "start_time": "2022-01-25T09:16:39.554Z"
   },
   {
    "duration": -1460,
    "start_time": "2022-01-25T09:16:39.557Z"
   },
   {
    "duration": -1460,
    "start_time": "2022-01-25T09:16:39.559Z"
   },
   {
    "duration": -1462,
    "start_time": "2022-01-25T09:16:39.563Z"
   },
   {
    "duration": -1462,
    "start_time": "2022-01-25T09:16:39.565Z"
   },
   {
    "duration": -1463,
    "start_time": "2022-01-25T09:16:39.568Z"
   },
   {
    "duration": -1465,
    "start_time": "2022-01-25T09:16:39.571Z"
   },
   {
    "duration": -1465,
    "start_time": "2022-01-25T09:16:39.574Z"
   },
   {
    "duration": -1466,
    "start_time": "2022-01-25T09:16:39.577Z"
   },
   {
    "duration": -1466,
    "start_time": "2022-01-25T09:16:39.579Z"
   },
   {
    "duration": -1413,
    "start_time": "2022-01-25T09:16:39.582Z"
   },
   {
    "duration": -1414,
    "start_time": "2022-01-25T09:16:39.585Z"
   },
   {
    "duration": -1414,
    "start_time": "2022-01-25T09:16:39.588Z"
   },
   {
    "duration": -1414,
    "start_time": "2022-01-25T09:16:39.590Z"
   },
   {
    "duration": -1414,
    "start_time": "2022-01-25T09:16:39.593Z"
   },
   {
    "duration": -1416,
    "start_time": "2022-01-25T09:16:39.596Z"
   },
   {
    "duration": -1416,
    "start_time": "2022-01-25T09:16:39.598Z"
   },
   {
    "duration": -1422,
    "start_time": "2022-01-25T09:16:39.606Z"
   },
   {
    "duration": -1424,
    "start_time": "2022-01-25T09:16:39.609Z"
   },
   {
    "duration": -1426,
    "start_time": "2022-01-25T09:16:39.613Z"
   },
   {
    "duration": -1427,
    "start_time": "2022-01-25T09:16:39.616Z"
   },
   {
    "duration": -1429,
    "start_time": "2022-01-25T09:16:39.619Z"
   },
   {
    "duration": -1429,
    "start_time": "2022-01-25T09:16:39.621Z"
   },
   {
    "duration": -1431,
    "start_time": "2022-01-25T09:16:39.624Z"
   },
   {
    "duration": -1441,
    "start_time": "2022-01-25T09:16:39.636Z"
   },
   {
    "duration": -1446,
    "start_time": "2022-01-25T09:16:39.642Z"
   },
   {
    "duration": -1447,
    "start_time": "2022-01-25T09:16:39.645Z"
   },
   {
    "duration": 36,
    "start_time": "2022-01-25T09:18:07.828Z"
   },
   {
    "duration": 58,
    "start_time": "2022-01-25T09:21:43.553Z"
   },
   {
    "duration": 49,
    "start_time": "2022-01-25T09:23:51.078Z"
   },
   {
    "duration": 8,
    "start_time": "2022-01-25T09:30:59.312Z"
   },
   {
    "duration": 19,
    "start_time": "2022-01-25T09:33:44.669Z"
   },
   {
    "duration": 8,
    "start_time": "2022-01-25T09:34:35.075Z"
   },
   {
    "duration": 9,
    "start_time": "2022-01-25T09:36:10.575Z"
   },
   {
    "duration": 376,
    "start_time": "2022-01-25T09:42:44.166Z"
   },
   {
    "duration": 275,
    "start_time": "2022-01-25T09:43:39.508Z"
   },
   {
    "duration": 303,
    "start_time": "2022-01-25T09:47:13.936Z"
   },
   {
    "duration": 460,
    "start_time": "2022-01-25T09:47:35.285Z"
   },
   {
    "duration": 92,
    "start_time": "2022-01-25T09:48:14.221Z"
   },
   {
    "duration": 6,
    "start_time": "2022-01-25T09:53:25.008Z"
   },
   {
    "duration": 5,
    "start_time": "2022-01-25T09:53:36.374Z"
   },
   {
    "duration": 6,
    "start_time": "2022-01-25T09:53:52.733Z"
   },
   {
    "duration": 5,
    "start_time": "2022-01-25T09:54:23.920Z"
   },
   {
    "duration": 5,
    "start_time": "2022-01-25T09:55:19.906Z"
   },
   {
    "duration": 4,
    "start_time": "2022-01-25T09:55:26.336Z"
   },
   {
    "duration": 6725,
    "start_time": "2022-01-25T09:58:49.950Z"
   },
   {
    "duration": 7103,
    "start_time": "2022-01-25T09:59:14.266Z"
   },
   {
    "duration": 7343,
    "start_time": "2022-01-25T10:00:24.806Z"
   },
   {
    "duration": 283,
    "start_time": "2022-01-25T10:05:03.497Z"
   },
   {
    "duration": 290,
    "start_time": "2022-01-25T10:05:32.678Z"
   },
   {
    "duration": 3,
    "start_time": "2022-01-25T10:06:51.997Z"
   },
   {
    "duration": 18,
    "start_time": "2022-01-25T10:06:59.490Z"
   },
   {
    "duration": 40,
    "start_time": "2022-01-25T10:07:20.092Z"
   },
   {
    "duration": 102,
    "start_time": "2022-01-25T10:10:10.815Z"
   },
   {
    "duration": 8,
    "start_time": "2022-01-25T10:10:19.950Z"
   },
   {
    "duration": 4,
    "start_time": "2022-01-25T10:11:46.542Z"
   },
   {
    "duration": 786,
    "start_time": "2022-01-25T10:11:54.710Z"
   },
   {
    "duration": 4,
    "start_time": "2022-01-25T10:12:18.417Z"
   },
   {
    "duration": 5,
    "start_time": "2022-01-25T10:12:21.850Z"
   },
   {
    "duration": 317,
    "start_time": "2022-01-25T10:13:13.140Z"
   },
   {
    "duration": 14,
    "start_time": "2022-01-25T10:15:16.315Z"
   },
   {
    "duration": 14,
    "start_time": "2022-01-25T10:15:24.862Z"
   },
   {
    "duration": 38,
    "start_time": "2022-01-25T10:15:55.492Z"
   },
   {
    "duration": 8483,
    "start_time": "2022-01-25T10:17:21.316Z"
   },
   {
    "duration": 7093,
    "start_time": "2022-01-25T10:18:50.542Z"
   },
   {
    "duration": 46,
    "start_time": "2022-01-25T10:19:31.182Z"
   },
   {
    "duration": 105,
    "start_time": "2022-01-25T10:20:09.110Z"
   },
   {
    "duration": 42,
    "start_time": "2022-01-25T10:20:17.086Z"
   },
   {
    "duration": 16,
    "start_time": "2022-01-25T10:22:53.049Z"
   },
   {
    "duration": 313,
    "start_time": "2022-01-25T10:23:56.304Z"
   },
   {
    "duration": 31,
    "start_time": "2022-01-25T10:24:47.750Z"
   },
   {
    "duration": 21,
    "start_time": "2022-01-25T10:25:46.006Z"
   },
   {
    "duration": 8,
    "start_time": "2022-01-25T10:27:19.902Z"
   },
   {
    "duration": 40,
    "start_time": "2022-01-25T10:30:52.542Z"
   },
   {
    "duration": 40,
    "start_time": "2022-01-25T10:34:34.673Z"
   },
   {
    "duration": 7,
    "start_time": "2022-01-25T10:35:02.537Z"
   },
   {
    "duration": 6,
    "start_time": "2022-01-25T10:35:14.866Z"
   },
   {
    "duration": 9,
    "start_time": "2022-01-25T10:36:26.572Z"
   },
   {
    "duration": 38,
    "start_time": "2022-01-25T10:36:51.224Z"
   },
   {
    "duration": 6,
    "start_time": "2022-01-25T10:37:29.768Z"
   },
   {
    "duration": 6,
    "start_time": "2022-01-25T10:37:44.650Z"
   },
   {
    "duration": 33,
    "start_time": "2022-01-25T10:39:27.292Z"
   },
   {
    "duration": 4,
    "start_time": "2022-01-25T10:40:56.862Z"
   },
   {
    "duration": 12,
    "start_time": "2022-01-25T10:41:14.847Z"
   },
   {
    "duration": 10,
    "start_time": "2022-01-25T10:47:26.301Z"
   },
   {
    "duration": 22,
    "start_time": "2022-01-25T10:49:08.766Z"
   },
   {
    "duration": 23,
    "start_time": "2022-01-25T10:51:07.754Z"
   },
   {
    "duration": 22,
    "start_time": "2022-01-25T10:51:35.988Z"
   },
   {
    "duration": 21,
    "start_time": "2022-01-25T10:51:59.764Z"
   },
   {
    "duration": 21,
    "start_time": "2022-01-25T10:54:30.172Z"
   },
   {
    "duration": 65,
    "start_time": "2022-01-25T11:03:51.347Z"
   },
   {
    "duration": 32,
    "start_time": "2022-01-25T11:04:22.574Z"
   },
   {
    "duration": 63,
    "start_time": "2022-01-25T11:04:35.289Z"
   },
   {
    "duration": 29,
    "start_time": "2022-01-25T11:06:10.340Z"
   },
   {
    "duration": 384,
    "start_time": "2022-01-25T11:07:53.007Z"
   },
   {
    "duration": 30,
    "start_time": "2022-01-25T11:08:28.310Z"
   },
   {
    "duration": 38,
    "start_time": "2022-01-25T11:09:57.999Z"
   },
   {
    "duration": 97,
    "start_time": "2022-01-25T11:10:35.322Z"
   },
   {
    "duration": 34,
    "start_time": "2022-01-25T11:10:50.693Z"
   },
   {
    "duration": 291,
    "start_time": "2022-01-25T11:12:00.697Z"
   },
   {
    "duration": 39,
    "start_time": "2022-01-25T11:12:10.641Z"
   },
   {
    "duration": 110,
    "start_time": "2022-01-25T11:13:31.064Z"
   },
   {
    "duration": 39,
    "start_time": "2022-01-25T11:14:13.539Z"
   },
   {
    "duration": 34,
    "start_time": "2022-01-25T11:14:33.818Z"
   },
   {
    "duration": 32,
    "start_time": "2022-01-25T11:15:12.502Z"
   },
   {
    "duration": 38,
    "start_time": "2022-01-25T11:16:39.000Z"
   },
   {
    "duration": 32,
    "start_time": "2022-01-25T11:17:53.276Z"
   },
   {
    "duration": 33,
    "start_time": "2022-01-25T11:19:00.066Z"
   },
   {
    "duration": 31,
    "start_time": "2022-01-25T11:19:50.332Z"
   },
   {
    "duration": 33,
    "start_time": "2022-01-25T11:20:10.292Z"
   },
   {
    "duration": 34,
    "start_time": "2022-01-25T11:20:24.379Z"
   },
   {
    "duration": 91,
    "start_time": "2022-01-25T11:26:50.318Z"
   },
   {
    "duration": 96,
    "start_time": "2022-01-25T11:27:06.604Z"
   },
   {
    "duration": 4,
    "start_time": "2022-01-25T11:32:18.220Z"
   },
   {
    "duration": 17,
    "start_time": "2022-01-25T11:33:13.842Z"
   },
   {
    "duration": 5,
    "start_time": "2022-01-25T11:39:49.125Z"
   },
   {
    "duration": 395,
    "start_time": "2022-01-25T11:46:27.046Z"
   },
   {
    "duration": 6,
    "start_time": "2022-01-25T11:46:40.812Z"
   },
   {
    "duration": 6,
    "start_time": "2022-01-25T11:47:14.980Z"
   },
   {
    "duration": 6,
    "start_time": "2022-01-25T11:49:46.517Z"
   },
   {
    "duration": 7,
    "start_time": "2022-01-25T11:50:26.753Z"
   },
   {
    "duration": 4,
    "start_time": "2022-01-25T11:51:22.090Z"
   },
   {
    "duration": 1611,
    "start_time": "2022-01-25T11:51:27.058Z"
   },
   {
    "duration": 83941,
    "start_time": "2022-01-25T11:58:33.135Z"
   },
   {
    "duration": -1718,
    "start_time": "2022-01-25T11:59:58.799Z"
   },
   {
    "duration": 5,
    "start_time": "2022-01-25T12:00:14.562Z"
   },
   {
    "duration": 4,
    "start_time": "2022-01-25T12:01:37.519Z"
   },
   {
    "duration": 273,
    "start_time": "2022-01-25T12:02:04.169Z"
   },
   {
    "duration": 277,
    "start_time": "2022-01-25T12:02:31.049Z"
   },
   {
    "duration": 286,
    "start_time": "2022-01-25T12:03:17.102Z"
   },
   {
    "duration": 335,
    "start_time": "2022-01-25T12:23:39.298Z"
   },
   {
    "duration": 23,
    "start_time": "2022-01-25T12:23:50.720Z"
   },
   {
    "duration": 21,
    "start_time": "2022-01-25T12:25:59.173Z"
   },
   {
    "duration": 30,
    "start_time": "2022-01-25T12:26:41.794Z"
   },
   {
    "duration": 30,
    "start_time": "2022-01-25T12:27:02.283Z"
   },
   {
    "duration": 31,
    "start_time": "2022-01-25T12:27:11.145Z"
   },
   {
    "duration": 21,
    "start_time": "2022-01-25T12:27:17.639Z"
   },
   {
    "duration": 20,
    "start_time": "2022-01-25T12:27:35.807Z"
   },
   {
    "duration": 23,
    "start_time": "2022-01-25T12:27:45.706Z"
   },
   {
    "duration": 10,
    "start_time": "2022-01-25T12:31:32.770Z"
   },
   {
    "duration": 18,
    "start_time": "2022-01-25T12:31:43.709Z"
   },
   {
    "duration": 3,
    "start_time": "2022-01-25T12:32:06.859Z"
   },
   {
    "duration": 49,
    "start_time": "2022-01-25T13:00:05.186Z"
   },
   {
    "duration": 343,
    "start_time": "2022-01-25T13:33:06.370Z"
   },
   {
    "duration": 283,
    "start_time": "2022-01-25T13:33:20.515Z"
   },
   {
    "duration": 13,
    "start_time": "2022-01-25T13:34:04.990Z"
   },
   {
    "duration": 9,
    "start_time": "2022-01-25T13:35:00.384Z"
   },
   {
    "duration": 16,
    "start_time": "2022-01-25T13:35:33.801Z"
   },
   {
    "duration": 276,
    "start_time": "2022-01-25T13:37:03.644Z"
   },
   {
    "duration": 283,
    "start_time": "2022-01-25T13:37:13.990Z"
   },
   {
    "duration": 331,
    "start_time": "2022-01-25T13:37:31.902Z"
   },
   {
    "duration": 16,
    "start_time": "2022-01-25T13:37:52.762Z"
   },
   {
    "duration": 279,
    "start_time": "2022-01-25T13:38:54.181Z"
   },
   {
    "duration": 22,
    "start_time": "2022-01-25T13:39:37.020Z"
   },
   {
    "duration": 16,
    "start_time": "2022-01-25T13:40:46.422Z"
   },
   {
    "duration": 344,
    "start_time": "2022-01-25T13:42:19.674Z"
   },
   {
    "duration": 279,
    "start_time": "2022-01-25T13:43:22.260Z"
   },
   {
    "duration": 298,
    "start_time": "2022-01-25T13:43:34.474Z"
   },
   {
    "duration": 304,
    "start_time": "2022-01-25T13:44:09.090Z"
   },
   {
    "duration": 12,
    "start_time": "2022-01-25T13:44:21.466Z"
   },
   {
    "duration": 1368,
    "start_time": "2022-01-25T13:45:28.128Z"
   },
   {
    "duration": 47,
    "start_time": "2022-01-25T13:45:46.083Z"
   },
   {
    "duration": 22,
    "start_time": "2022-01-25T13:49:40.063Z"
   },
   {
    "duration": 91,
    "start_time": "2022-01-25T13:50:45.933Z"
   },
   {
    "duration": 19,
    "start_time": "2022-01-25T13:50:57.405Z"
   },
   {
    "duration": 28,
    "start_time": "2022-01-25T13:52:10.823Z"
   },
   {
    "duration": 19,
    "start_time": "2022-01-25T13:52:36.765Z"
   },
   {
    "duration": 15,
    "start_time": "2022-01-25T13:53:00.599Z"
   },
   {
    "duration": 22,
    "start_time": "2022-01-25T13:53:28.485Z"
   },
   {
    "duration": 24,
    "start_time": "2022-01-25T13:54:01.335Z"
   },
   {
    "duration": 260,
    "start_time": "2022-01-25T13:58:55.650Z"
   },
   {
    "duration": 236,
    "start_time": "2022-01-25T13:59:16.409Z"
   },
   {
    "duration": 30,
    "start_time": "2022-01-25T13:59:38.689Z"
   },
   {
    "duration": 307,
    "start_time": "2022-01-25T21:14:36.696Z"
   },
   {
    "duration": 1237,
    "start_time": "2022-01-25T21:14:42.584Z"
   },
   {
    "duration": 230,
    "start_time": "2022-01-25T21:14:43.823Z"
   },
   {
    "duration": 4,
    "start_time": "2022-01-25T21:14:44.056Z"
   },
   {
    "duration": 27,
    "start_time": "2022-01-25T21:14:44.062Z"
   },
   {
    "duration": 32,
    "start_time": "2022-01-25T21:14:44.091Z"
   },
   {
    "duration": 46,
    "start_time": "2022-01-25T21:14:44.125Z"
   },
   {
    "duration": 37,
    "start_time": "2022-01-25T21:14:44.173Z"
   },
   {
    "duration": 8,
    "start_time": "2022-01-25T21:14:44.213Z"
   },
   {
    "duration": 33,
    "start_time": "2022-01-25T21:14:44.223Z"
   },
   {
    "duration": 24,
    "start_time": "2022-01-25T21:14:44.258Z"
   },
   {
    "duration": 33,
    "start_time": "2022-01-25T21:14:44.284Z"
   },
   {
    "duration": 14,
    "start_time": "2022-01-25T21:14:44.319Z"
   },
   {
    "duration": 22,
    "start_time": "2022-01-25T21:14:44.335Z"
   },
   {
    "duration": 57,
    "start_time": "2022-01-25T21:14:44.359Z"
   },
   {
    "duration": 54,
    "start_time": "2022-01-25T21:14:44.419Z"
   },
   {
    "duration": 3,
    "start_time": "2022-01-25T21:14:44.475Z"
   },
   {
    "duration": 29,
    "start_time": "2022-01-25T21:14:44.480Z"
   },
   {
    "duration": 12,
    "start_time": "2022-01-25T21:14:44.511Z"
   },
   {
    "duration": 21,
    "start_time": "2022-01-25T21:14:44.525Z"
   },
   {
    "duration": 12,
    "start_time": "2022-01-25T21:14:44.548Z"
   },
   {
    "duration": 18,
    "start_time": "2022-01-25T21:14:44.562Z"
   },
   {
    "duration": 28,
    "start_time": "2022-01-25T21:14:44.582Z"
   },
   {
    "duration": 4,
    "start_time": "2022-01-25T21:14:44.614Z"
   },
   {
    "duration": 19,
    "start_time": "2022-01-25T21:14:44.621Z"
   },
   {
    "duration": 216,
    "start_time": "2022-01-25T21:14:44.642Z"
   },
   {
    "duration": 3,
    "start_time": "2022-01-25T21:14:44.859Z"
   },
   {
    "duration": 10,
    "start_time": "2022-01-25T21:14:44.863Z"
   },
   {
    "duration": 40,
    "start_time": "2022-01-25T21:14:44.875Z"
   },
   {
    "duration": 7,
    "start_time": "2022-01-25T21:14:44.916Z"
   },
   {
    "duration": 19,
    "start_time": "2022-01-25T21:14:44.924Z"
   },
   {
    "duration": 8,
    "start_time": "2022-01-25T21:14:44.945Z"
   },
   {
    "duration": 19,
    "start_time": "2022-01-25T21:14:44.955Z"
   },
   {
    "duration": 11,
    "start_time": "2022-01-25T21:14:44.976Z"
   },
   {
    "duration": 25,
    "start_time": "2022-01-25T21:14:44.989Z"
   },
   {
    "duration": 28,
    "start_time": "2022-01-25T21:14:45.016Z"
   },
   {
    "duration": 27,
    "start_time": "2022-01-25T21:14:45.046Z"
   },
   {
    "duration": 24,
    "start_time": "2022-01-25T21:14:45.075Z"
   },
   {
    "duration": 16,
    "start_time": "2022-01-25T21:14:45.101Z"
   },
   {
    "duration": 30,
    "start_time": "2022-01-25T21:14:45.120Z"
   },
   {
    "duration": 12,
    "start_time": "2022-01-25T21:14:45.153Z"
   },
   {
    "duration": 12,
    "start_time": "2022-01-25T21:14:45.168Z"
   },
   {
    "duration": 11,
    "start_time": "2022-01-25T21:14:45.182Z"
   },
   {
    "duration": 16,
    "start_time": "2022-01-25T21:14:45.195Z"
   },
   {
    "duration": 12,
    "start_time": "2022-01-25T21:14:45.213Z"
   },
   {
    "duration": 13,
    "start_time": "2022-01-25T21:14:45.227Z"
   },
   {
    "duration": 39,
    "start_time": "2022-01-25T21:14:45.243Z"
   },
   {
    "duration": 19,
    "start_time": "2022-01-25T21:14:45.283Z"
   },
   {
    "duration": 18,
    "start_time": "2022-01-25T21:14:45.304Z"
   },
   {
    "duration": 8,
    "start_time": "2022-01-25T21:14:45.324Z"
   },
   {
    "duration": 23,
    "start_time": "2022-01-25T21:14:45.334Z"
   },
   {
    "duration": 16,
    "start_time": "2022-01-25T21:14:45.359Z"
   },
   {
    "duration": 303,
    "start_time": "2022-01-25T21:14:45.377Z"
   },
   {
    "duration": -3909,
    "start_time": "2022-01-25T21:14:49.592Z"
   },
   {
    "duration": -3914,
    "start_time": "2022-01-25T21:14:49.598Z"
   },
   {
    "duration": -3916,
    "start_time": "2022-01-25T21:14:49.601Z"
   },
   {
    "duration": -3919,
    "start_time": "2022-01-25T21:14:49.605Z"
   },
   {
    "duration": -3921,
    "start_time": "2022-01-25T21:14:49.608Z"
   },
   {
    "duration": -3922,
    "start_time": "2022-01-25T21:14:49.611Z"
   },
   {
    "duration": -3925,
    "start_time": "2022-01-25T21:14:49.615Z"
   },
   {
    "duration": -3927,
    "start_time": "2022-01-25T21:14:49.618Z"
   },
   {
    "duration": -3935,
    "start_time": "2022-01-25T21:14:49.627Z"
   },
   {
    "duration": -3936,
    "start_time": "2022-01-25T21:14:49.630Z"
   },
   {
    "duration": -4151,
    "start_time": "2022-01-25T21:14:49.846Z"
   },
   {
    "duration": -4153,
    "start_time": "2022-01-25T21:14:49.849Z"
   },
   {
    "duration": -4156,
    "start_time": "2022-01-25T21:14:49.853Z"
   },
   {
    "duration": -4164,
    "start_time": "2022-01-25T21:14:49.862Z"
   },
   {
    "duration": -4165,
    "start_time": "2022-01-25T21:14:49.865Z"
   },
   {
    "duration": -4167,
    "start_time": "2022-01-25T21:14:49.868Z"
   },
   {
    "duration": -4171,
    "start_time": "2022-01-25T21:14:49.872Z"
   },
   {
    "duration": -4285,
    "start_time": "2022-01-25T21:14:49.987Z"
   },
   {
    "duration": -4370,
    "start_time": "2022-01-25T21:14:50.073Z"
   },
   {
    "duration": -4381,
    "start_time": "2022-01-25T21:14:50.085Z"
   },
   {
    "duration": -4385,
    "start_time": "2022-01-25T21:14:50.090Z"
   },
   {
    "duration": -4389,
    "start_time": "2022-01-25T21:14:50.095Z"
   },
   {
    "duration": -4393,
    "start_time": "2022-01-25T21:14:50.100Z"
   },
   {
    "duration": -4397,
    "start_time": "2022-01-25T21:14:50.104Z"
   },
   {
    "duration": -4402,
    "start_time": "2022-01-25T21:14:50.110Z"
   },
   {
    "duration": -4404,
    "start_time": "2022-01-25T21:14:50.113Z"
   },
   {
    "duration": -4494,
    "start_time": "2022-01-25T21:14:50.204Z"
   },
   {
    "duration": -4497,
    "start_time": "2022-01-25T21:14:50.208Z"
   },
   {
    "duration": -4545,
    "start_time": "2022-01-25T21:14:50.256Z"
   },
   {
    "duration": -4547,
    "start_time": "2022-01-25T21:14:50.259Z"
   },
   {
    "duration": -4571,
    "start_time": "2022-01-25T21:14:50.284Z"
   },
   {
    "duration": -4576,
    "start_time": "2022-01-25T21:14:50.290Z"
   },
   {
    "duration": -4578,
    "start_time": "2022-01-25T21:14:50.293Z"
   },
   {
    "duration": -4582,
    "start_time": "2022-01-25T21:14:50.297Z"
   },
   {
    "duration": -4585,
    "start_time": "2022-01-25T21:14:50.301Z"
   },
   {
    "duration": -4690,
    "start_time": "2022-01-25T21:14:50.407Z"
   },
   {
    "duration": -4707,
    "start_time": "2022-01-25T21:14:50.425Z"
   },
   {
    "duration": -4717,
    "start_time": "2022-01-25T21:14:50.436Z"
   },
   {
    "duration": -4724,
    "start_time": "2022-01-25T21:14:50.444Z"
   },
   {
    "duration": -4762,
    "start_time": "2022-01-25T21:14:50.482Z"
   },
   {
    "duration": -4774,
    "start_time": "2022-01-25T21:14:50.495Z"
   },
   {
    "duration": -4776,
    "start_time": "2022-01-25T21:14:50.498Z"
   },
   {
    "duration": -4779,
    "start_time": "2022-01-25T21:14:50.502Z"
   },
   {
    "duration": 29,
    "start_time": "2022-01-25T21:16:01.137Z"
   },
   {
    "duration": 36,
    "start_time": "2022-01-25T21:19:47.776Z"
   },
   {
    "duration": 235,
    "start_time": "2022-01-25T21:22:52.955Z"
   },
   {
    "duration": 234,
    "start_time": "2022-01-25T21:23:18.139Z"
   },
   {
    "duration": 39,
    "start_time": "2022-01-25T21:23:44.273Z"
   },
   {
    "duration": 77,
    "start_time": "2022-01-25T21:24:31.955Z"
   },
   {
    "duration": 5,
    "start_time": "2022-01-25T21:24:39.750Z"
   },
   {
    "duration": 6,
    "start_time": "2022-01-25T21:24:51.693Z"
   },
   {
    "duration": 241,
    "start_time": "2022-01-25T21:27:05.969Z"
   },
   {
    "duration": 279,
    "start_time": "2022-01-25T21:27:56.691Z"
   },
   {
    "duration": 252,
    "start_time": "2022-01-25T21:28:11.509Z"
   },
   {
    "duration": 239,
    "start_time": "2022-01-25T21:28:36.545Z"
   },
   {
    "duration": 245,
    "start_time": "2022-01-25T21:29:23.567Z"
   },
   {
    "duration": 257,
    "start_time": "2022-01-25T21:30:04.781Z"
   },
   {
    "duration": 8,
    "start_time": "2022-01-25T21:32:49.371Z"
   },
   {
    "duration": 3,
    "start_time": "2022-01-25T21:33:12.444Z"
   },
   {
    "duration": 6,
    "start_time": "2022-01-25T21:34:37.580Z"
   },
   {
    "duration": 3,
    "start_time": "2022-01-25T21:35:27.252Z"
   },
   {
    "duration": 9,
    "start_time": "2022-01-25T21:40:32.129Z"
   },
   {
    "duration": 4,
    "start_time": "2022-01-25T21:48:47.567Z"
   },
   {
    "duration": 252,
    "start_time": "2022-01-25T21:49:49.073Z"
   },
   {
    "duration": 12,
    "start_time": "2022-01-25T21:50:08.663Z"
   },
   {
    "duration": 125,
    "start_time": "2022-01-25T21:56:48.673Z"
   },
   {
    "duration": 10,
    "start_time": "2022-01-25T21:57:28.971Z"
   },
   {
    "duration": 8,
    "start_time": "2022-01-25T22:03:27.418Z"
   },
   {
    "duration": 2,
    "start_time": "2022-01-25T22:06:25.072Z"
   },
   {
    "duration": 2,
    "start_time": "2022-01-25T22:06:26.360Z"
   },
   {
    "duration": 2,
    "start_time": "2022-01-25T22:06:51.482Z"
   },
   {
    "duration": 228,
    "start_time": "2022-01-25T22:07:28.626Z"
   },
   {
    "duration": 7,
    "start_time": "2022-01-25T22:07:56.695Z"
   },
   {
    "duration": 7,
    "start_time": "2022-01-25T22:08:13.862Z"
   },
   {
    "duration": 139,
    "start_time": "2022-01-25T22:11:00.501Z"
   },
   {
    "duration": 5,
    "start_time": "2022-01-25T22:11:06.125Z"
   },
   {
    "duration": 375,
    "start_time": "2022-01-25T22:11:45.047Z"
   },
   {
    "duration": 134,
    "start_time": "2022-01-25T22:11:58.163Z"
   },
   {
    "duration": 16,
    "start_time": "2022-01-25T22:14:21.881Z"
   },
   {
    "duration": 2,
    "start_time": "2022-01-25T22:18:17.883Z"
   },
   {
    "duration": 9,
    "start_time": "2022-01-25T22:19:38.279Z"
   },
   {
    "duration": -1623,
    "start_time": "2022-01-25T22:20:35.097Z"
   },
   {
    "duration": 6228,
    "start_time": "2022-01-25T22:20:39.735Z"
   },
   {
    "duration": 9,
    "start_time": "2022-01-25T22:20:47.898Z"
   },
   {
    "duration": 117,
    "start_time": "2022-01-25T22:22:02.161Z"
   },
   {
    "duration": 11,
    "start_time": "2022-01-25T22:22:33.081Z"
   },
   {
    "duration": 251,
    "start_time": "2022-01-25T22:23:03.649Z"
   },
   {
    "duration": 6,
    "start_time": "2022-01-25T22:23:35.682Z"
   },
   {
    "duration": 371,
    "start_time": "2022-01-25T22:25:57.637Z"
   },
   {
    "duration": 7,
    "start_time": "2022-01-25T22:26:54.193Z"
   },
   {
    "duration": 12,
    "start_time": "2022-01-25T22:30:35.539Z"
   },
   {
    "duration": 7,
    "start_time": "2022-01-25T22:31:53.445Z"
   },
   {
    "duration": 10,
    "start_time": "2022-01-25T22:32:10.652Z"
   },
   {
    "duration": 593,
    "start_time": "2022-01-25T22:35:17.578Z"
   },
   {
    "duration": 265,
    "start_time": "2022-01-25T22:36:04.819Z"
   },
   {
    "duration": 233,
    "start_time": "2022-01-25T22:36:26.351Z"
   },
   {
    "duration": 244,
    "start_time": "2022-01-25T22:37:05.167Z"
   },
   {
    "duration": 4,
    "start_time": "2022-01-25T22:37:22.437Z"
   },
   {
    "duration": 4,
    "start_time": "2022-01-25T22:37:25.365Z"
   },
   {
    "duration": -1830,
    "start_time": "2022-01-25T22:37:39.606Z"
   },
   {
    "duration": 6914,
    "start_time": "2022-01-25T22:37:42.158Z"
   },
   {
    "duration": -1599,
    "start_time": "2022-01-25T22:38:09.833Z"
   },
   {
    "duration": 9,
    "start_time": "2022-01-25T22:38:24.116Z"
   },
   {
    "duration": 26,
    "start_time": "2022-01-25T22:38:28.945Z"
   },
   {
    "duration": 236,
    "start_time": "2022-01-25T22:38:51.018Z"
   },
   {
    "duration": 16,
    "start_time": "2022-01-25T22:38:56.620Z"
   },
   {
    "duration": 25,
    "start_time": "2022-01-25T22:39:09.216Z"
   },
   {
    "duration": 18,
    "start_time": "2022-01-25T22:39:31.790Z"
   },
   {
    "duration": 23,
    "start_time": "2022-01-25T22:39:46.478Z"
   },
   {
    "duration": 24,
    "start_time": "2022-01-25T22:39:50.198Z"
   },
   {
    "duration": 26,
    "start_time": "2022-01-25T22:39:55.128Z"
   },
   {
    "duration": 84,
    "start_time": "2022-01-25T22:41:02.581Z"
   },
   {
    "duration": 11,
    "start_time": "2022-01-25T22:43:07.780Z"
   },
   {
    "duration": 2,
    "start_time": "2022-01-25T22:49:43.817Z"
   },
   {
    "duration": 16,
    "start_time": "2022-01-25T22:49:54.135Z"
   },
   {
    "duration": 16,
    "start_time": "2022-01-25T22:50:22.795Z"
   },
   {
    "duration": 17,
    "start_time": "2022-01-25T22:52:58.344Z"
   },
   {
    "duration": 233,
    "start_time": "2022-01-25T22:55:13.250Z"
   },
   {
    "duration": 234,
    "start_time": "2022-01-25T22:55:35.355Z"
   },
   {
    "duration": 246,
    "start_time": "2022-01-25T22:55:52.791Z"
   },
   {
    "duration": 237,
    "start_time": "2022-01-25T22:58:09.175Z"
   },
   {
    "duration": 234,
    "start_time": "2022-01-25T22:58:19.026Z"
   },
   {
    "duration": 243,
    "start_time": "2022-01-25T22:58:36.457Z"
   },
   {
    "duration": 7,
    "start_time": "2022-01-25T22:59:15.066Z"
   },
   {
    "duration": 17,
    "start_time": "2022-01-25T23:02:30.009Z"
   },
   {
    "duration": 13,
    "start_time": "2022-01-25T23:05:21.971Z"
   },
   {
    "duration": 9,
    "start_time": "2022-01-25T23:06:43.086Z"
   },
   {
    "duration": 666,
    "start_time": "2022-01-25T23:09:49.655Z"
   },
   {
    "duration": 23,
    "start_time": "2022-01-25T23:09:56.680Z"
   },
   {
    "duration": 233,
    "start_time": "2022-01-25T23:12:48.584Z"
   },
   {
    "duration": 246,
    "start_time": "2022-01-25T23:13:06.343Z"
   },
   {
    "duration": 24,
    "start_time": "2022-01-25T23:13:38.977Z"
   },
   {
    "duration": 17,
    "start_time": "2022-01-25T23:14:04.843Z"
   },
   {
    "duration": 154,
    "start_time": "2022-01-25T23:33:13.421Z"
   },
   {
    "duration": 251,
    "start_time": "2022-01-25T23:33:57.299Z"
   },
   {
    "duration": 247,
    "start_time": "2022-01-25T23:50:52.779Z"
   },
   {
    "duration": 13,
    "start_time": "2022-01-25T23:51:24.839Z"
   },
   {
    "duration": 6,
    "start_time": "2022-01-25T23:58:32.249Z"
   },
   {
    "duration": 1547,
    "start_time": "2022-01-26T11:24:22.921Z"
   },
   {
    "duration": 5,
    "start_time": "2022-01-26T11:24:24.470Z"
   },
   {
    "duration": 33,
    "start_time": "2022-01-26T11:24:24.478Z"
   },
   {
    "duration": 25,
    "start_time": "2022-01-26T11:24:24.514Z"
   },
   {
    "duration": 59,
    "start_time": "2022-01-26T11:24:24.542Z"
   },
   {
    "duration": 36,
    "start_time": "2022-01-26T11:24:24.604Z"
   },
   {
    "duration": 7,
    "start_time": "2022-01-26T11:24:24.642Z"
   },
   {
    "duration": 53,
    "start_time": "2022-01-26T11:24:24.652Z"
   },
   {
    "duration": 24,
    "start_time": "2022-01-26T11:24:24.707Z"
   },
   {
    "duration": 11,
    "start_time": "2022-01-26T11:24:24.733Z"
   },
   {
    "duration": 19,
    "start_time": "2022-01-26T11:24:24.746Z"
   },
   {
    "duration": 35,
    "start_time": "2022-01-26T11:24:24.767Z"
   },
   {
    "duration": 34,
    "start_time": "2022-01-26T11:24:24.804Z"
   },
   {
    "duration": 34,
    "start_time": "2022-01-26T11:24:24.840Z"
   },
   {
    "duration": 9,
    "start_time": "2022-01-26T11:24:24.896Z"
   },
   {
    "duration": 16,
    "start_time": "2022-01-26T11:24:24.907Z"
   },
   {
    "duration": 26,
    "start_time": "2022-01-26T11:24:24.925Z"
   },
   {
    "duration": 26,
    "start_time": "2022-01-26T11:24:24.952Z"
   },
   {
    "duration": 16,
    "start_time": "2022-01-26T11:24:24.980Z"
   },
   {
    "duration": 28,
    "start_time": "2022-01-26T11:24:24.998Z"
   },
   {
    "duration": 16,
    "start_time": "2022-01-26T11:24:25.028Z"
   },
   {
    "duration": 13,
    "start_time": "2022-01-26T11:24:25.046Z"
   },
   {
    "duration": 231,
    "start_time": "2022-01-26T11:24:25.063Z"
   },
   {
    "duration": 3,
    "start_time": "2022-01-26T11:24:25.297Z"
   },
   {
    "duration": 17,
    "start_time": "2022-01-26T11:24:25.301Z"
   },
   {
    "duration": 31,
    "start_time": "2022-01-26T11:24:25.320Z"
   },
   {
    "duration": 5,
    "start_time": "2022-01-26T11:24:25.353Z"
   },
   {
    "duration": 10,
    "start_time": "2022-01-26T11:24:25.360Z"
   },
   {
    "duration": 4,
    "start_time": "2022-01-26T11:24:25.372Z"
   },
   {
    "duration": 27,
    "start_time": "2022-01-26T11:24:25.377Z"
   },
   {
    "duration": 5,
    "start_time": "2022-01-26T11:24:25.406Z"
   },
   {
    "duration": 6,
    "start_time": "2022-01-26T11:24:25.413Z"
   },
   {
    "duration": 8,
    "start_time": "2022-01-26T11:24:25.421Z"
   },
   {
    "duration": 5,
    "start_time": "2022-01-26T11:24:25.431Z"
   },
   {
    "duration": 10,
    "start_time": "2022-01-26T11:24:25.438Z"
   },
   {
    "duration": 5,
    "start_time": "2022-01-26T11:24:25.450Z"
   },
   {
    "duration": 51,
    "start_time": "2022-01-26T11:24:25.456Z"
   },
   {
    "duration": 10,
    "start_time": "2022-01-26T11:24:25.509Z"
   },
   {
    "duration": 11,
    "start_time": "2022-01-26T11:24:25.521Z"
   },
   {
    "duration": 8,
    "start_time": "2022-01-26T11:24:25.534Z"
   },
   {
    "duration": 20,
    "start_time": "2022-01-26T11:24:25.545Z"
   },
   {
    "duration": 39,
    "start_time": "2022-01-26T11:24:25.568Z"
   },
   {
    "duration": 21,
    "start_time": "2022-01-26T11:24:25.610Z"
   },
   {
    "duration": 14,
    "start_time": "2022-01-26T11:24:25.633Z"
   },
   {
    "duration": 4,
    "start_time": "2022-01-26T11:24:25.649Z"
   },
   {
    "duration": 15,
    "start_time": "2022-01-26T11:24:25.654Z"
   },
   {
    "duration": 10,
    "start_time": "2022-01-26T11:24:25.698Z"
   },
   {
    "duration": 14,
    "start_time": "2022-01-26T11:24:25.709Z"
   },
   {
    "duration": 342,
    "start_time": "2022-01-26T11:24:25.725Z"
   },
   {
    "duration": -134,
    "start_time": "2022-01-26T11:24:26.204Z"
   },
   {
    "duration": -393,
    "start_time": "2022-01-26T11:24:26.464Z"
   },
   {
    "duration": -447,
    "start_time": "2022-01-26T11:24:26.519Z"
   },
   {
    "duration": -449,
    "start_time": "2022-01-26T11:24:26.522Z"
   },
   {
    "duration": -453,
    "start_time": "2022-01-26T11:24:26.527Z"
   },
   {
    "duration": -455,
    "start_time": "2022-01-26T11:24:26.530Z"
   },
   {
    "duration": -459,
    "start_time": "2022-01-26T11:24:26.535Z"
   },
   {
    "duration": -464,
    "start_time": "2022-01-26T11:24:26.541Z"
   },
   {
    "duration": -467,
    "start_time": "2022-01-26T11:24:26.545Z"
   },
   {
    "duration": -475,
    "start_time": "2022-01-26T11:24:26.555Z"
   },
   {
    "duration": -479,
    "start_time": "2022-01-26T11:24:26.560Z"
   },
   {
    "duration": -481,
    "start_time": "2022-01-26T11:24:26.563Z"
   },
   {
    "duration": -484,
    "start_time": "2022-01-26T11:24:26.568Z"
   },
   {
    "duration": -488,
    "start_time": "2022-01-26T11:24:26.573Z"
   },
   {
    "duration": -490,
    "start_time": "2022-01-26T11:24:26.577Z"
   },
   {
    "duration": -493,
    "start_time": "2022-01-26T11:24:26.581Z"
   },
   {
    "duration": -497,
    "start_time": "2022-01-26T11:24:26.586Z"
   },
   {
    "duration": -499,
    "start_time": "2022-01-26T11:24:26.590Z"
   },
   {
    "duration": -531,
    "start_time": "2022-01-26T11:24:26.623Z"
   },
   {
    "duration": -534,
    "start_time": "2022-01-26T11:24:26.627Z"
   },
   {
    "duration": -537,
    "start_time": "2022-01-26T11:24:26.632Z"
   },
   {
    "duration": -540,
    "start_time": "2022-01-26T11:24:26.636Z"
   },
   {
    "duration": -542,
    "start_time": "2022-01-26T11:24:26.641Z"
   },
   {
    "duration": -544,
    "start_time": "2022-01-26T11:24:26.644Z"
   },
   {
    "duration": -548,
    "start_time": "2022-01-26T11:24:26.649Z"
   },
   {
    "duration": -553,
    "start_time": "2022-01-26T11:24:26.655Z"
   },
   {
    "duration": -557,
    "start_time": "2022-01-26T11:24:26.660Z"
   },
   {
    "duration": -558,
    "start_time": "2022-01-26T11:24:26.664Z"
   },
   {
    "duration": -561,
    "start_time": "2022-01-26T11:24:26.668Z"
   },
   {
    "duration": -564,
    "start_time": "2022-01-26T11:24:26.672Z"
   },
   {
    "duration": -567,
    "start_time": "2022-01-26T11:24:26.676Z"
   },
   {
    "duration": -570,
    "start_time": "2022-01-26T11:24:26.680Z"
   },
   {
    "duration": -573,
    "start_time": "2022-01-26T11:24:26.684Z"
   },
   {
    "duration": -576,
    "start_time": "2022-01-26T11:24:26.688Z"
   },
   {
    "duration": -578,
    "start_time": "2022-01-26T11:24:26.692Z"
   },
   {
    "duration": -581,
    "start_time": "2022-01-26T11:24:26.696Z"
   },
   {
    "duration": -584,
    "start_time": "2022-01-26T11:24:26.701Z"
   },
   {
    "duration": -587,
    "start_time": "2022-01-26T11:24:26.705Z"
   },
   {
    "duration": 3,
    "start_time": "2022-01-26T11:25:09.925Z"
   },
   {
    "duration": 4,
    "start_time": "2022-01-26T11:25:11.681Z"
   },
   {
    "duration": 6187,
    "start_time": "2022-01-26T11:25:12.817Z"
   },
   {
    "duration": 9,
    "start_time": "2022-01-26T11:25:22.014Z"
   },
   {
    "duration": 8,
    "start_time": "2022-01-26T11:25:26.717Z"
   },
   {
    "duration": 17,
    "start_time": "2022-01-26T11:25:28.918Z"
   },
   {
    "duration": 26,
    "start_time": "2022-01-26T11:25:30.833Z"
   },
   {
    "duration": 27,
    "start_time": "2022-01-26T11:25:35.914Z"
   },
   {
    "duration": 15,
    "start_time": "2022-01-26T11:28:04.458Z"
   },
   {
    "duration": 25,
    "start_time": "2022-01-26T11:28:06.201Z"
   },
   {
    "duration": 23,
    "start_time": "2022-01-26T11:28:07.758Z"
   },
   {
    "duration": 24,
    "start_time": "2022-01-26T11:28:09.242Z"
   },
   {
    "duration": 4,
    "start_time": "2022-01-26T11:28:10.782Z"
   },
   {
    "duration": 494,
    "start_time": "2022-01-26T11:28:13.611Z"
   },
   {
    "duration": 3,
    "start_time": "2022-01-26T11:30:18.814Z"
   },
   {
    "duration": 4,
    "start_time": "2022-01-26T11:30:21.082Z"
   },
   {
    "duration": 3,
    "start_time": "2022-01-26T11:30:47.531Z"
   },
   {
    "duration": 11,
    "start_time": "2022-01-26T11:30:49.021Z"
   },
   {
    "duration": 118,
    "start_time": "2022-01-26T11:30:50.734Z"
   },
   {
    "duration": 11,
    "start_time": "2022-01-26T11:30:52.074Z"
   },
   {
    "duration": 33,
    "start_time": "2022-01-26T11:31:49.813Z"
   },
   {
    "duration": 6,
    "start_time": "2022-01-26T11:31:51.365Z"
   },
   {
    "duration": 8,
    "start_time": "2022-01-26T11:31:53.026Z"
   },
   {
    "duration": 142,
    "start_time": "2022-01-26T11:31:59.978Z"
   },
   {
    "duration": 5,
    "start_time": "2022-01-26T11:32:02.798Z"
   },
   {
    "duration": 133,
    "start_time": "2022-01-26T11:32:05.726Z"
   },
   {
    "duration": 11,
    "start_time": "2022-01-26T11:32:08.842Z"
   },
   {
    "duration": 4,
    "start_time": "2022-01-26T11:32:11.762Z"
   },
   {
    "duration": 12,
    "start_time": "2022-01-26T11:32:12.698Z"
   },
   {
    "duration": 46,
    "start_time": "2022-01-26T11:32:13.818Z"
   },
   {
    "duration": 11,
    "start_time": "2022-01-26T11:32:16.978Z"
   },
   {
    "duration": 5,
    "start_time": "2022-01-26T11:33:17.586Z"
   },
   {
    "duration": 7,
    "start_time": "2022-01-26T11:33:18.945Z"
   },
   {
    "duration": 378,
    "start_time": "2022-01-26T11:33:22.054Z"
   },
   {
    "duration": 7,
    "start_time": "2022-01-26T11:33:23.426Z"
   },
   {
    "duration": 19,
    "start_time": "2022-01-26T11:33:24.361Z"
   },
   {
    "duration": 8,
    "start_time": "2022-01-26T11:33:46.417Z"
   },
   {
    "duration": 15,
    "start_time": "2022-01-26T11:33:50.674Z"
   },
   {
    "duration": 13,
    "start_time": "2022-01-26T11:33:53.598Z"
   },
   {
    "duration": 18,
    "start_time": "2022-01-26T11:33:56.241Z"
   },
   {
    "duration": 1353,
    "start_time": "2022-01-26T11:37:41.739Z"
   },
   {
    "duration": 4,
    "start_time": "2022-01-26T11:37:43.094Z"
   },
   {
    "duration": 20,
    "start_time": "2022-01-26T11:37:43.100Z"
   },
   {
    "duration": 20,
    "start_time": "2022-01-26T11:37:43.122Z"
   },
   {
    "duration": 40,
    "start_time": "2022-01-26T11:37:43.144Z"
   },
   {
    "duration": 39,
    "start_time": "2022-01-26T11:37:43.186Z"
   },
   {
    "duration": 23,
    "start_time": "2022-01-26T11:37:43.227Z"
   },
   {
    "duration": 32,
    "start_time": "2022-01-26T11:37:43.253Z"
   },
   {
    "duration": 25,
    "start_time": "2022-01-26T11:37:43.287Z"
   },
   {
    "duration": 10,
    "start_time": "2022-01-26T11:37:43.314Z"
   },
   {
    "duration": 14,
    "start_time": "2022-01-26T11:37:43.326Z"
   },
   {
    "duration": 16,
    "start_time": "2022-01-26T11:37:43.342Z"
   },
   {
    "duration": 57,
    "start_time": "2022-01-26T11:37:43.360Z"
   },
   {
    "duration": 33,
    "start_time": "2022-01-26T11:37:43.419Z"
   },
   {
    "duration": 9,
    "start_time": "2022-01-26T11:37:43.454Z"
   },
   {
    "duration": 28,
    "start_time": "2022-01-26T11:37:43.465Z"
   },
   {
    "duration": 26,
    "start_time": "2022-01-26T11:37:43.497Z"
   },
   {
    "duration": 30,
    "start_time": "2022-01-26T11:37:43.525Z"
   },
   {
    "duration": 21,
    "start_time": "2022-01-26T11:37:43.556Z"
   },
   {
    "duration": 30,
    "start_time": "2022-01-26T11:37:43.579Z"
   },
   {
    "duration": 8,
    "start_time": "2022-01-26T11:37:43.611Z"
   },
   {
    "duration": 10,
    "start_time": "2022-01-26T11:37:43.621Z"
   },
   {
    "duration": 225,
    "start_time": "2022-01-26T11:37:43.635Z"
   },
   {
    "duration": 2,
    "start_time": "2022-01-26T11:37:43.863Z"
   },
   {
    "duration": 8,
    "start_time": "2022-01-26T11:37:43.867Z"
   },
   {
    "duration": 42,
    "start_time": "2022-01-26T11:37:43.877Z"
   },
   {
    "duration": 6,
    "start_time": "2022-01-26T11:37:43.920Z"
   },
   {
    "duration": 23,
    "start_time": "2022-01-26T11:37:43.928Z"
   },
   {
    "duration": 13,
    "start_time": "2022-01-26T11:37:43.953Z"
   },
   {
    "duration": 19,
    "start_time": "2022-01-26T11:37:43.968Z"
   },
   {
    "duration": 12,
    "start_time": "2022-01-26T11:37:43.989Z"
   },
   {
    "duration": 8,
    "start_time": "2022-01-26T11:37:44.003Z"
   },
   {
    "duration": 36,
    "start_time": "2022-01-26T11:37:44.013Z"
   },
   {
    "duration": 37,
    "start_time": "2022-01-26T11:37:44.051Z"
   },
   {
    "duration": 11,
    "start_time": "2022-01-26T11:37:44.091Z"
   },
   {
    "duration": 20,
    "start_time": "2022-01-26T11:37:44.104Z"
   },
   {
    "duration": 19,
    "start_time": "2022-01-26T11:37:44.126Z"
   },
   {
    "duration": 20,
    "start_time": "2022-01-26T11:37:44.147Z"
   },
   {
    "duration": 21,
    "start_time": "2022-01-26T11:37:44.169Z"
   },
   {
    "duration": 19,
    "start_time": "2022-01-26T11:37:44.191Z"
   },
   {
    "duration": 16,
    "start_time": "2022-01-26T11:37:44.211Z"
   },
   {
    "duration": 26,
    "start_time": "2022-01-26T11:37:44.229Z"
   },
   {
    "duration": 31,
    "start_time": "2022-01-26T11:37:44.257Z"
   },
   {
    "duration": 21,
    "start_time": "2022-01-26T11:37:44.290Z"
   },
   {
    "duration": 4,
    "start_time": "2022-01-26T11:37:44.312Z"
   },
   {
    "duration": 29,
    "start_time": "2022-01-26T11:37:44.318Z"
   },
   {
    "duration": 16,
    "start_time": "2022-01-26T11:37:44.349Z"
   },
   {
    "duration": 15,
    "start_time": "2022-01-26T11:37:44.367Z"
   },
   {
    "duration": 344,
    "start_time": "2022-01-26T11:37:44.384Z"
   },
   {
    "duration": -221,
    "start_time": "2022-01-26T11:37:44.952Z"
   },
   {
    "duration": -226,
    "start_time": "2022-01-26T11:37:44.958Z"
   },
   {
    "duration": -229,
    "start_time": "2022-01-26T11:37:44.962Z"
   },
   {
    "duration": -233,
    "start_time": "2022-01-26T11:37:44.967Z"
   },
   {
    "duration": -252,
    "start_time": "2022-01-26T11:37:44.987Z"
   },
   {
    "duration": -257,
    "start_time": "2022-01-26T11:37:44.993Z"
   },
   {
    "duration": -261,
    "start_time": "2022-01-26T11:37:44.998Z"
   },
   {
    "duration": -265,
    "start_time": "2022-01-26T11:37:45.003Z"
   },
   {
    "duration": -278,
    "start_time": "2022-01-26T11:37:45.017Z"
   },
   {
    "duration": -281,
    "start_time": "2022-01-26T11:37:45.021Z"
   },
   {
    "duration": -287,
    "start_time": "2022-01-26T11:37:45.028Z"
   },
   {
    "duration": -295,
    "start_time": "2022-01-26T11:37:45.037Z"
   },
   {
    "duration": -307,
    "start_time": "2022-01-26T11:37:45.050Z"
   },
   {
    "duration": -310,
    "start_time": "2022-01-26T11:37:45.054Z"
   },
   {
    "duration": -316,
    "start_time": "2022-01-26T11:37:45.061Z"
   },
   {
    "duration": -319,
    "start_time": "2022-01-26T11:37:45.065Z"
   },
   {
    "duration": -330,
    "start_time": "2022-01-26T11:37:45.077Z"
   },
   {
    "duration": -333,
    "start_time": "2022-01-26T11:37:45.081Z"
   },
   {
    "duration": -338,
    "start_time": "2022-01-26T11:37:45.087Z"
   },
   {
    "duration": -343,
    "start_time": "2022-01-26T11:37:45.093Z"
   },
   {
    "duration": -347,
    "start_time": "2022-01-26T11:37:45.098Z"
   },
   {
    "duration": -358,
    "start_time": "2022-01-26T11:37:45.110Z"
   },
   {
    "duration": -362,
    "start_time": "2022-01-26T11:37:45.115Z"
   },
   {
    "duration": -366,
    "start_time": "2022-01-26T11:37:45.120Z"
   },
   {
    "duration": -372,
    "start_time": "2022-01-26T11:37:45.127Z"
   },
   {
    "duration": -376,
    "start_time": "2022-01-26T11:37:45.132Z"
   },
   {
    "duration": -388,
    "start_time": "2022-01-26T11:37:45.145Z"
   },
   {
    "duration": -390,
    "start_time": "2022-01-26T11:37:45.148Z"
   },
   {
    "duration": -394,
    "start_time": "2022-01-26T11:37:45.153Z"
   },
   {
    "duration": -398,
    "start_time": "2022-01-26T11:37:45.158Z"
   },
   {
    "duration": -404,
    "start_time": "2022-01-26T11:37:45.165Z"
   },
   {
    "duration": -409,
    "start_time": "2022-01-26T11:37:45.171Z"
   },
   {
    "duration": -416,
    "start_time": "2022-01-26T11:37:45.179Z"
   },
   {
    "duration": -387,
    "start_time": "2022-01-26T11:37:45.184Z"
   },
   {
    "duration": -391,
    "start_time": "2022-01-26T11:37:45.189Z"
   },
   {
    "duration": -394,
    "start_time": "2022-01-26T11:37:45.193Z"
   },
   {
    "duration": -398,
    "start_time": "2022-01-26T11:37:45.198Z"
   },
   {
    "duration": -401,
    "start_time": "2022-01-26T11:37:45.202Z"
   },
   {
    "duration": 4,
    "start_time": "2022-01-26T11:40:57.259Z"
   },
   {
    "duration": 4,
    "start_time": "2022-01-26T11:40:58.378Z"
   },
   {
    "duration": 9,
    "start_time": "2022-01-26T11:40:59.339Z"
   },
   {
    "duration": 9,
    "start_time": "2022-01-26T11:41:00.191Z"
   },
   {
    "duration": 15,
    "start_time": "2022-01-26T11:41:00.895Z"
   },
   {
    "duration": 25,
    "start_time": "2022-01-26T11:41:02.819Z"
   },
   {
    "duration": 17,
    "start_time": "2022-01-26T11:41:04.643Z"
   },
   {
    "duration": 23,
    "start_time": "2022-01-26T11:41:06.012Z"
   },
   {
    "duration": 23,
    "start_time": "2022-01-26T11:41:06.783Z"
   },
   {
    "duration": 25,
    "start_time": "2022-01-26T11:41:08.091Z"
   },
   {
    "duration": 3,
    "start_time": "2022-01-26T11:41:11.228Z"
   },
   {
    "duration": 588,
    "start_time": "2022-01-26T11:41:12.300Z"
   },
   {
    "duration": 3,
    "start_time": "2022-01-26T11:41:16.007Z"
   },
   {
    "duration": 9,
    "start_time": "2022-01-26T11:41:17.815Z"
   },
   {
    "duration": 123,
    "start_time": "2022-01-26T11:41:19.691Z"
   },
   {
    "duration": 11,
    "start_time": "2022-01-26T11:41:21.311Z"
   },
   {
    "duration": 5,
    "start_time": "2022-01-26T11:41:23.531Z"
   },
   {
    "duration": 33,
    "start_time": "2022-01-26T11:41:25.080Z"
   },
   {
    "duration": 8,
    "start_time": "2022-01-26T11:41:27.191Z"
   },
   {
    "duration": 128,
    "start_time": "2022-01-26T11:41:29.219Z"
   },
   {
    "duration": 5,
    "start_time": "2022-01-26T11:41:30.199Z"
   },
   {
    "duration": 132,
    "start_time": "2022-01-26T11:41:31.120Z"
   },
   {
    "duration": 13,
    "start_time": "2022-01-26T11:41:32.063Z"
   },
   {
    "duration": 4,
    "start_time": "2022-01-26T11:41:33.551Z"
   },
   {
    "duration": 11,
    "start_time": "2022-01-26T11:41:34.341Z"
   },
   {
    "duration": 45,
    "start_time": "2022-01-26T11:41:35.592Z"
   },
   {
    "duration": 11,
    "start_time": "2022-01-26T11:41:36.611Z"
   },
   {
    "duration": 6,
    "start_time": "2022-01-26T11:41:39.059Z"
   },
   {
    "duration": 6,
    "start_time": "2022-01-26T11:41:40.755Z"
   },
   {
    "duration": 337,
    "start_time": "2022-01-26T11:41:42.452Z"
   },
   {
    "duration": 7,
    "start_time": "2022-01-26T11:41:43.953Z"
   },
   {
    "duration": 17,
    "start_time": "2022-01-26T11:41:44.815Z"
   },
   {
    "duration": 7,
    "start_time": "2022-01-26T11:41:47.831Z"
   },
   {
    "duration": 16,
    "start_time": "2022-01-26T11:41:49.804Z"
   },
   {
    "duration": 12,
    "start_time": "2022-01-26T11:41:51.499Z"
   },
   {
    "duration": 16,
    "start_time": "2022-01-26T11:41:53.292Z"
   },
   {
    "duration": 418,
    "start_time": "2022-01-26T23:10:53.003Z"
   },
   {
    "duration": 1873,
    "start_time": "2022-01-26T23:10:59.819Z"
   },
   {
    "duration": 4,
    "start_time": "2022-01-26T23:11:01.694Z"
   },
   {
    "duration": 22,
    "start_time": "2022-01-26T23:11:01.701Z"
   },
   {
    "duration": 33,
    "start_time": "2022-01-26T23:11:01.726Z"
   },
   {
    "duration": 46,
    "start_time": "2022-01-26T23:11:01.761Z"
   },
   {
    "duration": 69,
    "start_time": "2022-01-26T23:11:01.809Z"
   },
   {
    "duration": 11,
    "start_time": "2022-01-26T23:11:01.880Z"
   },
   {
    "duration": 34,
    "start_time": "2022-01-26T23:11:01.895Z"
   },
   {
    "duration": 34,
    "start_time": "2022-01-26T23:11:01.961Z"
   },
   {
    "duration": 12,
    "start_time": "2022-01-26T23:11:01.997Z"
   },
   {
    "duration": 13,
    "start_time": "2022-01-26T23:11:02.011Z"
   },
   {
    "duration": 14,
    "start_time": "2022-01-26T23:11:02.058Z"
   },
   {
    "duration": 49,
    "start_time": "2022-01-26T23:11:02.074Z"
   },
   {
    "duration": 70,
    "start_time": "2022-01-26T23:11:02.125Z"
   },
   {
    "duration": 6,
    "start_time": "2022-01-26T23:11:02.197Z"
   },
   {
    "duration": 13,
    "start_time": "2022-01-26T23:11:02.206Z"
   },
   {
    "duration": 37,
    "start_time": "2022-01-26T23:11:02.222Z"
   },
   {
    "duration": 10,
    "start_time": "2022-01-26T23:11:02.261Z"
   },
   {
    "duration": 9,
    "start_time": "2022-01-26T23:11:02.273Z"
   },
   {
    "duration": 15,
    "start_time": "2022-01-26T23:11:02.284Z"
   },
   {
    "duration": 4,
    "start_time": "2022-01-26T23:11:02.301Z"
   },
   {
    "duration": 10,
    "start_time": "2022-01-26T23:11:02.307Z"
   },
   {
    "duration": 331,
    "start_time": "2022-01-26T23:11:02.359Z"
   },
   {
    "duration": 8,
    "start_time": "2022-01-26T23:11:02.695Z"
   },
   {
    "duration": 6,
    "start_time": "2022-01-26T23:11:02.706Z"
   },
   {
    "duration": 67,
    "start_time": "2022-01-26T23:11:02.715Z"
   },
   {
    "duration": 7,
    "start_time": "2022-01-26T23:11:02.785Z"
   },
   {
    "duration": 9,
    "start_time": "2022-01-26T23:11:02.795Z"
   },
   {
    "duration": 3,
    "start_time": "2022-01-26T23:11:02.807Z"
   },
   {
    "duration": 11,
    "start_time": "2022-01-26T23:11:02.812Z"
   },
   {
    "duration": 8,
    "start_time": "2022-01-26T23:11:02.860Z"
   },
   {
    "duration": 8,
    "start_time": "2022-01-26T23:11:02.871Z"
   },
   {
    "duration": 7,
    "start_time": "2022-01-26T23:11:02.882Z"
   },
   {
    "duration": 6,
    "start_time": "2022-01-26T23:11:02.892Z"
   },
   {
    "duration": 10,
    "start_time": "2022-01-26T23:11:02.901Z"
   },
   {
    "duration": 3,
    "start_time": "2022-01-26T23:11:02.960Z"
   },
   {
    "duration": 11,
    "start_time": "2022-01-26T23:11:02.966Z"
   },
   {
    "duration": 10,
    "start_time": "2022-01-26T23:11:02.979Z"
   },
   {
    "duration": 12,
    "start_time": "2022-01-26T23:11:02.991Z"
   },
   {
    "duration": 10,
    "start_time": "2022-01-26T23:11:03.006Z"
   },
   {
    "duration": 51,
    "start_time": "2022-01-26T23:11:03.018Z"
   },
   {
    "duration": 23,
    "start_time": "2022-01-26T23:11:03.072Z"
   },
   {
    "duration": 61,
    "start_time": "2022-01-26T23:11:03.098Z"
   },
   {
    "duration": 22,
    "start_time": "2022-01-26T23:11:03.162Z"
   },
   {
    "duration": 6,
    "start_time": "2022-01-26T23:11:03.187Z"
   },
   {
    "duration": 20,
    "start_time": "2022-01-26T23:11:03.196Z"
   },
   {
    "duration": 52,
    "start_time": "2022-01-26T23:11:03.219Z"
   },
   {
    "duration": 20,
    "start_time": "2022-01-26T23:11:03.274Z"
   },
   {
    "duration": 482,
    "start_time": "2022-01-26T23:11:03.297Z"
   },
   {
    "duration": -2907,
    "start_time": "2022-01-26T23:11:06.690Z"
   },
   {
    "duration": -2910,
    "start_time": "2022-01-26T23:11:06.694Z"
   },
   {
    "duration": -2928,
    "start_time": "2022-01-26T23:11:06.713Z"
   },
   {
    "duration": -2929,
    "start_time": "2022-01-26T23:11:06.716Z"
   },
   {
    "duration": -2931,
    "start_time": "2022-01-26T23:11:06.719Z"
   },
   {
    "duration": -2933,
    "start_time": "2022-01-26T23:11:06.722Z"
   },
   {
    "duration": -2934,
    "start_time": "2022-01-26T23:11:06.725Z"
   },
   {
    "duration": -2936,
    "start_time": "2022-01-26T23:11:06.728Z"
   },
   {
    "duration": -2938,
    "start_time": "2022-01-26T23:11:06.732Z"
   },
   {
    "duration": -2939,
    "start_time": "2022-01-26T23:11:06.734Z"
   },
   {
    "duration": -2942,
    "start_time": "2022-01-26T23:11:06.738Z"
   },
   {
    "duration": -2943,
    "start_time": "2022-01-26T23:11:06.741Z"
   },
   {
    "duration": -2946,
    "start_time": "2022-01-26T23:11:06.745Z"
   },
   {
    "duration": -2948,
    "start_time": "2022-01-26T23:11:06.748Z"
   },
   {
    "duration": -2949,
    "start_time": "2022-01-26T23:11:06.751Z"
   },
   {
    "duration": -2951,
    "start_time": "2022-01-26T23:11:06.754Z"
   },
   {
    "duration": -2953,
    "start_time": "2022-01-26T23:11:06.758Z"
   },
   {
    "duration": -2956,
    "start_time": "2022-01-26T23:11:06.762Z"
   },
   {
    "duration": -2959,
    "start_time": "2022-01-26T23:11:06.766Z"
   },
   {
    "duration": -2962,
    "start_time": "2022-01-26T23:11:06.770Z"
   },
   {
    "duration": -2963,
    "start_time": "2022-01-26T23:11:06.773Z"
   },
   {
    "duration": -2980,
    "start_time": "2022-01-26T23:11:06.791Z"
   },
   {
    "duration": -2985,
    "start_time": "2022-01-26T23:11:06.797Z"
   },
   {
    "duration": -2986,
    "start_time": "2022-01-26T23:11:06.800Z"
   },
   {
    "duration": -2989,
    "start_time": "2022-01-26T23:11:06.804Z"
   },
   {
    "duration": -2990,
    "start_time": "2022-01-26T23:11:06.806Z"
   },
   {
    "duration": -2992,
    "start_time": "2022-01-26T23:11:06.810Z"
   },
   {
    "duration": -2954,
    "start_time": "2022-01-26T23:11:06.813Z"
   },
   {
    "duration": -2956,
    "start_time": "2022-01-26T23:11:06.816Z"
   },
   {
    "duration": -2958,
    "start_time": "2022-01-26T23:11:06.819Z"
   },
   {
    "duration": -2959,
    "start_time": "2022-01-26T23:11:06.822Z"
   },
   {
    "duration": -2963,
    "start_time": "2022-01-26T23:11:06.828Z"
   },
   {
    "duration": -2965,
    "start_time": "2022-01-26T23:11:06.831Z"
   },
   {
    "duration": -2967,
    "start_time": "2022-01-26T23:11:06.834Z"
   },
   {
    "duration": -2968,
    "start_time": "2022-01-26T23:11:06.837Z"
   },
   {
    "duration": -2970,
    "start_time": "2022-01-26T23:11:06.840Z"
   },
   {
    "duration": -2973,
    "start_time": "2022-01-26T23:11:06.844Z"
   },
   {
    "duration": -2974,
    "start_time": "2022-01-26T23:11:06.847Z"
   },
   {
    "duration": 9,
    "start_time": "2022-01-26T23:11:53.552Z"
   },
   {
    "duration": 8,
    "start_time": "2022-01-26T23:12:06.217Z"
   },
   {
    "duration": 6,
    "start_time": "2022-01-26T23:12:50.704Z"
   },
   {
    "duration": 7,
    "start_time": "2022-01-26T23:12:55.566Z"
   },
   {
    "duration": 16,
    "start_time": "2022-01-26T23:13:31.552Z"
   },
   {
    "duration": 18,
    "start_time": "2022-01-26T23:13:39.507Z"
   },
   {
    "duration": 7,
    "start_time": "2022-01-26T23:13:42.001Z"
   },
   {
    "duration": 10,
    "start_time": "2022-01-26T23:14:02.099Z"
   },
   {
    "duration": 356,
    "start_time": "2022-01-26T23:17:12.123Z"
   },
   {
    "duration": 9,
    "start_time": "2022-01-26T23:17:32.532Z"
   },
   {
    "duration": 35,
    "start_time": "2022-01-26T23:17:47.516Z"
   },
   {
    "duration": 34,
    "start_time": "2022-01-26T23:18:10.553Z"
   },
   {
    "duration": 8,
    "start_time": "2022-01-26T23:18:12.812Z"
   },
   {
    "duration": 361,
    "start_time": "2022-01-26T23:21:06.658Z"
   },
   {
    "duration": 10,
    "start_time": "2022-01-26T23:21:25.232Z"
   },
   {
    "duration": 6,
    "start_time": "2022-01-26T23:21:32.139Z"
   },
   {
    "duration": 8,
    "start_time": "2022-01-26T23:22:33.655Z"
   },
   {
    "duration": 14,
    "start_time": "2022-01-26T23:22:44.911Z"
   },
   {
    "duration": 186,
    "start_time": "2022-01-26T23:24:20.295Z"
   },
   {
    "duration": 5,
    "start_time": "2022-01-26T23:24:20.484Z"
   },
   {
    "duration": 21,
    "start_time": "2022-01-26T23:24:20.492Z"
   },
   {
    "duration": 51,
    "start_time": "2022-01-26T23:24:20.516Z"
   },
   {
    "duration": 44,
    "start_time": "2022-01-26T23:24:20.569Z"
   },
   {
    "duration": 76,
    "start_time": "2022-01-26T23:24:20.615Z"
   },
   {
    "duration": 10,
    "start_time": "2022-01-26T23:24:20.694Z"
   },
   {
    "duration": 57,
    "start_time": "2022-01-26T23:24:20.707Z"
   },
   {
    "duration": 34,
    "start_time": "2022-01-26T23:24:20.767Z"
   },
   {
    "duration": 12,
    "start_time": "2022-01-26T23:24:20.804Z"
   },
   {
    "duration": 43,
    "start_time": "2022-01-26T23:24:20.818Z"
   },
   {
    "duration": 14,
    "start_time": "2022-01-26T23:24:20.863Z"
   },
   {
    "duration": 46,
    "start_time": "2022-01-26T23:24:20.879Z"
   },
   {
    "duration": 82,
    "start_time": "2022-01-26T23:24:20.927Z"
   },
   {
    "duration": 7,
    "start_time": "2022-01-26T23:24:21.012Z"
   },
   {
    "duration": 41,
    "start_time": "2022-01-26T23:24:21.021Z"
   },
   {
    "duration": 8,
    "start_time": "2022-01-26T23:24:21.064Z"
   },
   {
    "duration": 12,
    "start_time": "2022-01-26T23:24:21.075Z"
   },
   {
    "duration": 9,
    "start_time": "2022-01-26T23:24:21.090Z"
   },
   {
    "duration": 66,
    "start_time": "2022-01-26T23:24:21.102Z"
   },
   {
    "duration": 5,
    "start_time": "2022-01-26T23:24:21.171Z"
   },
   {
    "duration": 9,
    "start_time": "2022-01-26T23:24:21.179Z"
   },
   {
    "duration": 347,
    "start_time": "2022-01-26T23:24:21.194Z"
   },
   {
    "duration": 14,
    "start_time": "2022-01-26T23:24:21.545Z"
   },
   {
    "duration": 6,
    "start_time": "2022-01-26T23:24:21.561Z"
   },
   {
    "duration": 7,
    "start_time": "2022-01-26T23:24:21.569Z"
   },
   {
    "duration": 41,
    "start_time": "2022-01-26T23:24:21.578Z"
   },
   {
    "duration": 40,
    "start_time": "2022-01-26T23:24:21.622Z"
   },
   {
    "duration": 10,
    "start_time": "2022-01-26T23:24:21.664Z"
   },
   {
    "duration": 4,
    "start_time": "2022-01-26T23:24:21.676Z"
   },
   {
    "duration": 12,
    "start_time": "2022-01-26T23:24:21.682Z"
   },
   {
    "duration": 8,
    "start_time": "2022-01-26T23:24:21.697Z"
   },
   {
    "duration": 57,
    "start_time": "2022-01-26T23:24:21.707Z"
   },
   {
    "duration": 7,
    "start_time": "2022-01-26T23:24:21.767Z"
   },
   {
    "duration": 8,
    "start_time": "2022-01-26T23:24:21.776Z"
   },
   {
    "duration": 13,
    "start_time": "2022-01-26T23:24:21.787Z"
   },
   {
    "duration": 4,
    "start_time": "2022-01-26T23:24:21.803Z"
   },
   {
    "duration": 54,
    "start_time": "2022-01-26T23:24:21.809Z"
   },
   {
    "duration": 10,
    "start_time": "2022-01-26T23:24:21.865Z"
   },
   {
    "duration": 10,
    "start_time": "2022-01-26T23:24:21.878Z"
   },
   {
    "duration": 9,
    "start_time": "2022-01-26T23:24:21.891Z"
   },
   {
    "duration": 9,
    "start_time": "2022-01-26T23:24:21.903Z"
   },
   {
    "duration": 59,
    "start_time": "2022-01-26T23:24:21.915Z"
   },
   {
    "duration": 25,
    "start_time": "2022-01-26T23:24:21.976Z"
   },
   {
    "duration": 19,
    "start_time": "2022-01-26T23:24:22.004Z"
   },
   {
    "duration": 36,
    "start_time": "2022-01-26T23:24:22.025Z"
   },
   {
    "duration": 21,
    "start_time": "2022-01-26T23:24:22.063Z"
   },
   {
    "duration": 13,
    "start_time": "2022-01-26T23:24:22.087Z"
   },
   {
    "duration": 17,
    "start_time": "2022-01-26T23:24:22.102Z"
   },
   {
    "duration": 513,
    "start_time": "2022-01-26T23:24:22.121Z"
   },
   {
    "duration": -1317,
    "start_time": "2022-01-26T23:24:23.954Z"
   },
   {
    "duration": -1337,
    "start_time": "2022-01-26T23:24:23.976Z"
   },
   {
    "duration": -1346,
    "start_time": "2022-01-26T23:24:23.987Z"
   },
   {
    "duration": -1358,
    "start_time": "2022-01-26T23:24:24.001Z"
   },
   {
    "duration": -1360,
    "start_time": "2022-01-26T23:24:24.004Z"
   },
   {
    "duration": -1364,
    "start_time": "2022-01-26T23:24:24.010Z"
   },
   {
    "duration": -1375,
    "start_time": "2022-01-26T23:24:24.022Z"
   },
   {
    "duration": -1387,
    "start_time": "2022-01-26T23:24:24.036Z"
   },
   {
    "duration": -1392,
    "start_time": "2022-01-26T23:24:24.043Z"
   },
   {
    "duration": -1401,
    "start_time": "2022-01-26T23:24:24.053Z"
   },
   {
    "duration": -1405,
    "start_time": "2022-01-26T23:24:24.059Z"
   },
   {
    "duration": -1421,
    "start_time": "2022-01-26T23:24:24.077Z"
   },
   {
    "duration": -1431,
    "start_time": "2022-01-26T23:24:24.088Z"
   },
   {
    "duration": -1445,
    "start_time": "2022-01-26T23:24:24.104Z"
   },
   {
    "duration": -1582,
    "start_time": "2022-01-26T23:24:24.242Z"
   },
   {
    "duration": -1583,
    "start_time": "2022-01-26T23:24:24.245Z"
   },
   {
    "duration": -1585,
    "start_time": "2022-01-26T23:24:24.248Z"
   },
   {
    "duration": -1587,
    "start_time": "2022-01-26T23:24:24.251Z"
   },
   {
    "duration": -1588,
    "start_time": "2022-01-26T23:24:24.254Z"
   },
   {
    "duration": -1591,
    "start_time": "2022-01-26T23:24:24.258Z"
   },
   {
    "duration": -1593,
    "start_time": "2022-01-26T23:24:24.262Z"
   },
   {
    "duration": -1609,
    "start_time": "2022-01-26T23:24:24.279Z"
   },
   {
    "duration": -1619,
    "start_time": "2022-01-26T23:24:24.291Z"
   },
   {
    "duration": -1629,
    "start_time": "2022-01-26T23:24:24.302Z"
   },
   {
    "duration": -1636,
    "start_time": "2022-01-26T23:24:24.310Z"
   },
   {
    "duration": -1645,
    "start_time": "2022-01-26T23:24:24.321Z"
   },
   {
    "duration": -1659,
    "start_time": "2022-01-26T23:24:24.336Z"
   },
   {
    "duration": -1665,
    "start_time": "2022-01-26T23:24:24.343Z"
   },
   {
    "duration": -1675,
    "start_time": "2022-01-26T23:24:24.355Z"
   },
   {
    "duration": -1751,
    "start_time": "2022-01-26T23:24:24.432Z"
   },
   {
    "duration": -1754,
    "start_time": "2022-01-26T23:24:24.436Z"
   },
   {
    "duration": -1758,
    "start_time": "2022-01-26T23:24:24.442Z"
   },
   {
    "duration": -1768,
    "start_time": "2022-01-26T23:24:24.453Z"
   },
   {
    "duration": -1772,
    "start_time": "2022-01-26T23:24:24.459Z"
   },
   {
    "duration": -1776,
    "start_time": "2022-01-26T23:24:24.464Z"
   },
   {
    "duration": -1778,
    "start_time": "2022-01-26T23:24:24.467Z"
   },
   {
    "duration": -1780,
    "start_time": "2022-01-26T23:24:24.471Z"
   },
   {
    "duration": -1784,
    "start_time": "2022-01-26T23:24:24.476Z"
   },
   {
    "duration": 33,
    "start_time": "2022-01-26T23:28:23.465Z"
   },
   {
    "duration": 7,
    "start_time": "2022-01-26T23:28:25.087Z"
   },
   {
    "duration": 1692,
    "start_time": "2022-01-26T23:29:27.718Z"
   },
   {
    "duration": 5,
    "start_time": "2022-01-26T23:29:29.413Z"
   },
   {
    "duration": 19,
    "start_time": "2022-01-26T23:29:29.421Z"
   },
   {
    "duration": 15,
    "start_time": "2022-01-26T23:29:29.460Z"
   },
   {
    "duration": 48,
    "start_time": "2022-01-26T23:29:29.478Z"
   },
   {
    "duration": 71,
    "start_time": "2022-01-26T23:29:29.528Z"
   },
   {
    "duration": 9,
    "start_time": "2022-01-26T23:29:29.602Z"
   },
   {
    "duration": 61,
    "start_time": "2022-01-26T23:29:29.614Z"
   },
   {
    "duration": 33,
    "start_time": "2022-01-26T23:29:29.678Z"
   },
   {
    "duration": 13,
    "start_time": "2022-01-26T23:29:29.714Z"
   },
   {
    "duration": 42,
    "start_time": "2022-01-26T23:29:29.729Z"
   },
   {
    "duration": 13,
    "start_time": "2022-01-26T23:29:29.774Z"
   },
   {
    "duration": 70,
    "start_time": "2022-01-26T23:29:29.790Z"
   },
   {
    "duration": 46,
    "start_time": "2022-01-26T23:29:29.863Z"
   },
   {
    "duration": 5,
    "start_time": "2022-01-26T23:29:29.912Z"
   },
   {
    "duration": 42,
    "start_time": "2022-01-26T23:29:29.920Z"
   },
   {
    "duration": 5,
    "start_time": "2022-01-26T23:29:29.965Z"
   },
   {
    "duration": 10,
    "start_time": "2022-01-26T23:29:29.972Z"
   },
   {
    "duration": 7,
    "start_time": "2022-01-26T23:29:29.985Z"
   },
   {
    "duration": 18,
    "start_time": "2022-01-26T23:29:29.994Z"
   },
   {
    "duration": 46,
    "start_time": "2022-01-26T23:29:30.015Z"
   },
   {
    "duration": 9,
    "start_time": "2022-01-26T23:29:30.064Z"
   },
   {
    "duration": 344,
    "start_time": "2022-01-26T23:29:30.079Z"
   },
   {
    "duration": 8,
    "start_time": "2022-01-26T23:29:30.427Z"
   },
   {
    "duration": 24,
    "start_time": "2022-01-26T23:29:30.437Z"
   },
   {
    "duration": 6,
    "start_time": "2022-01-26T23:29:30.463Z"
   },
   {
    "duration": 39,
    "start_time": "2022-01-26T23:29:30.471Z"
   },
   {
    "duration": 8,
    "start_time": "2022-01-26T23:29:30.513Z"
   },
   {
    "duration": 40,
    "start_time": "2022-01-26T23:29:30.523Z"
   },
   {
    "duration": 7,
    "start_time": "2022-01-26T23:29:30.566Z"
   },
   {
    "duration": 16,
    "start_time": "2022-01-26T23:29:30.575Z"
   },
   {
    "duration": 9,
    "start_time": "2022-01-26T23:29:30.593Z"
   },
   {
    "duration": 8,
    "start_time": "2022-01-26T23:29:30.604Z"
   },
   {
    "duration": 51,
    "start_time": "2022-01-26T23:29:30.614Z"
   },
   {
    "duration": 8,
    "start_time": "2022-01-26T23:29:30.668Z"
   },
   {
    "duration": 17,
    "start_time": "2022-01-26T23:29:30.679Z"
   },
   {
    "duration": 5,
    "start_time": "2022-01-26T23:29:30.699Z"
   },
   {
    "duration": 20,
    "start_time": "2022-01-26T23:29:30.707Z"
   },
   {
    "duration": 34,
    "start_time": "2022-01-26T23:29:30.730Z"
   },
   {
    "duration": 12,
    "start_time": "2022-01-26T23:29:30.766Z"
   },
   {
    "duration": 10,
    "start_time": "2022-01-26T23:29:30.781Z"
   },
   {
    "duration": 13,
    "start_time": "2022-01-26T23:29:30.793Z"
   },
   {
    "duration": 61,
    "start_time": "2022-01-26T23:29:30.808Z"
   },
   {
    "duration": 25,
    "start_time": "2022-01-26T23:29:30.872Z"
   },
   {
    "duration": 22,
    "start_time": "2022-01-26T23:29:30.900Z"
   },
   {
    "duration": 5,
    "start_time": "2022-01-26T23:29:30.924Z"
   },
   {
    "duration": 47,
    "start_time": "2022-01-26T23:29:30.931Z"
   },
   {
    "duration": 17,
    "start_time": "2022-01-26T23:29:30.980Z"
   },
   {
    "duration": 64,
    "start_time": "2022-01-26T23:29:31.000Z"
   },
   {
    "duration": 625,
    "start_time": "2022-01-26T23:29:31.067Z"
   },
   {
    "duration": -1115,
    "start_time": "2022-01-26T23:29:32.810Z"
   },
   {
    "duration": -1119,
    "start_time": "2022-01-26T23:29:32.816Z"
   },
   {
    "duration": -1124,
    "start_time": "2022-01-26T23:29:32.822Z"
   },
   {
    "duration": -1128,
    "start_time": "2022-01-26T23:29:32.827Z"
   },
   {
    "duration": -1129,
    "start_time": "2022-01-26T23:29:32.830Z"
   },
   {
    "duration": -1131,
    "start_time": "2022-01-26T23:29:32.833Z"
   },
   {
    "duration": -1134,
    "start_time": "2022-01-26T23:29:32.837Z"
   },
   {
    "duration": -1135,
    "start_time": "2022-01-26T23:29:32.840Z"
   },
   {
    "duration": -1138,
    "start_time": "2022-01-26T23:29:32.844Z"
   },
   {
    "duration": -1150,
    "start_time": "2022-01-26T23:29:32.857Z"
   },
   {
    "duration": -1153,
    "start_time": "2022-01-26T23:29:32.862Z"
   },
   {
    "duration": -1155,
    "start_time": "2022-01-26T23:29:32.866Z"
   },
   {
    "duration": -1158,
    "start_time": "2022-01-26T23:29:32.870Z"
   },
   {
    "duration": -1162,
    "start_time": "2022-01-26T23:29:32.875Z"
   },
   {
    "duration": -1163,
    "start_time": "2022-01-26T23:29:32.878Z"
   },
   {
    "duration": -1474,
    "start_time": "2022-01-26T23:29:33.190Z"
   },
   {
    "duration": -1479,
    "start_time": "2022-01-26T23:29:33.196Z"
   },
   {
    "duration": -1480,
    "start_time": "2022-01-26T23:29:33.199Z"
   },
   {
    "duration": -1482,
    "start_time": "2022-01-26T23:29:33.202Z"
   },
   {
    "duration": -1487,
    "start_time": "2022-01-26T23:29:33.208Z"
   },
   {
    "duration": -1488,
    "start_time": "2022-01-26T23:29:33.211Z"
   },
   {
    "duration": -1491,
    "start_time": "2022-01-26T23:29:33.215Z"
   },
   {
    "duration": -1494,
    "start_time": "2022-01-26T23:29:33.219Z"
   },
   {
    "duration": -1496,
    "start_time": "2022-01-26T23:29:33.222Z"
   },
   {
    "duration": -1497,
    "start_time": "2022-01-26T23:29:33.225Z"
   },
   {
    "duration": -1499,
    "start_time": "2022-01-26T23:29:33.228Z"
   },
   {
    "duration": -1501,
    "start_time": "2022-01-26T23:29:33.231Z"
   },
   {
    "duration": -1504,
    "start_time": "2022-01-26T23:29:33.235Z"
   },
   {
    "duration": -1506,
    "start_time": "2022-01-26T23:29:33.238Z"
   },
   {
    "duration": -1522,
    "start_time": "2022-01-26T23:29:33.256Z"
   },
   {
    "duration": -1506,
    "start_time": "2022-01-26T23:29:33.265Z"
   },
   {
    "duration": -1511,
    "start_time": "2022-01-26T23:29:33.271Z"
   },
   {
    "duration": -1519,
    "start_time": "2022-01-26T23:29:33.281Z"
   },
   {
    "duration": -1525,
    "start_time": "2022-01-26T23:29:33.288Z"
   },
   {
    "duration": -1534,
    "start_time": "2022-01-26T23:29:33.299Z"
   },
   {
    "duration": -1549,
    "start_time": "2022-01-26T23:29:33.315Z"
   },
   {
    "duration": -1561,
    "start_time": "2022-01-26T23:29:33.329Z"
   },
   {
    "duration": -1563,
    "start_time": "2022-01-26T23:29:33.332Z"
   },
   {
    "duration": 8,
    "start_time": "2022-01-26T23:33:02.516Z"
   },
   {
    "duration": 6,
    "start_time": "2022-01-26T23:33:28.680Z"
   },
   {
    "duration": 8,
    "start_time": "2022-01-26T23:34:19.342Z"
   },
   {
    "duration": 7,
    "start_time": "2022-01-26T23:34:27.880Z"
   },
   {
    "duration": 9,
    "start_time": "2022-01-26T23:40:21.080Z"
   },
   {
    "duration": 5,
    "start_time": "2022-01-26T23:40:22.890Z"
   },
   {
    "duration": 385,
    "start_time": "2022-01-26T23:41:13.470Z"
   },
   {
    "duration": 25,
    "start_time": "2022-01-26T23:41:35.808Z"
   },
   {
    "duration": 6,
    "start_time": "2022-01-26T23:41:56.044Z"
   },
   {
    "duration": 9,
    "start_time": "2022-01-26T23:41:59.366Z"
   },
   {
    "duration": 119,
    "start_time": "2022-01-26T23:42:12.105Z"
   },
   {
    "duration": 10,
    "start_time": "2022-01-26T23:42:47.086Z"
   },
   {
    "duration": 6,
    "start_time": "2022-01-26T23:42:50.513Z"
   },
   {
    "duration": 8,
    "start_time": "2022-01-26T23:42:52.032Z"
   },
   {
    "duration": 3,
    "start_time": "2022-01-26T23:43:08.524Z"
   },
   {
    "duration": 5,
    "start_time": "2022-01-26T23:43:12.907Z"
   },
   {
    "duration": 1900,
    "start_time": "2022-01-26T23:43:22.870Z"
   },
   {
    "duration": 6,
    "start_time": "2022-01-26T23:43:24.774Z"
   },
   {
    "duration": 26,
    "start_time": "2022-01-26T23:43:24.784Z"
   },
   {
    "duration": 46,
    "start_time": "2022-01-26T23:43:24.814Z"
   },
   {
    "duration": 48,
    "start_time": "2022-01-26T23:43:24.864Z"
   },
   {
    "duration": 76,
    "start_time": "2022-01-26T23:43:24.916Z"
   },
   {
    "duration": 13,
    "start_time": "2022-01-26T23:43:24.995Z"
   },
   {
    "duration": 63,
    "start_time": "2022-01-26T23:43:25.014Z"
   },
   {
    "duration": 38,
    "start_time": "2022-01-26T23:43:25.081Z"
   },
   {
    "duration": 43,
    "start_time": "2022-01-26T23:43:25.122Z"
   },
   {
    "duration": 19,
    "start_time": "2022-01-26T23:43:25.168Z"
   },
   {
    "duration": 15,
    "start_time": "2022-01-26T23:43:25.189Z"
   },
   {
    "duration": 75,
    "start_time": "2022-01-26T23:43:25.207Z"
   },
   {
    "duration": 47,
    "start_time": "2022-01-26T23:43:25.285Z"
   },
   {
    "duration": 26,
    "start_time": "2022-01-26T23:43:25.334Z"
   },
   {
    "duration": 14,
    "start_time": "2022-01-26T23:43:25.363Z"
   },
   {
    "duration": 7,
    "start_time": "2022-01-26T23:43:25.379Z"
   },
   {
    "duration": 10,
    "start_time": "2022-01-26T23:43:25.388Z"
   },
   {
    "duration": 8,
    "start_time": "2022-01-26T23:43:25.400Z"
   },
   {
    "duration": 62,
    "start_time": "2022-01-26T23:43:25.410Z"
   },
   {
    "duration": 4,
    "start_time": "2022-01-26T23:43:25.475Z"
   },
   {
    "duration": 9,
    "start_time": "2022-01-26T23:43:25.481Z"
   },
   {
    "duration": 375,
    "start_time": "2022-01-26T23:43:25.496Z"
   },
   {
    "duration": 7,
    "start_time": "2022-01-26T23:43:25.875Z"
   },
   {
    "duration": 4,
    "start_time": "2022-01-26T23:43:25.884Z"
   },
   {
    "duration": 10,
    "start_time": "2022-01-26T23:43:25.891Z"
   },
   {
    "duration": 8,
    "start_time": "2022-01-26T23:43:25.904Z"
   },
   {
    "duration": 46,
    "start_time": "2022-01-26T23:43:25.914Z"
   },
   {
    "duration": 4,
    "start_time": "2022-01-26T23:43:25.963Z"
   },
   {
    "duration": 14,
    "start_time": "2022-01-26T23:43:25.970Z"
   },
   {
    "duration": 9,
    "start_time": "2022-01-26T23:43:25.986Z"
   },
   {
    "duration": 11,
    "start_time": "2022-01-26T23:43:25.998Z"
   },
   {
    "duration": 55,
    "start_time": "2022-01-26T23:43:26.013Z"
   },
   {
    "duration": 9,
    "start_time": "2022-01-26T23:43:26.071Z"
   },
   {
    "duration": 11,
    "start_time": "2022-01-26T23:43:26.083Z"
   },
   {
    "duration": 4,
    "start_time": "2022-01-26T23:43:26.096Z"
   },
   {
    "duration": 59,
    "start_time": "2022-01-26T23:43:26.102Z"
   },
   {
    "duration": 10,
    "start_time": "2022-01-26T23:43:26.163Z"
   },
   {
    "duration": 14,
    "start_time": "2022-01-26T23:43:26.176Z"
   },
   {
    "duration": 11,
    "start_time": "2022-01-26T23:43:26.193Z"
   },
   {
    "duration": 53,
    "start_time": "2022-01-26T23:43:26.207Z"
   },
   {
    "duration": 24,
    "start_time": "2022-01-26T23:43:26.263Z"
   },
   {
    "duration": 28,
    "start_time": "2022-01-26T23:43:26.290Z"
   },
   {
    "duration": 58,
    "start_time": "2022-01-26T23:43:26.321Z"
   },
   {
    "duration": 6,
    "start_time": "2022-01-26T23:43:26.382Z"
   },
   {
    "duration": 24,
    "start_time": "2022-01-26T23:43:26.391Z"
   },
   {
    "duration": 46,
    "start_time": "2022-01-26T23:43:26.418Z"
   },
   {
    "duration": 19,
    "start_time": "2022-01-26T23:43:26.467Z"
   },
   {
    "duration": 573,
    "start_time": "2022-01-26T23:43:26.488Z"
   },
   {
    "duration": -1304,
    "start_time": "2022-01-26T23:43:28.369Z"
   },
   {
    "duration": -1306,
    "start_time": "2022-01-26T23:43:28.372Z"
   },
   {
    "duration": -1308,
    "start_time": "2022-01-26T23:43:28.376Z"
   },
   {
    "duration": -1309,
    "start_time": "2022-01-26T23:43:28.379Z"
   },
   {
    "duration": -1311,
    "start_time": "2022-01-26T23:43:28.382Z"
   },
   {
    "duration": -1329,
    "start_time": "2022-01-26T23:43:28.401Z"
   },
   {
    "duration": -1335,
    "start_time": "2022-01-26T23:43:28.408Z"
   },
   {
    "duration": -1364,
    "start_time": "2022-01-26T23:43:28.439Z"
   },
   {
    "duration": -1378,
    "start_time": "2022-01-26T23:43:28.454Z"
   },
   {
    "duration": -1386,
    "start_time": "2022-01-26T23:43:28.463Z"
   },
   {
    "duration": -1398,
    "start_time": "2022-01-26T23:43:28.477Z"
   },
   {
    "duration": -1409,
    "start_time": "2022-01-26T23:43:28.489Z"
   },
   {
    "duration": -1422,
    "start_time": "2022-01-26T23:43:28.503Z"
   },
   {
    "duration": -1424,
    "start_time": "2022-01-26T23:43:28.507Z"
   },
   {
    "duration": -1437,
    "start_time": "2022-01-26T23:43:28.522Z"
   },
   {
    "duration": -1442,
    "start_time": "2022-01-26T23:43:28.528Z"
   },
   {
    "duration": -1454,
    "start_time": "2022-01-26T23:43:28.541Z"
   },
   {
    "duration": -1464,
    "start_time": "2022-01-26T23:43:28.553Z"
   },
   {
    "duration": -1466,
    "start_time": "2022-01-26T23:43:28.556Z"
   },
   {
    "duration": -1469,
    "start_time": "2022-01-26T23:43:28.561Z"
   },
   {
    "duration": -1479,
    "start_time": "2022-01-26T23:43:28.572Z"
   },
   {
    "duration": -1483,
    "start_time": "2022-01-26T23:43:28.577Z"
   },
   {
    "duration": -1492,
    "start_time": "2022-01-26T23:43:28.588Z"
   },
   {
    "duration": -1496,
    "start_time": "2022-01-26T23:43:28.593Z"
   },
   {
    "duration": -1507,
    "start_time": "2022-01-26T23:43:28.606Z"
   },
   {
    "duration": -1519,
    "start_time": "2022-01-26T23:43:28.619Z"
   },
   {
    "duration": -1521,
    "start_time": "2022-01-26T23:43:28.622Z"
   },
   {
    "duration": -1528,
    "start_time": "2022-01-26T23:43:28.631Z"
   },
   {
    "duration": -1476,
    "start_time": "2022-01-26T23:43:28.636Z"
   },
   {
    "duration": -1479,
    "start_time": "2022-01-26T23:43:28.640Z"
   },
   {
    "duration": -1483,
    "start_time": "2022-01-26T23:43:28.645Z"
   },
   {
    "duration": -1484,
    "start_time": "2022-01-26T23:43:28.648Z"
   },
   {
    "duration": -1485,
    "start_time": "2022-01-26T23:43:28.651Z"
   },
   {
    "duration": -1486,
    "start_time": "2022-01-26T23:43:28.654Z"
   },
   {
    "duration": -1487,
    "start_time": "2022-01-26T23:43:28.657Z"
   },
   {
    "duration": -1489,
    "start_time": "2022-01-26T23:43:28.661Z"
   },
   {
    "duration": -1493,
    "start_time": "2022-01-26T23:43:28.667Z"
   },
   {
    "duration": -1494,
    "start_time": "2022-01-26T23:43:28.670Z"
   },
   {
    "duration": 6,
    "start_time": "2022-01-26T23:47:24.473Z"
   },
   {
    "duration": 6,
    "start_time": "2022-01-26T23:47:27.902Z"
   },
   {
    "duration": 10,
    "start_time": "2022-01-26T23:47:37.477Z"
   },
   {
    "duration": 49,
    "start_time": "2022-01-27T00:06:17.931Z"
   },
   {
    "duration": 46,
    "start_time": "2022-01-27T00:08:17.921Z"
   },
   {
    "duration": 386,
    "start_time": "2022-01-27T00:09:12.939Z"
   },
   {
    "duration": 43,
    "start_time": "2022-01-27T00:09:25.070Z"
   },
   {
    "duration": 22,
    "start_time": "2022-01-27T00:10:51.479Z"
   },
   {
    "duration": 21,
    "start_time": "2022-01-27T00:11:03.464Z"
   },
   {
    "duration": 383,
    "start_time": "2022-01-27T00:11:24.356Z"
   },
   {
    "duration": 5,
    "start_time": "2022-01-27T00:12:04.478Z"
   },
   {
    "duration": 4,
    "start_time": "2022-01-27T00:12:07.361Z"
   },
   {
    "duration": 20,
    "start_time": "2022-01-27T00:14:59.637Z"
   },
   {
    "duration": 10,
    "start_time": "2022-01-27T00:15:07.495Z"
   },
   {
    "duration": 15,
    "start_time": "2022-01-27T00:15:22.853Z"
   },
   {
    "duration": 19,
    "start_time": "2022-01-27T00:15:27.090Z"
   },
   {
    "duration": 386,
    "start_time": "2022-01-27T00:16:08.421Z"
   },
   {
    "duration": 363,
    "start_time": "2022-01-27T00:37:19.887Z"
   },
   {
    "duration": 10,
    "start_time": "2022-01-27T00:37:46.319Z"
   },
   {
    "duration": 369,
    "start_time": "2022-01-27T00:38:11.769Z"
   },
   {
    "duration": 10,
    "start_time": "2022-01-27T00:38:38.773Z"
   },
   {
    "duration": 5,
    "start_time": "2022-01-27T00:39:40.281Z"
   },
   {
    "duration": 5,
    "start_time": "2022-01-27T00:43:07.235Z"
   },
   {
    "duration": 346,
    "start_time": "2022-01-27T00:44:32.791Z"
   },
   {
    "duration": 355,
    "start_time": "2022-01-27T00:48:12.775Z"
   },
   {
    "duration": 6,
    "start_time": "2022-01-27T00:48:42.783Z"
   },
   {
    "duration": 5,
    "start_time": "2022-01-27T00:49:17.666Z"
   },
   {
    "duration": 356,
    "start_time": "2022-01-27T00:50:19.238Z"
   },
   {
    "duration": 16,
    "start_time": "2022-01-27T00:50:27.031Z"
   },
   {
    "duration": 183,
    "start_time": "2022-01-27T01:31:37.197Z"
   },
   {
    "duration": 13,
    "start_time": "2022-01-27T01:31:40.743Z"
   },
   {
    "duration": 364,
    "start_time": "2022-01-27T01:32:50.380Z"
   },
   {
    "duration": 364,
    "start_time": "2022-01-27T01:33:02.022Z"
   },
   {
    "duration": 360,
    "start_time": "2022-01-27T01:33:27.854Z"
   },
   {
    "duration": 364,
    "start_time": "2022-01-27T01:33:54.358Z"
   },
   {
    "duration": 6,
    "start_time": "2022-01-27T01:34:45.113Z"
   },
   {
    "duration": -1216,
    "start_time": "2022-01-27T01:36:46.033Z"
   },
   {
    "duration": -1227,
    "start_time": "2022-01-27T01:36:56.943Z"
   },
   {
    "duration": 8658,
    "start_time": "2022-01-27T01:36:59.144Z"
   },
   {
    "duration": 1844,
    "start_time": "2022-01-27T01:37:25.418Z"
   },
   {
    "duration": 4,
    "start_time": "2022-01-27T01:37:27.265Z"
   },
   {
    "duration": 20,
    "start_time": "2022-01-27T01:37:27.272Z"
   },
   {
    "duration": 17,
    "start_time": "2022-01-27T01:37:27.295Z"
   },
   {
    "duration": 79,
    "start_time": "2022-01-27T01:37:27.314Z"
   },
   {
    "duration": 64,
    "start_time": "2022-01-27T01:37:27.395Z"
   },
   {
    "duration": 12,
    "start_time": "2022-01-27T01:37:27.461Z"
   },
   {
    "duration": 32,
    "start_time": "2022-01-27T01:37:27.476Z"
   },
   {
    "duration": 63,
    "start_time": "2022-01-27T01:37:27.511Z"
   },
   {
    "duration": 12,
    "start_time": "2022-01-27T01:37:27.576Z"
   },
   {
    "duration": 13,
    "start_time": "2022-01-27T01:37:27.591Z"
   },
   {
    "duration": 13,
    "start_time": "2022-01-27T01:37:27.607Z"
   },
   {
    "duration": 81,
    "start_time": "2022-01-27T01:37:27.622Z"
   },
   {
    "duration": 63,
    "start_time": "2022-01-27T01:37:27.705Z"
   },
   {
    "duration": 5,
    "start_time": "2022-01-27T01:37:27.772Z"
   },
   {
    "duration": 18,
    "start_time": "2022-01-27T01:37:27.780Z"
   },
   {
    "duration": 12,
    "start_time": "2022-01-27T01:37:27.800Z"
   },
   {
    "duration": 46,
    "start_time": "2022-01-27T01:37:27.815Z"
   },
   {
    "duration": 11,
    "start_time": "2022-01-27T01:37:27.864Z"
   },
   {
    "duration": 23,
    "start_time": "2022-01-27T01:37:27.878Z"
   },
   {
    "duration": 5,
    "start_time": "2022-01-27T01:37:27.904Z"
   },
   {
    "duration": 48,
    "start_time": "2022-01-27T01:37:27.913Z"
   },
   {
    "duration": 336,
    "start_time": "2022-01-27T01:37:27.967Z"
   },
   {
    "duration": 6,
    "start_time": "2022-01-27T01:37:28.307Z"
   },
   {
    "duration": 6,
    "start_time": "2022-01-27T01:37:28.316Z"
   },
   {
    "duration": 6,
    "start_time": "2022-01-27T01:37:28.324Z"
   },
   {
    "duration": 8,
    "start_time": "2022-01-27T01:37:28.360Z"
   },
   {
    "duration": 11,
    "start_time": "2022-01-27T01:37:28.370Z"
   },
   {
    "duration": 4,
    "start_time": "2022-01-27T01:37:28.383Z"
   },
   {
    "duration": 10,
    "start_time": "2022-01-27T01:37:28.389Z"
   },
   {
    "duration": 8,
    "start_time": "2022-01-27T01:37:28.401Z"
   },
   {
    "duration": 8,
    "start_time": "2022-01-27T01:37:28.460Z"
   },
   {
    "duration": 9,
    "start_time": "2022-01-27T01:37:28.470Z"
   },
   {
    "duration": 7,
    "start_time": "2022-01-27T01:37:28.481Z"
   },
   {
    "duration": 9,
    "start_time": "2022-01-27T01:37:28.490Z"
   },
   {
    "duration": 4,
    "start_time": "2022-01-27T01:37:28.501Z"
   },
   {
    "duration": 10,
    "start_time": "2022-01-27T01:37:28.507Z"
   },
   {
    "duration": 8,
    "start_time": "2022-01-27T01:37:28.560Z"
   },
   {
    "duration": 10,
    "start_time": "2022-01-27T01:37:28.571Z"
   },
   {
    "duration": 9,
    "start_time": "2022-01-27T01:37:28.583Z"
   },
   {
    "duration": 9,
    "start_time": "2022-01-27T01:37:28.594Z"
   },
   {
    "duration": 64,
    "start_time": "2022-01-27T01:37:28.605Z"
   },
   {
    "duration": 23,
    "start_time": "2022-01-27T01:37:28.672Z"
   },
   {
    "duration": 19,
    "start_time": "2022-01-27T01:37:28.698Z"
   },
   {
    "duration": 5,
    "start_time": "2022-01-27T01:37:28.719Z"
   },
   {
    "duration": 49,
    "start_time": "2022-01-27T01:37:28.727Z"
   },
   {
    "duration": 13,
    "start_time": "2022-01-27T01:37:28.779Z"
   },
   {
    "duration": 16,
    "start_time": "2022-01-27T01:37:28.794Z"
   },
   {
    "duration": 79,
    "start_time": "2022-01-27T01:37:28.813Z"
   },
   {
    "duration": 4,
    "start_time": "2022-01-27T01:37:28.895Z"
   },
   {
    "duration": 7,
    "start_time": "2022-01-27T01:37:28.901Z"
   },
   {
    "duration": 12,
    "start_time": "2022-01-27T01:37:28.910Z"
   },
   {
    "duration": 39,
    "start_time": "2022-01-27T01:37:28.924Z"
   },
   {
    "duration": 19,
    "start_time": "2022-01-27T01:37:28.965Z"
   },
   {
    "duration": 24,
    "start_time": "2022-01-27T01:37:28.986Z"
   },
   {
    "duration": 9,
    "start_time": "2022-01-27T01:37:29.012Z"
   },
   {
    "duration": 10,
    "start_time": "2022-01-27T01:37:29.060Z"
   },
   {
    "duration": 4,
    "start_time": "2022-01-27T01:37:29.072Z"
   },
   {
    "duration": 5,
    "start_time": "2022-01-27T01:37:29.079Z"
   },
   {
    "duration": 9434,
    "start_time": "2022-01-27T01:37:29.087Z"
   },
   {
    "duration": -1292,
    "start_time": "2022-01-27T01:37:39.817Z"
   },
   {
    "duration": -1312,
    "start_time": "2022-01-27T01:37:39.838Z"
   },
   {
    "duration": -1315,
    "start_time": "2022-01-27T01:37:39.843Z"
   },
   {
    "duration": -1326,
    "start_time": "2022-01-27T01:37:39.855Z"
   },
   {
    "duration": -1330,
    "start_time": "2022-01-27T01:37:39.861Z"
   },
   {
    "duration": -1333,
    "start_time": "2022-01-27T01:37:39.865Z"
   },
   {
    "duration": -1342,
    "start_time": "2022-01-27T01:37:39.876Z"
   },
   {
    "duration": -1347,
    "start_time": "2022-01-27T01:37:39.882Z"
   },
   {
    "duration": -1495,
    "start_time": "2022-01-27T01:37:40.031Z"
   },
   {
    "duration": -1497,
    "start_time": "2022-01-27T01:37:40.035Z"
   },
   {
    "duration": -1502,
    "start_time": "2022-01-27T01:37:40.041Z"
   },
   {
    "duration": -1505,
    "start_time": "2022-01-27T01:37:40.046Z"
   },
   {
    "duration": -1517,
    "start_time": "2022-01-27T01:37:40.060Z"
   },
   {
    "duration": -1519,
    "start_time": "2022-01-27T01:37:40.063Z"
   },
   {
    "duration": -1523,
    "start_time": "2022-01-27T01:37:40.068Z"
   },
   {
    "duration": -1525,
    "start_time": "2022-01-27T01:37:40.072Z"
   },
   {
    "duration": -1536,
    "start_time": "2022-01-27T01:37:40.084Z"
   },
   {
    "duration": -1539,
    "start_time": "2022-01-27T01:37:40.088Z"
   },
   {
    "duration": -1623,
    "start_time": "2022-01-27T01:37:40.173Z"
   },
   {
    "duration": -1637,
    "start_time": "2022-01-27T01:37:40.188Z"
   },
   {
    "duration": -1644,
    "start_time": "2022-01-27T01:37:40.197Z"
   },
   {
    "duration": -1646,
    "start_time": "2022-01-27T01:37:40.200Z"
   },
   {
    "duration": -1673,
    "start_time": "2022-01-27T01:37:40.229Z"
   },
   {
    "duration": -1686,
    "start_time": "2022-01-27T01:37:40.243Z"
   },
   {
    "duration": -1690,
    "start_time": "2022-01-27T01:37:40.248Z"
   },
   {
    "duration": 10,
    "start_time": "2022-01-27T01:37:44.578Z"
   },
   {
    "duration": 6,
    "start_time": "2022-01-27T01:38:53.016Z"
   },
   {
    "duration": 14,
    "start_time": "2022-01-27T01:39:22.840Z"
   },
   {
    "duration": 5,
    "start_time": "2022-01-27T01:39:55.905Z"
   },
   {
    "duration": 425,
    "start_time": "2022-01-27T01:41:20.338Z"
   },
   {
    "duration": 345,
    "start_time": "2022-01-27T01:41:38.263Z"
   },
   {
    "duration": 6,
    "start_time": "2022-01-27T01:41:47.944Z"
   },
   {
    "duration": 3,
    "start_time": "2022-01-27T01:48:19.577Z"
   },
   {
    "duration": 590,
    "start_time": "2022-01-27T01:49:46.675Z"
   },
   {
    "duration": 6,
    "start_time": "2022-01-27T01:50:27.771Z"
   },
   {
    "duration": 13,
    "start_time": "2022-01-27T01:51:50.784Z"
   },
   {
    "duration": 3,
    "start_time": "2022-01-27T01:54:22.547Z"
   },
   {
    "duration": 3,
    "start_time": "2022-01-27T01:54:27.871Z"
   },
   {
    "duration": 4,
    "start_time": "2022-01-27T01:54:53.500Z"
   },
   {
    "duration": 1952,
    "start_time": "2022-01-27T01:55:06.300Z"
   },
   {
    "duration": 5,
    "start_time": "2022-01-27T01:55:08.254Z"
   },
   {
    "duration": 20,
    "start_time": "2022-01-27T01:55:08.263Z"
   },
   {
    "duration": 16,
    "start_time": "2022-01-27T01:55:08.287Z"
   },
   {
    "duration": 89,
    "start_time": "2022-01-27T01:55:08.306Z"
   },
   {
    "duration": 69,
    "start_time": "2022-01-27T01:55:08.398Z"
   },
   {
    "duration": 12,
    "start_time": "2022-01-27T01:55:08.470Z"
   },
   {
    "duration": 32,
    "start_time": "2022-01-27T01:55:08.487Z"
   },
   {
    "duration": 64,
    "start_time": "2022-01-27T01:55:08.522Z"
   },
   {
    "duration": 12,
    "start_time": "2022-01-27T01:55:08.588Z"
   },
   {
    "duration": 13,
    "start_time": "2022-01-27T01:55:08.602Z"
   },
   {
    "duration": 43,
    "start_time": "2022-01-27T01:55:08.617Z"
   },
   {
    "duration": 45,
    "start_time": "2022-01-27T01:55:08.662Z"
   },
   {
    "duration": 70,
    "start_time": "2022-01-27T01:55:08.709Z"
   },
   {
    "duration": 6,
    "start_time": "2022-01-27T01:55:08.781Z"
   },
   {
    "duration": 14,
    "start_time": "2022-01-27T01:55:08.790Z"
   },
   {
    "duration": 7,
    "start_time": "2022-01-27T01:55:08.806Z"
   },
   {
    "duration": 46,
    "start_time": "2022-01-27T01:55:08.815Z"
   },
   {
    "duration": 22,
    "start_time": "2022-01-27T01:55:08.863Z"
   },
   {
    "duration": 20,
    "start_time": "2022-01-27T01:55:08.887Z"
   },
   {
    "duration": 15,
    "start_time": "2022-01-27T01:55:08.909Z"
   },
   {
    "duration": 9,
    "start_time": "2022-01-27T01:55:08.926Z"
   },
   {
    "duration": 361,
    "start_time": "2022-01-27T01:55:08.941Z"
   },
   {
    "duration": 7,
    "start_time": "2022-01-27T01:55:09.306Z"
   },
   {
    "duration": 6,
    "start_time": "2022-01-27T01:55:09.316Z"
   },
   {
    "duration": 5,
    "start_time": "2022-01-27T01:55:09.324Z"
   },
   {
    "duration": 33,
    "start_time": "2022-01-27T01:55:09.331Z"
   },
   {
    "duration": 10,
    "start_time": "2022-01-27T01:55:09.367Z"
   },
   {
    "duration": 4,
    "start_time": "2022-01-27T01:55:09.379Z"
   },
   {
    "duration": 10,
    "start_time": "2022-01-27T01:55:09.385Z"
   },
   {
    "duration": 8,
    "start_time": "2022-01-27T01:55:09.397Z"
   },
   {
    "duration": 57,
    "start_time": "2022-01-27T01:55:09.407Z"
   },
   {
    "duration": 8,
    "start_time": "2022-01-27T01:55:09.466Z"
   },
   {
    "duration": 6,
    "start_time": "2022-01-27T01:55:09.477Z"
   },
   {
    "duration": 9,
    "start_time": "2022-01-27T01:55:09.485Z"
   },
   {
    "duration": 3,
    "start_time": "2022-01-27T01:55:09.496Z"
   },
   {
    "duration": 10,
    "start_time": "2022-01-27T01:55:09.501Z"
   },
   {
    "duration": 9,
    "start_time": "2022-01-27T01:55:09.560Z"
   },
   {
    "duration": 11,
    "start_time": "2022-01-27T01:55:09.571Z"
   },
   {
    "duration": 9,
    "start_time": "2022-01-27T01:55:09.584Z"
   },
   {
    "duration": 10,
    "start_time": "2022-01-27T01:55:09.595Z"
   },
   {
    "duration": 62,
    "start_time": "2022-01-27T01:55:09.607Z"
   },
   {
    "duration": 23,
    "start_time": "2022-01-27T01:55:09.672Z"
   },
   {
    "duration": 19,
    "start_time": "2022-01-27T01:55:09.697Z"
   },
   {
    "duration": 5,
    "start_time": "2022-01-27T01:55:09.719Z"
   },
   {
    "duration": 49,
    "start_time": "2022-01-27T01:55:09.726Z"
   },
   {
    "duration": 13,
    "start_time": "2022-01-27T01:55:09.778Z"
   },
   {
    "duration": 30,
    "start_time": "2022-01-27T01:55:09.793Z"
   },
   {
    "duration": 62,
    "start_time": "2022-01-27T01:55:09.825Z"
   },
   {
    "duration": 4,
    "start_time": "2022-01-27T01:55:09.890Z"
   },
   {
    "duration": 10,
    "start_time": "2022-01-27T01:55:09.896Z"
   },
   {
    "duration": 18,
    "start_time": "2022-01-27T01:55:09.908Z"
   },
   {
    "duration": 36,
    "start_time": "2022-01-27T01:55:09.929Z"
   },
   {
    "duration": 20,
    "start_time": "2022-01-27T01:55:09.967Z"
   },
   {
    "duration": 25,
    "start_time": "2022-01-27T01:55:09.990Z"
   },
   {
    "duration": 46,
    "start_time": "2022-01-27T01:55:10.017Z"
   },
   {
    "duration": 9,
    "start_time": "2022-01-27T01:55:10.065Z"
   },
   {
    "duration": 3,
    "start_time": "2022-01-27T01:55:10.076Z"
   },
   {
    "duration": 6,
    "start_time": "2022-01-27T01:55:10.081Z"
   },
   {
    "duration": 4,
    "start_time": "2022-01-27T01:55:10.089Z"
   },
   {
    "duration": 6,
    "start_time": "2022-01-27T01:55:10.095Z"
   },
   {
    "duration": 56,
    "start_time": "2022-01-27T01:55:10.103Z"
   },
   {
    "duration": 187,
    "start_time": "2022-01-27T01:55:10.161Z"
   },
   {
    "duration": 20,
    "start_time": "2022-01-27T01:55:10.350Z"
   },
   {
    "duration": 45,
    "start_time": "2022-01-27T01:55:10.372Z"
   },
   {
    "duration": 6,
    "start_time": "2022-01-27T01:55:10.419Z"
   },
   {
    "duration": 37,
    "start_time": "2022-01-27T01:55:10.428Z"
   },
   {
    "duration": 225,
    "start_time": "2022-01-27T01:55:10.473Z"
   },
   {
    "duration": 6,
    "start_time": "2022-01-27T01:55:10.701Z"
   },
   {
    "duration": 237,
    "start_time": "2022-01-27T01:55:10.710Z"
   },
   {
    "duration": 18,
    "start_time": "2022-01-27T01:55:10.949Z"
   },
   {
    "duration": 7,
    "start_time": "2022-01-27T01:55:10.969Z"
   },
   {
    "duration": 14,
    "start_time": "2022-01-27T01:55:10.978Z"
   },
   {
    "duration": 105,
    "start_time": "2022-01-27T01:55:10.994Z"
   },
   {
    "duration": 14,
    "start_time": "2022-01-27T01:55:11.102Z"
   },
   {
    "duration": 7,
    "start_time": "2022-01-27T01:55:11.118Z"
   },
   {
    "duration": 9,
    "start_time": "2022-01-27T01:55:11.127Z"
   },
   {
    "duration": 591,
    "start_time": "2022-01-27T01:55:11.160Z"
   },
   {
    "duration": 8,
    "start_time": "2022-01-27T01:55:11.754Z"
   },
   {
    "duration": 24,
    "start_time": "2022-01-27T01:55:11.765Z"
   },
   {
    "duration": 3,
    "start_time": "2022-01-27T01:55:11.791Z"
   },
   {
    "duration": 9,
    "start_time": "2022-01-27T01:55:11.797Z"
   },
   {
    "duration": 60,
    "start_time": "2022-01-27T01:55:11.808Z"
   },
   {
    "duration": 16,
    "start_time": "2022-01-27T01:55:11.871Z"
   },
   {
    "duration": 22,
    "start_time": "2022-01-27T01:55:11.889Z"
   },
   {
    "duration": 1251,
    "start_time": "2022-01-27T01:56:57.319Z"
   },
   {
    "duration": 8,
    "start_time": "2022-01-27T01:57:31.327Z"
   },
   {
    "duration": 15,
    "start_time": "2022-01-27T01:57:56.808Z"
   },
   {
    "duration": 1710,
    "start_time": "2022-01-27T01:58:24.272Z"
   },
   {
    "duration": 5,
    "start_time": "2022-01-27T01:58:25.984Z"
   },
   {
    "duration": 22,
    "start_time": "2022-01-27T01:58:25.992Z"
   },
   {
    "duration": 43,
    "start_time": "2022-01-27T01:58:26.016Z"
   },
   {
    "duration": 46,
    "start_time": "2022-01-27T01:58:26.062Z"
   },
   {
    "duration": 70,
    "start_time": "2022-01-27T01:58:26.111Z"
   },
   {
    "duration": 12,
    "start_time": "2022-01-27T01:58:26.184Z"
   },
   {
    "duration": 65,
    "start_time": "2022-01-27T01:58:26.201Z"
   },
   {
    "duration": 36,
    "start_time": "2022-01-27T01:58:26.269Z"
   },
   {
    "duration": 12,
    "start_time": "2022-01-27T01:58:26.307Z"
   },
   {
    "duration": 51,
    "start_time": "2022-01-27T01:58:26.322Z"
   },
   {
    "duration": 14,
    "start_time": "2022-01-27T01:58:26.376Z"
   },
   {
    "duration": 67,
    "start_time": "2022-01-27T01:58:26.392Z"
   },
   {
    "duration": 47,
    "start_time": "2022-01-27T01:58:26.461Z"
   },
   {
    "duration": 7,
    "start_time": "2022-01-27T01:58:26.510Z"
   },
   {
    "duration": 42,
    "start_time": "2022-01-27T01:58:26.519Z"
   },
   {
    "duration": 8,
    "start_time": "2022-01-27T01:58:26.563Z"
   },
   {
    "duration": 9,
    "start_time": "2022-01-27T01:58:26.573Z"
   },
   {
    "duration": 7,
    "start_time": "2022-01-27T01:58:26.585Z"
   },
   {
    "duration": 15,
    "start_time": "2022-01-27T01:58:26.594Z"
   },
   {
    "duration": 49,
    "start_time": "2022-01-27T01:58:26.611Z"
   },
   {
    "duration": 8,
    "start_time": "2022-01-27T01:58:26.663Z"
   },
   {
    "duration": 334,
    "start_time": "2022-01-27T01:58:26.677Z"
   },
   {
    "duration": 6,
    "start_time": "2022-01-27T01:58:27.015Z"
   },
   {
    "duration": 5,
    "start_time": "2022-01-27T01:58:27.024Z"
   },
   {
    "duration": 30,
    "start_time": "2022-01-27T01:58:27.031Z"
   },
   {
    "duration": 8,
    "start_time": "2022-01-27T01:58:27.064Z"
   },
   {
    "duration": 10,
    "start_time": "2022-01-27T01:58:27.075Z"
   },
   {
    "duration": 4,
    "start_time": "2022-01-27T01:58:27.087Z"
   },
   {
    "duration": 17,
    "start_time": "2022-01-27T01:58:27.094Z"
   },
   {
    "duration": 50,
    "start_time": "2022-01-27T01:58:27.113Z"
   },
   {
    "duration": 11,
    "start_time": "2022-01-27T01:58:27.165Z"
   },
   {
    "duration": 9,
    "start_time": "2022-01-27T01:58:27.179Z"
   },
   {
    "duration": 7,
    "start_time": "2022-01-27T01:58:27.190Z"
   },
   {
    "duration": 19,
    "start_time": "2022-01-27T01:58:27.199Z"
   },
   {
    "duration": 38,
    "start_time": "2022-01-27T01:58:27.221Z"
   },
   {
    "duration": 14,
    "start_time": "2022-01-27T01:58:27.262Z"
   },
   {
    "duration": 10,
    "start_time": "2022-01-27T01:58:27.278Z"
   },
   {
    "duration": 15,
    "start_time": "2022-01-27T01:58:27.290Z"
   },
   {
    "duration": 12,
    "start_time": "2022-01-27T01:58:27.307Z"
   },
   {
    "duration": 38,
    "start_time": "2022-01-27T01:58:27.322Z"
   },
   {
    "duration": 21,
    "start_time": "2022-01-27T01:58:27.363Z"
   },
   {
    "duration": 22,
    "start_time": "2022-01-27T01:58:27.387Z"
   },
   {
    "duration": 47,
    "start_time": "2022-01-27T01:58:27.412Z"
   },
   {
    "duration": 5,
    "start_time": "2022-01-27T01:58:27.461Z"
   },
   {
    "duration": 33,
    "start_time": "2022-01-27T01:58:27.468Z"
   },
   {
    "duration": 13,
    "start_time": "2022-01-27T01:58:27.503Z"
   },
   {
    "duration": 43,
    "start_time": "2022-01-27T01:58:27.518Z"
   },
   {
    "duration": 41,
    "start_time": "2022-01-27T01:58:27.563Z"
   },
   {
    "duration": 4,
    "start_time": "2022-01-27T01:58:27.606Z"
   },
   {
    "duration": 6,
    "start_time": "2022-01-27T01:58:27.612Z"
   },
   {
    "duration": 41,
    "start_time": "2022-01-27T01:58:27.621Z"
   },
   {
    "duration": 10,
    "start_time": "2022-01-27T01:58:27.665Z"
   },
   {
    "duration": 20,
    "start_time": "2022-01-27T01:58:27.679Z"
   },
   {
    "duration": 67,
    "start_time": "2022-01-27T01:58:27.702Z"
   },
   {
    "duration": 12,
    "start_time": "2022-01-27T01:58:27.772Z"
   },
   {
    "duration": 11,
    "start_time": "2022-01-27T01:58:27.787Z"
   },
   {
    "duration": 1212,
    "start_time": "2022-01-27T01:58:27.801Z"
   },
   {
    "duration": 7,
    "start_time": "2022-01-27T01:58:29.016Z"
   },
   {
    "duration": 14,
    "start_time": "2022-01-27T01:58:29.026Z"
   },
   {
    "duration": 183,
    "start_time": "2022-01-27T01:58:29.059Z"
   },
   {
    "duration": 23,
    "start_time": "2022-01-27T01:58:29.245Z"
   },
   {
    "duration": 46,
    "start_time": "2022-01-27T01:58:29.271Z"
   },
   {
    "duration": 39,
    "start_time": "2022-01-27T01:58:29.320Z"
   },
   {
    "duration": 12,
    "start_time": "2022-01-27T01:58:29.361Z"
   },
   {
    "duration": 231,
    "start_time": "2022-01-27T01:58:29.376Z"
   },
   {
    "duration": 7,
    "start_time": "2022-01-27T01:58:29.610Z"
   },
   {
    "duration": 227,
    "start_time": "2022-01-27T01:58:29.627Z"
   },
   {
    "duration": 15,
    "start_time": "2022-01-27T01:58:29.858Z"
   },
   {
    "duration": 11,
    "start_time": "2022-01-27T01:58:29.876Z"
   },
   {
    "duration": 24,
    "start_time": "2022-01-27T01:58:29.890Z"
   },
   {
    "duration": 91,
    "start_time": "2022-01-27T01:58:29.917Z"
   },
   {
    "duration": 16,
    "start_time": "2022-01-27T01:58:30.010Z"
   },
   {
    "duration": 15,
    "start_time": "2022-01-27T01:58:30.028Z"
   },
   {
    "duration": 8,
    "start_time": "2022-01-27T01:58:30.059Z"
   },
   {
    "duration": 599,
    "start_time": "2022-01-27T01:58:30.070Z"
   },
   {
    "duration": 8,
    "start_time": "2022-01-27T01:58:30.672Z"
   },
   {
    "duration": 31,
    "start_time": "2022-01-27T01:58:30.682Z"
   },
   {
    "duration": 2,
    "start_time": "2022-01-27T01:58:30.716Z"
   },
   {
    "duration": 38,
    "start_time": "2022-01-27T01:58:30.721Z"
   },
   {
    "duration": 21,
    "start_time": "2022-01-27T01:58:30.761Z"
   },
   {
    "duration": 17,
    "start_time": "2022-01-27T01:58:30.785Z"
   },
   {
    "duration": 55,
    "start_time": "2022-01-27T01:58:30.804Z"
   },
   {
    "duration": 1638,
    "start_time": "2022-01-27T02:39:18.281Z"
   },
   {
    "duration": 5,
    "start_time": "2022-01-27T02:39:19.922Z"
   },
   {
    "duration": 34,
    "start_time": "2022-01-27T02:39:19.930Z"
   },
   {
    "duration": 15,
    "start_time": "2022-01-27T02:39:19.967Z"
   },
   {
    "duration": 74,
    "start_time": "2022-01-27T02:39:19.985Z"
   },
   {
    "duration": 50,
    "start_time": "2022-01-27T02:39:20.062Z"
   },
   {
    "duration": 10,
    "start_time": "2022-01-27T02:39:20.114Z"
   },
   {
    "duration": 63,
    "start_time": "2022-01-27T02:39:20.128Z"
   },
   {
    "duration": 35,
    "start_time": "2022-01-27T02:39:20.194Z"
   },
   {
    "duration": 32,
    "start_time": "2022-01-27T02:39:20.232Z"
   },
   {
    "duration": 14,
    "start_time": "2022-01-27T02:39:20.266Z"
   },
   {
    "duration": 14,
    "start_time": "2022-01-27T02:39:20.282Z"
   },
   {
    "duration": 82,
    "start_time": "2022-01-27T02:39:20.298Z"
   },
   {
    "duration": 47,
    "start_time": "2022-01-27T02:39:20.382Z"
   },
   {
    "duration": 29,
    "start_time": "2022-01-27T02:39:20.431Z"
   },
   {
    "duration": 13,
    "start_time": "2022-01-27T02:39:20.463Z"
   },
   {
    "duration": 7,
    "start_time": "2022-01-27T02:39:20.479Z"
   },
   {
    "duration": 11,
    "start_time": "2022-01-27T02:39:20.489Z"
   },
   {
    "duration": 10,
    "start_time": "2022-01-27T02:39:20.503Z"
   },
   {
    "duration": 61,
    "start_time": "2022-01-27T02:39:20.515Z"
   },
   {
    "duration": 5,
    "start_time": "2022-01-27T02:39:20.578Z"
   },
   {
    "duration": 10,
    "start_time": "2022-01-27T02:39:20.586Z"
   },
   {
    "duration": 365,
    "start_time": "2022-01-27T02:39:20.604Z"
   },
   {
    "duration": 10,
    "start_time": "2022-01-27T02:39:20.974Z"
   },
   {
    "duration": 6,
    "start_time": "2022-01-27T02:39:20.986Z"
   },
   {
    "duration": 6,
    "start_time": "2022-01-27T02:39:20.995Z"
   },
   {
    "duration": 9,
    "start_time": "2022-01-27T02:39:21.003Z"
   },
   {
    "duration": 54,
    "start_time": "2022-01-27T02:39:21.014Z"
   },
   {
    "duration": 5,
    "start_time": "2022-01-27T02:39:21.070Z"
   },
   {
    "duration": 11,
    "start_time": "2022-01-27T02:39:21.077Z"
   },
   {
    "duration": 9,
    "start_time": "2022-01-27T02:39:21.090Z"
   },
   {
    "duration": 8,
    "start_time": "2022-01-27T02:39:21.101Z"
   },
   {
    "duration": 54,
    "start_time": "2022-01-27T02:39:21.112Z"
   },
   {
    "duration": 7,
    "start_time": "2022-01-27T02:39:21.169Z"
   },
   {
    "duration": 10,
    "start_time": "2022-01-27T02:39:21.178Z"
   },
   {
    "duration": 4,
    "start_time": "2022-01-27T02:39:21.190Z"
   },
   {
    "duration": 12,
    "start_time": "2022-01-27T02:39:21.197Z"
   },
   {
    "duration": 52,
    "start_time": "2022-01-27T02:39:21.211Z"
   },
   {
    "duration": 11,
    "start_time": "2022-01-27T02:39:21.265Z"
   },
   {
    "duration": 9,
    "start_time": "2022-01-27T02:39:21.279Z"
   },
   {
    "duration": 9,
    "start_time": "2022-01-27T02:39:21.291Z"
   },
   {
    "duration": 62,
    "start_time": "2022-01-27T02:39:21.303Z"
   },
   {
    "duration": 24,
    "start_time": "2022-01-27T02:39:21.368Z"
   },
   {
    "duration": 24,
    "start_time": "2022-01-27T02:39:21.394Z"
   },
   {
    "duration": 5,
    "start_time": "2022-01-27T02:39:21.420Z"
   },
   {
    "duration": 19,
    "start_time": "2022-01-27T02:39:21.459Z"
   },
   {
    "duration": 13,
    "start_time": "2022-01-27T02:39:21.480Z"
   },
   {
    "duration": 17,
    "start_time": "2022-01-27T02:39:21.495Z"
   },
   {
    "duration": 77,
    "start_time": "2022-01-27T02:39:21.515Z"
   },
   {
    "duration": 4,
    "start_time": "2022-01-27T02:39:21.595Z"
   },
   {
    "duration": 8,
    "start_time": "2022-01-27T02:39:21.601Z"
   },
   {
    "duration": 13,
    "start_time": "2022-01-27T02:39:21.611Z"
   },
   {
    "duration": 38,
    "start_time": "2022-01-27T02:39:21.626Z"
   },
   {
    "duration": 18,
    "start_time": "2022-01-27T02:39:21.666Z"
   },
   {
    "duration": 25,
    "start_time": "2022-01-27T02:39:21.687Z"
   },
   {
    "duration": 9,
    "start_time": "2022-01-27T02:39:21.714Z"
   },
   {
    "duration": 9,
    "start_time": "2022-01-27T02:39:21.760Z"
   },
   {
    "duration": 1183,
    "start_time": "2022-01-27T02:39:21.771Z"
   },
   {
    "duration": 6,
    "start_time": "2022-01-27T02:39:22.959Z"
   },
   {
    "duration": 12,
    "start_time": "2022-01-27T02:39:22.967Z"
   },
   {
    "duration": 203,
    "start_time": "2022-01-27T02:39:22.981Z"
   },
   {
    "duration": 14,
    "start_time": "2022-01-27T02:39:23.187Z"
   },
   {
    "duration": 66,
    "start_time": "2022-01-27T02:39:23.203Z"
   },
   {
    "duration": 7,
    "start_time": "2022-01-27T02:39:23.271Z"
   },
   {
    "duration": 9,
    "start_time": "2022-01-27T02:39:23.280Z"
   },
   {
    "duration": 243,
    "start_time": "2022-01-27T02:39:23.292Z"
   },
   {
    "duration": 6,
    "start_time": "2022-01-27T02:39:23.538Z"
   },
   {
    "duration": 226,
    "start_time": "2022-01-27T02:39:23.562Z"
   },
   {
    "duration": 13,
    "start_time": "2022-01-27T02:39:23.791Z"
   },
   {
    "duration": 6,
    "start_time": "2022-01-27T02:39:23.807Z"
   },
   {
    "duration": 45,
    "start_time": "2022-01-27T02:39:23.816Z"
   },
   {
    "duration": 67,
    "start_time": "2022-01-27T02:39:23.863Z"
   },
   {
    "duration": 28,
    "start_time": "2022-01-27T02:39:23.932Z"
   },
   {
    "duration": 5,
    "start_time": "2022-01-27T02:39:23.963Z"
   },
   {
    "duration": 8,
    "start_time": "2022-01-27T02:39:23.971Z"
   },
   {
    "duration": 594,
    "start_time": "2022-01-27T02:39:23.982Z"
   },
   {
    "duration": 9,
    "start_time": "2022-01-27T02:39:24.578Z"
   },
   {
    "duration": 25,
    "start_time": "2022-01-27T02:39:24.590Z"
   },
   {
    "duration": 3,
    "start_time": "2022-01-27T02:39:24.617Z"
   },
   {
    "duration": 42,
    "start_time": "2022-01-27T02:39:24.622Z"
   },
   {
    "duration": 27,
    "start_time": "2022-01-27T02:39:24.667Z"
   },
   {
    "duration": 18,
    "start_time": "2022-01-27T02:39:24.697Z"
   },
   {
    "duration": 56,
    "start_time": "2022-01-27T02:39:24.718Z"
   },
   {
    "duration": 1653,
    "start_time": "2022-01-27T02:58:15.088Z"
   },
   {
    "duration": 4,
    "start_time": "2022-01-27T02:58:16.744Z"
   },
   {
    "duration": 19,
    "start_time": "2022-01-27T02:58:16.751Z"
   },
   {
    "duration": 14,
    "start_time": "2022-01-27T02:58:16.773Z"
   },
   {
    "duration": 71,
    "start_time": "2022-01-27T02:58:16.790Z"
   },
   {
    "duration": 50,
    "start_time": "2022-01-27T02:58:16.863Z"
   },
   {
    "duration": 11,
    "start_time": "2022-01-27T02:58:16.916Z"
   },
   {
    "duration": 59,
    "start_time": "2022-01-27T02:58:16.931Z"
   },
   {
    "duration": 36,
    "start_time": "2022-01-27T02:58:16.993Z"
   },
   {
    "duration": 38,
    "start_time": "2022-01-27T02:58:17.031Z"
   },
   {
    "duration": 14,
    "start_time": "2022-01-27T02:58:17.072Z"
   },
   {
    "duration": 15,
    "start_time": "2022-01-27T02:58:17.088Z"
   },
   {
    "duration": 83,
    "start_time": "2022-01-27T02:58:17.105Z"
   },
   {
    "duration": 47,
    "start_time": "2022-01-27T02:58:17.191Z"
   },
   {
    "duration": 7,
    "start_time": "2022-01-27T02:58:17.259Z"
   },
   {
    "duration": 15,
    "start_time": "2022-01-27T02:58:17.268Z"
   },
   {
    "duration": 9,
    "start_time": "2022-01-27T02:58:17.285Z"
   },
   {
    "duration": 10,
    "start_time": "2022-01-27T02:58:17.296Z"
   },
   {
    "duration": 53,
    "start_time": "2022-01-27T02:58:17.308Z"
   },
   {
    "duration": 22,
    "start_time": "2022-01-27T02:58:17.363Z"
   },
   {
    "duration": 4,
    "start_time": "2022-01-27T02:58:17.387Z"
   },
   {
    "duration": 14,
    "start_time": "2022-01-27T02:58:17.393Z"
   },
   {
    "duration": 347,
    "start_time": "2022-01-27T02:58:17.415Z"
   },
   {
    "duration": 7,
    "start_time": "2022-01-27T02:58:17.766Z"
   },
   {
    "duration": 5,
    "start_time": "2022-01-27T02:58:17.775Z"
   },
   {
    "duration": 6,
    "start_time": "2022-01-27T02:58:17.782Z"
   },
   {
    "duration": 8,
    "start_time": "2022-01-27T02:58:17.791Z"
   },
   {
    "duration": 11,
    "start_time": "2022-01-27T02:58:17.801Z"
   },
   {
    "duration": 5,
    "start_time": "2022-01-27T02:58:17.860Z"
   },
   {
    "duration": 11,
    "start_time": "2022-01-27T02:58:17.868Z"
   },
   {
    "duration": 9,
    "start_time": "2022-01-27T02:58:17.881Z"
   },
   {
    "duration": 10,
    "start_time": "2022-01-27T02:58:17.892Z"
   },
   {
    "duration": 60,
    "start_time": "2022-01-27T02:58:17.905Z"
   },
   {
    "duration": 9,
    "start_time": "2022-01-27T02:58:17.968Z"
   },
   {
    "duration": 12,
    "start_time": "2022-01-27T02:58:17.980Z"
   },
   {
    "duration": 3,
    "start_time": "2022-01-27T02:58:17.995Z"
   },
   {
    "duration": 12,
    "start_time": "2022-01-27T02:58:18.001Z"
   },
   {
    "duration": 11,
    "start_time": "2022-01-27T02:58:18.061Z"
   },
   {
    "duration": 13,
    "start_time": "2022-01-27T02:58:18.075Z"
   },
   {
    "duration": 10,
    "start_time": "2022-01-27T02:58:18.091Z"
   },
   {
    "duration": 57,
    "start_time": "2022-01-27T02:58:18.104Z"
   },
   {
    "duration": 23,
    "start_time": "2022-01-27T02:58:18.164Z"
   },
   {
    "duration": 26,
    "start_time": "2022-01-27T02:58:18.190Z"
   },
   {
    "duration": 59,
    "start_time": "2022-01-27T02:58:18.218Z"
   },
   {
    "duration": 6,
    "start_time": "2022-01-27T02:58:18.280Z"
   },
   {
    "duration": 21,
    "start_time": "2022-01-27T02:58:18.289Z"
   },
   {
    "duration": 60,
    "start_time": "2022-01-27T02:58:18.313Z"
   },
   {
    "duration": 19,
    "start_time": "2022-01-27T02:58:18.376Z"
   },
   {
    "duration": 76,
    "start_time": "2022-01-27T02:58:18.399Z"
   },
   {
    "duration": 5,
    "start_time": "2022-01-27T02:58:18.478Z"
   },
   {
    "duration": 7,
    "start_time": "2022-01-27T02:58:18.486Z"
   },
   {
    "duration": 22,
    "start_time": "2022-01-27T02:58:18.496Z"
   },
   {
    "duration": 41,
    "start_time": "2022-01-27T02:58:18.520Z"
   },
   {
    "duration": 24,
    "start_time": "2022-01-27T02:58:18.564Z"
   },
   {
    "duration": 26,
    "start_time": "2022-01-27T02:58:18.591Z"
   },
   {
    "duration": 44,
    "start_time": "2022-01-27T02:58:18.620Z"
   },
   {
    "duration": 11,
    "start_time": "2022-01-27T02:58:18.667Z"
   },
   {
    "duration": 1221,
    "start_time": "2022-01-27T02:58:18.681Z"
   },
   {
    "duration": 8,
    "start_time": "2022-01-27T02:58:19.905Z"
   },
   {
    "duration": 13,
    "start_time": "2022-01-27T02:58:19.916Z"
   },
   {
    "duration": 199,
    "start_time": "2022-01-27T02:58:19.960Z"
   },
   {
    "duration": 16,
    "start_time": "2022-01-27T02:58:20.162Z"
   },
   {
    "duration": 48,
    "start_time": "2022-01-27T02:58:20.181Z"
   },
   {
    "duration": 9,
    "start_time": "2022-01-27T02:58:20.261Z"
   },
   {
    "duration": 12,
    "start_time": "2022-01-27T02:58:20.273Z"
   },
   {
    "duration": 252,
    "start_time": "2022-01-27T02:58:20.288Z"
   },
   {
    "duration": 7,
    "start_time": "2022-01-27T02:58:20.543Z"
   },
   {
    "duration": 223,
    "start_time": "2022-01-27T02:58:20.568Z"
   },
   {
    "duration": 15,
    "start_time": "2022-01-27T02:58:20.795Z"
   },
   {
    "duration": 6,
    "start_time": "2022-01-27T02:58:20.813Z"
   },
   {
    "duration": 49,
    "start_time": "2022-01-27T02:58:20.822Z"
   },
   {
    "duration": 63,
    "start_time": "2022-01-27T02:58:20.873Z"
   },
   {
    "duration": 30,
    "start_time": "2022-01-27T02:58:20.939Z"
   },
   {
    "duration": 6,
    "start_time": "2022-01-27T02:58:20.971Z"
   },
   {
    "duration": 9,
    "start_time": "2022-01-27T02:58:20.980Z"
   },
   {
    "duration": 615,
    "start_time": "2022-01-27T02:58:20.991Z"
   },
   {
    "duration": 8,
    "start_time": "2022-01-27T02:58:21.608Z"
   },
   {
    "duration": 41,
    "start_time": "2022-01-27T02:58:21.619Z"
   },
   {
    "duration": 3,
    "start_time": "2022-01-27T02:58:21.663Z"
   },
   {
    "duration": 9,
    "start_time": "2022-01-27T02:58:21.668Z"
   },
   {
    "duration": 20,
    "start_time": "2022-01-27T02:58:21.679Z"
   },
   {
    "duration": 15,
    "start_time": "2022-01-27T02:58:21.702Z"
   },
   {
    "duration": 24,
    "start_time": "2022-01-27T02:58:21.760Z"
   },
   {
    "duration": 120,
    "start_time": "2022-01-27T03:12:42.556Z"
   },
   {
    "duration": 54,
    "start_time": "2022-01-27T03:23:45.647Z"
   }
  ],
  "kernelspec": {
   "display_name": "Python 3 (ipykernel)",
   "language": "python",
   "name": "python3"
  },
  "language_info": {
   "codemirror_mode": {
    "name": "ipython",
    "version": 3
   },
   "file_extension": ".py",
   "mimetype": "text/x-python",
   "name": "python",
   "nbconvert_exporter": "python",
   "pygments_lexer": "ipython3",
   "version": "3.9.7"
  },
  "toc": {
   "base_numbering": 1,
   "nav_menu": {},
   "number_sections": true,
   "sideBar": true,
   "skip_h1_title": true,
   "title_cell": "Table of Contents",
   "title_sidebar": "Contents",
   "toc_cell": false,
   "toc_position": {
    "height": "calc(100% - 180px)",
    "left": "10px",
    "top": "150px",
    "width": "165px"
   },
   "toc_section_display": true,
   "toc_window_display": false
  }
 },
 "nbformat": 4,
 "nbformat_minor": 2
}
