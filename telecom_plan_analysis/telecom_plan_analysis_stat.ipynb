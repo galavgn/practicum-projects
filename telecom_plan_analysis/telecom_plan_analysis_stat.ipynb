{
 "cells": [
  {
   "cell_type": "markdown",
   "metadata": {},
   "source": [
    "# Which one is a better plan?\n",
    "\n",
    "We are analyzing  the telecom operator Megaline. The company offers its clients two prepaid plans, Surf and Ultimate. The commercial department wants to know which of the plans brings in more revenue in order to adjust the advertising budget.\n",
    "\n",
    "We are going to carry out a preliminary analysis of the plans based on a relatively small client selection. We'll have the data on 500 Megaline clients: who the clients are, where they're from, which plan they use, and the number of calls they made and text messages they sent in 2018. We analyze the clients' behavior and determine which prepaid plan brings in more revenue."
   ]
  },
  {
   "cell_type": "markdown",
   "metadata": {},
   "source": [
    "## Goal:\n",
    "Test two hypotheses:\n",
    "\n",
    "1. Test statistical hypotheses Ultimate and Surf calling plans\n",
    "2. Test statistical hypotheses NY-NJ area and the users from other regions\n"
   ]
  },
  {
   "cell_type": "markdown",
   "metadata": {},
   "source": [
    "## Plan:\n",
    "1. Colecting the data\n",
    "2. Prepare the data and exploring the data\n",
    "3. Aggregate data per user\n",
    "4. Study user behaviour\n",
    "5. Test statistical hypotheses\n",
    "6. General conclusion"
   ]
  },
  {
   "cell_type": "markdown",
   "metadata": {},
   "source": [
    "# Initialization"
   ]
  },
  {
   "cell_type": "code",
   "execution_count": 2,
   "metadata": {},
   "outputs": [],
   "source": [
    "# Loading all the libraries\n",
    "import pandas as pd\n",
    "import scipy as sp\n",
    "import matplotlib.pyplot as plt\n",
    "import seaborn as sns\n",
    "import numpy as np"
   ]
  },
  {
   "cell_type": "markdown",
   "metadata": {},
   "source": [
    "## Load data"
   ]
  },
  {
   "cell_type": "code",
   "execution_count": 3,
   "metadata": {},
   "outputs": [],
   "source": [
    "# Colecting data\n",
    "\n",
    "df_calls = pd.read_csv(\"/datasets/megaline_calls.csv\")\n",
    "df_internet = pd.read_csv(\"/datasets/megaline_internet.csv\")\n",
    "df_messages = pd.read_csv(\"/datasets/megaline_messages.csv\")\n",
    "df_plans =pd.read_csv(\"/datasets/megaline_plans.csv\")\n",
    "df_users = pd.read_csv(\"/datasets/megaline_users.csv\")"
   ]
  },
  {
   "cell_type": "markdown",
   "metadata": {},
   "source": [
    "# Prepare the data"
   ]
  },
  {
   "cell_type": "markdown",
   "metadata": {},
   "source": [
    "The data for this project is split into several tables.Let's explore each one to get an initial understanding of the data and do necessary corrections to each table if necessary."
   ]
  },
  {
   "cell_type": "markdown",
   "metadata": {},
   "source": [
    "## Plans"
   ]
  },
  {
   "cell_type": "code",
   "execution_count": 3,
   "metadata": {},
   "outputs": [
    {
     "name": "stdout",
     "output_type": "stream",
     "text": [
      "<class 'pandas.core.frame.DataFrame'>\n",
      "RangeIndex: 2 entries, 0 to 1\n",
      "Data columns (total 8 columns):\n",
      "messages_included        2 non-null int64\n",
      "mb_per_month_included    2 non-null int64\n",
      "minutes_included         2 non-null int64\n",
      "usd_monthly_pay          2 non-null int64\n",
      "usd_per_gb               2 non-null int64\n",
      "usd_per_message          2 non-null float64\n",
      "usd_per_minute           2 non-null float64\n",
      "plan_name                2 non-null object\n",
      "dtypes: float64(2), int64(5), object(1)\n",
      "memory usage: 256.0+ bytes\n"
     ]
    }
   ],
   "source": [
    "# Print the general/summary information about the plans' DataFrame\n",
    "df_plans.info()"
   ]
  },
  {
   "cell_type": "code",
   "execution_count": 4,
   "metadata": {
    "scrolled": false
   },
   "outputs": [
    {
     "data": {
      "text/html": [
       "<div>\n",
       "<style scoped>\n",
       "    .dataframe tbody tr th:only-of-type {\n",
       "        vertical-align: middle;\n",
       "    }\n",
       "\n",
       "    .dataframe tbody tr th {\n",
       "        vertical-align: top;\n",
       "    }\n",
       "\n",
       "    .dataframe thead th {\n",
       "        text-align: right;\n",
       "    }\n",
       "</style>\n",
       "<table border=\"1\" class=\"dataframe\">\n",
       "  <thead>\n",
       "    <tr style=\"text-align: right;\">\n",
       "      <th></th>\n",
       "      <th>messages_included</th>\n",
       "      <th>mb_per_month_included</th>\n",
       "      <th>minutes_included</th>\n",
       "      <th>usd_monthly_pay</th>\n",
       "      <th>usd_per_gb</th>\n",
       "      <th>usd_per_message</th>\n",
       "      <th>usd_per_minute</th>\n",
       "      <th>plan_name</th>\n",
       "    </tr>\n",
       "  </thead>\n",
       "  <tbody>\n",
       "    <tr>\n",
       "      <td>0</td>\n",
       "      <td>50</td>\n",
       "      <td>15360</td>\n",
       "      <td>500</td>\n",
       "      <td>20</td>\n",
       "      <td>10</td>\n",
       "      <td>0.03</td>\n",
       "      <td>0.03</td>\n",
       "      <td>surf</td>\n",
       "    </tr>\n",
       "    <tr>\n",
       "      <td>1</td>\n",
       "      <td>1000</td>\n",
       "      <td>30720</td>\n",
       "      <td>3000</td>\n",
       "      <td>70</td>\n",
       "      <td>7</td>\n",
       "      <td>0.01</td>\n",
       "      <td>0.01</td>\n",
       "      <td>ultimate</td>\n",
       "    </tr>\n",
       "  </tbody>\n",
       "</table>\n",
       "</div>"
      ],
      "text/plain": [
       "   messages_included  mb_per_month_included  minutes_included  \\\n",
       "0                 50                  15360               500   \n",
       "1               1000                  30720              3000   \n",
       "\n",
       "   usd_monthly_pay  usd_per_gb  usd_per_message  usd_per_minute plan_name  \n",
       "0               20          10             0.03            0.03      surf  \n",
       "1               70           7             0.01            0.01  ultimate  "
      ]
     },
     "execution_count": 4,
     "metadata": {},
     "output_type": "execute_result"
    }
   ],
   "source": [
    "# Print a sample of data for plans\n",
    "df_plans.head()"
   ]
  },
  {
   "cell_type": "markdown",
   "metadata": {},
   "source": [
    "Describe what we see and notice in the general information and the printed data sample for the above price of data.\n",
    "\n",
    "Are there any issues (inappropriate data types, missing data etc) that may need further investigation and changes?\n",
    "\n",
    "How that can be fixed?\n",
    "\n",
    "- The Dataset have 2 entries which is represented 2 plan surf and ultimate.\n",
    "- There is no missing values and inappropriate data types "
   ]
  },
  {
   "cell_type": "markdown",
   "metadata": {},
   "source": [
    "## Users"
   ]
  },
  {
   "cell_type": "code",
   "execution_count": 5,
   "metadata": {
    "scrolled": true
   },
   "outputs": [
    {
     "name": "stdout",
     "output_type": "stream",
     "text": [
      "<class 'pandas.core.frame.DataFrame'>\n",
      "RangeIndex: 500 entries, 0 to 499\n",
      "Data columns (total 8 columns):\n",
      "user_id       500 non-null int64\n",
      "first_name    500 non-null object\n",
      "last_name     500 non-null object\n",
      "age           500 non-null int64\n",
      "city          500 non-null object\n",
      "reg_date      500 non-null object\n",
      "plan          500 non-null object\n",
      "churn_date    34 non-null object\n",
      "dtypes: int64(2), object(6)\n",
      "memory usage: 31.4+ KB\n"
     ]
    }
   ],
   "source": [
    "# Print the general/summary information about the users' DataFrame\n",
    "df_users.info()"
   ]
  },
  {
   "cell_type": "code",
   "execution_count": 6,
   "metadata": {},
   "outputs": [
    {
     "data": {
      "text/html": [
       "<div>\n",
       "<style scoped>\n",
       "    .dataframe tbody tr th:only-of-type {\n",
       "        vertical-align: middle;\n",
       "    }\n",
       "\n",
       "    .dataframe tbody tr th {\n",
       "        vertical-align: top;\n",
       "    }\n",
       "\n",
       "    .dataframe thead th {\n",
       "        text-align: right;\n",
       "    }\n",
       "</style>\n",
       "<table border=\"1\" class=\"dataframe\">\n",
       "  <thead>\n",
       "    <tr style=\"text-align: right;\">\n",
       "      <th></th>\n",
       "      <th>user_id</th>\n",
       "      <th>first_name</th>\n",
       "      <th>last_name</th>\n",
       "      <th>age</th>\n",
       "      <th>city</th>\n",
       "      <th>reg_date</th>\n",
       "      <th>plan</th>\n",
       "      <th>churn_date</th>\n",
       "    </tr>\n",
       "  </thead>\n",
       "  <tbody>\n",
       "    <tr>\n",
       "      <td>0</td>\n",
       "      <td>1000</td>\n",
       "      <td>Anamaria</td>\n",
       "      <td>Bauer</td>\n",
       "      <td>45</td>\n",
       "      <td>Atlanta-Sandy Springs-Roswell, GA MSA</td>\n",
       "      <td>2018-12-24</td>\n",
       "      <td>ultimate</td>\n",
       "      <td>NaN</td>\n",
       "    </tr>\n",
       "    <tr>\n",
       "      <td>1</td>\n",
       "      <td>1001</td>\n",
       "      <td>Mickey</td>\n",
       "      <td>Wilkerson</td>\n",
       "      <td>28</td>\n",
       "      <td>Seattle-Tacoma-Bellevue, WA MSA</td>\n",
       "      <td>2018-08-13</td>\n",
       "      <td>surf</td>\n",
       "      <td>NaN</td>\n",
       "    </tr>\n",
       "    <tr>\n",
       "      <td>2</td>\n",
       "      <td>1002</td>\n",
       "      <td>Carlee</td>\n",
       "      <td>Hoffman</td>\n",
       "      <td>36</td>\n",
       "      <td>Las Vegas-Henderson-Paradise, NV MSA</td>\n",
       "      <td>2018-10-21</td>\n",
       "      <td>surf</td>\n",
       "      <td>NaN</td>\n",
       "    </tr>\n",
       "    <tr>\n",
       "      <td>3</td>\n",
       "      <td>1003</td>\n",
       "      <td>Reynaldo</td>\n",
       "      <td>Jenkins</td>\n",
       "      <td>52</td>\n",
       "      <td>Tulsa, OK MSA</td>\n",
       "      <td>2018-01-28</td>\n",
       "      <td>surf</td>\n",
       "      <td>NaN</td>\n",
       "    </tr>\n",
       "    <tr>\n",
       "      <td>4</td>\n",
       "      <td>1004</td>\n",
       "      <td>Leonila</td>\n",
       "      <td>Thompson</td>\n",
       "      <td>40</td>\n",
       "      <td>Seattle-Tacoma-Bellevue, WA MSA</td>\n",
       "      <td>2018-05-23</td>\n",
       "      <td>surf</td>\n",
       "      <td>NaN</td>\n",
       "    </tr>\n",
       "  </tbody>\n",
       "</table>\n",
       "</div>"
      ],
      "text/plain": [
       "   user_id first_name  last_name  age                                   city  \\\n",
       "0     1000   Anamaria      Bauer   45  Atlanta-Sandy Springs-Roswell, GA MSA   \n",
       "1     1001     Mickey  Wilkerson   28        Seattle-Tacoma-Bellevue, WA MSA   \n",
       "2     1002     Carlee    Hoffman   36   Las Vegas-Henderson-Paradise, NV MSA   \n",
       "3     1003   Reynaldo    Jenkins   52                          Tulsa, OK MSA   \n",
       "4     1004    Leonila   Thompson   40        Seattle-Tacoma-Bellevue, WA MSA   \n",
       "\n",
       "     reg_date      plan churn_date  \n",
       "0  2018-12-24  ultimate        NaN  \n",
       "1  2018-08-13      surf        NaN  \n",
       "2  2018-10-21      surf        NaN  \n",
       "3  2018-01-28      surf        NaN  \n",
       "4  2018-05-23      surf        NaN  "
      ]
     },
     "execution_count": 6,
     "metadata": {},
     "output_type": "execute_result"
    }
   ],
   "source": [
    "# Print a sample of data for users\n",
    "df_users.head()"
   ]
  },
  {
   "cell_type": "markdown",
   "metadata": {},
   "source": [
    "\n",
    "- Dataset have missing values in column 'churn_data' represented by NaN and will be replaced based on documentation\n",
    "-  Data in column 'reg_date'is object which is will be convert to Timestamp"
   ]
  },
  {
   "cell_type": "code",
   "execution_count": 7,
   "metadata": {},
   "outputs": [
    {
     "data": {
      "text/plain": [
       "churn_date    93.2\n",
       "dtype: float64"
      ]
     },
     "execution_count": 7,
     "metadata": {},
     "output_type": "execute_result"
    }
   ],
   "source": [
    " # Percentage of missing values\n",
    "missing_values=df_users.isnull().sum()\n",
    "missing_values[missing_values>0]/len(df_users)*100"
   ]
  },
  {
   "cell_type": "markdown",
   "metadata": {},
   "source": [
    "### Fix Data"
   ]
  },
  {
   "cell_type": "markdown",
   "metadata": {},
   "source": [
    "Fixing obvious issues with the data given the initial observations"
   ]
  },
  {
   "cell_type": "code",
   "execution_count": 8,
   "metadata": {},
   "outputs": [],
   "source": [
    "# Convert to Timestamps column 'reg_date'\n",
    "df_users['reg_date'] = pd.to_datetime(df_users['reg_date'],format ='%Y-%m-%d' )"
   ]
  },
  {
   "cell_type": "code",
   "execution_count": 9,
   "metadata": {},
   "outputs": [
    {
     "data": {
      "text/plain": [
       "pandas._libs.tslibs.timestamps.Timestamp"
      ]
     },
     "execution_count": 9,
     "metadata": {},
     "output_type": "execute_result"
    }
   ],
   "source": [
    "# Check it if works\n",
    "type(df_users.reg_date[0])"
   ]
  },
  {
   "cell_type": "code",
   "execution_count": 10,
   "metadata": {},
   "outputs": [],
   "source": [
    "# Convert to Timestamps\n",
    "#df_users['churn_date'] = pd.to_datetime(df_users['churn_date'],format ='%Y-%m-%d' )"
   ]
  },
  {
   "cell_type": "code",
   "execution_count": 11,
   "metadata": {
    "scrolled": true
   },
   "outputs": [
    {
     "data": {
      "text/html": [
       "<div>\n",
       "<style scoped>\n",
       "    .dataframe tbody tr th:only-of-type {\n",
       "        vertical-align: middle;\n",
       "    }\n",
       "\n",
       "    .dataframe tbody tr th {\n",
       "        vertical-align: top;\n",
       "    }\n",
       "\n",
       "    .dataframe thead th {\n",
       "        text-align: right;\n",
       "    }\n",
       "</style>\n",
       "<table border=\"1\" class=\"dataframe\">\n",
       "  <thead>\n",
       "    <tr style=\"text-align: right;\">\n",
       "      <th></th>\n",
       "      <th>user_id</th>\n",
       "      <th>first_name</th>\n",
       "      <th>last_name</th>\n",
       "      <th>age</th>\n",
       "      <th>city</th>\n",
       "      <th>reg_date</th>\n",
       "      <th>plan</th>\n",
       "      <th>churn_date</th>\n",
       "    </tr>\n",
       "  </thead>\n",
       "  <tbody>\n",
       "    <tr>\n",
       "      <td>54</td>\n",
       "      <td>1054</td>\n",
       "      <td>Denis</td>\n",
       "      <td>Frost</td>\n",
       "      <td>50</td>\n",
       "      <td>Phoenix-Mesa-Chandler, AZ MSA</td>\n",
       "      <td>2018-04-21</td>\n",
       "      <td>surf</td>\n",
       "      <td>2018-12-31</td>\n",
       "    </tr>\n",
       "    <tr>\n",
       "      <td>186</td>\n",
       "      <td>1186</td>\n",
       "      <td>Josiah</td>\n",
       "      <td>Douglas</td>\n",
       "      <td>55</td>\n",
       "      <td>Las Vegas-Henderson-Paradise, NV MSA</td>\n",
       "      <td>2018-12-22</td>\n",
       "      <td>ultimate</td>\n",
       "      <td>2018-12-31</td>\n",
       "    </tr>\n",
       "    <tr>\n",
       "      <td>40</td>\n",
       "      <td>1040</td>\n",
       "      <td>Paris</td>\n",
       "      <td>Santos</td>\n",
       "      <td>72</td>\n",
       "      <td>Philadelphia-Camden-Wilmington, PA-NJ-DE-MD MSA</td>\n",
       "      <td>2018-12-23</td>\n",
       "      <td>surf</td>\n",
       "      <td>2018-12-30</td>\n",
       "    </tr>\n",
       "    <tr>\n",
       "      <td>129</td>\n",
       "      <td>1129</td>\n",
       "      <td>Marin</td>\n",
       "      <td>Bolton</td>\n",
       "      <td>70</td>\n",
       "      <td>Baton Rouge, LA MSA</td>\n",
       "      <td>2018-11-10</td>\n",
       "      <td>surf</td>\n",
       "      <td>2018-12-27</td>\n",
       "    </tr>\n",
       "    <tr>\n",
       "      <td>402</td>\n",
       "      <td>1402</td>\n",
       "      <td>Jesus</td>\n",
       "      <td>Berry</td>\n",
       "      <td>25</td>\n",
       "      <td>New York-Newark-Jersey City, NY-NJ-PA MSA</td>\n",
       "      <td>2018-06-11</td>\n",
       "      <td>surf</td>\n",
       "      <td>2018-12-26</td>\n",
       "    </tr>\n",
       "    <tr>\n",
       "      <td>...</td>\n",
       "      <td>...</td>\n",
       "      <td>...</td>\n",
       "      <td>...</td>\n",
       "      <td>...</td>\n",
       "      <td>...</td>\n",
       "      <td>...</td>\n",
       "      <td>...</td>\n",
       "      <td>...</td>\n",
       "    </tr>\n",
       "    <tr>\n",
       "      <td>495</td>\n",
       "      <td>1495</td>\n",
       "      <td>Fidel</td>\n",
       "      <td>Sharpe</td>\n",
       "      <td>67</td>\n",
       "      <td>New York-Newark-Jersey City, NY-NJ-PA MSA</td>\n",
       "      <td>2018-09-04</td>\n",
       "      <td>surf</td>\n",
       "      <td>NaN</td>\n",
       "    </tr>\n",
       "    <tr>\n",
       "      <td>496</td>\n",
       "      <td>1496</td>\n",
       "      <td>Ariel</td>\n",
       "      <td>Shepherd</td>\n",
       "      <td>49</td>\n",
       "      <td>New Orleans-Metairie, LA MSA</td>\n",
       "      <td>2018-02-20</td>\n",
       "      <td>surf</td>\n",
       "      <td>NaN</td>\n",
       "    </tr>\n",
       "    <tr>\n",
       "      <td>497</td>\n",
       "      <td>1497</td>\n",
       "      <td>Donte</td>\n",
       "      <td>Barrera</td>\n",
       "      <td>49</td>\n",
       "      <td>Los Angeles-Long Beach-Anaheim, CA MSA</td>\n",
       "      <td>2018-12-10</td>\n",
       "      <td>ultimate</td>\n",
       "      <td>NaN</td>\n",
       "    </tr>\n",
       "    <tr>\n",
       "      <td>498</td>\n",
       "      <td>1498</td>\n",
       "      <td>Scot</td>\n",
       "      <td>Williamson</td>\n",
       "      <td>51</td>\n",
       "      <td>New York-Newark-Jersey City, NY-NJ-PA MSA</td>\n",
       "      <td>2018-02-04</td>\n",
       "      <td>surf</td>\n",
       "      <td>NaN</td>\n",
       "    </tr>\n",
       "    <tr>\n",
       "      <td>499</td>\n",
       "      <td>1499</td>\n",
       "      <td>Shena</td>\n",
       "      <td>Dickson</td>\n",
       "      <td>37</td>\n",
       "      <td>Orlando-Kissimmee-Sanford, FL MSA</td>\n",
       "      <td>2018-05-06</td>\n",
       "      <td>surf</td>\n",
       "      <td>NaN</td>\n",
       "    </tr>\n",
       "  </tbody>\n",
       "</table>\n",
       "<p>500 rows × 8 columns</p>\n",
       "</div>"
      ],
      "text/plain": [
       "     user_id first_name   last_name  age  \\\n",
       "54      1054      Denis       Frost   50   \n",
       "186     1186     Josiah     Douglas   55   \n",
       "40      1040      Paris      Santos   72   \n",
       "129     1129      Marin      Bolton   70   \n",
       "402     1402      Jesus       Berry   25   \n",
       "..       ...        ...         ...  ...   \n",
       "495     1495      Fidel      Sharpe   67   \n",
       "496     1496      Ariel    Shepherd   49   \n",
       "497     1497      Donte     Barrera   49   \n",
       "498     1498       Scot  Williamson   51   \n",
       "499     1499      Shena     Dickson   37   \n",
       "\n",
       "                                                city   reg_date      plan  \\\n",
       "54                     Phoenix-Mesa-Chandler, AZ MSA 2018-04-21      surf   \n",
       "186             Las Vegas-Henderson-Paradise, NV MSA 2018-12-22  ultimate   \n",
       "40   Philadelphia-Camden-Wilmington, PA-NJ-DE-MD MSA 2018-12-23      surf   \n",
       "129                              Baton Rouge, LA MSA 2018-11-10      surf   \n",
       "402        New York-Newark-Jersey City, NY-NJ-PA MSA 2018-06-11      surf   \n",
       "..                                               ...        ...       ...   \n",
       "495        New York-Newark-Jersey City, NY-NJ-PA MSA 2018-09-04      surf   \n",
       "496                     New Orleans-Metairie, LA MSA 2018-02-20      surf   \n",
       "497           Los Angeles-Long Beach-Anaheim, CA MSA 2018-12-10  ultimate   \n",
       "498        New York-Newark-Jersey City, NY-NJ-PA MSA 2018-02-04      surf   \n",
       "499                Orlando-Kissimmee-Sanford, FL MSA 2018-05-06      surf   \n",
       "\n",
       "     churn_date  \n",
       "54   2018-12-31  \n",
       "186  2018-12-31  \n",
       "40   2018-12-30  \n",
       "129  2018-12-27  \n",
       "402  2018-12-26  \n",
       "..          ...  \n",
       "495         NaN  \n",
       "496         NaN  \n",
       "497         NaN  \n",
       "498         NaN  \n",
       "499         NaN  \n",
       "\n",
       "[500 rows x 8 columns]"
      ]
     },
     "execution_count": 11,
     "metadata": {},
     "output_type": "execute_result"
    }
   ],
   "source": [
    "df_users = df_users.sort_values(by= ['churn_date'], ascending = False)\n",
    "df_users"
   ]
  },
  {
   "cell_type": "code",
   "execution_count": 12,
   "metadata": {},
   "outputs": [],
   "source": [
    "# Replace missing values based on identified parameter\n",
    "df_users['churn_date'].fillna('0', inplace=True)"
   ]
  },
  {
   "cell_type": "code",
   "execution_count": 13,
   "metadata": {},
   "outputs": [
    {
     "data": {
      "text/plain": [
       "user_id       0\n",
       "first_name    0\n",
       "last_name     0\n",
       "age           0\n",
       "city          0\n",
       "reg_date      0\n",
       "plan          0\n",
       "churn_date    0\n",
       "dtype: int64"
      ]
     },
     "execution_count": 13,
     "metadata": {},
     "output_type": "execute_result"
    }
   ],
   "source": [
    "# Lets check it again\n",
    "df_users.isnull().sum()"
   ]
  },
  {
   "cell_type": "markdown",
   "metadata": {},
   "source": []
  },
  {
   "cell_type": "markdown",
   "metadata": {},
   "source": [
    "### Enrich Data"
   ]
  },
  {
   "cell_type": "markdown",
   "metadata": {},
   "source": [
    "Adding additional factors to the data if you believe they might be useful"
   ]
  },
  {
   "cell_type": "code",
   "execution_count": 14,
   "metadata": {},
   "outputs": [
    {
     "data": {
      "text/html": [
       "<div>\n",
       "<style scoped>\n",
       "    .dataframe tbody tr th:only-of-type {\n",
       "        vertical-align: middle;\n",
       "    }\n",
       "\n",
       "    .dataframe tbody tr th {\n",
       "        vertical-align: top;\n",
       "    }\n",
       "\n",
       "    .dataframe thead th {\n",
       "        text-align: right;\n",
       "    }\n",
       "</style>\n",
       "<table border=\"1\" class=\"dataframe\">\n",
       "  <thead>\n",
       "    <tr style=\"text-align: right;\">\n",
       "      <th></th>\n",
       "      <th>user_id</th>\n",
       "      <th>first_name</th>\n",
       "      <th>last_name</th>\n",
       "      <th>age</th>\n",
       "      <th>city</th>\n",
       "      <th>reg_date</th>\n",
       "      <th>plan</th>\n",
       "      <th>churn_date</th>\n",
       "    </tr>\n",
       "  </thead>\n",
       "  <tbody>\n",
       "    <tr>\n",
       "      <td>54</td>\n",
       "      <td>1054</td>\n",
       "      <td>Denis</td>\n",
       "      <td>Frost</td>\n",
       "      <td>50</td>\n",
       "      <td>Phoenix-Mesa-Chandler, AZ MSA</td>\n",
       "      <td>2018-04-21</td>\n",
       "      <td>surf</td>\n",
       "      <td>2018-12-31</td>\n",
       "    </tr>\n",
       "    <tr>\n",
       "      <td>186</td>\n",
       "      <td>1186</td>\n",
       "      <td>Josiah</td>\n",
       "      <td>Douglas</td>\n",
       "      <td>55</td>\n",
       "      <td>Las Vegas-Henderson-Paradise, NV MSA</td>\n",
       "      <td>2018-12-22</td>\n",
       "      <td>ultimate</td>\n",
       "      <td>2018-12-31</td>\n",
       "    </tr>\n",
       "    <tr>\n",
       "      <td>40</td>\n",
       "      <td>1040</td>\n",
       "      <td>Paris</td>\n",
       "      <td>Santos</td>\n",
       "      <td>72</td>\n",
       "      <td>Philadelphia-Camden-Wilmington, PA-NJ-DE-MD MSA</td>\n",
       "      <td>2018-12-23</td>\n",
       "      <td>surf</td>\n",
       "      <td>2018-12-30</td>\n",
       "    </tr>\n",
       "    <tr>\n",
       "      <td>129</td>\n",
       "      <td>1129</td>\n",
       "      <td>Marin</td>\n",
       "      <td>Bolton</td>\n",
       "      <td>70</td>\n",
       "      <td>Baton Rouge, LA MSA</td>\n",
       "      <td>2018-11-10</td>\n",
       "      <td>surf</td>\n",
       "      <td>2018-12-27</td>\n",
       "    </tr>\n",
       "    <tr>\n",
       "      <td>402</td>\n",
       "      <td>1402</td>\n",
       "      <td>Jesus</td>\n",
       "      <td>Berry</td>\n",
       "      <td>25</td>\n",
       "      <td>New York-Newark-Jersey City, NY-NJ-PA MSA</td>\n",
       "      <td>2018-06-11</td>\n",
       "      <td>surf</td>\n",
       "      <td>2018-12-26</td>\n",
       "    </tr>\n",
       "    <tr>\n",
       "      <td>...</td>\n",
       "      <td>...</td>\n",
       "      <td>...</td>\n",
       "      <td>...</td>\n",
       "      <td>...</td>\n",
       "      <td>...</td>\n",
       "      <td>...</td>\n",
       "      <td>...</td>\n",
       "      <td>...</td>\n",
       "    </tr>\n",
       "    <tr>\n",
       "      <td>495</td>\n",
       "      <td>1495</td>\n",
       "      <td>Fidel</td>\n",
       "      <td>Sharpe</td>\n",
       "      <td>67</td>\n",
       "      <td>New York-Newark-Jersey City, NY-NJ-PA MSA</td>\n",
       "      <td>2018-09-04</td>\n",
       "      <td>surf</td>\n",
       "      <td>0</td>\n",
       "    </tr>\n",
       "    <tr>\n",
       "      <td>496</td>\n",
       "      <td>1496</td>\n",
       "      <td>Ariel</td>\n",
       "      <td>Shepherd</td>\n",
       "      <td>49</td>\n",
       "      <td>New Orleans-Metairie, LA MSA</td>\n",
       "      <td>2018-02-20</td>\n",
       "      <td>surf</td>\n",
       "      <td>0</td>\n",
       "    </tr>\n",
       "    <tr>\n",
       "      <td>497</td>\n",
       "      <td>1497</td>\n",
       "      <td>Donte</td>\n",
       "      <td>Barrera</td>\n",
       "      <td>49</td>\n",
       "      <td>Los Angeles-Long Beach-Anaheim, CA MSA</td>\n",
       "      <td>2018-12-10</td>\n",
       "      <td>ultimate</td>\n",
       "      <td>0</td>\n",
       "    </tr>\n",
       "    <tr>\n",
       "      <td>498</td>\n",
       "      <td>1498</td>\n",
       "      <td>Scot</td>\n",
       "      <td>Williamson</td>\n",
       "      <td>51</td>\n",
       "      <td>New York-Newark-Jersey City, NY-NJ-PA MSA</td>\n",
       "      <td>2018-02-04</td>\n",
       "      <td>surf</td>\n",
       "      <td>0</td>\n",
       "    </tr>\n",
       "    <tr>\n",
       "      <td>499</td>\n",
       "      <td>1499</td>\n",
       "      <td>Shena</td>\n",
       "      <td>Dickson</td>\n",
       "      <td>37</td>\n",
       "      <td>Orlando-Kissimmee-Sanford, FL MSA</td>\n",
       "      <td>2018-05-06</td>\n",
       "      <td>surf</td>\n",
       "      <td>0</td>\n",
       "    </tr>\n",
       "  </tbody>\n",
       "</table>\n",
       "<p>500 rows × 8 columns</p>\n",
       "</div>"
      ],
      "text/plain": [
       "     user_id first_name   last_name  age  \\\n",
       "54      1054      Denis       Frost   50   \n",
       "186     1186     Josiah     Douglas   55   \n",
       "40      1040      Paris      Santos   72   \n",
       "129     1129      Marin      Bolton   70   \n",
       "402     1402      Jesus       Berry   25   \n",
       "..       ...        ...         ...  ...   \n",
       "495     1495      Fidel      Sharpe   67   \n",
       "496     1496      Ariel    Shepherd   49   \n",
       "497     1497      Donte     Barrera   49   \n",
       "498     1498       Scot  Williamson   51   \n",
       "499     1499      Shena     Dickson   37   \n",
       "\n",
       "                                                city   reg_date      plan  \\\n",
       "54                     Phoenix-Mesa-Chandler, AZ MSA 2018-04-21      surf   \n",
       "186             Las Vegas-Henderson-Paradise, NV MSA 2018-12-22  ultimate   \n",
       "40   Philadelphia-Camden-Wilmington, PA-NJ-DE-MD MSA 2018-12-23      surf   \n",
       "129                              Baton Rouge, LA MSA 2018-11-10      surf   \n",
       "402        New York-Newark-Jersey City, NY-NJ-PA MSA 2018-06-11      surf   \n",
       "..                                               ...        ...       ...   \n",
       "495        New York-Newark-Jersey City, NY-NJ-PA MSA 2018-09-04      surf   \n",
       "496                     New Orleans-Metairie, LA MSA 2018-02-20      surf   \n",
       "497           Los Angeles-Long Beach-Anaheim, CA MSA 2018-12-10  ultimate   \n",
       "498        New York-Newark-Jersey City, NY-NJ-PA MSA 2018-02-04      surf   \n",
       "499                Orlando-Kissimmee-Sanford, FL MSA 2018-05-06      surf   \n",
       "\n",
       "     churn_date  \n",
       "54   2018-12-31  \n",
       "186  2018-12-31  \n",
       "40   2018-12-30  \n",
       "129  2018-12-27  \n",
       "402  2018-12-26  \n",
       "..          ...  \n",
       "495           0  \n",
       "496           0  \n",
       "497           0  \n",
       "498           0  \n",
       "499           0  \n",
       "\n",
       "[500 rows x 8 columns]"
      ]
     },
     "execution_count": 14,
     "metadata": {},
     "output_type": "execute_result"
    }
   ],
   "source": [
    "df_users"
   ]
  },
  {
   "cell_type": "markdown",
   "metadata": {},
   "source": [
    "## Calls"
   ]
  },
  {
   "cell_type": "code",
   "execution_count": 15,
   "metadata": {
    "scrolled": true
   },
   "outputs": [
    {
     "name": "stdout",
     "output_type": "stream",
     "text": [
      "<class 'pandas.core.frame.DataFrame'>\n",
      "RangeIndex: 137735 entries, 0 to 137734\n",
      "Data columns (total 4 columns):\n",
      "id           137735 non-null object\n",
      "user_id      137735 non-null int64\n",
      "call_date    137735 non-null object\n",
      "duration     137735 non-null float64\n",
      "dtypes: float64(1), int64(1), object(2)\n",
      "memory usage: 4.2+ MB\n"
     ]
    }
   ],
   "source": [
    "# Print the general/summary information about the calls' DataFrame\n",
    "\n",
    "df_calls.info()"
   ]
  },
  {
   "cell_type": "code",
   "execution_count": 16,
   "metadata": {},
   "outputs": [
    {
     "data": {
      "text/html": [
       "<div>\n",
       "<style scoped>\n",
       "    .dataframe tbody tr th:only-of-type {\n",
       "        vertical-align: middle;\n",
       "    }\n",
       "\n",
       "    .dataframe tbody tr th {\n",
       "        vertical-align: top;\n",
       "    }\n",
       "\n",
       "    .dataframe thead th {\n",
       "        text-align: right;\n",
       "    }\n",
       "</style>\n",
       "<table border=\"1\" class=\"dataframe\">\n",
       "  <thead>\n",
       "    <tr style=\"text-align: right;\">\n",
       "      <th></th>\n",
       "      <th>id</th>\n",
       "      <th>user_id</th>\n",
       "      <th>call_date</th>\n",
       "      <th>duration</th>\n",
       "    </tr>\n",
       "  </thead>\n",
       "  <tbody>\n",
       "    <tr>\n",
       "      <td>0</td>\n",
       "      <td>1000_93</td>\n",
       "      <td>1000</td>\n",
       "      <td>2018-12-27</td>\n",
       "      <td>8.52</td>\n",
       "    </tr>\n",
       "    <tr>\n",
       "      <td>1</td>\n",
       "      <td>1000_145</td>\n",
       "      <td>1000</td>\n",
       "      <td>2018-12-27</td>\n",
       "      <td>13.66</td>\n",
       "    </tr>\n",
       "    <tr>\n",
       "      <td>2</td>\n",
       "      <td>1000_247</td>\n",
       "      <td>1000</td>\n",
       "      <td>2018-12-27</td>\n",
       "      <td>14.48</td>\n",
       "    </tr>\n",
       "    <tr>\n",
       "      <td>3</td>\n",
       "      <td>1000_309</td>\n",
       "      <td>1000</td>\n",
       "      <td>2018-12-28</td>\n",
       "      <td>5.76</td>\n",
       "    </tr>\n",
       "    <tr>\n",
       "      <td>4</td>\n",
       "      <td>1000_380</td>\n",
       "      <td>1000</td>\n",
       "      <td>2018-12-30</td>\n",
       "      <td>4.22</td>\n",
       "    </tr>\n",
       "  </tbody>\n",
       "</table>\n",
       "</div>"
      ],
      "text/plain": [
       "         id  user_id   call_date  duration\n",
       "0   1000_93     1000  2018-12-27      8.52\n",
       "1  1000_145     1000  2018-12-27     13.66\n",
       "2  1000_247     1000  2018-12-27     14.48\n",
       "3  1000_309     1000  2018-12-28      5.76\n",
       "4  1000_380     1000  2018-12-30      4.22"
      ]
     },
     "execution_count": 16,
     "metadata": {},
     "output_type": "execute_result"
    }
   ],
   "source": [
    "# Print a sample of data for calls\n",
    "df_calls.head()"
   ]
  },
  {
   "cell_type": "markdown",
   "metadata": {},
   "source": [
    "Describe what we see and notice in the general information and the printed data sample for the above price of data. Are there any issues (inappropriate data types, missing data etc) that may need further investigation and changes? How that can be fixed?\n",
    "\n",
    "- The dataset have no missing values and inappropriate data types.\n",
    "- The data in column 'call_date' represent as object so it will be converted to Timestamp."
   ]
  },
  {
   "cell_type": "markdown",
   "metadata": {},
   "source": [
    " "
   ]
  },
  {
   "cell_type": "markdown",
   "metadata": {},
   "source": [
    "### Fix data"
   ]
  },
  {
   "cell_type": "markdown",
   "metadata": {},
   "source": [
    "Fix obvious issues with the data given the initial observations."
   ]
  },
  {
   "cell_type": "code",
   "execution_count": 17,
   "metadata": {},
   "outputs": [
    {
     "data": {
      "text/plain": [
       "str"
      ]
     },
     "execution_count": 17,
     "metadata": {},
     "output_type": "execute_result"
    }
   ],
   "source": [
    "#Lets check column'call_date'\n",
    "type(df_calls.call_date[0])"
   ]
  },
  {
   "cell_type": "code",
   "execution_count": 18,
   "metadata": {},
   "outputs": [
    {
     "data": {
      "text/plain": [
       "0    2018-12-27\n",
       "1    2018-12-27\n",
       "2    2018-12-27\n",
       "3    2018-12-28\n",
       "4    2018-12-30\n",
       "Name: call_date, dtype: object"
      ]
     },
     "execution_count": 18,
     "metadata": {},
     "output_type": "execute_result"
    }
   ],
   "source": [
    "df_calls['call_date'].head()"
   ]
  },
  {
   "cell_type": "code",
   "execution_count": 19,
   "metadata": {},
   "outputs": [],
   "source": [
    "# Convert to Timestamp\n",
    "df_calls['call_date'] = pd.to_datetime(df_calls['call_date'],format ='%Y-%m-%d' )\n"
   ]
  },
  {
   "cell_type": "code",
   "execution_count": 20,
   "metadata": {},
   "outputs": [
    {
     "data": {
      "text/plain": [
       "pandas._libs.tslibs.timestamps.Timestamp"
      ]
     },
     "execution_count": 20,
     "metadata": {},
     "output_type": "execute_result"
    }
   ],
   "source": [
    "#Ckeck it if it works\n",
    "type(df_calls.call_date[0])"
   ]
  },
  {
   "cell_type": "markdown",
   "metadata": {},
   "source": [
    "### Enrich data"
   ]
  },
  {
   "cell_type": "markdown",
   "metadata": {},
   "source": [
    "Add additional factors to the data if you believe they might be useful.\n",
    "- From column'call_date' will be extracted monthly calls and added in new column 'by_month'"
   ]
  },
  {
   "cell_type": "code",
   "execution_count": 21,
   "metadata": {},
   "outputs": [],
   "source": [
    "# find month of year  the call was posted\n",
    "#df_calls['by_month'] = df_calls['call_date'].dt.month_name()\n"
   ]
  },
  {
   "cell_type": "code",
   "execution_count": 22,
   "metadata": {},
   "outputs": [
    {
     "data": {
      "text/html": [
       "<div>\n",
       "<style scoped>\n",
       "    .dataframe tbody tr th:only-of-type {\n",
       "        vertical-align: middle;\n",
       "    }\n",
       "\n",
       "    .dataframe tbody tr th {\n",
       "        vertical-align: top;\n",
       "    }\n",
       "\n",
       "    .dataframe thead th {\n",
       "        text-align: right;\n",
       "    }\n",
       "</style>\n",
       "<table border=\"1\" class=\"dataframe\">\n",
       "  <thead>\n",
       "    <tr style=\"text-align: right;\">\n",
       "      <th></th>\n",
       "      <th>id</th>\n",
       "      <th>user_id</th>\n",
       "      <th>call_date</th>\n",
       "      <th>duration</th>\n",
       "      <th>by_month</th>\n",
       "    </tr>\n",
       "  </thead>\n",
       "  <tbody>\n",
       "    <tr>\n",
       "      <td>0</td>\n",
       "      <td>1000_93</td>\n",
       "      <td>1000</td>\n",
       "      <td>2018-12-27</td>\n",
       "      <td>8.52</td>\n",
       "      <td>12</td>\n",
       "    </tr>\n",
       "    <tr>\n",
       "      <td>1</td>\n",
       "      <td>1000_145</td>\n",
       "      <td>1000</td>\n",
       "      <td>2018-12-27</td>\n",
       "      <td>13.66</td>\n",
       "      <td>12</td>\n",
       "    </tr>\n",
       "    <tr>\n",
       "      <td>2</td>\n",
       "      <td>1000_247</td>\n",
       "      <td>1000</td>\n",
       "      <td>2018-12-27</td>\n",
       "      <td>14.48</td>\n",
       "      <td>12</td>\n",
       "    </tr>\n",
       "    <tr>\n",
       "      <td>3</td>\n",
       "      <td>1000_309</td>\n",
       "      <td>1000</td>\n",
       "      <td>2018-12-28</td>\n",
       "      <td>5.76</td>\n",
       "      <td>12</td>\n",
       "    </tr>\n",
       "    <tr>\n",
       "      <td>4</td>\n",
       "      <td>1000_380</td>\n",
       "      <td>1000</td>\n",
       "      <td>2018-12-30</td>\n",
       "      <td>4.22</td>\n",
       "      <td>12</td>\n",
       "    </tr>\n",
       "    <tr>\n",
       "      <td>...</td>\n",
       "      <td>...</td>\n",
       "      <td>...</td>\n",
       "      <td>...</td>\n",
       "      <td>...</td>\n",
       "      <td>...</td>\n",
       "    </tr>\n",
       "    <tr>\n",
       "      <td>137730</td>\n",
       "      <td>1499_199</td>\n",
       "      <td>1499</td>\n",
       "      <td>2018-11-21</td>\n",
       "      <td>8.72</td>\n",
       "      <td>11</td>\n",
       "    </tr>\n",
       "    <tr>\n",
       "      <td>137731</td>\n",
       "      <td>1499_200</td>\n",
       "      <td>1499</td>\n",
       "      <td>2018-10-20</td>\n",
       "      <td>10.89</td>\n",
       "      <td>10</td>\n",
       "    </tr>\n",
       "    <tr>\n",
       "      <td>137732</td>\n",
       "      <td>1499_201</td>\n",
       "      <td>1499</td>\n",
       "      <td>2018-09-21</td>\n",
       "      <td>8.12</td>\n",
       "      <td>9</td>\n",
       "    </tr>\n",
       "    <tr>\n",
       "      <td>137733</td>\n",
       "      <td>1499_202</td>\n",
       "      <td>1499</td>\n",
       "      <td>2018-10-10</td>\n",
       "      <td>0.37</td>\n",
       "      <td>10</td>\n",
       "    </tr>\n",
       "    <tr>\n",
       "      <td>137734</td>\n",
       "      <td>1499_203</td>\n",
       "      <td>1499</td>\n",
       "      <td>2018-12-29</td>\n",
       "      <td>13.86</td>\n",
       "      <td>12</td>\n",
       "    </tr>\n",
       "  </tbody>\n",
       "</table>\n",
       "<p>137735 rows × 5 columns</p>\n",
       "</div>"
      ],
      "text/plain": [
       "              id  user_id  call_date  duration  by_month\n",
       "0        1000_93     1000 2018-12-27      8.52        12\n",
       "1       1000_145     1000 2018-12-27     13.66        12\n",
       "2       1000_247     1000 2018-12-27     14.48        12\n",
       "3       1000_309     1000 2018-12-28      5.76        12\n",
       "4       1000_380     1000 2018-12-30      4.22        12\n",
       "...          ...      ...        ...       ...       ...\n",
       "137730  1499_199     1499 2018-11-21      8.72        11\n",
       "137731  1499_200     1499 2018-10-20     10.89        10\n",
       "137732  1499_201     1499 2018-09-21      8.12         9\n",
       "137733  1499_202     1499 2018-10-10      0.37        10\n",
       "137734  1499_203     1499 2018-12-29     13.86        12\n",
       "\n",
       "[137735 rows x 5 columns]"
      ]
     },
     "execution_count": 22,
     "metadata": {},
     "output_type": "execute_result"
    }
   ],
   "source": [
    "# find month of year\n",
    "#df_calls['by_month'] = df_calls['call_date'].astype('datetime64[M]')\n",
    "df_calls['by_month'] = df_calls['call_date'].dt.month\n",
    "df_calls"
   ]
  },
  {
   "cell_type": "code",
   "execution_count": 23,
   "metadata": {},
   "outputs": [
    {
     "data": {
      "text/plain": [
       "pandas._libs.tslibs.timestamps.Timestamp"
      ]
     },
     "execution_count": 23,
     "metadata": {},
     "output_type": "execute_result"
    }
   ],
   "source": [
    "#Ckeck it if it works\n",
    "type(df_calls.call_date[0])"
   ]
  },
  {
   "cell_type": "code",
   "execution_count": 24,
   "metadata": {},
   "outputs": [
    {
     "data": {
      "text/html": [
       "<div>\n",
       "<style scoped>\n",
       "    .dataframe tbody tr th:only-of-type {\n",
       "        vertical-align: middle;\n",
       "    }\n",
       "\n",
       "    .dataframe tbody tr th {\n",
       "        vertical-align: top;\n",
       "    }\n",
       "\n",
       "    .dataframe thead th {\n",
       "        text-align: right;\n",
       "    }\n",
       "</style>\n",
       "<table border=\"1\" class=\"dataframe\">\n",
       "  <thead>\n",
       "    <tr style=\"text-align: right;\">\n",
       "      <th></th>\n",
       "      <th>id</th>\n",
       "      <th>user_id</th>\n",
       "      <th>call_date</th>\n",
       "      <th>duration</th>\n",
       "      <th>by_month</th>\n",
       "    </tr>\n",
       "  </thead>\n",
       "  <tbody>\n",
       "    <tr>\n",
       "      <td>0</td>\n",
       "      <td>1000_93</td>\n",
       "      <td>1000</td>\n",
       "      <td>2018-12-27</td>\n",
       "      <td>9</td>\n",
       "      <td>12</td>\n",
       "    </tr>\n",
       "    <tr>\n",
       "      <td>1</td>\n",
       "      <td>1000_145</td>\n",
       "      <td>1000</td>\n",
       "      <td>2018-12-27</td>\n",
       "      <td>14</td>\n",
       "      <td>12</td>\n",
       "    </tr>\n",
       "    <tr>\n",
       "      <td>2</td>\n",
       "      <td>1000_247</td>\n",
       "      <td>1000</td>\n",
       "      <td>2018-12-27</td>\n",
       "      <td>15</td>\n",
       "      <td>12</td>\n",
       "    </tr>\n",
       "    <tr>\n",
       "      <td>3</td>\n",
       "      <td>1000_309</td>\n",
       "      <td>1000</td>\n",
       "      <td>2018-12-28</td>\n",
       "      <td>6</td>\n",
       "      <td>12</td>\n",
       "    </tr>\n",
       "    <tr>\n",
       "      <td>4</td>\n",
       "      <td>1000_380</td>\n",
       "      <td>1000</td>\n",
       "      <td>2018-12-30</td>\n",
       "      <td>5</td>\n",
       "      <td>12</td>\n",
       "    </tr>\n",
       "    <tr>\n",
       "      <td>...</td>\n",
       "      <td>...</td>\n",
       "      <td>...</td>\n",
       "      <td>...</td>\n",
       "      <td>...</td>\n",
       "      <td>...</td>\n",
       "    </tr>\n",
       "    <tr>\n",
       "      <td>137730</td>\n",
       "      <td>1499_199</td>\n",
       "      <td>1499</td>\n",
       "      <td>2018-11-21</td>\n",
       "      <td>9</td>\n",
       "      <td>11</td>\n",
       "    </tr>\n",
       "    <tr>\n",
       "      <td>137731</td>\n",
       "      <td>1499_200</td>\n",
       "      <td>1499</td>\n",
       "      <td>2018-10-20</td>\n",
       "      <td>11</td>\n",
       "      <td>10</td>\n",
       "    </tr>\n",
       "    <tr>\n",
       "      <td>137732</td>\n",
       "      <td>1499_201</td>\n",
       "      <td>1499</td>\n",
       "      <td>2018-09-21</td>\n",
       "      <td>9</td>\n",
       "      <td>9</td>\n",
       "    </tr>\n",
       "    <tr>\n",
       "      <td>137733</td>\n",
       "      <td>1499_202</td>\n",
       "      <td>1499</td>\n",
       "      <td>2018-10-10</td>\n",
       "      <td>1</td>\n",
       "      <td>10</td>\n",
       "    </tr>\n",
       "    <tr>\n",
       "      <td>137734</td>\n",
       "      <td>1499_203</td>\n",
       "      <td>1499</td>\n",
       "      <td>2018-12-29</td>\n",
       "      <td>14</td>\n",
       "      <td>12</td>\n",
       "    </tr>\n",
       "  </tbody>\n",
       "</table>\n",
       "<p>137735 rows × 5 columns</p>\n",
       "</div>"
      ],
      "text/plain": [
       "              id  user_id  call_date  duration  by_month\n",
       "0        1000_93     1000 2018-12-27         9        12\n",
       "1       1000_145     1000 2018-12-27        14        12\n",
       "2       1000_247     1000 2018-12-27        15        12\n",
       "3       1000_309     1000 2018-12-28         6        12\n",
       "4       1000_380     1000 2018-12-30         5        12\n",
       "...          ...      ...        ...       ...       ...\n",
       "137730  1499_199     1499 2018-11-21         9        11\n",
       "137731  1499_200     1499 2018-10-20        11        10\n",
       "137732  1499_201     1499 2018-09-21         9         9\n",
       "137733  1499_202     1499 2018-10-10         1        10\n",
       "137734  1499_203     1499 2018-12-29        14        12\n",
       "\n",
       "[137735 rows x 5 columns]"
      ]
     },
     "execution_count": 24,
     "metadata": {},
     "output_type": "execute_result"
    }
   ],
   "source": [
    "#this applies the np.ceil method  to the column to round up its values and then converts them to integers\n",
    "df_calls['duration'] = df_calls['duration'].apply(np.ceil).astype('int')\n",
    "df_calls\n"
   ]
  },
  {
   "cell_type": "code",
   "execution_count": 25,
   "metadata": {},
   "outputs": [
    {
     "name": "stdout",
     "output_type": "stream",
     "text": [
      "<class 'pandas.core.frame.DataFrame'>\n",
      "RangeIndex: 137735 entries, 0 to 137734\n",
      "Data columns (total 5 columns):\n",
      "id           137735 non-null object\n",
      "user_id      137735 non-null int64\n",
      "call_date    137735 non-null datetime64[ns]\n",
      "duration     137735 non-null int64\n",
      "by_month     137735 non-null int64\n",
      "dtypes: datetime64[ns](1), int64(3), object(1)\n",
      "memory usage: 5.3+ MB\n"
     ]
    }
   ],
   "source": [
    "# Let's check it again\n",
    "df_calls.info()"
   ]
  },
  {
   "cell_type": "markdown",
   "metadata": {},
   "source": [
    "## Messages"
   ]
  },
  {
   "cell_type": "code",
   "execution_count": 26,
   "metadata": {},
   "outputs": [
    {
     "name": "stdout",
     "output_type": "stream",
     "text": [
      "<class 'pandas.core.frame.DataFrame'>\n",
      "RangeIndex: 76051 entries, 0 to 76050\n",
      "Data columns (total 3 columns):\n",
      "id              76051 non-null object\n",
      "user_id         76051 non-null int64\n",
      "message_date    76051 non-null object\n",
      "dtypes: int64(1), object(2)\n",
      "memory usage: 1.7+ MB\n"
     ]
    }
   ],
   "source": [
    "# Print the general/summary information about the messages' DataFrame\n",
    "df_messages.info()\n"
   ]
  },
  {
   "cell_type": "code",
   "execution_count": 27,
   "metadata": {},
   "outputs": [
    {
     "data": {
      "text/html": [
       "<div>\n",
       "<style scoped>\n",
       "    .dataframe tbody tr th:only-of-type {\n",
       "        vertical-align: middle;\n",
       "    }\n",
       "\n",
       "    .dataframe tbody tr th {\n",
       "        vertical-align: top;\n",
       "    }\n",
       "\n",
       "    .dataframe thead th {\n",
       "        text-align: right;\n",
       "    }\n",
       "</style>\n",
       "<table border=\"1\" class=\"dataframe\">\n",
       "  <thead>\n",
       "    <tr style=\"text-align: right;\">\n",
       "      <th></th>\n",
       "      <th>id</th>\n",
       "      <th>user_id</th>\n",
       "      <th>message_date</th>\n",
       "    </tr>\n",
       "  </thead>\n",
       "  <tbody>\n",
       "    <tr>\n",
       "      <td>0</td>\n",
       "      <td>1000_125</td>\n",
       "      <td>1000</td>\n",
       "      <td>2018-12-27</td>\n",
       "    </tr>\n",
       "    <tr>\n",
       "      <td>1</td>\n",
       "      <td>1000_160</td>\n",
       "      <td>1000</td>\n",
       "      <td>2018-12-31</td>\n",
       "    </tr>\n",
       "    <tr>\n",
       "      <td>2</td>\n",
       "      <td>1000_223</td>\n",
       "      <td>1000</td>\n",
       "      <td>2018-12-31</td>\n",
       "    </tr>\n",
       "    <tr>\n",
       "      <td>3</td>\n",
       "      <td>1000_251</td>\n",
       "      <td>1000</td>\n",
       "      <td>2018-12-27</td>\n",
       "    </tr>\n",
       "    <tr>\n",
       "      <td>4</td>\n",
       "      <td>1000_255</td>\n",
       "      <td>1000</td>\n",
       "      <td>2018-12-26</td>\n",
       "    </tr>\n",
       "  </tbody>\n",
       "</table>\n",
       "</div>"
      ],
      "text/plain": [
       "         id  user_id message_date\n",
       "0  1000_125     1000   2018-12-27\n",
       "1  1000_160     1000   2018-12-31\n",
       "2  1000_223     1000   2018-12-31\n",
       "3  1000_251     1000   2018-12-27\n",
       "4  1000_255     1000   2018-12-26"
      ]
     },
     "execution_count": 27,
     "metadata": {},
     "output_type": "execute_result"
    }
   ],
   "source": [
    "# Print a sample of data for messages\n",
    "\n",
    "df_messages.head()"
   ]
  },
  {
   "cell_type": "markdown",
   "metadata": {},
   "source": [
    "- The dataset have no missing values and inappropriate data types.\n",
    "- The data in column 'message_date' represent as object so it will be converted to Timestamp."
   ]
  },
  {
   "cell_type": "markdown",
   "metadata": {},
   "source": [
    " "
   ]
  },
  {
   "cell_type": "markdown",
   "metadata": {},
   "source": [
    "### Fix data"
   ]
  },
  {
   "cell_type": "markdown",
   "metadata": {},
   "source": [
    "Fix obvious issues with the data given the initial observations."
   ]
  },
  {
   "cell_type": "code",
   "execution_count": 28,
   "metadata": {
    "scrolled": true
   },
   "outputs": [
    {
     "data": {
      "text/plain": [
       "str"
      ]
     },
     "execution_count": 28,
     "metadata": {},
     "output_type": "execute_result"
    }
   ],
   "source": [
    "#Lets check column'message_date'\n",
    "type(df_messages.message_date[0])"
   ]
  },
  {
   "cell_type": "code",
   "execution_count": 29,
   "metadata": {},
   "outputs": [],
   "source": [
    "# Convert to Timestamp\n",
    "df_messages['message_date'] = pd.to_datetime(df_messages['message_date'],format ='%Y-%m-%d' )\n"
   ]
  },
  {
   "cell_type": "code",
   "execution_count": 30,
   "metadata": {},
   "outputs": [
    {
     "data": {
      "text/plain": [
       "pandas._libs.tslibs.timestamps.Timestamp"
      ]
     },
     "execution_count": 30,
     "metadata": {},
     "output_type": "execute_result"
    }
   ],
   "source": [
    "#Ckeck it if it works\n",
    "type(df_messages.message_date[0])"
   ]
  },
  {
   "cell_type": "markdown",
   "metadata": {},
   "source": [
    "### Enrich data"
   ]
  },
  {
   "cell_type": "markdown",
   "metadata": {},
   "source": [
    "Add additional factors to the data if you believe they might be useful."
   ]
  },
  {
   "cell_type": "code",
   "execution_count": 31,
   "metadata": {},
   "outputs": [
    {
     "data": {
      "text/html": [
       "<div>\n",
       "<style scoped>\n",
       "    .dataframe tbody tr th:only-of-type {\n",
       "        vertical-align: middle;\n",
       "    }\n",
       "\n",
       "    .dataframe tbody tr th {\n",
       "        vertical-align: top;\n",
       "    }\n",
       "\n",
       "    .dataframe thead th {\n",
       "        text-align: right;\n",
       "    }\n",
       "</style>\n",
       "<table border=\"1\" class=\"dataframe\">\n",
       "  <thead>\n",
       "    <tr style=\"text-align: right;\">\n",
       "      <th></th>\n",
       "      <th>id</th>\n",
       "      <th>user_id</th>\n",
       "      <th>message_date</th>\n",
       "      <th>by_month</th>\n",
       "    </tr>\n",
       "  </thead>\n",
       "  <tbody>\n",
       "    <tr>\n",
       "      <td>0</td>\n",
       "      <td>1000_125</td>\n",
       "      <td>1000</td>\n",
       "      <td>2018-12-27</td>\n",
       "      <td>12</td>\n",
       "    </tr>\n",
       "    <tr>\n",
       "      <td>1</td>\n",
       "      <td>1000_160</td>\n",
       "      <td>1000</td>\n",
       "      <td>2018-12-31</td>\n",
       "      <td>12</td>\n",
       "    </tr>\n",
       "    <tr>\n",
       "      <td>2</td>\n",
       "      <td>1000_223</td>\n",
       "      <td>1000</td>\n",
       "      <td>2018-12-31</td>\n",
       "      <td>12</td>\n",
       "    </tr>\n",
       "    <tr>\n",
       "      <td>3</td>\n",
       "      <td>1000_251</td>\n",
       "      <td>1000</td>\n",
       "      <td>2018-12-27</td>\n",
       "      <td>12</td>\n",
       "    </tr>\n",
       "    <tr>\n",
       "      <td>4</td>\n",
       "      <td>1000_255</td>\n",
       "      <td>1000</td>\n",
       "      <td>2018-12-26</td>\n",
       "      <td>12</td>\n",
       "    </tr>\n",
       "    <tr>\n",
       "      <td>...</td>\n",
       "      <td>...</td>\n",
       "      <td>...</td>\n",
       "      <td>...</td>\n",
       "      <td>...</td>\n",
       "    </tr>\n",
       "    <tr>\n",
       "      <td>76046</td>\n",
       "      <td>1497_526</td>\n",
       "      <td>1497</td>\n",
       "      <td>2018-12-24</td>\n",
       "      <td>12</td>\n",
       "    </tr>\n",
       "    <tr>\n",
       "      <td>76047</td>\n",
       "      <td>1497_536</td>\n",
       "      <td>1497</td>\n",
       "      <td>2018-12-24</td>\n",
       "      <td>12</td>\n",
       "    </tr>\n",
       "    <tr>\n",
       "      <td>76048</td>\n",
       "      <td>1497_547</td>\n",
       "      <td>1497</td>\n",
       "      <td>2018-12-31</td>\n",
       "      <td>12</td>\n",
       "    </tr>\n",
       "    <tr>\n",
       "      <td>76049</td>\n",
       "      <td>1497_558</td>\n",
       "      <td>1497</td>\n",
       "      <td>2018-12-24</td>\n",
       "      <td>12</td>\n",
       "    </tr>\n",
       "    <tr>\n",
       "      <td>76050</td>\n",
       "      <td>1497_613</td>\n",
       "      <td>1497</td>\n",
       "      <td>2018-12-23</td>\n",
       "      <td>12</td>\n",
       "    </tr>\n",
       "  </tbody>\n",
       "</table>\n",
       "<p>76051 rows × 4 columns</p>\n",
       "</div>"
      ],
      "text/plain": [
       "             id  user_id message_date  by_month\n",
       "0      1000_125     1000   2018-12-27        12\n",
       "1      1000_160     1000   2018-12-31        12\n",
       "2      1000_223     1000   2018-12-31        12\n",
       "3      1000_251     1000   2018-12-27        12\n",
       "4      1000_255     1000   2018-12-26        12\n",
       "...         ...      ...          ...       ...\n",
       "76046  1497_526     1497   2018-12-24        12\n",
       "76047  1497_536     1497   2018-12-24        12\n",
       "76048  1497_547     1497   2018-12-31        12\n",
       "76049  1497_558     1497   2018-12-24        12\n",
       "76050  1497_613     1497   2018-12-23        12\n",
       "\n",
       "[76051 rows x 4 columns]"
      ]
     },
     "execution_count": 31,
     "metadata": {},
     "output_type": "execute_result"
    }
   ],
   "source": [
    "# find month of year  the messages was posted\n",
    "df_messages['by_month'] = df_messages['message_date'].dt.month\n",
    "\n",
    "#df_messages['by_month'] = df_messages['message_date'].astype('datetime64[M]')\n",
    "\n",
    "df_messages"
   ]
  },
  {
   "cell_type": "markdown",
   "metadata": {},
   "source": [
    "## Internet"
   ]
  },
  {
   "cell_type": "code",
   "execution_count": 32,
   "metadata": {},
   "outputs": [
    {
     "name": "stdout",
     "output_type": "stream",
     "text": [
      "<class 'pandas.core.frame.DataFrame'>\n",
      "RangeIndex: 104825 entries, 0 to 104824\n",
      "Data columns (total 4 columns):\n",
      "id              104825 non-null object\n",
      "user_id         104825 non-null int64\n",
      "session_date    104825 non-null object\n",
      "mb_used         104825 non-null float64\n",
      "dtypes: float64(1), int64(1), object(2)\n",
      "memory usage: 3.2+ MB\n"
     ]
    }
   ],
   "source": [
    "# Print the general/summary information about the internet DataFrame\n",
    "\n",
    "df_internet.info()"
   ]
  },
  {
   "cell_type": "code",
   "execution_count": 33,
   "metadata": {
    "scrolled": true
   },
   "outputs": [
    {
     "data": {
      "text/html": [
       "<div>\n",
       "<style scoped>\n",
       "    .dataframe tbody tr th:only-of-type {\n",
       "        vertical-align: middle;\n",
       "    }\n",
       "\n",
       "    .dataframe tbody tr th {\n",
       "        vertical-align: top;\n",
       "    }\n",
       "\n",
       "    .dataframe thead th {\n",
       "        text-align: right;\n",
       "    }\n",
       "</style>\n",
       "<table border=\"1\" class=\"dataframe\">\n",
       "  <thead>\n",
       "    <tr style=\"text-align: right;\">\n",
       "      <th></th>\n",
       "      <th>id</th>\n",
       "      <th>user_id</th>\n",
       "      <th>session_date</th>\n",
       "      <th>mb_used</th>\n",
       "    </tr>\n",
       "  </thead>\n",
       "  <tbody>\n",
       "    <tr>\n",
       "      <td>0</td>\n",
       "      <td>1000_13</td>\n",
       "      <td>1000</td>\n",
       "      <td>2018-12-29</td>\n",
       "      <td>89.86</td>\n",
       "    </tr>\n",
       "    <tr>\n",
       "      <td>1</td>\n",
       "      <td>1000_204</td>\n",
       "      <td>1000</td>\n",
       "      <td>2018-12-31</td>\n",
       "      <td>0.00</td>\n",
       "    </tr>\n",
       "    <tr>\n",
       "      <td>2</td>\n",
       "      <td>1000_379</td>\n",
       "      <td>1000</td>\n",
       "      <td>2018-12-28</td>\n",
       "      <td>660.40</td>\n",
       "    </tr>\n",
       "    <tr>\n",
       "      <td>3</td>\n",
       "      <td>1000_413</td>\n",
       "      <td>1000</td>\n",
       "      <td>2018-12-26</td>\n",
       "      <td>270.99</td>\n",
       "    </tr>\n",
       "    <tr>\n",
       "      <td>4</td>\n",
       "      <td>1000_442</td>\n",
       "      <td>1000</td>\n",
       "      <td>2018-12-27</td>\n",
       "      <td>880.22</td>\n",
       "    </tr>\n",
       "    <tr>\n",
       "      <td>...</td>\n",
       "      <td>...</td>\n",
       "      <td>...</td>\n",
       "      <td>...</td>\n",
       "      <td>...</td>\n",
       "    </tr>\n",
       "    <tr>\n",
       "      <td>104820</td>\n",
       "      <td>1499_215</td>\n",
       "      <td>1499</td>\n",
       "      <td>2018-10-20</td>\n",
       "      <td>218.06</td>\n",
       "    </tr>\n",
       "    <tr>\n",
       "      <td>104821</td>\n",
       "      <td>1499_216</td>\n",
       "      <td>1499</td>\n",
       "      <td>2018-12-30</td>\n",
       "      <td>304.72</td>\n",
       "    </tr>\n",
       "    <tr>\n",
       "      <td>104822</td>\n",
       "      <td>1499_217</td>\n",
       "      <td>1499</td>\n",
       "      <td>2018-09-22</td>\n",
       "      <td>292.75</td>\n",
       "    </tr>\n",
       "    <tr>\n",
       "      <td>104823</td>\n",
       "      <td>1499_218</td>\n",
       "      <td>1499</td>\n",
       "      <td>2018-12-07</td>\n",
       "      <td>0.00</td>\n",
       "    </tr>\n",
       "    <tr>\n",
       "      <td>104824</td>\n",
       "      <td>1499_219</td>\n",
       "      <td>1499</td>\n",
       "      <td>2018-12-24</td>\n",
       "      <td>758.31</td>\n",
       "    </tr>\n",
       "  </tbody>\n",
       "</table>\n",
       "<p>104825 rows × 4 columns</p>\n",
       "</div>"
      ],
      "text/plain": [
       "              id  user_id session_date  mb_used\n",
       "0        1000_13     1000   2018-12-29    89.86\n",
       "1       1000_204     1000   2018-12-31     0.00\n",
       "2       1000_379     1000   2018-12-28   660.40\n",
       "3       1000_413     1000   2018-12-26   270.99\n",
       "4       1000_442     1000   2018-12-27   880.22\n",
       "...          ...      ...          ...      ...\n",
       "104820  1499_215     1499   2018-10-20   218.06\n",
       "104821  1499_216     1499   2018-12-30   304.72\n",
       "104822  1499_217     1499   2018-09-22   292.75\n",
       "104823  1499_218     1499   2018-12-07     0.00\n",
       "104824  1499_219     1499   2018-12-24   758.31\n",
       "\n",
       "[104825 rows x 4 columns]"
      ]
     },
     "execution_count": 33,
     "metadata": {},
     "output_type": "execute_result"
    }
   ],
   "source": [
    "# Print a sample of data for the internet traffic\n",
    "df_internet"
   ]
  },
  {
   "cell_type": "markdown",
   "metadata": {},
   "source": [
    "Describing what we see and notice in the general information and the printed data sample for the above price of data. Are there any issues (inappropriate data types, missing data etc) that may need further investigation and changes? How that can be fixed?\n",
    "\n",
    "- There is no missing values in dataset\n",
    "- The values in  column 'session_date' is object type so suppose to be conver to Timestamps "
   ]
  },
  {
   "cell_type": "markdown",
   "metadata": {},
   "source": [
    "### Fix data"
   ]
  },
  {
   "cell_type": "markdown",
   "metadata": {},
   "source": [
    "Fix obvious issues with the data given the initial observations."
   ]
  },
  {
   "cell_type": "code",
   "execution_count": 34,
   "metadata": {},
   "outputs": [
    {
     "data": {
      "text/plain": [
       "str"
      ]
     },
     "execution_count": 34,
     "metadata": {},
     "output_type": "execute_result"
    }
   ],
   "source": [
    "# lets check column'session_date'\n",
    "type(df_internet.session_date[0])"
   ]
  },
  {
   "cell_type": "code",
   "execution_count": 35,
   "metadata": {},
   "outputs": [],
   "source": [
    "# Convert to Timestamps\n",
    "df_internet['session_date'] = pd.to_datetime(df_internet['session_date'],format ='%Y-%m-%d' )"
   ]
  },
  {
   "cell_type": "code",
   "execution_count": 36,
   "metadata": {},
   "outputs": [
    {
     "data": {
      "text/plain": [
       "pandas._libs.tslibs.timestamps.Timestamp"
      ]
     },
     "execution_count": 36,
     "metadata": {},
     "output_type": "execute_result"
    }
   ],
   "source": [
    "#Ckeck it if it works\n",
    "type(df_internet.session_date[0])"
   ]
  },
  {
   "cell_type": "markdown",
   "metadata": {},
   "source": [
    "### Enrich data"
   ]
  },
  {
   "cell_type": "markdown",
   "metadata": {},
   "source": [
    "Adding additional factors to the data if you believe they might be useful."
   ]
  },
  {
   "cell_type": "markdown",
   "metadata": {},
   "source": [
    "\n",
    "- New column '' by_month' will be added"
   ]
  },
  {
   "cell_type": "code",
   "execution_count": 37,
   "metadata": {
    "scrolled": false
   },
   "outputs": [],
   "source": [
    "# find month of year  the internet was used\n",
    "#df_internet['by_month'] = df_internet['session_date'].astype('datetime64[M]'"
   ]
  },
  {
   "cell_type": "code",
   "execution_count": 38,
   "metadata": {},
   "outputs": [
    {
     "data": {
      "text/html": [
       "<div>\n",
       "<style scoped>\n",
       "    .dataframe tbody tr th:only-of-type {\n",
       "        vertical-align: middle;\n",
       "    }\n",
       "\n",
       "    .dataframe tbody tr th {\n",
       "        vertical-align: top;\n",
       "    }\n",
       "\n",
       "    .dataframe thead th {\n",
       "        text-align: right;\n",
       "    }\n",
       "</style>\n",
       "<table border=\"1\" class=\"dataframe\">\n",
       "  <thead>\n",
       "    <tr style=\"text-align: right;\">\n",
       "      <th></th>\n",
       "      <th>id</th>\n",
       "      <th>user_id</th>\n",
       "      <th>session_date</th>\n",
       "      <th>mb_used</th>\n",
       "      <th>by_month</th>\n",
       "    </tr>\n",
       "  </thead>\n",
       "  <tbody>\n",
       "    <tr>\n",
       "      <td>0</td>\n",
       "      <td>1000_13</td>\n",
       "      <td>1000</td>\n",
       "      <td>2018-12-29</td>\n",
       "      <td>89.86</td>\n",
       "      <td>12</td>\n",
       "    </tr>\n",
       "    <tr>\n",
       "      <td>1</td>\n",
       "      <td>1000_204</td>\n",
       "      <td>1000</td>\n",
       "      <td>2018-12-31</td>\n",
       "      <td>0.00</td>\n",
       "      <td>12</td>\n",
       "    </tr>\n",
       "    <tr>\n",
       "      <td>2</td>\n",
       "      <td>1000_379</td>\n",
       "      <td>1000</td>\n",
       "      <td>2018-12-28</td>\n",
       "      <td>660.40</td>\n",
       "      <td>12</td>\n",
       "    </tr>\n",
       "    <tr>\n",
       "      <td>3</td>\n",
       "      <td>1000_413</td>\n",
       "      <td>1000</td>\n",
       "      <td>2018-12-26</td>\n",
       "      <td>270.99</td>\n",
       "      <td>12</td>\n",
       "    </tr>\n",
       "    <tr>\n",
       "      <td>4</td>\n",
       "      <td>1000_442</td>\n",
       "      <td>1000</td>\n",
       "      <td>2018-12-27</td>\n",
       "      <td>880.22</td>\n",
       "      <td>12</td>\n",
       "    </tr>\n",
       "    <tr>\n",
       "      <td>...</td>\n",
       "      <td>...</td>\n",
       "      <td>...</td>\n",
       "      <td>...</td>\n",
       "      <td>...</td>\n",
       "      <td>...</td>\n",
       "    </tr>\n",
       "    <tr>\n",
       "      <td>104820</td>\n",
       "      <td>1499_215</td>\n",
       "      <td>1499</td>\n",
       "      <td>2018-10-20</td>\n",
       "      <td>218.06</td>\n",
       "      <td>10</td>\n",
       "    </tr>\n",
       "    <tr>\n",
       "      <td>104821</td>\n",
       "      <td>1499_216</td>\n",
       "      <td>1499</td>\n",
       "      <td>2018-12-30</td>\n",
       "      <td>304.72</td>\n",
       "      <td>12</td>\n",
       "    </tr>\n",
       "    <tr>\n",
       "      <td>104822</td>\n",
       "      <td>1499_217</td>\n",
       "      <td>1499</td>\n",
       "      <td>2018-09-22</td>\n",
       "      <td>292.75</td>\n",
       "      <td>9</td>\n",
       "    </tr>\n",
       "    <tr>\n",
       "      <td>104823</td>\n",
       "      <td>1499_218</td>\n",
       "      <td>1499</td>\n",
       "      <td>2018-12-07</td>\n",
       "      <td>0.00</td>\n",
       "      <td>12</td>\n",
       "    </tr>\n",
       "    <tr>\n",
       "      <td>104824</td>\n",
       "      <td>1499_219</td>\n",
       "      <td>1499</td>\n",
       "      <td>2018-12-24</td>\n",
       "      <td>758.31</td>\n",
       "      <td>12</td>\n",
       "    </tr>\n",
       "  </tbody>\n",
       "</table>\n",
       "<p>104825 rows × 5 columns</p>\n",
       "</div>"
      ],
      "text/plain": [
       "              id  user_id session_date  mb_used  by_month\n",
       "0        1000_13     1000   2018-12-29    89.86        12\n",
       "1       1000_204     1000   2018-12-31     0.00        12\n",
       "2       1000_379     1000   2018-12-28   660.40        12\n",
       "3       1000_413     1000   2018-12-26   270.99        12\n",
       "4       1000_442     1000   2018-12-27   880.22        12\n",
       "...          ...      ...          ...      ...       ...\n",
       "104820  1499_215     1499   2018-10-20   218.06        10\n",
       "104821  1499_216     1499   2018-12-30   304.72        12\n",
       "104822  1499_217     1499   2018-09-22   292.75         9\n",
       "104823  1499_218     1499   2018-12-07     0.00        12\n",
       "104824  1499_219     1499   2018-12-24   758.31        12\n",
       "\n",
       "[104825 rows x 5 columns]"
      ]
     },
     "execution_count": 38,
     "metadata": {},
     "output_type": "execute_result"
    }
   ],
   "source": [
    "df_internet['by_month'] = df_internet['session_date'].dt.month\n",
    "df_internet"
   ]
  },
  {
   "cell_type": "markdown",
   "metadata": {},
   "source": [
    "- let's convert the values If someone uses 1025 megabytes this month, they will be charged for 2 gigabytes "
   ]
  },
  {
   "cell_type": "code",
   "execution_count": 39,
   "metadata": {},
   "outputs": [
    {
     "data": {
      "text/html": [
       "<div>\n",
       "<style scoped>\n",
       "    .dataframe tbody tr th:only-of-type {\n",
       "        vertical-align: middle;\n",
       "    }\n",
       "\n",
       "    .dataframe tbody tr th {\n",
       "        vertical-align: top;\n",
       "    }\n",
       "\n",
       "    .dataframe thead th {\n",
       "        text-align: right;\n",
       "    }\n",
       "</style>\n",
       "<table border=\"1\" class=\"dataframe\">\n",
       "  <thead>\n",
       "    <tr style=\"text-align: right;\">\n",
       "      <th></th>\n",
       "      <th>id</th>\n",
       "      <th>user_id</th>\n",
       "      <th>session_date</th>\n",
       "      <th>mb_used</th>\n",
       "      <th>by_month</th>\n",
       "    </tr>\n",
       "  </thead>\n",
       "  <tbody>\n",
       "    <tr>\n",
       "      <td>0</td>\n",
       "      <td>1000_13</td>\n",
       "      <td>1000</td>\n",
       "      <td>2018-12-29</td>\n",
       "      <td>0.087754</td>\n",
       "      <td>12</td>\n",
       "    </tr>\n",
       "    <tr>\n",
       "      <td>1</td>\n",
       "      <td>1000_204</td>\n",
       "      <td>1000</td>\n",
       "      <td>2018-12-31</td>\n",
       "      <td>0.000000</td>\n",
       "      <td>12</td>\n",
       "    </tr>\n",
       "    <tr>\n",
       "      <td>2</td>\n",
       "      <td>1000_379</td>\n",
       "      <td>1000</td>\n",
       "      <td>2018-12-28</td>\n",
       "      <td>0.644922</td>\n",
       "      <td>12</td>\n",
       "    </tr>\n",
       "    <tr>\n",
       "      <td>3</td>\n",
       "      <td>1000_413</td>\n",
       "      <td>1000</td>\n",
       "      <td>2018-12-26</td>\n",
       "      <td>0.264639</td>\n",
       "      <td>12</td>\n",
       "    </tr>\n",
       "    <tr>\n",
       "      <td>4</td>\n",
       "      <td>1000_442</td>\n",
       "      <td>1000</td>\n",
       "      <td>2018-12-27</td>\n",
       "      <td>0.859590</td>\n",
       "      <td>12</td>\n",
       "    </tr>\n",
       "    <tr>\n",
       "      <td>...</td>\n",
       "      <td>...</td>\n",
       "      <td>...</td>\n",
       "      <td>...</td>\n",
       "      <td>...</td>\n",
       "      <td>...</td>\n",
       "    </tr>\n",
       "    <tr>\n",
       "      <td>104820</td>\n",
       "      <td>1499_215</td>\n",
       "      <td>1499</td>\n",
       "      <td>2018-10-20</td>\n",
       "      <td>0.212949</td>\n",
       "      <td>10</td>\n",
       "    </tr>\n",
       "    <tr>\n",
       "      <td>104821</td>\n",
       "      <td>1499_216</td>\n",
       "      <td>1499</td>\n",
       "      <td>2018-12-30</td>\n",
       "      <td>0.297578</td>\n",
       "      <td>12</td>\n",
       "    </tr>\n",
       "    <tr>\n",
       "      <td>104822</td>\n",
       "      <td>1499_217</td>\n",
       "      <td>1499</td>\n",
       "      <td>2018-09-22</td>\n",
       "      <td>0.285889</td>\n",
       "      <td>9</td>\n",
       "    </tr>\n",
       "    <tr>\n",
       "      <td>104823</td>\n",
       "      <td>1499_218</td>\n",
       "      <td>1499</td>\n",
       "      <td>2018-12-07</td>\n",
       "      <td>0.000000</td>\n",
       "      <td>12</td>\n",
       "    </tr>\n",
       "    <tr>\n",
       "      <td>104824</td>\n",
       "      <td>1499_219</td>\n",
       "      <td>1499</td>\n",
       "      <td>2018-12-24</td>\n",
       "      <td>0.740537</td>\n",
       "      <td>12</td>\n",
       "    </tr>\n",
       "  </tbody>\n",
       "</table>\n",
       "<p>104825 rows × 5 columns</p>\n",
       "</div>"
      ],
      "text/plain": [
       "              id  user_id session_date   mb_used  by_month\n",
       "0        1000_13     1000   2018-12-29  0.087754        12\n",
       "1       1000_204     1000   2018-12-31  0.000000        12\n",
       "2       1000_379     1000   2018-12-28  0.644922        12\n",
       "3       1000_413     1000   2018-12-26  0.264639        12\n",
       "4       1000_442     1000   2018-12-27  0.859590        12\n",
       "...          ...      ...          ...       ...       ...\n",
       "104820  1499_215     1499   2018-10-20  0.212949        10\n",
       "104821  1499_216     1499   2018-12-30  0.297578        12\n",
       "104822  1499_217     1499   2018-09-22  0.285889         9\n",
       "104823  1499_218     1499   2018-12-07  0.000000        12\n",
       "104824  1499_219     1499   2018-12-24  0.740537        12\n",
       "\n",
       "[104825 rows x 5 columns]"
      ]
     },
     "execution_count": 39,
     "metadata": {},
     "output_type": "execute_result"
    }
   ],
   "source": [
    "# Let's convert the values If someone uses 1025 megabytes this month, they will be charged for 2 gigabytes df_internet.\n",
    "df_internet['mb_used'] =df_internet['mb_used']/1024\n",
    "df_internet\n"
   ]
  },
  {
   "cell_type": "code",
   "execution_count": 40,
   "metadata": {},
   "outputs": [
    {
     "data": {
      "text/html": [
       "<div>\n",
       "<style scoped>\n",
       "    .dataframe tbody tr th:only-of-type {\n",
       "        vertical-align: middle;\n",
       "    }\n",
       "\n",
       "    .dataframe tbody tr th {\n",
       "        vertical-align: top;\n",
       "    }\n",
       "\n",
       "    .dataframe thead th {\n",
       "        text-align: right;\n",
       "    }\n",
       "</style>\n",
       "<table border=\"1\" class=\"dataframe\">\n",
       "  <thead>\n",
       "    <tr style=\"text-align: right;\">\n",
       "      <th></th>\n",
       "      <th>id</th>\n",
       "      <th>user_id</th>\n",
       "      <th>session_date</th>\n",
       "      <th>mb_used</th>\n",
       "      <th>by_month</th>\n",
       "    </tr>\n",
       "  </thead>\n",
       "  <tbody>\n",
       "    <tr>\n",
       "      <td>0</td>\n",
       "      <td>1000_13</td>\n",
       "      <td>1000</td>\n",
       "      <td>2018-12-29</td>\n",
       "      <td>1</td>\n",
       "      <td>12</td>\n",
       "    </tr>\n",
       "    <tr>\n",
       "      <td>1</td>\n",
       "      <td>1000_204</td>\n",
       "      <td>1000</td>\n",
       "      <td>2018-12-31</td>\n",
       "      <td>0</td>\n",
       "      <td>12</td>\n",
       "    </tr>\n",
       "    <tr>\n",
       "      <td>2</td>\n",
       "      <td>1000_379</td>\n",
       "      <td>1000</td>\n",
       "      <td>2018-12-28</td>\n",
       "      <td>1</td>\n",
       "      <td>12</td>\n",
       "    </tr>\n",
       "    <tr>\n",
       "      <td>3</td>\n",
       "      <td>1000_413</td>\n",
       "      <td>1000</td>\n",
       "      <td>2018-12-26</td>\n",
       "      <td>1</td>\n",
       "      <td>12</td>\n",
       "    </tr>\n",
       "    <tr>\n",
       "      <td>4</td>\n",
       "      <td>1000_442</td>\n",
       "      <td>1000</td>\n",
       "      <td>2018-12-27</td>\n",
       "      <td>1</td>\n",
       "      <td>12</td>\n",
       "    </tr>\n",
       "    <tr>\n",
       "      <td>...</td>\n",
       "      <td>...</td>\n",
       "      <td>...</td>\n",
       "      <td>...</td>\n",
       "      <td>...</td>\n",
       "      <td>...</td>\n",
       "    </tr>\n",
       "    <tr>\n",
       "      <td>104820</td>\n",
       "      <td>1499_215</td>\n",
       "      <td>1499</td>\n",
       "      <td>2018-10-20</td>\n",
       "      <td>1</td>\n",
       "      <td>10</td>\n",
       "    </tr>\n",
       "    <tr>\n",
       "      <td>104821</td>\n",
       "      <td>1499_216</td>\n",
       "      <td>1499</td>\n",
       "      <td>2018-12-30</td>\n",
       "      <td>1</td>\n",
       "      <td>12</td>\n",
       "    </tr>\n",
       "    <tr>\n",
       "      <td>104822</td>\n",
       "      <td>1499_217</td>\n",
       "      <td>1499</td>\n",
       "      <td>2018-09-22</td>\n",
       "      <td>1</td>\n",
       "      <td>9</td>\n",
       "    </tr>\n",
       "    <tr>\n",
       "      <td>104823</td>\n",
       "      <td>1499_218</td>\n",
       "      <td>1499</td>\n",
       "      <td>2018-12-07</td>\n",
       "      <td>0</td>\n",
       "      <td>12</td>\n",
       "    </tr>\n",
       "    <tr>\n",
       "      <td>104824</td>\n",
       "      <td>1499_219</td>\n",
       "      <td>1499</td>\n",
       "      <td>2018-12-24</td>\n",
       "      <td>1</td>\n",
       "      <td>12</td>\n",
       "    </tr>\n",
       "  </tbody>\n",
       "</table>\n",
       "<p>104825 rows × 5 columns</p>\n",
       "</div>"
      ],
      "text/plain": [
       "              id  user_id session_date  mb_used  by_month\n",
       "0        1000_13     1000   2018-12-29        1        12\n",
       "1       1000_204     1000   2018-12-31        0        12\n",
       "2       1000_379     1000   2018-12-28        1        12\n",
       "3       1000_413     1000   2018-12-26        1        12\n",
       "4       1000_442     1000   2018-12-27        1        12\n",
       "...          ...      ...          ...      ...       ...\n",
       "104820  1499_215     1499   2018-10-20        1        10\n",
       "104821  1499_216     1499   2018-12-30        1        12\n",
       "104822  1499_217     1499   2018-09-22        1         9\n",
       "104823  1499_218     1499   2018-12-07        0        12\n",
       "104824  1499_219     1499   2018-12-24        1        12\n",
       "\n",
       "[104825 rows x 5 columns]"
      ]
     },
     "execution_count": 40,
     "metadata": {},
     "output_type": "execute_result"
    }
   ],
   "source": [
    "#this applies the np.ceil method  to the column to round up its values and then converts them to integers\n",
    "df_internet['mb_used'] = df_internet['mb_used'].apply(np.ceil).astype('int')\n",
    "df_internet"
   ]
  },
  {
   "cell_type": "code",
   "execution_count": 41,
   "metadata": {},
   "outputs": [],
   "source": [
    "# rename the column from mb_used to gb_used\n",
    "df_internet = df_internet.rename(columns={'mb_used': 'gb_used'})\n"
   ]
  },
  {
   "cell_type": "code",
   "execution_count": 42,
   "metadata": {},
   "outputs": [
    {
     "data": {
      "text/html": [
       "<div>\n",
       "<style scoped>\n",
       "    .dataframe tbody tr th:only-of-type {\n",
       "        vertical-align: middle;\n",
       "    }\n",
       "\n",
       "    .dataframe tbody tr th {\n",
       "        vertical-align: top;\n",
       "    }\n",
       "\n",
       "    .dataframe thead th {\n",
       "        text-align: right;\n",
       "    }\n",
       "</style>\n",
       "<table border=\"1\" class=\"dataframe\">\n",
       "  <thead>\n",
       "    <tr style=\"text-align: right;\">\n",
       "      <th></th>\n",
       "      <th>id</th>\n",
       "      <th>user_id</th>\n",
       "      <th>session_date</th>\n",
       "      <th>gb_used</th>\n",
       "      <th>by_month</th>\n",
       "    </tr>\n",
       "  </thead>\n",
       "  <tbody>\n",
       "    <tr>\n",
       "      <td>0</td>\n",
       "      <td>1000_13</td>\n",
       "      <td>1000</td>\n",
       "      <td>2018-12-29</td>\n",
       "      <td>1</td>\n",
       "      <td>12</td>\n",
       "    </tr>\n",
       "    <tr>\n",
       "      <td>1</td>\n",
       "      <td>1000_204</td>\n",
       "      <td>1000</td>\n",
       "      <td>2018-12-31</td>\n",
       "      <td>0</td>\n",
       "      <td>12</td>\n",
       "    </tr>\n",
       "    <tr>\n",
       "      <td>2</td>\n",
       "      <td>1000_379</td>\n",
       "      <td>1000</td>\n",
       "      <td>2018-12-28</td>\n",
       "      <td>1</td>\n",
       "      <td>12</td>\n",
       "    </tr>\n",
       "    <tr>\n",
       "      <td>3</td>\n",
       "      <td>1000_413</td>\n",
       "      <td>1000</td>\n",
       "      <td>2018-12-26</td>\n",
       "      <td>1</td>\n",
       "      <td>12</td>\n",
       "    </tr>\n",
       "    <tr>\n",
       "      <td>4</td>\n",
       "      <td>1000_442</td>\n",
       "      <td>1000</td>\n",
       "      <td>2018-12-27</td>\n",
       "      <td>1</td>\n",
       "      <td>12</td>\n",
       "    </tr>\n",
       "    <tr>\n",
       "      <td>...</td>\n",
       "      <td>...</td>\n",
       "      <td>...</td>\n",
       "      <td>...</td>\n",
       "      <td>...</td>\n",
       "      <td>...</td>\n",
       "    </tr>\n",
       "    <tr>\n",
       "      <td>104820</td>\n",
       "      <td>1499_215</td>\n",
       "      <td>1499</td>\n",
       "      <td>2018-10-20</td>\n",
       "      <td>1</td>\n",
       "      <td>10</td>\n",
       "    </tr>\n",
       "    <tr>\n",
       "      <td>104821</td>\n",
       "      <td>1499_216</td>\n",
       "      <td>1499</td>\n",
       "      <td>2018-12-30</td>\n",
       "      <td>1</td>\n",
       "      <td>12</td>\n",
       "    </tr>\n",
       "    <tr>\n",
       "      <td>104822</td>\n",
       "      <td>1499_217</td>\n",
       "      <td>1499</td>\n",
       "      <td>2018-09-22</td>\n",
       "      <td>1</td>\n",
       "      <td>9</td>\n",
       "    </tr>\n",
       "    <tr>\n",
       "      <td>104823</td>\n",
       "      <td>1499_218</td>\n",
       "      <td>1499</td>\n",
       "      <td>2018-12-07</td>\n",
       "      <td>0</td>\n",
       "      <td>12</td>\n",
       "    </tr>\n",
       "    <tr>\n",
       "      <td>104824</td>\n",
       "      <td>1499_219</td>\n",
       "      <td>1499</td>\n",
       "      <td>2018-12-24</td>\n",
       "      <td>1</td>\n",
       "      <td>12</td>\n",
       "    </tr>\n",
       "  </tbody>\n",
       "</table>\n",
       "<p>104825 rows × 5 columns</p>\n",
       "</div>"
      ],
      "text/plain": [
       "              id  user_id session_date  gb_used  by_month\n",
       "0        1000_13     1000   2018-12-29        1        12\n",
       "1       1000_204     1000   2018-12-31        0        12\n",
       "2       1000_379     1000   2018-12-28        1        12\n",
       "3       1000_413     1000   2018-12-26        1        12\n",
       "4       1000_442     1000   2018-12-27        1        12\n",
       "...          ...      ...          ...      ...       ...\n",
       "104820  1499_215     1499   2018-10-20        1        10\n",
       "104821  1499_216     1499   2018-12-30        1        12\n",
       "104822  1499_217     1499   2018-09-22        1         9\n",
       "104823  1499_218     1499   2018-12-07        0        12\n",
       "104824  1499_219     1499   2018-12-24        1        12\n",
       "\n",
       "[104825 rows x 5 columns]"
      ]
     },
     "execution_count": 42,
     "metadata": {},
     "output_type": "execute_result"
    }
   ],
   "source": [
    "df_internet"
   ]
  },
  {
   "cell_type": "code",
   "execution_count": 43,
   "metadata": {},
   "outputs": [
    {
     "data": {
      "text/plain": [
       "pandas._libs.tslibs.timestamps.Timestamp"
      ]
     },
     "execution_count": 43,
     "metadata": {},
     "output_type": "execute_result"
    }
   ],
   "source": [
    "# lets check column'session_date'\n",
    "type(df_internet.session_date[0])"
   ]
  },
  {
   "cell_type": "code",
   "execution_count": 44,
   "metadata": {},
   "outputs": [],
   "source": [
    "# Convert to Timestamps\n",
    "df_internet['session_date'] = pd.to_datetime(df_internet['session_date'],format ='%Y-%m-%d' )"
   ]
  },
  {
   "cell_type": "code",
   "execution_count": 45,
   "metadata": {},
   "outputs": [
    {
     "data": {
      "text/plain": [
       "pandas._libs.tslibs.timestamps.Timestamp"
      ]
     },
     "execution_count": 45,
     "metadata": {},
     "output_type": "execute_result"
    }
   ],
   "source": [
    "#Ckeck it if it works\n",
    "type(df_internet.session_date[0])"
   ]
  },
  {
   "cell_type": "code",
   "execution_count": 46,
   "metadata": {},
   "outputs": [
    {
     "name": "stdout",
     "output_type": "stream",
     "text": [
      "<class 'pandas.core.frame.DataFrame'>\n",
      "RangeIndex: 104825 entries, 0 to 104824\n",
      "Data columns (total 5 columns):\n",
      "id              104825 non-null object\n",
      "user_id         104825 non-null int64\n",
      "session_date    104825 non-null datetime64[ns]\n",
      "gb_used         104825 non-null int64\n",
      "by_month        104825 non-null int64\n",
      "dtypes: datetime64[ns](1), int64(3), object(1)\n",
      "memory usage: 4.0+ MB\n"
     ]
    }
   ],
   "source": [
    "#Check it if it works\n",
    "df_internet.info(verbose=True)"
   ]
  },
  {
   "cell_type": "code",
   "execution_count": 47,
   "metadata": {},
   "outputs": [
    {
     "name": "stdout",
     "output_type": "stream",
     "text": [
      "0\n"
     ]
    }
   ],
   "source": [
    "# Check for dublicates\n",
    "print(df_users.duplicated().sum()) "
   ]
  },
  {
   "cell_type": "markdown",
   "metadata": {},
   "source": [
    "## Study plan conditions"
   ]
  },
  {
   "cell_type": "markdown",
   "metadata": {},
   "source": [
    "It is critical to understand how the plans work, how users are charged based on their plan subscription. So, we suggest printing out the plan information to view their conditions once again."
   ]
  },
  {
   "cell_type": "code",
   "execution_count": 48,
   "metadata": {},
   "outputs": [
    {
     "data": {
      "text/html": [
       "<div>\n",
       "<style scoped>\n",
       "    .dataframe tbody tr th:only-of-type {\n",
       "        vertical-align: middle;\n",
       "    }\n",
       "\n",
       "    .dataframe tbody tr th {\n",
       "        vertical-align: top;\n",
       "    }\n",
       "\n",
       "    .dataframe thead th {\n",
       "        text-align: right;\n",
       "    }\n",
       "</style>\n",
       "<table border=\"1\" class=\"dataframe\">\n",
       "  <thead>\n",
       "    <tr style=\"text-align: right;\">\n",
       "      <th></th>\n",
       "      <th>messages_included</th>\n",
       "      <th>mb_per_month_included</th>\n",
       "      <th>minutes_included</th>\n",
       "      <th>usd_monthly_pay</th>\n",
       "      <th>usd_per_gb</th>\n",
       "      <th>usd_per_message</th>\n",
       "      <th>usd_per_minute</th>\n",
       "      <th>plan_name</th>\n",
       "    </tr>\n",
       "  </thead>\n",
       "  <tbody>\n",
       "    <tr>\n",
       "      <td>0</td>\n",
       "      <td>50</td>\n",
       "      <td>15360</td>\n",
       "      <td>500</td>\n",
       "      <td>20</td>\n",
       "      <td>10</td>\n",
       "      <td>0.03</td>\n",
       "      <td>0.03</td>\n",
       "      <td>surf</td>\n",
       "    </tr>\n",
       "    <tr>\n",
       "      <td>1</td>\n",
       "      <td>1000</td>\n",
       "      <td>30720</td>\n",
       "      <td>3000</td>\n",
       "      <td>70</td>\n",
       "      <td>7</td>\n",
       "      <td>0.01</td>\n",
       "      <td>0.01</td>\n",
       "      <td>ultimate</td>\n",
       "    </tr>\n",
       "  </tbody>\n",
       "</table>\n",
       "</div>"
      ],
      "text/plain": [
       "   messages_included  mb_per_month_included  minutes_included  \\\n",
       "0                 50                  15360               500   \n",
       "1               1000                  30720              3000   \n",
       "\n",
       "   usd_monthly_pay  usd_per_gb  usd_per_message  usd_per_minute plan_name  \n",
       "0               20          10             0.03            0.03      surf  \n",
       "1               70           7             0.01            0.01  ultimate  "
      ]
     },
     "metadata": {},
     "output_type": "display_data"
    }
   ],
   "source": [
    "# Print out the plan conditions and make sure they are clear for you\n",
    "\n",
    "display(df_plans)"
   ]
  },
  {
   "cell_type": "markdown",
   "metadata": {},
   "source": [
    "# Aggregate data per user\n",
    "\n",
    "Now, as the data is clean, aggregate data per user per period in order to have just one record per user per period. It should ease the further analysis a lot."
   ]
  },
  {
   "cell_type": "code",
   "execution_count": 49,
   "metadata": {},
   "outputs": [
    {
     "data": {
      "text/html": [
       "<div>\n",
       "<style scoped>\n",
       "    .dataframe tbody tr th:only-of-type {\n",
       "        vertical-align: middle;\n",
       "    }\n",
       "\n",
       "    .dataframe tbody tr th {\n",
       "        vertical-align: top;\n",
       "    }\n",
       "\n",
       "    .dataframe thead th {\n",
       "        text-align: right;\n",
       "    }\n",
       "</style>\n",
       "<table border=\"1\" class=\"dataframe\">\n",
       "  <thead>\n",
       "    <tr style=\"text-align: right;\">\n",
       "      <th></th>\n",
       "      <th>user_id</th>\n",
       "      <th>by_month</th>\n",
       "      <th>calls_per_month</th>\n",
       "    </tr>\n",
       "  </thead>\n",
       "  <tbody>\n",
       "    <tr>\n",
       "      <td>0</td>\n",
       "      <td>1000</td>\n",
       "      <td>12</td>\n",
       "      <td>16</td>\n",
       "    </tr>\n",
       "    <tr>\n",
       "      <td>1</td>\n",
       "      <td>1001</td>\n",
       "      <td>8</td>\n",
       "      <td>27</td>\n",
       "    </tr>\n",
       "    <tr>\n",
       "      <td>2</td>\n",
       "      <td>1001</td>\n",
       "      <td>9</td>\n",
       "      <td>49</td>\n",
       "    </tr>\n",
       "    <tr>\n",
       "      <td>3</td>\n",
       "      <td>1001</td>\n",
       "      <td>10</td>\n",
       "      <td>65</td>\n",
       "    </tr>\n",
       "    <tr>\n",
       "      <td>4</td>\n",
       "      <td>1001</td>\n",
       "      <td>11</td>\n",
       "      <td>64</td>\n",
       "    </tr>\n",
       "    <tr>\n",
       "      <td>...</td>\n",
       "      <td>...</td>\n",
       "      <td>...</td>\n",
       "      <td>...</td>\n",
       "    </tr>\n",
       "    <tr>\n",
       "      <td>2253</td>\n",
       "      <td>1498</td>\n",
       "      <td>12</td>\n",
       "      <td>39</td>\n",
       "    </tr>\n",
       "    <tr>\n",
       "      <td>2254</td>\n",
       "      <td>1499</td>\n",
       "      <td>9</td>\n",
       "      <td>41</td>\n",
       "    </tr>\n",
       "    <tr>\n",
       "      <td>2255</td>\n",
       "      <td>1499</td>\n",
       "      <td>10</td>\n",
       "      <td>53</td>\n",
       "    </tr>\n",
       "    <tr>\n",
       "      <td>2256</td>\n",
       "      <td>1499</td>\n",
       "      <td>11</td>\n",
       "      <td>45</td>\n",
       "    </tr>\n",
       "    <tr>\n",
       "      <td>2257</td>\n",
       "      <td>1499</td>\n",
       "      <td>12</td>\n",
       "      <td>65</td>\n",
       "    </tr>\n",
       "  </tbody>\n",
       "</table>\n",
       "<p>2258 rows × 3 columns</p>\n",
       "</div>"
      ],
      "text/plain": [
       "      user_id  by_month  calls_per_month\n",
       "0        1000        12               16\n",
       "1        1001         8               27\n",
       "2        1001         9               49\n",
       "3        1001        10               65\n",
       "4        1001        11               64\n",
       "...       ...       ...              ...\n",
       "2253     1498        12               39\n",
       "2254     1499         9               41\n",
       "2255     1499        10               53\n",
       "2256     1499        11               45\n",
       "2257     1499        12               65\n",
       "\n",
       "[2258 rows x 3 columns]"
      ]
     },
     "execution_count": 49,
     "metadata": {},
     "output_type": "execute_result"
    }
   ],
   "source": [
    "## Calculate the number of calls made by each user per month. Save the result and Rename\n",
    "df_calls_1 = df_calls.groupby(['user_id','by_month']).agg(calls_per_month=('by_month', 'count')).reset_index()\n",
    "df_calls_1"
   ]
  },
  {
   "cell_type": "code",
   "execution_count": 50,
   "metadata": {},
   "outputs": [
    {
     "data": {
      "text/html": [
       "<div>\n",
       "<style scoped>\n",
       "    .dataframe tbody tr th:only-of-type {\n",
       "        vertical-align: middle;\n",
       "    }\n",
       "\n",
       "    .dataframe tbody tr th {\n",
       "        vertical-align: top;\n",
       "    }\n",
       "\n",
       "    .dataframe thead th {\n",
       "        text-align: right;\n",
       "    }\n",
       "</style>\n",
       "<table border=\"1\" class=\"dataframe\">\n",
       "  <thead>\n",
       "    <tr style=\"text-align: right;\">\n",
       "      <th></th>\n",
       "      <th>user_id</th>\n",
       "      <th>by_month</th>\n",
       "      <th>mins_per_month</th>\n",
       "    </tr>\n",
       "  </thead>\n",
       "  <tbody>\n",
       "    <tr>\n",
       "      <td>0</td>\n",
       "      <td>1000</td>\n",
       "      <td>12</td>\n",
       "      <td>124</td>\n",
       "    </tr>\n",
       "    <tr>\n",
       "      <td>1</td>\n",
       "      <td>1001</td>\n",
       "      <td>8</td>\n",
       "      <td>182</td>\n",
       "    </tr>\n",
       "    <tr>\n",
       "      <td>2</td>\n",
       "      <td>1001</td>\n",
       "      <td>9</td>\n",
       "      <td>315</td>\n",
       "    </tr>\n",
       "    <tr>\n",
       "      <td>3</td>\n",
       "      <td>1001</td>\n",
       "      <td>10</td>\n",
       "      <td>393</td>\n",
       "    </tr>\n",
       "    <tr>\n",
       "      <td>4</td>\n",
       "      <td>1001</td>\n",
       "      <td>11</td>\n",
       "      <td>426</td>\n",
       "    </tr>\n",
       "    <tr>\n",
       "      <td>...</td>\n",
       "      <td>...</td>\n",
       "      <td>...</td>\n",
       "      <td>...</td>\n",
       "    </tr>\n",
       "    <tr>\n",
       "      <td>2253</td>\n",
       "      <td>1498</td>\n",
       "      <td>12</td>\n",
       "      <td>339</td>\n",
       "    </tr>\n",
       "    <tr>\n",
       "      <td>2254</td>\n",
       "      <td>1499</td>\n",
       "      <td>9</td>\n",
       "      <td>346</td>\n",
       "    </tr>\n",
       "    <tr>\n",
       "      <td>2255</td>\n",
       "      <td>1499</td>\n",
       "      <td>10</td>\n",
       "      <td>385</td>\n",
       "    </tr>\n",
       "    <tr>\n",
       "      <td>2256</td>\n",
       "      <td>1499</td>\n",
       "      <td>11</td>\n",
       "      <td>308</td>\n",
       "    </tr>\n",
       "    <tr>\n",
       "      <td>2257</td>\n",
       "      <td>1499</td>\n",
       "      <td>12</td>\n",
       "      <td>496</td>\n",
       "    </tr>\n",
       "  </tbody>\n",
       "</table>\n",
       "<p>2258 rows × 3 columns</p>\n",
       "</div>"
      ],
      "text/plain": [
       "      user_id  by_month  mins_per_month\n",
       "0        1000        12             124\n",
       "1        1001         8             182\n",
       "2        1001         9             315\n",
       "3        1001        10             393\n",
       "4        1001        11             426\n",
       "...       ...       ...             ...\n",
       "2253     1498        12             339\n",
       "2254     1499         9             346\n",
       "2255     1499        10             385\n",
       "2256     1499        11             308\n",
       "2257     1499        12             496\n",
       "\n",
       "[2258 rows x 3 columns]"
      ]
     },
     "execution_count": 50,
     "metadata": {},
     "output_type": "execute_result"
    }
   ],
   "source": [
    "## Calculate the amount of minutes spent by each user per month. Save the result. Rename\n",
    "df_min_1 = df_calls.groupby(['user_id','by_month']).agg(mins_per_month=('duration', 'sum')).reset_index()\n",
    "df_min_1"
   ]
  },
  {
   "cell_type": "code",
   "execution_count": 51,
   "metadata": {},
   "outputs": [
    {
     "data": {
      "text/html": [
       "<div>\n",
       "<style scoped>\n",
       "    .dataframe tbody tr th:only-of-type {\n",
       "        vertical-align: middle;\n",
       "    }\n",
       "\n",
       "    .dataframe tbody tr th {\n",
       "        vertical-align: top;\n",
       "    }\n",
       "\n",
       "    .dataframe thead th {\n",
       "        text-align: right;\n",
       "    }\n",
       "</style>\n",
       "<table border=\"1\" class=\"dataframe\">\n",
       "  <thead>\n",
       "    <tr style=\"text-align: right;\">\n",
       "      <th></th>\n",
       "      <th>user_id</th>\n",
       "      <th>by_month</th>\n",
       "      <th>count</th>\n",
       "      <th>sum</th>\n",
       "    </tr>\n",
       "  </thead>\n",
       "  <tbody>\n",
       "    <tr>\n",
       "      <td>0</td>\n",
       "      <td>1000</td>\n",
       "      <td>12</td>\n",
       "      <td>16</td>\n",
       "      <td>124</td>\n",
       "    </tr>\n",
       "    <tr>\n",
       "      <td>1</td>\n",
       "      <td>1001</td>\n",
       "      <td>8</td>\n",
       "      <td>27</td>\n",
       "      <td>182</td>\n",
       "    </tr>\n",
       "    <tr>\n",
       "      <td>2</td>\n",
       "      <td>1001</td>\n",
       "      <td>9</td>\n",
       "      <td>49</td>\n",
       "      <td>315</td>\n",
       "    </tr>\n",
       "    <tr>\n",
       "      <td>3</td>\n",
       "      <td>1001</td>\n",
       "      <td>10</td>\n",
       "      <td>65</td>\n",
       "      <td>393</td>\n",
       "    </tr>\n",
       "    <tr>\n",
       "      <td>4</td>\n",
       "      <td>1001</td>\n",
       "      <td>11</td>\n",
       "      <td>64</td>\n",
       "      <td>426</td>\n",
       "    </tr>\n",
       "    <tr>\n",
       "      <td>...</td>\n",
       "      <td>...</td>\n",
       "      <td>...</td>\n",
       "      <td>...</td>\n",
       "      <td>...</td>\n",
       "    </tr>\n",
       "    <tr>\n",
       "      <td>2253</td>\n",
       "      <td>1498</td>\n",
       "      <td>12</td>\n",
       "      <td>39</td>\n",
       "      <td>339</td>\n",
       "    </tr>\n",
       "    <tr>\n",
       "      <td>2254</td>\n",
       "      <td>1499</td>\n",
       "      <td>9</td>\n",
       "      <td>41</td>\n",
       "      <td>346</td>\n",
       "    </tr>\n",
       "    <tr>\n",
       "      <td>2255</td>\n",
       "      <td>1499</td>\n",
       "      <td>10</td>\n",
       "      <td>53</td>\n",
       "      <td>385</td>\n",
       "    </tr>\n",
       "    <tr>\n",
       "      <td>2256</td>\n",
       "      <td>1499</td>\n",
       "      <td>11</td>\n",
       "      <td>45</td>\n",
       "      <td>308</td>\n",
       "    </tr>\n",
       "    <tr>\n",
       "      <td>2257</td>\n",
       "      <td>1499</td>\n",
       "      <td>12</td>\n",
       "      <td>65</td>\n",
       "      <td>496</td>\n",
       "    </tr>\n",
       "  </tbody>\n",
       "</table>\n",
       "<p>2258 rows × 4 columns</p>\n",
       "</div>"
      ],
      "text/plain": [
       "      user_id  by_month  count  sum\n",
       "0        1000        12     16  124\n",
       "1        1001         8     27  182\n",
       "2        1001         9     49  315\n",
       "3        1001        10     65  393\n",
       "4        1001        11     64  426\n",
       "...       ...       ...    ...  ...\n",
       "2253     1498        12     39  339\n",
       "2254     1499         9     41  346\n",
       "2255     1499        10     53  385\n",
       "2256     1499        11     45  308\n",
       "2257     1499        12     65  496\n",
       "\n",
       "[2258 rows x 4 columns]"
      ]
     },
     "execution_count": 51,
     "metadata": {},
     "output_type": "execute_result"
    }
   ],
   "source": [
    "df_min2 = df_calls.pivot_table(index = ('user_id','by_month'), values = 'duration', aggfunc = ('count','sum')).reset_index()\n",
    "df_min2"
   ]
  },
  {
   "cell_type": "code",
   "execution_count": 52,
   "metadata": {},
   "outputs": [
    {
     "data": {
      "text/html": [
       "<div>\n",
       "<style scoped>\n",
       "    .dataframe tbody tr th:only-of-type {\n",
       "        vertical-align: middle;\n",
       "    }\n",
       "\n",
       "    .dataframe tbody tr th {\n",
       "        vertical-align: top;\n",
       "    }\n",
       "\n",
       "    .dataframe thead th {\n",
       "        text-align: right;\n",
       "    }\n",
       "</style>\n",
       "<table border=\"1\" class=\"dataframe\">\n",
       "  <thead>\n",
       "    <tr style=\"text-align: right;\">\n",
       "      <th></th>\n",
       "      <th>user_id</th>\n",
       "      <th>by_month</th>\n",
       "      <th>messages_per_month</th>\n",
       "    </tr>\n",
       "  </thead>\n",
       "  <tbody>\n",
       "    <tr>\n",
       "      <td>0</td>\n",
       "      <td>1000</td>\n",
       "      <td>12</td>\n",
       "      <td>11</td>\n",
       "    </tr>\n",
       "    <tr>\n",
       "      <td>1</td>\n",
       "      <td>1001</td>\n",
       "      <td>8</td>\n",
       "      <td>30</td>\n",
       "    </tr>\n",
       "    <tr>\n",
       "      <td>2</td>\n",
       "      <td>1001</td>\n",
       "      <td>9</td>\n",
       "      <td>44</td>\n",
       "    </tr>\n",
       "    <tr>\n",
       "      <td>3</td>\n",
       "      <td>1001</td>\n",
       "      <td>10</td>\n",
       "      <td>53</td>\n",
       "    </tr>\n",
       "    <tr>\n",
       "      <td>4</td>\n",
       "      <td>1001</td>\n",
       "      <td>11</td>\n",
       "      <td>36</td>\n",
       "    </tr>\n",
       "    <tr>\n",
       "      <td>...</td>\n",
       "      <td>...</td>\n",
       "      <td>...</td>\n",
       "      <td>...</td>\n",
       "    </tr>\n",
       "    <tr>\n",
       "      <td>1801</td>\n",
       "      <td>1496</td>\n",
       "      <td>9</td>\n",
       "      <td>21</td>\n",
       "    </tr>\n",
       "    <tr>\n",
       "      <td>1802</td>\n",
       "      <td>1496</td>\n",
       "      <td>10</td>\n",
       "      <td>18</td>\n",
       "    </tr>\n",
       "    <tr>\n",
       "      <td>1803</td>\n",
       "      <td>1496</td>\n",
       "      <td>11</td>\n",
       "      <td>13</td>\n",
       "    </tr>\n",
       "    <tr>\n",
       "      <td>1804</td>\n",
       "      <td>1496</td>\n",
       "      <td>12</td>\n",
       "      <td>11</td>\n",
       "    </tr>\n",
       "    <tr>\n",
       "      <td>1805</td>\n",
       "      <td>1497</td>\n",
       "      <td>12</td>\n",
       "      <td>50</td>\n",
       "    </tr>\n",
       "  </tbody>\n",
       "</table>\n",
       "<p>1806 rows × 3 columns</p>\n",
       "</div>"
      ],
      "text/plain": [
       "      user_id  by_month  messages_per_month\n",
       "0        1000        12                  11\n",
       "1        1001         8                  30\n",
       "2        1001         9                  44\n",
       "3        1001        10                  53\n",
       "4        1001        11                  36\n",
       "...       ...       ...                 ...\n",
       "1801     1496         9                  21\n",
       "1802     1496        10                  18\n",
       "1803     1496        11                  13\n",
       "1804     1496        12                  11\n",
       "1805     1497        12                  50\n",
       "\n",
       "[1806 rows x 3 columns]"
      ]
     },
     "execution_count": 52,
     "metadata": {},
     "output_type": "execute_result"
    }
   ],
   "source": [
    "## Calculate the number of messages sent by each user per month. Save the result. Rename\n",
    "df_message_1 = df_messages.groupby(['user_id','by_month']).agg(messages_per_month=('by_month', 'count')).reset_index()\n",
    "df_message_1"
   ]
  },
  {
   "cell_type": "code",
   "execution_count": 53,
   "metadata": {},
   "outputs": [
    {
     "data": {
      "text/html": [
       "<div>\n",
       "<style scoped>\n",
       "    .dataframe tbody tr th:only-of-type {\n",
       "        vertical-align: middle;\n",
       "    }\n",
       "\n",
       "    .dataframe tbody tr th {\n",
       "        vertical-align: top;\n",
       "    }\n",
       "\n",
       "    .dataframe thead th {\n",
       "        text-align: right;\n",
       "    }\n",
       "</style>\n",
       "<table border=\"1\" class=\"dataframe\">\n",
       "  <thead>\n",
       "    <tr style=\"text-align: right;\">\n",
       "      <th></th>\n",
       "      <th>user_id</th>\n",
       "      <th>by_month</th>\n",
       "      <th>gb_per_month</th>\n",
       "    </tr>\n",
       "  </thead>\n",
       "  <tbody>\n",
       "    <tr>\n",
       "      <td>0</td>\n",
       "      <td>1000</td>\n",
       "      <td>12</td>\n",
       "      <td>4</td>\n",
       "    </tr>\n",
       "    <tr>\n",
       "      <td>1</td>\n",
       "      <td>1001</td>\n",
       "      <td>8</td>\n",
       "      <td>21</td>\n",
       "    </tr>\n",
       "    <tr>\n",
       "      <td>2</td>\n",
       "      <td>1001</td>\n",
       "      <td>9</td>\n",
       "      <td>41</td>\n",
       "    </tr>\n",
       "    <tr>\n",
       "      <td>3</td>\n",
       "      <td>1001</td>\n",
       "      <td>10</td>\n",
       "      <td>50</td>\n",
       "    </tr>\n",
       "    <tr>\n",
       "      <td>4</td>\n",
       "      <td>1001</td>\n",
       "      <td>11</td>\n",
       "      <td>49</td>\n",
       "    </tr>\n",
       "    <tr>\n",
       "      <td>...</td>\n",
       "      <td>...</td>\n",
       "      <td>...</td>\n",
       "      <td>...</td>\n",
       "    </tr>\n",
       "    <tr>\n",
       "      <td>2272</td>\n",
       "      <td>1498</td>\n",
       "      <td>12</td>\n",
       "      <td>56</td>\n",
       "    </tr>\n",
       "    <tr>\n",
       "      <td>2273</td>\n",
       "      <td>1499</td>\n",
       "      <td>9</td>\n",
       "      <td>37</td>\n",
       "    </tr>\n",
       "    <tr>\n",
       "      <td>2274</td>\n",
       "      <td>1499</td>\n",
       "      <td>10</td>\n",
       "      <td>52</td>\n",
       "    </tr>\n",
       "    <tr>\n",
       "      <td>2275</td>\n",
       "      <td>1499</td>\n",
       "      <td>11</td>\n",
       "      <td>43</td>\n",
       "    </tr>\n",
       "    <tr>\n",
       "      <td>2276</td>\n",
       "      <td>1499</td>\n",
       "      <td>12</td>\n",
       "      <td>58</td>\n",
       "    </tr>\n",
       "  </tbody>\n",
       "</table>\n",
       "<p>2277 rows × 3 columns</p>\n",
       "</div>"
      ],
      "text/plain": [
       "      user_id  by_month  gb_per_month\n",
       "0        1000        12             4\n",
       "1        1001         8            21\n",
       "2        1001         9            41\n",
       "3        1001        10            50\n",
       "4        1001        11            49\n",
       "...       ...       ...           ...\n",
       "2272     1498        12            56\n",
       "2273     1499         9            37\n",
       "2274     1499        10            52\n",
       "2275     1499        11            43\n",
       "2276     1499        12            58\n",
       "\n",
       "[2277 rows x 3 columns]"
      ]
     },
     "execution_count": 53,
     "metadata": {},
     "output_type": "execute_result"
    }
   ],
   "source": [
    "## Calculate the volume of internet traffic used by each user per month. Save the result. Rename\n",
    "df_traffic_1 = df_internet.groupby(['user_id','by_month']).agg(gb_per_month=('gb_used', 'sum')).reset_index()\n",
    "df_traffic_1"
   ]
  },
  {
   "cell_type": "markdown",
   "metadata": {},
   "source": [
    "Putting the aggregate data together into one DataFrame so that one record in it would represent what an unique user consumed in a given month."
   ]
  },
  {
   "cell_type": "code",
   "execution_count": 54,
   "metadata": {},
   "outputs": [
    {
     "data": {
      "text/html": [
       "<div>\n",
       "<style scoped>\n",
       "    .dataframe tbody tr th:only-of-type {\n",
       "        vertical-align: middle;\n",
       "    }\n",
       "\n",
       "    .dataframe tbody tr th {\n",
       "        vertical-align: top;\n",
       "    }\n",
       "\n",
       "    .dataframe thead th {\n",
       "        text-align: right;\n",
       "    }\n",
       "</style>\n",
       "<table border=\"1\" class=\"dataframe\">\n",
       "  <thead>\n",
       "    <tr style=\"text-align: right;\">\n",
       "      <th></th>\n",
       "      <th>user_id</th>\n",
       "      <th>by_month</th>\n",
       "      <th>calls_per_month</th>\n",
       "      <th>mins_per_month</th>\n",
       "      <th>messages_per_month</th>\n",
       "      <th>gb_per_month</th>\n",
       "    </tr>\n",
       "  </thead>\n",
       "  <tbody>\n",
       "    <tr>\n",
       "      <td>0</td>\n",
       "      <td>1000</td>\n",
       "      <td>12</td>\n",
       "      <td>16.0</td>\n",
       "      <td>124.0</td>\n",
       "      <td>11.0</td>\n",
       "      <td>4.0</td>\n",
       "    </tr>\n",
       "    <tr>\n",
       "      <td>1</td>\n",
       "      <td>1001</td>\n",
       "      <td>8</td>\n",
       "      <td>27.0</td>\n",
       "      <td>182.0</td>\n",
       "      <td>30.0</td>\n",
       "      <td>21.0</td>\n",
       "    </tr>\n",
       "    <tr>\n",
       "      <td>2</td>\n",
       "      <td>1001</td>\n",
       "      <td>9</td>\n",
       "      <td>49.0</td>\n",
       "      <td>315.0</td>\n",
       "      <td>44.0</td>\n",
       "      <td>41.0</td>\n",
       "    </tr>\n",
       "    <tr>\n",
       "      <td>3</td>\n",
       "      <td>1001</td>\n",
       "      <td>10</td>\n",
       "      <td>65.0</td>\n",
       "      <td>393.0</td>\n",
       "      <td>53.0</td>\n",
       "      <td>50.0</td>\n",
       "    </tr>\n",
       "    <tr>\n",
       "      <td>4</td>\n",
       "      <td>1001</td>\n",
       "      <td>11</td>\n",
       "      <td>64.0</td>\n",
       "      <td>426.0</td>\n",
       "      <td>36.0</td>\n",
       "      <td>49.0</td>\n",
       "    </tr>\n",
       "    <tr>\n",
       "      <td>...</td>\n",
       "      <td>...</td>\n",
       "      <td>...</td>\n",
       "      <td>...</td>\n",
       "      <td>...</td>\n",
       "      <td>...</td>\n",
       "      <td>...</td>\n",
       "    </tr>\n",
       "    <tr>\n",
       "      <td>2288</td>\n",
       "      <td>1349</td>\n",
       "      <td>12</td>\n",
       "      <td>0.0</td>\n",
       "      <td>0.0</td>\n",
       "      <td>61.0</td>\n",
       "      <td>27.0</td>\n",
       "    </tr>\n",
       "    <tr>\n",
       "      <td>2289</td>\n",
       "      <td>1361</td>\n",
       "      <td>5</td>\n",
       "      <td>0.0</td>\n",
       "      <td>0.0</td>\n",
       "      <td>2.0</td>\n",
       "      <td>7.0</td>\n",
       "    </tr>\n",
       "    <tr>\n",
       "      <td>2290</td>\n",
       "      <td>1482</td>\n",
       "      <td>10</td>\n",
       "      <td>0.0</td>\n",
       "      <td>0.0</td>\n",
       "      <td>2.0</td>\n",
       "      <td>0.0</td>\n",
       "    </tr>\n",
       "    <tr>\n",
       "      <td>2291</td>\n",
       "      <td>1108</td>\n",
       "      <td>12</td>\n",
       "      <td>0.0</td>\n",
       "      <td>0.0</td>\n",
       "      <td>0.0</td>\n",
       "      <td>2.0</td>\n",
       "    </tr>\n",
       "    <tr>\n",
       "      <td>2292</td>\n",
       "      <td>1311</td>\n",
       "      <td>6</td>\n",
       "      <td>0.0</td>\n",
       "      <td>0.0</td>\n",
       "      <td>0.0</td>\n",
       "      <td>7.0</td>\n",
       "    </tr>\n",
       "  </tbody>\n",
       "</table>\n",
       "<p>2293 rows × 6 columns</p>\n",
       "</div>"
      ],
      "text/plain": [
       "      user_id  by_month  calls_per_month  mins_per_month  messages_per_month  \\\n",
       "0        1000        12             16.0           124.0                11.0   \n",
       "1        1001         8             27.0           182.0                30.0   \n",
       "2        1001         9             49.0           315.0                44.0   \n",
       "3        1001        10             65.0           393.0                53.0   \n",
       "4        1001        11             64.0           426.0                36.0   \n",
       "...       ...       ...              ...             ...                 ...   \n",
       "2288     1349        12              0.0             0.0                61.0   \n",
       "2289     1361         5              0.0             0.0                 2.0   \n",
       "2290     1482        10              0.0             0.0                 2.0   \n",
       "2291     1108        12              0.0             0.0                 0.0   \n",
       "2292     1311         6              0.0             0.0                 0.0   \n",
       "\n",
       "      gb_per_month  \n",
       "0              4.0  \n",
       "1             21.0  \n",
       "2             41.0  \n",
       "3             50.0  \n",
       "4             49.0  \n",
       "...            ...  \n",
       "2288          27.0  \n",
       "2289           7.0  \n",
       "2290           0.0  \n",
       "2291           2.0  \n",
       "2292           7.0  \n",
       "\n",
       "[2293 rows x 6 columns]"
      ]
     },
     "execution_count": 54,
     "metadata": {},
     "output_type": "execute_result"
    }
   ],
   "source": [
    "# Merge the data for calls, minutes, messages, internet based on user_id and month\n",
    "import pandas as pd\n",
    "from functools import reduce\n",
    "dfs = [df_calls_1,df_min_1 , df_message_1,df_traffic_1] #additional dfs can be added here.\n",
    "\n",
    "#You can loop over the list,merging the dfs. But here reduce and a lambda is used.\n",
    "final_df  = reduce(lambda  left,right: pd.merge(left,right,on=['user_id','by_month'],how='outer'), dfs).fillna(0)\n",
    "final_df"
   ]
  },
  {
   "cell_type": "code",
   "execution_count": 55,
   "metadata": {
    "scrolled": false
   },
   "outputs": [
    {
     "data": {
      "text/html": [
       "<div>\n",
       "<style scoped>\n",
       "    .dataframe tbody tr th:only-of-type {\n",
       "        vertical-align: middle;\n",
       "    }\n",
       "\n",
       "    .dataframe tbody tr th {\n",
       "        vertical-align: top;\n",
       "    }\n",
       "\n",
       "    .dataframe thead th {\n",
       "        text-align: right;\n",
       "    }\n",
       "</style>\n",
       "<table border=\"1\" class=\"dataframe\">\n",
       "  <thead>\n",
       "    <tr style=\"text-align: right;\">\n",
       "      <th></th>\n",
       "      <th>user_id</th>\n",
       "      <th>by_month</th>\n",
       "      <th>calls_per_month</th>\n",
       "      <th>mins_per_month</th>\n",
       "      <th>messages_per_month</th>\n",
       "      <th>gb_per_month</th>\n",
       "      <th>city</th>\n",
       "      <th>plan</th>\n",
       "    </tr>\n",
       "  </thead>\n",
       "  <tbody>\n",
       "    <tr>\n",
       "      <td>0</td>\n",
       "      <td>1000</td>\n",
       "      <td>12.0</td>\n",
       "      <td>16.0</td>\n",
       "      <td>124.0</td>\n",
       "      <td>11.0</td>\n",
       "      <td>4.0</td>\n",
       "      <td>Atlanta-Sandy Springs-Roswell, GA MSA</td>\n",
       "      <td>ultimate</td>\n",
       "    </tr>\n",
       "    <tr>\n",
       "      <td>1</td>\n",
       "      <td>1001</td>\n",
       "      <td>8.0</td>\n",
       "      <td>27.0</td>\n",
       "      <td>182.0</td>\n",
       "      <td>30.0</td>\n",
       "      <td>21.0</td>\n",
       "      <td>Seattle-Tacoma-Bellevue, WA MSA</td>\n",
       "      <td>surf</td>\n",
       "    </tr>\n",
       "    <tr>\n",
       "      <td>2</td>\n",
       "      <td>1001</td>\n",
       "      <td>9.0</td>\n",
       "      <td>49.0</td>\n",
       "      <td>315.0</td>\n",
       "      <td>44.0</td>\n",
       "      <td>41.0</td>\n",
       "      <td>Seattle-Tacoma-Bellevue, WA MSA</td>\n",
       "      <td>surf</td>\n",
       "    </tr>\n",
       "    <tr>\n",
       "      <td>3</td>\n",
       "      <td>1001</td>\n",
       "      <td>10.0</td>\n",
       "      <td>65.0</td>\n",
       "      <td>393.0</td>\n",
       "      <td>53.0</td>\n",
       "      <td>50.0</td>\n",
       "      <td>Seattle-Tacoma-Bellevue, WA MSA</td>\n",
       "      <td>surf</td>\n",
       "    </tr>\n",
       "    <tr>\n",
       "      <td>4</td>\n",
       "      <td>1001</td>\n",
       "      <td>11.0</td>\n",
       "      <td>64.0</td>\n",
       "      <td>426.0</td>\n",
       "      <td>36.0</td>\n",
       "      <td>49.0</td>\n",
       "      <td>Seattle-Tacoma-Bellevue, WA MSA</td>\n",
       "      <td>surf</td>\n",
       "    </tr>\n",
       "    <tr>\n",
       "      <td>...</td>\n",
       "      <td>...</td>\n",
       "      <td>...</td>\n",
       "      <td>...</td>\n",
       "      <td>...</td>\n",
       "      <td>...</td>\n",
       "      <td>...</td>\n",
       "      <td>...</td>\n",
       "      <td>...</td>\n",
       "    </tr>\n",
       "    <tr>\n",
       "      <td>2298</td>\n",
       "      <td>1307</td>\n",
       "      <td>0.0</td>\n",
       "      <td>0.0</td>\n",
       "      <td>0.0</td>\n",
       "      <td>0.0</td>\n",
       "      <td>0.0</td>\n",
       "      <td>Boston-Cambridge-Newton, MA-NH MSA</td>\n",
       "      <td>surf</td>\n",
       "    </tr>\n",
       "    <tr>\n",
       "      <td>2299</td>\n",
       "      <td>1319</td>\n",
       "      <td>0.0</td>\n",
       "      <td>0.0</td>\n",
       "      <td>0.0</td>\n",
       "      <td>0.0</td>\n",
       "      <td>0.0</td>\n",
       "      <td>Colorado Springs, CO MSA</td>\n",
       "      <td>surf</td>\n",
       "    </tr>\n",
       "    <tr>\n",
       "      <td>2300</td>\n",
       "      <td>1378</td>\n",
       "      <td>0.0</td>\n",
       "      <td>0.0</td>\n",
       "      <td>0.0</td>\n",
       "      <td>0.0</td>\n",
       "      <td>0.0</td>\n",
       "      <td>Denver-Aurora-Lakewood, CO MSA</td>\n",
       "      <td>surf</td>\n",
       "    </tr>\n",
       "    <tr>\n",
       "      <td>2301</td>\n",
       "      <td>1463</td>\n",
       "      <td>0.0</td>\n",
       "      <td>0.0</td>\n",
       "      <td>0.0</td>\n",
       "      <td>0.0</td>\n",
       "      <td>0.0</td>\n",
       "      <td>Atlanta-Sandy Springs-Roswell, GA MSA</td>\n",
       "      <td>ultimate</td>\n",
       "    </tr>\n",
       "    <tr>\n",
       "      <td>2302</td>\n",
       "      <td>1473</td>\n",
       "      <td>0.0</td>\n",
       "      <td>0.0</td>\n",
       "      <td>0.0</td>\n",
       "      <td>0.0</td>\n",
       "      <td>0.0</td>\n",
       "      <td>Louisville/Jefferson County, KY-IN MSA</td>\n",
       "      <td>surf</td>\n",
       "    </tr>\n",
       "  </tbody>\n",
       "</table>\n",
       "<p>2303 rows × 8 columns</p>\n",
       "</div>"
      ],
      "text/plain": [
       "      user_id  by_month  calls_per_month  mins_per_month  messages_per_month  \\\n",
       "0        1000      12.0             16.0           124.0                11.0   \n",
       "1        1001       8.0             27.0           182.0                30.0   \n",
       "2        1001       9.0             49.0           315.0                44.0   \n",
       "3        1001      10.0             65.0           393.0                53.0   \n",
       "4        1001      11.0             64.0           426.0                36.0   \n",
       "...       ...       ...              ...             ...                 ...   \n",
       "2298     1307       0.0              0.0             0.0                 0.0   \n",
       "2299     1319       0.0              0.0             0.0                 0.0   \n",
       "2300     1378       0.0              0.0             0.0                 0.0   \n",
       "2301     1463       0.0              0.0             0.0                 0.0   \n",
       "2302     1473       0.0              0.0             0.0                 0.0   \n",
       "\n",
       "      gb_per_month                                    city      plan  \n",
       "0              4.0   Atlanta-Sandy Springs-Roswell, GA MSA  ultimate  \n",
       "1             21.0         Seattle-Tacoma-Bellevue, WA MSA      surf  \n",
       "2             41.0         Seattle-Tacoma-Bellevue, WA MSA      surf  \n",
       "3             50.0         Seattle-Tacoma-Bellevue, WA MSA      surf  \n",
       "4             49.0         Seattle-Tacoma-Bellevue, WA MSA      surf  \n",
       "...            ...                                     ...       ...  \n",
       "2298           0.0      Boston-Cambridge-Newton, MA-NH MSA      surf  \n",
       "2299           0.0                Colorado Springs, CO MSA      surf  \n",
       "2300           0.0          Denver-Aurora-Lakewood, CO MSA      surf  \n",
       "2301           0.0   Atlanta-Sandy Springs-Roswell, GA MSA  ultimate  \n",
       "2302           0.0  Louisville/Jefferson County, KY-IN MSA      surf  \n",
       "\n",
       "[2303 rows x 8 columns]"
      ]
     },
     "execution_count": 55,
     "metadata": {},
     "output_type": "execute_result"
    }
   ],
   "source": [
    "# Add the plan information\n",
    "\n",
    "df_plans = df_users[['user_id','city','plan']]\n",
    "df_plans\n",
    "\n",
    "dfs = [final_df,df_plans] #additional dfs can be added here.\n",
    "\n",
    "#You can loop over the list,merging the dfs. But here reduce and a lambda is used.\n",
    "final_df  = reduce(lambda  left,right: pd.merge(left,right,on=['user_id'],how='outer'), dfs).fillna(0)\n",
    "final_df\n",
    "\n",
    "final_df"
   ]
  },
  {
   "cell_type": "markdown",
   "metadata": {},
   "source": [
    "### Calculating  Revenue"
   ]
  },
  {
   "cell_type": "markdown",
   "metadata": {},
   "source": [
    "Calculate the monthly revenue from each user (subtract the free package limit from the total number of calls, text messages, and data; multiply the result by the calling plan value; add the monthly charge depending on the calling plan)."
   ]
  },
  {
   "cell_type": "code",
   "execution_count": 56,
   "metadata": {
    "scrolled": true
   },
   "outputs": [],
   "source": [
    "# Calculate the monthly revenue for each user\n",
    "\n",
    "def monthly_profit(row): #creates a function called monthly_profit that takes a table row as argument\n",
    "    mins_diff = 0 #creates a variable called mins_diff and sets it to zero\n",
    "    mess_diff = 0 #creates a variable called mess_diff and sets it to zero\n",
    "    gb_diff = 0 #creates a variable called gb_diff and sets it to zero\n",
    "    plan = row['plan'] \n",
    "    #creates a variable called plan that takes the value of the 'plan' column for the row in question\n",
    "    \n",
    "    \n",
    "\n",
    "       #conditional statement\n",
    "    if plan == 'surf': #if value of the 'plan' variable is 'surf'\n",
    "        \n",
    "        #conditional statement\n",
    "        if row['mins_per_month'] > 500: \n",
    "        #if the value of the 'mins_per_month' column in the row is greater than 500\n",
    "        \n",
    "            mins_diff = row['mins_per_month'] - 500\n",
    "            #mins_diff will take the value of the 'mins_per_month' column minus the package limit for surf\n",
    "            \n",
    "        #conditional statement\n",
    "        if row['messages_per_month'] > 50:\n",
    "        #if the value of the 'messages_per_month' column in the row is greater than 50\n",
    "        \n",
    "            mess_diff = row['messages_per_month'] - 50\n",
    "            #mess_diff becomes the difference between the value at the 'messages_per_month' column and\n",
    "            #the package limit for surf\n",
    "            \n",
    "        #conditional statement\n",
    "        if row['gb_per_month'] > 15: #if the value of the 'gb_per_month' column is greater than 15\n",
    "            gb_diff = row['gb_per_month'] - 15\n",
    "            #gb_diff becomes the difference between the value at the 'gb_per_month' coulmn and the\n",
    "            #package limit for surf\n",
    "            \n",
    "        profit = (mins_diff * .03) + (mess_diff * .03) + (gb_diff * 10)\n",
    "        #performs the appropriate profit calculation for th \n",
    "    \n",
    "    \n",
    "       #profit\n",
    "    \n",
    "    #conditional statement \n",
    "    if plan == 'ultimate': #if the value of the plan variable is 'ultimate'\n",
    "        \n",
    "        #conditional statement \n",
    "        if row['mins_per_month'] > 3000:\n",
    "        #if the value of the 'mins_per_month' column in the row is greater than 3000\n",
    "            \n",
    "            mins_diff = row['mins_per_month'] - 3000\n",
    "            #mins_diff will take the value of the 'mins_per_month' column minus the package limit for\n",
    "            #ultimate\n",
    "            \n",
    "        #conditional statement    \n",
    "        if row['messages_per_month'] > 1000:\n",
    "        #if the value of the 'messages_per_month' column in the row is greater than 1000\n",
    "            \n",
    "            mess_diff = row['messages_per_month'] - 1000\n",
    "            #mess_diff becomes the difference between the value at the 'messages_per_month' column and\n",
    "            #the package limit for ultimate\n",
    "            \n",
    "        #conditional statement\n",
    "        if row['gb_per_month'] > 30: #if the value of the 'gb_per_month' column is greater than 30\n",
    "            gb_diff = row['gb_per_month'] - 30\n",
    "            #gb_diff becomes the difference between the value at the 'gb_per_month' coulmn and the\n",
    "            #package limit for ultimate \n",
    "    \n",
    "    \n",
    "    \n",
    "        profit = (mins_diff * .01) + (mess_diff * .01) + (gb_diff * 7)\n",
    "        #performs the appropriate profit calculation for the ultimate plan and saves it to a variable called\n",
    "        #profit\n",
    "        \n",
    "    return profit #returns the value of the profit variable\n",
    "\n",
    "final_df['monthly_profit'] = final_df.apply(monthly_profit, axis=1)\n",
    "#applies the monthly_profit function to the user_stats table, appending each row with its result and the \n",
    "#new column will be called monthly_profit\n",
    "\n"
   ]
  },
  {
   "cell_type": "code",
   "execution_count": 57,
   "metadata": {},
   "outputs": [
    {
     "data": {
      "text/html": [
       "<div>\n",
       "<style scoped>\n",
       "    .dataframe tbody tr th:only-of-type {\n",
       "        vertical-align: middle;\n",
       "    }\n",
       "\n",
       "    .dataframe tbody tr th {\n",
       "        vertical-align: top;\n",
       "    }\n",
       "\n",
       "    .dataframe thead th {\n",
       "        text-align: right;\n",
       "    }\n",
       "</style>\n",
       "<table border=\"1\" class=\"dataframe\">\n",
       "  <thead>\n",
       "    <tr style=\"text-align: right;\">\n",
       "      <th></th>\n",
       "      <th>user_id</th>\n",
       "      <th>by_month</th>\n",
       "      <th>calls_per_month</th>\n",
       "      <th>mins_per_month</th>\n",
       "      <th>messages_per_month</th>\n",
       "      <th>gb_per_month</th>\n",
       "      <th>city</th>\n",
       "      <th>plan</th>\n",
       "      <th>monthly_profit</th>\n",
       "    </tr>\n",
       "  </thead>\n",
       "  <tbody>\n",
       "    <tr>\n",
       "      <td>0</td>\n",
       "      <td>1000</td>\n",
       "      <td>12.0</td>\n",
       "      <td>16.0</td>\n",
       "      <td>124.0</td>\n",
       "      <td>11.0</td>\n",
       "      <td>4.0</td>\n",
       "      <td>Atlanta-Sandy Springs-Roswell, GA MSA</td>\n",
       "      <td>ultimate</td>\n",
       "      <td>0.00</td>\n",
       "    </tr>\n",
       "    <tr>\n",
       "      <td>1</td>\n",
       "      <td>1001</td>\n",
       "      <td>8.0</td>\n",
       "      <td>27.0</td>\n",
       "      <td>182.0</td>\n",
       "      <td>30.0</td>\n",
       "      <td>21.0</td>\n",
       "      <td>Seattle-Tacoma-Bellevue, WA MSA</td>\n",
       "      <td>surf</td>\n",
       "      <td>60.00</td>\n",
       "    </tr>\n",
       "    <tr>\n",
       "      <td>2</td>\n",
       "      <td>1001</td>\n",
       "      <td>9.0</td>\n",
       "      <td>49.0</td>\n",
       "      <td>315.0</td>\n",
       "      <td>44.0</td>\n",
       "      <td>41.0</td>\n",
       "      <td>Seattle-Tacoma-Bellevue, WA MSA</td>\n",
       "      <td>surf</td>\n",
       "      <td>260.00</td>\n",
       "    </tr>\n",
       "    <tr>\n",
       "      <td>3</td>\n",
       "      <td>1001</td>\n",
       "      <td>10.0</td>\n",
       "      <td>65.0</td>\n",
       "      <td>393.0</td>\n",
       "      <td>53.0</td>\n",
       "      <td>50.0</td>\n",
       "      <td>Seattle-Tacoma-Bellevue, WA MSA</td>\n",
       "      <td>surf</td>\n",
       "      <td>350.09</td>\n",
       "    </tr>\n",
       "    <tr>\n",
       "      <td>4</td>\n",
       "      <td>1001</td>\n",
       "      <td>11.0</td>\n",
       "      <td>64.0</td>\n",
       "      <td>426.0</td>\n",
       "      <td>36.0</td>\n",
       "      <td>49.0</td>\n",
       "      <td>Seattle-Tacoma-Bellevue, WA MSA</td>\n",
       "      <td>surf</td>\n",
       "      <td>340.00</td>\n",
       "    </tr>\n",
       "    <tr>\n",
       "      <td>...</td>\n",
       "      <td>...</td>\n",
       "      <td>...</td>\n",
       "      <td>...</td>\n",
       "      <td>...</td>\n",
       "      <td>...</td>\n",
       "      <td>...</td>\n",
       "      <td>...</td>\n",
       "      <td>...</td>\n",
       "      <td>...</td>\n",
       "    </tr>\n",
       "    <tr>\n",
       "      <td>95</td>\n",
       "      <td>1028</td>\n",
       "      <td>4.0</td>\n",
       "      <td>7.0</td>\n",
       "      <td>53.0</td>\n",
       "      <td>77.0</td>\n",
       "      <td>73.0</td>\n",
       "      <td>Philadelphia-Camden-Wilmington, PA-NJ-DE-MD MSA</td>\n",
       "      <td>ultimate</td>\n",
       "      <td>301.00</td>\n",
       "    </tr>\n",
       "    <tr>\n",
       "      <td>96</td>\n",
       "      <td>1028</td>\n",
       "      <td>5.0</td>\n",
       "      <td>8.0</td>\n",
       "      <td>67.0</td>\n",
       "      <td>84.0</td>\n",
       "      <td>67.0</td>\n",
       "      <td>Philadelphia-Camden-Wilmington, PA-NJ-DE-MD MSA</td>\n",
       "      <td>ultimate</td>\n",
       "      <td>259.00</td>\n",
       "    </tr>\n",
       "    <tr>\n",
       "      <td>97</td>\n",
       "      <td>1028</td>\n",
       "      <td>6.0</td>\n",
       "      <td>11.0</td>\n",
       "      <td>49.0</td>\n",
       "      <td>66.0</td>\n",
       "      <td>71.0</td>\n",
       "      <td>Philadelphia-Camden-Wilmington, PA-NJ-DE-MD MSA</td>\n",
       "      <td>ultimate</td>\n",
       "      <td>287.00</td>\n",
       "    </tr>\n",
       "    <tr>\n",
       "      <td>98</td>\n",
       "      <td>1028</td>\n",
       "      <td>7.0</td>\n",
       "      <td>6.0</td>\n",
       "      <td>53.0</td>\n",
       "      <td>85.0</td>\n",
       "      <td>75.0</td>\n",
       "      <td>Philadelphia-Camden-Wilmington, PA-NJ-DE-MD MSA</td>\n",
       "      <td>ultimate</td>\n",
       "      <td>315.00</td>\n",
       "    </tr>\n",
       "    <tr>\n",
       "      <td>99</td>\n",
       "      <td>1028</td>\n",
       "      <td>8.0</td>\n",
       "      <td>9.0</td>\n",
       "      <td>76.0</td>\n",
       "      <td>74.0</td>\n",
       "      <td>76.0</td>\n",
       "      <td>Philadelphia-Camden-Wilmington, PA-NJ-DE-MD MSA</td>\n",
       "      <td>ultimate</td>\n",
       "      <td>322.00</td>\n",
       "    </tr>\n",
       "  </tbody>\n",
       "</table>\n",
       "<p>100 rows × 9 columns</p>\n",
       "</div>"
      ],
      "text/plain": [
       "    user_id  by_month  calls_per_month  mins_per_month  messages_per_month  \\\n",
       "0      1000      12.0             16.0           124.0                11.0   \n",
       "1      1001       8.0             27.0           182.0                30.0   \n",
       "2      1001       9.0             49.0           315.0                44.0   \n",
       "3      1001      10.0             65.0           393.0                53.0   \n",
       "4      1001      11.0             64.0           426.0                36.0   \n",
       "..      ...       ...              ...             ...                 ...   \n",
       "95     1028       4.0              7.0            53.0                77.0   \n",
       "96     1028       5.0              8.0            67.0                84.0   \n",
       "97     1028       6.0             11.0            49.0                66.0   \n",
       "98     1028       7.0              6.0            53.0                85.0   \n",
       "99     1028       8.0              9.0            76.0                74.0   \n",
       "\n",
       "    gb_per_month                                             city      plan  \\\n",
       "0            4.0            Atlanta-Sandy Springs-Roswell, GA MSA  ultimate   \n",
       "1           21.0                  Seattle-Tacoma-Bellevue, WA MSA      surf   \n",
       "2           41.0                  Seattle-Tacoma-Bellevue, WA MSA      surf   \n",
       "3           50.0                  Seattle-Tacoma-Bellevue, WA MSA      surf   \n",
       "4           49.0                  Seattle-Tacoma-Bellevue, WA MSA      surf   \n",
       "..           ...                                              ...       ...   \n",
       "95          73.0  Philadelphia-Camden-Wilmington, PA-NJ-DE-MD MSA  ultimate   \n",
       "96          67.0  Philadelphia-Camden-Wilmington, PA-NJ-DE-MD MSA  ultimate   \n",
       "97          71.0  Philadelphia-Camden-Wilmington, PA-NJ-DE-MD MSA  ultimate   \n",
       "98          75.0  Philadelphia-Camden-Wilmington, PA-NJ-DE-MD MSA  ultimate   \n",
       "99          76.0  Philadelphia-Camden-Wilmington, PA-NJ-DE-MD MSA  ultimate   \n",
       "\n",
       "    monthly_profit  \n",
       "0             0.00  \n",
       "1            60.00  \n",
       "2           260.00  \n",
       "3           350.09  \n",
       "4           340.00  \n",
       "..             ...  \n",
       "95          301.00  \n",
       "96          259.00  \n",
       "97          287.00  \n",
       "98          315.00  \n",
       "99          322.00  \n",
       "\n",
       "[100 rows x 9 columns]"
      ]
     },
     "execution_count": 57,
     "metadata": {},
     "output_type": "execute_result"
    }
   ],
   "source": [
    "#Check it if it works \n",
    "final_df.head(100) \n",
    "    "
   ]
  },
  {
   "cell_type": "markdown",
   "metadata": {},
   "source": [
    "# Study user behaviour"
   ]
  },
  {
   "cell_type": "markdown",
   "metadata": {},
   "source": [
    "Calculate some useful descriptive statistics for the aggregated and merged data, which typically reveal an overall picture captured by the data. Draw useful plots to help the understanding. Given that the main task is to compare the plans and decide on which one is more profitable, the statistics and the plots should be calculated on a per-plan basis.\n",
    "\n",
    "There are relevant description in the comments for Calls but they are not provided for Messages and Internet though the principle of statistical study is the same for them as for Calls."
   ]
  },
  {
   "cell_type": "code",
   "execution_count": 58,
   "metadata": {},
   "outputs": [
    {
     "data": {
      "text/plain": [
       "plan\n",
       "surf        1579\n",
       "ultimate     724\n",
       "Name: user_id, dtype: int64"
      ]
     },
     "execution_count": 58,
     "metadata": {},
     "output_type": "execute_result"
    }
   ],
   "source": [
    "final_df.groupby(['plan'])['user_id'].count()"
   ]
  },
  {
   "cell_type": "markdown",
   "metadata": {},
   "source": [
    "### Calls"
   ]
  },
  {
   "cell_type": "code",
   "execution_count": null,
   "metadata": {},
   "outputs": [],
   "source": [
    "\n"
   ]
  },
  {
   "cell_type": "code",
   "execution_count": 59,
   "metadata": {},
   "outputs": [
    {
     "data": {
      "text/html": [
       "<div>\n",
       "<style scoped>\n",
       "    .dataframe tbody tr th:only-of-type {\n",
       "        vertical-align: middle;\n",
       "    }\n",
       "\n",
       "    .dataframe tbody tr th {\n",
       "        vertical-align: top;\n",
       "    }\n",
       "\n",
       "    .dataframe thead th {\n",
       "        text-align: right;\n",
       "    }\n",
       "</style>\n",
       "<table border=\"1\" class=\"dataframe\">\n",
       "  <thead>\n",
       "    <tr style=\"text-align: right;\">\n",
       "      <th></th>\n",
       "      <th>plan</th>\n",
       "      <th>by_month</th>\n",
       "      <th>avg_duration</th>\n",
       "    </tr>\n",
       "  </thead>\n",
       "  <tbody>\n",
       "    <tr>\n",
       "      <td>0</td>\n",
       "      <td>surf</td>\n",
       "      <td>0.0</td>\n",
       "      <td>0.000000</td>\n",
       "    </tr>\n",
       "    <tr>\n",
       "      <td>1</td>\n",
       "      <td>surf</td>\n",
       "      <td>1.0</td>\n",
       "      <td>203.000000</td>\n",
       "    </tr>\n",
       "    <tr>\n",
       "      <td>2</td>\n",
       "      <td>surf</td>\n",
       "      <td>2.0</td>\n",
       "      <td>297.000000</td>\n",
       "    </tr>\n",
       "    <tr>\n",
       "      <td>3</td>\n",
       "      <td>surf</td>\n",
       "      <td>3.0</td>\n",
       "      <td>330.000000</td>\n",
       "    </tr>\n",
       "    <tr>\n",
       "      <td>4</td>\n",
       "      <td>surf</td>\n",
       "      <td>4.0</td>\n",
       "      <td>351.540000</td>\n",
       "    </tr>\n",
       "    <tr>\n",
       "      <td>5</td>\n",
       "      <td>surf</td>\n",
       "      <td>5.0</td>\n",
       "      <td>399.584416</td>\n",
       "    </tr>\n",
       "    <tr>\n",
       "      <td>6</td>\n",
       "      <td>surf</td>\n",
       "      <td>6.0</td>\n",
       "      <td>431.298969</td>\n",
       "    </tr>\n",
       "    <tr>\n",
       "      <td>7</td>\n",
       "      <td>surf</td>\n",
       "      <td>7.0</td>\n",
       "      <td>449.983471</td>\n",
       "    </tr>\n",
       "    <tr>\n",
       "      <td>8</td>\n",
       "      <td>surf</td>\n",
       "      <td>8.0</td>\n",
       "      <td>410.111111</td>\n",
       "    </tr>\n",
       "    <tr>\n",
       "      <td>9</td>\n",
       "      <td>surf</td>\n",
       "      <td>9.0</td>\n",
       "      <td>414.226804</td>\n",
       "    </tr>\n",
       "    <tr>\n",
       "      <td>10</td>\n",
       "      <td>surf</td>\n",
       "      <td>10.0</td>\n",
       "      <td>429.729958</td>\n",
       "    </tr>\n",
       "    <tr>\n",
       "      <td>11</td>\n",
       "      <td>surf</td>\n",
       "      <td>11.0</td>\n",
       "      <td>423.325088</td>\n",
       "    </tr>\n",
       "    <tr>\n",
       "      <td>12</td>\n",
       "      <td>surf</td>\n",
       "      <td>12.0</td>\n",
       "      <td>473.836478</td>\n",
       "    </tr>\n",
       "    <tr>\n",
       "      <td>13</td>\n",
       "      <td>ultimate</td>\n",
       "      <td>0.0</td>\n",
       "      <td>0.000000</td>\n",
       "    </tr>\n",
       "    <tr>\n",
       "      <td>14</td>\n",
       "      <td>ultimate</td>\n",
       "      <td>1.0</td>\n",
       "      <td>193.500000</td>\n",
       "    </tr>\n",
       "    <tr>\n",
       "      <td>15</td>\n",
       "      <td>ultimate</td>\n",
       "      <td>2.0</td>\n",
       "      <td>403.142857</td>\n",
       "    </tr>\n",
       "    <tr>\n",
       "      <td>16</td>\n",
       "      <td>ultimate</td>\n",
       "      <td>3.0</td>\n",
       "      <td>304.250000</td>\n",
       "    </tr>\n",
       "    <tr>\n",
       "      <td>17</td>\n",
       "      <td>ultimate</td>\n",
       "      <td>4.0</td>\n",
       "      <td>336.857143</td>\n",
       "    </tr>\n",
       "    <tr>\n",
       "      <td>18</td>\n",
       "      <td>ultimate</td>\n",
       "      <td>5.0</td>\n",
       "      <td>406.241379</td>\n",
       "    </tr>\n",
       "    <tr>\n",
       "      <td>19</td>\n",
       "      <td>ultimate</td>\n",
       "      <td>6.0</td>\n",
       "      <td>370.957447</td>\n",
       "    </tr>\n",
       "    <tr>\n",
       "      <td>20</td>\n",
       "      <td>ultimate</td>\n",
       "      <td>7.0</td>\n",
       "      <td>427.067797</td>\n",
       "    </tr>\n",
       "    <tr>\n",
       "      <td>21</td>\n",
       "      <td>ultimate</td>\n",
       "      <td>8.0</td>\n",
       "      <td>421.436620</td>\n",
       "    </tr>\n",
       "    <tr>\n",
       "      <td>22</td>\n",
       "      <td>ultimate</td>\n",
       "      <td>9.0</td>\n",
       "      <td>437.511628</td>\n",
       "    </tr>\n",
       "    <tr>\n",
       "      <td>23</td>\n",
       "      <td>ultimate</td>\n",
       "      <td>10.0</td>\n",
       "      <td>450.735849</td>\n",
       "    </tr>\n",
       "    <tr>\n",
       "      <td>24</td>\n",
       "      <td>ultimate</td>\n",
       "      <td>11.0</td>\n",
       "      <td>445.196850</td>\n",
       "    </tr>\n",
       "    <tr>\n",
       "      <td>25</td>\n",
       "      <td>ultimate</td>\n",
       "      <td>12.0</td>\n",
       "      <td>459.099338</td>\n",
       "    </tr>\n",
       "  </tbody>\n",
       "</table>\n",
       "</div>"
      ],
      "text/plain": [
       "        plan  by_month  avg_duration\n",
       "0       surf       0.0      0.000000\n",
       "1       surf       1.0    203.000000\n",
       "2       surf       2.0    297.000000\n",
       "3       surf       3.0    330.000000\n",
       "4       surf       4.0    351.540000\n",
       "5       surf       5.0    399.584416\n",
       "6       surf       6.0    431.298969\n",
       "7       surf       7.0    449.983471\n",
       "8       surf       8.0    410.111111\n",
       "9       surf       9.0    414.226804\n",
       "10      surf      10.0    429.729958\n",
       "11      surf      11.0    423.325088\n",
       "12      surf      12.0    473.836478\n",
       "13  ultimate       0.0      0.000000\n",
       "14  ultimate       1.0    193.500000\n",
       "15  ultimate       2.0    403.142857\n",
       "16  ultimate       3.0    304.250000\n",
       "17  ultimate       4.0    336.857143\n",
       "18  ultimate       5.0    406.241379\n",
       "19  ultimate       6.0    370.957447\n",
       "20  ultimate       7.0    427.067797\n",
       "21  ultimate       8.0    421.436620\n",
       "22  ultimate       9.0    437.511628\n",
       "23  ultimate      10.0    450.735849\n",
       "24  ultimate      11.0    445.196850\n",
       "25  ultimate      12.0    459.099338"
      ]
     },
     "execution_count": 59,
     "metadata": {},
     "output_type": "execute_result"
    }
   ],
   "source": [
    "# Compare average duration of calls per each plan per each distinct month. Plot a bar plat to visualize it.\n",
    "stat_calls= final_df.groupby(['plan','by_month'])['mins_per_month'].agg(avg_duration =('mean')).reset_index()\n",
    "stat_calls"
   ]
  },
  {
   "cell_type": "code",
   "execution_count": 60,
   "metadata": {
    "scrolled": false
   },
   "outputs": [
    {
     "data": {
      "text/plain": [
       "<matplotlib.axes._subplots.AxesSubplot at 0x7f381e373f10>"
      ]
     },
     "execution_count": 60,
     "metadata": {},
     "output_type": "execute_result"
    },
    {
     "data": {
      "image/png": "[encoded data removed]",
      "text/plain": [
       "<Figure size 720x288 with 1 Axes>"
      ]
     },
     "metadata": {
      "needs_background": "light"
     },
     "output_type": "display_data"
    }
   ],
   "source": [
    "# Plot a bar plot to visualize it.\n",
    "pd.crosstab(final_df['by_month'],final_df['plan']).plot(kind=\"bar\",figsize= (10,4),stacked=True)\n"
   ]
  },
  {
   "cell_type": "code",
   "execution_count": 61,
   "metadata": {},
   "outputs": [
    {
     "data": {
      "text/html": [
       "<div>\n",
       "<style scoped>\n",
       "    .dataframe tbody tr th:only-of-type {\n",
       "        vertical-align: middle;\n",
       "    }\n",
       "\n",
       "    .dataframe tbody tr th {\n",
       "        vertical-align: top;\n",
       "    }\n",
       "\n",
       "    .dataframe thead th {\n",
       "        text-align: right;\n",
       "    }\n",
       "</style>\n",
       "<table border=\"1\" class=\"dataframe\">\n",
       "  <thead>\n",
       "    <tr style=\"text-align: right;\">\n",
       "      <th></th>\n",
       "      <th>plan</th>\n",
       "      <th>by_month</th>\n",
       "      <th>number_of_mins</th>\n",
       "    </tr>\n",
       "  </thead>\n",
       "  <tbody>\n",
       "    <tr>\n",
       "      <td>0</td>\n",
       "      <td>surf</td>\n",
       "      <td>0.0</td>\n",
       "      <td>6</td>\n",
       "    </tr>\n",
       "    <tr>\n",
       "      <td>1</td>\n",
       "      <td>surf</td>\n",
       "      <td>1.0</td>\n",
       "      <td>2</td>\n",
       "    </tr>\n",
       "    <tr>\n",
       "      <td>2</td>\n",
       "      <td>surf</td>\n",
       "      <td>2.0</td>\n",
       "      <td>9</td>\n",
       "    </tr>\n",
       "    <tr>\n",
       "      <td>3</td>\n",
       "      <td>surf</td>\n",
       "      <td>3.0</td>\n",
       "      <td>23</td>\n",
       "    </tr>\n",
       "    <tr>\n",
       "      <td>4</td>\n",
       "      <td>surf</td>\n",
       "      <td>4.0</td>\n",
       "      <td>50</td>\n",
       "    </tr>\n",
       "    <tr>\n",
       "      <td>5</td>\n",
       "      <td>surf</td>\n",
       "      <td>5.0</td>\n",
       "      <td>77</td>\n",
       "    </tr>\n",
       "    <tr>\n",
       "      <td>6</td>\n",
       "      <td>surf</td>\n",
       "      <td>6.0</td>\n",
       "      <td>97</td>\n",
       "    </tr>\n",
       "    <tr>\n",
       "      <td>7</td>\n",
       "      <td>surf</td>\n",
       "      <td>7.0</td>\n",
       "      <td>121</td>\n",
       "    </tr>\n",
       "    <tr>\n",
       "      <td>8</td>\n",
       "      <td>surf</td>\n",
       "      <td>8.0</td>\n",
       "      <td>162</td>\n",
       "    </tr>\n",
       "    <tr>\n",
       "      <td>9</td>\n",
       "      <td>surf</td>\n",
       "      <td>9.0</td>\n",
       "      <td>194</td>\n",
       "    </tr>\n",
       "    <tr>\n",
       "      <td>10</td>\n",
       "      <td>surf</td>\n",
       "      <td>10.0</td>\n",
       "      <td>237</td>\n",
       "    </tr>\n",
       "    <tr>\n",
       "      <td>11</td>\n",
       "      <td>surf</td>\n",
       "      <td>11.0</td>\n",
       "      <td>283</td>\n",
       "    </tr>\n",
       "    <tr>\n",
       "      <td>12</td>\n",
       "      <td>surf</td>\n",
       "      <td>12.0</td>\n",
       "      <td>318</td>\n",
       "    </tr>\n",
       "    <tr>\n",
       "      <td>13</td>\n",
       "      <td>ultimate</td>\n",
       "      <td>0.0</td>\n",
       "      <td>4</td>\n",
       "    </tr>\n",
       "    <tr>\n",
       "      <td>14</td>\n",
       "      <td>ultimate</td>\n",
       "      <td>1.0</td>\n",
       "      <td>4</td>\n",
       "    </tr>\n",
       "    <tr>\n",
       "      <td>15</td>\n",
       "      <td>ultimate</td>\n",
       "      <td>2.0</td>\n",
       "      <td>7</td>\n",
       "    </tr>\n",
       "    <tr>\n",
       "      <td>16</td>\n",
       "      <td>ultimate</td>\n",
       "      <td>3.0</td>\n",
       "      <td>12</td>\n",
       "    </tr>\n",
       "    <tr>\n",
       "      <td>17</td>\n",
       "      <td>ultimate</td>\n",
       "      <td>4.0</td>\n",
       "      <td>21</td>\n",
       "    </tr>\n",
       "    <tr>\n",
       "      <td>18</td>\n",
       "      <td>ultimate</td>\n",
       "      <td>5.0</td>\n",
       "      <td>29</td>\n",
       "    </tr>\n",
       "    <tr>\n",
       "      <td>19</td>\n",
       "      <td>ultimate</td>\n",
       "      <td>6.0</td>\n",
       "      <td>47</td>\n",
       "    </tr>\n",
       "    <tr>\n",
       "      <td>20</td>\n",
       "      <td>ultimate</td>\n",
       "      <td>7.0</td>\n",
       "      <td>59</td>\n",
       "    </tr>\n",
       "    <tr>\n",
       "      <td>21</td>\n",
       "      <td>ultimate</td>\n",
       "      <td>8.0</td>\n",
       "      <td>71</td>\n",
       "    </tr>\n",
       "    <tr>\n",
       "      <td>22</td>\n",
       "      <td>ultimate</td>\n",
       "      <td>9.0</td>\n",
       "      <td>86</td>\n",
       "    </tr>\n",
       "    <tr>\n",
       "      <td>23</td>\n",
       "      <td>ultimate</td>\n",
       "      <td>10.0</td>\n",
       "      <td>106</td>\n",
       "    </tr>\n",
       "    <tr>\n",
       "      <td>24</td>\n",
       "      <td>ultimate</td>\n",
       "      <td>11.0</td>\n",
       "      <td>127</td>\n",
       "    </tr>\n",
       "    <tr>\n",
       "      <td>25</td>\n",
       "      <td>ultimate</td>\n",
       "      <td>12.0</td>\n",
       "      <td>151</td>\n",
       "    </tr>\n",
       "  </tbody>\n",
       "</table>\n",
       "</div>"
      ],
      "text/plain": [
       "        plan  by_month  number_of_mins\n",
       "0       surf       0.0               6\n",
       "1       surf       1.0               2\n",
       "2       surf       2.0               9\n",
       "3       surf       3.0              23\n",
       "4       surf       4.0              50\n",
       "5       surf       5.0              77\n",
       "6       surf       6.0              97\n",
       "7       surf       7.0             121\n",
       "8       surf       8.0             162\n",
       "9       surf       9.0             194\n",
       "10      surf      10.0             237\n",
       "11      surf      11.0             283\n",
       "12      surf      12.0             318\n",
       "13  ultimate       0.0               4\n",
       "14  ultimate       1.0               4\n",
       "15  ultimate       2.0               7\n",
       "16  ultimate       3.0              12\n",
       "17  ultimate       4.0              21\n",
       "18  ultimate       5.0              29\n",
       "19  ultimate       6.0              47\n",
       "20  ultimate       7.0              59\n",
       "21  ultimate       8.0              71\n",
       "22  ultimate       9.0              86\n",
       "23  ultimate      10.0             106\n",
       "24  ultimate      11.0             127\n",
       "25  ultimate      12.0             151"
      ]
     },
     "execution_count": 61,
     "metadata": {},
     "output_type": "execute_result"
    }
   ],
   "source": [
    "# Compare the number of minutes users of each plan require each month. Plot a histogram.\n",
    "stat_2 =final_df.groupby(['plan','by_month'])['mins_per_month'].agg(number_of_mins=('count')).reset_index()\n",
    "stat_2"
   ]
  },
  {
   "cell_type": "code",
   "execution_count": 62,
   "metadata": {
    "scrolled": true
   },
   "outputs": [
    {
     "data": {
      "text/plain": [
       "array([<matplotlib.axes._subplots.AxesSubplot object at 0x7f381e206f50>,\n",
       "       <matplotlib.axes._subplots.AxesSubplot object at 0x7f381e1825d0>],\n",
       "      dtype=object)"
      ]
     },
     "execution_count": 62,
     "metadata": {},
     "output_type": "execute_result"
    },
    {
     "data": {
      "image/png": "[encoded data removed]",
      "text/plain": [
       "<Figure size 720x288 with 2 Axes>"
      ]
     },
     "metadata": {
      "needs_background": "light"
     },
     "output_type": "display_data"
    }
   ],
   "source": [
    "# Plot a histogram.\n",
    "stat_2.number_of_mins.hist(by=stat_2['plan'], figsize =(10,4))\n"
   ]
  },
  {
   "cell_type": "markdown",
   "metadata": {},
   "source": [
    "Calculate the mean and the variable of the call duration to reason on whether users on the different plans have different behaviours for their calls."
   ]
  },
  {
   "cell_type": "code",
   "execution_count": 63,
   "metadata": {},
   "outputs": [
    {
     "data": {
      "text/html": [
       "<div>\n",
       "<style scoped>\n",
       "    .dataframe tbody tr th:only-of-type {\n",
       "        vertical-align: middle;\n",
       "    }\n",
       "\n",
       "    .dataframe tbody tr th {\n",
       "        vertical-align: top;\n",
       "    }\n",
       "\n",
       "    .dataframe thead th {\n",
       "        text-align: right;\n",
       "    }\n",
       "</style>\n",
       "<table border=\"1\" class=\"dataframe\">\n",
       "  <thead>\n",
       "    <tr style=\"text-align: right;\">\n",
       "      <th></th>\n",
       "      <th>plan</th>\n",
       "      <th>mean</th>\n",
       "      <th>median</th>\n",
       "      <th>var</th>\n",
       "    </tr>\n",
       "  </thead>\n",
       "  <tbody>\n",
       "    <tr>\n",
       "      <td>0</td>\n",
       "      <td>surf</td>\n",
       "      <td>427.120329</td>\n",
       "      <td>424.0</td>\n",
       "      <td>55455.577400</td>\n",
       "    </tr>\n",
       "    <tr>\n",
       "      <td>1</td>\n",
       "      <td>ultimate</td>\n",
       "      <td>428.071823</td>\n",
       "      <td>421.5</td>\n",
       "      <td>58543.878652</td>\n",
       "    </tr>\n",
       "  </tbody>\n",
       "</table>\n",
       "</div>"
      ],
      "text/plain": [
       "       plan        mean  median           var\n",
       "0      surf  427.120329   424.0  55455.577400\n",
       "1  ultimate  428.071823   421.5  58543.878652"
      ]
     },
     "execution_count": 63,
     "metadata": {},
     "output_type": "execute_result"
    }
   ],
   "source": [
    "# Calculate the mean and the variance of the monthly call duration\n",
    "\n",
    "final_df.groupby(['plan'])['mins_per_month'].agg(['mean','median', 'var']).reset_index()"
   ]
  },
  {
   "cell_type": "code",
   "execution_count": 64,
   "metadata": {
    "scrolled": true
   },
   "outputs": [
    {
     "data": {
      "text/plain": [
       "<matplotlib.axes._subplots.AxesSubplot at 0x7f381e0e11d0>"
      ]
     },
     "execution_count": 64,
     "metadata": {},
     "output_type": "execute_result"
    },
    {
     "data": {
      "image/png": "[encoded data removed]",
      "text/plain": [
       "<Figure size 432x288 with 1 Axes>"
      ]
     },
     "metadata": {
      "needs_background": "light"
     },
     "output_type": "display_data"
    }
   ],
   "source": [
    "# Plot a boxplot to visualize the distribution of the monthly call duration (surf plan)\n",
    "final_df.query('plan==\"surf\"').pivot_table(index='by_month',values = 'mins_per_month',aggfunc = 'sum').boxplot()\n"
   ]
  },
  {
   "cell_type": "code",
   "execution_count": 65,
   "metadata": {},
   "outputs": [
    {
     "data": {
      "text/plain": [
       "<matplotlib.axes._subplots.AxesSubplot at 0x7f381e0b0a50>"
      ]
     },
     "execution_count": 65,
     "metadata": {},
     "output_type": "execute_result"
    },
    {
     "data": {
      "image/png": "[encoded data removed]",
      "text/plain": [
       "<Figure size 432x288 with 1 Axes>"
      ]
     },
     "metadata": {
      "needs_background": "light"
     },
     "output_type": "display_data"
    }
   ],
   "source": [
    "# Plot a boxplot to visualize the distribution of the monthly call duration(ultimate plan)\n",
    "final_df.query('plan==\"ultimate\"').pivot_table(index='by_month',values = 'mins_per_month',aggfunc = 'sum').boxplot()"
   ]
  },
  {
   "cell_type": "markdown",
   "metadata": {},
   "source": [
    "Formulating conclusions on how the users behave in terms of calling. Is their behaviour different between the plans?\n",
    "### Conclusion\n",
    "- There is no difference of the  behaviour between the plans. Avarage monthly call duration of booth palns almost same. Distribution scewed left.\n",
    "- December, November, October have high duration of calls"
   ]
  },
  {
   "cell_type": "markdown",
   "metadata": {},
   "source": [
    " "
   ]
  },
  {
   "cell_type": "markdown",
   "metadata": {},
   "source": [
    "### Messages"
   ]
  },
  {
   "cell_type": "code",
   "execution_count": 66,
   "metadata": {},
   "outputs": [
    {
     "data": {
      "text/html": [
       "<div>\n",
       "<style scoped>\n",
       "    .dataframe tbody tr th:only-of-type {\n",
       "        vertical-align: middle;\n",
       "    }\n",
       "\n",
       "    .dataframe tbody tr th {\n",
       "        vertical-align: top;\n",
       "    }\n",
       "\n",
       "    .dataframe thead th {\n",
       "        text-align: right;\n",
       "    }\n",
       "</style>\n",
       "<table border=\"1\" class=\"dataframe\">\n",
       "  <thead>\n",
       "    <tr style=\"text-align: right;\">\n",
       "      <th></th>\n",
       "      <th>plan</th>\n",
       "      <th>by_month</th>\n",
       "      <th>number_messages</th>\n",
       "    </tr>\n",
       "  </thead>\n",
       "  <tbody>\n",
       "    <tr>\n",
       "      <td>0</td>\n",
       "      <td>surf</td>\n",
       "      <td>0.0</td>\n",
       "      <td>6</td>\n",
       "    </tr>\n",
       "    <tr>\n",
       "      <td>1</td>\n",
       "      <td>surf</td>\n",
       "      <td>1.0</td>\n",
       "      <td>2</td>\n",
       "    </tr>\n",
       "    <tr>\n",
       "      <td>2</td>\n",
       "      <td>surf</td>\n",
       "      <td>2.0</td>\n",
       "      <td>9</td>\n",
       "    </tr>\n",
       "    <tr>\n",
       "      <td>3</td>\n",
       "      <td>surf</td>\n",
       "      <td>3.0</td>\n",
       "      <td>23</td>\n",
       "    </tr>\n",
       "    <tr>\n",
       "      <td>4</td>\n",
       "      <td>surf</td>\n",
       "      <td>4.0</td>\n",
       "      <td>50</td>\n",
       "    </tr>\n",
       "    <tr>\n",
       "      <td>5</td>\n",
       "      <td>surf</td>\n",
       "      <td>5.0</td>\n",
       "      <td>77</td>\n",
       "    </tr>\n",
       "    <tr>\n",
       "      <td>6</td>\n",
       "      <td>surf</td>\n",
       "      <td>6.0</td>\n",
       "      <td>97</td>\n",
       "    </tr>\n",
       "    <tr>\n",
       "      <td>7</td>\n",
       "      <td>surf</td>\n",
       "      <td>7.0</td>\n",
       "      <td>121</td>\n",
       "    </tr>\n",
       "    <tr>\n",
       "      <td>8</td>\n",
       "      <td>surf</td>\n",
       "      <td>8.0</td>\n",
       "      <td>162</td>\n",
       "    </tr>\n",
       "    <tr>\n",
       "      <td>9</td>\n",
       "      <td>surf</td>\n",
       "      <td>9.0</td>\n",
       "      <td>194</td>\n",
       "    </tr>\n",
       "    <tr>\n",
       "      <td>10</td>\n",
       "      <td>surf</td>\n",
       "      <td>10.0</td>\n",
       "      <td>237</td>\n",
       "    </tr>\n",
       "    <tr>\n",
       "      <td>11</td>\n",
       "      <td>surf</td>\n",
       "      <td>11.0</td>\n",
       "      <td>283</td>\n",
       "    </tr>\n",
       "    <tr>\n",
       "      <td>12</td>\n",
       "      <td>surf</td>\n",
       "      <td>12.0</td>\n",
       "      <td>318</td>\n",
       "    </tr>\n",
       "    <tr>\n",
       "      <td>13</td>\n",
       "      <td>ultimate</td>\n",
       "      <td>0.0</td>\n",
       "      <td>4</td>\n",
       "    </tr>\n",
       "    <tr>\n",
       "      <td>14</td>\n",
       "      <td>ultimate</td>\n",
       "      <td>1.0</td>\n",
       "      <td>4</td>\n",
       "    </tr>\n",
       "    <tr>\n",
       "      <td>15</td>\n",
       "      <td>ultimate</td>\n",
       "      <td>2.0</td>\n",
       "      <td>7</td>\n",
       "    </tr>\n",
       "    <tr>\n",
       "      <td>16</td>\n",
       "      <td>ultimate</td>\n",
       "      <td>3.0</td>\n",
       "      <td>12</td>\n",
       "    </tr>\n",
       "    <tr>\n",
       "      <td>17</td>\n",
       "      <td>ultimate</td>\n",
       "      <td>4.0</td>\n",
       "      <td>21</td>\n",
       "    </tr>\n",
       "    <tr>\n",
       "      <td>18</td>\n",
       "      <td>ultimate</td>\n",
       "      <td>5.0</td>\n",
       "      <td>29</td>\n",
       "    </tr>\n",
       "    <tr>\n",
       "      <td>19</td>\n",
       "      <td>ultimate</td>\n",
       "      <td>6.0</td>\n",
       "      <td>47</td>\n",
       "    </tr>\n",
       "    <tr>\n",
       "      <td>20</td>\n",
       "      <td>ultimate</td>\n",
       "      <td>7.0</td>\n",
       "      <td>59</td>\n",
       "    </tr>\n",
       "    <tr>\n",
       "      <td>21</td>\n",
       "      <td>ultimate</td>\n",
       "      <td>8.0</td>\n",
       "      <td>71</td>\n",
       "    </tr>\n",
       "    <tr>\n",
       "      <td>22</td>\n",
       "      <td>ultimate</td>\n",
       "      <td>9.0</td>\n",
       "      <td>86</td>\n",
       "    </tr>\n",
       "    <tr>\n",
       "      <td>23</td>\n",
       "      <td>ultimate</td>\n",
       "      <td>10.0</td>\n",
       "      <td>106</td>\n",
       "    </tr>\n",
       "    <tr>\n",
       "      <td>24</td>\n",
       "      <td>ultimate</td>\n",
       "      <td>11.0</td>\n",
       "      <td>127</td>\n",
       "    </tr>\n",
       "    <tr>\n",
       "      <td>25</td>\n",
       "      <td>ultimate</td>\n",
       "      <td>12.0</td>\n",
       "      <td>151</td>\n",
       "    </tr>\n",
       "  </tbody>\n",
       "</table>\n",
       "</div>"
      ],
      "text/plain": [
       "        plan  by_month  number_messages\n",
       "0       surf       0.0                6\n",
       "1       surf       1.0                2\n",
       "2       surf       2.0                9\n",
       "3       surf       3.0               23\n",
       "4       surf       4.0               50\n",
       "5       surf       5.0               77\n",
       "6       surf       6.0               97\n",
       "7       surf       7.0              121\n",
       "8       surf       8.0              162\n",
       "9       surf       9.0              194\n",
       "10      surf      10.0              237\n",
       "11      surf      11.0              283\n",
       "12      surf      12.0              318\n",
       "13  ultimate       0.0                4\n",
       "14  ultimate       1.0                4\n",
       "15  ultimate       2.0                7\n",
       "16  ultimate       3.0               12\n",
       "17  ultimate       4.0               21\n",
       "18  ultimate       5.0               29\n",
       "19  ultimate       6.0               47\n",
       "20  ultimate       7.0               59\n",
       "21  ultimate       8.0               71\n",
       "22  ultimate       9.0               86\n",
       "23  ultimate      10.0              106\n",
       "24  ultimate      11.0              127\n",
       "25  ultimate      12.0              151"
      ]
     },
     "execution_count": 66,
     "metadata": {},
     "output_type": "execute_result"
    }
   ],
   "source": [
    "# Compare the number of messages users of each plan tend to send each month\n",
    "stat_messages = final_df.groupby(['plan', 'by_month'])['messages_per_month'].agg(number_messages=('count')).reset_index() \n",
    "stat_messages"
   ]
  },
  {
   "cell_type": "code",
   "execution_count": 67,
   "metadata": {},
   "outputs": [
    {
     "data": {
      "image/png": "[encoded data removed]",
      "text/plain": [
       "<Figure size 432x288 with 1 Axes>"
      ]
     },
     "metadata": {
      "needs_background": "light"
     },
     "output_type": "display_data"
    }
   ],
   "source": [
    "g =sns.barplot(x=final_df[\"by_month\"],y=final_df[\"messages_per_month\"], hue= \"plan\", data = final_df) \n",
    "g.set_xticklabels(g.get_xticklabels(), rotation=45)\n",
    "plt.show()"
   ]
  },
  {
   "cell_type": "markdown",
   "metadata": {},
   "source": [
    "### Conclusion\n",
    "Formulating conclusions on how the users behave in terms of messaging. Is their behaviour different between the plans?\n",
    "- There is differant benavious between plans. The ultimate plans users used more messages than surf users.\n"
   ]
  },
  {
   "cell_type": "markdown",
   "metadata": {},
   "source": [
    " "
   ]
  },
  {
   "cell_type": "markdown",
   "metadata": {},
   "source": [
    "### Internet"
   ]
  },
  {
   "cell_type": "code",
   "execution_count": 68,
   "metadata": {},
   "outputs": [
    {
     "data": {
      "text/html": [
       "<div>\n",
       "<style scoped>\n",
       "    .dataframe tbody tr th:only-of-type {\n",
       "        vertical-align: middle;\n",
       "    }\n",
       "\n",
       "    .dataframe tbody tr th {\n",
       "        vertical-align: top;\n",
       "    }\n",
       "\n",
       "    .dataframe thead th {\n",
       "        text-align: right;\n",
       "    }\n",
       "</style>\n",
       "<table border=\"1\" class=\"dataframe\">\n",
       "  <thead>\n",
       "    <tr style=\"text-align: right;\">\n",
       "      <th></th>\n",
       "      <th>plan</th>\n",
       "      <th>by_month</th>\n",
       "      <th>amount_traffic</th>\n",
       "    </tr>\n",
       "  </thead>\n",
       "  <tbody>\n",
       "    <tr>\n",
       "      <td>0</td>\n",
       "      <td>surf</td>\n",
       "      <td>0.0</td>\n",
       "      <td>6</td>\n",
       "    </tr>\n",
       "    <tr>\n",
       "      <td>1</td>\n",
       "      <td>surf</td>\n",
       "      <td>1.0</td>\n",
       "      <td>2</td>\n",
       "    </tr>\n",
       "    <tr>\n",
       "      <td>2</td>\n",
       "      <td>surf</td>\n",
       "      <td>2.0</td>\n",
       "      <td>9</td>\n",
       "    </tr>\n",
       "    <tr>\n",
       "      <td>3</td>\n",
       "      <td>surf</td>\n",
       "      <td>3.0</td>\n",
       "      <td>23</td>\n",
       "    </tr>\n",
       "    <tr>\n",
       "      <td>4</td>\n",
       "      <td>surf</td>\n",
       "      <td>4.0</td>\n",
       "      <td>50</td>\n",
       "    </tr>\n",
       "    <tr>\n",
       "      <td>5</td>\n",
       "      <td>surf</td>\n",
       "      <td>5.0</td>\n",
       "      <td>77</td>\n",
       "    </tr>\n",
       "    <tr>\n",
       "      <td>6</td>\n",
       "      <td>surf</td>\n",
       "      <td>6.0</td>\n",
       "      <td>97</td>\n",
       "    </tr>\n",
       "    <tr>\n",
       "      <td>7</td>\n",
       "      <td>surf</td>\n",
       "      <td>7.0</td>\n",
       "      <td>121</td>\n",
       "    </tr>\n",
       "    <tr>\n",
       "      <td>8</td>\n",
       "      <td>surf</td>\n",
       "      <td>8.0</td>\n",
       "      <td>162</td>\n",
       "    </tr>\n",
       "    <tr>\n",
       "      <td>9</td>\n",
       "      <td>surf</td>\n",
       "      <td>9.0</td>\n",
       "      <td>194</td>\n",
       "    </tr>\n",
       "    <tr>\n",
       "      <td>10</td>\n",
       "      <td>surf</td>\n",
       "      <td>10.0</td>\n",
       "      <td>237</td>\n",
       "    </tr>\n",
       "    <tr>\n",
       "      <td>11</td>\n",
       "      <td>surf</td>\n",
       "      <td>11.0</td>\n",
       "      <td>283</td>\n",
       "    </tr>\n",
       "    <tr>\n",
       "      <td>12</td>\n",
       "      <td>surf</td>\n",
       "      <td>12.0</td>\n",
       "      <td>318</td>\n",
       "    </tr>\n",
       "    <tr>\n",
       "      <td>13</td>\n",
       "      <td>ultimate</td>\n",
       "      <td>0.0</td>\n",
       "      <td>4</td>\n",
       "    </tr>\n",
       "    <tr>\n",
       "      <td>14</td>\n",
       "      <td>ultimate</td>\n",
       "      <td>1.0</td>\n",
       "      <td>4</td>\n",
       "    </tr>\n",
       "    <tr>\n",
       "      <td>15</td>\n",
       "      <td>ultimate</td>\n",
       "      <td>2.0</td>\n",
       "      <td>7</td>\n",
       "    </tr>\n",
       "    <tr>\n",
       "      <td>16</td>\n",
       "      <td>ultimate</td>\n",
       "      <td>3.0</td>\n",
       "      <td>12</td>\n",
       "    </tr>\n",
       "    <tr>\n",
       "      <td>17</td>\n",
       "      <td>ultimate</td>\n",
       "      <td>4.0</td>\n",
       "      <td>21</td>\n",
       "    </tr>\n",
       "    <tr>\n",
       "      <td>18</td>\n",
       "      <td>ultimate</td>\n",
       "      <td>5.0</td>\n",
       "      <td>29</td>\n",
       "    </tr>\n",
       "    <tr>\n",
       "      <td>19</td>\n",
       "      <td>ultimate</td>\n",
       "      <td>6.0</td>\n",
       "      <td>47</td>\n",
       "    </tr>\n",
       "    <tr>\n",
       "      <td>20</td>\n",
       "      <td>ultimate</td>\n",
       "      <td>7.0</td>\n",
       "      <td>59</td>\n",
       "    </tr>\n",
       "    <tr>\n",
       "      <td>21</td>\n",
       "      <td>ultimate</td>\n",
       "      <td>8.0</td>\n",
       "      <td>71</td>\n",
       "    </tr>\n",
       "    <tr>\n",
       "      <td>22</td>\n",
       "      <td>ultimate</td>\n",
       "      <td>9.0</td>\n",
       "      <td>86</td>\n",
       "    </tr>\n",
       "    <tr>\n",
       "      <td>23</td>\n",
       "      <td>ultimate</td>\n",
       "      <td>10.0</td>\n",
       "      <td>106</td>\n",
       "    </tr>\n",
       "    <tr>\n",
       "      <td>24</td>\n",
       "      <td>ultimate</td>\n",
       "      <td>11.0</td>\n",
       "      <td>127</td>\n",
       "    </tr>\n",
       "    <tr>\n",
       "      <td>25</td>\n",
       "      <td>ultimate</td>\n",
       "      <td>12.0</td>\n",
       "      <td>151</td>\n",
       "    </tr>\n",
       "  </tbody>\n",
       "</table>\n",
       "</div>"
      ],
      "text/plain": [
       "        plan  by_month  amount_traffic\n",
       "0       surf       0.0               6\n",
       "1       surf       1.0               2\n",
       "2       surf       2.0               9\n",
       "3       surf       3.0              23\n",
       "4       surf       4.0              50\n",
       "5       surf       5.0              77\n",
       "6       surf       6.0              97\n",
       "7       surf       7.0             121\n",
       "8       surf       8.0             162\n",
       "9       surf       9.0             194\n",
       "10      surf      10.0             237\n",
       "11      surf      11.0             283\n",
       "12      surf      12.0             318\n",
       "13  ultimate       0.0               4\n",
       "14  ultimate       1.0               4\n",
       "15  ultimate       2.0               7\n",
       "16  ultimate       3.0              12\n",
       "17  ultimate       4.0              21\n",
       "18  ultimate       5.0              29\n",
       "19  ultimate       6.0              47\n",
       "20  ultimate       7.0              59\n",
       "21  ultimate       8.0              71\n",
       "22  ultimate       9.0              86\n",
       "23  ultimate      10.0             106\n",
       "24  ultimate      11.0             127\n",
       "25  ultimate      12.0             151"
      ]
     },
     "execution_count": 68,
     "metadata": {},
     "output_type": "execute_result"
    }
   ],
   "source": [
    "# Compare the amount of internet traffic consumed by users per plan\n",
    "stat_internet = final_df.groupby(['plan', 'by_month'])['gb_per_month'].agg(amount_traffic=('count')).reset_index() \n",
    "stat_internet"
   ]
  },
  {
   "cell_type": "code",
   "execution_count": 69,
   "metadata": {},
   "outputs": [
    {
     "data": {
      "image/png": "[encoded data removed]",
      "text/plain": [
       "<Figure size 432x288 with 1 Axes>"
      ]
     },
     "metadata": {
      "needs_background": "light"
     },
     "output_type": "display_data"
    }
   ],
   "source": [
    "g1 =sns.barplot(x=final_df[\"by_month\"],y=final_df[\"gb_per_month\"], hue= \"plan\", data = final_df) \n",
    "g1.set_xticklabels(g1.get_xticklabels(), rotation=45)\n",
    "plt.show()"
   ]
  },
  {
   "cell_type": "markdown",
   "metadata": {},
   "source": [
    "### Conclusion \n",
    "-There is no difference using traffic between plans. That means users using same gb monthly\n",
    "- Users  behaviour did not different between the plans.\n"
   ]
  },
  {
   "cell_type": "markdown",
   "metadata": {},
   "source": [
    "## Revenue"
   ]
  },
  {
   "cell_type": "markdown",
   "metadata": {},
   "source": [
    "Statistically describing the revenue between the plans."
   ]
  },
  {
   "cell_type": "code",
   "execution_count": 70,
   "metadata": {},
   "outputs": [
    {
     "data": {
      "text/html": [
       "<div>\n",
       "<style scoped>\n",
       "    .dataframe tbody tr th:only-of-type {\n",
       "        vertical-align: middle;\n",
       "    }\n",
       "\n",
       "    .dataframe tbody tr th {\n",
       "        vertical-align: top;\n",
       "    }\n",
       "\n",
       "    .dataframe thead th {\n",
       "        text-align: right;\n",
       "    }\n",
       "</style>\n",
       "<table border=\"1\" class=\"dataframe\">\n",
       "  <thead>\n",
       "    <tr style=\"text-align: right;\">\n",
       "      <th></th>\n",
       "      <th>plan</th>\n",
       "      <th>revenue</th>\n",
       "    </tr>\n",
       "  </thead>\n",
       "  <tbody>\n",
       "    <tr>\n",
       "      <td>0</td>\n",
       "      <td>surf</td>\n",
       "      <td>261.121710</td>\n",
       "    </tr>\n",
       "    <tr>\n",
       "      <td>1</td>\n",
       "      <td>ultimate</td>\n",
       "      <td>96.095304</td>\n",
       "    </tr>\n",
       "  </tbody>\n",
       "</table>\n",
       "</div>"
      ],
      "text/plain": [
       "       plan     revenue\n",
       "0      surf  261.121710\n",
       "1  ultimate   96.095304"
      ]
     },
     "execution_count": 70,
     "metadata": {},
     "output_type": "execute_result"
    }
   ],
   "source": [
    "# Compare Revenue by users per plan\n",
    "stat_revenue = final_df.groupby(['plan'])['monthly_profit'].agg(revenue=('mean')).reset_index() \n",
    "stat_revenue"
   ]
  },
  {
   "cell_type": "markdown",
   "metadata": {},
   "source": [
    "### Conclusion\n",
    "Formulating conclusions about how the revenue differs between the plans.\n",
    "- There is big differences in the revenue between plans. The surf plan  generete better profit than ultimate"
   ]
  },
  {
   "cell_type": "markdown",
   "metadata": {},
   "source": [
    " "
   ]
  },
  {
   "cell_type": "markdown",
   "metadata": {},
   "source": [
    "# Test statistical hypotheses"
   ]
  },
  {
   "cell_type": "markdown",
   "metadata": {},
   "source": [
    "Test the hypothesis that the average revenue from users of the Ultimate and Surf calling plans differs."
   ]
  },
  {
   "cell_type": "markdown",
   "metadata": {},
   "source": [
    "Formulate the null and the alternative hypotheses, choose the statistical test, decide on the alpha value."
   ]
  },
  {
   "cell_type": "markdown",
   "metadata": {},
   "source": [
    "### Ultimate and Surf calling plans "
   ]
  },
  {
   "cell_type": "markdown",
   "metadata": {},
   "source": [
    "- null hypothesis H₀:  the average revenue from users of the Ultimate and Surf calling plans are equal, there’s no difference.\n",
    "\n",
    "- hypothesis H₁ :  the average revenue from users of the Ultimate and Surf calling plans  are  not equal, there is difference.\n",
    "- alpha value - 5%\n"
   ]
  },
  {
   "cell_type": "code",
   "execution_count": 71,
   "metadata": {},
   "outputs": [
    {
     "name": "stdout",
     "output_type": "stream",
     "text": [
      "p-value: 2.348416390991648e-180\n",
      "We reject the null hypothesis\n"
     ]
    }
   ],
   "source": [
    "# Test the hypotheses\n",
    "\n",
    "from scipy import stats as st\n",
    "import numpy as np\n",
    "surf_plan = final_df.query('plan == \"surf\"')\n",
    "ultimate_plan = final_df.query('plan == \"ultimate\"')\n",
    "\n",
    "#setting our statistical significance at 5%\n",
    "alpha = 0.05 \n",
    "\n",
    "results = st.ttest_ind(ultimate_plan['monthly_profit'], surf_plan['monthly_profit'], equal_var=False)\n",
    "\n",
    "\n",
    "print('p-value:', results.pvalue)\n",
    "\n",
    "#conditional statement\n",
    "if results.pvalue < alpha:\n",
    "    print(\"We reject the null hypothesis\")\n",
    "else:\n",
    "    print(\"We can't reject the null hypothesis\")\n",
    "\n",
    "\n"
   ]
  },
  {
   "cell_type": "markdown",
   "metadata": {},
   "source": [
    "### NY-NJ area and the users from other regions"
   ]
  },
  {
   "cell_type": "markdown",
   "metadata": {},
   "source": [
    "- null hypothesis H₀:  the average revenue from users in NY-NJ area  are equal than other regions , there’s no difference.\n",
    "\n",
    "- hypothesis H₁:  The average revenue from users in NY-NJ area is different from that of the users from other regions, there is difference.\n",
    "- alpha value - 5%\n",
    "- Before we going to testing we should retrive fragment NY- NJ from column 'city'"
   ]
  },
  {
   "cell_type": "code",
   "execution_count": 72,
   "metadata": {
    "scrolled": true
   },
   "outputs": [
    {
     "data": {
      "text/plain": [
       "array(['Atlanta-Sandy Springs-Roswell, GA MSA',\n",
       "       'Seattle-Tacoma-Bellevue, WA MSA',\n",
       "       'Las Vegas-Henderson-Paradise, NV MSA', 'Tulsa, OK MSA',\n",
       "       'Dallas-Fort Worth-Arlington, TX MSA',\n",
       "       'San Francisco-Oakland-Berkeley, CA MSA',\n",
       "       'Grand Rapids-Kentwood, MI MSA',\n",
       "       'Orlando-Kissimmee-Sanford, FL MSA',\n",
       "       'San Jose-Sunnyvale-Santa Clara, CA MSA',\n",
       "       'Cleveland-Elyria, OH MSA',\n",
       "       'Chicago-Naperville-Elgin, IL-IN-WI MSA', 'Knoxville, TN MSA',\n",
       "       'New York-Newark-Jersey City, NY-NJ-PA MSA', 'Pittsburgh, PA MSA',\n",
       "       'Fresno, CA MSA',\n",
       "       'Washington-Arlington-Alexandria, DC-VA-MD-WV MSA',\n",
       "       'Indianapolis-Carmel-Anderson, IN MSA', 'Jacksonville, FL MSA',\n",
       "       'Los Angeles-Long Beach-Anaheim, CA MSA',\n",
       "       'Omaha-Council Bluffs, NE-IA MSA',\n",
       "       'Houston-The Woodlands-Sugar Land, TX MSA',\n",
       "       'Philadelphia-Camden-Wilmington, PA-NJ-DE-MD MSA',\n",
       "       'Tampa-St. Petersburg-Clearwater, FL MSA',\n",
       "       'Birmingham-Hoover, AL MSA', 'Oklahoma City, OK MSA',\n",
       "       'Charlotte-Concord-Gastonia, NC-SC MSA',\n",
       "       'Denver-Aurora-Lakewood, CO MSA',\n",
       "       'Nashville-Davidson–Murfreesboro–Franklin, TN MSA',\n",
       "       'Columbus, OH MSA', 'Albuquerque, NM MSA',\n",
       "       'Boston-Cambridge-Newton, MA-NH MSA',\n",
       "       'Miami-Fort Lauderdale-West Palm Beach, FL MSA',\n",
       "       'San Diego-Chula Vista-Carlsbad, CA MSA',\n",
       "       'Phoenix-Mesa-Chandler, AZ MSA',\n",
       "       'Portland-Vancouver-Hillsboro, OR-WA MSA',\n",
       "       'Cincinnati, OH-KY-IN MSA', 'Columbia, SC MSA',\n",
       "       'San Antonio-New Braunfels, TX MSA', 'Buffalo-Cheektowaga, NY MSA',\n",
       "       'Memphis, TN-MS-AR MSA',\n",
       "       'Riverside-San Bernardino-Ontario, CA MSA',\n",
       "       'Louisville/Jefferson County, KY-IN MSA',\n",
       "       'Albany-Schenectady-Troy, NY MSA', 'Providence-Warwick, RI-MA MSA',\n",
       "       'Urban Honolulu, HI MSA', 'El Paso, TX MSA',\n",
       "       'New Haven-Milford, CT MSA',\n",
       "       'North Port-Sarasota-Bradenton, FL MSA',\n",
       "       'New Orleans-Metairie, LA MSA',\n",
       "       'Bridgeport-Stamford-Norwalk, CT MSA',\n",
       "       'Virginia Beach-Norfolk-Newport News, VA-NC MSA',\n",
       "       'Baltimore-Columbia-Towson, MD MSA', 'Milwaukee-Waukesha, WI MSA',\n",
       "       'Oxnard-Thousand Oaks-Ventura, CA MSA',\n",
       "       'Sacramento–Roseville–Folsom, CA MSA',\n",
       "       'Austin-Round Rock-Georgetown, TX MSA', 'Richmond, VA MSA',\n",
       "       'St. Louis, MO-IL MSA',\n",
       "       'Minneapolis-St. Paul-Bloomington, MN-WI MSA',\n",
       "       'Dayton-Kettering, OH MSA', 'Bakersfield, CA MSA',\n",
       "       'Detroit-Warren-Dearborn, MI MSA', 'Baton Rouge, LA MSA',\n",
       "       'Kansas City, MO-KS MSA', 'Charleston-North Charleston, SC MSA',\n",
       "       'Rochester, NY MSA', 'Raleigh-Cary, NC MSA',\n",
       "       'Greensboro-High Point, NC MSA', 'Tucson, AZ MSA',\n",
       "       'Colorado Springs, CO MSA', 'Stockton, CA MSA',\n",
       "       'Salt Lake City, UT MSA', 'Cape Coral-Fort Myers, FL MSA'],\n",
       "      dtype=object)"
      ]
     },
     "execution_count": 72,
     "metadata": {},
     "output_type": "execute_result"
    }
   ],
   "source": [
    "# Checking unigue values\n",
    "final_df['city'].unique()"
   ]
  },
  {
   "cell_type": "markdown",
   "metadata": {},
   "source": [
    "- As we see the column city represented multytipe abbreviation elements states and combine by city so we going to retrieve fragment NY-NJ  using define function to return 'NY-NJ'"
   ]
  },
  {
   "cell_type": "code",
   "execution_count": 73,
   "metadata": {},
   "outputs": [],
   "source": [
    "# Define function called region that takes the city as argument and Returns the string 'ny-nj'\n",
    "def region(city): \n",
    "#creates a list fragments from the string value (by splitting the string at the commas). We call the list 'no_commas' \n",
    "   \n",
    "    no_commas = city.split(\",\")\n",
    "    for entry in no_commas:\n",
    "        if ('NY-NJ' in entry)|(entry == 'NY')|(entry == 'NJ'):\n",
    "            return 'ny-nj' \n",
    "\n",
    "        \n",
    "final_df['region'] = final_df['city'].apply(region)\n",
    "\n",
    "\n",
    "final_df['region'] = final_df['region'].fillna('other')\n",
    "\n",
    "#this converts the values in the region column to the category type\n",
    "final_df['region'] = final_df['region'].astype('category')\n",
    "\n",
    "\n"
   ]
  },
  {
   "cell_type": "code",
   "execution_count": 74,
   "metadata": {},
   "outputs": [
    {
     "data": {
      "text/html": [
       "<div>\n",
       "<style scoped>\n",
       "    .dataframe tbody tr th:only-of-type {\n",
       "        vertical-align: middle;\n",
       "    }\n",
       "\n",
       "    .dataframe tbody tr th {\n",
       "        vertical-align: top;\n",
       "    }\n",
       "\n",
       "    .dataframe thead th {\n",
       "        text-align: right;\n",
       "    }\n",
       "</style>\n",
       "<table border=\"1\" class=\"dataframe\">\n",
       "  <thead>\n",
       "    <tr style=\"text-align: right;\">\n",
       "      <th></th>\n",
       "      <th>user_id</th>\n",
       "      <th>by_month</th>\n",
       "      <th>calls_per_month</th>\n",
       "      <th>mins_per_month</th>\n",
       "      <th>messages_per_month</th>\n",
       "      <th>gb_per_month</th>\n",
       "      <th>city</th>\n",
       "      <th>plan</th>\n",
       "      <th>monthly_profit</th>\n",
       "      <th>region</th>\n",
       "    </tr>\n",
       "  </thead>\n",
       "  <tbody>\n",
       "    <tr>\n",
       "      <td>0</td>\n",
       "      <td>1000</td>\n",
       "      <td>12.0</td>\n",
       "      <td>16.0</td>\n",
       "      <td>124.0</td>\n",
       "      <td>11.0</td>\n",
       "      <td>4.0</td>\n",
       "      <td>Atlanta-Sandy Springs-Roswell, GA MSA</td>\n",
       "      <td>ultimate</td>\n",
       "      <td>0.00</td>\n",
       "      <td>other</td>\n",
       "    </tr>\n",
       "    <tr>\n",
       "      <td>1</td>\n",
       "      <td>1001</td>\n",
       "      <td>8.0</td>\n",
       "      <td>27.0</td>\n",
       "      <td>182.0</td>\n",
       "      <td>30.0</td>\n",
       "      <td>21.0</td>\n",
       "      <td>Seattle-Tacoma-Bellevue, WA MSA</td>\n",
       "      <td>surf</td>\n",
       "      <td>60.00</td>\n",
       "      <td>other</td>\n",
       "    </tr>\n",
       "    <tr>\n",
       "      <td>2</td>\n",
       "      <td>1001</td>\n",
       "      <td>9.0</td>\n",
       "      <td>49.0</td>\n",
       "      <td>315.0</td>\n",
       "      <td>44.0</td>\n",
       "      <td>41.0</td>\n",
       "      <td>Seattle-Tacoma-Bellevue, WA MSA</td>\n",
       "      <td>surf</td>\n",
       "      <td>260.00</td>\n",
       "      <td>other</td>\n",
       "    </tr>\n",
       "    <tr>\n",
       "      <td>3</td>\n",
       "      <td>1001</td>\n",
       "      <td>10.0</td>\n",
       "      <td>65.0</td>\n",
       "      <td>393.0</td>\n",
       "      <td>53.0</td>\n",
       "      <td>50.0</td>\n",
       "      <td>Seattle-Tacoma-Bellevue, WA MSA</td>\n",
       "      <td>surf</td>\n",
       "      <td>350.09</td>\n",
       "      <td>other</td>\n",
       "    </tr>\n",
       "    <tr>\n",
       "      <td>4</td>\n",
       "      <td>1001</td>\n",
       "      <td>11.0</td>\n",
       "      <td>64.0</td>\n",
       "      <td>426.0</td>\n",
       "      <td>36.0</td>\n",
       "      <td>49.0</td>\n",
       "      <td>Seattle-Tacoma-Bellevue, WA MSA</td>\n",
       "      <td>surf</td>\n",
       "      <td>340.00</td>\n",
       "      <td>other</td>\n",
       "    </tr>\n",
       "  </tbody>\n",
       "</table>\n",
       "</div>"
      ],
      "text/plain": [
       "   user_id  by_month  calls_per_month  mins_per_month  messages_per_month  \\\n",
       "0     1000      12.0             16.0           124.0                11.0   \n",
       "1     1001       8.0             27.0           182.0                30.0   \n",
       "2     1001       9.0             49.0           315.0                44.0   \n",
       "3     1001      10.0             65.0           393.0                53.0   \n",
       "4     1001      11.0             64.0           426.0                36.0   \n",
       "\n",
       "   gb_per_month                                   city      plan  \\\n",
       "0           4.0  Atlanta-Sandy Springs-Roswell, GA MSA  ultimate   \n",
       "1          21.0        Seattle-Tacoma-Bellevue, WA MSA      surf   \n",
       "2          41.0        Seattle-Tacoma-Bellevue, WA MSA      surf   \n",
       "3          50.0        Seattle-Tacoma-Bellevue, WA MSA      surf   \n",
       "4          49.0        Seattle-Tacoma-Bellevue, WA MSA      surf   \n",
       "\n",
       "   monthly_profit region  \n",
       "0            0.00  other  \n",
       "1           60.00  other  \n",
       "2          260.00  other  \n",
       "3          350.09  other  \n",
       "4          340.00  other  "
      ]
     },
     "execution_count": 74,
     "metadata": {},
     "output_type": "execute_result"
    }
   ],
   "source": [
    "# let's check if function work\n",
    "final_df.head()"
   ]
  },
  {
   "cell_type": "code",
   "execution_count": 75,
   "metadata": {},
   "outputs": [
    {
     "data": {
      "text/plain": [
       "other    1925\n",
       "ny-nj     378\n",
       "Name: region, dtype: int64"
      ]
     },
     "execution_count": 75,
     "metadata": {},
     "output_type": "execute_result"
    }
   ],
   "source": [
    "# Let's see distribution of column 'region'\n",
    "final_df['region'].value_counts() "
   ]
  },
  {
   "cell_type": "code",
   "execution_count": 76,
   "metadata": {
    "scrolled": true
   },
   "outputs": [
    {
     "name": "stdout",
     "output_type": "stream",
     "text": [
      "p-value: 0.00022081623901135797\n",
      "We reject the null hypothesis\n"
     ]
    }
   ],
   "source": [
    "# Test the hypotheses\n",
    "\n",
    "ny_nj_users = final_df.query('region == \"ny-nj\"')\n",
    "other_users = final_df.query('region == \"other\"')\n",
    "\n",
    "#setting our statistical significance at 5%\n",
    "alpha = 0.05 \n",
    "\n",
    "results = st.ttest_ind(ny_nj_users['monthly_profit'], other_users['monthly_profit'], equal_var=False)\n",
    "\n",
    "\n",
    "print('p-value:', results.pvalue)\n",
    "\n",
    "#conditional statement\n",
    "if results.pvalue < alpha:\n",
    "    print(\"We reject the null hypothesis\")\n",
    "else:\n",
    "    print(\"We can't reject the null hypothesis\")\n"
   ]
  },
  {
   "cell_type": "markdown",
   "metadata": {},
   "source": [
    "# General conclusion\n",
    "\n",
    "\n",
    "1.In the data's preparation & exploration stage:\n",
    "\n",
    "- We observed missing values in Dataframe:'df_internet', 'df_messages', 'df_plans', 'df_users' \n",
    "- The most missing values  'df_users' in column 'churn_date' and have 93.2%  of misslingness.\n",
    "\n",
    "2.In the data transformation and data-cleaning process stage:\n",
    "\n",
    "- We have missing values in user_df in column 'churn_date so it was repalced by end date acordding to documentation\n",
    "- We fixed data type in columns 'message_date', 'calls_date',\t'session_date' by conveting to Timestamp.\n",
    "- We enriched data by adding additional factors to the data like column 'by_month' \n",
    "- We aggregate data per user per period (monthly) and culculate monthly revenue per users\n",
    "\n",
    "\n",
    "3.In analysis stage to answer our questions we got next conclusion:\n",
    "\n",
    "- There is no difference of the behaviour of calls duration between the plans. Avarage monthly call duration of booth palns almost same.Distribution scewed left.\n",
    "December, November, October have high duration of calls.\n",
    "\n",
    "- There is differant benaviour between plans. The ultimate plans users used more messages than surf users.\n",
    "- There is no difference using traffic between plans. That means users using same gb monthly\n",
    "\n",
    "\n",
    "- by Testing the hypothesis that the average revenue from users of the Ultimate and Surf calling plans differ and no equal.\n",
    "- by testing the hypothesis that the average revenue from users in NY-NJ area are equal than other regions , there’s no difference.\n",
    "\n",
    "\n"
   ]
  },
  {
   "cell_type": "markdown",
   "metadata": {},
   "source": [
    " "
   ]
  }
 ],
 "metadata": {
  "ExecuteTimeLog": [
   {
    "duration": 828,
    "start_time": "2021-11-16T09:21:11.304Z"
   },
   {
    "duration": 893,
    "start_time": "2021-11-16T09:21:17.728Z"
   },
   {
    "duration": 1150,
    "start_time": "2021-11-16T09:21:29.568Z"
   },
   {
    "duration": 3,
    "start_time": "2021-11-16T09:24:14.495Z"
   },
   {
    "duration": 120,
    "start_time": "2021-11-16T09:24:46.630Z"
   },
   {
    "duration": 3,
    "start_time": "2021-11-16T09:28:27.882Z"
   },
   {
    "duration": 4,
    "start_time": "2021-11-16T09:29:54.281Z"
   },
   {
    "duration": 3,
    "start_time": "2021-11-16T09:30:45.936Z"
   },
   {
    "duration": 4,
    "start_time": "2021-11-16T09:31:06.300Z"
   },
   {
    "duration": 113,
    "start_time": "2021-11-16T09:31:37.208Z"
   },
   {
    "duration": 143,
    "start_time": "2021-11-16T09:31:48.656Z"
   },
   {
    "duration": 98,
    "start_time": "2021-11-16T09:31:55.678Z"
   },
   {
    "duration": 3,
    "start_time": "2021-11-16T09:32:08.535Z"
   },
   {
    "duration": 111,
    "start_time": "2021-11-16T09:32:10.120Z"
   },
   {
    "duration": 3,
    "start_time": "2021-11-16T09:32:15.732Z"
   },
   {
    "duration": 4,
    "start_time": "2021-11-16T09:32:29.423Z"
   },
   {
    "duration": 3,
    "start_time": "2021-11-16T10:03:03.074Z"
   },
   {
    "duration": 3,
    "start_time": "2021-11-16T10:10:01.288Z"
   },
   {
    "duration": 3,
    "start_time": "2021-11-16T10:10:46.923Z"
   },
   {
    "duration": 121,
    "start_time": "2021-11-16T10:37:46.494Z"
   },
   {
    "duration": 125,
    "start_time": "2021-11-16T10:38:20.632Z"
   },
   {
    "duration": 112,
    "start_time": "2021-11-16T10:46:53.001Z"
   },
   {
    "duration": 110,
    "start_time": "2021-11-16T10:48:25.775Z"
   },
   {
    "duration": 3,
    "start_time": "2021-11-16T10:50:18.720Z"
   },
   {
    "duration": 4,
    "start_time": "2021-11-16T10:50:37.649Z"
   },
   {
    "duration": 2,
    "start_time": "2021-11-16T10:50:51.884Z"
   },
   {
    "duration": 3,
    "start_time": "2021-11-16T10:51:56.237Z"
   },
   {
    "duration": 101,
    "start_time": "2021-11-16T10:53:13.791Z"
   },
   {
    "duration": 3,
    "start_time": "2021-11-16T10:55:59.186Z"
   },
   {
    "duration": 3,
    "start_time": "2021-11-16T10:56:10.751Z"
   },
   {
    "duration": 3,
    "start_time": "2021-11-16T10:56:49.038Z"
   },
   {
    "duration": 3,
    "start_time": "2021-11-16T10:56:49.174Z"
   },
   {
    "duration": 4,
    "start_time": "2021-11-16T10:56:49.414Z"
   },
   {
    "duration": 3,
    "start_time": "2021-11-16T10:56:49.680Z"
   },
   {
    "duration": 3,
    "start_time": "2021-11-16T10:56:50.370Z"
   },
   {
    "duration": 114,
    "start_time": "2021-11-16T10:59:34.518Z"
   },
   {
    "duration": 3,
    "start_time": "2021-11-16T11:01:41.201Z"
   },
   {
    "duration": 116,
    "start_time": "2021-11-16T11:01:48.754Z"
   },
   {
    "duration": 3,
    "start_time": "2021-11-16T11:02:16.685Z"
   },
   {
    "duration": 3,
    "start_time": "2021-11-16T11:02:19.479Z"
   },
   {
    "duration": 3,
    "start_time": "2021-11-16T11:02:47.067Z"
   },
   {
    "duration": 3,
    "start_time": "2021-11-16T11:02:49.353Z"
   },
   {
    "duration": 3,
    "start_time": "2021-11-16T11:03:07.835Z"
   },
   {
    "duration": 3,
    "start_time": "2021-11-16T11:03:07.953Z"
   },
   {
    "duration": 112,
    "start_time": "2021-11-16T11:07:52.072Z"
   },
   {
    "duration": 187,
    "start_time": "2021-11-16T11:09:23.468Z"
   },
   {
    "duration": 4,
    "start_time": "2021-11-16T11:10:01.455Z"
   },
   {
    "duration": 3,
    "start_time": "2021-11-16T11:10:05.069Z"
   },
   {
    "duration": 4,
    "start_time": "2021-11-16T11:10:13.376Z"
   },
   {
    "duration": 3,
    "start_time": "2021-11-16T11:10:14.434Z"
   },
   {
    "duration": 3,
    "start_time": "2021-11-16T11:10:22.853Z"
   },
   {
    "duration": 4,
    "start_time": "2021-11-16T11:27:29.279Z"
   },
   {
    "duration": 4,
    "start_time": "2021-11-16T11:29:08.919Z"
   },
   {
    "duration": 118,
    "start_time": "2021-11-16T11:29:46.703Z"
   },
   {
    "duration": 437,
    "start_time": "2021-11-16T11:36:02.181Z"
   },
   {
    "duration": 157,
    "start_time": "2021-11-16T11:36:14.388Z"
   },
   {
    "duration": 207,
    "start_time": "2021-11-16T11:47:15.898Z"
   },
   {
    "duration": 3,
    "start_time": "2021-11-16T11:53:52.092Z"
   },
   {
    "duration": 3,
    "start_time": "2021-11-16T11:53:52.236Z"
   },
   {
    "duration": 3,
    "start_time": "2021-11-16T11:59:12.005Z"
   },
   {
    "duration": 112,
    "start_time": "2021-11-16T12:00:33.446Z"
   },
   {
    "duration": 3,
    "start_time": "2021-11-16T12:02:14.453Z"
   },
   {
    "duration": 3,
    "start_time": "2021-11-16T12:02:39.512Z"
   },
   {
    "duration": 106,
    "start_time": "2021-11-16T12:03:03.460Z"
   },
   {
    "duration": 3,
    "start_time": "2021-11-17T20:37:21.139Z"
   },
   {
    "duration": 3,
    "start_time": "2021-11-17T20:37:22.229Z"
   },
   {
    "duration": 3,
    "start_time": "2021-11-17T20:38:38.806Z"
   },
   {
    "duration": 3,
    "start_time": "2021-11-17T20:38:41.958Z"
   },
   {
    "duration": 3,
    "start_time": "2021-11-17T20:43:46.551Z"
   },
   {
    "duration": 4,
    "start_time": "2021-11-17T20:58:21.835Z"
   },
   {
    "duration": 3,
    "start_time": "2021-11-17T20:59:21.872Z"
   },
   {
    "duration": 4,
    "start_time": "2021-11-17T20:59:45.352Z"
   },
   {
    "duration": 4,
    "start_time": "2021-11-17T20:59:49.646Z"
   },
   {
    "duration": 159,
    "start_time": "2021-11-17T21:02:26.949Z"
   },
   {
    "duration": 3,
    "start_time": "2021-11-17T21:03:53.461Z"
   },
   {
    "duration": 3,
    "start_time": "2021-11-17T21:03:53.694Z"
   },
   {
    "duration": 3,
    "start_time": "2021-11-17T21:05:28.145Z"
   },
   {
    "duration": 116,
    "start_time": "2021-11-17T21:05:57.787Z"
   },
   {
    "duration": 3,
    "start_time": "2021-11-17T21:06:37.993Z"
   },
   {
    "duration": 3,
    "start_time": "2021-11-17T21:06:38.261Z"
   },
   {
    "duration": 3,
    "start_time": "2021-11-17T21:11:54.358Z"
   },
   {
    "duration": 3,
    "start_time": "2021-11-17T21:12:43.846Z"
   },
   {
    "duration": 4,
    "start_time": "2021-11-17T21:13:08.773Z"
   },
   {
    "duration": 3,
    "start_time": "2021-11-17T21:14:44.441Z"
   },
   {
    "duration": 3,
    "start_time": "2021-11-17T21:15:42.059Z"
   },
   {
    "duration": 4,
    "start_time": "2021-11-17T21:15:51.995Z"
   },
   {
    "duration": 3,
    "start_time": "2021-11-17T21:15:53.923Z"
   },
   {
    "duration": 3,
    "start_time": "2021-11-17T21:15:55.282Z"
   },
   {
    "duration": 3,
    "start_time": "2021-11-17T21:16:28.492Z"
   },
   {
    "duration": 3,
    "start_time": "2021-11-17T21:16:32.603Z"
   },
   {
    "duration": 3,
    "start_time": "2021-11-17T21:17:06.941Z"
   },
   {
    "duration": 98,
    "start_time": "2021-11-17T21:18:05.733Z"
   },
   {
    "duration": 4,
    "start_time": "2021-11-17T21:21:35.255Z"
   },
   {
    "duration": 3,
    "start_time": "2021-11-17T21:21:37.804Z"
   },
   {
    "duration": 4,
    "start_time": "2021-11-17T21:23:06.071Z"
   },
   {
    "duration": 3,
    "start_time": "2021-11-17T21:23:24.799Z"
   },
   {
    "duration": 3,
    "start_time": "2021-11-17T21:23:32.591Z"
   },
   {
    "duration": 98,
    "start_time": "2021-11-17T21:28:31.559Z"
   },
   {
    "duration": 3,
    "start_time": "2021-11-17T21:28:45.448Z"
   },
   {
    "duration": 3,
    "start_time": "2021-11-17T21:29:17.303Z"
   },
   {
    "duration": 3,
    "start_time": "2021-11-17T21:29:29.617Z"
   },
   {
    "duration": 3,
    "start_time": "2021-11-17T21:29:32.681Z"
   },
   {
    "duration": 3,
    "start_time": "2021-11-17T21:36:11.474Z"
   },
   {
    "duration": 3,
    "start_time": "2021-11-17T21:36:14.791Z"
   },
   {
    "duration": 3,
    "start_time": "2021-11-17T21:36:53.943Z"
   },
   {
    "duration": 3,
    "start_time": "2021-11-17T21:36:56.165Z"
   },
   {
    "duration": 4,
    "start_time": "2021-11-17T21:37:16.590Z"
   },
   {
    "duration": 3,
    "start_time": "2021-11-17T21:37:22.702Z"
   },
   {
    "duration": 4,
    "start_time": "2021-11-17T21:38:03.479Z"
   },
   {
    "duration": 3,
    "start_time": "2021-11-17T21:38:08.601Z"
   },
   {
    "duration": 3,
    "start_time": "2021-11-17T21:38:12.928Z"
   },
   {
    "duration": 3,
    "start_time": "2021-11-17T21:38:48.896Z"
   },
   {
    "duration": 2,
    "start_time": "2021-11-17T21:38:49.171Z"
   },
   {
    "duration": 4,
    "start_time": "2021-11-17T21:39:57.889Z"
   },
   {
    "duration": 3,
    "start_time": "2021-11-17T21:39:58.057Z"
   },
   {
    "duration": 3,
    "start_time": "2021-11-17T21:41:20.108Z"
   },
   {
    "duration": 3,
    "start_time": "2021-11-17T21:41:20.629Z"
   },
   {
    "duration": 3,
    "start_time": "2021-11-17T21:42:49.136Z"
   },
   {
    "duration": 3,
    "start_time": "2021-11-17T21:43:15.137Z"
   },
   {
    "duration": 4,
    "start_time": "2021-11-17T21:43:16.766Z"
   },
   {
    "duration": 4,
    "start_time": "2021-11-17T21:43:31.711Z"
   },
   {
    "duration": 3,
    "start_time": "2021-11-17T21:43:36.312Z"
   },
   {
    "duration": 4,
    "start_time": "2021-11-17T21:45:08.825Z"
   },
   {
    "duration": 4,
    "start_time": "2021-11-17T21:45:10.119Z"
   },
   {
    "duration": 4,
    "start_time": "2021-11-17T21:45:13.748Z"
   },
   {
    "duration": 3,
    "start_time": "2021-11-17T21:45:22.219Z"
   },
   {
    "duration": 3,
    "start_time": "2021-11-17T21:45:33.412Z"
   },
   {
    "duration": 2,
    "start_time": "2021-11-17T21:46:01.885Z"
   },
   {
    "duration": 3,
    "start_time": "2021-11-17T21:46:03.628Z"
   },
   {
    "duration": 107,
    "start_time": "2021-11-17T21:47:32.512Z"
   },
   {
    "duration": 103,
    "start_time": "2021-11-17T21:50:36.243Z"
   },
   {
    "duration": 3,
    "start_time": "2021-11-18T06:28:31.440Z"
   },
   {
    "duration": 3,
    "start_time": "2021-11-18T06:29:00.168Z"
   },
   {
    "duration": 3,
    "start_time": "2021-11-18T06:31:27.008Z"
   },
   {
    "duration": 2,
    "start_time": "2021-11-18T06:35:34.288Z"
   },
   {
    "duration": 2,
    "start_time": "2021-11-18T06:38:04.527Z"
   },
   {
    "duration": 611,
    "start_time": "2022-02-28T23:54:40.125Z"
   },
   {
    "duration": 189,
    "start_time": "2022-02-28T23:55:49.834Z"
   },
   {
    "duration": 118,
    "start_time": "2022-02-28T23:55:58.701Z"
   },
   {
    "duration": 315,
    "start_time": "2022-02-28T23:57:46.985Z"
   },
   {
    "duration": 370,
    "start_time": "2022-03-01T00:01:10.975Z"
   },
   {
    "duration": 13,
    "start_time": "2022-03-01T00:01:31.104Z"
   },
   {
    "duration": 11,
    "start_time": "2022-03-01T00:01:46.097Z"
   },
   {
    "duration": 13,
    "start_time": "2022-03-01T00:01:56.791Z"
   },
   {
    "duration": 11,
    "start_time": "2022-03-01T00:02:23.812Z"
   },
   {
    "duration": 4,
    "start_time": "2022-03-01T00:02:41.269Z"
   },
   {
    "duration": 3,
    "start_time": "2022-03-01T00:03:22.683Z"
   },
   {
    "duration": 5,
    "start_time": "2022-03-01T00:04:05.724Z"
   },
   {
    "duration": 25,
    "start_time": "2022-03-01T00:06:10.773Z"
   },
   {
    "duration": 476,
    "start_time": "2022-03-01T00:08:56.094Z"
   },
   {
    "duration": 4,
    "start_time": "2022-03-01T00:09:18.191Z"
   },
   {
    "duration": 289,
    "start_time": "2022-03-01T00:09:34.873Z"
   },
   {
    "duration": 9,
    "start_time": "2022-03-01T00:09:42.185Z"
   },
   {
    "duration": 13,
    "start_time": "2022-03-01T00:15:31.816Z"
   },
   {
    "duration": 10,
    "start_time": "2022-03-01T00:16:40.246Z"
   },
   {
    "duration": 9,
    "start_time": "2022-03-01T00:17:34.098Z"
   },
   {
    "duration": 191,
    "start_time": "2022-03-01T00:17:55.404Z"
   },
   {
    "duration": 13,
    "start_time": "2022-03-01T00:18:01.317Z"
   },
   {
    "duration": 17,
    "start_time": "2022-03-01T00:18:21.686Z"
   },
   {
    "duration": 197,
    "start_time": "2022-03-01T00:19:20.342Z"
   },
   {
    "duration": 195,
    "start_time": "2022-03-01T00:19:30.249Z"
   },
   {
    "duration": 2,
    "start_time": "2022-03-01T00:19:43.652Z"
   },
   {
    "duration": 6,
    "start_time": "2022-03-01T00:23:34.399Z"
   },
   {
    "duration": 7,
    "start_time": "2022-03-01T00:25:40.995Z"
   },
   {
    "duration": 7,
    "start_time": "2022-03-01T00:26:07.852Z"
   },
   {
    "duration": 6,
    "start_time": "2022-03-01T00:26:20.327Z"
   },
   {
    "duration": 8,
    "start_time": "2022-03-01T00:26:46.345Z"
   },
   {
    "duration": 21,
    "start_time": "2022-03-01T00:27:03.722Z"
   },
   {
    "duration": 12,
    "start_time": "2022-03-01T00:32:16.626Z"
   },
   {
    "duration": 7,
    "start_time": "2022-03-01T00:32:38.909Z"
   },
   {
    "duration": 6,
    "start_time": "2022-03-01T00:33:19.985Z"
   },
   {
    "duration": 17,
    "start_time": "2022-03-01T00:35:47.035Z"
   },
   {
    "duration": 11,
    "start_time": "2022-03-01T00:36:19.261Z"
   },
   {
    "duration": 11,
    "start_time": "2022-03-01T00:37:12.418Z"
   },
   {
    "duration": 12,
    "start_time": "2022-03-01T00:37:21.094Z"
   },
   {
    "duration": 12,
    "start_time": "2022-03-01T00:38:08.601Z"
   },
   {
    "duration": 14,
    "start_time": "2022-03-01T00:38:47.831Z"
   },
   {
    "duration": 8,
    "start_time": "2022-03-01T00:45:11.573Z"
   },
   {
    "duration": 7,
    "start_time": "2022-03-01T00:45:23.904Z"
   },
   {
    "duration": 13,
    "start_time": "2022-03-01T02:34:10.070Z"
   },
   {
    "duration": 9,
    "start_time": "2022-03-01T02:34:29.015Z"
   },
   {
    "duration": 9,
    "start_time": "2022-03-01T02:34:38.493Z"
   },
   {
    "duration": 9,
    "start_time": "2022-03-01T02:34:46.733Z"
   },
   {
    "duration": 9,
    "start_time": "2022-03-01T02:34:53.427Z"
   },
   {
    "duration": 9,
    "start_time": "2022-03-01T02:35:05.578Z"
   },
   {
    "duration": 9,
    "start_time": "2022-03-01T02:36:00.665Z"
   },
   {
    "duration": 10,
    "start_time": "2022-03-01T02:36:17.222Z"
   },
   {
    "duration": 5,
    "start_time": "2022-03-01T02:46:13.412Z"
   },
   {
    "duration": 331,
    "start_time": "2022-03-01T02:47:13.982Z"
   },
   {
    "duration": 5,
    "start_time": "2022-03-01T02:47:35.792Z"
   },
   {
    "duration": 5113,
    "start_time": "2022-03-01T02:50:31.526Z"
   },
   {
    "duration": 227,
    "start_time": "2022-03-01T02:51:56.838Z"
   },
   {
    "duration": 4551,
    "start_time": "2022-03-01T02:52:38.157Z"
   },
   {
    "duration": 5135,
    "start_time": "2022-03-01T02:53:19.851Z"
   },
   {
    "duration": 4663,
    "start_time": "2022-03-01T02:53:52.718Z"
   },
   {
    "duration": 605,
    "start_time": "2022-03-01T02:54:28.516Z"
   },
   {
    "duration": 306,
    "start_time": "2022-03-01T02:54:29.123Z"
   },
   {
    "duration": 7,
    "start_time": "2022-03-01T02:54:29.430Z"
   },
   {
    "duration": 16,
    "start_time": "2022-03-01T02:54:29.439Z"
   },
   {
    "duration": 6,
    "start_time": "2022-03-01T02:54:29.456Z"
   },
   {
    "duration": 11,
    "start_time": "2022-03-01T02:54:29.464Z"
   },
   {
    "duration": 12,
    "start_time": "2022-03-01T02:54:29.477Z"
   },
   {
    "duration": 16,
    "start_time": "2022-03-01T02:54:29.491Z"
   },
   {
    "duration": 29,
    "start_time": "2022-03-01T02:54:29.509Z"
   },
   {
    "duration": 10,
    "start_time": "2022-03-01T02:54:29.540Z"
   },
   {
    "duration": 17,
    "start_time": "2022-03-01T02:54:29.551Z"
   },
   {
    "duration": 8,
    "start_time": "2022-03-01T02:54:29.570Z"
   },
   {
    "duration": 28,
    "start_time": "2022-03-01T02:54:29.579Z"
   },
   {
    "duration": 24,
    "start_time": "2022-03-01T02:54:29.608Z"
   },
   {
    "duration": 3,
    "start_time": "2022-03-01T02:54:29.634Z"
   },
   {
    "duration": 8,
    "start_time": "2022-03-01T02:54:29.638Z"
   },
   {
    "duration": 11,
    "start_time": "2022-03-01T02:54:29.647Z"
   },
   {
    "duration": 13,
    "start_time": "2022-03-01T02:54:29.660Z"
   },
   {
    "duration": 8,
    "start_time": "2022-03-01T02:54:29.674Z"
   },
   {
    "duration": 11,
    "start_time": "2022-03-01T02:54:29.683Z"
   },
   {
    "duration": 12,
    "start_time": "2022-03-01T02:54:29.696Z"
   },
   {
    "duration": 13,
    "start_time": "2022-03-01T02:54:29.710Z"
   },
   {
    "duration": 20,
    "start_time": "2022-03-01T02:54:29.726Z"
   },
   {
    "duration": 14,
    "start_time": "2022-03-01T02:54:29.748Z"
   },
   {
    "duration": 11,
    "start_time": "2022-03-01T02:54:29.764Z"
   },
   {
    "duration": 15,
    "start_time": "2022-03-01T02:54:29.777Z"
   },
   {
    "duration": 8,
    "start_time": "2022-03-01T02:54:29.794Z"
   },
   {
    "duration": 15,
    "start_time": "2022-03-01T02:54:29.803Z"
   },
   {
    "duration": 12,
    "start_time": "2022-03-01T02:54:29.820Z"
   },
   {
    "duration": 8,
    "start_time": "2022-03-01T02:54:29.834Z"
   },
   {
    "duration": 17,
    "start_time": "2022-03-01T02:54:29.843Z"
   },
   {
    "duration": 6,
    "start_time": "2022-03-01T02:55:25.293Z"
   },
   {
    "duration": 267,
    "start_time": "2022-03-01T02:55:45.014Z"
   },
   {
    "duration": 16,
    "start_time": "2022-03-01T03:01:25.428Z"
   },
   {
    "duration": 16,
    "start_time": "2022-03-01T03:01:48.559Z"
   },
   {
    "duration": 9,
    "start_time": "2022-03-01T03:02:09.654Z"
   },
   {
    "duration": 206,
    "start_time": "2022-03-01T03:04:04.174Z"
   },
   {
    "duration": 171,
    "start_time": "2022-03-01T03:04:19.472Z"
   },
   {
    "duration": 9,
    "start_time": "2022-03-01T03:04:52.420Z"
   },
   {
    "duration": 5,
    "start_time": "2022-03-01T03:08:07.207Z"
   },
   {
    "duration": 205,
    "start_time": "2022-03-01T03:09:52.836Z"
   },
   {
    "duration": 21,
    "start_time": "2022-03-01T03:10:12.697Z"
   },
   {
    "duration": 174,
    "start_time": "2022-03-01T03:10:37.654Z"
   },
   {
    "duration": 5,
    "start_time": "2022-03-01T03:11:06.400Z"
   },
   {
    "duration": 5,
    "start_time": "2022-03-01T03:12:07.670Z"
   },
   {
    "duration": 4,
    "start_time": "2022-03-01T03:12:23.757Z"
   },
   {
    "duration": 192,
    "start_time": "2022-03-01T03:13:19.657Z"
   },
   {
    "duration": 7,
    "start_time": "2022-03-01T03:13:30.319Z"
   },
   {
    "duration": 6,
    "start_time": "2022-03-01T03:14:47.002Z"
   },
   {
    "duration": 5161,
    "start_time": "2022-03-01T03:15:51.500Z"
   },
   {
    "duration": 197,
    "start_time": "2022-03-01T03:17:34.931Z"
   },
   {
    "duration": 5,
    "start_time": "2022-03-01T03:17:41.592Z"
   },
   {
    "duration": 8,
    "start_time": "2022-03-01T03:18:37.628Z"
   },
   {
    "duration": 11,
    "start_time": "2022-03-01T03:20:44.402Z"
   },
   {
    "duration": 205,
    "start_time": "2022-03-01T03:23:15.978Z"
   },
   {
    "duration": 16,
    "start_time": "2022-03-01T03:23:27.475Z"
   },
   {
    "duration": 5,
    "start_time": "2022-03-01T03:24:12.139Z"
   },
   {
    "duration": 67,
    "start_time": "2022-03-01T03:38:13.381Z"
   },
   {
    "duration": 5,
    "start_time": "2022-03-01T03:38:21.414Z"
   },
   {
    "duration": 8,
    "start_time": "2022-03-01T03:38:44.469Z"
   },
   {
    "duration": 10,
    "start_time": "2022-03-01T03:41:59.749Z"
   },
   {
    "duration": 9,
    "start_time": "2022-03-01T03:44:24.118Z"
   },
   {
    "duration": 599,
    "start_time": "2022-03-01T03:45:09.686Z"
   },
   {
    "duration": 316,
    "start_time": "2022-03-01T03:45:10.287Z"
   },
   {
    "duration": 7,
    "start_time": "2022-03-01T03:45:10.605Z"
   },
   {
    "duration": 18,
    "start_time": "2022-03-01T03:45:10.613Z"
   },
   {
    "duration": 14,
    "start_time": "2022-03-01T03:45:10.633Z"
   },
   {
    "duration": 11,
    "start_time": "2022-03-01T03:45:10.649Z"
   },
   {
    "duration": 18,
    "start_time": "2022-03-01T03:45:10.662Z"
   },
   {
    "duration": 7,
    "start_time": "2022-03-01T03:45:10.683Z"
   },
   {
    "duration": 12,
    "start_time": "2022-03-01T03:45:10.693Z"
   },
   {
    "duration": 7,
    "start_time": "2022-03-01T03:45:10.707Z"
   },
   {
    "duration": 27,
    "start_time": "2022-03-01T03:45:10.739Z"
   },
   {
    "duration": 5,
    "start_time": "2022-03-01T03:45:10.768Z"
   },
   {
    "duration": 18,
    "start_time": "2022-03-01T03:45:10.774Z"
   },
   {
    "duration": 7,
    "start_time": "2022-03-01T03:45:10.794Z"
   },
   {
    "duration": 36,
    "start_time": "2022-03-01T03:45:10.803Z"
   },
   {
    "duration": 14,
    "start_time": "2022-03-01T03:45:10.841Z"
   },
   {
    "duration": 4,
    "start_time": "2022-03-01T03:45:10.856Z"
   },
   {
    "duration": 20,
    "start_time": "2022-03-01T03:45:10.862Z"
   },
   {
    "duration": 10,
    "start_time": "2022-03-01T03:45:10.884Z"
   },
   {
    "duration": 16,
    "start_time": "2022-03-01T03:45:10.895Z"
   },
   {
    "duration": 38,
    "start_time": "2022-03-01T03:45:10.913Z"
   },
   {
    "duration": 4,
    "start_time": "2022-03-01T03:45:10.953Z"
   },
   {
    "duration": 3,
    "start_time": "2022-03-01T03:45:10.960Z"
   },
   {
    "duration": 5,
    "start_time": "2022-03-01T03:45:10.965Z"
   },
   {
    "duration": 6,
    "start_time": "2022-03-01T03:45:10.971Z"
   },
   {
    "duration": 11,
    "start_time": "2022-03-01T03:45:10.978Z"
   },
   {
    "duration": 9,
    "start_time": "2022-03-01T03:45:10.991Z"
   },
   {
    "duration": 6,
    "start_time": "2022-03-01T03:45:11.002Z"
   },
   {
    "duration": 6,
    "start_time": "2022-03-01T03:45:11.010Z"
   },
   {
    "duration": 8,
    "start_time": "2022-03-01T03:45:11.039Z"
   },
   {
    "duration": 6,
    "start_time": "2022-03-01T03:45:11.049Z"
   },
   {
    "duration": 6,
    "start_time": "2022-03-01T03:45:11.056Z"
   },
   {
    "duration": 5,
    "start_time": "2022-03-01T03:45:11.063Z"
   },
   {
    "duration": 5,
    "start_time": "2022-03-01T03:45:11.070Z"
   },
   {
    "duration": 9,
    "start_time": "2022-03-01T03:45:11.076Z"
   },
   {
    "duration": 5,
    "start_time": "2022-03-01T03:45:11.087Z"
   },
   {
    "duration": 5,
    "start_time": "2022-03-01T03:45:11.094Z"
   },
   {
    "duration": 5,
    "start_time": "2022-03-01T03:45:11.101Z"
   },
   {
    "duration": 6,
    "start_time": "2022-03-01T03:45:34.916Z"
   },
   {
    "duration": 10,
    "start_time": "2022-03-01T03:45:39.715Z"
   },
   {
    "duration": 5,
    "start_time": "2022-03-01T03:47:13.853Z"
   },
   {
    "duration": 23,
    "start_time": "2022-03-01T03:47:24.259Z"
   },
   {
    "duration": 15,
    "start_time": "2022-03-01T03:52:48.065Z"
   },
   {
    "duration": 4677,
    "start_time": "2022-03-01T04:11:07.671Z"
   },
   {
    "duration": 64,
    "start_time": "2022-03-01T04:11:45.131Z"
   },
   {
    "duration": 1327,
    "start_time": "2022-03-01T04:11:53.899Z"
   },
   {
    "duration": 185,
    "start_time": "2022-03-01T04:12:21.782Z"
   },
   {
    "duration": 1435,
    "start_time": "2022-03-01T04:12:28.327Z"
   },
   {
    "duration": 4809,
    "start_time": "2022-03-01T04:12:48.323Z"
   },
   {
    "duration": 24,
    "start_time": "2022-03-01T04:31:13.476Z"
   },
   {
    "duration": 364,
    "start_time": "2022-03-02T22:04:04.536Z"
   },
   {
    "duration": 880,
    "start_time": "2022-03-02T22:04:14.699Z"
   },
   {
    "duration": 1173,
    "start_time": "2022-03-02T22:04:15.581Z"
   },
   {
    "duration": 8,
    "start_time": "2022-03-02T22:04:16.757Z"
   },
   {
    "duration": 24,
    "start_time": "2022-03-02T22:04:16.768Z"
   },
   {
    "duration": 9,
    "start_time": "2022-03-02T22:04:16.794Z"
   },
   {
    "duration": 36,
    "start_time": "2022-03-02T22:04:16.805Z"
   },
   {
    "duration": 24,
    "start_time": "2022-03-02T22:04:16.844Z"
   },
   {
    "duration": 63,
    "start_time": "2022-03-02T22:04:16.872Z"
   },
   {
    "duration": 13,
    "start_time": "2022-03-02T22:04:16.939Z"
   },
   {
    "duration": 16,
    "start_time": "2022-03-02T22:04:16.955Z"
   },
   {
    "duration": 7,
    "start_time": "2022-03-02T22:04:16.973Z"
   },
   {
    "duration": 29,
    "start_time": "2022-03-02T22:04:17.033Z"
   },
   {
    "duration": 5,
    "start_time": "2022-03-02T22:04:17.065Z"
   },
   {
    "duration": 15,
    "start_time": "2022-03-02T22:04:17.073Z"
   },
   {
    "duration": 11,
    "start_time": "2022-03-02T22:04:17.133Z"
   },
   {
    "duration": 11,
    "start_time": "2022-03-02T22:04:17.146Z"
   },
   {
    "duration": 18,
    "start_time": "2022-03-02T22:04:17.159Z"
   },
   {
    "duration": 53,
    "start_time": "2022-03-02T22:04:17.179Z"
   },
   {
    "duration": 19,
    "start_time": "2022-03-02T22:04:17.235Z"
   },
   {
    "duration": 10,
    "start_time": "2022-03-02T22:04:17.257Z"
   },
   {
    "duration": 21,
    "start_time": "2022-03-02T22:04:17.270Z"
   },
   {
    "duration": 24,
    "start_time": "2022-03-02T22:04:17.333Z"
   },
   {
    "duration": 6,
    "start_time": "2022-03-02T22:04:17.363Z"
   },
   {
    "duration": 8,
    "start_time": "2022-03-02T22:04:17.372Z"
   },
   {
    "duration": 7,
    "start_time": "2022-03-02T22:04:17.383Z"
   },
   {
    "duration": 3,
    "start_time": "2022-03-02T22:04:17.433Z"
   },
   {
    "duration": 7,
    "start_time": "2022-03-02T22:04:17.439Z"
   },
   {
    "duration": 7,
    "start_time": "2022-03-02T22:04:17.449Z"
   },
   {
    "duration": 6,
    "start_time": "2022-03-02T22:04:17.458Z"
   },
   {
    "duration": 4,
    "start_time": "2022-03-02T22:04:17.467Z"
   },
   {
    "duration": 5,
    "start_time": "2022-03-02T22:04:17.473Z"
   },
   {
    "duration": 4,
    "start_time": "2022-03-02T22:04:17.531Z"
   },
   {
    "duration": 4,
    "start_time": "2022-03-02T22:04:17.538Z"
   },
   {
    "duration": 6,
    "start_time": "2022-03-02T22:04:17.545Z"
   },
   {
    "duration": 13,
    "start_time": "2022-03-02T22:04:17.554Z"
   },
   {
    "duration": 6,
    "start_time": "2022-03-02T22:04:17.570Z"
   },
   {
    "duration": 55,
    "start_time": "2022-03-02T22:04:17.578Z"
   },
   {
    "duration": 9,
    "start_time": "2022-03-02T22:04:17.635Z"
   },
   {
    "duration": 9,
    "start_time": "2022-03-02T22:04:17.647Z"
   },
   {
    "duration": 2169,
    "start_time": "2022-03-02T22:19:03.746Z"
   },
   {
    "duration": 15,
    "start_time": "2022-03-02T22:20:52.590Z"
   },
   {
    "duration": 7,
    "start_time": "2022-03-02T22:22:18.711Z"
   },
   {
    "duration": 301,
    "start_time": "2022-03-02T22:23:58.231Z"
   },
   {
    "duration": 7,
    "start_time": "2022-03-02T22:24:19.259Z"
   },
   {
    "duration": 18,
    "start_time": "2022-03-02T22:24:23.926Z"
   },
   {
    "duration": 5,
    "start_time": "2022-03-02T22:25:11.567Z"
   },
   {
    "duration": 7,
    "start_time": "2022-03-02T22:25:23.539Z"
   },
   {
    "duration": 5,
    "start_time": "2022-03-02T22:25:31.465Z"
   },
   {
    "duration": 6,
    "start_time": "2022-03-02T22:25:41.127Z"
   },
   {
    "duration": 8,
    "start_time": "2022-03-02T22:26:58.329Z"
   },
   {
    "duration": 6,
    "start_time": "2022-03-02T22:27:02.461Z"
   },
   {
    "duration": 17,
    "start_time": "2022-03-02T22:32:00.765Z"
   },
   {
    "duration": 306,
    "start_time": "2022-03-02T22:32:09.973Z"
   },
   {
    "duration": 303,
    "start_time": "2022-03-02T22:32:56.681Z"
   },
   {
    "duration": 298,
    "start_time": "2022-03-02T22:34:16.496Z"
   },
   {
    "duration": 27,
    "start_time": "2022-03-02T22:34:27.747Z"
   },
   {
    "duration": 295,
    "start_time": "2022-03-02T22:38:37.456Z"
   },
   {
    "duration": 29,
    "start_time": "2022-03-02T22:39:04.021Z"
   },
   {
    "duration": 315,
    "start_time": "2022-03-02T22:43:47.151Z"
   },
   {
    "duration": 4,
    "start_time": "2022-03-02T23:09:19.264Z"
   },
   {
    "duration": 4,
    "start_time": "2022-03-02T23:10:26.556Z"
   },
   {
    "duration": 7,
    "start_time": "2022-03-02T23:11:38.257Z"
   },
   {
    "duration": 4,
    "start_time": "2022-03-02T23:12:52.906Z"
   },
   {
    "duration": 293,
    "start_time": "2022-03-02T23:14:50.970Z"
   },
   {
    "duration": 293,
    "start_time": "2022-03-02T23:19:03.179Z"
   },
   {
    "duration": 305,
    "start_time": "2022-03-02T23:23:46.319Z"
   },
   {
    "duration": 303,
    "start_time": "2022-03-02T23:24:15.147Z"
   },
   {
    "duration": 3,
    "start_time": "2022-03-02T23:24:49.933Z"
   },
   {
    "duration": 4,
    "start_time": "2022-03-02T23:25:00.594Z"
   },
   {
    "duration": 402,
    "start_time": "2022-03-02T23:25:00.605Z"
   },
   {
    "duration": 8,
    "start_time": "2022-03-02T23:25:01.009Z"
   },
   {
    "duration": 22,
    "start_time": "2022-03-02T23:25:01.020Z"
   },
   {
    "duration": 14,
    "start_time": "2022-03-02T23:25:01.045Z"
   },
   {
    "duration": 21,
    "start_time": "2022-03-02T23:25:01.061Z"
   },
   {
    "duration": 10,
    "start_time": "2022-03-02T23:25:01.084Z"
   },
   {
    "duration": 57,
    "start_time": "2022-03-02T23:25:01.096Z"
   },
   {
    "duration": 6,
    "start_time": "2022-03-02T23:25:01.157Z"
   },
   {
    "duration": 12,
    "start_time": "2022-03-02T23:25:01.165Z"
   },
   {
    "duration": 8,
    "start_time": "2022-03-02T23:25:01.179Z"
   },
   {
    "duration": 47,
    "start_time": "2022-03-02T23:25:01.189Z"
   },
   {
    "duration": 10,
    "start_time": "2022-03-02T23:25:01.238Z"
   },
   {
    "duration": 37,
    "start_time": "2022-03-02T23:25:01.251Z"
   },
   {
    "duration": 11,
    "start_time": "2022-03-02T23:25:01.290Z"
   },
   {
    "duration": 36,
    "start_time": "2022-03-02T23:25:01.303Z"
   },
   {
    "duration": 6,
    "start_time": "2022-03-02T23:25:01.342Z"
   },
   {
    "duration": 29,
    "start_time": "2022-03-02T23:25:01.350Z"
   },
   {
    "duration": 5,
    "start_time": "2022-03-02T23:25:01.382Z"
   },
   {
    "duration": 49,
    "start_time": "2022-03-02T23:25:01.389Z"
   },
   {
    "duration": 18,
    "start_time": "2022-03-02T23:25:01.440Z"
   },
   {
    "duration": 12,
    "start_time": "2022-03-02T23:25:01.460Z"
   },
   {
    "duration": 57,
    "start_time": "2022-03-02T23:25:01.475Z"
   },
   {
    "duration": 6,
    "start_time": "2022-03-02T23:25:01.537Z"
   },
   {
    "duration": 27,
    "start_time": "2022-03-02T23:25:01.545Z"
   },
   {
    "duration": 11,
    "start_time": "2022-03-02T23:25:01.574Z"
   },
   {
    "duration": 48,
    "start_time": "2022-03-02T23:25:01.587Z"
   },
   {
    "duration": 22,
    "start_time": "2022-03-02T23:25:01.638Z"
   },
   {
    "duration": 5,
    "start_time": "2022-03-02T23:25:01.662Z"
   },
   {
    "duration": 6,
    "start_time": "2022-03-02T23:25:01.670Z"
   },
   {
    "duration": 10,
    "start_time": "2022-03-02T23:25:01.679Z"
   },
   {
    "duration": 6,
    "start_time": "2022-03-02T23:25:01.692Z"
   },
   {
    "duration": 3,
    "start_time": "2022-03-02T23:25:01.734Z"
   },
   {
    "duration": 6,
    "start_time": "2022-03-02T23:25:01.739Z"
   },
   {
    "duration": 4,
    "start_time": "2022-03-02T23:25:01.748Z"
   },
   {
    "duration": 4,
    "start_time": "2022-03-02T23:25:01.755Z"
   },
   {
    "duration": 4,
    "start_time": "2022-03-02T23:25:01.762Z"
   },
   {
    "duration": 4,
    "start_time": "2022-03-02T23:25:01.769Z"
   },
   {
    "duration": 59,
    "start_time": "2022-03-02T23:25:01.775Z"
   },
   {
    "duration": 4,
    "start_time": "2022-03-02T23:25:01.837Z"
   },
   {
    "duration": 4,
    "start_time": "2022-03-02T23:25:01.844Z"
   },
   {
    "duration": 4,
    "start_time": "2022-03-02T23:25:01.850Z"
   },
   {
    "duration": 5,
    "start_time": "2022-03-02T23:25:01.857Z"
   },
   {
    "duration": 4,
    "start_time": "2022-03-02T23:25:01.864Z"
   },
   {
    "duration": 5,
    "start_time": "2022-03-02T23:25:01.870Z"
   },
   {
    "duration": 5,
    "start_time": "2022-03-02T23:25:37.264Z"
   },
   {
    "duration": 788,
    "start_time": "2022-03-02T23:35:48.191Z"
   },
   {
    "duration": 371,
    "start_time": "2022-03-02T23:35:48.982Z"
   },
   {
    "duration": 9,
    "start_time": "2022-03-02T23:35:49.359Z"
   },
   {
    "duration": 23,
    "start_time": "2022-03-02T23:35:49.370Z"
   },
   {
    "duration": 9,
    "start_time": "2022-03-02T23:35:49.395Z"
   },
   {
    "duration": 35,
    "start_time": "2022-03-02T23:35:49.406Z"
   },
   {
    "duration": 8,
    "start_time": "2022-03-02T23:35:49.443Z"
   },
   {
    "duration": 25,
    "start_time": "2022-03-02T23:35:49.455Z"
   },
   {
    "duration": 50,
    "start_time": "2022-03-02T23:35:49.483Z"
   },
   {
    "duration": 103,
    "start_time": "2022-03-02T23:35:49.535Z"
   },
   {
    "duration": -1,
    "start_time": "2022-03-02T23:35:49.642Z"
   },
   {
    "duration": -3,
    "start_time": "2022-03-02T23:35:49.646Z"
   },
   {
    "duration": -5,
    "start_time": "2022-03-02T23:35:49.649Z"
   },
   {
    "duration": -5,
    "start_time": "2022-03-02T23:35:49.651Z"
   },
   {
    "duration": -7,
    "start_time": "2022-03-02T23:35:49.654Z"
   },
   {
    "duration": -10,
    "start_time": "2022-03-02T23:35:49.658Z"
   },
   {
    "duration": -21,
    "start_time": "2022-03-02T23:35:49.670Z"
   },
   {
    "duration": -25,
    "start_time": "2022-03-02T23:35:49.676Z"
   },
   {
    "duration": -27,
    "start_time": "2022-03-02T23:35:49.679Z"
   },
   {
    "duration": -29,
    "start_time": "2022-03-02T23:35:49.682Z"
   },
   {
    "duration": -247,
    "start_time": "2022-03-02T23:35:49.901Z"
   },
   {
    "duration": -248,
    "start_time": "2022-03-02T23:35:49.904Z"
   },
   {
    "duration": -252,
    "start_time": "2022-03-02T23:35:49.909Z"
   },
   {
    "duration": -263,
    "start_time": "2022-03-02T23:35:49.921Z"
   },
   {
    "duration": -275,
    "start_time": "2022-03-02T23:35:49.934Z"
   },
   {
    "duration": -277,
    "start_time": "2022-03-02T23:35:49.937Z"
   },
   {
    "duration": -281,
    "start_time": "2022-03-02T23:35:49.943Z"
   },
   {
    "duration": -291,
    "start_time": "2022-03-02T23:35:49.954Z"
   },
   {
    "duration": -295,
    "start_time": "2022-03-02T23:35:49.959Z"
   },
   {
    "duration": -303,
    "start_time": "2022-03-02T23:35:49.968Z"
   },
   {
    "duration": -304,
    "start_time": "2022-03-02T23:35:49.970Z"
   },
   {
    "duration": -309,
    "start_time": "2022-03-02T23:35:49.976Z"
   },
   {
    "duration": -353,
    "start_time": "2022-03-02T23:35:50.022Z"
   },
   {
    "duration": -368,
    "start_time": "2022-03-02T23:35:50.038Z"
   },
   {
    "duration": -369,
    "start_time": "2022-03-02T23:35:50.041Z"
   },
   {
    "duration": -370,
    "start_time": "2022-03-02T23:35:50.043Z"
   },
   {
    "duration": -372,
    "start_time": "2022-03-02T23:35:50.046Z"
   },
   {
    "duration": -374,
    "start_time": "2022-03-02T23:35:50.049Z"
   },
   {
    "duration": -375,
    "start_time": "2022-03-02T23:35:50.052Z"
   },
   {
    "duration": -327,
    "start_time": "2022-03-02T23:35:50.059Z"
   },
   {
    "duration": -327,
    "start_time": "2022-03-02T23:35:50.061Z"
   },
   {
    "duration": -329,
    "start_time": "2022-03-02T23:35:50.064Z"
   },
   {
    "duration": 763,
    "start_time": "2022-03-02T23:36:08.441Z"
   },
   {
    "duration": 366,
    "start_time": "2022-03-02T23:36:09.207Z"
   },
   {
    "duration": 10,
    "start_time": "2022-03-02T23:36:09.577Z"
   },
   {
    "duration": 24,
    "start_time": "2022-03-02T23:36:09.590Z"
   },
   {
    "duration": 9,
    "start_time": "2022-03-02T23:36:09.616Z"
   },
   {
    "duration": 15,
    "start_time": "2022-03-02T23:36:09.627Z"
   },
   {
    "duration": 6,
    "start_time": "2022-03-02T23:36:09.645Z"
   },
   {
    "duration": 40,
    "start_time": "2022-03-02T23:36:09.655Z"
   },
   {
    "duration": 38,
    "start_time": "2022-03-02T23:36:09.698Z"
   },
   {
    "duration": 43,
    "start_time": "2022-03-02T23:36:09.738Z"
   },
   {
    "duration": 11,
    "start_time": "2022-03-02T23:36:09.784Z"
   },
   {
    "duration": 15,
    "start_time": "2022-03-02T23:36:09.797Z"
   },
   {
    "duration": 24,
    "start_time": "2022-03-02T23:36:09.814Z"
   },
   {
    "duration": 37,
    "start_time": "2022-03-02T23:36:09.840Z"
   },
   {
    "duration": 5,
    "start_time": "2022-03-02T23:36:09.880Z"
   },
   {
    "duration": 53,
    "start_time": "2022-03-02T23:36:09.887Z"
   },
   {
    "duration": 10,
    "start_time": "2022-03-02T23:36:09.942Z"
   },
   {
    "duration": 10,
    "start_time": "2022-03-02T23:36:09.955Z"
   },
   {
    "duration": 19,
    "start_time": "2022-03-02T23:36:09.968Z"
   },
   {
    "duration": 6,
    "start_time": "2022-03-02T23:36:10.032Z"
   },
   {
    "duration": 24,
    "start_time": "2022-03-02T23:36:10.041Z"
   },
   {
    "duration": 10,
    "start_time": "2022-03-02T23:36:10.068Z"
   },
   {
    "duration": 53,
    "start_time": "2022-03-02T23:36:10.084Z"
   },
   {
    "duration": 22,
    "start_time": "2022-03-02T23:36:10.139Z"
   },
   {
    "duration": 4,
    "start_time": "2022-03-02T23:36:10.164Z"
   },
   {
    "duration": 4,
    "start_time": "2022-03-02T23:36:10.171Z"
   },
   {
    "duration": 6,
    "start_time": "2022-03-02T23:36:10.177Z"
   },
   {
    "duration": 47,
    "start_time": "2022-03-02T23:36:10.185Z"
   },
   {
    "duration": 3,
    "start_time": "2022-03-02T23:36:10.235Z"
   },
   {
    "duration": 5,
    "start_time": "2022-03-02T23:36:10.240Z"
   },
   {
    "duration": 4,
    "start_time": "2022-03-02T23:36:10.247Z"
   },
   {
    "duration": 5,
    "start_time": "2022-03-02T23:36:10.253Z"
   },
   {
    "duration": 4,
    "start_time": "2022-03-02T23:36:10.261Z"
   },
   {
    "duration": 4,
    "start_time": "2022-03-02T23:36:10.268Z"
   },
   {
    "duration": 4,
    "start_time": "2022-03-02T23:36:10.274Z"
   },
   {
    "duration": 3,
    "start_time": "2022-03-02T23:36:10.333Z"
   },
   {
    "duration": 7,
    "start_time": "2022-03-02T23:36:10.338Z"
   },
   {
    "duration": 6,
    "start_time": "2022-03-02T23:36:10.347Z"
   },
   {
    "duration": 4,
    "start_time": "2022-03-02T23:36:10.356Z"
   },
   {
    "duration": 5,
    "start_time": "2022-03-02T23:36:10.362Z"
   },
   {
    "duration": 4,
    "start_time": "2022-03-02T23:36:10.369Z"
   },
   {
    "duration": 11,
    "start_time": "2022-03-02T23:37:42.225Z"
   },
   {
    "duration": 4,
    "start_time": "2022-03-02T23:46:26.145Z"
   },
   {
    "duration": 4,
    "start_time": "2022-03-02T23:47:46.905Z"
   },
   {
    "duration": 7,
    "start_time": "2022-03-02T23:47:52.654Z"
   },
   {
    "duration": 6,
    "start_time": "2022-03-03T00:34:12.939Z"
   },
   {
    "duration": 514,
    "start_time": "2022-03-03T00:36:15.566Z"
   },
   {
    "duration": 111,
    "start_time": "2022-03-03T00:38:02.898Z"
   },
   {
    "duration": 317,
    "start_time": "2022-03-03T00:38:15.674Z"
   },
   {
    "duration": 714,
    "start_time": "2022-03-03T00:50:26.168Z"
   },
   {
    "duration": 364,
    "start_time": "2022-03-03T00:50:26.884Z"
   },
   {
    "duration": 10,
    "start_time": "2022-03-03T00:50:27.251Z"
   },
   {
    "duration": 24,
    "start_time": "2022-03-03T00:50:27.263Z"
   },
   {
    "duration": 8,
    "start_time": "2022-03-03T00:50:27.289Z"
   },
   {
    "duration": 33,
    "start_time": "2022-03-03T00:50:27.299Z"
   },
   {
    "duration": 7,
    "start_time": "2022-03-03T00:50:27.334Z"
   },
   {
    "duration": 24,
    "start_time": "2022-03-03T00:50:27.344Z"
   },
   {
    "duration": 4,
    "start_time": "2022-03-03T00:50:27.371Z"
   },
   {
    "duration": 10,
    "start_time": "2022-03-03T00:50:27.377Z"
   },
   {
    "duration": 42,
    "start_time": "2022-03-03T00:50:27.390Z"
   },
   {
    "duration": 4,
    "start_time": "2022-03-03T00:50:27.435Z"
   },
   {
    "duration": 23,
    "start_time": "2022-03-03T00:50:27.441Z"
   },
   {
    "duration": 12,
    "start_time": "2022-03-03T00:50:27.466Z"
   },
   {
    "duration": 13,
    "start_time": "2022-03-03T00:50:27.480Z"
   },
   {
    "duration": 7,
    "start_time": "2022-03-03T00:50:27.533Z"
   },
   {
    "duration": 29,
    "start_time": "2022-03-03T00:50:27.542Z"
   },
   {
    "duration": 5,
    "start_time": "2022-03-03T00:50:27.573Z"
   },
   {
    "duration": 55,
    "start_time": "2022-03-03T00:50:27.581Z"
   },
   {
    "duration": 10,
    "start_time": "2022-03-03T00:50:27.638Z"
   },
   {
    "duration": 11,
    "start_time": "2022-03-03T00:50:27.651Z"
   },
   {
    "duration": 19,
    "start_time": "2022-03-03T00:50:27.664Z"
   },
   {
    "duration": 6,
    "start_time": "2022-03-03T00:50:27.687Z"
   },
   {
    "duration": 19,
    "start_time": "2022-03-03T00:50:27.733Z"
   },
   {
    "duration": 11,
    "start_time": "2022-03-03T00:50:27.754Z"
   },
   {
    "duration": 17,
    "start_time": "2022-03-03T00:50:27.768Z"
   },
   {
    "duration": 58,
    "start_time": "2022-03-03T00:50:27.787Z"
   },
   {
    "duration": 5,
    "start_time": "2022-03-03T00:50:27.847Z"
   },
   {
    "duration": 5,
    "start_time": "2022-03-03T00:50:27.854Z"
   },
   {
    "duration": 6,
    "start_time": "2022-03-03T00:50:27.861Z"
   },
   {
    "duration": 5,
    "start_time": "2022-03-03T00:50:27.869Z"
   },
   {
    "duration": 4,
    "start_time": "2022-03-03T00:50:27.877Z"
   },
   {
    "duration": 5,
    "start_time": "2022-03-03T00:50:27.884Z"
   },
   {
    "duration": 5,
    "start_time": "2022-03-03T00:50:27.891Z"
   },
   {
    "duration": 2,
    "start_time": "2022-03-03T00:50:27.933Z"
   },
   {
    "duration": 5,
    "start_time": "2022-03-03T00:50:27.938Z"
   },
   {
    "duration": 6,
    "start_time": "2022-03-03T00:50:27.946Z"
   },
   {
    "duration": 5,
    "start_time": "2022-03-03T00:50:27.954Z"
   },
   {
    "duration": 5,
    "start_time": "2022-03-03T00:50:27.961Z"
   },
   {
    "duration": 7,
    "start_time": "2022-03-03T00:50:27.968Z"
   },
   {
    "duration": 5,
    "start_time": "2022-03-03T00:50:27.977Z"
   },
   {
    "duration": 8,
    "start_time": "2022-03-03T00:50:27.984Z"
   },
   {
    "duration": 3,
    "start_time": "2022-03-03T00:50:28.033Z"
   },
   {
    "duration": 6,
    "start_time": "2022-03-03T00:50:28.038Z"
   },
   {
    "duration": 4,
    "start_time": "2022-03-03T00:57:54.559Z"
   },
   {
    "duration": 4,
    "start_time": "2022-03-03T00:58:20.457Z"
   },
   {
    "duration": 7,
    "start_time": "2022-03-03T01:00:04.312Z"
   },
   {
    "duration": 4,
    "start_time": "2022-03-03T01:00:57.045Z"
   },
   {
    "duration": 11,
    "start_time": "2022-03-03T01:01:03.519Z"
   },
   {
    "duration": 384,
    "start_time": "2022-03-03T01:02:23.724Z"
   },
   {
    "duration": 5,
    "start_time": "2022-03-03T01:04:16.843Z"
   },
   {
    "duration": 305,
    "start_time": "2022-03-03T01:05:02.498Z"
   },
   {
    "duration": 327,
    "start_time": "2022-03-03T01:05:43.143Z"
   },
   {
    "duration": 304,
    "start_time": "2022-03-03T01:05:50.165Z"
   },
   {
    "duration": 277,
    "start_time": "2022-03-03T01:05:54.376Z"
   },
   {
    "duration": 297,
    "start_time": "2022-03-03T01:06:07.773Z"
   },
   {
    "duration": 288,
    "start_time": "2022-03-03T01:06:32.129Z"
   },
   {
    "duration": 342,
    "start_time": "2022-03-03T01:07:22.864Z"
   },
   {
    "duration": 297,
    "start_time": "2022-03-03T01:21:36.124Z"
   },
   {
    "duration": 315,
    "start_time": "2022-03-03T01:22:38.207Z"
   },
   {
    "duration": 4,
    "start_time": "2022-03-03T01:27:35.329Z"
   },
   {
    "duration": 4,
    "start_time": "2022-03-03T01:27:40.765Z"
   },
   {
    "duration": 28,
    "start_time": "2022-03-03T01:27:51.651Z"
   },
   {
    "duration": 8,
    "start_time": "2022-03-03T01:29:26.343Z"
   },
   {
    "duration": 4,
    "start_time": "2022-03-03T01:30:10.249Z"
   },
   {
    "duration": 394,
    "start_time": "2022-03-03T01:30:10.256Z"
   },
   {
    "duration": 9,
    "start_time": "2022-03-03T01:30:10.653Z"
   },
   {
    "duration": 14,
    "start_time": "2022-03-03T01:30:10.665Z"
   },
   {
    "duration": 8,
    "start_time": "2022-03-03T01:30:10.682Z"
   },
   {
    "duration": 15,
    "start_time": "2022-03-03T01:30:10.692Z"
   },
   {
    "duration": 8,
    "start_time": "2022-03-03T01:30:10.735Z"
   },
   {
    "duration": 29,
    "start_time": "2022-03-03T01:30:10.746Z"
   },
   {
    "duration": 3,
    "start_time": "2022-03-03T01:30:10.777Z"
   },
   {
    "duration": 11,
    "start_time": "2022-03-03T01:30:10.782Z"
   },
   {
    "duration": 38,
    "start_time": "2022-03-03T01:30:10.795Z"
   },
   {
    "duration": 4,
    "start_time": "2022-03-03T01:30:10.835Z"
   },
   {
    "duration": 310,
    "start_time": "2022-03-03T01:30:10.841Z"
   },
   {
    "duration": 62,
    "start_time": "2022-03-03T01:30:11.093Z"
   },
   {
    "duration": 59,
    "start_time": "2022-03-03T01:30:11.097Z"
   },
   {
    "duration": 58,
    "start_time": "2022-03-03T01:30:11.100Z"
   },
   {
    "duration": 57,
    "start_time": "2022-03-03T01:30:11.102Z"
   },
   {
    "duration": 56,
    "start_time": "2022-03-03T01:30:11.105Z"
   },
   {
    "duration": -125,
    "start_time": "2022-03-03T01:30:11.287Z"
   },
   {
    "duration": -131,
    "start_time": "2022-03-03T01:30:11.294Z"
   },
   {
    "duration": -139,
    "start_time": "2022-03-03T01:30:11.303Z"
   },
   {
    "duration": -153,
    "start_time": "2022-03-03T01:30:11.319Z"
   },
   {
    "duration": -159,
    "start_time": "2022-03-03T01:30:11.326Z"
   },
   {
    "duration": -168,
    "start_time": "2022-03-03T01:30:11.336Z"
   },
   {
    "duration": -170,
    "start_time": "2022-03-03T01:30:11.340Z"
   },
   {
    "duration": -182,
    "start_time": "2022-03-03T01:30:11.353Z"
   },
   {
    "duration": -184,
    "start_time": "2022-03-03T01:30:11.357Z"
   },
   {
    "duration": -194,
    "start_time": "2022-03-03T01:30:11.368Z"
   },
   {
    "duration": -197,
    "start_time": "2022-03-03T01:30:11.372Z"
   },
   {
    "duration": -200,
    "start_time": "2022-03-03T01:30:11.376Z"
   },
   {
    "duration": -242,
    "start_time": "2022-03-03T01:30:11.420Z"
   },
   {
    "duration": -245,
    "start_time": "2022-03-03T01:30:11.424Z"
   },
   {
    "duration": -315,
    "start_time": "2022-03-03T01:30:11.495Z"
   },
   {
    "duration": -342,
    "start_time": "2022-03-03T01:30:11.524Z"
   },
   {
    "duration": -345,
    "start_time": "2022-03-03T01:30:11.528Z"
   },
   {
    "duration": -347,
    "start_time": "2022-03-03T01:30:11.531Z"
   },
   {
    "duration": -348,
    "start_time": "2022-03-03T01:30:11.534Z"
   },
   {
    "duration": -349,
    "start_time": "2022-03-03T01:30:11.536Z"
   },
   {
    "duration": -350,
    "start_time": "2022-03-03T01:30:11.538Z"
   },
   {
    "duration": -351,
    "start_time": "2022-03-03T01:30:11.541Z"
   },
   {
    "duration": -353,
    "start_time": "2022-03-03T01:30:11.544Z"
   },
   {
    "duration": -314,
    "start_time": "2022-03-03T01:30:11.546Z"
   },
   {
    "duration": -368,
    "start_time": "2022-03-03T01:30:11.602Z"
   },
   {
    "duration": -372,
    "start_time": "2022-03-03T01:30:11.608Z"
   },
   {
    "duration": -419,
    "start_time": "2022-03-03T01:30:11.656Z"
   },
   {
    "duration": -423,
    "start_time": "2022-03-03T01:30:11.662Z"
   },
   {
    "duration": 3,
    "start_time": "2022-03-03T01:30:37.249Z"
   },
   {
    "duration": 3,
    "start_time": "2022-03-03T01:30:40.385Z"
   },
   {
    "duration": 366,
    "start_time": "2022-03-03T01:30:40.393Z"
   },
   {
    "duration": 8,
    "start_time": "2022-03-03T01:30:40.762Z"
   },
   {
    "duration": 14,
    "start_time": "2022-03-03T01:30:40.773Z"
   },
   {
    "duration": 8,
    "start_time": "2022-03-03T01:30:40.789Z"
   },
   {
    "duration": 13,
    "start_time": "2022-03-03T01:30:40.800Z"
   },
   {
    "duration": 21,
    "start_time": "2022-03-03T01:30:40.815Z"
   },
   {
    "duration": 25,
    "start_time": "2022-03-03T01:30:40.838Z"
   },
   {
    "duration": 3,
    "start_time": "2022-03-03T01:30:40.866Z"
   },
   {
    "duration": 10,
    "start_time": "2022-03-03T01:30:40.872Z"
   },
   {
    "duration": 4,
    "start_time": "2022-03-03T01:30:40.884Z"
   },
   {
    "duration": 6,
    "start_time": "2022-03-03T01:30:40.890Z"
   },
   {
    "duration": 3,
    "start_time": "2022-03-03T01:30:40.933Z"
   },
   {
    "duration": 6,
    "start_time": "2022-03-03T01:30:40.938Z"
   },
   {
    "duration": 25,
    "start_time": "2022-03-03T01:30:40.947Z"
   },
   {
    "duration": 10,
    "start_time": "2022-03-03T01:30:40.975Z"
   },
   {
    "duration": 46,
    "start_time": "2022-03-03T01:30:40.987Z"
   },
   {
    "duration": 7,
    "start_time": "2022-03-03T01:30:41.035Z"
   },
   {
    "duration": 28,
    "start_time": "2022-03-03T01:30:41.044Z"
   },
   {
    "duration": 5,
    "start_time": "2022-03-03T01:30:41.074Z"
   },
   {
    "duration": 16,
    "start_time": "2022-03-03T01:30:41.081Z"
   },
   {
    "duration": 41,
    "start_time": "2022-03-03T01:30:41.099Z"
   },
   {
    "duration": 10,
    "start_time": "2022-03-03T01:30:41.142Z"
   },
   {
    "duration": 16,
    "start_time": "2022-03-03T01:30:41.157Z"
   },
   {
    "duration": 5,
    "start_time": "2022-03-03T01:30:41.175Z"
   },
   {
    "duration": 55,
    "start_time": "2022-03-03T01:30:41.183Z"
   },
   {
    "duration": 12,
    "start_time": "2022-03-03T01:30:41.241Z"
   },
   {
    "duration": 20,
    "start_time": "2022-03-03T01:30:41.256Z"
   },
   {
    "duration": 55,
    "start_time": "2022-03-03T01:30:41.279Z"
   },
   {
    "duration": 6,
    "start_time": "2022-03-03T01:30:41.337Z"
   },
   {
    "duration": 4,
    "start_time": "2022-03-03T01:30:41.346Z"
   },
   {
    "duration": 8,
    "start_time": "2022-03-03T01:30:41.353Z"
   },
   {
    "duration": 12,
    "start_time": "2022-03-03T01:30:41.364Z"
   },
   {
    "duration": 5,
    "start_time": "2022-03-03T01:30:41.379Z"
   },
   {
    "duration": 7,
    "start_time": "2022-03-03T01:30:41.387Z"
   },
   {
    "duration": 38,
    "start_time": "2022-03-03T01:30:41.397Z"
   },
   {
    "duration": 4,
    "start_time": "2022-03-03T01:30:41.438Z"
   },
   {
    "duration": 4,
    "start_time": "2022-03-03T01:30:41.445Z"
   },
   {
    "duration": 4,
    "start_time": "2022-03-03T01:30:41.452Z"
   },
   {
    "duration": 5,
    "start_time": "2022-03-03T01:30:41.458Z"
   },
   {
    "duration": 5,
    "start_time": "2022-03-03T01:30:41.465Z"
   },
   {
    "duration": 4,
    "start_time": "2022-03-03T01:30:41.472Z"
   },
   {
    "duration": 5,
    "start_time": "2022-03-03T01:30:41.478Z"
   },
   {
    "duration": 3,
    "start_time": "2022-03-03T01:30:41.533Z"
   },
   {
    "duration": 4,
    "start_time": "2022-03-03T01:30:41.539Z"
   },
   {
    "duration": 4,
    "start_time": "2022-03-03T01:30:41.546Z"
   },
   {
    "duration": 24,
    "start_time": "2022-03-03T01:30:52.815Z"
   },
   {
    "duration": 18,
    "start_time": "2022-03-03T01:31:14.418Z"
   },
   {
    "duration": 27,
    "start_time": "2022-03-03T01:31:30.418Z"
   },
   {
    "duration": 6,
    "start_time": "2022-03-03T01:44:51.591Z"
   },
   {
    "duration": 7,
    "start_time": "2022-03-03T01:45:46.454Z"
   },
   {
    "duration": 294,
    "start_time": "2022-03-03T01:50:26.028Z"
   },
   {
    "duration": 3,
    "start_time": "2022-03-03T01:51:30.472Z"
   },
   {
    "duration": 365,
    "start_time": "2022-03-03T01:52:45.757Z"
   },
   {
    "duration": 10,
    "start_time": "2022-03-03T02:05:19.010Z"
   },
   {
    "duration": 287,
    "start_time": "2022-03-03T02:06:15.138Z"
   },
   {
    "duration": 311,
    "start_time": "2022-03-03T02:09:54.627Z"
   },
   {
    "duration": 285,
    "start_time": "2022-03-03T02:12:58.813Z"
   },
   {
    "duration": 796,
    "start_time": "2022-03-03T02:24:57.257Z"
   },
   {
    "duration": 382,
    "start_time": "2022-03-03T02:24:58.056Z"
   },
   {
    "duration": 9,
    "start_time": "2022-03-03T02:24:58.442Z"
   },
   {
    "duration": 31,
    "start_time": "2022-03-03T02:24:58.454Z"
   },
   {
    "duration": 8,
    "start_time": "2022-03-03T02:24:58.488Z"
   },
   {
    "duration": 38,
    "start_time": "2022-03-03T02:24:58.498Z"
   },
   {
    "duration": 9,
    "start_time": "2022-03-03T02:24:58.539Z"
   },
   {
    "duration": 9,
    "start_time": "2022-03-03T02:24:58.551Z"
   },
   {
    "duration": 7,
    "start_time": "2022-03-03T02:24:58.563Z"
   },
   {
    "duration": 31,
    "start_time": "2022-03-03T02:24:58.572Z"
   },
   {
    "duration": 36,
    "start_time": "2022-03-03T02:24:58.605Z"
   },
   {
    "duration": 5,
    "start_time": "2022-03-03T02:24:58.644Z"
   },
   {
    "duration": 9,
    "start_time": "2022-03-03T02:24:58.651Z"
   },
   {
    "duration": 9,
    "start_time": "2022-03-03T02:24:58.663Z"
   },
   {
    "duration": 11,
    "start_time": "2022-03-03T02:24:58.674Z"
   },
   {
    "duration": 69,
    "start_time": "2022-03-03T02:24:58.688Z"
   },
   {
    "duration": 11,
    "start_time": "2022-03-03T02:24:58.760Z"
   },
   {
    "duration": 15,
    "start_time": "2022-03-03T02:24:58.773Z"
   },
   {
    "duration": 6,
    "start_time": "2022-03-03T02:24:58.790Z"
   },
   {
    "duration": 61,
    "start_time": "2022-03-03T02:24:58.798Z"
   },
   {
    "duration": 5,
    "start_time": "2022-03-03T02:24:58.862Z"
   },
   {
    "duration": 28,
    "start_time": "2022-03-03T02:24:58.870Z"
   },
   {
    "duration": 10,
    "start_time": "2022-03-03T02:24:58.932Z"
   },
   {
    "duration": 14,
    "start_time": "2022-03-03T02:24:58.945Z"
   },
   {
    "duration": 17,
    "start_time": "2022-03-03T02:24:58.961Z"
   },
   {
    "duration": 5,
    "start_time": "2022-03-03T02:24:58.981Z"
   },
   {
    "duration": 73,
    "start_time": "2022-03-03T02:24:58.988Z"
   },
   {
    "duration": 11,
    "start_time": "2022-03-03T02:24:59.063Z"
   },
   {
    "duration": 20,
    "start_time": "2022-03-03T02:24:59.076Z"
   },
   {
    "duration": 41,
    "start_time": "2022-03-03T02:24:59.099Z"
   },
   {
    "duration": 6,
    "start_time": "2022-03-03T02:24:59.143Z"
   },
   {
    "duration": 4,
    "start_time": "2022-03-03T02:24:59.152Z"
   },
   {
    "duration": 5,
    "start_time": "2022-03-03T02:24:59.159Z"
   },
   {
    "duration": 4,
    "start_time": "2022-03-03T02:24:59.167Z"
   },
   {
    "duration": 4,
    "start_time": "2022-03-03T02:24:59.174Z"
   },
   {
    "duration": 56,
    "start_time": "2022-03-03T02:24:59.181Z"
   },
   {
    "duration": 5,
    "start_time": "2022-03-03T02:24:59.240Z"
   },
   {
    "duration": 4,
    "start_time": "2022-03-03T02:24:59.248Z"
   },
   {
    "duration": 3,
    "start_time": "2022-03-03T02:24:59.256Z"
   },
   {
    "duration": 4,
    "start_time": "2022-03-03T02:24:59.263Z"
   },
   {
    "duration": 3,
    "start_time": "2022-03-03T02:24:59.270Z"
   },
   {
    "duration": 8,
    "start_time": "2022-03-03T02:24:59.276Z"
   },
   {
    "duration": 3,
    "start_time": "2022-03-03T02:24:59.333Z"
   },
   {
    "duration": 6,
    "start_time": "2022-03-03T02:24:59.339Z"
   },
   {
    "duration": 5,
    "start_time": "2022-03-03T02:24:59.348Z"
   },
   {
    "duration": 6,
    "start_time": "2022-03-03T02:24:59.356Z"
   },
   {
    "duration": 6,
    "start_time": "2022-03-03T02:24:59.364Z"
   },
   {
    "duration": 30,
    "start_time": "2022-03-03T02:26:45.071Z"
   },
   {
    "duration": 376,
    "start_time": "2022-03-03T02:28:52.335Z"
   },
   {
    "duration": 7,
    "start_time": "2022-03-03T02:29:16.315Z"
   },
   {
    "duration": 29,
    "start_time": "2022-03-03T02:29:18.652Z"
   },
   {
    "duration": 3,
    "start_time": "2022-03-03T02:29:44.283Z"
   },
   {
    "duration": 27,
    "start_time": "2022-03-03T02:29:46.085Z"
   },
   {
    "duration": 28,
    "start_time": "2022-03-03T02:29:52.099Z"
   },
   {
    "duration": 759,
    "start_time": "2022-03-03T02:30:05.795Z"
   },
   {
    "duration": 369,
    "start_time": "2022-03-03T02:30:06.556Z"
   },
   {
    "duration": 9,
    "start_time": "2022-03-03T02:30:06.928Z"
   },
   {
    "duration": 23,
    "start_time": "2022-03-03T02:30:06.939Z"
   },
   {
    "duration": 9,
    "start_time": "2022-03-03T02:30:06.964Z"
   },
   {
    "duration": 14,
    "start_time": "2022-03-03T02:30:06.975Z"
   },
   {
    "duration": 7,
    "start_time": "2022-03-03T02:30:06.991Z"
   },
   {
    "duration": 34,
    "start_time": "2022-03-03T02:30:07.001Z"
   },
   {
    "duration": 3,
    "start_time": "2022-03-03T02:30:07.038Z"
   },
   {
    "duration": 26,
    "start_time": "2022-03-03T02:30:07.043Z"
   },
   {
    "duration": 8,
    "start_time": "2022-03-03T02:30:07.071Z"
   },
   {
    "duration": 62,
    "start_time": "2022-03-03T02:30:07.081Z"
   },
   {
    "duration": 383,
    "start_time": "2022-03-03T02:30:07.145Z"
   },
   {
    "duration": 347,
    "start_time": "2022-03-03T02:30:07.185Z"
   },
   {
    "duration": 338,
    "start_time": "2022-03-03T02:30:07.196Z"
   },
   {
    "duration": 336,
    "start_time": "2022-03-03T02:30:07.199Z"
   },
   {
    "duration": 333,
    "start_time": "2022-03-03T02:30:07.204Z"
   },
   {
    "duration": 325,
    "start_time": "2022-03-03T02:30:07.214Z"
   },
   {
    "duration": 321,
    "start_time": "2022-03-03T02:30:07.219Z"
   },
   {
    "duration": 313,
    "start_time": "2022-03-03T02:30:07.229Z"
   },
   {
    "duration": 302,
    "start_time": "2022-03-03T02:30:07.241Z"
   },
   {
    "duration": 298,
    "start_time": "2022-03-03T02:30:07.247Z"
   },
   {
    "duration": 294,
    "start_time": "2022-03-03T02:30:07.252Z"
   },
   {
    "duration": 286,
    "start_time": "2022-03-03T02:30:07.262Z"
   },
   {
    "duration": 282,
    "start_time": "2022-03-03T02:30:07.267Z"
   },
   {
    "duration": 270,
    "start_time": "2022-03-03T02:30:07.281Z"
   },
   {
    "duration": 260,
    "start_time": "2022-03-03T02:30:07.292Z"
   },
   {
    "duration": 258,
    "start_time": "2022-03-03T02:30:07.296Z"
   },
   {
    "duration": 253,
    "start_time": "2022-03-03T02:30:07.303Z"
   },
   {
    "duration": 244,
    "start_time": "2022-03-03T02:30:07.313Z"
   },
   {
    "duration": 240,
    "start_time": "2022-03-03T02:30:07.319Z"
   },
   {
    "duration": 231,
    "start_time": "2022-03-03T02:30:07.329Z"
   },
   {
    "duration": 228,
    "start_time": "2022-03-03T02:30:07.334Z"
   },
   {
    "duration": 219,
    "start_time": "2022-03-03T02:30:07.344Z"
   },
   {
    "duration": 218,
    "start_time": "2022-03-03T02:30:07.347Z"
   },
   {
    "duration": 197,
    "start_time": "2022-03-03T02:30:07.369Z"
   },
   {
    "duration": 188,
    "start_time": "2022-03-03T02:30:07.380Z"
   },
   {
    "duration": 184,
    "start_time": "2022-03-03T02:30:07.386Z"
   },
   {
    "duration": 150,
    "start_time": "2022-03-03T02:30:07.421Z"
   },
   {
    "duration": 116,
    "start_time": "2022-03-03T02:30:07.456Z"
   },
   {
    "duration": 115,
    "start_time": "2022-03-03T02:30:07.459Z"
   },
   {
    "duration": 113,
    "start_time": "2022-03-03T02:30:07.462Z"
   },
   {
    "duration": 112,
    "start_time": "2022-03-03T02:30:07.465Z"
   },
   {
    "duration": 106,
    "start_time": "2022-03-03T02:30:07.472Z"
   },
   {
    "duration": 104,
    "start_time": "2022-03-03T02:30:07.475Z"
   },
   {
    "duration": 154,
    "start_time": "2022-03-03T02:30:07.478Z"
   },
   {
    "duration": 153,
    "start_time": "2022-03-03T02:30:07.481Z"
   },
   {
    "duration": 150,
    "start_time": "2022-03-03T02:30:07.485Z"
   },
   {
    "duration": 150,
    "start_time": "2022-03-03T02:30:07.487Z"
   },
   {
    "duration": 321,
    "start_time": "2022-03-03T02:30:25.539Z"
   },
   {
    "duration": 99,
    "start_time": "2022-03-03T02:30:44.424Z"
   },
   {
    "duration": 5,
    "start_time": "2022-03-03T02:31:26.707Z"
   },
   {
    "duration": 313,
    "start_time": "2022-03-03T02:31:36.561Z"
   },
   {
    "duration": 320,
    "start_time": "2022-03-03T02:47:40.361Z"
   },
   {
    "duration": 297,
    "start_time": "2022-03-03T02:47:43.559Z"
   },
   {
    "duration": 292,
    "start_time": "2022-03-03T02:47:59.677Z"
   },
   {
    "duration": 106,
    "start_time": "2022-03-03T02:48:51.733Z"
   },
   {
    "duration": 7381,
    "start_time": "2022-03-03T02:49:08.792Z"
   },
   {
    "duration": 7122,
    "start_time": "2022-03-03T02:49:42.534Z"
   },
   {
    "duration": 294,
    "start_time": "2022-03-03T02:50:52.219Z"
   },
   {
    "duration": 306,
    "start_time": "2022-03-03T02:51:00.804Z"
   },
   {
    "duration": 188,
    "start_time": "2022-03-03T02:51:42.138Z"
   },
   {
    "duration": 3,
    "start_time": "2022-03-03T03:00:30.630Z"
   },
   {
    "duration": 323,
    "start_time": "2022-03-03T03:00:36.431Z"
   },
   {
    "duration": 9,
    "start_time": "2022-03-03T03:11:56.428Z"
   },
   {
    "duration": 26,
    "start_time": "2022-03-03T03:13:45.212Z"
   },
   {
    "duration": 5,
    "start_time": "2022-03-03T03:30:39.669Z"
   },
   {
    "duration": 8,
    "start_time": "2022-03-03T03:31:29.080Z"
   },
   {
    "duration": 25,
    "start_time": "2022-03-03T03:32:19.235Z"
   },
   {
    "duration": 3,
    "start_time": "2022-03-03T03:36:57.594Z"
   },
   {
    "duration": 376,
    "start_time": "2022-03-03T03:36:57.604Z"
   },
   {
    "duration": 8,
    "start_time": "2022-03-03T03:36:57.983Z"
   },
   {
    "duration": 14,
    "start_time": "2022-03-03T03:36:57.994Z"
   },
   {
    "duration": 9,
    "start_time": "2022-03-03T03:36:58.010Z"
   },
   {
    "duration": 18,
    "start_time": "2022-03-03T03:36:58.021Z"
   },
   {
    "duration": 5,
    "start_time": "2022-03-03T03:36:58.042Z"
   },
   {
    "duration": 7,
    "start_time": "2022-03-03T03:36:58.050Z"
   },
   {
    "duration": 3,
    "start_time": "2022-03-03T03:36:58.061Z"
   },
   {
    "duration": 25,
    "start_time": "2022-03-03T03:36:58.066Z"
   },
   {
    "duration": 5,
    "start_time": "2022-03-03T03:36:58.132Z"
   },
   {
    "duration": 10,
    "start_time": "2022-03-03T03:36:58.139Z"
   },
   {
    "duration": 23,
    "start_time": "2022-03-03T03:36:58.151Z"
   },
   {
    "duration": 58,
    "start_time": "2022-03-03T03:36:58.177Z"
   },
   {
    "duration": 12,
    "start_time": "2022-03-03T03:36:58.237Z"
   },
   {
    "duration": 12,
    "start_time": "2022-03-03T03:36:58.251Z"
   },
   {
    "duration": 6,
    "start_time": "2022-03-03T03:36:58.265Z"
   },
   {
    "duration": 66,
    "start_time": "2022-03-03T03:36:58.273Z"
   },
   {
    "duration": 6,
    "start_time": "2022-03-03T03:36:58.341Z"
   },
   {
    "duration": 17,
    "start_time": "2022-03-03T03:36:58.349Z"
   },
   {
    "duration": 10,
    "start_time": "2022-03-03T03:36:58.368Z"
   },
   {
    "duration": 16,
    "start_time": "2022-03-03T03:36:58.381Z"
   },
   {
    "duration": 17,
    "start_time": "2022-03-03T03:36:58.432Z"
   },
   {
    "duration": 5,
    "start_time": "2022-03-03T03:36:58.451Z"
   },
   {
    "duration": 20,
    "start_time": "2022-03-03T03:36:58.459Z"
   },
   {
    "duration": 11,
    "start_time": "2022-03-03T03:36:58.482Z"
   },
   {
    "duration": 49,
    "start_time": "2022-03-03T03:36:58.495Z"
   },
   {
    "duration": 22,
    "start_time": "2022-03-03T03:36:58.546Z"
   },
   {
    "duration": 5,
    "start_time": "2022-03-03T03:36:58.570Z"
   },
   {
    "duration": 3,
    "start_time": "2022-03-03T03:36:58.578Z"
   },
   {
    "duration": 4,
    "start_time": "2022-03-03T03:36:58.583Z"
   },
   {
    "duration": 43,
    "start_time": "2022-03-03T03:36:58.590Z"
   },
   {
    "duration": 6,
    "start_time": "2022-03-03T03:36:58.635Z"
   },
   {
    "duration": 6,
    "start_time": "2022-03-03T03:36:58.643Z"
   },
   {
    "duration": 5,
    "start_time": "2022-03-03T03:36:58.651Z"
   },
   {
    "duration": 4,
    "start_time": "2022-03-03T03:36:58.658Z"
   },
   {
    "duration": 3,
    "start_time": "2022-03-03T03:36:58.667Z"
   },
   {
    "duration": 5,
    "start_time": "2022-03-03T03:36:58.672Z"
   },
   {
    "duration": 53,
    "start_time": "2022-03-03T03:36:58.679Z"
   },
   {
    "duration": 5,
    "start_time": "2022-03-03T03:36:58.735Z"
   },
   {
    "duration": 4,
    "start_time": "2022-03-03T03:36:58.743Z"
   },
   {
    "duration": 4,
    "start_time": "2022-03-03T03:36:58.749Z"
   },
   {
    "duration": 4,
    "start_time": "2022-03-03T03:36:58.756Z"
   },
   {
    "duration": 5,
    "start_time": "2022-03-03T03:36:58.763Z"
   },
   {
    "duration": 5,
    "start_time": "2022-03-03T03:36:58.770Z"
   },
   {
    "duration": 9,
    "start_time": "2022-03-03T03:41:08.939Z"
   },
   {
    "duration": 9,
    "start_time": "2022-03-03T03:41:30.341Z"
   },
   {
    "duration": 12,
    "start_time": "2022-03-03T03:43:23.048Z"
   },
   {
    "duration": 25,
    "start_time": "2022-03-03T03:44:26.076Z"
   },
   {
    "duration": 331,
    "start_time": "2022-03-03T03:45:07.576Z"
   },
   {
    "duration": 25,
    "start_time": "2022-03-03T03:45:35.115Z"
   },
   {
    "duration": 16,
    "start_time": "2022-03-03T03:58:16.200Z"
   },
   {
    "duration": 296,
    "start_time": "2022-03-03T04:13:00.154Z"
   },
   {
    "duration": 294,
    "start_time": "2022-03-03T04:13:16.810Z"
   },
   {
    "duration": 16,
    "start_time": "2022-03-03T04:13:41.884Z"
   },
   {
    "duration": 4,
    "start_time": "2022-03-03T04:16:51.724Z"
   },
   {
    "duration": 19,
    "start_time": "2022-03-03T04:17:00.644Z"
   },
   {
    "duration": 4,
    "start_time": "2022-03-03T04:18:50.526Z"
   },
   {
    "duration": 16,
    "start_time": "2022-03-03T04:19:06.984Z"
   },
   {
    "duration": 3,
    "start_time": "2022-03-03T04:19:40.309Z"
   },
   {
    "duration": 25,
    "start_time": "2022-03-03T04:24:37.629Z"
   },
   {
    "duration": 7034,
    "start_time": "2022-03-03T04:31:04.819Z"
   },
   {
    "duration": 12,
    "start_time": "2022-03-03T04:31:38.318Z"
   },
   {
    "duration": 267,
    "start_time": "2022-03-03T04:36:15.272Z"
   },
   {
    "duration": 26,
    "start_time": "2022-03-03T04:37:43.745Z"
   },
   {
    "duration": 38,
    "start_time": "2022-03-03T04:37:55.924Z"
   },
   {
    "duration": 9,
    "start_time": "2022-03-03T04:40:07.206Z"
   },
   {
    "duration": 1161,
    "start_time": "2022-03-03T04:40:14.775Z"
   },
   {
    "duration": 381,
    "start_time": "2022-03-03T04:40:15.939Z"
   },
   {
    "duration": 9,
    "start_time": "2022-03-03T04:40:16.324Z"
   },
   {
    "duration": 23,
    "start_time": "2022-03-03T04:40:16.336Z"
   },
   {
    "duration": 7,
    "start_time": "2022-03-03T04:40:16.362Z"
   },
   {
    "duration": 15,
    "start_time": "2022-03-03T04:40:16.372Z"
   },
   {
    "duration": 43,
    "start_time": "2022-03-03T04:40:16.389Z"
   },
   {
    "duration": 5,
    "start_time": "2022-03-03T04:40:16.436Z"
   },
   {
    "duration": 3,
    "start_time": "2022-03-03T04:40:16.443Z"
   },
   {
    "duration": 28,
    "start_time": "2022-03-03T04:40:16.448Z"
   },
   {
    "duration": 6,
    "start_time": "2022-03-03T04:40:16.478Z"
   },
   {
    "duration": 10,
    "start_time": "2022-03-03T04:40:16.486Z"
   },
   {
    "duration": 57,
    "start_time": "2022-03-03T04:40:16.498Z"
   },
   {
    "duration": 21,
    "start_time": "2022-03-03T04:40:16.557Z"
   },
   {
    "duration": 11,
    "start_time": "2022-03-03T04:40:16.581Z"
   },
   {
    "duration": 50,
    "start_time": "2022-03-03T04:40:16.594Z"
   },
   {
    "duration": 7,
    "start_time": "2022-03-03T04:40:16.647Z"
   },
   {
    "duration": 30,
    "start_time": "2022-03-03T04:40:16.656Z"
   },
   {
    "duration": 5,
    "start_time": "2022-03-03T04:40:16.688Z"
   },
   {
    "duration": 48,
    "start_time": "2022-03-03T04:40:16.695Z"
   },
   {
    "duration": 9,
    "start_time": "2022-03-03T04:40:16.746Z"
   },
   {
    "duration": 10,
    "start_time": "2022-03-03T04:40:16.758Z"
   },
   {
    "duration": 17,
    "start_time": "2022-03-03T04:40:16.773Z"
   },
   {
    "duration": 5,
    "start_time": "2022-03-03T04:40:16.833Z"
   },
   {
    "duration": 27,
    "start_time": "2022-03-03T04:40:16.840Z"
   },
   {
    "duration": 11,
    "start_time": "2022-03-03T04:40:16.869Z"
   },
   {
    "duration": 21,
    "start_time": "2022-03-03T04:40:16.882Z"
   },
   {
    "duration": 48,
    "start_time": "2022-03-03T04:40:16.906Z"
   },
   {
    "duration": 9,
    "start_time": "2022-03-03T04:40:16.956Z"
   },
   {
    "duration": 8,
    "start_time": "2022-03-03T04:40:16.968Z"
   },
   {
    "duration": 12,
    "start_time": "2022-03-03T04:40:16.978Z"
   },
   {
    "duration": 4,
    "start_time": "2022-03-03T04:40:17.031Z"
   },
   {
    "duration": 5,
    "start_time": "2022-03-03T04:40:17.038Z"
   },
   {
    "duration": 5,
    "start_time": "2022-03-03T04:40:17.045Z"
   },
   {
    "duration": 4,
    "start_time": "2022-03-03T04:40:17.053Z"
   },
   {
    "duration": 4,
    "start_time": "2022-03-03T04:40:17.060Z"
   },
   {
    "duration": 4,
    "start_time": "2022-03-03T04:40:17.067Z"
   },
   {
    "duration": 60,
    "start_time": "2022-03-03T04:40:17.073Z"
   },
   {
    "duration": 5,
    "start_time": "2022-03-03T04:40:17.136Z"
   },
   {
    "duration": 4,
    "start_time": "2022-03-03T04:40:17.143Z"
   },
   {
    "duration": 4,
    "start_time": "2022-03-03T04:40:17.150Z"
   },
   {
    "duration": 4,
    "start_time": "2022-03-03T04:40:17.157Z"
   },
   {
    "duration": 5,
    "start_time": "2022-03-03T04:40:17.163Z"
   },
   {
    "duration": 4,
    "start_time": "2022-03-03T04:40:17.171Z"
   },
   {
    "duration": 5,
    "start_time": "2022-03-03T04:40:17.177Z"
   },
   {
    "duration": 4,
    "start_time": "2022-03-03T04:40:17.184Z"
   },
   {
    "duration": 15,
    "start_time": "2022-03-03T04:41:14.875Z"
   },
   {
    "duration": 38,
    "start_time": "2022-03-03T04:42:53.567Z"
   },
   {
    "duration": 38,
    "start_time": "2022-03-03T04:43:20.057Z"
   },
   {
    "duration": 754,
    "start_time": "2022-03-03T04:43:39.636Z"
   },
   {
    "duration": 374,
    "start_time": "2022-03-03T04:43:40.393Z"
   },
   {
    "duration": 9,
    "start_time": "2022-03-03T04:43:40.770Z"
   },
   {
    "duration": 24,
    "start_time": "2022-03-03T04:43:40.782Z"
   },
   {
    "duration": 8,
    "start_time": "2022-03-03T04:43:40.809Z"
   },
   {
    "duration": 21,
    "start_time": "2022-03-03T04:43:40.820Z"
   },
   {
    "duration": 9,
    "start_time": "2022-03-03T04:43:40.844Z"
   },
   {
    "duration": 13,
    "start_time": "2022-03-03T04:43:40.857Z"
   },
   {
    "duration": 5,
    "start_time": "2022-03-03T04:43:40.873Z"
   },
   {
    "duration": 31,
    "start_time": "2022-03-03T04:43:40.881Z"
   },
   {
    "duration": 5,
    "start_time": "2022-03-03T04:43:40.932Z"
   },
   {
    "duration": 9,
    "start_time": "2022-03-03T04:43:40.939Z"
   },
   {
    "duration": 24,
    "start_time": "2022-03-03T04:43:40.950Z"
   },
   {
    "duration": 22,
    "start_time": "2022-03-03T04:43:40.976Z"
   },
   {
    "duration": 11,
    "start_time": "2022-03-03T04:43:41.034Z"
   },
   {
    "duration": 15,
    "start_time": "2022-03-03T04:43:41.047Z"
   },
   {
    "duration": 6,
    "start_time": "2022-03-03T04:43:41.064Z"
   },
   {
    "duration": 65,
    "start_time": "2022-03-03T04:43:41.073Z"
   },
   {
    "duration": 5,
    "start_time": "2022-03-03T04:43:41.141Z"
   },
   {
    "duration": 16,
    "start_time": "2022-03-03T04:43:41.149Z"
   },
   {
    "duration": 10,
    "start_time": "2022-03-03T04:43:41.167Z"
   },
   {
    "duration": 9,
    "start_time": "2022-03-03T04:43:41.180Z"
   },
   {
    "duration": 55,
    "start_time": "2022-03-03T04:43:41.194Z"
   },
   {
    "duration": 6,
    "start_time": "2022-03-03T04:43:41.252Z"
   },
   {
    "duration": 19,
    "start_time": "2022-03-03T04:43:41.260Z"
   },
   {
    "duration": 10,
    "start_time": "2022-03-03T04:43:41.282Z"
   },
   {
    "duration": 16,
    "start_time": "2022-03-03T04:43:41.333Z"
   },
   {
    "duration": 21,
    "start_time": "2022-03-03T04:43:41.352Z"
   },
   {
    "duration": 5,
    "start_time": "2022-03-03T04:43:41.376Z"
   },
   {
    "duration": 8,
    "start_time": "2022-03-03T04:43:41.384Z"
   },
   {
    "duration": 48,
    "start_time": "2022-03-03T04:43:41.394Z"
   },
   {
    "duration": 3,
    "start_time": "2022-03-03T04:43:41.445Z"
   },
   {
    "duration": 4,
    "start_time": "2022-03-03T04:43:41.451Z"
   },
   {
    "duration": 4,
    "start_time": "2022-03-03T04:43:41.458Z"
   },
   {
    "duration": 5,
    "start_time": "2022-03-03T04:43:41.464Z"
   },
   {
    "duration": 4,
    "start_time": "2022-03-03T04:43:41.471Z"
   },
   {
    "duration": 5,
    "start_time": "2022-03-03T04:43:41.478Z"
   },
   {
    "duration": 4,
    "start_time": "2022-03-03T04:43:41.485Z"
   },
   {
    "duration": 5,
    "start_time": "2022-03-03T04:43:41.534Z"
   },
   {
    "duration": 4,
    "start_time": "2022-03-03T04:43:41.542Z"
   },
   {
    "duration": 4,
    "start_time": "2022-03-03T04:43:41.549Z"
   },
   {
    "duration": 4,
    "start_time": "2022-03-03T04:43:41.555Z"
   },
   {
    "duration": 5,
    "start_time": "2022-03-03T04:43:41.561Z"
   },
   {
    "duration": 4,
    "start_time": "2022-03-03T04:43:41.568Z"
   },
   {
    "duration": 5,
    "start_time": "2022-03-03T04:43:41.574Z"
   },
   {
    "duration": 4,
    "start_time": "2022-03-03T04:43:41.581Z"
   },
   {
    "duration": 17,
    "start_time": "2022-03-03T04:43:58.694Z"
   },
   {
    "duration": 37,
    "start_time": "2022-03-03T04:44:14.820Z"
   },
   {
    "duration": 13,
    "start_time": "2022-03-03T04:46:14.479Z"
   },
   {
    "duration": 11,
    "start_time": "2022-03-03T04:46:29.648Z"
   },
   {
    "duration": 10,
    "start_time": "2022-03-03T04:47:04.063Z"
   },
   {
    "duration": 387,
    "start_time": "2022-03-03T04:50:28.105Z"
   },
   {
    "duration": 31,
    "start_time": "2022-03-03T04:50:52.477Z"
   },
   {
    "duration": 41,
    "start_time": "2022-03-03T04:51:04.736Z"
   },
   {
    "duration": 734,
    "start_time": "2022-03-03T04:51:43.591Z"
   },
   {
    "duration": 364,
    "start_time": "2022-03-03T04:51:44.328Z"
   },
   {
    "duration": 9,
    "start_time": "2022-03-03T04:51:44.695Z"
   },
   {
    "duration": 23,
    "start_time": "2022-03-03T04:51:44.707Z"
   },
   {
    "duration": 9,
    "start_time": "2022-03-03T04:51:44.733Z"
   },
   {
    "duration": 14,
    "start_time": "2022-03-03T04:51:44.745Z"
   },
   {
    "duration": 6,
    "start_time": "2022-03-03T04:51:44.762Z"
   },
   {
    "duration": 6,
    "start_time": "2022-03-03T04:51:44.772Z"
   },
   {
    "duration": 3,
    "start_time": "2022-03-03T04:51:44.781Z"
   },
   {
    "duration": 71,
    "start_time": "2022-03-03T04:51:44.787Z"
   },
   {
    "duration": 5,
    "start_time": "2022-03-03T04:51:44.861Z"
   },
   {
    "duration": 7,
    "start_time": "2022-03-03T04:51:44.869Z"
   },
   {
    "duration": 62,
    "start_time": "2022-03-03T04:51:44.879Z"
   },
   {
    "duration": 21,
    "start_time": "2022-03-03T04:51:44.944Z"
   },
   {
    "duration": 10,
    "start_time": "2022-03-03T04:51:44.968Z"
   },
   {
    "duration": 54,
    "start_time": "2022-03-03T04:51:44.981Z"
   },
   {
    "duration": 6,
    "start_time": "2022-03-03T04:51:45.037Z"
   },
   {
    "duration": 30,
    "start_time": "2022-03-03T04:51:45.046Z"
   },
   {
    "duration": 5,
    "start_time": "2022-03-03T04:51:45.078Z"
   },
   {
    "duration": 47,
    "start_time": "2022-03-03T04:51:45.085Z"
   },
   {
    "duration": 9,
    "start_time": "2022-03-03T04:51:45.135Z"
   },
   {
    "duration": 10,
    "start_time": "2022-03-03T04:51:45.147Z"
   },
   {
    "duration": 18,
    "start_time": "2022-03-03T04:51:45.162Z"
   },
   {
    "duration": 4,
    "start_time": "2022-03-03T04:51:45.183Z"
   },
   {
    "duration": 54,
    "start_time": "2022-03-03T04:51:45.190Z"
   },
   {
    "duration": 10,
    "start_time": "2022-03-03T04:51:45.247Z"
   },
   {
    "duration": 16,
    "start_time": "2022-03-03T04:51:45.260Z"
   },
   {
    "duration": 58,
    "start_time": "2022-03-03T04:51:45.278Z"
   },
   {
    "duration": 6,
    "start_time": "2022-03-03T04:51:45.338Z"
   },
   {
    "duration": 9,
    "start_time": "2022-03-03T04:51:45.346Z"
   },
   {
    "duration": 11,
    "start_time": "2022-03-03T04:51:45.358Z"
   },
   {
    "duration": 70,
    "start_time": "2022-03-03T04:51:45.371Z"
   },
   {
    "duration": 15,
    "start_time": "2022-03-03T04:51:45.443Z"
   },
   {
    "duration": 2,
    "start_time": "2022-03-03T04:51:45.461Z"
   },
   {
    "duration": 5,
    "start_time": "2022-03-03T04:51:45.465Z"
   },
   {
    "duration": 5,
    "start_time": "2022-03-03T04:51:45.472Z"
   },
   {
    "duration": 6,
    "start_time": "2022-03-03T04:51:45.479Z"
   },
   {
    "duration": 45,
    "start_time": "2022-03-03T04:51:45.488Z"
   },
   {
    "duration": 4,
    "start_time": "2022-03-03T04:51:45.535Z"
   },
   {
    "duration": 5,
    "start_time": "2022-03-03T04:51:45.541Z"
   },
   {
    "duration": 5,
    "start_time": "2022-03-03T04:51:45.548Z"
   },
   {
    "duration": 5,
    "start_time": "2022-03-03T04:51:45.555Z"
   },
   {
    "duration": 4,
    "start_time": "2022-03-03T04:51:45.562Z"
   },
   {
    "duration": 4,
    "start_time": "2022-03-03T04:51:45.569Z"
   },
   {
    "duration": 5,
    "start_time": "2022-03-03T04:51:45.575Z"
   },
   {
    "duration": 5,
    "start_time": "2022-03-03T04:51:45.582Z"
   },
   {
    "duration": 43,
    "start_time": "2022-03-03T04:51:45.590Z"
   },
   {
    "duration": 25,
    "start_time": "2022-03-03T04:52:24.109Z"
   },
   {
    "duration": 10,
    "start_time": "2022-03-03T04:53:52.594Z"
   },
   {
    "duration": 389,
    "start_time": "2022-03-03T04:54:54.005Z"
   },
   {
    "duration": 312,
    "start_time": "2022-03-03T04:55:34.332Z"
   },
   {
    "duration": 21,
    "start_time": "2022-03-03T05:00:57.829Z"
   },
   {
    "duration": 318,
    "start_time": "2022-03-03T05:02:08.015Z"
   },
   {
    "duration": 314,
    "start_time": "2022-03-03T05:02:46.705Z"
   },
   {
    "duration": 307,
    "start_time": "2022-03-03T05:03:02.959Z"
   },
   {
    "duration": 20,
    "start_time": "2022-03-03T05:03:15.340Z"
   },
   {
    "duration": 18,
    "start_time": "2022-03-03T05:03:19.365Z"
   },
   {
    "duration": 25,
    "start_time": "2022-03-03T05:03:26.705Z"
   },
   {
    "duration": 23,
    "start_time": "2022-03-03T05:03:41.356Z"
   },
   {
    "duration": 312,
    "start_time": "2022-03-03T05:05:17.014Z"
   },
   {
    "duration": 24,
    "start_time": "2022-03-03T05:05:39.613Z"
   },
   {
    "duration": 111,
    "start_time": "2022-03-03T05:06:35.223Z"
   },
   {
    "duration": 39,
    "start_time": "2022-03-03T05:06:41.270Z"
   },
   {
    "duration": 19,
    "start_time": "2022-03-03T05:06:56.565Z"
   },
   {
    "duration": 24,
    "start_time": "2022-03-03T05:08:21.733Z"
   },
   {
    "duration": 163,
    "start_time": "2022-03-03T05:19:11.641Z"
   },
   {
    "duration": 12,
    "start_time": "2022-03-03T05:19:25.711Z"
   },
   {
    "duration": 313,
    "start_time": "2022-03-03T05:25:20.040Z"
   },
   {
    "duration": 23,
    "start_time": "2022-03-03T05:25:28.702Z"
   },
   {
    "duration": 26,
    "start_time": "2022-03-03T05:27:07.856Z"
   },
   {
    "duration": 300,
    "start_time": "2022-03-03T05:28:34.064Z"
   },
   {
    "duration": 318,
    "start_time": "2022-03-03T05:29:46.134Z"
   },
   {
    "duration": 14,
    "start_time": "2022-03-03T05:29:53.022Z"
   },
   {
    "duration": 28,
    "start_time": "2022-03-03T05:32:22.758Z"
   },
   {
    "duration": 27,
    "start_time": "2022-03-03T05:32:35.288Z"
   },
   {
    "duration": 28,
    "start_time": "2022-03-03T05:34:17.658Z"
   },
   {
    "duration": 790,
    "start_time": "2022-03-03T05:34:29.424Z"
   },
   {
    "duration": 395,
    "start_time": "2022-03-03T05:34:30.217Z"
   },
   {
    "duration": 11,
    "start_time": "2022-03-03T05:34:30.615Z"
   },
   {
    "duration": 25,
    "start_time": "2022-03-03T05:34:30.629Z"
   },
   {
    "duration": 13,
    "start_time": "2022-03-03T05:34:30.657Z"
   },
   {
    "duration": 20,
    "start_time": "2022-03-03T05:34:30.673Z"
   },
   {
    "duration": 14,
    "start_time": "2022-03-03T05:34:30.695Z"
   },
   {
    "duration": 23,
    "start_time": "2022-03-03T05:34:30.713Z"
   },
   {
    "duration": 20,
    "start_time": "2022-03-03T05:34:30.739Z"
   },
   {
    "duration": 38,
    "start_time": "2022-03-03T05:34:30.762Z"
   },
   {
    "duration": 11,
    "start_time": "2022-03-03T05:34:30.802Z"
   },
   {
    "duration": 23,
    "start_time": "2022-03-03T05:34:30.816Z"
   },
   {
    "duration": 26,
    "start_time": "2022-03-03T05:34:30.841Z"
   },
   {
    "duration": 31,
    "start_time": "2022-03-03T05:34:30.869Z"
   },
   {
    "duration": 12,
    "start_time": "2022-03-03T05:34:30.903Z"
   },
   {
    "duration": 15,
    "start_time": "2022-03-03T05:34:30.933Z"
   },
   {
    "duration": 7,
    "start_time": "2022-03-03T05:34:30.950Z"
   },
   {
    "duration": 43,
    "start_time": "2022-03-03T05:34:30.959Z"
   },
   {
    "duration": 5,
    "start_time": "2022-03-03T05:34:31.005Z"
   },
   {
    "duration": 15,
    "start_time": "2022-03-03T05:34:31.033Z"
   },
   {
    "duration": 14,
    "start_time": "2022-03-03T05:34:31.050Z"
   },
   {
    "duration": 19,
    "start_time": "2022-03-03T05:34:31.066Z"
   },
   {
    "duration": 48,
    "start_time": "2022-03-03T05:34:31.090Z"
   },
   {
    "duration": 5,
    "start_time": "2022-03-03T05:34:31.141Z"
   },
   {
    "duration": 37,
    "start_time": "2022-03-03T05:34:31.149Z"
   },
   {
    "duration": 15,
    "start_time": "2022-03-03T05:34:31.189Z"
   },
   {
    "duration": 34,
    "start_time": "2022-03-03T05:34:31.206Z"
   },
   {
    "duration": 22,
    "start_time": "2022-03-03T05:34:31.243Z"
   },
   {
    "duration": 5,
    "start_time": "2022-03-03T05:34:31.268Z"
   },
   {
    "duration": 9,
    "start_time": "2022-03-03T05:34:31.275Z"
   },
   {
    "duration": 46,
    "start_time": "2022-03-03T05:34:31.287Z"
   },
   {
    "duration": 46,
    "start_time": "2022-03-03T05:34:31.335Z"
   },
   {
    "duration": 29,
    "start_time": "2022-03-03T05:34:31.383Z"
   },
   {
    "duration": 28,
    "start_time": "2022-03-03T05:34:31.434Z"
   },
   {
    "duration": 31,
    "start_time": "2022-03-03T05:34:31.465Z"
   },
   {
    "duration": 407,
    "start_time": "2022-03-03T05:34:31.498Z"
   },
   {
    "duration": 438,
    "start_time": "2022-03-03T05:34:31.470Z"
   },
   {
    "duration": 434,
    "start_time": "2022-03-03T05:34:31.475Z"
   },
   {
    "duration": 432,
    "start_time": "2022-03-03T05:34:31.478Z"
   },
   {
    "duration": 431,
    "start_time": "2022-03-03T05:34:31.481Z"
   },
   {
    "duration": 430,
    "start_time": "2022-03-03T05:34:31.483Z"
   },
   {
    "duration": 418,
    "start_time": "2022-03-03T05:34:31.497Z"
   },
   {
    "duration": 417,
    "start_time": "2022-03-03T05:34:31.500Z"
   },
   {
    "duration": 416,
    "start_time": "2022-03-03T05:34:31.502Z"
   },
   {
    "duration": 415,
    "start_time": "2022-03-03T05:34:31.505Z"
   },
   {
    "duration": 405,
    "start_time": "2022-03-03T05:34:31.516Z"
   },
   {
    "duration": 403,
    "start_time": "2022-03-03T05:34:31.519Z"
   },
   {
    "duration": 403,
    "start_time": "2022-03-03T05:34:31.521Z"
   },
   {
    "duration": 1008,
    "start_time": "2022-03-03T05:35:49.266Z"
   },
   {
    "duration": 112,
    "start_time": "2022-03-03T05:36:23.274Z"
   },
   {
    "duration": 298,
    "start_time": "2022-03-03T05:36:36.708Z"
   },
   {
    "duration": 3,
    "start_time": "2022-03-03T05:36:54.690Z"
   },
   {
    "duration": 26,
    "start_time": "2022-03-03T05:36:58.192Z"
   },
   {
    "duration": 7,
    "start_time": "2022-03-03T05:37:18.692Z"
   },
   {
    "duration": 11,
    "start_time": "2022-03-03T05:37:37.292Z"
   },
   {
    "duration": 17,
    "start_time": "2022-03-03T05:38:05.932Z"
   },
   {
    "duration": 17,
    "start_time": "2022-03-03T05:39:03.884Z"
   },
   {
    "duration": 33,
    "start_time": "2022-03-03T05:41:25.068Z"
   },
   {
    "duration": 335,
    "start_time": "2022-03-03T05:42:49.088Z"
   },
   {
    "duration": 21,
    "start_time": "2022-03-03T05:43:39.422Z"
   },
   {
    "duration": 104,
    "start_time": "2022-03-03T05:46:39.188Z"
   },
   {
    "duration": 107,
    "start_time": "2022-03-03T05:47:02.384Z"
   },
   {
    "duration": 25,
    "start_time": "2022-03-03T05:47:43.024Z"
   },
   {
    "duration": 31,
    "start_time": "2022-03-03T05:49:52.444Z"
   },
   {
    "duration": 319,
    "start_time": "2022-03-03T05:50:28.574Z"
   },
   {
    "duration": 32,
    "start_time": "2022-03-03T05:51:09.707Z"
   },
   {
    "duration": 3,
    "start_time": "2022-03-03T05:51:35.332Z"
   },
   {
    "duration": 712,
    "start_time": "2022-03-03T05:51:42.180Z"
   },
   {
    "duration": 382,
    "start_time": "2022-03-03T05:51:42.895Z"
   },
   {
    "duration": 9,
    "start_time": "2022-03-03T05:51:43.281Z"
   },
   {
    "duration": 25,
    "start_time": "2022-03-03T05:51:43.293Z"
   },
   {
    "duration": 12,
    "start_time": "2022-03-03T05:51:43.321Z"
   },
   {
    "duration": 16,
    "start_time": "2022-03-03T05:51:43.335Z"
   },
   {
    "duration": 8,
    "start_time": "2022-03-03T05:51:43.354Z"
   },
   {
    "duration": 5,
    "start_time": "2022-03-03T05:51:43.365Z"
   },
   {
    "duration": 3,
    "start_time": "2022-03-03T05:51:43.373Z"
   },
   {
    "duration": 72,
    "start_time": "2022-03-03T05:51:43.378Z"
   },
   {
    "duration": 4,
    "start_time": "2022-03-03T05:51:43.452Z"
   },
   {
    "duration": 7,
    "start_time": "2022-03-03T05:51:43.459Z"
   },
   {
    "duration": 25,
    "start_time": "2022-03-03T05:51:43.468Z"
   },
   {
    "duration": 49,
    "start_time": "2022-03-03T05:51:43.495Z"
   },
   {
    "duration": 10,
    "start_time": "2022-03-03T05:51:43.547Z"
   },
   {
    "duration": 19,
    "start_time": "2022-03-03T05:51:43.559Z"
   },
   {
    "duration": 6,
    "start_time": "2022-03-03T05:51:43.580Z"
   },
   {
    "duration": 63,
    "start_time": "2022-03-03T05:51:43.588Z"
   },
   {
    "duration": 4,
    "start_time": "2022-03-03T05:51:43.654Z"
   },
   {
    "duration": 32,
    "start_time": "2022-03-03T05:51:43.661Z"
   },
   {
    "duration": 10,
    "start_time": "2022-03-03T05:51:43.695Z"
   },
   {
    "duration": 30,
    "start_time": "2022-03-03T05:51:43.708Z"
   },
   {
    "duration": 19,
    "start_time": "2022-03-03T05:51:43.743Z"
   },
   {
    "duration": 9,
    "start_time": "2022-03-03T05:51:43.765Z"
   },
   {
    "duration": 21,
    "start_time": "2022-03-03T05:51:43.776Z"
   },
   {
    "duration": 34,
    "start_time": "2022-03-03T05:51:43.800Z"
   },
   {
    "duration": 15,
    "start_time": "2022-03-03T05:51:43.836Z"
   },
   {
    "duration": 20,
    "start_time": "2022-03-03T05:51:43.853Z"
   },
   {
    "duration": 5,
    "start_time": "2022-03-03T05:51:43.875Z"
   },
   {
    "duration": 18,
    "start_time": "2022-03-03T05:51:43.882Z"
   },
   {
    "duration": 40,
    "start_time": "2022-03-03T05:51:43.902Z"
   },
   {
    "duration": 39,
    "start_time": "2022-03-03T05:51:43.944Z"
   },
   {
    "duration": 57,
    "start_time": "2022-03-03T05:51:43.986Z"
   },
   {
    "duration": 32,
    "start_time": "2022-03-03T05:51:44.046Z"
   },
   {
    "duration": 26,
    "start_time": "2022-03-03T05:51:44.080Z"
   },
   {
    "duration": 24,
    "start_time": "2022-03-03T05:51:44.108Z"
   },
   {
    "duration": 32,
    "start_time": "2022-03-03T05:51:44.135Z"
   },
   {
    "duration": 29,
    "start_time": "2022-03-03T05:51:44.169Z"
   },
   {
    "duration": 2,
    "start_time": "2022-03-03T05:51:44.201Z"
   },
   {
    "duration": 6,
    "start_time": "2022-03-03T05:51:44.233Z"
   },
   {
    "duration": 5,
    "start_time": "2022-03-03T05:51:44.241Z"
   },
   {
    "duration": 5,
    "start_time": "2022-03-03T05:51:44.248Z"
   },
   {
    "duration": 7,
    "start_time": "2022-03-03T05:51:44.255Z"
   },
   {
    "duration": 7,
    "start_time": "2022-03-03T05:51:44.265Z"
   },
   {
    "duration": 7,
    "start_time": "2022-03-03T05:51:44.275Z"
   },
   {
    "duration": 7,
    "start_time": "2022-03-03T05:51:44.284Z"
   },
   {
    "duration": 5,
    "start_time": "2022-03-03T05:51:44.293Z"
   },
   {
    "duration": 34,
    "start_time": "2022-03-03T05:51:44.300Z"
   },
   {
    "duration": 6,
    "start_time": "2022-03-03T05:51:44.336Z"
   },
   {
    "duration": 406,
    "start_time": "2022-03-03T05:52:35.337Z"
   },
   {
    "duration": 3,
    "start_time": "2022-03-03T05:52:51.751Z"
   },
   {
    "duration": 799,
    "start_time": "2022-03-03T05:53:04.607Z"
   },
   {
    "duration": 371,
    "start_time": "2022-03-03T05:53:05.408Z"
   },
   {
    "duration": 10,
    "start_time": "2022-03-03T05:53:05.782Z"
   },
   {
    "duration": 24,
    "start_time": "2022-03-03T05:53:05.795Z"
   },
   {
    "duration": 8,
    "start_time": "2022-03-03T05:53:05.822Z"
   },
   {
    "duration": 15,
    "start_time": "2022-03-03T05:53:05.832Z"
   },
   {
    "duration": 6,
    "start_time": "2022-03-03T05:53:05.849Z"
   },
   {
    "duration": 6,
    "start_time": "2022-03-03T05:53:05.859Z"
   },
   {
    "duration": 4,
    "start_time": "2022-03-03T05:53:05.868Z"
   },
   {
    "duration": 64,
    "start_time": "2022-03-03T05:53:05.875Z"
   },
   {
    "duration": 5,
    "start_time": "2022-03-03T05:53:05.942Z"
   },
   {
    "duration": 12,
    "start_time": "2022-03-03T05:53:05.949Z"
   },
   {
    "duration": 23,
    "start_time": "2022-03-03T05:53:05.963Z"
   },
   {
    "duration": 53,
    "start_time": "2022-03-03T05:53:05.988Z"
   },
   {
    "duration": 11,
    "start_time": "2022-03-03T05:53:06.044Z"
   },
   {
    "duration": 15,
    "start_time": "2022-03-03T05:53:06.058Z"
   },
   {
    "duration": 6,
    "start_time": "2022-03-03T05:53:06.075Z"
   },
   {
    "duration": 70,
    "start_time": "2022-03-03T05:53:06.083Z"
   },
   {
    "duration": 5,
    "start_time": "2022-03-03T05:53:06.155Z"
   },
   {
    "duration": 16,
    "start_time": "2022-03-03T05:53:06.162Z"
   },
   {
    "duration": 9,
    "start_time": "2022-03-03T05:53:06.180Z"
   },
   {
    "duration": 46,
    "start_time": "2022-03-03T05:53:06.192Z"
   },
   {
    "duration": 18,
    "start_time": "2022-03-03T05:53:06.243Z"
   },
   {
    "duration": 6,
    "start_time": "2022-03-03T05:53:06.264Z"
   },
   {
    "duration": 18,
    "start_time": "2022-03-03T05:53:06.272Z"
   },
   {
    "duration": 44,
    "start_time": "2022-03-03T05:53:06.293Z"
   },
   {
    "duration": 16,
    "start_time": "2022-03-03T05:53:06.340Z"
   },
   {
    "duration": 21,
    "start_time": "2022-03-03T05:53:06.359Z"
   },
   {
    "duration": 6,
    "start_time": "2022-03-03T05:53:06.382Z"
   },
   {
    "duration": 48,
    "start_time": "2022-03-03T05:53:06.390Z"
   },
   {
    "duration": 12,
    "start_time": "2022-03-03T05:53:06.440Z"
   },
   {
    "duration": 37,
    "start_time": "2022-03-03T05:53:06.454Z"
   },
   {
    "duration": 2,
    "start_time": "2022-03-03T05:53:06.493Z"
   },
   {
    "duration": 69,
    "start_time": "2022-03-03T05:53:06.497Z"
   },
   {
    "duration": 27,
    "start_time": "2022-03-03T05:53:06.568Z"
   },
   {
    "duration": 2,
    "start_time": "2022-03-03T05:53:06.597Z"
   },
   {
    "duration": 60,
    "start_time": "2022-03-03T05:53:06.601Z"
   },
   {
    "duration": 28,
    "start_time": "2022-03-03T05:53:06.663Z"
   },
   {
    "duration": 3,
    "start_time": "2022-03-03T05:53:06.693Z"
   },
   {
    "duration": 5,
    "start_time": "2022-03-03T05:53:06.698Z"
   },
   {
    "duration": 28,
    "start_time": "2022-03-03T05:53:06.705Z"
   },
   {
    "duration": 6,
    "start_time": "2022-03-03T05:53:06.735Z"
   },
   {
    "duration": 7,
    "start_time": "2022-03-03T05:53:06.743Z"
   },
   {
    "duration": 5,
    "start_time": "2022-03-03T05:53:06.752Z"
   },
   {
    "duration": 7,
    "start_time": "2022-03-03T05:53:06.759Z"
   },
   {
    "duration": 5,
    "start_time": "2022-03-03T05:53:06.768Z"
   },
   {
    "duration": 5,
    "start_time": "2022-03-03T05:53:06.775Z"
   },
   {
    "duration": 4,
    "start_time": "2022-03-03T05:53:06.782Z"
   },
   {
    "duration": 44,
    "start_time": "2022-03-03T05:53:06.788Z"
   },
   {
    "duration": 454,
    "start_time": "2022-03-03T05:55:53.585Z"
   },
   {
    "duration": 3,
    "start_time": "2022-03-03T05:56:57.790Z"
   },
   {
    "duration": 801,
    "start_time": "2022-03-03T05:57:06.119Z"
   },
   {
    "duration": 378,
    "start_time": "2022-03-03T05:57:06.923Z"
   },
   {
    "duration": 9,
    "start_time": "2022-03-03T05:57:07.304Z"
   },
   {
    "duration": 25,
    "start_time": "2022-03-03T05:57:07.316Z"
   },
   {
    "duration": 8,
    "start_time": "2022-03-03T05:57:07.343Z"
   },
   {
    "duration": 15,
    "start_time": "2022-03-03T05:57:07.354Z"
   },
   {
    "duration": 9,
    "start_time": "2022-03-03T05:57:07.371Z"
   },
   {
    "duration": 12,
    "start_time": "2022-03-03T05:57:07.383Z"
   },
   {
    "duration": 5,
    "start_time": "2022-03-03T05:57:07.398Z"
   },
   {
    "duration": 55,
    "start_time": "2022-03-03T05:57:07.405Z"
   },
   {
    "duration": 5,
    "start_time": "2022-03-03T05:57:07.462Z"
   },
   {
    "duration": 9,
    "start_time": "2022-03-03T05:57:07.470Z"
   },
   {
    "duration": 57,
    "start_time": "2022-03-03T05:57:07.481Z"
   },
   {
    "duration": 21,
    "start_time": "2022-03-03T05:57:07.541Z"
   },
   {
    "duration": 11,
    "start_time": "2022-03-03T05:57:07.564Z"
   },
   {
    "duration": 54,
    "start_time": "2022-03-03T05:57:07.578Z"
   },
   {
    "duration": 7,
    "start_time": "2022-03-03T05:57:07.635Z"
   },
   {
    "duration": 29,
    "start_time": "2022-03-03T05:57:07.644Z"
   },
   {
    "duration": 5,
    "start_time": "2022-03-03T05:57:07.675Z"
   },
   {
    "duration": 16,
    "start_time": "2022-03-03T05:57:07.682Z"
   },
   {
    "duration": 9,
    "start_time": "2022-03-03T05:57:07.733Z"
   },
   {
    "duration": 9,
    "start_time": "2022-03-03T05:57:07.745Z"
   },
   {
    "duration": 17,
    "start_time": "2022-03-03T05:57:07.759Z"
   },
   {
    "duration": 5,
    "start_time": "2022-03-03T05:57:07.779Z"
   },
   {
    "duration": 53,
    "start_time": "2022-03-03T05:57:07.786Z"
   },
   {
    "duration": 10,
    "start_time": "2022-03-03T05:57:07.841Z"
   },
   {
    "duration": 16,
    "start_time": "2022-03-03T05:57:07.854Z"
   },
   {
    "duration": 22,
    "start_time": "2022-03-03T05:57:07.872Z"
   },
   {
    "duration": 5,
    "start_time": "2022-03-03T05:57:07.932Z"
   },
   {
    "duration": 10,
    "start_time": "2022-03-03T05:57:07.939Z"
   },
   {
    "duration": 11,
    "start_time": "2022-03-03T05:57:07.951Z"
   },
   {
    "duration": 68,
    "start_time": "2022-03-03T05:57:07.964Z"
   },
   {
    "duration": 3,
    "start_time": "2022-03-03T05:57:08.035Z"
   },
   {
    "duration": 39,
    "start_time": "2022-03-03T05:57:08.040Z"
   },
   {
    "duration": 27,
    "start_time": "2022-03-03T05:57:08.081Z"
   },
   {
    "duration": 3,
    "start_time": "2022-03-03T05:57:08.133Z"
   },
   {
    "duration": 38,
    "start_time": "2022-03-03T05:57:08.139Z"
   },
   {
    "duration": 29,
    "start_time": "2022-03-03T05:57:08.179Z"
   },
   {
    "duration": 3,
    "start_time": "2022-03-03T05:57:08.233Z"
   },
   {
    "duration": 7,
    "start_time": "2022-03-03T05:57:08.238Z"
   },
   {
    "duration": 5,
    "start_time": "2022-03-03T05:57:08.247Z"
   },
   {
    "duration": 5,
    "start_time": "2022-03-03T05:57:08.255Z"
   },
   {
    "duration": 4,
    "start_time": "2022-03-03T05:57:08.263Z"
   },
   {
    "duration": 5,
    "start_time": "2022-03-03T05:57:08.270Z"
   },
   {
    "duration": 6,
    "start_time": "2022-03-03T05:57:08.277Z"
   },
   {
    "duration": 6,
    "start_time": "2022-03-03T05:57:08.285Z"
   },
   {
    "duration": 4,
    "start_time": "2022-03-03T05:57:08.332Z"
   },
   {
    "duration": 6,
    "start_time": "2022-03-03T05:57:08.338Z"
   },
   {
    "duration": 5,
    "start_time": "2022-03-03T05:57:08.346Z"
   },
   {
    "duration": 751,
    "start_time": "2022-03-03T05:57:22.153Z"
   },
   {
    "duration": 367,
    "start_time": "2022-03-03T05:57:22.906Z"
   },
   {
    "duration": 10,
    "start_time": "2022-03-03T05:57:23.276Z"
   },
   {
    "duration": 24,
    "start_time": "2022-03-03T05:57:23.288Z"
   },
   {
    "duration": 9,
    "start_time": "2022-03-03T05:57:23.314Z"
   },
   {
    "duration": 15,
    "start_time": "2022-03-03T05:57:23.325Z"
   },
   {
    "duration": 6,
    "start_time": "2022-03-03T05:57:23.342Z"
   },
   {
    "duration": 10,
    "start_time": "2022-03-03T05:57:23.350Z"
   },
   {
    "duration": 3,
    "start_time": "2022-03-03T05:57:23.364Z"
   },
   {
    "duration": 28,
    "start_time": "2022-03-03T05:57:23.371Z"
   },
   {
    "duration": 5,
    "start_time": "2022-03-03T05:57:23.433Z"
   },
   {
    "duration": 8,
    "start_time": "2022-03-03T05:57:23.441Z"
   },
   {
    "duration": 24,
    "start_time": "2022-03-03T05:57:23.451Z"
   },
   {
    "duration": 62,
    "start_time": "2022-03-03T05:57:23.478Z"
   },
   {
    "duration": 11,
    "start_time": "2022-03-03T05:57:23.542Z"
   },
   {
    "duration": 13,
    "start_time": "2022-03-03T05:57:23.555Z"
   },
   {
    "duration": 7,
    "start_time": "2022-03-03T05:57:23.570Z"
   },
   {
    "duration": 69,
    "start_time": "2022-03-03T05:57:23.579Z"
   },
   {
    "duration": 5,
    "start_time": "2022-03-03T05:57:23.651Z"
   },
   {
    "duration": 16,
    "start_time": "2022-03-03T05:57:23.658Z"
   },
   {
    "duration": 10,
    "start_time": "2022-03-03T05:57:23.676Z"
   },
   {
    "duration": 46,
    "start_time": "2022-03-03T05:57:23.688Z"
   },
   {
    "duration": 18,
    "start_time": "2022-03-03T05:57:23.736Z"
   },
   {
    "duration": 6,
    "start_time": "2022-03-03T05:57:23.756Z"
   },
   {
    "duration": 18,
    "start_time": "2022-03-03T05:57:23.764Z"
   },
   {
    "duration": 50,
    "start_time": "2022-03-03T05:57:23.784Z"
   },
   {
    "duration": 16,
    "start_time": "2022-03-03T05:57:23.839Z"
   },
   {
    "duration": 21,
    "start_time": "2022-03-03T05:57:23.858Z"
   },
   {
    "duration": 5,
    "start_time": "2022-03-03T05:57:23.881Z"
   },
   {
    "duration": 46,
    "start_time": "2022-03-03T05:57:23.888Z"
   },
   {
    "duration": 12,
    "start_time": "2022-03-03T05:57:23.936Z"
   },
   {
    "duration": 39,
    "start_time": "2022-03-03T05:57:23.950Z"
   },
   {
    "duration": 3,
    "start_time": "2022-03-03T05:57:23.992Z"
   },
   {
    "duration": 67,
    "start_time": "2022-03-03T05:57:23.997Z"
   },
   {
    "duration": 26,
    "start_time": "2022-03-03T05:57:24.066Z"
   },
   {
    "duration": 2,
    "start_time": "2022-03-03T05:57:24.094Z"
   },
   {
    "duration": 63,
    "start_time": "2022-03-03T05:57:24.099Z"
   },
   {
    "duration": 29,
    "start_time": "2022-03-03T05:57:24.165Z"
   },
   {
    "duration": 3,
    "start_time": "2022-03-03T05:57:24.196Z"
   },
   {
    "duration": 5,
    "start_time": "2022-03-03T05:57:24.201Z"
   },
   {
    "duration": 3,
    "start_time": "2022-03-03T05:57:24.233Z"
   },
   {
    "duration": 4,
    "start_time": "2022-03-03T05:57:24.238Z"
   },
   {
    "duration": 5,
    "start_time": "2022-03-03T05:57:24.244Z"
   },
   {
    "duration": 342,
    "start_time": "2022-03-03T05:59:26.133Z"
   },
   {
    "duration": 297,
    "start_time": "2022-03-03T05:59:57.412Z"
   },
   {
    "duration": 279,
    "start_time": "2022-03-03T06:00:07.104Z"
   },
   {
    "duration": 355,
    "start_time": "2022-03-03T06:01:17.758Z"
   },
   {
    "duration": 326,
    "start_time": "2022-03-03T06:01:29.693Z"
   },
   {
    "duration": 297,
    "start_time": "2022-03-03T06:01:37.081Z"
   },
   {
    "duration": 276,
    "start_time": "2022-03-03T06:01:47.495Z"
   },
   {
    "duration": 318,
    "start_time": "2022-03-03T06:02:15.198Z"
   },
   {
    "duration": 709,
    "start_time": "2022-03-03T06:02:28.961Z"
   },
   {
    "duration": 365,
    "start_time": "2022-03-03T06:02:33.573Z"
   },
   {
    "duration": 10,
    "start_time": "2022-03-03T06:02:41.297Z"
   },
   {
    "duration": 21,
    "start_time": "2022-03-03T06:02:45.276Z"
   },
   {
    "duration": 9,
    "start_time": "2022-03-03T06:02:50.489Z"
   },
   {
    "duration": 14,
    "start_time": "2022-03-03T06:02:54.093Z"
   },
   {
    "duration": 6,
    "start_time": "2022-03-03T06:02:59.973Z"
   },
   {
    "duration": 6,
    "start_time": "2022-03-03T06:03:02.352Z"
   },
   {
    "duration": 3,
    "start_time": "2022-03-03T06:03:05.193Z"
   },
   {
    "duration": 27,
    "start_time": "2022-03-03T06:03:06.080Z"
   },
   {
    "duration": 5,
    "start_time": "2022-03-03T06:03:10.345Z"
   },
   {
    "duration": 8,
    "start_time": "2022-03-03T06:03:12.631Z"
   },
   {
    "duration": 23,
    "start_time": "2022-03-03T06:03:18.105Z"
   },
   {
    "duration": 20,
    "start_time": "2022-03-03T06:03:22.077Z"
   },
   {
    "duration": 11,
    "start_time": "2022-03-03T06:03:27.345Z"
   },
   {
    "duration": 13,
    "start_time": "2022-03-03T06:03:33.748Z"
   },
   {
    "duration": 6,
    "start_time": "2022-03-03T06:03:35.981Z"
   },
   {
    "duration": 30,
    "start_time": "2022-03-03T06:03:39.417Z"
   },
   {
    "duration": 5,
    "start_time": "2022-03-03T06:03:41.798Z"
   },
   {
    "duration": 14,
    "start_time": "2022-03-03T06:03:46.469Z"
   },
   {
    "duration": 9,
    "start_time": "2022-03-03T06:03:50.548Z"
   },
   {
    "duration": 19,
    "start_time": "2022-03-03T06:03:53.472Z"
   },
   {
    "duration": 5,
    "start_time": "2022-03-03T06:03:55.727Z"
   },
   {
    "duration": 20,
    "start_time": "2022-03-03T06:04:01.081Z"
   },
   {
    "duration": 13,
    "start_time": "2022-03-03T06:04:05.361Z"
   },
   {
    "duration": 15,
    "start_time": "2022-03-03T06:04:10.036Z"
   },
   {
    "duration": 23,
    "start_time": "2022-03-03T06:04:12.332Z"
   },
   {
    "duration": 5,
    "start_time": "2022-03-03T06:04:14.524Z"
   },
   {
    "duration": 9,
    "start_time": "2022-03-03T06:04:18.667Z"
   },
   {
    "duration": 12,
    "start_time": "2022-03-03T06:04:23.223Z"
   },
   {
    "duration": 39,
    "start_time": "2022-03-03T06:04:30.799Z"
   },
   {
    "duration": 354,
    "start_time": "2022-03-03T06:04:40.321Z"
   },
   {
    "duration": 17,
    "start_time": "2022-03-03T06:05:05.349Z"
   },
   {
    "duration": 23,
    "start_time": "2022-03-03T06:05:19.987Z"
   },
   {
    "duration": 24,
    "start_time": "2022-03-03T06:05:35.705Z"
   },
   {
    "duration": 28,
    "start_time": "2022-03-03T06:05:41.553Z"
   },
   {
    "duration": 3,
    "start_time": "2022-03-03T06:05:53.771Z"
   },
   {
    "duration": 316,
    "start_time": "2022-03-03T06:07:43.852Z"
   },
   {
    "duration": 311,
    "start_time": "2022-03-03T06:07:55.113Z"
   },
   {
    "duration": 11,
    "start_time": "2022-03-03T06:08:10.444Z"
   },
   {
    "duration": 16,
    "start_time": "2022-03-03T06:08:24.752Z"
   },
   {
    "duration": 347,
    "start_time": "2022-03-03T06:08:48.781Z"
   },
   {
    "duration": 290,
    "start_time": "2022-03-03T06:09:04.496Z"
   },
   {
    "duration": 33,
    "start_time": "2022-03-03T06:09:15.340Z"
   },
   {
    "duration": 24,
    "start_time": "2022-03-03T06:09:18.574Z"
   },
   {
    "duration": 282,
    "start_time": "2022-03-03T06:18:31.328Z"
   },
   {
    "duration": 329,
    "start_time": "2022-03-03T06:20:34.407Z"
   },
   {
    "duration": 23,
    "start_time": "2022-03-03T06:22:58.694Z"
   },
   {
    "duration": 32,
    "start_time": "2022-03-03T06:24:20.695Z"
   },
   {
    "duration": 361,
    "start_time": "2022-03-03T06:25:08.506Z"
   },
   {
    "duration": 23,
    "start_time": "2022-03-03T06:25:42.181Z"
   },
   {
    "duration": 32,
    "start_time": "2022-03-03T06:27:30.001Z"
   },
   {
    "duration": 36,
    "start_time": "2022-03-03T06:27:47.252Z"
   },
   {
    "duration": 331,
    "start_time": "2022-03-03T06:38:53.151Z"
   },
   {
    "duration": 310,
    "start_time": "2022-03-03T06:40:15.782Z"
   },
   {
    "duration": 2706,
    "start_time": "2022-03-03T06:40:24.238Z"
   },
   {
    "duration": 784,
    "start_time": "2022-03-03T06:40:49.859Z"
   },
   {
    "duration": 372,
    "start_time": "2022-03-03T06:40:50.646Z"
   },
   {
    "duration": 10,
    "start_time": "2022-03-03T06:40:51.021Z"
   },
   {
    "duration": 24,
    "start_time": "2022-03-03T06:40:51.034Z"
   },
   {
    "duration": 9,
    "start_time": "2022-03-03T06:40:51.060Z"
   },
   {
    "duration": 17,
    "start_time": "2022-03-03T06:40:51.072Z"
   },
   {
    "duration": 41,
    "start_time": "2022-03-03T06:40:51.092Z"
   },
   {
    "duration": 6,
    "start_time": "2022-03-03T06:40:51.137Z"
   },
   {
    "duration": 3,
    "start_time": "2022-03-03T06:40:51.146Z"
   },
   {
    "duration": 27,
    "start_time": "2022-03-03T06:40:51.152Z"
   },
   {
    "duration": 4,
    "start_time": "2022-03-03T06:40:51.182Z"
   },
   {
    "duration": 52,
    "start_time": "2022-03-03T06:40:51.189Z"
   },
   {
    "duration": 35,
    "start_time": "2022-03-03T06:40:51.243Z"
   },
   {
    "duration": 55,
    "start_time": "2022-03-03T06:40:51.281Z"
   },
   {
    "duration": 15,
    "start_time": "2022-03-03T06:40:51.339Z"
   },
   {
    "duration": 15,
    "start_time": "2022-03-03T06:40:51.356Z"
   },
   {
    "duration": 8,
    "start_time": "2022-03-03T06:40:51.374Z"
   },
   {
    "duration": 68,
    "start_time": "2022-03-03T06:40:51.385Z"
   },
   {
    "duration": 5,
    "start_time": "2022-03-03T06:40:51.455Z"
   },
   {
    "duration": 15,
    "start_time": "2022-03-03T06:40:51.462Z"
   },
   {
    "duration": 9,
    "start_time": "2022-03-03T06:40:51.480Z"
   },
   {
    "duration": 43,
    "start_time": "2022-03-03T06:40:51.491Z"
   },
   {
    "duration": 18,
    "start_time": "2022-03-03T06:40:51.539Z"
   },
   {
    "duration": 4,
    "start_time": "2022-03-03T06:40:51.560Z"
   },
   {
    "duration": 21,
    "start_time": "2022-03-03T06:40:51.567Z"
   },
   {
    "duration": 44,
    "start_time": "2022-03-03T06:40:51.590Z"
   },
   {
    "duration": 18,
    "start_time": "2022-03-03T06:40:51.636Z"
   },
   {
    "duration": 21,
    "start_time": "2022-03-03T06:40:51.656Z"
   },
   {
    "duration": 5,
    "start_time": "2022-03-03T06:40:51.679Z"
   },
   {
    "duration": 9,
    "start_time": "2022-03-03T06:40:51.686Z"
   },
   {
    "duration": 17,
    "start_time": "2022-03-03T06:40:51.733Z"
   },
   {
    "duration": 39,
    "start_time": "2022-03-03T06:40:51.752Z"
   },
   {
    "duration": 56,
    "start_time": "2022-03-03T06:40:51.793Z"
   },
   {
    "duration": 26,
    "start_time": "2022-03-03T06:40:51.852Z"
   },
   {
    "duration": 56,
    "start_time": "2022-03-03T06:40:51.881Z"
   },
   {
    "duration": 21,
    "start_time": "2022-03-03T06:40:51.940Z"
   },
   {
    "duration": 32,
    "start_time": "2022-03-03T06:40:51.964Z"
   },
   {
    "duration": 29,
    "start_time": "2022-03-03T06:40:52.031Z"
   },
   {
    "duration": 505,
    "start_time": "2022-03-03T06:40:52.062Z"
   },
   {
    "duration": -13,
    "start_time": "2022-03-03T06:40:52.583Z"
   },
   {
    "duration": -176,
    "start_time": "2022-03-03T06:40:52.747Z"
   },
   {
    "duration": -180,
    "start_time": "2022-03-03T06:40:52.752Z"
   },
   {
    "duration": -181,
    "start_time": "2022-03-03T06:40:52.755Z"
   },
   {
    "duration": -183,
    "start_time": "2022-03-03T06:40:52.758Z"
   },
   {
    "duration": -184,
    "start_time": "2022-03-03T06:40:52.761Z"
   },
   {
    "duration": -186,
    "start_time": "2022-03-03T06:40:52.764Z"
   },
   {
    "duration": -193,
    "start_time": "2022-03-03T06:40:52.773Z"
   },
   {
    "duration": -195,
    "start_time": "2022-03-03T06:40:52.776Z"
   },
   {
    "duration": -195,
    "start_time": "2022-03-03T06:40:52.778Z"
   },
   {
    "duration": 26,
    "start_time": "2022-03-03T06:44:31.716Z"
   },
   {
    "duration": 101,
    "start_time": "2022-03-03T06:46:10.234Z"
   },
   {
    "duration": 102,
    "start_time": "2022-03-03T06:46:17.421Z"
   },
   {
    "duration": 28,
    "start_time": "2022-03-03T06:46:30.461Z"
   },
   {
    "duration": 3,
    "start_time": "2022-03-03T06:53:23.278Z"
   },
   {
    "duration": 377,
    "start_time": "2022-03-03T06:53:23.284Z"
   },
   {
    "duration": 9,
    "start_time": "2022-03-03T06:53:23.664Z"
   },
   {
    "duration": 13,
    "start_time": "2022-03-03T06:53:23.675Z"
   },
   {
    "duration": 9,
    "start_time": "2022-03-03T06:53:23.691Z"
   },
   {
    "duration": 14,
    "start_time": "2022-03-03T06:53:23.702Z"
   },
   {
    "duration": 18,
    "start_time": "2022-03-03T06:53:23.719Z"
   },
   {
    "duration": 8,
    "start_time": "2022-03-03T06:53:23.740Z"
   },
   {
    "duration": 7,
    "start_time": "2022-03-03T06:53:23.751Z"
   },
   {
    "duration": 33,
    "start_time": "2022-03-03T06:53:23.761Z"
   },
   {
    "duration": 36,
    "start_time": "2022-03-03T06:53:23.797Z"
   },
   {
    "duration": 10,
    "start_time": "2022-03-03T06:53:23.835Z"
   },
   {
    "duration": 23,
    "start_time": "2022-03-03T06:53:23.848Z"
   },
   {
    "duration": 23,
    "start_time": "2022-03-03T06:53:23.873Z"
   },
   {
    "duration": 40,
    "start_time": "2022-03-03T06:53:23.898Z"
   },
   {
    "duration": 13,
    "start_time": "2022-03-03T06:53:23.941Z"
   },
   {
    "duration": 6,
    "start_time": "2022-03-03T06:53:23.957Z"
   },
   {
    "duration": 29,
    "start_time": "2022-03-03T06:53:23.965Z"
   },
   {
    "duration": 5,
    "start_time": "2022-03-03T06:53:24.035Z"
   },
   {
    "duration": 14,
    "start_time": "2022-03-03T06:53:24.043Z"
   },
   {
    "duration": 10,
    "start_time": "2022-03-03T06:53:24.060Z"
   },
   {
    "duration": 10,
    "start_time": "2022-03-03T06:53:24.072Z"
   },
   {
    "duration": 58,
    "start_time": "2022-03-03T06:53:24.084Z"
   },
   {
    "duration": 6,
    "start_time": "2022-03-03T06:53:24.144Z"
   },
   {
    "duration": 21,
    "start_time": "2022-03-03T06:53:24.153Z"
   },
   {
    "duration": 10,
    "start_time": "2022-03-03T06:53:24.177Z"
   },
   {
    "duration": 56,
    "start_time": "2022-03-03T06:53:24.189Z"
   },
   {
    "duration": 21,
    "start_time": "2022-03-03T06:53:24.248Z"
   },
   {
    "duration": 4,
    "start_time": "2022-03-03T06:53:24.272Z"
   },
   {
    "duration": 9,
    "start_time": "2022-03-03T06:53:24.279Z"
   },
   {
    "duration": 49,
    "start_time": "2022-03-03T06:53:24.290Z"
   },
   {
    "duration": 38,
    "start_time": "2022-03-03T06:53:24.341Z"
   },
   {
    "duration": 52,
    "start_time": "2022-03-03T06:53:24.381Z"
   },
   {
    "duration": 24,
    "start_time": "2022-03-03T06:53:24.436Z"
   },
   {
    "duration": 28,
    "start_time": "2022-03-03T06:53:24.462Z"
   },
   {
    "duration": 48,
    "start_time": "2022-03-03T06:53:24.492Z"
   },
   {
    "duration": 34,
    "start_time": "2022-03-03T06:53:24.543Z"
   },
   {
    "duration": 22,
    "start_time": "2022-03-03T06:53:24.580Z"
   },
   {
    "duration": 299,
    "start_time": "2022-03-03T06:53:24.633Z"
   },
   {
    "duration": -547,
    "start_time": "2022-03-03T06:53:25.481Z"
   },
   {
    "duration": -550,
    "start_time": "2022-03-03T06:53:25.486Z"
   },
   {
    "duration": -581,
    "start_time": "2022-03-03T06:53:25.518Z"
   },
   {
    "duration": -591,
    "start_time": "2022-03-03T06:53:25.529Z"
   },
   {
    "duration": -607,
    "start_time": "2022-03-03T06:53:25.547Z"
   },
   {
    "duration": -620,
    "start_time": "2022-03-03T06:53:25.561Z"
   },
   {
    "duration": -653,
    "start_time": "2022-03-03T06:53:25.596Z"
   },
   {
    "duration": -663,
    "start_time": "2022-03-03T06:53:25.608Z"
   },
   {
    "duration": -671,
    "start_time": "2022-03-03T06:53:25.617Z"
   },
   {
    "duration": -672,
    "start_time": "2022-03-03T06:53:25.620Z"
   },
   {
    "duration": 49,
    "start_time": "2022-03-03T06:54:53.672Z"
   },
   {
    "duration": 54,
    "start_time": "2022-03-03T06:55:04.686Z"
   },
   {
    "duration": 59,
    "start_time": "2022-03-03T06:55:23.556Z"
   },
   {
    "duration": 293,
    "start_time": "2022-03-03T06:56:48.869Z"
   },
   {
    "duration": 26,
    "start_time": "2022-03-03T06:56:56.094Z"
   },
   {
    "duration": 19,
    "start_time": "2022-03-03T06:57:13.674Z"
   },
   {
    "duration": 18,
    "start_time": "2022-03-03T06:57:26.332Z"
   },
   {
    "duration": 839,
    "start_time": "2022-03-03T06:58:06.710Z"
   },
   {
    "duration": 429,
    "start_time": "2022-03-03T06:58:07.552Z"
   },
   {
    "duration": 9,
    "start_time": "2022-03-03T06:58:07.985Z"
   },
   {
    "duration": 25,
    "start_time": "2022-03-03T06:58:07.998Z"
   },
   {
    "duration": 9,
    "start_time": "2022-03-03T06:58:08.026Z"
   },
   {
    "duration": 18,
    "start_time": "2022-03-03T06:58:08.038Z"
   },
   {
    "duration": 8,
    "start_time": "2022-03-03T06:58:08.058Z"
   },
   {
    "duration": 6,
    "start_time": "2022-03-03T06:58:08.071Z"
   },
   {
    "duration": 3,
    "start_time": "2022-03-03T06:58:08.081Z"
   },
   {
    "duration": 27,
    "start_time": "2022-03-03T06:58:08.134Z"
   },
   {
    "duration": 6,
    "start_time": "2022-03-03T06:58:08.164Z"
   },
   {
    "duration": 10,
    "start_time": "2022-03-03T06:58:08.173Z"
   },
   {
    "duration": 70,
    "start_time": "2022-03-03T06:58:08.186Z"
   },
   {
    "duration": 23,
    "start_time": "2022-03-03T06:58:08.259Z"
   },
   {
    "duration": 13,
    "start_time": "2022-03-03T06:58:08.285Z"
   },
   {
    "duration": 43,
    "start_time": "2022-03-03T06:58:08.301Z"
   },
   {
    "duration": 7,
    "start_time": "2022-03-03T06:58:08.347Z"
   },
   {
    "duration": 28,
    "start_time": "2022-03-03T06:58:08.357Z"
   },
   {
    "duration": 45,
    "start_time": "2022-03-03T06:58:08.388Z"
   },
   {
    "duration": 15,
    "start_time": "2022-03-03T06:58:08.435Z"
   },
   {
    "duration": 10,
    "start_time": "2022-03-03T06:58:08.452Z"
   },
   {
    "duration": 15,
    "start_time": "2022-03-03T06:58:08.465Z"
   },
   {
    "duration": 53,
    "start_time": "2022-03-03T06:58:08.486Z"
   },
   {
    "duration": 6,
    "start_time": "2022-03-03T06:58:08.542Z"
   },
   {
    "duration": 21,
    "start_time": "2022-03-03T06:58:08.550Z"
   },
   {
    "duration": 10,
    "start_time": "2022-03-03T06:58:08.573Z"
   },
   {
    "duration": 52,
    "start_time": "2022-03-03T06:58:08.586Z"
   },
   {
    "duration": 24,
    "start_time": "2022-03-03T06:58:08.640Z"
   },
   {
    "duration": 7,
    "start_time": "2022-03-03T06:58:08.666Z"
   },
   {
    "duration": 11,
    "start_time": "2022-03-03T06:58:08.676Z"
   },
   {
    "duration": 51,
    "start_time": "2022-03-03T06:58:08.690Z"
   },
   {
    "duration": 39,
    "start_time": "2022-03-03T06:58:08.744Z"
   },
   {
    "duration": 71,
    "start_time": "2022-03-03T06:58:08.786Z"
   },
   {
    "duration": 79,
    "start_time": "2022-03-03T06:58:08.860Z"
   },
   {
    "duration": 29,
    "start_time": "2022-03-03T06:58:08.943Z"
   },
   {
    "duration": 4,
    "start_time": "2022-03-03T06:58:08.975Z"
   },
   {
    "duration": 67,
    "start_time": "2022-03-03T06:58:08.982Z"
   },
   {
    "duration": 26,
    "start_time": "2022-03-03T06:58:09.052Z"
   },
   {
    "duration": 384,
    "start_time": "2022-03-03T06:58:09.080Z"
   },
   {
    "duration": -398,
    "start_time": "2022-03-03T06:58:09.865Z"
   },
   {
    "duration": -402,
    "start_time": "2022-03-03T06:58:09.871Z"
   },
   {
    "duration": -404,
    "start_time": "2022-03-03T06:58:09.875Z"
   },
   {
    "duration": -468,
    "start_time": "2022-03-03T06:58:09.941Z"
   },
   {
    "duration": -479,
    "start_time": "2022-03-03T06:58:09.954Z"
   },
   {
    "duration": -480,
    "start_time": "2022-03-03T06:58:09.957Z"
   },
   {
    "duration": -481,
    "start_time": "2022-03-03T06:58:09.960Z"
   },
   {
    "duration": -480,
    "start_time": "2022-03-03T06:58:09.962Z"
   },
   {
    "duration": -481,
    "start_time": "2022-03-03T06:58:09.965Z"
   },
   {
    "duration": -482,
    "start_time": "2022-03-03T06:58:09.967Z"
   },
   {
    "duration": 3,
    "start_time": "2022-03-03T06:58:16.079Z"
   },
   {
    "duration": 410,
    "start_time": "2022-03-03T06:58:16.085Z"
   },
   {
    "duration": 8,
    "start_time": "2022-03-03T06:58:16.498Z"
   },
   {
    "duration": 15,
    "start_time": "2022-03-03T06:58:16.509Z"
   },
   {
    "duration": 9,
    "start_time": "2022-03-03T06:58:16.526Z"
   },
   {
    "duration": 14,
    "start_time": "2022-03-03T06:58:16.537Z"
   },
   {
    "duration": 5,
    "start_time": "2022-03-03T06:58:16.554Z"
   },
   {
    "duration": 7,
    "start_time": "2022-03-03T06:58:16.562Z"
   },
   {
    "duration": 5,
    "start_time": "2022-03-03T06:58:16.571Z"
   },
   {
    "duration": 57,
    "start_time": "2022-03-03T06:58:16.578Z"
   },
   {
    "duration": 4,
    "start_time": "2022-03-03T06:58:16.638Z"
   },
   {
    "duration": 12,
    "start_time": "2022-03-03T06:58:16.644Z"
   },
   {
    "duration": 24,
    "start_time": "2022-03-03T06:58:16.658Z"
   },
   {
    "duration": 53,
    "start_time": "2022-03-03T06:58:16.685Z"
   },
   {
    "duration": 10,
    "start_time": "2022-03-03T06:58:16.741Z"
   },
   {
    "duration": 15,
    "start_time": "2022-03-03T06:58:16.753Z"
   },
   {
    "duration": 6,
    "start_time": "2022-03-03T06:58:16.770Z"
   },
   {
    "duration": 68,
    "start_time": "2022-03-03T06:58:16.778Z"
   },
   {
    "duration": 6,
    "start_time": "2022-03-03T06:58:16.853Z"
   },
   {
    "duration": 28,
    "start_time": "2022-03-03T06:58:16.863Z"
   },
   {
    "duration": 14,
    "start_time": "2022-03-03T06:58:16.893Z"
   },
   {
    "duration": 24,
    "start_time": "2022-03-03T06:58:16.918Z"
   },
   {
    "duration": 19,
    "start_time": "2022-03-03T06:58:16.945Z"
   },
   {
    "duration": 7,
    "start_time": "2022-03-03T06:58:16.968Z"
   },
   {
    "duration": 60,
    "start_time": "2022-03-03T06:58:16.977Z"
   },
   {
    "duration": 11,
    "start_time": "2022-03-03T06:58:17.039Z"
   },
   {
    "duration": 35,
    "start_time": "2022-03-03T06:58:17.053Z"
   },
   {
    "duration": 27,
    "start_time": "2022-03-03T06:58:17.091Z"
   },
   {
    "duration": 14,
    "start_time": "2022-03-03T06:58:17.120Z"
   },
   {
    "duration": 11,
    "start_time": "2022-03-03T06:58:17.136Z"
   },
   {
    "duration": 13,
    "start_time": "2022-03-03T06:58:17.149Z"
   },
   {
    "duration": 50,
    "start_time": "2022-03-03T06:58:17.164Z"
   },
   {
    "duration": 42,
    "start_time": "2022-03-03T06:58:17.216Z"
   },
   {
    "duration": 74,
    "start_time": "2022-03-03T06:58:17.260Z"
   },
   {
    "duration": 27,
    "start_time": "2022-03-03T06:58:17.337Z"
   },
   {
    "duration": 2,
    "start_time": "2022-03-03T06:58:17.367Z"
   },
   {
    "duration": 56,
    "start_time": "2022-03-03T06:58:17.371Z"
   },
   {
    "duration": 21,
    "start_time": "2022-03-03T06:58:17.433Z"
   },
   {
    "duration": 283,
    "start_time": "2022-03-03T06:58:17.456Z"
   },
   {
    "duration": 269,
    "start_time": "2022-03-03T06:58:17.472Z"
   },
   {
    "duration": 185,
    "start_time": "2022-03-03T06:58:17.558Z"
   },
   {
    "duration": 153,
    "start_time": "2022-03-03T06:58:17.591Z"
   },
   {
    "duration": 144,
    "start_time": "2022-03-03T06:58:17.601Z"
   },
   {
    "duration": 141,
    "start_time": "2022-03-03T06:58:17.605Z"
   },
   {
    "duration": 140,
    "start_time": "2022-03-03T06:58:17.608Z"
   },
   {
    "duration": 128,
    "start_time": "2022-03-03T06:58:17.621Z"
   },
   {
    "duration": 124,
    "start_time": "2022-03-03T06:58:17.626Z"
   },
   {
    "duration": 113,
    "start_time": "2022-03-03T06:58:17.638Z"
   },
   {
    "duration": 109,
    "start_time": "2022-03-03T06:58:17.643Z"
   },
   {
    "duration": 13,
    "start_time": "2022-03-03T06:58:40.648Z"
   },
   {
    "duration": 22,
    "start_time": "2022-03-03T06:59:01.067Z"
   },
   {
    "duration": 21,
    "start_time": "2022-03-03T06:59:21.843Z"
   },
   {
    "duration": 14,
    "start_time": "2022-03-03T07:01:37.837Z"
   },
   {
    "duration": 25,
    "start_time": "2022-03-03T07:01:54.186Z"
   },
   {
    "duration": 333,
    "start_time": "2022-03-03T07:08:14.620Z"
   },
   {
    "duration": 309,
    "start_time": "2022-03-03T07:08:23.791Z"
   },
   {
    "duration": 70,
    "start_time": "2022-03-03T07:08:31.984Z"
   },
   {
    "duration": 77,
    "start_time": "2022-03-03T07:08:42.864Z"
   },
   {
    "duration": 24,
    "start_time": "2022-03-03T07:12:35.859Z"
   },
   {
    "duration": 316,
    "start_time": "2022-03-03T07:14:32.672Z"
   },
   {
    "duration": 20,
    "start_time": "2022-03-03T07:15:27.468Z"
   },
   {
    "duration": 373,
    "start_time": "2022-03-03T07:16:27.791Z"
   },
   {
    "duration": 389,
    "start_time": "2022-03-03T07:16:52.596Z"
   },
   {
    "duration": 291,
    "start_time": "2022-03-03T07:17:05.895Z"
   },
   {
    "duration": 24,
    "start_time": "2022-03-03T07:17:32.378Z"
   },
   {
    "duration": 23,
    "start_time": "2022-03-03T07:18:54.692Z"
   },
   {
    "duration": 312,
    "start_time": "2022-03-03T07:19:17.008Z"
   },
   {
    "duration": 27,
    "start_time": "2022-03-03T07:19:30.681Z"
   },
   {
    "duration": 22,
    "start_time": "2022-03-03T07:20:57.627Z"
   },
   {
    "duration": 790,
    "start_time": "2022-03-03T07:21:28.419Z"
   },
   {
    "duration": 24,
    "start_time": "2022-03-03T07:21:41.442Z"
   },
   {
    "duration": 59,
    "start_time": "2022-03-03T07:23:43.176Z"
   },
   {
    "duration": 4,
    "start_time": "2022-03-03T07:24:16.419Z"
   },
   {
    "duration": 773,
    "start_time": "2022-03-03T07:24:23.832Z"
   },
   {
    "duration": 365,
    "start_time": "2022-03-03T07:24:24.608Z"
   },
   {
    "duration": 11,
    "start_time": "2022-03-03T07:24:24.976Z"
   },
   {
    "duration": 26,
    "start_time": "2022-03-03T07:24:24.990Z"
   },
   {
    "duration": 9,
    "start_time": "2022-03-03T07:24:25.018Z"
   },
   {
    "duration": 22,
    "start_time": "2022-03-03T07:24:25.030Z"
   },
   {
    "duration": 8,
    "start_time": "2022-03-03T07:24:25.055Z"
   },
   {
    "duration": 9,
    "start_time": "2022-03-03T07:24:25.067Z"
   },
   {
    "duration": 6,
    "start_time": "2022-03-03T07:24:25.079Z"
   },
   {
    "duration": 52,
    "start_time": "2022-03-03T07:24:25.087Z"
   },
   {
    "duration": 5,
    "start_time": "2022-03-03T07:24:25.142Z"
   },
   {
    "duration": 12,
    "start_time": "2022-03-03T07:24:25.149Z"
   },
   {
    "duration": 25,
    "start_time": "2022-03-03T07:24:25.163Z"
   },
   {
    "duration": 58,
    "start_time": "2022-03-03T07:24:25.190Z"
   },
   {
    "duration": 10,
    "start_time": "2022-03-03T07:24:25.251Z"
   },
   {
    "duration": 13,
    "start_time": "2022-03-03T07:24:25.264Z"
   },
   {
    "duration": 6,
    "start_time": "2022-03-03T07:24:25.279Z"
   },
   {
    "duration": 71,
    "start_time": "2022-03-03T07:24:25.288Z"
   },
   {
    "duration": 5,
    "start_time": "2022-03-03T07:24:25.361Z"
   },
   {
    "duration": 15,
    "start_time": "2022-03-03T07:24:25.368Z"
   },
   {
    "duration": 9,
    "start_time": "2022-03-03T07:24:25.385Z"
   },
   {
    "duration": 43,
    "start_time": "2022-03-03T07:24:25.396Z"
   },
   {
    "duration": 18,
    "start_time": "2022-03-03T07:24:25.445Z"
   },
   {
    "duration": 4,
    "start_time": "2022-03-03T07:24:25.466Z"
   },
   {
    "duration": 19,
    "start_time": "2022-03-03T07:24:25.472Z"
   },
   {
    "duration": 43,
    "start_time": "2022-03-03T07:24:25.493Z"
   },
   {
    "duration": 19,
    "start_time": "2022-03-03T07:24:25.538Z"
   },
   {
    "duration": 22,
    "start_time": "2022-03-03T07:24:25.559Z"
   },
   {
    "duration": 5,
    "start_time": "2022-03-03T07:24:25.584Z"
   },
   {
    "duration": 48,
    "start_time": "2022-03-03T07:24:25.591Z"
   },
   {
    "duration": 11,
    "start_time": "2022-03-03T07:24:25.642Z"
   },
   {
    "duration": 40,
    "start_time": "2022-03-03T07:24:25.656Z"
   },
   {
    "duration": 60,
    "start_time": "2022-03-03T07:24:25.698Z"
   },
   {
    "duration": 32,
    "start_time": "2022-03-03T07:24:25.761Z"
   },
   {
    "duration": 55,
    "start_time": "2022-03-03T07:24:25.796Z"
   },
   {
    "duration": 28,
    "start_time": "2022-03-03T07:24:25.854Z"
   },
   {
    "duration": 52,
    "start_time": "2022-03-03T07:24:25.885Z"
   },
   {
    "duration": 34,
    "start_time": "2022-03-03T07:24:25.939Z"
   },
   {
    "duration": 25,
    "start_time": "2022-03-03T07:24:25.976Z"
   },
   {
    "duration": 38,
    "start_time": "2022-03-03T07:24:26.003Z"
   },
   {
    "duration": 6,
    "start_time": "2022-03-03T07:24:26.043Z"
   },
   {
    "duration": 7,
    "start_time": "2022-03-03T07:24:26.051Z"
   },
   {
    "duration": 4,
    "start_time": "2022-03-03T07:24:26.061Z"
   },
   {
    "duration": 5,
    "start_time": "2022-03-03T07:24:26.067Z"
   },
   {
    "duration": 5,
    "start_time": "2022-03-03T07:24:26.074Z"
   },
   {
    "duration": 6,
    "start_time": "2022-03-03T07:24:26.081Z"
   },
   {
    "duration": 43,
    "start_time": "2022-03-03T07:24:26.089Z"
   },
   {
    "duration": 3,
    "start_time": "2022-03-03T07:24:26.135Z"
   },
   {
    "duration": 5,
    "start_time": "2022-03-03T07:24:26.140Z"
   },
   {
    "duration": 7,
    "start_time": "2022-03-03T07:24:26.148Z"
   },
   {
    "duration": 4,
    "start_time": "2022-03-03T07:24:26.158Z"
   },
   {
    "duration": 38,
    "start_time": "2022-03-03T07:30:13.328Z"
   },
   {
    "duration": 38,
    "start_time": "2022-03-03T07:30:42.810Z"
   },
   {
    "duration": 125,
    "start_time": "2022-03-03T07:32:05.870Z"
   },
   {
    "duration": 395,
    "start_time": "2022-03-03T07:37:41.055Z"
   },
   {
    "duration": 595,
    "start_time": "2022-03-04T00:23:28.600Z"
   },
   {
    "duration": 278,
    "start_time": "2022-03-04T00:23:29.197Z"
   },
   {
    "duration": 7,
    "start_time": "2022-03-04T00:23:29.477Z"
   },
   {
    "duration": 15,
    "start_time": "2022-03-04T00:23:29.485Z"
   },
   {
    "duration": 5,
    "start_time": "2022-03-04T00:23:29.501Z"
   },
   {
    "duration": 10,
    "start_time": "2022-03-04T00:23:29.507Z"
   },
   {
    "duration": 6,
    "start_time": "2022-03-04T00:23:29.518Z"
   },
   {
    "duration": 5,
    "start_time": "2022-03-04T00:23:29.526Z"
   },
   {
    "duration": 3,
    "start_time": "2022-03-04T00:23:29.532Z"
   },
   {
    "duration": 24,
    "start_time": "2022-03-04T00:23:29.536Z"
   },
   {
    "duration": 4,
    "start_time": "2022-03-04T00:23:29.561Z"
   },
   {
    "duration": 10,
    "start_time": "2022-03-04T00:23:29.567Z"
   },
   {
    "duration": 45,
    "start_time": "2022-03-04T00:23:29.579Z"
   },
   {
    "duration": 19,
    "start_time": "2022-03-04T00:23:29.626Z"
   },
   {
    "duration": 6,
    "start_time": "2022-03-04T00:23:29.646Z"
   },
   {
    "duration": 9,
    "start_time": "2022-03-04T00:23:29.653Z"
   },
   {
    "duration": 4,
    "start_time": "2022-03-04T00:23:29.663Z"
   },
   {
    "duration": 44,
    "start_time": "2022-03-04T00:23:29.668Z"
   },
   {
    "duration": 4,
    "start_time": "2022-03-04T00:23:29.713Z"
   },
   {
    "duration": 12,
    "start_time": "2022-03-04T00:23:29.719Z"
   },
   {
    "duration": 8,
    "start_time": "2022-03-04T00:23:29.732Z"
   },
   {
    "duration": 9,
    "start_time": "2022-03-04T00:23:29.741Z"
   },
   {
    "duration": 13,
    "start_time": "2022-03-04T00:23:29.753Z"
   },
   {
    "duration": 3,
    "start_time": "2022-03-04T00:23:29.768Z"
   },
   {
    "duration": 34,
    "start_time": "2022-03-04T00:23:29.772Z"
   },
   {
    "duration": 8,
    "start_time": "2022-03-04T00:23:29.807Z"
   },
   {
    "duration": 11,
    "start_time": "2022-03-04T00:23:29.817Z"
   },
   {
    "duration": 13,
    "start_time": "2022-03-04T00:23:29.829Z"
   },
   {
    "duration": 3,
    "start_time": "2022-03-04T00:23:29.843Z"
   },
   {
    "duration": 7,
    "start_time": "2022-03-04T00:23:29.847Z"
   },
   {
    "duration": 7,
    "start_time": "2022-03-04T00:23:29.855Z"
   },
   {
    "duration": 50,
    "start_time": "2022-03-04T00:23:29.863Z"
   },
   {
    "duration": 349,
    "start_time": "2022-03-04T00:23:29.914Z"
   },
   {
    "duration": -1956,
    "start_time": "2022-03-04T00:23:32.220Z"
   },
   {
    "duration": -1958,
    "start_time": "2022-03-04T00:23:32.223Z"
   },
   {
    "duration": -1959,
    "start_time": "2022-03-04T00:23:32.225Z"
   },
   {
    "duration": -1962,
    "start_time": "2022-03-04T00:23:32.228Z"
   },
   {
    "duration": -2002,
    "start_time": "2022-03-04T00:23:32.269Z"
   },
   {
    "duration": -2004,
    "start_time": "2022-03-04T00:23:32.272Z"
   },
   {
    "duration": -2005,
    "start_time": "2022-03-04T00:23:32.274Z"
   },
   {
    "duration": -2056,
    "start_time": "2022-03-04T00:23:32.325Z"
   },
   {
    "duration": -2064,
    "start_time": "2022-03-04T00:23:32.334Z"
   },
   {
    "duration": -2127,
    "start_time": "2022-03-04T00:23:32.398Z"
   },
   {
    "duration": -2133,
    "start_time": "2022-03-04T00:23:32.405Z"
   },
   {
    "duration": -2158,
    "start_time": "2022-03-04T00:23:32.431Z"
   },
   {
    "duration": -2165,
    "start_time": "2022-03-04T00:23:32.439Z"
   },
   {
    "duration": -2170,
    "start_time": "2022-03-04T00:23:32.444Z"
   },
   {
    "duration": -2171,
    "start_time": "2022-03-04T00:23:32.446Z"
   },
   {
    "duration": -2201,
    "start_time": "2022-03-04T00:23:32.477Z"
   },
   {
    "duration": -2207,
    "start_time": "2022-03-04T00:23:32.484Z"
   },
   {
    "duration": -2251,
    "start_time": "2022-03-04T00:23:32.528Z"
   },
   {
    "duration": 297,
    "start_time": "2022-03-04T00:23:57.999Z"
   },
   {
    "duration": 304,
    "start_time": "2022-03-04T00:24:25.674Z"
   },
   {
    "duration": 22,
    "start_time": "2022-03-04T00:25:03.674Z"
   },
   {
    "duration": 293,
    "start_time": "2022-03-04T00:25:07.842Z"
   },
   {
    "duration": 298,
    "start_time": "2022-03-04T00:26:48.264Z"
   },
   {
    "duration": 19,
    "start_time": "2022-03-04T00:28:07.772Z"
   },
   {
    "duration": 3,
    "start_time": "2022-03-04T00:28:30.281Z"
   },
   {
    "duration": 308,
    "start_time": "2022-03-04T00:28:30.287Z"
   },
   {
    "duration": 5,
    "start_time": "2022-03-04T00:28:30.596Z"
   },
   {
    "duration": 11,
    "start_time": "2022-03-04T00:28:30.603Z"
   },
   {
    "duration": 9,
    "start_time": "2022-03-04T00:28:30.616Z"
   },
   {
    "duration": 10,
    "start_time": "2022-03-04T00:28:30.627Z"
   },
   {
    "duration": 9,
    "start_time": "2022-03-04T00:28:30.638Z"
   },
   {
    "duration": 6,
    "start_time": "2022-03-04T00:28:30.648Z"
   },
   {
    "duration": 14,
    "start_time": "2022-03-04T00:28:30.656Z"
   },
   {
    "duration": 17,
    "start_time": "2022-03-04T00:28:30.671Z"
   },
   {
    "duration": 9,
    "start_time": "2022-03-04T00:28:30.690Z"
   },
   {
    "duration": 10,
    "start_time": "2022-03-04T00:28:30.700Z"
   },
   {
    "duration": 15,
    "start_time": "2022-03-04T00:28:30.712Z"
   },
   {
    "duration": 14,
    "start_time": "2022-03-04T00:28:30.729Z"
   },
   {
    "duration": 5,
    "start_time": "2022-03-04T00:28:30.745Z"
   },
   {
    "duration": 12,
    "start_time": "2022-03-04T00:28:30.752Z"
   },
   {
    "duration": 10,
    "start_time": "2022-03-04T00:28:30.766Z"
   },
   {
    "duration": 30,
    "start_time": "2022-03-04T00:28:30.777Z"
   },
   {
    "duration": 3,
    "start_time": "2022-03-04T00:28:30.808Z"
   },
   {
    "duration": 19,
    "start_time": "2022-03-04T00:28:30.813Z"
   },
   {
    "duration": 9,
    "start_time": "2022-03-04T00:28:30.833Z"
   },
   {
    "duration": 18,
    "start_time": "2022-03-04T00:28:30.844Z"
   },
   {
    "duration": 11,
    "start_time": "2022-03-04T00:28:30.864Z"
   },
   {
    "duration": 3,
    "start_time": "2022-03-04T00:28:30.876Z"
   },
   {
    "duration": 13,
    "start_time": "2022-03-04T00:28:30.881Z"
   },
   {
    "duration": 14,
    "start_time": "2022-03-04T00:28:30.895Z"
   },
   {
    "duration": 10,
    "start_time": "2022-03-04T00:28:30.911Z"
   },
   {
    "duration": 13,
    "start_time": "2022-03-04T00:28:30.922Z"
   },
   {
    "duration": 3,
    "start_time": "2022-03-04T00:28:30.937Z"
   },
   {
    "duration": 9,
    "start_time": "2022-03-04T00:28:30.941Z"
   },
   {
    "duration": 9,
    "start_time": "2022-03-04T00:28:30.951Z"
   },
   {
    "duration": 47,
    "start_time": "2022-03-04T00:28:30.963Z"
   },
   {
    "duration": 22,
    "start_time": "2022-03-04T00:28:31.012Z"
   },
   {
    "duration": 306,
    "start_time": "2022-03-04T00:28:31.035Z"
   },
   {
    "duration": -1235,
    "start_time": "2022-03-04T00:28:32.578Z"
   },
   {
    "duration": -1242,
    "start_time": "2022-03-04T00:28:32.586Z"
   },
   {
    "duration": -1249,
    "start_time": "2022-03-04T00:28:32.594Z"
   },
   {
    "duration": -1252,
    "start_time": "2022-03-04T00:28:32.598Z"
   },
   {
    "duration": -1265,
    "start_time": "2022-03-04T00:28:32.612Z"
   },
   {
    "duration": -1268,
    "start_time": "2022-03-04T00:28:32.615Z"
   },
   {
    "duration": -1279,
    "start_time": "2022-03-04T00:28:32.627Z"
   },
   {
    "duration": -1281,
    "start_time": "2022-03-04T00:28:32.630Z"
   },
   {
    "duration": -1292,
    "start_time": "2022-03-04T00:28:32.642Z"
   },
   {
    "duration": -1294,
    "start_time": "2022-03-04T00:28:32.645Z"
   },
   {
    "duration": -1295,
    "start_time": "2022-03-04T00:28:32.647Z"
   },
   {
    "duration": -1332,
    "start_time": "2022-03-04T00:28:32.685Z"
   },
   {
    "duration": -1405,
    "start_time": "2022-03-04T00:28:32.759Z"
   },
   {
    "duration": -1407,
    "start_time": "2022-03-04T00:28:32.762Z"
   },
   {
    "duration": -1410,
    "start_time": "2022-03-04T00:28:32.766Z"
   },
   {
    "duration": -1418,
    "start_time": "2022-03-04T00:28:32.774Z"
   },
   {
    "duration": -1423,
    "start_time": "2022-03-04T00:28:32.780Z"
   },
   {
    "duration": 19,
    "start_time": "2022-03-04T00:29:12.805Z"
   },
   {
    "duration": 18,
    "start_time": "2022-03-04T00:29:38.994Z"
   },
   {
    "duration": 19,
    "start_time": "2022-03-04T00:29:57.045Z"
   },
   {
    "duration": 15,
    "start_time": "2022-03-04T00:30:10.347Z"
   },
   {
    "duration": 20,
    "start_time": "2022-03-04T00:30:27.220Z"
   },
   {
    "duration": 16,
    "start_time": "2022-03-04T00:30:40.878Z"
   },
   {
    "duration": 22,
    "start_time": "2022-03-04T00:31:08.656Z"
   },
   {
    "duration": 22,
    "start_time": "2022-03-04T00:33:34.774Z"
   },
   {
    "duration": 16,
    "start_time": "2022-03-04T00:34:16.694Z"
   },
   {
    "duration": 20,
    "start_time": "2022-03-04T00:35:34.229Z"
   },
   {
    "duration": 18,
    "start_time": "2022-03-04T00:37:39.912Z"
   },
   {
    "duration": 548,
    "start_time": "2022-03-04T00:38:46.467Z"
   },
   {
    "duration": 282,
    "start_time": "2022-03-04T00:38:47.017Z"
   },
   {
    "duration": 6,
    "start_time": "2022-03-04T00:38:47.300Z"
   },
   {
    "duration": 15,
    "start_time": "2022-03-04T00:38:47.307Z"
   },
   {
    "duration": 4,
    "start_time": "2022-03-04T00:38:47.324Z"
   },
   {
    "duration": 8,
    "start_time": "2022-03-04T00:38:47.330Z"
   },
   {
    "duration": 5,
    "start_time": "2022-03-04T00:38:47.339Z"
   },
   {
    "duration": 6,
    "start_time": "2022-03-04T00:38:47.346Z"
   },
   {
    "duration": 5,
    "start_time": "2022-03-04T00:38:47.354Z"
   },
   {
    "duration": 15,
    "start_time": "2022-03-04T00:38:47.360Z"
   },
   {
    "duration": 3,
    "start_time": "2022-03-04T00:38:47.376Z"
   },
   {
    "duration": 26,
    "start_time": "2022-03-04T00:38:47.380Z"
   },
   {
    "duration": 13,
    "start_time": "2022-03-04T00:38:47.407Z"
   },
   {
    "duration": 14,
    "start_time": "2022-03-04T00:38:47.421Z"
   },
   {
    "duration": 5,
    "start_time": "2022-03-04T00:38:47.437Z"
   },
   {
    "duration": 12,
    "start_time": "2022-03-04T00:38:47.443Z"
   },
   {
    "duration": 4,
    "start_time": "2022-03-04T00:38:47.456Z"
   },
   {
    "duration": 49,
    "start_time": "2022-03-04T00:38:47.461Z"
   },
   {
    "duration": 3,
    "start_time": "2022-03-04T00:38:47.511Z"
   },
   {
    "duration": 25,
    "start_time": "2022-03-04T00:38:47.516Z"
   },
   {
    "duration": 9,
    "start_time": "2022-03-04T00:38:47.542Z"
   },
   {
    "duration": 6,
    "start_time": "2022-03-04T00:38:47.552Z"
   },
   {
    "duration": 5,
    "start_time": "2022-03-04T00:38:47.561Z"
   },
   {
    "duration": 40,
    "start_time": "2022-03-04T00:38:47.567Z"
   },
   {
    "duration": 3,
    "start_time": "2022-03-04T00:38:47.608Z"
   },
   {
    "duration": 20,
    "start_time": "2022-03-04T00:38:47.612Z"
   },
   {
    "duration": 11,
    "start_time": "2022-03-04T00:38:47.633Z"
   },
   {
    "duration": 6,
    "start_time": "2022-03-04T00:38:47.646Z"
   },
   {
    "duration": 11,
    "start_time": "2022-03-04T00:38:47.654Z"
   },
   {
    "duration": 42,
    "start_time": "2022-03-04T00:38:47.666Z"
   },
   {
    "duration": 4,
    "start_time": "2022-03-04T00:38:47.709Z"
   },
   {
    "duration": 22,
    "start_time": "2022-03-04T00:38:47.714Z"
   },
   {
    "duration": 5,
    "start_time": "2022-03-04T00:38:47.737Z"
   },
   {
    "duration": 8,
    "start_time": "2022-03-04T00:38:47.743Z"
   },
   {
    "duration": 28,
    "start_time": "2022-03-04T00:38:47.752Z"
   },
   {
    "duration": 40,
    "start_time": "2022-03-04T00:38:47.782Z"
   },
   {
    "duration": 17,
    "start_time": "2022-03-04T00:38:47.823Z"
   },
   {
    "duration": 16,
    "start_time": "2022-03-04T00:38:47.841Z"
   },
   {
    "duration": 16,
    "start_time": "2022-03-04T00:38:47.858Z"
   },
   {
    "duration": 33,
    "start_time": "2022-03-04T00:38:47.875Z"
   },
   {
    "duration": 21,
    "start_time": "2022-03-04T00:38:47.909Z"
   },
   {
    "duration": 9,
    "start_time": "2022-03-04T00:38:47.932Z"
   },
   {
    "duration": 2,
    "start_time": "2022-03-04T00:38:47.943Z"
   },
   {
    "duration": 4,
    "start_time": "2022-03-04T00:38:47.947Z"
   },
   {
    "duration": 5,
    "start_time": "2022-03-04T00:38:47.953Z"
   },
   {
    "duration": 4,
    "start_time": "2022-03-04T00:38:47.959Z"
   },
   {
    "duration": 5,
    "start_time": "2022-03-04T00:38:47.964Z"
   },
   {
    "duration": 9,
    "start_time": "2022-03-04T00:38:47.970Z"
   },
   {
    "duration": 9,
    "start_time": "2022-03-04T00:38:47.980Z"
   },
   {
    "duration": 8,
    "start_time": "2022-03-04T00:38:48.005Z"
   },
   {
    "duration": 7,
    "start_time": "2022-03-04T00:38:48.014Z"
   },
   {
    "duration": 11,
    "start_time": "2022-03-04T00:39:12.191Z"
   },
   {
    "duration": 358,
    "start_time": "2022-03-04T00:39:27.807Z"
   },
   {
    "duration": 2,
    "start_time": "2022-03-04T00:39:45.486Z"
   },
   {
    "duration": 21,
    "start_time": "2022-03-04T00:39:51.951Z"
   },
   {
    "duration": 17,
    "start_time": "2022-03-04T00:42:25.949Z"
   },
   {
    "duration": 342,
    "start_time": "2022-03-04T01:04:53.869Z"
   },
   {
    "duration": 7391,
    "start_time": "2022-03-04T01:05:46.888Z"
   },
   {
    "duration": 4,
    "start_time": "2022-03-04T01:18:09.670Z"
   },
   {
    "duration": 9,
    "start_time": "2022-03-04T01:18:18.014Z"
   },
   {
    "duration": 103,
    "start_time": "2022-03-04T01:19:26.832Z"
   },
   {
    "duration": 301,
    "start_time": "2022-03-04T01:19:40.222Z"
   },
   {
    "duration": 8,
    "start_time": "2022-03-04T01:20:39.853Z"
   },
   {
    "duration": 8,
    "start_time": "2022-03-04T01:21:12.800Z"
   },
   {
    "duration": 8,
    "start_time": "2022-03-04T01:21:38.542Z"
   },
   {
    "duration": 8,
    "start_time": "2022-03-04T01:22:43.030Z"
   },
   {
    "duration": 3,
    "start_time": "2022-03-04T01:22:52.777Z"
   },
   {
    "duration": 579,
    "start_time": "2022-03-04T01:23:00.409Z"
   },
   {
    "duration": 276,
    "start_time": "2022-03-04T01:23:00.990Z"
   },
   {
    "duration": 6,
    "start_time": "2022-03-04T01:23:01.268Z"
   },
   {
    "duration": 18,
    "start_time": "2022-03-04T01:23:01.275Z"
   },
   {
    "duration": 8,
    "start_time": "2022-03-04T01:23:01.294Z"
   },
   {
    "duration": 14,
    "start_time": "2022-03-04T01:23:01.303Z"
   },
   {
    "duration": 11,
    "start_time": "2022-03-04T01:23:01.318Z"
   },
   {
    "duration": 14,
    "start_time": "2022-03-04T01:23:01.331Z"
   },
   {
    "duration": 4,
    "start_time": "2022-03-04T01:23:01.346Z"
   },
   {
    "duration": 23,
    "start_time": "2022-03-04T01:23:01.352Z"
   },
   {
    "duration": 3,
    "start_time": "2022-03-04T01:23:01.376Z"
   },
   {
    "duration": 8,
    "start_time": "2022-03-04T01:23:01.380Z"
   },
   {
    "duration": 18,
    "start_time": "2022-03-04T01:23:01.389Z"
   },
   {
    "duration": 18,
    "start_time": "2022-03-04T01:23:01.408Z"
   },
   {
    "duration": 7,
    "start_time": "2022-03-04T01:23:01.427Z"
   },
   {
    "duration": 11,
    "start_time": "2022-03-04T01:23:01.435Z"
   },
   {
    "duration": 4,
    "start_time": "2022-03-04T01:23:01.447Z"
   },
   {
    "duration": 21,
    "start_time": "2022-03-04T01:23:01.453Z"
   },
   {
    "duration": 4,
    "start_time": "2022-03-04T01:23:01.475Z"
   },
   {
    "duration": 45,
    "start_time": "2022-03-04T01:23:01.480Z"
   },
   {
    "duration": 9,
    "start_time": "2022-03-04T01:23:01.527Z"
   },
   {
    "duration": 17,
    "start_time": "2022-03-04T01:23:01.537Z"
   },
   {
    "duration": 5,
    "start_time": "2022-03-04T01:23:01.557Z"
   },
   {
    "duration": 12,
    "start_time": "2022-03-04T01:23:01.564Z"
   },
   {
    "duration": 4,
    "start_time": "2022-03-04T01:23:01.577Z"
   },
   {
    "duration": 39,
    "start_time": "2022-03-04T01:23:01.582Z"
   },
   {
    "duration": 12,
    "start_time": "2022-03-04T01:23:01.622Z"
   },
   {
    "duration": 11,
    "start_time": "2022-03-04T01:23:01.636Z"
   },
   {
    "duration": 15,
    "start_time": "2022-03-04T01:23:01.649Z"
   },
   {
    "duration": 15,
    "start_time": "2022-03-04T01:23:01.666Z"
   },
   {
    "duration": 4,
    "start_time": "2022-03-04T01:23:01.682Z"
   },
   {
    "duration": 21,
    "start_time": "2022-03-04T01:23:01.705Z"
   },
   {
    "duration": 5,
    "start_time": "2022-03-04T01:23:01.728Z"
   },
   {
    "duration": 8,
    "start_time": "2022-03-04T01:23:01.735Z"
   },
   {
    "duration": 25,
    "start_time": "2022-03-04T01:23:01.745Z"
   },
   {
    "duration": 45,
    "start_time": "2022-03-04T01:23:01.772Z"
   },
   {
    "duration": 19,
    "start_time": "2022-03-04T01:23:01.818Z"
   },
   {
    "duration": 15,
    "start_time": "2022-03-04T01:23:01.838Z"
   },
   {
    "duration": 16,
    "start_time": "2022-03-04T01:23:01.854Z"
   },
   {
    "duration": 37,
    "start_time": "2022-03-04T01:23:01.871Z"
   },
   {
    "duration": 22,
    "start_time": "2022-03-04T01:23:01.910Z"
   },
   {
    "duration": 3,
    "start_time": "2022-03-04T01:23:01.934Z"
   },
   {
    "duration": 18,
    "start_time": "2022-03-04T01:23:01.938Z"
   },
   {
    "duration": 6,
    "start_time": "2022-03-04T01:23:01.957Z"
   },
   {
    "duration": 10,
    "start_time": "2022-03-04T01:23:01.965Z"
   },
   {
    "duration": 7,
    "start_time": "2022-03-04T01:23:01.977Z"
   },
   {
    "duration": 9,
    "start_time": "2022-03-04T01:23:01.985Z"
   },
   {
    "duration": 7,
    "start_time": "2022-03-04T01:23:01.996Z"
   },
   {
    "duration": 7,
    "start_time": "2022-03-04T01:23:02.005Z"
   },
   {
    "duration": 7,
    "start_time": "2022-03-04T01:23:02.014Z"
   },
   {
    "duration": 5,
    "start_time": "2022-03-04T01:23:02.023Z"
   },
   {
    "duration": 5,
    "start_time": "2022-03-04T01:23:02.029Z"
   },
   {
    "duration": 5,
    "start_time": "2022-03-04T01:23:14.895Z"
   },
   {
    "duration": 2,
    "start_time": "2022-03-04T01:23:23.819Z"
   },
   {
    "duration": 22,
    "start_time": "2022-03-04T01:24:01.752Z"
   },
   {
    "duration": 22,
    "start_time": "2022-03-04T01:24:20.076Z"
   },
   {
    "duration": 7,
    "start_time": "2022-03-04T01:24:33.663Z"
   },
   {
    "duration": 549,
    "start_time": "2022-03-04T01:25:04.643Z"
   },
   {
    "duration": 271,
    "start_time": "2022-03-04T01:25:05.193Z"
   },
   {
    "duration": 5,
    "start_time": "2022-03-04T01:25:05.466Z"
   },
   {
    "duration": 17,
    "start_time": "2022-03-04T01:25:05.473Z"
   },
   {
    "duration": 5,
    "start_time": "2022-03-04T01:25:05.491Z"
   },
   {
    "duration": 10,
    "start_time": "2022-03-04T01:25:05.497Z"
   },
   {
    "duration": 11,
    "start_time": "2022-03-04T01:25:05.509Z"
   },
   {
    "duration": 8,
    "start_time": "2022-03-04T01:25:05.521Z"
   },
   {
    "duration": 3,
    "start_time": "2022-03-04T01:25:05.531Z"
   },
   {
    "duration": 17,
    "start_time": "2022-03-04T01:25:05.536Z"
   },
   {
    "duration": 7,
    "start_time": "2022-03-04T01:25:05.554Z"
   },
   {
    "duration": 8,
    "start_time": "2022-03-04T01:25:05.562Z"
   },
   {
    "duration": 16,
    "start_time": "2022-03-04T01:25:05.571Z"
   },
   {
    "duration": 14,
    "start_time": "2022-03-04T01:25:05.588Z"
   },
   {
    "duration": 7,
    "start_time": "2022-03-04T01:25:05.605Z"
   },
   {
    "duration": 12,
    "start_time": "2022-03-04T01:25:05.613Z"
   },
   {
    "duration": 3,
    "start_time": "2022-03-04T01:25:05.627Z"
   },
   {
    "duration": 20,
    "start_time": "2022-03-04T01:25:05.632Z"
   },
   {
    "duration": 4,
    "start_time": "2022-03-04T01:25:05.653Z"
   },
   {
    "duration": 47,
    "start_time": "2022-03-04T01:25:05.658Z"
   },
   {
    "duration": 10,
    "start_time": "2022-03-04T01:25:05.706Z"
   },
   {
    "duration": 13,
    "start_time": "2022-03-04T01:25:05.717Z"
   },
   {
    "duration": 12,
    "start_time": "2022-03-04T01:25:05.731Z"
   },
   {
    "duration": 13,
    "start_time": "2022-03-04T01:25:05.745Z"
   },
   {
    "duration": 3,
    "start_time": "2022-03-04T01:25:05.760Z"
   },
   {
    "duration": 25,
    "start_time": "2022-03-04T01:25:05.764Z"
   },
   {
    "duration": 20,
    "start_time": "2022-03-04T01:25:05.793Z"
   },
   {
    "duration": 13,
    "start_time": "2022-03-04T01:25:05.815Z"
   },
   {
    "duration": 12,
    "start_time": "2022-03-04T01:25:05.829Z"
   },
   {
    "duration": 14,
    "start_time": "2022-03-04T01:25:05.843Z"
   },
   {
    "duration": 4,
    "start_time": "2022-03-04T01:25:05.858Z"
   },
   {
    "duration": 20,
    "start_time": "2022-03-04T01:25:05.864Z"
   },
   {
    "duration": 6,
    "start_time": "2022-03-04T01:25:05.905Z"
   },
   {
    "duration": 8,
    "start_time": "2022-03-04T01:25:05.913Z"
   },
   {
    "duration": 25,
    "start_time": "2022-03-04T01:25:05.922Z"
   },
   {
    "duration": 19,
    "start_time": "2022-03-04T01:25:05.948Z"
   },
   {
    "duration": 47,
    "start_time": "2022-03-04T01:25:05.968Z"
   },
   {
    "duration": 15,
    "start_time": "2022-03-04T01:25:06.016Z"
   },
   {
    "duration": 16,
    "start_time": "2022-03-04T01:25:06.033Z"
   },
   {
    "duration": 9,
    "start_time": "2022-03-04T01:25:06.050Z"
   },
   {
    "duration": 51,
    "start_time": "2022-03-04T01:25:06.060Z"
   },
   {
    "duration": 3,
    "start_time": "2022-03-04T01:25:06.113Z"
   },
   {
    "duration": 4,
    "start_time": "2022-03-04T01:25:06.118Z"
   },
   {
    "duration": 4,
    "start_time": "2022-03-04T01:25:06.123Z"
   },
   {
    "duration": 3,
    "start_time": "2022-03-04T01:25:06.129Z"
   },
   {
    "duration": 4,
    "start_time": "2022-03-04T01:25:06.134Z"
   },
   {
    "duration": 4,
    "start_time": "2022-03-04T01:25:06.139Z"
   },
   {
    "duration": 4,
    "start_time": "2022-03-04T01:25:06.144Z"
   },
   {
    "duration": 3,
    "start_time": "2022-03-04T01:25:06.150Z"
   },
   {
    "duration": 6,
    "start_time": "2022-03-04T01:25:06.155Z"
   },
   {
    "duration": 4,
    "start_time": "2022-03-04T01:25:06.162Z"
   },
   {
    "duration": 21,
    "start_time": "2022-03-04T01:25:56.443Z"
   },
   {
    "duration": 358,
    "start_time": "2022-03-04T01:32:25.081Z"
   },
   {
    "duration": 14,
    "start_time": "2022-03-04T01:32:53.075Z"
   },
   {
    "duration": 22,
    "start_time": "2022-03-04T01:33:10.946Z"
   },
   {
    "duration": 19,
    "start_time": "2022-03-04T01:33:55.255Z"
   },
   {
    "duration": 13,
    "start_time": "2022-03-04T01:36:48.393Z"
   },
   {
    "duration": 19,
    "start_time": "2022-03-04T01:37:01.987Z"
   },
   {
    "duration": 349,
    "start_time": "2022-03-04T01:40:42.661Z"
   },
   {
    "duration": 17,
    "start_time": "2022-03-04T01:40:52.232Z"
   },
   {
    "duration": 18,
    "start_time": "2022-03-04T01:41:10.953Z"
   },
   {
    "duration": 19,
    "start_time": "2022-03-04T01:44:28.495Z"
   },
   {
    "duration": 33,
    "start_time": "2022-03-04T01:46:56.555Z"
   },
   {
    "duration": 17,
    "start_time": "2022-03-04T01:57:59.887Z"
   },
   {
    "duration": 536,
    "start_time": "2022-03-04T01:58:54.540Z"
   },
   {
    "duration": 269,
    "start_time": "2022-03-04T01:58:55.077Z"
   },
   {
    "duration": 5,
    "start_time": "2022-03-04T01:58:55.348Z"
   },
   {
    "duration": 14,
    "start_time": "2022-03-04T01:58:55.355Z"
   },
   {
    "duration": 5,
    "start_time": "2022-03-04T01:58:55.370Z"
   },
   {
    "duration": 9,
    "start_time": "2022-03-04T01:58:55.376Z"
   },
   {
    "duration": 6,
    "start_time": "2022-03-04T01:58:55.387Z"
   },
   {
    "duration": 4,
    "start_time": "2022-03-04T01:58:55.395Z"
   },
   {
    "duration": 3,
    "start_time": "2022-03-04T01:58:55.401Z"
   },
   {
    "duration": 16,
    "start_time": "2022-03-04T01:58:55.405Z"
   },
   {
    "duration": 2,
    "start_time": "2022-03-04T01:58:55.423Z"
   },
   {
    "duration": 7,
    "start_time": "2022-03-04T01:58:55.427Z"
   },
   {
    "duration": 13,
    "start_time": "2022-03-04T01:58:55.435Z"
   },
   {
    "duration": 13,
    "start_time": "2022-03-04T01:58:55.449Z"
   },
   {
    "duration": 6,
    "start_time": "2022-03-04T01:58:55.463Z"
   },
   {
    "duration": 9,
    "start_time": "2022-03-04T01:58:55.470Z"
   },
   {
    "duration": 27,
    "start_time": "2022-03-04T01:58:55.480Z"
   },
   {
    "duration": 19,
    "start_time": "2022-03-04T01:58:55.509Z"
   },
   {
    "duration": 3,
    "start_time": "2022-03-04T01:58:55.529Z"
   },
   {
    "duration": 25,
    "start_time": "2022-03-04T01:58:55.533Z"
   },
   {
    "duration": 9,
    "start_time": "2022-03-04T01:58:55.560Z"
   },
   {
    "duration": 6,
    "start_time": "2022-03-04T01:58:55.570Z"
   },
   {
    "duration": 27,
    "start_time": "2022-03-04T01:58:55.579Z"
   },
   {
    "duration": 11,
    "start_time": "2022-03-04T01:58:55.607Z"
   },
   {
    "duration": 3,
    "start_time": "2022-03-04T01:58:55.619Z"
   },
   {
    "duration": 21,
    "start_time": "2022-03-04T01:58:55.623Z"
   },
   {
    "duration": 11,
    "start_time": "2022-03-04T01:58:55.645Z"
   },
   {
    "duration": 7,
    "start_time": "2022-03-04T01:58:55.657Z"
   },
   {
    "duration": 12,
    "start_time": "2022-03-04T01:58:55.665Z"
   },
   {
    "duration": 38,
    "start_time": "2022-03-04T01:58:55.678Z"
   },
   {
    "duration": 3,
    "start_time": "2022-03-04T01:58:55.717Z"
   },
   {
    "duration": 21,
    "start_time": "2022-03-04T01:58:55.721Z"
   },
   {
    "duration": 4,
    "start_time": "2022-03-04T01:58:55.744Z"
   },
   {
    "duration": 6,
    "start_time": "2022-03-04T01:58:55.750Z"
   },
   {
    "duration": 48,
    "start_time": "2022-03-04T01:58:55.757Z"
   },
   {
    "duration": 17,
    "start_time": "2022-03-04T01:58:55.807Z"
   },
   {
    "duration": 21,
    "start_time": "2022-03-04T01:58:55.825Z"
   },
   {
    "duration": 17,
    "start_time": "2022-03-04T01:58:55.847Z"
   },
   {
    "duration": 40,
    "start_time": "2022-03-04T01:58:55.865Z"
   },
   {
    "duration": 21,
    "start_time": "2022-03-04T01:58:55.906Z"
   },
   {
    "duration": 3,
    "start_time": "2022-03-04T01:58:55.928Z"
   },
   {
    "duration": 5,
    "start_time": "2022-03-04T01:58:55.932Z"
   },
   {
    "duration": 4,
    "start_time": "2022-03-04T01:58:55.938Z"
   },
   {
    "duration": 5,
    "start_time": "2022-03-04T01:58:55.943Z"
   },
   {
    "duration": 4,
    "start_time": "2022-03-04T01:58:55.950Z"
   },
   {
    "duration": 4,
    "start_time": "2022-03-04T01:58:55.955Z"
   },
   {
    "duration": 4,
    "start_time": "2022-03-04T01:58:55.961Z"
   },
   {
    "duration": 8,
    "start_time": "2022-03-04T01:58:55.966Z"
   },
   {
    "duration": 4,
    "start_time": "2022-03-04T01:58:55.976Z"
   },
   {
    "duration": 5,
    "start_time": "2022-03-04T01:58:55.981Z"
   },
   {
    "duration": 4,
    "start_time": "2022-03-04T02:09:02.560Z"
   },
   {
    "duration": 8,
    "start_time": "2022-03-04T02:09:11.867Z"
   },
   {
    "duration": 11,
    "start_time": "2022-03-04T02:09:59.954Z"
   },
   {
    "duration": 11,
    "start_time": "2022-03-04T02:10:45.060Z"
   },
   {
    "duration": 12,
    "start_time": "2022-03-04T02:14:12.981Z"
   },
   {
    "duration": 2,
    "start_time": "2022-03-04T02:18:26.914Z"
   },
   {
    "duration": 5,
    "start_time": "2022-03-04T02:18:31.637Z"
   },
   {
    "duration": 186,
    "start_time": "2022-03-04T02:20:26.526Z"
   },
   {
    "duration": 341,
    "start_time": "2022-03-04T02:21:09.570Z"
   },
   {
    "duration": 290,
    "start_time": "2022-03-04T02:23:52.136Z"
   },
   {
    "duration": 19,
    "start_time": "2022-03-04T02:34:50.160Z"
   },
   {
    "duration": 20,
    "start_time": "2022-03-04T02:35:08.828Z"
   },
   {
    "duration": 19,
    "start_time": "2022-03-04T02:35:57.175Z"
   },
   {
    "duration": 21,
    "start_time": "2022-03-04T02:36:41.170Z"
   },
   {
    "duration": 9,
    "start_time": "2022-03-04T02:39:24.247Z"
   },
   {
    "duration": 343,
    "start_time": "2022-03-04T02:39:54.416Z"
   },
   {
    "duration": 767,
    "start_time": "2022-03-04T02:46:03.193Z"
   },
   {
    "duration": 13,
    "start_time": "2022-03-04T02:46:27.687Z"
   },
   {
    "duration": 13,
    "start_time": "2022-03-04T02:47:11.046Z"
   },
   {
    "duration": 291,
    "start_time": "2022-03-04T02:49:32.005Z"
   },
   {
    "duration": 322,
    "start_time": "2022-03-04T02:49:52.137Z"
   },
   {
    "duration": 299,
    "start_time": "2022-03-04T02:50:07.529Z"
   },
   {
    "duration": 293,
    "start_time": "2022-03-04T02:54:15.149Z"
   },
   {
    "duration": 9,
    "start_time": "2022-03-04T02:54:28.187Z"
   },
   {
    "duration": 286,
    "start_time": "2022-03-04T02:55:10.101Z"
   },
   {
    "duration": 1175,
    "start_time": "2022-03-04T02:55:26.157Z"
   },
   {
    "duration": 306,
    "start_time": "2022-03-04T03:02:35.733Z"
   },
   {
    "duration": 1113,
    "start_time": "2022-03-04T03:02:52.213Z"
   },
   {
    "duration": 285,
    "start_time": "2022-03-04T03:24:58.944Z"
   },
   {
    "duration": 3,
    "start_time": "2022-03-04T03:25:51.452Z"
   },
   {
    "duration": 283,
    "start_time": "2022-03-04T03:31:20.512Z"
   },
   {
    "duration": 101,
    "start_time": "2022-03-04T03:41:14.405Z"
   },
   {
    "duration": 13,
    "start_time": "2022-03-04T03:41:35.017Z"
   },
   {
    "duration": 21,
    "start_time": "2022-03-04T03:41:49.893Z"
   },
   {
    "duration": 21,
    "start_time": "2022-03-04T03:42:40.154Z"
   },
   {
    "duration": 1148,
    "start_time": "2022-03-04T03:43:33.659Z"
   },
   {
    "duration": 302,
    "start_time": "2022-03-04T03:43:50.829Z"
   },
   {
    "duration": 300,
    "start_time": "2022-03-04T03:44:19.258Z"
   },
   {
    "duration": 22,
    "start_time": "2022-03-04T03:44:28.387Z"
   },
   {
    "duration": 5,
    "start_time": "2022-03-04T03:44:52.133Z"
   },
   {
    "duration": 14,
    "start_time": "2022-03-04T03:45:07.158Z"
   },
   {
    "duration": 7,
    "start_time": "2022-03-04T03:45:36.299Z"
   },
   {
    "duration": 556,
    "start_time": "2022-03-04T03:46:15.414Z"
   },
   {
    "duration": 271,
    "start_time": "2022-03-04T03:46:15.971Z"
   },
   {
    "duration": 6,
    "start_time": "2022-03-04T03:46:16.244Z"
   },
   {
    "duration": 14,
    "start_time": "2022-03-04T03:46:16.252Z"
   },
   {
    "duration": 5,
    "start_time": "2022-03-04T03:46:16.268Z"
   },
   {
    "duration": 12,
    "start_time": "2022-03-04T03:46:16.274Z"
   },
   {
    "duration": 6,
    "start_time": "2022-03-04T03:46:16.287Z"
   },
   {
    "duration": 7,
    "start_time": "2022-03-04T03:46:16.296Z"
   },
   {
    "duration": 3,
    "start_time": "2022-03-04T03:46:16.304Z"
   },
   {
    "duration": 15,
    "start_time": "2022-03-04T03:46:16.308Z"
   },
   {
    "duration": 3,
    "start_time": "2022-03-04T03:46:16.324Z"
   },
   {
    "duration": 6,
    "start_time": "2022-03-04T03:46:16.328Z"
   },
   {
    "duration": 13,
    "start_time": "2022-03-04T03:46:16.336Z"
   },
   {
    "duration": 13,
    "start_time": "2022-03-04T03:46:16.350Z"
   },
   {
    "duration": 6,
    "start_time": "2022-03-04T03:46:16.364Z"
   },
   {
    "duration": 8,
    "start_time": "2022-03-04T03:46:16.372Z"
   },
   {
    "duration": 26,
    "start_time": "2022-03-04T03:46:16.381Z"
   },
   {
    "duration": 20,
    "start_time": "2022-03-04T03:46:16.408Z"
   },
   {
    "duration": 3,
    "start_time": "2022-03-04T03:46:16.429Z"
   },
   {
    "duration": 24,
    "start_time": "2022-03-04T03:46:16.434Z"
   },
   {
    "duration": 9,
    "start_time": "2022-03-04T03:46:16.459Z"
   },
   {
    "duration": 6,
    "start_time": "2022-03-04T03:46:16.469Z"
   },
   {
    "duration": 31,
    "start_time": "2022-03-04T03:46:16.477Z"
   },
   {
    "duration": 12,
    "start_time": "2022-03-04T03:46:16.510Z"
   },
   {
    "duration": 5,
    "start_time": "2022-03-04T03:46:16.523Z"
   },
   {
    "duration": 17,
    "start_time": "2022-03-04T03:46:16.529Z"
   },
   {
    "duration": 11,
    "start_time": "2022-03-04T03:46:16.548Z"
   },
   {
    "duration": 6,
    "start_time": "2022-03-04T03:46:16.560Z"
   },
   {
    "duration": 12,
    "start_time": "2022-03-04T03:46:16.567Z"
   },
   {
    "duration": 13,
    "start_time": "2022-03-04T03:46:16.605Z"
   },
   {
    "duration": 4,
    "start_time": "2022-03-04T03:46:16.619Z"
   },
   {
    "duration": 21,
    "start_time": "2022-03-04T03:46:16.624Z"
   },
   {
    "duration": 5,
    "start_time": "2022-03-04T03:46:16.647Z"
   },
   {
    "duration": 7,
    "start_time": "2022-03-04T03:46:16.653Z"
   },
   {
    "duration": 57,
    "start_time": "2022-03-04T03:46:16.661Z"
   },
   {
    "duration": 22,
    "start_time": "2022-03-04T03:46:16.719Z"
   },
   {
    "duration": 17,
    "start_time": "2022-03-04T03:46:16.743Z"
   },
   {
    "duration": 18,
    "start_time": "2022-03-04T03:46:16.762Z"
   },
   {
    "duration": 41,
    "start_time": "2022-03-04T03:46:16.781Z"
   },
   {
    "duration": 21,
    "start_time": "2022-03-04T03:46:16.823Z"
   },
   {
    "duration": 19,
    "start_time": "2022-03-04T03:46:16.845Z"
   },
   {
    "duration": 27,
    "start_time": "2022-03-04T03:46:16.866Z"
   },
   {
    "duration": 29,
    "start_time": "2022-03-04T03:46:16.894Z"
   },
   {
    "duration": 13,
    "start_time": "2022-03-04T03:46:16.924Z"
   },
   {
    "duration": 22,
    "start_time": "2022-03-04T03:46:16.938Z"
   },
   {
    "duration": 28,
    "start_time": "2022-03-04T03:46:16.961Z"
   },
   {
    "duration": 10,
    "start_time": "2022-03-04T03:46:16.991Z"
   },
   {
    "duration": 13,
    "start_time": "2022-03-04T03:46:17.002Z"
   },
   {
    "duration": 10,
    "start_time": "2022-03-04T03:46:17.016Z"
   },
   {
    "duration": 15,
    "start_time": "2022-03-04T03:46:17.028Z"
   },
   {
    "duration": 10,
    "start_time": "2022-03-04T03:46:17.044Z"
   },
   {
    "duration": 45,
    "start_time": "2022-03-04T04:09:48.615Z"
   },
   {
    "duration": 30,
    "start_time": "2022-03-04T04:10:15.253Z"
   },
   {
    "duration": 37,
    "start_time": "2022-03-04T04:10:28.911Z"
   },
   {
    "duration": 8,
    "start_time": "2022-03-04T04:10:39.687Z"
   },
   {
    "duration": 40,
    "start_time": "2022-03-04T04:10:42.937Z"
   },
   {
    "duration": 27,
    "start_time": "2022-03-04T04:10:49.939Z"
   },
   {
    "duration": 26,
    "start_time": "2022-03-04T04:10:54.171Z"
   },
   {
    "duration": 28,
    "start_time": "2022-03-04T04:10:58.525Z"
   },
   {
    "duration": 22,
    "start_time": "2022-03-04T04:11:07.247Z"
   },
   {
    "duration": 22,
    "start_time": "2022-03-04T04:11:13.181Z"
   },
   {
    "duration": 308,
    "start_time": "2022-03-04T04:19:51.868Z"
   },
   {
    "duration": 296,
    "start_time": "2022-03-04T04:20:29.290Z"
   },
   {
    "duration": 288,
    "start_time": "2022-03-04T04:25:05.262Z"
   },
   {
    "duration": 328,
    "start_time": "2022-03-04T04:26:02.384Z"
   },
   {
    "duration": 3,
    "start_time": "2022-03-04T04:32:56.260Z"
   },
   {
    "duration": 793,
    "start_time": "2022-03-04T23:33:56.568Z"
   },
   {
    "duration": 339,
    "start_time": "2022-03-04T23:33:57.364Z"
   },
   {
    "duration": 9,
    "start_time": "2022-03-04T23:33:57.706Z"
   },
   {
    "duration": 23,
    "start_time": "2022-03-04T23:33:57.718Z"
   },
   {
    "duration": 8,
    "start_time": "2022-03-04T23:33:57.744Z"
   },
   {
    "duration": 34,
    "start_time": "2022-03-04T23:33:57.754Z"
   },
   {
    "duration": 13,
    "start_time": "2022-03-04T23:33:57.791Z"
   },
   {
    "duration": 6,
    "start_time": "2022-03-04T23:33:57.808Z"
   },
   {
    "duration": 5,
    "start_time": "2022-03-04T23:33:57.817Z"
   },
   {
    "duration": 25,
    "start_time": "2022-03-04T23:33:57.824Z"
   },
   {
    "duration": 7,
    "start_time": "2022-03-04T23:33:57.888Z"
   },
   {
    "duration": 12,
    "start_time": "2022-03-04T23:33:57.898Z"
   },
   {
    "duration": 26,
    "start_time": "2022-03-04T23:33:57.913Z"
   },
   {
    "duration": 53,
    "start_time": "2022-03-04T23:33:57.941Z"
   },
   {
    "duration": 11,
    "start_time": "2022-03-04T23:33:57.997Z"
   },
   {
    "duration": 15,
    "start_time": "2022-03-04T23:33:58.011Z"
   },
   {
    "duration": 7,
    "start_time": "2022-03-04T23:33:58.028Z"
   },
   {
    "duration": 62,
    "start_time": "2022-03-04T23:33:58.038Z"
   },
   {
    "duration": 6,
    "start_time": "2022-03-04T23:33:58.103Z"
   },
   {
    "duration": 103,
    "start_time": "2022-03-04T23:33:58.111Z"
   },
   {
    "duration": 14,
    "start_time": "2022-03-04T23:33:58.216Z"
   },
   {
    "duration": 10,
    "start_time": "2022-03-04T23:33:58.233Z"
   },
   {
    "duration": 9,
    "start_time": "2022-03-04T23:33:58.248Z"
   },
   {
    "duration": 19,
    "start_time": "2022-03-04T23:33:58.292Z"
   },
   {
    "duration": 6,
    "start_time": "2022-03-04T23:33:58.314Z"
   },
   {
    "duration": 77,
    "start_time": "2022-03-04T23:33:58.322Z"
   },
   {
    "duration": 18,
    "start_time": "2022-03-04T23:33:58.402Z"
   },
   {
    "duration": 11,
    "start_time": "2022-03-04T23:33:58.423Z"
   },
   {
    "duration": 14,
    "start_time": "2022-03-04T23:33:58.437Z"
   },
   {
    "duration": 26,
    "start_time": "2022-03-04T23:33:58.482Z"
   },
   {
    "duration": 5,
    "start_time": "2022-03-04T23:33:58.510Z"
   },
   {
    "duration": 91,
    "start_time": "2022-03-04T23:33:58.518Z"
   },
   {
    "duration": 8,
    "start_time": "2022-03-04T23:33:58.612Z"
   },
   {
    "duration": 11,
    "start_time": "2022-03-04T23:33:58.623Z"
   },
   {
    "duration": 99,
    "start_time": "2022-03-04T23:33:58.637Z"
   },
   {
    "duration": 67,
    "start_time": "2022-03-04T23:33:58.738Z"
   },
   {
    "duration": 49,
    "start_time": "2022-03-04T23:33:58.809Z"
   },
   {
    "duration": 71,
    "start_time": "2022-03-04T23:33:58.860Z"
   },
   {
    "duration": 362,
    "start_time": "2022-03-04T23:33:58.933Z"
   },
   {
    "duration": 64,
    "start_time": "2022-03-04T23:33:59.234Z"
   },
   {
    "duration": 63,
    "start_time": "2022-03-04T23:33:59.237Z"
   },
   {
    "duration": 61,
    "start_time": "2022-03-04T23:33:59.240Z"
   },
   {
    "duration": 57,
    "start_time": "2022-03-04T23:33:59.245Z"
   },
   {
    "duration": 54,
    "start_time": "2022-03-04T23:33:59.250Z"
   },
   {
    "duration": 53,
    "start_time": "2022-03-04T23:33:59.252Z"
   },
   {
    "duration": 52,
    "start_time": "2022-03-04T23:33:59.255Z"
   },
   {
    "duration": 50,
    "start_time": "2022-03-04T23:33:59.258Z"
   },
   {
    "duration": 45,
    "start_time": "2022-03-04T23:33:59.264Z"
   },
   {
    "duration": 44,
    "start_time": "2022-03-04T23:33:59.267Z"
   },
   {
    "duration": 42,
    "start_time": "2022-03-04T23:33:59.270Z"
   },
   {
    "duration": 49,
    "start_time": "2022-03-04T23:38:42.675Z"
   },
   {
    "duration": 50,
    "start_time": "2022-03-04T23:39:02.744Z"
   },
   {
    "duration": 43,
    "start_time": "2022-03-04T23:39:29.682Z"
   },
   {
    "duration": 41,
    "start_time": "2022-03-04T23:39:38.922Z"
   },
   {
    "duration": 37,
    "start_time": "2022-03-04T23:40:06.160Z"
   },
   {
    "duration": 37,
    "start_time": "2022-03-04T23:40:38.500Z"
   },
   {
    "duration": 42,
    "start_time": "2022-03-04T23:41:20.980Z"
   },
   {
    "duration": 39,
    "start_time": "2022-03-04T23:42:49.316Z"
   },
   {
    "duration": 23,
    "start_time": "2022-03-04T23:43:50.236Z"
   },
   {
    "duration": 5695,
    "start_time": "2022-03-04T23:58:46.833Z"
   },
   {
    "duration": 5644,
    "start_time": "2022-03-04T23:59:04.733Z"
   },
   {
    "duration": 5584,
    "start_time": "2022-03-04T23:59:20.437Z"
   },
   {
    "duration": 14,
    "start_time": "2022-03-05T00:05:03.123Z"
   },
   {
    "duration": 250,
    "start_time": "2022-03-05T00:07:09.270Z"
   },
   {
    "duration": 472,
    "start_time": "2022-03-05T00:07:20.957Z"
   },
   {
    "duration": 30,
    "start_time": "2022-03-05T00:07:32.166Z"
   },
   {
    "duration": 10,
    "start_time": "2022-03-05T00:07:50.737Z"
   },
   {
    "duration": 7162,
    "start_time": "2022-03-05T00:10:26.093Z"
   },
   {
    "duration": 6718,
    "start_time": "2022-03-05T00:11:59.314Z"
   },
   {
    "duration": 311,
    "start_time": "2022-03-05T00:13:18.071Z"
   },
   {
    "duration": 19,
    "start_time": "2022-03-05T00:13:35.787Z"
   },
   {
    "duration": 12,
    "start_time": "2022-03-05T00:13:45.883Z"
   },
   {
    "duration": 6453,
    "start_time": "2022-03-05T00:13:50.885Z"
   },
   {
    "duration": 7,
    "start_time": "2022-03-05T00:27:19.835Z"
   },
   {
    "duration": 12,
    "start_time": "2022-03-05T00:27:22.900Z"
   },
   {
    "duration": 21,
    "start_time": "2022-03-05T00:27:29.046Z"
   },
   {
    "duration": 32,
    "start_time": "2022-03-05T00:27:31.176Z"
   },
   {
    "duration": 67,
    "start_time": "2022-03-05T00:28:02.145Z"
   },
   {
    "duration": 9,
    "start_time": "2022-03-05T00:28:14.803Z"
   },
   {
    "duration": 147,
    "start_time": "2022-03-05T00:36:03.536Z"
   },
   {
    "duration": 16,
    "start_time": "2022-03-05T00:38:14.010Z"
   },
   {
    "duration": 151,
    "start_time": "2022-03-05T00:38:20.284Z"
   },
   {
    "duration": 80,
    "start_time": "2022-03-05T01:00:29.660Z"
   },
   {
    "duration": 90,
    "start_time": "2022-03-05T01:00:39.889Z"
   },
   {
    "duration": 5853,
    "start_time": "2022-03-05T01:05:59.297Z"
   },
   {
    "duration": 96,
    "start_time": "2022-03-05T01:17:57.011Z"
   },
   {
    "duration": 7598,
    "start_time": "2022-03-05T01:18:26.821Z"
   },
   {
    "duration": 15,
    "start_time": "2022-03-05T01:23:11.528Z"
   },
   {
    "duration": 23,
    "start_time": "2022-03-05T01:23:37.138Z"
   },
   {
    "duration": 238,
    "start_time": "2022-03-05T01:24:25.327Z"
   },
   {
    "duration": 31,
    "start_time": "2022-03-05T01:24:32.855Z"
   },
   {
    "duration": 5806,
    "start_time": "2022-03-05T01:25:48.095Z"
   },
   {
    "duration": 34038,
    "start_time": "2022-03-05T01:26:57.316Z"
   },
   {
    "duration": 34337,
    "start_time": "2022-03-05T01:28:21.035Z"
   },
   {
    "duration": 33691,
    "start_time": "2022-03-05T01:29:18.033Z"
   },
   {
    "duration": 23,
    "start_time": "2022-03-05T01:31:19.247Z"
   },
   {
    "duration": 383,
    "start_time": "2022-03-05T01:31:36.948Z"
   },
   {
    "duration": 392,
    "start_time": "2022-03-05T01:32:45.615Z"
   },
   {
    "duration": 78,
    "start_time": "2022-03-05T01:41:14.226Z"
   },
   {
    "duration": 17,
    "start_time": "2022-03-05T01:41:25.282Z"
   },
   {
    "duration": 22,
    "start_time": "2022-03-05T01:41:35.710Z"
   },
   {
    "duration": 252,
    "start_time": "2022-03-05T01:46:13.177Z"
   },
   {
    "duration": 590,
    "start_time": "2022-03-05T01:46:36.055Z"
   },
   {
    "duration": 520,
    "start_time": "2022-03-05T01:47:58.165Z"
   },
   {
    "duration": 3,
    "start_time": "2022-03-05T01:48:01.322Z"
   },
   {
    "duration": 4,
    "start_time": "2022-03-05T01:48:04.205Z"
   },
   {
    "duration": 353,
    "start_time": "2022-03-05T01:48:04.214Z"
   },
   {
    "duration": 8,
    "start_time": "2022-03-05T01:48:04.570Z"
   },
   {
    "duration": 13,
    "start_time": "2022-03-05T01:48:04.581Z"
   },
   {
    "duration": 9,
    "start_time": "2022-03-05T01:48:04.597Z"
   },
   {
    "duration": 15,
    "start_time": "2022-03-05T01:48:04.608Z"
   },
   {
    "duration": 6,
    "start_time": "2022-03-05T01:48:04.626Z"
   },
   {
    "duration": 7,
    "start_time": "2022-03-05T01:48:04.634Z"
   },
   {
    "duration": 3,
    "start_time": "2022-03-05T01:48:04.684Z"
   },
   {
    "duration": 29,
    "start_time": "2022-03-05T01:48:04.690Z"
   },
   {
    "duration": 8,
    "start_time": "2022-03-05T01:48:04.721Z"
   },
   {
    "duration": 11,
    "start_time": "2022-03-05T01:48:04.731Z"
   },
   {
    "duration": 55,
    "start_time": "2022-03-05T01:48:04.744Z"
   },
   {
    "duration": 20,
    "start_time": "2022-03-05T01:48:04.802Z"
   },
   {
    "duration": 11,
    "start_time": "2022-03-05T01:48:04.824Z"
   },
   {
    "duration": 46,
    "start_time": "2022-03-05T01:48:04.837Z"
   },
   {
    "duration": 7,
    "start_time": "2022-03-05T01:48:04.885Z"
   },
   {
    "duration": 27,
    "start_time": "2022-03-05T01:48:04.894Z"
   },
   {
    "duration": 5,
    "start_time": "2022-03-05T01:48:04.923Z"
   },
   {
    "duration": 99,
    "start_time": "2022-03-05T01:48:04.931Z"
   },
   {
    "duration": 14,
    "start_time": "2022-03-05T01:48:05.033Z"
   },
   {
    "duration": 34,
    "start_time": "2022-03-05T01:48:05.049Z"
   },
   {
    "duration": 9,
    "start_time": "2022-03-05T01:48:05.086Z"
   },
   {
    "duration": 16,
    "start_time": "2022-03-05T01:48:05.101Z"
   },
   {
    "duration": 6,
    "start_time": "2022-03-05T01:48:05.120Z"
   },
   {
    "duration": 80,
    "start_time": "2022-03-05T01:48:05.129Z"
   },
   {
    "duration": 18,
    "start_time": "2022-03-05T01:48:05.211Z"
   },
   {
    "duration": 11,
    "start_time": "2022-03-05T01:48:05.231Z"
   },
   {
    "duration": 47,
    "start_time": "2022-03-05T01:48:05.244Z"
   },
   {
    "duration": 21,
    "start_time": "2022-03-05T01:48:05.294Z"
   },
   {
    "duration": 5,
    "start_time": "2022-03-05T01:48:05.318Z"
   },
   {
    "duration": 293,
    "start_time": "2022-03-05T01:48:05.325Z"
   },
   {
    "duration": -654,
    "start_time": "2022-03-05T01:48:06.275Z"
   },
   {
    "duration": -769,
    "start_time": "2022-03-05T01:48:06.392Z"
   },
   {
    "duration": -772,
    "start_time": "2022-03-05T01:48:06.397Z"
   },
   {
    "duration": -774,
    "start_time": "2022-03-05T01:48:06.401Z"
   },
   {
    "duration": -776,
    "start_time": "2022-03-05T01:48:06.405Z"
   },
   {
    "duration": -778,
    "start_time": "2022-03-05T01:48:06.410Z"
   },
   {
    "duration": -971,
    "start_time": "2022-03-05T01:48:06.605Z"
   },
   {
    "duration": -981,
    "start_time": "2022-03-05T01:48:06.617Z"
   },
   {
    "duration": -984,
    "start_time": "2022-03-05T01:48:06.622Z"
   },
   {
    "duration": -991,
    "start_time": "2022-03-05T01:48:06.632Z"
   },
   {
    "duration": -994,
    "start_time": "2022-03-05T01:48:06.637Z"
   },
   {
    "duration": -1002,
    "start_time": "2022-03-05T01:48:06.648Z"
   },
   {
    "duration": -1004,
    "start_time": "2022-03-05T01:48:06.652Z"
   },
   {
    "duration": -1005,
    "start_time": "2022-03-05T01:48:06.655Z"
   },
   {
    "duration": -1014,
    "start_time": "2022-03-05T01:48:06.666Z"
   },
   {
    "duration": -1017,
    "start_time": "2022-03-05T01:48:06.671Z"
   },
   {
    "duration": -1047,
    "start_time": "2022-03-05T01:48:06.703Z"
   },
   {
    "duration": -1027,
    "start_time": "2022-03-05T01:48:06.709Z"
   },
   {
    "duration": -1036,
    "start_time": "2022-03-05T01:48:06.720Z"
   },
   {
    "duration": -1038,
    "start_time": "2022-03-05T01:48:06.725Z"
   },
   {
    "duration": -1045,
    "start_time": "2022-03-05T01:48:06.734Z"
   },
   {
    "duration": -1047,
    "start_time": "2022-03-05T01:48:06.738Z"
   },
   {
    "duration": -1054,
    "start_time": "2022-03-05T01:48:06.748Z"
   },
   {
    "duration": -1101,
    "start_time": "2022-03-05T01:48:06.797Z"
   },
   {
    "duration": -1200,
    "start_time": "2022-03-05T01:48:06.898Z"
   },
   {
    "duration": -1202,
    "start_time": "2022-03-05T01:48:06.902Z"
   },
   {
    "duration": 344,
    "start_time": "2022-03-05T01:48:17.685Z"
   },
   {
    "duration": 22,
    "start_time": "2022-03-05T01:49:36.574Z"
   },
   {
    "duration": 353,
    "start_time": "2022-03-05T01:49:45.815Z"
   },
   {
    "duration": 92,
    "start_time": "2022-03-05T01:53:25.677Z"
   },
   {
    "duration": 80,
    "start_time": "2022-03-05T01:53:48.295Z"
   },
   {
    "duration": 238,
    "start_time": "2022-03-05T01:53:56.661Z"
   },
   {
    "duration": 25,
    "start_time": "2022-03-05T01:57:07.350Z"
   },
   {
    "duration": 243,
    "start_time": "2022-03-05T01:57:15.235Z"
   },
   {
    "duration": 22,
    "start_time": "2022-03-05T01:58:29.876Z"
   },
   {
    "duration": 36,
    "start_time": "2022-03-05T01:59:38.947Z"
   },
   {
    "duration": 246,
    "start_time": "2022-03-05T02:00:16.876Z"
   },
   {
    "duration": 245,
    "start_time": "2022-03-05T02:02:51.176Z"
   },
   {
    "duration": 336,
    "start_time": "2022-03-05T02:09:33.260Z"
   },
   {
    "duration": 544,
    "start_time": "2022-03-05T02:10:05.816Z"
   },
   {
    "duration": 304,
    "start_time": "2022-03-05T02:13:02.364Z"
   },
   {
    "duration": 38,
    "start_time": "2022-03-05T02:14:07.151Z"
   },
   {
    "duration": 313,
    "start_time": "2022-03-05T02:14:24.436Z"
   },
   {
    "duration": 22,
    "start_time": "2022-03-05T02:24:58.580Z"
   },
   {
    "duration": 245,
    "start_time": "2022-03-05T02:28:31.966Z"
   },
   {
    "duration": 253,
    "start_time": "2022-03-05T02:35:23.695Z"
   },
   {
    "duration": 20,
    "start_time": "2022-03-05T02:36:13.319Z"
   },
   {
    "duration": 20,
    "start_time": "2022-03-05T02:38:17.077Z"
   },
   {
    "duration": 92,
    "start_time": "2022-03-05T02:43:59.747Z"
   },
   {
    "duration": 26,
    "start_time": "2022-03-05T02:44:10.415Z"
   },
   {
    "duration": 34,
    "start_time": "2022-03-05T02:44:21.288Z"
   },
   {
    "duration": 36,
    "start_time": "2022-03-05T02:46:42.847Z"
   },
   {
    "duration": 283,
    "start_time": "2022-03-05T02:59:40.707Z"
   },
   {
    "duration": 225,
    "start_time": "2022-03-05T02:59:56.523Z"
   },
   {
    "duration": 291,
    "start_time": "2022-03-05T03:22:11.916Z"
   },
   {
    "duration": 227,
    "start_time": "2022-03-05T03:22:23.520Z"
   },
   {
    "duration": 10,
    "start_time": "2022-03-05T03:22:49.978Z"
   },
   {
    "duration": 12,
    "start_time": "2022-03-05T03:24:03.771Z"
   },
   {
    "duration": 4,
    "start_time": "2022-03-05T04:11:31.638Z"
   },
   {
    "duration": 379,
    "start_time": "2022-03-05T04:11:31.648Z"
   },
   {
    "duration": 11,
    "start_time": "2022-03-05T04:11:32.030Z"
   },
   {
    "duration": 18,
    "start_time": "2022-03-05T04:11:32.044Z"
   },
   {
    "duration": 10,
    "start_time": "2022-03-05T04:11:32.082Z"
   },
   {
    "duration": 20,
    "start_time": "2022-03-05T04:11:32.096Z"
   },
   {
    "duration": 13,
    "start_time": "2022-03-05T04:11:32.119Z"
   },
   {
    "duration": 9,
    "start_time": "2022-03-05T04:11:32.134Z"
   },
   {
    "duration": 35,
    "start_time": "2022-03-05T04:11:32.148Z"
   },
   {
    "duration": 32,
    "start_time": "2022-03-05T04:11:32.187Z"
   },
   {
    "duration": 7,
    "start_time": "2022-03-05T04:11:32.222Z"
   },
   {
    "duration": 19,
    "start_time": "2022-03-05T04:11:32.231Z"
   },
   {
    "duration": 46,
    "start_time": "2022-03-05T04:11:32.253Z"
   },
   {
    "duration": 23,
    "start_time": "2022-03-05T04:11:32.302Z"
   },
   {
    "duration": 13,
    "start_time": "2022-03-05T04:11:32.328Z"
   },
   {
    "duration": 49,
    "start_time": "2022-03-05T04:11:32.344Z"
   },
   {
    "duration": 8,
    "start_time": "2022-03-05T04:11:32.395Z"
   },
   {
    "duration": 29,
    "start_time": "2022-03-05T04:11:32.406Z"
   },
   {
    "duration": 6,
    "start_time": "2022-03-05T04:11:32.438Z"
   },
   {
    "duration": 77,
    "start_time": "2022-03-05T04:11:32.482Z"
   },
   {
    "duration": 17,
    "start_time": "2022-03-05T04:11:32.582Z"
   },
   {
    "duration": 12,
    "start_time": "2022-03-05T04:11:32.602Z"
   },
   {
    "duration": 11,
    "start_time": "2022-03-05T04:11:32.616Z"
   },
   {
    "duration": 62,
    "start_time": "2022-03-05T04:11:32.634Z"
   },
   {
    "duration": 6,
    "start_time": "2022-03-05T04:11:32.700Z"
   },
   {
    "duration": 82,
    "start_time": "2022-03-05T04:11:32.709Z"
   },
   {
    "duration": 18,
    "start_time": "2022-03-05T04:11:32.794Z"
   },
   {
    "duration": 10,
    "start_time": "2022-03-05T04:11:32.815Z"
   },
   {
    "duration": 18,
    "start_time": "2022-03-05T04:11:32.828Z"
   },
   {
    "duration": 53,
    "start_time": "2022-03-05T04:11:32.848Z"
   },
   {
    "duration": 5,
    "start_time": "2022-03-05T04:11:32.904Z"
   },
   {
    "duration": 9,
    "start_time": "2022-03-05T04:11:32.911Z"
   },
   {
    "duration": 7,
    "start_time": "2022-03-05T04:11:32.922Z"
   },
   {
    "duration": 14,
    "start_time": "2022-03-05T04:11:32.931Z"
   },
   {
    "duration": 43,
    "start_time": "2022-03-05T04:11:32.948Z"
   },
   {
    "duration": 63,
    "start_time": "2022-03-05T04:11:32.994Z"
   },
   {
    "duration": 9,
    "start_time": "2022-03-05T04:11:33.082Z"
   },
   {
    "duration": 12,
    "start_time": "2022-03-05T04:11:33.094Z"
   },
   {
    "duration": 83,
    "start_time": "2022-03-05T04:11:33.109Z"
   },
   {
    "duration": 38,
    "start_time": "2022-03-05T04:11:33.195Z"
   },
   {
    "duration": 63,
    "start_time": "2022-03-05T04:11:33.236Z"
   },
   {
    "duration": 321,
    "start_time": "2022-03-05T04:11:33.302Z"
   },
   {
    "duration": -591,
    "start_time": "2022-03-05T04:11:34.217Z"
   },
   {
    "duration": -615,
    "start_time": "2022-03-05T04:11:34.242Z"
   },
   {
    "duration": -623,
    "start_time": "2022-03-05T04:11:34.252Z"
   },
   {
    "duration": -631,
    "start_time": "2022-03-05T04:11:34.261Z"
   },
   {
    "duration": -641,
    "start_time": "2022-03-05T04:11:34.272Z"
   },
   {
    "duration": -648,
    "start_time": "2022-03-05T04:11:34.281Z"
   },
   {
    "duration": -654,
    "start_time": "2022-03-05T04:11:34.288Z"
   },
   {
    "duration": -663,
    "start_time": "2022-03-05T04:11:34.298Z"
   },
   {
    "duration": -671,
    "start_time": "2022-03-05T04:11:34.308Z"
   },
   {
    "duration": -678,
    "start_time": "2022-03-05T04:11:34.316Z"
   },
   {
    "duration": -683,
    "start_time": "2022-03-05T04:11:34.323Z"
   },
   {
    "duration": -690,
    "start_time": "2022-03-05T04:11:34.331Z"
   },
   {
    "duration": -741,
    "start_time": "2022-03-05T04:11:34.383Z"
   },
   {
    "duration": -788,
    "start_time": "2022-03-05T04:11:34.432Z"
   },
   {
    "duration": -821,
    "start_time": "2022-03-05T04:11:34.466Z"
   },
   {
    "duration": -859,
    "start_time": "2022-03-05T04:11:34.505Z"
   },
   {
    "duration": 38,
    "start_time": "2022-03-05T04:13:08.426Z"
   },
   {
    "duration": 57,
    "start_time": "2022-03-05T04:13:27.326Z"
   },
   {
    "duration": 17,
    "start_time": "2022-03-05T04:13:34.334Z"
   },
   {
    "duration": 10,
    "start_time": "2022-03-05T04:14:35.872Z"
   },
   {
    "duration": 20,
    "start_time": "2022-03-05T04:14:43.832Z"
   },
   {
    "duration": 137,
    "start_time": "2022-03-05T04:15:05.301Z"
   },
   {
    "duration": 16,
    "start_time": "2022-03-05T04:15:07.317Z"
   },
   {
    "duration": 43,
    "start_time": "2022-03-05T04:17:05.840Z"
   },
   {
    "duration": 307,
    "start_time": "2022-03-05T04:17:46.620Z"
   },
   {
    "duration": 243,
    "start_time": "2022-03-05T04:17:58.005Z"
   },
   {
    "duration": 450,
    "start_time": "2022-03-05T04:18:16.995Z"
   },
   {
    "duration": 1357,
    "start_time": "2022-03-05T04:18:24.576Z"
   },
   {
    "duration": 703,
    "start_time": "2022-03-05T04:18:33.931Z"
   },
   {
    "duration": 333,
    "start_time": "2022-03-05T04:18:34.637Z"
   },
   {
    "duration": 10,
    "start_time": "2022-03-05T04:18:34.973Z"
   },
   {
    "duration": 22,
    "start_time": "2022-03-05T04:18:34.986Z"
   },
   {
    "duration": 10,
    "start_time": "2022-03-05T04:18:35.011Z"
   },
   {
    "duration": 23,
    "start_time": "2022-03-05T04:18:35.023Z"
   },
   {
    "duration": 11,
    "start_time": "2022-03-05T04:18:35.048Z"
   },
   {
    "duration": 22,
    "start_time": "2022-03-05T04:18:35.063Z"
   },
   {
    "duration": 5,
    "start_time": "2022-03-05T04:18:35.089Z"
   },
   {
    "duration": 27,
    "start_time": "2022-03-05T04:18:35.097Z"
   },
   {
    "duration": 6,
    "start_time": "2022-03-05T04:18:35.126Z"
   },
   {
    "duration": 48,
    "start_time": "2022-03-05T04:18:35.134Z"
   },
   {
    "duration": 25,
    "start_time": "2022-03-05T04:18:35.184Z"
   },
   {
    "duration": 22,
    "start_time": "2022-03-05T04:18:35.212Z"
   },
   {
    "duration": 11,
    "start_time": "2022-03-05T04:18:35.237Z"
   },
   {
    "duration": 15,
    "start_time": "2022-03-05T04:18:35.282Z"
   },
   {
    "duration": 7,
    "start_time": "2022-03-05T04:18:35.299Z"
   },
   {
    "duration": 29,
    "start_time": "2022-03-05T04:18:35.308Z"
   },
   {
    "duration": 5,
    "start_time": "2022-03-05T04:18:35.340Z"
   },
   {
    "duration": 76,
    "start_time": "2022-03-05T04:18:35.383Z"
   },
   {
    "duration": 15,
    "start_time": "2022-03-05T04:18:35.482Z"
   },
   {
    "duration": 10,
    "start_time": "2022-03-05T04:18:35.499Z"
   },
   {
    "duration": 20,
    "start_time": "2022-03-05T04:18:35.514Z"
   },
   {
    "duration": 45,
    "start_time": "2022-03-05T04:18:35.537Z"
   },
   {
    "duration": 5,
    "start_time": "2022-03-05T04:18:35.585Z"
   },
   {
    "duration": 56,
    "start_time": "2022-03-05T04:18:35.593Z"
   },
   {
    "duration": 42,
    "start_time": "2022-03-05T04:18:35.652Z"
   },
   {
    "duration": 11,
    "start_time": "2022-03-05T04:18:35.697Z"
   },
   {
    "duration": 18,
    "start_time": "2022-03-05T04:18:35.711Z"
   },
   {
    "duration": 62,
    "start_time": "2022-03-05T04:18:35.732Z"
   },
   {
    "duration": 7,
    "start_time": "2022-03-05T04:18:35.797Z"
   },
   {
    "duration": 12,
    "start_time": "2022-03-05T04:18:35.806Z"
   },
   {
    "duration": 24,
    "start_time": "2022-03-05T04:18:35.820Z"
   },
   {
    "duration": 21,
    "start_time": "2022-03-05T04:18:35.847Z"
   },
   {
    "duration": 23,
    "start_time": "2022-03-05T04:18:35.871Z"
   },
   {
    "duration": 64,
    "start_time": "2022-03-05T04:18:35.896Z"
   },
   {
    "duration": 28,
    "start_time": "2022-03-05T04:18:35.963Z"
   },
   {
    "duration": 12,
    "start_time": "2022-03-05T04:18:35.994Z"
   },
   {
    "duration": 97,
    "start_time": "2022-03-05T04:18:36.009Z"
   },
   {
    "duration": 40,
    "start_time": "2022-03-05T04:18:36.109Z"
   },
   {
    "duration": 56,
    "start_time": "2022-03-05T04:18:36.151Z"
   },
   {
    "duration": 40,
    "start_time": "2022-03-05T04:18:36.209Z"
   },
   {
    "duration": 65,
    "start_time": "2022-03-05T04:18:36.251Z"
   },
   {
    "duration": 29,
    "start_time": "2022-03-05T04:18:36.318Z"
   },
   {
    "duration": 42,
    "start_time": "2022-03-05T04:18:36.350Z"
   },
   {
    "duration": 154,
    "start_time": "2022-03-05T04:18:36.396Z"
   },
   {
    "duration": 17,
    "start_time": "2022-03-05T04:18:36.553Z"
   },
   {
    "duration": 19,
    "start_time": "2022-03-05T04:18:36.572Z"
   },
   {
    "duration": 25,
    "start_time": "2022-03-05T04:18:36.594Z"
   },
   {
    "duration": 451,
    "start_time": "2022-03-05T04:18:36.622Z"
   },
   {
    "duration": 42,
    "start_time": "2022-03-05T04:18:37.083Z"
   },
   {
    "duration": 345,
    "start_time": "2022-03-05T04:18:37.128Z"
   },
   {
    "duration": 40,
    "start_time": "2022-03-05T04:18:37.483Z"
   },
   {
    "duration": 277,
    "start_time": "2022-03-05T04:18:37.526Z"
   },
   {
    "duration": 3,
    "start_time": "2022-03-05T04:18:37.806Z"
   },
   {
    "duration": 6,
    "start_time": "2022-03-05T04:18:37.812Z"
   },
   {
    "duration": 6,
    "start_time": "2022-03-05T04:18:37.821Z"
   },
   {
    "duration": 5,
    "start_time": "2022-03-05T04:18:37.829Z"
   },
   {
    "duration": 130,
    "start_time": "2022-03-05T04:20:40.701Z"
   },
   {
    "duration": 15,
    "start_time": "2022-03-05T04:20:50.203Z"
   },
   {
    "duration": 24,
    "start_time": "2022-03-05T04:21:41.056Z"
   },
   {
    "duration": 22,
    "start_time": "2022-03-05T04:22:09.455Z"
   },
   {
    "duration": 312,
    "start_time": "2022-03-05T04:26:08.980Z"
   },
   {
    "duration": 16,
    "start_time": "2022-03-05T04:26:19.062Z"
   },
   {
    "duration": 247,
    "start_time": "2022-03-05T04:31:26.624Z"
   },
   {
    "duration": 462,
    "start_time": "2022-03-05T04:32:45.189Z"
   },
   {
    "duration": 38,
    "start_time": "2022-03-05T04:35:34.438Z"
   },
   {
    "duration": 38,
    "start_time": "2022-03-05T04:35:48.623Z"
   },
   {
    "duration": 37,
    "start_time": "2022-03-05T04:35:54.394Z"
   },
   {
    "duration": 345,
    "start_time": "2022-03-05T22:59:50.106Z"
   },
   {
    "duration": 299,
    "start_time": "2022-03-05T23:00:00.614Z"
   },
   {
    "duration": 338,
    "start_time": "2022-03-05T23:00:15.900Z"
   },
   {
    "duration": 1128,
    "start_time": "2022-03-05T23:00:23.734Z"
   },
   {
    "duration": 316,
    "start_time": "2022-03-05T23:00:24.864Z"
   },
   {
    "duration": 6,
    "start_time": "2022-03-05T23:00:25.182Z"
   },
   {
    "duration": 13,
    "start_time": "2022-03-05T23:00:25.190Z"
   },
   {
    "duration": 5,
    "start_time": "2022-03-05T23:00:25.205Z"
   },
   {
    "duration": 11,
    "start_time": "2022-03-05T23:00:25.212Z"
   },
   {
    "duration": 7,
    "start_time": "2022-03-05T23:00:25.225Z"
   },
   {
    "duration": 5,
    "start_time": "2022-03-05T23:00:25.234Z"
   },
   {
    "duration": 3,
    "start_time": "2022-03-05T23:00:25.240Z"
   },
   {
    "duration": 17,
    "start_time": "2022-03-05T23:00:25.245Z"
   },
   {
    "duration": 4,
    "start_time": "2022-03-05T23:00:25.263Z"
   },
   {
    "duration": 7,
    "start_time": "2022-03-05T23:00:25.268Z"
   },
   {
    "duration": 16,
    "start_time": "2022-03-05T23:00:25.305Z"
   },
   {
    "duration": 20,
    "start_time": "2022-03-05T23:00:25.322Z"
   },
   {
    "duration": 7,
    "start_time": "2022-03-05T23:00:25.343Z"
   },
   {
    "duration": 11,
    "start_time": "2022-03-05T23:00:25.351Z"
   },
   {
    "duration": 4,
    "start_time": "2022-03-05T23:00:25.364Z"
   },
   {
    "duration": 50,
    "start_time": "2022-03-05T23:00:25.370Z"
   },
   {
    "duration": 3,
    "start_time": "2022-03-05T23:00:25.422Z"
   },
   {
    "duration": 55,
    "start_time": "2022-03-05T23:00:25.427Z"
   },
   {
    "duration": 26,
    "start_time": "2022-03-05T23:00:25.483Z"
   },
   {
    "duration": 6,
    "start_time": "2022-03-05T23:00:25.511Z"
   },
   {
    "duration": 5,
    "start_time": "2022-03-05T23:00:25.521Z"
   },
   {
    "duration": 14,
    "start_time": "2022-03-05T23:00:25.528Z"
   },
   {
    "duration": 3,
    "start_time": "2022-03-05T23:00:25.543Z"
   },
   {
    "duration": 66,
    "start_time": "2022-03-05T23:00:25.548Z"
   },
   {
    "duration": 13,
    "start_time": "2022-03-05T23:00:25.616Z"
   },
   {
    "duration": 6,
    "start_time": "2022-03-05T23:00:25.631Z"
   },
   {
    "duration": 11,
    "start_time": "2022-03-05T23:00:25.639Z"
   },
   {
    "duration": 15,
    "start_time": "2022-03-05T23:00:25.652Z"
   },
   {
    "duration": 3,
    "start_time": "2022-03-05T23:00:25.669Z"
   },
   {
    "duration": 31,
    "start_time": "2022-03-05T23:00:25.674Z"
   },
   {
    "duration": 5,
    "start_time": "2022-03-05T23:00:25.707Z"
   },
   {
    "duration": 11,
    "start_time": "2022-03-05T23:00:25.713Z"
   },
   {
    "duration": 10,
    "start_time": "2022-03-05T23:00:25.725Z"
   },
   {
    "duration": 68,
    "start_time": "2022-03-05T23:00:25.737Z"
   },
   {
    "duration": 6,
    "start_time": "2022-03-05T23:00:25.807Z"
   },
   {
    "duration": 8,
    "start_time": "2022-03-05T23:00:25.815Z"
   },
   {
    "duration": 40,
    "start_time": "2022-03-05T23:00:25.824Z"
   },
   {
    "duration": 50,
    "start_time": "2022-03-05T23:00:25.866Z"
   },
   {
    "duration": 29,
    "start_time": "2022-03-05T23:00:25.918Z"
   },
   {
    "duration": 29,
    "start_time": "2022-03-05T23:00:25.948Z"
   },
   {
    "duration": 46,
    "start_time": "2022-03-05T23:00:25.979Z"
   },
   {
    "duration": 19,
    "start_time": "2022-03-05T23:00:26.027Z"
   },
   {
    "duration": 99,
    "start_time": "2022-03-05T23:00:26.048Z"
   },
   {
    "duration": 10,
    "start_time": "2022-03-05T23:00:26.149Z"
   },
   {
    "duration": 7,
    "start_time": "2022-03-05T23:00:26.160Z"
   },
   {
    "duration": 13,
    "start_time": "2022-03-05T23:00:26.169Z"
   },
   {
    "duration": 257,
    "start_time": "2022-03-05T23:00:26.183Z"
   },
   {
    "duration": 9,
    "start_time": "2022-03-05T23:00:26.442Z"
   },
   {
    "duration": 297,
    "start_time": "2022-03-05T23:00:26.453Z"
   },
   {
    "duration": 21,
    "start_time": "2022-03-05T23:00:26.751Z"
   },
   {
    "duration": 188,
    "start_time": "2022-03-05T23:00:26.774Z"
   },
   {
    "duration": 22,
    "start_time": "2022-03-05T23:00:26.963Z"
   },
   {
    "duration": 172,
    "start_time": "2022-03-05T23:00:26.987Z"
   },
   {
    "duration": 2,
    "start_time": "2022-03-05T23:00:27.160Z"
   },
   {
    "duration": 5,
    "start_time": "2022-03-05T23:00:27.164Z"
   },
   {
    "duration": 4,
    "start_time": "2022-03-05T23:00:27.171Z"
   },
   {
    "duration": 4,
    "start_time": "2022-03-05T23:00:27.176Z"
   },
   {
    "duration": 339,
    "start_time": "2022-03-05T23:05:44.874Z"
   },
   {
    "duration": 280,
    "start_time": "2022-03-05T23:05:53.218Z"
   },
   {
    "duration": 302,
    "start_time": "2022-03-05T23:10:04.996Z"
   },
   {
    "duration": 144,
    "start_time": "2022-03-05T23:10:38.276Z"
   },
   {
    "duration": 92,
    "start_time": "2022-03-05T23:11:11.064Z"
   },
   {
    "duration": 314,
    "start_time": "2022-03-05T23:11:12.871Z"
   },
   {
    "duration": 10,
    "start_time": "2022-03-05T23:11:26.079Z"
   },
   {
    "duration": 12,
    "start_time": "2022-03-05T23:11:37.562Z"
   },
   {
    "duration": 8,
    "start_time": "2022-03-05T23:12:28.791Z"
   },
   {
    "duration": 217,
    "start_time": "2022-03-05T23:13:28.757Z"
   },
   {
    "duration": 96,
    "start_time": "2022-03-05T23:13:57.649Z"
   },
   {
    "duration": 289,
    "start_time": "2022-03-05T23:14:03.050Z"
   },
   {
    "duration": 293,
    "start_time": "2022-03-05T23:22:35.288Z"
   },
   {
    "duration": 204,
    "start_time": "2022-03-05T23:22:47.574Z"
   },
   {
    "duration": 296,
    "start_time": "2022-03-05T23:23:06.370Z"
   },
   {
    "duration": 240,
    "start_time": "2022-03-05T23:23:38.590Z"
   },
   {
    "duration": 217,
    "start_time": "2022-03-05T23:23:49.024Z"
   },
   {
    "duration": 304,
    "start_time": "2022-03-05T23:28:27.416Z"
   },
   {
    "duration": 281,
    "start_time": "2022-03-05T23:28:43.922Z"
   },
   {
    "duration": 309,
    "start_time": "2022-03-05T23:32:35.195Z"
   },
   {
    "duration": 299,
    "start_time": "2022-03-05T23:32:53.890Z"
   },
   {
    "duration": 302,
    "start_time": "2022-03-05T23:33:19.922Z"
   },
   {
    "duration": 11,
    "start_time": "2022-03-05T23:33:32.581Z"
   },
   {
    "duration": 501,
    "start_time": "2022-03-05T23:36:03.210Z"
   },
   {
    "duration": 9,
    "start_time": "2022-03-05T23:36:15.294Z"
   },
   {
    "duration": 11,
    "start_time": "2022-03-05T23:37:58.618Z"
   },
   {
    "duration": 11,
    "start_time": "2022-03-05T23:38:27.298Z"
   },
   {
    "duration": 11,
    "start_time": "2022-03-05T23:42:36.196Z"
   },
   {
    "duration": 14,
    "start_time": "2022-03-05T23:42:50.732Z"
   },
   {
    "duration": 8,
    "start_time": "2022-03-05T23:44:54.130Z"
   },
   {
    "duration": 220,
    "start_time": "2022-03-05T23:47:08.718Z"
   },
   {
    "duration": 7,
    "start_time": "2022-03-05T23:48:53.175Z"
   },
   {
    "duration": 14,
    "start_time": "2022-03-05T23:49:04.720Z"
   },
   {
    "duration": 101,
    "start_time": "2022-03-05T23:51:31.178Z"
   },
   {
    "duration": 13,
    "start_time": "2022-03-05T23:51:45.786Z"
   },
   {
    "duration": 277,
    "start_time": "2022-03-05T23:56:28.767Z"
   },
   {
    "duration": 285,
    "start_time": "2022-03-05T23:56:39.862Z"
   },
   {
    "duration": 493,
    "start_time": "2022-03-05T23:56:56.119Z"
   },
   {
    "duration": 3,
    "start_time": "2022-03-06T00:02:51.714Z"
   },
   {
    "duration": 177,
    "start_time": "2022-03-06T00:03:07.097Z"
   },
   {
    "duration": 3,
    "start_time": "2022-03-06T00:03:32.120Z"
   },
   {
    "duration": 4,
    "start_time": "2022-03-06T00:04:42.544Z"
   },
   {
    "duration": 303,
    "start_time": "2022-03-06T00:04:53.304Z"
   },
   {
    "duration": 301,
    "start_time": "2022-03-06T00:05:40.652Z"
   },
   {
    "duration": 460,
    "start_time": "2022-03-06T00:07:06.646Z"
   },
   {
    "duration": 2063,
    "start_time": "2022-03-06T00:08:03.753Z"
   },
   {
    "duration": 634,
    "start_time": "2022-03-06T00:08:21.212Z"
   },
   {
    "duration": 380,
    "start_time": "2022-03-06T00:08:34.448Z"
   },
   {
    "duration": 285,
    "start_time": "2022-03-06T00:11:14.158Z"
   },
   {
    "duration": 94,
    "start_time": "2022-03-06T00:14:13.026Z"
   },
   {
    "duration": 12,
    "start_time": "2022-03-06T00:14:20.472Z"
   },
   {
    "duration": 9,
    "start_time": "2022-03-06T00:14:46.152Z"
   },
   {
    "duration": 12,
    "start_time": "2022-03-06T00:14:57.249Z"
   },
   {
    "duration": 12,
    "start_time": "2022-03-06T00:15:29.330Z"
   },
   {
    "duration": 422,
    "start_time": "2022-03-06T00:20:16.464Z"
   },
   {
    "duration": 1328,
    "start_time": "2022-03-06T00:21:09.379Z"
   },
   {
    "duration": 281,
    "start_time": "2022-03-06T00:21:26.804Z"
   },
   {
    "duration": 16,
    "start_time": "2022-03-06T00:22:29.057Z"
   },
   {
    "duration": 259,
    "start_time": "2022-03-06T00:23:09.683Z"
   },
   {
    "duration": 295,
    "start_time": "2022-03-06T00:23:57.811Z"
   },
   {
    "duration": 122,
    "start_time": "2022-03-06T00:30:43.124Z"
   },
   {
    "duration": 3,
    "start_time": "2022-03-06T00:32:06.821Z"
   },
   {
    "duration": 13,
    "start_time": "2022-03-06T00:35:19.021Z"
   },
   {
    "duration": 312,
    "start_time": "2022-03-06T00:46:28.176Z"
   },
   {
    "duration": 294,
    "start_time": "2022-03-06T00:47:54.575Z"
   },
   {
    "duration": 295,
    "start_time": "2022-03-06T00:49:09.963Z"
   },
   {
    "duration": 338,
    "start_time": "2022-03-06T00:49:25.911Z"
   },
   {
    "duration": 4,
    "start_time": "2022-03-06T00:50:29.657Z"
   },
   {
    "duration": 312,
    "start_time": "2022-03-06T00:50:45.835Z"
   },
   {
    "duration": 2,
    "start_time": "2022-03-06T00:52:24.608Z"
   },
   {
    "duration": 289,
    "start_time": "2022-03-06T00:52:24.613Z"
   },
   {
    "duration": 5,
    "start_time": "2022-03-06T00:52:24.904Z"
   },
   {
    "duration": 9,
    "start_time": "2022-03-06T00:52:24.911Z"
   },
   {
    "duration": 7,
    "start_time": "2022-03-06T00:52:24.921Z"
   },
   {
    "duration": 10,
    "start_time": "2022-03-06T00:52:24.929Z"
   },
   {
    "duration": 4,
    "start_time": "2022-03-06T00:52:24.941Z"
   },
   {
    "duration": 6,
    "start_time": "2022-03-06T00:52:24.947Z"
   },
   {
    "duration": 2,
    "start_time": "2022-03-06T00:52:24.955Z"
   },
   {
    "duration": 17,
    "start_time": "2022-03-06T00:52:24.958Z"
   },
   {
    "duration": 3,
    "start_time": "2022-03-06T00:52:24.976Z"
   },
   {
    "duration": 7,
    "start_time": "2022-03-06T00:52:24.980Z"
   },
   {
    "duration": 15,
    "start_time": "2022-03-06T00:52:25.005Z"
   },
   {
    "duration": 16,
    "start_time": "2022-03-06T00:52:25.021Z"
   },
   {
    "duration": 11,
    "start_time": "2022-03-06T00:52:25.038Z"
   },
   {
    "duration": 12,
    "start_time": "2022-03-06T00:52:25.050Z"
   },
   {
    "duration": 4,
    "start_time": "2022-03-06T00:52:25.064Z"
   },
   {
    "duration": 40,
    "start_time": "2022-03-06T00:52:25.069Z"
   },
   {
    "duration": 3,
    "start_time": "2022-03-06T00:52:25.111Z"
   },
   {
    "duration": 51,
    "start_time": "2022-03-06T00:52:25.115Z"
   },
   {
    "duration": 10,
    "start_time": "2022-03-06T00:52:25.167Z"
   },
   {
    "duration": 7,
    "start_time": "2022-03-06T00:52:25.178Z"
   },
   {
    "duration": 23,
    "start_time": "2022-03-06T00:52:25.186Z"
   },
   {
    "duration": 16,
    "start_time": "2022-03-06T00:52:25.212Z"
   },
   {
    "duration": 5,
    "start_time": "2022-03-06T00:52:25.229Z"
   },
   {
    "duration": 48,
    "start_time": "2022-03-06T00:52:25.236Z"
   },
   {
    "duration": 12,
    "start_time": "2022-03-06T00:52:25.286Z"
   },
   {
    "duration": 8,
    "start_time": "2022-03-06T00:52:25.299Z"
   },
   {
    "duration": 11,
    "start_time": "2022-03-06T00:52:25.308Z"
   },
   {
    "duration": 15,
    "start_time": "2022-03-06T00:52:25.320Z"
   },
   {
    "duration": 3,
    "start_time": "2022-03-06T00:52:25.337Z"
   },
   {
    "duration": 6,
    "start_time": "2022-03-06T00:52:25.341Z"
   },
   {
    "duration": 6,
    "start_time": "2022-03-06T00:52:25.348Z"
   },
   {
    "duration": 11,
    "start_time": "2022-03-06T00:52:25.355Z"
   },
   {
    "duration": 8,
    "start_time": "2022-03-06T00:52:25.367Z"
   },
   {
    "duration": 64,
    "start_time": "2022-03-06T00:52:25.376Z"
   },
   {
    "duration": 5,
    "start_time": "2022-03-06T00:52:25.441Z"
   },
   {
    "duration": 9,
    "start_time": "2022-03-06T00:52:25.447Z"
   },
   {
    "duration": 54,
    "start_time": "2022-03-06T00:52:25.457Z"
   },
   {
    "duration": 24,
    "start_time": "2022-03-06T00:52:25.512Z"
   },
   {
    "duration": 25,
    "start_time": "2022-03-06T00:52:25.538Z"
   },
   {
    "duration": 43,
    "start_time": "2022-03-06T00:52:25.564Z"
   },
   {
    "duration": 22,
    "start_time": "2022-03-06T00:52:25.608Z"
   },
   {
    "duration": 16,
    "start_time": "2022-03-06T00:52:25.632Z"
   },
   {
    "duration": 95,
    "start_time": "2022-03-06T00:52:25.649Z"
   },
   {
    "duration": 9,
    "start_time": "2022-03-06T00:52:25.745Z"
   },
   {
    "duration": 8,
    "start_time": "2022-03-06T00:52:25.755Z"
   },
   {
    "duration": 12,
    "start_time": "2022-03-06T00:52:25.764Z"
   },
   {
    "duration": 240,
    "start_time": "2022-03-06T00:52:25.778Z"
   },
   {
    "duration": 13,
    "start_time": "2022-03-06T00:52:26.019Z"
   },
   {
    "duration": 304,
    "start_time": "2022-03-06T00:52:26.033Z"
   },
   {
    "duration": 298,
    "start_time": "2022-03-06T00:52:26.339Z"
   },
   {
    "duration": -3782,
    "start_time": "2022-03-06T00:52:30.420Z"
   },
   {
    "duration": -3784,
    "start_time": "2022-03-06T00:52:30.423Z"
   },
   {
    "duration": -3785,
    "start_time": "2022-03-06T00:52:30.425Z"
   },
   {
    "duration": -3788,
    "start_time": "2022-03-06T00:52:30.428Z"
   },
   {
    "duration": -3790,
    "start_time": "2022-03-06T00:52:30.431Z"
   },
   {
    "duration": -3794,
    "start_time": "2022-03-06T00:52:30.436Z"
   },
   {
    "duration": -3797,
    "start_time": "2022-03-06T00:52:30.439Z"
   },
   {
    "duration": 1013,
    "start_time": "2022-03-06T00:52:36.244Z"
   },
   {
    "duration": 281,
    "start_time": "2022-03-06T00:52:37.259Z"
   },
   {
    "duration": 5,
    "start_time": "2022-03-06T00:52:37.542Z"
   },
   {
    "duration": 12,
    "start_time": "2022-03-06T00:52:37.549Z"
   },
   {
    "duration": 5,
    "start_time": "2022-03-06T00:52:37.562Z"
   },
   {
    "duration": 11,
    "start_time": "2022-03-06T00:52:37.568Z"
   },
   {
    "duration": 6,
    "start_time": "2022-03-06T00:52:37.580Z"
   },
   {
    "duration": 4,
    "start_time": "2022-03-06T00:52:37.588Z"
   },
   {
    "duration": 2,
    "start_time": "2022-03-06T00:52:37.594Z"
   },
   {
    "duration": 16,
    "start_time": "2022-03-06T00:52:37.597Z"
   },
   {
    "duration": 2,
    "start_time": "2022-03-06T00:52:37.614Z"
   },
   {
    "duration": 6,
    "start_time": "2022-03-06T00:52:37.618Z"
   },
   {
    "duration": 13,
    "start_time": "2022-03-06T00:52:37.626Z"
   },
   {
    "duration": 13,
    "start_time": "2022-03-06T00:52:37.640Z"
   },
   {
    "duration": 7,
    "start_time": "2022-03-06T00:52:37.654Z"
   },
   {
    "duration": 11,
    "start_time": "2022-03-06T00:52:37.662Z"
   },
   {
    "duration": 7,
    "start_time": "2022-03-06T00:52:37.675Z"
   },
   {
    "duration": 37,
    "start_time": "2022-03-06T00:52:37.683Z"
   },
   {
    "duration": 3,
    "start_time": "2022-03-06T00:52:37.722Z"
   },
   {
    "duration": 51,
    "start_time": "2022-03-06T00:52:37.726Z"
   },
   {
    "duration": 9,
    "start_time": "2022-03-06T00:52:37.779Z"
   },
   {
    "duration": 20,
    "start_time": "2022-03-06T00:52:37.789Z"
   },
   {
    "duration": 5,
    "start_time": "2022-03-06T00:52:37.812Z"
   },
   {
    "duration": 11,
    "start_time": "2022-03-06T00:52:37.819Z"
   },
   {
    "duration": 3,
    "start_time": "2022-03-06T00:52:37.832Z"
   },
   {
    "duration": 30,
    "start_time": "2022-03-06T00:52:37.837Z"
   },
   {
    "duration": 44,
    "start_time": "2022-03-06T00:52:37.869Z"
   },
   {
    "duration": 7,
    "start_time": "2022-03-06T00:52:37.915Z"
   },
   {
    "duration": 27,
    "start_time": "2022-03-06T00:52:37.923Z"
   },
   {
    "duration": 13,
    "start_time": "2022-03-06T00:52:37.952Z"
   },
   {
    "duration": 3,
    "start_time": "2022-03-06T00:52:37.967Z"
   },
   {
    "duration": 5,
    "start_time": "2022-03-06T00:52:37.971Z"
   },
   {
    "duration": 8,
    "start_time": "2022-03-06T00:52:37.978Z"
   },
   {
    "duration": 18,
    "start_time": "2022-03-06T00:52:37.987Z"
   },
   {
    "duration": 9,
    "start_time": "2022-03-06T00:52:38.007Z"
   },
   {
    "duration": 51,
    "start_time": "2022-03-06T00:52:38.017Z"
   },
   {
    "duration": 5,
    "start_time": "2022-03-06T00:52:38.070Z"
   },
   {
    "duration": 7,
    "start_time": "2022-03-06T00:52:38.076Z"
   },
   {
    "duration": 51,
    "start_time": "2022-03-06T00:52:38.085Z"
   },
   {
    "duration": 24,
    "start_time": "2022-03-06T00:52:38.138Z"
   },
   {
    "duration": 26,
    "start_time": "2022-03-06T00:52:38.163Z"
   },
   {
    "duration": 38,
    "start_time": "2022-03-06T00:52:38.191Z"
   },
   {
    "duration": 22,
    "start_time": "2022-03-06T00:52:38.231Z"
   },
   {
    "duration": 17,
    "start_time": "2022-03-06T00:52:38.254Z"
   },
   {
    "duration": 96,
    "start_time": "2022-03-06T00:52:38.272Z"
   },
   {
    "duration": 9,
    "start_time": "2022-03-06T00:52:38.370Z"
   },
   {
    "duration": 5,
    "start_time": "2022-03-06T00:52:38.381Z"
   },
   {
    "duration": 24,
    "start_time": "2022-03-06T00:52:38.387Z"
   },
   {
    "duration": 237,
    "start_time": "2022-03-06T00:52:38.412Z"
   },
   {
    "duration": 13,
    "start_time": "2022-03-06T00:52:38.650Z"
   },
   {
    "duration": 311,
    "start_time": "2022-03-06T00:52:38.664Z"
   },
   {
    "duration": 382,
    "start_time": "2022-03-06T00:52:38.976Z"
   },
   {
    "duration": -2021,
    "start_time": "2022-03-06T00:52:41.380Z"
   },
   {
    "duration": -2023,
    "start_time": "2022-03-06T00:52:41.383Z"
   },
   {
    "duration": -2025,
    "start_time": "2022-03-06T00:52:41.386Z"
   },
   {
    "duration": -2027,
    "start_time": "2022-03-06T00:52:41.389Z"
   },
   {
    "duration": -2028,
    "start_time": "2022-03-06T00:52:41.391Z"
   },
   {
    "duration": -2034,
    "start_time": "2022-03-06T00:52:41.397Z"
   },
   {
    "duration": -2036,
    "start_time": "2022-03-06T00:52:41.400Z"
   },
   {
    "duration": 297,
    "start_time": "2022-03-06T00:52:54.090Z"
   },
   {
    "duration": 3,
    "start_time": "2022-03-06T00:53:10.072Z"
   },
   {
    "duration": 287,
    "start_time": "2022-03-06T00:53:10.078Z"
   },
   {
    "duration": 5,
    "start_time": "2022-03-06T00:53:10.366Z"
   },
   {
    "duration": 11,
    "start_time": "2022-03-06T00:53:10.373Z"
   },
   {
    "duration": 6,
    "start_time": "2022-03-06T00:53:10.385Z"
   },
   {
    "duration": 9,
    "start_time": "2022-03-06T00:53:10.393Z"
   },
   {
    "duration": 4,
    "start_time": "2022-03-06T00:53:10.403Z"
   },
   {
    "duration": 5,
    "start_time": "2022-03-06T00:53:10.409Z"
   },
   {
    "duration": 2,
    "start_time": "2022-03-06T00:53:10.416Z"
   },
   {
    "duration": 15,
    "start_time": "2022-03-06T00:53:10.420Z"
   },
   {
    "duration": 4,
    "start_time": "2022-03-06T00:53:10.437Z"
   },
   {
    "duration": 10,
    "start_time": "2022-03-06T00:53:10.442Z"
   },
   {
    "duration": 14,
    "start_time": "2022-03-06T00:53:10.454Z"
   },
   {
    "duration": 19,
    "start_time": "2022-03-06T00:53:10.469Z"
   },
   {
    "duration": 6,
    "start_time": "2022-03-06T00:53:10.505Z"
   },
   {
    "duration": 9,
    "start_time": "2022-03-06T00:53:10.513Z"
   },
   {
    "duration": 4,
    "start_time": "2022-03-06T00:53:10.523Z"
   },
   {
    "duration": 20,
    "start_time": "2022-03-06T00:53:10.529Z"
   },
   {
    "duration": 3,
    "start_time": "2022-03-06T00:53:10.551Z"
   },
   {
    "duration": 77,
    "start_time": "2022-03-06T00:53:10.556Z"
   },
   {
    "duration": 10,
    "start_time": "2022-03-06T00:53:10.635Z"
   },
   {
    "duration": 9,
    "start_time": "2022-03-06T00:53:10.647Z"
   },
   {
    "duration": 7,
    "start_time": "2022-03-06T00:53:10.658Z"
   },
   {
    "duration": 38,
    "start_time": "2022-03-06T00:53:10.669Z"
   },
   {
    "duration": 3,
    "start_time": "2022-03-06T00:53:10.710Z"
   },
   {
    "duration": 32,
    "start_time": "2022-03-06T00:53:10.715Z"
   },
   {
    "duration": 12,
    "start_time": "2022-03-06T00:53:10.749Z"
   },
   {
    "duration": 6,
    "start_time": "2022-03-06T00:53:10.763Z"
   },
   {
    "duration": 39,
    "start_time": "2022-03-06T00:53:10.771Z"
   },
   {
    "duration": 15,
    "start_time": "2022-03-06T00:53:10.812Z"
   },
   {
    "duration": 4,
    "start_time": "2022-03-06T00:53:10.828Z"
   },
   {
    "duration": 4,
    "start_time": "2022-03-06T00:53:10.834Z"
   },
   {
    "duration": 4,
    "start_time": "2022-03-06T00:53:10.840Z"
   },
   {
    "duration": 10,
    "start_time": "2022-03-06T00:53:10.846Z"
   },
   {
    "duration": 10,
    "start_time": "2022-03-06T00:53:10.857Z"
   },
   {
    "duration": 39,
    "start_time": "2022-03-06T00:53:10.905Z"
   },
   {
    "duration": 6,
    "start_time": "2022-03-06T00:53:10.946Z"
   },
   {
    "duration": 8,
    "start_time": "2022-03-06T00:53:10.954Z"
   },
   {
    "duration": 62,
    "start_time": "2022-03-06T00:53:10.963Z"
   },
   {
    "duration": 26,
    "start_time": "2022-03-06T00:53:11.027Z"
   },
   {
    "duration": 27,
    "start_time": "2022-03-06T00:53:11.054Z"
   },
   {
    "duration": 49,
    "start_time": "2022-03-06T00:53:11.082Z"
   },
   {
    "duration": 24,
    "start_time": "2022-03-06T00:53:11.133Z"
   },
   {
    "duration": 18,
    "start_time": "2022-03-06T00:53:11.158Z"
   },
   {
    "duration": 97,
    "start_time": "2022-03-06T00:53:11.178Z"
   },
   {
    "duration": 10,
    "start_time": "2022-03-06T00:53:11.277Z"
   },
   {
    "duration": 19,
    "start_time": "2022-03-06T00:53:11.289Z"
   },
   {
    "duration": 13,
    "start_time": "2022-03-06T00:53:11.309Z"
   },
   {
    "duration": 233,
    "start_time": "2022-03-06T00:53:11.324Z"
   },
   {
    "duration": 13,
    "start_time": "2022-03-06T00:53:11.559Z"
   },
   {
    "duration": 358,
    "start_time": "2022-03-06T00:53:11.574Z"
   },
   {
    "duration": 10,
    "start_time": "2022-03-06T00:53:11.933Z"
   },
   {
    "duration": 152,
    "start_time": "2022-03-06T00:53:11.944Z"
   },
   {
    "duration": 130,
    "start_time": "2022-03-06T00:53:12.098Z"
   },
   {
    "duration": 3,
    "start_time": "2022-03-06T00:53:12.229Z"
   },
   {
    "duration": 4,
    "start_time": "2022-03-06T00:53:12.233Z"
   },
   {
    "duration": 5,
    "start_time": "2022-03-06T00:53:12.239Z"
   },
   {
    "duration": 4,
    "start_time": "2022-03-06T00:53:12.246Z"
   },
   {
    "duration": 12,
    "start_time": "2022-03-06T00:55:10.141Z"
   },
   {
    "duration": 322,
    "start_time": "2022-03-06T00:58:17.440Z"
   },
   {
    "duration": 13,
    "start_time": "2022-03-06T00:58:36.154Z"
   },
   {
    "duration": 2,
    "start_time": "2022-03-06T01:24:11.897Z"
   },
   {
    "duration": 265,
    "start_time": "2022-03-06T01:24:11.903Z"
   },
   {
    "duration": 6,
    "start_time": "2022-03-06T01:24:12.169Z"
   },
   {
    "duration": 11,
    "start_time": "2022-03-06T01:24:12.176Z"
   },
   {
    "duration": 6,
    "start_time": "2022-03-06T01:24:12.189Z"
   },
   {
    "duration": 10,
    "start_time": "2022-03-06T01:24:12.196Z"
   },
   {
    "duration": 5,
    "start_time": "2022-03-06T01:24:12.207Z"
   },
   {
    "duration": 5,
    "start_time": "2022-03-06T01:24:12.213Z"
   },
   {
    "duration": 5,
    "start_time": "2022-03-06T01:24:12.220Z"
   },
   {
    "duration": 19,
    "start_time": "2022-03-06T01:24:12.227Z"
   },
   {
    "duration": 3,
    "start_time": "2022-03-06T01:24:12.248Z"
   },
   {
    "duration": 9,
    "start_time": "2022-03-06T01:24:12.252Z"
   },
   {
    "duration": 15,
    "start_time": "2022-03-06T01:24:12.262Z"
   },
   {
    "duration": 31,
    "start_time": "2022-03-06T01:24:12.278Z"
   },
   {
    "duration": 6,
    "start_time": "2022-03-06T01:24:12.311Z"
   },
   {
    "duration": 9,
    "start_time": "2022-03-06T01:24:12.318Z"
   },
   {
    "duration": 4,
    "start_time": "2022-03-06T01:24:12.328Z"
   },
   {
    "duration": 22,
    "start_time": "2022-03-06T01:24:12.333Z"
   },
   {
    "duration": 3,
    "start_time": "2022-03-06T01:24:12.356Z"
   },
   {
    "duration": 76,
    "start_time": "2022-03-06T01:24:12.360Z"
   },
   {
    "duration": 9,
    "start_time": "2022-03-06T01:24:12.437Z"
   },
   {
    "duration": 5,
    "start_time": "2022-03-06T01:24:12.448Z"
   },
   {
    "duration": 5,
    "start_time": "2022-03-06T01:24:12.455Z"
   },
   {
    "duration": 10,
    "start_time": "2022-03-06T01:24:12.464Z"
   },
   {
    "duration": 3,
    "start_time": "2022-03-06T01:24:12.476Z"
   },
   {
    "duration": 53,
    "start_time": "2022-03-06T01:24:12.480Z"
   },
   {
    "duration": 11,
    "start_time": "2022-03-06T01:24:12.534Z"
   },
   {
    "duration": 6,
    "start_time": "2022-03-06T01:24:12.547Z"
   },
   {
    "duration": 11,
    "start_time": "2022-03-06T01:24:12.554Z"
   },
   {
    "duration": 13,
    "start_time": "2022-03-06T01:24:12.567Z"
   },
   {
    "duration": 25,
    "start_time": "2022-03-06T01:24:12.581Z"
   },
   {
    "duration": 5,
    "start_time": "2022-03-06T01:24:12.608Z"
   },
   {
    "duration": 7,
    "start_time": "2022-03-06T01:24:12.614Z"
   },
   {
    "duration": 9,
    "start_time": "2022-03-06T01:24:12.623Z"
   },
   {
    "duration": 9,
    "start_time": "2022-03-06T01:24:12.633Z"
   },
   {
    "duration": 36,
    "start_time": "2022-03-06T01:24:12.643Z"
   },
   {
    "duration": 25,
    "start_time": "2022-03-06T01:24:12.680Z"
   },
   {
    "duration": 7,
    "start_time": "2022-03-06T01:24:12.706Z"
   },
   {
    "duration": 36,
    "start_time": "2022-03-06T01:24:12.714Z"
   },
   {
    "duration": 23,
    "start_time": "2022-03-06T01:24:12.752Z"
   },
   {
    "duration": 46,
    "start_time": "2022-03-06T01:24:12.776Z"
   },
   {
    "duration": 26,
    "start_time": "2022-03-06T01:24:12.823Z"
   },
   {
    "duration": 22,
    "start_time": "2022-03-06T01:24:12.851Z"
   },
   {
    "duration": 38,
    "start_time": "2022-03-06T01:24:12.874Z"
   },
   {
    "duration": 74,
    "start_time": "2022-03-06T01:24:12.914Z"
   },
   {
    "duration": 17,
    "start_time": "2022-03-06T01:24:12.990Z"
   },
   {
    "duration": 10,
    "start_time": "2022-03-06T01:24:13.009Z"
   },
   {
    "duration": 12,
    "start_time": "2022-03-06T01:24:13.020Z"
   },
   {
    "duration": 229,
    "start_time": "2022-03-06T01:24:13.033Z"
   },
   {
    "duration": 12,
    "start_time": "2022-03-06T01:24:13.264Z"
   },
   {
    "duration": 300,
    "start_time": "2022-03-06T01:24:13.277Z"
   },
   {
    "duration": 10,
    "start_time": "2022-03-06T01:24:13.579Z"
   },
   {
    "duration": 134,
    "start_time": "2022-03-06T01:24:13.591Z"
   },
   {
    "duration": 125,
    "start_time": "2022-03-06T01:24:13.726Z"
   },
   {
    "duration": 2,
    "start_time": "2022-03-06T01:24:13.852Z"
   },
   {
    "duration": 6,
    "start_time": "2022-03-06T01:24:13.855Z"
   },
   {
    "duration": 5,
    "start_time": "2022-03-06T01:24:13.862Z"
   },
   {
    "duration": 4,
    "start_time": "2022-03-06T01:24:13.869Z"
   },
   {
    "duration": 380,
    "start_time": "2022-03-06T01:36:32.199Z"
   },
   {
    "duration": 307,
    "start_time": "2022-03-06T01:36:41.450Z"
   },
   {
    "duration": 282,
    "start_time": "2022-03-06T01:36:49.218Z"
   },
   {
    "duration": 8,
    "start_time": "2022-03-06T01:46:54.486Z"
   },
   {
    "duration": 14,
    "start_time": "2022-03-06T01:47:13.016Z"
   },
   {
    "duration": 12,
    "start_time": "2022-03-06T01:51:04.262Z"
   },
   {
    "duration": 198,
    "start_time": "2022-03-06T01:58:01.928Z"
   },
   {
    "duration": 206,
    "start_time": "2022-03-06T02:00:14.740Z"
   },
   {
    "duration": 631,
    "start_time": "2022-03-06T02:01:05.181Z"
   },
   {
    "duration": 196,
    "start_time": "2022-03-06T02:01:18.378Z"
   },
   {
    "duration": 197,
    "start_time": "2022-03-06T02:03:42.426Z"
   },
   {
    "duration": 223,
    "start_time": "2022-03-06T02:08:35.248Z"
   },
   {
    "duration": 362,
    "start_time": "2022-03-06T02:11:55.283Z"
   },
   {
    "duration": 194,
    "start_time": "2022-03-06T02:13:10.280Z"
   },
   {
    "duration": 506,
    "start_time": "2022-03-06T02:15:07.782Z"
   },
   {
    "duration": 497,
    "start_time": "2022-03-06T02:15:41.157Z"
   },
   {
    "duration": 753,
    "start_time": "2022-03-06T02:20:43.114Z"
   },
   {
    "duration": 697,
    "start_time": "2022-03-06T02:20:58.239Z"
   },
   {
    "duration": 749,
    "start_time": "2022-03-06T02:21:16.788Z"
   },
   {
    "duration": 448,
    "start_time": "2022-03-06T02:25:18.974Z"
   },
   {
    "duration": 290,
    "start_time": "2022-03-06T02:25:30.552Z"
   },
   {
    "duration": 757,
    "start_time": "2022-03-06T02:26:25.118Z"
   },
   {
    "duration": 752,
    "start_time": "2022-03-06T02:28:18.004Z"
   },
   {
    "duration": 983,
    "start_time": "2022-03-06T02:28:39.664Z"
   },
   {
    "duration": 758,
    "start_time": "2022-03-06T02:29:58.596Z"
   },
   {
    "duration": 939,
    "start_time": "2022-03-06T02:30:12.274Z"
   },
   {
    "duration": 759,
    "start_time": "2022-03-06T02:31:44.554Z"
   },
   {
    "duration": 14,
    "start_time": "2022-03-06T02:32:50.011Z"
   },
   {
    "duration": 476,
    "start_time": "2022-03-06T02:33:50.946Z"
   },
   {
    "duration": 7102,
    "start_time": "2022-03-06T02:45:23.567Z"
   },
   {
    "duration": 278,
    "start_time": "2022-03-06T02:46:12.563Z"
   },
   {
    "duration": 511,
    "start_time": "2022-03-06T02:46:30.749Z"
   },
   {
    "duration": 291,
    "start_time": "2022-03-06T02:47:00.314Z"
   },
   {
    "duration": 107,
    "start_time": "2022-03-06T02:50:59.259Z"
   },
   {
    "duration": 202,
    "start_time": "2022-03-06T02:51:14.031Z"
   },
   {
    "duration": 198,
    "start_time": "2022-03-06T02:51:27.361Z"
   },
   {
    "duration": 278,
    "start_time": "2022-03-06T02:54:21.953Z"
   },
   {
    "duration": 286,
    "start_time": "2022-03-06T02:54:50.156Z"
   },
   {
    "duration": 304,
    "start_time": "2022-03-06T02:55:55.204Z"
   },
   {
    "duration": 295,
    "start_time": "2022-03-06T02:56:07.212Z"
   },
   {
    "duration": 92,
    "start_time": "2022-03-06T02:56:18.793Z"
   },
   {
    "duration": 287,
    "start_time": "2022-03-06T02:56:26.457Z"
   },
   {
    "duration": 289,
    "start_time": "2022-03-06T02:57:25.682Z"
   },
   {
    "duration": 278,
    "start_time": "2022-03-06T02:57:42.058Z"
   },
   {
    "duration": 7218,
    "start_time": "2022-03-06T02:59:36.765Z"
   },
   {
    "duration": 7930,
    "start_time": "2022-03-06T02:59:57.873Z"
   },
   {
    "duration": 759,
    "start_time": "2022-03-06T03:00:19.320Z"
   },
   {
    "duration": 858,
    "start_time": "2022-03-06T03:01:42.674Z"
   },
   {
    "duration": 755,
    "start_time": "2022-03-06T03:03:37.217Z"
   },
   {
    "duration": 14,
    "start_time": "2022-03-06T03:16:09.666Z"
   },
   {
    "duration": 13,
    "start_time": "2022-03-06T03:16:24.070Z"
   },
   {
    "duration": 1021,
    "start_time": "2022-03-06T03:16:38.401Z"
   },
   {
    "duration": 279,
    "start_time": "2022-03-06T03:16:39.424Z"
   },
   {
    "duration": 6,
    "start_time": "2022-03-06T03:16:39.705Z"
   },
   {
    "duration": 11,
    "start_time": "2022-03-06T03:16:39.712Z"
   },
   {
    "duration": 5,
    "start_time": "2022-03-06T03:16:39.725Z"
   },
   {
    "duration": 9,
    "start_time": "2022-03-06T03:16:39.731Z"
   },
   {
    "duration": 5,
    "start_time": "2022-03-06T03:16:39.741Z"
   },
   {
    "duration": 5,
    "start_time": "2022-03-06T03:16:39.748Z"
   },
   {
    "duration": 3,
    "start_time": "2022-03-06T03:16:39.754Z"
   },
   {
    "duration": 15,
    "start_time": "2022-03-06T03:16:39.758Z"
   },
   {
    "duration": 32,
    "start_time": "2022-03-06T03:16:39.774Z"
   },
   {
    "duration": 6,
    "start_time": "2022-03-06T03:16:39.807Z"
   },
   {
    "duration": 13,
    "start_time": "2022-03-06T03:16:39.815Z"
   },
   {
    "duration": 14,
    "start_time": "2022-03-06T03:16:39.829Z"
   },
   {
    "duration": 6,
    "start_time": "2022-03-06T03:16:39.844Z"
   },
   {
    "duration": 8,
    "start_time": "2022-03-06T03:16:39.851Z"
   },
   {
    "duration": 3,
    "start_time": "2022-03-06T03:16:39.860Z"
   },
   {
    "duration": 52,
    "start_time": "2022-03-06T03:16:39.865Z"
   },
   {
    "duration": 3,
    "start_time": "2022-03-06T03:16:39.918Z"
   },
   {
    "duration": 48,
    "start_time": "2022-03-06T03:16:39.923Z"
   },
   {
    "duration": 9,
    "start_time": "2022-03-06T03:16:39.972Z"
   },
   {
    "duration": 5,
    "start_time": "2022-03-06T03:16:39.983Z"
   },
   {
    "duration": 4,
    "start_time": "2022-03-06T03:16:40.006Z"
   },
   {
    "duration": 11,
    "start_time": "2022-03-06T03:16:40.012Z"
   },
   {
    "duration": 3,
    "start_time": "2022-03-06T03:16:40.025Z"
   },
   {
    "duration": 31,
    "start_time": "2022-03-06T03:16:40.029Z"
   },
   {
    "duration": 11,
    "start_time": "2022-03-06T03:16:40.061Z"
   },
   {
    "duration": 31,
    "start_time": "2022-03-06T03:16:40.074Z"
   },
   {
    "duration": 9,
    "start_time": "2022-03-06T03:16:40.106Z"
   },
   {
    "duration": 14,
    "start_time": "2022-03-06T03:16:40.116Z"
   },
   {
    "duration": 3,
    "start_time": "2022-03-06T03:16:40.131Z"
   },
   {
    "duration": 8,
    "start_time": "2022-03-06T03:16:40.135Z"
   },
   {
    "duration": 9,
    "start_time": "2022-03-06T03:16:40.144Z"
   },
   {
    "duration": 10,
    "start_time": "2022-03-06T03:16:40.154Z"
   },
   {
    "duration": 10,
    "start_time": "2022-03-06T03:16:40.165Z"
   },
   {
    "duration": 60,
    "start_time": "2022-03-06T03:16:40.176Z"
   },
   {
    "duration": 5,
    "start_time": "2022-03-06T03:16:40.238Z"
   },
   {
    "duration": 9,
    "start_time": "2022-03-06T03:16:40.244Z"
   },
   {
    "duration": 58,
    "start_time": "2022-03-06T03:16:40.254Z"
   },
   {
    "duration": 22,
    "start_time": "2022-03-06T03:16:40.314Z"
   },
   {
    "duration": 27,
    "start_time": "2022-03-06T03:16:40.338Z"
   },
   {
    "duration": 42,
    "start_time": "2022-03-06T03:16:40.367Z"
   },
   {
    "duration": 22,
    "start_time": "2022-03-06T03:16:40.411Z"
   },
   {
    "duration": 17,
    "start_time": "2022-03-06T03:16:40.434Z"
   },
   {
    "duration": 89,
    "start_time": "2022-03-06T03:16:40.452Z"
   },
   {
    "duration": 9,
    "start_time": "2022-03-06T03:16:40.542Z"
   },
   {
    "duration": 8,
    "start_time": "2022-03-06T03:16:40.552Z"
   },
   {
    "duration": 12,
    "start_time": "2022-03-06T03:16:40.561Z"
   },
   {
    "duration": 237,
    "start_time": "2022-03-06T03:16:40.574Z"
   },
   {
    "duration": 12,
    "start_time": "2022-03-06T03:16:40.812Z"
   },
   {
    "duration": 297,
    "start_time": "2022-03-06T03:16:40.825Z"
   },
   {
    "duration": 10,
    "start_time": "2022-03-06T03:16:41.123Z"
   },
   {
    "duration": 134,
    "start_time": "2022-03-06T03:16:41.135Z"
   },
   {
    "duration": 121,
    "start_time": "2022-03-06T03:16:41.271Z"
   },
   {
    "duration": 21,
    "start_time": "2022-03-06T03:16:41.393Z"
   },
   {
    "duration": 1065,
    "start_time": "2022-03-06T03:16:41.416Z"
   },
   {
    "duration": -46,
    "start_time": "2022-03-06T03:16:42.529Z"
   },
   {
    "duration": -51,
    "start_time": "2022-03-06T03:16:42.534Z"
   },
   {
    "duration": -53,
    "start_time": "2022-03-06T03:16:42.537Z"
   },
   {
    "duration": -57,
    "start_time": "2022-03-06T03:16:42.542Z"
   },
   {
    "duration": -60,
    "start_time": "2022-03-06T03:16:42.546Z"
   },
   {
    "duration": 744,
    "start_time": "2022-03-06T03:17:17.434Z"
   },
   {
    "duration": 12,
    "start_time": "2022-03-06T03:17:28.651Z"
   },
   {
    "duration": 13,
    "start_time": "2022-03-06T03:18:04.069Z"
   },
   {
    "duration": 698,
    "start_time": "2022-03-06T03:18:26.683Z"
   },
   {
    "duration": 688,
    "start_time": "2022-03-06T03:19:19.119Z"
   },
   {
    "duration": 691,
    "start_time": "2022-03-06T03:19:38.285Z"
   },
   {
    "duration": 9,
    "start_time": "2022-03-06T03:19:58.042Z"
   },
   {
    "duration": 204,
    "start_time": "2022-03-07T01:09:52.444Z"
   },
   {
    "duration": 1098,
    "start_time": "2022-03-07T01:10:02.686Z"
   },
   {
    "duration": 264,
    "start_time": "2022-03-07T01:10:03.786Z"
   },
   {
    "duration": 5,
    "start_time": "2022-03-07T01:10:04.052Z"
   },
   {
    "duration": 11,
    "start_time": "2022-03-07T01:10:04.059Z"
   },
   {
    "duration": 6,
    "start_time": "2022-03-07T01:10:04.072Z"
   },
   {
    "duration": 11,
    "start_time": "2022-03-07T01:10:04.079Z"
   },
   {
    "duration": 5,
    "start_time": "2022-03-07T01:10:04.091Z"
   },
   {
    "duration": 5,
    "start_time": "2022-03-07T01:10:04.099Z"
   },
   {
    "duration": 2,
    "start_time": "2022-03-07T01:10:04.106Z"
   },
   {
    "duration": 36,
    "start_time": "2022-03-07T01:10:04.110Z"
   },
   {
    "duration": 3,
    "start_time": "2022-03-07T01:10:04.148Z"
   },
   {
    "duration": 6,
    "start_time": "2022-03-07T01:10:04.153Z"
   },
   {
    "duration": 18,
    "start_time": "2022-03-07T01:10:04.160Z"
   },
   {
    "duration": 16,
    "start_time": "2022-03-07T01:10:04.179Z"
   },
   {
    "duration": 7,
    "start_time": "2022-03-07T01:10:04.196Z"
   },
   {
    "duration": 9,
    "start_time": "2022-03-07T01:10:04.233Z"
   },
   {
    "duration": 5,
    "start_time": "2022-03-07T01:10:04.243Z"
   },
   {
    "duration": 20,
    "start_time": "2022-03-07T01:10:04.249Z"
   },
   {
    "duration": 4,
    "start_time": "2022-03-07T01:10:04.271Z"
   },
   {
    "duration": 78,
    "start_time": "2022-03-07T01:10:04.276Z"
   },
   {
    "duration": 11,
    "start_time": "2022-03-07T01:10:04.355Z"
   },
   {
    "duration": 7,
    "start_time": "2022-03-07T01:10:04.367Z"
   },
   {
    "duration": 7,
    "start_time": "2022-03-07T01:10:04.378Z"
   },
   {
    "duration": 14,
    "start_time": "2022-03-07T01:10:04.387Z"
   },
   {
    "duration": 33,
    "start_time": "2022-03-07T01:10:04.402Z"
   },
   {
    "duration": 42,
    "start_time": "2022-03-07T01:10:04.437Z"
   },
   {
    "duration": 14,
    "start_time": "2022-03-07T01:10:04.481Z"
   },
   {
    "duration": 7,
    "start_time": "2022-03-07T01:10:04.497Z"
   },
   {
    "duration": 35,
    "start_time": "2022-03-07T01:10:04.506Z"
   },
   {
    "duration": 16,
    "start_time": "2022-03-07T01:10:04.543Z"
   },
   {
    "duration": 4,
    "start_time": "2022-03-07T01:10:04.561Z"
   },
   {
    "duration": 4,
    "start_time": "2022-03-07T01:10:04.567Z"
   },
   {
    "duration": 6,
    "start_time": "2022-03-07T01:10:04.573Z"
   },
   {
    "duration": 12,
    "start_time": "2022-03-07T01:10:04.580Z"
   },
   {
    "duration": 49,
    "start_time": "2022-03-07T01:10:04.593Z"
   },
   {
    "duration": 40,
    "start_time": "2022-03-07T01:10:04.643Z"
   },
   {
    "duration": 5,
    "start_time": "2022-03-07T01:10:04.685Z"
   },
   {
    "duration": 8,
    "start_time": "2022-03-07T01:10:04.692Z"
   },
   {
    "duration": 40,
    "start_time": "2022-03-07T01:10:04.734Z"
   },
   {
    "duration": 26,
    "start_time": "2022-03-07T01:10:04.776Z"
   },
   {
    "duration": 50,
    "start_time": "2022-03-07T01:10:04.803Z"
   },
   {
    "duration": 29,
    "start_time": "2022-03-07T01:10:04.854Z"
   },
   {
    "duration": 25,
    "start_time": "2022-03-07T01:10:04.884Z"
   },
   {
    "duration": 41,
    "start_time": "2022-03-07T01:10:04.910Z"
   },
   {
    "duration": 88,
    "start_time": "2022-03-07T01:10:04.953Z"
   },
   {
    "duration": 10,
    "start_time": "2022-03-07T01:10:05.043Z"
   },
   {
    "duration": 10,
    "start_time": "2022-03-07T01:10:05.054Z"
   },
   {
    "duration": 15,
    "start_time": "2022-03-07T01:10:05.066Z"
   },
   {
    "duration": 259,
    "start_time": "2022-03-07T01:10:05.082Z"
   },
   {
    "duration": 14,
    "start_time": "2022-03-07T01:10:05.342Z"
   },
   {
    "duration": 337,
    "start_time": "2022-03-07T01:10:05.357Z"
   },
   {
    "duration": 11,
    "start_time": "2022-03-07T01:10:05.696Z"
   },
   {
    "duration": 147,
    "start_time": "2022-03-07T01:10:05.709Z"
   },
   {
    "duration": 141,
    "start_time": "2022-03-07T01:10:05.858Z"
   },
   {
    "duration": 14,
    "start_time": "2022-03-07T01:10:06.001Z"
   },
   {
    "duration": 730,
    "start_time": "2022-03-07T01:10:06.033Z"
   },
   {
    "duration": 15,
    "start_time": "2022-03-07T01:10:06.764Z"
   },
   {
    "duration": 825,
    "start_time": "2022-03-07T01:10:06.781Z"
   },
   {
    "duration": 11,
    "start_time": "2022-03-07T01:10:07.608Z"
   },
   {
    "duration": 59,
    "start_time": "2022-03-07T01:10:07.654Z"
   },
   {
    "duration": 490,
    "start_time": "2022-03-07T01:10:07.225Z"
   },
   {
    "duration": 486,
    "start_time": "2022-03-07T01:10:07.230Z"
   },
   {
    "duration": 3,
    "start_time": "2022-03-07T01:10:29.122Z"
   },
   {
    "duration": 261,
    "start_time": "2022-03-07T01:10:31.612Z"
   },
   {
    "duration": 9,
    "start_time": "2022-03-07T01:10:34.145Z"
   },
   {
    "duration": 9,
    "start_time": "2022-03-07T01:10:40.964Z"
   },
   {
    "duration": 11,
    "start_time": "2022-03-07T01:10:54.612Z"
   },
   {
    "duration": 16,
    "start_time": "2022-03-07T01:11:13.698Z"
   },
   {
    "duration": 228,
    "start_time": "2022-03-07T01:19:24.276Z"
   },
   {
    "duration": 15,
    "start_time": "2022-03-07T01:19:39.934Z"
   },
   {
    "duration": 16,
    "start_time": "2022-03-07T01:19:56.532Z"
   },
   {
    "duration": 15,
    "start_time": "2022-03-07T01:20:46.044Z"
   },
   {
    "duration": 15,
    "start_time": "2022-03-07T01:21:40.648Z"
   },
   {
    "duration": 14,
    "start_time": "2022-03-07T01:21:54.615Z"
   },
   {
    "duration": 14,
    "start_time": "2022-03-07T01:24:11.814Z"
   },
   {
    "duration": 330,
    "start_time": "2022-03-07T01:25:08.233Z"
   },
   {
    "duration": 10,
    "start_time": "2022-03-07T01:36:24.585Z"
   },
   {
    "duration": 9,
    "start_time": "2022-03-07T01:39:49.658Z"
   },
   {
    "duration": 184,
    "start_time": "2022-03-07T01:41:18.455Z"
   },
   {
    "duration": 10,
    "start_time": "2022-03-07T01:41:45.990Z"
   },
   {
    "duration": 5,
    "start_time": "2022-03-07T01:43:08.608Z"
   },
   {
    "duration": 3,
    "start_time": "2022-03-07T01:45:19.508Z"
   },
   {
    "duration": 10,
    "start_time": "2022-03-07T01:48:38.186Z"
   },
   {
    "duration": 25,
    "start_time": "2022-03-07T02:08:00.398Z"
   },
   {
    "duration": 4864,
    "start_time": "2022-03-07T02:08:19.018Z"
   },
   {
    "duration": 199,
    "start_time": "2022-03-07T02:10:42.587Z"
   },
   {
    "duration": 205,
    "start_time": "2022-03-07T02:10:57.952Z"
   },
   {
    "duration": 248,
    "start_time": "2022-03-07T02:11:22.164Z"
   },
   {
    "duration": 192,
    "start_time": "2022-03-07T02:11:37.348Z"
   },
   {
    "duration": 1116,
    "start_time": "2022-03-07T02:21:01.163Z"
   },
   {
    "duration": 271,
    "start_time": "2022-03-07T02:21:02.281Z"
   },
   {
    "duration": 7,
    "start_time": "2022-03-07T02:21:02.554Z"
   },
   {
    "duration": 13,
    "start_time": "2022-03-07T02:21:02.563Z"
   },
   {
    "duration": 6,
    "start_time": "2022-03-07T02:21:02.577Z"
   },
   {
    "duration": 11,
    "start_time": "2022-03-07T02:21:02.585Z"
   },
   {
    "duration": 5,
    "start_time": "2022-03-07T02:21:02.598Z"
   },
   {
    "duration": 5,
    "start_time": "2022-03-07T02:21:02.605Z"
   },
   {
    "duration": 8,
    "start_time": "2022-03-07T02:21:02.612Z"
   },
   {
    "duration": 25,
    "start_time": "2022-03-07T02:21:02.621Z"
   },
   {
    "duration": 8,
    "start_time": "2022-03-07T02:21:02.649Z"
   },
   {
    "duration": 14,
    "start_time": "2022-03-07T02:21:02.660Z"
   },
   {
    "duration": 27,
    "start_time": "2022-03-07T02:21:02.676Z"
   },
   {
    "duration": 28,
    "start_time": "2022-03-07T02:21:02.705Z"
   },
   {
    "duration": 8,
    "start_time": "2022-03-07T02:21:02.734Z"
   },
   {
    "duration": 10,
    "start_time": "2022-03-07T02:21:02.743Z"
   },
   {
    "duration": 4,
    "start_time": "2022-03-07T02:21:02.755Z"
   },
   {
    "duration": 20,
    "start_time": "2022-03-07T02:21:02.761Z"
   },
   {
    "duration": 4,
    "start_time": "2022-03-07T02:21:02.783Z"
   },
   {
    "duration": 81,
    "start_time": "2022-03-07T02:21:02.788Z"
   },
   {
    "duration": 10,
    "start_time": "2022-03-07T02:21:02.871Z"
   },
   {
    "duration": 7,
    "start_time": "2022-03-07T02:21:02.883Z"
   },
   {
    "duration": 5,
    "start_time": "2022-03-07T02:21:02.894Z"
   },
   {
    "duration": 39,
    "start_time": "2022-03-07T02:21:02.901Z"
   },
   {
    "duration": 4,
    "start_time": "2022-03-07T02:21:02.941Z"
   },
   {
    "duration": 34,
    "start_time": "2022-03-07T02:21:02.947Z"
   },
   {
    "duration": 14,
    "start_time": "2022-03-07T02:21:02.983Z"
   },
   {
    "duration": 35,
    "start_time": "2022-03-07T02:21:02.999Z"
   },
   {
    "duration": 10,
    "start_time": "2022-03-07T02:21:03.036Z"
   },
   {
    "duration": 15,
    "start_time": "2022-03-07T02:21:03.047Z"
   },
   {
    "duration": 4,
    "start_time": "2022-03-07T02:21:03.064Z"
   },
   {
    "duration": 7,
    "start_time": "2022-03-07T02:21:03.069Z"
   },
   {
    "duration": 5,
    "start_time": "2022-03-07T02:21:03.077Z"
   },
   {
    "duration": 16,
    "start_time": "2022-03-07T02:21:03.084Z"
   },
   {
    "duration": 38,
    "start_time": "2022-03-07T02:21:03.102Z"
   },
   {
    "duration": 42,
    "start_time": "2022-03-07T02:21:03.142Z"
   },
   {
    "duration": 6,
    "start_time": "2022-03-07T02:21:03.185Z"
   },
   {
    "duration": 7,
    "start_time": "2022-03-07T02:21:03.193Z"
   },
   {
    "duration": 67,
    "start_time": "2022-03-07T02:21:03.202Z"
   },
   {
    "duration": 27,
    "start_time": "2022-03-07T02:21:03.271Z"
   },
   {
    "duration": 40,
    "start_time": "2022-03-07T02:21:03.299Z"
   },
   {
    "duration": 29,
    "start_time": "2022-03-07T02:21:03.341Z"
   },
   {
    "duration": 25,
    "start_time": "2022-03-07T02:21:03.372Z"
   },
   {
    "duration": 40,
    "start_time": "2022-03-07T02:21:03.399Z"
   },
   {
    "duration": 79,
    "start_time": "2022-03-07T02:21:03.441Z"
   },
   {
    "duration": 20,
    "start_time": "2022-03-07T02:21:03.522Z"
   },
   {
    "duration": 7,
    "start_time": "2022-03-07T02:21:03.543Z"
   },
   {
    "duration": 13,
    "start_time": "2022-03-07T02:21:03.552Z"
   },
   {
    "duration": 269,
    "start_time": "2022-03-07T02:21:03.566Z"
   },
   {
    "duration": 13,
    "start_time": "2022-03-07T02:21:03.837Z"
   },
   {
    "duration": 333,
    "start_time": "2022-03-07T02:21:03.852Z"
   },
   {
    "duration": 11,
    "start_time": "2022-03-07T02:21:04.187Z"
   },
   {
    "duration": 154,
    "start_time": "2022-03-07T02:21:04.200Z"
   },
   {
    "duration": 154,
    "start_time": "2022-03-07T02:21:04.355Z"
   },
   {
    "duration": 21,
    "start_time": "2022-03-07T02:21:04.511Z"
   },
   {
    "duration": 736,
    "start_time": "2022-03-07T02:21:04.534Z"
   },
   {
    "duration": 14,
    "start_time": "2022-03-07T02:21:05.271Z"
   },
   {
    "duration": 808,
    "start_time": "2022-03-07T02:21:05.286Z"
   },
   {
    "duration": 10,
    "start_time": "2022-03-07T02:21:06.096Z"
   },
   {
    "duration": 12,
    "start_time": "2022-03-07T02:21:06.108Z"
   },
   {
    "duration": 9,
    "start_time": "2022-03-07T02:21:06.133Z"
   },
   {
    "duration": 3,
    "start_time": "2022-03-07T02:21:06.144Z"
   },
   {
    "duration": 10,
    "start_time": "2022-03-07T02:32:23.880Z"
   },
   {
    "duration": 93,
    "start_time": "2022-03-07T02:41:40.518Z"
   },
   {
    "duration": 10,
    "start_time": "2022-03-07T02:42:06.329Z"
   },
   {
    "duration": 19,
    "start_time": "2022-03-07T02:59:58.988Z"
   },
   {
    "duration": 17,
    "start_time": "2022-03-07T03:00:19.420Z"
   },
   {
    "duration": 299,
    "start_time": "2022-03-07T03:01:55.057Z"
   },
   {
    "duration": 175,
    "start_time": "2022-03-07T03:02:01.900Z"
   },
   {
    "duration": 5,
    "start_time": "2022-03-07T03:02:17.063Z"
   },
   {
    "duration": 5,
    "start_time": "2022-03-07T03:10:41.829Z"
   },
   {
    "duration": 3,
    "start_time": "2022-03-07T03:13:10.003Z"
   },
   {
    "duration": 166,
    "start_time": "2022-03-07T03:13:11.740Z"
   },
   {
    "duration": 4574,
    "start_time": "2022-03-07T03:13:28.114Z"
   },
   {
    "duration": 643,
    "start_time": "2022-03-07T03:13:45.668Z"
   },
   {
    "duration": 525,
    "start_time": "2022-03-07T03:14:04.642Z"
   },
   {
    "duration": 630,
    "start_time": "2022-03-07T03:20:34.670Z"
   },
   {
    "duration": 524,
    "start_time": "2022-03-07T03:20:54.557Z"
   },
   {
    "duration": 470,
    "start_time": "2022-03-07T03:22:32.220Z"
   },
   {
    "duration": 4081,
    "start_time": "2022-03-07T03:22:36.124Z"
   },
   {
    "duration": 4100,
    "start_time": "2022-03-07T03:22:55.646Z"
   },
   {
    "duration": 4145,
    "start_time": "2022-03-07T03:23:49.991Z"
   },
   {
    "duration": 535,
    "start_time": "2022-03-07T03:23:57.722Z"
   },
   {
    "duration": 3993,
    "start_time": "2022-03-07T03:24:25.816Z"
   },
   {
    "duration": 4310,
    "start_time": "2022-03-07T03:25:14.511Z"
   },
   {
    "duration": 16,
    "start_time": "2022-03-07T03:25:28.606Z"
   },
   {
    "duration": 444,
    "start_time": "2022-03-07T03:26:16.025Z"
   },
   {
    "duration": 518,
    "start_time": "2022-03-07T03:26:33.053Z"
   },
   {
    "duration": 477,
    "start_time": "2022-03-07T03:26:49.235Z"
   },
   {
    "duration": 7,
    "start_time": "2022-03-07T03:35:00.903Z"
   },
   {
    "duration": 7,
    "start_time": "2022-03-07T03:35:09.311Z"
   },
   {
    "duration": 4,
    "start_time": "2022-03-07T03:41:11.773Z"
   },
   {
    "duration": 12,
    "start_time": "2022-03-07T04:01:48.806Z"
   },
   {
    "duration": 5,
    "start_time": "2022-03-07T04:04:56.789Z"
   },
   {
    "duration": 12,
    "start_time": "2022-03-07T04:12:15.367Z"
   },
   {
    "duration": 19,
    "start_time": "2022-03-07T04:13:59.397Z"
   },
   {
    "duration": 19,
    "start_time": "2022-03-07T04:14:25.150Z"
   },
   {
    "duration": 11,
    "start_time": "2022-03-07T04:14:38.857Z"
   },
   {
    "duration": 205,
    "start_time": "2022-03-07T04:15:27.107Z"
   },
   {
    "duration": 331,
    "start_time": "2022-03-07T22:59:33.012Z"
   },
   {
    "duration": 1113,
    "start_time": "2022-03-07T22:59:59.623Z"
   },
   {
    "duration": 294,
    "start_time": "2022-03-07T23:00:00.738Z"
   },
   {
    "duration": 6,
    "start_time": "2022-03-07T23:00:01.034Z"
   },
   {
    "duration": 29,
    "start_time": "2022-03-07T23:00:01.042Z"
   },
   {
    "duration": 26,
    "start_time": "2022-03-07T23:00:01.072Z"
   },
   {
    "duration": 17,
    "start_time": "2022-03-07T23:00:01.099Z"
   },
   {
    "duration": 14,
    "start_time": "2022-03-07T23:00:01.117Z"
   },
   {
    "duration": 9,
    "start_time": "2022-03-07T23:00:01.133Z"
   },
   {
    "duration": 16,
    "start_time": "2022-03-07T23:00:01.144Z"
   },
   {
    "duration": 19,
    "start_time": "2022-03-07T23:00:01.162Z"
   },
   {
    "duration": 3,
    "start_time": "2022-03-07T23:00:01.182Z"
   },
   {
    "duration": 12,
    "start_time": "2022-03-07T23:00:01.186Z"
   },
   {
    "duration": 17,
    "start_time": "2022-03-07T23:00:01.199Z"
   },
   {
    "duration": 18,
    "start_time": "2022-03-07T23:00:01.217Z"
   },
   {
    "duration": 7,
    "start_time": "2022-03-07T23:00:01.236Z"
   },
   {
    "duration": 11,
    "start_time": "2022-03-07T23:00:01.244Z"
   },
   {
    "duration": 4,
    "start_time": "2022-03-07T23:00:01.257Z"
   },
   {
    "duration": 20,
    "start_time": "2022-03-07T23:00:01.262Z"
   },
   {
    "duration": 15,
    "start_time": "2022-03-07T23:00:01.284Z"
   },
   {
    "duration": 82,
    "start_time": "2022-03-07T23:00:01.305Z"
   },
   {
    "duration": 16,
    "start_time": "2022-03-07T23:00:01.389Z"
   },
   {
    "duration": 14,
    "start_time": "2022-03-07T23:00:01.407Z"
   },
   {
    "duration": 6,
    "start_time": "2022-03-07T23:00:01.426Z"
   },
   {
    "duration": 16,
    "start_time": "2022-03-07T23:00:01.434Z"
   },
   {
    "duration": 3,
    "start_time": "2022-03-07T23:00:01.451Z"
   },
   {
    "duration": 32,
    "start_time": "2022-03-07T23:00:01.456Z"
   },
   {
    "duration": 24,
    "start_time": "2022-03-07T23:00:01.490Z"
   },
   {
    "duration": 7,
    "start_time": "2022-03-07T23:00:01.516Z"
   },
   {
    "duration": 14,
    "start_time": "2022-03-07T23:00:01.525Z"
   },
   {
    "duration": 15,
    "start_time": "2022-03-07T23:00:01.541Z"
   },
   {
    "duration": 5,
    "start_time": "2022-03-07T23:00:01.557Z"
   },
   {
    "duration": 6,
    "start_time": "2022-03-07T23:00:01.564Z"
   },
   {
    "duration": 13,
    "start_time": "2022-03-07T23:00:01.571Z"
   },
   {
    "duration": 30,
    "start_time": "2022-03-07T23:00:01.585Z"
   },
   {
    "duration": 14,
    "start_time": "2022-03-07T23:00:01.616Z"
   },
   {
    "duration": 43,
    "start_time": "2022-03-07T23:00:01.631Z"
   },
   {
    "duration": 6,
    "start_time": "2022-03-07T23:00:01.675Z"
   },
   {
    "duration": 33,
    "start_time": "2022-03-07T23:00:01.682Z"
   },
   {
    "duration": 46,
    "start_time": "2022-03-07T23:00:01.717Z"
   },
   {
    "duration": 25,
    "start_time": "2022-03-07T23:00:01.765Z"
   },
   {
    "duration": 32,
    "start_time": "2022-03-07T23:00:01.792Z"
   },
   {
    "duration": 29,
    "start_time": "2022-03-07T23:00:01.825Z"
   },
   {
    "duration": 23,
    "start_time": "2022-03-07T23:00:01.856Z"
   },
   {
    "duration": 40,
    "start_time": "2022-03-07T23:00:01.881Z"
   },
   {
    "duration": 82,
    "start_time": "2022-03-07T23:00:01.923Z"
   },
   {
    "duration": 15,
    "start_time": "2022-03-07T23:00:02.007Z"
   },
   {
    "duration": 6,
    "start_time": "2022-03-07T23:00:02.024Z"
   },
   {
    "duration": 13,
    "start_time": "2022-03-07T23:00:02.031Z"
   },
   {
    "duration": 248,
    "start_time": "2022-03-07T23:00:02.045Z"
   },
   {
    "duration": 18,
    "start_time": "2022-03-07T23:00:02.295Z"
   },
   {
    "duration": 308,
    "start_time": "2022-03-07T23:00:02.315Z"
   },
   {
    "duration": 11,
    "start_time": "2022-03-07T23:00:02.625Z"
   },
   {
    "duration": 140,
    "start_time": "2022-03-07T23:00:02.637Z"
   },
   {
    "duration": 127,
    "start_time": "2022-03-07T23:00:02.779Z"
   },
   {
    "duration": 12,
    "start_time": "2022-03-07T23:00:02.908Z"
   },
   {
    "duration": 761,
    "start_time": "2022-03-07T23:00:02.921Z"
   },
   {
    "duration": 23,
    "start_time": "2022-03-07T23:00:03.683Z"
   },
   {
    "duration": 843,
    "start_time": "2022-03-07T23:00:03.707Z"
   },
   {
    "duration": 10,
    "start_time": "2022-03-07T23:00:04.551Z"
   },
   {
    "duration": 9,
    "start_time": "2022-03-07T23:00:04.563Z"
   },
   {
    "duration": 7,
    "start_time": "2022-03-07T23:00:04.573Z"
   },
   {
    "duration": 28,
    "start_time": "2022-03-07T23:00:04.582Z"
   },
   {
    "duration": 15,
    "start_time": "2022-03-07T23:00:04.611Z"
   },
   {
    "duration": 8,
    "start_time": "2022-03-07T23:00:04.627Z"
   },
   {
    "duration": 380,
    "start_time": "2022-03-07T23:00:04.636Z"
   },
   {
    "duration": -851,
    "start_time": "2022-03-07T23:00:05.869Z"
   },
   {
    "duration": 305,
    "start_time": "2022-03-07T23:00:30.668Z"
   },
   {
    "duration": 1022,
    "start_time": "2022-03-07T23:00:55.003Z"
   },
   {
    "duration": 274,
    "start_time": "2022-03-07T23:00:56.026Z"
   },
   {
    "duration": 6,
    "start_time": "2022-03-07T23:00:56.302Z"
   },
   {
    "duration": 12,
    "start_time": "2022-03-07T23:00:56.309Z"
   },
   {
    "duration": 5,
    "start_time": "2022-03-07T23:00:56.323Z"
   },
   {
    "duration": 9,
    "start_time": "2022-03-07T23:00:56.329Z"
   },
   {
    "duration": 4,
    "start_time": "2022-03-07T23:00:56.340Z"
   },
   {
    "duration": 4,
    "start_time": "2022-03-07T23:00:56.346Z"
   },
   {
    "duration": 3,
    "start_time": "2022-03-07T23:00:56.352Z"
   },
   {
    "duration": 15,
    "start_time": "2022-03-07T23:00:56.357Z"
   },
   {
    "duration": 32,
    "start_time": "2022-03-07T23:00:56.373Z"
   },
   {
    "duration": 5,
    "start_time": "2022-03-07T23:00:56.406Z"
   },
   {
    "duration": 16,
    "start_time": "2022-03-07T23:00:56.412Z"
   },
   {
    "duration": 13,
    "start_time": "2022-03-07T23:00:56.430Z"
   },
   {
    "duration": 6,
    "start_time": "2022-03-07T23:00:56.444Z"
   },
   {
    "duration": 9,
    "start_time": "2022-03-07T23:00:56.452Z"
   },
   {
    "duration": 3,
    "start_time": "2022-03-07T23:00:56.463Z"
   },
   {
    "duration": 45,
    "start_time": "2022-03-07T23:00:56.468Z"
   },
   {
    "duration": 3,
    "start_time": "2022-03-07T23:00:56.514Z"
   },
   {
    "duration": 48,
    "start_time": "2022-03-07T23:00:56.519Z"
   },
   {
    "duration": 9,
    "start_time": "2022-03-07T23:00:56.568Z"
   },
   {
    "duration": 26,
    "start_time": "2022-03-07T23:00:56.579Z"
   },
   {
    "duration": 4,
    "start_time": "2022-03-07T23:00:56.609Z"
   },
   {
    "duration": 11,
    "start_time": "2022-03-07T23:00:56.615Z"
   },
   {
    "duration": 3,
    "start_time": "2022-03-07T23:00:56.628Z"
   },
   {
    "duration": 32,
    "start_time": "2022-03-07T23:00:56.632Z"
   },
   {
    "duration": 12,
    "start_time": "2022-03-07T23:00:56.665Z"
   },
   {
    "duration": 31,
    "start_time": "2022-03-07T23:00:56.678Z"
   },
   {
    "duration": 11,
    "start_time": "2022-03-07T23:00:56.710Z"
   },
   {
    "duration": 13,
    "start_time": "2022-03-07T23:00:56.723Z"
   },
   {
    "duration": 3,
    "start_time": "2022-03-07T23:00:56.737Z"
   },
   {
    "duration": 6,
    "start_time": "2022-03-07T23:00:56.741Z"
   },
   {
    "duration": 6,
    "start_time": "2022-03-07T23:00:56.749Z"
   },
   {
    "duration": 9,
    "start_time": "2022-03-07T23:00:56.757Z"
   },
   {
    "duration": 8,
    "start_time": "2022-03-07T23:00:56.767Z"
   },
   {
    "duration": 61,
    "start_time": "2022-03-07T23:00:56.777Z"
   },
   {
    "duration": 6,
    "start_time": "2022-03-07T23:00:56.839Z"
   },
   {
    "duration": 6,
    "start_time": "2022-03-07T23:00:56.846Z"
   },
   {
    "duration": 57,
    "start_time": "2022-03-07T23:00:56.854Z"
   },
   {
    "duration": 22,
    "start_time": "2022-03-07T23:00:56.913Z"
   },
   {
    "duration": 26,
    "start_time": "2022-03-07T23:00:56.936Z"
   },
   {
    "duration": 43,
    "start_time": "2022-03-07T23:00:56.963Z"
   },
   {
    "duration": 22,
    "start_time": "2022-03-07T23:00:57.007Z"
   },
   {
    "duration": 18,
    "start_time": "2022-03-07T23:00:57.030Z"
   },
   {
    "duration": 99,
    "start_time": "2022-03-07T23:00:57.050Z"
   },
   {
    "duration": 14,
    "start_time": "2022-03-07T23:00:57.151Z"
   },
   {
    "duration": 7,
    "start_time": "2022-03-07T23:00:57.166Z"
   },
   {
    "duration": 14,
    "start_time": "2022-03-07T23:00:57.175Z"
   },
   {
    "duration": 236,
    "start_time": "2022-03-07T23:00:57.191Z"
   },
   {
    "duration": 14,
    "start_time": "2022-03-07T23:00:57.429Z"
   },
   {
    "duration": 306,
    "start_time": "2022-03-07T23:00:57.444Z"
   },
   {
    "duration": 10,
    "start_time": "2022-03-07T23:00:57.752Z"
   },
   {
    "duration": 149,
    "start_time": "2022-03-07T23:00:57.764Z"
   },
   {
    "duration": 127,
    "start_time": "2022-03-07T23:00:57.915Z"
   },
   {
    "duration": 12,
    "start_time": "2022-03-07T23:00:58.044Z"
   },
   {
    "duration": 711,
    "start_time": "2022-03-07T23:00:58.058Z"
   },
   {
    "duration": 11,
    "start_time": "2022-03-07T23:00:58.771Z"
   },
   {
    "duration": 754,
    "start_time": "2022-03-07T23:00:58.783Z"
   },
   {
    "duration": 9,
    "start_time": "2022-03-07T23:00:59.538Z"
   },
   {
    "duration": 9,
    "start_time": "2022-03-07T23:00:59.548Z"
   },
   {
    "duration": 6,
    "start_time": "2022-03-07T23:00:59.558Z"
   },
   {
    "duration": 7,
    "start_time": "2022-03-07T23:00:59.565Z"
   },
   {
    "duration": 32,
    "start_time": "2022-03-07T23:00:59.574Z"
   },
   {
    "duration": 4,
    "start_time": "2022-03-07T23:00:59.607Z"
   },
   {
    "duration": 382,
    "start_time": "2022-03-07T23:00:59.613Z"
   },
   {
    "duration": -1568,
    "start_time": "2022-03-07T23:01:01.564Z"
   },
   {
    "duration": 344,
    "start_time": "2022-03-07T23:01:07.164Z"
   },
   {
    "duration": 10,
    "start_time": "2022-03-07T23:01:25.596Z"
   },
   {
    "duration": 5,
    "start_time": "2022-03-07T23:09:50.480Z"
   },
   {
    "duration": 6,
    "start_time": "2022-03-08T00:44:36.261Z"
   },
   {
    "duration": 6,
    "start_time": "2022-03-08T00:45:29.994Z"
   },
   {
    "duration": 7,
    "start_time": "2022-03-08T00:46:04.308Z"
   },
   {
    "duration": 1076,
    "start_time": "2022-03-08T00:46:12.948Z"
   },
   {
    "duration": 268,
    "start_time": "2022-03-08T00:46:14.026Z"
   },
   {
    "duration": 6,
    "start_time": "2022-03-08T00:46:14.296Z"
   },
   {
    "duration": 11,
    "start_time": "2022-03-08T00:46:14.304Z"
   },
   {
    "duration": 7,
    "start_time": "2022-03-08T00:46:14.316Z"
   },
   {
    "duration": 9,
    "start_time": "2022-03-08T00:46:14.325Z"
   },
   {
    "duration": 9,
    "start_time": "2022-03-08T00:46:14.335Z"
   },
   {
    "duration": 7,
    "start_time": "2022-03-08T00:46:14.346Z"
   },
   {
    "duration": 7,
    "start_time": "2022-03-08T00:46:14.355Z"
   },
   {
    "duration": 19,
    "start_time": "2022-03-08T00:46:14.363Z"
   },
   {
    "duration": 19,
    "start_time": "2022-03-08T00:46:14.384Z"
   },
   {
    "duration": 8,
    "start_time": "2022-03-08T00:46:14.404Z"
   },
   {
    "duration": 6,
    "start_time": "2022-03-08T00:46:14.413Z"
   },
   {
    "duration": 13,
    "start_time": "2022-03-08T00:46:14.421Z"
   },
   {
    "duration": 13,
    "start_time": "2022-03-08T00:46:14.436Z"
   },
   {
    "duration": 6,
    "start_time": "2022-03-08T00:46:14.451Z"
   },
   {
    "duration": 9,
    "start_time": "2022-03-08T00:46:14.458Z"
   },
   {
    "duration": 3,
    "start_time": "2022-03-08T00:46:14.469Z"
   },
   {
    "duration": 48,
    "start_time": "2022-03-08T00:46:14.474Z"
   },
   {
    "duration": 4,
    "start_time": "2022-03-08T00:46:14.523Z"
   },
   {
    "duration": 50,
    "start_time": "2022-03-08T00:46:14.528Z"
   },
   {
    "duration": 10,
    "start_time": "2022-03-08T00:46:14.579Z"
   },
   {
    "duration": 6,
    "start_time": "2022-03-08T00:46:14.606Z"
   },
   {
    "duration": 7,
    "start_time": "2022-03-08T00:46:14.614Z"
   },
   {
    "duration": 12,
    "start_time": "2022-03-08T00:46:14.623Z"
   },
   {
    "duration": 3,
    "start_time": "2022-03-08T00:46:14.637Z"
   },
   {
    "duration": 42,
    "start_time": "2022-03-08T00:46:14.642Z"
   },
   {
    "duration": 13,
    "start_time": "2022-03-08T00:46:14.706Z"
   },
   {
    "duration": 8,
    "start_time": "2022-03-08T00:46:14.721Z"
   },
   {
    "duration": 13,
    "start_time": "2022-03-08T00:46:14.731Z"
   },
   {
    "duration": 13,
    "start_time": "2022-03-08T00:46:14.745Z"
   },
   {
    "duration": 4,
    "start_time": "2022-03-08T00:46:14.759Z"
   },
   {
    "duration": 5,
    "start_time": "2022-03-08T00:46:14.764Z"
   },
   {
    "duration": 9,
    "start_time": "2022-03-08T00:46:14.770Z"
   },
   {
    "duration": 32,
    "start_time": "2022-03-08T00:46:14.780Z"
   },
   {
    "duration": 9,
    "start_time": "2022-03-08T00:46:14.813Z"
   },
   {
    "duration": 40,
    "start_time": "2022-03-08T00:46:14.824Z"
   },
   {
    "duration": 5,
    "start_time": "2022-03-08T00:46:14.866Z"
   },
   {
    "duration": 7,
    "start_time": "2022-03-08T00:46:14.872Z"
   },
   {
    "duration": 61,
    "start_time": "2022-03-08T00:46:14.880Z"
   },
   {
    "duration": 24,
    "start_time": "2022-03-08T00:46:14.942Z"
   },
   {
    "duration": 39,
    "start_time": "2022-03-08T00:46:14.967Z"
   },
   {
    "duration": 29,
    "start_time": "2022-03-08T00:46:15.008Z"
   },
   {
    "duration": 24,
    "start_time": "2022-03-08T00:46:15.038Z"
   },
   {
    "duration": 17,
    "start_time": "2022-03-08T00:46:15.063Z"
   },
   {
    "duration": 96,
    "start_time": "2022-03-08T00:46:15.082Z"
   },
   {
    "duration": 13,
    "start_time": "2022-03-08T00:46:15.180Z"
   },
   {
    "duration": 5,
    "start_time": "2022-03-08T00:46:15.205Z"
   },
   {
    "duration": 11,
    "start_time": "2022-03-08T00:46:15.212Z"
   },
   {
    "duration": 255,
    "start_time": "2022-03-08T00:46:15.224Z"
   },
   {
    "duration": 11,
    "start_time": "2022-03-08T00:46:15.481Z"
   },
   {
    "duration": 312,
    "start_time": "2022-03-08T00:46:15.494Z"
   },
   {
    "duration": 11,
    "start_time": "2022-03-08T00:46:15.808Z"
   },
   {
    "duration": 144,
    "start_time": "2022-03-08T00:46:15.821Z"
   },
   {
    "duration": 127,
    "start_time": "2022-03-08T00:46:15.967Z"
   },
   {
    "duration": 19,
    "start_time": "2022-03-08T00:46:16.096Z"
   },
   {
    "duration": 705,
    "start_time": "2022-03-08T00:46:16.117Z"
   },
   {
    "duration": 13,
    "start_time": "2022-03-08T00:46:16.823Z"
   },
   {
    "duration": 757,
    "start_time": "2022-03-08T00:46:16.837Z"
   },
   {
    "duration": 16,
    "start_time": "2022-03-08T00:46:17.596Z"
   },
   {
    "duration": 8,
    "start_time": "2022-03-08T00:46:17.614Z"
   },
   {
    "duration": 6,
    "start_time": "2022-03-08T00:46:17.624Z"
   },
   {
    "duration": 8,
    "start_time": "2022-03-08T00:46:17.631Z"
   },
   {
    "duration": 13,
    "start_time": "2022-03-08T00:46:17.640Z"
   },
   {
    "duration": 7,
    "start_time": "2022-03-08T00:46:17.654Z"
   },
   {
    "duration": 9,
    "start_time": "2022-03-08T00:46:17.663Z"
   },
   {
    "duration": 6,
    "start_time": "2022-03-08T00:46:49.834Z"
   },
   {
    "duration": 391,
    "start_time": "2022-03-08T00:47:35.181Z"
   },
   {
    "duration": 297,
    "start_time": "2022-03-08T00:47:59.687Z"
   },
   {
    "duration": 4,
    "start_time": "2022-03-08T00:48:27.453Z"
   },
   {
    "duration": 6,
    "start_time": "2022-03-08T00:53:37.796Z"
   },
   {
    "duration": 309,
    "start_time": "2022-03-08T00:53:47.927Z"
   },
   {
    "duration": 7,
    "start_time": "2022-03-08T00:54:05.595Z"
   },
   {
    "duration": 4,
    "start_time": "2022-03-08T00:54:35.064Z"
   },
   {
    "duration": 3,
    "start_time": "2022-03-08T00:54:42.039Z"
   },
   {
    "duration": 6,
    "start_time": "2022-03-08T00:54:56.057Z"
   },
   {
    "duration": 2,
    "start_time": "2022-03-08T00:55:22.678Z"
   },
   {
    "duration": 287,
    "start_time": "2022-03-08T00:55:25.082Z"
   },
   {
    "duration": 6,
    "start_time": "2022-03-08T00:55:31.464Z"
   },
   {
    "duration": 6,
    "start_time": "2022-03-08T00:55:39.032Z"
   },
   {
    "duration": 8,
    "start_time": "2022-03-08T00:55:43.680Z"
   },
   {
    "duration": 7,
    "start_time": "2022-03-08T00:55:47.742Z"
   },
   {
    "duration": 1124,
    "start_time": "2022-03-08T15:19:13.455Z"
   },
   {
    "duration": 273,
    "start_time": "2022-03-08T15:19:14.581Z"
   },
   {
    "duration": 7,
    "start_time": "2022-03-08T15:19:14.856Z"
   },
   {
    "duration": 17,
    "start_time": "2022-03-08T15:19:14.865Z"
   },
   {
    "duration": 9,
    "start_time": "2022-03-08T15:19:14.883Z"
   },
   {
    "duration": 13,
    "start_time": "2022-03-08T15:19:14.894Z"
   },
   {
    "duration": 15,
    "start_time": "2022-03-08T15:19:14.909Z"
   },
   {
    "duration": 10,
    "start_time": "2022-03-08T15:19:14.926Z"
   },
   {
    "duration": 11,
    "start_time": "2022-03-08T15:19:14.939Z"
   },
   {
    "duration": 7,
    "start_time": "2022-03-08T15:19:14.953Z"
   },
   {
    "duration": 23,
    "start_time": "2022-03-08T15:19:14.963Z"
   },
   {
    "duration": 13,
    "start_time": "2022-03-08T15:19:14.988Z"
   },
   {
    "duration": 21,
    "start_time": "2022-03-08T15:19:15.003Z"
   },
   {
    "duration": 45,
    "start_time": "2022-03-08T15:19:15.027Z"
   },
   {
    "duration": 21,
    "start_time": "2022-03-08T15:19:15.074Z"
   },
   {
    "duration": 8,
    "start_time": "2022-03-08T15:19:15.098Z"
   },
   {
    "duration": 14,
    "start_time": "2022-03-08T15:19:15.108Z"
   },
   {
    "duration": 5,
    "start_time": "2022-03-08T15:19:15.124Z"
   },
   {
    "duration": 26,
    "start_time": "2022-03-08T15:19:15.131Z"
   },
   {
    "duration": 5,
    "start_time": "2022-03-08T15:19:15.159Z"
   },
   {
    "duration": 81,
    "start_time": "2022-03-08T15:19:15.165Z"
   },
   {
    "duration": 13,
    "start_time": "2022-03-08T15:19:15.248Z"
   },
   {
    "duration": 13,
    "start_time": "2022-03-08T15:19:15.263Z"
   },
   {
    "duration": 24,
    "start_time": "2022-03-08T15:19:15.278Z"
   },
   {
    "duration": 26,
    "start_time": "2022-03-08T15:19:15.304Z"
   },
   {
    "duration": 4,
    "start_time": "2022-03-08T15:19:15.332Z"
   },
   {
    "duration": 40,
    "start_time": "2022-03-08T15:19:15.340Z"
   },
   {
    "duration": 31,
    "start_time": "2022-03-08T15:19:15.382Z"
   },
   {
    "duration": 8,
    "start_time": "2022-03-08T15:19:15.415Z"
   },
   {
    "duration": 17,
    "start_time": "2022-03-08T15:19:15.425Z"
   },
   {
    "duration": 19,
    "start_time": "2022-03-08T15:19:15.444Z"
   },
   {
    "duration": 4,
    "start_time": "2022-03-08T15:19:15.464Z"
   },
   {
    "duration": 32,
    "start_time": "2022-03-08T15:19:15.469Z"
   },
   {
    "duration": 8,
    "start_time": "2022-03-08T15:19:15.503Z"
   },
   {
    "duration": 16,
    "start_time": "2022-03-08T15:19:15.513Z"
   },
   {
    "duration": 11,
    "start_time": "2022-03-08T15:19:15.531Z"
   },
   {
    "duration": 62,
    "start_time": "2022-03-08T15:19:15.544Z"
   },
   {
    "duration": 7,
    "start_time": "2022-03-08T15:19:15.607Z"
   },
   {
    "duration": 11,
    "start_time": "2022-03-08T15:19:15.616Z"
   },
   {
    "duration": 51,
    "start_time": "2022-03-08T15:19:15.628Z"
   },
   {
    "duration": 47,
    "start_time": "2022-03-08T15:19:15.681Z"
   },
   {
    "duration": 32,
    "start_time": "2022-03-08T15:19:15.730Z"
   },
   {
    "duration": 62,
    "start_time": "2022-03-08T15:19:15.764Z"
   },
   {
    "duration": 29,
    "start_time": "2022-03-08T15:19:15.828Z"
   },
   {
    "duration": 49,
    "start_time": "2022-03-08T15:19:15.859Z"
   },
   {
    "duration": 103,
    "start_time": "2022-03-08T15:19:15.910Z"
   },
   {
    "duration": 19,
    "start_time": "2022-03-08T15:19:16.015Z"
   },
   {
    "duration": 7,
    "start_time": "2022-03-08T15:19:16.036Z"
   },
   {
    "duration": 18,
    "start_time": "2022-03-08T15:19:16.045Z"
   },
   {
    "duration": 348,
    "start_time": "2022-03-08T15:19:16.065Z"
   },
   {
    "duration": 15,
    "start_time": "2022-03-08T15:19:16.415Z"
   },
   {
    "duration": 404,
    "start_time": "2022-03-08T15:19:16.432Z"
   },
   {
    "duration": 14,
    "start_time": "2022-03-08T15:19:16.838Z"
   },
   {
    "duration": 187,
    "start_time": "2022-03-08T15:19:16.854Z"
   },
   {
    "duration": 171,
    "start_time": "2022-03-08T15:19:17.044Z"
   },
   {
    "duration": 16,
    "start_time": "2022-03-08T15:19:17.217Z"
   },
   {
    "duration": 891,
    "start_time": "2022-03-08T15:19:17.235Z"
   },
   {
    "duration": 16,
    "start_time": "2022-03-08T15:19:18.128Z"
   },
   {
    "duration": 976,
    "start_time": "2022-03-08T15:19:18.146Z"
   },
   {
    "duration": 11,
    "start_time": "2022-03-08T15:19:19.123Z"
   },
   {
    "duration": 11,
    "start_time": "2022-03-08T15:19:19.136Z"
   },
   {
    "duration": 16,
    "start_time": "2022-03-08T15:19:19.149Z"
   },
   {
    "duration": 12,
    "start_time": "2022-03-08T15:19:19.167Z"
   },
   {
    "duration": 33,
    "start_time": "2022-03-08T15:19:19.181Z"
   },
   {
    "duration": 11,
    "start_time": "2022-03-08T15:19:19.216Z"
   },
   {
    "duration": 14,
    "start_time": "2022-03-08T15:19:19.229Z"
   },
   {
    "duration": 16,
    "start_time": "2022-03-08T15:24:39.331Z"
   },
   {
    "duration": 374,
    "start_time": "2022-03-09T01:59:48.030Z"
   },
   {
    "duration": 294,
    "start_time": "2022-03-09T02:34:10.970Z"
   },
   {
    "duration": 1151,
    "start_time": "2022-03-09T02:34:25.195Z"
   },
   {
    "duration": 358,
    "start_time": "2022-03-09T02:34:26.348Z"
   },
   {
    "duration": 6,
    "start_time": "2022-03-09T02:34:26.708Z"
   },
   {
    "duration": 12,
    "start_time": "2022-03-09T02:34:26.716Z"
   },
   {
    "duration": 5,
    "start_time": "2022-03-09T02:34:26.729Z"
   },
   {
    "duration": 9,
    "start_time": "2022-03-09T02:34:26.736Z"
   },
   {
    "duration": 8,
    "start_time": "2022-03-09T02:34:26.746Z"
   },
   {
    "duration": 3,
    "start_time": "2022-03-09T02:34:26.756Z"
   },
   {
    "duration": 4,
    "start_time": "2022-03-09T02:34:26.761Z"
   },
   {
    "duration": 3,
    "start_time": "2022-03-09T02:34:26.767Z"
   },
   {
    "duration": 45,
    "start_time": "2022-03-09T02:34:26.771Z"
   },
   {
    "duration": 2,
    "start_time": "2022-03-09T02:34:26.817Z"
   },
   {
    "duration": 8,
    "start_time": "2022-03-09T02:34:26.821Z"
   },
   {
    "duration": 14,
    "start_time": "2022-03-09T02:34:26.830Z"
   },
   {
    "duration": 13,
    "start_time": "2022-03-09T02:34:26.845Z"
   },
   {
    "duration": 6,
    "start_time": "2022-03-09T02:34:26.860Z"
   },
   {
    "duration": 38,
    "start_time": "2022-03-09T02:34:26.867Z"
   },
   {
    "duration": 3,
    "start_time": "2022-03-09T02:34:26.907Z"
   },
   {
    "duration": 21,
    "start_time": "2022-03-09T02:34:26.912Z"
   },
   {
    "duration": 4,
    "start_time": "2022-03-09T02:34:26.934Z"
   },
   {
    "duration": 49,
    "start_time": "2022-03-09T02:34:26.939Z"
   },
   {
    "duration": 355,
    "start_time": "2022-03-09T02:34:26.990Z"
   },
   {
    "duration": -1281,
    "start_time": "2022-03-09T02:34:28.629Z"
   },
   {
    "duration": -1284,
    "start_time": "2022-03-09T02:34:28.633Z"
   },
   {
    "duration": -1290,
    "start_time": "2022-03-09T02:34:28.640Z"
   },
   {
    "duration": -1298,
    "start_time": "2022-03-09T02:34:28.649Z"
   },
   {
    "duration": -1537,
    "start_time": "2022-03-09T02:34:28.888Z"
   },
   {
    "duration": -1541,
    "start_time": "2022-03-09T02:34:28.893Z"
   },
   {
    "duration": -1552,
    "start_time": "2022-03-09T02:34:28.905Z"
   },
   {
    "duration": -1558,
    "start_time": "2022-03-09T02:34:28.911Z"
   },
   {
    "duration": -1562,
    "start_time": "2022-03-09T02:34:28.916Z"
   },
   {
    "duration": -1564,
    "start_time": "2022-03-09T02:34:28.919Z"
   },
   {
    "duration": -1566,
    "start_time": "2022-03-09T02:34:28.922Z"
   },
   {
    "duration": -1570,
    "start_time": "2022-03-09T02:34:28.926Z"
   },
   {
    "duration": -1572,
    "start_time": "2022-03-09T02:34:28.929Z"
   },
   {
    "duration": -1574,
    "start_time": "2022-03-09T02:34:28.932Z"
   },
   {
    "duration": -1682,
    "start_time": "2022-03-09T02:34:29.041Z"
   },
   {
    "duration": -1861,
    "start_time": "2022-03-09T02:34:29.220Z"
   },
   {
    "duration": -1863,
    "start_time": "2022-03-09T02:34:29.223Z"
   },
   {
    "duration": -1865,
    "start_time": "2022-03-09T02:34:29.226Z"
   },
   {
    "duration": -1867,
    "start_time": "2022-03-09T02:34:29.229Z"
   },
   {
    "duration": -1869,
    "start_time": "2022-03-09T02:34:29.231Z"
   },
   {
    "duration": -1889,
    "start_time": "2022-03-09T02:34:29.252Z"
   },
   {
    "duration": -1895,
    "start_time": "2022-03-09T02:34:29.259Z"
   },
   {
    "duration": -1898,
    "start_time": "2022-03-09T02:34:29.262Z"
   },
   {
    "duration": -1900,
    "start_time": "2022-03-09T02:34:29.265Z"
   },
   {
    "duration": -1901,
    "start_time": "2022-03-09T02:34:29.267Z"
   },
   {
    "duration": -1903,
    "start_time": "2022-03-09T02:34:29.270Z"
   },
   {
    "duration": -1906,
    "start_time": "2022-03-09T02:34:29.273Z"
   },
   {
    "duration": -1908,
    "start_time": "2022-03-09T02:34:29.276Z"
   },
   {
    "duration": -1910,
    "start_time": "2022-03-09T02:34:29.279Z"
   },
   {
    "duration": -1915,
    "start_time": "2022-03-09T02:34:29.284Z"
   },
   {
    "duration": -1917,
    "start_time": "2022-03-09T02:34:29.287Z"
   },
   {
    "duration": -1938,
    "start_time": "2022-03-09T02:34:29.309Z"
   },
   {
    "duration": -1952,
    "start_time": "2022-03-09T02:34:29.323Z"
   },
   {
    "duration": -1966,
    "start_time": "2022-03-09T02:34:29.338Z"
   },
   {
    "duration": -1972,
    "start_time": "2022-03-09T02:34:29.345Z"
   },
   {
    "duration": -1982,
    "start_time": "2022-03-09T02:34:29.356Z"
   },
   {
    "duration": -1987,
    "start_time": "2022-03-09T02:34:29.362Z"
   },
   {
    "duration": -1997,
    "start_time": "2022-03-09T02:34:29.373Z"
   },
   {
    "duration": -2002,
    "start_time": "2022-03-09T02:34:29.378Z"
   },
   {
    "duration": -2086,
    "start_time": "2022-03-09T02:34:29.463Z"
   },
   {
    "duration": -2096,
    "start_time": "2022-03-09T02:34:29.474Z"
   },
   {
    "duration": -2127,
    "start_time": "2022-03-09T02:34:29.506Z"
   },
   {
    "duration": -2172,
    "start_time": "2022-03-09T02:34:29.551Z"
   },
   {
    "duration": -2174,
    "start_time": "2022-03-09T02:34:29.554Z"
   },
   {
    "duration": -2176,
    "start_time": "2022-03-09T02:34:29.557Z"
   },
   {
    "duration": 15,
    "start_time": "2022-03-09T02:35:08.539Z"
   },
   {
    "duration": 23,
    "start_time": "2022-03-09T02:35:22.856Z"
   },
   {
    "duration": 2,
    "start_time": "2022-03-09T02:37:05.713Z"
   },
   {
    "duration": 16,
    "start_time": "2022-03-09T03:02:04.277Z"
   },
   {
    "duration": 2,
    "start_time": "2022-03-09T03:02:30.561Z"
   },
   {
    "duration": 15,
    "start_time": "2022-03-09T03:02:34.350Z"
   },
   {
    "duration": 2,
    "start_time": "2022-03-09T03:02:39.602Z"
   },
   {
    "duration": 16,
    "start_time": "2022-03-09T03:02:43.946Z"
   },
   {
    "duration": 15,
    "start_time": "2022-03-09T03:02:53.843Z"
   },
   {
    "duration": 1126,
    "start_time": "2022-03-09T03:03:04.118Z"
   },
   {
    "duration": 277,
    "start_time": "2022-03-09T03:03:05.246Z"
   },
   {
    "duration": 6,
    "start_time": "2022-03-09T03:03:05.525Z"
   },
   {
    "duration": 13,
    "start_time": "2022-03-09T03:03:05.533Z"
   },
   {
    "duration": 5,
    "start_time": "2022-03-09T03:03:05.548Z"
   },
   {
    "duration": 10,
    "start_time": "2022-03-09T03:03:05.554Z"
   },
   {
    "duration": 8,
    "start_time": "2022-03-09T03:03:05.566Z"
   },
   {
    "duration": 4,
    "start_time": "2022-03-09T03:03:05.576Z"
   },
   {
    "duration": 5,
    "start_time": "2022-03-09T03:03:05.581Z"
   },
   {
    "duration": 17,
    "start_time": "2022-03-09T03:03:05.588Z"
   },
   {
    "duration": 15,
    "start_time": "2022-03-09T03:03:05.607Z"
   },
   {
    "duration": 9,
    "start_time": "2022-03-09T03:03:05.624Z"
   },
   {
    "duration": 26,
    "start_time": "2022-03-09T03:03:05.635Z"
   },
   {
    "duration": 17,
    "start_time": "2022-03-09T03:03:05.663Z"
   },
   {
    "duration": 36,
    "start_time": "2022-03-09T03:03:05.681Z"
   },
   {
    "duration": 38,
    "start_time": "2022-03-09T03:03:05.718Z"
   },
   {
    "duration": 27,
    "start_time": "2022-03-09T03:03:05.758Z"
   },
   {
    "duration": 8,
    "start_time": "2022-03-09T03:03:05.786Z"
   },
   {
    "duration": 15,
    "start_time": "2022-03-09T03:03:05.796Z"
   },
   {
    "duration": 5,
    "start_time": "2022-03-09T03:03:05.813Z"
   },
   {
    "duration": 31,
    "start_time": "2022-03-09T03:03:05.820Z"
   },
   {
    "duration": 3,
    "start_time": "2022-03-09T03:03:05.853Z"
   },
   {
    "duration": 6,
    "start_time": "2022-03-09T03:03:05.860Z"
   },
   {
    "duration": 39,
    "start_time": "2022-03-09T03:03:05.868Z"
   },
   {
    "duration": 10,
    "start_time": "2022-03-09T03:03:05.909Z"
   },
   {
    "duration": 18,
    "start_time": "2022-03-09T03:03:05.920Z"
   },
   {
    "duration": 8,
    "start_time": "2022-03-09T03:03:05.940Z"
   },
   {
    "duration": 21,
    "start_time": "2022-03-09T03:03:05.950Z"
   },
   {
    "duration": 21,
    "start_time": "2022-03-09T03:03:05.972Z"
   },
   {
    "duration": 35,
    "start_time": "2022-03-09T03:03:05.994Z"
   },
   {
    "duration": 12,
    "start_time": "2022-03-09T03:03:06.031Z"
   },
   {
    "duration": 12,
    "start_time": "2022-03-09T03:03:06.045Z"
   },
   {
    "duration": 17,
    "start_time": "2022-03-09T03:03:06.058Z"
   },
   {
    "duration": 22,
    "start_time": "2022-03-09T03:03:06.076Z"
   },
   {
    "duration": 7,
    "start_time": "2022-03-09T03:03:06.099Z"
   },
   {
    "duration": 10,
    "start_time": "2022-03-09T03:03:06.107Z"
   },
   {
    "duration": 13,
    "start_time": "2022-03-09T03:03:06.118Z"
   },
   {
    "duration": 10,
    "start_time": "2022-03-09T03:03:06.133Z"
   },
   {
    "duration": 20,
    "start_time": "2022-03-09T03:03:06.145Z"
   },
   {
    "duration": 42,
    "start_time": "2022-03-09T03:03:06.166Z"
   },
   {
    "duration": 6,
    "start_time": "2022-03-09T03:03:06.210Z"
   },
   {
    "duration": 11,
    "start_time": "2022-03-09T03:03:06.217Z"
   },
   {
    "duration": 45,
    "start_time": "2022-03-09T03:03:06.229Z"
   },
   {
    "duration": 30,
    "start_time": "2022-03-09T03:03:06.275Z"
   },
   {
    "duration": 27,
    "start_time": "2022-03-09T03:03:06.307Z"
   },
   {
    "duration": 28,
    "start_time": "2022-03-09T03:03:06.336Z"
   },
   {
    "duration": 552,
    "start_time": "2022-03-09T03:03:06.365Z"
   },
   {
    "duration": -421,
    "start_time": "2022-03-09T03:03:07.340Z"
   },
   {
    "duration": -424,
    "start_time": "2022-03-09T03:03:07.344Z"
   },
   {
    "duration": -426,
    "start_time": "2022-03-09T03:03:07.347Z"
   },
   {
    "duration": -429,
    "start_time": "2022-03-09T03:03:07.351Z"
   },
   {
    "duration": -431,
    "start_time": "2022-03-09T03:03:07.353Z"
   },
   {
    "duration": -433,
    "start_time": "2022-03-09T03:03:07.356Z"
   },
   {
    "duration": -437,
    "start_time": "2022-03-09T03:03:07.361Z"
   },
   {
    "duration": -462,
    "start_time": "2022-03-09T03:03:07.387Z"
   },
   {
    "duration": -474,
    "start_time": "2022-03-09T03:03:07.400Z"
   },
   {
    "duration": -483,
    "start_time": "2022-03-09T03:03:07.410Z"
   },
   {
    "duration": -495,
    "start_time": "2022-03-09T03:03:07.423Z"
   },
   {
    "duration": -500,
    "start_time": "2022-03-09T03:03:07.429Z"
   },
   {
    "duration": -512,
    "start_time": "2022-03-09T03:03:07.442Z"
   },
   {
    "duration": -518,
    "start_time": "2022-03-09T03:03:07.449Z"
   },
   {
    "duration": -527,
    "start_time": "2022-03-09T03:03:07.459Z"
   },
   {
    "duration": -533,
    "start_time": "2022-03-09T03:03:07.466Z"
   },
   {
    "duration": -540,
    "start_time": "2022-03-09T03:03:07.474Z"
   },
   {
    "duration": -546,
    "start_time": "2022-03-09T03:03:07.481Z"
   },
   {
    "duration": -557,
    "start_time": "2022-03-09T03:03:07.492Z"
   },
   {
    "duration": -563,
    "start_time": "2022-03-09T03:03:07.499Z"
   },
   {
    "duration": -571,
    "start_time": "2022-03-09T03:03:07.508Z"
   },
   {
    "duration": -577,
    "start_time": "2022-03-09T03:03:07.515Z"
   },
   {
    "duration": 3,
    "start_time": "2022-03-09T03:07:20.151Z"
   },
   {
    "duration": 1238,
    "start_time": "2022-03-09T22:57:01.913Z"
   },
   {
    "duration": 326,
    "start_time": "2022-03-09T22:57:05.270Z"
   },
   {
    "duration": 10,
    "start_time": "2022-03-09T22:57:09.512Z"
   },
   {
    "duration": 19,
    "start_time": "2022-03-09T22:57:16.981Z"
   },
   {
    "duration": 10,
    "start_time": "2022-03-09T22:57:21.160Z"
   },
   {
    "duration": 10,
    "start_time": "2022-03-09T22:57:27.364Z"
   },
   {
    "duration": 9,
    "start_time": "2022-03-09T22:57:32.562Z"
   },
   {
    "duration": 16,
    "start_time": "2022-03-09T22:57:51.810Z"
   },
   {
    "duration": 4,
    "start_time": "2022-03-09T22:59:00.297Z"
   },
   {
    "duration": 6,
    "start_time": "2022-03-09T22:59:40.242Z"
   },
   {
    "duration": 22,
    "start_time": "2022-03-09T22:59:49.710Z"
   },
   {
    "duration": 11,
    "start_time": "2022-03-09T23:00:29.024Z"
   },
   {
    "duration": 12,
    "start_time": "2022-03-09T23:00:58.090Z"
   },
   {
    "duration": 8,
    "start_time": "2022-03-09T23:01:02.256Z"
   },
   {
    "duration": 7,
    "start_time": "2022-03-09T23:01:19.310Z"
   },
   {
    "duration": 13,
    "start_time": "2022-03-09T23:01:21.614Z"
   },
   {
    "duration": 4,
    "start_time": "2022-03-09T23:01:23.768Z"
   },
   {
    "duration": -996,
    "start_time": "2022-03-09T23:02:27.883Z"
   },
   {
    "duration": 1262,
    "start_time": "2022-03-09T23:02:35.902Z"
   },
   {
    "duration": 331,
    "start_time": "2022-03-09T23:02:37.166Z"
   },
   {
    "duration": 7,
    "start_time": "2022-03-09T23:02:37.499Z"
   },
   {
    "duration": 34,
    "start_time": "2022-03-09T23:02:37.509Z"
   },
   {
    "duration": 46,
    "start_time": "2022-03-09T23:02:37.546Z"
   },
   {
    "duration": 29,
    "start_time": "2022-03-09T23:02:37.594Z"
   },
   {
    "duration": 44,
    "start_time": "2022-03-09T23:02:37.625Z"
   },
   {
    "duration": 43,
    "start_time": "2022-03-09T23:02:37.672Z"
   },
   {
    "duration": 34,
    "start_time": "2022-03-09T23:02:37.717Z"
   },
   {
    "duration": 32,
    "start_time": "2022-03-09T23:02:37.753Z"
   },
   {
    "duration": 46,
    "start_time": "2022-03-09T23:02:37.787Z"
   },
   {
    "duration": 36,
    "start_time": "2022-03-09T23:02:37.834Z"
   },
   {
    "duration": 36,
    "start_time": "2022-03-09T23:02:37.872Z"
   },
   {
    "duration": 22,
    "start_time": "2022-03-09T23:02:37.910Z"
   },
   {
    "duration": 32,
    "start_time": "2022-03-09T23:02:37.934Z"
   },
   {
    "duration": 36,
    "start_time": "2022-03-09T23:02:37.968Z"
   },
   {
    "duration": 28,
    "start_time": "2022-03-09T23:02:38.006Z"
   },
   {
    "duration": 28,
    "start_time": "2022-03-09T23:02:38.036Z"
   },
   {
    "duration": 23,
    "start_time": "2022-03-09T23:02:38.066Z"
   },
   {
    "duration": 52,
    "start_time": "2022-03-09T23:02:38.091Z"
   },
   {
    "duration": 13,
    "start_time": "2022-03-09T23:02:38.145Z"
   },
   {
    "duration": 30,
    "start_time": "2022-03-09T23:02:38.160Z"
   },
   {
    "duration": 62,
    "start_time": "2022-03-09T23:02:38.195Z"
   },
   {
    "duration": 22,
    "start_time": "2022-03-09T23:02:38.260Z"
   },
   {
    "duration": 31,
    "start_time": "2022-03-09T23:02:38.284Z"
   },
   {
    "duration": 25,
    "start_time": "2022-03-09T23:02:38.317Z"
   },
   {
    "duration": 37,
    "start_time": "2022-03-09T23:02:38.344Z"
   },
   {
    "duration": 22,
    "start_time": "2022-03-09T23:02:38.383Z"
   },
   {
    "duration": 6517,
    "start_time": "2022-03-09T23:02:38.407Z"
   },
   {
    "duration": -1078,
    "start_time": "2022-03-09T23:02:46.004Z"
   },
   {
    "duration": -1093,
    "start_time": "2022-03-09T23:02:46.020Z"
   },
   {
    "duration": -1105,
    "start_time": "2022-03-09T23:02:46.033Z"
   },
   {
    "duration": -1114,
    "start_time": "2022-03-09T23:02:46.043Z"
   },
   {
    "duration": -1122,
    "start_time": "2022-03-09T23:02:46.052Z"
   },
   {
    "duration": -1129,
    "start_time": "2022-03-09T23:02:46.060Z"
   },
   {
    "duration": -1136,
    "start_time": "2022-03-09T23:02:46.068Z"
   },
   {
    "duration": -1145,
    "start_time": "2022-03-09T23:02:46.078Z"
   },
   {
    "duration": -1153,
    "start_time": "2022-03-09T23:02:46.087Z"
   },
   {
    "duration": -1161,
    "start_time": "2022-03-09T23:02:46.096Z"
   },
   {
    "duration": -1207,
    "start_time": "2022-03-09T23:02:46.143Z"
   },
   {
    "duration": -1264,
    "start_time": "2022-03-09T23:02:46.201Z"
   },
   {
    "duration": -1309,
    "start_time": "2022-03-09T23:02:46.247Z"
   },
   {
    "duration": -1334,
    "start_time": "2022-03-09T23:02:46.273Z"
   },
   {
    "duration": -1341,
    "start_time": "2022-03-09T23:02:46.281Z"
   },
   {
    "duration": -1350,
    "start_time": "2022-03-09T23:02:46.291Z"
   },
   {
    "duration": -1355,
    "start_time": "2022-03-09T23:02:46.297Z"
   },
   {
    "duration": -1364,
    "start_time": "2022-03-09T23:02:46.307Z"
   },
   {
    "duration": -1373,
    "start_time": "2022-03-09T23:02:46.317Z"
   },
   {
    "duration": -1815,
    "start_time": "2022-03-09T23:02:46.760Z"
   },
   {
    "duration": -1827,
    "start_time": "2022-03-09T23:02:46.773Z"
   },
   {
    "duration": -1841,
    "start_time": "2022-03-09T23:02:46.788Z"
   },
   {
    "duration": -1849,
    "start_time": "2022-03-09T23:02:46.797Z"
   },
   {
    "duration": -1857,
    "start_time": "2022-03-09T23:02:46.806Z"
   },
   {
    "duration": -1865,
    "start_time": "2022-03-09T23:02:46.815Z"
   },
   {
    "duration": -1873,
    "start_time": "2022-03-09T23:02:46.823Z"
   },
   {
    "duration": -1880,
    "start_time": "2022-03-09T23:02:46.832Z"
   },
   {
    "duration": -1889,
    "start_time": "2022-03-09T23:02:46.841Z"
   },
   {
    "duration": -1895,
    "start_time": "2022-03-09T23:02:46.849Z"
   },
   {
    "duration": -1959,
    "start_time": "2022-03-09T23:02:46.914Z"
   },
   {
    "duration": -1966,
    "start_time": "2022-03-09T23:02:46.922Z"
   },
   {
    "duration": -1986,
    "start_time": "2022-03-09T23:02:46.943Z"
   },
   {
    "duration": -2026,
    "start_time": "2022-03-09T23:02:46.984Z"
   },
   {
    "duration": -2067,
    "start_time": "2022-03-09T23:02:47.026Z"
   },
   {
    "duration": -2105,
    "start_time": "2022-03-09T23:02:47.065Z"
   },
   {
    "duration": -2147,
    "start_time": "2022-03-09T23:02:47.108Z"
   },
   {
    "duration": -2155,
    "start_time": "2022-03-09T23:02:47.116Z"
   },
   {
    "duration": -2163,
    "start_time": "2022-03-09T23:02:47.125Z"
   },
   {
    "duration": -2171,
    "start_time": "2022-03-09T23:02:47.134Z"
   },
   {
    "duration": 6398,
    "start_time": "2022-03-09T23:03:32.459Z"
   },
   {
    "duration": 6411,
    "start_time": "2022-03-09T23:04:00.007Z"
   },
   {
    "duration": 1290,
    "start_time": "2022-03-09T23:04:55.967Z"
   },
   {
    "duration": 325,
    "start_time": "2022-03-09T23:04:57.259Z"
   },
   {
    "duration": 7,
    "start_time": "2022-03-09T23:04:57.586Z"
   },
   {
    "duration": 14,
    "start_time": "2022-03-09T23:04:57.595Z"
   },
   {
    "duration": 9,
    "start_time": "2022-03-09T23:04:57.611Z"
   },
   {
    "duration": 12,
    "start_time": "2022-03-09T23:04:57.622Z"
   },
   {
    "duration": 13,
    "start_time": "2022-03-09T23:04:57.635Z"
   },
   {
    "duration": 26,
    "start_time": "2022-03-09T23:04:57.651Z"
   },
   {
    "duration": 10,
    "start_time": "2022-03-09T23:04:57.679Z"
   },
   {
    "duration": 5,
    "start_time": "2022-03-09T23:04:57.691Z"
   },
   {
    "duration": 22,
    "start_time": "2022-03-09T23:04:57.698Z"
   },
   {
    "duration": 3,
    "start_time": "2022-03-09T23:04:57.721Z"
   },
   {
    "duration": 8,
    "start_time": "2022-03-09T23:04:57.726Z"
   },
   {
    "duration": 16,
    "start_time": "2022-03-09T23:04:57.736Z"
   },
   {
    "duration": 33,
    "start_time": "2022-03-09T23:04:57.754Z"
   },
   {
    "duration": 7,
    "start_time": "2022-03-09T23:04:57.789Z"
   },
   {
    "duration": 12,
    "start_time": "2022-03-09T23:04:57.798Z"
   },
   {
    "duration": 4,
    "start_time": "2022-03-09T23:04:57.812Z"
   },
   {
    "duration": 26,
    "start_time": "2022-03-09T23:04:57.818Z"
   },
   {
    "duration": 34,
    "start_time": "2022-03-09T23:04:57.846Z"
   },
   {
    "duration": 12,
    "start_time": "2022-03-09T23:04:57.881Z"
   },
   {
    "duration": 32,
    "start_time": "2022-03-09T23:04:57.894Z"
   },
   {
    "duration": 12,
    "start_time": "2022-03-09T23:04:57.930Z"
   },
   {
    "duration": 9,
    "start_time": "2022-03-09T23:04:57.944Z"
   },
   {
    "duration": 27,
    "start_time": "2022-03-09T23:04:57.955Z"
   },
   {
    "duration": 14,
    "start_time": "2022-03-09T23:04:57.984Z"
   },
   {
    "duration": 4,
    "start_time": "2022-03-09T23:04:58.000Z"
   },
   {
    "duration": 6703,
    "start_time": "2022-03-09T23:04:58.006Z"
   },
   {
    "duration": -1054,
    "start_time": "2022-03-09T23:05:05.765Z"
   },
   {
    "duration": -1063,
    "start_time": "2022-03-09T23:05:05.775Z"
   },
   {
    "duration": -1096,
    "start_time": "2022-03-09T23:05:05.809Z"
   },
   {
    "duration": -1149,
    "start_time": "2022-03-09T23:05:05.864Z"
   },
   {
    "duration": -1195,
    "start_time": "2022-03-09T23:05:05.911Z"
   },
   {
    "duration": -1242,
    "start_time": "2022-03-09T23:05:05.958Z"
   },
   {
    "duration": -1252,
    "start_time": "2022-03-09T23:05:05.969Z"
   },
   {
    "duration": -1261,
    "start_time": "2022-03-09T23:05:05.979Z"
   },
   {
    "duration": -1270,
    "start_time": "2022-03-09T23:05:05.989Z"
   },
   {
    "duration": -1278,
    "start_time": "2022-03-09T23:05:05.999Z"
   },
   {
    "duration": -1286,
    "start_time": "2022-03-09T23:05:06.008Z"
   },
   {
    "duration": -1295,
    "start_time": "2022-03-09T23:05:06.018Z"
   },
   {
    "duration": -1303,
    "start_time": "2022-03-09T23:05:06.027Z"
   },
   {
    "duration": -1555,
    "start_time": "2022-03-09T23:05:06.280Z"
   },
   {
    "duration": -1565,
    "start_time": "2022-03-09T23:05:06.291Z"
   },
   {
    "duration": -1574,
    "start_time": "2022-03-09T23:05:06.301Z"
   },
   {
    "duration": -1583,
    "start_time": "2022-03-09T23:05:06.311Z"
   },
   {
    "duration": -1591,
    "start_time": "2022-03-09T23:05:06.320Z"
   },
   {
    "duration": -1613,
    "start_time": "2022-03-09T23:05:06.343Z"
   },
   {
    "duration": -1621,
    "start_time": "2022-03-09T23:05:06.353Z"
   },
   {
    "duration": -1629,
    "start_time": "2022-03-09T23:05:06.362Z"
   },
   {
    "duration": -1654,
    "start_time": "2022-03-09T23:05:06.387Z"
   },
   {
    "duration": -1673,
    "start_time": "2022-03-09T23:05:06.408Z"
   },
   {
    "duration": -1710,
    "start_time": "2022-03-09T23:05:06.446Z"
   },
   {
    "duration": -1776,
    "start_time": "2022-03-09T23:05:06.513Z"
   },
   {
    "duration": -1909,
    "start_time": "2022-03-09T23:05:06.647Z"
   },
   {
    "duration": -1954,
    "start_time": "2022-03-09T23:05:06.693Z"
   },
   {
    "duration": -2020,
    "start_time": "2022-03-09T23:05:06.760Z"
   },
   {
    "duration": -2064,
    "start_time": "2022-03-09T23:05:06.805Z"
   },
   {
    "duration": -2091,
    "start_time": "2022-03-09T23:05:06.833Z"
   },
   {
    "duration": -2167,
    "start_time": "2022-03-09T23:05:06.910Z"
   },
   {
    "duration": -2319,
    "start_time": "2022-03-09T23:05:07.063Z"
   },
   {
    "duration": -2329,
    "start_time": "2022-03-09T23:05:07.074Z"
   },
   {
    "duration": -2336,
    "start_time": "2022-03-09T23:05:07.082Z"
   },
   {
    "duration": -2343,
    "start_time": "2022-03-09T23:05:07.090Z"
   },
   {
    "duration": -2322,
    "start_time": "2022-03-09T23:05:07.099Z"
   },
   {
    "duration": -2328,
    "start_time": "2022-03-09T23:05:07.106Z"
   },
   {
    "duration": -2336,
    "start_time": "2022-03-09T23:05:07.115Z"
   },
   {
    "duration": -2343,
    "start_time": "2022-03-09T23:05:07.124Z"
   },
   {
    "duration": 6312,
    "start_time": "2022-03-09T23:05:57.221Z"
   },
   {
    "duration": 21,
    "start_time": "2022-03-09T23:06:31.857Z"
   },
   {
    "duration": 14,
    "start_time": "2022-03-09T23:06:39.819Z"
   },
   {
    "duration": 10,
    "start_time": "2022-03-09T23:06:43.672Z"
   },
   {
    "duration": 11,
    "start_time": "2022-03-09T23:06:46.760Z"
   },
   {
    "duration": 17,
    "start_time": "2022-03-09T23:06:49.494Z"
   },
   {
    "duration": 5,
    "start_time": "2022-03-09T23:06:51.653Z"
   },
   {
    "duration": 25,
    "start_time": "2022-03-09T23:08:53.911Z"
   },
   {
    "duration": 28,
    "start_time": "2022-03-09T23:33:52.797Z"
   },
   {
    "duration": 15,
    "start_time": "2022-03-09T23:35:34.847Z"
   },
   {
    "duration": 16,
    "start_time": "2022-03-09T23:36:10.239Z"
   },
   {
    "duration": 7828,
    "start_time": "2022-03-09T23:36:21.514Z"
   },
   {
    "duration": -1006,
    "start_time": "2022-03-09T23:36:30.350Z"
   },
   {
    "duration": 12,
    "start_time": "2022-03-09T23:36:30.143Z"
   },
   {
    "duration": 16,
    "start_time": "2022-03-09T23:36:36.243Z"
   },
   {
    "duration": 7,
    "start_time": "2022-03-09T23:36:47.777Z"
   },
   {
    "duration": 1203,
    "start_time": "2022-03-09T23:37:38.056Z"
   },
   {
    "duration": 357,
    "start_time": "2022-03-09T23:37:39.260Z"
   },
   {
    "duration": 8,
    "start_time": "2022-03-09T23:37:39.619Z"
   },
   {
    "duration": 15,
    "start_time": "2022-03-09T23:37:39.629Z"
   },
   {
    "duration": 13,
    "start_time": "2022-03-09T23:37:39.646Z"
   },
   {
    "duration": 15,
    "start_time": "2022-03-09T23:37:39.661Z"
   },
   {
    "duration": 10,
    "start_time": "2022-03-09T23:37:39.678Z"
   },
   {
    "duration": 6,
    "start_time": "2022-03-09T23:37:39.691Z"
   },
   {
    "duration": 6,
    "start_time": "2022-03-09T23:37:39.700Z"
   },
   {
    "duration": 5,
    "start_time": "2022-03-09T23:37:39.708Z"
   },
   {
    "duration": 21,
    "start_time": "2022-03-09T23:37:39.714Z"
   },
   {
    "duration": 4,
    "start_time": "2022-03-09T23:37:39.738Z"
   },
   {
    "duration": 38,
    "start_time": "2022-03-09T23:37:39.744Z"
   },
   {
    "duration": 30,
    "start_time": "2022-03-09T23:37:39.784Z"
   },
   {
    "duration": 21,
    "start_time": "2022-03-09T23:37:39.817Z"
   },
   {
    "duration": 9,
    "start_time": "2022-03-09T23:37:39.840Z"
   },
   {
    "duration": 34,
    "start_time": "2022-03-09T23:37:39.851Z"
   },
   {
    "duration": 6,
    "start_time": "2022-03-09T23:37:39.887Z"
   },
   {
    "duration": 28,
    "start_time": "2022-03-09T23:37:39.894Z"
   },
   {
    "duration": 4,
    "start_time": "2022-03-09T23:37:39.923Z"
   },
   {
    "duration": 5,
    "start_time": "2022-03-09T23:37:39.929Z"
   },
   {
    "duration": 53,
    "start_time": "2022-03-09T23:37:39.936Z"
   },
   {
    "duration": 12,
    "start_time": "2022-03-09T23:37:39.993Z"
   },
   {
    "duration": 9,
    "start_time": "2022-03-09T23:37:40.007Z"
   },
   {
    "duration": 14,
    "start_time": "2022-03-09T23:37:40.018Z"
   },
   {
    "duration": 35,
    "start_time": "2022-03-09T23:37:40.034Z"
   },
   {
    "duration": 8,
    "start_time": "2022-03-09T23:37:40.071Z"
   },
   {
    "duration": 41,
    "start_time": "2022-03-09T23:37:40.080Z"
   },
   {
    "duration": 14,
    "start_time": "2022-03-09T23:37:40.122Z"
   },
   {
    "duration": 33,
    "start_time": "2022-03-09T23:37:40.138Z"
   },
   {
    "duration": 18,
    "start_time": "2022-03-09T23:37:40.173Z"
   },
   {
    "duration": 26,
    "start_time": "2022-03-09T23:37:40.193Z"
   },
   {
    "duration": 4,
    "start_time": "2022-03-09T23:37:40.221Z"
   },
   {
    "duration": 16,
    "start_time": "2022-03-09T23:37:40.226Z"
   },
   {
    "duration": 34,
    "start_time": "2022-03-09T23:37:40.243Z"
   },
   {
    "duration": 11,
    "start_time": "2022-03-09T23:37:40.279Z"
   },
   {
    "duration": 18,
    "start_time": "2022-03-09T23:37:40.291Z"
   },
   {
    "duration": 9,
    "start_time": "2022-03-09T23:37:40.310Z"
   },
   {
    "duration": 10,
    "start_time": "2022-03-09T23:37:40.321Z"
   },
   {
    "duration": 62,
    "start_time": "2022-03-09T23:37:40.333Z"
   },
   {
    "duration": 31,
    "start_time": "2022-03-09T23:37:40.397Z"
   },
   {
    "duration": 26,
    "start_time": "2022-03-09T23:37:40.430Z"
   },
   {
    "duration": 457,
    "start_time": "2022-03-09T23:37:40.458Z"
   },
   {
    "duration": -1851,
    "start_time": "2022-03-09T23:37:42.768Z"
   },
   {
    "duration": -1855,
    "start_time": "2022-03-09T23:37:42.773Z"
   },
   {
    "duration": -1860,
    "start_time": "2022-03-09T23:37:42.779Z"
   },
   {
    "duration": -1888,
    "start_time": "2022-03-09T23:37:42.808Z"
   },
   {
    "duration": -1903,
    "start_time": "2022-03-09T23:37:42.824Z"
   },
   {
    "duration": -1908,
    "start_time": "2022-03-09T23:37:42.830Z"
   },
   {
    "duration": -1917,
    "start_time": "2022-03-09T23:37:42.840Z"
   },
   {
    "duration": -1922,
    "start_time": "2022-03-09T23:37:42.847Z"
   },
   {
    "duration": -1933,
    "start_time": "2022-03-09T23:37:42.858Z"
   },
   {
    "duration": -1939,
    "start_time": "2022-03-09T23:37:42.865Z"
   },
   {
    "duration": -1950,
    "start_time": "2022-03-09T23:37:42.877Z"
   },
   {
    "duration": -1962,
    "start_time": "2022-03-09T23:37:42.890Z"
   },
   {
    "duration": -1967,
    "start_time": "2022-03-09T23:37:42.897Z"
   },
   {
    "duration": -1977,
    "start_time": "2022-03-09T23:37:42.908Z"
   },
   {
    "duration": -2074,
    "start_time": "2022-03-09T23:37:43.006Z"
   },
   {
    "duration": -2079,
    "start_time": "2022-03-09T23:37:43.013Z"
   },
   {
    "duration": -2082,
    "start_time": "2022-03-09T23:37:43.016Z"
   },
   {
    "duration": -2083,
    "start_time": "2022-03-09T23:37:43.019Z"
   },
   {
    "duration": -2095,
    "start_time": "2022-03-09T23:37:43.032Z"
   },
   {
    "duration": -2097,
    "start_time": "2022-03-09T23:37:43.035Z"
   },
   {
    "duration": -2099,
    "start_time": "2022-03-09T23:37:43.038Z"
   },
   {
    "duration": -2106,
    "start_time": "2022-03-09T23:37:43.046Z"
   },
   {
    "duration": -2109,
    "start_time": "2022-03-09T23:37:43.050Z"
   },
   {
    "duration": 271,
    "start_time": "2022-03-09T23:37:56.808Z"
   },
   {
    "duration": 24,
    "start_time": "2022-03-09T23:42:59.722Z"
   },
   {
    "duration": 26,
    "start_time": "2022-03-09T23:46:06.752Z"
   },
   {
    "duration": 24,
    "start_time": "2022-03-09T23:46:24.666Z"
   },
   {
    "duration": 1128,
    "start_time": "2022-03-09T23:46:37.338Z"
   },
   {
    "duration": 328,
    "start_time": "2022-03-09T23:46:38.468Z"
   },
   {
    "duration": 9,
    "start_time": "2022-03-09T23:46:38.798Z"
   },
   {
    "duration": 16,
    "start_time": "2022-03-09T23:46:38.809Z"
   },
   {
    "duration": 6,
    "start_time": "2022-03-09T23:46:38.827Z"
   },
   {
    "duration": 12,
    "start_time": "2022-03-09T23:46:38.835Z"
   },
   {
    "duration": 12,
    "start_time": "2022-03-09T23:46:38.849Z"
   },
   {
    "duration": 18,
    "start_time": "2022-03-09T23:46:38.862Z"
   },
   {
    "duration": 8,
    "start_time": "2022-03-09T23:46:38.883Z"
   },
   {
    "duration": 6,
    "start_time": "2022-03-09T23:46:38.893Z"
   },
   {
    "duration": 23,
    "start_time": "2022-03-09T23:46:38.901Z"
   },
   {
    "duration": 4,
    "start_time": "2022-03-09T23:46:38.926Z"
   },
   {
    "duration": 8,
    "start_time": "2022-03-09T23:46:38.932Z"
   },
   {
    "duration": 43,
    "start_time": "2022-03-09T23:46:38.941Z"
   },
   {
    "duration": 17,
    "start_time": "2022-03-09T23:46:38.985Z"
   },
   {
    "duration": 7,
    "start_time": "2022-03-09T23:46:39.004Z"
   },
   {
    "duration": 11,
    "start_time": "2022-03-09T23:46:39.013Z"
   },
   {
    "duration": 5,
    "start_time": "2022-03-09T23:46:39.026Z"
   },
   {
    "duration": 50,
    "start_time": "2022-03-09T23:46:39.032Z"
   },
   {
    "duration": 3,
    "start_time": "2022-03-09T23:46:39.084Z"
   },
   {
    "duration": 5,
    "start_time": "2022-03-09T23:46:39.089Z"
   },
   {
    "duration": 32,
    "start_time": "2022-03-09T23:46:39.096Z"
   },
   {
    "duration": 12,
    "start_time": "2022-03-09T23:46:39.129Z"
   },
   {
    "duration": 7,
    "start_time": "2022-03-09T23:46:39.142Z"
   },
   {
    "duration": 32,
    "start_time": "2022-03-09T23:46:39.151Z"
   },
   {
    "duration": 15,
    "start_time": "2022-03-09T23:46:39.184Z"
   },
   {
    "duration": 4,
    "start_time": "2022-03-09T23:46:39.203Z"
   },
   {
    "duration": 24,
    "start_time": "2022-03-09T23:46:39.210Z"
   },
   {
    "duration": 44,
    "start_time": "2022-03-09T23:46:39.235Z"
   },
   {
    "duration": 8,
    "start_time": "2022-03-09T23:46:39.281Z"
   },
   {
    "duration": 16,
    "start_time": "2022-03-09T23:46:39.290Z"
   },
   {
    "duration": 17,
    "start_time": "2022-03-09T23:46:39.308Z"
   },
   {
    "duration": 4,
    "start_time": "2022-03-09T23:46:39.327Z"
   },
   {
    "duration": 52,
    "start_time": "2022-03-09T23:46:39.333Z"
   },
   {
    "duration": 14,
    "start_time": "2022-03-09T23:46:39.387Z"
   },
   {
    "duration": 15,
    "start_time": "2022-03-09T23:46:39.402Z"
   },
   {
    "duration": 7,
    "start_time": "2022-03-09T23:46:39.419Z"
   },
   {
    "duration": 11,
    "start_time": "2022-03-09T23:46:39.427Z"
   },
   {
    "duration": 36,
    "start_time": "2022-03-09T23:46:39.476Z"
   },
   {
    "duration": 30,
    "start_time": "2022-03-09T23:46:39.514Z"
   },
   {
    "duration": 46,
    "start_time": "2022-03-09T23:46:39.546Z"
   },
   {
    "duration": 361,
    "start_time": "2022-03-09T23:46:39.593Z"
   },
   {
    "duration": -1251,
    "start_time": "2022-03-09T23:46:41.207Z"
   },
   {
    "duration": -1254,
    "start_time": "2022-03-09T23:46:41.210Z"
   },
   {
    "duration": -1255,
    "start_time": "2022-03-09T23:46:41.213Z"
   },
   {
    "duration": -1259,
    "start_time": "2022-03-09T23:46:41.217Z"
   },
   {
    "duration": -1260,
    "start_time": "2022-03-09T23:46:41.219Z"
   },
   {
    "duration": -1262,
    "start_time": "2022-03-09T23:46:41.222Z"
   },
   {
    "duration": -1264,
    "start_time": "2022-03-09T23:46:41.225Z"
   },
   {
    "duration": -1266,
    "start_time": "2022-03-09T23:46:41.228Z"
   },
   {
    "duration": -1268,
    "start_time": "2022-03-09T23:46:41.231Z"
   },
   {
    "duration": -1270,
    "start_time": "2022-03-09T23:46:41.234Z"
   },
   {
    "duration": -1272,
    "start_time": "2022-03-09T23:46:41.237Z"
   },
   {
    "duration": -1275,
    "start_time": "2022-03-09T23:46:41.241Z"
   },
   {
    "duration": -1278,
    "start_time": "2022-03-09T23:46:41.245Z"
   },
   {
    "duration": -1281,
    "start_time": "2022-03-09T23:46:41.249Z"
   },
   {
    "duration": -1283,
    "start_time": "2022-03-09T23:46:41.252Z"
   },
   {
    "duration": -1286,
    "start_time": "2022-03-09T23:46:41.256Z"
   },
   {
    "duration": -1302,
    "start_time": "2022-03-09T23:46:41.273Z"
   },
   {
    "duration": -1324,
    "start_time": "2022-03-09T23:46:41.296Z"
   },
   {
    "duration": -1336,
    "start_time": "2022-03-09T23:46:41.309Z"
   },
   {
    "duration": -1339,
    "start_time": "2022-03-09T23:46:41.313Z"
   },
   {
    "duration": -1352,
    "start_time": "2022-03-09T23:46:41.327Z"
   },
   {
    "duration": -1357,
    "start_time": "2022-03-09T23:46:41.333Z"
   },
   {
    "duration": -1370,
    "start_time": "2022-03-09T23:46:41.347Z"
   },
   {
    "duration": 5,
    "start_time": "2022-03-10T00:10:26.839Z"
   },
   {
    "duration": 17,
    "start_time": "2022-03-10T00:10:45.009Z"
   },
   {
    "duration": 6,
    "start_time": "2022-03-10T00:48:42.545Z"
   },
   {
    "duration": 6,
    "start_time": "2022-03-10T00:48:49.170Z"
   },
   {
    "duration": 16,
    "start_time": "2022-03-10T00:49:05.313Z"
   },
   {
    "duration": 12,
    "start_time": "2022-03-10T00:50:10.405Z"
   },
   {
    "duration": 262,
    "start_time": "2022-03-10T00:51:05.892Z"
   },
   {
    "duration": 8,
    "start_time": "2022-03-10T00:51:18.225Z"
   },
   {
    "duration": 257,
    "start_time": "2022-03-10T00:53:26.527Z"
   },
   {
    "duration": 280,
    "start_time": "2022-03-10T00:53:35.601Z"
   },
   {
    "duration": 11,
    "start_time": "2022-03-10T00:53:45.971Z"
   },
   {
    "duration": 90,
    "start_time": "2022-03-10T00:54:07.594Z"
   },
   {
    "duration": 317,
    "start_time": "2022-03-10T00:56:32.109Z"
   },
   {
    "duration": 304,
    "start_time": "2022-03-10T00:57:25.153Z"
   },
   {
    "duration": 262,
    "start_time": "2022-03-10T00:57:31.635Z"
   },
   {
    "duration": 247,
    "start_time": "2022-03-10T00:57:47.171Z"
   },
   {
    "duration": 1265,
    "start_time": "2022-03-10T00:58:01.193Z"
   },
   {
    "duration": 333,
    "start_time": "2022-03-10T00:58:02.460Z"
   },
   {
    "duration": 7,
    "start_time": "2022-03-10T00:58:02.795Z"
   },
   {
    "duration": 17,
    "start_time": "2022-03-10T00:58:02.805Z"
   },
   {
    "duration": 10,
    "start_time": "2022-03-10T00:58:02.824Z"
   },
   {
    "duration": 12,
    "start_time": "2022-03-10T00:58:02.836Z"
   },
   {
    "duration": 14,
    "start_time": "2022-03-10T00:58:02.849Z"
   },
   {
    "duration": 13,
    "start_time": "2022-03-10T00:58:02.866Z"
   },
   {
    "duration": 8,
    "start_time": "2022-03-10T00:58:02.882Z"
   },
   {
    "duration": 5,
    "start_time": "2022-03-10T00:58:02.891Z"
   },
   {
    "duration": 23,
    "start_time": "2022-03-10T00:58:02.897Z"
   },
   {
    "duration": 5,
    "start_time": "2022-03-10T00:58:02.921Z"
   },
   {
    "duration": 12,
    "start_time": "2022-03-10T00:58:02.927Z"
   },
   {
    "duration": 37,
    "start_time": "2022-03-10T00:58:02.941Z"
   },
   {
    "duration": 17,
    "start_time": "2022-03-10T00:58:02.980Z"
   },
   {
    "duration": 8,
    "start_time": "2022-03-10T00:58:02.999Z"
   },
   {
    "duration": 18,
    "start_time": "2022-03-10T00:58:03.009Z"
   },
   {
    "duration": 5,
    "start_time": "2022-03-10T00:58:03.029Z"
   },
   {
    "duration": 52,
    "start_time": "2022-03-10T00:58:03.035Z"
   },
   {
    "duration": 4,
    "start_time": "2022-03-10T00:58:03.089Z"
   },
   {
    "duration": 6,
    "start_time": "2022-03-10T00:58:03.095Z"
   },
   {
    "duration": 36,
    "start_time": "2022-03-10T00:58:03.103Z"
   },
   {
    "duration": 17,
    "start_time": "2022-03-10T00:58:03.143Z"
   },
   {
    "duration": 12,
    "start_time": "2022-03-10T00:58:03.179Z"
   },
   {
    "duration": 7,
    "start_time": "2022-03-10T00:58:03.193Z"
   },
   {
    "duration": 9,
    "start_time": "2022-03-10T00:58:03.202Z"
   },
   {
    "duration": 14,
    "start_time": "2022-03-10T00:58:03.213Z"
   },
   {
    "duration": 4,
    "start_time": "2022-03-10T00:58:03.228Z"
   },
   {
    "duration": 56,
    "start_time": "2022-03-10T00:58:03.234Z"
   },
   {
    "duration": 14,
    "start_time": "2022-03-10T00:58:03.291Z"
   },
   {
    "duration": 16,
    "start_time": "2022-03-10T00:58:03.307Z"
   },
   {
    "duration": 12,
    "start_time": "2022-03-10T00:58:03.325Z"
   },
   {
    "duration": 16,
    "start_time": "2022-03-10T00:58:03.339Z"
   },
   {
    "duration": 3,
    "start_time": "2022-03-10T00:58:03.378Z"
   },
   {
    "duration": 34,
    "start_time": "2022-03-10T00:58:03.383Z"
   },
   {
    "duration": 13,
    "start_time": "2022-03-10T00:58:03.418Z"
   },
   {
    "duration": 11,
    "start_time": "2022-03-10T00:58:03.432Z"
   },
   {
    "duration": 34,
    "start_time": "2022-03-10T00:58:03.445Z"
   },
   {
    "duration": 6,
    "start_time": "2022-03-10T00:58:03.481Z"
   },
   {
    "duration": 9,
    "start_time": "2022-03-10T00:58:03.489Z"
   },
   {
    "duration": 38,
    "start_time": "2022-03-10T00:58:03.499Z"
   },
   {
    "duration": 57,
    "start_time": "2022-03-10T00:58:03.539Z"
   },
   {
    "duration": 25,
    "start_time": "2022-03-10T00:58:03.597Z"
   },
   {
    "duration": 361,
    "start_time": "2022-03-10T00:58:03.624Z"
   },
   {
    "duration": -1292,
    "start_time": "2022-03-10T00:58:05.280Z"
   },
   {
    "duration": -1308,
    "start_time": "2022-03-10T00:58:05.297Z"
   },
   {
    "duration": -1311,
    "start_time": "2022-03-10T00:58:05.301Z"
   },
   {
    "duration": -1314,
    "start_time": "2022-03-10T00:58:05.305Z"
   },
   {
    "duration": -1317,
    "start_time": "2022-03-10T00:58:05.309Z"
   },
   {
    "duration": -1320,
    "start_time": "2022-03-10T00:58:05.313Z"
   },
   {
    "duration": -1340,
    "start_time": "2022-03-10T00:58:05.334Z"
   },
   {
    "duration": -1357,
    "start_time": "2022-03-10T00:58:05.353Z"
   },
   {
    "duration": -1365,
    "start_time": "2022-03-10T00:58:05.362Z"
   },
   {
    "duration": -1379,
    "start_time": "2022-03-10T00:58:05.377Z"
   },
   {
    "duration": -1386,
    "start_time": "2022-03-10T00:58:05.386Z"
   },
   {
    "duration": -1392,
    "start_time": "2022-03-10T00:58:05.393Z"
   },
   {
    "duration": -1402,
    "start_time": "2022-03-10T00:58:05.404Z"
   },
   {
    "duration": -1416,
    "start_time": "2022-03-10T00:58:05.419Z"
   },
   {
    "duration": -1422,
    "start_time": "2022-03-10T00:58:05.426Z"
   },
   {
    "duration": -1431,
    "start_time": "2022-03-10T00:58:05.437Z"
   },
   {
    "duration": -1442,
    "start_time": "2022-03-10T00:58:05.449Z"
   },
   {
    "duration": -1445,
    "start_time": "2022-03-10T00:58:05.453Z"
   },
   {
    "duration": -1451,
    "start_time": "2022-03-10T00:58:05.460Z"
   },
   {
    "duration": -1459,
    "start_time": "2022-03-10T00:58:05.469Z"
   },
   {
    "duration": -1463,
    "start_time": "2022-03-10T00:58:05.475Z"
   },
   {
    "duration": -1472,
    "start_time": "2022-03-10T00:58:05.485Z"
   },
   {
    "duration": -1477,
    "start_time": "2022-03-10T00:58:05.491Z"
   },
   {
    "duration": 16,
    "start_time": "2022-03-10T00:59:17.132Z"
   },
   {
    "duration": 15,
    "start_time": "2022-03-10T01:08:40.080Z"
   },
   {
    "duration": 16,
    "start_time": "2022-03-10T01:18:39.292Z"
   },
   {
    "duration": 290,
    "start_time": "2022-03-10T01:22:59.700Z"
   },
   {
    "duration": 4,
    "start_time": "2022-03-10T01:23:10.819Z"
   },
   {
    "duration": 15,
    "start_time": "2022-03-10T01:23:21.241Z"
   },
   {
    "duration": 10,
    "start_time": "2022-03-10T01:23:39.993Z"
   },
   {
    "duration": 8,
    "start_time": "2022-03-10T01:26:12.778Z"
   },
   {
    "duration": 26,
    "start_time": "2022-03-10T01:26:56.605Z"
   },
   {
    "duration": 9,
    "start_time": "2022-03-10T01:32:31.868Z"
   },
   {
    "duration": 8,
    "start_time": "2022-03-10T01:32:48.900Z"
   },
   {
    "duration": 23,
    "start_time": "2022-03-10T01:33:29.957Z"
   },
   {
    "duration": 299,
    "start_time": "2022-03-10T01:34:09.715Z"
   },
   {
    "duration": 248,
    "start_time": "2022-03-10T01:34:31.906Z"
   },
   {
    "duration": 319,
    "start_time": "2022-03-10T01:34:45.366Z"
   },
   {
    "duration": 1283,
    "start_time": "2022-03-10T01:35:02.115Z"
   },
   {
    "duration": 331,
    "start_time": "2022-03-10T01:35:03.401Z"
   },
   {
    "duration": 7,
    "start_time": "2022-03-10T01:35:03.734Z"
   },
   {
    "duration": 21,
    "start_time": "2022-03-10T01:35:03.743Z"
   },
   {
    "duration": 12,
    "start_time": "2022-03-10T01:35:03.766Z"
   },
   {
    "duration": 16,
    "start_time": "2022-03-10T01:35:03.779Z"
   },
   {
    "duration": 16,
    "start_time": "2022-03-10T01:35:03.797Z"
   },
   {
    "duration": 9,
    "start_time": "2022-03-10T01:35:03.815Z"
   },
   {
    "duration": 13,
    "start_time": "2022-03-10T01:35:03.826Z"
   },
   {
    "duration": 11,
    "start_time": "2022-03-10T01:35:03.840Z"
   },
   {
    "duration": 35,
    "start_time": "2022-03-10T01:35:03.853Z"
   },
   {
    "duration": 5,
    "start_time": "2022-03-10T01:35:03.890Z"
   },
   {
    "duration": 10,
    "start_time": "2022-03-10T01:35:03.897Z"
   },
   {
    "duration": 21,
    "start_time": "2022-03-10T01:35:03.909Z"
   },
   {
    "duration": 34,
    "start_time": "2022-03-10T01:35:03.932Z"
   },
   {
    "duration": 13,
    "start_time": "2022-03-10T01:35:03.968Z"
   },
   {
    "duration": 21,
    "start_time": "2022-03-10T01:35:03.983Z"
   },
   {
    "duration": 5,
    "start_time": "2022-03-10T01:35:04.006Z"
   },
   {
    "duration": 28,
    "start_time": "2022-03-10T01:35:04.013Z"
   },
   {
    "duration": 5,
    "start_time": "2022-03-10T01:35:04.043Z"
   },
   {
    "duration": 11,
    "start_time": "2022-03-10T01:35:04.050Z"
   },
   {
    "duration": 30,
    "start_time": "2022-03-10T01:35:04.078Z"
   },
   {
    "duration": 17,
    "start_time": "2022-03-10T01:35:04.112Z"
   },
   {
    "duration": 12,
    "start_time": "2022-03-10T01:35:04.132Z"
   },
   {
    "duration": 35,
    "start_time": "2022-03-10T01:35:04.146Z"
   },
   {
    "duration": 18,
    "start_time": "2022-03-10T01:35:04.183Z"
   },
   {
    "duration": 21,
    "start_time": "2022-03-10T01:35:04.203Z"
   },
   {
    "duration": 14,
    "start_time": "2022-03-10T01:35:04.226Z"
   },
   {
    "duration": 27,
    "start_time": "2022-03-10T01:35:04.243Z"
   },
   {
    "duration": 18,
    "start_time": "2022-03-10T01:35:04.272Z"
   },
   {
    "duration": 11,
    "start_time": "2022-03-10T01:35:04.292Z"
   },
   {
    "duration": 19,
    "start_time": "2022-03-10T01:35:04.305Z"
   },
   {
    "duration": 19,
    "start_time": "2022-03-10T01:35:04.327Z"
   },
   {
    "duration": 31,
    "start_time": "2022-03-10T01:35:04.348Z"
   },
   {
    "duration": 34,
    "start_time": "2022-03-10T01:35:04.381Z"
   },
   {
    "duration": 17,
    "start_time": "2022-03-10T01:35:04.417Z"
   },
   {
    "duration": 52,
    "start_time": "2022-03-10T01:35:04.436Z"
   },
   {
    "duration": 14,
    "start_time": "2022-03-10T01:35:04.490Z"
   },
   {
    "duration": 1200,
    "start_time": "2022-03-10T01:35:04.506Z"
   },
   {
    "duration": -756,
    "start_time": "2022-03-10T01:35:06.464Z"
   },
   {
    "duration": -760,
    "start_time": "2022-03-10T01:35:06.470Z"
   },
   {
    "duration": -769,
    "start_time": "2022-03-10T01:35:06.480Z"
   },
   {
    "duration": -776,
    "start_time": "2022-03-10T01:35:06.487Z"
   },
   {
    "duration": -786,
    "start_time": "2022-03-10T01:35:06.498Z"
   },
   {
    "duration": -791,
    "start_time": "2022-03-10T01:35:06.504Z"
   },
   {
    "duration": -799,
    "start_time": "2022-03-10T01:35:06.513Z"
   },
   {
    "duration": -805,
    "start_time": "2022-03-10T01:35:06.520Z"
   },
   {
    "duration": -815,
    "start_time": "2022-03-10T01:35:06.531Z"
   },
   {
    "duration": -821,
    "start_time": "2022-03-10T01:35:06.538Z"
   },
   {
    "duration": -830,
    "start_time": "2022-03-10T01:35:06.548Z"
   },
   {
    "duration": -842,
    "start_time": "2022-03-10T01:35:06.561Z"
   },
   {
    "duration": -845,
    "start_time": "2022-03-10T01:35:06.565Z"
   },
   {
    "duration": -857,
    "start_time": "2022-03-10T01:35:06.578Z"
   },
   {
    "duration": -1126,
    "start_time": "2022-03-10T01:35:06.848Z"
   },
   {
    "duration": -1131,
    "start_time": "2022-03-10T01:35:06.854Z"
   },
   {
    "duration": -1140,
    "start_time": "2022-03-10T01:35:06.864Z"
   },
   {
    "duration": -1144,
    "start_time": "2022-03-10T01:35:06.869Z"
   },
   {
    "duration": -1148,
    "start_time": "2022-03-10T01:35:06.874Z"
   },
   {
    "duration": -1151,
    "start_time": "2022-03-10T01:35:06.878Z"
   },
   {
    "duration": -1153,
    "start_time": "2022-03-10T01:35:06.881Z"
   },
   {
    "duration": -1156,
    "start_time": "2022-03-10T01:35:06.885Z"
   },
   {
    "duration": -1158,
    "start_time": "2022-03-10T01:35:06.888Z"
   },
   {
    "duration": -1160,
    "start_time": "2022-03-10T01:35:06.891Z"
   },
   {
    "duration": -1162,
    "start_time": "2022-03-10T01:35:06.894Z"
   },
   {
    "duration": -1165,
    "start_time": "2022-03-10T01:35:06.898Z"
   },
   {
    "duration": -1167,
    "start_time": "2022-03-10T01:35:06.901Z"
   },
   {
    "duration": -1169,
    "start_time": "2022-03-10T01:35:06.904Z"
   },
   {
    "duration": -1171,
    "start_time": "2022-03-10T01:35:06.907Z"
   },
   {
    "duration": -1173,
    "start_time": "2022-03-10T01:35:06.910Z"
   },
   {
    "duration": -1176,
    "start_time": "2022-03-10T01:35:06.913Z"
   },
   {
    "duration": -1179,
    "start_time": "2022-03-10T01:35:06.917Z"
   },
   {
    "duration": 8,
    "start_time": "2022-03-10T01:36:27.965Z"
   },
   {
    "duration": 10,
    "start_time": "2022-03-10T01:36:31.962Z"
   },
   {
    "duration": 5,
    "start_time": "2022-03-10T01:36:47.421Z"
   },
   {
    "duration": 23,
    "start_time": "2022-03-10T01:37:09.287Z"
   },
   {
    "duration": 1168,
    "start_time": "2022-03-10T01:37:40.588Z"
   },
   {
    "duration": 326,
    "start_time": "2022-03-10T01:37:43.338Z"
   },
   {
    "duration": 7,
    "start_time": "2022-03-10T01:37:47.320Z"
   },
   {
    "duration": 14,
    "start_time": "2022-03-10T01:37:50.751Z"
   },
   {
    "duration": 7,
    "start_time": "2022-03-10T01:37:54.326Z"
   },
   {
    "duration": 10,
    "start_time": "2022-03-10T01:37:58.194Z"
   },
   {
    "duration": 10,
    "start_time": "2022-03-10T01:38:01.114Z"
   },
   {
    "duration": 4,
    "start_time": "2022-03-10T01:38:04.445Z"
   },
   {
    "duration": 3,
    "start_time": "2022-03-10T01:38:09.792Z"
   },
   {
    "duration": 19,
    "start_time": "2022-03-10T01:38:12.078Z"
   },
   {
    "duration": 3,
    "start_time": "2022-03-10T01:38:15.430Z"
   },
   {
    "duration": 6,
    "start_time": "2022-03-10T01:38:18.507Z"
   },
   {
    "duration": 19,
    "start_time": "2022-03-10T01:38:22.186Z"
   },
   {
    "duration": 17,
    "start_time": "2022-03-10T01:38:27.001Z"
   },
   {
    "duration": 8,
    "start_time": "2022-03-10T01:38:29.822Z"
   },
   {
    "duration": 10,
    "start_time": "2022-03-10T01:38:33.161Z"
   },
   {
    "duration": 6,
    "start_time": "2022-03-10T01:38:36.754Z"
   },
   {
    "duration": 23,
    "start_time": "2022-03-10T01:38:40.287Z"
   },
   {
    "duration": 5,
    "start_time": "2022-03-10T01:38:42.608Z"
   },
   {
    "duration": 28,
    "start_time": "2022-03-10T01:39:07.433Z"
   },
   {
    "duration": 20,
    "start_time": "2022-03-10T01:39:15.767Z"
   },
   {
    "duration": 11,
    "start_time": "2022-03-10T01:39:19.983Z"
   },
   {
    "duration": 7,
    "start_time": "2022-03-10T01:39:22.364Z"
   },
   {
    "duration": 6,
    "start_time": "2022-03-10T01:39:27.667Z"
   },
   {
    "duration": 16,
    "start_time": "2022-03-10T01:39:30.820Z"
   },
   {
    "duration": 4,
    "start_time": "2022-03-10T01:39:32.642Z"
   },
   {
    "duration": 20,
    "start_time": "2022-03-10T01:39:37.163Z"
   },
   {
    "duration": 15,
    "start_time": "2022-03-10T01:39:40.437Z"
   },
   {
    "duration": 9,
    "start_time": "2022-03-10T01:39:44.356Z"
   },
   {
    "duration": 10,
    "start_time": "2022-03-10T01:39:48.081Z"
   },
   {
    "duration": 16,
    "start_time": "2022-03-10T01:39:51.695Z"
   },
   {
    "duration": 4,
    "start_time": "2022-03-10T01:39:54.491Z"
   },
   {
    "duration": 25,
    "start_time": "2022-03-10T01:40:06.454Z"
   },
   {
    "duration": 12,
    "start_time": "2022-03-10T01:40:14.763Z"
   },
   {
    "duration": 14,
    "start_time": "2022-03-10T01:40:24.623Z"
   },
   {
    "duration": 16,
    "start_time": "2022-03-10T01:41:44.265Z"
   },
   {
    "duration": 29,
    "start_time": "2022-03-10T01:41:50.325Z"
   },
   {
    "duration": 13,
    "start_time": "2022-03-10T01:42:27.978Z"
   },
   {
    "duration": 10,
    "start_time": "2022-03-10T01:42:42.610Z"
   },
   {
    "duration": 11,
    "start_time": "2022-03-10T01:42:47.556Z"
   },
   {
    "duration": 14,
    "start_time": "2022-03-10T01:42:51.158Z"
   },
   {
    "duration": 7,
    "start_time": "2022-03-10T01:43:01.360Z"
   },
   {
    "duration": 9,
    "start_time": "2022-03-10T01:43:07.222Z"
   },
   {
    "duration": 36,
    "start_time": "2022-03-10T01:43:11.639Z"
   },
   {
    "duration": 343,
    "start_time": "2022-03-10T01:45:07.792Z"
   },
   {
    "duration": 289,
    "start_time": "2022-03-10T01:45:22.568Z"
   },
   {
    "duration": 35,
    "start_time": "2022-03-10T01:45:42.273Z"
   },
   {
    "duration": 42,
    "start_time": "2022-03-10T01:45:53.786Z"
   },
   {
    "duration": 31,
    "start_time": "2022-03-10T01:46:14.418Z"
   },
   {
    "duration": 26,
    "start_time": "2022-03-10T01:47:32.270Z"
   },
   {
    "duration": 28,
    "start_time": "2022-03-10T01:47:36.638Z"
   },
   {
    "duration": 31,
    "start_time": "2022-03-10T01:47:40.012Z"
   },
   {
    "duration": 33,
    "start_time": "2022-03-10T01:47:44.406Z"
   },
   {
    "duration": 93,
    "start_time": "2022-03-10T01:47:49.521Z"
   },
   {
    "duration": 19,
    "start_time": "2022-03-10T01:47:52.454Z"
   },
   {
    "duration": 7,
    "start_time": "2022-03-10T01:47:59.214Z"
   },
   {
    "duration": 3715,
    "start_time": "2022-03-10T01:48:02.646Z"
   },
   {
    "duration": -1696,
    "start_time": "2022-03-10T01:48:08.059Z"
   },
   {
    "duration": -1538,
    "start_time": "2022-03-10T01:48:18.306Z"
   },
   {
    "duration": 3699,
    "start_time": "2022-03-10T01:48:23.753Z"
   },
   {
    "duration": 3673,
    "start_time": "2022-03-10T01:49:18.962Z"
   },
   {
    "duration": 3780,
    "start_time": "2022-03-10T01:50:39.293Z"
   },
   {
    "duration": 2651,
    "start_time": "2022-03-10T01:56:21.676Z"
   },
   {
    "duration": 4,
    "start_time": "2022-03-10T01:58:16.324Z"
   },
   {
    "duration": 5,
    "start_time": "2022-03-10T01:58:18.774Z"
   },
   {
    "duration": 3,
    "start_time": "2022-03-10T01:58:22.461Z"
   },
   {
    "duration": 18,
    "start_time": "2022-03-10T01:58:27.316Z"
   },
   {
    "duration": 4,
    "start_time": "2022-03-10T01:58:34.934Z"
   },
   {
    "duration": 6,
    "start_time": "2022-03-10T01:58:38.314Z"
   },
   {
    "duration": 18,
    "start_time": "2022-03-10T01:58:45.116Z"
   },
   {
    "duration": 14,
    "start_time": "2022-03-10T01:58:54.054Z"
   },
   {
    "duration": 10,
    "start_time": "2022-03-10T01:59:00.650Z"
   },
   {
    "duration": 4,
    "start_time": "2022-03-10T01:59:05.769Z"
   },
   {
    "duration": 5,
    "start_time": "2022-03-10T01:59:09.575Z"
   },
   {
    "duration": 7,
    "start_time": "2022-03-10T01:59:18.902Z"
   },
   {
    "duration": 4,
    "start_time": "2022-03-10T01:59:23.086Z"
   },
   {
    "duration": 2,
    "start_time": "2022-03-10T01:59:30.068Z"
   },
   {
    "duration": 27,
    "start_time": "2022-03-10T01:59:34.543Z"
   },
   {
    "duration": 4,
    "start_time": "2022-03-10T02:00:19.294Z"
   },
   {
    "duration": 17,
    "start_time": "2022-03-10T02:00:45.554Z"
   },
   {
    "duration": 10,
    "start_time": "2022-03-10T02:00:58.532Z"
   },
   {
    "duration": 9,
    "start_time": "2022-03-10T02:01:01.684Z"
   },
   {
    "duration": 4,
    "start_time": "2022-03-10T02:01:05.910Z"
   },
   {
    "duration": 6,
    "start_time": "2022-03-10T02:01:09.792Z"
   },
   {
    "duration": 4,
    "start_time": "2022-03-10T02:01:13.414Z"
   },
   {
    "duration": 19,
    "start_time": "2022-03-10T02:01:18.134Z"
   },
   {
    "duration": 11,
    "start_time": "2022-03-10T02:01:24.863Z"
   },
   {
    "duration": 8,
    "start_time": "2022-03-10T02:01:38.302Z"
   },
   {
    "duration": 6,
    "start_time": "2022-03-10T02:01:43.544Z"
   },
   {
    "duration": 4,
    "start_time": "2022-03-10T02:01:48.745Z"
   },
   {
    "duration": 23,
    "start_time": "2022-03-10T02:02:00.214Z"
   },
   {
    "duration": 4,
    "start_time": "2022-03-10T02:02:44.387Z"
   },
   {
    "duration": 498,
    "start_time": "2022-03-10T02:02:50.390Z"
   },
   {
    "duration": 4,
    "start_time": "2022-03-10T02:03:00.352Z"
   },
   {
    "duration": 297,
    "start_time": "2022-03-10T02:03:03.886Z"
   },
   {
    "duration": 1254,
    "start_time": "2022-03-10T02:04:09.060Z"
   },
   {
    "duration": 315,
    "start_time": "2022-03-10T02:04:10.316Z"
   },
   {
    "duration": 8,
    "start_time": "2022-03-10T02:04:10.633Z"
   },
   {
    "duration": 17,
    "start_time": "2022-03-10T02:04:10.643Z"
   },
   {
    "duration": 6,
    "start_time": "2022-03-10T02:04:10.662Z"
   },
   {
    "duration": 12,
    "start_time": "2022-03-10T02:04:10.670Z"
   },
   {
    "duration": 11,
    "start_time": "2022-03-10T02:04:10.684Z"
   },
   {
    "duration": 4,
    "start_time": "2022-03-10T02:04:10.699Z"
   },
   {
    "duration": 11,
    "start_time": "2022-03-10T02:04:10.705Z"
   },
   {
    "duration": 6,
    "start_time": "2022-03-10T02:04:10.718Z"
   },
   {
    "duration": 21,
    "start_time": "2022-03-10T02:04:10.726Z"
   },
   {
    "duration": 8,
    "start_time": "2022-03-10T02:04:10.749Z"
   },
   {
    "duration": 20,
    "start_time": "2022-03-10T02:04:10.758Z"
   },
   {
    "duration": 19,
    "start_time": "2022-03-10T02:04:10.780Z"
   },
   {
    "duration": 19,
    "start_time": "2022-03-10T02:04:10.800Z"
   },
   {
    "duration": 8,
    "start_time": "2022-03-10T02:04:10.821Z"
   },
   {
    "duration": 11,
    "start_time": "2022-03-10T02:04:10.831Z"
   },
   {
    "duration": 35,
    "start_time": "2022-03-10T02:04:10.844Z"
   },
   {
    "duration": 22,
    "start_time": "2022-03-10T02:04:10.881Z"
   },
   {
    "duration": 4,
    "start_time": "2022-03-10T02:04:10.905Z"
   },
   {
    "duration": 4,
    "start_time": "2022-03-10T02:04:10.910Z"
   },
   {
    "duration": 31,
    "start_time": "2022-03-10T02:04:10.916Z"
   },
   {
    "duration": 4,
    "start_time": "2022-03-10T02:04:10.980Z"
   },
   {
    "duration": 18,
    "start_time": "2022-03-10T02:04:10.986Z"
   },
   {
    "duration": 12,
    "start_time": "2022-03-10T02:04:11.006Z"
   },
   {
    "duration": 7,
    "start_time": "2022-03-10T02:04:11.020Z"
   },
   {
    "duration": 8,
    "start_time": "2022-03-10T02:04:11.029Z"
   },
   {
    "duration": 49,
    "start_time": "2022-03-10T02:04:11.039Z"
   },
   {
    "duration": 4,
    "start_time": "2022-03-10T02:04:11.090Z"
   },
   {
    "duration": 22,
    "start_time": "2022-03-10T02:04:11.096Z"
   },
   {
    "duration": 15,
    "start_time": "2022-03-10T02:04:11.120Z"
   },
   {
    "duration": 8,
    "start_time": "2022-03-10T02:04:11.137Z"
   },
   {
    "duration": 11,
    "start_time": "2022-03-10T02:04:11.177Z"
   },
   {
    "duration": 17,
    "start_time": "2022-03-10T02:04:11.190Z"
   },
   {
    "duration": 3,
    "start_time": "2022-03-10T02:04:11.209Z"
   },
   {
    "duration": 27,
    "start_time": "2022-03-10T02:04:11.214Z"
   },
   {
    "duration": 4,
    "start_time": "2022-03-10T02:04:11.242Z"
   },
   {
    "duration": 48,
    "start_time": "2022-03-10T02:04:11.248Z"
   },
   {
    "duration": 27,
    "start_time": "2022-03-10T02:04:11.298Z"
   },
   {
    "duration": 12,
    "start_time": "2022-03-10T02:04:11.327Z"
   },
   {
    "duration": 44,
    "start_time": "2022-03-10T02:04:11.340Z"
   },
   {
    "duration": 11,
    "start_time": "2022-03-10T02:04:11.386Z"
   },
   {
    "duration": 14,
    "start_time": "2022-03-10T02:04:11.398Z"
   },
   {
    "duration": 6,
    "start_time": "2022-03-10T02:04:11.414Z"
   },
   {
    "duration": 9,
    "start_time": "2022-03-10T02:04:11.422Z"
   },
   {
    "duration": 71,
    "start_time": "2022-03-10T02:04:11.432Z"
   },
   {
    "duration": 26,
    "start_time": "2022-03-10T02:04:11.504Z"
   },
   {
    "duration": 55,
    "start_time": "2022-03-10T02:04:11.532Z"
   },
   {
    "duration": 24,
    "start_time": "2022-03-10T02:04:11.588Z"
   },
   {
    "duration": 24,
    "start_time": "2022-03-10T02:04:11.614Z"
   },
   {
    "duration": 49,
    "start_time": "2022-03-10T02:04:11.640Z"
   },
   {
    "duration": 32,
    "start_time": "2022-03-10T02:04:11.690Z"
   },
   {
    "duration": 112,
    "start_time": "2022-03-10T02:04:11.723Z"
   },
   {
    "duration": 19,
    "start_time": "2022-03-10T02:04:11.837Z"
   },
   {
    "duration": 22,
    "start_time": "2022-03-10T02:04:11.858Z"
   },
   {
    "duration": 2687,
    "start_time": "2022-03-10T02:04:11.882Z"
   },
   {
    "duration": -943,
    "start_time": "2022-03-10T02:04:15.514Z"
   },
   {
    "duration": -946,
    "start_time": "2022-03-10T02:04:15.518Z"
   },
   {
    "duration": -952,
    "start_time": "2022-03-10T02:04:15.525Z"
   },
   {
    "duration": -955,
    "start_time": "2022-03-10T02:04:15.529Z"
   },
   {
    "duration": -959,
    "start_time": "2022-03-10T02:04:15.533Z"
   },
   {
    "duration": -964,
    "start_time": "2022-03-10T02:04:15.539Z"
   },
   {
    "duration": -966,
    "start_time": "2022-03-10T02:04:15.542Z"
   },
   {
    "duration": -969,
    "start_time": "2022-03-10T02:04:15.546Z"
   },
   {
    "duration": -971,
    "start_time": "2022-03-10T02:04:15.549Z"
   },
   {
    "duration": -974,
    "start_time": "2022-03-10T02:04:15.553Z"
   },
   {
    "duration": -976,
    "start_time": "2022-03-10T02:04:15.556Z"
   },
   {
    "duration": -978,
    "start_time": "2022-03-10T02:04:15.559Z"
   },
   {
    "duration": -982,
    "start_time": "2022-03-10T02:04:15.563Z"
   },
   {
    "duration": -1161,
    "start_time": "2022-03-10T02:04:15.743Z"
   },
   {
    "duration": -1165,
    "start_time": "2022-03-10T02:04:15.748Z"
   },
   {
    "duration": -1179,
    "start_time": "2022-03-10T02:04:15.763Z"
   },
   {
    "duration": -1194,
    "start_time": "2022-03-10T02:04:15.779Z"
   },
   {
    "duration": -1213,
    "start_time": "2022-03-10T02:04:15.799Z"
   },
   {
    "duration": 32,
    "start_time": "2022-03-10T02:05:06.165Z"
   },
   {
    "duration": 12,
    "start_time": "2022-03-10T02:05:15.365Z"
   },
   {
    "duration": 21,
    "start_time": "2022-03-10T02:06:15.423Z"
   },
   {
    "duration": 1193,
    "start_time": "2022-03-10T02:06:24.851Z"
   },
   {
    "duration": 306,
    "start_time": "2022-03-10T02:06:26.046Z"
   },
   {
    "duration": 8,
    "start_time": "2022-03-10T02:06:26.354Z"
   },
   {
    "duration": 20,
    "start_time": "2022-03-10T02:06:26.364Z"
   },
   {
    "duration": 7,
    "start_time": "2022-03-10T02:06:26.386Z"
   },
   {
    "duration": 12,
    "start_time": "2022-03-10T02:06:26.395Z"
   },
   {
    "duration": 10,
    "start_time": "2022-03-10T02:06:26.409Z"
   },
   {
    "duration": 4,
    "start_time": "2022-03-10T02:06:26.423Z"
   },
   {
    "duration": 6,
    "start_time": "2022-03-10T02:06:26.430Z"
   },
   {
    "duration": 5,
    "start_time": "2022-03-10T02:06:26.438Z"
   },
   {
    "duration": 48,
    "start_time": "2022-03-10T02:06:26.445Z"
   },
   {
    "duration": 3,
    "start_time": "2022-03-10T02:06:26.495Z"
   },
   {
    "duration": 12,
    "start_time": "2022-03-10T02:06:26.500Z"
   },
   {
    "duration": 20,
    "start_time": "2022-03-10T02:06:26.514Z"
   },
   {
    "duration": 44,
    "start_time": "2022-03-10T02:06:26.537Z"
   },
   {
    "duration": 8,
    "start_time": "2022-03-10T02:06:26.583Z"
   },
   {
    "duration": 12,
    "start_time": "2022-03-10T02:06:26.593Z"
   },
   {
    "duration": 6,
    "start_time": "2022-03-10T02:06:26.607Z"
   },
   {
    "duration": 25,
    "start_time": "2022-03-10T02:06:26.615Z"
   },
   {
    "duration": 37,
    "start_time": "2022-03-10T02:06:26.642Z"
   },
   {
    "duration": 7,
    "start_time": "2022-03-10T02:06:26.681Z"
   },
   {
    "duration": 32,
    "start_time": "2022-03-10T02:06:26.690Z"
   },
   {
    "duration": 4,
    "start_time": "2022-03-10T02:06:26.727Z"
   },
   {
    "duration": 19,
    "start_time": "2022-03-10T02:06:26.733Z"
   },
   {
    "duration": 12,
    "start_time": "2022-03-10T02:06:26.778Z"
   },
   {
    "duration": 11,
    "start_time": "2022-03-10T02:06:26.791Z"
   },
   {
    "duration": 7,
    "start_time": "2022-03-10T02:06:26.804Z"
   },
   {
    "duration": 14,
    "start_time": "2022-03-10T02:06:26.813Z"
   },
   {
    "duration": 4,
    "start_time": "2022-03-10T02:06:26.829Z"
   },
   {
    "duration": 52,
    "start_time": "2022-03-10T02:06:26.834Z"
   },
   {
    "duration": 14,
    "start_time": "2022-03-10T02:06:26.888Z"
   },
   {
    "duration": 8,
    "start_time": "2022-03-10T02:06:26.904Z"
   },
   {
    "duration": 17,
    "start_time": "2022-03-10T02:06:26.914Z"
   },
   {
    "duration": 18,
    "start_time": "2022-03-10T02:06:26.932Z"
   },
   {
    "duration": 28,
    "start_time": "2022-03-10T02:06:26.951Z"
   },
   {
    "duration": 28,
    "start_time": "2022-03-10T02:06:26.981Z"
   },
   {
    "duration": 4,
    "start_time": "2022-03-10T02:06:27.011Z"
   },
   {
    "duration": 21,
    "start_time": "2022-03-10T02:06:27.016Z"
   },
   {
    "duration": 45,
    "start_time": "2022-03-10T02:06:27.039Z"
   },
   {
    "duration": 13,
    "start_time": "2022-03-10T02:06:27.087Z"
   },
   {
    "duration": 12,
    "start_time": "2022-03-10T02:06:27.102Z"
   },
   {
    "duration": 12,
    "start_time": "2022-03-10T02:06:27.116Z"
   },
   {
    "duration": 53,
    "start_time": "2022-03-10T02:06:27.130Z"
   },
   {
    "duration": 8,
    "start_time": "2022-03-10T02:06:27.185Z"
   },
   {
    "duration": 9,
    "start_time": "2022-03-10T02:06:27.195Z"
   },
   {
    "duration": 37,
    "start_time": "2022-03-10T02:06:27.206Z"
   },
   {
    "duration": 58,
    "start_time": "2022-03-10T02:06:27.245Z"
   },
   {
    "duration": 41,
    "start_time": "2022-03-10T02:06:27.305Z"
   },
   {
    "duration": 51,
    "start_time": "2022-03-10T02:06:27.348Z"
   },
   {
    "duration": 26,
    "start_time": "2022-03-10T02:06:27.401Z"
   },
   {
    "duration": 52,
    "start_time": "2022-03-10T02:06:27.429Z"
   },
   {
    "duration": 33,
    "start_time": "2022-03-10T02:06:27.483Z"
   },
   {
    "duration": 111,
    "start_time": "2022-03-10T02:06:27.518Z"
   },
   {
    "duration": 17,
    "start_time": "2022-03-10T02:06:27.631Z"
   },
   {
    "duration": 19,
    "start_time": "2022-03-10T02:06:27.650Z"
   },
   {
    "duration": 2720,
    "start_time": "2022-03-10T02:06:27.670Z"
   },
   {
    "duration": -960,
    "start_time": "2022-03-10T02:06:31.352Z"
   },
   {
    "duration": -974,
    "start_time": "2022-03-10T02:06:31.367Z"
   },
   {
    "duration": -986,
    "start_time": "2022-03-10T02:06:31.380Z"
   },
   {
    "duration": -989,
    "start_time": "2022-03-10T02:06:31.384Z"
   },
   {
    "duration": -1000,
    "start_time": "2022-03-10T02:06:31.396Z"
   },
   {
    "duration": -1004,
    "start_time": "2022-03-10T02:06:31.401Z"
   },
   {
    "duration": -1015,
    "start_time": "2022-03-10T02:06:31.413Z"
   },
   {
    "duration": -1018,
    "start_time": "2022-03-10T02:06:31.417Z"
   },
   {
    "duration": -1032,
    "start_time": "2022-03-10T02:06:31.431Z"
   },
   {
    "duration": -1038,
    "start_time": "2022-03-10T02:06:31.438Z"
   },
   {
    "duration": -1049,
    "start_time": "2022-03-10T02:06:31.450Z"
   },
   {
    "duration": -1063,
    "start_time": "2022-03-10T02:06:31.465Z"
   },
   {
    "duration": -1068,
    "start_time": "2022-03-10T02:06:31.471Z"
   },
   {
    "duration": -1078,
    "start_time": "2022-03-10T02:06:31.482Z"
   },
   {
    "duration": -1083,
    "start_time": "2022-03-10T02:06:31.488Z"
   },
   {
    "duration": -1175,
    "start_time": "2022-03-10T02:06:31.580Z"
   },
   {
    "duration": -1179,
    "start_time": "2022-03-10T02:06:31.585Z"
   },
   {
    "duration": -1190,
    "start_time": "2022-03-10T02:06:31.597Z"
   },
   {
    "duration": 274,
    "start_time": "2022-03-10T02:07:16.530Z"
   },
   {
    "duration": 262,
    "start_time": "2022-03-10T02:07:39.745Z"
   },
   {
    "duration": 6410,
    "start_time": "2022-03-10T02:07:49.691Z"
   },
   {
    "duration": -935,
    "start_time": "2022-03-10T02:07:57.038Z"
   },
   {
    "duration": 12,
    "start_time": "2022-03-10T02:07:56.883Z"
   },
   {
    "duration": 14,
    "start_time": "2022-03-10T02:08:01.019Z"
   },
   {
    "duration": 15,
    "start_time": "2022-03-10T02:08:35.080Z"
   },
   {
    "duration": 1237,
    "start_time": "2022-03-10T02:09:03.517Z"
   },
   {
    "duration": 326,
    "start_time": "2022-03-10T02:09:04.756Z"
   },
   {
    "duration": 7,
    "start_time": "2022-03-10T02:09:05.084Z"
   },
   {
    "duration": 25,
    "start_time": "2022-03-10T02:09:05.093Z"
   },
   {
    "duration": 34,
    "start_time": "2022-03-10T02:09:05.120Z"
   },
   {
    "duration": 38,
    "start_time": "2022-03-10T02:09:05.156Z"
   },
   {
    "duration": 36,
    "start_time": "2022-03-10T02:09:05.196Z"
   },
   {
    "duration": 18,
    "start_time": "2022-03-10T02:09:05.235Z"
   },
   {
    "duration": 18,
    "start_time": "2022-03-10T02:09:05.255Z"
   },
   {
    "duration": 14,
    "start_time": "2022-03-10T02:09:05.275Z"
   },
   {
    "duration": 31,
    "start_time": "2022-03-10T02:09:05.291Z"
   },
   {
    "duration": 15,
    "start_time": "2022-03-10T02:09:05.324Z"
   },
   {
    "duration": 15,
    "start_time": "2022-03-10T02:09:05.341Z"
   },
   {
    "duration": 25,
    "start_time": "2022-03-10T02:09:05.358Z"
   },
   {
    "duration": 22,
    "start_time": "2022-03-10T02:09:05.385Z"
   },
   {
    "duration": 8,
    "start_time": "2022-03-10T02:09:05.409Z"
   },
   {
    "duration": 18,
    "start_time": "2022-03-10T02:09:05.419Z"
   },
   {
    "duration": 5,
    "start_time": "2022-03-10T02:09:05.439Z"
   },
   {
    "duration": 43,
    "start_time": "2022-03-10T02:09:05.446Z"
   },
   {
    "duration": 4,
    "start_time": "2022-03-10T02:09:05.491Z"
   },
   {
    "duration": 5,
    "start_time": "2022-03-10T02:09:05.496Z"
   },
   {
    "duration": 32,
    "start_time": "2022-03-10T02:09:05.503Z"
   },
   {
    "duration": 4,
    "start_time": "2022-03-10T02:09:05.539Z"
   },
   {
    "duration": 39,
    "start_time": "2022-03-10T02:09:05.545Z"
   },
   {
    "duration": 12,
    "start_time": "2022-03-10T02:09:05.586Z"
   },
   {
    "duration": 6,
    "start_time": "2022-03-10T02:09:05.601Z"
   },
   {
    "duration": 9,
    "start_time": "2022-03-10T02:09:05.609Z"
   },
   {
    "duration": 14,
    "start_time": "2022-03-10T02:09:05.620Z"
   },
   {
    "duration": 4,
    "start_time": "2022-03-10T02:09:05.636Z"
   },
   {
    "duration": 52,
    "start_time": "2022-03-10T02:09:05.641Z"
   },
   {
    "duration": 15,
    "start_time": "2022-03-10T02:09:05.694Z"
   },
   {
    "duration": 9,
    "start_time": "2022-03-10T02:09:05.711Z"
   },
   {
    "duration": 14,
    "start_time": "2022-03-10T02:09:05.721Z"
   },
   {
    "duration": 41,
    "start_time": "2022-03-10T02:09:05.737Z"
   },
   {
    "duration": 4,
    "start_time": "2022-03-10T02:09:05.780Z"
   },
   {
    "duration": 29,
    "start_time": "2022-03-10T02:09:05.785Z"
   },
   {
    "duration": 3,
    "start_time": "2022-03-10T02:09:05.816Z"
   },
   {
    "duration": 20,
    "start_time": "2022-03-10T02:09:05.821Z"
   },
   {
    "duration": 49,
    "start_time": "2022-03-10T02:09:05.843Z"
   },
   {
    "duration": 12,
    "start_time": "2022-03-10T02:09:05.894Z"
   },
   {
    "duration": 13,
    "start_time": "2022-03-10T02:09:05.907Z"
   },
   {
    "duration": 14,
    "start_time": "2022-03-10T02:09:05.921Z"
   },
   {
    "duration": 370,
    "start_time": "2022-03-10T02:09:05.937Z"
   },
   {
    "duration": -1250,
    "start_time": "2022-03-10T02:09:07.559Z"
   },
   {
    "duration": -1254,
    "start_time": "2022-03-10T02:09:07.565Z"
   },
   {
    "duration": -1256,
    "start_time": "2022-03-10T02:09:07.568Z"
   },
   {
    "duration": -1284,
    "start_time": "2022-03-10T02:09:07.597Z"
   },
   {
    "duration": -1286,
    "start_time": "2022-03-10T02:09:07.600Z"
   },
   {
    "duration": -1288,
    "start_time": "2022-03-10T02:09:07.603Z"
   },
   {
    "duration": -1290,
    "start_time": "2022-03-10T02:09:07.606Z"
   },
   {
    "duration": -1294,
    "start_time": "2022-03-10T02:09:07.611Z"
   },
   {
    "duration": -1296,
    "start_time": "2022-03-10T02:09:07.614Z"
   },
   {
    "duration": -1298,
    "start_time": "2022-03-10T02:09:07.617Z"
   },
   {
    "duration": -1300,
    "start_time": "2022-03-10T02:09:07.620Z"
   },
   {
    "duration": -1303,
    "start_time": "2022-03-10T02:09:07.624Z"
   },
   {
    "duration": -1305,
    "start_time": "2022-03-10T02:09:07.627Z"
   },
   {
    "duration": -1307,
    "start_time": "2022-03-10T02:09:07.630Z"
   },
   {
    "duration": -1310,
    "start_time": "2022-03-10T02:09:07.634Z"
   },
   {
    "duration": -1338,
    "start_time": "2022-03-10T02:09:07.663Z"
   },
   {
    "duration": -1352,
    "start_time": "2022-03-10T02:09:07.678Z"
   },
   {
    "duration": -1367,
    "start_time": "2022-03-10T02:09:07.695Z"
   },
   {
    "duration": -1381,
    "start_time": "2022-03-10T02:09:07.710Z"
   },
   {
    "duration": -1392,
    "start_time": "2022-03-10T02:09:07.722Z"
   },
   {
    "duration": -1405,
    "start_time": "2022-03-10T02:09:07.736Z"
   },
   {
    "duration": -1408,
    "start_time": "2022-03-10T02:09:07.740Z"
   },
   {
    "duration": -1428,
    "start_time": "2022-03-10T02:09:07.761Z"
   },
   {
    "duration": -1443,
    "start_time": "2022-03-10T02:09:07.777Z"
   },
   {
    "duration": -1455,
    "start_time": "2022-03-10T02:09:07.790Z"
   },
   {
    "duration": -1469,
    "start_time": "2022-03-10T02:09:07.805Z"
   },
   {
    "duration": -1473,
    "start_time": "2022-03-10T02:09:07.810Z"
   },
   {
    "duration": -1483,
    "start_time": "2022-03-10T02:09:07.821Z"
   },
   {
    "duration": -1491,
    "start_time": "2022-03-10T02:09:07.830Z"
   },
   {
    "duration": -1493,
    "start_time": "2022-03-10T02:09:07.833Z"
   },
   {
    "duration": -1495,
    "start_time": "2022-03-10T02:09:07.836Z"
   },
   {
    "duration": -1498,
    "start_time": "2022-03-10T02:09:07.840Z"
   },
   {
    "duration": -914,
    "start_time": "2022-03-10T02:11:29.192Z"
   },
   {
    "duration": 1164,
    "start_time": "2022-03-10T02:11:43.489Z"
   },
   {
    "duration": 318,
    "start_time": "2022-03-10T02:11:44.655Z"
   },
   {
    "duration": 7,
    "start_time": "2022-03-10T02:11:44.975Z"
   },
   {
    "duration": 14,
    "start_time": "2022-03-10T02:11:44.984Z"
   },
   {
    "duration": 12,
    "start_time": "2022-03-10T02:11:45.000Z"
   },
   {
    "duration": 45,
    "start_time": "2022-03-10T02:11:45.014Z"
   },
   {
    "duration": 14,
    "start_time": "2022-03-10T02:11:45.061Z"
   },
   {
    "duration": 5,
    "start_time": "2022-03-10T02:11:45.078Z"
   },
   {
    "duration": 16,
    "start_time": "2022-03-10T02:11:45.085Z"
   },
   {
    "duration": 5,
    "start_time": "2022-03-10T02:11:45.102Z"
   },
   {
    "duration": 23,
    "start_time": "2022-03-10T02:11:45.109Z"
   },
   {
    "duration": 6,
    "start_time": "2022-03-10T02:11:45.134Z"
   },
   {
    "duration": 9,
    "start_time": "2022-03-10T02:11:45.141Z"
   },
   {
    "duration": 33,
    "start_time": "2022-03-10T02:11:45.152Z"
   },
   {
    "duration": 21,
    "start_time": "2022-03-10T02:11:45.187Z"
   },
   {
    "duration": 8,
    "start_time": "2022-03-10T02:11:45.210Z"
   },
   {
    "duration": 12,
    "start_time": "2022-03-10T02:11:45.220Z"
   },
   {
    "duration": 5,
    "start_time": "2022-03-10T02:11:45.233Z"
   },
   {
    "duration": 55,
    "start_time": "2022-03-10T02:11:45.239Z"
   },
   {
    "duration": 4,
    "start_time": "2022-03-10T02:11:45.295Z"
   },
   {
    "duration": 8,
    "start_time": "2022-03-10T02:11:45.301Z"
   },
   {
    "duration": 34,
    "start_time": "2022-03-10T02:11:45.310Z"
   },
   {
    "duration": 4,
    "start_time": "2022-03-10T02:11:45.348Z"
   },
   {
    "duration": 38,
    "start_time": "2022-03-10T02:11:45.354Z"
   },
   {
    "duration": 11,
    "start_time": "2022-03-10T02:11:45.394Z"
   },
   {
    "duration": 7,
    "start_time": "2022-03-10T02:11:45.407Z"
   },
   {
    "duration": 7,
    "start_time": "2022-03-10T02:11:45.416Z"
   },
   {
    "duration": 14,
    "start_time": "2022-03-10T02:11:45.424Z"
   },
   {
    "duration": 37,
    "start_time": "2022-03-10T02:11:45.440Z"
   },
   {
    "duration": 20,
    "start_time": "2022-03-10T02:11:45.479Z"
   },
   {
    "duration": 14,
    "start_time": "2022-03-10T02:11:45.501Z"
   },
   {
    "duration": 10,
    "start_time": "2022-03-10T02:11:45.517Z"
   },
   {
    "duration": 12,
    "start_time": "2022-03-10T02:11:45.528Z"
   },
   {
    "duration": 50,
    "start_time": "2022-03-10T02:11:45.541Z"
   },
   {
    "duration": 4,
    "start_time": "2022-03-10T02:11:45.593Z"
   },
   {
    "duration": 26,
    "start_time": "2022-03-10T02:11:45.599Z"
   },
   {
    "duration": 3,
    "start_time": "2022-03-10T02:11:45.627Z"
   },
   {
    "duration": 49,
    "start_time": "2022-03-10T02:11:45.632Z"
   },
   {
    "duration": 20,
    "start_time": "2022-03-10T02:11:45.683Z"
   },
   {
    "duration": 12,
    "start_time": "2022-03-10T02:11:45.705Z"
   },
   {
    "duration": 12,
    "start_time": "2022-03-10T02:11:45.718Z"
   },
   {
    "duration": 47,
    "start_time": "2022-03-10T02:11:45.732Z"
   },
   {
    "duration": 14,
    "start_time": "2022-03-10T02:11:45.781Z"
   },
   {
    "duration": 12,
    "start_time": "2022-03-10T02:11:45.797Z"
   },
   {
    "duration": 13,
    "start_time": "2022-03-10T02:11:45.811Z"
   },
   {
    "duration": 64,
    "start_time": "2022-03-10T02:11:45.826Z"
   },
   {
    "duration": 30,
    "start_time": "2022-03-10T02:11:45.892Z"
   },
   {
    "duration": 57,
    "start_time": "2022-03-10T02:11:45.925Z"
   },
   {
    "duration": 27,
    "start_time": "2022-03-10T02:11:45.984Z"
   },
   {
    "duration": 26,
    "start_time": "2022-03-10T02:11:46.013Z"
   },
   {
    "duration": 55,
    "start_time": "2022-03-10T02:11:46.041Z"
   },
   {
    "duration": 33,
    "start_time": "2022-03-10T02:11:46.098Z"
   },
   {
    "duration": 118,
    "start_time": "2022-03-10T02:11:46.133Z"
   },
   {
    "duration": 25,
    "start_time": "2022-03-10T02:11:46.253Z"
   },
   {
    "duration": 7,
    "start_time": "2022-03-10T02:11:46.280Z"
   },
   {
    "duration": 2642,
    "start_time": "2022-03-10T02:11:46.288Z"
   },
   {
    "duration": -1006,
    "start_time": "2022-03-10T02:11:49.938Z"
   },
   {
    "duration": -1022,
    "start_time": "2022-03-10T02:11:49.955Z"
   },
   {
    "duration": -1027,
    "start_time": "2022-03-10T02:11:49.961Z"
   },
   {
    "duration": -1030,
    "start_time": "2022-03-10T02:11:49.965Z"
   },
   {
    "duration": -1034,
    "start_time": "2022-03-10T02:11:49.970Z"
   },
   {
    "duration": -1043,
    "start_time": "2022-03-10T02:11:49.980Z"
   },
   {
    "duration": -1045,
    "start_time": "2022-03-10T02:11:49.983Z"
   },
   {
    "duration": -1047,
    "start_time": "2022-03-10T02:11:49.986Z"
   },
   {
    "duration": -1050,
    "start_time": "2022-03-10T02:11:49.990Z"
   },
   {
    "duration": -1052,
    "start_time": "2022-03-10T02:11:49.993Z"
   },
   {
    "duration": -1055,
    "start_time": "2022-03-10T02:11:49.997Z"
   },
   {
    "duration": -1056,
    "start_time": "2022-03-10T02:11:50.000Z"
   },
   {
    "duration": -1060,
    "start_time": "2022-03-10T02:11:50.004Z"
   },
   {
    "duration": -1069,
    "start_time": "2022-03-10T02:11:50.014Z"
   },
   {
    "duration": -1072,
    "start_time": "2022-03-10T02:11:50.018Z"
   },
   {
    "duration": -1074,
    "start_time": "2022-03-10T02:11:50.021Z"
   },
   {
    "duration": -1076,
    "start_time": "2022-03-10T02:11:50.024Z"
   },
   {
    "duration": -1087,
    "start_time": "2022-03-10T02:11:50.036Z"
   },
   {
    "duration": 2571,
    "start_time": "2022-03-10T02:12:16.444Z"
   },
   {
    "duration": 3750,
    "start_time": "2022-03-10T02:12:43.549Z"
   },
   {
    "duration": 1203,
    "start_time": "2022-03-10T02:12:58.090Z"
   },
   {
    "duration": 260,
    "start_time": "2022-03-10T02:13:03.170Z"
   },
   {
    "duration": 2152,
    "start_time": "2022-03-10T02:13:07.939Z"
   },
   {
    "duration": 46,
    "start_time": "2022-03-10T02:14:43.910Z"
   },
   {
    "duration": 16,
    "start_time": "2022-03-10T02:14:51.680Z"
   },
   {
    "duration": 4,
    "start_time": "2022-03-10T02:14:55.986Z"
   },
   {
    "duration": 16,
    "start_time": "2022-03-10T02:14:58.403Z"
   },
   {
    "duration": 10,
    "start_time": "2022-03-10T02:15:02.898Z"
   },
   {
    "duration": 9,
    "start_time": "2022-03-10T02:15:05.448Z"
   },
   {
    "duration": 37,
    "start_time": "2022-03-10T02:15:24.704Z"
   },
   {
    "duration": 11,
    "start_time": "2022-03-10T02:15:34.626Z"
   },
   {
    "duration": 9,
    "start_time": "2022-03-10T02:15:40.792Z"
   },
   {
    "duration": 8,
    "start_time": "2022-03-10T02:15:44.397Z"
   },
   {
    "duration": 7,
    "start_time": "2022-03-10T02:15:48.042Z"
   },
   {
    "duration": 4,
    "start_time": "2022-03-10T02:15:50.675Z"
   },
   {
    "duration": 50,
    "start_time": "2022-03-10T02:16:02.126Z"
   },
   {
    "duration": 4,
    "start_time": "2022-03-10T02:16:06.580Z"
   },
   {
    "duration": 275,
    "start_time": "2022-03-10T02:16:09.484Z"
   },
   {
    "duration": 2,
    "start_time": "2022-03-10T02:16:29.745Z"
   },
   {
    "duration": 278,
    "start_time": "2022-03-10T02:17:32.481Z"
   },
   {
    "duration": 278,
    "start_time": "2022-03-10T02:17:44.734Z"
   },
   {
    "duration": 16,
    "start_time": "2022-03-10T02:18:05.330Z"
   },
   {
    "duration": 271,
    "start_time": "2022-03-10T02:18:10.882Z"
   },
   {
    "duration": 4,
    "start_time": "2022-03-10T02:30:48.886Z"
   },
   {
    "duration": 329,
    "start_time": "2022-03-10T02:30:52.029Z"
   },
   {
    "duration": 9,
    "start_time": "2022-03-10T02:30:57.657Z"
   },
   {
    "duration": 8,
    "start_time": "2022-03-10T02:31:04.344Z"
   },
   {
    "duration": 10,
    "start_time": "2022-03-10T02:31:07.659Z"
   },
   {
    "duration": 7,
    "start_time": "2022-03-10T02:31:10.652Z"
   },
   {
    "duration": 4,
    "start_time": "2022-03-10T02:31:14.035Z"
   },
   {
    "duration": 4,
    "start_time": "2022-03-10T02:31:18.359Z"
   },
   {
    "duration": 5,
    "start_time": "2022-03-10T02:31:20.393Z"
   },
   {
    "duration": 2,
    "start_time": "2022-03-10T02:31:22.706Z"
   },
   {
    "duration": 20,
    "start_time": "2022-03-10T02:31:27.392Z"
   },
   {
    "duration": 4,
    "start_time": "2022-03-10T02:31:50.448Z"
   },
   {
    "duration": 7,
    "start_time": "2022-03-10T02:31:55.112Z"
   },
   {
    "duration": 18,
    "start_time": "2022-03-10T02:32:03.386Z"
   },
   {
    "duration": 18,
    "start_time": "2022-03-10T02:32:10.141Z"
   },
   {
    "duration": 8,
    "start_time": "2022-03-10T02:32:14.037Z"
   },
   {
    "duration": 10,
    "start_time": "2022-03-10T02:32:17.628Z"
   },
   {
    "duration": 6,
    "start_time": "2022-03-10T02:32:20.437Z"
   },
   {
    "duration": 4,
    "start_time": "2022-03-10T02:32:23.622Z"
   },
   {
    "duration": 369,
    "start_time": "2022-03-10T02:32:26.796Z"
   },
   {
    "duration": 281,
    "start_time": "2022-03-10T02:32:31.806Z"
   },
   {
    "duration": 25,
    "start_time": "2022-03-10T02:34:27.671Z"
   },
   {
    "duration": 48,
    "start_time": "2022-03-10T02:35:38.449Z"
   },
   {
    "duration": 50,
    "start_time": "2022-03-10T02:35:43.455Z"
   },
   {
    "duration": 16,
    "start_time": "2022-03-10T02:35:48.419Z"
   },
   {
    "duration": 49,
    "start_time": "2022-03-10T02:35:52.233Z"
   },
   {
    "duration": 49,
    "start_time": "2022-03-10T02:35:54.679Z"
   },
   {
    "duration": 15,
    "start_time": "2022-03-10T02:35:57.683Z"
   },
   {
    "duration": 4,
    "start_time": "2022-03-10T02:36:06.439Z"
   },
   {
    "duration": 17,
    "start_time": "2022-03-10T02:36:16.995Z"
   },
   {
    "duration": 12,
    "start_time": "2022-03-10T02:36:37.162Z"
   },
   {
    "duration": 7,
    "start_time": "2022-03-10T02:36:40.402Z"
   },
   {
    "duration": 6,
    "start_time": "2022-03-10T02:36:44.419Z"
   },
   {
    "duration": 14,
    "start_time": "2022-03-10T02:36:47.421Z"
   },
   {
    "duration": 4,
    "start_time": "2022-03-10T02:36:49.587Z"
   },
   {
    "duration": 37,
    "start_time": "2022-03-10T02:36:54.027Z"
   },
   {
    "duration": 14,
    "start_time": "2022-03-10T02:36:58.853Z"
   },
   {
    "duration": 11,
    "start_time": "2022-03-10T02:37:19.386Z"
   },
   {
    "duration": 18,
    "start_time": "2022-03-10T02:37:25.724Z"
   },
   {
    "duration": 13,
    "start_time": "2022-03-10T02:39:15.654Z"
   },
   {
    "duration": 300,
    "start_time": "2022-03-10T02:41:16.194Z"
   },
   {
    "duration": 1196,
    "start_time": "2022-03-10T02:41:31.384Z"
   },
   {
    "duration": 318,
    "start_time": "2022-03-10T02:41:32.582Z"
   },
   {
    "duration": 7,
    "start_time": "2022-03-10T02:41:32.902Z"
   },
   {
    "duration": 18,
    "start_time": "2022-03-10T02:41:32.911Z"
   },
   {
    "duration": 8,
    "start_time": "2022-03-10T02:41:32.930Z"
   },
   {
    "duration": 25,
    "start_time": "2022-03-10T02:41:32.940Z"
   },
   {
    "duration": 12,
    "start_time": "2022-03-10T02:41:32.967Z"
   },
   {
    "duration": 8,
    "start_time": "2022-03-10T02:41:32.981Z"
   },
   {
    "duration": 13,
    "start_time": "2022-03-10T02:41:32.991Z"
   },
   {
    "duration": 7,
    "start_time": "2022-03-10T02:41:33.005Z"
   },
   {
    "duration": 22,
    "start_time": "2022-03-10T02:41:33.014Z"
   },
   {
    "duration": 7,
    "start_time": "2022-03-10T02:41:33.038Z"
   },
   {
    "duration": 11,
    "start_time": "2022-03-10T02:41:33.046Z"
   },
   {
    "duration": 27,
    "start_time": "2022-03-10T02:41:33.059Z"
   },
   {
    "duration": 17,
    "start_time": "2022-03-10T02:41:33.088Z"
   },
   {
    "duration": 12,
    "start_time": "2022-03-10T02:41:33.107Z"
   },
   {
    "duration": 19,
    "start_time": "2022-03-10T02:41:33.121Z"
   },
   {
    "duration": 5,
    "start_time": "2022-03-10T02:41:33.142Z"
   },
   {
    "duration": 49,
    "start_time": "2022-03-10T02:41:33.148Z"
   },
   {
    "duration": 4,
    "start_time": "2022-03-10T02:41:33.199Z"
   },
   {
    "duration": 53,
    "start_time": "2022-03-10T02:41:33.205Z"
   },
   {
    "duration": 29,
    "start_time": "2022-03-10T02:41:33.260Z"
   },
   {
    "duration": 4,
    "start_time": "2022-03-10T02:41:33.292Z"
   },
   {
    "duration": 42,
    "start_time": "2022-03-10T02:41:33.299Z"
   },
   {
    "duration": 20,
    "start_time": "2022-03-10T02:41:33.343Z"
   },
   {
    "duration": 13,
    "start_time": "2022-03-10T02:41:33.365Z"
   },
   {
    "duration": 20,
    "start_time": "2022-03-10T02:41:33.380Z"
   },
   {
    "duration": 16,
    "start_time": "2022-03-10T02:41:33.402Z"
   },
   {
    "duration": 15,
    "start_time": "2022-03-10T02:41:33.420Z"
   },
   {
    "duration": 44,
    "start_time": "2022-03-10T02:41:33.437Z"
   },
   {
    "duration": 16,
    "start_time": "2022-03-10T02:41:33.483Z"
   },
   {
    "duration": 10,
    "start_time": "2022-03-10T02:41:33.502Z"
   },
   {
    "duration": 21,
    "start_time": "2022-03-10T02:41:33.515Z"
   },
   {
    "duration": 41,
    "start_time": "2022-03-10T02:41:33.538Z"
   },
   {
    "duration": 5,
    "start_time": "2022-03-10T02:41:33.581Z"
   },
   {
    "duration": 24,
    "start_time": "2022-03-10T02:41:33.588Z"
   },
   {
    "duration": 58,
    "start_time": "2022-03-10T02:41:33.614Z"
   },
   {
    "duration": 5,
    "start_time": "2022-03-10T02:41:33.674Z"
   },
   {
    "duration": 24,
    "start_time": "2022-03-10T02:41:33.681Z"
   },
   {
    "duration": 90,
    "start_time": "2022-03-10T02:41:33.707Z"
   },
   {
    "duration": -1350,
    "start_time": "2022-03-10T02:41:35.150Z"
   },
   {
    "duration": -1354,
    "start_time": "2022-03-10T02:41:35.156Z"
   },
   {
    "duration": -1364,
    "start_time": "2022-03-10T02:41:35.167Z"
   },
   {
    "duration": -1376,
    "start_time": "2022-03-10T02:41:35.181Z"
   },
   {
    "duration": -1378,
    "start_time": "2022-03-10T02:41:35.184Z"
   },
   {
    "duration": -1393,
    "start_time": "2022-03-10T02:41:35.201Z"
   },
   {
    "duration": -1406,
    "start_time": "2022-03-10T02:41:35.215Z"
   },
   {
    "duration": -1409,
    "start_time": "2022-03-10T02:41:35.220Z"
   },
   {
    "duration": -1420,
    "start_time": "2022-03-10T02:41:35.233Z"
   },
   {
    "duration": -1425,
    "start_time": "2022-03-10T02:41:35.239Z"
   },
   {
    "duration": -1434,
    "start_time": "2022-03-10T02:41:35.250Z"
   },
   {
    "duration": -1438,
    "start_time": "2022-03-10T02:41:35.255Z"
   },
   {
    "duration": -1449,
    "start_time": "2022-03-10T02:41:35.268Z"
   },
   {
    "duration": -1452,
    "start_time": "2022-03-10T02:41:35.273Z"
   },
   {
    "duration": -1462,
    "start_time": "2022-03-10T02:41:35.284Z"
   },
   {
    "duration": -1466,
    "start_time": "2022-03-10T02:41:35.290Z"
   },
   {
    "duration": -1478,
    "start_time": "2022-03-10T02:41:35.303Z"
   },
   {
    "duration": -1490,
    "start_time": "2022-03-10T02:41:35.316Z"
   },
   {
    "duration": -1495,
    "start_time": "2022-03-10T02:41:35.322Z"
   },
   {
    "duration": -1505,
    "start_time": "2022-03-10T02:41:35.333Z"
   },
   {
    "duration": -1510,
    "start_time": "2022-03-10T02:41:35.339Z"
   },
   {
    "duration": -1514,
    "start_time": "2022-03-10T02:41:35.344Z"
   },
   {
    "duration": -1529,
    "start_time": "2022-03-10T02:41:35.360Z"
   },
   {
    "duration": -1531,
    "start_time": "2022-03-10T02:41:35.363Z"
   },
   {
    "duration": -1533,
    "start_time": "2022-03-10T02:41:35.366Z"
   },
   {
    "duration": -1535,
    "start_time": "2022-03-10T02:41:35.369Z"
   },
   {
    "duration": -1537,
    "start_time": "2022-03-10T02:41:35.372Z"
   },
   {
    "duration": -1539,
    "start_time": "2022-03-10T02:41:35.375Z"
   },
   {
    "duration": -1542,
    "start_time": "2022-03-10T02:41:35.379Z"
   },
   {
    "duration": -1545,
    "start_time": "2022-03-10T02:41:35.383Z"
   },
   {
    "duration": -1509,
    "start_time": "2022-03-10T02:41:35.386Z"
   },
   {
    "duration": -1513,
    "start_time": "2022-03-10T02:41:35.391Z"
   },
   {
    "duration": 27,
    "start_time": "2022-03-10T02:43:11.603Z"
   },
   {
    "duration": 6521,
    "start_time": "2022-03-10T02:43:22.505Z"
   },
   {
    "duration": 6358,
    "start_time": "2022-03-10T02:44:46.998Z"
   },
   {
    "duration": 9,
    "start_time": "2022-03-10T02:44:54.609Z"
   },
   {
    "duration": 4,
    "start_time": "2022-03-10T02:44:57.622Z"
   },
   {
    "duration": 6606,
    "start_time": "2022-03-10T02:45:02.761Z"
   },
   {
    "duration": 5,
    "start_time": "2022-03-10T02:45:35.327Z"
   },
   {
    "duration": 49,
    "start_time": "2022-03-10T02:45:48.027Z"
   },
   {
    "duration": 6586,
    "start_time": "2022-03-10T02:46:31.535Z"
   },
   {
    "duration": -945,
    "start_time": "2022-03-10T02:46:39.069Z"
   },
   {
    "duration": 49,
    "start_time": "2022-03-10T02:47:29.024Z"
   },
   {
    "duration": 9,
    "start_time": "2022-03-10T02:48:02.089Z"
   },
   {
    "duration": 6344,
    "start_time": "2022-03-10T02:48:23.182Z"
   },
   {
    "duration": 16,
    "start_time": "2022-03-10T02:48:33.655Z"
   },
   {
    "duration": 10,
    "start_time": "2022-03-10T02:48:39.390Z"
   },
   {
    "duration": 334,
    "start_time": "2022-03-10T02:49:16.890Z"
   },
   {
    "duration": 7,
    "start_time": "2022-03-10T02:49:20.881Z"
   },
   {
    "duration": 10,
    "start_time": "2022-03-10T02:49:24.132Z"
   },
   {
    "duration": 7,
    "start_time": "2022-03-10T02:49:27.153Z"
   },
   {
    "duration": 10,
    "start_time": "2022-03-10T02:49:31.034Z"
   },
   {
    "duration": 8,
    "start_time": "2022-03-10T02:49:34.352Z"
   },
   {
    "duration": 19,
    "start_time": "2022-03-10T02:49:43.120Z"
   },
   {
    "duration": 10,
    "start_time": "2022-03-10T02:49:46.402Z"
   },
   {
    "duration": 12,
    "start_time": "2022-03-10T02:49:49.733Z"
   },
   {
    "duration": 25,
    "start_time": "2022-03-10T02:49:52.789Z"
   },
   {
    "duration": 4,
    "start_time": "2022-03-10T02:49:55.324Z"
   },
   {
    "duration": 47,
    "start_time": "2022-03-10T02:49:58.802Z"
   },
   {
    "duration": 4,
    "start_time": "2022-03-10T02:50:42.539Z"
   },
   {
    "duration": 19,
    "start_time": "2022-03-10T02:50:45.697Z"
   },
   {
    "duration": 13,
    "start_time": "2022-03-10T02:51:04.640Z"
   },
   {
    "duration": 8,
    "start_time": "2022-03-10T02:51:07.935Z"
   },
   {
    "duration": 6,
    "start_time": "2022-03-10T02:51:10.814Z"
   },
   {
    "duration": 15,
    "start_time": "2022-03-10T02:51:13.730Z"
   },
   {
    "duration": 4,
    "start_time": "2022-03-10T02:51:16.182Z"
   },
   {
    "duration": 39,
    "start_time": "2022-03-10T02:51:19.382Z"
   },
   {
    "duration": 17,
    "start_time": "2022-03-10T02:51:29.901Z"
   },
   {
    "duration": 13,
    "start_time": "2022-03-10T02:51:42.843Z"
   },
   {
    "duration": 13,
    "start_time": "2022-03-10T02:51:58.138Z"
   },
   {
    "duration": 20,
    "start_time": "2022-03-10T02:52:02.413Z"
   },
   {
    "duration": 7,
    "start_time": "2022-03-10T02:52:06.844Z"
   },
   {
    "duration": 5,
    "start_time": "2022-03-10T02:52:09.813Z"
   },
   {
    "duration": 36,
    "start_time": "2022-03-10T02:52:42.796Z"
   },
   {
    "duration": 39,
    "start_time": "2022-03-10T02:52:51.723Z"
   },
   {
    "duration": 2,
    "start_time": "2022-03-10T02:53:16.825Z"
   },
   {
    "duration": 50,
    "start_time": "2022-03-10T02:53:26.965Z"
   },
   {
    "duration": 29,
    "start_time": "2022-03-10T02:55:24.363Z"
   },
   {
    "duration": 247,
    "start_time": "2022-03-10T02:56:37.026Z"
   },
   {
    "duration": 280,
    "start_time": "2022-03-10T03:01:05.132Z"
   },
   {
    "duration": 6,
    "start_time": "2022-03-10T03:01:27.383Z"
   },
   {
    "duration": 15,
    "start_time": "2022-03-10T03:01:32.980Z"
   },
   {
    "duration": 16,
    "start_time": "2022-03-10T03:01:44.682Z"
   },
   {
    "duration": 5,
    "start_time": "2022-03-10T03:02:39.897Z"
   },
   {
    "duration": 7,
    "start_time": "2022-03-10T03:03:08.424Z"
   },
   {
    "duration": 5,
    "start_time": "2022-03-10T03:03:33.587Z"
   },
   {
    "duration": 15,
    "start_time": "2022-03-10T03:03:38.104Z"
   },
   {
    "duration": 10,
    "start_time": "2022-03-10T03:04:01.871Z"
   },
   {
    "duration": 49,
    "start_time": "2022-03-10T03:04:09.455Z"
   },
   {
    "duration": 32,
    "start_time": "2022-03-10T03:04:22.887Z"
   },
   {
    "duration": 48,
    "start_time": "2022-03-10T03:04:28.273Z"
   },
   {
    "duration": 32,
    "start_time": "2022-03-10T03:04:37.191Z"
   },
   {
    "duration": 280,
    "start_time": "2022-03-10T03:04:41.767Z"
   },
   {
    "duration": 262,
    "start_time": "2022-03-10T03:04:47.183Z"
   },
   {
    "duration": 16,
    "start_time": "2022-03-10T03:07:33.603Z"
   },
   {
    "duration": 15,
    "start_time": "2022-03-10T03:07:39.099Z"
   },
   {
    "duration": 9,
    "start_time": "2022-03-10T03:07:46.347Z"
   },
   {
    "duration": 7,
    "start_time": "2022-03-10T03:07:48.928Z"
   },
   {
    "duration": 4,
    "start_time": "2022-03-10T03:07:51.881Z"
   },
   {
    "duration": 15,
    "start_time": "2022-03-10T03:07:55.043Z"
   },
   {
    "duration": 9,
    "start_time": "2022-03-10T03:08:00.319Z"
   },
   {
    "duration": 40,
    "start_time": "2022-03-10T03:08:03.539Z"
   },
   {
    "duration": 36,
    "start_time": "2022-03-10T03:08:07.802Z"
   },
   {
    "duration": 50,
    "start_time": "2022-03-10T03:08:11.617Z"
   },
   {
    "duration": 29,
    "start_time": "2022-03-10T03:08:17.142Z"
   },
   {
    "duration": 30,
    "start_time": "2022-03-10T03:08:21.021Z"
   },
   {
    "duration": 30,
    "start_time": "2022-03-10T03:08:25.720Z"
   },
   {
    "duration": 25,
    "start_time": "2022-03-10T03:08:30.044Z"
   },
   {
    "duration": 93,
    "start_time": "2022-03-10T03:08:36.939Z"
   },
   {
    "duration": 7,
    "start_time": "2022-03-10T03:08:42.351Z"
   },
   {
    "duration": 16,
    "start_time": "2022-03-10T03:08:46.988Z"
   },
   {
    "duration": 298,
    "start_time": "2022-03-10T03:08:51.431Z"
   },
   {
    "duration": 15,
    "start_time": "2022-03-10T03:08:56.537Z"
   },
   {
    "duration": 426,
    "start_time": "2022-03-10T03:09:00.753Z"
   },
   {
    "duration": 14,
    "start_time": "2022-03-10T03:09:04.565Z"
   },
   {
    "duration": 182,
    "start_time": "2022-03-10T03:09:08.467Z"
   },
   {
    "duration": 161,
    "start_time": "2022-03-10T03:09:12.599Z"
   },
   {
    "duration": 15,
    "start_time": "2022-03-10T03:09:18.955Z"
   },
   {
    "duration": 16,
    "start_time": "2022-03-10T03:09:23.409Z"
   },
   {
    "duration": 957,
    "start_time": "2022-03-10T03:09:27.437Z"
   },
   {
    "duration": 11,
    "start_time": "2022-03-10T03:09:34.463Z"
   },
   {
    "duration": 11,
    "start_time": "2022-03-10T03:09:48.835Z"
   },
   {
    "duration": 8,
    "start_time": "2022-03-10T03:09:52.569Z"
   },
   {
    "duration": 13,
    "start_time": "2022-03-10T03:09:57.909Z"
   },
   {
    "duration": 7,
    "start_time": "2022-03-10T03:10:02.135Z"
   },
   {
    "duration": 16,
    "start_time": "2022-03-10T03:12:46.293Z"
   },
   {
    "duration": 34,
    "start_time": "2022-03-10T03:17:12.118Z"
   },
   {
    "duration": 5,
    "start_time": "2022-03-10T03:17:26.070Z"
   },
   {
    "duration": 16,
    "start_time": "2022-03-10T03:17:31.500Z"
   },
   {
    "duration": 19,
    "start_time": "2022-03-10T03:17:37.988Z"
   },
   {
    "duration": 23,
    "start_time": "2022-03-10T03:19:52.714Z"
   },
   {
    "duration": 27,
    "start_time": "2022-03-10T03:20:08.863Z"
   },
   {
    "duration": 528,
    "start_time": "2022-03-10T03:20:16.886Z"
   },
   {
    "duration": 24,
    "start_time": "2022-03-10T03:20:26.912Z"
   },
   {
    "duration": 273,
    "start_time": "2022-03-10T03:20:33.154Z"
   },
   {
    "duration": 6475,
    "start_time": "2022-03-10T03:20:49.597Z"
   },
   {
    "duration": -926,
    "start_time": "2022-03-10T03:20:57.001Z"
   },
   {
    "duration": -929,
    "start_time": "2022-03-10T03:20:57.005Z"
   },
   {
    "duration": 6381,
    "start_time": "2022-03-10T03:21:09.766Z"
   },
   {
    "duration": -939,
    "start_time": "2022-03-10T03:21:17.089Z"
   },
   {
    "duration": 13,
    "start_time": "2022-03-10T03:21:25.264Z"
   },
   {
    "duration": 13,
    "start_time": "2022-03-10T03:21:29.282Z"
   },
   {
    "duration": 9,
    "start_time": "2022-03-10T03:21:32.458Z"
   },
   {
    "duration": 13,
    "start_time": "2022-03-10T03:21:36.151Z"
   },
   {
    "duration": 6507,
    "start_time": "2022-03-10T03:22:28.270Z"
   },
   {
    "duration": -946,
    "start_time": "2022-03-10T03:22:46.646Z"
   },
   {
    "duration": 9,
    "start_time": "2022-03-10T03:22:46.466Z"
   },
   {
    "duration": 12,
    "start_time": "2022-03-10T03:22:51.020Z"
   },
   {
    "duration": 6518,
    "start_time": "2022-03-10T03:22:56.938Z"
   },
   {
    "duration": -918,
    "start_time": "2022-03-10T03:23:04.376Z"
   },
   {
    "duration": 3,
    "start_time": "2022-03-10T03:23:42.965Z"
   },
   {
    "duration": 13,
    "start_time": "2022-03-10T03:23:45.287Z"
   },
   {
    "duration": 7,
    "start_time": "2022-03-10T03:23:47.172Z"
   },
   {
    "duration": 24,
    "start_time": "2022-03-10T03:23:55.551Z"
   },
   {
    "duration": 3,
    "start_time": "2022-03-10T03:24:00.362Z"
   },
   {
    "duration": 3,
    "start_time": "2022-03-10T03:24:05.692Z"
   },
   {
    "duration": 3,
    "start_time": "2022-03-10T03:24:10.396Z"
   },
   {
    "duration": 343,
    "start_time": "2022-03-10T03:24:10.403Z"
   },
   {
    "duration": 6,
    "start_time": "2022-03-10T03:24:10.748Z"
   },
   {
    "duration": 15,
    "start_time": "2022-03-10T03:24:10.757Z"
   },
   {
    "duration": 21,
    "start_time": "2022-03-10T03:24:10.774Z"
   },
   {
    "duration": 22,
    "start_time": "2022-03-10T03:24:10.797Z"
   },
   {
    "duration": 21,
    "start_time": "2022-03-10T03:24:10.821Z"
   },
   {
    "duration": 24,
    "start_time": "2022-03-10T03:24:10.844Z"
   },
   {
    "duration": 20,
    "start_time": "2022-03-10T03:24:10.872Z"
   },
   {
    "duration": 29,
    "start_time": "2022-03-10T03:24:10.894Z"
   },
   {
    "duration": 40,
    "start_time": "2022-03-10T03:24:10.925Z"
   },
   {
    "duration": 22,
    "start_time": "2022-03-10T03:24:10.967Z"
   },
   {
    "duration": 39,
    "start_time": "2022-03-10T03:24:10.991Z"
   },
   {
    "duration": 32,
    "start_time": "2022-03-10T03:24:11.031Z"
   },
   {
    "duration": 34,
    "start_time": "2022-03-10T03:24:11.065Z"
   },
   {
    "duration": 18,
    "start_time": "2022-03-10T03:24:11.101Z"
   },
   {
    "duration": 17,
    "start_time": "2022-03-10T03:24:11.121Z"
   },
   {
    "duration": 20,
    "start_time": "2022-03-10T03:24:11.140Z"
   },
   {
    "duration": 36,
    "start_time": "2022-03-10T03:24:11.162Z"
   },
   {
    "duration": 21,
    "start_time": "2022-03-10T03:24:11.200Z"
   },
   {
    "duration": 21,
    "start_time": "2022-03-10T03:24:11.223Z"
   },
   {
    "duration": 46,
    "start_time": "2022-03-10T03:24:11.246Z"
   },
   {
    "duration": 5,
    "start_time": "2022-03-10T03:24:11.293Z"
   },
   {
    "duration": 24,
    "start_time": "2022-03-10T03:24:11.302Z"
   },
   {
    "duration": 23,
    "start_time": "2022-03-10T03:24:11.328Z"
   },
   {
    "duration": 21,
    "start_time": "2022-03-10T03:24:11.353Z"
   },
   {
    "duration": 19,
    "start_time": "2022-03-10T03:24:11.375Z"
   },
   {
    "duration": 29,
    "start_time": "2022-03-10T03:24:11.396Z"
   },
   {
    "duration": 23,
    "start_time": "2022-03-10T03:24:11.427Z"
   },
   {
    "duration": 13,
    "start_time": "2022-03-10T03:24:11.451Z"
   },
   {
    "duration": 46,
    "start_time": "2022-03-10T03:24:11.466Z"
   },
   {
    "duration": 13,
    "start_time": "2022-03-10T03:24:11.514Z"
   },
   {
    "duration": 46,
    "start_time": "2022-03-10T03:24:11.529Z"
   },
   {
    "duration": 23,
    "start_time": "2022-03-10T03:24:11.577Z"
   },
   {
    "duration": 36,
    "start_time": "2022-03-10T03:24:11.602Z"
   },
   {
    "duration": 39,
    "start_time": "2022-03-10T03:24:11.640Z"
   },
   {
    "duration": 28,
    "start_time": "2022-03-10T03:24:11.681Z"
   },
   {
    "duration": 46,
    "start_time": "2022-03-10T03:24:11.711Z"
   },
   {
    "duration": 12,
    "start_time": "2022-03-10T03:24:11.759Z"
   },
   {
    "duration": 21,
    "start_time": "2022-03-10T03:24:11.772Z"
   },
   {
    "duration": 42,
    "start_time": "2022-03-10T03:24:11.794Z"
   },
   {
    "duration": 24,
    "start_time": "2022-03-10T03:24:11.837Z"
   },
   {
    "duration": 30,
    "start_time": "2022-03-10T03:24:11.862Z"
   },
   {
    "duration": 29,
    "start_time": "2022-03-10T03:24:11.894Z"
   },
   {
    "duration": 30,
    "start_time": "2022-03-10T03:24:11.925Z"
   },
   {
    "duration": 16,
    "start_time": "2022-03-10T03:24:11.958Z"
   },
   {
    "duration": 25,
    "start_time": "2022-03-10T03:24:11.976Z"
   },
   {
    "duration": 37,
    "start_time": "2022-03-10T03:24:12.004Z"
   },
   {
    "duration": 23,
    "start_time": "2022-03-10T03:24:12.043Z"
   },
   {
    "duration": 36,
    "start_time": "2022-03-10T03:24:12.068Z"
   },
   {
    "duration": 22,
    "start_time": "2022-03-10T03:24:12.106Z"
   },
   {
    "duration": 264,
    "start_time": "2022-03-10T03:24:12.130Z"
   },
   {
    "duration": -1875,
    "start_time": "2022-03-10T03:24:14.272Z"
   },
   {
    "duration": -1879,
    "start_time": "2022-03-10T03:24:14.276Z"
   },
   {
    "duration": -1881,
    "start_time": "2022-03-10T03:24:14.280Z"
   },
   {
    "duration": -1884,
    "start_time": "2022-03-10T03:24:14.283Z"
   },
   {
    "duration": -1887,
    "start_time": "2022-03-10T03:24:14.287Z"
   },
   {
    "duration": -1889,
    "start_time": "2022-03-10T03:24:14.290Z"
   },
   {
    "duration": -1894,
    "start_time": "2022-03-10T03:24:14.296Z"
   },
   {
    "duration": -1898,
    "start_time": "2022-03-10T03:24:14.301Z"
   },
   {
    "duration": -2076,
    "start_time": "2022-03-10T03:24:14.480Z"
   },
   {
    "duration": -2084,
    "start_time": "2022-03-10T03:24:14.489Z"
   },
   {
    "duration": -2086,
    "start_time": "2022-03-10T03:24:14.492Z"
   },
   {
    "duration": -2089,
    "start_time": "2022-03-10T03:24:14.496Z"
   },
   {
    "duration": -2092,
    "start_time": "2022-03-10T03:24:14.500Z"
   },
   {
    "duration": -2094,
    "start_time": "2022-03-10T03:24:14.503Z"
   },
   {
    "duration": -2097,
    "start_time": "2022-03-10T03:24:14.507Z"
   },
   {
    "duration": -2099,
    "start_time": "2022-03-10T03:24:14.510Z"
   },
   {
    "duration": -2102,
    "start_time": "2022-03-10T03:24:14.514Z"
   },
   {
    "duration": -2110,
    "start_time": "2022-03-10T03:24:14.523Z"
   },
   {
    "duration": -2114,
    "start_time": "2022-03-10T03:24:14.528Z"
   },
   {
    "duration": -2117,
    "start_time": "2022-03-10T03:24:14.532Z"
   },
   {
    "duration": -2121,
    "start_time": "2022-03-10T03:24:14.536Z"
   },
   {
    "duration": -2123,
    "start_time": "2022-03-10T03:24:14.539Z"
   },
   {
    "duration": -2126,
    "start_time": "2022-03-10T03:24:14.543Z"
   },
   {
    "duration": 1205,
    "start_time": "2022-03-10T03:24:18.743Z"
   },
   {
    "duration": 307,
    "start_time": "2022-03-10T03:24:19.950Z"
   },
   {
    "duration": 7,
    "start_time": "2022-03-10T03:24:20.259Z"
   },
   {
    "duration": 16,
    "start_time": "2022-03-10T03:24:20.268Z"
   },
   {
    "duration": 8,
    "start_time": "2022-03-10T03:24:20.286Z"
   },
   {
    "duration": 12,
    "start_time": "2022-03-10T03:24:20.295Z"
   },
   {
    "duration": 10,
    "start_time": "2022-03-10T03:24:20.308Z"
   },
   {
    "duration": 4,
    "start_time": "2022-03-10T03:24:20.321Z"
   },
   {
    "duration": 7,
    "start_time": "2022-03-10T03:24:20.327Z"
   },
   {
    "duration": 6,
    "start_time": "2022-03-10T03:24:20.336Z"
   },
   {
    "duration": 43,
    "start_time": "2022-03-10T03:24:20.343Z"
   },
   {
    "duration": 3,
    "start_time": "2022-03-10T03:24:20.388Z"
   },
   {
    "duration": 10,
    "start_time": "2022-03-10T03:24:20.392Z"
   },
   {
    "duration": 17,
    "start_time": "2022-03-10T03:24:20.404Z"
   },
   {
    "duration": 17,
    "start_time": "2022-03-10T03:24:20.423Z"
   },
   {
    "duration": 8,
    "start_time": "2022-03-10T03:24:20.441Z"
   },
   {
    "duration": 37,
    "start_time": "2022-03-10T03:24:20.451Z"
   },
   {
    "duration": 5,
    "start_time": "2022-03-10T03:24:20.490Z"
   },
   {
    "duration": 26,
    "start_time": "2022-03-10T03:24:20.497Z"
   },
   {
    "duration": 4,
    "start_time": "2022-03-10T03:24:20.524Z"
   },
   {
    "duration": 7,
    "start_time": "2022-03-10T03:24:20.530Z"
   },
   {
    "duration": 59,
    "start_time": "2022-03-10T03:24:20.539Z"
   },
   {
    "duration": 4,
    "start_time": "2022-03-10T03:24:20.602Z"
   },
   {
    "duration": 17,
    "start_time": "2022-03-10T03:24:20.609Z"
   },
   {
    "duration": 17,
    "start_time": "2022-03-10T03:24:20.628Z"
   },
   {
    "duration": 34,
    "start_time": "2022-03-10T03:24:20.647Z"
   },
   {
    "duration": 6,
    "start_time": "2022-03-10T03:24:20.683Z"
   },
   {
    "duration": 7,
    "start_time": "2022-03-10T03:24:20.691Z"
   },
   {
    "duration": 13,
    "start_time": "2022-03-10T03:24:20.700Z"
   },
   {
    "duration": 4,
    "start_time": "2022-03-10T03:24:20.715Z"
   },
   {
    "duration": 22,
    "start_time": "2022-03-10T03:24:20.720Z"
   },
   {
    "duration": 42,
    "start_time": "2022-03-10T03:24:20.744Z"
   },
   {
    "duration": 11,
    "start_time": "2022-03-10T03:24:20.788Z"
   },
   {
    "duration": 10,
    "start_time": "2022-03-10T03:24:20.801Z"
   },
   {
    "duration": 18,
    "start_time": "2022-03-10T03:24:20.813Z"
   },
   {
    "duration": 4,
    "start_time": "2022-03-10T03:24:20.833Z"
   },
   {
    "duration": 40,
    "start_time": "2022-03-10T03:24:20.838Z"
   },
   {
    "duration": 31,
    "start_time": "2022-03-10T03:24:20.880Z"
   },
   {
    "duration": 2,
    "start_time": "2022-03-10T03:24:20.913Z"
   },
   {
    "duration": 10,
    "start_time": "2022-03-10T03:24:20.917Z"
   },
   {
    "duration": 18,
    "start_time": "2022-03-10T03:24:20.929Z"
   },
   {
    "duration": 7,
    "start_time": "2022-03-10T03:24:20.949Z"
   },
   {
    "duration": 24,
    "start_time": "2022-03-10T03:24:20.958Z"
   },
   {
    "duration": 4,
    "start_time": "2022-03-10T03:24:20.984Z"
   },
   {
    "duration": 16,
    "start_time": "2022-03-10T03:24:20.990Z"
   },
   {
    "duration": 6,
    "start_time": "2022-03-10T03:24:21.008Z"
   },
   {
    "duration": 25,
    "start_time": "2022-03-10T03:24:21.016Z"
   },
   {
    "duration": 46,
    "start_time": "2022-03-10T03:24:21.042Z"
   },
   {
    "duration": 23,
    "start_time": "2022-03-10T03:24:21.090Z"
   },
   {
    "duration": 35,
    "start_time": "2022-03-10T03:24:21.114Z"
   },
   {
    "duration": 42,
    "start_time": "2022-03-10T03:24:21.151Z"
   },
   {
    "duration": 361,
    "start_time": "2022-03-10T03:24:21.194Z"
   },
   {
    "duration": -949,
    "start_time": "2022-03-10T03:24:22.506Z"
   },
   {
    "duration": -953,
    "start_time": "2022-03-10T03:24:22.511Z"
   },
   {
    "duration": -956,
    "start_time": "2022-03-10T03:24:22.515Z"
   },
   {
    "duration": -961,
    "start_time": "2022-03-10T03:24:22.521Z"
   },
   {
    "duration": -964,
    "start_time": "2022-03-10T03:24:22.525Z"
   },
   {
    "duration": -966,
    "start_time": "2022-03-10T03:24:22.528Z"
   },
   {
    "duration": -969,
    "start_time": "2022-03-10T03:24:22.532Z"
   },
   {
    "duration": -973,
    "start_time": "2022-03-10T03:24:22.537Z"
   },
   {
    "duration": -975,
    "start_time": "2022-03-10T03:24:22.541Z"
   },
   {
    "duration": -977,
    "start_time": "2022-03-10T03:24:22.544Z"
   },
   {
    "duration": -979,
    "start_time": "2022-03-10T03:24:22.547Z"
   },
   {
    "duration": -982,
    "start_time": "2022-03-10T03:24:22.551Z"
   },
   {
    "duration": -986,
    "start_time": "2022-03-10T03:24:22.556Z"
   },
   {
    "duration": -988,
    "start_time": "2022-03-10T03:24:22.559Z"
   },
   {
    "duration": -990,
    "start_time": "2022-03-10T03:24:22.562Z"
   },
   {
    "duration": -992,
    "start_time": "2022-03-10T03:24:22.565Z"
   },
   {
    "duration": -997,
    "start_time": "2022-03-10T03:24:22.572Z"
   },
   {
    "duration": -999,
    "start_time": "2022-03-10T03:24:22.575Z"
   },
   {
    "duration": -1002,
    "start_time": "2022-03-10T03:24:22.579Z"
   },
   {
    "duration": -1004,
    "start_time": "2022-03-10T03:24:22.582Z"
   },
   {
    "duration": -1008,
    "start_time": "2022-03-10T03:24:22.588Z"
   },
   {
    "duration": -1010,
    "start_time": "2022-03-10T03:24:22.591Z"
   },
   {
    "duration": -1029,
    "start_time": "2022-03-10T03:24:22.611Z"
   },
   {
    "duration": 11,
    "start_time": "2022-03-10T03:24:46.892Z"
   },
   {
    "duration": 8,
    "start_time": "2022-03-10T03:24:49.747Z"
   },
   {
    "duration": 5,
    "start_time": "2022-03-10T03:24:54.415Z"
   },
   {
    "duration": 6,
    "start_time": "2022-03-10T03:24:57.103Z"
   },
   {
    "duration": 4,
    "start_time": "2022-03-10T03:24:58.925Z"
   },
   {
    "duration": 20,
    "start_time": "2022-03-10T03:25:02.589Z"
   },
   {
    "duration": 12,
    "start_time": "2022-03-10T03:25:05.805Z"
   },
   {
    "duration": 4,
    "start_time": "2022-03-10T03:25:15.513Z"
   },
   {
    "duration": 5,
    "start_time": "2022-03-10T03:25:19.654Z"
   },
   {
    "duration": 4,
    "start_time": "2022-03-10T03:25:23.349Z"
   },
   {
    "duration": 3,
    "start_time": "2022-03-10T03:25:28.513Z"
   },
   {
    "duration": 24,
    "start_time": "2022-03-10T03:25:31.649Z"
   },
   {
    "duration": 6,
    "start_time": "2022-03-10T03:26:05.455Z"
   },
   {
    "duration": 4,
    "start_time": "2022-03-10T03:26:17.617Z"
   },
   {
    "duration": 14,
    "start_time": "2022-03-10T03:26:28.804Z"
   },
   {
    "duration": 6,
    "start_time": "2022-03-10T03:27:21.444Z"
   },
   {
    "duration": 16,
    "start_time": "2022-03-10T03:27:37.197Z"
   },
   {
    "duration": 13,
    "start_time": "2022-03-10T03:27:46.195Z"
   },
   {
    "duration": 13,
    "start_time": "2022-03-10T03:27:50.827Z"
   },
   {
    "duration": 8,
    "start_time": "2022-03-10T03:28:04.825Z"
   },
   {
    "duration": 6,
    "start_time": "2022-03-10T03:28:07.299Z"
   },
   {
    "duration": 4,
    "start_time": "2022-03-10T03:28:09.771Z"
   },
   {
    "duration": 13,
    "start_time": "2022-03-10T03:28:17.313Z"
   },
   {
    "duration": 29,
    "start_time": "2022-03-10T03:28:20.765Z"
   },
   {
    "duration": 30,
    "start_time": "2022-03-10T03:28:25.323Z"
   },
   {
    "duration": 39,
    "start_time": "2022-03-10T03:28:29.093Z"
   },
   {
    "duration": 20,
    "start_time": "2022-03-10T03:28:33.762Z"
   },
   {
    "duration": 24,
    "start_time": "2022-03-10T03:28:37.731Z"
   },
   {
    "duration": 29,
    "start_time": "2022-03-10T03:28:44.201Z"
   },
   {
    "duration": 24,
    "start_time": "2022-03-10T03:28:47.947Z"
   },
   {
    "duration": 97,
    "start_time": "2022-03-10T03:28:51.856Z"
   },
   {
    "duration": 8,
    "start_time": "2022-03-10T03:29:00.656Z"
   },
   {
    "duration": 17,
    "start_time": "2022-03-10T03:29:03.567Z"
   },
   {
    "duration": 292,
    "start_time": "2022-03-10T03:29:09.327Z"
   },
   {
    "duration": 17,
    "start_time": "2022-03-10T03:29:15.368Z"
   },
   {
    "duration": 13,
    "start_time": "2022-03-10T03:29:19.423Z"
   },
   {
    "duration": 164,
    "start_time": "2022-03-10T03:29:23.463Z"
   },
   {
    "duration": 167,
    "start_time": "2022-03-10T03:29:29.783Z"
   },
   {
    "duration": 16,
    "start_time": "2022-03-10T03:29:35.487Z"
   },
   {
    "duration": 895,
    "start_time": "2022-03-10T03:29:49.924Z"
   },
   {
    "duration": 17,
    "start_time": "2022-03-10T03:30:01.844Z"
   },
   {
    "duration": 903,
    "start_time": "2022-03-10T03:30:06.339Z"
   },
   {
    "duration": 11,
    "start_time": "2022-03-10T03:30:12.324Z"
   },
   {
    "duration": 15,
    "start_time": "2022-03-10T03:30:19.221Z"
   },
   {
    "duration": 4,
    "start_time": "2022-03-10T03:30:22.957Z"
   },
   {
    "duration": 9,
    "start_time": "2022-03-10T03:30:28.333Z"
   },
   {
    "duration": 17,
    "start_time": "2022-03-10T03:30:32.780Z"
   },
   {
    "duration": 6,
    "start_time": "2022-03-10T03:30:36.189Z"
   },
   {
    "duration": 76,
    "start_time": "2022-03-10T03:30:39.672Z"
   },
   {
    "duration": -901,
    "start_time": "2022-03-10T03:33:25.094Z"
   },
   {
    "duration": 6570,
    "start_time": "2022-03-10T03:33:28.310Z"
   },
   {
    "duration": -924,
    "start_time": "2022-03-10T03:33:35.807Z"
   },
   {
    "duration": 6513,
    "start_time": "2022-03-10T03:34:07.546Z"
   },
   {
    "duration": 6441,
    "start_time": "2022-03-10T03:34:21.764Z"
   },
   {
    "duration": 12,
    "start_time": "2022-03-10T03:34:34.794Z"
   },
   {
    "duration": 9,
    "start_time": "2022-03-10T03:35:49.306Z"
   },
   {
    "duration": 7,
    "start_time": "2022-03-10T03:36:11.912Z"
   },
   {
    "duration": 1120,
    "start_time": "2022-03-10T03:37:08.930Z"
   },
   {
    "duration": 308,
    "start_time": "2022-03-10T03:37:10.052Z"
   },
   {
    "duration": 8,
    "start_time": "2022-03-10T03:37:10.363Z"
   },
   {
    "duration": 16,
    "start_time": "2022-03-10T03:37:10.373Z"
   },
   {
    "duration": 6,
    "start_time": "2022-03-10T03:37:10.391Z"
   },
   {
    "duration": 12,
    "start_time": "2022-03-10T03:37:10.399Z"
   },
   {
    "duration": 10,
    "start_time": "2022-03-10T03:37:10.413Z"
   },
   {
    "duration": 4,
    "start_time": "2022-03-10T03:37:10.427Z"
   },
   {
    "duration": 7,
    "start_time": "2022-03-10T03:37:10.434Z"
   },
   {
    "duration": 5,
    "start_time": "2022-03-10T03:37:10.443Z"
   },
   {
    "duration": 22,
    "start_time": "2022-03-10T03:37:10.478Z"
   },
   {
    "duration": 5,
    "start_time": "2022-03-10T03:37:10.502Z"
   },
   {
    "duration": 9,
    "start_time": "2022-03-10T03:37:10.509Z"
   },
   {
    "duration": 18,
    "start_time": "2022-03-10T03:37:10.520Z"
   },
   {
    "duration": 43,
    "start_time": "2022-03-10T03:37:10.540Z"
   },
   {
    "duration": 8,
    "start_time": "2022-03-10T03:37:10.585Z"
   },
   {
    "duration": 13,
    "start_time": "2022-03-10T03:37:10.595Z"
   },
   {
    "duration": 5,
    "start_time": "2022-03-10T03:37:10.610Z"
   },
   {
    "duration": 39,
    "start_time": "2022-03-10T03:37:10.617Z"
   },
   {
    "duration": 4,
    "start_time": "2022-03-10T03:37:10.657Z"
   },
   {
    "duration": 4,
    "start_time": "2022-03-10T03:37:10.677Z"
   },
   {
    "duration": 34,
    "start_time": "2022-03-10T03:37:10.682Z"
   },
   {
    "duration": 3,
    "start_time": "2022-03-10T03:37:10.720Z"
   },
   {
    "duration": 20,
    "start_time": "2022-03-10T03:37:10.726Z"
   },
   {
    "duration": 44,
    "start_time": "2022-03-10T03:37:10.747Z"
   },
   {
    "duration": 12,
    "start_time": "2022-03-10T03:37:10.793Z"
   },
   {
    "duration": 8,
    "start_time": "2022-03-10T03:37:10.807Z"
   },
   {
    "duration": 6,
    "start_time": "2022-03-10T03:37:10.817Z"
   },
   {
    "duration": 13,
    "start_time": "2022-03-10T03:37:10.825Z"
   },
   {
    "duration": 3,
    "start_time": "2022-03-10T03:37:10.840Z"
   },
   {
    "duration": 21,
    "start_time": "2022-03-10T03:37:10.877Z"
   },
   {
    "duration": 14,
    "start_time": "2022-03-10T03:37:10.900Z"
   },
   {
    "duration": 11,
    "start_time": "2022-03-10T03:37:10.916Z"
   },
   {
    "duration": 17,
    "start_time": "2022-03-10T03:37:10.929Z"
   },
   {
    "duration": 18,
    "start_time": "2022-03-10T03:37:10.976Z"
   },
   {
    "duration": 4,
    "start_time": "2022-03-10T03:37:10.996Z"
   },
   {
    "duration": 4,
    "start_time": "2022-03-10T03:37:11.002Z"
   },
   {
    "duration": 28,
    "start_time": "2022-03-10T03:37:11.008Z"
   },
   {
    "duration": 44,
    "start_time": "2022-03-10T03:37:11.038Z"
   },
   {
    "duration": 15,
    "start_time": "2022-03-10T03:37:11.084Z"
   },
   {
    "duration": 13,
    "start_time": "2022-03-10T03:37:11.101Z"
   },
   {
    "duration": 12,
    "start_time": "2022-03-10T03:37:11.116Z"
   },
   {
    "duration": 11,
    "start_time": "2022-03-10T03:37:11.129Z"
   },
   {
    "duration": 39,
    "start_time": "2022-03-10T03:37:11.142Z"
   },
   {
    "duration": 4,
    "start_time": "2022-03-10T03:37:11.183Z"
   },
   {
    "duration": 14,
    "start_time": "2022-03-10T03:37:11.189Z"
   },
   {
    "duration": 6,
    "start_time": "2022-03-10T03:37:11.205Z"
   },
   {
    "duration": 10,
    "start_time": "2022-03-10T03:37:11.212Z"
   },
   {
    "duration": 60,
    "start_time": "2022-03-10T03:37:11.223Z"
   },
   {
    "duration": 29,
    "start_time": "2022-03-10T03:37:11.284Z"
   },
   {
    "duration": 40,
    "start_time": "2022-03-10T03:37:11.314Z"
   },
   {
    "duration": 42,
    "start_time": "2022-03-10T03:37:11.356Z"
   },
   {
    "duration": 24,
    "start_time": "2022-03-10T03:37:11.399Z"
   },
   {
    "duration": 54,
    "start_time": "2022-03-10T03:37:11.424Z"
   },
   {
    "duration": 24,
    "start_time": "2022-03-10T03:37:11.480Z"
   },
   {
    "duration": 112,
    "start_time": "2022-03-10T03:37:11.506Z"
   },
   {
    "duration": 18,
    "start_time": "2022-03-10T03:37:11.620Z"
   },
   {
    "duration": 10,
    "start_time": "2022-03-10T03:37:11.640Z"
   },
   {
    "duration": 36,
    "start_time": "2022-03-10T03:37:11.652Z"
   },
   {
    "duration": 289,
    "start_time": "2022-03-10T03:37:11.690Z"
   },
   {
    "duration": 15,
    "start_time": "2022-03-10T03:37:11.981Z"
   },
   {
    "duration": 408,
    "start_time": "2022-03-10T03:37:11.997Z"
   },
   {
    "duration": 13,
    "start_time": "2022-03-10T03:37:12.407Z"
   },
   {
    "duration": 178,
    "start_time": "2022-03-10T03:37:12.421Z"
   },
   {
    "duration": 182,
    "start_time": "2022-03-10T03:37:12.601Z"
   },
   {
    "duration": 16,
    "start_time": "2022-03-10T03:37:12.785Z"
   },
   {
    "duration": 954,
    "start_time": "2022-03-10T03:37:12.803Z"
   },
   {
    "duration": 24,
    "start_time": "2022-03-10T03:37:13.762Z"
   },
   {
    "duration": 882,
    "start_time": "2022-03-10T03:37:13.788Z"
   },
   {
    "duration": 12,
    "start_time": "2022-03-10T03:37:14.676Z"
   },
   {
    "duration": 12,
    "start_time": "2022-03-10T03:37:14.690Z"
   },
   {
    "duration": 8,
    "start_time": "2022-03-10T03:37:14.704Z"
   },
   {
    "duration": 10,
    "start_time": "2022-03-10T03:37:14.714Z"
   },
   {
    "duration": 18,
    "start_time": "2022-03-10T03:37:14.726Z"
   },
   {
    "duration": 38,
    "start_time": "2022-03-10T03:37:14.746Z"
   },
   {
    "duration": 14,
    "start_time": "2022-03-10T03:37:14.786Z"
   },
   {
    "duration": 1397,
    "start_time": "2022-03-10T18:42:41.721Z"
   },
   {
    "duration": 329,
    "start_time": "2022-03-10T18:42:43.121Z"
   },
   {
    "duration": 10,
    "start_time": "2022-03-10T18:42:43.453Z"
   },
   {
    "duration": 19,
    "start_time": "2022-03-10T18:42:43.466Z"
   },
   {
    "duration": 18,
    "start_time": "2022-03-10T18:42:43.488Z"
   },
   {
    "duration": 30,
    "start_time": "2022-03-10T18:42:43.509Z"
   },
   {
    "duration": 12,
    "start_time": "2022-03-10T18:42:43.542Z"
   },
   {
    "duration": 16,
    "start_time": "2022-03-10T18:42:43.556Z"
   },
   {
    "duration": 6,
    "start_time": "2022-03-10T18:42:43.583Z"
   },
   {
    "duration": 17,
    "start_time": "2022-03-10T18:42:43.593Z"
   },
   {
    "duration": 44,
    "start_time": "2022-03-10T18:42:43.613Z"
   },
   {
    "duration": 22,
    "start_time": "2022-03-10T18:42:43.660Z"
   },
   {
    "duration": 21,
    "start_time": "2022-03-10T18:42:43.685Z"
   },
   {
    "duration": 48,
    "start_time": "2022-03-10T18:42:43.709Z"
   },
   {
    "duration": 24,
    "start_time": "2022-03-10T18:42:43.759Z"
   },
   {
    "duration": 12,
    "start_time": "2022-03-10T18:42:43.786Z"
   },
   {
    "duration": 20,
    "start_time": "2022-03-10T18:42:43.800Z"
   },
   {
    "duration": 9,
    "start_time": "2022-03-10T18:42:43.823Z"
   },
   {
    "duration": 59,
    "start_time": "2022-03-10T18:42:43.835Z"
   },
   {
    "duration": 7,
    "start_time": "2022-03-10T18:42:43.896Z"
   },
   {
    "duration": 23,
    "start_time": "2022-03-10T18:42:43.906Z"
   },
   {
    "duration": 45,
    "start_time": "2022-03-10T18:42:43.931Z"
   },
   {
    "duration": 6,
    "start_time": "2022-03-10T18:42:43.979Z"
   },
   {
    "duration": 40,
    "start_time": "2022-03-10T18:42:43.987Z"
   },
   {
    "duration": 29,
    "start_time": "2022-03-10T18:42:44.029Z"
   },
   {
    "duration": 21,
    "start_time": "2022-03-10T18:42:44.061Z"
   },
   {
    "duration": 11,
    "start_time": "2022-03-10T18:42:44.088Z"
   },
   {
    "duration": 10,
    "start_time": "2022-03-10T18:42:44.103Z"
   },
   {
    "duration": 16,
    "start_time": "2022-03-10T18:42:44.115Z"
   },
   {
    "duration": 5,
    "start_time": "2022-03-10T18:42:44.134Z"
   },
   {
    "duration": 28,
    "start_time": "2022-03-10T18:42:44.182Z"
   },
   {
    "duration": 18,
    "start_time": "2022-03-10T18:42:44.212Z"
   },
   {
    "duration": 17,
    "start_time": "2022-03-10T18:42:44.232Z"
   },
   {
    "duration": 16,
    "start_time": "2022-03-10T18:42:44.283Z"
   },
   {
    "duration": 22,
    "start_time": "2022-03-10T18:42:44.301Z"
   },
   {
    "duration": 23,
    "start_time": "2022-03-10T18:42:44.325Z"
   },
   {
    "duration": 8,
    "start_time": "2022-03-10T18:42:44.351Z"
   },
   {
    "duration": 58,
    "start_time": "2022-03-10T18:42:44.361Z"
   },
   {
    "duration": 19,
    "start_time": "2022-03-10T18:42:44.422Z"
   },
   {
    "duration": 19,
    "start_time": "2022-03-10T18:42:44.443Z"
   },
   {
    "duration": 16,
    "start_time": "2022-03-10T18:42:44.483Z"
   },
   {
    "duration": 20,
    "start_time": "2022-03-10T18:42:44.501Z"
   },
   {
    "duration": 16,
    "start_time": "2022-03-10T18:42:44.523Z"
   },
   {
    "duration": 46,
    "start_time": "2022-03-10T18:42:44.542Z"
   },
   {
    "duration": 23,
    "start_time": "2022-03-10T18:42:44.591Z"
   },
   {
    "duration": 26,
    "start_time": "2022-03-10T18:42:44.617Z"
   },
   {
    "duration": 8,
    "start_time": "2022-03-10T18:42:44.645Z"
   },
   {
    "duration": 22,
    "start_time": "2022-03-10T18:42:44.655Z"
   },
   {
    "duration": 38,
    "start_time": "2022-03-10T18:42:44.679Z"
   },
   {
    "duration": 34,
    "start_time": "2022-03-10T18:42:44.720Z"
   },
   {
    "duration": 71,
    "start_time": "2022-03-10T18:42:44.757Z"
   },
   {
    "duration": 28,
    "start_time": "2022-03-10T18:42:44.830Z"
   },
   {
    "duration": 29,
    "start_time": "2022-03-10T18:42:44.883Z"
   },
   {
    "duration": 41,
    "start_time": "2022-03-10T18:42:44.914Z"
   },
   {
    "duration": 32,
    "start_time": "2022-03-10T18:42:44.982Z"
   },
   {
    "duration": 171,
    "start_time": "2022-03-10T18:42:45.017Z"
   },
   {
    "duration": 27,
    "start_time": "2022-03-10T18:42:45.190Z"
   },
   {
    "duration": 9,
    "start_time": "2022-03-10T18:42:45.219Z"
   },
   {
    "duration": 19,
    "start_time": "2022-03-10T18:42:45.230Z"
   },
   {
    "duration": 409,
    "start_time": "2022-03-10T18:42:45.283Z"
   },
   {
    "duration": 23,
    "start_time": "2022-03-10T18:42:45.694Z"
   },
   {
    "duration": 580,
    "start_time": "2022-03-10T18:42:45.719Z"
   },
   {
    "duration": 17,
    "start_time": "2022-03-10T18:42:46.302Z"
   },
   {
    "duration": 276,
    "start_time": "2022-03-10T18:42:46.321Z"
   },
   {
    "duration": 272,
    "start_time": "2022-03-10T18:42:46.600Z"
   },
   {
    "duration": 24,
    "start_time": "2022-03-10T18:42:46.874Z"
   },
   {
    "duration": 1373,
    "start_time": "2022-03-10T18:42:46.901Z"
   },
   {
    "duration": 25,
    "start_time": "2022-03-10T18:42:48.276Z"
   },
   {
    "duration": 1621,
    "start_time": "2022-03-10T18:42:48.304Z"
   },
   {
    "duration": 17,
    "start_time": "2022-03-10T18:42:49.928Z"
   },
   {
    "duration": 43,
    "start_time": "2022-03-10T18:42:49.948Z"
   },
   {
    "duration": 13,
    "start_time": "2022-03-10T18:42:49.994Z"
   },
   {
    "duration": 16,
    "start_time": "2022-03-10T18:42:50.010Z"
   },
   {
    "duration": 55,
    "start_time": "2022-03-10T18:42:50.029Z"
   },
   {
    "duration": 9,
    "start_time": "2022-03-10T18:42:50.086Z"
   },
   {
    "duration": 18,
    "start_time": "2022-03-10T18:42:50.097Z"
   },
   {
    "duration": 22,
    "start_time": "2022-03-10T18:43:50.011Z"
   },
   {
    "duration": 381,
    "start_time": "2022-03-11T03:18:28.686Z"
   },
   {
    "duration": 1457,
    "start_time": "2022-03-11T03:18:34.735Z"
   },
   {
    "duration": 385,
    "start_time": "2022-03-11T03:18:37.592Z"
   }
  ],
  "kernelspec": {
   "display_name": "Python 3 (ipykernel)",
   "language": "python",
   "name": "python3"
  },
  "language_info": {
   "codemirror_mode": {
    "name": "ipython",
    "version": 3
   },
   "file_extension": ".py",
   "mimetype": "text/x-python",
   "name": "python",
   "nbconvert_exporter": "python",
   "pygments_lexer": "ipython3",
   "version": "3.9.7"
  },
  "toc": {
   "base_numbering": 1,
   "nav_menu": {},
   "number_sections": true,
   "sideBar": true,
   "skip_h1_title": false,
   "title_cell": "Table of Contents",
   "title_sidebar": "Contents",
   "toc_cell": false,
   "toc_position": {
    "height": "calc(100% - 180px)",
    "left": "10px",
    "top": "150px",
    "width": "261.67px"
   },
   "toc_section_display": true,
   "toc_window_display": false
  }
 },
 "nbformat": 4,
 "nbformat_minor": 2
}
