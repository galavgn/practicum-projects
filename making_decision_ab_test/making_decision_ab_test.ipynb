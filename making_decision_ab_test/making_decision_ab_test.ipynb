{
 "cells": [
  {
   "cell_type": "markdown",
   "metadata": {},
   "source": [
    "#  List of Hypothesis that may help boost revenue\n",
    "\n",
    " We are analysing at a big online store.The marketing department compiled a list of hypotheses that may help boost revenue."
   ]
  },
  {
   "cell_type": "markdown",
   "metadata": {},
   "source": [
    "## Goal\n",
    "- To prioritize these hypotheses\n",
    "- Launch an A/B test and analyze the results.\n"
   ]
  },
  {
   "cell_type": "markdown",
   "metadata": {},
   "source": [
    "## Initialization"
   ]
  },
  {
   "cell_type": "code",
   "execution_count": 1,
   "metadata": {},
   "outputs": [],
   "source": [
    "# Loading all the libraries\n",
    "import pandas as pd\n",
    "import numpy as np\n",
    "import math as mth\n",
    "from scipy import stats as st\n",
    "\n",
    "import matplotlib.pyplot as plt\n",
    "import datetime as dt\n",
    "import seaborn as sns\n",
    "%matplotlib inline"
   ]
  },
  {
   "cell_type": "code",
   "execution_count": 2,
   "metadata": {},
   "outputs": [],
   "source": [
    "# Colecting data and laading data file into DataFrame\n",
    "\n",
    "hypo = pd.read_csv('/datasets/hypotheses_us.csv', sep=';')\n",
    "orders = pd.read_csv('/datasets/orders_us.csv')\n",
    "visits = pd.read_csv('/datasets/visits_us.csv')"
   ]
  },
  {
   "cell_type": "markdown",
   "metadata": {},
   "source": [
    "##  Explore initial data"
   ]
  },
  {
   "cell_type": "markdown",
   "metadata": {},
   "source": [
    "The dataset 'Hypo' contains the following fields:\n",
    "\n",
    "- Hypotheses — brief descriptions of the hypotheses\n",
    "- Reach — user reach, on a scale of one to ten\n",
    "- Impact — impact on users, on a scale of one to ten\n",
    "- Confidence — confidence in the hypothesis, on a scale of one to ten\n",
    "- Effort — the resources required to test a hypothesis, on a scale of one to ten. The higher the Effort value, the more resource-intensive the test.\n",
    "\n",
    "The dataset 'Orders' contains the following fields:\n",
    "\n",
    "- transactionId — order identifier\n",
    "- visitorId — identifier of the user who placed the order\n",
    "- date — of the order\n",
    "- revenue — from the order\n",
    "- group — the A/B test group that the user belongs to\n",
    "\n",
    "The dataset 'Visits' contains the following fields:\n",
    "\n",
    "- date — date\n",
    "- group — A/B test group\n",
    "- visits — the number of visits on the date specified in the A/B test group specified\n",
    "\n",
    "\n"
   ]
  },
  {
   "cell_type": "markdown",
   "metadata": {},
   "source": [
    "## Exploring and Prepare the Data\n",
    "\n",
    "Let's explore each df to get an initial understanding of the data and do necessary corrections to each table if necessary."
   ]
  },
  {
   "cell_type": "markdown",
   "metadata": {},
   "source": [
    "### Hypo"
   ]
  },
  {
   "cell_type": "code",
   "execution_count": 3,
   "metadata": {},
   "outputs": [
    {
     "data": {
      "text/html": [
       "<div>\n",
       "<style scoped>\n",
       "    .dataframe tbody tr th:only-of-type {\n",
       "        vertical-align: middle;\n",
       "    }\n",
       "\n",
       "    .dataframe tbody tr th {\n",
       "        vertical-align: top;\n",
       "    }\n",
       "\n",
       "    .dataframe thead th {\n",
       "        text-align: right;\n",
       "    }\n",
       "</style>\n",
       "<table border=\"1\" class=\"dataframe\">\n",
       "  <thead>\n",
       "    <tr style=\"text-align: right;\">\n",
       "      <th></th>\n",
       "      <th>Hypothesis</th>\n",
       "      <th>Reach</th>\n",
       "      <th>Impact</th>\n",
       "      <th>Confidence</th>\n",
       "      <th>Effort</th>\n",
       "    </tr>\n",
       "  </thead>\n",
       "  <tbody>\n",
       "    <tr>\n",
       "      <th>0</th>\n",
       "      <td>Add two new channels for attracting traffic. T...</td>\n",
       "      <td>3</td>\n",
       "      <td>10</td>\n",
       "      <td>8</td>\n",
       "      <td>6</td>\n",
       "    </tr>\n",
       "    <tr>\n",
       "      <th>1</th>\n",
       "      <td>Launch your own delivery service. This will sh...</td>\n",
       "      <td>2</td>\n",
       "      <td>5</td>\n",
       "      <td>4</td>\n",
       "      <td>10</td>\n",
       "    </tr>\n",
       "    <tr>\n",
       "      <th>2</th>\n",
       "      <td>Add product recommendation blocks to the store...</td>\n",
       "      <td>8</td>\n",
       "      <td>3</td>\n",
       "      <td>7</td>\n",
       "      <td>3</td>\n",
       "    </tr>\n",
       "    <tr>\n",
       "      <th>3</th>\n",
       "      <td>Change the category structure. This will incre...</td>\n",
       "      <td>8</td>\n",
       "      <td>3</td>\n",
       "      <td>3</td>\n",
       "      <td>8</td>\n",
       "    </tr>\n",
       "    <tr>\n",
       "      <th>4</th>\n",
       "      <td>Change the background color on the main page. ...</td>\n",
       "      <td>3</td>\n",
       "      <td>1</td>\n",
       "      <td>1</td>\n",
       "      <td>1</td>\n",
       "    </tr>\n",
       "  </tbody>\n",
       "</table>\n",
       "</div>"
      ],
      "text/plain": [
       "                                          Hypothesis  Reach  Impact  \\\n",
       "0  Add two new channels for attracting traffic. T...      3      10   \n",
       "1  Launch your own delivery service. This will sh...      2       5   \n",
       "2  Add product recommendation blocks to the store...      8       3   \n",
       "3  Change the category structure. This will incre...      8       3   \n",
       "4  Change the background color on the main page. ...      3       1   \n",
       "\n",
       "   Confidence  Effort  \n",
       "0           8       6  \n",
       "1           4      10  \n",
       "2           7       3  \n",
       "3           3       8  \n",
       "4           1       1  "
      ]
     },
     "execution_count": 3,
     "metadata": {},
     "output_type": "execute_result"
    }
   ],
   "source": [
    "# Print sample of data\n",
    "hypo.head()\n"
   ]
  },
  {
   "cell_type": "code",
   "execution_count": 4,
   "metadata": {},
   "outputs": [
    {
     "name": "stdout",
     "output_type": "stream",
     "text": [
      "<class 'pandas.core.frame.DataFrame'>\n",
      "RangeIndex: 9 entries, 0 to 8\n",
      "Data columns (total 5 columns):\n",
      " #   Column      Non-Null Count  Dtype \n",
      "---  ------      --------------  ----- \n",
      " 0   Hypothesis  9 non-null      object\n",
      " 1   Reach       9 non-null      int64 \n",
      " 2   Impact      9 non-null      int64 \n",
      " 3   Confidence  9 non-null      int64 \n",
      " 4   Effort      9 non-null      int64 \n",
      "dtypes: int64(4), object(1)\n",
      "memory usage: 488.0+ bytes\n"
     ]
    }
   ],
   "source": [
    "# Print general information and summury of the data\n",
    "hypo.info()"
   ]
  },
  {
   "cell_type": "code",
   "execution_count": 5,
   "metadata": {},
   "outputs": [
    {
     "data": {
      "text/plain": [
       "Hypothesis    0\n",
       "Reach         0\n",
       "Impact        0\n",
       "Confidence    0\n",
       "Effort        0\n",
       "dtype: int64"
      ]
     },
     "execution_count": 5,
     "metadata": {},
     "output_type": "execute_result"
    }
   ],
   "source": [
    "# Check formissing values\n",
    "hypo.isna().sum()"
   ]
  },
  {
   "cell_type": "markdown",
   "metadata": {},
   "source": [
    "### Fix data"
   ]
  },
  {
   "cell_type": "code",
   "execution_count": 6,
   "metadata": {},
   "outputs": [
    {
     "data": {
      "text/html": [
       "<div>\n",
       "<style scoped>\n",
       "    .dataframe tbody tr th:only-of-type {\n",
       "        vertical-align: middle;\n",
       "    }\n",
       "\n",
       "    .dataframe tbody tr th {\n",
       "        vertical-align: top;\n",
       "    }\n",
       "\n",
       "    .dataframe thead th {\n",
       "        text-align: right;\n",
       "    }\n",
       "</style>\n",
       "<table border=\"1\" class=\"dataframe\">\n",
       "  <thead>\n",
       "    <tr style=\"text-align: right;\">\n",
       "      <th></th>\n",
       "      <th>hypothesis</th>\n",
       "      <th>reach</th>\n",
       "      <th>impact</th>\n",
       "      <th>confidence</th>\n",
       "      <th>effort</th>\n",
       "    </tr>\n",
       "  </thead>\n",
       "  <tbody>\n",
       "    <tr>\n",
       "      <th>0</th>\n",
       "      <td>Add two new channels for attracting traffic. T...</td>\n",
       "      <td>3</td>\n",
       "      <td>10</td>\n",
       "      <td>8</td>\n",
       "      <td>6</td>\n",
       "    </tr>\n",
       "    <tr>\n",
       "      <th>1</th>\n",
       "      <td>Launch your own delivery service. This will sh...</td>\n",
       "      <td>2</td>\n",
       "      <td>5</td>\n",
       "      <td>4</td>\n",
       "      <td>10</td>\n",
       "    </tr>\n",
       "    <tr>\n",
       "      <th>2</th>\n",
       "      <td>Add product recommendation blocks to the store...</td>\n",
       "      <td>8</td>\n",
       "      <td>3</td>\n",
       "      <td>7</td>\n",
       "      <td>3</td>\n",
       "    </tr>\n",
       "    <tr>\n",
       "      <th>3</th>\n",
       "      <td>Change the category structure. This will incre...</td>\n",
       "      <td>8</td>\n",
       "      <td>3</td>\n",
       "      <td>3</td>\n",
       "      <td>8</td>\n",
       "    </tr>\n",
       "    <tr>\n",
       "      <th>4</th>\n",
       "      <td>Change the background color on the main page. ...</td>\n",
       "      <td>3</td>\n",
       "      <td>1</td>\n",
       "      <td>1</td>\n",
       "      <td>1</td>\n",
       "    </tr>\n",
       "  </tbody>\n",
       "</table>\n",
       "</div>"
      ],
      "text/plain": [
       "                                          hypothesis  reach  impact  \\\n",
       "0  Add two new channels for attracting traffic. T...      3      10   \n",
       "1  Launch your own delivery service. This will sh...      2       5   \n",
       "2  Add product recommendation blocks to the store...      8       3   \n",
       "3  Change the category structure. This will incre...      8       3   \n",
       "4  Change the background color on the main page. ...      3       1   \n",
       "\n",
       "   confidence  effort  \n",
       "0           8       6  \n",
       "1           4      10  \n",
       "2           7       3  \n",
       "3           3       8  \n",
       "4           1       1  "
      ]
     },
     "execution_count": 6,
     "metadata": {},
     "output_type": "execute_result"
    }
   ],
   "source": [
    "# Replace the column names to the lowercase (make them lowercase)\n",
    "hypo.columns = hypo.columns.str.lower()\n",
    "# check it\n",
    "hypo.head()"
   ]
  },
  {
   "cell_type": "markdown",
   "metadata": {},
   "source": [
    "### Orders"
   ]
  },
  {
   "cell_type": "code",
   "execution_count": 7,
   "metadata": {},
   "outputs": [
    {
     "data": {
      "text/html": [
       "<div>\n",
       "<style scoped>\n",
       "    .dataframe tbody tr th:only-of-type {\n",
       "        vertical-align: middle;\n",
       "    }\n",
       "\n",
       "    .dataframe tbody tr th {\n",
       "        vertical-align: top;\n",
       "    }\n",
       "\n",
       "    .dataframe thead th {\n",
       "        text-align: right;\n",
       "    }\n",
       "</style>\n",
       "<table border=\"1\" class=\"dataframe\">\n",
       "  <thead>\n",
       "    <tr style=\"text-align: right;\">\n",
       "      <th></th>\n",
       "      <th>transactionId</th>\n",
       "      <th>visitorId</th>\n",
       "      <th>date</th>\n",
       "      <th>revenue</th>\n",
       "      <th>group</th>\n",
       "    </tr>\n",
       "  </thead>\n",
       "  <tbody>\n",
       "    <tr>\n",
       "      <th>0</th>\n",
       "      <td>3667963787</td>\n",
       "      <td>3312258926</td>\n",
       "      <td>2019-08-15</td>\n",
       "      <td>30.4</td>\n",
       "      <td>B</td>\n",
       "    </tr>\n",
       "    <tr>\n",
       "      <th>1</th>\n",
       "      <td>2804400009</td>\n",
       "      <td>3642806036</td>\n",
       "      <td>2019-08-15</td>\n",
       "      <td>15.2</td>\n",
       "      <td>B</td>\n",
       "    </tr>\n",
       "    <tr>\n",
       "      <th>2</th>\n",
       "      <td>2961555356</td>\n",
       "      <td>4069496402</td>\n",
       "      <td>2019-08-15</td>\n",
       "      <td>10.2</td>\n",
       "      <td>A</td>\n",
       "    </tr>\n",
       "    <tr>\n",
       "      <th>3</th>\n",
       "      <td>3797467345</td>\n",
       "      <td>1196621759</td>\n",
       "      <td>2019-08-15</td>\n",
       "      <td>155.1</td>\n",
       "      <td>B</td>\n",
       "    </tr>\n",
       "    <tr>\n",
       "      <th>4</th>\n",
       "      <td>2282983706</td>\n",
       "      <td>2322279887</td>\n",
       "      <td>2019-08-15</td>\n",
       "      <td>40.5</td>\n",
       "      <td>B</td>\n",
       "    </tr>\n",
       "  </tbody>\n",
       "</table>\n",
       "</div>"
      ],
      "text/plain": [
       "   transactionId   visitorId        date  revenue group\n",
       "0     3667963787  3312258926  2019-08-15     30.4     B\n",
       "1     2804400009  3642806036  2019-08-15     15.2     B\n",
       "2     2961555356  4069496402  2019-08-15     10.2     A\n",
       "3     3797467345  1196621759  2019-08-15    155.1     B\n",
       "4     2282983706  2322279887  2019-08-15     40.5     B"
      ]
     },
     "execution_count": 7,
     "metadata": {},
     "output_type": "execute_result"
    }
   ],
   "source": [
    "# Print sample of the data\n",
    "orders.head()"
   ]
  },
  {
   "cell_type": "code",
   "execution_count": 8,
   "metadata": {
    "scrolled": true
   },
   "outputs": [
    {
     "name": "stdout",
     "output_type": "stream",
     "text": [
      "<class 'pandas.core.frame.DataFrame'>\n",
      "RangeIndex: 1197 entries, 0 to 1196\n",
      "Data columns (total 5 columns):\n",
      " #   Column         Non-Null Count  Dtype  \n",
      "---  ------         --------------  -----  \n",
      " 0   transactionId  1197 non-null   int64  \n",
      " 1   visitorId      1197 non-null   int64  \n",
      " 2   date           1197 non-null   object \n",
      " 3   revenue        1197 non-null   float64\n",
      " 4   group          1197 non-null   object \n",
      "dtypes: float64(1), int64(2), object(2)\n",
      "memory usage: 46.9+ KB\n"
     ]
    }
   ],
   "source": [
    "# Print genaral information/summury\n",
    "orders.info()"
   ]
  },
  {
   "cell_type": "code",
   "execution_count": 9,
   "metadata": {
    "scrolled": false
   },
   "outputs": [
    {
     "data": {
      "text/plain": [
       "transactionId    0\n",
       "visitorId        0\n",
       "date             0\n",
       "revenue          0\n",
       "group            0\n",
       "dtype: int64"
      ]
     },
     "execution_count": 9,
     "metadata": {},
     "output_type": "execute_result"
    }
   ],
   "source": [
    "# Check for missing values\n",
    "orders.isna().sum()"
   ]
  },
  {
   "cell_type": "code",
   "execution_count": 10,
   "metadata": {},
   "outputs": [
    {
     "data": {
      "text/plain": [
       "str"
      ]
     },
     "execution_count": 10,
     "metadata": {},
     "output_type": "execute_result"
    }
   ],
   "source": [
    "# Let's check column 'date'\n",
    "type(orders.date[0])"
   ]
  },
  {
   "cell_type": "markdown",
   "metadata": {},
   "source": [
    "- Let's check if some of the visitors might have gotten into both group A and group B"
   ]
  },
  {
   "cell_type": "code",
   "execution_count": 11,
   "metadata": {},
   "outputs": [
    {
     "data": {
      "text/plain": [
       "visitorId\n",
       "5114589       1\n",
       "6958315       1\n",
       "8300375       2\n",
       "11685486      1\n",
       "39475350      1\n",
       "             ..\n",
       "4266935830    2\n",
       "4278982564    1\n",
       "4279090005    1\n",
       "4281247801    1\n",
       "4283872382    1\n",
       "Name: group, Length: 1031, dtype: int64"
      ]
     },
     "execution_count": 11,
     "metadata": {},
     "output_type": "execute_result"
    }
   ],
   "source": [
    "orders.groupby(['visitorId'])['group'].count()"
   ]
  },
  {
   "cell_type": "code",
   "execution_count": 12,
   "metadata": {},
   "outputs": [
    {
     "data": {
      "text/html": [
       "<div>\n",
       "<style scoped>\n",
       "    .dataframe tbody tr th:only-of-type {\n",
       "        vertical-align: middle;\n",
       "    }\n",
       "\n",
       "    .dataframe tbody tr th {\n",
       "        vertical-align: top;\n",
       "    }\n",
       "\n",
       "    .dataframe thead th {\n",
       "        text-align: right;\n",
       "    }\n",
       "</style>\n",
       "<table border=\"1\" class=\"dataframe\">\n",
       "  <thead>\n",
       "    <tr style=\"text-align: right;\">\n",
       "      <th></th>\n",
       "      <th>groups_count</th>\n",
       "    </tr>\n",
       "    <tr>\n",
       "      <th>visitorId</th>\n",
       "      <th></th>\n",
       "    </tr>\n",
       "  </thead>\n",
       "  <tbody>\n",
       "    <tr>\n",
       "      <th>8300375</th>\n",
       "      <td>2</td>\n",
       "    </tr>\n",
       "    <tr>\n",
       "      <th>199603092</th>\n",
       "      <td>2</td>\n",
       "    </tr>\n",
       "    <tr>\n",
       "      <th>232979603</th>\n",
       "      <td>2</td>\n",
       "    </tr>\n",
       "    <tr>\n",
       "      <th>237748145</th>\n",
       "      <td>2</td>\n",
       "    </tr>\n",
       "    <tr>\n",
       "      <th>276558944</th>\n",
       "      <td>2</td>\n",
       "    </tr>\n",
       "  </tbody>\n",
       "</table>\n",
       "</div>"
      ],
      "text/plain": [
       "           groups_count\n",
       "visitorId              \n",
       "8300375               2\n",
       "199603092             2\n",
       "232979603             2\n",
       "237748145             2\n",
       "276558944             2"
      ]
     },
     "execution_count": 12,
     "metadata": {},
     "output_type": "execute_result"
    }
   ],
   "source": [
    "# Reviewer's code\n",
    "\n",
    "(\n",
    "    orders\n",
    "    .groupby('visitorId')\n",
    "    .agg(groups_count=('group', 'nunique'))\n",
    "    .query('groups_count > 1')\n",
    "    .head(5)\n",
    ")"
   ]
  },
  {
   "cell_type": "markdown",
   "metadata": {},
   "source": [
    "- As we see some of visitors  were in both control groups\n",
    "- There is mistakes in the original datasets which is supposed to be fixed it by dropping them\n",
    "- We need to remove every vistor that was in both A and B groups while leaving the rest intact. "
   ]
  },
  {
   "cell_type": "markdown",
   "metadata": {},
   "source": [
    "### Fix data"
   ]
  },
  {
   "cell_type": "code",
   "execution_count": 13,
   "metadata": {
    "scrolled": false
   },
   "outputs": [
    {
     "data": {
      "text/html": [
       "<div>\n",
       "<style scoped>\n",
       "    .dataframe tbody tr th:only-of-type {\n",
       "        vertical-align: middle;\n",
       "    }\n",
       "\n",
       "    .dataframe tbody tr th {\n",
       "        vertical-align: top;\n",
       "    }\n",
       "\n",
       "    .dataframe thead th {\n",
       "        text-align: right;\n",
       "    }\n",
       "</style>\n",
       "<table border=\"1\" class=\"dataframe\">\n",
       "  <thead>\n",
       "    <tr style=\"text-align: right;\">\n",
       "      <th></th>\n",
       "      <th>transaction_id</th>\n",
       "      <th>visitor_id</th>\n",
       "      <th>date</th>\n",
       "      <th>revenue</th>\n",
       "      <th>group</th>\n",
       "    </tr>\n",
       "  </thead>\n",
       "  <tbody>\n",
       "    <tr>\n",
       "      <th>0</th>\n",
       "      <td>3667963787</td>\n",
       "      <td>3312258926</td>\n",
       "      <td>2019-08-15</td>\n",
       "      <td>30.4</td>\n",
       "      <td>B</td>\n",
       "    </tr>\n",
       "    <tr>\n",
       "      <th>1</th>\n",
       "      <td>2804400009</td>\n",
       "      <td>3642806036</td>\n",
       "      <td>2019-08-15</td>\n",
       "      <td>15.2</td>\n",
       "      <td>B</td>\n",
       "    </tr>\n",
       "    <tr>\n",
       "      <th>2</th>\n",
       "      <td>2961555356</td>\n",
       "      <td>4069496402</td>\n",
       "      <td>2019-08-15</td>\n",
       "      <td>10.2</td>\n",
       "      <td>A</td>\n",
       "    </tr>\n",
       "    <tr>\n",
       "      <th>3</th>\n",
       "      <td>3797467345</td>\n",
       "      <td>1196621759</td>\n",
       "      <td>2019-08-15</td>\n",
       "      <td>155.1</td>\n",
       "      <td>B</td>\n",
       "    </tr>\n",
       "    <tr>\n",
       "      <th>4</th>\n",
       "      <td>2282983706</td>\n",
       "      <td>2322279887</td>\n",
       "      <td>2019-08-15</td>\n",
       "      <td>40.5</td>\n",
       "      <td>B</td>\n",
       "    </tr>\n",
       "  </tbody>\n",
       "</table>\n",
       "</div>"
      ],
      "text/plain": [
       "   transaction_id  visitor_id        date  revenue group\n",
       "0      3667963787  3312258926  2019-08-15     30.4     B\n",
       "1      2804400009  3642806036  2019-08-15     15.2     B\n",
       "2      2961555356  4069496402  2019-08-15     10.2     A\n",
       "3      3797467345  1196621759  2019-08-15    155.1     B\n",
       "4      2282983706  2322279887  2019-08-15     40.5     B"
      ]
     },
     "execution_count": 13,
     "metadata": {},
     "output_type": "execute_result"
    }
   ],
   "source": [
    "# Rename columns in aproriate format\n",
    "orders.rename(columns= {'transactionId':'transaction_id','visitorId':'visitor_id'}, inplace = True)\n",
    "# check it\n",
    "orders.head()\n"
   ]
  },
  {
   "cell_type": "code",
   "execution_count": 14,
   "metadata": {},
   "outputs": [],
   "source": [
    "# Convert to Timestamps\n",
    "#orders['date'] = pd.to_datetime(orders['date'],format ='%Y-%m-%d' )\n",
    "\n",
    "orders['date'] = orders['date'].map( lambda x: dt.datetime.strptime(x, '%Y-%m-%d'))"
   ]
  },
  {
   "cell_type": "code",
   "execution_count": 15,
   "metadata": {},
   "outputs": [
    {
     "data": {
      "text/plain": [
       "pandas._libs.tslibs.timestamps.Timestamp"
      ]
     },
     "execution_count": 15,
     "metadata": {},
     "output_type": "execute_result"
    }
   ],
   "source": [
    "# Check it again\n",
    "type(orders.date[0])"
   ]
  },
  {
   "cell_type": "code",
   "execution_count": null,
   "metadata": {},
   "outputs": [],
   "source": []
  },
  {
   "cell_type": "markdown",
   "metadata": {},
   "source": [
    " We can get a list of users that are in just one group like this"
   ]
  },
  {
   "cell_type": "code",
   "execution_count": 16,
   "metadata": {},
   "outputs": [
    {
     "data": {
      "text/html": [
       "<div>\n",
       "<style scoped>\n",
       "    .dataframe tbody tr th:only-of-type {\n",
       "        vertical-align: middle;\n",
       "    }\n",
       "\n",
       "    .dataframe tbody tr th {\n",
       "        vertical-align: top;\n",
       "    }\n",
       "\n",
       "    .dataframe thead th {\n",
       "        text-align: right;\n",
       "    }\n",
       "</style>\n",
       "<table border=\"1\" class=\"dataframe\">\n",
       "  <thead>\n",
       "    <tr style=\"text-align: right;\">\n",
       "      <th></th>\n",
       "      <th>group</th>\n",
       "    </tr>\n",
       "    <tr>\n",
       "      <th>visitor_id</th>\n",
       "      <th></th>\n",
       "    </tr>\n",
       "  </thead>\n",
       "  <tbody>\n",
       "    <tr>\n",
       "      <th>5114589</th>\n",
       "      <td>1</td>\n",
       "    </tr>\n",
       "    <tr>\n",
       "      <th>6958315</th>\n",
       "      <td>1</td>\n",
       "    </tr>\n",
       "    <tr>\n",
       "      <th>8300375</th>\n",
       "      <td>2</td>\n",
       "    </tr>\n",
       "    <tr>\n",
       "      <th>11685486</th>\n",
       "      <td>1</td>\n",
       "    </tr>\n",
       "    <tr>\n",
       "      <th>39475350</th>\n",
       "      <td>1</td>\n",
       "    </tr>\n",
       "    <tr>\n",
       "      <th>...</th>\n",
       "      <td>...</td>\n",
       "    </tr>\n",
       "    <tr>\n",
       "      <th>4266935830</th>\n",
       "      <td>2</td>\n",
       "    </tr>\n",
       "    <tr>\n",
       "      <th>4278982564</th>\n",
       "      <td>1</td>\n",
       "    </tr>\n",
       "    <tr>\n",
       "      <th>4279090005</th>\n",
       "      <td>1</td>\n",
       "    </tr>\n",
       "    <tr>\n",
       "      <th>4281247801</th>\n",
       "      <td>1</td>\n",
       "    </tr>\n",
       "    <tr>\n",
       "      <th>4283872382</th>\n",
       "      <td>1</td>\n",
       "    </tr>\n",
       "  </tbody>\n",
       "</table>\n",
       "<p>1031 rows × 1 columns</p>\n",
       "</div>"
      ],
      "text/plain": [
       "            group\n",
       "visitor_id       \n",
       "5114589         1\n",
       "6958315         1\n",
       "8300375         2\n",
       "11685486        1\n",
       "39475350        1\n",
       "...           ...\n",
       "4266935830      2\n",
       "4278982564      1\n",
       "4279090005      1\n",
       "4281247801      1\n",
       "4283872382      1\n",
       "\n",
       "[1031 rows x 1 columns]"
      ]
     },
     "execution_count": 16,
     "metadata": {},
     "output_type": "execute_result"
    }
   ],
   "source": [
    "# list of users with number of groups\n",
    "group_counts = orders.groupby('visitor_id').agg({'group': 'nunique'})\n",
    "group_counts"
   ]
  },
  {
   "cell_type": "code",
   "execution_count": 17,
   "metadata": {
    "scrolled": false
   },
   "outputs": [
    {
     "data": {
      "text/html": [
       "<div>\n",
       "<style scoped>\n",
       "    .dataframe tbody tr th:only-of-type {\n",
       "        vertical-align: middle;\n",
       "    }\n",
       "\n",
       "    .dataframe tbody tr th {\n",
       "        vertical-align: top;\n",
       "    }\n",
       "\n",
       "    .dataframe thead th {\n",
       "        text-align: right;\n",
       "    }\n",
       "</style>\n",
       "<table border=\"1\" class=\"dataframe\">\n",
       "  <thead>\n",
       "    <tr style=\"text-align: right;\">\n",
       "      <th></th>\n",
       "      <th>group</th>\n",
       "    </tr>\n",
       "    <tr>\n",
       "      <th>visitor_id</th>\n",
       "      <th></th>\n",
       "    </tr>\n",
       "  </thead>\n",
       "  <tbody>\n",
       "    <tr>\n",
       "      <th>5114589</th>\n",
       "      <td>1</td>\n",
       "    </tr>\n",
       "    <tr>\n",
       "      <th>6958315</th>\n",
       "      <td>1</td>\n",
       "    </tr>\n",
       "    <tr>\n",
       "      <th>11685486</th>\n",
       "      <td>1</td>\n",
       "    </tr>\n",
       "    <tr>\n",
       "      <th>39475350</th>\n",
       "      <td>1</td>\n",
       "    </tr>\n",
       "    <tr>\n",
       "      <th>47206413</th>\n",
       "      <td>1</td>\n",
       "    </tr>\n",
       "    <tr>\n",
       "      <th>...</th>\n",
       "      <td>...</td>\n",
       "    </tr>\n",
       "    <tr>\n",
       "      <th>4259830713</th>\n",
       "      <td>1</td>\n",
       "    </tr>\n",
       "    <tr>\n",
       "      <th>4278982564</th>\n",
       "      <td>1</td>\n",
       "    </tr>\n",
       "    <tr>\n",
       "      <th>4279090005</th>\n",
       "      <td>1</td>\n",
       "    </tr>\n",
       "    <tr>\n",
       "      <th>4281247801</th>\n",
       "      <td>1</td>\n",
       "    </tr>\n",
       "    <tr>\n",
       "      <th>4283872382</th>\n",
       "      <td>1</td>\n",
       "    </tr>\n",
       "  </tbody>\n",
       "</table>\n",
       "<p>973 rows × 1 columns</p>\n",
       "</div>"
      ],
      "text/plain": [
       "            group\n",
       "visitor_id       \n",
       "5114589         1\n",
       "6958315         1\n",
       "11685486        1\n",
       "39475350        1\n",
       "47206413        1\n",
       "...           ...\n",
       "4259830713      1\n",
       "4278982564      1\n",
       "4279090005      1\n",
       "4281247801      1\n",
       "4283872382      1\n",
       "\n",
       "[973 rows x 1 columns]"
      ]
     },
     "execution_count": 17,
     "metadata": {},
     "output_type": "execute_result"
    }
   ],
   "source": [
    "# Filter for just users in 1 group\n",
    "to_include = group_counts[group_counts['group'] == 1]\n",
    "to_include"
   ]
  },
  {
   "cell_type": "code",
   "execution_count": 18,
   "metadata": {},
   "outputs": [],
   "source": [
    "# Then filter your original data according to which visitors are in that list:\n",
    "orders = orders[orders['visitor_id'].isin(to_include.index)]"
   ]
  },
  {
   "cell_type": "code",
   "execution_count": 19,
   "metadata": {},
   "outputs": [
    {
     "data": {
      "text/plain": [
       "B    548\n",
       "A    468\n",
       "Name: group, dtype: int64"
      ]
     },
     "execution_count": 19,
     "metadata": {},
     "output_type": "execute_result"
    }
   ],
   "source": [
    "# Let's see the distribution of values in the `group` column \n",
    "orders['group'].value_counts(dropna=False)"
   ]
  },
  {
   "cell_type": "code",
   "execution_count": 20,
   "metadata": {},
   "outputs": [
    {
     "data": {
      "text/plain": [
       "visitor_id\n",
       "5114589       1\n",
       "6958315       1\n",
       "11685486      1\n",
       "39475350      1\n",
       "47206413      1\n",
       "             ..\n",
       "4259830713    1\n",
       "4278982564    1\n",
       "4279090005    1\n",
       "4281247801    1\n",
       "4283872382    1\n",
       "Name: group, Length: 973, dtype: int64"
      ]
     },
     "execution_count": 20,
     "metadata": {},
     "output_type": "execute_result"
    }
   ],
   "source": [
    "# Check it if it works\n",
    "orders.groupby(['visitor_id'])['group'].count()"
   ]
  },
  {
   "cell_type": "markdown",
   "metadata": {},
   "source": [
    "### Visits"
   ]
  },
  {
   "cell_type": "code",
   "execution_count": 21,
   "metadata": {},
   "outputs": [
    {
     "data": {
      "text/html": [
       "<div>\n",
       "<style scoped>\n",
       "    .dataframe tbody tr th:only-of-type {\n",
       "        vertical-align: middle;\n",
       "    }\n",
       "\n",
       "    .dataframe tbody tr th {\n",
       "        vertical-align: top;\n",
       "    }\n",
       "\n",
       "    .dataframe thead th {\n",
       "        text-align: right;\n",
       "    }\n",
       "</style>\n",
       "<table border=\"1\" class=\"dataframe\">\n",
       "  <thead>\n",
       "    <tr style=\"text-align: right;\">\n",
       "      <th></th>\n",
       "      <th>date</th>\n",
       "      <th>group</th>\n",
       "      <th>visits</th>\n",
       "    </tr>\n",
       "  </thead>\n",
       "  <tbody>\n",
       "    <tr>\n",
       "      <th>0</th>\n",
       "      <td>2019-08-01</td>\n",
       "      <td>A</td>\n",
       "      <td>719</td>\n",
       "    </tr>\n",
       "    <tr>\n",
       "      <th>1</th>\n",
       "      <td>2019-08-02</td>\n",
       "      <td>A</td>\n",
       "      <td>619</td>\n",
       "    </tr>\n",
       "    <tr>\n",
       "      <th>2</th>\n",
       "      <td>2019-08-03</td>\n",
       "      <td>A</td>\n",
       "      <td>507</td>\n",
       "    </tr>\n",
       "    <tr>\n",
       "      <th>3</th>\n",
       "      <td>2019-08-04</td>\n",
       "      <td>A</td>\n",
       "      <td>717</td>\n",
       "    </tr>\n",
       "    <tr>\n",
       "      <th>4</th>\n",
       "      <td>2019-08-05</td>\n",
       "      <td>A</td>\n",
       "      <td>756</td>\n",
       "    </tr>\n",
       "  </tbody>\n",
       "</table>\n",
       "</div>"
      ],
      "text/plain": [
       "         date group  visits\n",
       "0  2019-08-01     A     719\n",
       "1  2019-08-02     A     619\n",
       "2  2019-08-03     A     507\n",
       "3  2019-08-04     A     717\n",
       "4  2019-08-05     A     756"
      ]
     },
     "execution_count": 21,
     "metadata": {},
     "output_type": "execute_result"
    }
   ],
   "source": [
    "# Print sample \n",
    "visits.head()"
   ]
  },
  {
   "cell_type": "code",
   "execution_count": 22,
   "metadata": {},
   "outputs": [
    {
     "name": "stdout",
     "output_type": "stream",
     "text": [
      "<class 'pandas.core.frame.DataFrame'>\n",
      "RangeIndex: 62 entries, 0 to 61\n",
      "Data columns (total 3 columns):\n",
      " #   Column  Non-Null Count  Dtype \n",
      "---  ------  --------------  ----- \n",
      " 0   date    62 non-null     object\n",
      " 1   group   62 non-null     object\n",
      " 2   visits  62 non-null     int64 \n",
      "dtypes: int64(1), object(2)\n",
      "memory usage: 1.6+ KB\n"
     ]
    }
   ],
   "source": [
    "# Print general information/summury\n",
    "visits.info()"
   ]
  },
  {
   "cell_type": "code",
   "execution_count": 23,
   "metadata": {},
   "outputs": [
    {
     "data": {
      "text/plain": [
       "date      0\n",
       "group     0\n",
       "visits    0\n",
       "dtype: int64"
      ]
     },
     "execution_count": 23,
     "metadata": {},
     "output_type": "execute_result"
    }
   ],
   "source": [
    "# check for missing values\n",
    "visits.isna().sum()"
   ]
  },
  {
   "cell_type": "code",
   "execution_count": 24,
   "metadata": {},
   "outputs": [
    {
     "data": {
      "text/plain": [
       "str"
      ]
     },
     "execution_count": 24,
     "metadata": {},
     "output_type": "execute_result"
    }
   ],
   "source": [
    "# Let's see column ' date'\n",
    "type(visits.date[0])"
   ]
  },
  {
   "cell_type": "markdown",
   "metadata": {},
   "source": [
    "### Fix  the data"
   ]
  },
  {
   "cell_type": "code",
   "execution_count": 25,
   "metadata": {},
   "outputs": [],
   "source": [
    "# Converting column'date' to Timestamps\n",
    "#visits['date'] = pd.to_datetime(visits['date'], format = '%Y-%m-%d')\n",
    "\n",
    "visits['date'] = visits['date'].map( lambda x: dt.datetime.strptime(x, '%Y-%m-%d'))\n"
   ]
  },
  {
   "cell_type": "code",
   "execution_count": 26,
   "metadata": {},
   "outputs": [
    {
     "data": {
      "text/plain": [
       "pandas._libs.tslibs.timestamps.Timestamp"
      ]
     },
     "execution_count": 26,
     "metadata": {},
     "output_type": "execute_result"
    }
   ],
   "source": [
    "type(visits.date[0])"
   ]
  },
  {
   "cell_type": "markdown",
   "metadata": {},
   "source": [
    "###  Conclusions\n",
    "- There is no missing values in dataset\n",
    "- All data represent as object and int64\n",
    "- The column 'date' in df was converted to Timestamps\n",
    "- The columns name was changed to lowercase register and appropriate format\n",
    "- There is mistakes in the original datasets 'orders',some vistors  was in both A and B group which is fixed it by dropping them"
   ]
  },
  {
   "cell_type": "code",
   "execution_count": 27,
   "metadata": {},
   "outputs": [],
   "source": [
    "df1 = hypo.copy()\n",
    "df_orders = orders.copy()\n",
    "df_visits = visits.copy()"
   ]
  },
  {
   "cell_type": "code",
   "execution_count": null,
   "metadata": {},
   "outputs": [],
   "source": []
  },
  {
   "cell_type": "markdown",
   "metadata": {},
   "source": [
    "# Analysing data"
   ]
  },
  {
   "cell_type": "markdown",
   "metadata": {},
   "source": [
    "##  Prioritizing Hypotheses"
   ]
  },
  {
   "cell_type": "markdown",
   "metadata": {},
   "source": [
    "- The file hypotheses_us.csv contains nine hypotheses on boosting an online store's revenue with Reach, Impact, Confidence, and Effort specified for each.\n",
    "- The task is to:\n",
    "- Apply the ICE framework to prioritize hypotheses. Sort them in descending order of priority.\n",
    "- Apply the RICE framework to prioritize hypotheses. Sort them in descending order of priority.\n",
    "- Show how the prioritization of hypotheses changes when you use RICE instead of ICE. Provide an explanation for the changes."
   ]
  },
  {
   "cell_type": "code",
   "execution_count": 28,
   "metadata": {
    "scrolled": true
   },
   "outputs": [
    {
     "data": {
      "text/plain": [
       "array(['Add two new channels for attracting traffic. This will bring 30% more users',\n",
       "       'Launch your own delivery service. This will shorten delivery time',\n",
       "       \"Add product recommendation blocks to the store's site. This will increase conversion and average purchase size\",\n",
       "       'Change the category structure. This will increase conversion since users will find the products they want more quickly',\n",
       "       'Change the background color on the main page. This will increase user engagement',\n",
       "       'Add a customer review page. This will increase the number of orders',\n",
       "       'Show banners with current offers and sales on the main page. This will boost conversion',\n",
       "       'Add a subscription form to all the main pages. This will help you compile a mailing list',\n",
       "       'Launch a promotion that gives users discounts on their birthdays'],\n",
       "      dtype=object)"
      ]
     },
     "execution_count": 28,
     "metadata": {},
     "output_type": "execute_result"
    }
   ],
   "source": [
    "hypo['hypothesis'].unique()"
   ]
  },
  {
   "cell_type": "markdown",
   "metadata": {},
   "source": [
    "### ICE method\n",
    "\n",
    "\n"
   ]
  },
  {
   "cell_type": "code",
   "execution_count": 29,
   "metadata": {},
   "outputs": [],
   "source": [
    "# Create new column ICE by using formula\n",
    "hypo['ICE'] = hypo['impact'] * hypo['confidence'] / hypo['effort']"
   ]
  },
  {
   "cell_type": "code",
   "execution_count": 30,
   "metadata": {},
   "outputs": [],
   "source": [
    "# New df\n",
    "df_new = hypo[['hypothesis', 'ICE']]"
   ]
  },
  {
   "cell_type": "code",
   "execution_count": 31,
   "metadata": {},
   "outputs": [
    {
     "data": {
      "text/html": [
       "<div>\n",
       "<style scoped>\n",
       "    .dataframe tbody tr th:only-of-type {\n",
       "        vertical-align: middle;\n",
       "    }\n",
       "\n",
       "    .dataframe tbody tr th {\n",
       "        vertical-align: top;\n",
       "    }\n",
       "\n",
       "    .dataframe thead th {\n",
       "        text-align: right;\n",
       "    }\n",
       "</style>\n",
       "<table border=\"1\" class=\"dataframe\">\n",
       "  <thead>\n",
       "    <tr style=\"text-align: right;\">\n",
       "      <th></th>\n",
       "      <th>hypothesis</th>\n",
       "      <th>ICE</th>\n",
       "    </tr>\n",
       "  </thead>\n",
       "  <tbody>\n",
       "    <tr>\n",
       "      <th>8</th>\n",
       "      <td>Launch a promotion that gives users discounts on their birthdays</td>\n",
       "      <td>16.200000</td>\n",
       "    </tr>\n",
       "    <tr>\n",
       "      <th>0</th>\n",
       "      <td>Add two new channels for attracting traffic. This will bring 30% more users</td>\n",
       "      <td>13.333333</td>\n",
       "    </tr>\n",
       "    <tr>\n",
       "      <th>7</th>\n",
       "      <td>Add a subscription form to all the main pages. This will help you compile a mailing list</td>\n",
       "      <td>11.200000</td>\n",
       "    </tr>\n",
       "    <tr>\n",
       "      <th>6</th>\n",
       "      <td>Show banners with current offers and sales on the main page. This will boost conversion</td>\n",
       "      <td>8.000000</td>\n",
       "    </tr>\n",
       "    <tr>\n",
       "      <th>2</th>\n",
       "      <td>Add product recommendation blocks to the store's site. This will increase conversion and average purchase size</td>\n",
       "      <td>7.000000</td>\n",
       "    </tr>\n",
       "    <tr>\n",
       "      <th>1</th>\n",
       "      <td>Launch your own delivery service. This will shorten delivery time</td>\n",
       "      <td>2.000000</td>\n",
       "    </tr>\n",
       "    <tr>\n",
       "      <th>5</th>\n",
       "      <td>Add a customer review page. This will increase the number of orders</td>\n",
       "      <td>1.333333</td>\n",
       "    </tr>\n",
       "    <tr>\n",
       "      <th>3</th>\n",
       "      <td>Change the category structure. This will increase conversion since users will find the products they want more quickly</td>\n",
       "      <td>1.125000</td>\n",
       "    </tr>\n",
       "    <tr>\n",
       "      <th>4</th>\n",
       "      <td>Change the background color on the main page. This will increase user engagement</td>\n",
       "      <td>1.000000</td>\n",
       "    </tr>\n",
       "  </tbody>\n",
       "</table>\n",
       "</div>"
      ],
      "text/plain": [
       "                                                                                                               hypothesis  \\\n",
       "8                                                        Launch a promotion that gives users discounts on their birthdays   \n",
       "0                                             Add two new channels for attracting traffic. This will bring 30% more users   \n",
       "7                                Add a subscription form to all the main pages. This will help you compile a mailing list   \n",
       "6                                 Show banners with current offers and sales on the main page. This will boost conversion   \n",
       "2          Add product recommendation blocks to the store's site. This will increase conversion and average purchase size   \n",
       "1                                                       Launch your own delivery service. This will shorten delivery time   \n",
       "5                                                     Add a customer review page. This will increase the number of orders   \n",
       "3  Change the category structure. This will increase conversion since users will find the products they want more quickly   \n",
       "4                                        Change the background color on the main page. This will increase user engagement   \n",
       "\n",
       "         ICE  \n",
       "8  16.200000  \n",
       "0  13.333333  \n",
       "7  11.200000  \n",
       "6   8.000000  \n",
       "2   7.000000  \n",
       "1   2.000000  \n",
       "5   1.333333  \n",
       "3   1.125000  \n",
       "4   1.000000  "
      ]
     },
     "metadata": {},
     "output_type": "display_data"
    }
   ],
   "source": [
    "# Display it by sorting in desc order\n",
    "pd.options.display.max_colwidth = 150\n",
    "display(df_new.sort_values(by = 'ICE', ascending = False))"
   ]
  },
  {
   "cell_type": "markdown",
   "metadata": {},
   "source": [
    "- ICE give us 8, 0, 7, 6  are promising hypothesis.\n",
    "- Number 8 were in first place because parameter Confidence have high value than others"
   ]
  },
  {
   "cell_type": "markdown",
   "metadata": {},
   "source": [
    "### RICE method"
   ]
  },
  {
   "cell_type": "code",
   "execution_count": 32,
   "metadata": {},
   "outputs": [],
   "source": [
    "# Calculate RICE for the hypotheses. Add the values you get to the existing table\n",
    "hypo['RICE'] = hypo['reach'] * hypo['impact'] * hypo['confidence'] / hypo['effort']\n"
   ]
  },
  {
   "cell_type": "code",
   "execution_count": 33,
   "metadata": {},
   "outputs": [],
   "source": [
    "# New df\n",
    "df_new2 = hypo[['hypothesis', 'RICE']]"
   ]
  },
  {
   "cell_type": "code",
   "execution_count": 34,
   "metadata": {},
   "outputs": [
    {
     "data": {
      "text/html": [
       "<div>\n",
       "<style scoped>\n",
       "    .dataframe tbody tr th:only-of-type {\n",
       "        vertical-align: middle;\n",
       "    }\n",
       "\n",
       "    .dataframe tbody tr th {\n",
       "        vertical-align: top;\n",
       "    }\n",
       "\n",
       "    .dataframe thead th {\n",
       "        text-align: right;\n",
       "    }\n",
       "</style>\n",
       "<table border=\"1\" class=\"dataframe\">\n",
       "  <thead>\n",
       "    <tr style=\"text-align: right;\">\n",
       "      <th></th>\n",
       "      <th>hypothesis</th>\n",
       "      <th>RICE</th>\n",
       "    </tr>\n",
       "  </thead>\n",
       "  <tbody>\n",
       "    <tr>\n",
       "      <th>7</th>\n",
       "      <td>Add a subscription form to all the main pages. This will help you compile a mailing list</td>\n",
       "      <td>112.0</td>\n",
       "    </tr>\n",
       "    <tr>\n",
       "      <th>2</th>\n",
       "      <td>Add product recommendation blocks to the store's site. This will increase conversion and average purchase size</td>\n",
       "      <td>56.0</td>\n",
       "    </tr>\n",
       "    <tr>\n",
       "      <th>0</th>\n",
       "      <td>Add two new channels for attracting traffic. This will bring 30% more users</td>\n",
       "      <td>40.0</td>\n",
       "    </tr>\n",
       "    <tr>\n",
       "      <th>6</th>\n",
       "      <td>Show banners with current offers and sales on the main page. This will boost conversion</td>\n",
       "      <td>40.0</td>\n",
       "    </tr>\n",
       "    <tr>\n",
       "      <th>8</th>\n",
       "      <td>Launch a promotion that gives users discounts on their birthdays</td>\n",
       "      <td>16.2</td>\n",
       "    </tr>\n",
       "    <tr>\n",
       "      <th>3</th>\n",
       "      <td>Change the category structure. This will increase conversion since users will find the products they want more quickly</td>\n",
       "      <td>9.0</td>\n",
       "    </tr>\n",
       "    <tr>\n",
       "      <th>1</th>\n",
       "      <td>Launch your own delivery service. This will shorten delivery time</td>\n",
       "      <td>4.0</td>\n",
       "    </tr>\n",
       "    <tr>\n",
       "      <th>5</th>\n",
       "      <td>Add a customer review page. This will increase the number of orders</td>\n",
       "      <td>4.0</td>\n",
       "    </tr>\n",
       "    <tr>\n",
       "      <th>4</th>\n",
       "      <td>Change the background color on the main page. This will increase user engagement</td>\n",
       "      <td>3.0</td>\n",
       "    </tr>\n",
       "  </tbody>\n",
       "</table>\n",
       "</div>"
      ],
      "text/plain": [
       "                                                                                                               hypothesis  \\\n",
       "7                                Add a subscription form to all the main pages. This will help you compile a mailing list   \n",
       "2          Add product recommendation blocks to the store's site. This will increase conversion and average purchase size   \n",
       "0                                             Add two new channels for attracting traffic. This will bring 30% more users   \n",
       "6                                 Show banners with current offers and sales on the main page. This will boost conversion   \n",
       "8                                                        Launch a promotion that gives users discounts on their birthdays   \n",
       "3  Change the category structure. This will increase conversion since users will find the products they want more quickly   \n",
       "1                                                       Launch your own delivery service. This will shorten delivery time   \n",
       "5                                                     Add a customer review page. This will increase the number of orders   \n",
       "4                                        Change the background color on the main page. This will increase user engagement   \n",
       "\n",
       "    RICE  \n",
       "7  112.0  \n",
       "2   56.0  \n",
       "0   40.0  \n",
       "6   40.0  \n",
       "8   16.2  \n",
       "3    9.0  \n",
       "1    4.0  \n",
       "5    4.0  \n",
       "4    3.0  "
      ]
     },
     "metadata": {},
     "output_type": "display_data"
    }
   ],
   "source": [
    "# Dislay it by sorting in desc order\n",
    "pd.set_option('display.width', None)\n",
    "display(df_new2.sort_values(by = 'RICE', ascending = False))"
   ]
  },
  {
   "cell_type": "markdown",
   "metadata": {},
   "source": [
    "- The most promising hypothesis are 7, 2, 0 and 6. \n",
    "- However this time number 7 was in first time.\n",
    "- That's because it's Reach parameter have high value  wich is 10 , while other hypothesis have lower values"
   ]
  },
  {
   "cell_type": "code",
   "execution_count": 35,
   "metadata": {},
   "outputs": [
    {
     "data": {
      "text/html": [
       "<div>\n",
       "<style scoped>\n",
       "    .dataframe tbody tr th:only-of-type {\n",
       "        vertical-align: middle;\n",
       "    }\n",
       "\n",
       "    .dataframe tbody tr th {\n",
       "        vertical-align: top;\n",
       "    }\n",
       "\n",
       "    .dataframe thead th {\n",
       "        text-align: right;\n",
       "    }\n",
       "</style>\n",
       "<table border=\"1\" class=\"dataframe\">\n",
       "  <thead>\n",
       "    <tr style=\"text-align: right;\">\n",
       "      <th></th>\n",
       "      <th>hypothesis</th>\n",
       "      <th>reach</th>\n",
       "      <th>impact</th>\n",
       "      <th>confidence</th>\n",
       "      <th>effort</th>\n",
       "      <th>ICE</th>\n",
       "      <th>RICE</th>\n",
       "    </tr>\n",
       "  </thead>\n",
       "  <tbody>\n",
       "    <tr>\n",
       "      <th>0</th>\n",
       "      <td>Add two new channels for attracting traffic. This will bring 30% more users</td>\n",
       "      <td>3</td>\n",
       "      <td>10</td>\n",
       "      <td>8</td>\n",
       "      <td>6</td>\n",
       "      <td>13.333333</td>\n",
       "      <td>40.0</td>\n",
       "    </tr>\n",
       "    <tr>\n",
       "      <th>1</th>\n",
       "      <td>Launch your own delivery service. This will shorten delivery time</td>\n",
       "      <td>2</td>\n",
       "      <td>5</td>\n",
       "      <td>4</td>\n",
       "      <td>10</td>\n",
       "      <td>2.000000</td>\n",
       "      <td>4.0</td>\n",
       "    </tr>\n",
       "    <tr>\n",
       "      <th>2</th>\n",
       "      <td>Add product recommendation blocks to the store's site. This will increase conversion and average purchase size</td>\n",
       "      <td>8</td>\n",
       "      <td>3</td>\n",
       "      <td>7</td>\n",
       "      <td>3</td>\n",
       "      <td>7.000000</td>\n",
       "      <td>56.0</td>\n",
       "    </tr>\n",
       "    <tr>\n",
       "      <th>3</th>\n",
       "      <td>Change the category structure. This will increase conversion since users will find the products they want more quickly</td>\n",
       "      <td>8</td>\n",
       "      <td>3</td>\n",
       "      <td>3</td>\n",
       "      <td>8</td>\n",
       "      <td>1.125000</td>\n",
       "      <td>9.0</td>\n",
       "    </tr>\n",
       "    <tr>\n",
       "      <th>4</th>\n",
       "      <td>Change the background color on the main page. This will increase user engagement</td>\n",
       "      <td>3</td>\n",
       "      <td>1</td>\n",
       "      <td>1</td>\n",
       "      <td>1</td>\n",
       "      <td>1.000000</td>\n",
       "      <td>3.0</td>\n",
       "    </tr>\n",
       "    <tr>\n",
       "      <th>5</th>\n",
       "      <td>Add a customer review page. This will increase the number of orders</td>\n",
       "      <td>3</td>\n",
       "      <td>2</td>\n",
       "      <td>2</td>\n",
       "      <td>3</td>\n",
       "      <td>1.333333</td>\n",
       "      <td>4.0</td>\n",
       "    </tr>\n",
       "    <tr>\n",
       "      <th>6</th>\n",
       "      <td>Show banners with current offers and sales on the main page. This will boost conversion</td>\n",
       "      <td>5</td>\n",
       "      <td>3</td>\n",
       "      <td>8</td>\n",
       "      <td>3</td>\n",
       "      <td>8.000000</td>\n",
       "      <td>40.0</td>\n",
       "    </tr>\n",
       "    <tr>\n",
       "      <th>7</th>\n",
       "      <td>Add a subscription form to all the main pages. This will help you compile a mailing list</td>\n",
       "      <td>10</td>\n",
       "      <td>7</td>\n",
       "      <td>8</td>\n",
       "      <td>5</td>\n",
       "      <td>11.200000</td>\n",
       "      <td>112.0</td>\n",
       "    </tr>\n",
       "    <tr>\n",
       "      <th>8</th>\n",
       "      <td>Launch a promotion that gives users discounts on their birthdays</td>\n",
       "      <td>1</td>\n",
       "      <td>9</td>\n",
       "      <td>9</td>\n",
       "      <td>5</td>\n",
       "      <td>16.200000</td>\n",
       "      <td>16.2</td>\n",
       "    </tr>\n",
       "  </tbody>\n",
       "</table>\n",
       "</div>"
      ],
      "text/plain": [
       "                                                                                                               hypothesis  \\\n",
       "0                                             Add two new channels for attracting traffic. This will bring 30% more users   \n",
       "1                                                       Launch your own delivery service. This will shorten delivery time   \n",
       "2          Add product recommendation blocks to the store's site. This will increase conversion and average purchase size   \n",
       "3  Change the category structure. This will increase conversion since users will find the products they want more quickly   \n",
       "4                                        Change the background color on the main page. This will increase user engagement   \n",
       "5                                                     Add a customer review page. This will increase the number of orders   \n",
       "6                                 Show banners with current offers and sales on the main page. This will boost conversion   \n",
       "7                                Add a subscription form to all the main pages. This will help you compile a mailing list   \n",
       "8                                                        Launch a promotion that gives users discounts on their birthdays   \n",
       "\n",
       "   reach  impact  confidence  effort        ICE   RICE  \n",
       "0      3      10           8       6  13.333333   40.0  \n",
       "1      2       5           4      10   2.000000    4.0  \n",
       "2      8       3           7       3   7.000000   56.0  \n",
       "3      8       3           3       8   1.125000    9.0  \n",
       "4      3       1           1       1   1.000000    3.0  \n",
       "5      3       2           2       3   1.333333    4.0  \n",
       "6      5       3           8       3   8.000000   40.0  \n",
       "7     10       7           8       5  11.200000  112.0  \n",
       "8      1       9           9       5  16.200000   16.2  "
      ]
     },
     "metadata": {},
     "output_type": "display_data"
    }
   ],
   "source": [
    "pd.options.display.max_colwidth = 150\n",
    "display(hypo)"
   ]
  },
  {
   "cell_type": "markdown",
   "metadata": {},
   "source": [
    "## A/B Test Analysis"
   ]
  },
  {
   "cell_type": "code",
   "execution_count": 36,
   "metadata": {},
   "outputs": [
    {
     "data": {
      "text/plain": [
       "0      2019-08-15\n",
       "1      2019-08-15\n",
       "3      2019-08-15\n",
       "4      2019-08-15\n",
       "5      2019-08-15\n",
       "          ...    \n",
       "1191   2019-08-14\n",
       "1192   2019-08-14\n",
       "1193   2019-08-14\n",
       "1194   2019-08-14\n",
       "1196   2019-08-15\n",
       "Name: date, Length: 1016, dtype: datetime64[ns]"
      ]
     },
     "execution_count": 36,
     "metadata": {},
     "output_type": "execute_result"
    }
   ],
   "source": [
    "orders['date']= pd.to_datetime(orders['date'],dayfirst=True)\n",
    "orders['date']"
   ]
  },
  {
   "cell_type": "code",
   "execution_count": 37,
   "metadata": {},
   "outputs": [
    {
     "data": {
      "text/plain": [
       "0    2019-08-01\n",
       "1    2019-08-02\n",
       "2    2019-08-03\n",
       "3    2019-08-04\n",
       "4    2019-08-05\n",
       "        ...    \n",
       "57   2019-08-27\n",
       "58   2019-08-28\n",
       "59   2019-08-29\n",
       "60   2019-08-30\n",
       "61   2019-08-31\n",
       "Name: date, Length: 62, dtype: datetime64[ns]"
      ]
     },
     "execution_count": 37,
     "metadata": {},
     "output_type": "execute_result"
    }
   ],
   "source": [
    "visits['date'] = pd.to_datetime(visits['date'],dayfirst=True)\n",
    "visits['date']"
   ]
  },
  {
   "cell_type": "markdown",
   "metadata": {},
   "source": [
    "### Graph cumulative revenue by group. Make conclusions and conjectures.\n",
    "\n",
    "Before we move on to plotting cumulative graphs for metrics, let's  build an array with unique paired date-group values using the drop_duplicates() method, than  collect the aggregated cumulative daily data and  merge the two tables into one "
   ]
  },
  {
   "cell_type": "code",
   "execution_count": 38,
   "metadata": {},
   "outputs": [
    {
     "data": {
      "text/html": [
       "<div>\n",
       "<style scoped>\n",
       "    .dataframe tbody tr th:only-of-type {\n",
       "        vertical-align: middle;\n",
       "    }\n",
       "\n",
       "    .dataframe tbody tr th {\n",
       "        vertical-align: top;\n",
       "    }\n",
       "\n",
       "    .dataframe thead th {\n",
       "        text-align: right;\n",
       "    }\n",
       "</style>\n",
       "<table border=\"1\" class=\"dataframe\">\n",
       "  <thead>\n",
       "    <tr style=\"text-align: right;\">\n",
       "      <th></th>\n",
       "      <th>date</th>\n",
       "      <th>group</th>\n",
       "    </tr>\n",
       "  </thead>\n",
       "  <tbody>\n",
       "    <tr>\n",
       "      <th>0</th>\n",
       "      <td>2019-08-15</td>\n",
       "      <td>B</td>\n",
       "    </tr>\n",
       "    <tr>\n",
       "      <th>7</th>\n",
       "      <td>2019-08-15</td>\n",
       "      <td>A</td>\n",
       "    </tr>\n",
       "    <tr>\n",
       "      <th>45</th>\n",
       "      <td>2019-08-16</td>\n",
       "      <td>A</td>\n",
       "    </tr>\n",
       "    <tr>\n",
       "      <th>47</th>\n",
       "      <td>2019-08-16</td>\n",
       "      <td>B</td>\n",
       "    </tr>\n",
       "    <tr>\n",
       "      <th>55</th>\n",
       "      <td>2019-08-01</td>\n",
       "      <td>A</td>\n",
       "    </tr>\n",
       "  </tbody>\n",
       "</table>\n",
       "</div>"
      ],
      "text/plain": [
       "         date group\n",
       "0  2019-08-15     B\n",
       "7  2019-08-15     A\n",
       "45 2019-08-16     A\n",
       "47 2019-08-16     B\n",
       "55 2019-08-01     A"
      ]
     },
     "execution_count": 38,
     "metadata": {},
     "output_type": "execute_result"
    }
   ],
   "source": [
    "# Building an array with unique paired date-group values\n",
    "\n",
    "datesGroups = orders[['date','group']].drop_duplicates()\n",
    "datesGroups.head()"
   ]
  },
  {
   "cell_type": "code",
   "execution_count": 39,
   "metadata": {},
   "outputs": [
    {
     "data": {
      "text/html": [
       "<div>\n",
       "<style scoped>\n",
       "    .dataframe tbody tr th:only-of-type {\n",
       "        vertical-align: middle;\n",
       "    }\n",
       "\n",
       "    .dataframe tbody tr th {\n",
       "        vertical-align: top;\n",
       "    }\n",
       "\n",
       "    .dataframe thead th {\n",
       "        text-align: right;\n",
       "    }\n",
       "</style>\n",
       "<table border=\"1\" class=\"dataframe\">\n",
       "  <thead>\n",
       "    <tr style=\"text-align: right;\">\n",
       "      <th></th>\n",
       "      <th>date</th>\n",
       "      <th>group</th>\n",
       "      <th>transaction_id</th>\n",
       "      <th>visitor_id</th>\n",
       "      <th>revenue</th>\n",
       "    </tr>\n",
       "  </thead>\n",
       "  <tbody>\n",
       "    <tr>\n",
       "      <th>55</th>\n",
       "      <td>2019-08-01</td>\n",
       "      <td>A</td>\n",
       "      <td>23</td>\n",
       "      <td>19</td>\n",
       "      <td>2266.6</td>\n",
       "    </tr>\n",
       "    <tr>\n",
       "      <th>66</th>\n",
       "      <td>2019-08-01</td>\n",
       "      <td>B</td>\n",
       "      <td>17</td>\n",
       "      <td>17</td>\n",
       "      <td>967.2</td>\n",
       "    </tr>\n",
       "    <tr>\n",
       "      <th>175</th>\n",
       "      <td>2019-08-02</td>\n",
       "      <td>A</td>\n",
       "      <td>42</td>\n",
       "      <td>36</td>\n",
       "      <td>3734.9</td>\n",
       "    </tr>\n",
       "    <tr>\n",
       "      <th>173</th>\n",
       "      <td>2019-08-02</td>\n",
       "      <td>B</td>\n",
       "      <td>40</td>\n",
       "      <td>39</td>\n",
       "      <td>3535.3</td>\n",
       "    </tr>\n",
       "    <tr>\n",
       "      <th>291</th>\n",
       "      <td>2019-08-03</td>\n",
       "      <td>A</td>\n",
       "      <td>66</td>\n",
       "      <td>60</td>\n",
       "      <td>5550.1</td>\n",
       "    </tr>\n",
       "  </tbody>\n",
       "</table>\n",
       "</div>"
      ],
      "text/plain": [
       "          date group  transaction_id  visitor_id  revenue\n",
       "55  2019-08-01     A              23          19   2266.6\n",
       "66  2019-08-01     B              17          17    967.2\n",
       "175 2019-08-02     A              42          36   3734.9\n",
       "173 2019-08-02     B              40          39   3535.3\n",
       "291 2019-08-03     A              66          60   5550.1"
      ]
     },
     "execution_count": 39,
     "metadata": {},
     "output_type": "execute_result"
    }
   ],
   "source": [
    "#Getting aggregated cumulative daily data on orders by  declare the 'ordersAggregated' variable to store\n",
    "\n",
    "ordersAggregated = datesGroups.apply(lambda x: orders[np.logical_and(orders['date'] <= x['date'],\n",
    "    orders['group'] == x['group'])].agg({'date' : 'max','group' : 'max','transaction_id' : pd.Series.nunique,'visitor_id' : pd.Series.nunique,\n",
    "     'revenue' : 'sum'}), axis=1).sort_values(by=['date','group'])\n",
    "\n",
    "ordersAggregated.head()"
   ]
  },
  {
   "cell_type": "code",
   "execution_count": 40,
   "metadata": {},
   "outputs": [
    {
     "data": {
      "text/html": [
       "<div>\n",
       "<style scoped>\n",
       "    .dataframe tbody tr th:only-of-type {\n",
       "        vertical-align: middle;\n",
       "    }\n",
       "\n",
       "    .dataframe tbody tr th {\n",
       "        vertical-align: top;\n",
       "    }\n",
       "\n",
       "    .dataframe thead th {\n",
       "        text-align: right;\n",
       "    }\n",
       "</style>\n",
       "<table border=\"1\" class=\"dataframe\">\n",
       "  <thead>\n",
       "    <tr style=\"text-align: right;\">\n",
       "      <th></th>\n",
       "      <th>date</th>\n",
       "      <th>group</th>\n",
       "      <th>visits</th>\n",
       "    </tr>\n",
       "  </thead>\n",
       "  <tbody>\n",
       "    <tr>\n",
       "      <th>55</th>\n",
       "      <td>2019-08-01</td>\n",
       "      <td>A</td>\n",
       "      <td>719</td>\n",
       "    </tr>\n",
       "    <tr>\n",
       "      <th>66</th>\n",
       "      <td>2019-08-01</td>\n",
       "      <td>B</td>\n",
       "      <td>713</td>\n",
       "    </tr>\n",
       "    <tr>\n",
       "      <th>175</th>\n",
       "      <td>2019-08-02</td>\n",
       "      <td>A</td>\n",
       "      <td>1338</td>\n",
       "    </tr>\n",
       "    <tr>\n",
       "      <th>173</th>\n",
       "      <td>2019-08-02</td>\n",
       "      <td>B</td>\n",
       "      <td>1294</td>\n",
       "    </tr>\n",
       "    <tr>\n",
       "      <th>291</th>\n",
       "      <td>2019-08-03</td>\n",
       "      <td>A</td>\n",
       "      <td>1845</td>\n",
       "    </tr>\n",
       "  </tbody>\n",
       "</table>\n",
       "</div>"
      ],
      "text/plain": [
       "          date group  visits\n",
       "55  2019-08-01     A     719\n",
       "66  2019-08-01     B     713\n",
       "175 2019-08-02     A    1338\n",
       "173 2019-08-02     B    1294\n",
       "291 2019-08-03     A    1845"
      ]
     },
     "execution_count": 40,
     "metadata": {},
     "output_type": "execute_result"
    }
   ],
   "source": [
    "# Getting aggregated cumulative daily data on visitors \n",
    "\n",
    "visitsAggregated = datesGroups.apply(lambda x: visits[np.logical_and(visits['date'] <= x['date'], visits['group'] == x['group'])].agg({'date' : 'max', 'group' : 'max', 'visits' : 'sum'}), axis=1).sort_values(by=['date','group'])\n",
    "visitsAggregated.head()"
   ]
  },
  {
   "cell_type": "code",
   "execution_count": 41,
   "metadata": {},
   "outputs": [
    {
     "data": {
      "text/html": [
       "<div>\n",
       "<style scoped>\n",
       "    .dataframe tbody tr th:only-of-type {\n",
       "        vertical-align: middle;\n",
       "    }\n",
       "\n",
       "    .dataframe tbody tr th {\n",
       "        vertical-align: top;\n",
       "    }\n",
       "\n",
       "    .dataframe thead th {\n",
       "        text-align: right;\n",
       "    }\n",
       "</style>\n",
       "<table border=\"1\" class=\"dataframe\">\n",
       "  <thead>\n",
       "    <tr style=\"text-align: right;\">\n",
       "      <th></th>\n",
       "      <th>date</th>\n",
       "      <th>group</th>\n",
       "      <th>transaction_id</th>\n",
       "      <th>visitor_id</th>\n",
       "      <th>revenue</th>\n",
       "      <th>visits</th>\n",
       "    </tr>\n",
       "  </thead>\n",
       "  <tbody>\n",
       "    <tr>\n",
       "      <th>0</th>\n",
       "      <td>2019-08-01</td>\n",
       "      <td>A</td>\n",
       "      <td>23</td>\n",
       "      <td>19</td>\n",
       "      <td>2266.6</td>\n",
       "      <td>719</td>\n",
       "    </tr>\n",
       "    <tr>\n",
       "      <th>1</th>\n",
       "      <td>2019-08-01</td>\n",
       "      <td>B</td>\n",
       "      <td>17</td>\n",
       "      <td>17</td>\n",
       "      <td>967.2</td>\n",
       "      <td>713</td>\n",
       "    </tr>\n",
       "    <tr>\n",
       "      <th>2</th>\n",
       "      <td>2019-08-02</td>\n",
       "      <td>A</td>\n",
       "      <td>42</td>\n",
       "      <td>36</td>\n",
       "      <td>3734.9</td>\n",
       "      <td>1338</td>\n",
       "    </tr>\n",
       "    <tr>\n",
       "      <th>3</th>\n",
       "      <td>2019-08-02</td>\n",
       "      <td>B</td>\n",
       "      <td>40</td>\n",
       "      <td>39</td>\n",
       "      <td>3535.3</td>\n",
       "      <td>1294</td>\n",
       "    </tr>\n",
       "    <tr>\n",
       "      <th>4</th>\n",
       "      <td>2019-08-03</td>\n",
       "      <td>A</td>\n",
       "      <td>66</td>\n",
       "      <td>60</td>\n",
       "      <td>5550.1</td>\n",
       "      <td>1845</td>\n",
       "    </tr>\n",
       "  </tbody>\n",
       "</table>\n",
       "</div>"
      ],
      "text/plain": [
       "        date group  transaction_id  visitor_id  revenue  visits\n",
       "0 2019-08-01     A              23          19   2266.6     719\n",
       "1 2019-08-01     B              17          17    967.2     713\n",
       "2 2019-08-02     A              42          36   3734.9    1338\n",
       "3 2019-08-02     B              40          39   3535.3    1294\n",
       "4 2019-08-03     A              66          60   5550.1    1845"
      ]
     },
     "execution_count": 41,
     "metadata": {},
     "output_type": "execute_result"
    }
   ],
   "source": [
    "# Merging the two tables into one and giving its columns descriptive names\n",
    "# Define the variable 'cumulativeData' \n",
    "# by joining ordersAggregated and visitorsAggregated by the columns 'date' and 'group' with the merge() method.\n",
    "\n",
    "cumulativeData = ordersAggregated.merge(visitsAggregated, left_on=['date', 'group'], right_on=['date', 'group'])\n",
    "cumulativeData.head()"
   ]
  },
  {
   "cell_type": "code",
   "execution_count": 42,
   "metadata": {
    "scrolled": true
   },
   "outputs": [
    {
     "data": {
      "text/html": [
       "<div>\n",
       "<style scoped>\n",
       "    .dataframe tbody tr th:only-of-type {\n",
       "        vertical-align: middle;\n",
       "    }\n",
       "\n",
       "    .dataframe tbody tr th {\n",
       "        vertical-align: top;\n",
       "    }\n",
       "\n",
       "    .dataframe thead th {\n",
       "        text-align: right;\n",
       "    }\n",
       "</style>\n",
       "<table border=\"1\" class=\"dataframe\">\n",
       "  <thead>\n",
       "    <tr style=\"text-align: right;\">\n",
       "      <th></th>\n",
       "      <th>date</th>\n",
       "      <th>group</th>\n",
       "      <th>orders</th>\n",
       "      <th>buyers</th>\n",
       "      <th>revenue</th>\n",
       "      <th>visitors</th>\n",
       "    </tr>\n",
       "  </thead>\n",
       "  <tbody>\n",
       "    <tr>\n",
       "      <th>0</th>\n",
       "      <td>2019-08-01</td>\n",
       "      <td>A</td>\n",
       "      <td>23</td>\n",
       "      <td>19</td>\n",
       "      <td>2266.6</td>\n",
       "      <td>719</td>\n",
       "    </tr>\n",
       "    <tr>\n",
       "      <th>1</th>\n",
       "      <td>2019-08-01</td>\n",
       "      <td>B</td>\n",
       "      <td>17</td>\n",
       "      <td>17</td>\n",
       "      <td>967.2</td>\n",
       "      <td>713</td>\n",
       "    </tr>\n",
       "    <tr>\n",
       "      <th>2</th>\n",
       "      <td>2019-08-02</td>\n",
       "      <td>A</td>\n",
       "      <td>42</td>\n",
       "      <td>36</td>\n",
       "      <td>3734.9</td>\n",
       "      <td>1338</td>\n",
       "    </tr>\n",
       "    <tr>\n",
       "      <th>3</th>\n",
       "      <td>2019-08-02</td>\n",
       "      <td>B</td>\n",
       "      <td>40</td>\n",
       "      <td>39</td>\n",
       "      <td>3535.3</td>\n",
       "      <td>1294</td>\n",
       "    </tr>\n",
       "    <tr>\n",
       "      <th>4</th>\n",
       "      <td>2019-08-03</td>\n",
       "      <td>A</td>\n",
       "      <td>66</td>\n",
       "      <td>60</td>\n",
       "      <td>5550.1</td>\n",
       "      <td>1845</td>\n",
       "    </tr>\n",
       "  </tbody>\n",
       "</table>\n",
       "</div>"
      ],
      "text/plain": [
       "        date group  orders  buyers  revenue  visitors\n",
       "0 2019-08-01     A      23      19   2266.6       719\n",
       "1 2019-08-01     B      17      17    967.2       713\n",
       "2 2019-08-02     A      42      36   3734.9      1338\n",
       "3 2019-08-02     B      40      39   3535.3      1294\n",
       "4 2019-08-03     A      66      60   5550.1      1845"
      ]
     },
     "metadata": {},
     "output_type": "display_data"
    }
   ],
   "source": [
    "# Giving its columns descriptive names\n",
    "cumulativeData.columns =['date', 'group', 'orders', 'buyers', 'revenue', 'visitors']\n",
    "display(cumulativeData.head(5))\n"
   ]
  },
  {
   "cell_type": "code",
   "execution_count": 43,
   "metadata": {},
   "outputs": [
    {
     "data": {
      "text/html": [
       "<div>\n",
       "<style scoped>\n",
       "    .dataframe tbody tr th:only-of-type {\n",
       "        vertical-align: middle;\n",
       "    }\n",
       "\n",
       "    .dataframe tbody tr th {\n",
       "        vertical-align: top;\n",
       "    }\n",
       "\n",
       "    .dataframe thead th {\n",
       "        text-align: right;\n",
       "    }\n",
       "</style>\n",
       "<table border=\"1\" class=\"dataframe\">\n",
       "  <thead>\n",
       "    <tr style=\"text-align: right;\">\n",
       "      <th></th>\n",
       "      <th>date</th>\n",
       "      <th>revenue</th>\n",
       "      <th>orders</th>\n",
       "    </tr>\n",
       "  </thead>\n",
       "  <tbody>\n",
       "    <tr>\n",
       "      <th>0</th>\n",
       "      <td>2019-08-01</td>\n",
       "      <td>2266.6</td>\n",
       "      <td>23</td>\n",
       "    </tr>\n",
       "    <tr>\n",
       "      <th>2</th>\n",
       "      <td>2019-08-02</td>\n",
       "      <td>3734.9</td>\n",
       "      <td>42</td>\n",
       "    </tr>\n",
       "    <tr>\n",
       "      <th>4</th>\n",
       "      <td>2019-08-03</td>\n",
       "      <td>5550.1</td>\n",
       "      <td>66</td>\n",
       "    </tr>\n",
       "    <tr>\n",
       "      <th>6</th>\n",
       "      <td>2019-08-04</td>\n",
       "      <td>6225.6</td>\n",
       "      <td>77</td>\n",
       "    </tr>\n",
       "    <tr>\n",
       "      <th>8</th>\n",
       "      <td>2019-08-05</td>\n",
       "      <td>7623.6</td>\n",
       "      <td>99</td>\n",
       "    </tr>\n",
       "  </tbody>\n",
       "</table>\n",
       "</div>"
      ],
      "text/plain": [
       "        date  revenue  orders\n",
       "0 2019-08-01   2266.6      23\n",
       "2 2019-08-02   3734.9      42\n",
       "4 2019-08-03   5550.1      66\n",
       "6 2019-08-04   6225.6      77\n",
       "8 2019-08-05   7623.6      99"
      ]
     },
     "execution_count": 43,
     "metadata": {},
     "output_type": "execute_result"
    }
   ],
   "source": [
    "# DataFrame with cumulative orders and cumulative revenue by day, group A\n",
    "# Declare the variables 'cumulativeRevenueA' and 'cumulativeRevenueB',where you'll store the data on dates, revenue, and number of orders for groups A and B\n",
    "\n",
    "\n",
    "cumulativeRevenueA = cumulativeData[cumulativeData['group']=='A'][['date','revenue', 'orders']]\n",
    "cumulativeRevenueA.head()"
   ]
  },
  {
   "cell_type": "code",
   "execution_count": 44,
   "metadata": {},
   "outputs": [
    {
     "data": {
      "text/html": [
       "<div>\n",
       "<style scoped>\n",
       "    .dataframe tbody tr th:only-of-type {\n",
       "        vertical-align: middle;\n",
       "    }\n",
       "\n",
       "    .dataframe tbody tr th {\n",
       "        vertical-align: top;\n",
       "    }\n",
       "\n",
       "    .dataframe thead th {\n",
       "        text-align: right;\n",
       "    }\n",
       "</style>\n",
       "<table border=\"1\" class=\"dataframe\">\n",
       "  <thead>\n",
       "    <tr style=\"text-align: right;\">\n",
       "      <th></th>\n",
       "      <th>date</th>\n",
       "      <th>revenue</th>\n",
       "      <th>orders</th>\n",
       "    </tr>\n",
       "  </thead>\n",
       "  <tbody>\n",
       "    <tr>\n",
       "      <th>1</th>\n",
       "      <td>2019-08-01</td>\n",
       "      <td>967.2</td>\n",
       "      <td>17</td>\n",
       "    </tr>\n",
       "    <tr>\n",
       "      <th>3</th>\n",
       "      <td>2019-08-02</td>\n",
       "      <td>3535.3</td>\n",
       "      <td>40</td>\n",
       "    </tr>\n",
       "    <tr>\n",
       "      <th>5</th>\n",
       "      <td>2019-08-03</td>\n",
       "      <td>4606.9</td>\n",
       "      <td>54</td>\n",
       "    </tr>\n",
       "    <tr>\n",
       "      <th>7</th>\n",
       "      <td>2019-08-04</td>\n",
       "      <td>6138.5</td>\n",
       "      <td>68</td>\n",
       "    </tr>\n",
       "    <tr>\n",
       "      <th>9</th>\n",
       "      <td>2019-08-05</td>\n",
       "      <td>7587.8</td>\n",
       "      <td>89</td>\n",
       "    </tr>\n",
       "  </tbody>\n",
       "</table>\n",
       "</div>"
      ],
      "text/plain": [
       "        date  revenue  orders\n",
       "1 2019-08-01    967.2      17\n",
       "3 2019-08-02   3535.3      40\n",
       "5 2019-08-03   4606.9      54\n",
       "7 2019-08-04   6138.5      68\n",
       "9 2019-08-05   7587.8      89"
      ]
     },
     "execution_count": 44,
     "metadata": {},
     "output_type": "execute_result"
    }
   ],
   "source": [
    "#DataFrame with cumulative orders and cumulative revenue by day, group B\n",
    "\n",
    "cumulativeRevenueB = cumulativeData[cumulativeData['group']=='B'][['date','revenue', 'orders']]\n",
    "cumulativeRevenueB.head()"
   ]
  },
  {
   "cell_type": "code",
   "execution_count": 45,
   "metadata": {},
   "outputs": [
    {
     "data": {
      "image/png": "[encoded data removed]",
      "text/plain": [
       "<Figure size 1080x432 with 1 Axes>"
      ]
     },
     "metadata": {
      "needs_background": "light"
     },
     "output_type": "display_data"
    }
   ],
   "source": [
    "#Plot graphs of daily cumulative revenue for each group.\n",
    "plt.rcParams[\"figure.figsize\"] = (15,6)\n",
    "\n",
    "# Plotting the group A revenue graph \n",
    "plt.plot(cumulativeRevenueA['date'], cumulativeRevenueA['revenue'], label='A')\n",
    "\n",
    "# Plotting the group B revenue graph \n",
    "plt.plot(cumulativeRevenueB['date'], cumulativeRevenueB['revenue'], label='B')\n",
    "plt.title('Cumulative Revenue by group A and group B')\n",
    "plt.legend() \n",
    "plt.show()\n"
   ]
  },
  {
   "cell_type": "markdown",
   "metadata": {},
   "source": [
    "- Revenue is rising steadily troughout the whole test. That's a good sign.\n",
    "-However, we can see Spikes in revenue at certain points. This may imply either a surge in the number of orders or the presence of very expensive orders in the sample."
   ]
  },
  {
   "cell_type": "markdown",
   "metadata": {},
   "source": [
    "### Graph cumulative average order size by group. Make conclusions and conjectures."
   ]
  },
  {
   "cell_type": "markdown",
   "metadata": {},
   "source": [
    "To find cumulative avarage order size We'll divide cumulative revenue by the cumulative number of orders"
   ]
  },
  {
   "cell_type": "code",
   "execution_count": 46,
   "metadata": {},
   "outputs": [
    {
     "data": {
      "image/png": "[encoded data removed]",
      "text/plain": [
       "<Figure size 1080x432 with 1 Axes>"
      ]
     },
     "metadata": {
      "needs_background": "light"
     },
     "output_type": "display_data"
    }
   ],
   "source": [
    "#Let's plot average purchase size by group. We'll divide cumulative revenue by the cumulative number of orders\n",
    "\n",
    "plt.plot(cumulativeRevenueA['date'], cumulativeRevenueA['revenue']/cumulativeRevenueA['orders'], label='A')\n",
    "plt.plot(cumulativeRevenueB['date'], cumulativeRevenueB['revenue']/cumulativeRevenueB['orders'], label='B')\n",
    "plt.legend() \n",
    "plt.title('Cumulative Average Order Size by group A and B')\n",
    "plt.show()"
   ]
  },
  {
   "cell_type": "markdown",
   "metadata": {},
   "source": [
    "- The cumulative avarage purchase size metrics of the group B(orange line) are a bit  higher than those of the group A(blue line)\n",
    "- The surge in group B may have been due to the presence of large, expensive orders. We need more data on this group to find the true average purchase size and establish its level."
   ]
  },
  {
   "cell_type": "markdown",
   "metadata": {},
   "source": [
    "###  Graph the relative difference in cumulative average order size for group B compared with group A. Make conclusions and conjectures.\n",
    "Before to plot relative difference graphs we calculate each of points as follows: group B cumulative metric / group A cumulative metric - 1."
   ]
  },
  {
   "cell_type": "code",
   "execution_count": 47,
   "metadata": {},
   "outputs": [
    {
     "data": {
      "text/html": [
       "<div>\n",
       "<style scoped>\n",
       "    .dataframe tbody tr th:only-of-type {\n",
       "        vertical-align: middle;\n",
       "    }\n",
       "\n",
       "    .dataframe tbody tr th {\n",
       "        vertical-align: top;\n",
       "    }\n",
       "\n",
       "    .dataframe thead th {\n",
       "        text-align: right;\n",
       "    }\n",
       "</style>\n",
       "<table border=\"1\" class=\"dataframe\">\n",
       "  <thead>\n",
       "    <tr style=\"text-align: right;\">\n",
       "      <th></th>\n",
       "      <th>date</th>\n",
       "      <th>revenueA</th>\n",
       "      <th>ordersA</th>\n",
       "      <th>revenueB</th>\n",
       "      <th>ordersB</th>\n",
       "    </tr>\n",
       "  </thead>\n",
       "  <tbody>\n",
       "    <tr>\n",
       "      <th>0</th>\n",
       "      <td>2019-08-01</td>\n",
       "      <td>2266.6</td>\n",
       "      <td>23</td>\n",
       "      <td>967.2</td>\n",
       "      <td>17</td>\n",
       "    </tr>\n",
       "    <tr>\n",
       "      <th>1</th>\n",
       "      <td>2019-08-02</td>\n",
       "      <td>3734.9</td>\n",
       "      <td>42</td>\n",
       "      <td>3535.3</td>\n",
       "      <td>40</td>\n",
       "    </tr>\n",
       "    <tr>\n",
       "      <th>2</th>\n",
       "      <td>2019-08-03</td>\n",
       "      <td>5550.1</td>\n",
       "      <td>66</td>\n",
       "      <td>4606.9</td>\n",
       "      <td>54</td>\n",
       "    </tr>\n",
       "    <tr>\n",
       "      <th>3</th>\n",
       "      <td>2019-08-04</td>\n",
       "      <td>6225.6</td>\n",
       "      <td>77</td>\n",
       "      <td>6138.5</td>\n",
       "      <td>68</td>\n",
       "    </tr>\n",
       "    <tr>\n",
       "      <th>4</th>\n",
       "      <td>2019-08-05</td>\n",
       "      <td>7623.6</td>\n",
       "      <td>99</td>\n",
       "      <td>7587.8</td>\n",
       "      <td>89</td>\n",
       "    </tr>\n",
       "  </tbody>\n",
       "</table>\n",
       "</div>"
      ],
      "text/plain": [
       "        date  revenueA  ordersA  revenueB  ordersB\n",
       "0 2019-08-01    2266.6       23     967.2       17\n",
       "1 2019-08-02    3734.9       42    3535.3       40\n",
       "2 2019-08-03    5550.1       66    4606.9       54\n",
       "3 2019-08-04    6225.6       77    6138.5       68\n",
       "4 2019-08-05    7623.6       99    7587.8       89"
      ]
     },
     "execution_count": 47,
     "metadata": {},
     "output_type": "execute_result"
    }
   ],
   "source": [
    "# Gathering the data into one DataFrame\n",
    "mergedCumulativeRevenue = cumulativeRevenueA.merge(cumulativeRevenueB, left_on='date', right_on='date', how='left', suffixes=['A', 'B'])\n",
    "mergedCumulativeRevenue.head()\n"
   ]
  },
  {
   "cell_type": "code",
   "execution_count": 48,
   "metadata": {},
   "outputs": [
    {
     "data": {
      "image/png": "[encoded data removed]",
      "text/plain": [
       "<Figure size 1080x432 with 1 Axes>"
      ]
     },
     "metadata": {
      "needs_background": "light"
     },
     "output_type": "display_data"
    }
   ],
   "source": [
    "# Plotting relative difference graph for the average purchase sizes\n",
    "plt.plot(mergedCumulativeRevenue['date'], (mergedCumulativeRevenue['revenueB']/mergedCumulativeRevenue['ordersB'])/(mergedCumulativeRevenue['revenueA']/mergedCumulativeRevenue['ordersA'])-1)\n",
    "\n",
    "# Adding the X axis\n",
    "plt.axhline(y=0, color='black', linestyle='--')\n",
    "plt.title(' Relative difference in cumulative average order size for group B compared with group A.')\n",
    "plt.show()\n"
   ]
  },
  {
   "cell_type": "markdown",
   "metadata": {},
   "source": [
    "- As we see several surges between July 5 and 9, and second surge in July 17 and going up"
   ]
  },
  {
   "cell_type": "markdown",
   "metadata": {},
   "source": [
    "### Calculate each group's conversion rate as the ratio of orders to the number of visits for each day.\n",
    "Before plotting we going to calculate each group's conversion rate as the ratio of orders to the number of visits for each day"
   ]
  },
  {
   "cell_type": "code",
   "execution_count": 49,
   "metadata": {
    "scrolled": true
   },
   "outputs": [
    {
     "data": {
      "text/html": [
       "<div>\n",
       "<style scoped>\n",
       "    .dataframe tbody tr th:only-of-type {\n",
       "        vertical-align: middle;\n",
       "    }\n",
       "\n",
       "    .dataframe tbody tr th {\n",
       "        vertical-align: top;\n",
       "    }\n",
       "\n",
       "    .dataframe thead th {\n",
       "        text-align: right;\n",
       "    }\n",
       "</style>\n",
       "<table border=\"1\" class=\"dataframe\">\n",
       "  <thead>\n",
       "    <tr style=\"text-align: right;\">\n",
       "      <th></th>\n",
       "      <th>date</th>\n",
       "      <th>group</th>\n",
       "      <th>orders</th>\n",
       "      <th>buyers</th>\n",
       "      <th>revenue</th>\n",
       "      <th>visitors</th>\n",
       "      <th>conversion</th>\n",
       "    </tr>\n",
       "  </thead>\n",
       "  <tbody>\n",
       "    <tr>\n",
       "      <th>0</th>\n",
       "      <td>2019-08-01</td>\n",
       "      <td>A</td>\n",
       "      <td>23</td>\n",
       "      <td>19</td>\n",
       "      <td>2266.6</td>\n",
       "      <td>719</td>\n",
       "      <td>0.031989</td>\n",
       "    </tr>\n",
       "    <tr>\n",
       "      <th>1</th>\n",
       "      <td>2019-08-01</td>\n",
       "      <td>B</td>\n",
       "      <td>17</td>\n",
       "      <td>17</td>\n",
       "      <td>967.2</td>\n",
       "      <td>713</td>\n",
       "      <td>0.023843</td>\n",
       "    </tr>\n",
       "    <tr>\n",
       "      <th>2</th>\n",
       "      <td>2019-08-02</td>\n",
       "      <td>A</td>\n",
       "      <td>42</td>\n",
       "      <td>36</td>\n",
       "      <td>3734.9</td>\n",
       "      <td>1338</td>\n",
       "      <td>0.031390</td>\n",
       "    </tr>\n",
       "    <tr>\n",
       "      <th>3</th>\n",
       "      <td>2019-08-02</td>\n",
       "      <td>B</td>\n",
       "      <td>40</td>\n",
       "      <td>39</td>\n",
       "      <td>3535.3</td>\n",
       "      <td>1294</td>\n",
       "      <td>0.030912</td>\n",
       "    </tr>\n",
       "    <tr>\n",
       "      <th>4</th>\n",
       "      <td>2019-08-03</td>\n",
       "      <td>A</td>\n",
       "      <td>66</td>\n",
       "      <td>60</td>\n",
       "      <td>5550.1</td>\n",
       "      <td>1845</td>\n",
       "      <td>0.035772</td>\n",
       "    </tr>\n",
       "  </tbody>\n",
       "</table>\n",
       "</div>"
      ],
      "text/plain": [
       "        date group  orders  buyers  revenue  visitors  conversion\n",
       "0 2019-08-01     A      23      19   2266.6       719    0.031989\n",
       "1 2019-08-01     B      17      17    967.2       713    0.023843\n",
       "2 2019-08-02     A      42      36   3734.9      1338    0.031390\n",
       "3 2019-08-02     B      40      39   3535.3      1294    0.030912\n",
       "4 2019-08-03     A      66      60   5550.1      1845    0.035772"
      ]
     },
     "execution_count": 49,
     "metadata": {},
     "output_type": "execute_result"
    }
   ],
   "source": [
    "# Culcilating conversion \n",
    "cumulativeData['conversion'] = ( cumulativeData['orders'] / cumulativeData['visitors'])\n",
    "cumulativeData.head()"
   ]
  },
  {
   "cell_type": "code",
   "execution_count": 50,
   "metadata": {
    "scrolled": false
   },
   "outputs": [
    {
     "data": {
      "text/html": [
       "<div>\n",
       "<style scoped>\n",
       "    .dataframe tbody tr th:only-of-type {\n",
       "        vertical-align: middle;\n",
       "    }\n",
       "\n",
       "    .dataframe tbody tr th {\n",
       "        vertical-align: top;\n",
       "    }\n",
       "\n",
       "    .dataframe thead th {\n",
       "        text-align: right;\n",
       "    }\n",
       "</style>\n",
       "<table border=\"1\" class=\"dataframe\">\n",
       "  <thead>\n",
       "    <tr style=\"text-align: right;\">\n",
       "      <th></th>\n",
       "      <th>date</th>\n",
       "      <th>group</th>\n",
       "      <th>orders</th>\n",
       "      <th>buyers</th>\n",
       "      <th>revenue</th>\n",
       "      <th>visitors</th>\n",
       "      <th>conversion</th>\n",
       "    </tr>\n",
       "  </thead>\n",
       "  <tbody>\n",
       "    <tr>\n",
       "      <th>0</th>\n",
       "      <td>2019-08-01</td>\n",
       "      <td>A</td>\n",
       "      <td>23</td>\n",
       "      <td>19</td>\n",
       "      <td>2266.6</td>\n",
       "      <td>719</td>\n",
       "      <td>0.031989</td>\n",
       "    </tr>\n",
       "    <tr>\n",
       "      <th>2</th>\n",
       "      <td>2019-08-02</td>\n",
       "      <td>A</td>\n",
       "      <td>42</td>\n",
       "      <td>36</td>\n",
       "      <td>3734.9</td>\n",
       "      <td>1338</td>\n",
       "      <td>0.031390</td>\n",
       "    </tr>\n",
       "    <tr>\n",
       "      <th>4</th>\n",
       "      <td>2019-08-03</td>\n",
       "      <td>A</td>\n",
       "      <td>66</td>\n",
       "      <td>60</td>\n",
       "      <td>5550.1</td>\n",
       "      <td>1845</td>\n",
       "      <td>0.035772</td>\n",
       "    </tr>\n",
       "    <tr>\n",
       "      <th>6</th>\n",
       "      <td>2019-08-04</td>\n",
       "      <td>A</td>\n",
       "      <td>77</td>\n",
       "      <td>71</td>\n",
       "      <td>6225.6</td>\n",
       "      <td>2562</td>\n",
       "      <td>0.030055</td>\n",
       "    </tr>\n",
       "    <tr>\n",
       "      <th>8</th>\n",
       "      <td>2019-08-05</td>\n",
       "      <td>A</td>\n",
       "      <td>99</td>\n",
       "      <td>92</td>\n",
       "      <td>7623.6</td>\n",
       "      <td>3318</td>\n",
       "      <td>0.029837</td>\n",
       "    </tr>\n",
       "  </tbody>\n",
       "</table>\n",
       "</div>"
      ],
      "text/plain": [
       "        date group  orders  buyers  revenue  visitors  conversion\n",
       "0 2019-08-01     A      23      19   2266.6       719    0.031989\n",
       "2 2019-08-02     A      42      36   3734.9      1338    0.031390\n",
       "4 2019-08-03     A      66      60   5550.1      1845    0.035772\n",
       "6 2019-08-04     A      77      71   6225.6      2562    0.030055\n",
       "8 2019-08-05     A      99      92   7623.6      3318    0.029837"
      ]
     },
     "metadata": {},
     "output_type": "display_data"
    },
    {
     "data": {
      "text/html": [
       "<div>\n",
       "<style scoped>\n",
       "    .dataframe tbody tr th:only-of-type {\n",
       "        vertical-align: middle;\n",
       "    }\n",
       "\n",
       "    .dataframe tbody tr th {\n",
       "        vertical-align: top;\n",
       "    }\n",
       "\n",
       "    .dataframe thead th {\n",
       "        text-align: right;\n",
       "    }\n",
       "</style>\n",
       "<table border=\"1\" class=\"dataframe\">\n",
       "  <thead>\n",
       "    <tr style=\"text-align: right;\">\n",
       "      <th></th>\n",
       "      <th>date</th>\n",
       "      <th>group</th>\n",
       "      <th>orders</th>\n",
       "      <th>buyers</th>\n",
       "      <th>revenue</th>\n",
       "      <th>visitors</th>\n",
       "      <th>conversion</th>\n",
       "    </tr>\n",
       "  </thead>\n",
       "  <tbody>\n",
       "    <tr>\n",
       "      <th>1</th>\n",
       "      <td>2019-08-01</td>\n",
       "      <td>B</td>\n",
       "      <td>17</td>\n",
       "      <td>17</td>\n",
       "      <td>967.2</td>\n",
       "      <td>713</td>\n",
       "      <td>0.023843</td>\n",
       "    </tr>\n",
       "    <tr>\n",
       "      <th>3</th>\n",
       "      <td>2019-08-02</td>\n",
       "      <td>B</td>\n",
       "      <td>40</td>\n",
       "      <td>39</td>\n",
       "      <td>3535.3</td>\n",
       "      <td>1294</td>\n",
       "      <td>0.030912</td>\n",
       "    </tr>\n",
       "    <tr>\n",
       "      <th>5</th>\n",
       "      <td>2019-08-03</td>\n",
       "      <td>B</td>\n",
       "      <td>54</td>\n",
       "      <td>53</td>\n",
       "      <td>4606.9</td>\n",
       "      <td>1803</td>\n",
       "      <td>0.029950</td>\n",
       "    </tr>\n",
       "    <tr>\n",
       "      <th>7</th>\n",
       "      <td>2019-08-04</td>\n",
       "      <td>B</td>\n",
       "      <td>68</td>\n",
       "      <td>66</td>\n",
       "      <td>6138.5</td>\n",
       "      <td>2573</td>\n",
       "      <td>0.026428</td>\n",
       "    </tr>\n",
       "    <tr>\n",
       "      <th>9</th>\n",
       "      <td>2019-08-05</td>\n",
       "      <td>B</td>\n",
       "      <td>89</td>\n",
       "      <td>87</td>\n",
       "      <td>7587.8</td>\n",
       "      <td>3280</td>\n",
       "      <td>0.027134</td>\n",
       "    </tr>\n",
       "  </tbody>\n",
       "</table>\n",
       "</div>"
      ],
      "text/plain": [
       "        date group  orders  buyers  revenue  visitors  conversion\n",
       "1 2019-08-01     B      17      17    967.2       713    0.023843\n",
       "3 2019-08-02     B      40      39   3535.3      1294    0.030912\n",
       "5 2019-08-03     B      54      53   4606.9      1803    0.029950\n",
       "7 2019-08-04     B      68      66   6138.5      2573    0.026428\n",
       "9 2019-08-05     B      89      87   7587.8      3280    0.027134"
      ]
     },
     "metadata": {},
     "output_type": "display_data"
    }
   ],
   "source": [
    "# Selecting data on group A and B\n",
    "cumulativeDataA = cumulativeData[cumulativeData['group'] == 'A']\n",
    "cumulativeDataB= cumulativeData[cumulativeData['group'] == 'B']\n",
    "display(cumulativeDataA.head())\n",
    "display(cumulativeDataB.head())"
   ]
  },
  {
   "cell_type": "code",
   "execution_count": 51,
   "metadata": {},
   "outputs": [
    {
     "data": {
      "image/png": "[encoded data removed]",
      "text/plain": [
       "<Figure size 1080x432 with 1 Axes>"
      ]
     },
     "metadata": {
      "needs_background": "light"
     },
     "output_type": "display_data"
    }
   ],
   "source": [
    "# plotting the graphs\n",
    "plt.plot(cumulativeDataA['date'], cumulativeDataA['conversion'], label='A')\n",
    "plt.plot(cumulativeDataB['date'], cumulativeDataB['conversion'], label='B')\n",
    "plt.legend()\n",
    "plt.title(' Cumulative Conversion Rates by group A and B ')\n",
    "plt.show()\n",
    "\n"
   ]
  },
  {
   "cell_type": "markdown",
   "metadata": {},
   "source": [
    "- As we see at the beginning of the test we observed sharp surge in favor of group A (blue line) than  the results changed to stabilizing line \n",
    "- and  group B(orange line) is leading \n",
    "- However we stil see some fluctuations during the test "
   ]
  },
  {
   "cell_type": "code",
   "execution_count": 52,
   "metadata": {},
   "outputs": [
    {
     "data": {
      "text/plain": [
       "0.02585769760495693"
      ]
     },
     "execution_count": 52,
     "metadata": {},
     "output_type": "execute_result"
    }
   ],
   "source": [
    "#overall conversion rate for group A :\n",
    "cumulativeDataA['orders'].sum()/cumulativeDataA['visitors'].sum()"
   ]
  },
  {
   "cell_type": "code",
   "execution_count": 53,
   "metadata": {},
   "outputs": [
    {
     "data": {
      "text/plain": [
       "0.02943091972438227"
      ]
     },
     "execution_count": 53,
     "metadata": {},
     "output_type": "execute_result"
    }
   ],
   "source": [
    "#overall conversion rate  for  group B :\n",
    "cumulativeDataB['orders'].sum()/cumulativeDataB['visitors'].sum()"
   ]
  },
  {
   "cell_type": "markdown",
   "metadata": {},
   "source": [
    "### Relative difference graph for the cumulative conversion rates of group B compared with that of group A. "
   ]
  },
  {
   "cell_type": "code",
   "execution_count": 54,
   "metadata": {
    "scrolled": true
   },
   "outputs": [
    {
     "data": {
      "text/html": [
       "<div>\n",
       "<style scoped>\n",
       "    .dataframe tbody tr th:only-of-type {\n",
       "        vertical-align: middle;\n",
       "    }\n",
       "\n",
       "    .dataframe tbody tr th {\n",
       "        vertical-align: top;\n",
       "    }\n",
       "\n",
       "    .dataframe thead th {\n",
       "        text-align: right;\n",
       "    }\n",
       "</style>\n",
       "<table border=\"1\" class=\"dataframe\">\n",
       "  <thead>\n",
       "    <tr style=\"text-align: right;\">\n",
       "      <th></th>\n",
       "      <th>date</th>\n",
       "      <th>conversionA</th>\n",
       "      <th>conversionB</th>\n",
       "    </tr>\n",
       "  </thead>\n",
       "  <tbody>\n",
       "    <tr>\n",
       "      <th>0</th>\n",
       "      <td>2019-08-01</td>\n",
       "      <td>0.031989</td>\n",
       "      <td>0.023843</td>\n",
       "    </tr>\n",
       "    <tr>\n",
       "      <th>1</th>\n",
       "      <td>2019-08-02</td>\n",
       "      <td>0.031390</td>\n",
       "      <td>0.030912</td>\n",
       "    </tr>\n",
       "    <tr>\n",
       "      <th>2</th>\n",
       "      <td>2019-08-03</td>\n",
       "      <td>0.035772</td>\n",
       "      <td>0.029950</td>\n",
       "    </tr>\n",
       "    <tr>\n",
       "      <th>3</th>\n",
       "      <td>2019-08-04</td>\n",
       "      <td>0.030055</td>\n",
       "      <td>0.026428</td>\n",
       "    </tr>\n",
       "    <tr>\n",
       "      <th>4</th>\n",
       "      <td>2019-08-05</td>\n",
       "      <td>0.029837</td>\n",
       "      <td>0.027134</td>\n",
       "    </tr>\n",
       "  </tbody>\n",
       "</table>\n",
       "</div>"
      ],
      "text/plain": [
       "        date  conversionA  conversionB\n",
       "0 2019-08-01     0.031989     0.023843\n",
       "1 2019-08-02     0.031390     0.030912\n",
       "2 2019-08-03     0.035772     0.029950\n",
       "3 2019-08-04     0.030055     0.026428\n",
       "4 2019-08-05     0.029837     0.027134"
      ]
     },
     "execution_count": 54,
     "metadata": {},
     "output_type": "execute_result"
    }
   ],
   "source": [
    "#Join the tables cumulativeDataA and cumulativeDataB using the merge() method,\n",
    "#so that the resulting table contains the columns ['date', 'conversionA', 'conversionB']\n",
    "\n",
    "mergedCumulativeConversions = cumulativeDataA[['date','conversion']].merge(cumulativeDataB[['date','conversion']],\n",
    "                                 left_on='date', right_on='date', how='left', suffixes=['A', 'B'])\n",
    "mergedCumulativeConversions.head()"
   ]
  },
  {
   "cell_type": "code",
   "execution_count": 55,
   "metadata": {
    "scrolled": false
   },
   "outputs": [
    {
     "data": {
      "text/plain": [
       "(18109.0, 18139.0, -0.5, 0.5)"
      ]
     },
     "execution_count": 55,
     "metadata": {},
     "output_type": "execute_result"
    },
    {
     "data": {
      "image/png": "[encoded data removed]",
      "text/plain": [
       "<Figure size 1080x432 with 1 Axes>"
      ]
     },
     "metadata": {
      "needs_background": "light"
     },
     "output_type": "display_data"
    }
   ],
   "source": [
    "# Plotting relative difference graph for the conversation \n",
    "\n",
    "plt.plot(mergedCumulativeConversions['date'], mergedCumulativeConversions['conversionB']/mergedCumulativeConversions['conversionA']-1)\n",
    "\n",
    "# Using the plt.axhline() method, add a dotted-line X-axis (Y = 0) and set its color as 'black'. \n",
    "# Add another 'grey' X-axis at Y = 0.2.\n",
    "plt.axhline(y=0, color='black', linestyle='--')\n",
    "plt.axhline(y=0.2, color='grey', linestyle='--')\n",
    "plt.title(' Relative difference for the cumulative conversion rates of group B compared with group A')\n",
    "\n",
    "#Set the scale of the axes as follows: plt.axis([pd.to_datetime('2019-08-01'), pd.to_datetime('2019-08-31'), -0.5, 0.5]).\n",
    "plt.axis([pd.to_datetime('2019-08-01'), pd.to_datetime('2019-08-31'), -0.5, 0.5])\n"
   ]
  },
  {
   "cell_type": "markdown",
   "metadata": {},
   "source": [
    "- The conversion rate gradually growing"
   ]
  },
  {
   "cell_type": "markdown",
   "metadata": {},
   "source": [
    "### Plot a scatter chart of the number of orders per user. Make conclusions and conjectures."
   ]
  },
  {
   "cell_type": "markdown",
   "metadata": {},
   "source": [
    " "
   ]
  },
  {
   "cell_type": "markdown",
   "metadata": {},
   "source": [
    "Before plotting we are going to culculate number of orders per users"
   ]
  },
  {
   "cell_type": "code",
   "execution_count": 56,
   "metadata": {},
   "outputs": [
    {
     "data": {
      "text/html": [
       "<div>\n",
       "<style scoped>\n",
       "    .dataframe tbody tr th:only-of-type {\n",
       "        vertical-align: middle;\n",
       "    }\n",
       "\n",
       "    .dataframe tbody tr th {\n",
       "        vertical-align: top;\n",
       "    }\n",
       "\n",
       "    .dataframe thead th {\n",
       "        text-align: right;\n",
       "    }\n",
       "</style>\n",
       "<table border=\"1\" class=\"dataframe\">\n",
       "  <thead>\n",
       "    <tr style=\"text-align: right;\">\n",
       "      <th></th>\n",
       "      <th>visitor_id</th>\n",
       "      <th>transaction_id</th>\n",
       "    </tr>\n",
       "  </thead>\n",
       "  <tbody>\n",
       "    <tr>\n",
       "      <th>0</th>\n",
       "      <td>5114589</td>\n",
       "      <td>1</td>\n",
       "    </tr>\n",
       "    <tr>\n",
       "      <th>1</th>\n",
       "      <td>6958315</td>\n",
       "      <td>1</td>\n",
       "    </tr>\n",
       "    <tr>\n",
       "      <th>2</th>\n",
       "      <td>11685486</td>\n",
       "      <td>1</td>\n",
       "    </tr>\n",
       "    <tr>\n",
       "      <th>3</th>\n",
       "      <td>39475350</td>\n",
       "      <td>1</td>\n",
       "    </tr>\n",
       "    <tr>\n",
       "      <th>4</th>\n",
       "      <td>47206413</td>\n",
       "      <td>1</td>\n",
       "    </tr>\n",
       "  </tbody>\n",
       "</table>\n",
       "</div>"
      ],
      "text/plain": [
       "   visitor_id  transaction_id\n",
       "0     5114589               1\n",
       "1     6958315               1\n",
       "2    11685486               1\n",
       "3    39475350               1\n",
       "4    47206413               1"
      ]
     },
     "execution_count": 56,
     "metadata": {},
     "output_type": "execute_result"
    }
   ],
   "source": [
    "# Define df orders_by_user and culculate number of orders\n",
    "\n",
    "orders_by_user = ( orders.drop(['group', 'revenue', 'date'], axis=1)\n",
    "    .groupby('visitor_id', as_index=False)\n",
    "    .agg({'transaction_id': pd.Series.nunique})\n",
    ")\n",
    "\n",
    "orders_by_user.head()"
   ]
  },
  {
   "cell_type": "code",
   "execution_count": 57,
   "metadata": {},
   "outputs": [
    {
     "data": {
      "text/html": [
       "<div>\n",
       "<style scoped>\n",
       "    .dataframe tbody tr th:only-of-type {\n",
       "        vertical-align: middle;\n",
       "    }\n",
       "\n",
       "    .dataframe tbody tr th {\n",
       "        vertical-align: top;\n",
       "    }\n",
       "\n",
       "    .dataframe thead th {\n",
       "        text-align: right;\n",
       "    }\n",
       "</style>\n",
       "<table border=\"1\" class=\"dataframe\">\n",
       "  <thead>\n",
       "    <tr style=\"text-align: right;\">\n",
       "      <th></th>\n",
       "      <th>buyers</th>\n",
       "      <th>n_orders</th>\n",
       "    </tr>\n",
       "  </thead>\n",
       "  <tbody>\n",
       "    <tr>\n",
       "      <th>908</th>\n",
       "      <td>3967698036</td>\n",
       "      <td>3</td>\n",
       "    </tr>\n",
       "    <tr>\n",
       "      <th>55</th>\n",
       "      <td>249864742</td>\n",
       "      <td>3</td>\n",
       "    </tr>\n",
       "    <tr>\n",
       "      <th>478</th>\n",
       "      <td>2108163459</td>\n",
       "      <td>3</td>\n",
       "    </tr>\n",
       "    <tr>\n",
       "      <th>687</th>\n",
       "      <td>2988190573</td>\n",
       "      <td>3</td>\n",
       "    </tr>\n",
       "    <tr>\n",
       "      <th>890</th>\n",
       "      <td>3908431265</td>\n",
       "      <td>3</td>\n",
       "    </tr>\n",
       "    <tr>\n",
       "      <th>138</th>\n",
       "      <td>611059232</td>\n",
       "      <td>3</td>\n",
       "    </tr>\n",
       "    <tr>\n",
       "      <th>632</th>\n",
       "      <td>2742574263</td>\n",
       "      <td>3</td>\n",
       "    </tr>\n",
       "    <tr>\n",
       "      <th>157</th>\n",
       "      <td>678354126</td>\n",
       "      <td>2</td>\n",
       "    </tr>\n",
       "    <tr>\n",
       "      <th>323</th>\n",
       "      <td>1404560065</td>\n",
       "      <td>2</td>\n",
       "    </tr>\n",
       "    <tr>\n",
       "      <th>452</th>\n",
       "      <td>1985475298</td>\n",
       "      <td>2</td>\n",
       "    </tr>\n",
       "  </tbody>\n",
       "</table>\n",
       "</div>"
      ],
      "text/plain": [
       "         buyers  n_orders\n",
       "908  3967698036         3\n",
       "55    249864742         3\n",
       "478  2108163459         3\n",
       "687  2988190573         3\n",
       "890  3908431265         3\n",
       "138   611059232         3\n",
       "632  2742574263         3\n",
       "157   678354126         2\n",
       "323  1404560065         2\n",
       "452  1985475298         2"
      ]
     },
     "execution_count": 57,
     "metadata": {},
     "output_type": "execute_result"
    }
   ],
   "source": [
    "# Rename it ccolumns\n",
    "orders_by_user.columns = ['buyers', 'n_orders']\n",
    "\n",
    "orders_by_user.sort_values(by='n_orders', ascending=False).head(10)"
   ]
  },
  {
   "cell_type": "markdown",
   "metadata": {},
   "source": [
    "- There are buyer with 3, 2 orders "
   ]
  },
  {
   "cell_type": "code",
   "execution_count": 58,
   "metadata": {},
   "outputs": [
    {
     "data": {
      "image/png": "[encoded data removed]",
      "text/plain": [
       "<Figure size 1080x432 with 1 Axes>"
      ]
     },
     "metadata": {
      "needs_background": "light"
     },
     "output_type": "display_data"
    }
   ],
   "source": [
    "import matplotlib.pyplot as plt\n",
    "\n",
    "\n",
    "# Let's plot a distribution histogram with the number of orders per user.\n",
    "plt.hist(orders_by_user['n_orders'],color=['#A0E8AF'])\n",
    "plt.title('The Number of Orders per User')\n",
    "plt.show()\n"
   ]
  },
  {
   "cell_type": "markdown",
   "metadata": {},
   "source": [
    "- As we see outliers with orders 2 and 3\n"
   ]
  },
  {
   "cell_type": "code",
   "execution_count": 59,
   "metadata": {},
   "outputs": [
    {
     "data": {
      "image/png": "[encoded data removed]",
      "text/plain": [
       "<Figure size 1080x432 with 1 Axes>"
      ]
     },
     "metadata": {
      "needs_background": "light"
     },
     "output_type": "display_data"
    }
   ],
   "source": [
    "# Let's plot a scatter chart with the number of orders per user:\n",
    "\n",
    "# We can find the values for the horizontal axis in the precode, in x_values\n",
    "x_values = pd.Series(range(0,len(orders_by_user)))\n",
    "plt.scatter(x_values, orders_by_user['n_orders'])\n",
    "plt.title('The number of Orders per User')\n",
    "plt.show()\n"
   ]
  },
  {
   "cell_type": "markdown",
   "metadata": {},
   "source": [
    "- There are outliers with orders 2 and 3 orders per user\n",
    "- Anomaly is a value that appears rarely in a statistical population but can introduce error when it does.\n"
   ]
  },
  {
   "cell_type": "markdown",
   "metadata": {},
   "source": [
    "### Calculate the 95th and 99th percentiles for the number of orders per user. Define the point at which a data point becomes an anomaly."
   ]
  },
  {
   "cell_type": "code",
   "execution_count": 60,
   "metadata": {},
   "outputs": [
    {
     "data": {
      "text/plain": [
       "array([1., 2.])"
      ]
     },
     "metadata": {},
     "output_type": "display_data"
    }
   ],
   "source": [
    "# Let's find  percentiles by  np.percentile('column', [percentile1, percentile2, percentile3]) method \n",
    "\n",
    "display(np.percentile(orders_by_user['n_orders'], [95, 99])) "
   ]
  },
  {
   "cell_type": "markdown",
   "metadata": {},
   "source": [
    "- 5% of users placed 1 order, and 1% of users made more than 2."
   ]
  },
  {
   "cell_type": "code",
   "execution_count": 61,
   "metadata": {},
   "outputs": [
    {
     "data": {
      "text/html": [
       "<div>\n",
       "<style scoped>\n",
       "    .dataframe tbody tr th:only-of-type {\n",
       "        vertical-align: middle;\n",
       "    }\n",
       "\n",
       "    .dataframe tbody tr th {\n",
       "        vertical-align: top;\n",
       "    }\n",
       "\n",
       "    .dataframe thead th {\n",
       "        text-align: right;\n",
       "    }\n",
       "</style>\n",
       "<table border=\"1\" class=\"dataframe\">\n",
       "  <thead>\n",
       "    <tr style=\"text-align: right;\">\n",
       "      <th></th>\n",
       "      <th>transaction_id</th>\n",
       "      <th>visitor_id</th>\n",
       "      <th>date</th>\n",
       "      <th>revenue</th>\n",
       "      <th>group</th>\n",
       "    </tr>\n",
       "  </thead>\n",
       "  <tbody>\n",
       "    <tr>\n",
       "      <th>0</th>\n",
       "      <td>3667963787</td>\n",
       "      <td>3312258926</td>\n",
       "      <td>2019-08-15</td>\n",
       "      <td>30.4</td>\n",
       "      <td>B</td>\n",
       "    </tr>\n",
       "    <tr>\n",
       "      <th>1</th>\n",
       "      <td>2804400009</td>\n",
       "      <td>3642806036</td>\n",
       "      <td>2019-08-15</td>\n",
       "      <td>15.2</td>\n",
       "      <td>B</td>\n",
       "    </tr>\n",
       "    <tr>\n",
       "      <th>3</th>\n",
       "      <td>3797467345</td>\n",
       "      <td>1196621759</td>\n",
       "      <td>2019-08-15</td>\n",
       "      <td>155.1</td>\n",
       "      <td>B</td>\n",
       "    </tr>\n",
       "    <tr>\n",
       "      <th>4</th>\n",
       "      <td>2282983706</td>\n",
       "      <td>2322279887</td>\n",
       "      <td>2019-08-15</td>\n",
       "      <td>40.5</td>\n",
       "      <td>B</td>\n",
       "    </tr>\n",
       "    <tr>\n",
       "      <th>5</th>\n",
       "      <td>182168103</td>\n",
       "      <td>935554773</td>\n",
       "      <td>2019-08-15</td>\n",
       "      <td>35.0</td>\n",
       "      <td>B</td>\n",
       "    </tr>\n",
       "  </tbody>\n",
       "</table>\n",
       "</div>"
      ],
      "text/plain": [
       "   transaction_id  visitor_id       date  revenue group\n",
       "0      3667963787  3312258926 2019-08-15     30.4     B\n",
       "1      2804400009  3642806036 2019-08-15     15.2     B\n",
       "3      3797467345  1196621759 2019-08-15    155.1     B\n",
       "4      2282983706  2322279887 2019-08-15     40.5     B\n",
       "5       182168103   935554773 2019-08-15     35.0     B"
      ]
     },
     "execution_count": 61,
     "metadata": {},
     "output_type": "execute_result"
    }
   ],
   "source": [
    "df_orders.head()"
   ]
  },
  {
   "cell_type": "markdown",
   "metadata": {},
   "source": [
    "### Plot a scatter chart of order prices. Make conclusions and conjectures.\n",
    "Before plotting we are going to culculate orders prices(revenue) per users"
   ]
  },
  {
   "cell_type": "code",
   "execution_count": 62,
   "metadata": {},
   "outputs": [
    {
     "data": {
      "text/html": [
       "<div>\n",
       "<style scoped>\n",
       "    .dataframe tbody tr th:only-of-type {\n",
       "        vertical-align: middle;\n",
       "    }\n",
       "\n",
       "    .dataframe tbody tr th {\n",
       "        vertical-align: top;\n",
       "    }\n",
       "\n",
       "    .dataframe thead th {\n",
       "        text-align: right;\n",
       "    }\n",
       "</style>\n",
       "<table border=\"1\" class=\"dataframe\">\n",
       "  <thead>\n",
       "    <tr style=\"text-align: right;\">\n",
       "      <th></th>\n",
       "      <th>transaction_id</th>\n",
       "      <th>visitor_id</th>\n",
       "      <th>date</th>\n",
       "      <th>revenue</th>\n",
       "      <th>group</th>\n",
       "    </tr>\n",
       "  </thead>\n",
       "  <tbody>\n",
       "    <tr>\n",
       "      <th>425</th>\n",
       "      <td>590470918</td>\n",
       "      <td>1920142716</td>\n",
       "      <td>2019-08-19</td>\n",
       "      <td>19920.4</td>\n",
       "      <td>B</td>\n",
       "    </tr>\n",
       "    <tr>\n",
       "      <th>1196</th>\n",
       "      <td>3936777065</td>\n",
       "      <td>2108080724</td>\n",
       "      <td>2019-08-15</td>\n",
       "      <td>3120.1</td>\n",
       "      <td>B</td>\n",
       "    </tr>\n",
       "    <tr>\n",
       "      <th>1136</th>\n",
       "      <td>666610489</td>\n",
       "      <td>1307669133</td>\n",
       "      <td>2019-08-13</td>\n",
       "      <td>1425.8</td>\n",
       "      <td>A</td>\n",
       "    </tr>\n",
       "    <tr>\n",
       "      <th>744</th>\n",
       "      <td>3668308183</td>\n",
       "      <td>888512513</td>\n",
       "      <td>2019-08-27</td>\n",
       "      <td>1335.6</td>\n",
       "      <td>B</td>\n",
       "    </tr>\n",
       "    <tr>\n",
       "      <th>743</th>\n",
       "      <td>3603576309</td>\n",
       "      <td>4133034833</td>\n",
       "      <td>2019-08-09</td>\n",
       "      <td>1050.0</td>\n",
       "      <td>A</td>\n",
       "    </tr>\n",
       "    <tr>\n",
       "      <th>1103</th>\n",
       "      <td>1348774318</td>\n",
       "      <td>1164614297</td>\n",
       "      <td>2019-08-12</td>\n",
       "      <td>1025.8</td>\n",
       "      <td>A</td>\n",
       "    </tr>\n",
       "    <tr>\n",
       "      <th>1099</th>\n",
       "      <td>316924019</td>\n",
       "      <td>148427295</td>\n",
       "      <td>2019-08-12</td>\n",
       "      <td>1015.9</td>\n",
       "      <td>A</td>\n",
       "    </tr>\n",
       "    <tr>\n",
       "      <th>949</th>\n",
       "      <td>1347999392</td>\n",
       "      <td>887908475</td>\n",
       "      <td>2019-08-21</td>\n",
       "      <td>930.0</td>\n",
       "      <td>A</td>\n",
       "    </tr>\n",
       "    <tr>\n",
       "      <th>940</th>\n",
       "      <td>2420050534</td>\n",
       "      <td>4003628586</td>\n",
       "      <td>2019-08-08</td>\n",
       "      <td>905.8</td>\n",
       "      <td>B</td>\n",
       "    </tr>\n",
       "    <tr>\n",
       "      <th>613</th>\n",
       "      <td>4071177889</td>\n",
       "      <td>3931967268</td>\n",
       "      <td>2019-08-07</td>\n",
       "      <td>830.3</td>\n",
       "      <td>B</td>\n",
       "    </tr>\n",
       "  </tbody>\n",
       "</table>\n",
       "</div>"
      ],
      "text/plain": [
       "      transaction_id  visitor_id       date  revenue group\n",
       "425        590470918  1920142716 2019-08-19  19920.4     B\n",
       "1196      3936777065  2108080724 2019-08-15   3120.1     B\n",
       "1136       666610489  1307669133 2019-08-13   1425.8     A\n",
       "744       3668308183   888512513 2019-08-27   1335.6     B\n",
       "743       3603576309  4133034833 2019-08-09   1050.0     A\n",
       "1103      1348774318  1164614297 2019-08-12   1025.8     A\n",
       "1099       316924019   148427295 2019-08-12   1015.9     A\n",
       "949       1347999392   887908475 2019-08-21    930.0     A\n",
       "940       2420050534  4003628586 2019-08-08    905.8     B\n",
       "613       4071177889  3931967268 2019-08-07    830.3     B"
      ]
     },
     "execution_count": 62,
     "metadata": {},
     "output_type": "execute_result"
    }
   ],
   "source": [
    "orders.sort_values(by='revenue',ascending=False).head(10)\n"
   ]
  },
  {
   "cell_type": "code",
   "execution_count": 63,
   "metadata": {},
   "outputs": [
    {
     "data": {
      "image/png": "[encoded data removed]",
      "text/plain": [
       "<Figure size 1080x432 with 1 Axes>"
      ]
     },
     "metadata": {
      "needs_background": "light"
     },
     "output_type": "display_data"
    }
   ],
   "source": [
    "plt.hist(orders['revenue'],color=['#A0E8AF'], bins = 50) \n",
    "plt.title('The Orders Prices per User')\n",
    "plt.show()"
   ]
  },
  {
   "cell_type": "code",
   "execution_count": 64,
   "metadata": {
    "scrolled": false
   },
   "outputs": [
    {
     "data": {
      "image/png": "[encoded data removed]",
      "text/plain": [
       "<Figure size 1080x432 with 1 Axes>"
      ]
     },
     "metadata": {
      "needs_background": "light"
     },
     "output_type": "display_data"
    }
   ],
   "source": [
    "x_values = pd.Series(range(0, len(orders['revenue'])))\n",
    "plt.scatter(x_values, orders['revenue'])\n",
    "plt.title('The Orders Prices per User')\n",
    "plt.show()"
   ]
  },
  {
   "cell_type": "markdown",
   "metadata": {},
   "source": [
    "-  there are several big orders.\n"
   ]
  },
  {
   "cell_type": "markdown",
   "metadata": {},
   "source": [
    "### Calculate the 95th and 99th percentiles of order prices. Define the point at which a data point becomes an anomaly."
   ]
  },
  {
   "cell_type": "code",
   "execution_count": 65,
   "metadata": {},
   "outputs": [
    {
     "data": {
      "text/plain": [
       "array([414.275, 830.3  ])"
      ]
     },
     "execution_count": 65,
     "metadata": {},
     "output_type": "execute_result"
    }
   ],
   "source": [
    "# Let's determine the 95th  and 99th percentiles for revenue in our sample:\n",
    "np.percentile(orders['revenue'], [ 95, 99]) "
   ]
  },
  {
   "cell_type": "markdown",
   "metadata": {},
   "source": [
    "## Test  hypotheses\n",
    "\n",
    "- null hypothesis H₀:Test the hypothesis that difference of  the proportions will be zero, there’s no difference.\n",
    "\n",
    "- hypothesis H₁: Test the hypothesis that difference of  the proportions are not equal, there is difference.\n",
    "\n",
    "- alpha value - 5%\n",
    "\n",
    "- Before we going to testing we should retrive group A and group B and  calculate the statistical significance of the difference in conversion between the groups.\n"
   ]
  },
  {
   "cell_type": "code",
   "execution_count": 66,
   "metadata": {},
   "outputs": [],
   "source": [
    "import scipy.stats as stats\n",
    "import datetime as dt\n"
   ]
  },
  {
   "cell_type": "markdown",
   "metadata": {},
   "source": [
    "### Find the statistical significance of the difference in conversion between the groups using the raw data. Make conclusions and conjectures."
   ]
  },
  {
   "cell_type": "code",
   "execution_count": 67,
   "metadata": {},
   "outputs": [
    {
     "data": {
      "text/html": [
       "<div>\n",
       "<style scoped>\n",
       "    .dataframe tbody tr th:only-of-type {\n",
       "        vertical-align: middle;\n",
       "    }\n",
       "\n",
       "    .dataframe tbody tr th {\n",
       "        vertical-align: top;\n",
       "    }\n",
       "\n",
       "    .dataframe thead th {\n",
       "        text-align: right;\n",
       "    }\n",
       "</style>\n",
       "<table border=\"1\" class=\"dataframe\">\n",
       "  <thead>\n",
       "    <tr style=\"text-align: right;\">\n",
       "      <th></th>\n",
       "      <th>userId</th>\n",
       "      <th>orders</th>\n",
       "    </tr>\n",
       "  </thead>\n",
       "  <tbody>\n",
       "    <tr>\n",
       "      <th>0</th>\n",
       "      <td>11685486</td>\n",
       "      <td>1</td>\n",
       "    </tr>\n",
       "    <tr>\n",
       "      <th>1</th>\n",
       "      <td>54447517</td>\n",
       "      <td>1</td>\n",
       "    </tr>\n",
       "    <tr>\n",
       "      <th>2</th>\n",
       "      <td>66685450</td>\n",
       "      <td>1</td>\n",
       "    </tr>\n",
       "    <tr>\n",
       "      <th>3</th>\n",
       "      <td>78758296</td>\n",
       "      <td>1</td>\n",
       "    </tr>\n",
       "    <tr>\n",
       "      <th>4</th>\n",
       "      <td>85103373</td>\n",
       "      <td>1</td>\n",
       "    </tr>\n",
       "  </tbody>\n",
       "</table>\n",
       "</div>"
      ],
      "text/plain": [
       "     userId  orders\n",
       "0  11685486       1\n",
       "1  54447517       1\n",
       "2  66685450       1\n",
       "3  78758296       1\n",
       "4  85103373       1"
      ]
     },
     "execution_count": 67,
     "metadata": {},
     "output_type": "execute_result"
    }
   ],
   "source": [
    "# Let's create the variables ordersByUsersA and ordersByUsersB with the columns ['userId', 'orders']\n",
    "\n",
    "ordersByUsersA = orders[orders['group']=='A'].groupby('visitor_id', as_index=False).agg({'transaction_id' : pd.Series.nunique})\n",
    "ordersByUsersA.columns = ['userId', 'orders']\n",
    "ordersByUsersA.head()\n"
   ]
  },
  {
   "cell_type": "code",
   "execution_count": 68,
   "metadata": {},
   "outputs": [
    {
     "data": {
      "text/html": [
       "<div>\n",
       "<style scoped>\n",
       "    .dataframe tbody tr th:only-of-type {\n",
       "        vertical-align: middle;\n",
       "    }\n",
       "\n",
       "    .dataframe tbody tr th {\n",
       "        vertical-align: top;\n",
       "    }\n",
       "\n",
       "    .dataframe thead th {\n",
       "        text-align: right;\n",
       "    }\n",
       "</style>\n",
       "<table border=\"1\" class=\"dataframe\">\n",
       "  <thead>\n",
       "    <tr style=\"text-align: right;\">\n",
       "      <th></th>\n",
       "      <th>userId</th>\n",
       "      <th>orders</th>\n",
       "    </tr>\n",
       "  </thead>\n",
       "  <tbody>\n",
       "    <tr>\n",
       "      <th>0</th>\n",
       "      <td>5114589</td>\n",
       "      <td>1</td>\n",
       "    </tr>\n",
       "    <tr>\n",
       "      <th>1</th>\n",
       "      <td>6958315</td>\n",
       "      <td>1</td>\n",
       "    </tr>\n",
       "    <tr>\n",
       "      <th>2</th>\n",
       "      <td>39475350</td>\n",
       "      <td>1</td>\n",
       "    </tr>\n",
       "    <tr>\n",
       "      <th>3</th>\n",
       "      <td>47206413</td>\n",
       "      <td>1</td>\n",
       "    </tr>\n",
       "    <tr>\n",
       "      <th>4</th>\n",
       "      <td>48147722</td>\n",
       "      <td>1</td>\n",
       "    </tr>\n",
       "  </tbody>\n",
       "</table>\n",
       "</div>"
      ],
      "text/plain": [
       "     userId  orders\n",
       "0   5114589       1\n",
       "1   6958315       1\n",
       "2  39475350       1\n",
       "3  47206413       1\n",
       "4  48147722       1"
      ]
     },
     "execution_count": 68,
     "metadata": {},
     "output_type": "execute_result"
    }
   ],
   "source": [
    "ordersByUsersB = orders[orders['group']=='B'].groupby('visitor_id', as_index=False).agg({'transaction_id' : pd.Series.nunique})\n",
    "ordersByUsersB.columns = ['userId', 'orders'] \n",
    "ordersByUsersB.head()"
   ]
  },
  {
   "cell_type": "markdown",
   "metadata": {},
   "source": [
    "Now we'll declare the variables sampleA and sampleB, with users from different groups and corresponding numbers of orders. \n",
    "\n",
    "Those who didn't order anything will have 0.\n",
    "\n",
    "This is necessary to prepare the samples for the Mann-Whitney test."
   ]
  },
  {
   "cell_type": "code",
   "execution_count": 69,
   "metadata": {},
   "outputs": [],
   "source": [
    "sampleA = pd.concat([ordersByUsersA['orders'],pd.Series(0, index=np.arange(visits[visits['group']=='A']['visits'].sum() - len(ordersByUsersA['orders'])), name='orders')],axis=0)"
   ]
  },
  {
   "cell_type": "code",
   "execution_count": 70,
   "metadata": {},
   "outputs": [],
   "source": [
    "sampleB = pd.concat([ordersByUsersB['orders'],pd.Series(0, index=np.arange(visits[visits['group']=='B']['visits'].sum() - len(ordersByUsersB['orders'])), name='orders')],axis=0)\n"
   ]
  },
  {
   "cell_type": "markdown",
   "metadata": {},
   "source": [
    " To Calculate the statistical significance of the difference in conversion based on the results we are going to\n",
    "\n",
    "Apply the **Mann-Whitney test**."
   ]
  },
  {
   "cell_type": "code",
   "execution_count": 71,
   "metadata": {},
   "outputs": [
    {
     "name": "stdout",
     "output_type": "stream",
     "text": [
      "0.011\n",
      "0.160\n"
     ]
    }
   ],
   "source": [
    "# We'll apply the criterion and format the p-value by rounding it to three decimal places.\n",
    "# Print the p-value to compare the groups' conversion. Round it to three decimal places.\n",
    "\n",
    "print(\"{0:.3f}\".format(stats.mannwhitneyu(sampleA, sampleB)[1]))\n",
    "\n",
    "\n",
    "# To get the group's conversion rate, we'll need to divide the sum of the orders by the number of users. \n",
    "# Using the mean() method, we'll find the mean for sampleA\n",
    "# Calculate and print the relative difference in conversion between the groups. Round the result to three decimal places.\n",
    "\n",
    "\n",
    "print(\"{0:.3f}\".format(sampleB.mean()/sampleA.mean()-1)) "
   ]
  },
  {
   "cell_type": "markdown",
   "metadata": {},
   "source": [
    "#### Conclusion : "
   ]
  },
  {
   "cell_type": "markdown",
   "metadata": {},
   "source": [
    "- Based on row data p-value is lower than 0.05 so we reject the null hypothesis.There is a difference between groups A and B.\n",
    "- The row data anylisis showed that group's conversion rates have statistically significant differancies.\n",
    "- The ralative conversion gain for group B compared with group A is 16%"
   ]
  },
  {
   "cell_type": "markdown",
   "metadata": {},
   "source": [
    "###  Find the statistical significance of the difference in conversion between the groups using the filtered data. Make conclusions and conjectures."
   ]
  },
  {
   "cell_type": "markdown",
   "metadata": {},
   "source": [
    "Remember that the 95th and 99th percentiles for average order size were 414.275 and  830.3. For number of users, the 95th and 99th percentiles were  2 and  3 orders.\n",
    "\n",
    "We'll remove the 1% of users with the most orders and between 1% and 5% of the most expensive orders.\n",
    "\n",
    "First we need to identify anomalous orders and  find the total number of anomalous users using the shape() method.\n",
    "\n"
   ]
  },
  {
   "cell_type": "code",
   "execution_count": 72,
   "metadata": {},
   "outputs": [
    {
     "data": {
      "text/plain": [
       "58      611059232\n",
       "211    2108163459\n",
       "310    2988190573\n",
       "409    3908431265\n",
       "416    3967698036\n",
       "Name: userId, dtype: int64"
      ]
     },
     "execution_count": 72,
     "metadata": {},
     "output_type": "execute_result"
    }
   ],
   "source": [
    "# First we need to identify anomalous orders and  find the total number of anomalous users using the shape() method.\n",
    "# Users with many orders\n",
    "usersWithManyOrders = pd.concat([ordersByUsersA[ordersByUsersA['orders'] > 2]['userId'], ordersByUsersB[ordersByUsersB['orders'] > 2]['userId']], axis = 0)\n",
    "usersWithManyOrders.head()"
   ]
  },
  {
   "cell_type": "code",
   "execution_count": 73,
   "metadata": {},
   "outputs": [
    {
     "data": {
      "text/plain": [
       "73     2947100995\n",
       "77      787824685\n",
       "78     3288820196\n",
       "93      943674707\n",
       "131    2254586615\n",
       "Name: visitor_id, dtype: int64"
      ]
     },
     "execution_count": 73,
     "metadata": {},
     "output_type": "execute_result"
    }
   ],
   "source": [
    "# Users with expensive orders\n",
    "usersWithExpensiveOrders = orders[orders['revenue'] > 400]['visitor_id']\n",
    "usersWithExpensiveOrders.head()"
   ]
  },
  {
   "cell_type": "code",
   "execution_count": 74,
   "metadata": {
    "scrolled": true
   },
   "outputs": [
    {
     "name": "stdout",
     "output_type": "stream",
     "text": [
      "568     113298937\n",
      "1099    148427295\n",
      "461     154576532\n",
      "928     204675465\n",
      "33      249864742\n",
      "dtype: int64\n",
      "(63,)\n"
     ]
    }
   ],
   "source": [
    "# The total number of anomalous users \n",
    "abnormalUsers = pd.concat([usersWithManyOrders, usersWithExpensiveOrders], axis = 0).drop_duplicates().sort_values()\n",
    "#\n",
    "print(abnormalUsers.head(5))\n",
    "print(abnormalUsers.shape)"
   ]
  },
  {
   "cell_type": "markdown",
   "metadata": {},
   "source": [
    "- We have 63 anomalous users in total"
   ]
  },
  {
   "cell_type": "markdown",
   "metadata": {},
   "source": [
    "We'll calculate the statistical significance of the differences in conversion between the groups, using filtered data. \n",
    "\n",
    "First we'll prepare samples of the number of orders per user for each test group:"
   ]
  },
  {
   "cell_type": "code",
   "execution_count": 75,
   "metadata": {},
   "outputs": [],
   "source": [
    "# Remove the anomalous visitors and calculate the statistical significance of the difference in conversion.\n",
    "\n",
    "sampleAFiltered = pd.concat([ordersByUsersA[np.logical_not(ordersByUsersA['userId'].isin(abnormalUsers))]['orders'],pd.Series(0, index=np.arange(visits[visits['group']=='A']['visits'].sum() - len(ordersByUsersA['orders'])),name='orders')],axis=0)\n",
    "\n",
    "sampleBFiltered = pd.concat([ordersByUsersB[np.logical_not(ordersByUsersB['userId'].isin(abnormalUsers))]['orders'],pd.Series(0, index=np.arange(visits[visits['group']=='B']['visits'].sum() - len(ordersByUsersB['orders'])),name='orders')],axis=0)"
   ]
  },
  {
   "cell_type": "code",
   "execution_count": 76,
   "metadata": {},
   "outputs": [
    {
     "name": "stdout",
     "output_type": "stream",
     "text": [
      "0.016\n",
      "0.176\n"
     ]
    }
   ],
   "source": [
    "# Let's apply the statistical Mann-Whitney criterion to the resulting samples:\n",
    "#Print the p-value to compare the conversion rates of the filtered groups\n",
    "print(\"{0:.3f}\".format(stats.mannwhitneyu(sampleAFiltered, sampleBFiltered)[1]))\n",
    "\n",
    "#Print group B's relative gain rounded to three decimal places.\n",
    "\n",
    "print(\"{0:.3f}\".format(sampleBFiltered.mean()/sampleAFiltered.mean()-1)) "
   ]
  },
  {
   "cell_type": "markdown",
   "metadata": {},
   "source": [
    "#### Conclusion:\n",
    "- The p-value is lower than 0.05. so we can  reject null hypotesis so there is differencies\n",
    "- The relative gain is 17.7%\n",
    "- The segment B more much better than segment A"
   ]
  },
  {
   "cell_type": "code",
   "execution_count": null,
   "metadata": {},
   "outputs": [],
   "source": []
  },
  {
   "cell_type": "markdown",
   "metadata": {},
   "source": [
    "### Find the statistical significance of the difference in average order size between the groups using the Raw data. Make conclusions and conjectures."
   ]
  },
  {
   "cell_type": "markdown",
   "metadata": {},
   "source": [
    "- To calculate the statistical significance of the difference in the segments' average order size, we'll pass the data on revenue to the  **mannwhitneyu() criterion**.\n",
    "\n",
    "- We'll also find the relative difference in average order size between the groups:"
   ]
  },
  {
   "cell_type": "code",
   "execution_count": 77,
   "metadata": {
    "scrolled": false
   },
   "outputs": [
    {
     "name": "stdout",
     "output_type": "stream",
     "text": [
      "0.862\n",
      "0.278\n"
     ]
    }
   ],
   "source": [
    "# Print the p-value to compare the groups' average order sizes. Round it to three decimal places.\n",
    "print('{0:.3f}'.format(stats.mannwhitneyu(orders[orders['group']=='A']['revenue'], orders[orders['group']=='B']['revenue'])[1]))\n",
    "\n",
    "# Print out the relative gain for group B, again rounding the value to three decimal places\n",
    "print('{0:.3f}'.format(orders[orders['group']=='B']['revenue'].mean()/orders[orders['group']=='A']['revenue'].mean()-1)) "
   ]
  },
  {
   "cell_type": "markdown",
   "metadata": {},
   "source": [
    "#### Conclusion:\n",
    "- The p-value is considerably higher than 0.05, so  there is no statistically significant differences and conclude that average order size not differs between the groups.\n",
    "- However the relative diffencies is 27.8% so the average order size for group A is much smaller than it is for group B.\n"
   ]
  },
  {
   "cell_type": "markdown",
   "metadata": {},
   "source": [
    "### Find the statistical significance of the difference in average order size between the groups using the Filtered data. Make conclusions and conjectures."
   ]
  },
  {
   "cell_type": "markdown",
   "metadata": {},
   "source": [
    " For removed the anomalies(see above)  we'll calculate the statistical significance for the difference in average order size."
   ]
  },
  {
   "cell_type": "code",
   "execution_count": 78,
   "metadata": {},
   "outputs": [
    {
     "name": "stdout",
     "output_type": "stream",
     "text": [
      "0.575\n",
      "-0.070\n"
     ]
    }
   ],
   "source": [
    "# Let's see what happens to the values for average order size:\n",
    "\n",
    "# Print the p-value to compare the average order sizes of the filtered groups. Round it to three decimal places. \n",
    "print('{0:.3f}'.format(stats.mannwhitneyu(\n",
    "    orders[np.logical_and(\n",
    "        orders['group']=='A',\n",
    "        np.logical_not(orders['visitor_id'].isin(abnormalUsers)))]['revenue'],\n",
    "    orders[np.logical_and(\n",
    "        orders['group']=='B',\n",
    "     np.logical_not(orders['visitor_id'].isin(abnormalUsers)))]['revenue'])[1]))\n",
    "\n",
    "#  Print group B's relative gain rounded to three decimal places. \n",
    "print('{0:.3f}'.format(\n",
    "    orders[np.logical_and(orders['group']=='B',np.logical_not(orders['visitor_id'].isin(abnormalUsers)))]['revenue'].mean()/\n",
    "    orders[np.logical_and(\n",
    "        orders['group']=='A',\n",
    "        np.logical_not(orders['visitor_id'].isin(abnormalUsers)))]['revenue'].mean() - 1)) \n",
    "\n"
   ]
  },
  {
   "cell_type": "markdown",
   "metadata": {},
   "source": [
    "#### Conclusion: \n",
    "\n",
    "- The p-value is greater than 0.05 and decreased\n",
    "\n",
    "- But now the difference between the segments is only 7% instead of 27.8%  so we got statistically difference between the group's avarage order size. This means that filltered out the outliers decrease the amount of noise in the data"
   ]
  },
  {
   "cell_type": "markdown",
   "metadata": {},
   "source": [
    "### Make a decision based on the test results. The possible decisions are: \n",
    "\n",
    "- 1. Stop the test, consider one of the groups the leader. \n",
    "\n",
    "- 2. Stop the test, conclude that there is no difference between the groups.\n",
    "\n",
    "- 3. Continue the test"
   ]
  },
  {
   "cell_type": "markdown",
   "metadata": {},
   "source": [
    "1. ROW DATA CONVERSION : (0.011, 0.160 )\n",
    "\n",
    "Based on row data p-value is lower than 0.05 so we reject the null hypothesis.There is a difference between groups A and B.\n",
    "The row data anylisis showed that group's conversion rates have statistically significant differancies.\n",
    "The ralative conversion gain for group B compared with group A is 16%\n",
    "\n",
    "1. FILTERED DATA CONVERSION RATE: (0.016,0.176) \n",
    "\n",
    "The p-value is lower than 0.05. so we can reject null hypotesis so thee is differencies\n",
    "The relative gain is 17.6%\n",
    "The segment B more much better than segment A\n",
    "\n",
    "2. ROW DATA AVARGE ORDER SIZE: (0.862, 0.278)\n",
    "\n",
    "The p-value is considerably higher than 0.05, so there is no statistically significant differences and conclude that average order size not differs between the groups.\n",
    "Moreover the relative diffencies is only 27,8% so the average order size for group A is much smaller than it is for group B.\n",
    "\n",
    "2. FILTERED DATA FOR AVARGE ORDER SIZE: (0.575, -0.070)\n",
    "The p-value is greater than 0.05 and increased\n",
    "But now the difference between the segments is 7% instead of 27.8% so we got statistically difference between the group's avarage order size. This means that filltered out the outliers decrease the amount of noise in the data\n",
    "\n"
   ]
  },
  {
   "cell_type": "markdown",
   "metadata": {},
   "source": [
    "### Conclusion:\n",
    "- Contininue the test because we have differencies between metrics :\n",
    "- group B leading in convesion rate  and avarage order size is same but ralative gain greater by 7%"
   ]
  },
  {
   "cell_type": "markdown",
   "metadata": {},
   "source": [
    "# General conclusion"
   ]
  },
  {
   "cell_type": "markdown",
   "metadata": {},
   "source": [
    "1. In the data's preparation & exploration stage:\n",
    "- We observed missing values of columns in Dataframe\n",
    "- There is no missing values in our dataset\n",
    "- As we see some of visitors  were in both control groups.There is mistakes in the original datasets 'orders', so fixed it by dropping them\n",
    "\n",
    "2. In the data transformation and data-cleaning process stage:\n",
    "- The data in columns represented as object so it was converted to Timestamp\n",
    "- The columns name was changed to lowercase register and appropriate format\n",
    "\n",
    "3. In analysis stage to answer our questions we got next conclusion:\n",
    "\n",
    "- 3.a Prioritizing Hypotheses by RICE method:\n",
    "-    The most promising hypothesis are 7, 2, 0 and 6.\n",
    "-    However this time number 7 was in first time.\n",
    "-    That's because it's Reach parameter have high value wich is 10 , while other hypothesis have lower values\n",
    "\n",
    "\n",
    "- 3.b Prioritizing Hypotheses by ICE method:\n",
    "-    ICE give us 8, 0, 7, 6 are promising hypothesis.\n",
    "-    Number 8 were in first place because parameter Confidence have high value than others\n",
    "\n",
    "\n",
    "- 3.c We culculate and plotting Cumulative  metrics:\n",
    "- Revenue is rising steadily throughout the whole test for bouth groups. That's a good sign but group B is leading\n",
    "- The  cumulative avarage purchase size metrics of the group B are a bit higher than those of the group A\n",
    "- The surge in group B may have been due to the presence of large, expensive orders. We need more data on this group to find the true average purchase size and establish its level.\n",
    "\n",
    "- 3.d We detect anomalies(outliers) which is affect to analysis and was removed\n",
    "\n",
    "4. A/B testing:\n",
    "- we made decision based on result to Continue the test because we have differences between metrics : group B leading in conversion rate and avarage order size is same but relative gain greater by 7%.it's too early\n",
    "\n",
    "\n",
    "\n",
    "\n",
    "\n",
    "\n",
    "\n",
    "\n",
    "\n",
    "\n",
    "\n",
    "\n",
    "\n",
    "\n",
    "\n",
    "\n",
    "\n",
    "\n",
    "\n",
    "\n",
    "\n",
    "\n",
    "\n"
   ]
  },
  {
   "cell_type": "code",
   "execution_count": null,
   "metadata": {},
   "outputs": [],
   "source": []
  },
  {
   "cell_type": "code",
   "execution_count": null,
   "metadata": {},
   "outputs": [],
   "source": []
  },
  {
   "cell_type": "code",
   "execution_count": null,
   "metadata": {},
   "outputs": [],
   "source": []
  },
  {
   "cell_type": "code",
   "execution_count": null,
   "metadata": {},
   "outputs": [],
   "source": []
  },
  {
   "cell_type": "code",
   "execution_count": null,
   "metadata": {},
   "outputs": [],
   "source": []
  },
  {
   "cell_type": "code",
   "execution_count": null,
   "metadata": {},
   "outputs": [],
   "source": []
  },
  {
   "cell_type": "code",
   "execution_count": null,
   "metadata": {},
   "outputs": [],
   "source": []
  },
  {
   "cell_type": "code",
   "execution_count": null,
   "metadata": {},
   "outputs": [],
   "source": []
  },
  {
   "cell_type": "code",
   "execution_count": null,
   "metadata": {},
   "outputs": [],
   "source": []
  },
  {
   "cell_type": "code",
   "execution_count": null,
   "metadata": {},
   "outputs": [],
   "source": []
  },
  {
   "cell_type": "code",
   "execution_count": null,
   "metadata": {},
   "outputs": [],
   "source": []
  },
  {
   "cell_type": "code",
   "execution_count": null,
   "metadata": {},
   "outputs": [],
   "source": []
  },
  {
   "cell_type": "code",
   "execution_count": null,
   "metadata": {},
   "outputs": [],
   "source": []
  },
  {
   "cell_type": "code",
   "execution_count": null,
   "metadata": {},
   "outputs": [],
   "source": []
  },
  {
   "cell_type": "code",
   "execution_count": null,
   "metadata": {},
   "outputs": [],
   "source": []
  },
  {
   "cell_type": "code",
   "execution_count": null,
   "metadata": {},
   "outputs": [],
   "source": []
  },
  {
   "cell_type": "code",
   "execution_count": null,
   "metadata": {},
   "outputs": [],
   "source": []
  },
  {
   "cell_type": "code",
   "execution_count": null,
   "metadata": {},
   "outputs": [],
   "source": []
  },
  {
   "cell_type": "code",
   "execution_count": null,
   "metadata": {},
   "outputs": [],
   "source": []
  },
  {
   "cell_type": "code",
   "execution_count": null,
   "metadata": {},
   "outputs": [],
   "source": []
  },
  {
   "cell_type": "code",
   "execution_count": null,
   "metadata": {},
   "outputs": [],
   "source": []
  },
  {
   "cell_type": "code",
   "execution_count": null,
   "metadata": {},
   "outputs": [],
   "source": []
  },
  {
   "cell_type": "code",
   "execution_count": null,
   "metadata": {},
   "outputs": [],
   "source": []
  },
  {
   "cell_type": "code",
   "execution_count": null,
   "metadata": {},
   "outputs": [],
   "source": []
  },
  {
   "cell_type": "code",
   "execution_count": null,
   "metadata": {},
   "outputs": [],
   "source": []
  },
  {
   "cell_type": "code",
   "execution_count": null,
   "metadata": {},
   "outputs": [],
   "source": []
  },
  {
   "cell_type": "code",
   "execution_count": null,
   "metadata": {},
   "outputs": [],
   "source": []
  },
  {
   "cell_type": "code",
   "execution_count": null,
   "metadata": {},
   "outputs": [],
   "source": []
  },
  {
   "cell_type": "code",
   "execution_count": null,
   "metadata": {},
   "outputs": [],
   "source": []
  },
  {
   "cell_type": "code",
   "execution_count": null,
   "metadata": {},
   "outputs": [],
   "source": []
  },
  {
   "cell_type": "code",
   "execution_count": null,
   "metadata": {},
   "outputs": [],
   "source": []
  },
  {
   "cell_type": "code",
   "execution_count": null,
   "metadata": {},
   "outputs": [],
   "source": []
  },
  {
   "cell_type": "code",
   "execution_count": null,
   "metadata": {},
   "outputs": [],
   "source": []
  },
  {
   "cell_type": "code",
   "execution_count": null,
   "metadata": {},
   "outputs": [],
   "source": []
  },
  {
   "cell_type": "code",
   "execution_count": null,
   "metadata": {},
   "outputs": [],
   "source": []
  },
  {
   "cell_type": "code",
   "execution_count": null,
   "metadata": {},
   "outputs": [],
   "source": []
  },
  {
   "cell_type": "code",
   "execution_count": null,
   "metadata": {},
   "outputs": [],
   "source": []
  },
  {
   "cell_type": "code",
   "execution_count": null,
   "metadata": {},
   "outputs": [],
   "source": []
  },
  {
   "cell_type": "code",
   "execution_count": null,
   "metadata": {},
   "outputs": [],
   "source": []
  },
  {
   "cell_type": "code",
   "execution_count": null,
   "metadata": {},
   "outputs": [],
   "source": []
  },
  {
   "cell_type": "code",
   "execution_count": null,
   "metadata": {},
   "outputs": [],
   "source": []
  },
  {
   "cell_type": "code",
   "execution_count": null,
   "metadata": {},
   "outputs": [],
   "source": []
  },
  {
   "cell_type": "code",
   "execution_count": null,
   "metadata": {},
   "outputs": [],
   "source": []
  },
  {
   "cell_type": "code",
   "execution_count": null,
   "metadata": {},
   "outputs": [],
   "source": []
  },
  {
   "cell_type": "code",
   "execution_count": null,
   "metadata": {},
   "outputs": [],
   "source": []
  },
  {
   "cell_type": "code",
   "execution_count": null,
   "metadata": {},
   "outputs": [],
   "source": []
  },
  {
   "cell_type": "code",
   "execution_count": null,
   "metadata": {},
   "outputs": [],
   "source": []
  },
  {
   "cell_type": "code",
   "execution_count": null,
   "metadata": {},
   "outputs": [],
   "source": []
  },
  {
   "cell_type": "code",
   "execution_count": null,
   "metadata": {},
   "outputs": [],
   "source": []
  },
  {
   "cell_type": "code",
   "execution_count": null,
   "metadata": {},
   "outputs": [],
   "source": []
  },
  {
   "cell_type": "code",
   "execution_count": null,
   "metadata": {},
   "outputs": [],
   "source": []
  },
  {
   "cell_type": "code",
   "execution_count": null,
   "metadata": {},
   "outputs": [],
   "source": []
  },
  {
   "cell_type": "code",
   "execution_count": null,
   "metadata": {},
   "outputs": [],
   "source": []
  },
  {
   "cell_type": "code",
   "execution_count": null,
   "metadata": {},
   "outputs": [],
   "source": []
  },
  {
   "cell_type": "code",
   "execution_count": null,
   "metadata": {},
   "outputs": [],
   "source": []
  },
  {
   "cell_type": "code",
   "execution_count": null,
   "metadata": {},
   "outputs": [],
   "source": []
  },
  {
   "cell_type": "code",
   "execution_count": null,
   "metadata": {},
   "outputs": [],
   "source": []
  },
  {
   "cell_type": "code",
   "execution_count": null,
   "metadata": {},
   "outputs": [],
   "source": []
  },
  {
   "cell_type": "code",
   "execution_count": null,
   "metadata": {},
   "outputs": [],
   "source": []
  },
  {
   "cell_type": "code",
   "execution_count": null,
   "metadata": {},
   "outputs": [],
   "source": []
  },
  {
   "cell_type": "code",
   "execution_count": null,
   "metadata": {},
   "outputs": [],
   "source": []
  },
  {
   "cell_type": "code",
   "execution_count": null,
   "metadata": {},
   "outputs": [],
   "source": []
  },
  {
   "cell_type": "code",
   "execution_count": null,
   "metadata": {},
   "outputs": [],
   "source": []
  },
  {
   "cell_type": "code",
   "execution_count": null,
   "metadata": {},
   "outputs": [],
   "source": []
  },
  {
   "cell_type": "code",
   "execution_count": null,
   "metadata": {},
   "outputs": [],
   "source": []
  }
 ],
 "metadata": {
  "ExecuteTimeLog": [
   {
    "duration": 1333,
    "start_time": "2022-05-01T20:48:43.145Z"
   },
   {
    "duration": 180,
    "start_time": "2022-05-01T20:57:37.626Z"
   },
   {
    "duration": 10,
    "start_time": "2022-05-01T21:04:08.728Z"
   },
   {
    "duration": 66,
    "start_time": "2022-05-01T21:12:13.327Z"
   },
   {
    "duration": 7,
    "start_time": "2022-05-01T21:12:17.935Z"
   },
   {
    "duration": 11,
    "start_time": "2022-05-01T21:12:50.015Z"
   },
   {
    "duration": 6,
    "start_time": "2022-05-01T21:13:54.968Z"
   },
   {
    "duration": 9,
    "start_time": "2022-05-01T21:15:16.318Z"
   },
   {
    "duration": 7,
    "start_time": "2022-05-01T21:15:43.185Z"
   },
   {
    "duration": 8,
    "start_time": "2022-05-01T21:22:08.375Z"
   },
   {
    "duration": 2,
    "start_time": "2022-05-01T21:23:43.427Z"
   },
   {
    "duration": 9,
    "start_time": "2022-05-01T21:25:33.191Z"
   },
   {
    "duration": 10,
    "start_time": "2022-05-01T21:26:11.390Z"
   },
   {
    "duration": 6,
    "start_time": "2022-05-01T21:26:55.102Z"
   },
   {
    "duration": 9,
    "start_time": "2022-05-01T21:28:51.265Z"
   },
   {
    "duration": 314,
    "start_time": "2022-05-01T21:29:38.072Z"
   },
   {
    "duration": 6,
    "start_time": "2022-05-01T21:29:47.124Z"
   },
   {
    "duration": 8,
    "start_time": "2022-05-01T21:37:22.369Z"
   },
   {
    "duration": 8,
    "start_time": "2022-05-01T21:37:47.387Z"
   },
   {
    "duration": 11,
    "start_time": "2022-05-01T21:44:50.194Z"
   },
   {
    "duration": 25,
    "start_time": "2022-05-01T21:46:09.596Z"
   },
   {
    "duration": 96,
    "start_time": "2022-05-01T21:48:50.791Z"
   },
   {
    "duration": 6,
    "start_time": "2022-05-01T21:50:33.746Z"
   },
   {
    "duration": 5,
    "start_time": "2022-05-01T21:51:52.688Z"
   },
   {
    "duration": 10,
    "start_time": "2022-05-01T21:55:04.442Z"
   },
   {
    "duration": 5,
    "start_time": "2022-05-01T21:55:39.825Z"
   },
   {
    "duration": 9,
    "start_time": "2022-05-01T21:55:50.732Z"
   },
   {
    "duration": 7,
    "start_time": "2022-05-01T21:56:29.087Z"
   },
   {
    "duration": 8,
    "start_time": "2022-05-01T21:56:43.233Z"
   },
   {
    "duration": 1196,
    "start_time": "2022-05-01T22:07:47.173Z"
   },
   {
    "duration": 67,
    "start_time": "2022-05-01T22:07:48.371Z"
   },
   {
    "duration": 10,
    "start_time": "2022-05-01T22:07:48.440Z"
   },
   {
    "duration": 11,
    "start_time": "2022-05-01T22:07:48.451Z"
   },
   {
    "duration": 7,
    "start_time": "2022-05-01T22:07:48.464Z"
   },
   {
    "duration": 12,
    "start_time": "2022-05-01T22:07:48.472Z"
   },
   {
    "duration": 10,
    "start_time": "2022-05-01T22:07:48.485Z"
   },
   {
    "duration": 11,
    "start_time": "2022-05-01T22:07:48.496Z"
   },
   {
    "duration": 7,
    "start_time": "2022-05-01T22:07:48.508Z"
   },
   {
    "duration": 10,
    "start_time": "2022-05-01T22:07:48.517Z"
   },
   {
    "duration": 7,
    "start_time": "2022-05-01T22:07:48.529Z"
   },
   {
    "duration": 5,
    "start_time": "2022-05-01T22:07:48.538Z"
   },
   {
    "duration": 7,
    "start_time": "2022-05-01T22:07:48.545Z"
   },
   {
    "duration": 20,
    "start_time": "2022-05-01T22:07:48.554Z"
   },
   {
    "duration": 15,
    "start_time": "2022-05-01T22:07:48.576Z"
   },
   {
    "duration": 12,
    "start_time": "2022-05-01T22:07:48.592Z"
   },
   {
    "duration": 17,
    "start_time": "2022-05-01T22:07:48.605Z"
   },
   {
    "duration": 4,
    "start_time": "2022-05-01T22:14:37.762Z"
   },
   {
    "duration": 5,
    "start_time": "2022-05-01T22:15:45.359Z"
   },
   {
    "duration": 4,
    "start_time": "2022-05-01T22:16:13.431Z"
   },
   {
    "duration": 6,
    "start_time": "2022-05-01T22:18:18.022Z"
   },
   {
    "duration": 5,
    "start_time": "2022-05-01T22:19:58.657Z"
   },
   {
    "duration": 6,
    "start_time": "2022-05-01T22:20:20.578Z"
   },
   {
    "duration": 87,
    "start_time": "2022-05-01T22:21:19.323Z"
   },
   {
    "duration": 9,
    "start_time": "2022-05-01T22:21:24.973Z"
   },
   {
    "duration": 10,
    "start_time": "2022-05-01T22:21:28.281Z"
   },
   {
    "duration": 4,
    "start_time": "2022-05-01T22:21:32.069Z"
   },
   {
    "duration": 6,
    "start_time": "2022-05-01T22:22:02.937Z"
   },
   {
    "duration": 3082,
    "start_time": "2022-05-01T22:30:41.743Z"
   },
   {
    "duration": 210,
    "start_time": "2022-05-01T22:31:12.229Z"
   },
   {
    "duration": 3158,
    "start_time": "2022-05-01T22:31:17.936Z"
   },
   {
    "duration": 9756,
    "start_time": "2022-05-01T22:35:27.039Z"
   },
   {
    "duration": 7,
    "start_time": "2022-05-01T22:35:43.336Z"
   },
   {
    "duration": 44,
    "start_time": "2022-05-01T22:38:38.034Z"
   },
   {
    "duration": 6,
    "start_time": "2022-05-01T22:38:51.725Z"
   },
   {
    "duration": 1169,
    "start_time": "2022-05-01T22:39:02.843Z"
   },
   {
    "duration": 66,
    "start_time": "2022-05-01T22:39:04.014Z"
   },
   {
    "duration": 11,
    "start_time": "2022-05-01T22:39:04.081Z"
   },
   {
    "duration": 12,
    "start_time": "2022-05-01T22:39:04.093Z"
   },
   {
    "duration": 7,
    "start_time": "2022-05-01T22:39:04.108Z"
   },
   {
    "duration": 14,
    "start_time": "2022-05-01T22:39:04.117Z"
   },
   {
    "duration": 13,
    "start_time": "2022-05-01T22:39:04.133Z"
   },
   {
    "duration": 12,
    "start_time": "2022-05-01T22:39:04.148Z"
   },
   {
    "duration": 8,
    "start_time": "2022-05-01T22:39:04.162Z"
   },
   {
    "duration": 9,
    "start_time": "2022-05-01T22:39:04.171Z"
   },
   {
    "duration": 21,
    "start_time": "2022-05-01T22:39:04.181Z"
   },
   {
    "duration": 98,
    "start_time": "2022-05-01T22:39:04.204Z"
   },
   {
    "duration": 0,
    "start_time": "2022-05-01T22:39:04.303Z"
   },
   {
    "duration": 0,
    "start_time": "2022-05-01T22:39:04.304Z"
   },
   {
    "duration": 0,
    "start_time": "2022-05-01T22:39:04.305Z"
   },
   {
    "duration": 0,
    "start_time": "2022-05-01T22:39:04.306Z"
   },
   {
    "duration": 0,
    "start_time": "2022-05-01T22:39:04.307Z"
   },
   {
    "duration": 0,
    "start_time": "2022-05-01T22:39:04.308Z"
   },
   {
    "duration": 0,
    "start_time": "2022-05-01T22:39:04.308Z"
   },
   {
    "duration": 0,
    "start_time": "2022-05-01T22:39:04.309Z"
   },
   {
    "duration": 0,
    "start_time": "2022-05-01T22:39:04.310Z"
   },
   {
    "duration": 0,
    "start_time": "2022-05-01T22:39:04.311Z"
   },
   {
    "duration": 0,
    "start_time": "2022-05-01T22:39:04.312Z"
   },
   {
    "duration": 0,
    "start_time": "2022-05-01T22:39:04.313Z"
   },
   {
    "duration": 12,
    "start_time": "2022-05-01T22:39:14.618Z"
   },
   {
    "duration": 5,
    "start_time": "2022-05-01T22:39:23.526Z"
   },
   {
    "duration": 11,
    "start_time": "2022-05-01T22:39:43.260Z"
   },
   {
    "duration": 16,
    "start_time": "2022-05-01T22:40:28.279Z"
   },
   {
    "duration": 3019,
    "start_time": "2022-05-01T22:41:16.406Z"
   },
   {
    "duration": 5,
    "start_time": "2022-05-01T22:41:32.142Z"
   },
   {
    "duration": 64,
    "start_time": "2022-05-01T22:41:34.918Z"
   },
   {
    "duration": 7,
    "start_time": "2022-05-01T22:41:43.532Z"
   },
   {
    "duration": 9,
    "start_time": "2022-05-01T22:41:46.368Z"
   },
   {
    "duration": 6,
    "start_time": "2022-05-01T22:41:48.642Z"
   },
   {
    "duration": 7,
    "start_time": "2022-05-01T22:41:53.410Z"
   },
   {
    "duration": 8,
    "start_time": "2022-05-01T22:41:56.806Z"
   },
   {
    "duration": 10,
    "start_time": "2022-05-01T22:42:00.184Z"
   },
   {
    "duration": 6,
    "start_time": "2022-05-01T22:42:03.698Z"
   },
   {
    "duration": 3,
    "start_time": "2022-05-01T22:42:06.249Z"
   },
   {
    "duration": 5,
    "start_time": "2022-05-01T22:42:09.442Z"
   },
   {
    "duration": 11,
    "start_time": "2022-05-01T22:43:31.242Z"
   },
   {
    "duration": 8,
    "start_time": "2022-05-01T22:43:50.202Z"
   },
   {
    "duration": 10,
    "start_time": "2022-05-01T22:43:53.208Z"
   },
   {
    "duration": 5,
    "start_time": "2022-05-01T22:43:57.968Z"
   },
   {
    "duration": 6,
    "start_time": "2022-05-01T22:44:20.416Z"
   },
   {
    "duration": 11,
    "start_time": "2022-05-01T22:44:38.412Z"
   },
   {
    "duration": 10,
    "start_time": "2022-05-01T22:44:49.498Z"
   },
   {
    "duration": 5,
    "start_time": "2022-05-01T22:45:53.895Z"
   },
   {
    "duration": 11,
    "start_time": "2022-05-01T22:46:08.439Z"
   },
   {
    "duration": 8,
    "start_time": "2022-05-01T22:46:18.463Z"
   },
   {
    "duration": 6,
    "start_time": "2022-05-01T22:47:09.803Z"
   },
   {
    "duration": 5,
    "start_time": "2022-05-01T22:47:50.396Z"
   },
   {
    "duration": 4,
    "start_time": "2022-05-01T22:48:16.357Z"
   },
   {
    "duration": 69,
    "start_time": "2022-05-01T22:48:16.362Z"
   },
   {
    "duration": 7,
    "start_time": "2022-05-01T22:48:16.432Z"
   },
   {
    "duration": 12,
    "start_time": "2022-05-01T22:48:16.440Z"
   },
   {
    "duration": 6,
    "start_time": "2022-05-01T22:48:16.454Z"
   },
   {
    "duration": 9,
    "start_time": "2022-05-01T22:48:16.461Z"
   },
   {
    "duration": 9,
    "start_time": "2022-05-01T22:48:16.471Z"
   },
   {
    "duration": 10,
    "start_time": "2022-05-01T22:48:16.481Z"
   },
   {
    "duration": 6,
    "start_time": "2022-05-01T22:48:16.493Z"
   },
   {
    "duration": 4,
    "start_time": "2022-05-01T22:48:16.501Z"
   },
   {
    "duration": 7,
    "start_time": "2022-05-01T22:48:16.507Z"
   },
   {
    "duration": 8,
    "start_time": "2022-05-01T22:48:16.515Z"
   },
   {
    "duration": 7,
    "start_time": "2022-05-01T22:48:16.525Z"
   },
   {
    "duration": 6,
    "start_time": "2022-05-01T22:48:16.533Z"
   },
   {
    "duration": 5,
    "start_time": "2022-05-01T22:48:16.541Z"
   },
   {
    "duration": 10,
    "start_time": "2022-05-01T22:48:16.548Z"
   },
   {
    "duration": 9,
    "start_time": "2022-05-01T22:48:16.560Z"
   },
   {
    "duration": 30,
    "start_time": "2022-05-01T22:48:16.571Z"
   },
   {
    "duration": 4,
    "start_time": "2022-05-01T22:48:16.603Z"
   },
   {
    "duration": 7,
    "start_time": "2022-05-01T22:48:16.609Z"
   },
   {
    "duration": 11,
    "start_time": "2022-05-01T22:48:16.618Z"
   },
   {
    "duration": 7,
    "start_time": "2022-05-01T22:48:16.630Z"
   },
   {
    "duration": 10,
    "start_time": "2022-05-01T22:48:16.638Z"
   },
   {
    "duration": 9,
    "start_time": "2022-05-01T22:48:16.650Z"
   },
   {
    "duration": 8,
    "start_time": "2022-05-01T22:49:16.503Z"
   },
   {
    "duration": 10,
    "start_time": "2022-05-01T22:49:19.683Z"
   },
   {
    "duration": 5,
    "start_time": "2022-05-01T22:49:27.567Z"
   },
   {
    "duration": 11,
    "start_time": "2022-05-01T22:50:16.110Z"
   },
   {
    "duration": 9,
    "start_time": "2022-05-01T22:50:27.950Z"
   },
   {
    "duration": 10,
    "start_time": "2022-05-01T23:05:20.504Z"
   },
   {
    "duration": 9,
    "start_time": "2022-05-01T23:05:34.716Z"
   },
   {
    "duration": 9,
    "start_time": "2022-05-01T23:05:44.681Z"
   },
   {
    "duration": 4,
    "start_time": "2022-05-01T23:05:53.144Z"
   },
   {
    "duration": 10,
    "start_time": "2022-05-01T23:06:59.646Z"
   },
   {
    "duration": 9,
    "start_time": "2022-05-01T23:07:08.893Z"
   },
   {
    "duration": 8,
    "start_time": "2022-05-01T23:08:39.913Z"
   },
   {
    "duration": 4,
    "start_time": "2022-05-01T23:08:51.543Z"
   },
   {
    "duration": 6,
    "start_time": "2022-05-01T23:12:54.782Z"
   },
   {
    "duration": 3,
    "start_time": "2022-05-01T23:14:27.186Z"
   },
   {
    "duration": 4,
    "start_time": "2022-05-01T23:14:30.050Z"
   },
   {
    "duration": 1115,
    "start_time": "2022-05-01T23:25:37.755Z"
   },
   {
    "duration": 66,
    "start_time": "2022-05-01T23:25:38.872Z"
   },
   {
    "duration": 10,
    "start_time": "2022-05-01T23:25:38.940Z"
   },
   {
    "duration": 25,
    "start_time": "2022-05-01T23:25:38.951Z"
   },
   {
    "duration": 17,
    "start_time": "2022-05-01T23:25:38.978Z"
   },
   {
    "duration": 18,
    "start_time": "2022-05-01T23:25:38.996Z"
   },
   {
    "duration": 12,
    "start_time": "2022-05-01T23:25:39.015Z"
   },
   {
    "duration": 19,
    "start_time": "2022-05-01T23:25:39.028Z"
   },
   {
    "duration": 11,
    "start_time": "2022-05-01T23:25:39.048Z"
   },
   {
    "duration": 8,
    "start_time": "2022-05-01T23:25:39.061Z"
   },
   {
    "duration": 19,
    "start_time": "2022-05-01T23:25:39.071Z"
   },
   {
    "duration": 17,
    "start_time": "2022-05-01T23:25:39.091Z"
   },
   {
    "duration": 9,
    "start_time": "2022-05-01T23:25:39.110Z"
   },
   {
    "duration": 15,
    "start_time": "2022-05-01T23:25:39.122Z"
   },
   {
    "duration": 14,
    "start_time": "2022-05-01T23:25:39.138Z"
   },
   {
    "duration": 8,
    "start_time": "2022-05-01T23:25:39.154Z"
   },
   {
    "duration": 4,
    "start_time": "2022-05-01T23:25:39.163Z"
   },
   {
    "duration": 9,
    "start_time": "2022-05-01T23:25:39.168Z"
   },
   {
    "duration": 9,
    "start_time": "2022-05-01T23:25:39.179Z"
   },
   {
    "duration": 12,
    "start_time": "2022-05-01T23:25:39.189Z"
   },
   {
    "duration": 9,
    "start_time": "2022-05-01T23:25:39.202Z"
   },
   {
    "duration": 12,
    "start_time": "2022-05-01T23:25:39.213Z"
   },
   {
    "duration": 7,
    "start_time": "2022-05-01T23:25:39.227Z"
   },
   {
    "duration": 12,
    "start_time": "2022-05-01T23:25:39.236Z"
   },
   {
    "duration": 18,
    "start_time": "2022-05-01T23:25:39.250Z"
   },
   {
    "duration": 4,
    "start_time": "2022-05-01T23:28:05.982Z"
   },
   {
    "duration": 49,
    "start_time": "2022-05-02T03:45:23.646Z"
   },
   {
    "duration": 1432,
    "start_time": "2022-05-02T03:45:29.402Z"
   },
   {
    "duration": 126,
    "start_time": "2022-05-02T03:45:30.836Z"
   },
   {
    "duration": 11,
    "start_time": "2022-05-02T03:45:30.964Z"
   },
   {
    "duration": 15,
    "start_time": "2022-05-02T03:45:30.977Z"
   },
   {
    "duration": 13,
    "start_time": "2022-05-02T03:45:30.994Z"
   },
   {
    "duration": 17,
    "start_time": "2022-05-02T03:45:31.009Z"
   },
   {
    "duration": 12,
    "start_time": "2022-05-02T03:45:31.028Z"
   },
   {
    "duration": 22,
    "start_time": "2022-05-02T03:45:31.041Z"
   },
   {
    "duration": 15,
    "start_time": "2022-05-02T03:45:31.064Z"
   },
   {
    "duration": 9,
    "start_time": "2022-05-02T03:45:31.083Z"
   },
   {
    "duration": 32,
    "start_time": "2022-05-02T03:45:31.094Z"
   },
   {
    "duration": 12,
    "start_time": "2022-05-02T03:45:31.128Z"
   },
   {
    "duration": 12,
    "start_time": "2022-05-02T03:45:31.142Z"
   },
   {
    "duration": 17,
    "start_time": "2022-05-02T03:45:31.156Z"
   },
   {
    "duration": 17,
    "start_time": "2022-05-02T03:45:31.175Z"
   },
   {
    "duration": 15,
    "start_time": "2022-05-02T03:45:31.194Z"
   },
   {
    "duration": 11,
    "start_time": "2022-05-02T03:45:31.211Z"
   },
   {
    "duration": 5,
    "start_time": "2022-05-02T03:45:31.224Z"
   },
   {
    "duration": 10,
    "start_time": "2022-05-02T03:45:31.231Z"
   },
   {
    "duration": 7,
    "start_time": "2022-05-02T03:45:31.243Z"
   },
   {
    "duration": 11,
    "start_time": "2022-05-02T03:45:31.252Z"
   },
   {
    "duration": 7,
    "start_time": "2022-05-02T03:45:31.265Z"
   },
   {
    "duration": 8,
    "start_time": "2022-05-02T03:45:31.274Z"
   },
   {
    "duration": 6,
    "start_time": "2022-05-02T03:45:31.284Z"
   },
   {
    "duration": 5,
    "start_time": "2022-05-02T03:45:31.323Z"
   },
   {
    "duration": 5,
    "start_time": "2022-05-02T03:45:31.329Z"
   },
   {
    "duration": 13,
    "start_time": "2022-05-02T03:45:31.335Z"
   },
   {
    "duration": 4,
    "start_time": "2022-05-02T03:46:08.134Z"
   },
   {
    "duration": 65,
    "start_time": "2022-05-02T03:47:03.348Z"
   },
   {
    "duration": 4,
    "start_time": "2022-05-02T03:47:23.222Z"
   },
   {
    "duration": 5,
    "start_time": "2022-05-02T03:47:41.112Z"
   },
   {
    "duration": 3016,
    "start_time": "2022-05-02T04:23:02.537Z"
   },
   {
    "duration": 3883,
    "start_time": "2022-05-02T04:23:45.613Z"
   },
   {
    "duration": 3063,
    "start_time": "2022-05-02T04:25:33.878Z"
   },
   {
    "duration": 5,
    "start_time": "2022-05-02T04:25:41.552Z"
   },
   {
    "duration": 63,
    "start_time": "2022-05-02T04:25:41.559Z"
   },
   {
    "duration": 7,
    "start_time": "2022-05-02T04:25:41.624Z"
   },
   {
    "duration": 12,
    "start_time": "2022-05-02T04:25:41.632Z"
   },
   {
    "duration": 5,
    "start_time": "2022-05-02T04:25:41.646Z"
   },
   {
    "duration": 15,
    "start_time": "2022-05-02T04:25:41.652Z"
   },
   {
    "duration": 12,
    "start_time": "2022-05-02T04:25:41.668Z"
   },
   {
    "duration": 12,
    "start_time": "2022-05-02T04:25:41.682Z"
   },
   {
    "duration": 6,
    "start_time": "2022-05-02T04:25:41.695Z"
   },
   {
    "duration": 4,
    "start_time": "2022-05-02T04:25:41.723Z"
   },
   {
    "duration": 10,
    "start_time": "2022-05-02T04:25:41.729Z"
   },
   {
    "duration": 8,
    "start_time": "2022-05-02T04:25:41.741Z"
   },
   {
    "duration": 10,
    "start_time": "2022-05-02T04:25:41.750Z"
   },
   {
    "duration": 10,
    "start_time": "2022-05-02T04:25:41.761Z"
   },
   {
    "duration": 16,
    "start_time": "2022-05-02T04:25:41.772Z"
   },
   {
    "duration": 34,
    "start_time": "2022-05-02T04:25:41.789Z"
   },
   {
    "duration": 5,
    "start_time": "2022-05-02T04:25:41.825Z"
   },
   {
    "duration": 19,
    "start_time": "2022-05-02T04:25:41.831Z"
   },
   {
    "duration": 12,
    "start_time": "2022-05-02T04:25:41.852Z"
   },
   {
    "duration": 8,
    "start_time": "2022-05-02T04:25:41.866Z"
   },
   {
    "duration": 15,
    "start_time": "2022-05-02T04:25:41.876Z"
   },
   {
    "duration": 10,
    "start_time": "2022-05-02T04:25:41.893Z"
   },
   {
    "duration": 19,
    "start_time": "2022-05-02T04:25:41.905Z"
   },
   {
    "duration": 8,
    "start_time": "2022-05-02T04:25:41.926Z"
   },
   {
    "duration": 10,
    "start_time": "2022-05-02T04:25:41.936Z"
   },
   {
    "duration": 7,
    "start_time": "2022-05-02T04:25:41.948Z"
   },
   {
    "duration": 15,
    "start_time": "2022-05-02T04:25:41.956Z"
   },
   {
    "duration": 14,
    "start_time": "2022-05-02T04:25:41.972Z"
   },
   {
    "duration": 11,
    "start_time": "2022-05-02T04:25:41.988Z"
   },
   {
    "duration": 3217,
    "start_time": "2022-05-02T04:25:42.001Z"
   },
   {
    "duration": 0,
    "start_time": "2022-05-02T04:25:45.220Z"
   },
   {
    "duration": 3039,
    "start_time": "2022-05-02T04:26:26.446Z"
   },
   {
    "duration": 5,
    "start_time": "2022-05-02T04:26:46.340Z"
   },
   {
    "duration": 4,
    "start_time": "2022-05-02T04:27:27.297Z"
   },
   {
    "duration": 4,
    "start_time": "2022-05-02T04:27:38.097Z"
   },
   {
    "duration": 8,
    "start_time": "2022-05-02T04:30:30.837Z"
   },
   {
    "duration": 4,
    "start_time": "2022-05-02T04:30:37.998Z"
   },
   {
    "duration": 6,
    "start_time": "2022-05-02T04:30:40.205Z"
   },
   {
    "duration": 8,
    "start_time": "2022-05-02T04:31:13.277Z"
   },
   {
    "duration": 8,
    "start_time": "2022-05-02T04:34:50.818Z"
   },
   {
    "duration": 3015,
    "start_time": "2022-05-02T04:42:58.928Z"
   },
   {
    "duration": 4,
    "start_time": "2022-05-02T04:43:12.252Z"
   },
   {
    "duration": 8,
    "start_time": "2022-05-02T04:43:47.400Z"
   },
   {
    "duration": 4,
    "start_time": "2022-05-02T04:43:54.510Z"
   },
   {
    "duration": 4,
    "start_time": "2022-05-02T04:45:23.339Z"
   },
   {
    "duration": 3,
    "start_time": "2022-05-02T04:45:25.298Z"
   },
   {
    "duration": 9,
    "start_time": "2022-05-02T04:45:27.943Z"
   },
   {
    "duration": 9,
    "start_time": "2022-05-02T04:51:34.537Z"
   },
   {
    "duration": 9,
    "start_time": "2022-05-02T04:51:43.576Z"
   },
   {
    "duration": 9,
    "start_time": "2022-05-02T04:51:57.519Z"
   },
   {
    "duration": 7,
    "start_time": "2022-05-02T04:52:53.472Z"
   },
   {
    "duration": 8,
    "start_time": "2022-05-02T04:53:05.850Z"
   },
   {
    "duration": 7,
    "start_time": "2022-05-02T05:01:01.780Z"
   },
   {
    "duration": 8,
    "start_time": "2022-05-02T05:01:33.298Z"
   },
   {
    "duration": 8,
    "start_time": "2022-05-02T05:01:42.753Z"
   },
   {
    "duration": 9,
    "start_time": "2022-05-02T05:04:32.924Z"
   },
   {
    "duration": 74,
    "start_time": "2022-05-04T04:09:51.366Z"
   },
   {
    "duration": 1721,
    "start_time": "2022-05-04T04:09:55.416Z"
   },
   {
    "duration": 93,
    "start_time": "2022-05-04T04:09:57.140Z"
   },
   {
    "duration": 16,
    "start_time": "2022-05-04T04:09:57.235Z"
   },
   {
    "duration": 18,
    "start_time": "2022-05-04T04:09:57.254Z"
   },
   {
    "duration": 11,
    "start_time": "2022-05-04T04:09:57.275Z"
   },
   {
    "duration": 14,
    "start_time": "2022-05-04T04:09:57.288Z"
   },
   {
    "duration": 14,
    "start_time": "2022-05-04T04:09:57.304Z"
   },
   {
    "duration": 20,
    "start_time": "2022-05-04T04:09:57.320Z"
   },
   {
    "duration": 10,
    "start_time": "2022-05-04T04:09:57.342Z"
   },
   {
    "duration": 30,
    "start_time": "2022-05-04T04:09:57.356Z"
   },
   {
    "duration": 17,
    "start_time": "2022-05-04T04:09:57.388Z"
   },
   {
    "duration": 12,
    "start_time": "2022-05-04T04:09:57.407Z"
   },
   {
    "duration": 10,
    "start_time": "2022-05-04T04:09:57.421Z"
   },
   {
    "duration": 9,
    "start_time": "2022-05-04T04:09:57.433Z"
   },
   {
    "duration": 49,
    "start_time": "2022-05-04T04:09:57.444Z"
   },
   {
    "duration": 16,
    "start_time": "2022-05-04T04:09:57.495Z"
   },
   {
    "duration": 6,
    "start_time": "2022-05-04T04:09:57.513Z"
   },
   {
    "duration": 13,
    "start_time": "2022-05-04T04:09:57.520Z"
   },
   {
    "duration": 48,
    "start_time": "2022-05-04T04:09:57.535Z"
   },
   {
    "duration": 10,
    "start_time": "2022-05-04T04:09:57.585Z"
   },
   {
    "duration": 15,
    "start_time": "2022-05-04T04:09:57.597Z"
   },
   {
    "duration": 10,
    "start_time": "2022-05-04T04:09:57.615Z"
   },
   {
    "duration": 7,
    "start_time": "2022-05-04T04:09:57.627Z"
   },
   {
    "duration": 7,
    "start_time": "2022-05-04T04:09:57.636Z"
   },
   {
    "duration": 6,
    "start_time": "2022-05-04T04:09:57.682Z"
   },
   {
    "duration": 5,
    "start_time": "2022-05-04T04:09:57.690Z"
   },
   {
    "duration": 7,
    "start_time": "2022-05-04T04:09:57.697Z"
   },
   {
    "duration": 5,
    "start_time": "2022-05-04T04:09:57.709Z"
   },
   {
    "duration": 7,
    "start_time": "2022-05-04T04:09:57.716Z"
   },
   {
    "duration": 58,
    "start_time": "2022-05-04T04:09:57.726Z"
   },
   {
    "duration": 6,
    "start_time": "2022-05-04T04:09:57.786Z"
   },
   {
    "duration": 10,
    "start_time": "2022-05-04T04:09:57.794Z"
   },
   {
    "duration": 14,
    "start_time": "2022-05-04T04:09:57.806Z"
   },
   {
    "duration": 14,
    "start_time": "2022-05-04T04:09:57.823Z"
   },
   {
    "duration": 47,
    "start_time": "2022-05-04T04:09:57.839Z"
   },
   {
    "duration": 90,
    "start_time": "2022-05-04T04:10:24.081Z"
   },
   {
    "duration": 11,
    "start_time": "2022-05-04T04:10:32.811Z"
   },
   {
    "duration": 6,
    "start_time": "2022-05-04T04:10:57.380Z"
   },
   {
    "duration": 12,
    "start_time": "2022-05-04T04:11:11.060Z"
   },
   {
    "duration": 6,
    "start_time": "2022-05-04T04:11:18.920Z"
   },
   {
    "duration": 467,
    "start_time": "2022-05-04T04:19:42.874Z"
   },
   {
    "duration": 1507,
    "start_time": "2022-05-04T04:23:43.513Z"
   },
   {
    "duration": 39,
    "start_time": "2022-05-04T04:23:45.023Z"
   },
   {
    "duration": 16,
    "start_time": "2022-05-04T04:23:45.065Z"
   },
   {
    "duration": 16,
    "start_time": "2022-05-04T04:23:45.084Z"
   },
   {
    "duration": 12,
    "start_time": "2022-05-04T04:23:45.102Z"
   },
   {
    "duration": 15,
    "start_time": "2022-05-04T04:23:45.116Z"
   },
   {
    "duration": 14,
    "start_time": "2022-05-04T04:23:45.133Z"
   },
   {
    "duration": 16,
    "start_time": "2022-05-04T04:23:45.181Z"
   },
   {
    "duration": 11,
    "start_time": "2022-05-04T04:23:45.199Z"
   },
   {
    "duration": 6,
    "start_time": "2022-05-04T04:23:45.213Z"
   },
   {
    "duration": 14,
    "start_time": "2022-05-04T04:23:45.220Z"
   },
   {
    "duration": 47,
    "start_time": "2022-05-04T04:23:45.236Z"
   },
   {
    "duration": 14,
    "start_time": "2022-05-04T04:23:45.285Z"
   },
   {
    "duration": 7,
    "start_time": "2022-05-04T04:23:45.301Z"
   },
   {
    "duration": 18,
    "start_time": "2022-05-04T04:23:45.311Z"
   },
   {
    "duration": 14,
    "start_time": "2022-05-04T04:23:45.331Z"
   },
   {
    "duration": 6,
    "start_time": "2022-05-04T04:23:45.382Z"
   },
   {
    "duration": 10,
    "start_time": "2022-05-04T04:23:45.390Z"
   },
   {
    "duration": 12,
    "start_time": "2022-05-04T04:23:45.402Z"
   },
   {
    "duration": 10,
    "start_time": "2022-05-04T04:23:45.416Z"
   },
   {
    "duration": 54,
    "start_time": "2022-05-04T04:23:45.428Z"
   },
   {
    "duration": 11,
    "start_time": "2022-05-04T04:23:45.485Z"
   },
   {
    "duration": 7,
    "start_time": "2022-05-04T04:23:45.498Z"
   },
   {
    "duration": 6,
    "start_time": "2022-05-04T04:23:45.507Z"
   },
   {
    "duration": 8,
    "start_time": "2022-05-04T04:23:45.515Z"
   },
   {
    "duration": 6,
    "start_time": "2022-05-04T04:23:45.525Z"
   },
   {
    "duration": 8,
    "start_time": "2022-05-04T04:23:45.533Z"
   },
   {
    "duration": 6,
    "start_time": "2022-05-04T04:23:45.585Z"
   },
   {
    "duration": 7,
    "start_time": "2022-05-04T04:23:45.593Z"
   },
   {
    "duration": 13,
    "start_time": "2022-05-04T04:23:45.602Z"
   },
   {
    "duration": 6,
    "start_time": "2022-05-04T04:23:45.617Z"
   },
   {
    "duration": 7,
    "start_time": "2022-05-04T04:23:45.625Z"
   },
   {
    "duration": 50,
    "start_time": "2022-05-04T04:23:45.634Z"
   },
   {
    "duration": 17,
    "start_time": "2022-05-04T04:23:45.686Z"
   },
   {
    "duration": 21,
    "start_time": "2022-05-04T04:23:45.705Z"
   },
   {
    "duration": 571,
    "start_time": "2022-05-04T04:23:45.728Z"
   },
   {
    "duration": 0,
    "start_time": "2022-05-04T04:23:46.301Z"
   },
   {
    "duration": 0,
    "start_time": "2022-05-04T04:23:46.303Z"
   },
   {
    "duration": 684,
    "start_time": "2022-05-04T04:24:32.490Z"
   },
   {
    "duration": 392,
    "start_time": "2022-05-04T04:26:25.120Z"
   },
   {
    "duration": 3,
    "start_time": "2022-05-04T04:26:58.402Z"
   },
   {
    "duration": 6,
    "start_time": "2022-05-04T04:34:39.535Z"
   },
   {
    "duration": 5,
    "start_time": "2022-05-04T04:34:43.788Z"
   },
   {
    "duration": 42,
    "start_time": "2022-05-04T04:34:43.796Z"
   },
   {
    "duration": 11,
    "start_time": "2022-05-04T04:34:43.840Z"
   },
   {
    "duration": 17,
    "start_time": "2022-05-04T04:34:43.854Z"
   },
   {
    "duration": 7,
    "start_time": "2022-05-04T04:34:43.882Z"
   },
   {
    "duration": 16,
    "start_time": "2022-05-04T04:34:43.891Z"
   },
   {
    "duration": 12,
    "start_time": "2022-05-04T04:34:43.909Z"
   },
   {
    "duration": 16,
    "start_time": "2022-05-04T04:34:43.923Z"
   },
   {
    "duration": 45,
    "start_time": "2022-05-04T04:34:43.941Z"
   },
   {
    "duration": 5,
    "start_time": "2022-05-04T04:34:43.991Z"
   },
   {
    "duration": 14,
    "start_time": "2022-05-04T04:34:43.998Z"
   },
   {
    "duration": 13,
    "start_time": "2022-05-04T04:34:44.015Z"
   },
   {
    "duration": 4,
    "start_time": "2022-05-04T04:34:44.030Z"
   },
   {
    "duration": 47,
    "start_time": "2022-05-04T04:34:44.036Z"
   },
   {
    "duration": 15,
    "start_time": "2022-05-04T04:34:44.086Z"
   },
   {
    "duration": 12,
    "start_time": "2022-05-04T04:34:44.103Z"
   },
   {
    "duration": 12,
    "start_time": "2022-05-04T04:34:44.117Z"
   },
   {
    "duration": 11,
    "start_time": "2022-05-04T04:34:44.131Z"
   },
   {
    "duration": 49,
    "start_time": "2022-05-04T04:34:44.144Z"
   },
   {
    "duration": 15,
    "start_time": "2022-05-04T04:34:44.195Z"
   },
   {
    "duration": 18,
    "start_time": "2022-05-04T04:34:44.212Z"
   },
   {
    "duration": 22,
    "start_time": "2022-05-04T04:34:44.232Z"
   },
   {
    "duration": 27,
    "start_time": "2022-05-04T04:34:44.256Z"
   },
   {
    "duration": 7,
    "start_time": "2022-05-04T04:34:44.285Z"
   },
   {
    "duration": 9,
    "start_time": "2022-05-04T04:34:44.294Z"
   },
   {
    "duration": 7,
    "start_time": "2022-05-04T04:34:44.305Z"
   },
   {
    "duration": 7,
    "start_time": "2022-05-04T04:34:44.314Z"
   },
   {
    "duration": 10,
    "start_time": "2022-05-04T04:34:44.326Z"
   },
   {
    "duration": 7,
    "start_time": "2022-05-04T04:34:44.338Z"
   },
   {
    "duration": 39,
    "start_time": "2022-05-04T04:34:44.347Z"
   },
   {
    "duration": 7,
    "start_time": "2022-05-04T04:34:44.388Z"
   },
   {
    "duration": 7,
    "start_time": "2022-05-04T04:34:44.397Z"
   },
   {
    "duration": 13,
    "start_time": "2022-05-04T04:34:44.406Z"
   },
   {
    "duration": 16,
    "start_time": "2022-05-04T04:34:44.422Z"
   },
   {
    "duration": 50,
    "start_time": "2022-05-04T04:34:44.441Z"
   },
   {
    "duration": 388,
    "start_time": "2022-05-04T04:34:44.493Z"
   },
   {
    "duration": 0,
    "start_time": "2022-05-04T04:34:44.883Z"
   },
   {
    "duration": 0,
    "start_time": "2022-05-04T04:34:44.885Z"
   },
   {
    "duration": 395,
    "start_time": "2022-05-04T04:34:53.421Z"
   },
   {
    "duration": 464,
    "start_time": "2022-05-04T04:35:23.253Z"
   },
   {
    "duration": 398,
    "start_time": "2022-05-04T04:36:06.297Z"
   },
   {
    "duration": 391,
    "start_time": "2022-05-04T04:36:56.821Z"
   },
   {
    "duration": 6,
    "start_time": "2022-05-04T04:38:42.644Z"
   },
   {
    "duration": 5,
    "start_time": "2022-05-04T04:38:46.417Z"
   },
   {
    "duration": 40,
    "start_time": "2022-05-04T04:38:46.424Z"
   },
   {
    "duration": 10,
    "start_time": "2022-05-04T04:38:46.467Z"
   },
   {
    "duration": 15,
    "start_time": "2022-05-04T04:38:46.480Z"
   },
   {
    "duration": 11,
    "start_time": "2022-05-04T04:38:46.497Z"
   },
   {
    "duration": 12,
    "start_time": "2022-05-04T04:38:46.510Z"
   },
   {
    "duration": 13,
    "start_time": "2022-05-04T04:38:46.524Z"
   },
   {
    "duration": 50,
    "start_time": "2022-05-04T04:38:46.539Z"
   },
   {
    "duration": 10,
    "start_time": "2022-05-04T04:38:46.592Z"
   },
   {
    "duration": 9,
    "start_time": "2022-05-04T04:38:46.604Z"
   },
   {
    "duration": 16,
    "start_time": "2022-05-04T04:38:46.615Z"
   },
   {
    "duration": 22,
    "start_time": "2022-05-04T04:38:46.633Z"
   },
   {
    "duration": 26,
    "start_time": "2022-05-04T04:38:46.657Z"
   },
   {
    "duration": 8,
    "start_time": "2022-05-04T04:38:46.685Z"
   },
   {
    "duration": 17,
    "start_time": "2022-05-04T04:38:46.694Z"
   },
   {
    "duration": 12,
    "start_time": "2022-05-04T04:38:46.713Z"
   },
   {
    "duration": 7,
    "start_time": "2022-05-04T04:38:46.727Z"
   },
   {
    "duration": 50,
    "start_time": "2022-05-04T04:38:46.736Z"
   },
   {
    "duration": 16,
    "start_time": "2022-05-04T04:38:46.788Z"
   },
   {
    "duration": 10,
    "start_time": "2022-05-04T04:38:46.807Z"
   },
   {
    "duration": 17,
    "start_time": "2022-05-04T04:38:46.819Z"
   },
   {
    "duration": 9,
    "start_time": "2022-05-04T04:38:46.838Z"
   },
   {
    "duration": 6,
    "start_time": "2022-05-04T04:38:46.881Z"
   },
   {
    "duration": 3,
    "start_time": "2022-05-04T04:38:46.892Z"
   },
   {
    "duration": 7,
    "start_time": "2022-05-04T04:38:46.898Z"
   },
   {
    "duration": 5,
    "start_time": "2022-05-04T04:38:46.907Z"
   },
   {
    "duration": 7,
    "start_time": "2022-05-04T04:38:46.915Z"
   },
   {
    "duration": 9,
    "start_time": "2022-05-04T04:38:46.924Z"
   },
   {
    "duration": 49,
    "start_time": "2022-05-04T04:38:46.935Z"
   },
   {
    "duration": 18,
    "start_time": "2022-05-04T04:38:46.988Z"
   },
   {
    "duration": 8,
    "start_time": "2022-05-04T04:38:47.009Z"
   },
   {
    "duration": 7,
    "start_time": "2022-05-04T04:38:47.019Z"
   },
   {
    "duration": 13,
    "start_time": "2022-05-04T04:38:47.029Z"
   },
   {
    "duration": 46,
    "start_time": "2022-05-04T04:38:47.045Z"
   },
   {
    "duration": 13,
    "start_time": "2022-05-04T04:38:47.093Z"
   },
   {
    "duration": 19,
    "start_time": "2022-05-04T04:38:47.108Z"
   },
   {
    "duration": 16,
    "start_time": "2022-05-04T04:38:47.129Z"
   },
   {
    "duration": 37,
    "start_time": "2022-05-04T04:38:47.147Z"
   },
   {
    "duration": 11,
    "start_time": "2022-05-04T04:39:03.081Z"
   },
   {
    "duration": 532,
    "start_time": "2022-05-04T04:39:11.137Z"
   },
   {
    "duration": 7,
    "start_time": "2022-05-04T04:39:45.532Z"
   },
   {
    "duration": 390,
    "start_time": "2022-05-04T04:40:18.529Z"
   },
   {
    "duration": 451,
    "start_time": "2022-05-04T04:40:35.239Z"
   },
   {
    "duration": 1505,
    "start_time": "2022-05-04T04:42:13.910Z"
   },
   {
    "duration": 38,
    "start_time": "2022-05-04T04:42:15.418Z"
   },
   {
    "duration": 16,
    "start_time": "2022-05-04T04:42:15.459Z"
   },
   {
    "duration": 20,
    "start_time": "2022-05-04T04:42:15.478Z"
   },
   {
    "duration": 12,
    "start_time": "2022-05-04T04:42:15.500Z"
   },
   {
    "duration": 20,
    "start_time": "2022-05-04T04:42:15.514Z"
   },
   {
    "duration": 13,
    "start_time": "2022-05-04T04:42:15.537Z"
   },
   {
    "duration": 37,
    "start_time": "2022-05-04T04:42:15.552Z"
   },
   {
    "duration": 9,
    "start_time": "2022-05-04T04:42:15.591Z"
   },
   {
    "duration": 5,
    "start_time": "2022-05-04T04:42:15.604Z"
   },
   {
    "duration": 20,
    "start_time": "2022-05-04T04:42:15.612Z"
   },
   {
    "duration": 18,
    "start_time": "2022-05-04T04:42:15.634Z"
   },
   {
    "duration": 4,
    "start_time": "2022-05-04T04:42:15.683Z"
   },
   {
    "duration": 10,
    "start_time": "2022-05-04T04:42:15.689Z"
   },
   {
    "duration": 18,
    "start_time": "2022-05-04T04:42:15.702Z"
   },
   {
    "duration": 18,
    "start_time": "2022-05-04T04:42:15.723Z"
   },
   {
    "duration": 39,
    "start_time": "2022-05-04T04:42:15.743Z"
   },
   {
    "duration": 11,
    "start_time": "2022-05-04T04:42:15.785Z"
   },
   {
    "duration": 16,
    "start_time": "2022-05-04T04:42:15.798Z"
   },
   {
    "duration": 13,
    "start_time": "2022-05-04T04:42:15.816Z"
   },
   {
    "duration": 15,
    "start_time": "2022-05-04T04:42:15.831Z"
   },
   {
    "duration": 40,
    "start_time": "2022-05-04T04:42:15.848Z"
   },
   {
    "duration": 9,
    "start_time": "2022-05-04T04:42:15.890Z"
   },
   {
    "duration": 6,
    "start_time": "2022-05-04T04:42:15.900Z"
   },
   {
    "duration": 11,
    "start_time": "2022-05-04T04:42:15.908Z"
   },
   {
    "duration": 9,
    "start_time": "2022-05-04T04:42:15.921Z"
   },
   {
    "duration": 10,
    "start_time": "2022-05-04T04:42:15.932Z"
   },
   {
    "duration": 5,
    "start_time": "2022-05-04T04:42:15.947Z"
   },
   {
    "duration": 5,
    "start_time": "2022-05-04T04:42:15.982Z"
   },
   {
    "duration": 15,
    "start_time": "2022-05-04T04:42:15.989Z"
   },
   {
    "duration": 8,
    "start_time": "2022-05-04T04:42:16.006Z"
   },
   {
    "duration": 20,
    "start_time": "2022-05-04T04:42:16.016Z"
   },
   {
    "duration": 14,
    "start_time": "2022-05-04T04:42:16.039Z"
   },
   {
    "duration": 34,
    "start_time": "2022-05-04T04:42:16.056Z"
   },
   {
    "duration": 16,
    "start_time": "2022-05-04T04:42:16.092Z"
   },
   {
    "duration": 15,
    "start_time": "2022-05-04T04:42:16.111Z"
   },
   {
    "duration": 19,
    "start_time": "2022-05-04T04:42:59.399Z"
   },
   {
    "duration": 6,
    "start_time": "2022-05-04T04:43:01.739Z"
   },
   {
    "duration": 6,
    "start_time": "2022-05-04T04:43:29.432Z"
   },
   {
    "duration": 6,
    "start_time": "2022-05-04T04:43:32.789Z"
   },
   {
    "duration": 13,
    "start_time": "2022-05-04T04:47:48.401Z"
   },
   {
    "duration": 12,
    "start_time": "2022-05-04T04:47:52.105Z"
   },
   {
    "duration": 8,
    "start_time": "2022-05-04T04:49:30.139Z"
   },
   {
    "duration": 167,
    "start_time": "2022-05-04T04:56:00.588Z"
   },
   {
    "duration": 35,
    "start_time": "2022-05-04T04:56:18.080Z"
   },
   {
    "duration": 98,
    "start_time": "2022-05-04T05:11:37.153Z"
   },
   {
    "duration": 414,
    "start_time": "2022-05-04T05:15:09.630Z"
   },
   {
    "duration": 216,
    "start_time": "2022-05-04T05:18:50.744Z"
   },
   {
    "duration": 334,
    "start_time": "2022-05-04T05:19:09.949Z"
   },
   {
    "duration": 332,
    "start_time": "2022-05-04T05:19:25.574Z"
   },
   {
    "duration": 228,
    "start_time": "2022-05-04T05:19:45.455Z"
   },
   {
    "duration": 12,
    "start_time": "2022-05-04T05:23:14.414Z"
   },
   {
    "duration": 20,
    "start_time": "2022-05-04T05:23:38.660Z"
   },
   {
    "duration": 9,
    "start_time": "2022-05-04T05:24:45.377Z"
   },
   {
    "duration": 14,
    "start_time": "2022-05-04T05:24:52.712Z"
   },
   {
    "duration": 28,
    "start_time": "2022-05-04T05:25:14.483Z"
   },
   {
    "duration": 19,
    "start_time": "2022-05-04T05:28:06.244Z"
   },
   {
    "duration": 17,
    "start_time": "2022-05-04T05:28:26.283Z"
   },
   {
    "duration": 15,
    "start_time": "2022-05-04T05:30:23.175Z"
   },
   {
    "duration": 14,
    "start_time": "2022-05-04T05:30:34.152Z"
   },
   {
    "duration": 6,
    "start_time": "2022-05-04T05:30:41.621Z"
   },
   {
    "duration": 7,
    "start_time": "2022-05-04T05:30:46.122Z"
   },
   {
    "duration": 19,
    "start_time": "2022-05-04T05:31:44.486Z"
   },
   {
    "duration": 14,
    "start_time": "2022-05-04T05:32:02.330Z"
   },
   {
    "duration": 13,
    "start_time": "2022-05-04T05:32:07.248Z"
   },
   {
    "duration": 521,
    "start_time": "2022-05-04T05:33:15.530Z"
   },
   {
    "duration": 273,
    "start_time": "2022-05-04T05:33:34.876Z"
   },
   {
    "duration": 259,
    "start_time": "2022-05-04T05:42:08.505Z"
   },
   {
    "duration": 10,
    "start_time": "2022-05-04T05:46:27.726Z"
   },
   {
    "duration": 360,
    "start_time": "2022-05-04T05:47:00.688Z"
   },
   {
    "duration": 20,
    "start_time": "2022-05-04T05:47:35.866Z"
   },
   {
    "duration": 355,
    "start_time": "2022-05-04T05:48:07.387Z"
   },
   {
    "duration": 13,
    "start_time": "2022-05-04T05:50:37.087Z"
   },
   {
    "duration": 1839,
    "start_time": "2022-05-04T05:52:40.440Z"
   },
   {
    "duration": 8,
    "start_time": "2022-05-04T05:53:51.066Z"
   },
   {
    "duration": 17,
    "start_time": "2022-05-04T05:53:55.921Z"
   },
   {
    "duration": 8,
    "start_time": "2022-05-04T05:54:36.616Z"
   },
   {
    "duration": 8,
    "start_time": "2022-05-04T05:54:51.780Z"
   },
   {
    "duration": 20,
    "start_time": "2022-05-04T05:55:17.088Z"
   },
   {
    "duration": 12,
    "start_time": "2022-05-04T05:55:42.697Z"
   },
   {
    "duration": 19,
    "start_time": "2022-05-04T05:56:13.075Z"
   },
   {
    "duration": 344,
    "start_time": "2022-05-04T05:57:08.941Z"
   },
   {
    "duration": 1365,
    "start_time": "2022-05-04T17:55:47.993Z"
   },
   {
    "duration": 97,
    "start_time": "2022-05-04T17:55:49.359Z"
   },
   {
    "duration": 18,
    "start_time": "2022-05-04T17:55:49.458Z"
   },
   {
    "duration": 12,
    "start_time": "2022-05-04T17:55:49.479Z"
   },
   {
    "duration": 12,
    "start_time": "2022-05-04T17:55:49.492Z"
   },
   {
    "duration": 36,
    "start_time": "2022-05-04T17:55:49.505Z"
   },
   {
    "duration": 10,
    "start_time": "2022-05-04T17:55:49.543Z"
   },
   {
    "duration": 13,
    "start_time": "2022-05-04T17:55:49.555Z"
   },
   {
    "duration": 6,
    "start_time": "2022-05-04T17:55:49.569Z"
   },
   {
    "duration": 5,
    "start_time": "2022-05-04T17:55:49.579Z"
   },
   {
    "duration": 37,
    "start_time": "2022-05-04T17:55:49.585Z"
   },
   {
    "duration": 16,
    "start_time": "2022-05-04T17:55:49.624Z"
   },
   {
    "duration": 17,
    "start_time": "2022-05-04T17:55:49.641Z"
   },
   {
    "duration": 6,
    "start_time": "2022-05-04T17:55:49.660Z"
   },
   {
    "duration": 13,
    "start_time": "2022-05-04T17:55:49.668Z"
   },
   {
    "duration": 31,
    "start_time": "2022-05-04T17:55:49.683Z"
   },
   {
    "duration": 6,
    "start_time": "2022-05-04T17:55:49.722Z"
   },
   {
    "duration": 6,
    "start_time": "2022-05-04T17:55:49.730Z"
   },
   {
    "duration": 13,
    "start_time": "2022-05-04T17:55:49.738Z"
   },
   {
    "duration": 8,
    "start_time": "2022-05-04T17:55:49.752Z"
   },
   {
    "duration": 11,
    "start_time": "2022-05-04T17:55:49.762Z"
   },
   {
    "duration": 7,
    "start_time": "2022-05-04T17:55:49.775Z"
   },
   {
    "duration": 18,
    "start_time": "2022-05-04T17:55:49.809Z"
   },
   {
    "duration": 8,
    "start_time": "2022-05-04T17:55:49.833Z"
   },
   {
    "duration": 6,
    "start_time": "2022-05-04T17:55:49.845Z"
   },
   {
    "duration": 4,
    "start_time": "2022-05-04T17:55:49.853Z"
   },
   {
    "duration": 6,
    "start_time": "2022-05-04T17:55:49.859Z"
   },
   {
    "duration": 4,
    "start_time": "2022-05-04T17:55:49.869Z"
   },
   {
    "duration": 5,
    "start_time": "2022-05-04T17:55:49.875Z"
   },
   {
    "duration": 44,
    "start_time": "2022-05-04T17:55:49.882Z"
   },
   {
    "duration": 7,
    "start_time": "2022-05-04T17:55:49.928Z"
   },
   {
    "duration": 7,
    "start_time": "2022-05-04T17:55:49.936Z"
   },
   {
    "duration": 13,
    "start_time": "2022-05-04T17:55:49.945Z"
   },
   {
    "duration": 13,
    "start_time": "2022-05-04T17:55:49.960Z"
   },
   {
    "duration": 575,
    "start_time": "2022-05-04T17:55:49.975Z"
   },
   {
    "duration": 0,
    "start_time": "2022-05-04T17:55:50.552Z"
   },
   {
    "duration": 0,
    "start_time": "2022-05-04T17:55:50.554Z"
   },
   {
    "duration": 0,
    "start_time": "2022-05-04T17:55:50.556Z"
   },
   {
    "duration": 0,
    "start_time": "2022-05-04T17:55:50.559Z"
   },
   {
    "duration": 0,
    "start_time": "2022-05-04T17:55:50.561Z"
   },
   {
    "duration": 0,
    "start_time": "2022-05-04T17:55:50.563Z"
   },
   {
    "duration": 0,
    "start_time": "2022-05-04T17:55:50.565Z"
   },
   {
    "duration": 0,
    "start_time": "2022-05-04T17:55:50.567Z"
   },
   {
    "duration": 0,
    "start_time": "2022-05-04T17:55:50.569Z"
   },
   {
    "duration": 0,
    "start_time": "2022-05-04T17:55:50.571Z"
   },
   {
    "duration": 0,
    "start_time": "2022-05-04T17:55:50.572Z"
   },
   {
    "duration": 0,
    "start_time": "2022-05-04T17:55:50.575Z"
   },
   {
    "duration": 0,
    "start_time": "2022-05-04T17:55:50.576Z"
   },
   {
    "duration": 0,
    "start_time": "2022-05-04T17:55:50.579Z"
   },
   {
    "duration": 0,
    "start_time": "2022-05-04T17:55:50.580Z"
   },
   {
    "duration": 5,
    "start_time": "2022-05-04T17:56:45.693Z"
   },
   {
    "duration": 6,
    "start_time": "2022-05-04T17:56:56.042Z"
   },
   {
    "duration": 8,
    "start_time": "2022-05-04T17:58:48.941Z"
   },
   {
    "duration": 14,
    "start_time": "2022-05-04T18:00:28.398Z"
   },
   {
    "duration": 13,
    "start_time": "2022-05-04T18:00:34.629Z"
   },
   {
    "duration": 7,
    "start_time": "2022-05-04T18:00:44.943Z"
   },
   {
    "duration": 7,
    "start_time": "2022-05-04T18:01:18.251Z"
   },
   {
    "duration": 6,
    "start_time": "2022-05-04T18:01:47.558Z"
   },
   {
    "duration": 19,
    "start_time": "2022-05-04T18:02:38.099Z"
   },
   {
    "duration": 12,
    "start_time": "2022-05-04T18:05:11.595Z"
   },
   {
    "duration": 1212,
    "start_time": "2022-05-04T18:10:14.426Z"
   },
   {
    "duration": 35,
    "start_time": "2022-05-04T18:10:15.640Z"
   },
   {
    "duration": 12,
    "start_time": "2022-05-04T18:10:15.677Z"
   },
   {
    "duration": 14,
    "start_time": "2022-05-04T18:10:15.692Z"
   },
   {
    "duration": 8,
    "start_time": "2022-05-04T18:10:15.714Z"
   },
   {
    "duration": 9,
    "start_time": "2022-05-04T18:10:15.724Z"
   },
   {
    "duration": 11,
    "start_time": "2022-05-04T18:10:15.735Z"
   },
   {
    "duration": 11,
    "start_time": "2022-05-04T18:10:15.748Z"
   },
   {
    "duration": 8,
    "start_time": "2022-05-04T18:10:15.761Z"
   },
   {
    "duration": 42,
    "start_time": "2022-05-04T18:10:15.772Z"
   },
   {
    "duration": 13,
    "start_time": "2022-05-04T18:10:15.816Z"
   },
   {
    "duration": 12,
    "start_time": "2022-05-04T18:10:15.830Z"
   },
   {
    "duration": 13,
    "start_time": "2022-05-04T18:10:15.844Z"
   },
   {
    "duration": 8,
    "start_time": "2022-05-04T18:10:15.859Z"
   },
   {
    "duration": 14,
    "start_time": "2022-05-04T18:10:15.868Z"
   },
   {
    "duration": 40,
    "start_time": "2022-05-04T18:10:15.883Z"
   },
   {
    "duration": 5,
    "start_time": "2022-05-04T18:10:15.925Z"
   },
   {
    "duration": 8,
    "start_time": "2022-05-04T18:10:15.932Z"
   },
   {
    "duration": 14,
    "start_time": "2022-05-04T18:10:15.942Z"
   },
   {
    "duration": 9,
    "start_time": "2022-05-04T18:10:15.958Z"
   },
   {
    "duration": 41,
    "start_time": "2022-05-04T18:10:15.969Z"
   },
   {
    "duration": 13,
    "start_time": "2022-05-04T18:10:16.012Z"
   },
   {
    "duration": 7,
    "start_time": "2022-05-04T18:10:16.027Z"
   },
   {
    "duration": 10,
    "start_time": "2022-05-04T18:10:16.036Z"
   },
   {
    "duration": 7,
    "start_time": "2022-05-04T18:10:16.048Z"
   },
   {
    "duration": 3,
    "start_time": "2022-05-04T18:10:16.057Z"
   },
   {
    "duration": 7,
    "start_time": "2022-05-04T18:10:16.062Z"
   },
   {
    "duration": 6,
    "start_time": "2022-05-04T18:10:16.074Z"
   },
   {
    "duration": 29,
    "start_time": "2022-05-04T18:10:16.082Z"
   },
   {
    "duration": 13,
    "start_time": "2022-05-04T18:10:16.112Z"
   },
   {
    "duration": 6,
    "start_time": "2022-05-04T18:10:16.127Z"
   },
   {
    "duration": 7,
    "start_time": "2022-05-04T18:10:16.134Z"
   },
   {
    "duration": 11,
    "start_time": "2022-05-04T18:10:16.143Z"
   },
   {
    "duration": 14,
    "start_time": "2022-05-04T18:10:16.155Z"
   },
   {
    "duration": 152,
    "start_time": "2022-05-04T18:10:16.171Z"
   },
   {
    "duration": 1,
    "start_time": "2022-05-04T18:10:16.324Z"
   },
   {
    "duration": 0,
    "start_time": "2022-05-04T18:10:16.326Z"
   },
   {
    "duration": 0,
    "start_time": "2022-05-04T18:10:16.327Z"
   },
   {
    "duration": 0,
    "start_time": "2022-05-04T18:10:16.328Z"
   },
   {
    "duration": 0,
    "start_time": "2022-05-04T18:10:16.329Z"
   },
   {
    "duration": 0,
    "start_time": "2022-05-04T18:10:16.330Z"
   },
   {
    "duration": 0,
    "start_time": "2022-05-04T18:10:16.331Z"
   },
   {
    "duration": 0,
    "start_time": "2022-05-04T18:10:16.332Z"
   },
   {
    "duration": 0,
    "start_time": "2022-05-04T18:10:16.333Z"
   },
   {
    "duration": 0,
    "start_time": "2022-05-04T18:10:16.334Z"
   },
   {
    "duration": 0,
    "start_time": "2022-05-04T18:10:16.336Z"
   },
   {
    "duration": 0,
    "start_time": "2022-05-04T18:10:16.337Z"
   },
   {
    "duration": 0,
    "start_time": "2022-05-04T18:10:16.337Z"
   },
   {
    "duration": 0,
    "start_time": "2022-05-04T18:10:16.339Z"
   },
   {
    "duration": 0,
    "start_time": "2022-05-04T18:10:16.340Z"
   },
   {
    "duration": 0,
    "start_time": "2022-05-04T18:10:16.341Z"
   },
   {
    "duration": 11,
    "start_time": "2022-05-04T18:10:39.853Z"
   },
   {
    "duration": 7,
    "start_time": "2022-05-04T18:10:44.143Z"
   },
   {
    "duration": 16,
    "start_time": "2022-05-04T18:10:56.715Z"
   },
   {
    "duration": 1465,
    "start_time": "2022-05-04T18:12:06.895Z"
   },
   {
    "duration": 8,
    "start_time": "2022-05-04T18:12:55.072Z"
   },
   {
    "duration": 11,
    "start_time": "2022-05-04T18:14:28.967Z"
   },
   {
    "duration": 14,
    "start_time": "2022-05-04T18:14:32.460Z"
   },
   {
    "duration": 11,
    "start_time": "2022-05-04T18:19:36.534Z"
   },
   {
    "duration": 5,
    "start_time": "2022-05-04T18:19:43.988Z"
   },
   {
    "duration": 43,
    "start_time": "2022-05-04T18:19:43.995Z"
   },
   {
    "duration": 9,
    "start_time": "2022-05-04T18:19:44.041Z"
   },
   {
    "duration": 12,
    "start_time": "2022-05-04T18:19:44.052Z"
   },
   {
    "duration": 8,
    "start_time": "2022-05-04T18:19:44.066Z"
   },
   {
    "duration": 33,
    "start_time": "2022-05-04T18:19:44.076Z"
   },
   {
    "duration": 15,
    "start_time": "2022-05-04T18:19:44.112Z"
   },
   {
    "duration": 14,
    "start_time": "2022-05-04T18:19:44.129Z"
   },
   {
    "duration": 9,
    "start_time": "2022-05-04T18:19:44.145Z"
   },
   {
    "duration": 7,
    "start_time": "2022-05-04T18:19:44.156Z"
   },
   {
    "duration": 54,
    "start_time": "2022-05-04T18:19:44.166Z"
   },
   {
    "duration": 11,
    "start_time": "2022-05-04T18:19:44.222Z"
   },
   {
    "duration": 13,
    "start_time": "2022-05-04T18:19:44.235Z"
   },
   {
    "duration": 7,
    "start_time": "2022-05-04T18:19:44.250Z"
   },
   {
    "duration": 14,
    "start_time": "2022-05-04T18:19:44.259Z"
   },
   {
    "duration": 37,
    "start_time": "2022-05-04T18:19:44.275Z"
   },
   {
    "duration": 5,
    "start_time": "2022-05-04T18:19:44.315Z"
   },
   {
    "duration": 9,
    "start_time": "2022-05-04T18:19:44.322Z"
   },
   {
    "duration": 11,
    "start_time": "2022-05-04T18:19:44.332Z"
   },
   {
    "duration": 8,
    "start_time": "2022-05-04T18:19:44.344Z"
   },
   {
    "duration": 10,
    "start_time": "2022-05-04T18:19:44.354Z"
   },
   {
    "duration": 49,
    "start_time": "2022-05-04T18:19:44.366Z"
   },
   {
    "duration": 19,
    "start_time": "2022-05-04T18:19:44.417Z"
   },
   {
    "duration": 4,
    "start_time": "2022-05-04T18:19:44.439Z"
   },
   {
    "duration": 6,
    "start_time": "2022-05-04T18:19:44.446Z"
   },
   {
    "duration": 5,
    "start_time": "2022-05-04T18:19:44.453Z"
   },
   {
    "duration": 6,
    "start_time": "2022-05-04T18:19:44.460Z"
   },
   {
    "duration": 6,
    "start_time": "2022-05-04T18:19:44.468Z"
   },
   {
    "duration": 9,
    "start_time": "2022-05-04T18:19:44.511Z"
   },
   {
    "duration": 11,
    "start_time": "2022-05-04T18:19:44.522Z"
   },
   {
    "duration": 6,
    "start_time": "2022-05-04T18:19:44.535Z"
   },
   {
    "duration": 6,
    "start_time": "2022-05-04T18:19:44.543Z"
   },
   {
    "duration": 10,
    "start_time": "2022-05-04T18:19:44.551Z"
   },
   {
    "duration": 13,
    "start_time": "2022-05-04T18:19:44.562Z"
   },
   {
    "duration": 45,
    "start_time": "2022-05-04T18:19:44.577Z"
   },
   {
    "duration": 11,
    "start_time": "2022-05-04T18:19:44.624Z"
   },
   {
    "duration": 14,
    "start_time": "2022-05-04T18:19:44.637Z"
   },
   {
    "duration": 20,
    "start_time": "2022-05-04T18:19:44.653Z"
   },
   {
    "duration": 253,
    "start_time": "2022-05-04T18:19:44.676Z"
   },
   {
    "duration": 159,
    "start_time": "2022-05-04T18:19:44.931Z"
   },
   {
    "duration": 24,
    "start_time": "2022-05-04T18:19:45.093Z"
   },
   {
    "duration": 16,
    "start_time": "2022-05-04T18:19:45.119Z"
   },
   {
    "duration": 17,
    "start_time": "2022-05-04T18:19:45.137Z"
   },
   {
    "duration": 14,
    "start_time": "2022-05-04T18:19:45.157Z"
   },
   {
    "duration": 382,
    "start_time": "2022-05-04T18:19:45.172Z"
   },
   {
    "duration": 225,
    "start_time": "2022-05-04T18:19:45.556Z"
   },
   {
    "duration": 14,
    "start_time": "2022-05-04T18:19:45.784Z"
   },
   {
    "duration": 305,
    "start_time": "2022-05-04T18:19:45.811Z"
   },
   {
    "duration": 16,
    "start_time": "2022-05-04T18:19:46.119Z"
   },
   {
    "duration": 17,
    "start_time": "2022-05-04T18:19:46.137Z"
   },
   {
    "duration": 0,
    "start_time": "2022-05-04T18:19:46.155Z"
   },
   {
    "duration": 359,
    "start_time": "2022-05-04T18:20:34.819Z"
   },
   {
    "duration": 13,
    "start_time": "2022-05-04T18:21:38.747Z"
   },
   {
    "duration": 2,
    "start_time": "2022-05-04T18:25:49.014Z"
   },
   {
    "duration": 19,
    "start_time": "2022-05-04T18:34:15.612Z"
   },
   {
    "duration": 2,
    "start_time": "2022-05-04T18:35:19.628Z"
   },
   {
    "duration": 19,
    "start_time": "2022-05-04T19:39:36.830Z"
   },
   {
    "duration": 14,
    "start_time": "2022-05-04T19:39:40.282Z"
   },
   {
    "duration": 78,
    "start_time": "2022-05-04T19:52:02.882Z"
   },
   {
    "duration": 21,
    "start_time": "2022-05-04T19:52:09.796Z"
   },
   {
    "duration": 19,
    "start_time": "2022-05-04T19:52:21.424Z"
   },
   {
    "duration": 18,
    "start_time": "2022-05-04T19:53:05.664Z"
   },
   {
    "duration": 23,
    "start_time": "2022-05-04T19:58:08.512Z"
   },
   {
    "duration": 21,
    "start_time": "2022-05-04T19:58:52.324Z"
   },
   {
    "duration": 6,
    "start_time": "2022-05-04T19:59:00.620Z"
   },
   {
    "duration": 16,
    "start_time": "2022-05-04T19:59:27.589Z"
   },
   {
    "duration": 13,
    "start_time": "2022-05-04T19:59:39.430Z"
   },
   {
    "duration": 19,
    "start_time": "2022-05-04T20:00:45.380Z"
   },
   {
    "duration": 14,
    "start_time": "2022-05-04T20:03:29.109Z"
   },
   {
    "duration": 10,
    "start_time": "2022-05-04T20:04:36.694Z"
   },
   {
    "duration": 298,
    "start_time": "2022-05-04T20:04:51.050Z"
   },
   {
    "duration": 18,
    "start_time": "2022-05-04T20:05:14.780Z"
   },
   {
    "duration": 253,
    "start_time": "2022-05-04T20:07:10.903Z"
   },
   {
    "duration": 219,
    "start_time": "2022-05-04T20:07:40.508Z"
   },
   {
    "duration": 226,
    "start_time": "2022-05-04T20:07:53.985Z"
   },
   {
    "duration": 354,
    "start_time": "2022-05-04T20:10:20.290Z"
   },
   {
    "duration": 61,
    "start_time": "2022-05-04T20:46:45.722Z"
   },
   {
    "duration": 5,
    "start_time": "2022-05-04T20:53:31.151Z"
   },
   {
    "duration": 5,
    "start_time": "2022-05-04T20:54:26.071Z"
   },
   {
    "duration": 20,
    "start_time": "2022-05-04T20:59:26.598Z"
   },
   {
    "duration": 9,
    "start_time": "2022-05-04T21:01:02.134Z"
   },
   {
    "duration": 8,
    "start_time": "2022-05-04T21:01:33.395Z"
   },
   {
    "duration": 12,
    "start_time": "2022-05-04T21:03:55.627Z"
   },
   {
    "duration": 4,
    "start_time": "2022-05-04T21:04:13.685Z"
   },
   {
    "duration": 20,
    "start_time": "2022-05-04T21:04:28.116Z"
   },
   {
    "duration": 8,
    "start_time": "2022-05-04T21:04:37.528Z"
   },
   {
    "duration": 10,
    "start_time": "2022-05-04T21:08:35.921Z"
   },
   {
    "duration": 8,
    "start_time": "2022-05-04T21:09:06.048Z"
   },
   {
    "duration": 10,
    "start_time": "2022-05-04T21:09:20.394Z"
   },
   {
    "duration": 1926,
    "start_time": "2022-05-04T21:15:46.248Z"
   },
   {
    "duration": 1969,
    "start_time": "2022-05-04T21:17:24.228Z"
   },
   {
    "duration": 1900,
    "start_time": "2022-05-04T21:21:53.585Z"
   },
   {
    "duration": 2010,
    "start_time": "2022-05-04T21:22:27.255Z"
   },
   {
    "duration": 2010,
    "start_time": "2022-05-04T21:22:49.173Z"
   },
   {
    "duration": 1275,
    "start_time": "2022-05-04T21:28:24.686Z"
   },
   {
    "duration": 41,
    "start_time": "2022-05-04T21:28:25.963Z"
   },
   {
    "duration": 15,
    "start_time": "2022-05-04T21:28:26.006Z"
   },
   {
    "duration": 13,
    "start_time": "2022-05-04T21:28:26.023Z"
   },
   {
    "duration": 7,
    "start_time": "2022-05-04T21:28:26.037Z"
   },
   {
    "duration": 9,
    "start_time": "2022-05-04T21:28:26.045Z"
   },
   {
    "duration": 10,
    "start_time": "2022-05-04T21:28:26.055Z"
   },
   {
    "duration": 48,
    "start_time": "2022-05-04T21:28:26.066Z"
   },
   {
    "duration": 9,
    "start_time": "2022-05-04T21:28:26.116Z"
   },
   {
    "duration": 5,
    "start_time": "2022-05-04T21:28:26.127Z"
   },
   {
    "duration": 9,
    "start_time": "2022-05-04T21:28:26.133Z"
   },
   {
    "duration": 9,
    "start_time": "2022-05-04T21:28:26.144Z"
   },
   {
    "duration": 14,
    "start_time": "2022-05-04T21:28:26.154Z"
   },
   {
    "duration": 43,
    "start_time": "2022-05-04T21:28:26.169Z"
   },
   {
    "duration": 12,
    "start_time": "2022-05-04T21:28:26.215Z"
   },
   {
    "duration": 8,
    "start_time": "2022-05-04T21:28:26.229Z"
   },
   {
    "duration": 4,
    "start_time": "2022-05-04T21:28:26.239Z"
   },
   {
    "duration": 6,
    "start_time": "2022-05-04T21:28:26.244Z"
   },
   {
    "duration": 8,
    "start_time": "2022-05-04T21:28:26.252Z"
   },
   {
    "duration": 6,
    "start_time": "2022-05-04T21:28:26.262Z"
   },
   {
    "duration": 52,
    "start_time": "2022-05-04T21:28:26.270Z"
   },
   {
    "duration": 7,
    "start_time": "2022-05-04T21:28:26.324Z"
   },
   {
    "duration": 7,
    "start_time": "2022-05-04T21:28:26.332Z"
   },
   {
    "duration": 5,
    "start_time": "2022-05-04T21:28:26.341Z"
   },
   {
    "duration": 7,
    "start_time": "2022-05-04T21:28:26.347Z"
   },
   {
    "duration": 4,
    "start_time": "2022-05-04T21:28:26.356Z"
   },
   {
    "duration": 5,
    "start_time": "2022-05-04T21:28:26.362Z"
   },
   {
    "duration": 42,
    "start_time": "2022-05-04T21:28:26.371Z"
   },
   {
    "duration": 4,
    "start_time": "2022-05-04T21:28:26.415Z"
   },
   {
    "duration": 13,
    "start_time": "2022-05-04T21:28:26.421Z"
   },
   {
    "duration": 8,
    "start_time": "2022-05-04T21:28:26.435Z"
   },
   {
    "duration": 12,
    "start_time": "2022-05-04T21:28:26.444Z"
   },
   {
    "duration": 12,
    "start_time": "2022-05-04T21:28:26.457Z"
   },
   {
    "duration": 14,
    "start_time": "2022-05-04T21:28:26.471Z"
   },
   {
    "duration": 22,
    "start_time": "2022-05-04T21:28:26.487Z"
   },
   {
    "duration": 12,
    "start_time": "2022-05-04T21:28:26.511Z"
   },
   {
    "duration": 2,
    "start_time": "2022-05-04T21:28:26.525Z"
   },
   {
    "duration": 11,
    "start_time": "2022-05-04T21:28:26.529Z"
   },
   {
    "duration": 228,
    "start_time": "2022-05-04T21:28:26.541Z"
   },
   {
    "duration": 139,
    "start_time": "2022-05-04T21:28:26.770Z"
   },
   {
    "duration": 15,
    "start_time": "2022-05-04T21:28:26.911Z"
   },
   {
    "duration": 11,
    "start_time": "2022-05-04T21:28:26.928Z"
   },
   {
    "duration": 13,
    "start_time": "2022-05-04T21:28:26.941Z"
   },
   {
    "duration": 14,
    "start_time": "2022-05-04T21:28:26.956Z"
   },
   {
    "duration": 353,
    "start_time": "2022-05-04T21:28:26.972Z"
   },
   {
    "duration": 225,
    "start_time": "2022-05-04T21:28:27.327Z"
   },
   {
    "duration": 14,
    "start_time": "2022-05-04T21:28:27.553Z"
   },
   {
    "duration": 297,
    "start_time": "2022-05-04T21:28:27.568Z"
   },
   {
    "duration": 12,
    "start_time": "2022-05-04T21:28:27.867Z"
   },
   {
    "duration": 151,
    "start_time": "2022-05-04T21:28:27.881Z"
   },
   {
    "duration": 0,
    "start_time": "2022-05-04T21:28:28.034Z"
   },
   {
    "duration": 0,
    "start_time": "2022-05-04T21:28:28.036Z"
   },
   {
    "duration": 0,
    "start_time": "2022-05-04T21:28:28.037Z"
   },
   {
    "duration": 0,
    "start_time": "2022-05-04T21:28:28.038Z"
   },
   {
    "duration": 0,
    "start_time": "2022-05-04T21:28:28.039Z"
   },
   {
    "duration": 0,
    "start_time": "2022-05-04T21:28:28.040Z"
   },
   {
    "duration": 10,
    "start_time": "2022-05-04T21:28:38.973Z"
   },
   {
    "duration": 16,
    "start_time": "2022-05-04T21:31:08.433Z"
   },
   {
    "duration": 123,
    "start_time": "2022-05-04T21:31:26.441Z"
   },
   {
    "duration": 135,
    "start_time": "2022-05-04T21:32:16.380Z"
   },
   {
    "duration": 124,
    "start_time": "2022-05-04T21:34:08.786Z"
   },
   {
    "duration": 120,
    "start_time": "2022-05-04T21:34:24.872Z"
   },
   {
    "duration": 4,
    "start_time": "2022-05-04T21:34:32.552Z"
   },
   {
    "duration": 9,
    "start_time": "2022-05-04T21:34:37.586Z"
   },
   {
    "duration": 8,
    "start_time": "2022-05-04T21:34:43.915Z"
   },
   {
    "duration": 1225,
    "start_time": "2022-05-04T21:35:18.107Z"
   },
   {
    "duration": 41,
    "start_time": "2022-05-04T21:35:19.335Z"
   },
   {
    "duration": 12,
    "start_time": "2022-05-04T21:35:19.378Z"
   },
   {
    "duration": 11,
    "start_time": "2022-05-04T21:35:19.392Z"
   },
   {
    "duration": 8,
    "start_time": "2022-05-04T21:35:19.405Z"
   },
   {
    "duration": 10,
    "start_time": "2022-05-04T21:35:19.414Z"
   },
   {
    "duration": 11,
    "start_time": "2022-05-04T21:35:19.425Z"
   },
   {
    "duration": 12,
    "start_time": "2022-05-04T21:35:19.437Z"
   },
   {
    "duration": 7,
    "start_time": "2022-05-04T21:35:19.451Z"
   },
   {
    "duration": 5,
    "start_time": "2022-05-04T21:35:19.460Z"
   },
   {
    "duration": 43,
    "start_time": "2022-05-04T21:35:19.466Z"
   },
   {
    "duration": 10,
    "start_time": "2022-05-04T21:35:19.511Z"
   },
   {
    "duration": 15,
    "start_time": "2022-05-04T21:35:19.523Z"
   },
   {
    "duration": 5,
    "start_time": "2022-05-04T21:35:19.543Z"
   },
   {
    "duration": 15,
    "start_time": "2022-05-04T21:35:19.550Z"
   },
   {
    "duration": 53,
    "start_time": "2022-05-04T21:35:19.566Z"
   },
   {
    "duration": 5,
    "start_time": "2022-05-04T21:35:19.621Z"
   },
   {
    "duration": 10,
    "start_time": "2022-05-04T21:35:19.628Z"
   },
   {
    "duration": 9,
    "start_time": "2022-05-04T21:35:19.639Z"
   },
   {
    "duration": 8,
    "start_time": "2022-05-04T21:35:19.649Z"
   },
   {
    "duration": 11,
    "start_time": "2022-05-04T21:35:19.658Z"
   },
   {
    "duration": 41,
    "start_time": "2022-05-04T21:35:19.671Z"
   },
   {
    "duration": 5,
    "start_time": "2022-05-04T21:35:19.713Z"
   },
   {
    "duration": 6,
    "start_time": "2022-05-04T21:35:19.720Z"
   },
   {
    "duration": 8,
    "start_time": "2022-05-04T21:35:19.727Z"
   },
   {
    "duration": 5,
    "start_time": "2022-05-04T21:35:19.736Z"
   },
   {
    "duration": 6,
    "start_time": "2022-05-04T21:35:19.743Z"
   },
   {
    "duration": 5,
    "start_time": "2022-05-04T21:35:19.751Z"
   },
   {
    "duration": 5,
    "start_time": "2022-05-04T21:35:19.759Z"
   },
   {
    "duration": 43,
    "start_time": "2022-05-04T21:35:19.766Z"
   },
   {
    "duration": 5,
    "start_time": "2022-05-04T21:35:19.811Z"
   },
   {
    "duration": 5,
    "start_time": "2022-05-04T21:35:19.818Z"
   },
   {
    "duration": 11,
    "start_time": "2022-05-04T21:35:19.825Z"
   },
   {
    "duration": 12,
    "start_time": "2022-05-04T21:35:19.838Z"
   },
   {
    "duration": 10,
    "start_time": "2022-05-04T21:35:19.851Z"
   },
   {
    "duration": 6,
    "start_time": "2022-05-04T21:35:19.863Z"
   },
   {
    "duration": 3,
    "start_time": "2022-05-04T21:35:19.906Z"
   },
   {
    "duration": 11,
    "start_time": "2022-05-04T21:35:19.911Z"
   },
   {
    "duration": 215,
    "start_time": "2022-05-04T21:35:19.923Z"
   },
   {
    "duration": 149,
    "start_time": "2022-05-04T21:35:20.139Z"
   },
   {
    "duration": 24,
    "start_time": "2022-05-04T21:35:20.292Z"
   },
   {
    "duration": 10,
    "start_time": "2022-05-04T21:35:20.318Z"
   },
   {
    "duration": 14,
    "start_time": "2022-05-04T21:35:20.329Z"
   },
   {
    "duration": 11,
    "start_time": "2022-05-04T21:35:20.345Z"
   },
   {
    "duration": 334,
    "start_time": "2022-05-04T21:35:20.358Z"
   },
   {
    "duration": 234,
    "start_time": "2022-05-04T21:35:20.694Z"
   },
   {
    "duration": 15,
    "start_time": "2022-05-04T21:35:20.929Z"
   },
   {
    "duration": 281,
    "start_time": "2022-05-04T21:35:20.946Z"
   },
   {
    "duration": 12,
    "start_time": "2022-05-04T21:35:21.229Z"
   },
   {
    "duration": 133,
    "start_time": "2022-05-04T21:35:21.243Z"
   },
   {
    "duration": 0,
    "start_time": "2022-05-04T21:35:21.378Z"
   },
   {
    "duration": 0,
    "start_time": "2022-05-04T21:35:21.379Z"
   },
   {
    "duration": 0,
    "start_time": "2022-05-04T21:35:21.380Z"
   },
   {
    "duration": 0,
    "start_time": "2022-05-04T21:35:21.381Z"
   },
   {
    "duration": 0,
    "start_time": "2022-05-04T21:35:21.383Z"
   },
   {
    "duration": 0,
    "start_time": "2022-05-04T21:35:21.384Z"
   },
   {
    "duration": 0,
    "start_time": "2022-05-04T21:35:21.385Z"
   },
   {
    "duration": 0,
    "start_time": "2022-05-04T21:35:21.386Z"
   },
   {
    "duration": 126,
    "start_time": "2022-05-04T21:37:40.076Z"
   },
   {
    "duration": 8,
    "start_time": "2022-05-04T21:37:50.285Z"
   },
   {
    "duration": 8,
    "start_time": "2022-05-04T21:57:37.967Z"
   },
   {
    "duration": 140,
    "start_time": "2022-05-04T22:00:13.794Z"
   },
   {
    "duration": 15,
    "start_time": "2022-05-04T22:00:18.554Z"
   },
   {
    "duration": 11,
    "start_time": "2022-05-04T22:00:34.865Z"
   },
   {
    "duration": 9,
    "start_time": "2022-05-04T22:00:40.307Z"
   },
   {
    "duration": 1342,
    "start_time": "2022-05-04T22:00:48.527Z"
   },
   {
    "duration": 154,
    "start_time": "2022-05-04T22:01:02.089Z"
   },
   {
    "duration": 143,
    "start_time": "2022-05-04T22:01:27.378Z"
   },
   {
    "duration": 1245,
    "start_time": "2022-05-04T22:03:31.343Z"
   },
   {
    "duration": 150,
    "start_time": "2022-05-04T22:03:40.851Z"
   },
   {
    "duration": 150,
    "start_time": "2022-05-04T22:03:53.462Z"
   },
   {
    "duration": 214,
    "start_time": "2022-05-04T22:04:57.283Z"
   },
   {
    "duration": 139,
    "start_time": "2022-05-04T22:07:55.152Z"
   },
   {
    "duration": 142,
    "start_time": "2022-05-04T22:08:06.652Z"
   },
   {
    "duration": 63,
    "start_time": "2022-05-04T22:10:28.071Z"
   },
   {
    "duration": 9,
    "start_time": "2022-05-04T22:11:23.222Z"
   },
   {
    "duration": 158,
    "start_time": "2022-05-04T22:15:20.408Z"
   },
   {
    "duration": 150,
    "start_time": "2022-05-04T22:15:40.400Z"
   },
   {
    "duration": 21,
    "start_time": "2022-05-04T22:16:02.817Z"
   },
   {
    "duration": 5,
    "start_time": "2022-05-04T22:16:12.392Z"
   },
   {
    "duration": 38,
    "start_time": "2022-05-04T22:16:12.399Z"
   },
   {
    "duration": 9,
    "start_time": "2022-05-04T22:16:12.439Z"
   },
   {
    "duration": 22,
    "start_time": "2022-05-04T22:16:12.449Z"
   },
   {
    "duration": 15,
    "start_time": "2022-05-04T22:16:12.473Z"
   },
   {
    "duration": 9,
    "start_time": "2022-05-04T22:16:12.622Z"
   },
   {
    "duration": 10,
    "start_time": "2022-05-04T22:16:12.633Z"
   },
   {
    "duration": 13,
    "start_time": "2022-05-04T22:16:12.645Z"
   },
   {
    "duration": 10,
    "start_time": "2022-05-04T22:16:12.660Z"
   },
   {
    "duration": 5,
    "start_time": "2022-05-04T22:16:12.673Z"
   },
   {
    "duration": 13,
    "start_time": "2022-05-04T22:16:12.679Z"
   },
   {
    "duration": 9,
    "start_time": "2022-05-04T22:16:12.856Z"
   },
   {
    "duration": 17,
    "start_time": "2022-05-04T22:16:12.868Z"
   },
   {
    "duration": 7,
    "start_time": "2022-05-04T22:16:12.887Z"
   },
   {
    "duration": 13,
    "start_time": "2022-05-04T22:16:12.896Z"
   },
   {
    "duration": 10,
    "start_time": "2022-05-04T22:16:12.911Z"
   },
   {
    "duration": 6,
    "start_time": "2022-05-04T22:16:12.922Z"
   },
   {
    "duration": 6,
    "start_time": "2022-05-04T22:16:12.930Z"
   },
   {
    "duration": 10,
    "start_time": "2022-05-04T22:16:13.072Z"
   },
   {
    "duration": 7,
    "start_time": "2022-05-04T22:16:13.084Z"
   },
   {
    "duration": 12,
    "start_time": "2022-05-04T22:16:13.093Z"
   },
   {
    "duration": 7,
    "start_time": "2022-05-04T22:16:13.107Z"
   },
   {
    "duration": 5,
    "start_time": "2022-05-04T22:16:13.116Z"
   },
   {
    "duration": 5,
    "start_time": "2022-05-04T22:16:13.123Z"
   },
   {
    "duration": 6,
    "start_time": "2022-05-04T22:16:13.130Z"
   },
   {
    "duration": 4,
    "start_time": "2022-05-04T22:16:13.138Z"
   },
   {
    "duration": 6,
    "start_time": "2022-05-04T22:16:13.143Z"
   },
   {
    "duration": 4,
    "start_time": "2022-05-04T22:16:13.285Z"
   },
   {
    "duration": 6,
    "start_time": "2022-05-04T22:16:13.291Z"
   },
   {
    "duration": 12,
    "start_time": "2022-05-04T22:16:13.298Z"
   },
   {
    "duration": 6,
    "start_time": "2022-05-04T22:16:13.312Z"
   },
   {
    "duration": 9,
    "start_time": "2022-05-04T22:16:13.320Z"
   },
   {
    "duration": 12,
    "start_time": "2022-05-04T22:16:13.331Z"
   },
   {
    "duration": 13,
    "start_time": "2022-05-04T22:16:13.345Z"
   },
   {
    "duration": 10,
    "start_time": "2022-05-04T22:16:13.360Z"
   },
   {
    "duration": 7,
    "start_time": "2022-05-04T22:16:13.372Z"
   },
   {
    "duration": 27,
    "start_time": "2022-05-04T22:16:13.381Z"
   },
   {
    "duration": 12,
    "start_time": "2022-05-04T22:16:13.499Z"
   },
   {
    "duration": 223,
    "start_time": "2022-05-04T22:16:13.513Z"
   },
   {
    "duration": 154,
    "start_time": "2022-05-04T22:16:13.739Z"
   },
   {
    "duration": 25,
    "start_time": "2022-05-04T22:16:13.895Z"
   },
   {
    "duration": 10,
    "start_time": "2022-05-04T22:16:13.924Z"
   },
   {
    "duration": 13,
    "start_time": "2022-05-04T22:16:13.937Z"
   },
   {
    "duration": 15,
    "start_time": "2022-05-04T22:16:13.952Z"
   },
   {
    "duration": 275,
    "start_time": "2022-05-04T22:16:13.969Z"
   },
   {
    "duration": 228,
    "start_time": "2022-05-04T22:16:14.246Z"
   },
   {
    "duration": 15,
    "start_time": "2022-05-04T22:16:14.476Z"
   },
   {
    "duration": 317,
    "start_time": "2022-05-04T22:16:14.493Z"
   },
   {
    "duration": 13,
    "start_time": "2022-05-04T22:16:14.812Z"
   },
   {
    "duration": 20,
    "start_time": "2022-05-04T22:16:14.827Z"
   },
   {
    "duration": 0,
    "start_time": "2022-05-04T22:16:14.849Z"
   },
   {
    "duration": 0,
    "start_time": "2022-05-04T22:16:14.850Z"
   },
   {
    "duration": 0,
    "start_time": "2022-05-04T22:16:14.851Z"
   },
   {
    "duration": 0,
    "start_time": "2022-05-04T22:16:14.852Z"
   },
   {
    "duration": 0,
    "start_time": "2022-05-04T22:16:14.853Z"
   },
   {
    "duration": 0,
    "start_time": "2022-05-04T22:16:14.854Z"
   },
   {
    "duration": 0,
    "start_time": "2022-05-04T22:16:14.856Z"
   },
   {
    "duration": 0,
    "start_time": "2022-05-04T22:16:14.856Z"
   },
   {
    "duration": 0,
    "start_time": "2022-05-04T22:16:14.858Z"
   },
   {
    "duration": 8,
    "start_time": "2022-05-04T22:16:44.700Z"
   },
   {
    "duration": 19,
    "start_time": "2022-05-04T22:17:40.497Z"
   },
   {
    "duration": 203,
    "start_time": "2022-05-04T22:17:46.730Z"
   },
   {
    "duration": 1182,
    "start_time": "2022-05-04T22:17:57.886Z"
   },
   {
    "duration": 36,
    "start_time": "2022-05-04T22:17:59.071Z"
   },
   {
    "duration": 12,
    "start_time": "2022-05-04T22:17:59.109Z"
   },
   {
    "duration": 11,
    "start_time": "2022-05-04T22:17:59.123Z"
   },
   {
    "duration": 5,
    "start_time": "2022-05-04T22:17:59.136Z"
   },
   {
    "duration": 9,
    "start_time": "2022-05-04T22:17:59.143Z"
   },
   {
    "duration": 10,
    "start_time": "2022-05-04T22:17:59.154Z"
   },
   {
    "duration": 44,
    "start_time": "2022-05-04T22:17:59.165Z"
   },
   {
    "duration": 7,
    "start_time": "2022-05-04T22:17:59.211Z"
   },
   {
    "duration": 10,
    "start_time": "2022-05-04T22:17:59.220Z"
   },
   {
    "duration": 10,
    "start_time": "2022-05-04T22:17:59.232Z"
   },
   {
    "duration": 9,
    "start_time": "2022-05-04T22:17:59.244Z"
   },
   {
    "duration": 13,
    "start_time": "2022-05-04T22:17:59.255Z"
   },
   {
    "duration": 8,
    "start_time": "2022-05-04T22:17:59.270Z"
   },
   {
    "duration": 11,
    "start_time": "2022-05-04T22:17:59.308Z"
   },
   {
    "duration": 10,
    "start_time": "2022-05-04T22:17:59.320Z"
   },
   {
    "duration": 4,
    "start_time": "2022-05-04T22:17:59.332Z"
   },
   {
    "duration": 7,
    "start_time": "2022-05-04T22:17:59.337Z"
   },
   {
    "duration": 12,
    "start_time": "2022-05-04T22:17:59.345Z"
   },
   {
    "duration": 7,
    "start_time": "2022-05-04T22:17:59.359Z"
   },
   {
    "duration": 47,
    "start_time": "2022-05-04T22:17:59.367Z"
   },
   {
    "duration": 6,
    "start_time": "2022-05-04T22:17:59.416Z"
   },
   {
    "duration": 5,
    "start_time": "2022-05-04T22:17:59.424Z"
   },
   {
    "duration": 4,
    "start_time": "2022-05-04T22:17:59.431Z"
   },
   {
    "duration": 5,
    "start_time": "2022-05-04T22:17:59.437Z"
   },
   {
    "duration": 8,
    "start_time": "2022-05-04T22:17:59.444Z"
   },
   {
    "duration": 8,
    "start_time": "2022-05-04T22:17:59.454Z"
   },
   {
    "duration": 4,
    "start_time": "2022-05-04T22:17:59.467Z"
   },
   {
    "duration": 37,
    "start_time": "2022-05-04T22:17:59.473Z"
   },
   {
    "duration": 10,
    "start_time": "2022-05-04T22:17:59.512Z"
   },
   {
    "duration": 6,
    "start_time": "2022-05-04T22:17:59.524Z"
   },
   {
    "duration": 5,
    "start_time": "2022-05-04T22:17:59.531Z"
   },
   {
    "duration": 9,
    "start_time": "2022-05-04T22:17:59.538Z"
   },
   {
    "duration": 9,
    "start_time": "2022-05-04T22:17:59.549Z"
   },
   {
    "duration": 9,
    "start_time": "2022-05-04T22:17:59.560Z"
   },
   {
    "duration": 39,
    "start_time": "2022-05-04T22:17:59.570Z"
   },
   {
    "duration": 3,
    "start_time": "2022-05-04T22:17:59.610Z"
   },
   {
    "duration": 12,
    "start_time": "2022-05-04T22:17:59.614Z"
   },
   {
    "duration": 211,
    "start_time": "2022-05-04T22:17:59.628Z"
   },
   {
    "duration": 126,
    "start_time": "2022-05-04T22:17:59.840Z"
   },
   {
    "duration": 13,
    "start_time": "2022-05-04T22:17:59.967Z"
   },
   {
    "duration": 30,
    "start_time": "2022-05-04T22:17:59.981Z"
   },
   {
    "duration": 16,
    "start_time": "2022-05-04T22:18:00.013Z"
   },
   {
    "duration": 12,
    "start_time": "2022-05-04T22:18:00.030Z"
   },
   {
    "duration": 297,
    "start_time": "2022-05-04T22:18:00.044Z"
   },
   {
    "duration": 202,
    "start_time": "2022-05-04T22:18:00.342Z"
   },
   {
    "duration": 15,
    "start_time": "2022-05-04T22:18:00.546Z"
   },
   {
    "duration": 304,
    "start_time": "2022-05-04T22:18:00.563Z"
   },
   {
    "duration": 13,
    "start_time": "2022-05-04T22:18:00.869Z"
   },
   {
    "duration": 33,
    "start_time": "2022-05-04T22:18:00.884Z"
   },
   {
    "duration": 222,
    "start_time": "2022-05-04T22:18:00.919Z"
   },
   {
    "duration": 5,
    "start_time": "2022-05-04T22:18:01.143Z"
   },
   {
    "duration": 12,
    "start_time": "2022-05-04T22:18:01.150Z"
   },
   {
    "duration": 18,
    "start_time": "2022-05-04T22:18:01.164Z"
   },
   {
    "duration": 335,
    "start_time": "2022-05-04T22:18:01.184Z"
   },
   {
    "duration": 138,
    "start_time": "2022-05-04T22:18:01.521Z"
   },
   {
    "duration": 8,
    "start_time": "2022-05-04T22:18:01.660Z"
   },
   {
    "duration": 161,
    "start_time": "2022-05-04T22:18:01.669Z"
   },
   {
    "duration": 163,
    "start_time": "2022-05-04T22:18:01.832Z"
   },
   {
    "duration": 5,
    "start_time": "2022-05-04T22:34:00.234Z"
   },
   {
    "duration": 6,
    "start_time": "2022-05-04T22:36:03.568Z"
   },
   {
    "duration": 5,
    "start_time": "2022-05-04T22:36:16.599Z"
   },
   {
    "duration": 6,
    "start_time": "2022-05-04T22:36:25.420Z"
   },
   {
    "duration": 181,
    "start_time": "2022-05-04T22:38:39.833Z"
   },
   {
    "duration": 5,
    "start_time": "2022-05-04T22:46:17.947Z"
   },
   {
    "duration": 10,
    "start_time": "2022-05-04T22:56:59.416Z"
   },
   {
    "duration": 7,
    "start_time": "2022-05-04T22:57:52.378Z"
   },
   {
    "duration": 10,
    "start_time": "2022-05-04T23:02:10.251Z"
   },
   {
    "duration": 10,
    "start_time": "2022-05-04T23:04:52.486Z"
   },
   {
    "duration": 2257,
    "start_time": "2022-05-04T23:07:23.732Z"
   },
   {
    "duration": 9,
    "start_time": "2022-05-04T23:10:42.822Z"
   },
   {
    "duration": 2140,
    "start_time": "2022-05-04T23:10:56.223Z"
   },
   {
    "duration": 3,
    "start_time": "2022-05-04T23:11:22.732Z"
   },
   {
    "duration": 11,
    "start_time": "2022-05-04T23:11:42.871Z"
   },
   {
    "duration": 7,
    "start_time": "2022-05-04T23:12:08.503Z"
   },
   {
    "duration": 10,
    "start_time": "2022-05-04T23:15:03.932Z"
   },
   {
    "duration": 9,
    "start_time": "2022-05-04T23:16:53.098Z"
   },
   {
    "duration": 9,
    "start_time": "2022-05-04T23:17:20.203Z"
   },
   {
    "duration": 9,
    "start_time": "2022-05-04T23:17:29.725Z"
   },
   {
    "duration": 9,
    "start_time": "2022-05-04T23:17:43.368Z"
   },
   {
    "duration": 139,
    "start_time": "2022-05-04T23:20:01.052Z"
   },
   {
    "duration": 131,
    "start_time": "2022-05-04T23:20:37.221Z"
   },
   {
    "duration": 137,
    "start_time": "2022-05-04T23:22:53.071Z"
   },
   {
    "duration": 1175,
    "start_time": "2022-05-04T23:37:53.554Z"
   },
   {
    "duration": 36,
    "start_time": "2022-05-04T23:37:54.731Z"
   },
   {
    "duration": 13,
    "start_time": "2022-05-04T23:37:54.769Z"
   },
   {
    "duration": 11,
    "start_time": "2022-05-04T23:37:54.784Z"
   },
   {
    "duration": 6,
    "start_time": "2022-05-04T23:37:54.797Z"
   },
   {
    "duration": 10,
    "start_time": "2022-05-04T23:37:54.804Z"
   },
   {
    "duration": 10,
    "start_time": "2022-05-04T23:37:54.816Z"
   },
   {
    "duration": 12,
    "start_time": "2022-05-04T23:37:54.828Z"
   },
   {
    "duration": 6,
    "start_time": "2022-05-04T23:37:54.842Z"
   },
   {
    "duration": 4,
    "start_time": "2022-05-04T23:37:54.851Z"
   },
   {
    "duration": 9,
    "start_time": "2022-05-04T23:37:54.857Z"
   },
   {
    "duration": 10,
    "start_time": "2022-05-04T23:37:54.907Z"
   },
   {
    "duration": 13,
    "start_time": "2022-05-04T23:37:54.918Z"
   },
   {
    "duration": 5,
    "start_time": "2022-05-04T23:37:54.933Z"
   },
   {
    "duration": 11,
    "start_time": "2022-05-04T23:37:54.940Z"
   },
   {
    "duration": 9,
    "start_time": "2022-05-04T23:37:54.952Z"
   },
   {
    "duration": 4,
    "start_time": "2022-05-04T23:37:54.962Z"
   },
   {
    "duration": 41,
    "start_time": "2022-05-04T23:37:54.967Z"
   },
   {
    "duration": 36,
    "start_time": "2022-05-04T23:37:55.011Z"
   },
   {
    "duration": 31,
    "start_time": "2022-05-04T23:37:55.049Z"
   },
   {
    "duration": 12,
    "start_time": "2022-05-04T23:37:55.082Z"
   },
   {
    "duration": 7,
    "start_time": "2022-05-04T23:37:55.095Z"
   },
   {
    "duration": 5,
    "start_time": "2022-05-04T23:37:55.104Z"
   },
   {
    "duration": 5,
    "start_time": "2022-05-04T23:37:55.111Z"
   },
   {
    "duration": 7,
    "start_time": "2022-05-04T23:37:55.118Z"
   },
   {
    "duration": 5,
    "start_time": "2022-05-04T23:37:55.127Z"
   },
   {
    "duration": 6,
    "start_time": "2022-05-04T23:37:55.133Z"
   },
   {
    "duration": 4,
    "start_time": "2022-05-04T23:37:55.143Z"
   },
   {
    "duration": 5,
    "start_time": "2022-05-04T23:37:55.148Z"
   },
   {
    "duration": 9,
    "start_time": "2022-05-04T23:37:55.154Z"
   },
   {
    "duration": 4,
    "start_time": "2022-05-04T23:37:55.165Z"
   },
   {
    "duration": 10,
    "start_time": "2022-05-04T23:37:55.170Z"
   },
   {
    "duration": 27,
    "start_time": "2022-05-04T23:37:55.182Z"
   },
   {
    "duration": 13,
    "start_time": "2022-05-04T23:37:55.211Z"
   },
   {
    "duration": 10,
    "start_time": "2022-05-04T23:37:55.225Z"
   },
   {
    "duration": 7,
    "start_time": "2022-05-04T23:37:55.236Z"
   },
   {
    "duration": 3,
    "start_time": "2022-05-04T23:37:55.245Z"
   },
   {
    "duration": 13,
    "start_time": "2022-05-04T23:37:55.250Z"
   },
   {
    "duration": 225,
    "start_time": "2022-05-04T23:37:55.264Z"
   },
   {
    "duration": 143,
    "start_time": "2022-05-04T23:37:55.490Z"
   },
   {
    "duration": 12,
    "start_time": "2022-05-04T23:37:55.635Z"
   },
   {
    "duration": 11,
    "start_time": "2022-05-04T23:37:55.648Z"
   },
   {
    "duration": 11,
    "start_time": "2022-05-04T23:37:55.660Z"
   },
   {
    "duration": 10,
    "start_time": "2022-05-04T23:37:55.673Z"
   },
   {
    "duration": 301,
    "start_time": "2022-05-04T23:37:55.708Z"
   },
   {
    "duration": 213,
    "start_time": "2022-05-04T23:37:56.011Z"
   },
   {
    "duration": 13,
    "start_time": "2022-05-04T23:37:56.225Z"
   },
   {
    "duration": 286,
    "start_time": "2022-05-04T23:37:56.240Z"
   },
   {
    "duration": 13,
    "start_time": "2022-05-04T23:37:56.528Z"
   },
   {
    "duration": 32,
    "start_time": "2022-05-04T23:37:56.543Z"
   },
   {
    "duration": 233,
    "start_time": "2022-05-04T23:37:56.577Z"
   },
   {
    "duration": 5,
    "start_time": "2022-05-04T23:37:56.812Z"
   },
   {
    "duration": 6,
    "start_time": "2022-05-04T23:37:56.819Z"
   },
   {
    "duration": 15,
    "start_time": "2022-05-04T23:37:56.827Z"
   },
   {
    "duration": 278,
    "start_time": "2022-05-04T23:37:56.844Z"
   },
   {
    "duration": 137,
    "start_time": "2022-05-04T23:37:57.124Z"
   },
   {
    "duration": 9,
    "start_time": "2022-05-04T23:37:57.263Z"
   },
   {
    "duration": 166,
    "start_time": "2022-05-04T23:37:57.274Z"
   },
   {
    "duration": 167,
    "start_time": "2022-05-04T23:37:57.442Z"
   },
   {
    "duration": 6,
    "start_time": "2022-05-04T23:37:57.611Z"
   },
   {
    "duration": 11,
    "start_time": "2022-05-04T23:37:57.619Z"
   },
   {
    "duration": 3,
    "start_time": "2022-05-04T23:37:57.632Z"
   },
   {
    "duration": 238,
    "start_time": "2022-05-04T23:42:21.984Z"
   },
   {
    "duration": 8,
    "start_time": "2022-05-04T23:42:53.828Z"
   },
   {
    "duration": 11,
    "start_time": "2022-05-04T23:43:06.232Z"
   },
   {
    "duration": 154,
    "start_time": "2022-05-04T23:45:58.837Z"
   },
   {
    "duration": 157,
    "start_time": "2022-05-04T23:46:10.700Z"
   },
   {
    "duration": 160,
    "start_time": "2022-05-04T23:46:44.394Z"
   },
   {
    "duration": 160,
    "start_time": "2022-05-04T23:47:19.918Z"
   },
   {
    "duration": 156,
    "start_time": "2022-05-04T23:47:33.070Z"
   },
   {
    "duration": 106,
    "start_time": "2022-05-04T23:48:19.792Z"
   },
   {
    "duration": 5,
    "start_time": "2022-05-04T23:48:27.766Z"
   },
   {
    "duration": 165,
    "start_time": "2022-05-04T23:50:47.014Z"
   },
   {
    "duration": 194,
    "start_time": "2022-05-04T23:50:55.099Z"
   },
   {
    "duration": 3,
    "start_time": "2022-05-05T00:11:56.845Z"
   },
   {
    "duration": 1284,
    "start_time": "2022-05-05T20:34:35.545Z"
   },
   {
    "duration": 91,
    "start_time": "2022-05-05T20:34:36.831Z"
   },
   {
    "duration": 12,
    "start_time": "2022-05-05T20:34:36.924Z"
   },
   {
    "duration": 10,
    "start_time": "2022-05-05T20:34:36.938Z"
   },
   {
    "duration": 7,
    "start_time": "2022-05-05T20:34:36.950Z"
   },
   {
    "duration": 10,
    "start_time": "2022-05-05T20:34:36.958Z"
   },
   {
    "duration": 9,
    "start_time": "2022-05-05T20:34:36.970Z"
   },
   {
    "duration": 10,
    "start_time": "2022-05-05T20:34:36.980Z"
   },
   {
    "duration": 7,
    "start_time": "2022-05-05T20:34:36.992Z"
   },
   {
    "duration": 3,
    "start_time": "2022-05-05T20:34:37.002Z"
   },
   {
    "duration": 48,
    "start_time": "2022-05-05T20:34:37.007Z"
   },
   {
    "duration": 9,
    "start_time": "2022-05-05T20:34:37.057Z"
   },
   {
    "duration": 12,
    "start_time": "2022-05-05T20:34:37.067Z"
   },
   {
    "duration": 5,
    "start_time": "2022-05-05T20:34:37.081Z"
   },
   {
    "duration": 10,
    "start_time": "2022-05-05T20:34:37.088Z"
   },
   {
    "duration": 8,
    "start_time": "2022-05-05T20:34:37.100Z"
   },
   {
    "duration": 38,
    "start_time": "2022-05-05T20:34:37.110Z"
   },
   {
    "duration": 9,
    "start_time": "2022-05-05T20:34:37.149Z"
   },
   {
    "duration": 10,
    "start_time": "2022-05-05T20:34:37.159Z"
   },
   {
    "duration": 6,
    "start_time": "2022-05-05T20:34:37.171Z"
   },
   {
    "duration": 9,
    "start_time": "2022-05-05T20:34:37.179Z"
   },
   {
    "duration": 8,
    "start_time": "2022-05-05T20:34:37.189Z"
   },
   {
    "duration": 5,
    "start_time": "2022-05-05T20:34:37.198Z"
   },
   {
    "duration": 5,
    "start_time": "2022-05-05T20:34:37.204Z"
   },
   {
    "duration": 5,
    "start_time": "2022-05-05T20:34:37.210Z"
   },
   {
    "duration": 2,
    "start_time": "2022-05-05T20:34:37.248Z"
   },
   {
    "duration": 6,
    "start_time": "2022-05-05T20:34:37.252Z"
   },
   {
    "duration": 4,
    "start_time": "2022-05-05T20:34:37.261Z"
   },
   {
    "duration": 5,
    "start_time": "2022-05-05T20:34:37.266Z"
   },
   {
    "duration": 9,
    "start_time": "2022-05-05T20:34:37.272Z"
   },
   {
    "duration": 8,
    "start_time": "2022-05-05T20:34:37.283Z"
   },
   {
    "duration": 5,
    "start_time": "2022-05-05T20:34:37.292Z"
   },
   {
    "duration": 8,
    "start_time": "2022-05-05T20:34:37.299Z"
   },
   {
    "duration": 9,
    "start_time": "2022-05-05T20:34:37.308Z"
   },
   {
    "duration": 38,
    "start_time": "2022-05-05T20:34:37.319Z"
   },
   {
    "duration": 6,
    "start_time": "2022-05-05T20:34:37.359Z"
   },
   {
    "duration": 6,
    "start_time": "2022-05-05T20:34:37.366Z"
   },
   {
    "duration": 20,
    "start_time": "2022-05-05T20:34:37.373Z"
   },
   {
    "duration": 197,
    "start_time": "2022-05-05T20:34:37.394Z"
   },
   {
    "duration": 123,
    "start_time": "2022-05-05T20:34:37.593Z"
   },
   {
    "duration": 11,
    "start_time": "2022-05-05T20:34:37.718Z"
   },
   {
    "duration": 22,
    "start_time": "2022-05-05T20:34:37.731Z"
   },
   {
    "duration": 11,
    "start_time": "2022-05-05T20:34:37.754Z"
   },
   {
    "duration": 12,
    "start_time": "2022-05-05T20:34:37.766Z"
   },
   {
    "duration": 262,
    "start_time": "2022-05-05T20:34:37.779Z"
   },
   {
    "duration": 173,
    "start_time": "2022-05-05T20:34:38.047Z"
   },
   {
    "duration": 11,
    "start_time": "2022-05-05T20:34:38.222Z"
   },
   {
    "duration": 327,
    "start_time": "2022-05-05T20:34:38.235Z"
   },
   {
    "duration": 9,
    "start_time": "2022-05-05T20:34:38.564Z"
   },
   {
    "duration": 17,
    "start_time": "2022-05-05T20:34:38.575Z"
   },
   {
    "duration": 186,
    "start_time": "2022-05-05T20:34:38.593Z"
   },
   {
    "duration": 5,
    "start_time": "2022-05-05T20:34:38.781Z"
   },
   {
    "duration": 6,
    "start_time": "2022-05-05T20:34:38.787Z"
   },
   {
    "duration": 13,
    "start_time": "2022-05-05T20:34:38.795Z"
   },
   {
    "duration": 325,
    "start_time": "2022-05-05T20:34:38.810Z"
   },
   {
    "duration": 137,
    "start_time": "2022-05-05T20:34:39.136Z"
   },
   {
    "duration": 7,
    "start_time": "2022-05-05T20:34:39.275Z"
   },
   {
    "duration": 142,
    "start_time": "2022-05-05T20:34:39.283Z"
   },
   {
    "duration": 134,
    "start_time": "2022-05-05T20:34:39.426Z"
   },
   {
    "duration": 4,
    "start_time": "2022-05-05T20:34:39.562Z"
   },
   {
    "duration": 10,
    "start_time": "2022-05-05T20:34:39.567Z"
   },
   {
    "duration": 13,
    "start_time": "2022-05-05T20:34:39.578Z"
   },
   {
    "duration": 262,
    "start_time": "2022-05-05T20:34:39.592Z"
   },
   {
    "duration": 138,
    "start_time": "2022-05-05T20:34:39.856Z"
   },
   {
    "duration": 5,
    "start_time": "2022-05-05T20:34:39.995Z"
   },
   {
    "duration": 13,
    "start_time": "2022-05-05T20:51:28.601Z"
   },
   {
    "duration": 1787,
    "start_time": "2022-05-05T20:53:28.569Z"
   },
   {
    "duration": 424,
    "start_time": "2022-05-05T20:54:25.696Z"
   },
   {
    "duration": 433,
    "start_time": "2022-05-05T20:54:37.756Z"
   },
   {
    "duration": 11,
    "start_time": "2022-05-05T20:57:40.955Z"
   },
   {
    "duration": 11,
    "start_time": "2022-05-05T21:02:10.345Z"
   },
   {
    "duration": 5,
    "start_time": "2022-05-05T21:24:13.263Z"
   },
   {
    "duration": 4,
    "start_time": "2022-05-05T21:25:21.926Z"
   },
   {
    "duration": 6,
    "start_time": "2022-05-05T21:28:08.748Z"
   },
   {
    "duration": 13,
    "start_time": "2022-05-05T21:28:55.016Z"
   },
   {
    "duration": 3,
    "start_time": "2022-05-05T21:30:02.419Z"
   },
   {
    "duration": 4,
    "start_time": "2022-05-05T21:30:07.211Z"
   },
   {
    "duration": 12,
    "start_time": "2022-05-05T21:30:11.461Z"
   },
   {
    "duration": 3,
    "start_time": "2022-05-05T21:31:44.980Z"
   },
   {
    "duration": 4,
    "start_time": "2022-05-05T21:31:50.389Z"
   },
   {
    "duration": 11,
    "start_time": "2022-05-05T21:31:54.101Z"
   },
   {
    "duration": 4,
    "start_time": "2022-05-05T21:34:13.515Z"
   },
   {
    "duration": 12,
    "start_time": "2022-05-05T21:34:16.193Z"
   },
   {
    "duration": 1157,
    "start_time": "2022-05-05T21:34:53.838Z"
   },
   {
    "duration": 41,
    "start_time": "2022-05-05T21:34:54.997Z"
   },
   {
    "duration": 11,
    "start_time": "2022-05-05T21:34:55.039Z"
   },
   {
    "duration": 14,
    "start_time": "2022-05-05T21:34:55.052Z"
   },
   {
    "duration": 12,
    "start_time": "2022-05-05T21:34:55.068Z"
   },
   {
    "duration": 10,
    "start_time": "2022-05-05T21:34:55.082Z"
   },
   {
    "duration": 10,
    "start_time": "2022-05-05T21:34:55.093Z"
   },
   {
    "duration": 15,
    "start_time": "2022-05-05T21:34:55.105Z"
   },
   {
    "duration": 6,
    "start_time": "2022-05-05T21:34:55.122Z"
   },
   {
    "duration": 4,
    "start_time": "2022-05-05T21:34:55.149Z"
   },
   {
    "duration": 10,
    "start_time": "2022-05-05T21:34:55.154Z"
   },
   {
    "duration": 9,
    "start_time": "2022-05-05T21:34:55.165Z"
   },
   {
    "duration": 12,
    "start_time": "2022-05-05T21:34:55.175Z"
   },
   {
    "duration": 6,
    "start_time": "2022-05-05T21:34:55.189Z"
   },
   {
    "duration": 11,
    "start_time": "2022-05-05T21:34:55.197Z"
   },
   {
    "duration": 40,
    "start_time": "2022-05-05T21:34:55.209Z"
   },
   {
    "duration": 5,
    "start_time": "2022-05-05T21:34:55.250Z"
   },
   {
    "duration": 7,
    "start_time": "2022-05-05T21:34:55.256Z"
   },
   {
    "duration": 9,
    "start_time": "2022-05-05T21:34:55.264Z"
   },
   {
    "duration": 7,
    "start_time": "2022-05-05T21:34:55.274Z"
   },
   {
    "duration": 11,
    "start_time": "2022-05-05T21:34:55.282Z"
   },
   {
    "duration": 9,
    "start_time": "2022-05-05T21:34:55.295Z"
   },
   {
    "duration": 7,
    "start_time": "2022-05-05T21:34:55.305Z"
   },
   {
    "duration": 34,
    "start_time": "2022-05-05T21:34:55.313Z"
   },
   {
    "duration": 4,
    "start_time": "2022-05-05T21:34:55.349Z"
   },
   {
    "duration": 5,
    "start_time": "2022-05-05T21:34:55.354Z"
   },
   {
    "duration": 6,
    "start_time": "2022-05-05T21:34:55.361Z"
   },
   {
    "duration": 3,
    "start_time": "2022-05-05T21:34:55.371Z"
   },
   {
    "duration": 5,
    "start_time": "2022-05-05T21:34:55.375Z"
   },
   {
    "duration": 8,
    "start_time": "2022-05-05T21:34:55.382Z"
   },
   {
    "duration": 5,
    "start_time": "2022-05-05T21:34:55.391Z"
   },
   {
    "duration": 9,
    "start_time": "2022-05-05T21:34:55.397Z"
   },
   {
    "duration": 43,
    "start_time": "2022-05-05T21:34:55.408Z"
   },
   {
    "duration": 10,
    "start_time": "2022-05-05T21:34:55.453Z"
   },
   {
    "duration": 9,
    "start_time": "2022-05-05T21:34:55.465Z"
   },
   {
    "duration": 8,
    "start_time": "2022-05-05T21:34:55.476Z"
   },
   {
    "duration": 5,
    "start_time": "2022-05-05T21:34:55.485Z"
   },
   {
    "duration": 11,
    "start_time": "2022-05-05T21:34:55.491Z"
   },
   {
    "duration": 204,
    "start_time": "2022-05-05T21:34:55.504Z"
   },
   {
    "duration": 139,
    "start_time": "2022-05-05T21:34:55.709Z"
   },
   {
    "duration": 12,
    "start_time": "2022-05-05T21:34:55.850Z"
   },
   {
    "duration": 10,
    "start_time": "2022-05-05T21:34:55.864Z"
   },
   {
    "duration": 9,
    "start_time": "2022-05-05T21:34:55.875Z"
   },
   {
    "duration": 11,
    "start_time": "2022-05-05T21:34:55.886Z"
   },
   {
    "duration": 282,
    "start_time": "2022-05-05T21:34:55.899Z"
   },
   {
    "duration": 173,
    "start_time": "2022-05-05T21:34:56.184Z"
   },
   {
    "duration": 12,
    "start_time": "2022-05-05T21:34:56.359Z"
   },
   {
    "duration": 258,
    "start_time": "2022-05-05T21:34:56.373Z"
   },
   {
    "duration": 19,
    "start_time": "2022-05-05T21:34:56.633Z"
   },
   {
    "duration": 19,
    "start_time": "2022-05-05T21:34:56.655Z"
   },
   {
    "duration": 188,
    "start_time": "2022-05-05T21:34:56.676Z"
   },
   {
    "duration": 4,
    "start_time": "2022-05-05T21:34:56.866Z"
   },
   {
    "duration": 5,
    "start_time": "2022-05-05T21:34:56.872Z"
   },
   {
    "duration": 12,
    "start_time": "2022-05-05T21:34:56.879Z"
   },
   {
    "duration": 245,
    "start_time": "2022-05-05T21:34:56.892Z"
   },
   {
    "duration": 143,
    "start_time": "2022-05-05T21:34:57.139Z"
   },
   {
    "duration": 8,
    "start_time": "2022-05-05T21:34:57.284Z"
   },
   {
    "duration": 221,
    "start_time": "2022-05-05T21:34:57.293Z"
   },
   {
    "duration": 215,
    "start_time": "2022-05-05T21:34:57.516Z"
   },
   {
    "duration": 15,
    "start_time": "2022-05-05T21:34:57.733Z"
   },
   {
    "duration": 8,
    "start_time": "2022-05-05T21:34:57.750Z"
   },
   {
    "duration": 11,
    "start_time": "2022-05-05T21:34:57.760Z"
   },
   {
    "duration": 252,
    "start_time": "2022-05-05T21:34:57.773Z"
   },
   {
    "duration": 139,
    "start_time": "2022-05-05T21:34:58.027Z"
   },
   {
    "duration": 6,
    "start_time": "2022-05-05T21:34:58.167Z"
   },
   {
    "duration": 108,
    "start_time": "2022-05-05T21:34:58.175Z"
   },
   {
    "duration": 0,
    "start_time": "2022-05-05T21:34:58.285Z"
   },
   {
    "duration": 0,
    "start_time": "2022-05-05T21:34:58.287Z"
   },
   {
    "duration": 0,
    "start_time": "2022-05-05T21:34:58.288Z"
   },
   {
    "duration": 0,
    "start_time": "2022-05-05T21:34:58.289Z"
   },
   {
    "duration": 0,
    "start_time": "2022-05-05T21:34:58.290Z"
   },
   {
    "duration": 0,
    "start_time": "2022-05-05T21:34:58.291Z"
   },
   {
    "duration": 0,
    "start_time": "2022-05-05T21:34:58.293Z"
   },
   {
    "duration": 0,
    "start_time": "2022-05-05T21:34:58.295Z"
   },
   {
    "duration": 9,
    "start_time": "2022-05-05T21:35:17.577Z"
   },
   {
    "duration": 4,
    "start_time": "2022-05-05T21:35:31.866Z"
   },
   {
    "duration": 8,
    "start_time": "2022-05-05T21:35:36.194Z"
   },
   {
    "duration": 11,
    "start_time": "2022-05-05T21:50:01.471Z"
   },
   {
    "duration": 8,
    "start_time": "2022-05-05T21:52:59.453Z"
   },
   {
    "duration": 1123,
    "start_time": "2022-05-05T21:53:08.944Z"
   },
   {
    "duration": 44,
    "start_time": "2022-05-05T21:53:10.069Z"
   },
   {
    "duration": 11,
    "start_time": "2022-05-05T21:53:10.115Z"
   },
   {
    "duration": 11,
    "start_time": "2022-05-05T21:53:10.128Z"
   },
   {
    "duration": 7,
    "start_time": "2022-05-05T21:53:10.141Z"
   },
   {
    "duration": 10,
    "start_time": "2022-05-05T21:53:10.149Z"
   },
   {
    "duration": 10,
    "start_time": "2022-05-05T21:53:10.161Z"
   },
   {
    "duration": 11,
    "start_time": "2022-05-05T21:53:10.173Z"
   },
   {
    "duration": 7,
    "start_time": "2022-05-05T21:53:10.187Z"
   },
   {
    "duration": 4,
    "start_time": "2022-05-05T21:53:10.198Z"
   },
   {
    "duration": 47,
    "start_time": "2022-05-05T21:53:10.204Z"
   },
   {
    "duration": 10,
    "start_time": "2022-05-05T21:53:10.253Z"
   },
   {
    "duration": 13,
    "start_time": "2022-05-05T21:53:10.265Z"
   },
   {
    "duration": 6,
    "start_time": "2022-05-05T21:53:10.280Z"
   },
   {
    "duration": 12,
    "start_time": "2022-05-05T21:53:10.287Z"
   },
   {
    "duration": 8,
    "start_time": "2022-05-05T21:53:10.300Z"
   },
   {
    "duration": 38,
    "start_time": "2022-05-05T21:53:10.309Z"
   },
   {
    "duration": 5,
    "start_time": "2022-05-05T21:53:10.349Z"
   },
   {
    "duration": 9,
    "start_time": "2022-05-05T21:53:10.356Z"
   },
   {
    "duration": 6,
    "start_time": "2022-05-05T21:53:10.367Z"
   },
   {
    "duration": 10,
    "start_time": "2022-05-05T21:53:10.374Z"
   },
   {
    "duration": 9,
    "start_time": "2022-05-05T21:53:10.385Z"
   },
   {
    "duration": 6,
    "start_time": "2022-05-05T21:53:10.396Z"
   },
   {
    "duration": 5,
    "start_time": "2022-05-05T21:53:10.403Z"
   },
   {
    "duration": 8,
    "start_time": "2022-05-05T21:53:10.409Z"
   },
   {
    "duration": 34,
    "start_time": "2022-05-05T21:53:10.418Z"
   },
   {
    "duration": 6,
    "start_time": "2022-05-05T21:53:10.454Z"
   },
   {
    "duration": 3,
    "start_time": "2022-05-05T21:53:10.464Z"
   },
   {
    "duration": 5,
    "start_time": "2022-05-05T21:53:10.469Z"
   },
   {
    "duration": 9,
    "start_time": "2022-05-05T21:53:10.475Z"
   },
   {
    "duration": 4,
    "start_time": "2022-05-05T21:53:10.485Z"
   },
   {
    "duration": 8,
    "start_time": "2022-05-05T21:53:10.490Z"
   },
   {
    "duration": 9,
    "start_time": "2022-05-05T21:53:10.499Z"
   },
   {
    "duration": 10,
    "start_time": "2022-05-05T21:53:10.510Z"
   },
   {
    "duration": 33,
    "start_time": "2022-05-05T21:53:10.521Z"
   },
   {
    "duration": 9,
    "start_time": "2022-05-05T21:53:10.555Z"
   },
   {
    "duration": 3,
    "start_time": "2022-05-05T21:53:10.566Z"
   },
   {
    "duration": 11,
    "start_time": "2022-05-05T21:53:10.571Z"
   },
   {
    "duration": 189,
    "start_time": "2022-05-05T21:53:10.584Z"
   },
   {
    "duration": 127,
    "start_time": "2022-05-05T21:53:10.774Z"
   },
   {
    "duration": 11,
    "start_time": "2022-05-05T21:53:10.902Z"
   },
   {
    "duration": 9,
    "start_time": "2022-05-05T21:53:10.915Z"
   },
   {
    "duration": 30,
    "start_time": "2022-05-05T21:53:10.926Z"
   },
   {
    "duration": 10,
    "start_time": "2022-05-05T21:53:10.958Z"
   },
   {
    "duration": 263,
    "start_time": "2022-05-05T21:53:10.969Z"
   },
   {
    "duration": 173,
    "start_time": "2022-05-05T21:53:11.234Z"
   },
   {
    "duration": 12,
    "start_time": "2022-05-05T21:53:11.409Z"
   },
   {
    "duration": 285,
    "start_time": "2022-05-05T21:53:11.422Z"
   },
   {
    "duration": 10,
    "start_time": "2022-05-05T21:53:11.709Z"
   },
   {
    "duration": 31,
    "start_time": "2022-05-05T21:53:11.720Z"
   },
   {
    "duration": 181,
    "start_time": "2022-05-05T21:53:11.753Z"
   },
   {
    "duration": 4,
    "start_time": "2022-05-05T21:53:11.936Z"
   },
   {
    "duration": 4,
    "start_time": "2022-05-05T21:53:11.947Z"
   },
   {
    "duration": 13,
    "start_time": "2022-05-05T21:53:11.952Z"
   },
   {
    "duration": 256,
    "start_time": "2022-05-05T21:53:11.966Z"
   },
   {
    "duration": 138,
    "start_time": "2022-05-05T21:53:12.223Z"
   },
   {
    "duration": 7,
    "start_time": "2022-05-05T21:53:12.363Z"
   },
   {
    "duration": 137,
    "start_time": "2022-05-05T21:53:12.371Z"
   },
   {
    "duration": 130,
    "start_time": "2022-05-05T21:53:12.509Z"
   },
   {
    "duration": 8,
    "start_time": "2022-05-05T21:53:12.641Z"
   },
   {
    "duration": 10,
    "start_time": "2022-05-05T21:53:12.650Z"
   },
   {
    "duration": 11,
    "start_time": "2022-05-05T21:53:12.661Z"
   },
   {
    "duration": 245,
    "start_time": "2022-05-05T21:53:12.673Z"
   },
   {
    "duration": 129,
    "start_time": "2022-05-05T21:53:12.920Z"
   },
   {
    "duration": 4,
    "start_time": "2022-05-05T21:53:13.050Z"
   },
   {
    "duration": 102,
    "start_time": "2022-05-05T21:53:13.056Z"
   },
   {
    "duration": 0,
    "start_time": "2022-05-05T21:53:13.159Z"
   },
   {
    "duration": 0,
    "start_time": "2022-05-05T21:53:13.160Z"
   },
   {
    "duration": 0,
    "start_time": "2022-05-05T21:53:13.161Z"
   },
   {
    "duration": 0,
    "start_time": "2022-05-05T21:53:13.162Z"
   },
   {
    "duration": 0,
    "start_time": "2022-05-05T21:53:13.164Z"
   },
   {
    "duration": 0,
    "start_time": "2022-05-05T21:53:13.164Z"
   },
   {
    "duration": 0,
    "start_time": "2022-05-05T21:53:13.165Z"
   },
   {
    "duration": 0,
    "start_time": "2022-05-05T21:53:13.166Z"
   },
   {
    "duration": 0,
    "start_time": "2022-05-05T21:53:13.168Z"
   },
   {
    "duration": 1072,
    "start_time": "2022-05-05T21:53:25.685Z"
   },
   {
    "duration": 35,
    "start_time": "2022-05-05T21:53:26.759Z"
   },
   {
    "duration": 10,
    "start_time": "2022-05-05T21:53:26.796Z"
   },
   {
    "duration": 10,
    "start_time": "2022-05-05T21:53:26.807Z"
   },
   {
    "duration": 11,
    "start_time": "2022-05-05T21:53:26.819Z"
   },
   {
    "duration": 10,
    "start_time": "2022-05-05T21:53:26.832Z"
   },
   {
    "duration": 13,
    "start_time": "2022-05-05T21:53:26.843Z"
   },
   {
    "duration": 10,
    "start_time": "2022-05-05T21:53:26.857Z"
   },
   {
    "duration": 8,
    "start_time": "2022-05-05T21:53:26.868Z"
   },
   {
    "duration": 5,
    "start_time": "2022-05-05T21:53:26.878Z"
   },
   {
    "duration": 10,
    "start_time": "2022-05-05T21:53:26.884Z"
   },
   {
    "duration": 8,
    "start_time": "2022-05-05T21:53:26.896Z"
   },
   {
    "duration": 41,
    "start_time": "2022-05-05T21:53:26.906Z"
   },
   {
    "duration": 5,
    "start_time": "2022-05-05T21:53:26.949Z"
   },
   {
    "duration": 11,
    "start_time": "2022-05-05T21:53:26.956Z"
   },
   {
    "duration": 9,
    "start_time": "2022-05-05T21:53:26.968Z"
   },
   {
    "duration": 4,
    "start_time": "2022-05-05T21:53:26.979Z"
   },
   {
    "duration": 7,
    "start_time": "2022-05-05T21:53:26.984Z"
   },
   {
    "duration": 9,
    "start_time": "2022-05-05T21:53:26.993Z"
   },
   {
    "duration": 6,
    "start_time": "2022-05-05T21:53:27.004Z"
   },
   {
    "duration": 44,
    "start_time": "2022-05-05T21:53:27.011Z"
   },
   {
    "duration": 6,
    "start_time": "2022-05-05T21:53:27.057Z"
   },
   {
    "duration": 6,
    "start_time": "2022-05-05T21:53:27.064Z"
   },
   {
    "duration": 4,
    "start_time": "2022-05-05T21:53:27.072Z"
   },
   {
    "duration": 5,
    "start_time": "2022-05-05T21:53:27.077Z"
   },
   {
    "duration": 4,
    "start_time": "2022-05-05T21:53:27.083Z"
   },
   {
    "duration": 5,
    "start_time": "2022-05-05T21:53:27.088Z"
   },
   {
    "duration": 3,
    "start_time": "2022-05-05T21:53:27.097Z"
   },
   {
    "duration": 7,
    "start_time": "2022-05-05T21:53:27.102Z"
   },
   {
    "duration": 42,
    "start_time": "2022-05-05T21:53:27.110Z"
   },
   {
    "duration": 5,
    "start_time": "2022-05-05T21:53:27.153Z"
   },
   {
    "duration": 5,
    "start_time": "2022-05-05T21:53:27.160Z"
   },
   {
    "duration": 10,
    "start_time": "2022-05-05T21:53:27.166Z"
   },
   {
    "duration": 9,
    "start_time": "2022-05-05T21:53:27.177Z"
   },
   {
    "duration": 9,
    "start_time": "2022-05-05T21:53:27.187Z"
   },
   {
    "duration": 5,
    "start_time": "2022-05-05T21:53:27.198Z"
   },
   {
    "duration": 2,
    "start_time": "2022-05-05T21:53:27.205Z"
   },
   {
    "duration": 44,
    "start_time": "2022-05-05T21:53:27.208Z"
   },
   {
    "duration": 182,
    "start_time": "2022-05-05T21:53:27.254Z"
   },
   {
    "duration": 136,
    "start_time": "2022-05-05T21:53:27.437Z"
   },
   {
    "duration": 11,
    "start_time": "2022-05-05T21:53:27.574Z"
   },
   {
    "duration": 12,
    "start_time": "2022-05-05T21:53:27.587Z"
   },
   {
    "duration": 13,
    "start_time": "2022-05-05T21:53:27.601Z"
   },
   {
    "duration": 32,
    "start_time": "2022-05-05T21:53:27.616Z"
   },
   {
    "duration": 253,
    "start_time": "2022-05-05T21:53:27.650Z"
   },
   {
    "duration": 170,
    "start_time": "2022-05-05T21:53:27.905Z"
   },
   {
    "duration": 13,
    "start_time": "2022-05-05T21:53:28.077Z"
   },
   {
    "duration": 250,
    "start_time": "2022-05-05T21:53:28.092Z"
   },
   {
    "duration": 14,
    "start_time": "2022-05-05T21:53:28.343Z"
   },
   {
    "duration": 17,
    "start_time": "2022-05-05T21:53:28.359Z"
   },
   {
    "duration": 199,
    "start_time": "2022-05-05T21:53:28.377Z"
   },
   {
    "duration": 5,
    "start_time": "2022-05-05T21:53:28.578Z"
   },
   {
    "duration": 6,
    "start_time": "2022-05-05T21:53:28.585Z"
   },
   {
    "duration": 13,
    "start_time": "2022-05-05T21:53:28.592Z"
   },
   {
    "duration": 317,
    "start_time": "2022-05-05T21:53:28.607Z"
   },
   {
    "duration": 109,
    "start_time": "2022-05-05T21:53:28.926Z"
   },
   {
    "duration": 11,
    "start_time": "2022-05-05T21:53:29.037Z"
   },
   {
    "duration": 125,
    "start_time": "2022-05-05T21:53:29.049Z"
   },
   {
    "duration": 156,
    "start_time": "2022-05-05T21:53:29.175Z"
   },
   {
    "duration": 4,
    "start_time": "2022-05-05T21:53:29.332Z"
   },
   {
    "duration": 8,
    "start_time": "2022-05-05T21:53:29.347Z"
   },
   {
    "duration": 10,
    "start_time": "2022-05-05T21:53:29.357Z"
   },
   {
    "duration": 249,
    "start_time": "2022-05-05T21:53:29.368Z"
   },
   {
    "duration": 138,
    "start_time": "2022-05-05T21:53:29.618Z"
   },
   {
    "duration": 5,
    "start_time": "2022-05-05T21:53:29.757Z"
   },
   {
    "duration": 105,
    "start_time": "2022-05-05T21:53:29.763Z"
   },
   {
    "duration": 0,
    "start_time": "2022-05-05T21:53:29.869Z"
   },
   {
    "duration": 0,
    "start_time": "2022-05-05T21:53:29.871Z"
   },
   {
    "duration": 0,
    "start_time": "2022-05-05T21:53:29.872Z"
   },
   {
    "duration": 0,
    "start_time": "2022-05-05T21:53:29.873Z"
   },
   {
    "duration": 0,
    "start_time": "2022-05-05T21:53:29.874Z"
   },
   {
    "duration": 0,
    "start_time": "2022-05-05T21:53:29.875Z"
   },
   {
    "duration": 0,
    "start_time": "2022-05-05T21:53:29.876Z"
   },
   {
    "duration": 0,
    "start_time": "2022-05-05T21:53:29.877Z"
   },
   {
    "duration": 0,
    "start_time": "2022-05-05T21:53:29.878Z"
   },
   {
    "duration": 14,
    "start_time": "2022-05-05T21:53:53.109Z"
   },
   {
    "duration": 10,
    "start_time": "2022-05-05T21:53:56.332Z"
   },
   {
    "duration": 10,
    "start_time": "2022-05-05T21:53:59.338Z"
   },
   {
    "duration": 1726,
    "start_time": "2022-05-05T21:54:07.836Z"
   },
   {
    "duration": 1770,
    "start_time": "2022-05-05T21:55:03.577Z"
   },
   {
    "duration": 1681,
    "start_time": "2022-05-05T21:55:30.916Z"
   },
   {
    "duration": 18,
    "start_time": "2022-05-05T21:56:00.823Z"
   },
   {
    "duration": 5,
    "start_time": "2022-05-05T21:56:36.853Z"
   },
   {
    "duration": 5,
    "start_time": "2022-05-05T21:56:40.090Z"
   },
   {
    "duration": 4,
    "start_time": "2022-05-05T21:56:43.602Z"
   },
   {
    "duration": 11,
    "start_time": "2022-05-05T21:56:46.949Z"
   },
   {
    "duration": 4,
    "start_time": "2022-05-05T21:58:16.590Z"
   },
   {
    "duration": 11,
    "start_time": "2022-05-05T21:58:20.054Z"
   },
   {
    "duration": 15,
    "start_time": "2022-05-05T22:08:38.789Z"
   },
   {
    "duration": 10,
    "start_time": "2022-05-05T22:13:49.510Z"
   },
   {
    "duration": 11,
    "start_time": "2022-05-05T22:13:55.511Z"
   },
   {
    "duration": 4,
    "start_time": "2022-05-05T22:17:19.309Z"
   },
   {
    "duration": 11,
    "start_time": "2022-05-05T22:17:27.181Z"
   },
   {
    "duration": 11,
    "start_time": "2022-05-05T22:41:55.717Z"
   },
   {
    "duration": 12,
    "start_time": "2022-05-05T22:46:17.251Z"
   },
   {
    "duration": 8,
    "start_time": "2022-05-05T22:46:38.340Z"
   },
   {
    "duration": 9,
    "start_time": "2022-05-05T22:46:54.924Z"
   },
   {
    "duration": 3,
    "start_time": "2022-05-05T22:50:54.076Z"
   },
   {
    "duration": 13,
    "start_time": "2022-05-05T22:51:05.625Z"
   },
   {
    "duration": 13,
    "start_time": "2022-05-05T22:53:14.500Z"
   },
   {
    "duration": 14,
    "start_time": "2022-05-05T22:54:05.705Z"
   },
   {
    "duration": 456,
    "start_time": "2022-05-05T22:54:31.389Z"
   },
   {
    "duration": 13,
    "start_time": "2022-05-05T22:54:45.529Z"
   },
   {
    "duration": 10,
    "start_time": "2022-05-05T22:55:17.199Z"
   },
   {
    "duration": 9,
    "start_time": "2022-05-05T22:55:26.186Z"
   },
   {
    "duration": 10,
    "start_time": "2022-05-05T22:55:30.410Z"
   },
   {
    "duration": 13,
    "start_time": "2022-05-05T23:07:36.162Z"
   },
   {
    "duration": 9,
    "start_time": "2022-05-05T23:08:04.002Z"
   },
   {
    "duration": 11,
    "start_time": "2022-05-05T23:08:17.397Z"
   },
   {
    "duration": 9,
    "start_time": "2022-05-05T23:10:20.987Z"
   },
   {
    "duration": 13,
    "start_time": "2022-05-05T23:11:22.393Z"
   },
   {
    "duration": 1082,
    "start_time": "2022-05-05T23:15:14.700Z"
   },
   {
    "duration": 36,
    "start_time": "2022-05-05T23:15:15.784Z"
   },
   {
    "duration": 11,
    "start_time": "2022-05-05T23:15:15.822Z"
   },
   {
    "duration": 10,
    "start_time": "2022-05-05T23:15:15.835Z"
   },
   {
    "duration": 7,
    "start_time": "2022-05-05T23:15:15.847Z"
   },
   {
    "duration": 9,
    "start_time": "2022-05-05T23:15:15.855Z"
   },
   {
    "duration": 10,
    "start_time": "2022-05-05T23:15:15.866Z"
   },
   {
    "duration": 10,
    "start_time": "2022-05-05T23:15:15.878Z"
   },
   {
    "duration": 8,
    "start_time": "2022-05-05T23:15:15.889Z"
   },
   {
    "duration": 7,
    "start_time": "2022-05-05T23:15:15.899Z"
   },
   {
    "duration": 12,
    "start_time": "2022-05-05T23:15:15.907Z"
   },
   {
    "duration": 9,
    "start_time": "2022-05-05T23:15:15.948Z"
   },
   {
    "duration": 15,
    "start_time": "2022-05-05T23:15:15.959Z"
   },
   {
    "duration": 6,
    "start_time": "2022-05-05T23:15:15.976Z"
   },
   {
    "duration": 12,
    "start_time": "2022-05-05T23:15:15.983Z"
   },
   {
    "duration": 8,
    "start_time": "2022-05-05T23:15:15.997Z"
   },
   {
    "duration": 4,
    "start_time": "2022-05-05T23:15:16.007Z"
   },
   {
    "duration": 37,
    "start_time": "2022-05-05T23:15:16.012Z"
   },
   {
    "duration": 12,
    "start_time": "2022-05-05T23:15:16.050Z"
   },
   {
    "duration": 6,
    "start_time": "2022-05-05T23:15:16.064Z"
   },
   {
    "duration": 10,
    "start_time": "2022-05-05T23:15:16.072Z"
   },
   {
    "duration": 10,
    "start_time": "2022-05-05T23:15:16.083Z"
   },
   {
    "duration": 7,
    "start_time": "2022-05-05T23:15:16.094Z"
   },
   {
    "duration": 5,
    "start_time": "2022-05-05T23:15:16.103Z"
   },
   {
    "duration": 10,
    "start_time": "2022-05-05T23:15:16.109Z"
   },
   {
    "duration": 26,
    "start_time": "2022-05-05T23:15:16.121Z"
   },
   {
    "duration": 4,
    "start_time": "2022-05-05T23:15:16.149Z"
   },
   {
    "duration": 8,
    "start_time": "2022-05-05T23:15:16.156Z"
   },
   {
    "duration": 5,
    "start_time": "2022-05-05T23:15:16.166Z"
   },
   {
    "duration": 12,
    "start_time": "2022-05-05T23:15:16.173Z"
   },
   {
    "duration": 6,
    "start_time": "2022-05-05T23:15:16.187Z"
   },
   {
    "duration": 6,
    "start_time": "2022-05-05T23:15:16.194Z"
   },
   {
    "duration": 9,
    "start_time": "2022-05-05T23:15:16.201Z"
   },
   {
    "duration": 9,
    "start_time": "2022-05-05T23:15:16.212Z"
   },
   {
    "duration": 30,
    "start_time": "2022-05-05T23:15:16.223Z"
   },
   {
    "duration": 8,
    "start_time": "2022-05-05T23:15:16.254Z"
   },
   {
    "duration": 6,
    "start_time": "2022-05-05T23:15:16.263Z"
   },
   {
    "duration": 11,
    "start_time": "2022-05-05T23:15:16.270Z"
   },
   {
    "duration": 185,
    "start_time": "2022-05-05T23:15:16.282Z"
   },
   {
    "duration": 122,
    "start_time": "2022-05-05T23:15:16.469Z"
   },
   {
    "duration": 12,
    "start_time": "2022-05-05T23:15:16.593Z"
   },
   {
    "duration": 9,
    "start_time": "2022-05-05T23:15:16.606Z"
   },
   {
    "duration": 12,
    "start_time": "2022-05-05T23:15:16.617Z"
   },
   {
    "duration": 10,
    "start_time": "2022-05-05T23:15:16.646Z"
   },
   {
    "duration": 251,
    "start_time": "2022-05-05T23:15:16.657Z"
   },
   {
    "duration": 169,
    "start_time": "2022-05-05T23:15:16.909Z"
   },
   {
    "duration": 11,
    "start_time": "2022-05-05T23:15:17.080Z"
   },
   {
    "duration": 232,
    "start_time": "2022-05-05T23:15:17.093Z"
   },
   {
    "duration": 20,
    "start_time": "2022-05-05T23:15:17.327Z"
   },
   {
    "duration": 16,
    "start_time": "2022-05-05T23:15:17.349Z"
   },
   {
    "duration": 183,
    "start_time": "2022-05-05T23:15:17.366Z"
   },
   {
    "duration": 5,
    "start_time": "2022-05-05T23:15:17.551Z"
   },
   {
    "duration": 5,
    "start_time": "2022-05-05T23:15:17.557Z"
   },
   {
    "duration": 13,
    "start_time": "2022-05-05T23:15:17.563Z"
   },
   {
    "duration": 250,
    "start_time": "2022-05-05T23:15:17.577Z"
   },
   {
    "duration": 111,
    "start_time": "2022-05-05T23:15:17.829Z"
   },
   {
    "duration": 7,
    "start_time": "2022-05-05T23:15:17.942Z"
   },
   {
    "duration": 142,
    "start_time": "2022-05-05T23:15:17.950Z"
   },
   {
    "duration": 144,
    "start_time": "2022-05-05T23:15:18.094Z"
   },
   {
    "duration": 5,
    "start_time": "2022-05-05T23:15:18.246Z"
   },
   {
    "duration": 10,
    "start_time": "2022-05-05T23:15:18.252Z"
   },
   {
    "duration": 9,
    "start_time": "2022-05-05T23:15:18.264Z"
   },
   {
    "duration": 262,
    "start_time": "2022-05-05T23:15:18.275Z"
   },
   {
    "duration": 135,
    "start_time": "2022-05-05T23:15:18.538Z"
   },
   {
    "duration": 4,
    "start_time": "2022-05-05T23:15:18.675Z"
   },
   {
    "duration": 9,
    "start_time": "2022-05-05T23:15:18.680Z"
   },
   {
    "duration": 8,
    "start_time": "2022-05-05T23:15:18.691Z"
   },
   {
    "duration": 14,
    "start_time": "2022-05-05T23:15:18.700Z"
   },
   {
    "duration": 33,
    "start_time": "2022-05-05T23:15:18.715Z"
   },
   {
    "duration": 10,
    "start_time": "2022-05-05T23:15:18.750Z"
   },
   {
    "duration": 104,
    "start_time": "2022-05-05T23:15:18.762Z"
   },
   {
    "duration": 104,
    "start_time": "2022-05-05T23:23:27.818Z"
   },
   {
    "duration": 5,
    "start_time": "2022-05-05T23:23:36.303Z"
   },
   {
    "duration": 13,
    "start_time": "2022-05-05T23:23:53.880Z"
   },
   {
    "duration": 10,
    "start_time": "2022-05-05T23:24:09.298Z"
   },
   {
    "duration": 10,
    "start_time": "2022-05-05T23:24:12.754Z"
   },
   {
    "duration": 112,
    "start_time": "2022-05-05T23:27:47.074Z"
   },
   {
    "duration": 5,
    "start_time": "2022-05-06T01:01:40.848Z"
   },
   {
    "duration": 9,
    "start_time": "2022-05-06T01:02:36.136Z"
   },
   {
    "duration": 5,
    "start_time": "2022-05-06T01:02:45.445Z"
   },
   {
    "duration": 10,
    "start_time": "2022-05-06T01:04:39.420Z"
   },
   {
    "duration": 8,
    "start_time": "2022-05-06T01:05:17.396Z"
   },
   {
    "duration": 5,
    "start_time": "2022-05-06T01:05:26.578Z"
   },
   {
    "duration": 5,
    "start_time": "2022-05-06T01:05:30.084Z"
   },
   {
    "duration": 1975,
    "start_time": "2022-05-06T01:05:32.853Z"
   },
   {
    "duration": 1841,
    "start_time": "2022-05-06T01:05:49.571Z"
   },
   {
    "duration": 9,
    "start_time": "2022-05-06T01:08:03.281Z"
   },
   {
    "duration": 3,
    "start_time": "2022-05-06T01:08:37.322Z"
   },
   {
    "duration": 4,
    "start_time": "2022-05-06T01:08:47.968Z"
   },
   {
    "duration": 5,
    "start_time": "2022-05-06T01:09:32.006Z"
   },
   {
    "duration": 4,
    "start_time": "2022-05-06T01:09:55.868Z"
   },
   {
    "duration": 5,
    "start_time": "2022-05-06T01:10:05.054Z"
   },
   {
    "duration": 18,
    "start_time": "2022-05-06T01:13:37.808Z"
   },
   {
    "duration": 9,
    "start_time": "2022-05-06T01:19:23.922Z"
   },
   {
    "duration": 9,
    "start_time": "2022-05-06T01:19:28.887Z"
   },
   {
    "duration": 4,
    "start_time": "2022-05-06T01:26:20.062Z"
   },
   {
    "duration": 104,
    "start_time": "2022-05-06T01:26:32.887Z"
   },
   {
    "duration": 9,
    "start_time": "2022-05-06T01:26:43.053Z"
   },
   {
    "duration": 4,
    "start_time": "2022-05-06T01:27:22.669Z"
   },
   {
    "duration": 5,
    "start_time": "2022-05-06T01:39:09.150Z"
   },
   {
    "duration": 4,
    "start_time": "2022-05-06T01:39:13.431Z"
   },
   {
    "duration": 4,
    "start_time": "2022-05-06T01:40:02.095Z"
   },
   {
    "duration": 4,
    "start_time": "2022-05-06T01:40:55.129Z"
   },
   {
    "duration": 4,
    "start_time": "2022-05-06T01:40:58.057Z"
   },
   {
    "duration": 12,
    "start_time": "2022-05-06T01:41:06.615Z"
   },
   {
    "duration": 3,
    "start_time": "2022-05-06T01:44:01.496Z"
   },
   {
    "duration": 13,
    "start_time": "2022-05-06T01:44:04.880Z"
   },
   {
    "duration": 9,
    "start_time": "2022-05-06T01:44:08.074Z"
   },
   {
    "duration": 10,
    "start_time": "2022-05-06T01:44:11.484Z"
   },
   {
    "duration": 5,
    "start_time": "2022-05-06T01:44:14.944Z"
   },
   {
    "duration": 5,
    "start_time": "2022-05-06T01:44:17.658Z"
   },
   {
    "duration": 4,
    "start_time": "2022-05-06T01:44:20.592Z"
   },
   {
    "duration": 5,
    "start_time": "2022-05-06T01:44:26.253Z"
   },
   {
    "duration": 10,
    "start_time": "2022-05-06T01:44:36.222Z"
   },
   {
    "duration": 9,
    "start_time": "2022-05-06T01:44:47.726Z"
   },
   {
    "duration": 4,
    "start_time": "2022-05-06T01:45:22.935Z"
   },
   {
    "duration": 4,
    "start_time": "2022-05-06T01:46:06.426Z"
   },
   {
    "duration": 4,
    "start_time": "2022-05-06T01:46:27.244Z"
   },
   {
    "duration": 11,
    "start_time": "2022-05-06T01:46:31.020Z"
   },
   {
    "duration": 107,
    "start_time": "2022-05-06T01:56:04.814Z"
   },
   {
    "duration": 107,
    "start_time": "2022-05-06T01:56:20.404Z"
   },
   {
    "duration": 104,
    "start_time": "2022-05-06T01:56:51.443Z"
   },
   {
    "duration": 11,
    "start_time": "2022-05-06T01:57:32.999Z"
   },
   {
    "duration": 3,
    "start_time": "2022-05-06T02:05:53.206Z"
   },
   {
    "duration": 3,
    "start_time": "2022-05-06T02:06:08.092Z"
   },
   {
    "duration": 117,
    "start_time": "2022-05-06T02:06:17.598Z"
   },
   {
    "duration": 111,
    "start_time": "2022-05-06T02:06:25.494Z"
   },
   {
    "duration": 4,
    "start_time": "2022-05-06T02:07:04.138Z"
   },
   {
    "duration": 15,
    "start_time": "2022-05-06T02:07:10.282Z"
   },
   {
    "duration": 7,
    "start_time": "2022-05-06T02:39:55.693Z"
   },
   {
    "duration": 1051,
    "start_time": "2022-05-06T02:41:26.709Z"
   },
   {
    "duration": 40,
    "start_time": "2022-05-06T02:41:27.762Z"
   },
   {
    "duration": 10,
    "start_time": "2022-05-06T02:41:27.803Z"
   },
   {
    "duration": 10,
    "start_time": "2022-05-06T02:41:27.815Z"
   },
   {
    "duration": 7,
    "start_time": "2022-05-06T02:41:27.826Z"
   },
   {
    "duration": 9,
    "start_time": "2022-05-06T02:41:27.834Z"
   },
   {
    "duration": 9,
    "start_time": "2022-05-06T02:41:27.844Z"
   },
   {
    "duration": 9,
    "start_time": "2022-05-06T02:41:27.855Z"
   },
   {
    "duration": 5,
    "start_time": "2022-05-06T02:41:27.866Z"
   },
   {
    "duration": 5,
    "start_time": "2022-05-06T02:41:27.873Z"
   },
   {
    "duration": 8,
    "start_time": "2022-05-06T02:41:27.880Z"
   },
   {
    "duration": 7,
    "start_time": "2022-05-06T02:41:27.890Z"
   },
   {
    "duration": 13,
    "start_time": "2022-05-06T02:41:27.899Z"
   },
   {
    "duration": 34,
    "start_time": "2022-05-06T02:41:27.914Z"
   },
   {
    "duration": 9,
    "start_time": "2022-05-06T02:41:27.950Z"
   },
   {
    "duration": 8,
    "start_time": "2022-05-06T02:41:27.961Z"
   },
   {
    "duration": 3,
    "start_time": "2022-05-06T02:41:27.970Z"
   },
   {
    "duration": 6,
    "start_time": "2022-05-06T02:41:27.974Z"
   },
   {
    "duration": 9,
    "start_time": "2022-05-06T02:41:27.982Z"
   },
   {
    "duration": 6,
    "start_time": "2022-05-06T02:41:27.992Z"
   },
   {
    "duration": 9,
    "start_time": "2022-05-06T02:41:28.000Z"
   },
   {
    "duration": 41,
    "start_time": "2022-05-06T02:41:28.010Z"
   },
   {
    "duration": 5,
    "start_time": "2022-05-06T02:41:28.052Z"
   },
   {
    "duration": 5,
    "start_time": "2022-05-06T02:41:28.059Z"
   },
   {
    "duration": 5,
    "start_time": "2022-05-06T02:41:28.065Z"
   },
   {
    "duration": 5,
    "start_time": "2022-05-06T02:41:28.071Z"
   },
   {
    "duration": 6,
    "start_time": "2022-05-06T02:41:28.078Z"
   },
   {
    "duration": 4,
    "start_time": "2022-05-06T02:41:28.087Z"
   },
   {
    "duration": 6,
    "start_time": "2022-05-06T02:41:28.092Z"
   },
   {
    "duration": 9,
    "start_time": "2022-05-06T02:41:28.099Z"
   },
   {
    "duration": 5,
    "start_time": "2022-05-06T02:41:28.109Z"
   },
   {
    "duration": 32,
    "start_time": "2022-05-06T02:41:28.116Z"
   },
   {
    "duration": 8,
    "start_time": "2022-05-06T02:41:28.150Z"
   },
   {
    "duration": 11,
    "start_time": "2022-05-06T02:41:28.160Z"
   },
   {
    "duration": 8,
    "start_time": "2022-05-06T02:41:28.172Z"
   },
   {
    "duration": 6,
    "start_time": "2022-05-06T02:41:28.182Z"
   },
   {
    "duration": 2,
    "start_time": "2022-05-06T02:41:28.190Z"
   },
   {
    "duration": 10,
    "start_time": "2022-05-06T02:41:28.194Z"
   },
   {
    "duration": 216,
    "start_time": "2022-05-06T02:41:28.205Z"
   },
   {
    "duration": 117,
    "start_time": "2022-05-06T02:41:28.423Z"
   },
   {
    "duration": 17,
    "start_time": "2022-05-06T02:41:28.541Z"
   },
   {
    "duration": 9,
    "start_time": "2022-05-06T02:41:28.560Z"
   },
   {
    "duration": 8,
    "start_time": "2022-05-06T02:41:28.571Z"
   },
   {
    "duration": 8,
    "start_time": "2022-05-06T02:41:28.581Z"
   },
   {
    "duration": 264,
    "start_time": "2022-05-06T02:41:28.591Z"
   },
   {
    "duration": 166,
    "start_time": "2022-05-06T02:41:28.856Z"
   },
   {
    "duration": 11,
    "start_time": "2022-05-06T02:41:29.023Z"
   },
   {
    "duration": 268,
    "start_time": "2022-05-06T02:41:29.048Z"
   },
   {
    "duration": 11,
    "start_time": "2022-05-06T02:41:29.317Z"
   },
   {
    "duration": 30,
    "start_time": "2022-05-06T02:41:29.329Z"
   },
   {
    "duration": 178,
    "start_time": "2022-05-06T02:41:29.360Z"
   },
   {
    "duration": 8,
    "start_time": "2022-05-06T02:41:29.540Z"
   },
   {
    "duration": 4,
    "start_time": "2022-05-06T02:41:29.549Z"
   },
   {
    "duration": 14,
    "start_time": "2022-05-06T02:41:29.554Z"
   },
   {
    "duration": 254,
    "start_time": "2022-05-06T02:41:29.570Z"
   },
   {
    "duration": 126,
    "start_time": "2022-05-06T02:41:29.825Z"
   },
   {
    "duration": 7,
    "start_time": "2022-05-06T02:41:29.952Z"
   },
   {
    "duration": 133,
    "start_time": "2022-05-06T02:41:29.961Z"
   },
   {
    "duration": 139,
    "start_time": "2022-05-06T02:41:30.095Z"
   },
   {
    "duration": 12,
    "start_time": "2022-05-06T02:41:30.235Z"
   },
   {
    "duration": 9,
    "start_time": "2022-05-06T02:41:30.249Z"
   },
   {
    "duration": 12,
    "start_time": "2022-05-06T02:41:30.259Z"
   },
   {
    "duration": 250,
    "start_time": "2022-05-06T02:41:30.272Z"
   },
   {
    "duration": 138,
    "start_time": "2022-05-06T02:41:30.523Z"
   },
   {
    "duration": 4,
    "start_time": "2022-05-06T02:41:30.663Z"
   },
   {
    "duration": 15,
    "start_time": "2022-05-06T02:41:30.669Z"
   },
   {
    "duration": 35,
    "start_time": "2022-05-06T02:41:30.685Z"
   },
   {
    "duration": 12,
    "start_time": "2022-05-06T02:41:30.721Z"
   },
   {
    "duration": 16,
    "start_time": "2022-05-06T02:41:30.734Z"
   },
   {
    "duration": 99,
    "start_time": "2022-05-06T02:41:30.751Z"
   },
   {
    "duration": 0,
    "start_time": "2022-05-06T02:41:30.852Z"
   },
   {
    "duration": 0,
    "start_time": "2022-05-06T02:41:30.853Z"
   },
   {
    "duration": 0,
    "start_time": "2022-05-06T02:41:30.854Z"
   },
   {
    "duration": 0,
    "start_time": "2022-05-06T02:41:30.855Z"
   },
   {
    "duration": 8,
    "start_time": "2022-05-06T02:42:38.056Z"
   },
   {
    "duration": 600,
    "start_time": "2022-05-06T02:43:51.770Z"
   },
   {
    "duration": 67,
    "start_time": "2022-05-06T02:43:55.223Z"
   },
   {
    "duration": 528,
    "start_time": "2022-05-06T02:44:02.443Z"
   },
   {
    "duration": 35,
    "start_time": "2022-05-06T02:44:02.973Z"
   },
   {
    "duration": 10,
    "start_time": "2022-05-06T02:44:03.010Z"
   },
   {
    "duration": 12,
    "start_time": "2022-05-06T02:44:03.022Z"
   },
   {
    "duration": 6,
    "start_time": "2022-05-06T02:44:03.035Z"
   },
   {
    "duration": 10,
    "start_time": "2022-05-06T02:44:03.042Z"
   },
   {
    "duration": 10,
    "start_time": "2022-05-06T02:44:03.053Z"
   },
   {
    "duration": 11,
    "start_time": "2022-05-06T02:44:03.064Z"
   },
   {
    "duration": 7,
    "start_time": "2022-05-06T02:44:03.076Z"
   },
   {
    "duration": 4,
    "start_time": "2022-05-06T02:44:03.085Z"
   },
   {
    "duration": 8,
    "start_time": "2022-05-06T02:44:03.090Z"
   },
   {
    "duration": 8,
    "start_time": "2022-05-06T02:44:03.099Z"
   },
   {
    "duration": 45,
    "start_time": "2022-05-06T02:44:03.109Z"
   },
   {
    "duration": 7,
    "start_time": "2022-05-06T02:44:03.155Z"
   },
   {
    "duration": 11,
    "start_time": "2022-05-06T02:44:03.163Z"
   },
   {
    "duration": 8,
    "start_time": "2022-05-06T02:44:03.175Z"
   },
   {
    "duration": 4,
    "start_time": "2022-05-06T02:44:03.184Z"
   },
   {
    "duration": 6,
    "start_time": "2022-05-06T02:44:03.189Z"
   },
   {
    "duration": 9,
    "start_time": "2022-05-06T02:44:03.196Z"
   },
   {
    "duration": 6,
    "start_time": "2022-05-06T02:44:03.206Z"
   },
   {
    "duration": 38,
    "start_time": "2022-05-06T02:44:03.213Z"
   },
   {
    "duration": 7,
    "start_time": "2022-05-06T02:44:03.253Z"
   },
   {
    "duration": 5,
    "start_time": "2022-05-06T02:44:03.261Z"
   },
   {
    "duration": 4,
    "start_time": "2022-05-06T02:44:03.268Z"
   },
   {
    "duration": 9,
    "start_time": "2022-05-06T02:44:03.273Z"
   },
   {
    "duration": 5,
    "start_time": "2022-05-06T02:44:03.283Z"
   },
   {
    "duration": 5,
    "start_time": "2022-05-06T02:44:03.290Z"
   },
   {
    "duration": 4,
    "start_time": "2022-05-06T02:44:03.298Z"
   },
   {
    "duration": 5,
    "start_time": "2022-05-06T02:44:03.303Z"
   },
   {
    "duration": 39,
    "start_time": "2022-05-06T02:44:03.310Z"
   },
   {
    "duration": 4,
    "start_time": "2022-05-06T02:44:03.350Z"
   },
   {
    "duration": 7,
    "start_time": "2022-05-06T02:44:03.355Z"
   },
   {
    "duration": 9,
    "start_time": "2022-05-06T02:44:03.363Z"
   },
   {
    "duration": 10,
    "start_time": "2022-05-06T02:44:03.373Z"
   },
   {
    "duration": 15,
    "start_time": "2022-05-06T02:44:03.385Z"
   },
   {
    "duration": 21,
    "start_time": "2022-05-06T02:44:03.402Z"
   },
   {
    "duration": 8,
    "start_time": "2022-05-06T02:44:03.425Z"
   },
   {
    "duration": 19,
    "start_time": "2022-05-06T02:44:03.435Z"
   },
   {
    "duration": 178,
    "start_time": "2022-05-06T02:44:03.455Z"
   },
   {
    "duration": 130,
    "start_time": "2022-05-06T02:44:03.635Z"
   },
   {
    "duration": 11,
    "start_time": "2022-05-06T02:44:03.767Z"
   },
   {
    "duration": 9,
    "start_time": "2022-05-06T02:44:03.780Z"
   },
   {
    "duration": 10,
    "start_time": "2022-05-06T02:44:03.791Z"
   },
   {
    "duration": 10,
    "start_time": "2022-05-06T02:44:03.803Z"
   },
   {
    "duration": 270,
    "start_time": "2022-05-06T02:44:03.815Z"
   },
   {
    "duration": 178,
    "start_time": "2022-05-06T02:44:04.086Z"
   },
   {
    "duration": 12,
    "start_time": "2022-05-06T02:44:04.266Z"
   },
   {
    "duration": 250,
    "start_time": "2022-05-06T02:44:04.279Z"
   },
   {
    "duration": 21,
    "start_time": "2022-05-06T02:44:04.530Z"
   },
   {
    "duration": 18,
    "start_time": "2022-05-06T02:44:04.553Z"
   },
   {
    "duration": 190,
    "start_time": "2022-05-06T02:44:04.573Z"
   },
   {
    "duration": 6,
    "start_time": "2022-05-06T02:44:04.765Z"
   },
   {
    "duration": 5,
    "start_time": "2022-05-06T02:44:04.772Z"
   },
   {
    "duration": 12,
    "start_time": "2022-05-06T02:44:04.779Z"
   },
   {
    "duration": 243,
    "start_time": "2022-05-06T02:44:04.793Z"
   },
   {
    "duration": 128,
    "start_time": "2022-05-06T02:44:05.038Z"
   },
   {
    "duration": 15,
    "start_time": "2022-05-06T02:44:05.168Z"
   },
   {
    "duration": 130,
    "start_time": "2022-05-06T02:44:05.185Z"
   },
   {
    "duration": 132,
    "start_time": "2022-05-06T02:44:05.317Z"
   },
   {
    "duration": 5,
    "start_time": "2022-05-06T02:44:05.450Z"
   },
   {
    "duration": 17,
    "start_time": "2022-05-06T02:44:05.456Z"
   },
   {
    "duration": 12,
    "start_time": "2022-05-06T02:44:05.474Z"
   },
   {
    "duration": 253,
    "start_time": "2022-05-06T02:44:05.488Z"
   },
   {
    "duration": 134,
    "start_time": "2022-05-06T02:44:05.742Z"
   },
   {
    "duration": 4,
    "start_time": "2022-05-06T02:44:05.878Z"
   },
   {
    "duration": 5,
    "start_time": "2022-05-06T02:44:05.884Z"
   },
   {
    "duration": 16,
    "start_time": "2022-05-06T02:44:05.891Z"
   },
   {
    "duration": 8,
    "start_time": "2022-05-06T02:44:05.909Z"
   },
   {
    "duration": 29,
    "start_time": "2022-05-06T02:44:05.919Z"
   },
   {
    "duration": 7,
    "start_time": "2022-05-06T02:44:05.950Z"
   },
   {
    "duration": 5,
    "start_time": "2022-05-06T03:15:01.321Z"
   },
   {
    "duration": 58,
    "start_time": "2022-05-06T03:15:01.328Z"
   },
   {
    "duration": 7,
    "start_time": "2022-05-06T03:15:01.389Z"
   },
   {
    "duration": 14,
    "start_time": "2022-05-06T03:15:01.398Z"
   },
   {
    "duration": 9,
    "start_time": "2022-05-06T03:15:01.414Z"
   },
   {
    "duration": 10,
    "start_time": "2022-05-06T03:15:01.424Z"
   },
   {
    "duration": 12,
    "start_time": "2022-05-06T03:15:01.436Z"
   },
   {
    "duration": 14,
    "start_time": "2022-05-06T03:15:01.449Z"
   },
   {
    "duration": 7,
    "start_time": "2022-05-06T03:15:01.465Z"
   },
   {
    "duration": 5,
    "start_time": "2022-05-06T03:15:01.474Z"
   },
   {
    "duration": 9,
    "start_time": "2022-05-06T03:15:01.481Z"
   },
   {
    "duration": 9,
    "start_time": "2022-05-06T03:15:01.491Z"
   },
   {
    "duration": 13,
    "start_time": "2022-05-06T03:15:01.501Z"
   },
   {
    "duration": 5,
    "start_time": "2022-05-06T03:15:01.547Z"
   },
   {
    "duration": 12,
    "start_time": "2022-05-06T03:15:01.553Z"
   },
   {
    "duration": 8,
    "start_time": "2022-05-06T03:15:01.567Z"
   },
   {
    "duration": 5,
    "start_time": "2022-05-06T03:15:01.577Z"
   },
   {
    "duration": 11,
    "start_time": "2022-05-06T03:15:01.583Z"
   },
   {
    "duration": 8,
    "start_time": "2022-05-06T03:15:01.596Z"
   },
   {
    "duration": 9,
    "start_time": "2022-05-06T03:15:01.606Z"
   },
   {
    "duration": 10,
    "start_time": "2022-05-06T03:15:01.647Z"
   },
   {
    "duration": 8,
    "start_time": "2022-05-06T03:15:01.659Z"
   },
   {
    "duration": 6,
    "start_time": "2022-05-06T03:15:01.668Z"
   },
   {
    "duration": 8,
    "start_time": "2022-05-06T03:15:01.676Z"
   },
   {
    "duration": 13,
    "start_time": "2022-05-06T03:15:01.686Z"
   },
   {
    "duration": 5,
    "start_time": "2022-05-06T03:15:01.700Z"
   },
   {
    "duration": 6,
    "start_time": "2022-05-06T03:15:01.706Z"
   },
   {
    "duration": 6,
    "start_time": "2022-05-06T03:15:01.713Z"
   },
   {
    "duration": 24,
    "start_time": "2022-05-06T03:15:01.723Z"
   },
   {
    "duration": 16,
    "start_time": "2022-05-06T03:15:01.749Z"
   },
   {
    "duration": 5,
    "start_time": "2022-05-06T03:15:01.767Z"
   },
   {
    "duration": 6,
    "start_time": "2022-05-06T03:15:01.773Z"
   },
   {
    "duration": 9,
    "start_time": "2022-05-06T03:15:01.780Z"
   },
   {
    "duration": 9,
    "start_time": "2022-05-06T03:15:01.791Z"
   },
   {
    "duration": 9,
    "start_time": "2022-05-06T03:15:01.801Z"
   },
   {
    "duration": 8,
    "start_time": "2022-05-06T03:15:01.811Z"
   },
   {
    "duration": 5,
    "start_time": "2022-05-06T03:15:01.820Z"
   },
   {
    "duration": 9,
    "start_time": "2022-05-06T03:15:01.847Z"
   },
   {
    "duration": 176,
    "start_time": "2022-05-06T03:15:01.858Z"
   },
   {
    "duration": 124,
    "start_time": "2022-05-06T03:15:02.036Z"
   },
   {
    "duration": 11,
    "start_time": "2022-05-06T03:15:02.161Z"
   },
   {
    "duration": 10,
    "start_time": "2022-05-06T03:15:02.173Z"
   },
   {
    "duration": 10,
    "start_time": "2022-05-06T03:15:02.184Z"
   },
   {
    "duration": 10,
    "start_time": "2022-05-06T03:15:02.195Z"
   },
   {
    "duration": 204,
    "start_time": "2022-05-06T03:15:02.207Z"
   },
   {
    "duration": 170,
    "start_time": "2022-05-06T03:15:02.412Z"
   },
   {
    "duration": 12,
    "start_time": "2022-05-06T03:15:02.584Z"
   },
   {
    "duration": 233,
    "start_time": "2022-05-06T03:15:02.597Z"
   },
   {
    "duration": 19,
    "start_time": "2022-05-06T03:15:02.831Z"
   },
   {
    "duration": 19,
    "start_time": "2022-05-06T03:15:02.852Z"
   },
   {
    "duration": 191,
    "start_time": "2022-05-06T03:15:02.873Z"
   },
   {
    "duration": 5,
    "start_time": "2022-05-06T03:15:03.066Z"
   },
   {
    "duration": 6,
    "start_time": "2022-05-06T03:15:03.072Z"
   },
   {
    "duration": 16,
    "start_time": "2022-05-06T03:15:03.080Z"
   },
   {
    "duration": 243,
    "start_time": "2022-05-06T03:15:03.097Z"
   },
   {
    "duration": 124,
    "start_time": "2022-05-06T03:15:03.342Z"
   },
   {
    "duration": 7,
    "start_time": "2022-05-06T03:15:03.467Z"
   },
   {
    "duration": 139,
    "start_time": "2022-05-06T03:15:03.475Z"
   },
   {
    "duration": 134,
    "start_time": "2022-05-06T03:15:03.616Z"
   },
   {
    "duration": 4,
    "start_time": "2022-05-06T03:15:03.752Z"
   },
   {
    "duration": 15,
    "start_time": "2022-05-06T03:15:03.758Z"
   },
   {
    "duration": 11,
    "start_time": "2022-05-06T03:15:03.774Z"
   },
   {
    "duration": 263,
    "start_time": "2022-05-06T03:15:03.786Z"
   },
   {
    "duration": 136,
    "start_time": "2022-05-06T03:15:04.051Z"
   },
   {
    "duration": 5,
    "start_time": "2022-05-06T03:15:04.189Z"
   },
   {
    "duration": 4,
    "start_time": "2022-05-06T03:15:04.196Z"
   },
   {
    "duration": 14,
    "start_time": "2022-05-06T03:15:04.201Z"
   },
   {
    "duration": 9,
    "start_time": "2022-05-06T03:15:04.216Z"
   },
   {
    "duration": 12,
    "start_time": "2022-05-06T03:15:04.247Z"
   },
   {
    "duration": 3,
    "start_time": "2022-05-06T03:16:26.891Z"
   },
   {
    "duration": 4,
    "start_time": "2022-05-06T03:16:33.587Z"
   },
   {
    "duration": 5,
    "start_time": "2022-05-06T03:17:28.292Z"
   },
   {
    "duration": 16,
    "start_time": "2022-05-06T03:17:37.171Z"
   },
   {
    "duration": 10,
    "start_time": "2022-05-06T03:18:01.794Z"
   },
   {
    "duration": 11,
    "start_time": "2022-05-06T03:18:47.611Z"
   },
   {
    "duration": 3,
    "start_time": "2022-05-06T03:20:12.771Z"
   },
   {
    "duration": 38,
    "start_time": "2022-05-06T03:59:14.310Z"
   },
   {
    "duration": 43,
    "start_time": "2022-05-06T04:51:22.553Z"
   },
   {
    "duration": 5,
    "start_time": "2022-05-06T04:52:01.118Z"
   },
   {
    "duration": 6,
    "start_time": "2022-05-06T04:52:22.136Z"
   },
   {
    "duration": 6,
    "start_time": "2022-05-06T04:52:43.562Z"
   },
   {
    "duration": 6,
    "start_time": "2022-05-06T04:54:38.376Z"
   },
   {
    "duration": 1157,
    "start_time": "2022-05-06T04:54:47.571Z"
   },
   {
    "duration": 65,
    "start_time": "2022-05-06T04:54:48.730Z"
   },
   {
    "duration": 10,
    "start_time": "2022-05-06T04:54:48.797Z"
   },
   {
    "duration": 10,
    "start_time": "2022-05-06T04:54:48.808Z"
   },
   {
    "duration": 5,
    "start_time": "2022-05-06T04:54:48.819Z"
   },
   {
    "duration": 8,
    "start_time": "2022-05-06T04:54:48.825Z"
   },
   {
    "duration": 8,
    "start_time": "2022-05-06T04:54:48.835Z"
   },
   {
    "duration": 11,
    "start_time": "2022-05-06T04:54:48.845Z"
   },
   {
    "duration": 7,
    "start_time": "2022-05-06T04:54:48.857Z"
   },
   {
    "duration": 34,
    "start_time": "2022-05-06T04:54:48.866Z"
   },
   {
    "duration": 8,
    "start_time": "2022-05-06T04:54:48.902Z"
   },
   {
    "duration": 7,
    "start_time": "2022-05-06T04:54:48.911Z"
   },
   {
    "duration": 12,
    "start_time": "2022-05-06T04:54:48.920Z"
   },
   {
    "duration": 7,
    "start_time": "2022-05-06T04:54:48.933Z"
   },
   {
    "duration": 10,
    "start_time": "2022-05-06T04:54:48.942Z"
   },
   {
    "duration": 9,
    "start_time": "2022-05-06T04:54:48.953Z"
   },
   {
    "duration": 3,
    "start_time": "2022-05-06T04:54:48.963Z"
   },
   {
    "duration": 36,
    "start_time": "2022-05-06T04:54:48.967Z"
   },
   {
    "duration": 9,
    "start_time": "2022-05-06T04:54:49.005Z"
   },
   {
    "duration": 6,
    "start_time": "2022-05-06T04:54:49.015Z"
   },
   {
    "duration": 9,
    "start_time": "2022-05-06T04:54:49.022Z"
   },
   {
    "duration": 5,
    "start_time": "2022-05-06T04:54:49.032Z"
   },
   {
    "duration": 6,
    "start_time": "2022-05-06T04:54:49.039Z"
   },
   {
    "duration": 7,
    "start_time": "2022-05-06T04:54:49.046Z"
   },
   {
    "duration": 9,
    "start_time": "2022-05-06T04:54:49.054Z"
   },
   {
    "duration": 4,
    "start_time": "2022-05-06T04:54:49.064Z"
   },
   {
    "duration": 32,
    "start_time": "2022-05-06T04:54:49.069Z"
   },
   {
    "duration": 3,
    "start_time": "2022-05-06T04:54:49.105Z"
   },
   {
    "duration": 5,
    "start_time": "2022-05-06T04:54:49.109Z"
   },
   {
    "duration": 9,
    "start_time": "2022-05-06T04:54:49.115Z"
   },
   {
    "duration": 4,
    "start_time": "2022-05-06T04:54:49.125Z"
   },
   {
    "duration": 7,
    "start_time": "2022-05-06T04:54:49.131Z"
   },
   {
    "duration": 9,
    "start_time": "2022-05-06T04:54:49.139Z"
   },
   {
    "duration": 11,
    "start_time": "2022-05-06T04:54:49.149Z"
   },
   {
    "duration": 11,
    "start_time": "2022-05-06T04:54:49.161Z"
   },
   {
    "duration": 28,
    "start_time": "2022-05-06T04:54:49.173Z"
   },
   {
    "duration": 4,
    "start_time": "2022-05-06T04:54:49.202Z"
   },
   {
    "duration": 11,
    "start_time": "2022-05-06T04:54:49.207Z"
   },
   {
    "duration": 185,
    "start_time": "2022-05-06T04:54:49.219Z"
   },
   {
    "duration": 122,
    "start_time": "2022-05-06T04:54:49.405Z"
   },
   {
    "duration": 12,
    "start_time": "2022-05-06T04:54:49.528Z"
   },
   {
    "duration": 10,
    "start_time": "2022-05-06T04:54:49.541Z"
   },
   {
    "duration": 9,
    "start_time": "2022-05-06T04:54:49.552Z"
   },
   {
    "duration": 8,
    "start_time": "2022-05-06T04:54:49.562Z"
   },
   {
    "duration": 266,
    "start_time": "2022-05-06T04:54:49.572Z"
   },
   {
    "duration": 165,
    "start_time": "2022-05-06T04:54:49.839Z"
   },
   {
    "duration": 11,
    "start_time": "2022-05-06T04:54:50.006Z"
   },
   {
    "duration": 252,
    "start_time": "2022-05-06T04:54:50.019Z"
   },
   {
    "duration": 10,
    "start_time": "2022-05-06T04:54:50.273Z"
   },
   {
    "duration": 29,
    "start_time": "2022-05-06T04:54:50.285Z"
   },
   {
    "duration": 169,
    "start_time": "2022-05-06T04:54:50.315Z"
   },
   {
    "duration": 4,
    "start_time": "2022-05-06T04:54:50.486Z"
   },
   {
    "duration": 12,
    "start_time": "2022-05-06T04:54:50.491Z"
   },
   {
    "duration": 13,
    "start_time": "2022-05-06T04:54:50.505Z"
   },
   {
    "duration": 244,
    "start_time": "2022-05-06T04:54:50.519Z"
   },
   {
    "duration": 125,
    "start_time": "2022-05-06T04:54:50.764Z"
   },
   {
    "duration": 7,
    "start_time": "2022-05-06T04:54:50.900Z"
   },
   {
    "duration": 123,
    "start_time": "2022-05-06T04:54:50.909Z"
   },
   {
    "duration": 135,
    "start_time": "2022-05-06T04:54:51.033Z"
   },
   {
    "duration": 4,
    "start_time": "2022-05-06T04:54:51.170Z"
   },
   {
    "duration": 15,
    "start_time": "2022-05-06T04:54:51.175Z"
   },
   {
    "duration": 17,
    "start_time": "2022-05-06T04:54:51.191Z"
   },
   {
    "duration": 232,
    "start_time": "2022-05-06T04:54:51.209Z"
   },
   {
    "duration": 133,
    "start_time": "2022-05-06T04:54:51.442Z"
   },
   {
    "duration": 4,
    "start_time": "2022-05-06T04:54:51.576Z"
   },
   {
    "duration": 4,
    "start_time": "2022-05-06T04:54:51.582Z"
   },
   {
    "duration": 22,
    "start_time": "2022-05-06T04:54:51.588Z"
   },
   {
    "duration": 8,
    "start_time": "2022-05-06T04:54:51.611Z"
   },
   {
    "duration": 16,
    "start_time": "2022-05-06T04:54:51.620Z"
   },
   {
    "duration": 12,
    "start_time": "2022-05-06T04:54:51.637Z"
   },
   {
    "duration": 14,
    "start_time": "2022-05-06T04:54:51.650Z"
   },
   {
    "duration": 3,
    "start_time": "2022-05-06T04:54:51.666Z"
   },
   {
    "duration": 82,
    "start_time": "2022-05-06T04:54:51.670Z"
   },
   {
    "duration": 5,
    "start_time": "2022-05-06T04:54:59.534Z"
   },
   {
    "duration": 6,
    "start_time": "2022-05-06T04:55:07.260Z"
   },
   {
    "duration": 6,
    "start_time": "2022-05-06T04:55:34.483Z"
   },
   {
    "duration": 9,
    "start_time": "2022-05-06T04:55:56.846Z"
   },
   {
    "duration": 5,
    "start_time": "2022-05-06T04:57:20.664Z"
   },
   {
    "duration": 9,
    "start_time": "2022-05-06T04:57:35.662Z"
   },
   {
    "duration": 9,
    "start_time": "2022-05-06T05:00:06.415Z"
   },
   {
    "duration": 10,
    "start_time": "2022-05-06T05:00:09.546Z"
   },
   {
    "duration": 8,
    "start_time": "2022-05-06T05:02:16.554Z"
   },
   {
    "duration": 5,
    "start_time": "2022-05-06T05:02:26.152Z"
   },
   {
    "duration": 9,
    "start_time": "2022-05-06T05:02:31.042Z"
   },
   {
    "duration": 8,
    "start_time": "2022-05-06T05:03:40.833Z"
   },
   {
    "duration": 7,
    "start_time": "2022-05-06T05:03:58.597Z"
   },
   {
    "duration": 7,
    "start_time": "2022-05-06T05:04:05.786Z"
   },
   {
    "duration": 8,
    "start_time": "2022-05-06T05:04:21.666Z"
   },
   {
    "duration": 13,
    "start_time": "2022-05-06T05:06:11.398Z"
   },
   {
    "duration": 13,
    "start_time": "2022-05-06T05:06:17.193Z"
   },
   {
    "duration": 5,
    "start_time": "2022-05-06T05:08:46.988Z"
   },
   {
    "duration": 4,
    "start_time": "2022-05-06T05:08:50.400Z"
   },
   {
    "duration": 15,
    "start_time": "2022-05-06T05:11:16.193Z"
   },
   {
    "duration": 24,
    "start_time": "2022-05-06T05:12:44.726Z"
   },
   {
    "duration": 15,
    "start_time": "2022-05-06T05:12:51.299Z"
   },
   {
    "duration": 23,
    "start_time": "2022-05-06T05:26:37.809Z"
   },
   {
    "duration": 51,
    "start_time": "2022-05-06T18:42:20.972Z"
   },
   {
    "duration": 1531,
    "start_time": "2022-05-06T18:42:28.745Z"
   },
   {
    "duration": 80,
    "start_time": "2022-05-06T18:42:30.278Z"
   },
   {
    "duration": 13,
    "start_time": "2022-05-06T18:42:30.360Z"
   },
   {
    "duration": 21,
    "start_time": "2022-05-06T18:42:30.375Z"
   },
   {
    "duration": 23,
    "start_time": "2022-05-06T18:42:30.398Z"
   },
   {
    "duration": 14,
    "start_time": "2022-05-06T18:42:30.422Z"
   },
   {
    "duration": 18,
    "start_time": "2022-05-06T18:42:30.438Z"
   },
   {
    "duration": 17,
    "start_time": "2022-05-06T18:42:30.458Z"
   },
   {
    "duration": 15,
    "start_time": "2022-05-06T18:42:30.478Z"
   },
   {
    "duration": 12,
    "start_time": "2022-05-06T18:42:30.497Z"
   },
   {
    "duration": 16,
    "start_time": "2022-05-06T18:42:30.511Z"
   },
   {
    "duration": 17,
    "start_time": "2022-05-06T18:42:30.528Z"
   },
   {
    "duration": 32,
    "start_time": "2022-05-06T18:42:30.547Z"
   },
   {
    "duration": 15,
    "start_time": "2022-05-06T18:42:30.581Z"
   },
   {
    "duration": 24,
    "start_time": "2022-05-06T18:42:30.599Z"
   },
   {
    "duration": 17,
    "start_time": "2022-05-06T18:42:30.626Z"
   },
   {
    "duration": 9,
    "start_time": "2022-05-06T18:42:30.644Z"
   },
   {
    "duration": 13,
    "start_time": "2022-05-06T18:42:30.654Z"
   },
   {
    "duration": 22,
    "start_time": "2022-05-06T18:42:30.669Z"
   },
   {
    "duration": 9,
    "start_time": "2022-05-06T18:42:30.693Z"
   },
   {
    "duration": 22,
    "start_time": "2022-05-06T18:42:30.703Z"
   },
   {
    "duration": 6,
    "start_time": "2022-05-06T18:42:30.733Z"
   },
   {
    "duration": 11,
    "start_time": "2022-05-06T18:42:30.741Z"
   },
   {
    "duration": 12,
    "start_time": "2022-05-06T18:42:30.753Z"
   },
   {
    "duration": 11,
    "start_time": "2022-05-06T18:42:30.767Z"
   },
   {
    "duration": 20,
    "start_time": "2022-05-06T18:42:30.781Z"
   },
   {
    "duration": 18,
    "start_time": "2022-05-06T18:42:30.803Z"
   },
   {
    "duration": 9,
    "start_time": "2022-05-06T18:42:30.827Z"
   },
   {
    "duration": 16,
    "start_time": "2022-05-06T18:42:30.838Z"
   },
   {
    "duration": 19,
    "start_time": "2022-05-06T18:42:30.857Z"
   },
   {
    "duration": 26,
    "start_time": "2022-05-06T18:42:30.877Z"
   },
   {
    "duration": 23,
    "start_time": "2022-05-06T18:42:30.904Z"
   },
   {
    "duration": 17,
    "start_time": "2022-05-06T18:42:30.929Z"
   },
   {
    "duration": 18,
    "start_time": "2022-05-06T18:42:30.949Z"
   },
   {
    "duration": 21,
    "start_time": "2022-05-06T18:42:30.969Z"
   },
   {
    "duration": 14,
    "start_time": "2022-05-06T18:42:30.992Z"
   },
   {
    "duration": 11,
    "start_time": "2022-05-06T18:42:31.008Z"
   },
   {
    "duration": 17,
    "start_time": "2022-05-06T18:42:31.021Z"
   },
   {
    "duration": 218,
    "start_time": "2022-05-06T18:42:31.040Z"
   },
   {
    "duration": 138,
    "start_time": "2022-05-06T18:42:31.260Z"
   },
   {
    "duration": 15,
    "start_time": "2022-05-06T18:42:31.400Z"
   },
   {
    "duration": 25,
    "start_time": "2022-05-06T18:42:31.417Z"
   },
   {
    "duration": 23,
    "start_time": "2022-05-06T18:42:31.444Z"
   },
   {
    "duration": 17,
    "start_time": "2022-05-06T18:42:31.469Z"
   },
   {
    "duration": 320,
    "start_time": "2022-05-06T18:42:31.488Z"
   },
   {
    "duration": 225,
    "start_time": "2022-05-06T18:42:31.811Z"
   },
   {
    "duration": 15,
    "start_time": "2022-05-06T18:42:32.038Z"
   },
   {
    "duration": 362,
    "start_time": "2022-05-06T18:42:32.055Z"
   },
   {
    "duration": 19,
    "start_time": "2022-05-06T18:42:32.419Z"
   },
   {
    "duration": 23,
    "start_time": "2022-05-06T18:42:32.440Z"
   },
   {
    "duration": 244,
    "start_time": "2022-05-06T18:42:32.465Z"
   },
   {
    "duration": 5,
    "start_time": "2022-05-06T18:42:32.711Z"
   },
   {
    "duration": 18,
    "start_time": "2022-05-06T18:42:32.717Z"
   },
   {
    "duration": 17,
    "start_time": "2022-05-06T18:42:32.737Z"
   },
   {
    "duration": 409,
    "start_time": "2022-05-06T18:42:32.756Z"
   },
   {
    "duration": 176,
    "start_time": "2022-05-06T18:42:33.167Z"
   },
   {
    "duration": 11,
    "start_time": "2022-05-06T18:42:33.345Z"
   },
   {
    "duration": 173,
    "start_time": "2022-05-06T18:42:33.358Z"
   },
   {
    "duration": 168,
    "start_time": "2022-05-06T18:42:33.534Z"
   },
   {
    "duration": 6,
    "start_time": "2022-05-06T18:42:33.705Z"
   },
   {
    "duration": 23,
    "start_time": "2022-05-06T18:42:33.713Z"
   },
   {
    "duration": 17,
    "start_time": "2022-05-06T18:42:33.738Z"
   },
   {
    "duration": 220,
    "start_time": "2022-05-06T18:42:33.757Z"
   },
   {
    "duration": 173,
    "start_time": "2022-05-06T18:42:33.979Z"
   },
   {
    "duration": 5,
    "start_time": "2022-05-06T18:42:34.153Z"
   },
   {
    "duration": 5,
    "start_time": "2022-05-06T18:42:34.160Z"
   },
   {
    "duration": 18,
    "start_time": "2022-05-06T18:42:34.167Z"
   },
   {
    "duration": 10,
    "start_time": "2022-05-06T18:42:34.187Z"
   },
   {
    "duration": 42,
    "start_time": "2022-05-06T18:42:34.199Z"
   },
   {
    "duration": 12,
    "start_time": "2022-05-06T18:42:34.243Z"
   },
   {
    "duration": 16,
    "start_time": "2022-05-06T18:42:34.257Z"
   },
   {
    "duration": 11,
    "start_time": "2022-05-06T18:42:34.275Z"
   },
   {
    "duration": 11,
    "start_time": "2022-05-06T18:42:34.288Z"
   },
   {
    "duration": 42,
    "start_time": "2022-05-06T18:42:34.300Z"
   },
   {
    "duration": 92,
    "start_time": "2022-05-06T18:42:34.343Z"
   },
   {
    "duration": 0,
    "start_time": "2022-05-06T18:42:34.437Z"
   },
   {
    "duration": 0,
    "start_time": "2022-05-06T18:42:34.439Z"
   },
   {
    "duration": 6,
    "start_time": "2022-05-06T18:42:56.255Z"
   },
   {
    "duration": 7,
    "start_time": "2022-05-06T18:47:42.076Z"
   },
   {
    "duration": 3,
    "start_time": "2022-05-06T18:49:27.182Z"
   },
   {
    "duration": 5,
    "start_time": "2022-05-06T18:49:33.243Z"
   },
   {
    "duration": 10,
    "start_time": "2022-05-06T18:50:18.888Z"
   },
   {
    "duration": 3,
    "start_time": "2022-05-06T18:50:46.024Z"
   },
   {
    "duration": 4,
    "start_time": "2022-05-06T18:50:52.981Z"
   },
   {
    "duration": 9,
    "start_time": "2022-05-06T18:52:05.531Z"
   },
   {
    "duration": 3,
    "start_time": "2022-05-06T18:52:12.859Z"
   },
   {
    "duration": 4,
    "start_time": "2022-05-06T18:52:23.269Z"
   },
   {
    "duration": 3,
    "start_time": "2022-05-06T18:52:46.445Z"
   },
   {
    "duration": 4,
    "start_time": "2022-05-06T18:53:01.729Z"
   },
   {
    "duration": 181,
    "start_time": "2022-05-06T18:54:36.357Z"
   },
   {
    "duration": 10,
    "start_time": "2022-05-06T18:55:39.449Z"
   },
   {
    "duration": 4,
    "start_time": "2022-05-06T18:56:40.273Z"
   },
   {
    "duration": 9,
    "start_time": "2022-05-06T18:56:44.733Z"
   },
   {
    "duration": 4,
    "start_time": "2022-05-06T18:56:55.273Z"
   },
   {
    "duration": 9,
    "start_time": "2022-05-06T18:56:58.126Z"
   },
   {
    "duration": 16,
    "start_time": "2022-05-06T18:59:46.767Z"
   },
   {
    "duration": 7,
    "start_time": "2022-05-06T18:59:49.198Z"
   },
   {
    "duration": 11,
    "start_time": "2022-05-06T18:59:58.794Z"
   },
   {
    "duration": 10,
    "start_time": "2022-05-06T19:02:13.316Z"
   },
   {
    "duration": 10,
    "start_time": "2022-05-06T19:02:18.899Z"
   },
   {
    "duration": 10,
    "start_time": "2022-05-06T19:07:04.377Z"
   },
   {
    "duration": 10,
    "start_time": "2022-05-06T19:07:18.327Z"
   },
   {
    "duration": 7,
    "start_time": "2022-05-06T19:07:57.238Z"
   },
   {
    "duration": 7,
    "start_time": "2022-05-06T19:08:04.829Z"
   },
   {
    "duration": 7,
    "start_time": "2022-05-06T19:08:18.561Z"
   },
   {
    "duration": 7,
    "start_time": "2022-05-06T19:08:23.019Z"
   },
   {
    "duration": 4,
    "start_time": "2022-05-06T19:10:26.667Z"
   },
   {
    "duration": 9,
    "start_time": "2022-05-06T19:10:31.837Z"
   },
   {
    "duration": 11,
    "start_time": "2022-05-06T19:11:01.110Z"
   },
   {
    "duration": 9,
    "start_time": "2022-05-06T19:11:04.353Z"
   },
   {
    "duration": 10,
    "start_time": "2022-05-06T19:11:06.486Z"
   },
   {
    "duration": 9,
    "start_time": "2022-05-06T19:11:08.435Z"
   },
   {
    "duration": 10,
    "start_time": "2022-05-06T19:11:09.174Z"
   },
   {
    "duration": 9,
    "start_time": "2022-05-06T19:11:09.803Z"
   },
   {
    "duration": 10,
    "start_time": "2022-05-06T19:11:15.343Z"
   },
   {
    "duration": 10,
    "start_time": "2022-05-06T19:11:16.846Z"
   },
   {
    "duration": 1239,
    "start_time": "2022-05-06T19:12:32.440Z"
   },
   {
    "duration": 72,
    "start_time": "2022-05-06T19:12:33.682Z"
   },
   {
    "duration": 11,
    "start_time": "2022-05-06T19:12:33.756Z"
   },
   {
    "duration": 12,
    "start_time": "2022-05-06T19:12:33.769Z"
   },
   {
    "duration": 11,
    "start_time": "2022-05-06T19:12:33.783Z"
   },
   {
    "duration": 11,
    "start_time": "2022-05-06T19:12:33.796Z"
   },
   {
    "duration": 12,
    "start_time": "2022-05-06T19:12:33.809Z"
   },
   {
    "duration": 18,
    "start_time": "2022-05-06T19:12:33.822Z"
   },
   {
    "duration": 10,
    "start_time": "2022-05-06T19:12:33.842Z"
   },
   {
    "duration": 5,
    "start_time": "2022-05-06T19:12:33.855Z"
   },
   {
    "duration": 11,
    "start_time": "2022-05-06T19:12:33.861Z"
   },
   {
    "duration": 9,
    "start_time": "2022-05-06T19:12:33.874Z"
   },
   {
    "duration": 14,
    "start_time": "2022-05-06T19:12:33.885Z"
   },
   {
    "duration": 34,
    "start_time": "2022-05-06T19:12:33.900Z"
   },
   {
    "duration": 11,
    "start_time": "2022-05-06T19:12:33.936Z"
   },
   {
    "duration": 10,
    "start_time": "2022-05-06T19:12:33.949Z"
   },
   {
    "duration": 4,
    "start_time": "2022-05-06T19:12:33.961Z"
   },
   {
    "duration": 9,
    "start_time": "2022-05-06T19:12:33.967Z"
   },
   {
    "duration": 11,
    "start_time": "2022-05-06T19:12:33.977Z"
   },
   {
    "duration": 12,
    "start_time": "2022-05-06T19:12:33.990Z"
   },
   {
    "duration": 41,
    "start_time": "2022-05-06T19:12:34.004Z"
   },
   {
    "duration": 8,
    "start_time": "2022-05-06T19:12:34.046Z"
   },
   {
    "duration": 7,
    "start_time": "2022-05-06T19:12:34.056Z"
   },
   {
    "duration": 7,
    "start_time": "2022-05-06T19:12:34.065Z"
   },
   {
    "duration": 7,
    "start_time": "2022-05-06T19:12:34.073Z"
   },
   {
    "duration": 5,
    "start_time": "2022-05-06T19:12:34.082Z"
   },
   {
    "duration": 7,
    "start_time": "2022-05-06T19:12:34.089Z"
   },
   {
    "duration": 6,
    "start_time": "2022-05-06T19:12:34.100Z"
   },
   {
    "duration": 5,
    "start_time": "2022-05-06T19:12:34.133Z"
   },
   {
    "duration": 12,
    "start_time": "2022-05-06T19:12:34.140Z"
   },
   {
    "duration": 6,
    "start_time": "2022-05-06T19:12:34.154Z"
   },
   {
    "duration": 16,
    "start_time": "2022-05-06T19:12:34.161Z"
   },
   {
    "duration": 12,
    "start_time": "2022-05-06T19:12:34.178Z"
   },
   {
    "duration": 12,
    "start_time": "2022-05-06T19:12:34.191Z"
   },
   {
    "duration": 10,
    "start_time": "2022-05-06T19:12:34.204Z"
   },
   {
    "duration": 19,
    "start_time": "2022-05-06T19:12:34.216Z"
   },
   {
    "duration": 7,
    "start_time": "2022-05-06T19:12:34.237Z"
   },
   {
    "duration": 13,
    "start_time": "2022-05-06T19:12:34.246Z"
   },
   {
    "duration": 213,
    "start_time": "2022-05-06T19:12:34.261Z"
   },
   {
    "duration": 133,
    "start_time": "2022-05-06T19:12:34.476Z"
   },
   {
    "duration": 24,
    "start_time": "2022-05-06T19:12:34.611Z"
   },
   {
    "duration": 11,
    "start_time": "2022-05-06T19:12:34.636Z"
   },
   {
    "duration": 12,
    "start_time": "2022-05-06T19:12:34.649Z"
   },
   {
    "duration": 11,
    "start_time": "2022-05-06T19:12:34.663Z"
   },
   {
    "duration": 324,
    "start_time": "2022-05-06T19:12:34.676Z"
   },
   {
    "duration": 219,
    "start_time": "2022-05-06T19:12:35.002Z"
   },
   {
    "duration": 20,
    "start_time": "2022-05-06T19:12:35.223Z"
   },
   {
    "duration": 308,
    "start_time": "2022-05-06T19:12:35.244Z"
   },
   {
    "duration": 12,
    "start_time": "2022-05-06T19:12:35.554Z"
   },
   {
    "duration": 30,
    "start_time": "2022-05-06T19:12:35.567Z"
   },
   {
    "duration": 232,
    "start_time": "2022-05-06T19:12:35.599Z"
   },
   {
    "duration": 4,
    "start_time": "2022-05-06T19:12:35.833Z"
   },
   {
    "duration": 10,
    "start_time": "2022-05-06T19:12:35.839Z"
   },
   {
    "duration": 23,
    "start_time": "2022-05-06T19:12:35.851Z"
   },
   {
    "duration": 287,
    "start_time": "2022-05-06T19:12:35.875Z"
   },
   {
    "duration": 138,
    "start_time": "2022-05-06T19:12:36.164Z"
   },
   {
    "duration": 8,
    "start_time": "2022-05-06T19:12:36.304Z"
   },
   {
    "duration": 174,
    "start_time": "2022-05-06T19:12:36.313Z"
   },
   {
    "duration": 167,
    "start_time": "2022-05-06T19:12:36.489Z"
   },
   {
    "duration": 5,
    "start_time": "2022-05-06T19:12:36.658Z"
   },
   {
    "duration": 13,
    "start_time": "2022-05-06T19:12:36.664Z"
   },
   {
    "duration": 14,
    "start_time": "2022-05-06T19:12:36.679Z"
   },
   {
    "duration": 311,
    "start_time": "2022-05-06T19:12:36.695Z"
   },
   {
    "duration": 165,
    "start_time": "2022-05-06T19:12:37.008Z"
   },
   {
    "duration": 5,
    "start_time": "2022-05-06T19:12:37.174Z"
   },
   {
    "duration": 8,
    "start_time": "2022-05-06T19:12:37.180Z"
   },
   {
    "duration": 18,
    "start_time": "2022-05-06T19:12:37.190Z"
   },
   {
    "duration": 24,
    "start_time": "2022-05-06T19:12:37.210Z"
   },
   {
    "duration": 13,
    "start_time": "2022-05-06T19:12:37.236Z"
   },
   {
    "duration": 14,
    "start_time": "2022-05-06T19:12:37.251Z"
   },
   {
    "duration": 13,
    "start_time": "2022-05-06T19:12:37.267Z"
   },
   {
    "duration": 141,
    "start_time": "2022-05-06T19:12:37.283Z"
   },
   {
    "duration": 4,
    "start_time": "2022-05-06T19:15:13.271Z"
   },
   {
    "duration": 9,
    "start_time": "2022-05-06T19:17:02.176Z"
   },
   {
    "duration": 3,
    "start_time": "2022-05-06T19:17:15.892Z"
   },
   {
    "duration": 3,
    "start_time": "2022-05-06T19:17:18.710Z"
   },
   {
    "duration": 3,
    "start_time": "2022-05-06T19:17:47.262Z"
   },
   {
    "duration": 4,
    "start_time": "2022-05-06T19:17:54.059Z"
   },
   {
    "duration": 3,
    "start_time": "2022-05-06T19:19:02.931Z"
   },
   {
    "duration": 3,
    "start_time": "2022-05-06T19:19:49.920Z"
   },
   {
    "duration": 4,
    "start_time": "2022-05-06T19:19:58.968Z"
   },
   {
    "duration": 3,
    "start_time": "2022-05-06T19:20:13.394Z"
   },
   {
    "duration": 209,
    "start_time": "2022-05-06T19:20:50.156Z"
   },
   {
    "duration": 493,
    "start_time": "2022-05-06T19:21:03.794Z"
   },
   {
    "duration": 10,
    "start_time": "2022-05-06T19:22:04.888Z"
   },
   {
    "duration": 10,
    "start_time": "2022-05-06T19:22:20.112Z"
   },
   {
    "duration": 10,
    "start_time": "2022-05-06T19:22:55.888Z"
   },
   {
    "duration": 5,
    "start_time": "2022-05-06T19:23:05.544Z"
   },
   {
    "duration": 9,
    "start_time": "2022-05-06T19:24:26.057Z"
   },
   {
    "duration": 4,
    "start_time": "2022-05-06T19:28:05.728Z"
   },
   {
    "duration": 4,
    "start_time": "2022-05-06T19:28:09.608Z"
   },
   {
    "duration": 4,
    "start_time": "2022-05-06T19:28:35.576Z"
   },
   {
    "duration": 4,
    "start_time": "2022-05-06T19:28:50.869Z"
   },
   {
    "duration": 5,
    "start_time": "2022-05-06T19:28:58.990Z"
   },
   {
    "duration": 5,
    "start_time": "2022-05-06T19:29:06.230Z"
   },
   {
    "duration": 4,
    "start_time": "2022-05-06T19:29:16.408Z"
   },
   {
    "duration": 4,
    "start_time": "2022-05-06T19:29:21.536Z"
   },
   {
    "duration": 4,
    "start_time": "2022-05-06T19:29:30.620Z"
   },
   {
    "duration": 11,
    "start_time": "2022-05-06T19:35:32.025Z"
   },
   {
    "duration": 5,
    "start_time": "2022-05-06T19:36:31.229Z"
   },
   {
    "duration": 5,
    "start_time": "2022-05-06T19:36:53.749Z"
   },
   {
    "duration": 2708,
    "start_time": "2022-05-06T19:37:46.652Z"
   },
   {
    "duration": 5,
    "start_time": "2022-05-06T19:38:03.134Z"
   },
   {
    "duration": 5,
    "start_time": "2022-05-06T19:38:42.722Z"
   },
   {
    "duration": 15,
    "start_time": "2022-05-06T19:40:00.470Z"
   },
   {
    "duration": 3,
    "start_time": "2022-05-06T19:40:43.165Z"
   },
   {
    "duration": 4,
    "start_time": "2022-05-06T19:40:48.922Z"
   },
   {
    "duration": 5,
    "start_time": "2022-05-06T19:40:51.490Z"
   },
   {
    "duration": 5,
    "start_time": "2022-05-06T19:40:54.662Z"
   },
   {
    "duration": 6,
    "start_time": "2022-05-06T19:41:00.733Z"
   },
   {
    "duration": 1377,
    "start_time": "2022-05-06T19:43:38.006Z"
   },
   {
    "duration": 78,
    "start_time": "2022-05-06T19:43:39.386Z"
   },
   {
    "duration": 13,
    "start_time": "2022-05-06T19:43:39.466Z"
   },
   {
    "duration": 11,
    "start_time": "2022-05-06T19:43:39.482Z"
   },
   {
    "duration": 12,
    "start_time": "2022-05-06T19:43:39.495Z"
   },
   {
    "duration": 12,
    "start_time": "2022-05-06T19:43:39.509Z"
   },
   {
    "duration": 14,
    "start_time": "2022-05-06T19:43:39.523Z"
   },
   {
    "duration": 16,
    "start_time": "2022-05-06T19:43:39.538Z"
   },
   {
    "duration": 10,
    "start_time": "2022-05-06T19:43:39.555Z"
   },
   {
    "duration": 6,
    "start_time": "2022-05-06T19:43:39.569Z"
   },
   {
    "duration": 13,
    "start_time": "2022-05-06T19:43:39.577Z"
   },
   {
    "duration": 20,
    "start_time": "2022-05-06T19:43:39.592Z"
   },
   {
    "duration": 20,
    "start_time": "2022-05-06T19:43:39.634Z"
   },
   {
    "duration": 11,
    "start_time": "2022-05-06T19:43:39.657Z"
   },
   {
    "duration": 23,
    "start_time": "2022-05-06T19:43:39.670Z"
   },
   {
    "duration": 16,
    "start_time": "2022-05-06T19:43:39.695Z"
   },
   {
    "duration": 5,
    "start_time": "2022-05-06T19:43:39.734Z"
   },
   {
    "duration": 12,
    "start_time": "2022-05-06T19:43:39.741Z"
   },
   {
    "duration": 15,
    "start_time": "2022-05-06T19:43:39.755Z"
   },
   {
    "duration": 7,
    "start_time": "2022-05-06T19:43:39.772Z"
   },
   {
    "duration": 18,
    "start_time": "2022-05-06T19:43:39.781Z"
   },
   {
    "duration": 36,
    "start_time": "2022-05-06T19:43:39.801Z"
   },
   {
    "duration": 4,
    "start_time": "2022-05-06T19:43:39.839Z"
   },
   {
    "duration": 16,
    "start_time": "2022-05-06T19:43:39.845Z"
   },
   {
    "duration": 15,
    "start_time": "2022-05-06T19:43:39.863Z"
   },
   {
    "duration": 6,
    "start_time": "2022-05-06T19:43:39.879Z"
   },
   {
    "duration": 9,
    "start_time": "2022-05-06T19:43:39.888Z"
   },
   {
    "duration": 6,
    "start_time": "2022-05-06T19:43:39.902Z"
   },
   {
    "duration": 25,
    "start_time": "2022-05-06T19:43:39.910Z"
   },
   {
    "duration": 11,
    "start_time": "2022-05-06T19:43:39.937Z"
   },
   {
    "duration": 9,
    "start_time": "2022-05-06T19:43:39.950Z"
   },
   {
    "duration": 11,
    "start_time": "2022-05-06T19:43:39.960Z"
   },
   {
    "duration": 13,
    "start_time": "2022-05-06T19:43:39.973Z"
   },
   {
    "duration": 21,
    "start_time": "2022-05-06T19:43:39.988Z"
   },
   {
    "duration": 31,
    "start_time": "2022-05-06T19:43:40.011Z"
   },
   {
    "duration": 10,
    "start_time": "2022-05-06T19:43:40.044Z"
   },
   {
    "duration": 5,
    "start_time": "2022-05-06T19:43:40.056Z"
   },
   {
    "duration": 16,
    "start_time": "2022-05-06T19:43:40.063Z"
   },
   {
    "duration": 244,
    "start_time": "2022-05-06T19:43:40.081Z"
   },
   {
    "duration": 159,
    "start_time": "2022-05-06T19:43:40.327Z"
   },
   {
    "duration": 14,
    "start_time": "2022-05-06T19:43:40.487Z"
   },
   {
    "duration": 33,
    "start_time": "2022-05-06T19:43:40.503Z"
   },
   {
    "duration": 15,
    "start_time": "2022-05-06T19:43:40.538Z"
   },
   {
    "duration": 13,
    "start_time": "2022-05-06T19:43:40.554Z"
   },
   {
    "duration": 346,
    "start_time": "2022-05-06T19:43:40.570Z"
   },
   {
    "duration": 242,
    "start_time": "2022-05-06T19:43:40.918Z"
   },
   {
    "duration": 14,
    "start_time": "2022-05-06T19:43:41.162Z"
   },
   {
    "duration": 318,
    "start_time": "2022-05-06T19:43:41.178Z"
   },
   {
    "duration": 13,
    "start_time": "2022-05-06T19:43:41.497Z"
   },
   {
    "duration": 39,
    "start_time": "2022-05-06T19:43:41.512Z"
   },
   {
    "duration": 233,
    "start_time": "2022-05-06T19:43:41.553Z"
   },
   {
    "duration": 5,
    "start_time": "2022-05-06T19:43:41.788Z"
   },
   {
    "duration": 7,
    "start_time": "2022-05-06T19:43:41.795Z"
   },
   {
    "duration": 36,
    "start_time": "2022-05-06T19:43:41.804Z"
   },
   {
    "duration": 311,
    "start_time": "2022-05-06T19:43:41.843Z"
   },
   {
    "duration": 159,
    "start_time": "2022-05-06T19:43:42.156Z"
   },
   {
    "duration": 22,
    "start_time": "2022-05-06T19:43:42.317Z"
   },
   {
    "duration": 179,
    "start_time": "2022-05-06T19:43:42.341Z"
   },
   {
    "duration": 185,
    "start_time": "2022-05-06T19:43:42.521Z"
   },
   {
    "duration": 5,
    "start_time": "2022-05-06T19:43:42.709Z"
   },
   {
    "duration": 25,
    "start_time": "2022-05-06T19:43:42.716Z"
   },
   {
    "duration": 13,
    "start_time": "2022-05-06T19:43:42.743Z"
   },
   {
    "duration": 317,
    "start_time": "2022-05-06T19:43:42.757Z"
   },
   {
    "duration": 186,
    "start_time": "2022-05-06T19:43:43.076Z"
   },
   {
    "duration": 6,
    "start_time": "2022-05-06T19:43:43.264Z"
   },
   {
    "duration": 11,
    "start_time": "2022-05-06T19:43:43.272Z"
   },
   {
    "duration": 23,
    "start_time": "2022-05-06T19:43:43.285Z"
   },
   {
    "duration": 25,
    "start_time": "2022-05-06T19:43:43.311Z"
   },
   {
    "duration": 21,
    "start_time": "2022-05-06T19:43:43.338Z"
   },
   {
    "duration": 31,
    "start_time": "2022-05-06T19:43:43.361Z"
   },
   {
    "duration": 22,
    "start_time": "2022-05-06T19:43:43.394Z"
   },
   {
    "duration": 30,
    "start_time": "2022-05-06T19:43:43.418Z"
   },
   {
    "duration": 25,
    "start_time": "2022-05-06T19:43:43.450Z"
   },
   {
    "duration": 23,
    "start_time": "2022-05-06T19:43:43.477Z"
   },
   {
    "duration": 24,
    "start_time": "2022-05-06T19:43:43.501Z"
   },
   {
    "duration": 21,
    "start_time": "2022-05-06T19:43:43.526Z"
   },
   {
    "duration": 14,
    "start_time": "2022-05-06T19:44:31.357Z"
   },
   {
    "duration": 116,
    "start_time": "2022-05-06T19:57:22.598Z"
   },
   {
    "duration": 2825,
    "start_time": "2022-05-06T19:57:51.991Z"
   },
   {
    "duration": 6,
    "start_time": "2022-05-06T19:58:06.502Z"
   },
   {
    "duration": 5,
    "start_time": "2022-05-06T19:59:27.402Z"
   },
   {
    "duration": 6,
    "start_time": "2022-05-06T19:59:31.534Z"
   },
   {
    "duration": 4,
    "start_time": "2022-05-06T20:00:13.182Z"
   },
   {
    "duration": 16,
    "start_time": "2022-05-06T20:05:56.268Z"
   },
   {
    "duration": 6,
    "start_time": "2022-05-06T20:06:36.004Z"
   },
   {
    "duration": 9,
    "start_time": "2022-05-06T20:06:59.606Z"
   },
   {
    "duration": 10,
    "start_time": "2022-05-06T20:07:19.360Z"
   },
   {
    "duration": 4,
    "start_time": "2022-05-06T20:08:40.328Z"
   },
   {
    "duration": 19,
    "start_time": "2022-05-06T20:08:44.191Z"
   },
   {
    "duration": 5,
    "start_time": "2022-05-06T20:09:09.307Z"
   },
   {
    "duration": 14,
    "start_time": "2022-05-06T20:09:15.211Z"
   },
   {
    "duration": 13,
    "start_time": "2022-05-06T20:11:18.017Z"
   },
   {
    "duration": 5,
    "start_time": "2022-05-06T20:11:35.547Z"
   },
   {
    "duration": 9,
    "start_time": "2022-05-06T20:19:06.179Z"
   },
   {
    "duration": 4,
    "start_time": "2022-05-06T20:19:20.392Z"
   },
   {
    "duration": 11,
    "start_time": "2022-05-06T20:19:34.257Z"
   },
   {
    "duration": 11,
    "start_time": "2022-05-06T20:24:03.086Z"
   },
   {
    "duration": 11,
    "start_time": "2022-05-06T20:24:18.572Z"
   },
   {
    "duration": 5,
    "start_time": "2022-05-06T20:26:14.076Z"
   },
   {
    "duration": 5,
    "start_time": "2022-05-06T20:27:41.714Z"
   },
   {
    "duration": 13,
    "start_time": "2022-05-06T20:27:47.126Z"
   },
   {
    "duration": 1278,
    "start_time": "2022-05-06T20:28:19.327Z"
   },
   {
    "duration": 79,
    "start_time": "2022-05-06T20:28:20.608Z"
   },
   {
    "duration": 12,
    "start_time": "2022-05-06T20:28:20.691Z"
   },
   {
    "duration": 12,
    "start_time": "2022-05-06T20:28:20.705Z"
   },
   {
    "duration": 13,
    "start_time": "2022-05-06T20:28:20.719Z"
   },
   {
    "duration": 14,
    "start_time": "2022-05-06T20:28:20.734Z"
   },
   {
    "duration": 17,
    "start_time": "2022-05-06T20:28:20.749Z"
   },
   {
    "duration": 15,
    "start_time": "2022-05-06T20:28:20.768Z"
   },
   {
    "duration": 10,
    "start_time": "2022-05-06T20:28:20.784Z"
   },
   {
    "duration": 10,
    "start_time": "2022-05-06T20:28:20.796Z"
   },
   {
    "duration": 32,
    "start_time": "2022-05-06T20:28:20.809Z"
   },
   {
    "duration": 15,
    "start_time": "2022-05-06T20:28:20.844Z"
   },
   {
    "duration": 17,
    "start_time": "2022-05-06T20:28:20.861Z"
   },
   {
    "duration": 11,
    "start_time": "2022-05-06T20:28:20.880Z"
   },
   {
    "duration": 19,
    "start_time": "2022-05-06T20:28:20.893Z"
   },
   {
    "duration": 28,
    "start_time": "2022-05-06T20:28:20.914Z"
   },
   {
    "duration": 4,
    "start_time": "2022-05-06T20:28:20.944Z"
   },
   {
    "duration": 10,
    "start_time": "2022-05-06T20:28:20.950Z"
   },
   {
    "duration": 12,
    "start_time": "2022-05-06T20:28:20.962Z"
   },
   {
    "duration": 7,
    "start_time": "2022-05-06T20:28:20.976Z"
   },
   {
    "duration": 15,
    "start_time": "2022-05-06T20:28:20.985Z"
   },
   {
    "duration": 6,
    "start_time": "2022-05-06T20:28:21.034Z"
   },
   {
    "duration": 7,
    "start_time": "2022-05-06T20:28:21.042Z"
   },
   {
    "duration": 6,
    "start_time": "2022-05-06T20:28:21.051Z"
   },
   {
    "duration": 8,
    "start_time": "2022-05-06T20:28:21.059Z"
   },
   {
    "duration": 5,
    "start_time": "2022-05-06T20:28:21.069Z"
   },
   {
    "duration": 8,
    "start_time": "2022-05-06T20:28:21.076Z"
   },
   {
    "duration": 5,
    "start_time": "2022-05-06T20:28:21.089Z"
   },
   {
    "duration": 46,
    "start_time": "2022-05-06T20:28:21.095Z"
   },
   {
    "duration": 13,
    "start_time": "2022-05-06T20:28:21.143Z"
   },
   {
    "duration": 8,
    "start_time": "2022-05-06T20:28:21.157Z"
   },
   {
    "duration": 8,
    "start_time": "2022-05-06T20:28:21.167Z"
   },
   {
    "duration": 13,
    "start_time": "2022-05-06T20:28:21.177Z"
   },
   {
    "duration": 14,
    "start_time": "2022-05-06T20:28:21.191Z"
   },
   {
    "duration": 36,
    "start_time": "2022-05-06T20:28:21.207Z"
   },
   {
    "duration": 10,
    "start_time": "2022-05-06T20:28:21.245Z"
   },
   {
    "duration": 6,
    "start_time": "2022-05-06T20:28:21.258Z"
   },
   {
    "duration": 16,
    "start_time": "2022-05-06T20:28:21.266Z"
   },
   {
    "duration": 281,
    "start_time": "2022-05-06T20:28:21.284Z"
   },
   {
    "duration": 142,
    "start_time": "2022-05-06T20:28:21.567Z"
   },
   {
    "duration": 14,
    "start_time": "2022-05-06T20:28:21.710Z"
   },
   {
    "duration": 11,
    "start_time": "2022-05-06T20:28:21.734Z"
   },
   {
    "duration": 12,
    "start_time": "2022-05-06T20:28:21.746Z"
   },
   {
    "duration": 12,
    "start_time": "2022-05-06T20:28:21.760Z"
   },
   {
    "duration": 315,
    "start_time": "2022-05-06T20:28:21.773Z"
   },
   {
    "duration": 223,
    "start_time": "2022-05-06T20:28:22.090Z"
   },
   {
    "duration": 14,
    "start_time": "2022-05-06T20:28:22.315Z"
   },
   {
    "duration": 402,
    "start_time": "2022-05-06T20:28:22.333Z"
   },
   {
    "duration": 12,
    "start_time": "2022-05-06T20:28:22.737Z"
   },
   {
    "duration": 23,
    "start_time": "2022-05-06T20:28:22.750Z"
   },
   {
    "duration": 308,
    "start_time": "2022-05-06T20:28:22.775Z"
   },
   {
    "duration": 5,
    "start_time": "2022-05-06T20:28:23.085Z"
   },
   {
    "duration": 8,
    "start_time": "2022-05-06T20:28:23.092Z"
   },
   {
    "duration": 32,
    "start_time": "2022-05-06T20:28:23.102Z"
   },
   {
    "duration": 301,
    "start_time": "2022-05-06T20:28:23.136Z"
   },
   {
    "duration": 140,
    "start_time": "2022-05-06T20:28:23.440Z"
   },
   {
    "duration": 9,
    "start_time": "2022-05-06T20:28:23.582Z"
   },
   {
    "duration": 171,
    "start_time": "2022-05-06T20:28:23.593Z"
   },
   {
    "duration": 169,
    "start_time": "2022-05-06T20:28:23.767Z"
   },
   {
    "duration": 6,
    "start_time": "2022-05-06T20:28:23.938Z"
   },
   {
    "duration": 18,
    "start_time": "2022-05-06T20:28:23.946Z"
   },
   {
    "duration": 13,
    "start_time": "2022-05-06T20:28:23.966Z"
   },
   {
    "duration": 314,
    "start_time": "2022-05-06T20:28:23.981Z"
   },
   {
    "duration": 172,
    "start_time": "2022-05-06T20:28:24.297Z"
   },
   {
    "duration": 5,
    "start_time": "2022-05-06T20:28:24.471Z"
   },
   {
    "duration": 18,
    "start_time": "2022-05-06T20:28:24.478Z"
   },
   {
    "duration": 37,
    "start_time": "2022-05-06T20:28:24.498Z"
   },
   {
    "duration": 13,
    "start_time": "2022-05-06T20:28:24.537Z"
   },
   {
    "duration": 13,
    "start_time": "2022-05-06T20:28:24.553Z"
   },
   {
    "duration": 17,
    "start_time": "2022-05-06T20:28:24.568Z"
   },
   {
    "duration": 4,
    "start_time": "2022-05-06T20:28:24.587Z"
   },
   {
    "duration": 8,
    "start_time": "2022-05-06T20:28:24.593Z"
   },
   {
    "duration": 35,
    "start_time": "2022-05-06T20:28:24.602Z"
   },
   {
    "duration": 10,
    "start_time": "2022-05-06T20:28:24.639Z"
   },
   {
    "duration": 116,
    "start_time": "2022-05-06T20:28:24.651Z"
   },
   {
    "duration": 0,
    "start_time": "2022-05-06T20:28:24.769Z"
   },
   {
    "duration": 0,
    "start_time": "2022-05-06T20:28:24.770Z"
   },
   {
    "duration": 0,
    "start_time": "2022-05-06T20:28:24.771Z"
   },
   {
    "duration": 0,
    "start_time": "2022-05-06T20:28:24.772Z"
   },
   {
    "duration": 0,
    "start_time": "2022-05-06T20:28:24.773Z"
   },
   {
    "duration": 0,
    "start_time": "2022-05-06T20:28:24.774Z"
   },
   {
    "duration": 0,
    "start_time": "2022-05-06T20:28:24.775Z"
   },
   {
    "duration": 0,
    "start_time": "2022-05-06T20:28:24.776Z"
   },
   {
    "duration": 0,
    "start_time": "2022-05-06T20:28:24.777Z"
   },
   {
    "duration": 4,
    "start_time": "2022-05-06T20:29:08.832Z"
   },
   {
    "duration": 5,
    "start_time": "2022-05-06T20:29:13.497Z"
   },
   {
    "duration": 92,
    "start_time": "2022-05-06T20:29:13.504Z"
   },
   {
    "duration": 8,
    "start_time": "2022-05-06T20:29:13.598Z"
   },
   {
    "duration": 13,
    "start_time": "2022-05-06T20:29:13.607Z"
   },
   {
    "duration": 8,
    "start_time": "2022-05-06T20:29:13.622Z"
   },
   {
    "duration": 12,
    "start_time": "2022-05-06T20:29:13.632Z"
   },
   {
    "duration": 18,
    "start_time": "2022-05-06T20:29:13.646Z"
   },
   {
    "duration": 14,
    "start_time": "2022-05-06T20:29:13.666Z"
   },
   {
    "duration": 8,
    "start_time": "2022-05-06T20:29:13.682Z"
   },
   {
    "duration": 5,
    "start_time": "2022-05-06T20:29:13.693Z"
   },
   {
    "duration": 15,
    "start_time": "2022-05-06T20:29:13.734Z"
   },
   {
    "duration": 12,
    "start_time": "2022-05-06T20:29:13.751Z"
   },
   {
    "duration": 14,
    "start_time": "2022-05-06T20:29:13.766Z"
   },
   {
    "duration": 6,
    "start_time": "2022-05-06T20:29:13.782Z"
   },
   {
    "duration": 53,
    "start_time": "2022-05-06T20:29:13.790Z"
   },
   {
    "duration": 14,
    "start_time": "2022-05-06T20:29:13.846Z"
   },
   {
    "duration": 6,
    "start_time": "2022-05-06T20:29:13.862Z"
   },
   {
    "duration": 11,
    "start_time": "2022-05-06T20:29:13.869Z"
   },
   {
    "duration": 11,
    "start_time": "2022-05-06T20:29:13.881Z"
   },
   {
    "duration": 8,
    "start_time": "2022-05-06T20:29:13.894Z"
   },
   {
    "duration": 44,
    "start_time": "2022-05-06T20:29:13.903Z"
   },
   {
    "duration": 13,
    "start_time": "2022-05-06T20:29:13.949Z"
   },
   {
    "duration": 11,
    "start_time": "2022-05-06T20:29:13.963Z"
   },
   {
    "duration": 9,
    "start_time": "2022-05-06T20:29:13.975Z"
   },
   {
    "duration": 10,
    "start_time": "2022-05-06T20:29:13.986Z"
   },
   {
    "duration": 6,
    "start_time": "2022-05-06T20:29:13.998Z"
   },
   {
    "duration": 8,
    "start_time": "2022-05-06T20:29:14.006Z"
   },
   {
    "duration": 22,
    "start_time": "2022-05-06T20:29:14.015Z"
   },
   {
    "duration": 19,
    "start_time": "2022-05-06T20:29:14.042Z"
   },
   {
    "duration": 13,
    "start_time": "2022-05-06T20:29:14.063Z"
   },
   {
    "duration": 9,
    "start_time": "2022-05-06T20:29:14.077Z"
   },
   {
    "duration": 7,
    "start_time": "2022-05-06T20:29:14.088Z"
   },
   {
    "duration": 14,
    "start_time": "2022-05-06T20:29:14.096Z"
   },
   {
    "duration": 12,
    "start_time": "2022-05-06T20:29:14.111Z"
   },
   {
    "duration": 32,
    "start_time": "2022-05-06T20:29:14.125Z"
   },
   {
    "duration": 12,
    "start_time": "2022-05-06T20:29:14.158Z"
   },
   {
    "duration": 6,
    "start_time": "2022-05-06T20:29:14.172Z"
   },
   {
    "duration": 16,
    "start_time": "2022-05-06T20:29:14.179Z"
   },
   {
    "duration": 215,
    "start_time": "2022-05-06T20:29:14.196Z"
   },
   {
    "duration": 153,
    "start_time": "2022-05-06T20:29:14.412Z"
   },
   {
    "duration": 14,
    "start_time": "2022-05-06T20:29:14.566Z"
   },
   {
    "duration": 13,
    "start_time": "2022-05-06T20:29:14.582Z"
   },
   {
    "duration": 14,
    "start_time": "2022-05-06T20:29:14.597Z"
   },
   {
    "duration": 30,
    "start_time": "2022-05-06T20:29:14.613Z"
   },
   {
    "duration": 243,
    "start_time": "2022-05-06T20:29:14.644Z"
   },
   {
    "duration": 226,
    "start_time": "2022-05-06T20:29:14.889Z"
   },
   {
    "duration": 24,
    "start_time": "2022-05-06T20:29:15.117Z"
   },
   {
    "duration": 330,
    "start_time": "2022-05-06T20:29:15.143Z"
   },
   {
    "duration": 12,
    "start_time": "2022-05-06T20:29:15.475Z"
   },
   {
    "duration": 23,
    "start_time": "2022-05-06T20:29:15.489Z"
   },
   {
    "duration": 237,
    "start_time": "2022-05-06T20:29:15.533Z"
   },
   {
    "duration": 5,
    "start_time": "2022-05-06T20:29:15.771Z"
   },
   {
    "duration": 10,
    "start_time": "2022-05-06T20:29:15.777Z"
   },
   {
    "duration": 19,
    "start_time": "2022-05-06T20:29:15.789Z"
   },
   {
    "duration": 344,
    "start_time": "2022-05-06T20:29:15.810Z"
   },
   {
    "duration": 149,
    "start_time": "2022-05-06T20:29:16.156Z"
   },
   {
    "duration": 8,
    "start_time": "2022-05-06T20:29:16.307Z"
   },
   {
    "duration": 183,
    "start_time": "2022-05-06T20:29:16.317Z"
   },
   {
    "duration": 177,
    "start_time": "2022-05-06T20:29:16.503Z"
   },
   {
    "duration": 5,
    "start_time": "2022-05-06T20:29:16.682Z"
   },
   {
    "duration": 17,
    "start_time": "2022-05-06T20:29:16.688Z"
   },
   {
    "duration": 32,
    "start_time": "2022-05-06T20:29:16.707Z"
   },
   {
    "duration": 338,
    "start_time": "2022-05-06T20:29:16.741Z"
   },
   {
    "duration": 175,
    "start_time": "2022-05-06T20:29:17.080Z"
   },
   {
    "duration": 6,
    "start_time": "2022-05-06T20:29:17.257Z"
   },
   {
    "duration": 31,
    "start_time": "2022-05-06T20:29:17.266Z"
   },
   {
    "duration": 10,
    "start_time": "2022-05-06T20:29:17.299Z"
   },
   {
    "duration": 25,
    "start_time": "2022-05-06T20:29:17.311Z"
   },
   {
    "duration": 14,
    "start_time": "2022-05-06T20:29:17.341Z"
   },
   {
    "duration": 14,
    "start_time": "2022-05-06T20:29:17.358Z"
   },
   {
    "duration": 4,
    "start_time": "2022-05-06T20:29:17.374Z"
   },
   {
    "duration": 7,
    "start_time": "2022-05-06T20:29:17.380Z"
   },
   {
    "duration": 5,
    "start_time": "2022-05-06T20:29:17.389Z"
   },
   {
    "duration": 39,
    "start_time": "2022-05-06T20:29:17.396Z"
   },
   {
    "duration": 8,
    "start_time": "2022-05-06T20:29:17.437Z"
   },
   {
    "duration": 13,
    "start_time": "2022-05-06T20:29:17.446Z"
   },
   {
    "duration": 15,
    "start_time": "2022-05-06T20:29:17.461Z"
   },
   {
    "duration": 15,
    "start_time": "2022-05-06T20:29:17.478Z"
   },
   {
    "duration": 7,
    "start_time": "2022-05-06T20:29:17.495Z"
   },
   {
    "duration": 33,
    "start_time": "2022-05-06T20:29:17.504Z"
   },
   {
    "duration": 17,
    "start_time": "2022-05-06T20:29:17.539Z"
   },
   {
    "duration": 8,
    "start_time": "2022-05-06T20:29:17.558Z"
   },
   {
    "duration": 5,
    "start_time": "2022-05-06T20:29:17.571Z"
   },
   {
    "duration": 19,
    "start_time": "2022-05-06T20:29:17.577Z"
   },
   {
    "duration": 5,
    "start_time": "2022-05-06T20:29:48.923Z"
   },
   {
    "duration": 74,
    "start_time": "2022-05-06T20:29:48.930Z"
   },
   {
    "duration": 8,
    "start_time": "2022-05-06T20:29:49.006Z"
   },
   {
    "duration": 13,
    "start_time": "2022-05-06T20:29:49.017Z"
   },
   {
    "duration": 7,
    "start_time": "2022-05-06T20:29:49.033Z"
   },
   {
    "duration": 10,
    "start_time": "2022-05-06T20:29:49.042Z"
   },
   {
    "duration": 13,
    "start_time": "2022-05-06T20:29:49.054Z"
   },
   {
    "duration": 13,
    "start_time": "2022-05-06T20:29:49.069Z"
   },
   {
    "duration": 6,
    "start_time": "2022-05-06T20:29:49.084Z"
   },
   {
    "duration": 43,
    "start_time": "2022-05-06T20:29:49.093Z"
   },
   {
    "duration": 12,
    "start_time": "2022-05-06T20:29:49.140Z"
   },
   {
    "duration": 11,
    "start_time": "2022-05-06T20:29:49.154Z"
   },
   {
    "duration": 17,
    "start_time": "2022-05-06T20:29:49.167Z"
   },
   {
    "duration": 7,
    "start_time": "2022-05-06T20:29:49.186Z"
   },
   {
    "duration": 13,
    "start_time": "2022-05-06T20:29:49.235Z"
   },
   {
    "duration": 10,
    "start_time": "2022-05-06T20:29:49.250Z"
   },
   {
    "duration": 6,
    "start_time": "2022-05-06T20:29:49.262Z"
   },
   {
    "duration": 8,
    "start_time": "2022-05-06T20:29:49.270Z"
   },
   {
    "duration": 11,
    "start_time": "2022-05-06T20:29:49.280Z"
   },
   {
    "duration": 46,
    "start_time": "2022-05-06T20:29:49.293Z"
   },
   {
    "duration": 21,
    "start_time": "2022-05-06T20:29:49.340Z"
   },
   {
    "duration": 14,
    "start_time": "2022-05-06T20:29:49.363Z"
   },
   {
    "duration": 13,
    "start_time": "2022-05-06T20:29:49.378Z"
   },
   {
    "duration": 12,
    "start_time": "2022-05-06T20:29:49.393Z"
   },
   {
    "duration": 11,
    "start_time": "2022-05-06T20:29:49.406Z"
   },
   {
    "duration": 6,
    "start_time": "2022-05-06T20:29:49.418Z"
   },
   {
    "duration": 13,
    "start_time": "2022-05-06T20:29:49.426Z"
   },
   {
    "duration": 8,
    "start_time": "2022-05-06T20:29:49.441Z"
   },
   {
    "duration": 4,
    "start_time": "2022-05-06T20:29:49.453Z"
   },
   {
    "duration": 18,
    "start_time": "2022-05-06T20:29:49.459Z"
   },
   {
    "duration": 10,
    "start_time": "2022-05-06T20:29:49.479Z"
   },
   {
    "duration": 7,
    "start_time": "2022-05-06T20:29:49.491Z"
   },
   {
    "duration": 12,
    "start_time": "2022-05-06T20:29:49.500Z"
   },
   {
    "duration": 28,
    "start_time": "2022-05-06T20:29:49.514Z"
   },
   {
    "duration": 14,
    "start_time": "2022-05-06T20:29:49.544Z"
   },
   {
    "duration": 10,
    "start_time": "2022-05-06T20:29:49.559Z"
   },
   {
    "duration": 7,
    "start_time": "2022-05-06T20:29:49.571Z"
   },
   {
    "duration": 21,
    "start_time": "2022-05-06T20:29:49.579Z"
   },
   {
    "duration": 207,
    "start_time": "2022-05-06T20:29:49.602Z"
   },
   {
    "duration": 155,
    "start_time": "2022-05-06T20:29:49.811Z"
   },
   {
    "duration": 15,
    "start_time": "2022-05-06T20:29:49.967Z"
   },
   {
    "duration": 16,
    "start_time": "2022-05-06T20:29:49.984Z"
   },
   {
    "duration": 32,
    "start_time": "2022-05-06T20:29:50.002Z"
   },
   {
    "duration": 12,
    "start_time": "2022-05-06T20:29:50.036Z"
   },
   {
    "duration": 235,
    "start_time": "2022-05-06T20:29:50.049Z"
   },
   {
    "duration": 212,
    "start_time": "2022-05-06T20:29:50.285Z"
   },
   {
    "duration": 14,
    "start_time": "2022-05-06T20:29:50.499Z"
   },
   {
    "duration": 311,
    "start_time": "2022-05-06T20:29:50.515Z"
   },
   {
    "duration": 12,
    "start_time": "2022-05-06T20:29:50.833Z"
   },
   {
    "duration": 30,
    "start_time": "2022-05-06T20:29:50.847Z"
   },
   {
    "duration": 242,
    "start_time": "2022-05-06T20:29:50.879Z"
   },
   {
    "duration": 10,
    "start_time": "2022-05-06T20:29:51.124Z"
   },
   {
    "duration": 6,
    "start_time": "2022-05-06T20:29:51.135Z"
   },
   {
    "duration": 19,
    "start_time": "2022-05-06T20:29:51.142Z"
   },
   {
    "duration": 275,
    "start_time": "2022-05-06T20:29:51.163Z"
   },
   {
    "duration": 136,
    "start_time": "2022-05-06T20:29:51.440Z"
   },
   {
    "duration": 8,
    "start_time": "2022-05-06T20:29:51.578Z"
   },
   {
    "duration": 168,
    "start_time": "2022-05-06T20:29:51.587Z"
   },
   {
    "duration": 169,
    "start_time": "2022-05-06T20:29:51.757Z"
   },
   {
    "duration": 5,
    "start_time": "2022-05-06T20:29:51.933Z"
   },
   {
    "duration": 16,
    "start_time": "2022-05-06T20:29:51.940Z"
   },
   {
    "duration": 20,
    "start_time": "2022-05-06T20:29:51.957Z"
   },
   {
    "duration": 307,
    "start_time": "2022-05-06T20:29:51.978Z"
   },
   {
    "duration": 163,
    "start_time": "2022-05-06T20:29:52.286Z"
   },
   {
    "duration": 6,
    "start_time": "2022-05-06T20:29:52.450Z"
   },
   {
    "duration": 21,
    "start_time": "2022-05-06T20:29:52.457Z"
   },
   {
    "duration": 11,
    "start_time": "2022-05-06T20:29:52.480Z"
   },
   {
    "duration": 15,
    "start_time": "2022-05-06T20:29:52.493Z"
   },
   {
    "duration": 34,
    "start_time": "2022-05-06T20:29:52.509Z"
   },
   {
    "duration": 19,
    "start_time": "2022-05-06T20:29:52.545Z"
   },
   {
    "duration": 9,
    "start_time": "2022-05-06T20:29:52.566Z"
   },
   {
    "duration": 16,
    "start_time": "2022-05-06T20:29:52.577Z"
   },
   {
    "duration": 14,
    "start_time": "2022-05-06T20:29:52.595Z"
   },
   {
    "duration": 9,
    "start_time": "2022-05-06T20:29:52.610Z"
   },
   {
    "duration": 8,
    "start_time": "2022-05-06T20:29:52.621Z"
   },
   {
    "duration": 14,
    "start_time": "2022-05-06T20:29:52.634Z"
   },
   {
    "duration": 13,
    "start_time": "2022-05-06T20:29:52.650Z"
   },
   {
    "duration": 19,
    "start_time": "2022-05-06T20:29:52.665Z"
   },
   {
    "duration": 13,
    "start_time": "2022-05-06T20:29:52.686Z"
   },
   {
    "duration": 15,
    "start_time": "2022-05-06T20:29:52.701Z"
   },
   {
    "duration": 14,
    "start_time": "2022-05-06T20:29:52.718Z"
   },
   {
    "duration": 12,
    "start_time": "2022-05-06T20:29:52.734Z"
   },
   {
    "duration": 17,
    "start_time": "2022-05-06T20:29:52.752Z"
   },
   {
    "duration": 34,
    "start_time": "2022-05-06T20:29:52.771Z"
   },
   {
    "duration": 5,
    "start_time": "2022-05-06T20:30:18.548Z"
   },
   {
    "duration": 14,
    "start_time": "2022-05-06T20:30:34.898Z"
   },
   {
    "duration": 14,
    "start_time": "2022-05-06T20:30:58.595Z"
   },
   {
    "duration": 5,
    "start_time": "2022-05-06T20:31:32.573Z"
   },
   {
    "duration": 5,
    "start_time": "2022-05-06T20:34:24.525Z"
   },
   {
    "duration": 5,
    "start_time": "2022-05-06T20:34:28.060Z"
   },
   {
    "duration": 14,
    "start_time": "2022-05-06T20:35:00.335Z"
   },
   {
    "duration": 4,
    "start_time": "2022-05-06T20:41:48.528Z"
   },
   {
    "duration": 3,
    "start_time": "2022-05-06T20:42:24.910Z"
   },
   {
    "duration": 6,
    "start_time": "2022-05-06T20:42:36.325Z"
   },
   {
    "duration": 3,
    "start_time": "2022-05-06T20:43:24.472Z"
   },
   {
    "duration": 5,
    "start_time": "2022-05-06T20:43:36.578Z"
   },
   {
    "duration": 51,
    "start_time": "2022-05-07T01:08:22.435Z"
   },
   {
    "duration": 1359,
    "start_time": "2022-05-07T01:08:33.379Z"
   },
   {
    "duration": 79,
    "start_time": "2022-05-07T01:08:34.740Z"
   },
   {
    "duration": 12,
    "start_time": "2022-05-07T01:08:34.821Z"
   },
   {
    "duration": 23,
    "start_time": "2022-05-07T01:08:34.835Z"
   },
   {
    "duration": 12,
    "start_time": "2022-05-07T01:08:34.860Z"
   },
   {
    "duration": 9,
    "start_time": "2022-05-07T01:08:34.874Z"
   },
   {
    "duration": 26,
    "start_time": "2022-05-07T01:08:34.886Z"
   },
   {
    "duration": 29,
    "start_time": "2022-05-07T01:08:34.914Z"
   },
   {
    "duration": 11,
    "start_time": "2022-05-07T01:08:34.945Z"
   },
   {
    "duration": 7,
    "start_time": "2022-05-07T01:08:34.959Z"
   },
   {
    "duration": 20,
    "start_time": "2022-05-07T01:08:34.967Z"
   },
   {
    "duration": 23,
    "start_time": "2022-05-07T01:08:34.989Z"
   },
   {
    "duration": 24,
    "start_time": "2022-05-07T01:08:35.013Z"
   },
   {
    "duration": 22,
    "start_time": "2022-05-07T01:08:35.039Z"
   },
   {
    "duration": 15,
    "start_time": "2022-05-07T01:08:35.063Z"
   },
   {
    "duration": 18,
    "start_time": "2022-05-07T01:08:35.079Z"
   },
   {
    "duration": 10,
    "start_time": "2022-05-07T01:08:35.098Z"
   },
   {
    "duration": 18,
    "start_time": "2022-05-07T01:08:35.110Z"
   },
   {
    "duration": 23,
    "start_time": "2022-05-07T01:08:35.130Z"
   },
   {
    "duration": 20,
    "start_time": "2022-05-07T01:08:35.154Z"
   },
   {
    "duration": 29,
    "start_time": "2022-05-07T01:08:35.175Z"
   },
   {
    "duration": 37,
    "start_time": "2022-05-07T01:08:35.206Z"
   },
   {
    "duration": 14,
    "start_time": "2022-05-07T01:08:35.244Z"
   },
   {
    "duration": 23,
    "start_time": "2022-05-07T01:08:35.260Z"
   },
   {
    "duration": 19,
    "start_time": "2022-05-07T01:08:35.285Z"
   },
   {
    "duration": 14,
    "start_time": "2022-05-07T01:08:35.306Z"
   },
   {
    "duration": 14,
    "start_time": "2022-05-07T01:08:35.321Z"
   },
   {
    "duration": 14,
    "start_time": "2022-05-07T01:08:35.341Z"
   },
   {
    "duration": 9,
    "start_time": "2022-05-07T01:08:35.357Z"
   },
   {
    "duration": 22,
    "start_time": "2022-05-07T01:08:35.367Z"
   },
   {
    "duration": 15,
    "start_time": "2022-05-07T01:08:35.391Z"
   },
   {
    "duration": 13,
    "start_time": "2022-05-07T01:08:35.408Z"
   },
   {
    "duration": 33,
    "start_time": "2022-05-07T01:08:35.423Z"
   },
   {
    "duration": 19,
    "start_time": "2022-05-07T01:08:35.458Z"
   },
   {
    "duration": 21,
    "start_time": "2022-05-07T01:08:35.479Z"
   },
   {
    "duration": 8,
    "start_time": "2022-05-07T01:08:35.502Z"
   },
   {
    "duration": 19,
    "start_time": "2022-05-07T01:08:35.512Z"
   },
   {
    "duration": 20,
    "start_time": "2022-05-07T01:08:35.533Z"
   },
   {
    "duration": 203,
    "start_time": "2022-05-07T01:08:35.555Z"
   },
   {
    "duration": 134,
    "start_time": "2022-05-07T01:08:35.761Z"
   },
   {
    "duration": 14,
    "start_time": "2022-05-07T01:08:35.897Z"
   },
   {
    "duration": 27,
    "start_time": "2022-05-07T01:08:35.912Z"
   },
   {
    "duration": 14,
    "start_time": "2022-05-07T01:08:35.941Z"
   },
   {
    "duration": 36,
    "start_time": "2022-05-07T01:08:35.956Z"
   },
   {
    "duration": 299,
    "start_time": "2022-05-07T01:08:35.994Z"
   },
   {
    "duration": 207,
    "start_time": "2022-05-07T01:08:36.295Z"
   },
   {
    "duration": 14,
    "start_time": "2022-05-07T01:08:36.503Z"
   },
   {
    "duration": 362,
    "start_time": "2022-05-07T01:08:36.518Z"
   },
   {
    "duration": 12,
    "start_time": "2022-05-07T01:08:36.881Z"
   },
   {
    "duration": 42,
    "start_time": "2022-05-07T01:08:36.895Z"
   },
   {
    "duration": 211,
    "start_time": "2022-05-07T01:08:36.939Z"
   },
   {
    "duration": 5,
    "start_time": "2022-05-07T01:08:37.152Z"
   },
   {
    "duration": 20,
    "start_time": "2022-05-07T01:08:37.158Z"
   },
   {
    "duration": 19,
    "start_time": "2022-05-07T01:08:37.180Z"
   },
   {
    "duration": 312,
    "start_time": "2022-05-07T01:08:37.201Z"
   },
   {
    "duration": 139,
    "start_time": "2022-05-07T01:08:37.515Z"
   },
   {
    "duration": 9,
    "start_time": "2022-05-07T01:08:37.655Z"
   },
   {
    "duration": 167,
    "start_time": "2022-05-07T01:08:37.666Z"
   },
   {
    "duration": 159,
    "start_time": "2022-05-07T01:08:37.835Z"
   },
   {
    "duration": 5,
    "start_time": "2022-05-07T01:08:37.996Z"
   },
   {
    "duration": 15,
    "start_time": "2022-05-07T01:08:38.003Z"
   },
   {
    "duration": 37,
    "start_time": "2022-05-07T01:08:38.020Z"
   },
   {
    "duration": 279,
    "start_time": "2022-05-07T01:08:38.059Z"
   },
   {
    "duration": 154,
    "start_time": "2022-05-07T01:08:38.340Z"
   },
   {
    "duration": 5,
    "start_time": "2022-05-07T01:08:38.496Z"
   },
   {
    "duration": 27,
    "start_time": "2022-05-07T01:08:38.503Z"
   },
   {
    "duration": 10,
    "start_time": "2022-05-07T01:08:38.532Z"
   },
   {
    "duration": 34,
    "start_time": "2022-05-07T01:08:38.544Z"
   },
   {
    "duration": 15,
    "start_time": "2022-05-07T01:08:38.580Z"
   },
   {
    "duration": 30,
    "start_time": "2022-05-07T01:08:38.597Z"
   },
   {
    "duration": 17,
    "start_time": "2022-05-07T01:08:38.628Z"
   },
   {
    "duration": 14,
    "start_time": "2022-05-07T01:08:38.647Z"
   },
   {
    "duration": 9,
    "start_time": "2022-05-07T01:08:38.663Z"
   },
   {
    "duration": 15,
    "start_time": "2022-05-07T01:08:38.674Z"
   },
   {
    "duration": 19,
    "start_time": "2022-05-07T01:08:38.691Z"
   },
   {
    "duration": 20,
    "start_time": "2022-05-07T01:08:38.711Z"
   },
   {
    "duration": 10,
    "start_time": "2022-05-07T01:08:38.733Z"
   },
   {
    "duration": 9,
    "start_time": "2022-05-07T01:08:38.745Z"
   },
   {
    "duration": 14,
    "start_time": "2022-05-07T01:08:38.755Z"
   },
   {
    "duration": 2778,
    "start_time": "2022-05-07T01:08:38.770Z"
   },
   {
    "duration": 0,
    "start_time": "2022-05-07T01:08:41.550Z"
   },
   {
    "duration": 0,
    "start_time": "2022-05-07T01:08:41.551Z"
   },
   {
    "duration": 0,
    "start_time": "2022-05-07T01:08:41.553Z"
   },
   {
    "duration": 4,
    "start_time": "2022-05-07T01:09:16.129Z"
   },
   {
    "duration": 5,
    "start_time": "2022-05-07T01:09:30.675Z"
   },
   {
    "duration": 3,
    "start_time": "2022-05-07T01:14:33.417Z"
   },
   {
    "duration": 10,
    "start_time": "2022-05-07T01:14:39.640Z"
   },
   {
    "duration": 10,
    "start_time": "2022-05-07T01:15:09.179Z"
   },
   {
    "duration": 12,
    "start_time": "2022-05-07T01:15:22.113Z"
   },
   {
    "duration": 3025,
    "start_time": "2022-05-07T01:19:30.909Z"
   },
   {
    "duration": 2745,
    "start_time": "2022-05-07T01:19:51.728Z"
   },
   {
    "duration": 5,
    "start_time": "2022-05-07T01:20:49.004Z"
   },
   {
    "duration": 11,
    "start_time": "2022-05-07T01:20:54.814Z"
   },
   {
    "duration": 157,
    "start_time": "2022-05-07T01:23:49.513Z"
   },
   {
    "duration": 192,
    "start_time": "2022-05-07T01:24:04.868Z"
   },
   {
    "duration": 5,
    "start_time": "2022-05-07T01:24:13.960Z"
   },
   {
    "duration": 8,
    "start_time": "2022-05-07T01:24:19.130Z"
   },
   {
    "duration": 5,
    "start_time": "2022-05-07T01:26:03.960Z"
   },
   {
    "duration": 7,
    "start_time": "2022-05-07T01:26:09.396Z"
   },
   {
    "duration": 11,
    "start_time": "2022-05-07T01:28:04.430Z"
   },
   {
    "duration": 14,
    "start_time": "2022-05-07T01:29:19.757Z"
   },
   {
    "duration": 11,
    "start_time": "2022-05-07T01:29:37.754Z"
   },
   {
    "duration": 14,
    "start_time": "2022-05-07T01:31:14.082Z"
   },
   {
    "duration": 23,
    "start_time": "2022-05-07T01:36:03.974Z"
   },
   {
    "duration": 179,
    "start_time": "2022-05-07T01:36:51.927Z"
   },
   {
    "duration": 21,
    "start_time": "2022-05-07T01:37:23.626Z"
   },
   {
    "duration": 24,
    "start_time": "2022-05-07T01:37:45.718Z"
   },
   {
    "duration": 14,
    "start_time": "2022-05-07T01:41:57.869Z"
   },
   {
    "duration": 14,
    "start_time": "2022-05-07T01:42:37.299Z"
   },
   {
    "duration": 14,
    "start_time": "2022-05-07T01:43:26.831Z"
   },
   {
    "duration": 11,
    "start_time": "2022-05-07T01:44:13.944Z"
   },
   {
    "duration": 14,
    "start_time": "2022-05-07T01:44:40.981Z"
   },
   {
    "duration": 12,
    "start_time": "2022-05-07T01:45:00.657Z"
   },
   {
    "duration": 8,
    "start_time": "2022-05-07T01:46:18.817Z"
   },
   {
    "duration": 13,
    "start_time": "2022-05-07T01:46:29.440Z"
   },
   {
    "duration": 4,
    "start_time": "2022-05-07T01:48:34.944Z"
   },
   {
    "duration": 13,
    "start_time": "2022-05-07T01:48:53.376Z"
   },
   {
    "duration": 14,
    "start_time": "2022-05-07T01:52:12.410Z"
   },
   {
    "duration": 14,
    "start_time": "2022-05-07T01:52:20.344Z"
   },
   {
    "duration": 11,
    "start_time": "2022-05-07T01:53:08.745Z"
   },
   {
    "duration": 12,
    "start_time": "2022-05-07T01:53:39.836Z"
   },
   {
    "duration": 11,
    "start_time": "2022-05-07T01:54:37.747Z"
   },
   {
    "duration": 12,
    "start_time": "2022-05-07T01:55:36.798Z"
   },
   {
    "duration": 11,
    "start_time": "2022-05-07T01:55:51.427Z"
   },
   {
    "duration": 12,
    "start_time": "2022-05-07T01:58:11.220Z"
   },
   {
    "duration": 2678,
    "start_time": "2022-05-07T01:58:29.827Z"
   },
   {
    "duration": 2669,
    "start_time": "2022-05-07T01:59:08.573Z"
   },
   {
    "duration": 10,
    "start_time": "2022-05-07T02:01:26.615Z"
   },
   {
    "duration": 8,
    "start_time": "2022-05-07T02:01:47.359Z"
   },
   {
    "duration": 13,
    "start_time": "2022-05-07T02:02:14.817Z"
   },
   {
    "duration": 10,
    "start_time": "2022-05-07T02:02:20.970Z"
   },
   {
    "duration": 10,
    "start_time": "2022-05-07T02:02:52.595Z"
   },
   {
    "duration": 13,
    "start_time": "2022-05-07T02:02:57.840Z"
   },
   {
    "duration": 15,
    "start_time": "2022-05-07T02:03:13.892Z"
   },
   {
    "duration": 1263,
    "start_time": "2022-05-07T02:03:33.025Z"
   },
   {
    "duration": 60,
    "start_time": "2022-05-07T02:03:34.290Z"
   },
   {
    "duration": 11,
    "start_time": "2022-05-07T02:03:34.352Z"
   },
   {
    "duration": 14,
    "start_time": "2022-05-07T02:03:34.365Z"
   },
   {
    "duration": 8,
    "start_time": "2022-05-07T02:03:34.382Z"
   },
   {
    "duration": 11,
    "start_time": "2022-05-07T02:03:34.391Z"
   },
   {
    "duration": 12,
    "start_time": "2022-05-07T02:03:34.404Z"
   },
   {
    "duration": 23,
    "start_time": "2022-05-07T02:03:34.417Z"
   },
   {
    "duration": 14,
    "start_time": "2022-05-07T02:03:34.441Z"
   },
   {
    "duration": 9,
    "start_time": "2022-05-07T02:03:34.457Z"
   },
   {
    "duration": 14,
    "start_time": "2022-05-07T02:03:34.468Z"
   },
   {
    "duration": 15,
    "start_time": "2022-05-07T02:03:34.484Z"
   },
   {
    "duration": 15,
    "start_time": "2022-05-07T02:03:34.501Z"
   },
   {
    "duration": 15,
    "start_time": "2022-05-07T02:03:34.519Z"
   },
   {
    "duration": 11,
    "start_time": "2022-05-07T02:03:34.536Z"
   },
   {
    "duration": 10,
    "start_time": "2022-05-07T02:03:34.548Z"
   },
   {
    "duration": 6,
    "start_time": "2022-05-07T02:03:34.559Z"
   },
   {
    "duration": 16,
    "start_time": "2022-05-07T02:03:34.566Z"
   },
   {
    "duration": 12,
    "start_time": "2022-05-07T02:03:34.583Z"
   },
   {
    "duration": 7,
    "start_time": "2022-05-07T02:03:34.597Z"
   },
   {
    "duration": 10,
    "start_time": "2022-05-07T02:03:34.634Z"
   },
   {
    "duration": 8,
    "start_time": "2022-05-07T02:03:34.646Z"
   },
   {
    "duration": 5,
    "start_time": "2022-05-07T02:03:34.656Z"
   },
   {
    "duration": 7,
    "start_time": "2022-05-07T02:03:34.663Z"
   },
   {
    "duration": 11,
    "start_time": "2022-05-07T02:03:34.672Z"
   },
   {
    "duration": 5,
    "start_time": "2022-05-07T02:03:34.685Z"
   },
   {
    "duration": 6,
    "start_time": "2022-05-07T02:03:34.692Z"
   },
   {
    "duration": 6,
    "start_time": "2022-05-07T02:03:34.700Z"
   },
   {
    "duration": 26,
    "start_time": "2022-05-07T02:03:34.708Z"
   },
   {
    "duration": 12,
    "start_time": "2022-05-07T02:03:34.735Z"
   },
   {
    "duration": 7,
    "start_time": "2022-05-07T02:03:34.749Z"
   },
   {
    "duration": 6,
    "start_time": "2022-05-07T02:03:34.758Z"
   },
   {
    "duration": 12,
    "start_time": "2022-05-07T02:03:34.765Z"
   },
   {
    "duration": 12,
    "start_time": "2022-05-07T02:03:34.778Z"
   },
   {
    "duration": 9,
    "start_time": "2022-05-07T02:03:34.791Z"
   },
   {
    "duration": 7,
    "start_time": "2022-05-07T02:03:34.802Z"
   },
   {
    "duration": 2,
    "start_time": "2022-05-07T02:03:34.834Z"
   },
   {
    "duration": 14,
    "start_time": "2022-05-07T02:03:34.838Z"
   },
   {
    "duration": 210,
    "start_time": "2022-05-07T02:03:34.854Z"
   },
   {
    "duration": 145,
    "start_time": "2022-05-07T02:03:35.066Z"
   },
   {
    "duration": 27,
    "start_time": "2022-05-07T02:03:35.215Z"
   },
   {
    "duration": 9,
    "start_time": "2022-05-07T02:03:35.244Z"
   },
   {
    "duration": 12,
    "start_time": "2022-05-07T02:03:35.255Z"
   },
   {
    "duration": 10,
    "start_time": "2022-05-07T02:03:35.269Z"
   },
   {
    "duration": 303,
    "start_time": "2022-05-07T02:03:35.280Z"
   },
   {
    "duration": 206,
    "start_time": "2022-05-07T02:03:35.585Z"
   },
   {
    "duration": 14,
    "start_time": "2022-05-07T02:03:35.793Z"
   },
   {
    "duration": 333,
    "start_time": "2022-05-07T02:03:35.809Z"
   },
   {
    "duration": 11,
    "start_time": "2022-05-07T02:03:36.144Z"
   },
   {
    "duration": 22,
    "start_time": "2022-05-07T02:03:36.157Z"
   },
   {
    "duration": 223,
    "start_time": "2022-05-07T02:03:36.180Z"
   },
   {
    "duration": 4,
    "start_time": "2022-05-07T02:03:36.405Z"
   },
   {
    "duration": 22,
    "start_time": "2022-05-07T02:03:36.411Z"
   },
   {
    "duration": 30,
    "start_time": "2022-05-07T02:03:36.434Z"
   },
   {
    "duration": 261,
    "start_time": "2022-05-07T02:03:36.466Z"
   },
   {
    "duration": 133,
    "start_time": "2022-05-07T02:03:36.733Z"
   },
   {
    "duration": 9,
    "start_time": "2022-05-07T02:03:36.867Z"
   },
   {
    "duration": 158,
    "start_time": "2022-05-07T02:03:36.878Z"
   },
   {
    "duration": 160,
    "start_time": "2022-05-07T02:03:37.037Z"
   },
   {
    "duration": 5,
    "start_time": "2022-05-07T02:03:37.198Z"
   },
   {
    "duration": 16,
    "start_time": "2022-05-07T02:03:37.204Z"
   },
   {
    "duration": 11,
    "start_time": "2022-05-07T02:03:37.234Z"
   },
   {
    "duration": 278,
    "start_time": "2022-05-07T02:03:37.247Z"
   },
   {
    "duration": 154,
    "start_time": "2022-05-07T02:03:37.526Z"
   },
   {
    "duration": 5,
    "start_time": "2022-05-07T02:03:37.681Z"
   },
   {
    "duration": 20,
    "start_time": "2022-05-07T02:03:37.688Z"
   },
   {
    "duration": 23,
    "start_time": "2022-05-07T02:03:37.710Z"
   },
   {
    "duration": 11,
    "start_time": "2022-05-07T02:03:37.735Z"
   },
   {
    "duration": 14,
    "start_time": "2022-05-07T02:03:37.748Z"
   },
   {
    "duration": 13,
    "start_time": "2022-05-07T02:03:37.763Z"
   },
   {
    "duration": 3,
    "start_time": "2022-05-07T02:03:37.778Z"
   },
   {
    "duration": 8,
    "start_time": "2022-05-07T02:03:37.783Z"
   },
   {
    "duration": 8,
    "start_time": "2022-05-07T02:03:37.793Z"
   },
   {
    "duration": 34,
    "start_time": "2022-05-07T02:03:37.803Z"
   },
   {
    "duration": 8,
    "start_time": "2022-05-07T02:03:37.838Z"
   },
   {
    "duration": 12,
    "start_time": "2022-05-07T02:03:37.848Z"
   },
   {
    "duration": 12,
    "start_time": "2022-05-07T02:03:37.862Z"
   },
   {
    "duration": 23,
    "start_time": "2022-05-07T02:03:37.875Z"
   },
   {
    "duration": 37,
    "start_time": "2022-05-07T02:03:37.899Z"
   },
   {
    "duration": 5,
    "start_time": "2022-05-07T02:03:37.938Z"
   },
   {
    "duration": 9,
    "start_time": "2022-05-07T02:03:37.944Z"
   },
   {
    "duration": 2721,
    "start_time": "2022-05-07T02:03:37.954Z"
   },
   {
    "duration": 0,
    "start_time": "2022-05-07T02:03:40.676Z"
   },
   {
    "duration": 0,
    "start_time": "2022-05-07T02:03:40.678Z"
   },
   {
    "duration": 0,
    "start_time": "2022-05-07T02:03:40.679Z"
   },
   {
    "duration": 23,
    "start_time": "2022-05-07T02:04:06.332Z"
   },
   {
    "duration": 20,
    "start_time": "2022-05-07T02:04:56.215Z"
   },
   {
    "duration": 16,
    "start_time": "2022-05-07T02:05:30.562Z"
   },
   {
    "duration": 176,
    "start_time": "2022-05-07T02:06:01.257Z"
   },
   {
    "duration": 25,
    "start_time": "2022-05-07T02:06:07.064Z"
   },
   {
    "duration": 21,
    "start_time": "2022-05-07T02:08:15.843Z"
   },
   {
    "duration": 22,
    "start_time": "2022-05-07T02:09:05.515Z"
   },
   {
    "duration": 20,
    "start_time": "2022-05-07T02:09:17.345Z"
   },
   {
    "duration": 3,
    "start_time": "2022-05-07T02:09:33.130Z"
   },
   {
    "duration": 5,
    "start_time": "2022-05-07T02:09:36.141Z"
   },
   {
    "duration": 2723,
    "start_time": "2022-05-07T02:09:40.129Z"
   },
   {
    "duration": 4,
    "start_time": "2022-05-07T02:10:11.827Z"
   },
   {
    "duration": 4,
    "start_time": "2022-05-07T02:10:16.797Z"
   },
   {
    "duration": 5,
    "start_time": "2022-05-07T02:10:20.932Z"
   },
   {
    "duration": 4,
    "start_time": "2022-05-07T02:10:24.185Z"
   },
   {
    "duration": 1224,
    "start_time": "2022-05-07T02:12:04.284Z"
   },
   {
    "duration": 59,
    "start_time": "2022-05-07T02:12:05.511Z"
   },
   {
    "duration": 12,
    "start_time": "2022-05-07T02:12:05.572Z"
   },
   {
    "duration": 15,
    "start_time": "2022-05-07T02:12:05.586Z"
   },
   {
    "duration": 9,
    "start_time": "2022-05-07T02:12:05.603Z"
   },
   {
    "duration": 10,
    "start_time": "2022-05-07T02:12:05.614Z"
   },
   {
    "duration": 16,
    "start_time": "2022-05-07T02:12:05.626Z"
   },
   {
    "duration": 12,
    "start_time": "2022-05-07T02:12:05.644Z"
   },
   {
    "duration": 6,
    "start_time": "2022-05-07T02:12:05.658Z"
   },
   {
    "duration": 5,
    "start_time": "2022-05-07T02:12:05.667Z"
   },
   {
    "duration": 13,
    "start_time": "2022-05-07T02:12:05.673Z"
   },
   {
    "duration": 10,
    "start_time": "2022-05-07T02:12:05.688Z"
   },
   {
    "duration": 39,
    "start_time": "2022-05-07T02:12:05.699Z"
   },
   {
    "duration": 9,
    "start_time": "2022-05-07T02:12:05.740Z"
   },
   {
    "duration": 13,
    "start_time": "2022-05-07T02:12:05.750Z"
   },
   {
    "duration": 13,
    "start_time": "2022-05-07T02:12:05.764Z"
   },
   {
    "duration": 4,
    "start_time": "2022-05-07T02:12:05.779Z"
   },
   {
    "duration": 9,
    "start_time": "2022-05-07T02:12:05.784Z"
   },
   {
    "duration": 13,
    "start_time": "2022-05-07T02:12:05.795Z"
   },
   {
    "duration": 7,
    "start_time": "2022-05-07T02:12:05.834Z"
   },
   {
    "duration": 12,
    "start_time": "2022-05-07T02:12:05.843Z"
   },
   {
    "duration": 12,
    "start_time": "2022-05-07T02:12:05.857Z"
   },
   {
    "duration": 6,
    "start_time": "2022-05-07T02:12:05.870Z"
   },
   {
    "duration": 7,
    "start_time": "2022-05-07T02:12:05.878Z"
   },
   {
    "duration": 7,
    "start_time": "2022-05-07T02:12:05.886Z"
   },
   {
    "duration": 7,
    "start_time": "2022-05-07T02:12:05.894Z"
   },
   {
    "duration": 32,
    "start_time": "2022-05-07T02:12:05.902Z"
   },
   {
    "duration": 4,
    "start_time": "2022-05-07T02:12:05.939Z"
   },
   {
    "duration": 6,
    "start_time": "2022-05-07T02:12:05.945Z"
   },
   {
    "duration": 12,
    "start_time": "2022-05-07T02:12:05.953Z"
   },
   {
    "duration": 9,
    "start_time": "2022-05-07T02:12:05.967Z"
   },
   {
    "duration": 11,
    "start_time": "2022-05-07T02:12:05.977Z"
   },
   {
    "duration": 11,
    "start_time": "2022-05-07T02:12:05.990Z"
   },
   {
    "duration": 31,
    "start_time": "2022-05-07T02:12:06.003Z"
   },
   {
    "duration": 9,
    "start_time": "2022-05-07T02:12:06.036Z"
   },
   {
    "duration": 12,
    "start_time": "2022-05-07T02:12:06.047Z"
   },
   {
    "duration": 10,
    "start_time": "2022-05-07T02:12:06.060Z"
   },
   {
    "duration": 12,
    "start_time": "2022-05-07T02:12:06.071Z"
   },
   {
    "duration": 210,
    "start_time": "2022-05-07T02:12:06.085Z"
   },
   {
    "duration": 123,
    "start_time": "2022-05-07T02:12:06.297Z"
   },
   {
    "duration": 24,
    "start_time": "2022-05-07T02:12:06.421Z"
   },
   {
    "duration": 11,
    "start_time": "2022-05-07T02:12:06.446Z"
   },
   {
    "duration": 12,
    "start_time": "2022-05-07T02:12:06.459Z"
   },
   {
    "duration": 11,
    "start_time": "2022-05-07T02:12:06.473Z"
   },
   {
    "duration": 308,
    "start_time": "2022-05-07T02:12:06.485Z"
   },
   {
    "duration": 204,
    "start_time": "2022-05-07T02:12:06.795Z"
   },
   {
    "duration": 14,
    "start_time": "2022-05-07T02:12:07.001Z"
   },
   {
    "duration": 303,
    "start_time": "2022-05-07T02:12:07.017Z"
   },
   {
    "duration": 12,
    "start_time": "2022-05-07T02:12:07.334Z"
   },
   {
    "duration": 21,
    "start_time": "2022-05-07T02:12:07.348Z"
   },
   {
    "duration": 223,
    "start_time": "2022-05-07T02:12:07.371Z"
   },
   {
    "duration": 5,
    "start_time": "2022-05-07T02:12:07.597Z"
   },
   {
    "duration": 6,
    "start_time": "2022-05-07T02:12:07.604Z"
   },
   {
    "duration": 31,
    "start_time": "2022-05-07T02:12:07.611Z"
   },
   {
    "duration": 307,
    "start_time": "2022-05-07T02:12:07.644Z"
   },
   {
    "duration": 144,
    "start_time": "2022-05-07T02:12:07.953Z"
   },
   {
    "duration": 8,
    "start_time": "2022-05-07T02:12:08.098Z"
   },
   {
    "duration": 168,
    "start_time": "2022-05-07T02:12:08.107Z"
   },
   {
    "duration": 157,
    "start_time": "2022-05-07T02:12:08.277Z"
   },
   {
    "duration": 4,
    "start_time": "2022-05-07T02:12:08.436Z"
   },
   {
    "duration": 14,
    "start_time": "2022-05-07T02:12:08.442Z"
   },
   {
    "duration": 14,
    "start_time": "2022-05-07T02:12:08.457Z"
   },
   {
    "duration": 282,
    "start_time": "2022-05-07T02:12:08.473Z"
   },
   {
    "duration": 153,
    "start_time": "2022-05-07T02:12:08.757Z"
   },
   {
    "duration": 5,
    "start_time": "2022-05-07T02:12:08.911Z"
   },
   {
    "duration": 25,
    "start_time": "2022-05-07T02:12:08.918Z"
   },
   {
    "duration": 10,
    "start_time": "2022-05-07T02:12:08.944Z"
   },
   {
    "duration": 14,
    "start_time": "2022-05-07T02:12:08.955Z"
   },
   {
    "duration": 21,
    "start_time": "2022-05-07T02:12:08.971Z"
   },
   {
    "duration": 45,
    "start_time": "2022-05-07T02:12:08.993Z"
   },
   {
    "duration": 3,
    "start_time": "2022-05-07T02:12:09.039Z"
   },
   {
    "duration": 8,
    "start_time": "2022-05-07T02:12:09.043Z"
   },
   {
    "duration": 9,
    "start_time": "2022-05-07T02:12:09.052Z"
   },
   {
    "duration": 10,
    "start_time": "2022-05-07T02:12:09.062Z"
   },
   {
    "duration": 10,
    "start_time": "2022-05-07T02:12:09.073Z"
   },
   {
    "duration": 13,
    "start_time": "2022-05-07T02:12:09.085Z"
   },
   {
    "duration": 5,
    "start_time": "2022-05-07T02:12:09.099Z"
   },
   {
    "duration": 5,
    "start_time": "2022-05-07T02:12:09.133Z"
   },
   {
    "duration": 2876,
    "start_time": "2022-05-07T02:12:09.139Z"
   },
   {
    "duration": 0,
    "start_time": "2022-05-07T02:12:12.016Z"
   },
   {
    "duration": 0,
    "start_time": "2022-05-07T02:12:12.018Z"
   },
   {
    "duration": 0,
    "start_time": "2022-05-07T02:12:12.019Z"
   },
   {
    "duration": 15,
    "start_time": "2022-05-07T02:14:49.898Z"
   },
   {
    "duration": 9,
    "start_time": "2022-05-07T02:17:51.028Z"
   },
   {
    "duration": 10,
    "start_time": "2022-05-07T02:17:57.834Z"
   },
   {
    "duration": 4,
    "start_time": "2022-05-07T02:18:09.078Z"
   },
   {
    "duration": 16,
    "start_time": "2022-05-07T02:18:17.190Z"
   },
   {
    "duration": 11,
    "start_time": "2022-05-07T02:19:44.217Z"
   },
   {
    "duration": 5,
    "start_time": "2022-05-07T02:20:10.890Z"
   },
   {
    "duration": 6,
    "start_time": "2022-05-07T02:21:11.100Z"
   },
   {
    "duration": 5,
    "start_time": "2022-05-07T02:21:17.245Z"
   },
   {
    "duration": 5,
    "start_time": "2022-05-07T02:21:23.917Z"
   },
   {
    "duration": 4,
    "start_time": "2022-05-07T02:23:31.802Z"
   },
   {
    "duration": 4,
    "start_time": "2022-05-07T02:23:36.637Z"
   },
   {
    "duration": 4,
    "start_time": "2022-05-07T02:25:08.079Z"
   },
   {
    "duration": 6,
    "start_time": "2022-05-07T02:25:32.861Z"
   },
   {
    "duration": 10,
    "start_time": "2022-05-07T02:26:03.577Z"
   },
   {
    "duration": 7,
    "start_time": "2022-05-07T02:26:13.129Z"
   },
   {
    "duration": 5,
    "start_time": "2022-05-07T02:28:50.748Z"
   },
   {
    "duration": 8,
    "start_time": "2022-05-07T02:30:49.225Z"
   },
   {
    "duration": 5,
    "start_time": "2022-05-07T02:35:57.463Z"
   },
   {
    "duration": 5,
    "start_time": "2022-05-07T02:36:00.851Z"
   },
   {
    "duration": 11,
    "start_time": "2022-05-07T02:43:03.408Z"
   },
   {
    "duration": 8,
    "start_time": "2022-05-07T02:43:15.351Z"
   },
   {
    "duration": 10,
    "start_time": "2022-05-07T02:44:15.277Z"
   },
   {
    "duration": 4,
    "start_time": "2022-05-07T02:54:35.207Z"
   },
   {
    "duration": 5,
    "start_time": "2022-05-07T02:54:50.312Z"
   },
   {
    "duration": 4,
    "start_time": "2022-05-07T02:55:02.193Z"
   },
   {
    "duration": 4,
    "start_time": "2022-05-07T02:55:47.929Z"
   },
   {
    "duration": 4,
    "start_time": "2022-05-07T02:55:54.830Z"
   },
   {
    "duration": 12,
    "start_time": "2022-05-07T02:57:49.444Z"
   },
   {
    "duration": 5,
    "start_time": "2022-05-07T02:58:21.002Z"
   },
   {
    "duration": 5,
    "start_time": "2022-05-07T02:58:23.694Z"
   },
   {
    "duration": 4,
    "start_time": "2022-05-07T02:58:26.108Z"
   },
   {
    "duration": 4,
    "start_time": "2022-05-07T02:58:29.666Z"
   },
   {
    "duration": 4,
    "start_time": "2022-05-07T02:58:32.880Z"
   },
   {
    "duration": 3,
    "start_time": "2022-05-07T03:00:14.215Z"
   },
   {
    "duration": 10,
    "start_time": "2022-05-07T03:06:27.425Z"
   },
   {
    "duration": 3,
    "start_time": "2022-05-07T03:07:36.693Z"
   },
   {
    "duration": 1247,
    "start_time": "2022-05-07T03:07:54.421Z"
   },
   {
    "duration": 70,
    "start_time": "2022-05-07T03:07:55.670Z"
   },
   {
    "duration": 11,
    "start_time": "2022-05-07T03:07:55.742Z"
   },
   {
    "duration": 11,
    "start_time": "2022-05-07T03:07:55.755Z"
   },
   {
    "duration": 7,
    "start_time": "2022-05-07T03:07:55.767Z"
   },
   {
    "duration": 9,
    "start_time": "2022-05-07T03:07:55.776Z"
   },
   {
    "duration": 11,
    "start_time": "2022-05-07T03:07:55.787Z"
   },
   {
    "duration": 33,
    "start_time": "2022-05-07T03:07:55.800Z"
   },
   {
    "duration": 9,
    "start_time": "2022-05-07T03:07:55.835Z"
   },
   {
    "duration": 4,
    "start_time": "2022-05-07T03:07:55.847Z"
   },
   {
    "duration": 12,
    "start_time": "2022-05-07T03:07:55.853Z"
   },
   {
    "duration": 9,
    "start_time": "2022-05-07T03:07:55.866Z"
   },
   {
    "duration": 15,
    "start_time": "2022-05-07T03:07:55.877Z"
   },
   {
    "duration": 6,
    "start_time": "2022-05-07T03:07:55.894Z"
   },
   {
    "duration": 39,
    "start_time": "2022-05-07T03:07:55.902Z"
   },
   {
    "duration": 11,
    "start_time": "2022-05-07T03:07:55.942Z"
   },
   {
    "duration": 4,
    "start_time": "2022-05-07T03:07:55.955Z"
   },
   {
    "duration": 8,
    "start_time": "2022-05-07T03:07:55.960Z"
   },
   {
    "duration": 11,
    "start_time": "2022-05-07T03:07:55.970Z"
   },
   {
    "duration": 7,
    "start_time": "2022-05-07T03:07:55.983Z"
   },
   {
    "duration": 43,
    "start_time": "2022-05-07T03:07:55.992Z"
   },
   {
    "duration": 8,
    "start_time": "2022-05-07T03:07:56.037Z"
   },
   {
    "duration": 9,
    "start_time": "2022-05-07T03:07:56.047Z"
   },
   {
    "duration": 11,
    "start_time": "2022-05-07T03:07:56.058Z"
   },
   {
    "duration": 7,
    "start_time": "2022-05-07T03:07:56.071Z"
   },
   {
    "duration": 7,
    "start_time": "2022-05-07T03:07:56.080Z"
   },
   {
    "duration": 15,
    "start_time": "2022-05-07T03:07:56.088Z"
   },
   {
    "duration": 4,
    "start_time": "2022-05-07T03:07:56.108Z"
   },
   {
    "duration": 21,
    "start_time": "2022-05-07T03:07:56.114Z"
   },
   {
    "duration": 18,
    "start_time": "2022-05-07T03:07:56.137Z"
   },
   {
    "duration": 8,
    "start_time": "2022-05-07T03:07:56.157Z"
   },
   {
    "duration": 26,
    "start_time": "2022-05-07T03:07:56.167Z"
   },
   {
    "duration": 11,
    "start_time": "2022-05-07T03:07:56.195Z"
   },
   {
    "duration": 13,
    "start_time": "2022-05-07T03:07:56.208Z"
   },
   {
    "duration": 15,
    "start_time": "2022-05-07T03:07:56.222Z"
   },
   {
    "duration": 6,
    "start_time": "2022-05-07T03:07:56.239Z"
   },
   {
    "duration": 5,
    "start_time": "2022-05-07T03:07:56.247Z"
   },
   {
    "duration": 13,
    "start_time": "2022-05-07T03:07:56.253Z"
   },
   {
    "duration": 222,
    "start_time": "2022-05-07T03:07:56.268Z"
   },
   {
    "duration": 144,
    "start_time": "2022-05-07T03:07:56.492Z"
   },
   {
    "duration": 14,
    "start_time": "2022-05-07T03:07:56.638Z"
   },
   {
    "duration": 22,
    "start_time": "2022-05-07T03:07:56.654Z"
   },
   {
    "duration": 21,
    "start_time": "2022-05-07T03:07:56.678Z"
   },
   {
    "duration": 23,
    "start_time": "2022-05-07T03:07:56.700Z"
   },
   {
    "duration": 301,
    "start_time": "2022-05-07T03:07:56.725Z"
   },
   {
    "duration": 207,
    "start_time": "2022-05-07T03:07:57.028Z"
   },
   {
    "duration": 13,
    "start_time": "2022-05-07T03:07:57.237Z"
   },
   {
    "duration": 276,
    "start_time": "2022-05-07T03:07:57.251Z"
   },
   {
    "duration": 12,
    "start_time": "2022-05-07T03:07:57.534Z"
   },
   {
    "duration": 26,
    "start_time": "2022-05-07T03:07:57.548Z"
   },
   {
    "duration": 220,
    "start_time": "2022-05-07T03:07:57.576Z"
   },
   {
    "duration": 5,
    "start_time": "2022-05-07T03:07:57.797Z"
   },
   {
    "duration": 17,
    "start_time": "2022-05-07T03:07:57.804Z"
   },
   {
    "duration": 27,
    "start_time": "2022-05-07T03:07:57.823Z"
   },
   {
    "duration": 273,
    "start_time": "2022-05-07T03:07:57.851Z"
   },
   {
    "duration": 137,
    "start_time": "2022-05-07T03:07:58.126Z"
   },
   {
    "duration": 9,
    "start_time": "2022-05-07T03:07:58.265Z"
   },
   {
    "duration": 164,
    "start_time": "2022-05-07T03:07:58.276Z"
   },
   {
    "duration": 167,
    "start_time": "2022-05-07T03:07:58.442Z"
   },
   {
    "duration": 6,
    "start_time": "2022-05-07T03:07:58.611Z"
   },
   {
    "duration": 22,
    "start_time": "2022-05-07T03:07:58.620Z"
   },
   {
    "duration": 16,
    "start_time": "2022-05-07T03:07:58.644Z"
   },
   {
    "duration": 300,
    "start_time": "2022-05-07T03:07:58.663Z"
   },
   {
    "duration": 157,
    "start_time": "2022-05-07T03:07:58.965Z"
   },
   {
    "duration": 12,
    "start_time": "2022-05-07T03:07:59.124Z"
   },
   {
    "duration": 19,
    "start_time": "2022-05-07T03:07:59.138Z"
   },
   {
    "duration": 11,
    "start_time": "2022-05-07T03:07:59.158Z"
   },
   {
    "duration": 16,
    "start_time": "2022-05-07T03:07:59.171Z"
   },
   {
    "duration": 21,
    "start_time": "2022-05-07T03:07:59.189Z"
   },
   {
    "duration": 39,
    "start_time": "2022-05-07T03:07:59.212Z"
   },
   {
    "duration": 3,
    "start_time": "2022-05-07T03:07:59.252Z"
   },
   {
    "duration": 23,
    "start_time": "2022-05-07T03:07:59.257Z"
   },
   {
    "duration": 10,
    "start_time": "2022-05-07T03:07:59.281Z"
   },
   {
    "duration": 9,
    "start_time": "2022-05-07T03:07:59.293Z"
   },
   {
    "duration": 22,
    "start_time": "2022-05-07T03:07:59.303Z"
   },
   {
    "duration": 21,
    "start_time": "2022-05-07T03:07:59.326Z"
   },
   {
    "duration": 7,
    "start_time": "2022-05-07T03:07:59.348Z"
   },
   {
    "duration": 13,
    "start_time": "2022-05-07T03:07:59.356Z"
   },
   {
    "duration": 15,
    "start_time": "2022-05-07T03:07:59.370Z"
   },
   {
    "duration": 14,
    "start_time": "2022-05-07T03:07:59.387Z"
   },
   {
    "duration": 10,
    "start_time": "2022-05-07T03:07:59.403Z"
   },
   {
    "duration": 15,
    "start_time": "2022-05-07T03:07:59.419Z"
   },
   {
    "duration": 13,
    "start_time": "2022-05-07T03:07:59.436Z"
   },
   {
    "duration": 10,
    "start_time": "2022-05-07T03:24:15.554Z"
   },
   {
    "duration": 8,
    "start_time": "2022-05-07T03:24:18.991Z"
   },
   {
    "duration": 138,
    "start_time": "2022-05-07T03:26:11.321Z"
   },
   {
    "duration": 108,
    "start_time": "2022-05-07T03:29:18.733Z"
   },
   {
    "duration": 11,
    "start_time": "2022-05-07T03:31:16.727Z"
   },
   {
    "duration": 12,
    "start_time": "2022-05-07T03:31:37.360Z"
   },
   {
    "duration": 29,
    "start_time": "2022-05-07T03:32:10.161Z"
   },
   {
    "duration": 11,
    "start_time": "2022-05-07T03:37:25.702Z"
   },
   {
    "duration": 10,
    "start_time": "2022-05-07T03:38:12.720Z"
   },
   {
    "duration": 2675,
    "start_time": "2022-05-07T03:45:13.386Z"
   },
   {
    "duration": 9,
    "start_time": "2022-05-07T03:47:02.452Z"
   },
   {
    "duration": 2647,
    "start_time": "2022-05-07T03:47:33.307Z"
   },
   {
    "duration": 2761,
    "start_time": "2022-05-07T03:48:32.231Z"
   },
   {
    "duration": 42,
    "start_time": "2022-05-07T19:26:25.543Z"
   },
   {
    "duration": 6,
    "start_time": "2022-05-07T19:27:09.957Z"
   },
   {
    "duration": 1333,
    "start_time": "2022-05-07T19:27:29.787Z"
   },
   {
    "duration": 204,
    "start_time": "2022-05-07T19:27:31.122Z"
   },
   {
    "duration": 11,
    "start_time": "2022-05-07T19:27:31.327Z"
   },
   {
    "duration": 11,
    "start_time": "2022-05-07T19:27:31.339Z"
   },
   {
    "duration": 6,
    "start_time": "2022-05-07T19:27:31.352Z"
   },
   {
    "duration": 8,
    "start_time": "2022-05-07T19:27:31.360Z"
   },
   {
    "duration": 17,
    "start_time": "2022-05-07T19:27:31.369Z"
   },
   {
    "duration": 20,
    "start_time": "2022-05-07T19:27:31.387Z"
   },
   {
    "duration": 12,
    "start_time": "2022-05-07T19:27:31.408Z"
   },
   {
    "duration": 8,
    "start_time": "2022-05-07T19:27:31.423Z"
   },
   {
    "duration": 14,
    "start_time": "2022-05-07T19:27:31.433Z"
   },
   {
    "duration": 8,
    "start_time": "2022-05-07T19:27:31.448Z"
   },
   {
    "duration": 13,
    "start_time": "2022-05-07T19:27:31.458Z"
   },
   {
    "duration": 17,
    "start_time": "2022-05-07T19:27:31.472Z"
   },
   {
    "duration": 18,
    "start_time": "2022-05-07T19:27:31.490Z"
   },
   {
    "duration": 7,
    "start_time": "2022-05-07T19:27:31.509Z"
   },
   {
    "duration": 3,
    "start_time": "2022-05-07T19:27:31.518Z"
   },
   {
    "duration": 8,
    "start_time": "2022-05-07T19:27:31.523Z"
   },
   {
    "duration": 8,
    "start_time": "2022-05-07T19:27:31.532Z"
   },
   {
    "duration": 10,
    "start_time": "2022-05-07T19:27:31.541Z"
   },
   {
    "duration": 10,
    "start_time": "2022-05-07T19:27:31.552Z"
   },
   {
    "duration": 9,
    "start_time": "2022-05-07T19:27:31.563Z"
   },
   {
    "duration": 28,
    "start_time": "2022-05-07T19:27:31.573Z"
   },
   {
    "duration": 4,
    "start_time": "2022-05-07T19:27:31.602Z"
   },
   {
    "duration": 7,
    "start_time": "2022-05-07T19:27:31.607Z"
   },
   {
    "duration": 10,
    "start_time": "2022-05-07T19:27:31.615Z"
   },
   {
    "duration": 20,
    "start_time": "2022-05-07T19:27:31.626Z"
   },
   {
    "duration": 6,
    "start_time": "2022-05-07T19:27:31.650Z"
   },
   {
    "duration": 13,
    "start_time": "2022-05-07T19:27:31.657Z"
   },
   {
    "duration": 12,
    "start_time": "2022-05-07T19:27:31.671Z"
   },
   {
    "duration": 8,
    "start_time": "2022-05-07T19:27:31.684Z"
   },
   {
    "duration": 19,
    "start_time": "2022-05-07T19:27:31.694Z"
   },
   {
    "duration": 51,
    "start_time": "2022-05-07T19:27:31.715Z"
   },
   {
    "duration": 15,
    "start_time": "2022-05-07T19:27:31.768Z"
   },
   {
    "duration": 12,
    "start_time": "2022-05-07T19:27:31.784Z"
   },
   {
    "duration": 9,
    "start_time": "2022-05-07T19:27:31.797Z"
   },
   {
    "duration": 5,
    "start_time": "2022-05-07T19:27:31.807Z"
   },
   {
    "duration": 15,
    "start_time": "2022-05-07T19:27:31.813Z"
   },
   {
    "duration": 181,
    "start_time": "2022-05-07T19:27:31.829Z"
   },
   {
    "duration": 121,
    "start_time": "2022-05-07T19:27:32.012Z"
   },
   {
    "duration": 11,
    "start_time": "2022-05-07T19:27:32.135Z"
   },
   {
    "duration": 14,
    "start_time": "2022-05-07T19:27:32.147Z"
   },
   {
    "duration": 10,
    "start_time": "2022-05-07T19:27:32.162Z"
   },
   {
    "duration": 28,
    "start_time": "2022-05-07T19:27:32.173Z"
   },
   {
    "duration": 250,
    "start_time": "2022-05-07T19:27:32.202Z"
   },
   {
    "duration": 162,
    "start_time": "2022-05-07T19:27:32.454Z"
   },
   {
    "duration": 11,
    "start_time": "2022-05-07T19:27:32.617Z"
   },
   {
    "duration": 288,
    "start_time": "2022-05-07T19:27:32.629Z"
   },
   {
    "duration": 10,
    "start_time": "2022-05-07T19:27:32.918Z"
   },
   {
    "duration": 16,
    "start_time": "2022-05-07T19:27:32.930Z"
   },
   {
    "duration": 174,
    "start_time": "2022-05-07T19:27:32.947Z"
   },
   {
    "duration": 4,
    "start_time": "2022-05-07T19:27:33.122Z"
   },
   {
    "duration": 5,
    "start_time": "2022-05-07T19:27:33.128Z"
   },
   {
    "duration": 14,
    "start_time": "2022-05-07T19:27:33.134Z"
   },
   {
    "duration": 254,
    "start_time": "2022-05-07T19:27:33.150Z"
   },
   {
    "duration": 125,
    "start_time": "2022-05-07T19:27:33.405Z"
   },
   {
    "duration": 7,
    "start_time": "2022-05-07T19:27:33.531Z"
   },
   {
    "duration": 130,
    "start_time": "2022-05-07T19:27:33.539Z"
   },
   {
    "duration": 130,
    "start_time": "2022-05-07T19:27:33.670Z"
   },
   {
    "duration": 4,
    "start_time": "2022-05-07T19:27:33.801Z"
   },
   {
    "duration": 12,
    "start_time": "2022-05-07T19:27:33.807Z"
   },
   {
    "duration": 10,
    "start_time": "2022-05-07T19:27:33.821Z"
   },
   {
    "duration": 232,
    "start_time": "2022-05-07T19:27:33.833Z"
   },
   {
    "duration": 127,
    "start_time": "2022-05-07T19:27:34.066Z"
   },
   {
    "duration": 7,
    "start_time": "2022-05-07T19:27:34.195Z"
   },
   {
    "duration": 10,
    "start_time": "2022-05-07T19:27:34.204Z"
   },
   {
    "duration": 8,
    "start_time": "2022-05-07T19:27:34.215Z"
   },
   {
    "duration": 117,
    "start_time": "2022-05-07T19:27:34.225Z"
   },
   {
    "duration": 4,
    "start_time": "2022-05-07T19:27:34.344Z"
   },
   {
    "duration": 67,
    "start_time": "2022-05-07T19:27:34.350Z"
   },
   {
    "duration": 0,
    "start_time": "2022-05-07T19:27:34.419Z"
   },
   {
    "duration": 0,
    "start_time": "2022-05-07T19:27:34.421Z"
   },
   {
    "duration": 0,
    "start_time": "2022-05-07T19:27:34.422Z"
   },
   {
    "duration": 0,
    "start_time": "2022-05-07T19:27:34.423Z"
   },
   {
    "duration": 0,
    "start_time": "2022-05-07T19:27:34.425Z"
   },
   {
    "duration": 0,
    "start_time": "2022-05-07T19:27:34.425Z"
   },
   {
    "duration": 0,
    "start_time": "2022-05-07T19:27:34.427Z"
   },
   {
    "duration": 0,
    "start_time": "2022-05-07T19:27:34.428Z"
   },
   {
    "duration": 0,
    "start_time": "2022-05-07T19:27:34.429Z"
   },
   {
    "duration": 0,
    "start_time": "2022-05-07T19:27:34.430Z"
   },
   {
    "duration": 0,
    "start_time": "2022-05-07T19:27:34.431Z"
   },
   {
    "duration": 0,
    "start_time": "2022-05-07T19:27:34.432Z"
   },
   {
    "duration": 0,
    "start_time": "2022-05-07T19:27:34.433Z"
   },
   {
    "duration": 0,
    "start_time": "2022-05-07T19:27:34.433Z"
   },
   {
    "duration": 0,
    "start_time": "2022-05-07T19:27:34.434Z"
   },
   {
    "duration": 0,
    "start_time": "2022-05-07T19:27:34.435Z"
   },
   {
    "duration": 0,
    "start_time": "2022-05-07T19:27:34.436Z"
   },
   {
    "duration": 0,
    "start_time": "2022-05-07T19:27:34.436Z"
   },
   {
    "duration": 0,
    "start_time": "2022-05-07T19:27:34.437Z"
   },
   {
    "duration": 0,
    "start_time": "2022-05-07T19:27:34.438Z"
   },
   {
    "duration": 2,
    "start_time": "2022-05-07T19:29:56.533Z"
   },
   {
    "duration": 8,
    "start_time": "2022-05-07T19:29:59.257Z"
   },
   {
    "duration": 7,
    "start_time": "2022-05-07T19:30:01.967Z"
   },
   {
    "duration": 113,
    "start_time": "2022-05-07T19:30:07.388Z"
   },
   {
    "duration": 63,
    "start_time": "2022-05-07T19:31:53.893Z"
   },
   {
    "duration": 64,
    "start_time": "2022-05-07T19:32:17.980Z"
   },
   {
    "duration": 58,
    "start_time": "2022-05-07T19:32:27.278Z"
   },
   {
    "duration": 64,
    "start_time": "2022-05-07T19:32:35.351Z"
   },
   {
    "duration": 9,
    "start_time": "2022-05-07T19:35:50.497Z"
   },
   {
    "duration": 2,
    "start_time": "2022-05-07T19:36:14.596Z"
   },
   {
    "duration": 27,
    "start_time": "2022-05-07T19:36:41.859Z"
   },
   {
    "duration": 6,
    "start_time": "2022-05-07T19:40:12.781Z"
   },
   {
    "duration": 21,
    "start_time": "2022-05-07T19:40:19.152Z"
   },
   {
    "duration": 12,
    "start_time": "2022-05-07T19:45:37.999Z"
   },
   {
    "duration": 4,
    "start_time": "2022-05-07T19:45:49.657Z"
   },
   {
    "duration": 9,
    "start_time": "2022-05-07T19:45:52.904Z"
   },
   {
    "duration": 2,
    "start_time": "2022-05-07T19:46:00.092Z"
   },
   {
    "duration": 8,
    "start_time": "2022-05-07T19:46:02.613Z"
   },
   {
    "duration": 4,
    "start_time": "2022-05-07T19:46:17.624Z"
   },
   {
    "duration": 68,
    "start_time": "2022-05-07T19:46:17.630Z"
   },
   {
    "duration": 7,
    "start_time": "2022-05-07T19:46:17.700Z"
   },
   {
    "duration": 11,
    "start_time": "2022-05-07T19:46:17.708Z"
   },
   {
    "duration": 6,
    "start_time": "2022-05-07T19:46:17.721Z"
   },
   {
    "duration": 10,
    "start_time": "2022-05-07T19:46:17.729Z"
   },
   {
    "duration": 9,
    "start_time": "2022-05-07T19:46:17.740Z"
   },
   {
    "duration": 9,
    "start_time": "2022-05-07T19:46:17.751Z"
   },
   {
    "duration": 38,
    "start_time": "2022-05-07T19:46:17.762Z"
   },
   {
    "duration": 3,
    "start_time": "2022-05-07T19:46:17.802Z"
   },
   {
    "duration": 8,
    "start_time": "2022-05-07T19:46:17.808Z"
   },
   {
    "duration": 8,
    "start_time": "2022-05-07T19:46:17.818Z"
   },
   {
    "duration": 13,
    "start_time": "2022-05-07T19:46:17.828Z"
   },
   {
    "duration": 6,
    "start_time": "2022-05-07T19:46:17.842Z"
   },
   {
    "duration": 11,
    "start_time": "2022-05-07T19:46:17.849Z"
   },
   {
    "duration": 45,
    "start_time": "2022-05-07T19:46:17.862Z"
   },
   {
    "duration": 4,
    "start_time": "2022-05-07T19:46:17.909Z"
   },
   {
    "duration": 10,
    "start_time": "2022-05-07T19:46:17.915Z"
   },
   {
    "duration": 13,
    "start_time": "2022-05-07T19:46:17.927Z"
   },
   {
    "duration": 7,
    "start_time": "2022-05-07T19:46:17.941Z"
   },
   {
    "duration": 19,
    "start_time": "2022-05-07T19:46:17.950Z"
   },
   {
    "duration": 31,
    "start_time": "2022-05-07T19:46:17.970Z"
   },
   {
    "duration": 5,
    "start_time": "2022-05-07T19:46:18.003Z"
   },
   {
    "duration": 8,
    "start_time": "2022-05-07T19:46:18.010Z"
   },
   {
    "duration": 7,
    "start_time": "2022-05-07T19:46:18.019Z"
   },
   {
    "duration": 5,
    "start_time": "2022-05-07T19:46:18.028Z"
   },
   {
    "duration": 9,
    "start_time": "2022-05-07T19:46:18.034Z"
   },
   {
    "duration": 5,
    "start_time": "2022-05-07T19:46:18.045Z"
   },
   {
    "duration": 4,
    "start_time": "2022-05-07T19:46:18.054Z"
   },
   {
    "duration": 9,
    "start_time": "2022-05-07T19:46:18.059Z"
   },
   {
    "duration": 31,
    "start_time": "2022-05-07T19:46:18.069Z"
   },
   {
    "duration": 6,
    "start_time": "2022-05-07T19:46:18.101Z"
   },
   {
    "duration": 8,
    "start_time": "2022-05-07T19:46:18.108Z"
   },
   {
    "duration": 10,
    "start_time": "2022-05-07T19:46:18.117Z"
   },
   {
    "duration": 9,
    "start_time": "2022-05-07T19:46:18.128Z"
   },
   {
    "duration": 5,
    "start_time": "2022-05-07T19:46:18.138Z"
   },
   {
    "duration": 6,
    "start_time": "2022-05-07T19:46:18.145Z"
   },
   {
    "duration": 11,
    "start_time": "2022-05-07T19:46:18.152Z"
   },
   {
    "duration": 192,
    "start_time": "2022-05-07T19:46:18.164Z"
   },
   {
    "duration": 122,
    "start_time": "2022-05-07T19:46:18.358Z"
   },
   {
    "duration": 25,
    "start_time": "2022-05-07T19:46:18.482Z"
   },
   {
    "duration": 10,
    "start_time": "2022-05-07T19:46:18.508Z"
   },
   {
    "duration": 11,
    "start_time": "2022-05-07T19:46:18.519Z"
   },
   {
    "duration": 12,
    "start_time": "2022-05-07T19:46:18.531Z"
   },
   {
    "duration": 185,
    "start_time": "2022-05-07T19:46:18.545Z"
   },
   {
    "duration": 247,
    "start_time": "2022-05-07T19:46:18.732Z"
   },
   {
    "duration": 12,
    "start_time": "2022-05-07T19:46:18.981Z"
   },
   {
    "duration": 285,
    "start_time": "2022-05-07T19:46:19.000Z"
   },
   {
    "duration": 19,
    "start_time": "2022-05-07T19:46:19.287Z"
   },
   {
    "duration": 16,
    "start_time": "2022-05-07T19:46:19.307Z"
   },
   {
    "duration": 176,
    "start_time": "2022-05-07T19:46:19.324Z"
   },
   {
    "duration": 5,
    "start_time": "2022-05-07T19:46:19.501Z"
   },
   {
    "duration": 6,
    "start_time": "2022-05-07T19:46:19.507Z"
   },
   {
    "duration": 15,
    "start_time": "2022-05-07T19:46:19.514Z"
   },
   {
    "duration": 258,
    "start_time": "2022-05-07T19:46:19.531Z"
   },
   {
    "duration": 122,
    "start_time": "2022-05-07T19:46:19.791Z"
   },
   {
    "duration": 8,
    "start_time": "2022-05-07T19:46:19.914Z"
   },
   {
    "duration": 132,
    "start_time": "2022-05-07T19:46:19.923Z"
   },
   {
    "duration": 126,
    "start_time": "2022-05-07T19:46:20.057Z"
   },
   {
    "duration": 4,
    "start_time": "2022-05-07T19:46:20.184Z"
   },
   {
    "duration": 15,
    "start_time": "2022-05-07T19:46:20.190Z"
   },
   {
    "duration": 9,
    "start_time": "2022-05-07T19:46:20.207Z"
   },
   {
    "duration": 172,
    "start_time": "2022-05-07T19:46:20.218Z"
   },
   {
    "duration": 133,
    "start_time": "2022-05-07T19:46:20.392Z"
   },
   {
    "duration": 5,
    "start_time": "2022-05-07T19:46:20.527Z"
   },
   {
    "duration": 3,
    "start_time": "2022-05-07T19:46:20.534Z"
   },
   {
    "duration": 73,
    "start_time": "2022-05-07T19:46:20.539Z"
   },
   {
    "duration": 66,
    "start_time": "2022-05-07T19:46:20.613Z"
   },
   {
    "duration": 21,
    "start_time": "2022-05-07T19:46:20.680Z"
   },
   {
    "duration": 4,
    "start_time": "2022-05-07T19:46:20.702Z"
   },
   {
    "duration": 7,
    "start_time": "2022-05-07T19:46:20.708Z"
   },
   {
    "duration": 20,
    "start_time": "2022-05-07T19:46:20.716Z"
   },
   {
    "duration": 11,
    "start_time": "2022-05-07T19:46:20.737Z"
   },
   {
    "duration": 7,
    "start_time": "2022-05-07T19:46:20.750Z"
   },
   {
    "duration": 10,
    "start_time": "2022-05-07T19:46:20.759Z"
   },
   {
    "duration": 46,
    "start_time": "2022-05-07T19:46:20.770Z"
   },
   {
    "duration": 17,
    "start_time": "2022-05-07T19:46:20.818Z"
   },
   {
    "duration": 2,
    "start_time": "2022-05-07T19:46:20.836Z"
   },
   {
    "duration": 12,
    "start_time": "2022-05-07T19:46:20.840Z"
   },
   {
    "duration": 5,
    "start_time": "2022-05-07T19:46:20.854Z"
   },
   {
    "duration": 5,
    "start_time": "2022-05-07T19:46:20.860Z"
   },
   {
    "duration": 10,
    "start_time": "2022-05-07T19:46:20.866Z"
   },
   {
    "duration": 26,
    "start_time": "2022-05-07T19:46:20.902Z"
   },
   {
    "duration": 2,
    "start_time": "2022-05-07T19:46:20.930Z"
   },
   {
    "duration": 9,
    "start_time": "2022-05-07T19:46:20.934Z"
   },
   {
    "duration": 9,
    "start_time": "2022-05-07T19:46:20.944Z"
   },
   {
    "duration": 8,
    "start_time": "2022-05-07T19:46:20.954Z"
   },
   {
    "duration": 20,
    "start_time": "2022-05-07T19:46:20.963Z"
   },
   {
    "duration": 7,
    "start_time": "2022-05-07T19:46:20.984Z"
   },
   {
    "duration": 8,
    "start_time": "2022-05-07T19:46:20.993Z"
   },
   {
    "duration": 13,
    "start_time": "2022-05-07T19:46:21.003Z"
   },
   {
    "duration": 6,
    "start_time": "2022-05-07T19:46:21.018Z"
   },
   {
    "duration": 2996,
    "start_time": "2022-05-07T20:15:23.240Z"
   },
   {
    "duration": 7,
    "start_time": "2022-05-07T20:15:57.415Z"
   },
   {
    "duration": 3039,
    "start_time": "2022-05-07T20:16:40.088Z"
   },
   {
    "duration": 3006,
    "start_time": "2022-05-07T20:17:02.621Z"
   },
   {
    "duration": 3125,
    "start_time": "2022-05-07T20:17:15.112Z"
   },
   {
    "duration": 3083,
    "start_time": "2022-05-07T20:18:14.755Z"
   },
   {
    "duration": 4,
    "start_time": "2022-05-07T20:19:06.710Z"
   },
   {
    "duration": 7,
    "start_time": "2022-05-07T20:19:31.004Z"
   },
   {
    "duration": 3023,
    "start_time": "2022-05-07T20:19:50.483Z"
   },
   {
    "duration": 4,
    "start_time": "2022-05-07T20:20:16.497Z"
   },
   {
    "duration": 6,
    "start_time": "2022-05-07T20:20:36.117Z"
   },
   {
    "duration": 6,
    "start_time": "2022-05-07T20:20:53.627Z"
   },
   {
    "duration": 5,
    "start_time": "2022-05-07T20:21:03.300Z"
   },
   {
    "duration": 11,
    "start_time": "2022-05-07T20:25:23.687Z"
   },
   {
    "duration": 8,
    "start_time": "2022-05-07T20:26:13.094Z"
   },
   {
    "duration": 10,
    "start_time": "2022-05-07T20:26:43.275Z"
   },
   {
    "duration": 8,
    "start_time": "2022-05-07T20:26:54.814Z"
   },
   {
    "duration": 20,
    "start_time": "2022-05-07T20:27:40.532Z"
   },
   {
    "duration": 6,
    "start_time": "2022-05-07T20:30:47.621Z"
   },
   {
    "duration": 6,
    "start_time": "2022-05-07T20:32:01.240Z"
   },
   {
    "duration": 6,
    "start_time": "2022-05-07T20:34:00.946Z"
   },
   {
    "duration": 8,
    "start_time": "2022-05-07T20:35:19.557Z"
   },
   {
    "duration": 21,
    "start_time": "2022-05-07T20:35:47.421Z"
   },
   {
    "duration": 21,
    "start_time": "2022-05-07T20:37:10.255Z"
   },
   {
    "duration": 4,
    "start_time": "2022-05-07T20:40:15.192Z"
   },
   {
    "duration": 75,
    "start_time": "2022-05-07T20:40:15.198Z"
   },
   {
    "duration": 7,
    "start_time": "2022-05-07T20:40:15.299Z"
   },
   {
    "duration": 10,
    "start_time": "2022-05-07T20:40:15.308Z"
   },
   {
    "duration": 8,
    "start_time": "2022-05-07T20:40:15.319Z"
   },
   {
    "duration": 8,
    "start_time": "2022-05-07T20:40:15.329Z"
   },
   {
    "duration": 9,
    "start_time": "2022-05-07T20:40:15.338Z"
   },
   {
    "duration": 11,
    "start_time": "2022-05-07T20:40:15.348Z"
   },
   {
    "duration": 43,
    "start_time": "2022-05-07T20:40:15.360Z"
   },
   {
    "duration": 4,
    "start_time": "2022-05-07T20:40:15.404Z"
   },
   {
    "duration": 10,
    "start_time": "2022-05-07T20:40:15.409Z"
   },
   {
    "duration": 7,
    "start_time": "2022-05-07T20:40:15.421Z"
   },
   {
    "duration": 14,
    "start_time": "2022-05-07T20:40:15.430Z"
   },
   {
    "duration": 6,
    "start_time": "2022-05-07T20:40:15.445Z"
   },
   {
    "duration": 10,
    "start_time": "2022-05-07T20:40:15.452Z"
   },
   {
    "duration": 6,
    "start_time": "2022-05-07T20:40:15.464Z"
   },
   {
    "duration": 29,
    "start_time": "2022-05-07T20:40:15.472Z"
   },
   {
    "duration": 4,
    "start_time": "2022-05-07T20:40:15.503Z"
   },
   {
    "duration": 10,
    "start_time": "2022-05-07T20:40:15.508Z"
   },
   {
    "duration": 6,
    "start_time": "2022-05-07T20:40:15.519Z"
   },
   {
    "duration": 14,
    "start_time": "2022-05-07T20:40:15.526Z"
   },
   {
    "duration": 7,
    "start_time": "2022-05-07T20:40:15.541Z"
   },
   {
    "duration": 6,
    "start_time": "2022-05-07T20:40:15.549Z"
   },
   {
    "duration": 13,
    "start_time": "2022-05-07T20:40:15.556Z"
   },
   {
    "duration": 31,
    "start_time": "2022-05-07T20:40:15.570Z"
   },
   {
    "duration": 9,
    "start_time": "2022-05-07T20:40:15.602Z"
   },
   {
    "duration": 7,
    "start_time": "2022-05-07T20:40:15.612Z"
   },
   {
    "duration": 6,
    "start_time": "2022-05-07T20:40:15.620Z"
   },
   {
    "duration": 8,
    "start_time": "2022-05-07T20:40:15.627Z"
   },
   {
    "duration": 7,
    "start_time": "2022-05-07T20:40:15.639Z"
   },
   {
    "duration": 5,
    "start_time": "2022-05-07T20:40:15.648Z"
   },
   {
    "duration": 5,
    "start_time": "2022-05-07T20:40:15.654Z"
   },
   {
    "duration": 8,
    "start_time": "2022-05-07T20:40:15.660Z"
   },
   {
    "duration": 8,
    "start_time": "2022-05-07T20:40:15.670Z"
   },
   {
    "duration": 7,
    "start_time": "2022-05-07T20:40:15.700Z"
   },
   {
    "duration": 7,
    "start_time": "2022-05-07T20:40:15.708Z"
   },
   {
    "duration": 6,
    "start_time": "2022-05-07T20:40:15.716Z"
   },
   {
    "duration": 11,
    "start_time": "2022-05-07T20:40:15.723Z"
   },
   {
    "duration": 191,
    "start_time": "2022-05-07T20:40:15.735Z"
   },
   {
    "duration": 125,
    "start_time": "2022-05-07T20:40:15.928Z"
   },
   {
    "duration": 12,
    "start_time": "2022-05-07T20:40:16.055Z"
   },
   {
    "duration": 11,
    "start_time": "2022-05-07T20:40:16.069Z"
   },
   {
    "duration": 27,
    "start_time": "2022-05-07T20:40:16.082Z"
   },
   {
    "duration": 10,
    "start_time": "2022-05-07T20:40:16.110Z"
   },
   {
    "duration": 197,
    "start_time": "2022-05-07T20:40:16.121Z"
   },
   {
    "duration": 182,
    "start_time": "2022-05-07T20:40:16.320Z"
   },
   {
    "duration": 13,
    "start_time": "2022-05-07T20:40:16.504Z"
   },
   {
    "duration": 250,
    "start_time": "2022-05-07T20:40:16.519Z"
   },
   {
    "duration": 10,
    "start_time": "2022-05-07T20:40:16.771Z"
   },
   {
    "duration": 31,
    "start_time": "2022-05-07T20:40:16.782Z"
   },
   {
    "duration": 290,
    "start_time": "2022-05-07T20:40:16.814Z"
   },
   {
    "duration": 5,
    "start_time": "2022-05-07T20:40:17.105Z"
   },
   {
    "duration": 7,
    "start_time": "2022-05-07T20:40:17.111Z"
   },
   {
    "duration": 13,
    "start_time": "2022-05-07T20:40:17.119Z"
   },
   {
    "duration": 258,
    "start_time": "2022-05-07T20:40:17.134Z"
   },
   {
    "duration": 132,
    "start_time": "2022-05-07T20:40:17.393Z"
   },
   {
    "duration": 7,
    "start_time": "2022-05-07T20:40:17.526Z"
   },
   {
    "duration": 136,
    "start_time": "2022-05-07T20:40:17.535Z"
   },
   {
    "duration": 138,
    "start_time": "2022-05-07T20:40:17.673Z"
   },
   {
    "duration": 4,
    "start_time": "2022-05-07T20:40:17.813Z"
   },
   {
    "duration": 11,
    "start_time": "2022-05-07T20:40:17.819Z"
   },
   {
    "duration": 10,
    "start_time": "2022-05-07T20:40:17.831Z"
   },
   {
    "duration": 195,
    "start_time": "2022-05-07T20:40:17.843Z"
   },
   {
    "duration": 136,
    "start_time": "2022-05-07T20:40:18.039Z"
   },
   {
    "duration": 5,
    "start_time": "2022-05-07T20:40:18.176Z"
   },
   {
    "duration": 5,
    "start_time": "2022-05-07T20:40:18.182Z"
   },
   {
    "duration": 58,
    "start_time": "2022-05-07T20:40:18.189Z"
   },
   {
    "duration": 74,
    "start_time": "2022-05-07T20:40:18.248Z"
   },
   {
    "duration": 5,
    "start_time": "2022-05-07T20:40:18.323Z"
   },
   {
    "duration": 4,
    "start_time": "2022-05-07T20:40:18.329Z"
   },
   {
    "duration": 10,
    "start_time": "2022-05-07T20:40:18.334Z"
   },
   {
    "duration": 20,
    "start_time": "2022-05-07T20:40:18.345Z"
   },
   {
    "duration": 33,
    "start_time": "2022-05-07T20:40:18.370Z"
   },
   {
    "duration": 7,
    "start_time": "2022-05-07T20:40:18.404Z"
   },
   {
    "duration": 7,
    "start_time": "2022-05-07T20:40:18.412Z"
   },
   {
    "duration": 8,
    "start_time": "2022-05-07T20:40:18.420Z"
   },
   {
    "duration": 20,
    "start_time": "2022-05-07T20:40:18.430Z"
   },
   {
    "duration": 12,
    "start_time": "2022-05-07T20:40:18.451Z"
   },
   {
    "duration": 37,
    "start_time": "2022-05-07T20:40:18.464Z"
   },
   {
    "duration": 9,
    "start_time": "2022-05-07T20:40:18.503Z"
   },
   {
    "duration": 20,
    "start_time": "2022-05-07T20:40:18.514Z"
   },
   {
    "duration": 17,
    "start_time": "2022-05-07T20:40:18.536Z"
   },
   {
    "duration": 3,
    "start_time": "2022-05-07T20:40:18.554Z"
   },
   {
    "duration": 7,
    "start_time": "2022-05-07T20:40:18.558Z"
   },
   {
    "duration": 5,
    "start_time": "2022-05-07T20:40:18.566Z"
   },
   {
    "duration": 4,
    "start_time": "2022-05-07T20:40:18.600Z"
   },
   {
    "duration": 7,
    "start_time": "2022-05-07T20:40:18.606Z"
   },
   {
    "duration": 5,
    "start_time": "2022-05-07T20:40:18.614Z"
   },
   {
    "duration": 5,
    "start_time": "2022-05-07T20:40:18.621Z"
   },
   {
    "duration": 6,
    "start_time": "2022-05-07T20:40:18.627Z"
   },
   {
    "duration": 12,
    "start_time": "2022-05-07T20:40:18.634Z"
   },
   {
    "duration": 8,
    "start_time": "2022-05-07T20:40:18.647Z"
   },
   {
    "duration": 50,
    "start_time": "2022-05-07T20:40:18.656Z"
   },
   {
    "duration": 4,
    "start_time": "2022-05-07T20:40:18.708Z"
   },
   {
    "duration": 7,
    "start_time": "2022-05-07T20:40:18.714Z"
   },
   {
    "duration": 7,
    "start_time": "2022-05-07T20:40:18.722Z"
   },
   {
    "duration": 10,
    "start_time": "2022-05-07T20:40:18.731Z"
   },
   {
    "duration": 5,
    "start_time": "2022-05-07T20:40:18.742Z"
   },
   {
    "duration": 3071,
    "start_time": "2022-05-07T20:42:03.233Z"
   },
   {
    "duration": 2864,
    "start_time": "2022-05-07T20:42:25.936Z"
   },
   {
    "duration": 9,
    "start_time": "2022-05-07T20:42:44.822Z"
   },
   {
    "duration": 13,
    "start_time": "2022-05-07T20:43:32.495Z"
   },
   {
    "duration": 3,
    "start_time": "2022-05-07T20:53:07.313Z"
   },
   {
    "duration": 185,
    "start_time": "2022-05-07T20:55:34.889Z"
   },
   {
    "duration": 64,
    "start_time": "2022-05-07T20:55:49.293Z"
   },
   {
    "duration": 77,
    "start_time": "2022-05-07T20:56:33.565Z"
   },
   {
    "duration": 10,
    "start_time": "2022-05-07T20:59:52.512Z"
   },
   {
    "duration": 10,
    "start_time": "2022-05-07T21:02:53.272Z"
   },
   {
    "duration": 2994,
    "start_time": "2022-05-07T21:03:16.519Z"
   },
   {
    "duration": 6,
    "start_time": "2022-05-07T21:03:32.403Z"
   },
   {
    "duration": 9,
    "start_time": "2022-05-07T21:04:24.922Z"
   },
   {
    "duration": 6,
    "start_time": "2022-05-07T21:04:40.888Z"
   },
   {
    "duration": 34,
    "start_time": "2022-05-07T21:06:15.494Z"
   },
   {
    "duration": 21,
    "start_time": "2022-05-07T21:08:05.391Z"
   },
   {
    "duration": 22,
    "start_time": "2022-05-07T21:50:07.065Z"
   },
   {
    "duration": 12,
    "start_time": "2022-05-07T22:03:13.209Z"
   },
   {
    "duration": 13,
    "start_time": "2022-05-07T22:04:55.001Z"
   },
   {
    "duration": 12,
    "start_time": "2022-05-07T22:05:09.259Z"
   },
   {
    "duration": 21,
    "start_time": "2022-05-07T22:30:20.148Z"
   },
   {
    "duration": 21,
    "start_time": "2022-05-07T22:30:28.444Z"
   },
   {
    "duration": 23,
    "start_time": "2022-05-07T22:30:58.416Z"
   },
   {
    "duration": 8,
    "start_time": "2022-05-07T22:39:17.530Z"
   },
   {
    "duration": 7,
    "start_time": "2022-05-07T22:39:35.721Z"
   },
   {
    "duration": 6,
    "start_time": "2022-05-07T22:39:42.470Z"
   },
   {
    "duration": 6,
    "start_time": "2022-05-07T22:39:49.994Z"
   },
   {
    "duration": 9,
    "start_time": "2022-05-07T22:41:19.153Z"
   },
   {
    "duration": 1106,
    "start_time": "2022-05-08T00:18:33.622Z"
   },
   {
    "duration": 63,
    "start_time": "2022-05-08T00:18:34.730Z"
   },
   {
    "duration": 9,
    "start_time": "2022-05-08T00:18:34.795Z"
   },
   {
    "duration": 10,
    "start_time": "2022-05-08T00:18:34.806Z"
   },
   {
    "duration": 8,
    "start_time": "2022-05-08T00:18:34.817Z"
   },
   {
    "duration": 9,
    "start_time": "2022-05-08T00:18:34.826Z"
   },
   {
    "duration": 9,
    "start_time": "2022-05-08T00:18:34.836Z"
   },
   {
    "duration": 9,
    "start_time": "2022-05-08T00:18:34.847Z"
   },
   {
    "duration": 7,
    "start_time": "2022-05-08T00:18:34.857Z"
   },
   {
    "duration": 4,
    "start_time": "2022-05-08T00:18:34.866Z"
   },
   {
    "duration": 34,
    "start_time": "2022-05-08T00:18:34.872Z"
   },
   {
    "duration": 8,
    "start_time": "2022-05-08T00:18:34.908Z"
   },
   {
    "duration": 11,
    "start_time": "2022-05-08T00:18:34.918Z"
   },
   {
    "duration": 6,
    "start_time": "2022-05-08T00:18:34.930Z"
   },
   {
    "duration": 12,
    "start_time": "2022-05-08T00:18:34.938Z"
   },
   {
    "duration": 8,
    "start_time": "2022-05-08T00:18:34.951Z"
   },
   {
    "duration": 3,
    "start_time": "2022-05-08T00:18:34.961Z"
   },
   {
    "duration": 36,
    "start_time": "2022-05-08T00:18:34.965Z"
   },
   {
    "duration": 8,
    "start_time": "2022-05-08T00:18:35.002Z"
   },
   {
    "duration": 8,
    "start_time": "2022-05-08T00:18:35.011Z"
   },
   {
    "duration": 11,
    "start_time": "2022-05-08T00:18:35.020Z"
   },
   {
    "duration": 7,
    "start_time": "2022-05-08T00:18:35.032Z"
   },
   {
    "duration": 6,
    "start_time": "2022-05-08T00:18:35.041Z"
   },
   {
    "duration": 6,
    "start_time": "2022-05-08T00:18:35.049Z"
   },
   {
    "duration": 8,
    "start_time": "2022-05-08T00:18:35.056Z"
   },
   {
    "duration": 4,
    "start_time": "2022-05-08T00:18:35.065Z"
   },
   {
    "duration": 6,
    "start_time": "2022-05-08T00:18:35.070Z"
   },
   {
    "duration": 3,
    "start_time": "2022-05-08T00:18:35.103Z"
   },
   {
    "duration": 5,
    "start_time": "2022-05-08T00:18:35.108Z"
   },
   {
    "duration": 8,
    "start_time": "2022-05-08T00:18:35.115Z"
   },
   {
    "duration": 5,
    "start_time": "2022-05-08T00:18:35.125Z"
   },
   {
    "duration": 6,
    "start_time": "2022-05-08T00:18:35.131Z"
   },
   {
    "duration": 11,
    "start_time": "2022-05-08T00:18:35.138Z"
   },
   {
    "duration": 14,
    "start_time": "2022-05-08T00:18:35.150Z"
   },
   {
    "duration": 14,
    "start_time": "2022-05-08T00:18:35.166Z"
   },
   {
    "duration": 6,
    "start_time": "2022-05-08T00:18:35.201Z"
   },
   {
    "duration": 11,
    "start_time": "2022-05-08T00:18:35.209Z"
   },
   {
    "duration": 251,
    "start_time": "2022-05-08T00:18:35.222Z"
   },
   {
    "duration": 163,
    "start_time": "2022-05-08T00:18:35.474Z"
   },
   {
    "duration": 15,
    "start_time": "2022-05-08T00:18:35.638Z"
   },
   {
    "duration": 12,
    "start_time": "2022-05-08T00:18:35.654Z"
   },
   {
    "duration": 9,
    "start_time": "2022-05-08T00:18:35.668Z"
   },
   {
    "duration": 27,
    "start_time": "2022-05-08T00:18:35.679Z"
   },
   {
    "duration": 243,
    "start_time": "2022-05-08T00:18:35.708Z"
   },
   {
    "duration": 171,
    "start_time": "2022-05-08T00:18:35.952Z"
   },
   {
    "duration": 11,
    "start_time": "2022-05-08T00:18:36.124Z"
   },
   {
    "duration": 233,
    "start_time": "2022-05-08T00:18:36.136Z"
   },
   {
    "duration": 10,
    "start_time": "2022-05-08T00:18:36.370Z"
   },
   {
    "duration": 29,
    "start_time": "2022-05-08T00:18:36.381Z"
   },
   {
    "duration": 167,
    "start_time": "2022-05-08T00:18:36.412Z"
   },
   {
    "duration": 4,
    "start_time": "2022-05-08T00:18:36.580Z"
   },
   {
    "duration": 16,
    "start_time": "2022-05-08T00:18:36.585Z"
   },
   {
    "duration": 11,
    "start_time": "2022-05-08T00:18:36.602Z"
   },
   {
    "duration": 250,
    "start_time": "2022-05-08T00:18:36.614Z"
   },
   {
    "duration": 113,
    "start_time": "2022-05-08T00:18:36.865Z"
   },
   {
    "duration": 7,
    "start_time": "2022-05-08T00:18:36.979Z"
   },
   {
    "duration": 131,
    "start_time": "2022-05-08T00:18:36.987Z"
   },
   {
    "duration": 128,
    "start_time": "2022-05-08T00:18:37.120Z"
   },
   {
    "duration": 5,
    "start_time": "2022-05-08T00:18:37.249Z"
   },
   {
    "duration": 9,
    "start_time": "2022-05-08T00:18:37.256Z"
   },
   {
    "duration": 11,
    "start_time": "2022-05-08T00:18:37.266Z"
   },
   {
    "duration": 245,
    "start_time": "2022-05-08T00:18:37.278Z"
   },
   {
    "duration": 130,
    "start_time": "2022-05-08T00:18:37.525Z"
   },
   {
    "duration": 4,
    "start_time": "2022-05-08T00:18:37.656Z"
   },
   {
    "duration": 6,
    "start_time": "2022-05-08T00:18:37.662Z"
   },
   {
    "duration": 65,
    "start_time": "2022-05-08T00:18:37.669Z"
   },
   {
    "duration": 67,
    "start_time": "2022-05-08T00:18:37.736Z"
   },
   {
    "duration": 4,
    "start_time": "2022-05-08T00:18:37.805Z"
   },
   {
    "duration": 5,
    "start_time": "2022-05-08T00:18:37.811Z"
   },
   {
    "duration": 21,
    "start_time": "2022-05-08T00:18:37.817Z"
   },
   {
    "duration": 8,
    "start_time": "2022-05-08T00:18:37.839Z"
   },
   {
    "duration": 6,
    "start_time": "2022-05-08T00:18:37.849Z"
   },
   {
    "duration": 6,
    "start_time": "2022-05-08T00:18:37.857Z"
   },
   {
    "duration": 41,
    "start_time": "2022-05-08T00:18:37.865Z"
   },
   {
    "duration": 21,
    "start_time": "2022-05-08T00:18:37.908Z"
   },
   {
    "duration": 10,
    "start_time": "2022-05-08T00:18:37.931Z"
   },
   {
    "duration": 11,
    "start_time": "2022-05-08T00:18:37.943Z"
   },
   {
    "duration": 1315,
    "start_time": "2022-05-08T09:01:45.875Z"
   },
   {
    "duration": 108,
    "start_time": "2022-05-08T09:01:47.192Z"
   },
   {
    "duration": 13,
    "start_time": "2022-05-08T09:01:47.301Z"
   },
   {
    "duration": 14,
    "start_time": "2022-05-08T09:01:47.316Z"
   },
   {
    "duration": 9,
    "start_time": "2022-05-08T09:01:47.332Z"
   },
   {
    "duration": 10,
    "start_time": "2022-05-08T09:01:47.343Z"
   },
   {
    "duration": 12,
    "start_time": "2022-05-08T09:01:47.354Z"
   },
   {
    "duration": 36,
    "start_time": "2022-05-08T09:01:47.367Z"
   },
   {
    "duration": 7,
    "start_time": "2022-05-08T09:01:47.405Z"
   },
   {
    "duration": 4,
    "start_time": "2022-05-08T09:01:47.415Z"
   },
   {
    "duration": 10,
    "start_time": "2022-05-08T09:01:47.420Z"
   },
   {
    "duration": 9,
    "start_time": "2022-05-08T09:01:47.432Z"
   },
   {
    "duration": 12,
    "start_time": "2022-05-08T09:01:47.443Z"
   },
   {
    "duration": 6,
    "start_time": "2022-05-08T09:01:47.457Z"
   },
   {
    "duration": 11,
    "start_time": "2022-05-08T09:01:47.500Z"
   },
   {
    "duration": 9,
    "start_time": "2022-05-08T09:01:47.513Z"
   },
   {
    "duration": 4,
    "start_time": "2022-05-08T09:01:47.523Z"
   },
   {
    "duration": 6,
    "start_time": "2022-05-08T09:01:47.529Z"
   },
   {
    "duration": 11,
    "start_time": "2022-05-08T09:01:47.537Z"
   },
   {
    "duration": 8,
    "start_time": "2022-05-08T09:01:47.550Z"
   },
   {
    "duration": 45,
    "start_time": "2022-05-08T09:01:47.559Z"
   },
   {
    "duration": 8,
    "start_time": "2022-05-08T09:01:47.606Z"
   },
   {
    "duration": 4,
    "start_time": "2022-05-08T09:01:47.616Z"
   },
   {
    "duration": 5,
    "start_time": "2022-05-08T09:01:47.622Z"
   },
   {
    "duration": 6,
    "start_time": "2022-05-08T09:01:47.628Z"
   },
   {
    "duration": 5,
    "start_time": "2022-05-08T09:01:47.635Z"
   },
   {
    "duration": 5,
    "start_time": "2022-05-08T09:01:47.641Z"
   },
   {
    "duration": 4,
    "start_time": "2022-05-08T09:01:47.650Z"
   },
   {
    "duration": 7,
    "start_time": "2022-05-08T09:01:47.656Z"
   },
   {
    "duration": 9,
    "start_time": "2022-05-08T09:01:47.699Z"
   },
   {
    "duration": 5,
    "start_time": "2022-05-08T09:01:47.710Z"
   },
   {
    "duration": 6,
    "start_time": "2022-05-08T09:01:47.717Z"
   },
   {
    "duration": 12,
    "start_time": "2022-05-08T09:01:47.725Z"
   },
   {
    "duration": 12,
    "start_time": "2022-05-08T09:01:47.738Z"
   },
   {
    "duration": 17,
    "start_time": "2022-05-08T09:01:47.751Z"
   },
   {
    "duration": 33,
    "start_time": "2022-05-08T09:01:47.769Z"
   },
   {
    "duration": 14,
    "start_time": "2022-05-08T09:01:47.803Z"
   },
   {
    "duration": 189,
    "start_time": "2022-05-08T09:01:47.819Z"
   },
   {
    "duration": 212,
    "start_time": "2022-05-08T09:01:48.009Z"
   },
   {
    "duration": 21,
    "start_time": "2022-05-08T09:01:48.223Z"
   },
   {
    "duration": 18,
    "start_time": "2022-05-08T09:01:48.247Z"
   },
   {
    "duration": 33,
    "start_time": "2022-05-08T09:01:48.267Z"
   },
   {
    "duration": 14,
    "start_time": "2022-05-08T09:01:48.303Z"
   },
   {
    "duration": 433,
    "start_time": "2022-05-08T09:01:48.319Z"
   },
   {
    "duration": 282,
    "start_time": "2022-05-08T09:01:48.754Z"
   },
   {
    "duration": 18,
    "start_time": "2022-05-08T09:01:49.038Z"
   },
   {
    "duration": 436,
    "start_time": "2022-05-08T09:01:49.058Z"
   },
   {
    "duration": 15,
    "start_time": "2022-05-08T09:01:49.500Z"
   },
   {
    "duration": 18,
    "start_time": "2022-05-08T09:01:49.516Z"
   },
   {
    "duration": 401,
    "start_time": "2022-05-08T09:01:49.536Z"
   },
   {
    "duration": 6,
    "start_time": "2022-05-08T09:01:49.939Z"
   },
   {
    "duration": 6,
    "start_time": "2022-05-08T09:01:49.947Z"
   },
   {
    "duration": 20,
    "start_time": "2022-05-08T09:01:49.955Z"
   },
   {
    "duration": 349,
    "start_time": "2022-05-08T09:01:49.999Z"
   },
   {
    "duration": 235,
    "start_time": "2022-05-08T09:01:50.350Z"
   },
   {
    "duration": 14,
    "start_time": "2022-05-08T09:01:50.587Z"
   },
   {
    "duration": 125,
    "start_time": "2022-05-08T09:01:50.602Z"
   },
   {
    "duration": 136,
    "start_time": "2022-05-08T09:01:50.729Z"
   },
   {
    "duration": 4,
    "start_time": "2022-05-08T09:01:50.867Z"
   },
   {
    "duration": 11,
    "start_time": "2022-05-08T09:01:50.873Z"
   },
   {
    "duration": 21,
    "start_time": "2022-05-08T09:01:50.886Z"
   },
   {
    "duration": 231,
    "start_time": "2022-05-08T09:01:50.908Z"
   },
   {
    "duration": 129,
    "start_time": "2022-05-08T09:01:51.141Z"
   },
   {
    "duration": 5,
    "start_time": "2022-05-08T09:01:51.271Z"
   },
   {
    "duration": 14,
    "start_time": "2022-05-08T09:01:51.277Z"
   },
   {
    "duration": 71,
    "start_time": "2022-05-08T09:01:51.293Z"
   },
   {
    "duration": 67,
    "start_time": "2022-05-08T09:01:51.366Z"
   },
   {
    "duration": 15,
    "start_time": "2022-05-08T09:01:51.435Z"
   },
   {
    "duration": 13,
    "start_time": "2022-05-08T09:01:51.452Z"
   },
   {
    "duration": 47,
    "start_time": "2022-05-08T09:01:51.467Z"
   },
   {
    "duration": 7,
    "start_time": "2022-05-08T09:01:51.516Z"
   },
   {
    "duration": 12,
    "start_time": "2022-05-08T09:01:51.524Z"
   },
   {
    "duration": 21,
    "start_time": "2022-05-08T09:01:51.538Z"
   },
   {
    "duration": 21,
    "start_time": "2022-05-08T09:01:51.560Z"
   },
   {
    "duration": 36,
    "start_time": "2022-05-08T09:01:51.582Z"
   },
   {
    "duration": 10,
    "start_time": "2022-05-08T09:01:51.619Z"
   },
   {
    "duration": 13,
    "start_time": "2022-05-08T09:01:51.631Z"
   },
   {
    "duration": 161,
    "start_time": "2022-05-08T09:43:08.866Z"
   },
   {
    "duration": 5,
    "start_time": "2022-05-08T09:43:29.997Z"
   },
   {
    "duration": 83,
    "start_time": "2022-05-08T09:43:30.004Z"
   },
   {
    "duration": 7,
    "start_time": "2022-05-08T09:43:30.089Z"
   },
   {
    "duration": 16,
    "start_time": "2022-05-08T09:43:30.097Z"
   },
   {
    "duration": 13,
    "start_time": "2022-05-08T09:43:30.115Z"
   },
   {
    "duration": 14,
    "start_time": "2022-05-08T09:43:30.130Z"
   },
   {
    "duration": 22,
    "start_time": "2022-05-08T09:43:30.146Z"
   },
   {
    "duration": 18,
    "start_time": "2022-05-08T09:43:30.169Z"
   },
   {
    "duration": 8,
    "start_time": "2022-05-08T09:43:30.189Z"
   },
   {
    "duration": 5,
    "start_time": "2022-05-08T09:43:30.200Z"
   },
   {
    "duration": 12,
    "start_time": "2022-05-08T09:43:30.207Z"
   },
   {
    "duration": 16,
    "start_time": "2022-05-08T09:43:36.742Z"
   },
   {
    "duration": 21,
    "start_time": "2022-05-08T09:43:47.427Z"
   },
   {
    "duration": 18,
    "start_time": "2022-05-08T09:44:17.851Z"
   },
   {
    "duration": 19,
    "start_time": "2022-05-08T09:44:28.719Z"
   },
   {
    "duration": 21,
    "start_time": "2022-05-08T09:45:00.822Z"
   },
   {
    "duration": 14,
    "start_time": "2022-05-08T09:48:13.627Z"
   },
   {
    "duration": 21,
    "start_time": "2022-05-08T09:48:27.517Z"
   },
   {
    "duration": 20,
    "start_time": "2022-05-08T09:48:58.321Z"
   },
   {
    "duration": 50,
    "start_time": "2022-05-09T00:16:07.580Z"
   },
   {
    "duration": 1516,
    "start_time": "2022-05-09T00:16:12.190Z"
   },
   {
    "duration": 99,
    "start_time": "2022-05-09T00:16:13.709Z"
   },
   {
    "duration": 12,
    "start_time": "2022-05-09T00:16:13.809Z"
   },
   {
    "duration": 12,
    "start_time": "2022-05-09T00:16:13.823Z"
   },
   {
    "duration": 8,
    "start_time": "2022-05-09T00:16:13.836Z"
   },
   {
    "duration": 8,
    "start_time": "2022-05-09T00:16:13.846Z"
   },
   {
    "duration": 9,
    "start_time": "2022-05-09T00:16:13.856Z"
   },
   {
    "duration": 42,
    "start_time": "2022-05-09T00:16:13.866Z"
   },
   {
    "duration": 6,
    "start_time": "2022-05-09T00:16:13.910Z"
   },
   {
    "duration": 3,
    "start_time": "2022-05-09T00:16:13.919Z"
   },
   {
    "duration": 12,
    "start_time": "2022-05-09T00:16:13.923Z"
   },
   {
    "duration": 6,
    "start_time": "2022-05-09T00:16:13.936Z"
   },
   {
    "duration": 15,
    "start_time": "2022-05-09T00:16:13.943Z"
   },
   {
    "duration": 9,
    "start_time": "2022-05-09T00:16:13.960Z"
   },
   {
    "duration": 13,
    "start_time": "2022-05-09T00:16:14.006Z"
   },
   {
    "duration": 6,
    "start_time": "2022-05-09T00:16:14.021Z"
   },
   {
    "duration": 11,
    "start_time": "2022-05-09T00:16:14.029Z"
   },
   {
    "duration": 8,
    "start_time": "2022-05-09T00:16:14.042Z"
   },
   {
    "duration": 6,
    "start_time": "2022-05-09T00:16:14.052Z"
   },
   {
    "duration": 8,
    "start_time": "2022-05-09T00:16:14.059Z"
   },
   {
    "duration": 43,
    "start_time": "2022-05-09T00:16:14.068Z"
   },
   {
    "duration": 7,
    "start_time": "2022-05-09T00:16:14.113Z"
   },
   {
    "duration": 14,
    "start_time": "2022-05-09T00:16:14.122Z"
   },
   {
    "duration": 8,
    "start_time": "2022-05-09T00:16:14.137Z"
   },
   {
    "duration": 5,
    "start_time": "2022-05-09T00:16:14.146Z"
   },
   {
    "duration": 5,
    "start_time": "2022-05-09T00:16:14.153Z"
   },
   {
    "duration": 6,
    "start_time": "2022-05-09T00:16:14.160Z"
   },
   {
    "duration": 38,
    "start_time": "2022-05-09T00:16:14.171Z"
   },
   {
    "duration": 6,
    "start_time": "2022-05-09T00:16:14.212Z"
   },
   {
    "duration": 5,
    "start_time": "2022-05-09T00:16:14.220Z"
   },
   {
    "duration": 5,
    "start_time": "2022-05-09T00:16:14.227Z"
   },
   {
    "duration": 11,
    "start_time": "2022-05-09T00:16:14.233Z"
   },
   {
    "duration": 5,
    "start_time": "2022-05-09T00:16:14.246Z"
   },
   {
    "duration": 5,
    "start_time": "2022-05-09T00:16:14.253Z"
   },
   {
    "duration": 10,
    "start_time": "2022-05-09T00:16:14.259Z"
   },
   {
    "duration": 10,
    "start_time": "2022-05-09T00:16:14.309Z"
   },
   {
    "duration": 9,
    "start_time": "2022-05-09T00:16:14.321Z"
   },
   {
    "duration": 8,
    "start_time": "2022-05-09T00:16:14.331Z"
   },
   {
    "duration": 28,
    "start_time": "2022-05-09T00:16:14.340Z"
   },
   {
    "duration": 215,
    "start_time": "2022-05-09T00:16:14.369Z"
   },
   {
    "duration": 142,
    "start_time": "2022-05-09T00:16:14.586Z"
   },
   {
    "duration": 13,
    "start_time": "2022-05-09T00:16:14.730Z"
   },
   {
    "duration": 11,
    "start_time": "2022-05-09T00:16:14.745Z"
   },
   {
    "duration": 16,
    "start_time": "2022-05-09T00:16:14.757Z"
   },
   {
    "duration": 34,
    "start_time": "2022-05-09T00:16:14.775Z"
   },
   {
    "duration": 302,
    "start_time": "2022-05-09T00:16:14.811Z"
   },
   {
    "duration": 207,
    "start_time": "2022-05-09T00:16:15.114Z"
   },
   {
    "duration": 13,
    "start_time": "2022-05-09T00:16:15.323Z"
   },
   {
    "duration": 315,
    "start_time": "2022-05-09T00:16:15.338Z"
   },
   {
    "duration": 12,
    "start_time": "2022-05-09T00:16:15.654Z"
   },
   {
    "duration": 20,
    "start_time": "2022-05-09T00:16:15.668Z"
   },
   {
    "duration": 231,
    "start_time": "2022-05-09T00:16:15.690Z"
   },
   {
    "duration": 4,
    "start_time": "2022-05-09T00:16:15.923Z"
   },
   {
    "duration": 6,
    "start_time": "2022-05-09T00:16:15.928Z"
   },
   {
    "duration": 16,
    "start_time": "2022-05-09T00:16:15.936Z"
   },
   {
    "duration": 268,
    "start_time": "2022-05-09T00:16:15.953Z"
   },
   {
    "duration": 193,
    "start_time": "2022-05-09T00:16:16.223Z"
   },
   {
    "duration": 8,
    "start_time": "2022-05-09T00:16:16.418Z"
   },
   {
    "duration": 162,
    "start_time": "2022-05-09T00:16:16.428Z"
   },
   {
    "duration": 169,
    "start_time": "2022-05-09T00:16:16.591Z"
   },
   {
    "duration": 5,
    "start_time": "2022-05-09T00:16:16.762Z"
   },
   {
    "duration": 13,
    "start_time": "2022-05-09T00:16:16.768Z"
   },
   {
    "duration": 30,
    "start_time": "2022-05-09T00:16:16.783Z"
   },
   {
    "duration": 281,
    "start_time": "2022-05-09T00:16:16.815Z"
   },
   {
    "duration": 158,
    "start_time": "2022-05-09T00:16:17.097Z"
   },
   {
    "duration": 5,
    "start_time": "2022-05-09T00:16:17.257Z"
   },
   {
    "duration": 3,
    "start_time": "2022-05-09T00:16:17.264Z"
   },
   {
    "duration": 81,
    "start_time": "2022-05-09T00:16:17.269Z"
   },
   {
    "duration": 93,
    "start_time": "2022-05-09T00:16:17.352Z"
   },
   {
    "duration": 5,
    "start_time": "2022-05-09T00:16:17.447Z"
   },
   {
    "duration": 5,
    "start_time": "2022-05-09T00:16:17.454Z"
   },
   {
    "duration": 49,
    "start_time": "2022-05-09T00:16:17.461Z"
   },
   {
    "duration": 8,
    "start_time": "2022-05-09T00:16:17.512Z"
   },
   {
    "duration": 6,
    "start_time": "2022-05-09T00:16:17.522Z"
   },
   {
    "duration": 6,
    "start_time": "2022-05-09T00:16:17.529Z"
   },
   {
    "duration": 9,
    "start_time": "2022-05-09T00:16:17.536Z"
   },
   {
    "duration": 24,
    "start_time": "2022-05-09T00:16:17.546Z"
   },
   {
    "duration": 43,
    "start_time": "2022-05-09T00:16:17.572Z"
   },
   {
    "duration": 14,
    "start_time": "2022-05-09T00:16:17.617Z"
   },
   {
    "duration": 7,
    "start_time": "2022-05-09T00:20:00.102Z"
   },
   {
    "duration": 12,
    "start_time": "2022-05-09T00:21:01.472Z"
   },
   {
    "duration": 9,
    "start_time": "2022-05-09T00:31:03.468Z"
   },
   {
    "duration": 9,
    "start_time": "2022-05-09T00:34:01.862Z"
   },
   {
    "duration": 82,
    "start_time": "2022-05-09T00:35:14.821Z"
   },
   {
    "duration": 9,
    "start_time": "2022-05-09T00:35:22.801Z"
   },
   {
    "duration": 8,
    "start_time": "2022-05-09T00:39:45.531Z"
   },
   {
    "duration": 68,
    "start_time": "2022-05-09T00:42:24.825Z"
   },
   {
    "duration": 3,
    "start_time": "2022-05-09T00:42:42.359Z"
   },
   {
    "duration": 11,
    "start_time": "2022-05-09T00:42:50.219Z"
   },
   {
    "duration": 9,
    "start_time": "2022-05-09T00:47:49.461Z"
   },
   {
    "duration": 9,
    "start_time": "2022-05-09T00:47:59.724Z"
   },
   {
    "duration": 8,
    "start_time": "2022-05-09T00:48:23.027Z"
   },
   {
    "duration": 9,
    "start_time": "2022-05-09T00:48:50.331Z"
   },
   {
    "duration": 9,
    "start_time": "2022-05-09T00:48:59.884Z"
   },
   {
    "duration": 9,
    "start_time": "2022-05-09T00:49:07.529Z"
   },
   {
    "duration": 10,
    "start_time": "2022-05-09T00:49:16.998Z"
   },
   {
    "duration": 9,
    "start_time": "2022-05-09T00:49:26.174Z"
   },
   {
    "duration": 9,
    "start_time": "2022-05-09T00:50:02.595Z"
   },
   {
    "duration": 9,
    "start_time": "2022-05-09T00:51:16.319Z"
   },
   {
    "duration": 217,
    "start_time": "2022-05-09T00:54:30.100Z"
   },
   {
    "duration": 202,
    "start_time": "2022-05-09T00:55:40.223Z"
   },
   {
    "duration": 299,
    "start_time": "2022-05-09T00:56:53.928Z"
   },
   {
    "duration": 214,
    "start_time": "2022-05-09T01:01:06.251Z"
   },
   {
    "duration": 67,
    "start_time": "2022-05-09T01:02:11.827Z"
   },
   {
    "duration": 68,
    "start_time": "2022-05-09T01:02:41.078Z"
   },
   {
    "duration": 284,
    "start_time": "2022-05-09T01:02:57.703Z"
   },
   {
    "duration": 292,
    "start_time": "2022-05-09T01:03:47.391Z"
   },
   {
    "duration": 306,
    "start_time": "2022-05-09T01:04:49.393Z"
   },
   {
    "duration": 217,
    "start_time": "2022-05-09T01:05:16.377Z"
   },
   {
    "duration": 299,
    "start_time": "2022-05-09T01:05:51.783Z"
   },
   {
    "duration": 11,
    "start_time": "2022-05-09T01:07:41.096Z"
   },
   {
    "duration": 8,
    "start_time": "2022-05-09T01:11:38.037Z"
   },
   {
    "duration": 9,
    "start_time": "2022-05-09T01:12:02.368Z"
   },
   {
    "duration": 10,
    "start_time": "2022-05-09T01:13:38.134Z"
   },
   {
    "duration": 9,
    "start_time": "2022-05-09T01:13:55.864Z"
   },
   {
    "duration": 11,
    "start_time": "2022-05-09T01:14:08.750Z"
   },
   {
    "duration": 315,
    "start_time": "2022-05-09T01:15:53.183Z"
   },
   {
    "duration": 222,
    "start_time": "2022-05-09T01:16:09.330Z"
   },
   {
    "duration": 272,
    "start_time": "2022-05-09T01:18:30.735Z"
   },
   {
    "duration": 120,
    "start_time": "2022-05-09T01:19:30.076Z"
   },
   {
    "duration": 156,
    "start_time": "2022-05-09T01:19:40.778Z"
   },
   {
    "duration": 141,
    "start_time": "2022-05-09T01:19:51.331Z"
   },
   {
    "duration": 141,
    "start_time": "2022-05-09T01:21:56.406Z"
   },
   {
    "duration": 154,
    "start_time": "2022-05-09T01:22:13.998Z"
   },
   {
    "duration": 152,
    "start_time": "2022-05-09T01:25:49.317Z"
   },
   {
    "duration": 150,
    "start_time": "2022-05-09T01:26:04.423Z"
   },
   {
    "duration": 155,
    "start_time": "2022-05-09T01:33:54.850Z"
   },
   {
    "duration": 248,
    "start_time": "2022-05-09T01:34:23.222Z"
   },
   {
    "duration": 143,
    "start_time": "2022-05-09T01:34:36.162Z"
   },
   {
    "duration": 10,
    "start_time": "2022-05-09T01:34:43.097Z"
   },
   {
    "duration": 147,
    "start_time": "2022-05-09T01:34:50.600Z"
   },
   {
    "duration": 22,
    "start_time": "2022-05-09T01:35:40.419Z"
   },
   {
    "duration": 139,
    "start_time": "2022-05-09T01:35:52.235Z"
   },
   {
    "duration": 1230,
    "start_time": "2022-05-09T01:36:23.274Z"
   },
   {
    "duration": 36,
    "start_time": "2022-05-09T01:36:24.506Z"
   },
   {
    "duration": 11,
    "start_time": "2022-05-09T01:36:24.544Z"
   },
   {
    "duration": 11,
    "start_time": "2022-05-09T01:36:24.558Z"
   },
   {
    "duration": 8,
    "start_time": "2022-05-09T01:36:24.571Z"
   },
   {
    "duration": 9,
    "start_time": "2022-05-09T01:36:24.581Z"
   },
   {
    "duration": 19,
    "start_time": "2022-05-09T01:36:24.591Z"
   },
   {
    "duration": 11,
    "start_time": "2022-05-09T01:36:24.612Z"
   },
   {
    "duration": 7,
    "start_time": "2022-05-09T01:36:24.624Z"
   },
   {
    "duration": 4,
    "start_time": "2022-05-09T01:36:24.633Z"
   },
   {
    "duration": 7,
    "start_time": "2022-05-09T01:36:24.639Z"
   },
   {
    "duration": 62,
    "start_time": "2022-05-09T01:36:24.647Z"
   },
   {
    "duration": 11,
    "start_time": "2022-05-09T01:36:24.710Z"
   },
   {
    "duration": 12,
    "start_time": "2022-05-09T01:36:24.723Z"
   },
   {
    "duration": 5,
    "start_time": "2022-05-09T01:36:24.737Z"
   },
   {
    "duration": 11,
    "start_time": "2022-05-09T01:36:24.744Z"
   },
   {
    "duration": 8,
    "start_time": "2022-05-09T01:36:24.757Z"
   },
   {
    "duration": 43,
    "start_time": "2022-05-09T01:36:24.767Z"
   },
   {
    "duration": 6,
    "start_time": "2022-05-09T01:36:24.812Z"
   },
   {
    "duration": 10,
    "start_time": "2022-05-09T01:36:24.820Z"
   },
   {
    "duration": 7,
    "start_time": "2022-05-09T01:36:24.832Z"
   },
   {
    "duration": 11,
    "start_time": "2022-05-09T01:36:24.841Z"
   },
   {
    "duration": 6,
    "start_time": "2022-05-09T01:36:24.854Z"
   },
   {
    "duration": 48,
    "start_time": "2022-05-09T01:36:24.862Z"
   },
   {
    "duration": 5,
    "start_time": "2022-05-09T01:36:24.912Z"
   },
   {
    "duration": 6,
    "start_time": "2022-05-09T01:36:24.919Z"
   },
   {
    "duration": 5,
    "start_time": "2022-05-09T01:36:24.927Z"
   },
   {
    "duration": 5,
    "start_time": "2022-05-09T01:36:24.936Z"
   },
   {
    "duration": 4,
    "start_time": "2022-05-09T01:36:24.943Z"
   },
   {
    "duration": 5,
    "start_time": "2022-05-09T01:36:24.949Z"
   },
   {
    "duration": 53,
    "start_time": "2022-05-09T01:36:24.955Z"
   },
   {
    "duration": 6,
    "start_time": "2022-05-09T01:36:25.009Z"
   },
   {
    "duration": 7,
    "start_time": "2022-05-09T01:36:25.017Z"
   },
   {
    "duration": 11,
    "start_time": "2022-05-09T01:36:25.025Z"
   },
   {
    "duration": 11,
    "start_time": "2022-05-09T01:36:25.038Z"
   },
   {
    "duration": 10,
    "start_time": "2022-05-09T01:36:25.050Z"
   },
   {
    "duration": 8,
    "start_time": "2022-05-09T01:36:25.062Z"
   },
   {
    "duration": 42,
    "start_time": "2022-05-09T01:36:25.072Z"
   },
   {
    "duration": 210,
    "start_time": "2022-05-09T01:36:25.116Z"
   },
   {
    "duration": 135,
    "start_time": "2022-05-09T01:36:25.328Z"
   },
   {
    "duration": 14,
    "start_time": "2022-05-09T01:36:25.464Z"
   },
   {
    "duration": 30,
    "start_time": "2022-05-09T01:36:25.479Z"
   },
   {
    "duration": 12,
    "start_time": "2022-05-09T01:36:25.511Z"
   },
   {
    "duration": 11,
    "start_time": "2022-05-09T01:36:25.525Z"
   },
   {
    "duration": 326,
    "start_time": "2022-05-09T01:36:25.538Z"
   },
   {
    "duration": 213,
    "start_time": "2022-05-09T01:36:25.866Z"
   },
   {
    "duration": 14,
    "start_time": "2022-05-09T01:36:26.081Z"
   },
   {
    "duration": 312,
    "start_time": "2022-05-09T01:36:26.106Z"
   },
   {
    "duration": 11,
    "start_time": "2022-05-09T01:36:26.420Z"
   },
   {
    "duration": 19,
    "start_time": "2022-05-09T01:36:26.433Z"
   },
   {
    "duration": 239,
    "start_time": "2022-05-09T01:36:26.454Z"
   },
   {
    "duration": 4,
    "start_time": "2022-05-09T01:36:26.695Z"
   },
   {
    "duration": 5,
    "start_time": "2022-05-09T01:36:26.708Z"
   },
   {
    "duration": 14,
    "start_time": "2022-05-09T01:36:26.714Z"
   },
   {
    "duration": 296,
    "start_time": "2022-05-09T01:36:26.730Z"
   },
   {
    "duration": 136,
    "start_time": "2022-05-09T01:36:27.027Z"
   },
   {
    "duration": 8,
    "start_time": "2022-05-09T01:36:27.165Z"
   },
   {
    "duration": 167,
    "start_time": "2022-05-09T01:36:27.175Z"
   },
   {
    "duration": 167,
    "start_time": "2022-05-09T01:36:27.344Z"
   },
   {
    "duration": 5,
    "start_time": "2022-05-09T01:36:27.513Z"
   },
   {
    "duration": 9,
    "start_time": "2022-05-09T01:36:27.520Z"
   },
   {
    "duration": 13,
    "start_time": "2022-05-09T01:36:27.531Z"
   },
   {
    "duration": 293,
    "start_time": "2022-05-09T01:36:27.546Z"
   },
   {
    "duration": 166,
    "start_time": "2022-05-09T01:36:27.841Z"
   },
   {
    "duration": 5,
    "start_time": "2022-05-09T01:36:28.009Z"
   },
   {
    "duration": 4,
    "start_time": "2022-05-09T01:36:28.016Z"
   },
   {
    "duration": 68,
    "start_time": "2022-05-09T01:36:28.021Z"
   },
   {
    "duration": 93,
    "start_time": "2022-05-09T01:36:28.091Z"
   },
   {
    "duration": 6,
    "start_time": "2022-05-09T01:36:28.207Z"
   },
   {
    "duration": 7,
    "start_time": "2022-05-09T01:36:28.215Z"
   },
   {
    "duration": 27,
    "start_time": "2022-05-09T01:36:28.223Z"
   },
   {
    "duration": 8,
    "start_time": "2022-05-09T01:36:28.251Z"
   },
   {
    "duration": 8,
    "start_time": "2022-05-09T01:36:28.260Z"
   },
   {
    "duration": 6,
    "start_time": "2022-05-09T01:36:28.270Z"
   },
   {
    "duration": 36,
    "start_time": "2022-05-09T01:36:28.278Z"
   },
   {
    "duration": 24,
    "start_time": "2022-05-09T01:36:28.316Z"
   },
   {
    "duration": 11,
    "start_time": "2022-05-09T01:36:28.342Z"
   },
   {
    "duration": 14,
    "start_time": "2022-05-09T01:36:28.355Z"
   },
   {
    "duration": 264,
    "start_time": "2022-05-09T01:40:35.907Z"
   },
   {
    "duration": 144,
    "start_time": "2022-05-09T01:40:52.233Z"
   },
   {
    "duration": 151,
    "start_time": "2022-05-09T01:41:11.570Z"
   },
   {
    "duration": 149,
    "start_time": "2022-05-09T01:41:30.231Z"
   },
   {
    "duration": 10,
    "start_time": "2022-05-09T01:43:21.566Z"
   },
   {
    "duration": 163,
    "start_time": "2022-05-09T01:43:31.012Z"
   },
   {
    "duration": 143,
    "start_time": "2022-05-09T01:43:38.791Z"
   },
   {
    "duration": 158,
    "start_time": "2022-05-09T01:44:17.553Z"
   },
   {
    "duration": 146,
    "start_time": "2022-05-09T01:44:29.835Z"
   },
   {
    "duration": 1197,
    "start_time": "2022-05-09T01:45:12.156Z"
   },
   {
    "duration": 38,
    "start_time": "2022-05-09T01:45:13.355Z"
   },
   {
    "duration": 11,
    "start_time": "2022-05-09T01:45:13.395Z"
   },
   {
    "duration": 14,
    "start_time": "2022-05-09T01:45:13.409Z"
   },
   {
    "duration": 21,
    "start_time": "2022-05-09T01:45:13.424Z"
   },
   {
    "duration": 14,
    "start_time": "2022-05-09T01:45:13.447Z"
   },
   {
    "duration": 16,
    "start_time": "2022-05-09T01:45:13.463Z"
   },
   {
    "duration": 13,
    "start_time": "2022-05-09T01:45:13.481Z"
   },
   {
    "duration": 7,
    "start_time": "2022-05-09T01:45:13.508Z"
   },
   {
    "duration": 5,
    "start_time": "2022-05-09T01:45:13.517Z"
   },
   {
    "duration": 6,
    "start_time": "2022-05-09T01:45:13.524Z"
   },
   {
    "duration": 17,
    "start_time": "2022-05-09T01:45:13.532Z"
   },
   {
    "duration": 10,
    "start_time": "2022-05-09T01:45:13.550Z"
   },
   {
    "duration": 50,
    "start_time": "2022-05-09T01:45:13.562Z"
   },
   {
    "duration": 5,
    "start_time": "2022-05-09T01:45:13.614Z"
   },
   {
    "duration": 11,
    "start_time": "2022-05-09T01:45:13.620Z"
   },
   {
    "duration": 9,
    "start_time": "2022-05-09T01:45:13.633Z"
   },
   {
    "duration": 5,
    "start_time": "2022-05-09T01:45:13.643Z"
   },
   {
    "duration": 6,
    "start_time": "2022-05-09T01:45:13.650Z"
   },
   {
    "duration": 7,
    "start_time": "2022-05-09T01:45:13.658Z"
   },
   {
    "duration": 45,
    "start_time": "2022-05-09T01:45:13.667Z"
   },
   {
    "duration": 12,
    "start_time": "2022-05-09T01:45:13.714Z"
   },
   {
    "duration": 8,
    "start_time": "2022-05-09T01:45:13.727Z"
   },
   {
    "duration": 7,
    "start_time": "2022-05-09T01:45:13.736Z"
   },
   {
    "duration": 7,
    "start_time": "2022-05-09T01:45:13.745Z"
   },
   {
    "duration": 7,
    "start_time": "2022-05-09T01:45:13.753Z"
   },
   {
    "duration": 6,
    "start_time": "2022-05-09T01:45:13.761Z"
   },
   {
    "duration": 6,
    "start_time": "2022-05-09T01:45:13.810Z"
   },
   {
    "duration": 6,
    "start_time": "2022-05-09T01:45:13.818Z"
   },
   {
    "duration": 6,
    "start_time": "2022-05-09T01:45:13.826Z"
   },
   {
    "duration": 14,
    "start_time": "2022-05-09T01:45:13.833Z"
   },
   {
    "duration": 5,
    "start_time": "2022-05-09T01:45:13.849Z"
   },
   {
    "duration": 9,
    "start_time": "2022-05-09T01:45:13.856Z"
   },
   {
    "duration": 42,
    "start_time": "2022-05-09T01:45:13.867Z"
   },
   {
    "duration": 11,
    "start_time": "2022-05-09T01:45:13.912Z"
   },
   {
    "duration": 10,
    "start_time": "2022-05-09T01:45:13.925Z"
   },
   {
    "duration": 8,
    "start_time": "2022-05-09T01:45:13.937Z"
   },
   {
    "duration": 11,
    "start_time": "2022-05-09T01:45:13.947Z"
   },
   {
    "duration": 250,
    "start_time": "2022-05-09T01:45:13.960Z"
   },
   {
    "duration": 147,
    "start_time": "2022-05-09T01:45:14.212Z"
   },
   {
    "duration": 14,
    "start_time": "2022-05-09T01:45:14.361Z"
   },
   {
    "duration": 31,
    "start_time": "2022-05-09T01:45:14.376Z"
   },
   {
    "duration": 12,
    "start_time": "2022-05-09T01:45:14.409Z"
   },
   {
    "duration": 10,
    "start_time": "2022-05-09T01:45:14.423Z"
   },
   {
    "duration": 330,
    "start_time": "2022-05-09T01:45:14.434Z"
   },
   {
    "duration": 222,
    "start_time": "2022-05-09T01:45:14.766Z"
   },
   {
    "duration": 20,
    "start_time": "2022-05-09T01:45:14.990Z"
   },
   {
    "duration": 311,
    "start_time": "2022-05-09T01:45:15.011Z"
   },
   {
    "duration": 12,
    "start_time": "2022-05-09T01:45:15.323Z"
   },
   {
    "duration": 21,
    "start_time": "2022-05-09T01:45:15.337Z"
   },
   {
    "duration": 241,
    "start_time": "2022-05-09T01:45:15.359Z"
   },
   {
    "duration": 8,
    "start_time": "2022-05-09T01:45:15.601Z"
   },
   {
    "duration": 6,
    "start_time": "2022-05-09T01:45:15.611Z"
   },
   {
    "duration": 16,
    "start_time": "2022-05-09T01:45:15.618Z"
   },
   {
    "duration": 298,
    "start_time": "2022-05-09T01:45:15.636Z"
   },
   {
    "duration": 140,
    "start_time": "2022-05-09T01:45:15.935Z"
   },
   {
    "duration": 8,
    "start_time": "2022-05-09T01:45:16.077Z"
   },
   {
    "duration": 168,
    "start_time": "2022-05-09T01:45:16.087Z"
   },
   {
    "duration": 161,
    "start_time": "2022-05-09T01:45:16.256Z"
   },
   {
    "duration": 5,
    "start_time": "2022-05-09T01:45:16.419Z"
   },
   {
    "duration": 10,
    "start_time": "2022-05-09T01:45:16.426Z"
   },
   {
    "duration": 12,
    "start_time": "2022-05-09T01:45:16.437Z"
   },
   {
    "duration": 314,
    "start_time": "2022-05-09T01:45:16.451Z"
   },
   {
    "duration": 167,
    "start_time": "2022-05-09T01:45:16.767Z"
   },
   {
    "duration": 7,
    "start_time": "2022-05-09T01:45:16.936Z"
   },
   {
    "duration": 4,
    "start_time": "2022-05-09T01:45:16.945Z"
   },
   {
    "duration": 90,
    "start_time": "2022-05-09T01:45:16.950Z"
   },
   {
    "duration": 84,
    "start_time": "2022-05-09T01:45:17.042Z"
   },
   {
    "duration": 6,
    "start_time": "2022-05-09T01:45:17.128Z"
   },
   {
    "duration": 8,
    "start_time": "2022-05-09T01:45:17.136Z"
   },
   {
    "duration": 26,
    "start_time": "2022-05-09T01:45:17.146Z"
   },
   {
    "duration": 34,
    "start_time": "2022-05-09T01:45:17.174Z"
   },
   {
    "duration": 7,
    "start_time": "2022-05-09T01:45:17.210Z"
   },
   {
    "duration": 8,
    "start_time": "2022-05-09T01:45:17.218Z"
   },
   {
    "duration": 17,
    "start_time": "2022-05-09T01:45:17.227Z"
   },
   {
    "duration": 24,
    "start_time": "2022-05-09T01:45:17.246Z"
   },
   {
    "duration": 36,
    "start_time": "2022-05-09T01:45:17.272Z"
   },
   {
    "duration": 15,
    "start_time": "2022-05-09T01:45:17.310Z"
   },
   {
    "duration": 148,
    "start_time": "2022-05-09T01:45:39.941Z"
   },
   {
    "duration": 162,
    "start_time": "2022-05-09T01:46:13.009Z"
   },
   {
    "duration": 162,
    "start_time": "2022-05-09T01:46:39.506Z"
   },
   {
    "duration": 153,
    "start_time": "2022-05-09T01:47:06.916Z"
   },
   {
    "duration": 289,
    "start_time": "2022-05-09T01:48:56.598Z"
   },
   {
    "duration": 206,
    "start_time": "2022-05-09T01:49:04.880Z"
   },
   {
    "duration": 199,
    "start_time": "2022-05-09T01:49:57.643Z"
   },
   {
    "duration": 201,
    "start_time": "2022-05-09T01:50:35.828Z"
   },
   {
    "duration": 161,
    "start_time": "2022-05-09T01:51:10.362Z"
   },
   {
    "duration": 254,
    "start_time": "2022-05-09T01:51:46.027Z"
   },
   {
    "duration": 1224,
    "start_time": "2022-05-09T01:55:05.349Z"
   },
   {
    "duration": 47,
    "start_time": "2022-05-09T01:55:06.575Z"
   },
   {
    "duration": 12,
    "start_time": "2022-05-09T01:55:06.624Z"
   },
   {
    "duration": 13,
    "start_time": "2022-05-09T01:55:06.638Z"
   },
   {
    "duration": 8,
    "start_time": "2022-05-09T01:55:06.652Z"
   },
   {
    "duration": 10,
    "start_time": "2022-05-09T01:55:06.662Z"
   },
   {
    "duration": 9,
    "start_time": "2022-05-09T01:55:06.674Z"
   },
   {
    "duration": 32,
    "start_time": "2022-05-09T01:55:06.685Z"
   },
   {
    "duration": 6,
    "start_time": "2022-05-09T01:55:06.719Z"
   },
   {
    "duration": 4,
    "start_time": "2022-05-09T01:55:06.728Z"
   },
   {
    "duration": 7,
    "start_time": "2022-05-09T01:55:06.733Z"
   },
   {
    "duration": 16,
    "start_time": "2022-05-09T01:55:06.742Z"
   },
   {
    "duration": 47,
    "start_time": "2022-05-09T01:55:06.760Z"
   },
   {
    "duration": 13,
    "start_time": "2022-05-09T01:55:06.809Z"
   },
   {
    "duration": 8,
    "start_time": "2022-05-09T01:55:06.824Z"
   },
   {
    "duration": 11,
    "start_time": "2022-05-09T01:55:06.834Z"
   },
   {
    "duration": 8,
    "start_time": "2022-05-09T01:55:06.847Z"
   },
   {
    "duration": 4,
    "start_time": "2022-05-09T01:55:06.857Z"
   },
   {
    "duration": 6,
    "start_time": "2022-05-09T01:55:06.863Z"
   },
   {
    "duration": 42,
    "start_time": "2022-05-09T01:55:06.871Z"
   },
   {
    "duration": 7,
    "start_time": "2022-05-09T01:55:06.915Z"
   },
   {
    "duration": 11,
    "start_time": "2022-05-09T01:55:06.924Z"
   },
   {
    "duration": 6,
    "start_time": "2022-05-09T01:55:06.936Z"
   },
   {
    "duration": 5,
    "start_time": "2022-05-09T01:55:06.944Z"
   },
   {
    "duration": 6,
    "start_time": "2022-05-09T01:55:06.951Z"
   },
   {
    "duration": 7,
    "start_time": "2022-05-09T01:55:06.958Z"
   },
   {
    "duration": 42,
    "start_time": "2022-05-09T01:55:06.966Z"
   },
   {
    "duration": 5,
    "start_time": "2022-05-09T01:55:07.013Z"
   },
   {
    "duration": 6,
    "start_time": "2022-05-09T01:55:07.019Z"
   },
   {
    "duration": 6,
    "start_time": "2022-05-09T01:55:07.026Z"
   },
   {
    "duration": 10,
    "start_time": "2022-05-09T01:55:07.034Z"
   },
   {
    "duration": 9,
    "start_time": "2022-05-09T01:55:07.045Z"
   },
   {
    "duration": 9,
    "start_time": "2022-05-09T01:55:07.055Z"
   },
   {
    "duration": 17,
    "start_time": "2022-05-09T01:55:07.066Z"
   },
   {
    "duration": 11,
    "start_time": "2022-05-09T01:55:07.107Z"
   },
   {
    "duration": 15,
    "start_time": "2022-05-09T01:55:07.119Z"
   },
   {
    "duration": 9,
    "start_time": "2022-05-09T01:55:07.136Z"
   },
   {
    "duration": 11,
    "start_time": "2022-05-09T01:55:07.147Z"
   },
   {
    "duration": 226,
    "start_time": "2022-05-09T01:55:07.160Z"
   },
   {
    "duration": 154,
    "start_time": "2022-05-09T01:55:07.388Z"
   },
   {
    "duration": 22,
    "start_time": "2022-05-09T01:55:07.544Z"
   },
   {
    "duration": 21,
    "start_time": "2022-05-09T01:55:07.567Z"
   },
   {
    "duration": 12,
    "start_time": "2022-05-09T01:55:07.589Z"
   },
   {
    "duration": 10,
    "start_time": "2022-05-09T01:55:07.608Z"
   },
   {
    "duration": 323,
    "start_time": "2022-05-09T01:55:07.619Z"
   },
   {
    "duration": 223,
    "start_time": "2022-05-09T01:55:07.943Z"
   },
   {
    "duration": 18,
    "start_time": "2022-05-09T01:55:08.169Z"
   },
   {
    "duration": 327,
    "start_time": "2022-05-09T01:55:08.189Z"
   },
   {
    "duration": 12,
    "start_time": "2022-05-09T01:55:08.517Z"
   },
   {
    "duration": 20,
    "start_time": "2022-05-09T01:55:08.530Z"
   },
   {
    "duration": 240,
    "start_time": "2022-05-09T01:55:08.551Z"
   },
   {
    "duration": 4,
    "start_time": "2022-05-09T01:55:08.793Z"
   },
   {
    "duration": 5,
    "start_time": "2022-05-09T01:55:08.807Z"
   },
   {
    "duration": 19,
    "start_time": "2022-05-09T01:55:08.814Z"
   },
   {
    "duration": 301,
    "start_time": "2022-05-09T01:55:08.835Z"
   },
   {
    "duration": 136,
    "start_time": "2022-05-09T01:55:09.138Z"
   },
   {
    "duration": 10,
    "start_time": "2022-05-09T01:55:09.276Z"
   },
   {
    "duration": 173,
    "start_time": "2022-05-09T01:55:09.288Z"
   },
   {
    "duration": 176,
    "start_time": "2022-05-09T01:55:09.463Z"
   },
   {
    "duration": 5,
    "start_time": "2022-05-09T01:55:09.642Z"
   },
   {
    "duration": 10,
    "start_time": "2022-05-09T01:55:09.649Z"
   },
   {
    "duration": 12,
    "start_time": "2022-05-09T01:55:09.661Z"
   },
   {
    "duration": 327,
    "start_time": "2022-05-09T01:55:09.675Z"
   },
   {
    "duration": 172,
    "start_time": "2022-05-09T01:55:10.004Z"
   },
   {
    "duration": 6,
    "start_time": "2022-05-09T01:55:10.178Z"
   },
   {
    "duration": 22,
    "start_time": "2022-05-09T01:55:10.186Z"
   },
   {
    "duration": 67,
    "start_time": "2022-05-09T01:55:10.209Z"
   },
   {
    "duration": 93,
    "start_time": "2022-05-09T01:55:10.278Z"
   },
   {
    "duration": 6,
    "start_time": "2022-05-09T01:55:10.373Z"
   },
   {
    "duration": 26,
    "start_time": "2022-05-09T01:55:10.381Z"
   },
   {
    "duration": 26,
    "start_time": "2022-05-09T01:55:10.410Z"
   },
   {
    "duration": 8,
    "start_time": "2022-05-09T01:55:10.438Z"
   },
   {
    "duration": 7,
    "start_time": "2022-05-09T01:55:10.448Z"
   },
   {
    "duration": 6,
    "start_time": "2022-05-09T01:55:10.457Z"
   },
   {
    "duration": 48,
    "start_time": "2022-05-09T01:55:10.465Z"
   },
   {
    "duration": 25,
    "start_time": "2022-05-09T01:55:10.515Z"
   },
   {
    "duration": 12,
    "start_time": "2022-05-09T01:55:10.542Z"
   },
   {
    "duration": 15,
    "start_time": "2022-05-09T01:55:10.556Z"
   },
   {
    "duration": 199,
    "start_time": "2022-05-09T02:09:34.864Z"
   },
   {
    "duration": 1287,
    "start_time": "2022-05-10T00:28:22.687Z"
   },
   {
    "duration": 39,
    "start_time": "2022-05-10T00:28:23.977Z"
   },
   {
    "duration": 11,
    "start_time": "2022-05-10T00:28:24.017Z"
   },
   {
    "duration": 11,
    "start_time": "2022-05-10T00:28:24.030Z"
   },
   {
    "duration": 7,
    "start_time": "2022-05-10T00:28:24.042Z"
   },
   {
    "duration": 9,
    "start_time": "2022-05-10T00:28:24.051Z"
   },
   {
    "duration": 12,
    "start_time": "2022-05-10T00:28:24.061Z"
   },
   {
    "duration": 11,
    "start_time": "2022-05-10T00:28:24.075Z"
   },
   {
    "duration": 6,
    "start_time": "2022-05-10T00:28:24.087Z"
   },
   {
    "duration": 3,
    "start_time": "2022-05-10T00:28:24.096Z"
   },
   {
    "duration": 6,
    "start_time": "2022-05-10T00:28:24.101Z"
   },
   {
    "duration": 15,
    "start_time": "2022-05-10T00:28:24.109Z"
   },
   {
    "duration": 8,
    "start_time": "2022-05-10T00:28:24.126Z"
   },
   {
    "duration": 47,
    "start_time": "2022-05-10T00:28:24.136Z"
   },
   {
    "duration": 7,
    "start_time": "2022-05-10T00:28:24.185Z"
   },
   {
    "duration": 12,
    "start_time": "2022-05-10T00:28:24.193Z"
   },
   {
    "duration": 8,
    "start_time": "2022-05-10T00:28:24.207Z"
   },
   {
    "duration": 7,
    "start_time": "2022-05-10T00:28:24.216Z"
   },
   {
    "duration": 8,
    "start_time": "2022-05-10T00:28:24.224Z"
   },
   {
    "duration": 7,
    "start_time": "2022-05-10T00:28:24.233Z"
   },
   {
    "duration": 34,
    "start_time": "2022-05-10T00:28:24.241Z"
   },
   {
    "duration": 11,
    "start_time": "2022-05-10T00:28:24.277Z"
   },
   {
    "duration": 6,
    "start_time": "2022-05-10T00:28:24.290Z"
   },
   {
    "duration": 4,
    "start_time": "2022-05-10T00:28:24.298Z"
   },
   {
    "duration": 5,
    "start_time": "2022-05-10T00:28:24.304Z"
   },
   {
    "duration": 5,
    "start_time": "2022-05-10T00:28:24.310Z"
   },
   {
    "duration": 3,
    "start_time": "2022-05-10T00:28:24.317Z"
   },
   {
    "duration": 4,
    "start_time": "2022-05-10T00:28:24.324Z"
   },
   {
    "duration": 7,
    "start_time": "2022-05-10T00:28:24.330Z"
   },
   {
    "duration": 34,
    "start_time": "2022-05-10T00:28:24.339Z"
   },
   {
    "duration": 9,
    "start_time": "2022-05-10T00:28:24.375Z"
   },
   {
    "duration": 5,
    "start_time": "2022-05-10T00:28:24.386Z"
   },
   {
    "duration": 7,
    "start_time": "2022-05-10T00:28:24.392Z"
   },
   {
    "duration": 11,
    "start_time": "2022-05-10T00:28:24.400Z"
   },
   {
    "duration": 10,
    "start_time": "2022-05-10T00:28:24.413Z"
   },
   {
    "duration": 8,
    "start_time": "2022-05-10T00:28:24.425Z"
   },
   {
    "duration": 6,
    "start_time": "2022-05-10T00:28:24.435Z"
   },
   {
    "duration": 38,
    "start_time": "2022-05-10T00:28:24.442Z"
   },
   {
    "duration": 193,
    "start_time": "2022-05-10T00:28:24.482Z"
   },
   {
    "duration": 133,
    "start_time": "2022-05-10T00:28:24.677Z"
   },
   {
    "duration": 13,
    "start_time": "2022-05-10T00:28:24.811Z"
   },
   {
    "duration": 10,
    "start_time": "2022-05-10T00:28:24.825Z"
   },
   {
    "duration": 12,
    "start_time": "2022-05-10T00:28:24.837Z"
   },
   {
    "duration": 35,
    "start_time": "2022-05-10T00:28:24.850Z"
   },
   {
    "duration": 282,
    "start_time": "2022-05-10T00:28:24.886Z"
   },
   {
    "duration": 190,
    "start_time": "2022-05-10T00:28:25.169Z"
   },
   {
    "duration": 20,
    "start_time": "2022-05-10T00:28:25.360Z"
   },
   {
    "duration": 331,
    "start_time": "2022-05-10T00:28:25.381Z"
   },
   {
    "duration": 11,
    "start_time": "2022-05-10T00:28:25.714Z"
   },
   {
    "duration": 20,
    "start_time": "2022-05-10T00:28:25.727Z"
   },
   {
    "duration": 230,
    "start_time": "2022-05-10T00:28:25.749Z"
   },
   {
    "duration": 6,
    "start_time": "2022-05-10T00:28:25.981Z"
   },
   {
    "duration": 6,
    "start_time": "2022-05-10T00:28:25.989Z"
   },
   {
    "duration": 16,
    "start_time": "2022-05-10T00:28:25.997Z"
   },
   {
    "duration": 274,
    "start_time": "2022-05-10T00:28:26.015Z"
   },
   {
    "duration": 123,
    "start_time": "2022-05-10T00:28:26.291Z"
   },
   {
    "duration": 7,
    "start_time": "2022-05-10T00:28:26.416Z"
   },
   {
    "duration": 152,
    "start_time": "2022-05-10T00:28:26.425Z"
   },
   {
    "duration": 154,
    "start_time": "2022-05-10T00:28:26.578Z"
   },
   {
    "duration": 6,
    "start_time": "2022-05-10T00:28:26.733Z"
   },
   {
    "duration": 10,
    "start_time": "2022-05-10T00:28:26.741Z"
   },
   {
    "duration": 23,
    "start_time": "2022-05-10T00:28:26.754Z"
   },
   {
    "duration": 287,
    "start_time": "2022-05-10T00:28:26.779Z"
   },
   {
    "duration": 152,
    "start_time": "2022-05-10T00:28:27.067Z"
   },
   {
    "duration": 4,
    "start_time": "2022-05-10T00:28:27.221Z"
   },
   {
    "duration": 6,
    "start_time": "2022-05-10T00:28:27.227Z"
   },
   {
    "duration": 70,
    "start_time": "2022-05-10T00:28:27.235Z"
   },
   {
    "duration": 79,
    "start_time": "2022-05-10T00:28:27.307Z"
   },
   {
    "duration": 5,
    "start_time": "2022-05-10T00:28:27.388Z"
   },
   {
    "duration": 14,
    "start_time": "2022-05-10T00:28:27.395Z"
   },
   {
    "duration": 23,
    "start_time": "2022-05-10T00:28:27.411Z"
   },
   {
    "duration": 7,
    "start_time": "2022-05-10T00:28:27.436Z"
   },
   {
    "duration": 8,
    "start_time": "2022-05-10T00:28:27.445Z"
   },
   {
    "duration": 6,
    "start_time": "2022-05-10T00:28:27.474Z"
   },
   {
    "duration": 10,
    "start_time": "2022-05-10T00:28:27.482Z"
   },
   {
    "duration": 24,
    "start_time": "2022-05-10T00:28:27.494Z"
   },
   {
    "duration": 12,
    "start_time": "2022-05-10T00:28:27.520Z"
   },
   {
    "duration": 48,
    "start_time": "2022-05-10T00:28:27.534Z"
   }
  ],
  "kernelspec": {
   "display_name": "Python 3 (ipykernel)",
   "language": "python",
   "name": "python3"
  },
  "language_info": {
   "codemirror_mode": {
    "name": "ipython",
    "version": 3
   },
   "file_extension": ".py",
   "mimetype": "text/x-python",
   "name": "python",
   "nbconvert_exporter": "python",
   "pygments_lexer": "ipython3",
   "version": "3.9.7"
  },
  "toc": {
   "base_numbering": 1,
   "nav_menu": {},
   "number_sections": true,
   "sideBar": true,
   "skip_h1_title": true,
   "title_cell": "Table of Contents",
   "title_sidebar": "Contents",
   "toc_cell": false,
   "toc_position": {
    "height": "calc(100% - 180px)",
    "left": "10px",
    "top": "150px",
    "width": "380.33px"
   },
   "toc_section_display": true,
   "toc_window_display": false
  }
 },
 "nbformat": 4,
 "nbformat_minor": 2
}
