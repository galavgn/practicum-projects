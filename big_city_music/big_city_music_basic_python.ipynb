{
 "cells": [
  {
   "cell_type": "markdown",
   "metadata": {
    "id": "E0vqbgi9ay0H"
   },
   "source": [
    "# Yandex.Music"
   ]
  },
  {
   "cell_type": "markdown",
   "metadata": {
    "id": "fhq_eyov_Zcs"
   },
   "source": [
    "# Contents <a id='back'></a>\n",
    "\n",
    "* [Introduction](#intro)\n",
    "* [Stage 1. Data overview](#data_review)\n",
    "    * [Conclusions](#data_review_conclusions)\n",
    "* [Stage 2. Data preprocessing](#data_preprocessing)\n",
    "    * [2.1 Header style](#header_style)\n",
    "    * [2.2 Missing values](#missing_values)\n",
    "    * [2.3 Duplicates](#duplicates)\n",
    "    * [2.4 Conclusions](#data_preprocessing_conclusions)\n",
    "* [Stage 3. Testing the hypotheses](#hypotheses)\n",
    "    * [3.1 Hypothesis 1: user activity in the two cities](#activity)\n",
    "    * [3.2 Hypothesis 2: music preferences on Monday and Friday](#week)\n",
    "    * [3.3 Hypothesis 3: genre preferences in Springfield and Shelbyville](#genre)\n",
    "* [Findings](#end)"
   ]
  },
  {
   "cell_type": "markdown",
   "metadata": {
    "id": "VUC88oWjTJw2"
   },
   "source": [
    "## Introduction <a id='intro'></a>\n",
    "Whenever we're doing research, we need to formulate hypotheses that we can then test. Sometimes we accept these hypotheses; other times, we reject them. To make the right decisions, a business must be able to understand whether or not it's making the right assumptions.\n",
    "\n",
    "In this project, you'll compare the music preferences of the cities of Springfield and Shelbyville. You'll study real Yandex.Music data to test the hypotheses below and compare user behavior for these two cities.\n",
    "\n",
    "### Goal: \n",
    "Test three hypotheses:\n",
    "1. User activity differs depending on the day of the week and from city to city. \n",
    "2. On Monday mornings, Springfield and Shelbyville residents listen to different genres. This is also true for Friday evenings. \n",
    "3. Springfield and Shelbyville listeners have different preferences. In Springfield, they prefer pop, while Shelbyville has more rap fans.\n",
    "\n",
    "### Stages \n",
    "Data on user behavior is stored in the file `/datasets/music_project_en.csv`. There is no information about the quality of the data, so you will need to explore it before testing the hypotheses. \n",
    "\n",
    "First, you'll evaluate the quality of the data and see whether its issues are significant. Then, during data preprocessing, you will try to account for the most critical problems.\n",
    " \n",
    "Your project will consist of three stages:\n",
    " 1. Data overview\n",
    " 2. Data preprocessing\n",
    " 3. Testing the hypotheses\n",
    " \n",
    "[Back to Contents](#back)"
   ]
  },
  {
   "cell_type": "markdown",
   "metadata": {
    "id": "Ml1hmfXC_Zcs"
   },
   "source": [
    "## Stage 1. Data overview <a id='data_review'></a>\n",
    "\n",
    "Open the data on Yandex.Music and explore it."
   ]
  },
  {
   "cell_type": "markdown",
   "metadata": {
    "id": "57eAOGIz_Zcs"
   },
   "source": [
    "We'll need `pandas`, so import it."
   ]
  },
  {
   "cell_type": "code",
   "execution_count": 1,
   "metadata": {
    "id": "AXN7PHPN_Zcs"
   },
   "outputs": [],
   "source": [
    "# importing pandas\n",
    "import pandas as pd\n",
    "df = pd.read_csv('/datasets/music_project_en.csv')\n"
   ]
  },
  {
   "cell_type": "markdown",
   "metadata": {
    "id": "SG23P8tt_Zcs"
   },
   "source": [
    "Read the file `music_project_en.csv` from the `/datasets/` folder and save it in the `df` variable:"
   ]
  },
  {
   "cell_type": "code",
   "execution_count": 2,
   "metadata": {
    "id": "fFVu7vqh_Zct"
   },
   "outputs": [
    {
     "data": {
      "text/html": [
       "<div>\n",
       "<style scoped>\n",
       "    .dataframe tbody tr th:only-of-type {\n",
       "        vertical-align: middle;\n",
       "    }\n",
       "\n",
       "    .dataframe tbody tr th {\n",
       "        vertical-align: top;\n",
       "    }\n",
       "\n",
       "    .dataframe thead th {\n",
       "        text-align: right;\n",
       "    }\n",
       "</style>\n",
       "<table border=\"1\" class=\"dataframe\">\n",
       "  <thead>\n",
       "    <tr style=\"text-align: right;\">\n",
       "      <th></th>\n",
       "      <th>userID</th>\n",
       "      <th>Track</th>\n",
       "      <th>artist</th>\n",
       "      <th>genre</th>\n",
       "      <th>City</th>\n",
       "      <th>time</th>\n",
       "      <th>Day</th>\n",
       "    </tr>\n",
       "  </thead>\n",
       "  <tbody>\n",
       "    <tr>\n",
       "      <td>count</td>\n",
       "      <td>65079</td>\n",
       "      <td>63736</td>\n",
       "      <td>57512</td>\n",
       "      <td>63881</td>\n",
       "      <td>65079</td>\n",
       "      <td>65079</td>\n",
       "      <td>65079</td>\n",
       "    </tr>\n",
       "    <tr>\n",
       "      <td>unique</td>\n",
       "      <td>41748</td>\n",
       "      <td>39666</td>\n",
       "      <td>37806</td>\n",
       "      <td>268</td>\n",
       "      <td>2</td>\n",
       "      <td>20392</td>\n",
       "      <td>3</td>\n",
       "    </tr>\n",
       "    <tr>\n",
       "      <td>top</td>\n",
       "      <td>A8AE9169</td>\n",
       "      <td>Brand</td>\n",
       "      <td>Kartvelli</td>\n",
       "      <td>pop</td>\n",
       "      <td>Springfield</td>\n",
       "      <td>21:51:22</td>\n",
       "      <td>Friday</td>\n",
       "    </tr>\n",
       "    <tr>\n",
       "      <td>freq</td>\n",
       "      <td>76</td>\n",
       "      <td>136</td>\n",
       "      <td>136</td>\n",
       "      <td>8850</td>\n",
       "      <td>45360</td>\n",
       "      <td>14</td>\n",
       "      <td>23149</td>\n",
       "    </tr>\n",
       "  </tbody>\n",
       "</table>\n",
       "</div>"
      ],
      "text/plain": [
       "          userID  Track     artist  genre       City        time     Day\n",
       "count      65079  63736      57512  63881        65079     65079   65079\n",
       "unique     41748  39666      37806    268            2     20392       3\n",
       "top     A8AE9169  Brand  Kartvelli    pop  Springfield  21:51:22  Friday\n",
       "freq          76    136        136   8850        45360        14   23149"
      ]
     },
     "execution_count": 2,
     "metadata": {},
     "output_type": "execute_result"
    }
   ],
   "source": [
    "# reading the file and storing it to df\n",
    "df.describe(include = \"all\")\n",
    "\n",
    "\n"
   ]
  },
  {
   "cell_type": "markdown",
   "metadata": {
    "id": "rDoOMd3uTqnZ"
   },
   "source": [
    "Print the first 10 table rows:"
   ]
  },
  {
   "cell_type": "code",
   "execution_count": 3,
   "metadata": {
    "id": "oWTVX3gW_Zct"
   },
   "outputs": [
    {
     "data": {
      "text/html": [
       "<div>\n",
       "<style scoped>\n",
       "    .dataframe tbody tr th:only-of-type {\n",
       "        vertical-align: middle;\n",
       "    }\n",
       "\n",
       "    .dataframe tbody tr th {\n",
       "        vertical-align: top;\n",
       "    }\n",
       "\n",
       "    .dataframe thead th {\n",
       "        text-align: right;\n",
       "    }\n",
       "</style>\n",
       "<table border=\"1\" class=\"dataframe\">\n",
       "  <thead>\n",
       "    <tr style=\"text-align: right;\">\n",
       "      <th></th>\n",
       "      <th>userID</th>\n",
       "      <th>Track</th>\n",
       "      <th>artist</th>\n",
       "      <th>genre</th>\n",
       "      <th>City</th>\n",
       "      <th>time</th>\n",
       "      <th>Day</th>\n",
       "    </tr>\n",
       "  </thead>\n",
       "  <tbody>\n",
       "    <tr>\n",
       "      <td>0</td>\n",
       "      <td>FFB692EC</td>\n",
       "      <td>Kamigata To Boots</td>\n",
       "      <td>The Mass Missile</td>\n",
       "      <td>rock</td>\n",
       "      <td>Shelbyville</td>\n",
       "      <td>20:28:33</td>\n",
       "      <td>Wednesday</td>\n",
       "    </tr>\n",
       "    <tr>\n",
       "      <td>1</td>\n",
       "      <td>55204538</td>\n",
       "      <td>Delayed Because of Accident</td>\n",
       "      <td>Andreas Rönnberg</td>\n",
       "      <td>rock</td>\n",
       "      <td>Springfield</td>\n",
       "      <td>14:07:09</td>\n",
       "      <td>Friday</td>\n",
       "    </tr>\n",
       "    <tr>\n",
       "      <td>2</td>\n",
       "      <td>20EC38</td>\n",
       "      <td>Funiculì funiculà</td>\n",
       "      <td>Mario Lanza</td>\n",
       "      <td>pop</td>\n",
       "      <td>Shelbyville</td>\n",
       "      <td>20:58:07</td>\n",
       "      <td>Wednesday</td>\n",
       "    </tr>\n",
       "    <tr>\n",
       "      <td>3</td>\n",
       "      <td>A3DD03C9</td>\n",
       "      <td>Dragons in the Sunset</td>\n",
       "      <td>Fire + Ice</td>\n",
       "      <td>folk</td>\n",
       "      <td>Shelbyville</td>\n",
       "      <td>08:37:09</td>\n",
       "      <td>Monday</td>\n",
       "    </tr>\n",
       "    <tr>\n",
       "      <td>4</td>\n",
       "      <td>E2DC1FAE</td>\n",
       "      <td>Soul People</td>\n",
       "      <td>Space Echo</td>\n",
       "      <td>dance</td>\n",
       "      <td>Springfield</td>\n",
       "      <td>08:34:34</td>\n",
       "      <td>Monday</td>\n",
       "    </tr>\n",
       "    <tr>\n",
       "      <td>5</td>\n",
       "      <td>842029A1</td>\n",
       "      <td>Chains</td>\n",
       "      <td>Obladaet</td>\n",
       "      <td>rusrap</td>\n",
       "      <td>Shelbyville</td>\n",
       "      <td>13:09:41</td>\n",
       "      <td>Friday</td>\n",
       "    </tr>\n",
       "    <tr>\n",
       "      <td>6</td>\n",
       "      <td>4CB90AA5</td>\n",
       "      <td>True</td>\n",
       "      <td>Roman Messer</td>\n",
       "      <td>dance</td>\n",
       "      <td>Springfield</td>\n",
       "      <td>13:00:07</td>\n",
       "      <td>Wednesday</td>\n",
       "    </tr>\n",
       "    <tr>\n",
       "      <td>7</td>\n",
       "      <td>F03E1C1F</td>\n",
       "      <td>Feeling This Way</td>\n",
       "      <td>Polina Griffith</td>\n",
       "      <td>dance</td>\n",
       "      <td>Springfield</td>\n",
       "      <td>20:47:49</td>\n",
       "      <td>Wednesday</td>\n",
       "    </tr>\n",
       "    <tr>\n",
       "      <td>8</td>\n",
       "      <td>8FA1D3BE</td>\n",
       "      <td>L’estate</td>\n",
       "      <td>Julia Dalia</td>\n",
       "      <td>ruspop</td>\n",
       "      <td>Springfield</td>\n",
       "      <td>09:17:40</td>\n",
       "      <td>Friday</td>\n",
       "    </tr>\n",
       "    <tr>\n",
       "      <td>9</td>\n",
       "      <td>E772D5C0</td>\n",
       "      <td>Pessimist</td>\n",
       "      <td>NaN</td>\n",
       "      <td>dance</td>\n",
       "      <td>Shelbyville</td>\n",
       "      <td>21:20:49</td>\n",
       "      <td>Wednesday</td>\n",
       "    </tr>\n",
       "  </tbody>\n",
       "</table>\n",
       "</div>"
      ],
      "text/plain": [
       "     userID                        Track            artist   genre  \\\n",
       "0  FFB692EC            Kamigata To Boots  The Mass Missile    rock   \n",
       "1  55204538  Delayed Because of Accident  Andreas Rönnberg    rock   \n",
       "2    20EC38            Funiculì funiculà       Mario Lanza     pop   \n",
       "3  A3DD03C9        Dragons in the Sunset        Fire + Ice    folk   \n",
       "4  E2DC1FAE                  Soul People        Space Echo   dance   \n",
       "5  842029A1                       Chains          Obladaet  rusrap   \n",
       "6  4CB90AA5                         True      Roman Messer   dance   \n",
       "7  F03E1C1F             Feeling This Way   Polina Griffith   dance   \n",
       "8  8FA1D3BE                     L’estate       Julia Dalia  ruspop   \n",
       "9  E772D5C0                    Pessimist               NaN   dance   \n",
       "\n",
       "        City        time        Day  \n",
       "0  Shelbyville  20:28:33  Wednesday  \n",
       "1  Springfield  14:07:09     Friday  \n",
       "2  Shelbyville  20:58:07  Wednesday  \n",
       "3  Shelbyville  08:37:09     Monday  \n",
       "4  Springfield  08:34:34     Monday  \n",
       "5  Shelbyville  13:09:41     Friday  \n",
       "6  Springfield  13:00:07  Wednesday  \n",
       "7  Springfield  20:47:49  Wednesday  \n",
       "8  Springfield  09:17:40     Friday  \n",
       "9  Shelbyville  21:20:49  Wednesday  "
      ]
     },
     "metadata": {},
     "output_type": "display_data"
    }
   ],
   "source": [
    "# obtaining the first 10 rows from the df table\n",
    "display(df.head(10))"
   ]
  },
  {
   "cell_type": "markdown",
   "metadata": {
    "id": "EO73Kwic_Zct"
   },
   "source": [
    "Obtaining the general information about the table with one command:"
   ]
  },
  {
   "cell_type": "code",
   "execution_count": 4,
   "metadata": {
    "id": "DSf2kIb-_Zct"
   },
   "outputs": [
    {
     "name": "stdout",
     "output_type": "stream",
     "text": [
      "<class 'pandas.core.frame.DataFrame'>\n",
      "RangeIndex: 65079 entries, 0 to 65078\n",
      "Data columns (total 7 columns):\n",
      "  userID    65079 non-null object\n",
      "Track       63736 non-null object\n",
      "artist      57512 non-null object\n",
      "genre       63881 non-null object\n",
      "  City      65079 non-null object\n",
      "time        65079 non-null object\n",
      "Day         65079 non-null object\n",
      "dtypes: object(7)\n",
      "memory usage: 3.5+ MB\n"
     ]
    }
   ],
   "source": [
    "# obtaining general information about the data in df\n",
    "df.info()"
   ]
  },
  {
   "cell_type": "markdown",
   "metadata": {
    "id": "TaQ2Iwbr_Zct"
   },
   "source": [
    "The table contains seven columns. They all store the same data type: `object`.\n",
    "\n",
    "According to the documentation:\n",
    "- `'userID'` — user identifier\n",
    "- `'Track'` — track title\n",
    "- `'artist'` — artist's name\n",
    "- `'genre'`\n",
    "- `'City'` — user's city\n",
    "- `'time'` — the exact time the track was played\n",
    "- `'Day'` — day of the week\n",
    "\n",
    "We can see three issues with style in the column names:\n",
    "1. Some names are uppercase, some are lowercase.\n",
    "2. There are spaces in some names.\n",
    "3. `There are non-null object in columns`.\n",
    "\n",
    "The number of column values is different. This means the data contains missing values.\n"
   ]
  },
  {
   "cell_type": "markdown",
   "metadata": {
    "id": "MCB6-dXG_Zct"
   },
   "source": [
    "### Conclusions <a id='data_review_conclusions'></a> \n",
    "\n",
    "Each row in the table stores data on a track that was played. Some columns describe the track itself: its title, artist and genre. The rest convey information about the user: the city they come from, the time they played the track. \n",
    "\n",
    "It's clear that the data is sufficient to test the hypotheses. However, there are missing values.\n",
    "\n",
    "To move forward, we need to preprocess the data."
   ]
  },
  {
   "cell_type": "markdown",
   "metadata": {
    "id": "3eL__vcwViOi"
   },
   "source": [
    "[Back to Contents](#back)"
   ]
  },
  {
   "cell_type": "markdown",
   "metadata": {
    "id": "SjYF6Ub9_Zct"
   },
   "source": [
    "## Stage 2. Data preprocessing <a id='data_preprocessing'></a>\n",
    "Correct the formatting in the column headers and deal with the missing values. Then, check whether there are duplicates in the data."
   ]
  },
  {
   "cell_type": "markdown",
   "metadata": {
    "id": "dIaKXr29_Zct"
   },
   "source": [
    "### Header style <a id='header_style'></a>\n",
    "Print the column header:"
   ]
  },
  {
   "cell_type": "code",
   "execution_count": 5,
   "metadata": {
    "id": "oKOTdF_Q_Zct"
   },
   "outputs": [
    {
     "name": "stdout",
     "output_type": "stream",
     "text": [
      "Index(['  userID', 'Track', 'artist', 'genre', '  City  ', 'time', 'Day'], dtype='object')\n"
     ]
    }
   ],
   "source": [
    "# the list of column names in the df table\n",
    "print(df.columns)"
   ]
  },
  {
   "cell_type": "markdown",
   "metadata": {
    "id": "zj5534cv_Zct"
   },
   "source": [
    "Change column names according to the rules of good style:\n",
    "* If the name has several words, use snake_case\n",
    "* All characters must be lowercase\n",
    "* Delete spaces"
   ]
  },
  {
   "cell_type": "code",
   "execution_count": 6,
   "metadata": {
    "id": "ISlFqs5y_Zct"
   },
   "outputs": [],
   "source": [
    "# renaming columns\n",
    "df = df.rename(\n",
    "columns = {\n",
    "     '  userID':'user_id',\n",
    "     'Track':'track',\n",
    "    '  City  ' :'city',\n",
    "     'Day':'day'}\n",
    "    \n",
    ")\n"
   ]
  },
  {
   "cell_type": "markdown",
   "metadata": {
    "id": "1dqbh00J_Zct"
   },
   "source": [
    "Check the result. Print the names of the columns once more:"
   ]
  },
  {
   "cell_type": "code",
   "execution_count": 7,
   "metadata": {
    "id": "d4NOAmTW_Zct"
   },
   "outputs": [
    {
     "name": "stdout",
     "output_type": "stream",
     "text": [
      "Index(['user_id', 'track', 'artist', 'genre', 'city', 'time', 'day'], dtype='object')\n"
     ]
    }
   ],
   "source": [
    "# checking result: the list of column names\n",
    "print(df.columns)"
   ]
  },
  {
   "cell_type": "markdown",
   "metadata": {
    "id": "xYJk6ksJVpOl"
   },
   "source": [
    "[Back to Contents](#back)"
   ]
  },
  {
   "cell_type": "markdown",
   "metadata": {
    "id": "5ISfbcfY_Zct"
   },
   "source": [
    "### Missing values <a id='missing_values'></a>\n",
    "First, find the number of missing values in the table. To do so, use two `pandas` methods:"
   ]
  },
  {
   "cell_type": "code",
   "execution_count": 8,
   "metadata": {
    "id": "RskX29qr_Zct"
   },
   "outputs": [
    {
     "data": {
      "text/plain": [
       "user_id       0\n",
       "track      1343\n",
       "artist     7567\n",
       "genre      1198\n",
       "city          0\n",
       "time          0\n",
       "day           0\n",
       "dtype: int64"
      ]
     },
     "metadata": {},
     "output_type": "display_data"
    }
   ],
   "source": [
    "\n",
    "\n",
    "display(df.isna().sum())\n",
    "\n",
    "\n"
   ]
  },
  {
   "cell_type": "markdown",
   "metadata": {
    "id": "qubhgnlO_Zct"
   },
   "source": [
    "Not all missing values affect the research. For instance, the missing values in `track` and `artist` are not critical. You can simply replace them with clear markers.\n",
    "\n",
    "But missing values in `'genre'` can affect the comparison of music preferences in Springfield and Shelbyville. In real life, it would be useful to learn the reasons why the data is missing and try to make up for them. But we do not have that opportunity in this project. So you will have to:\n",
    "* Fill in these missing values with markers\n",
    "* Evaluate how much the missing values may affect your computations"
   ]
  },
  {
   "cell_type": "markdown",
   "metadata": {
    "id": "fSv2laPA_Zct"
   },
   "source": [
    "Replace the missing values in `'track'`, `'artist'`, and `'genre'` with the string `'unknown'`. To do this, create the `columns_to_replace` list, loop over it with `for`, and replace the missing values in each of the columns:"
   ]
  },
  {
   "cell_type": "code",
   "execution_count": 9,
   "metadata": {
    "id": "KplB5qWs_Zct"
   },
   "outputs": [],
   "source": [
    "# looping over column names and replacing missing values with 'unknown'\n",
    "df['track'] = df['track'].fillna('unknown')             \n",
    "df['artist'] = df['artist'].fillna('unknown')\n",
    "df = df.dropna(subset=['genre'])\n",
    "#columns_to_replace = ['track', 'artist', 'genre'] for f in columns_to_replace:\n",
    "    #df[f].fillna('unknown', inplace = True)"
   ]
  },
  {
   "cell_type": "markdown",
   "metadata": {
    "id": "Ilsm-MZo_Zct"
   },
   "source": [
    "Make sure the table contains no more missing values. Count the missing values again."
   ]
  },
  {
   "cell_type": "code",
   "execution_count": 10,
   "metadata": {
    "id": "Tq4nYRX4_Zct"
   },
   "outputs": [
    {
     "name": "stdout",
     "output_type": "stream",
     "text": [
      "user_id    0\n",
      "track      0\n",
      "artist     0\n",
      "genre      0\n",
      "city       0\n",
      "time       0\n",
      "day        0\n",
      "dtype: int64\n"
     ]
    }
   ],
   "source": [
    "# counting missing values\n",
    "print(df.isna().sum())"
   ]
  },
  {
   "cell_type": "markdown",
   "metadata": {
    "id": "74ZIBmq9VrsK"
   },
   "source": [
    "[Back to Contents](#back)"
   ]
  },
  {
   "cell_type": "markdown",
   "metadata": {
    "id": "BWKRtBJ3_Zct"
   },
   "source": [
    "### Duplicates <a id='duplicates'></a>\n",
    "Find the number of obvious duplicates in the table using one command:"
   ]
  },
  {
   "cell_type": "code",
   "execution_count": 11,
   "metadata": {
    "id": "36eES_S0_Zct"
   },
   "outputs": [
    {
     "name": "stdout",
     "output_type": "stream",
     "text": [
      "user_id    0\n",
      "track      0\n",
      "artist     0\n",
      "genre      0\n",
      "city       0\n",
      "time       0\n",
      "day        0\n",
      "dtype: int64\n"
     ]
    }
   ],
   "source": [
    "# counting clear duplicates\n",
    "print(df.isna().sum())"
   ]
  },
  {
   "cell_type": "markdown",
   "metadata": {
    "id": "Ot25h6XR_Zct"
   },
   "source": [
    "Call the `pandas` method for getting rid of obvious duplicates:"
   ]
  },
  {
   "cell_type": "code",
   "execution_count": 12,
   "metadata": {
    "id": "exFHq6tt_Zct"
   },
   "outputs": [],
   "source": [
    "# removing obvious duplicates\n",
    "df = df.drop_duplicates().reset_index(drop=True)"
   ]
  },
  {
   "cell_type": "markdown",
   "metadata": {
    "id": "Im2YwBEG_Zct"
   },
   "source": [
    "Count obvious duplicates once more to make sure you have removed all of them:"
   ]
  },
  {
   "cell_type": "code",
   "execution_count": 13,
   "metadata": {
    "id": "-8PuNWQ0_Zct"
   },
   "outputs": [
    {
     "name": "stdout",
     "output_type": "stream",
     "text": [
      "0\n"
     ]
    }
   ],
   "source": [
    "# checking for duplicates\n",
    "print(df.duplicated().sum()) \n"
   ]
  },
  {
   "cell_type": "markdown",
   "metadata": {
    "id": "QlFBsxAr_Zct"
   },
   "source": [
    "Now get rid of implicit duplicates in the `genre` column. For example, the name of a genre can be written in different ways. Such errors will also affect the result."
   ]
  },
  {
   "cell_type": "markdown",
   "metadata": {
    "id": "eSjWwsOh_Zct"
   },
   "source": [
    "Print a list of unique genre names, sorted in alphabetical order. To do so:\n",
    "* Retrieve the intended DataFrame column \n",
    "* Apply a sorting method to it\n",
    "* For the sorted column, call the method that will return all unique column values"
   ]
  },
  {
   "cell_type": "code",
   "execution_count": 14,
   "metadata": {
    "id": "JIUcqzZN_Zct"
   },
   "outputs": [
    {
     "data": {
      "text/plain": [
       "['acid',\n",
       " 'acoustic',\n",
       " 'action',\n",
       " 'adult',\n",
       " 'africa',\n",
       " 'afrikaans',\n",
       " 'alternative',\n",
       " 'ambient',\n",
       " 'americana',\n",
       " 'animated',\n",
       " 'anime',\n",
       " 'arabesk',\n",
       " 'arabic',\n",
       " 'arena',\n",
       " 'argentinetango',\n",
       " 'art',\n",
       " 'audiobook',\n",
       " 'avantgarde',\n",
       " 'axé',\n",
       " 'baile',\n",
       " 'balkan',\n",
       " 'beats',\n",
       " 'bigroom',\n",
       " 'black',\n",
       " 'bluegrass',\n",
       " 'blues',\n",
       " 'bollywood',\n",
       " 'bossa',\n",
       " 'brazilian',\n",
       " 'breakbeat',\n",
       " 'breaks',\n",
       " 'broadway',\n",
       " 'cantautori',\n",
       " 'cantopop',\n",
       " 'canzone',\n",
       " 'caribbean',\n",
       " 'caucasian',\n",
       " 'celtic',\n",
       " 'chamber',\n",
       " 'children',\n",
       " 'chill',\n",
       " 'chinese',\n",
       " 'choral',\n",
       " 'christian',\n",
       " 'christmas',\n",
       " 'classical',\n",
       " 'classicmetal',\n",
       " 'club',\n",
       " 'colombian',\n",
       " 'comedy',\n",
       " 'conjazz',\n",
       " 'contemporary',\n",
       " 'country',\n",
       " 'cuban',\n",
       " 'dance',\n",
       " 'dancehall',\n",
       " 'dancepop',\n",
       " 'dark',\n",
       " 'death',\n",
       " 'deep',\n",
       " 'deutschrock',\n",
       " 'deutschspr',\n",
       " 'dirty',\n",
       " 'disco',\n",
       " 'dnb',\n",
       " 'documentary',\n",
       " 'downbeat',\n",
       " 'downtempo',\n",
       " 'drum',\n",
       " 'dub',\n",
       " 'dubstep',\n",
       " 'eastern',\n",
       " 'easy',\n",
       " 'electronic',\n",
       " 'electropop',\n",
       " 'emo',\n",
       " 'entehno',\n",
       " 'epicmetal',\n",
       " 'estrada',\n",
       " 'ethnic',\n",
       " 'eurofolk',\n",
       " 'european',\n",
       " 'experimental',\n",
       " 'extrememetal',\n",
       " 'fado',\n",
       " 'film',\n",
       " 'fitness',\n",
       " 'flamenco',\n",
       " 'folk',\n",
       " 'folklore',\n",
       " 'folkmetal',\n",
       " 'folkrock',\n",
       " 'folktronica',\n",
       " 'forró',\n",
       " 'frankreich',\n",
       " 'französisch',\n",
       " 'french',\n",
       " 'funk',\n",
       " 'future',\n",
       " 'gangsta',\n",
       " 'garage',\n",
       " 'german',\n",
       " 'ghazal',\n",
       " 'gitarre',\n",
       " 'glitch',\n",
       " 'gospel',\n",
       " 'gothic',\n",
       " 'grime',\n",
       " 'grunge',\n",
       " 'gypsy',\n",
       " 'handsup',\n",
       " \"hard'n'heavy\",\n",
       " 'hardcore',\n",
       " 'hardstyle',\n",
       " 'hardtechno',\n",
       " 'hip',\n",
       " 'hip-hop',\n",
       " 'hiphop',\n",
       " 'historisch',\n",
       " 'holiday',\n",
       " 'hop',\n",
       " 'horror',\n",
       " 'house',\n",
       " 'idm',\n",
       " 'independent',\n",
       " 'indian',\n",
       " 'indie',\n",
       " 'indipop',\n",
       " 'industrial',\n",
       " 'inspirational',\n",
       " 'instrumental',\n",
       " 'international',\n",
       " 'irish',\n",
       " 'jam',\n",
       " 'japanese',\n",
       " 'jazz',\n",
       " 'jewish',\n",
       " 'jpop',\n",
       " 'jungle',\n",
       " 'k-pop',\n",
       " 'karadeniz',\n",
       " 'karaoke',\n",
       " 'kayokyoku',\n",
       " 'korean',\n",
       " 'laiko',\n",
       " 'latin',\n",
       " 'latino',\n",
       " 'leftfield',\n",
       " 'local',\n",
       " 'lounge',\n",
       " 'loungeelectronic',\n",
       " 'lovers',\n",
       " 'malaysian',\n",
       " 'mandopop',\n",
       " 'marschmusik',\n",
       " 'meditative',\n",
       " 'mediterranean',\n",
       " 'melodic',\n",
       " 'metal',\n",
       " 'metalcore',\n",
       " 'mexican',\n",
       " 'middle',\n",
       " 'minimal',\n",
       " 'miscellaneous',\n",
       " 'modern',\n",
       " 'mood',\n",
       " 'mpb',\n",
       " 'muslim',\n",
       " 'native',\n",
       " 'neoklassik',\n",
       " 'neue',\n",
       " 'new',\n",
       " 'newage',\n",
       " 'newwave',\n",
       " 'nu',\n",
       " 'nujazz',\n",
       " 'numetal',\n",
       " 'oceania',\n",
       " 'old',\n",
       " 'opera',\n",
       " 'orchestral',\n",
       " 'other',\n",
       " 'piano',\n",
       " 'pop',\n",
       " 'popelectronic',\n",
       " 'popeurodance',\n",
       " 'post',\n",
       " 'posthardcore',\n",
       " 'postrock',\n",
       " 'power',\n",
       " 'progmetal',\n",
       " 'progressive',\n",
       " 'psychedelic',\n",
       " 'punjabi',\n",
       " 'punk',\n",
       " 'quebecois',\n",
       " 'ragga',\n",
       " 'ram',\n",
       " 'rancheras',\n",
       " 'rap',\n",
       " 'rave',\n",
       " 'reggae',\n",
       " 'reggaeton',\n",
       " 'regional',\n",
       " 'relax',\n",
       " 'religious',\n",
       " 'retro',\n",
       " 'rhythm',\n",
       " 'rnb',\n",
       " 'rnr',\n",
       " 'rock',\n",
       " 'rockabilly',\n",
       " 'romance',\n",
       " 'roots',\n",
       " 'ruspop',\n",
       " 'rusrap',\n",
       " 'rusrock',\n",
       " 'salsa',\n",
       " 'samba',\n",
       " 'schlager',\n",
       " 'self',\n",
       " 'sertanejo',\n",
       " 'shoegazing',\n",
       " 'showtunes',\n",
       " 'singer',\n",
       " 'ska',\n",
       " 'slow',\n",
       " 'smooth',\n",
       " 'soul',\n",
       " 'soulful',\n",
       " 'sound',\n",
       " 'soundtrack',\n",
       " 'southern',\n",
       " 'specialty',\n",
       " 'speech',\n",
       " 'spiritual',\n",
       " 'sport',\n",
       " 'stonerrock',\n",
       " 'surf',\n",
       " 'swing',\n",
       " 'synthpop',\n",
       " 'sängerportrait',\n",
       " 'tango',\n",
       " 'tanzorchester',\n",
       " 'taraftar',\n",
       " 'tech',\n",
       " 'techno',\n",
       " 'thrash',\n",
       " 'top',\n",
       " 'traditional',\n",
       " 'tradjazz',\n",
       " 'trance',\n",
       " 'tribal',\n",
       " 'trip',\n",
       " 'triphop',\n",
       " 'tropical',\n",
       " 'türk',\n",
       " 'türkçe',\n",
       " 'urban',\n",
       " 'uzbek',\n",
       " 'variété',\n",
       " 'vi',\n",
       " 'videogame',\n",
       " 'vocal',\n",
       " 'western',\n",
       " 'world',\n",
       " 'worldbeat',\n",
       " 'ïîï']"
      ]
     },
     "metadata": {},
     "output_type": "display_data"
    }
   ],
   "source": [
    "# viewing unique genre name;\n",
    "display(sorted(df['genre'].unique()))"
   ]
  },
  {
   "cell_type": "markdown",
   "metadata": {
    "id": "qej-Qmuo_Zct"
   },
   "source": [
    "Look through the list to find implicit duplicates of the genre `hiphop`. These could be names written incorrectly or alternative names of the same genre.\n",
    "\n",
    "You will see the following implicit duplicates:\n",
    "* `hip`\n",
    "* `hop`\n",
    "* `hip-hop`\n",
    "\n",
    "To get rid of them, declare the function `replace_wrong_genres()` with two parameters: \n",
    "* `wrong_genres=` — the list of duplicates\n",
    "* `correct_genre=` — the string with the correct value\n",
    "\n",
    "The function should correct the names in the `'genre'` column from the `df` table, i.e. replace each value from the `wrong_genres` list with the value in `correct_genre`."
   ]
  },
  {
   "cell_type": "code",
   "execution_count": 15,
   "metadata": {
    "id": "ErNDkmns_Zct"
   },
   "outputs": [
    {
     "data": {
      "text/plain": [
       "0              rock\n",
       "1              rock\n",
       "2               pop\n",
       "3              folk\n",
       "4             dance\n",
       "            ...    \n",
       "60121           rnb\n",
       "60122        hiphop\n",
       "60123    industrial\n",
       "60124          rock\n",
       "60125       country\n",
       "Name: genre, Length: 60126, dtype: object"
      ]
     },
     "metadata": {},
     "output_type": "display_data"
    },
    {
     "data": {
      "text/html": [
       "<div>\n",
       "<style scoped>\n",
       "    .dataframe tbody tr th:only-of-type {\n",
       "        vertical-align: middle;\n",
       "    }\n",
       "\n",
       "    .dataframe tbody tr th {\n",
       "        vertical-align: top;\n",
       "    }\n",
       "\n",
       "    .dataframe thead th {\n",
       "        text-align: right;\n",
       "    }\n",
       "</style>\n",
       "<table border=\"1\" class=\"dataframe\">\n",
       "  <thead>\n",
       "    <tr style=\"text-align: right;\">\n",
       "      <th></th>\n",
       "      <th>user_id</th>\n",
       "      <th>track</th>\n",
       "      <th>artist</th>\n",
       "      <th>genre</th>\n",
       "      <th>city</th>\n",
       "      <th>time</th>\n",
       "      <th>day</th>\n",
       "    </tr>\n",
       "  </thead>\n",
       "  <tbody>\n",
       "    <tr>\n",
       "      <td>0</td>\n",
       "      <td>FFB692EC</td>\n",
       "      <td>Kamigata To Boots</td>\n",
       "      <td>The Mass Missile</td>\n",
       "      <td>rock</td>\n",
       "      <td>Shelbyville</td>\n",
       "      <td>20:28:33</td>\n",
       "      <td>Wednesday</td>\n",
       "    </tr>\n",
       "    <tr>\n",
       "      <td>1</td>\n",
       "      <td>55204538</td>\n",
       "      <td>Delayed Because of Accident</td>\n",
       "      <td>Andreas Rönnberg</td>\n",
       "      <td>rock</td>\n",
       "      <td>Springfield</td>\n",
       "      <td>14:07:09</td>\n",
       "      <td>Friday</td>\n",
       "    </tr>\n",
       "    <tr>\n",
       "      <td>2</td>\n",
       "      <td>20EC38</td>\n",
       "      <td>Funiculì funiculà</td>\n",
       "      <td>Mario Lanza</td>\n",
       "      <td>pop</td>\n",
       "      <td>Shelbyville</td>\n",
       "      <td>20:58:07</td>\n",
       "      <td>Wednesday</td>\n",
       "    </tr>\n",
       "    <tr>\n",
       "      <td>3</td>\n",
       "      <td>A3DD03C9</td>\n",
       "      <td>Dragons in the Sunset</td>\n",
       "      <td>Fire + Ice</td>\n",
       "      <td>folk</td>\n",
       "      <td>Shelbyville</td>\n",
       "      <td>08:37:09</td>\n",
       "      <td>Monday</td>\n",
       "    </tr>\n",
       "    <tr>\n",
       "      <td>4</td>\n",
       "      <td>E2DC1FAE</td>\n",
       "      <td>Soul People</td>\n",
       "      <td>Space Echo</td>\n",
       "      <td>dance</td>\n",
       "      <td>Springfield</td>\n",
       "      <td>08:34:34</td>\n",
       "      <td>Monday</td>\n",
       "    </tr>\n",
       "    <tr>\n",
       "      <td>...</td>\n",
       "      <td>...</td>\n",
       "      <td>...</td>\n",
       "      <td>...</td>\n",
       "      <td>...</td>\n",
       "      <td>...</td>\n",
       "      <td>...</td>\n",
       "      <td>...</td>\n",
       "    </tr>\n",
       "    <tr>\n",
       "      <td>60121</td>\n",
       "      <td>729CBB09</td>\n",
       "      <td>My Name</td>\n",
       "      <td>McLean</td>\n",
       "      <td>rnb</td>\n",
       "      <td>Springfield</td>\n",
       "      <td>13:32:28</td>\n",
       "      <td>Wednesday</td>\n",
       "    </tr>\n",
       "    <tr>\n",
       "      <td>60122</td>\n",
       "      <td>D08D4A55</td>\n",
       "      <td>Maybe One Day (feat. Black Spade)</td>\n",
       "      <td>Blu &amp; Exile</td>\n",
       "      <td>hiphop</td>\n",
       "      <td>Shelbyville</td>\n",
       "      <td>10:00:00</td>\n",
       "      <td>Monday</td>\n",
       "    </tr>\n",
       "    <tr>\n",
       "      <td>60123</td>\n",
       "      <td>C5E3A0D5</td>\n",
       "      <td>Jalopiina</td>\n",
       "      <td>unknown</td>\n",
       "      <td>industrial</td>\n",
       "      <td>Springfield</td>\n",
       "      <td>20:09:26</td>\n",
       "      <td>Friday</td>\n",
       "    </tr>\n",
       "    <tr>\n",
       "      <td>60124</td>\n",
       "      <td>321D0506</td>\n",
       "      <td>Freight Train</td>\n",
       "      <td>Chas McDevitt</td>\n",
       "      <td>rock</td>\n",
       "      <td>Springfield</td>\n",
       "      <td>21:43:59</td>\n",
       "      <td>Friday</td>\n",
       "    </tr>\n",
       "    <tr>\n",
       "      <td>60125</td>\n",
       "      <td>3A64EF84</td>\n",
       "      <td>Tell Me Sweet Little Lies</td>\n",
       "      <td>Monica Lopez</td>\n",
       "      <td>country</td>\n",
       "      <td>Springfield</td>\n",
       "      <td>21:59:46</td>\n",
       "      <td>Friday</td>\n",
       "    </tr>\n",
       "  </tbody>\n",
       "</table>\n",
       "<p>60126 rows × 7 columns</p>\n",
       "</div>"
      ],
      "text/plain": [
       "        user_id                              track            artist  \\\n",
       "0      FFB692EC                  Kamigata To Boots  The Mass Missile   \n",
       "1      55204538        Delayed Because of Accident  Andreas Rönnberg   \n",
       "2        20EC38                  Funiculì funiculà       Mario Lanza   \n",
       "3      A3DD03C9              Dragons in the Sunset        Fire + Ice   \n",
       "4      E2DC1FAE                        Soul People        Space Echo   \n",
       "...         ...                                ...               ...   \n",
       "60121  729CBB09                            My Name            McLean   \n",
       "60122  D08D4A55  Maybe One Day (feat. Black Spade)       Blu & Exile   \n",
       "60123  C5E3A0D5                          Jalopiina           unknown   \n",
       "60124  321D0506                      Freight Train     Chas McDevitt   \n",
       "60125  3A64EF84          Tell Me Sweet Little Lies      Monica Lopez   \n",
       "\n",
       "            genre         city      time        day  \n",
       "0            rock  Shelbyville  20:28:33  Wednesday  \n",
       "1            rock  Springfield  14:07:09     Friday  \n",
       "2             pop  Shelbyville  20:58:07  Wednesday  \n",
       "3            folk  Shelbyville  08:37:09     Monday  \n",
       "4           dance  Springfield  08:34:34     Monday  \n",
       "...           ...          ...       ...        ...  \n",
       "60121         rnb  Springfield  13:32:28  Wednesday  \n",
       "60122      hiphop  Shelbyville  10:00:00     Monday  \n",
       "60123  industrial  Springfield  20:09:26     Friday  \n",
       "60124        rock  Springfield  21:43:59     Friday  \n",
       "60125     country  Springfield  21:59:46     Friday  \n",
       "\n",
       "[60126 rows x 7 columns]"
      ]
     },
     "metadata": {},
     "output_type": "display_data"
    }
   ],
   "source": [
    "# function for replacing implicit duplicates\n",
    "df['genre'] = df['genre'].replace('hip','hiphop')\n",
    "display(df['genre'])\n",
    "\n",
    "def replace_wrong_genres(wrong_genres,correct_genres):\n",
    "    for wrong_genre in wrong_genres:\n",
    "         df['genre'] = df['genre'].replace(wrong_genre, correct_genres)\n",
    "            \n",
    "duplicates = ['hip','hop','hip-hop']\n",
    "genre = 'hiphop'\n",
    "replace_wrong_genres(duplicates, genre)\n",
    "display(df)\n",
    "    \n"
   ]
  },
  {
   "cell_type": "markdown",
   "metadata": {
    "id": "aDoBJxbA_Zct"
   },
   "source": [
    "Call `replace_wrong_genres()` and pass it arguments so that it clears implicit duplcates (`hip`, `hop`, and `hip-hop`) and replaces them with `hiphop`:"
   ]
  },
  {
   "cell_type": "code",
   "execution_count": 16,
   "metadata": {
    "id": "YN5i2hpmSo09"
   },
   "outputs": [],
   "source": [
    "# removing implicit duplicates\n",
    "replace_wrong_genres('hip','hiphop')\n",
    "replace_wrong_genres('hop','hiphop')\n",
    "replace_wrong_genres('hip-hop','hiphop')\n",
    "\n"
   ]
  },
  {
   "cell_type": "markdown",
   "metadata": {
    "id": "zQKF16_RG15m"
   },
   "source": [
    "Make sure the duplicate names were removed. Print the list of unique values from the `'genre'` column:"
   ]
  },
  {
   "cell_type": "code",
   "execution_count": 17,
   "metadata": {
    "id": "wvixALnFG15m"
   },
   "outputs": [
    {
     "data": {
      "text/plain": [
       "['acid',\n",
       " 'acoustic',\n",
       " 'action',\n",
       " 'adult',\n",
       " 'africa',\n",
       " 'afrikaans',\n",
       " 'alternative',\n",
       " 'ambient',\n",
       " 'americana',\n",
       " 'animated',\n",
       " 'anime',\n",
       " 'arabesk',\n",
       " 'arabic',\n",
       " 'arena',\n",
       " 'argentinetango',\n",
       " 'art',\n",
       " 'audiobook',\n",
       " 'avantgarde',\n",
       " 'axé',\n",
       " 'baile',\n",
       " 'balkan',\n",
       " 'beats',\n",
       " 'bigroom',\n",
       " 'black',\n",
       " 'bluegrass',\n",
       " 'blues',\n",
       " 'bollywood',\n",
       " 'bossa',\n",
       " 'brazilian',\n",
       " 'breakbeat',\n",
       " 'breaks',\n",
       " 'broadway',\n",
       " 'cantautori',\n",
       " 'cantopop',\n",
       " 'canzone',\n",
       " 'caribbean',\n",
       " 'caucasian',\n",
       " 'celtic',\n",
       " 'chamber',\n",
       " 'children',\n",
       " 'chill',\n",
       " 'chinese',\n",
       " 'choral',\n",
       " 'christian',\n",
       " 'christmas',\n",
       " 'classical',\n",
       " 'classicmetal',\n",
       " 'club',\n",
       " 'colombian',\n",
       " 'comedy',\n",
       " 'conjazz',\n",
       " 'contemporary',\n",
       " 'country',\n",
       " 'cuban',\n",
       " 'dance',\n",
       " 'dancehall',\n",
       " 'dancepop',\n",
       " 'dark',\n",
       " 'death',\n",
       " 'deep',\n",
       " 'deutschrock',\n",
       " 'deutschspr',\n",
       " 'dirty',\n",
       " 'disco',\n",
       " 'dnb',\n",
       " 'documentary',\n",
       " 'downbeat',\n",
       " 'downtempo',\n",
       " 'drum',\n",
       " 'dub',\n",
       " 'dubstep',\n",
       " 'eastern',\n",
       " 'easy',\n",
       " 'electronic',\n",
       " 'electropop',\n",
       " 'emo',\n",
       " 'entehno',\n",
       " 'epicmetal',\n",
       " 'estrada',\n",
       " 'ethnic',\n",
       " 'eurofolk',\n",
       " 'european',\n",
       " 'experimental',\n",
       " 'extrememetal',\n",
       " 'fado',\n",
       " 'film',\n",
       " 'fitness',\n",
       " 'flamenco',\n",
       " 'folk',\n",
       " 'folklore',\n",
       " 'folkmetal',\n",
       " 'folkrock',\n",
       " 'folktronica',\n",
       " 'forró',\n",
       " 'frankreich',\n",
       " 'französisch',\n",
       " 'french',\n",
       " 'funk',\n",
       " 'future',\n",
       " 'gangsta',\n",
       " 'garage',\n",
       " 'german',\n",
       " 'ghazal',\n",
       " 'gitarre',\n",
       " 'glitch',\n",
       " 'gospel',\n",
       " 'gothic',\n",
       " 'grime',\n",
       " 'grunge',\n",
       " 'gypsy',\n",
       " 'handsup',\n",
       " \"hard'n'heavy\",\n",
       " 'hardcore',\n",
       " 'hardstyle',\n",
       " 'hardtechno',\n",
       " 'hiphop',\n",
       " 'historisch',\n",
       " 'holiday',\n",
       " 'horror',\n",
       " 'house',\n",
       " 'idm',\n",
       " 'independent',\n",
       " 'indian',\n",
       " 'indie',\n",
       " 'indipop',\n",
       " 'industrial',\n",
       " 'inspirational',\n",
       " 'instrumental',\n",
       " 'international',\n",
       " 'irish',\n",
       " 'jam',\n",
       " 'japanese',\n",
       " 'jazz',\n",
       " 'jewish',\n",
       " 'jpop',\n",
       " 'jungle',\n",
       " 'k-pop',\n",
       " 'karadeniz',\n",
       " 'karaoke',\n",
       " 'kayokyoku',\n",
       " 'korean',\n",
       " 'laiko',\n",
       " 'latin',\n",
       " 'latino',\n",
       " 'leftfield',\n",
       " 'local',\n",
       " 'lounge',\n",
       " 'loungeelectronic',\n",
       " 'lovers',\n",
       " 'malaysian',\n",
       " 'mandopop',\n",
       " 'marschmusik',\n",
       " 'meditative',\n",
       " 'mediterranean',\n",
       " 'melodic',\n",
       " 'metal',\n",
       " 'metalcore',\n",
       " 'mexican',\n",
       " 'middle',\n",
       " 'minimal',\n",
       " 'miscellaneous',\n",
       " 'modern',\n",
       " 'mood',\n",
       " 'mpb',\n",
       " 'muslim',\n",
       " 'native',\n",
       " 'neoklassik',\n",
       " 'neue',\n",
       " 'new',\n",
       " 'newage',\n",
       " 'newwave',\n",
       " 'nu',\n",
       " 'nujazz',\n",
       " 'numetal',\n",
       " 'oceania',\n",
       " 'old',\n",
       " 'opera',\n",
       " 'orchestral',\n",
       " 'other',\n",
       " 'piano',\n",
       " 'pop',\n",
       " 'popelectronic',\n",
       " 'popeurodance',\n",
       " 'post',\n",
       " 'posthardcore',\n",
       " 'postrock',\n",
       " 'power',\n",
       " 'progmetal',\n",
       " 'progressive',\n",
       " 'psychedelic',\n",
       " 'punjabi',\n",
       " 'punk',\n",
       " 'quebecois',\n",
       " 'ragga',\n",
       " 'ram',\n",
       " 'rancheras',\n",
       " 'rap',\n",
       " 'rave',\n",
       " 'reggae',\n",
       " 'reggaeton',\n",
       " 'regional',\n",
       " 'relax',\n",
       " 'religious',\n",
       " 'retro',\n",
       " 'rhythm',\n",
       " 'rnb',\n",
       " 'rnr',\n",
       " 'rock',\n",
       " 'rockabilly',\n",
       " 'romance',\n",
       " 'roots',\n",
       " 'ruspop',\n",
       " 'rusrap',\n",
       " 'rusrock',\n",
       " 'salsa',\n",
       " 'samba',\n",
       " 'schlager',\n",
       " 'self',\n",
       " 'sertanejo',\n",
       " 'shoegazing',\n",
       " 'showtunes',\n",
       " 'singer',\n",
       " 'ska',\n",
       " 'slow',\n",
       " 'smooth',\n",
       " 'soul',\n",
       " 'soulful',\n",
       " 'sound',\n",
       " 'soundtrack',\n",
       " 'southern',\n",
       " 'specialty',\n",
       " 'speech',\n",
       " 'spiritual',\n",
       " 'sport',\n",
       " 'stonerrock',\n",
       " 'surf',\n",
       " 'swing',\n",
       " 'synthpop',\n",
       " 'sängerportrait',\n",
       " 'tango',\n",
       " 'tanzorchester',\n",
       " 'taraftar',\n",
       " 'tech',\n",
       " 'techno',\n",
       " 'thrash',\n",
       " 'top',\n",
       " 'traditional',\n",
       " 'tradjazz',\n",
       " 'trance',\n",
       " 'tribal',\n",
       " 'trip',\n",
       " 'triphop',\n",
       " 'tropical',\n",
       " 'türk',\n",
       " 'türkçe',\n",
       " 'urban',\n",
       " 'uzbek',\n",
       " 'variété',\n",
       " 'vi',\n",
       " 'videogame',\n",
       " 'vocal',\n",
       " 'western',\n",
       " 'world',\n",
       " 'worldbeat',\n",
       " 'ïîï']"
      ]
     },
     "metadata": {},
     "output_type": "display_data"
    }
   ],
   "source": [
    "# checking for implicit duplicates\n",
    "display(sorted(df['genre'].unique()))"
   ]
  },
  {
   "cell_type": "markdown",
   "metadata": {
    "id": "ALgNbvF3VtPA"
   },
   "source": [
    "[Back to Contents](#back)"
   ]
  },
  {
   "cell_type": "markdown",
   "metadata": {
    "id": "jz6a9-7HQUDd"
   },
   "source": [
    "### Conclusions <a id='data_preprocessing_conclusions'></a>\n",
    "We detected three issues with the data:\n",
    "\n",
    "- Incorrect header styles\n",
    "- Missing values\n",
    "- Obvious and implicit duplicates\n",
    "\n",
    "The headers have been cleaned up to make processing the table simpler.\n",
    "\n",
    "All missing values have been replaced with `'unknown'`. But we still have to see whether the missing values in `'genre'` will affect our calculations.\n",
    "\n",
    "The absence of duplicates will make the results more precise and easier to understand.\n",
    "\n",
    "Now we can move on to testing hypotheses. "
   ]
  },
  {
   "cell_type": "markdown",
   "metadata": {
    "id": "eK1es74rVujj"
   },
   "source": [
    "[Back to Contents](#back)"
   ]
  },
  {
   "cell_type": "markdown",
   "metadata": {
    "id": "WttZHXH0SqKk"
   },
   "source": [
    "## Stage 3. Testing hypotheses <a id='hypotheses'></a>"
   ]
  },
  {
   "cell_type": "markdown",
   "metadata": {
    "id": "Im936VVi_Zcu"
   },
   "source": [
    "### Hypothesis 1: comparing user behavior in two cities <a id='activity'></a>"
   ]
  },
  {
   "cell_type": "markdown",
   "metadata": {
    "id": "nwt_MuaL_Zcu"
   },
   "source": [
    "According to the first hypothesis, users from Springfield and Shelbyville listen to music differently. Test this using the data on three days of the week: Monday, Wednesday, and Friday.\n",
    "\n",
    "* Divide the users into groups by city.\n",
    "* Compare how many tracks each group played on Monday, Wednesday, and Friday.\n"
   ]
  },
  {
   "cell_type": "markdown",
   "metadata": {
    "id": "8Dw_YMmT_Zcu"
   },
   "source": [
    "For the sake of practice, perform each computation separately. \n",
    "\n",
    "Evaluate user activity in each city. Group the data by city and find the number of songs played in each group.\n",
    "\n"
   ]
  },
  {
   "cell_type": "code",
   "execution_count": 18,
   "metadata": {
    "id": "0_Qs96oh_Zcu"
   },
   "outputs": [
    {
     "name": "stdout",
     "output_type": "stream",
     "text": [
      "city\n",
      "Shelbyville    18234\n",
      "Springfield    41892\n",
      "Name: track, dtype: int64\n"
     ]
    }
   ],
   "source": [
    "# Counting up the tracks played in each city\n",
    "\n",
    "\n",
    "#display(df.groupby('city').count()[['track']])\n",
    "\n",
    "d = df.groupby('city')['track'].count()\n",
    "print(d)"
   ]
  },
  {
   "cell_type": "markdown",
   "metadata": {
    "id": "dzli3w8o_Zcu"
   },
   "source": [
    "Springfield has more tracks played than Shelbyville. But that does not imply that citizens of Springfield listen to music more often. This city is simply bigger, and there are more users.\n",
    "\n",
    "Now group the data by day of the week and find the number of tracks played on Monday, Wednesday, and Friday.\n"
   ]
  },
  {
   "cell_type": "code",
   "execution_count": 19,
   "metadata": {
    "id": "uZMKjiJz_Zcu"
   },
   "outputs": [
    {
     "data": {
      "text/plain": [
       "day\n",
       "Friday       21482\n",
       "Monday       20866\n",
       "Wednesday    17778\n",
       "Name: track, dtype: int64"
      ]
     },
     "metadata": {},
     "output_type": "display_data"
    }
   ],
   "source": [
    "# Calculating tracks played on each of the three days\n",
    "d = df.groupby('day')['track'].count()\n",
    "display(d)\n",
    "\n",
    "#display(df.groupby('day').count()[['track']])\n",
    "\n",
    "\n",
    "    "
   ]
  },
  {
   "cell_type": "markdown",
   "metadata": {
    "id": "cC2tNrlL_Zcu"
   },
   "source": [
    "Wednesday is the quietest day overall. But if we consider the two cities separately, we might come to a different conclusion."
   ]
  },
  {
   "cell_type": "markdown",
   "metadata": {
    "id": "POzs8bGa_Zcu"
   },
   "source": [
    "You have seen how grouping by city or day works. Now write a function that will group by both.\n",
    "\n",
    "Create the `number_tracks()` function to calculate the number of songs played for a given day and city. It will require two parameters:\n",
    "* day of the week\n",
    "* name of the city\n",
    "\n",
    "In the function, use a variable to store the rows from the original table, where:\n",
    "  * `'day'` column value is equal to the `day` parameter\n",
    "  * `'city'` column value is equal to the `city` parameter\n",
    "\n",
    "Apply consecutive filtering with logical indexing.\n",
    "\n",
    "Then calculate the `'user_id'` column values in the resulting table. Store the result to a new variable. Return this variable from the function."
   ]
  },
  {
   "cell_type": "code",
   "execution_count": 20,
   "metadata": {
    "id": "Nz3GdQB1_Zcu",
    "scrolled": true
   },
   "outputs": [
    {
     "name": "stdout",
     "output_type": "stream",
     "text": [
      "\n"
     ]
    }
   ],
   "source": [
    "# <creating the function number_tracks()>\n",
    "# We'll declare a function with two parameters: day=, city=.\n",
    "# Let the track_list variable store the df rows where\n",
    "# the value in the 'day' column is equal to the day= parameter and, at the same time, \n",
    "# the value in the 'city' column is equal to the city= parameter (apply consecutive filtering \n",
    "# with logical indexing).\n",
    "# Let the track_list_count variable store the number of 'user_id' column values in track_list\n",
    "# (found with the count() method).\n",
    "# Let the function return a number: the value of track_list_count.\n",
    "\n",
    "# The function counts tracked played for a certain city and day.\n",
    "# It first retrieves the rows with the intended day from the table,\n",
    "# then filters out the rows with the intended city from the result,\n",
    "# then finds the number of 'user_id' values in the filtered table,\n",
    "# then returns that number.\n",
    "# To see what it returns, wrap the function call in print().\n",
    "\n",
    "\n",
    "\n",
    "\n",
    "def number_tracks(day, city):\n",
    "    track_list = df[(df['day'] == day) & (df['city']== city)]\n",
    "    track_list_count = track_list['user_id'].count()\n",
    "    return track_list_count\n",
    "print()\n",
    "    \n",
    "    "
   ]
  },
  {
   "cell_type": "markdown",
   "metadata": {
    "id": "ytf7xFrFJQ2r"
   },
   "source": [
    "Call `number_tracks()` six times, changing the parameter values, so that you retrieve the data on both cities for each of the three days."
   ]
  },
  {
   "cell_type": "code",
   "execution_count": 21,
   "metadata": {
    "id": "hq_ncZ5T_Zcu"
   },
   "outputs": [
    {
     "data": {
      "text/plain": [
       "5519"
      ]
     },
     "execution_count": 21,
     "metadata": {},
     "output_type": "execute_result"
    }
   ],
   "source": [
    "# the number of songs played in Shelbyville on Monday\n",
    "number_tracks( 'Monday','Shelbyville')\n"
   ]
  },
  {
   "cell_type": "code",
   "execution_count": 22,
   "metadata": {},
   "outputs": [
    {
     "data": {
      "text/plain": [
       "15347"
      ]
     },
     "execution_count": 22,
     "metadata": {},
     "output_type": "execute_result"
    }
   ],
   "source": [
    "# the number of songs played in Shelbyville on Friday number_tracks( 'Monday','Shelbyville')\n",
    "number_tracks('Monday', 'Springfield')"
   ]
  },
  {
   "cell_type": "code",
   "execution_count": 23,
   "metadata": {
    "id": "_NTy2VPU_Zcu"
   },
   "outputs": [
    {
     "data": {
      "text/plain": [
       "10865"
      ]
     },
     "execution_count": 23,
     "metadata": {},
     "output_type": "execute_result"
    }
   ],
   "source": [
    "# the number of songs played in Springfield on Wednesday\n",
    "number_tracks('Wednesday','Springfield')\n"
   ]
  },
  {
   "cell_type": "code",
   "execution_count": 24,
   "metadata": {
    "id": "j2y3TAwo_Zcu"
   },
   "outputs": [
    {
     "data": {
      "text/plain": [
       "6913"
      ]
     },
     "execution_count": 24,
     "metadata": {},
     "output_type": "execute_result"
    }
   ],
   "source": [
    "# the number of songs played in Shelbyville on Wednesday\n",
    "number_tracks('Wednesday','Shelbyville')"
   ]
  },
  {
   "cell_type": "code",
   "execution_count": 25,
   "metadata": {
    "id": "vYDw5u_K_Zcu"
   },
   "outputs": [
    {
     "data": {
      "text/plain": [
       "15680"
      ]
     },
     "execution_count": 25,
     "metadata": {},
     "output_type": "execute_result"
    }
   ],
   "source": [
    "# the number of songs played in Springfield on Friday\n",
    "number_tracks('Friday', 'Springfield')"
   ]
  },
  {
   "cell_type": "code",
   "execution_count": 26,
   "metadata": {},
   "outputs": [
    {
     "data": {
      "text/plain": [
       "5802"
      ]
     },
     "execution_count": 26,
     "metadata": {},
     "output_type": "execute_result"
    }
   ],
   "source": [
    "# the number of songs played in Springfield on Friday\n",
    "number_tracks('Friday', 'Shelbyville')"
   ]
  },
  {
   "cell_type": "code",
   "execution_count": 27,
   "metadata": {},
   "outputs": [
    {
     "data": {
      "text/html": [
       "<div>\n",
       "<style scoped>\n",
       "    .dataframe tbody tr th:only-of-type {\n",
       "        vertical-align: middle;\n",
       "    }\n",
       "\n",
       "    .dataframe tbody tr th {\n",
       "        vertical-align: top;\n",
       "    }\n",
       "\n",
       "    .dataframe thead th {\n",
       "        text-align: right;\n",
       "    }\n",
       "</style>\n",
       "<table border=\"1\" class=\"dataframe\">\n",
       "  <thead>\n",
       "    <tr style=\"text-align: right;\">\n",
       "      <th></th>\n",
       "      <th>city</th>\n",
       "      <th>monday</th>\n",
       "      <th>wednesday</th>\n",
       "      <th>fiday</th>\n",
       "    </tr>\n",
       "  </thead>\n",
       "  <tbody>\n",
       "    <tr>\n",
       "      <td>0</td>\n",
       "      <td>Shelbyville</td>\n",
       "      <td>5519</td>\n",
       "      <td>6913</td>\n",
       "      <td>5802</td>\n",
       "    </tr>\n",
       "    <tr>\n",
       "      <td>1</td>\n",
       "      <td>Springfield</td>\n",
       "      <td>15347</td>\n",
       "      <td>10865</td>\n",
       "      <td>15680</td>\n",
       "    </tr>\n",
       "  </tbody>\n",
       "</table>\n",
       "</div>"
      ],
      "text/plain": [
       "          city  monday  wednesday  fiday\n",
       "0  Shelbyville    5519       6913   5802\n",
       "1  Springfield   15347      10865  15680"
      ]
     },
     "metadata": {},
     "output_type": "display_data"
    }
   ],
   "source": [
    "# Creating table using pd.DataFrame\n",
    "\n",
    "our_data = [['Shelbyville',5519, 6913, 5802 ],\n",
    "           ['Springfield',15347, 10865, 15680]]\n",
    "columns = ['city','monday','wednesday','fiday']\n",
    "\n",
    "metrics = pd.DataFrame(data=our_data,columns=columns)\n",
    "display(metrics)"
   ]
  },
  {
   "cell_type": "markdown",
   "metadata": {
    "id": "-EgPIHYu_Zcu"
   },
   "source": [
    "**Conclusions**\n",
    "\n",
    "The data reveals differences in user behavior:\n",
    "\n",
    "- In Springfield, the number of songs played peaks on Mondays and Fridays, while on Wednesday there is a decrease in activity.\n",
    "- In Shelbyville, on the contrary, users listen to music more on Wednesday. User activity on Monday and Friday is smaller.\n",
    "\n",
    "So the first hypothesis seems to be correct."
   ]
  },
  {
   "cell_type": "markdown",
   "metadata": {
    "id": "p7nFQajCVw5B"
   },
   "source": [
    "[Back to Contents](#back)"
   ]
  },
  {
   "cell_type": "markdown",
   "metadata": {
    "id": "atZAxtq4_Zcu"
   },
   "source": [
    "### Hypothesis 2: music at the beginning and end of the week <a id='week'></a>"
   ]
  },
  {
   "cell_type": "markdown",
   "metadata": {
    "id": "eXrQqXFH_Zcu"
   },
   "source": [
    "According to the second hypothesis, on Monday morning and Friday night, citizens of Springfield listen to genres that differ from ones users from Shelbyville enjoy."
   ]
  },
  {
   "cell_type": "markdown",
   "metadata": {
    "id": "S8UcW6Hw_Zcu"
   },
   "source": [
    "Get tables (make sure that the name of your combined table matches the DataFrame given in the two code blocks below):\n",
    "* For Springfield — `spr_general`\n",
    "* For Shelbyville — `shel_general`"
   ]
  },
  {
   "cell_type": "code",
   "execution_count": 28,
   "metadata": {
    "id": "qeaFfM_P_Zcu"
   },
   "outputs": [],
   "source": [
    "# obtaining the spr_general table from the df rows, \n",
    "# where the value in the 'city' column is 'Springfield'\n",
    "\n",
    "#spr_general = df[df['city'] == 'Springfield']['city']\n",
    "#print(spr_general)\n",
    "\n",
    "spr_general = df[df['city'] == 'Springfield']\n",
    "\n"
   ]
  },
  {
   "cell_type": "code",
   "execution_count": 29,
   "metadata": {
    "id": "ORaVRKto_Zcu"
   },
   "outputs": [],
   "source": [
    "# obtaining the shel_general from the df rows,\n",
    "# where the value in the 'city' column is 'Shelbyville'\n",
    "\n",
    "#shel_general = df[df['city'] == 'Shelbyville']['city']\n",
    "#print(shel_general)\n",
    "\n",
    "shel_general = df[df['city'] == 'Shelbyville']\n"
   ]
  },
  {
   "cell_type": "markdown",
   "metadata": {
    "id": "MEJV-CX2_Zcu"
   },
   "source": [
    "Write the `genre_weekday()` function with four parameters:\n",
    "* A table for data\n",
    "* The day of the week\n",
    "* The first timestamp, in 'hh:mm' format\n",
    "* The last timestamp, in 'hh:mm' format\n",
    "\n",
    "The function should return info on the 15 most popular genres on a given day within the period between the two timestamps."
   ]
  },
  {
   "cell_type": "code",
   "execution_count": 30,
   "metadata": {
    "id": "laJT9BYl_Zcu"
   },
   "outputs": [
    {
     "name": "stdout",
     "output_type": "stream",
     "text": [
      "\n"
     ]
    }
   ],
   "source": [
    "# Declaring the genre_weekday() function with the parameters day=, time1=, and time2=. It should\n",
    "# return information about the most popular genres on a given day at a given time:\n",
    "\n",
    "# 1) Let the genre_df variable store the rows that meet several conditions:\n",
    "#    - the value in the 'day' column is equal to the value of the day= argument\n",
    "#    - the value in the 'time' column is greater than the value of the time1= argument\n",
    "#    - the value in the 'time' column is smaller than the value of the time2= argument\n",
    "#    Use consecutive filtering with logical indexing.\n",
    "\n",
    "# 2) Group genre_df by the 'genre' column, take one of its columns, \n",
    "#    and use the count() method to find the number of entries for each of \n",
    "#    the represented genres; store the resulting Series to the\n",
    "#    genre_df_count variable\n",
    "\n",
    "# 3) Sort genre_df_count in descending order of frequency and store the result\n",
    "#    to the genre_df_sorted variable\n",
    "\n",
    "# 4) Return a Series object with the first 15 genre_df_sorted value - the 15 most\n",
    "#    popular genres (on a given day, within a certain timeframe)\n",
    "\n",
    "def genre_weekday(df, day, time1, time2):\n",
    "    # consecutive filtering\n",
    "    # genre_df will store only those df rows where the day is equal to day=\n",
    "    genre_df = df[df['day']== day]\n",
    "    \n",
    "    # genre_df will store only those df rows where the time is smaller than time2=\n",
    "    genre_df = genre_df[genre_df['time'] < time2]\n",
    "    \n",
    "    # genre_df will store only those df rows where the time is greater than time1=\n",
    "    genre_df = genre_df[genre_df['time'] > time1]\n",
    "    \n",
    "    # group the filtered DataFrame by the column with the names of genres, take the genre column, and find the number of rows for each genre with the count() method\n",
    "    genre_df_grouped = genre_df.groupby('genre')['genre'].count()\n",
    "    \n",
    "    # we will sort the result in descending order (so that the most popular genres come first in the Series object)\n",
    "    genre_df_sorted = genre_df_grouped.sort_values(ascending=False)\n",
    "    \n",
    "    # we will return the Series object storing the 15 most popular genres on a given day in a given timeframe\n",
    "    return genre_df_sorted[:15]\n",
    "print()"
   ]
  },
  {
   "cell_type": "markdown",
   "metadata": {
    "id": "la2s2_PF_Zcu"
   },
   "source": [
    "Compare the results of the `genre_weekday()` function for Springfield and Shelbyville on Monday morning (from 7AM to 11AM) and on Friday evening (from 17:00 to 23:00):"
   ]
  },
  {
   "cell_type": "code",
   "execution_count": 31,
   "metadata": {
    "id": "yz7itPUQ_Zcu"
   },
   "outputs": [
    {
     "data": {
      "text/plain": [
       "genre\n",
       "pop            781\n",
       "dance          549\n",
       "electronic     480\n",
       "rock           474\n",
       "hiphop         286\n",
       "ruspop         186\n",
       "world          181\n",
       "rusrap         175\n",
       "alternative    164\n",
       "classical      157\n",
       "metal          120\n",
       "jazz           100\n",
       "folk            97\n",
       "soundtrack      95\n",
       "latin           79\n",
       "Name: genre, dtype: int64"
      ]
     },
     "execution_count": 31,
     "metadata": {},
     "output_type": "execute_result"
    }
   ],
   "source": [
    "# calling the function for Monday morning in Springfield use spr_general instead of the df table) \n",
    "\n",
    "genre_weekday(spr_general, 'Monday', '07:00', '11:00')"
   ]
  },
  {
   "cell_type": "code",
   "execution_count": 32,
   "metadata": {
    "id": "kwUcHPdy_Zcu"
   },
   "outputs": [
    {
     "data": {
      "text/plain": [
       "genre\n",
       "pop            218\n",
       "dance          182\n",
       "rock           162\n",
       "electronic     147\n",
       "hiphop          80\n",
       "ruspop          64\n",
       "alternative     58\n",
       "rusrap          55\n",
       "jazz            44\n",
       "classical       40\n",
       "world           36\n",
       "rap             32\n",
       "soundtrack      31\n",
       "metal           27\n",
       "rnb             27\n",
       "Name: genre, dtype: int64"
      ]
     },
     "execution_count": 32,
     "metadata": {},
     "output_type": "execute_result"
    }
   ],
   "source": [
    "# calling the function for Monday morning in Shelbyville (use shel_general instead of the df table)\n",
    "\n",
    "genre_weekday(shel_general, 'Monday', '07:00', '11:00')"
   ]
  },
  {
   "cell_type": "code",
   "execution_count": 33,
   "metadata": {
    "id": "EzXVRE1o_Zcu"
   },
   "outputs": [
    {
     "data": {
      "text/plain": [
       "genre\n",
       "pop            713\n",
       "rock           517\n",
       "dance          495\n",
       "electronic     482\n",
       "hiphop         273\n",
       "world          208\n",
       "ruspop         170\n",
       "classical      163\n",
       "alternative    163\n",
       "rusrap         142\n",
       "jazz           111\n",
       "soundtrack     105\n",
       "rnb             90\n",
       "metal           88\n",
       "folk            83\n",
       "Name: genre, dtype: int64"
      ]
     },
     "execution_count": 33,
     "metadata": {},
     "output_type": "execute_result"
    }
   ],
   "source": [
    "# calling the function for Friday evening in Springfield\n",
    "\n",
    "genre_weekday(spr_general, 'Friday', '17:00', '23:00')"
   ]
  },
  {
   "cell_type": "code",
   "execution_count": 34,
   "metadata": {
    "id": "JZaEKu5v_Zcu"
   },
   "outputs": [
    {
     "data": {
      "text/plain": [
       "genre\n",
       "pop            256\n",
       "electronic     216\n",
       "rock           216\n",
       "dance          210\n",
       "hiphop          97\n",
       "alternative     63\n",
       "jazz            61\n",
       "classical       60\n",
       "rusrap          59\n",
       "world           54\n",
       "ruspop          47\n",
       "soundtrack      40\n",
       "metal           39\n",
       "rap             36\n",
       "latin           35\n",
       "Name: genre, dtype: int64"
      ]
     },
     "execution_count": 34,
     "metadata": {},
     "output_type": "execute_result"
    }
   ],
   "source": [
    "# calling the function for Friday evening in Shelbyville\n",
    "\n",
    "genre_weekday(shel_general, 'Friday', '17:00', '23:00')"
   ]
  },
  {
   "cell_type": "markdown",
   "metadata": {
    "id": "wrCe4MNX_Zcu"
   },
   "source": [
    "**Conclusion**\n",
    "\n",
    "Having compared the top 15 genres on Monday morning, we can draw the following conclusions:\n",
    "\n",
    "1. Users from Springfield and Shelbyville listen to similar music. The top five genres are the same, only rock and electronic have switched places.\n",
    "\n",
    "2. In Springfield, the number of missing values turned out to be so big that the value `'unknown'` came in 10th. This means that missing values make up a considerable portion of the data, which may be a basis for questioning the reliability of our conclusions.\n",
    "\n",
    "For Friday evening, the situation is similar. Individual genres vary somewhat, but on the whole, the top 15 is similar for the two cities.\n",
    "\n",
    "Thus, the second hypothesis has been partially proven true:\n",
    "* Users listen to similar music at the beginning and end of the week.\n",
    "* There is no major difference between Springfield and Shelbyville. In both cities, pop is the most popular genre.\n",
    "\n",
    "However, the number of missing values makes this result questionable. In Springfield, there are so many that they affect our top 15. Were we not missing these values, things might look different."
   ]
  },
  {
   "cell_type": "markdown",
   "metadata": {
    "id": "jLmXgdanVyhP"
   },
   "source": [
    "[Back to Contents](#back)"
   ]
  },
  {
   "cell_type": "markdown",
   "metadata": {
    "id": "JolODAqr_Zcu"
   },
   "source": [
    "### Hypothesis 3: genre preferences in Springfield and Shelbyville <a id='genre'></a>\n",
    "\n",
    "Hypothesis: Shelbyville loves rap music. Springfield's citizens are more into pop."
   ]
  },
  {
   "cell_type": "markdown",
   "metadata": {
    "id": "DlegSvaT_Zcu"
   },
   "source": [
    "Group the `spr_general` table by genre and find the number of songs played for each genre with the `count()` method. Then sort the result in descending order and store it to `spr_genres`."
   ]
  },
  {
   "cell_type": "code",
   "execution_count": 35,
   "metadata": {
    "id": "r19lIPke_Zcu"
   },
   "outputs": [],
   "source": [
    "# on one line: group the spr_general table by the 'genre' column, \n",
    "# count the 'genre' values with count() in the grouping, \n",
    "# sort the resulting Series in descending order, and store it to spr_genres\n",
    "\n",
    "c = df[df['city']== 'Springfield']\n",
    "\n",
    "\n",
    "spr_genres = c.groupby('genre')['track'].count()\n",
    "spr_genres= spr_genres.sort_values(ascending=False)\n"
   ]
  },
  {
   "cell_type": "markdown",
   "metadata": {
    "id": "6kMuomxTiIr8"
   },
   "source": [
    "Print the first 10 rows from `spr_genres`:"
   ]
  },
  {
   "cell_type": "code",
   "execution_count": 36,
   "metadata": {
    "id": "WhCSooF8_Zcv"
   },
   "outputs": [
    {
     "data": {
      "text/plain": [
       "genre\n",
       "pop            5892\n",
       "dance          4435\n",
       "rock           3965\n",
       "electronic     3786\n",
       "hiphop         2096\n",
       "classical      1616\n",
       "world          1432\n",
       "alternative    1379\n",
       "ruspop         1372\n",
       "rusrap         1161\n",
       "Name: track, dtype: int64"
      ]
     },
     "execution_count": 36,
     "metadata": {},
     "output_type": "execute_result"
    }
   ],
   "source": [
    "# printing the first 10 rows of spr_genres\n",
    "spr_genres.head(10)"
   ]
  },
  {
   "cell_type": "markdown",
   "metadata": {
    "id": "cnPG2vnN_Zcv"
   },
   "source": [
    "Now do the same with the data on Shelbyville.\n",
    "\n",
    "Group the `shel_general` table by genre and find the number of songs played for each genre. Then sort the result in descending order and store it to the `shel_genres` table:\n"
   ]
  },
  {
   "cell_type": "code",
   "execution_count": 37,
   "metadata": {
    "id": "gluLIpE7_Zcv"
   },
   "outputs": [],
   "source": [
    "# on one line: group the shel_general table by the 'genre' column, \n",
    "# count the 'genre' values in the grouping with count(), \n",
    "# sort the resulting Series in descending order and store it to shel_genre\n",
    "\n",
    "\n",
    "c2 =df[df['city']== 'Shelbyville']\n",
    "\n",
    "shel_genres = c2.groupby('genre')['track'].count()\n",
    "shel_genres = shel_genres.sort_values(ascending=False) \n"
   ]
  },
  {
   "cell_type": "markdown",
   "metadata": {
    "id": "5Doha_ODgyQ8"
   },
   "source": [
    "Print the first 10 rows of `shel_genres`:"
   ]
  },
  {
   "cell_type": "code",
   "execution_count": 38,
   "metadata": {
    "id": "uaGJHjVU_Zcv"
   },
   "outputs": [
    {
     "data": {
      "text/plain": [
       "genre\n",
       "pop            2431\n",
       "dance          1932\n",
       "rock           1879\n",
       "electronic     1736\n",
       "hiphop          960\n",
       "alternative     649\n",
       "classical       646\n",
       "rusrap          564\n",
       "ruspop          538\n",
       "world           515\n",
       "Name: track, dtype: int64"
      ]
     },
     "execution_count": 38,
     "metadata": {},
     "output_type": "execute_result"
    }
   ],
   "source": [
    "# printing the first 10 rows from shel_genres\n",
    "shel_genres.head(10)"
   ]
  },
  {
   "cell_type": "markdown",
   "metadata": {
    "id": "RY51YJYu_Zcv"
   },
   "source": [
    "**Conclusion**"
   ]
  },
  {
   "cell_type": "markdown",
   "metadata": {
    "id": "nVhnJEm__Zcv"
   },
   "source": [
    "The hypothesis has been partially proven true:\n",
    "* Pop music is the most popular genre in Springfield, as expected.\n",
    "* However, pop music turned out to be equally popular in Springfield and Shelbyville, and rap wasn't in the top 5 for either city.\n"
   ]
  },
  {
   "cell_type": "markdown",
   "metadata": {
    "id": "Byr0RfpPVz14"
   },
   "source": [
    "[Back to Contents](#back)"
   ]
  },
  {
   "cell_type": "markdown",
   "metadata": {
    "id": "ykKQ0N65_Zcv"
   },
   "source": [
    "# Findings <a id='end'></a>"
   ]
  },
  {
   "cell_type": "markdown",
   "metadata": {
    "id": "tjUwbHb3_Zcv"
   },
   "source": [
    "We have tested the following three hypotheses:\n",
    "\n",
    "1. User activity differs depending on the day of the week and from city to city. \n",
    "2. On Monday mornings, Springfield and Shelbyville residents listen to different genres. This is also true for Friday evenings. \n",
    "3. Springfield and Shelbyville listeners have different preferences. In both Springfield and Shelbyville, they prefer pop.\n",
    "\n",
    "After analyzing the data, we concluded:\n",
    "\n",
    "1. User activity in Springfield and Shelbyville depends on the day of the week, though the cities vary in different ways. \n",
    "\n",
    "The first hypothesis is fully accepted.\n",
    "\n",
    "2. Musical preferences do not vary significantly over the course of the week in both Springfield and Shelbyville. We can see small differences in order on Mondays, but:\n",
    "* In Springfield and Shelbyville, people listen to pop music most.\n",
    "\n",
    "So we can't accept this hypothesis. We must also keep in mind that the result could have been different if not for the missing values.\n",
    "\n",
    "3. It turns out that the musical preferences of users from Springfield and Shelbyville are quite similar.\n",
    "\n",
    "The third hypothesis is rejected. If there is any difference in preferences, it cannot be seen from this data.\n",
    "\n",
    "### Note \n",
    "In real projects, research involves statistical hypothesis testing, which is more precise and more quantitative. Also note that you cannot always draw conclusions about an entire city based on the data from just one source.\n",
    "\n",
    "You will study hypothesis testing in the sprint on statistical data analysis."
   ]
  },
  {
   "cell_type": "markdown",
   "metadata": {
    "id": "Ju4AHDSgV1FE"
   },
   "source": [
    "[Back to Contents](#back)"
   ]
  },
  {
   "cell_type": "code",
   "execution_count": null,
   "metadata": {},
   "outputs": [],
   "source": []
  }
 ],
 "metadata": {
  "ExecuteTimeLog": [
   {
    "duration": 339,
    "start_time": "2022-01-02T22:23:00.635Z"
   },
   {
    "duration": 956,
    "start_time": "2022-01-02T22:23:14.277Z"
   },
   {
    "duration": 10,
    "start_time": "2022-01-02T22:24:59.516Z"
   },
   {
    "duration": 30,
    "start_time": "2022-01-02T22:25:52.785Z"
   },
   {
    "duration": 5,
    "start_time": "2022-01-02T22:34:42.682Z"
   },
   {
    "duration": 51,
    "start_time": "2022-01-02T22:39:29.769Z"
   },
   {
    "duration": 4,
    "start_time": "2022-01-02T22:40:24.409Z"
   },
   {
    "duration": 98,
    "start_time": "2022-01-02T22:41:17.167Z"
   },
   {
    "duration": 93,
    "start_time": "2022-01-02T22:41:24.923Z"
   },
   {
    "duration": 39,
    "start_time": "2022-01-02T22:41:33.201Z"
   },
   {
    "duration": 337,
    "start_time": "2022-01-02T23:30:46.337Z"
   },
   {
    "duration": 288,
    "start_time": "2022-01-02T23:31:12.718Z"
   },
   {
    "duration": 99,
    "start_time": "2022-01-02T23:32:03.800Z"
   },
   {
    "duration": 290,
    "start_time": "2022-01-02T23:32:29.367Z"
   },
   {
    "duration": 348,
    "start_time": "2022-01-02T23:32:49.517Z"
   },
   {
    "duration": 278,
    "start_time": "2022-01-02T23:33:11.677Z"
   },
   {
    "duration": 267,
    "start_time": "2022-01-02T23:34:21.463Z"
   },
   {
    "duration": 302,
    "start_time": "2022-01-02T23:35:18.596Z"
   },
   {
    "duration": 277,
    "start_time": "2022-01-02T23:35:54.457Z"
   },
   {
    "duration": 276,
    "start_time": "2022-01-02T23:36:05.784Z"
   },
   {
    "duration": 277,
    "start_time": "2022-01-02T23:36:38.284Z"
   },
   {
    "duration": 962,
    "start_time": "2022-01-02T23:37:53.578Z"
   },
   {
    "duration": 197,
    "start_time": "2022-01-02T23:38:01.888Z"
   },
   {
    "duration": 9,
    "start_time": "2022-01-02T23:38:15.472Z"
   },
   {
    "duration": 32,
    "start_time": "2022-01-02T23:38:29.077Z"
   },
   {
    "duration": 31,
    "start_time": "2022-01-02T23:42:55.721Z"
   },
   {
    "duration": 4,
    "start_time": "2022-01-02T23:43:05.924Z"
   },
   {
    "duration": 9,
    "start_time": "2022-01-03T00:32:16.505Z"
   },
   {
    "duration": 28,
    "start_time": "2022-01-03T00:33:38.316Z"
   },
   {
    "duration": 7050,
    "start_time": "2022-01-03T00:40:05.528Z"
   },
   {
    "duration": 7189,
    "start_time": "2022-01-03T00:41:52.992Z"
   },
   {
    "duration": 718,
    "start_time": "2022-01-03T00:42:58.634Z"
   },
   {
    "duration": 34,
    "start_time": "2022-01-03T00:43:20.124Z"
   },
   {
    "duration": 29,
    "start_time": "2022-01-03T00:43:41.954Z"
   },
   {
    "duration": 28,
    "start_time": "2022-01-03T00:44:58.526Z"
   },
   {
    "duration": 100,
    "start_time": "2022-01-03T02:08:29.872Z"
   },
   {
    "duration": 75,
    "start_time": "2022-01-03T02:10:42.442Z"
   },
   {
    "duration": 7155,
    "start_time": "2022-01-03T02:12:02.610Z"
   },
   {
    "duration": 9,
    "start_time": "2022-01-03T02:12:34.850Z"
   },
   {
    "duration": 293,
    "start_time": "2022-01-03T02:24:07.023Z"
   },
   {
    "duration": 84,
    "start_time": "2022-01-03T02:24:51.139Z"
   },
   {
    "duration": 101,
    "start_time": "2022-01-03T02:25:00.289Z"
   },
   {
    "duration": 274,
    "start_time": "2022-01-03T02:25:16.528Z"
   },
   {
    "duration": 9,
    "start_time": "2022-01-03T02:25:34.821Z"
   },
   {
    "duration": 94,
    "start_time": "2022-01-03T02:41:47.289Z"
   },
   {
    "duration": 27,
    "start_time": "2022-01-03T02:52:38.660Z"
   },
   {
    "duration": 90,
    "start_time": "2022-01-03T02:55:14.570Z"
   },
   {
    "duration": 5,
    "start_time": "2022-01-03T02:58:46.408Z"
   },
   {
    "duration": 7,
    "start_time": "2022-01-03T02:59:16.998Z"
   },
   {
    "duration": 7,
    "start_time": "2022-01-03T03:05:34.594Z"
   },
   {
    "duration": 273,
    "start_time": "2022-01-03T03:06:20.137Z"
   },
   {
    "duration": 273,
    "start_time": "2022-01-03T03:06:31.855Z"
   },
   {
    "duration": 263,
    "start_time": "2022-01-03T03:06:38.339Z"
   },
   {
    "duration": 269,
    "start_time": "2022-01-03T03:06:58.310Z"
   },
   {
    "duration": 7,
    "start_time": "2022-01-03T03:07:30.813Z"
   },
   {
    "duration": 8,
    "start_time": "2022-01-03T03:09:50.751Z"
   },
   {
    "duration": 10,
    "start_time": "2022-01-03T03:16:23.762Z"
   },
   {
    "duration": 290,
    "start_time": "2022-01-03T03:26:07.790Z"
   },
   {
    "duration": 460,
    "start_time": "2022-01-03T03:26:38.337Z"
   },
   {
    "duration": 474,
    "start_time": "2022-01-03T03:28:38.274Z"
   },
   {
    "duration": 27,
    "start_time": "2022-01-03T03:30:16.994Z"
   },
   {
    "duration": 8,
    "start_time": "2022-01-03T03:33:29.992Z"
   },
   {
    "duration": 6,
    "start_time": "2022-01-03T03:34:18.103Z"
   },
   {
    "duration": 93,
    "start_time": "2022-01-03T19:29:31.331Z"
   },
   {
    "duration": 362,
    "start_time": "2022-01-03T19:29:41.314Z"
   },
   {
    "duration": 292,
    "start_time": "2022-01-03T19:30:13.618Z"
   },
   {
    "duration": 305,
    "start_time": "2022-01-03T19:30:25.486Z"
   },
   {
    "duration": 281,
    "start_time": "2022-01-03T19:32:46.557Z"
   },
   {
    "duration": 3,
    "start_time": "2022-01-03T19:33:16.979Z"
   },
   {
    "duration": 270,
    "start_time": "2022-01-03T19:34:30.802Z"
   },
   {
    "duration": 110,
    "start_time": "2022-01-03T19:35:41.950Z"
   },
   {
    "duration": 258,
    "start_time": "2022-01-03T19:35:54.300Z"
   },
   {
    "duration": 294,
    "start_time": "2022-01-03T19:36:19.061Z"
   },
   {
    "duration": 288,
    "start_time": "2022-01-03T19:37:59.978Z"
   },
   {
    "duration": 274,
    "start_time": "2022-01-03T19:38:49.423Z"
   },
   {
    "duration": 97,
    "start_time": "2022-01-03T19:40:38.565Z"
   },
   {
    "duration": 285,
    "start_time": "2022-01-03T19:40:44.449Z"
   },
   {
    "duration": 327,
    "start_time": "2022-01-03T19:45:56.878Z"
   },
   {
    "duration": 294,
    "start_time": "2022-01-03T19:46:05.481Z"
   },
   {
    "duration": 126,
    "start_time": "2022-01-03T19:47:45.091Z"
   },
   {
    "duration": 144,
    "start_time": "2022-01-03T19:47:52.843Z"
   },
   {
    "duration": 267,
    "start_time": "2022-01-03T19:48:12.242Z"
   },
   {
    "duration": 381,
    "start_time": "2022-01-03T19:48:41.715Z"
   },
   {
    "duration": 960,
    "start_time": "2022-01-03T19:49:11.027Z"
   },
   {
    "duration": 191,
    "start_time": "2022-01-03T19:49:16.981Z"
   },
   {
    "duration": 10,
    "start_time": "2022-01-03T19:49:20.845Z"
   },
   {
    "duration": 31,
    "start_time": "2022-01-03T19:49:26.519Z"
   },
   {
    "duration": 4,
    "start_time": "2022-01-03T19:49:41.352Z"
   },
   {
    "duration": 29,
    "start_time": "2022-01-03T19:49:49.667Z"
   },
   {
    "duration": 4,
    "start_time": "2022-01-03T19:49:51.542Z"
   },
   {
    "duration": 29,
    "start_time": "2022-01-03T19:49:56.696Z"
   },
   {
    "duration": 38,
    "start_time": "2022-01-03T19:49:59.763Z"
   },
   {
    "duration": 28,
    "start_time": "2022-01-03T19:50:01.157Z"
   },
   {
    "duration": 26,
    "start_time": "2022-01-03T19:50:09.055Z"
   },
   {
    "duration": 101,
    "start_time": "2022-01-03T19:50:13.165Z"
   },
   {
    "duration": 73,
    "start_time": "2022-01-03T19:50:14.525Z"
   },
   {
    "duration": 9,
    "start_time": "2022-01-03T19:50:20.003Z"
   },
   {
    "duration": 29,
    "start_time": "2022-01-03T19:50:24.421Z"
   },
   {
    "duration": 3,
    "start_time": "2022-01-03T19:50:29.092Z"
   },
   {
    "duration": 6,
    "start_time": "2022-01-03T19:50:34.719Z"
   },
   {
    "duration": 11,
    "start_time": "2022-01-03T19:50:48.305Z"
   },
   {
    "duration": 424,
    "start_time": "2022-01-03T19:51:32.855Z"
   },
   {
    "duration": 276,
    "start_time": "2022-01-03T19:51:53.745Z"
   },
   {
    "duration": 272,
    "start_time": "2022-01-03T19:52:17.122Z"
   },
   {
    "duration": 287,
    "start_time": "2022-01-03T19:53:48.453Z"
   },
   {
    "duration": 278,
    "start_time": "2022-01-03T19:56:26.385Z"
   },
   {
    "duration": 8,
    "start_time": "2022-01-03T19:56:48.133Z"
   },
   {
    "duration": 25,
    "start_time": "2022-01-03T19:56:57.148Z"
   },
   {
    "duration": 270,
    "start_time": "2022-01-03T19:57:27.204Z"
   },
   {
    "duration": 13,
    "start_time": "2022-01-03T19:58:55.565Z"
   },
   {
    "duration": 41,
    "start_time": "2022-01-03T20:00:57.849Z"
   },
   {
    "duration": 7,
    "start_time": "2022-01-03T20:01:16.027Z"
   },
   {
    "duration": 9,
    "start_time": "2022-01-03T20:01:59.123Z"
   },
   {
    "duration": 295,
    "start_time": "2022-01-03T20:03:22.033Z"
   },
   {
    "duration": 287,
    "start_time": "2022-01-03T20:03:44.334Z"
   },
   {
    "duration": 273,
    "start_time": "2022-01-03T20:04:06.539Z"
   },
   {
    "duration": 14,
    "start_time": "2022-01-03T20:05:32.103Z"
   },
   {
    "duration": 4,
    "start_time": "2022-01-03T20:05:38.759Z"
   },
   {
    "duration": 290,
    "start_time": "2022-01-03T20:06:14.525Z"
   },
   {
    "duration": 306,
    "start_time": "2022-01-03T20:06:36.320Z"
   },
   {
    "duration": 17,
    "start_time": "2022-01-03T20:07:07.769Z"
   },
   {
    "duration": 4,
    "start_time": "2022-01-03T20:07:12.828Z"
   },
   {
    "duration": 42,
    "start_time": "2022-01-03T20:08:01.481Z"
   },
   {
    "duration": 15,
    "start_time": "2022-01-03T21:52:41.139Z"
   },
   {
    "duration": 14,
    "start_time": "2022-01-03T21:53:21.325Z"
   },
   {
    "duration": 39,
    "start_time": "2022-01-03T22:00:40.092Z"
   },
   {
    "duration": 361,
    "start_time": "2022-01-03T22:36:11.060Z"
   },
   {
    "duration": 312,
    "start_time": "2022-01-03T22:46:05.992Z"
   },
   {
    "duration": 286,
    "start_time": "2022-01-03T22:46:19.981Z"
   },
   {
    "duration": 94,
    "start_time": "2022-01-03T22:46:34.107Z"
   },
   {
    "duration": 110,
    "start_time": "2022-01-03T22:46:56.337Z"
   },
   {
    "duration": 4,
    "start_time": "2022-01-03T22:49:50.744Z"
   },
   {
    "duration": 41,
    "start_time": "2022-01-03T22:50:16.628Z"
   },
   {
    "duration": 4272,
    "start_time": "2022-01-03T22:50:59.732Z"
   },
   {
    "duration": 39,
    "start_time": "2022-01-03T22:51:14.703Z"
   },
   {
    "duration": 129,
    "start_time": "2022-01-03T23:05:28.428Z"
   },
   {
    "duration": 112,
    "start_time": "2022-01-03T23:07:07.677Z"
   },
   {
    "duration": 5,
    "start_time": "2022-01-03T23:07:29.437Z"
   },
   {
    "duration": 283,
    "start_time": "2022-01-03T23:10:32.218Z"
   },
   {
    "duration": 4029,
    "start_time": "2022-01-03T23:11:01.159Z"
   },
   {
    "duration": -557,
    "start_time": "2022-01-03T23:11:05.748Z"
   },
   {
    "duration": 4,
    "start_time": "2022-01-03T23:11:06.161Z"
   },
   {
    "duration": 5,
    "start_time": "2022-01-03T23:19:14.668Z"
   },
   {
    "duration": 18,
    "start_time": "2022-01-03T23:19:25.337Z"
   },
   {
    "duration": 14,
    "start_time": "2022-01-03T23:21:06.927Z"
   },
   {
    "duration": 18,
    "start_time": "2022-01-03T23:21:53.349Z"
   },
   {
    "duration": 15,
    "start_time": "2022-01-03T23:22:29.039Z"
   },
   {
    "duration": 18,
    "start_time": "2022-01-03T23:24:41.212Z"
   },
   {
    "duration": 291,
    "start_time": "2022-01-04T00:12:54.034Z"
   },
   {
    "duration": 358,
    "start_time": "2022-01-04T00:13:44.335Z"
   },
   {
    "duration": 296,
    "start_time": "2022-01-04T00:14:07.159Z"
   },
   {
    "duration": 4,
    "start_time": "2022-01-04T00:23:26.732Z"
   },
   {
    "duration": 101,
    "start_time": "2022-01-04T00:24:31.149Z"
   },
   {
    "duration": 105,
    "start_time": "2022-01-04T00:25:10.243Z"
   },
   {
    "duration": 706,
    "start_time": "2022-01-04T05:55:32.791Z"
   },
   {
    "duration": 132,
    "start_time": "2022-01-04T05:55:33.499Z"
   },
   {
    "duration": 10,
    "start_time": "2022-01-04T05:55:33.633Z"
   },
   {
    "duration": 52,
    "start_time": "2022-01-04T05:55:33.645Z"
   },
   {
    "duration": 14,
    "start_time": "2022-01-04T05:55:33.699Z"
   },
   {
    "duration": 50,
    "start_time": "2022-01-04T05:55:33.715Z"
   },
   {
    "duration": 21,
    "start_time": "2022-01-04T05:55:33.766Z"
   },
   {
    "duration": 38,
    "start_time": "2022-01-04T05:55:33.789Z"
   },
   {
    "duration": 51,
    "start_time": "2022-01-04T05:55:33.829Z"
   },
   {
    "duration": 20,
    "start_time": "2022-01-04T05:55:33.882Z"
   },
   {
    "duration": 35,
    "start_time": "2022-01-04T05:55:33.903Z"
   },
   {
    "duration": 86,
    "start_time": "2022-01-04T05:55:33.939Z"
   },
   {
    "duration": 44,
    "start_time": "2022-01-04T05:55:34.027Z"
   },
   {
    "duration": 5,
    "start_time": "2022-01-04T05:55:34.073Z"
   },
   {
    "duration": 31,
    "start_time": "2022-01-04T05:55:34.080Z"
   },
   {
    "duration": 28,
    "start_time": "2022-01-04T05:55:34.113Z"
   },
   {
    "duration": 3,
    "start_time": "2022-01-04T05:55:34.143Z"
   },
   {
    "duration": 50,
    "start_time": "2022-01-04T05:55:34.148Z"
   },
   {
    "duration": 30,
    "start_time": "2022-01-04T05:55:34.200Z"
   },
   {
    "duration": 4,
    "start_time": "2022-01-04T05:55:34.231Z"
   },
   {
    "duration": 37,
    "start_time": "2022-01-04T05:55:34.236Z"
   },
   {
    "duration": 31,
    "start_time": "2022-01-04T05:55:34.275Z"
   },
   {
    "duration": 25,
    "start_time": "2022-01-04T05:55:34.309Z"
   },
   {
    "duration": 117,
    "start_time": "2022-01-04T05:55:34.336Z"
   },
   {
    "duration": -854,
    "start_time": "2022-01-04T05:55:35.309Z"
   },
   {
    "duration": -858,
    "start_time": "2022-01-04T05:55:35.314Z"
   },
   {
    "duration": -879,
    "start_time": "2022-01-04T05:55:35.336Z"
   },
   {
    "duration": -885,
    "start_time": "2022-01-04T05:55:35.343Z"
   },
   {
    "duration": -971,
    "start_time": "2022-01-04T05:55:35.430Z"
   },
   {
    "duration": -973,
    "start_time": "2022-01-04T05:55:35.433Z"
   },
   {
    "duration": -1019,
    "start_time": "2022-01-04T05:55:35.479Z"
   },
   {
    "duration": -1020,
    "start_time": "2022-01-04T05:55:35.481Z"
   },
   {
    "duration": -1021,
    "start_time": "2022-01-04T05:55:35.483Z"
   },
   {
    "duration": -1024,
    "start_time": "2022-01-04T05:55:35.487Z"
   },
   {
    "duration": -1025,
    "start_time": "2022-01-04T05:55:35.489Z"
   },
   {
    "duration": -1027,
    "start_time": "2022-01-04T05:55:35.492Z"
   },
   {
    "duration": 304,
    "start_time": "2022-01-04T05:56:45.404Z"
   },
   {
    "duration": 11,
    "start_time": "2022-01-04T05:57:14.737Z"
   },
   {
    "duration": 15,
    "start_time": "2022-01-04T05:57:33.997Z"
   },
   {
    "duration": 11,
    "start_time": "2022-01-04T05:58:50.828Z"
   },
   {
    "duration": 10,
    "start_time": "2022-01-04T05:58:52.581Z"
   },
   {
    "duration": 227,
    "start_time": "2022-01-04T06:00:09.934Z"
   },
   {
    "duration": 13,
    "start_time": "2022-01-04T06:06:31.079Z"
   },
   {
    "duration": 10,
    "start_time": "2022-01-04T06:06:38.684Z"
   },
   {
    "duration": 14,
    "start_time": "2022-01-04T06:06:58.749Z"
   },
   {
    "duration": 12,
    "start_time": "2022-01-04T06:07:10.798Z"
   },
   {
    "duration": 11,
    "start_time": "2022-01-04T06:08:24.147Z"
   },
   {
    "duration": 238,
    "start_time": "2022-01-04T06:08:45.260Z"
   },
   {
    "duration": 227,
    "start_time": "2022-01-04T06:09:14.939Z"
   },
   {
    "duration": 230,
    "start_time": "2022-01-04T06:09:20.644Z"
   },
   {
    "duration": 226,
    "start_time": "2022-01-04T06:09:27.422Z"
   },
   {
    "duration": 3679,
    "start_time": "2022-01-04T06:33:07.604Z"
   },
   {
    "duration": 3927,
    "start_time": "2022-01-04T06:33:18.973Z"
   },
   {
    "duration": 3880,
    "start_time": "2022-01-04T06:33:31.842Z"
   },
   {
    "duration": 3976,
    "start_time": "2022-01-04T06:34:28.788Z"
   },
   {
    "duration": 11,
    "start_time": "2022-01-04T06:35:17.980Z"
   },
   {
    "duration": 10,
    "start_time": "2022-01-04T06:35:22.189Z"
   },
   {
    "duration": 4,
    "start_time": "2022-01-04T06:40:34.277Z"
   },
   {
    "duration": 2,
    "start_time": "2022-01-04T06:40:58.341Z"
   },
   {
    "duration": 3163,
    "start_time": "2022-01-04T06:42:05.855Z"
   },
   {
    "duration": 3520,
    "start_time": "2022-01-04T06:44:34.773Z"
   },
   {
    "duration": 15,
    "start_time": "2022-01-04T06:48:13.683Z"
   },
   {
    "duration": 14,
    "start_time": "2022-01-04T06:48:45.225Z"
   },
   {
    "duration": 239,
    "start_time": "2022-01-04T06:54:43.971Z"
   },
   {
    "duration": 251,
    "start_time": "2022-01-04T07:00:25.989Z"
   },
   {
    "duration": 3673,
    "start_time": "2022-01-04T07:03:13.475Z"
   },
   {
    "duration": 3,
    "start_time": "2022-01-04T07:03:32.773Z"
   },
   {
    "duration": 12,
    "start_time": "2022-01-04T07:03:48.824Z"
   },
   {
    "duration": 2,
    "start_time": "2022-01-04T07:09:12.471Z"
   },
   {
    "duration": 237,
    "start_time": "2022-01-04T07:13:50.998Z"
   },
   {
    "duration": 3,
    "start_time": "2022-01-04T07:15:06.359Z"
   },
   {
    "duration": 6001,
    "start_time": "2022-01-04T07:16:05.871Z"
   },
   {
    "duration": 2,
    "start_time": "2022-01-04T07:16:41.432Z"
   },
   {
    "duration": 145,
    "start_time": "2022-01-04T07:16:48.026Z"
   },
   {
    "duration": 130,
    "start_time": "2022-01-04T07:16:48.173Z"
   },
   {
    "duration": 6,
    "start_time": "2022-01-04T07:16:48.306Z"
   },
   {
    "duration": 36,
    "start_time": "2022-01-04T07:16:48.314Z"
   },
   {
    "duration": 8,
    "start_time": "2022-01-04T07:16:48.352Z"
   },
   {
    "duration": 22,
    "start_time": "2022-01-04T07:16:48.362Z"
   },
   {
    "duration": 3,
    "start_time": "2022-01-04T07:16:48.386Z"
   },
   {
    "duration": 25,
    "start_time": "2022-01-04T07:16:48.393Z"
   },
   {
    "duration": 42,
    "start_time": "2022-01-04T07:16:48.421Z"
   },
   {
    "duration": 22,
    "start_time": "2022-01-04T07:16:48.465Z"
   },
   {
    "duration": 23,
    "start_time": "2022-01-04T07:16:48.488Z"
   },
   {
    "duration": 77,
    "start_time": "2022-01-04T07:16:48.513Z"
   },
   {
    "duration": 51,
    "start_time": "2022-01-04T07:16:48.591Z"
   },
   {
    "duration": 5,
    "start_time": "2022-01-04T07:16:48.644Z"
   },
   {
    "duration": 17,
    "start_time": "2022-01-04T07:16:48.651Z"
   },
   {
    "duration": 24,
    "start_time": "2022-01-04T07:16:48.670Z"
   },
   {
    "duration": 4,
    "start_time": "2022-01-04T07:16:48.695Z"
   },
   {
    "duration": 52,
    "start_time": "2022-01-04T07:16:48.701Z"
   },
   {
    "duration": 26,
    "start_time": "2022-01-04T07:16:48.755Z"
   },
   {
    "duration": 4,
    "start_time": "2022-01-04T07:16:48.782Z"
   },
   {
    "duration": 16,
    "start_time": "2022-01-04T07:16:48.788Z"
   },
   {
    "duration": 36,
    "start_time": "2022-01-04T07:16:48.806Z"
   },
   {
    "duration": 13,
    "start_time": "2022-01-04T07:16:48.845Z"
   },
   {
    "duration": 9,
    "start_time": "2022-01-04T07:16:48.860Z"
   },
   {
    "duration": 16,
    "start_time": "2022-01-04T07:16:48.871Z"
   },
   {
    "duration": 19,
    "start_time": "2022-01-04T07:16:48.888Z"
   },
   {
    "duration": 15,
    "start_time": "2022-01-04T07:16:48.908Z"
   },
   {
    "duration": 3,
    "start_time": "2022-01-04T07:16:48.941Z"
   },
   {
    "duration": 3520,
    "start_time": "2022-01-04T07:16:48.946Z"
   },
   {
    "duration": -450,
    "start_time": "2022-01-04T07:16:52.918Z"
   },
   {
    "duration": -453,
    "start_time": "2022-01-04T07:16:52.922Z"
   },
   {
    "duration": -459,
    "start_time": "2022-01-04T07:16:52.930Z"
   },
   {
    "duration": -463,
    "start_time": "2022-01-04T07:16:52.935Z"
   },
   {
    "duration": -465,
    "start_time": "2022-01-04T07:16:52.938Z"
   },
   {
    "duration": -472,
    "start_time": "2022-01-04T07:16:52.947Z"
   },
   {
    "duration": -475,
    "start_time": "2022-01-04T07:16:52.951Z"
   },
   {
    "duration": 121,
    "start_time": "2022-01-04T07:17:06.779Z"
   },
   {
    "duration": 120,
    "start_time": "2022-01-04T07:17:09.568Z"
   },
   {
    "duration": 6,
    "start_time": "2022-01-04T07:17:11.833Z"
   },
   {
    "duration": 21,
    "start_time": "2022-01-04T07:17:13.673Z"
   },
   {
    "duration": 3,
    "start_time": "2022-01-04T07:17:19.134Z"
   },
   {
    "duration": 15,
    "start_time": "2022-01-04T07:17:20.967Z"
   },
   {
    "duration": 3,
    "start_time": "2022-01-04T07:17:22.505Z"
   },
   {
    "duration": 20,
    "start_time": "2022-01-04T07:17:25.950Z"
   },
   {
    "duration": 24,
    "start_time": "2022-01-04T07:17:28.568Z"
   },
   {
    "duration": 26,
    "start_time": "2022-01-04T07:17:30.176Z"
   },
   {
    "duration": 19,
    "start_time": "2022-01-04T07:17:33.939Z"
   },
   {
    "duration": 55,
    "start_time": "2022-01-04T07:17:35.540Z"
   },
   {
    "duration": 44,
    "start_time": "2022-01-04T07:17:36.777Z"
   },
   {
    "duration": 6,
    "start_time": "2022-01-04T07:17:39.420Z"
   },
   {
    "duration": 17,
    "start_time": "2022-01-04T07:17:41.297Z"
   },
   {
    "duration": 24,
    "start_time": "2022-01-04T07:17:43.457Z"
   },
   {
    "duration": 4,
    "start_time": "2022-01-04T07:17:44.984Z"
   },
   {
    "duration": 29,
    "start_time": "2022-01-04T07:17:50.800Z"
   },
   {
    "duration": 29,
    "start_time": "2022-01-04T07:17:52.452Z"
   },
   {
    "duration": 4,
    "start_time": "2022-01-04T07:17:54.395Z"
   },
   {
    "duration": 14,
    "start_time": "2022-01-04T07:17:55.732Z"
   },
   {
    "duration": 24,
    "start_time": "2022-01-04T07:17:56.710Z"
   },
   {
    "duration": 15,
    "start_time": "2022-01-04T07:17:57.515Z"
   },
   {
    "duration": 11,
    "start_time": "2022-01-04T07:17:58.337Z"
   },
   {
    "duration": 15,
    "start_time": "2022-01-04T07:17:59.172Z"
   },
   {
    "duration": 14,
    "start_time": "2022-01-04T07:19:02.479Z"
   },
   {
    "duration": 14,
    "start_time": "2022-01-04T07:19:06.028Z"
   },
   {
    "duration": 4,
    "start_time": "2022-01-04T07:19:13.604Z"
   },
   {
    "duration": 3706,
    "start_time": "2022-01-04T07:19:19.360Z"
   },
   {
    "duration": 3287,
    "start_time": "2022-01-04T07:19:25.661Z"
   },
   {
    "duration": 3568,
    "start_time": "2022-01-04T07:19:35.295Z"
   },
   {
    "duration": 3523,
    "start_time": "2022-01-04T07:19:44.152Z"
   },
   {
    "duration": 12,
    "start_time": "2022-01-04T07:21:14.302Z"
   },
   {
    "duration": 7,
    "start_time": "2022-01-04T07:22:13.570Z"
   },
   {
    "duration": 20,
    "start_time": "2022-01-04T07:22:50.054Z"
   },
   {
    "duration": 3,
    "start_time": "2022-01-04T07:23:16.215Z"
   },
   {
    "duration": 327,
    "start_time": "2022-01-04T07:23:58.350Z"
   },
   {
    "duration": 249,
    "start_time": "2022-01-04T07:24:01.751Z"
   },
   {
    "duration": 278,
    "start_time": "2022-01-04T07:25:27.803Z"
   },
   {
    "duration": 91,
    "start_time": "2022-01-04T07:28:12.327Z"
   },
   {
    "duration": 5,
    "start_time": "2022-01-04T07:28:57.701Z"
   },
   {
    "duration": 84,
    "start_time": "2022-01-04T07:30:45.357Z"
   },
   {
    "duration": 28,
    "start_time": "2022-01-04T07:32:57.079Z"
   },
   {
    "duration": 29,
    "start_time": "2022-01-04T07:33:56.646Z"
   },
   {
    "duration": 3,
    "start_time": "2022-01-04T07:35:33.015Z"
   },
   {
    "duration": 28,
    "start_time": "2022-01-04T07:36:22.665Z"
   },
   {
    "duration": 6,
    "start_time": "2022-01-04T07:36:46.025Z"
   },
   {
    "duration": 26,
    "start_time": "2022-01-04T07:38:41.061Z"
   },
   {
    "duration": 6,
    "start_time": "2022-01-04T07:39:03.718Z"
   },
   {
    "duration": 992,
    "start_time": "2022-01-05T08:10:47.742Z"
   },
   {
    "duration": 230,
    "start_time": "2022-01-05T08:10:48.737Z"
   },
   {
    "duration": 8,
    "start_time": "2022-01-05T08:10:48.973Z"
   },
   {
    "duration": 43,
    "start_time": "2022-01-05T08:10:48.983Z"
   },
   {
    "duration": 3,
    "start_time": "2022-01-05T08:10:49.029Z"
   },
   {
    "duration": 52,
    "start_time": "2022-01-05T08:10:49.035Z"
   },
   {
    "duration": 4,
    "start_time": "2022-01-05T08:10:49.091Z"
   },
   {
    "duration": 52,
    "start_time": "2022-01-05T08:10:49.097Z"
   },
   {
    "duration": 50,
    "start_time": "2022-01-05T08:10:49.151Z"
   },
   {
    "duration": 36,
    "start_time": "2022-01-05T08:10:49.203Z"
   },
   {
    "duration": 49,
    "start_time": "2022-01-05T08:10:49.241Z"
   },
   {
    "duration": 114,
    "start_time": "2022-01-05T08:10:49.293Z"
   },
   {
    "duration": 67,
    "start_time": "2022-01-05T08:10:49.410Z"
   },
   {
    "duration": 7,
    "start_time": "2022-01-05T08:10:49.478Z"
   },
   {
    "duration": 18,
    "start_time": "2022-01-05T08:10:49.486Z"
   },
   {
    "duration": 25,
    "start_time": "2022-01-05T08:10:49.506Z"
   },
   {
    "duration": 29,
    "start_time": "2022-01-05T08:10:49.533Z"
   },
   {
    "duration": 47,
    "start_time": "2022-01-05T08:10:49.564Z"
   },
   {
    "duration": 57,
    "start_time": "2022-01-05T08:10:49.612Z"
   },
   {
    "duration": 5,
    "start_time": "2022-01-05T08:10:49.671Z"
   },
   {
    "duration": 18,
    "start_time": "2022-01-05T08:10:49.678Z"
   },
   {
    "duration": 11,
    "start_time": "2022-01-05T08:10:49.700Z"
   },
   {
    "duration": 14,
    "start_time": "2022-01-05T08:10:49.713Z"
   },
   {
    "duration": 37,
    "start_time": "2022-01-05T08:10:49.729Z"
   },
   {
    "duration": 22,
    "start_time": "2022-01-05T08:10:49.767Z"
   },
   {
    "duration": 14,
    "start_time": "2022-01-05T08:10:49.790Z"
   },
   {
    "duration": 13,
    "start_time": "2022-01-05T08:10:49.806Z"
   },
   {
    "duration": 4,
    "start_time": "2022-01-05T08:10:49.822Z"
   },
   {
    "duration": 3852,
    "start_time": "2022-01-05T08:10:49.860Z"
   },
   {
    "duration": 2238,
    "start_time": "2022-01-05T08:10:51.476Z"
   },
   {
    "duration": 2238,
    "start_time": "2022-01-05T08:10:51.478Z"
   },
   {
    "duration": 2237,
    "start_time": "2022-01-05T08:10:51.480Z"
   },
   {
    "duration": 2236,
    "start_time": "2022-01-05T08:10:51.482Z"
   },
   {
    "duration": 2235,
    "start_time": "2022-01-05T08:10:51.484Z"
   },
   {
    "duration": 2235,
    "start_time": "2022-01-05T08:10:51.485Z"
   },
   {
    "duration": 2235,
    "start_time": "2022-01-05T08:10:51.487Z"
   },
   {
    "duration": 4093,
    "start_time": "2022-01-05T08:11:15.558Z"
   },
   {
    "duration": 2275,
    "start_time": "2022-01-05T08:11:17.378Z"
   },
   {
    "duration": 2273,
    "start_time": "2022-01-05T08:11:17.381Z"
   },
   {
    "duration": 29,
    "start_time": "2022-01-05T08:11:24.700Z"
   },
   {
    "duration": 6,
    "start_time": "2022-01-05T08:11:25.823Z"
   },
   {
    "duration": 28,
    "start_time": "2022-01-05T08:11:26.610Z"
   },
   {
    "duration": 6,
    "start_time": "2022-01-05T08:11:26.943Z"
   },
   {
    "duration": 12,
    "start_time": "2022-01-05T08:22:57.866Z"
   },
   {
    "duration": 5014,
    "start_time": "2022-01-05T08:31:49.718Z"
   },
   {
    "duration": 2269,
    "start_time": "2022-01-05T08:31:52.465Z"
   },
   {
    "duration": 27,
    "start_time": "2022-01-05T08:32:22.584Z"
   },
   {
    "duration": 341,
    "start_time": "2022-01-05T22:28:13.137Z"
   },
   {
    "duration": 280,
    "start_time": "2022-01-05T22:28:34.726Z"
   },
   {
    "duration": 948,
    "start_time": "2022-01-05T22:28:56.681Z"
   },
   {
    "duration": 194,
    "start_time": "2022-01-05T22:28:57.631Z"
   },
   {
    "duration": 9,
    "start_time": "2022-01-05T22:28:57.828Z"
   },
   {
    "duration": 53,
    "start_time": "2022-01-05T22:28:57.840Z"
   },
   {
    "duration": 4,
    "start_time": "2022-01-05T22:28:57.896Z"
   },
   {
    "duration": 30,
    "start_time": "2022-01-05T22:28:57.902Z"
   },
   {
    "duration": 30,
    "start_time": "2022-01-05T22:28:57.934Z"
   },
   {
    "duration": 29,
    "start_time": "2022-01-05T22:28:57.967Z"
   },
   {
    "duration": 63,
    "start_time": "2022-01-05T22:28:58.000Z"
   },
   {
    "duration": 28,
    "start_time": "2022-01-05T22:28:58.065Z"
   },
   {
    "duration": 28,
    "start_time": "2022-01-05T22:28:58.096Z"
   },
   {
    "duration": 123,
    "start_time": "2022-01-05T22:28:58.127Z"
   },
   {
    "duration": 90,
    "start_time": "2022-01-05T22:28:58.252Z"
   },
   {
    "duration": 23,
    "start_time": "2022-01-05T22:28:58.345Z"
   },
   {
    "duration": 30,
    "start_time": "2022-01-05T22:28:58.371Z"
   },
   {
    "duration": 80,
    "start_time": "2022-01-05T22:28:58.404Z"
   },
   {
    "duration": 7,
    "start_time": "2022-01-05T22:28:58.486Z"
   },
   {
    "duration": 67,
    "start_time": "2022-01-05T22:28:58.496Z"
   },
   {
    "duration": 41,
    "start_time": "2022-01-05T22:28:58.566Z"
   },
   {
    "duration": 6,
    "start_time": "2022-01-05T22:28:58.610Z"
   },
   {
    "duration": 58,
    "start_time": "2022-01-05T22:28:58.620Z"
   },
   {
    "duration": 17,
    "start_time": "2022-01-05T22:28:58.681Z"
   },
   {
    "duration": 20,
    "start_time": "2022-01-05T22:28:58.704Z"
   },
   {
    "duration": 52,
    "start_time": "2022-01-05T22:28:58.727Z"
   },
   {
    "duration": 21,
    "start_time": "2022-01-05T22:28:58.782Z"
   },
   {
    "duration": 19,
    "start_time": "2022-01-05T22:28:58.806Z"
   },
   {
    "duration": 18,
    "start_time": "2022-01-05T22:28:58.864Z"
   },
   {
    "duration": 7,
    "start_time": "2022-01-05T22:28:58.885Z"
   },
   {
    "duration": 171,
    "start_time": "2022-01-05T22:30:22.392Z"
   },
   {
    "duration": 16,
    "start_time": "2022-01-05T22:32:09.215Z"
   },
   {
    "duration": 330,
    "start_time": "2022-01-05T22:35:06.834Z"
   },
   {
    "duration": 290,
    "start_time": "2022-01-05T22:36:29.705Z"
   },
   {
    "duration": 497,
    "start_time": "2022-01-05T22:37:25.996Z"
   },
   {
    "duration": 27,
    "start_time": "2022-01-05T22:40:53.463Z"
   },
   {
    "duration": 666,
    "start_time": "2022-01-05T22:42:42.750Z"
   },
   {
    "duration": 175,
    "start_time": "2022-01-05T22:43:04.818Z"
   },
   {
    "duration": 181,
    "start_time": "2022-01-05T22:43:11.253Z"
   },
   {
    "duration": 93,
    "start_time": "2022-01-05T22:52:33.787Z"
   },
   {
    "duration": 95,
    "start_time": "2022-01-05T22:54:31.596Z"
   },
   {
    "duration": 33,
    "start_time": "2022-01-05T22:54:49.467Z"
   },
   {
    "duration": 9,
    "start_time": "2022-01-05T23:13:07.304Z"
   },
   {
    "duration": 55,
    "start_time": "2022-01-05T23:15:59.874Z"
   },
   {
    "duration": 46,
    "start_time": "2022-01-05T23:19:16.334Z"
   },
   {
    "duration": 93,
    "start_time": "2022-01-05T23:19:46.186Z"
   },
   {
    "duration": 90,
    "start_time": "2022-01-05T23:20:10.997Z"
   },
   {
    "duration": 1100,
    "start_time": "2022-01-05T23:25:03.012Z"
   },
   {
    "duration": 94,
    "start_time": "2022-01-05T23:25:32.057Z"
   },
   {
    "duration": 4,
    "start_time": "2022-01-05T23:26:50.492Z"
   },
   {
    "duration": 5,
    "start_time": "2022-01-05T23:27:26.329Z"
   },
   {
    "duration": 349,
    "start_time": "2022-01-05T23:28:24.164Z"
   },
   {
    "duration": 38,
    "start_time": "2022-01-05T23:28:53.670Z"
   },
   {
    "duration": 337,
    "start_time": "2022-01-05T23:29:12.764Z"
   },
   {
    "duration": 45,
    "start_time": "2022-01-05T23:29:21.540Z"
   },
   {
    "duration": 59,
    "start_time": "2022-01-05T23:30:34.166Z"
   },
   {
    "duration": 101,
    "start_time": "2022-01-05T23:31:15.768Z"
   },
   {
    "duration": 109,
    "start_time": "2022-01-05T23:31:26.118Z"
   },
   {
    "duration": 55,
    "start_time": "2022-01-05T23:31:40.059Z"
   },
   {
    "duration": 346,
    "start_time": "2022-01-05T23:32:53.404Z"
   },
   {
    "duration": 41,
    "start_time": "2022-01-05T23:34:58.979Z"
   },
   {
    "duration": 98,
    "start_time": "2022-01-05T23:36:50.806Z"
   },
   {
    "duration": 64,
    "start_time": "2022-01-05T23:37:19.328Z"
   },
   {
    "duration": 171,
    "start_time": "2022-01-05T23:56:31.882Z"
   },
   {
    "duration": 412,
    "start_time": "2022-01-05T23:57:18.990Z"
   },
   {
    "duration": 179,
    "start_time": "2022-01-05T23:57:32.260Z"
   },
   {
    "duration": 174,
    "start_time": "2022-01-05T23:57:49.234Z"
   },
   {
    "duration": 109,
    "start_time": "2022-01-06T00:04:52.978Z"
   },
   {
    "duration": 106,
    "start_time": "2022-01-06T00:05:11.724Z"
   },
   {
    "duration": 71,
    "start_time": "2022-01-06T00:05:23.950Z"
   },
   {
    "duration": 105,
    "start_time": "2022-01-06T00:06:30.859Z"
   },
   {
    "duration": 392,
    "start_time": "2022-01-06T00:06:45.644Z"
   },
   {
    "duration": 98,
    "start_time": "2022-01-06T00:07:24.783Z"
   },
   {
    "duration": 77,
    "start_time": "2022-01-06T00:07:33.320Z"
   },
   {
    "duration": 660,
    "start_time": "2022-01-06T00:08:00.580Z"
   },
   {
    "duration": 76,
    "start_time": "2022-01-06T00:08:14.182Z"
   },
   {
    "duration": 112,
    "start_time": "2022-01-06T00:27:17.178Z"
   },
   {
    "duration": 64,
    "start_time": "2022-01-06T00:27:23.598Z"
   },
   {
    "duration": 73,
    "start_time": "2022-01-06T00:27:38.164Z"
   },
   {
    "duration": 376,
    "start_time": "2022-01-06T00:28:25.432Z"
   },
   {
    "duration": 107,
    "start_time": "2022-01-06T00:32:46.557Z"
   },
   {
    "duration": 96,
    "start_time": "2022-01-06T00:33:01.504Z"
   },
   {
    "duration": 99,
    "start_time": "2022-01-06T00:33:07.357Z"
   },
   {
    "duration": 359,
    "start_time": "2022-01-06T00:33:23.990Z"
   },
   {
    "duration": 74,
    "start_time": "2022-01-06T00:34:15.227Z"
   },
   {
    "duration": 76,
    "start_time": "2022-01-06T00:35:10.348Z"
   },
   {
    "duration": 75,
    "start_time": "2022-01-06T00:35:29.008Z"
   },
   {
    "duration": 280,
    "start_time": "2022-01-06T00:45:40.827Z"
   },
   {
    "duration": 122,
    "start_time": "2022-01-06T00:51:34.628Z"
   },
   {
    "duration": 103,
    "start_time": "2022-01-06T00:51:50.743Z"
   },
   {
    "duration": 4,
    "start_time": "2022-01-06T00:52:43.303Z"
   },
   {
    "duration": 6,
    "start_time": "2022-01-06T00:52:58.329Z"
   },
   {
    "duration": 8,
    "start_time": "2022-01-06T00:53:53.204Z"
   },
   {
    "duration": 475,
    "start_time": "2022-01-06T00:54:22.650Z"
   },
   {
    "duration": 8,
    "start_time": "2022-01-06T00:54:32.551Z"
   },
   {
    "duration": 437,
    "start_time": "2022-01-06T00:55:12.845Z"
   },
   {
    "duration": 16,
    "start_time": "2022-01-06T00:55:57.576Z"
   },
   {
    "duration": 14,
    "start_time": "2022-01-06T00:56:33.333Z"
   },
   {
    "duration": 94,
    "start_time": "2022-01-06T01:10:31.921Z"
   },
   {
    "duration": 100,
    "start_time": "2022-01-06T01:10:49.779Z"
   },
   {
    "duration": 329,
    "start_time": "2022-01-06T01:11:20.589Z"
   },
   {
    "duration": 7,
    "start_time": "2022-01-06T01:13:50.077Z"
   },
   {
    "duration": 21,
    "start_time": "2022-01-06T01:14:17.997Z"
   },
   {
    "duration": 15,
    "start_time": "2022-01-06T01:14:35.268Z"
   },
   {
    "duration": 13,
    "start_time": "2022-01-06T01:14:56.361Z"
   },
   {
    "duration": 370,
    "start_time": "2022-01-06T01:15:48.967Z"
   },
   {
    "duration": 299,
    "start_time": "2022-01-06T01:16:14.649Z"
   },
   {
    "duration": 339,
    "start_time": "2022-01-06T01:16:28.344Z"
   },
   {
    "duration": 8,
    "start_time": "2022-01-06T01:16:59.073Z"
   },
   {
    "duration": 8,
    "start_time": "2022-01-06T01:17:16.297Z"
   },
   {
    "duration": 6,
    "start_time": "2022-01-06T01:17:31.633Z"
   },
   {
    "duration": 14,
    "start_time": "2022-01-06T01:17:38.053Z"
   },
   {
    "duration": 27,
    "start_time": "2022-01-06T01:20:41.217Z"
   },
   {
    "duration": 18,
    "start_time": "2022-01-06T01:21:58.436Z"
   },
   {
    "duration": 17,
    "start_time": "2022-01-06T01:22:36.720Z"
   },
   {
    "duration": 16,
    "start_time": "2022-01-06T01:23:04.982Z"
   },
   {
    "duration": 16,
    "start_time": "2022-01-06T01:23:52.771Z"
   },
   {
    "duration": 19,
    "start_time": "2022-01-06T01:24:06.768Z"
   },
   {
    "duration": 14,
    "start_time": "2022-01-06T01:24:25.496Z"
   },
   {
    "duration": 6,
    "start_time": "2022-01-06T01:30:56.627Z"
   },
   {
    "duration": 4,
    "start_time": "2022-01-06T01:31:24.396Z"
   },
   {
    "duration": 7,
    "start_time": "2022-01-06T01:31:36.010Z"
   },
   {
    "duration": 15,
    "start_time": "2022-01-06T01:31:51.725Z"
   },
   {
    "duration": 1274,
    "start_time": "2022-01-06T01:36:26.097Z"
   },
   {
    "duration": 15,
    "start_time": "2022-01-06T01:37:01.090Z"
   },
   {
    "duration": 5,
    "start_time": "2022-01-06T01:39:10.168Z"
   },
   {
    "duration": 1421,
    "start_time": "2022-01-06T01:40:07.177Z"
   },
   {
    "duration": 298,
    "start_time": "2022-01-06T01:40:20.956Z"
   },
   {
    "duration": 307,
    "start_time": "2022-01-06T01:42:26.609Z"
   },
   {
    "duration": 4,
    "start_time": "2022-01-06T01:43:19.571Z"
   },
   {
    "duration": 409,
    "start_time": "2022-01-06T01:45:15.925Z"
   },
   {
    "duration": 8,
    "start_time": "2022-01-06T01:46:13.072Z"
   },
   {
    "duration": 7,
    "start_time": "2022-01-06T01:47:26.325Z"
   },
   {
    "duration": 479,
    "start_time": "2022-01-06T01:48:21.474Z"
   },
   {
    "duration": 103,
    "start_time": "2022-01-06T01:49:22.821Z"
   },
   {
    "duration": 4,
    "start_time": "2022-01-06T01:49:55.391Z"
   },
   {
    "duration": 36,
    "start_time": "2022-01-06T01:51:55.745Z"
   },
   {
    "duration": 325,
    "start_time": "2022-01-06T01:52:20.869Z"
   },
   {
    "duration": 34,
    "start_time": "2022-01-06T01:52:53.363Z"
   },
   {
    "duration": 27,
    "start_time": "2022-01-06T01:53:29.567Z"
   },
   {
    "duration": 22,
    "start_time": "2022-01-06T01:54:06.723Z"
   },
   {
    "duration": 373,
    "start_time": "2022-01-06T01:55:27.971Z"
   },
   {
    "duration": 373,
    "start_time": "2022-01-06T01:56:04.993Z"
   },
   {
    "duration": 135,
    "start_time": "2022-01-06T01:59:25.903Z"
   },
   {
    "duration": 126,
    "start_time": "2022-01-06T01:59:39.513Z"
   },
   {
    "duration": 94,
    "start_time": "2022-01-06T02:00:46.959Z"
   },
   {
    "duration": 302,
    "start_time": "2022-01-06T02:01:10.167Z"
   },
   {
    "duration": 8,
    "start_time": "2022-01-06T02:01:25.050Z"
   },
   {
    "duration": 98,
    "start_time": "2022-01-06T02:02:55.231Z"
   },
   {
    "duration": 118,
    "start_time": "2022-01-06T02:03:09.371Z"
   },
   {
    "duration": 95,
    "start_time": "2022-01-06T02:37:48.862Z"
   },
   {
    "duration": 350,
    "start_time": "2022-01-06T02:37:56.405Z"
   },
   {
    "duration": 312,
    "start_time": "2022-01-06T02:38:06.810Z"
   },
   {
    "duration": 49,
    "start_time": "2022-01-06T02:56:11.693Z"
   },
   {
    "duration": 33,
    "start_time": "2022-01-06T02:59:05.345Z"
   },
   {
    "duration": 312,
    "start_time": "2022-01-06T02:59:58.591Z"
   },
   {
    "duration": 362,
    "start_time": "2022-01-06T03:01:17.239Z"
   },
   {
    "duration": 459,
    "start_time": "2022-01-06T03:02:01.805Z"
   },
   {
    "duration": 308,
    "start_time": "2022-01-06T03:03:24.162Z"
   },
   {
    "duration": 35,
    "start_time": "2022-01-06T03:05:11.988Z"
   },
   {
    "duration": 38,
    "start_time": "2022-01-06T03:06:31.382Z"
   },
   {
    "duration": 39,
    "start_time": "2022-01-06T03:06:56.461Z"
   },
   {
    "duration": 388,
    "start_time": "2022-01-06T03:08:28.487Z"
   },
   {
    "duration": 319,
    "start_time": "2022-01-06T03:08:51.483Z"
   },
   {
    "duration": 42,
    "start_time": "2022-01-06T03:09:24.216Z"
   },
   {
    "duration": 7,
    "start_time": "2022-01-06T03:12:51.611Z"
   },
   {
    "duration": 7,
    "start_time": "2022-01-06T03:13:04.910Z"
   },
   {
    "duration": 11,
    "start_time": "2022-01-06T03:13:18.838Z"
   },
   {
    "duration": 77,
    "start_time": "2022-01-06T03:20:52.813Z"
   },
   {
    "duration": 110,
    "start_time": "2022-01-06T03:34:15.710Z"
   },
   {
    "duration": 41,
    "start_time": "2022-01-06T03:34:23.080Z"
   },
   {
    "duration": 41,
    "start_time": "2022-01-06T03:34:35.046Z"
   },
   {
    "duration": 28,
    "start_time": "2022-01-06T03:35:05.680Z"
   },
   {
    "duration": 29,
    "start_time": "2022-01-06T03:36:19.117Z"
   },
   {
    "duration": 29,
    "start_time": "2022-01-06T03:37:05.924Z"
   },
   {
    "duration": 42,
    "start_time": "2022-01-06T03:37:23.718Z"
   },
   {
    "duration": 40,
    "start_time": "2022-01-06T03:37:57.399Z"
   },
   {
    "duration": 40,
    "start_time": "2022-01-06T03:39:10.870Z"
   },
   {
    "duration": 44,
    "start_time": "2022-01-06T03:46:35.060Z"
   },
   {
    "duration": 25,
    "start_time": "2022-01-06T03:51:06.004Z"
   },
   {
    "duration": 8,
    "start_time": "2022-01-06T04:01:46.024Z"
   },
   {
    "duration": 14,
    "start_time": "2022-01-06T04:02:25.904Z"
   },
   {
    "duration": 6,
    "start_time": "2022-01-06T04:04:30.280Z"
   },
   {
    "duration": 14,
    "start_time": "2022-01-06T04:04:38.021Z"
   },
   {
    "duration": 6,
    "start_time": "2022-01-06T04:05:56.857Z"
   },
   {
    "duration": 299,
    "start_time": "2022-01-06T04:06:43.442Z"
   },
   {
    "duration": 343,
    "start_time": "2022-01-06T04:07:11.760Z"
   },
   {
    "duration": 14,
    "start_time": "2022-01-06T04:07:23.722Z"
   },
   {
    "duration": 365,
    "start_time": "2022-01-06T04:10:52.494Z"
   },
   {
    "duration": 431,
    "start_time": "2022-01-06T04:11:23.944Z"
   },
   {
    "duration": 399,
    "start_time": "2022-01-06T04:11:42.888Z"
   },
   {
    "duration": 118,
    "start_time": "2022-01-06T04:12:00.738Z"
   },
   {
    "duration": 47,
    "start_time": "2022-01-06T04:13:03.163Z"
   },
   {
    "duration": 6,
    "start_time": "2022-01-06T04:16:23.365Z"
   },
   {
    "duration": 393,
    "start_time": "2022-01-06T04:17:21.008Z"
   },
   {
    "duration": 297,
    "start_time": "2022-01-06T04:17:43.296Z"
   },
   {
    "duration": 9,
    "start_time": "2022-01-06T04:18:38.098Z"
   },
   {
    "duration": 350,
    "start_time": "2022-01-06T04:19:24.503Z"
   },
   {
    "duration": 100,
    "start_time": "2022-01-06T04:19:56.364Z"
   },
   {
    "duration": 97,
    "start_time": "2022-01-06T04:20:13.451Z"
   },
   {
    "duration": 15,
    "start_time": "2022-01-06T04:20:25.602Z"
   },
   {
    "duration": 16,
    "start_time": "2022-01-06T04:21:15.073Z"
   },
   {
    "duration": 22,
    "start_time": "2022-01-06T04:22:18.701Z"
   },
   {
    "duration": 15,
    "start_time": "2022-01-06T04:23:49.072Z"
   },
   {
    "duration": 13,
    "start_time": "2022-01-06T04:24:23.687Z"
   },
   {
    "duration": 38,
    "start_time": "2022-01-06T04:27:03.174Z"
   },
   {
    "duration": 37,
    "start_time": "2022-01-06T04:27:34.788Z"
   },
   {
    "duration": 338,
    "start_time": "2022-01-06T05:22:57.837Z"
   },
   {
    "duration": 348,
    "start_time": "2022-01-06T05:23:18.815Z"
   },
   {
    "duration": 114,
    "start_time": "2022-01-06T05:23:41.276Z"
   },
   {
    "duration": 26,
    "start_time": "2022-01-06T05:23:48.074Z"
   },
   {
    "duration": 401,
    "start_time": "2022-01-06T05:25:13.804Z"
   },
   {
    "duration": 28,
    "start_time": "2022-01-06T05:25:34.227Z"
   },
   {
    "duration": 51,
    "start_time": "2022-01-06T05:26:55.780Z"
   },
   {
    "duration": 27,
    "start_time": "2022-01-06T05:27:22.872Z"
   },
   {
    "duration": 29,
    "start_time": "2022-01-06T05:28:32.136Z"
   },
   {
    "duration": 41,
    "start_time": "2022-01-06T05:30:35.897Z"
   },
   {
    "duration": 45,
    "start_time": "2022-01-06T05:32:25.338Z"
   },
   {
    "duration": 44,
    "start_time": "2022-01-06T05:33:00.697Z"
   },
   {
    "duration": 43,
    "start_time": "2022-01-06T05:33:20.756Z"
   },
   {
    "duration": 41,
    "start_time": "2022-01-06T05:33:29.179Z"
   },
   {
    "duration": 44,
    "start_time": "2022-01-06T05:34:01.010Z"
   },
   {
    "duration": 44,
    "start_time": "2022-01-06T05:35:38.533Z"
   },
   {
    "duration": 40,
    "start_time": "2022-01-06T05:35:56.907Z"
   },
   {
    "duration": 42,
    "start_time": "2022-01-06T05:36:28.839Z"
   },
   {
    "duration": 100,
    "start_time": "2022-01-06T05:43:18.145Z"
   },
   {
    "duration": 461,
    "start_time": "2022-01-06T05:53:26.664Z"
   },
   {
    "duration": 5,
    "start_time": "2022-01-06T05:53:36.436Z"
   },
   {
    "duration": 24,
    "start_time": "2022-01-06T05:53:45.127Z"
   },
   {
    "duration": 14,
    "start_time": "2022-01-06T05:53:51.129Z"
   },
   {
    "duration": 5,
    "start_time": "2022-01-06T06:03:57.299Z"
   },
   {
    "duration": 14,
    "start_time": "2022-01-06T06:04:07.331Z"
   },
   {
    "duration": 20,
    "start_time": "2022-01-06T06:04:56.404Z"
   },
   {
    "duration": 22,
    "start_time": "2022-01-06T06:05:13.432Z"
   },
   {
    "duration": 18,
    "start_time": "2022-01-06T06:07:37.324Z"
   },
   {
    "duration": 18,
    "start_time": "2022-01-06T06:07:51.264Z"
   },
   {
    "duration": 32,
    "start_time": "2022-01-06T06:09:36.815Z"
   },
   {
    "duration": 21,
    "start_time": "2022-01-06T06:10:25.942Z"
   },
   {
    "duration": 18,
    "start_time": "2022-01-06T06:10:34.052Z"
   },
   {
    "duration": 148,
    "start_time": "2022-01-06T06:12:48.271Z"
   },
   {
    "duration": 17,
    "start_time": "2022-01-06T06:13:59.931Z"
   },
   {
    "duration": 20,
    "start_time": "2022-01-06T06:14:19.912Z"
   },
   {
    "duration": 21,
    "start_time": "2022-01-06T06:15:01.060Z"
   },
   {
    "duration": 19,
    "start_time": "2022-01-06T06:15:42.510Z"
   },
   {
    "duration": 103,
    "start_time": "2022-01-06T06:16:28.320Z"
   },
   {
    "duration": 22,
    "start_time": "2022-01-06T06:16:53.662Z"
   },
   {
    "duration": 350,
    "start_time": "2022-01-06T06:22:10.189Z"
   },
   {
    "duration": 103,
    "start_time": "2022-01-06T06:24:50.661Z"
   },
   {
    "duration": 364,
    "start_time": "2022-01-06T06:24:58.657Z"
   },
   {
    "duration": 6,
    "start_time": "2022-01-06T06:25:26.460Z"
   },
   {
    "duration": 442,
    "start_time": "2022-01-06T06:25:34.603Z"
   },
   {
    "duration": 5,
    "start_time": "2022-01-06T06:25:55.962Z"
   },
   {
    "duration": 6,
    "start_time": "2022-01-06T06:26:28.223Z"
   },
   {
    "duration": 1009,
    "start_time": "2022-01-06T06:26:37.277Z"
   },
   {
    "duration": 1097,
    "start_time": "2022-01-06T06:27:32.477Z"
   },
   {
    "duration": 198,
    "start_time": "2022-01-06T06:27:39.155Z"
   },
   {
    "duration": 16,
    "start_time": "2022-01-06T06:27:43.957Z"
   },
   {
    "duration": 34,
    "start_time": "2022-01-06T06:27:54.319Z"
   },
   {
    "duration": 5,
    "start_time": "2022-01-06T06:28:06.529Z"
   },
   {
    "duration": 31,
    "start_time": "2022-01-06T06:28:11.499Z"
   },
   {
    "duration": 4,
    "start_time": "2022-01-06T06:28:16.403Z"
   },
   {
    "duration": 34,
    "start_time": "2022-01-06T06:28:21.787Z"
   },
   {
    "duration": 43,
    "start_time": "2022-01-06T06:29:31.110Z"
   },
   {
    "duration": 31,
    "start_time": "2022-01-06T06:29:44.141Z"
   },
   {
    "duration": 28,
    "start_time": "2022-01-06T06:29:51.965Z"
   },
   {
    "duration": 95,
    "start_time": "2022-01-06T06:30:17.902Z"
   },
   {
    "duration": 71,
    "start_time": "2022-01-06T06:30:25.283Z"
   },
   {
    "duration": 14,
    "start_time": "2022-01-06T06:30:31.455Z"
   },
   {
    "duration": 38,
    "start_time": "2022-01-06T06:30:40.797Z"
   },
   {
    "duration": 46,
    "start_time": "2022-01-06T06:30:52.727Z"
   },
   {
    "duration": 14,
    "start_time": "2022-01-06T06:30:57.883Z"
   },
   {
    "duration": 46,
    "start_time": "2022-01-06T06:31:10.799Z"
   },
   {
    "duration": 46,
    "start_time": "2022-01-06T06:31:17.867Z"
   },
   {
    "duration": 6,
    "start_time": "2022-01-06T06:31:26.997Z"
   },
   {
    "duration": 6,
    "start_time": "2022-01-06T06:32:10.050Z"
   },
   {
    "duration": 30,
    "start_time": "2022-01-06T06:32:29.337Z"
   },
   {
    "duration": 34,
    "start_time": "2022-01-06T06:32:41.111Z"
   },
   {
    "duration": 31,
    "start_time": "2022-01-06T06:32:57.758Z"
   },
   {
    "duration": 32,
    "start_time": "2022-01-06T06:33:23.869Z"
   },
   {
    "duration": 34,
    "start_time": "2022-01-06T06:33:31.532Z"
   },
   {
    "duration": 30,
    "start_time": "2022-01-06T06:34:46.889Z"
   },
   {
    "duration": 100,
    "start_time": "2022-01-06T06:37:28.444Z"
   },
   {
    "duration": 6,
    "start_time": "2022-01-06T06:37:48.243Z"
   },
   {
    "duration": 18,
    "start_time": "2022-01-06T06:37:55.215Z"
   },
   {
    "duration": 18,
    "start_time": "2022-01-06T06:38:00.822Z"
   },
   {
    "duration": 5,
    "start_time": "2022-01-06T06:47:44.293Z"
   },
   {
    "duration": 8188,
    "start_time": "2022-01-06T06:47:57.795Z"
   },
   {
    "duration": -1184,
    "start_time": "2022-01-06T06:48:07.170Z"
   },
   {
    "duration": -1359,
    "start_time": "2022-01-06T06:48:07.346Z"
   },
   {
    "duration": -1362,
    "start_time": "2022-01-06T06:48:07.351Z"
   },
   {
    "duration": 8201,
    "start_time": "2022-01-06T06:48:06.063Z"
   },
   {
    "duration": 7837,
    "start_time": "2022-01-06T06:49:58.741Z"
   },
   {
    "duration": 8578,
    "start_time": "2022-01-06T06:51:43.127Z"
   },
   {
    "duration": -1196,
    "start_time": "2022-01-06T06:51:52.906Z"
   },
   {
    "duration": 6,
    "start_time": "2022-01-06T06:53:55.607Z"
   },
   {
    "duration": 6,
    "start_time": "2022-01-06T06:54:19.389Z"
   },
   {
    "duration": 7935,
    "start_time": "2022-01-06T06:54:26.386Z"
   },
   {
    "duration": 8038,
    "start_time": "2022-01-06T06:54:34.699Z"
   },
   {
    "duration": 1050,
    "start_time": "2022-01-06T07:00:23.632Z"
   },
   {
    "duration": 198,
    "start_time": "2022-01-06T07:00:24.685Z"
   },
   {
    "duration": 16,
    "start_time": "2022-01-06T07:00:24.887Z"
   },
   {
    "duration": 66,
    "start_time": "2022-01-06T07:00:24.907Z"
   },
   {
    "duration": 5,
    "start_time": "2022-01-06T07:00:24.977Z"
   },
   {
    "duration": 33,
    "start_time": "2022-01-06T07:00:24.985Z"
   },
   {
    "duration": 5,
    "start_time": "2022-01-06T07:00:25.021Z"
   },
   {
    "duration": 33,
    "start_time": "2022-01-06T07:00:25.063Z"
   },
   {
    "duration": 68,
    "start_time": "2022-01-06T07:00:25.100Z"
   },
   {
    "duration": 30,
    "start_time": "2022-01-06T07:00:25.171Z"
   },
   {
    "duration": 59,
    "start_time": "2022-01-06T07:00:25.204Z"
   },
   {
    "duration": 114,
    "start_time": "2022-01-06T07:00:25.266Z"
   },
   {
    "duration": 92,
    "start_time": "2022-01-06T07:00:25.383Z"
   },
   {
    "duration": 17,
    "start_time": "2022-01-06T07:00:25.478Z"
   },
   {
    "duration": 68,
    "start_time": "2022-01-06T07:00:25.498Z"
   },
   {
    "duration": 43,
    "start_time": "2022-01-06T07:00:25.568Z"
   },
   {
    "duration": 14,
    "start_time": "2022-01-06T07:00:25.613Z"
   },
   {
    "duration": 78,
    "start_time": "2022-01-06T07:00:25.629Z"
   },
   {
    "duration": 58,
    "start_time": "2022-01-06T07:00:25.709Z"
   },
   {
    "duration": 5,
    "start_time": "2022-01-06T07:00:25.770Z"
   },
   {
    "duration": 8997,
    "start_time": "2022-01-06T07:00:25.777Z"
   },
   {
    "duration": -1183,
    "start_time": "2022-01-06T07:00:35.961Z"
   },
   {
    "duration": -1187,
    "start_time": "2022-01-06T07:00:35.967Z"
   },
   {
    "duration": -1190,
    "start_time": "2022-01-06T07:00:35.971Z"
   },
   {
    "duration": -1192,
    "start_time": "2022-01-06T07:00:35.974Z"
   },
   {
    "duration": -1194,
    "start_time": "2022-01-06T07:00:35.978Z"
   },
   {
    "duration": -1196,
    "start_time": "2022-01-06T07:00:35.981Z"
   },
   {
    "duration": -1197,
    "start_time": "2022-01-06T07:00:35.984Z"
   },
   {
    "duration": -1365,
    "start_time": "2022-01-06T07:00:36.153Z"
   },
   {
    "duration": -1372,
    "start_time": "2022-01-06T07:00:36.162Z"
   },
   {
    "duration": -1377,
    "start_time": "2022-01-06T07:00:36.169Z"
   },
   {
    "duration": -1383,
    "start_time": "2022-01-06T07:00:36.176Z"
   },
   {
    "duration": -1386,
    "start_time": "2022-01-06T07:00:36.181Z"
   },
   {
    "duration": -1389,
    "start_time": "2022-01-06T07:00:36.185Z"
   },
   {
    "duration": -1396,
    "start_time": "2022-01-06T07:00:36.194Z"
   },
   {
    "duration": -1399,
    "start_time": "2022-01-06T07:00:36.198Z"
   },
   {
    "duration": 6,
    "start_time": "2022-01-06T07:01:01.896Z"
   },
   {
    "duration": 5,
    "start_time": "2022-01-06T07:02:47.340Z"
   },
   {
    "duration": 20,
    "start_time": "2022-01-06T07:02:55.273Z"
   },
   {
    "duration": 23,
    "start_time": "2022-01-06T07:03:06.317Z"
   },
   {
    "duration": 20,
    "start_time": "2022-01-06T07:03:16.055Z"
   },
   {
    "duration": 19,
    "start_time": "2022-01-06T07:03:42.247Z"
   },
   {
    "duration": 20,
    "start_time": "2022-01-06T07:04:00.232Z"
   },
   {
    "duration": 19,
    "start_time": "2022-01-06T07:04:56.235Z"
   },
   {
    "duration": 1285,
    "start_time": "2022-01-06T07:20:09.028Z"
   },
   {
    "duration": 9,
    "start_time": "2022-01-06T07:23:54.660Z"
   },
   {
    "duration": 9,
    "start_time": "2022-01-06T07:25:33.211Z"
   },
   {
    "duration": 13,
    "start_time": "2022-01-06T07:26:12.954Z"
   },
   {
    "duration": 296,
    "start_time": "2022-01-06T07:36:43.456Z"
   },
   {
    "duration": 5,
    "start_time": "2022-01-06T07:38:28.096Z"
   },
   {
    "duration": 275,
    "start_time": "2022-01-06T07:38:35.403Z"
   },
   {
    "duration": 6,
    "start_time": "2022-01-06T07:39:06.836Z"
   },
   {
    "duration": 6,
    "start_time": "2022-01-06T07:39:37.445Z"
   },
   {
    "duration": 300,
    "start_time": "2022-01-06T07:39:50.338Z"
   },
   {
    "duration": 8,
    "start_time": "2022-01-06T07:40:51.556Z"
   },
   {
    "duration": 326,
    "start_time": "2022-01-06T07:40:59.894Z"
   },
   {
    "duration": 26,
    "start_time": "2022-01-06T07:41:31.559Z"
   },
   {
    "duration": 6,
    "start_time": "2022-01-06T07:43:44.512Z"
   },
   {
    "duration": 19,
    "start_time": "2022-01-06T07:45:04.858Z"
   },
   {
    "duration": 15,
    "start_time": "2022-01-06T07:45:14.002Z"
   },
   {
    "duration": 4176,
    "start_time": "2022-01-06T07:46:28.763Z"
   },
   {
    "duration": 6,
    "start_time": "2022-01-06T07:50:10.730Z"
   },
   {
    "duration": 5738,
    "start_time": "2022-01-06T07:50:35.266Z"
   },
   {
    "duration": 27,
    "start_time": "2022-01-06T07:53:42.927Z"
   },
   {
    "duration": 4022,
    "start_time": "2022-01-06T07:54:19.326Z"
   },
   {
    "duration": 6,
    "start_time": "2022-01-06T07:54:49.904Z"
   },
   {
    "duration": 5648,
    "start_time": "2022-01-06T07:55:04.803Z"
   },
   {
    "duration": 6,
    "start_time": "2022-01-06T07:55:52.846Z"
   },
   {
    "duration": 5202,
    "start_time": "2022-01-06T07:55:59.825Z"
   },
   {
    "duration": 6,
    "start_time": "2022-01-06T07:56:40.485Z"
   },
   {
    "duration": 4130,
    "start_time": "2022-01-06T07:56:49.862Z"
   },
   {
    "duration": 297,
    "start_time": "2022-01-06T07:59:28.208Z"
   },
   {
    "duration": 41,
    "start_time": "2022-01-06T08:00:23.764Z"
   },
   {
    "duration": 8,
    "start_time": "2022-01-06T08:00:32.407Z"
   },
   {
    "duration": 42,
    "start_time": "2022-01-06T08:03:59.713Z"
   },
   {
    "duration": 47,
    "start_time": "2022-01-06T08:04:16.068Z"
   },
   {
    "duration": 8,
    "start_time": "2022-01-06T08:04:29.356Z"
   },
   {
    "duration": 40,
    "start_time": "2022-01-06T08:04:59.719Z"
   },
   {
    "duration": 8,
    "start_time": "2022-01-06T08:05:06.169Z"
   },
   {
    "duration": 305,
    "start_time": "2022-01-06T08:05:48.041Z"
   },
   {
    "duration": 14,
    "start_time": "2022-01-06T08:06:16.154Z"
   },
   {
    "duration": 8,
    "start_time": "2022-01-06T08:06:22.532Z"
   },
   {
    "duration": 47,
    "start_time": "2022-01-06T08:08:49.923Z"
   },
   {
    "duration": 8,
    "start_time": "2022-01-06T08:08:58.777Z"
   },
   {
    "duration": 49,
    "start_time": "2022-01-06T08:09:14.751Z"
   },
   {
    "duration": 12,
    "start_time": "2022-01-06T08:13:16.087Z"
   },
   {
    "duration": 18,
    "start_time": "2022-01-06T08:13:37.569Z"
   },
   {
    "duration": 7,
    "start_time": "2022-01-06T08:14:13.673Z"
   },
   {
    "duration": 15,
    "start_time": "2022-01-06T08:14:58.392Z"
   },
   {
    "duration": 18,
    "start_time": "2022-01-06T08:15:43.722Z"
   },
   {
    "duration": 16,
    "start_time": "2022-01-06T08:15:57.039Z"
   },
   {
    "duration": 19,
    "start_time": "2022-01-06T08:16:46.933Z"
   },
   {
    "duration": 6,
    "start_time": "2022-01-06T08:17:34.897Z"
   },
   {
    "duration": 42,
    "start_time": "2022-01-06T08:19:10.306Z"
   },
   {
    "duration": 9,
    "start_time": "2022-01-06T08:19:21.718Z"
   },
   {
    "duration": 14,
    "start_time": "2022-01-06T08:20:13.846Z"
   },
   {
    "duration": 7,
    "start_time": "2022-01-06T08:20:21.342Z"
   },
   {
    "duration": 38,
    "start_time": "2022-01-06T08:20:56.598Z"
   },
   {
    "duration": 9,
    "start_time": "2022-01-06T08:21:09.532Z"
   },
   {
    "duration": 13,
    "start_time": "2022-01-06T08:21:56.520Z"
   },
   {
    "duration": 7,
    "start_time": "2022-01-06T08:22:00.560Z"
   },
   {
    "duration": 13,
    "start_time": "2022-01-06T08:23:37.927Z"
   },
   {
    "duration": 8,
    "start_time": "2022-01-06T08:24:00.850Z"
   },
   {
    "duration": 609,
    "start_time": "2022-01-06T08:27:51.265Z"
   },
   {
    "duration": 32,
    "start_time": "2022-01-06T08:32:06.434Z"
   },
   {
    "duration": 313,
    "start_time": "2022-01-06T08:37:53.946Z"
   },
   {
    "duration": 23,
    "start_time": "2022-01-06T08:39:07.905Z"
   },
   {
    "duration": 696,
    "start_time": "2022-01-06T08:40:56.480Z"
   },
   {
    "duration": 23,
    "start_time": "2022-01-06T08:42:47.772Z"
   },
   {
    "duration": 26,
    "start_time": "2022-01-06T08:43:05.030Z"
   },
   {
    "duration": 307,
    "start_time": "2022-01-06T08:45:40.632Z"
   },
   {
    "duration": 25,
    "start_time": "2022-01-06T08:46:03.792Z"
   },
   {
    "duration": 7,
    "start_time": "2022-01-06T08:46:13.288Z"
   },
   {
    "duration": 22,
    "start_time": "2022-01-06T08:47:47.967Z"
   },
   {
    "duration": 7,
    "start_time": "2022-01-06T08:47:54.732Z"
   },
   {
    "duration": 382,
    "start_time": "2022-01-06T08:50:09.461Z"
   },
   {
    "duration": 15,
    "start_time": "2022-01-06T08:51:10.053Z"
   },
   {
    "duration": 6,
    "start_time": "2022-01-06T08:51:42.741Z"
   },
   {
    "duration": 14,
    "start_time": "2022-01-06T08:55:56.755Z"
   },
   {
    "duration": 323,
    "start_time": "2022-01-06T09:05:37.907Z"
   },
   {
    "duration": 301,
    "start_time": "2022-01-06T09:05:52.175Z"
   },
   {
    "duration": 414,
    "start_time": "2022-01-06T09:06:27.187Z"
   },
   {
    "duration": 312,
    "start_time": "2022-01-06T09:06:48.278Z"
   },
   {
    "duration": 6,
    "start_time": "2022-01-06T09:07:28.959Z"
   },
   {
    "duration": 4518,
    "start_time": "2022-01-06T09:08:41.667Z"
   },
   {
    "duration": 15,
    "start_time": "2022-01-06T09:09:01.063Z"
   },
   {
    "duration": 41,
    "start_time": "2022-01-06T09:10:51.811Z"
   },
   {
    "duration": 7,
    "start_time": "2022-01-06T09:11:28.444Z"
   },
   {
    "duration": 68,
    "start_time": "2022-01-06T09:16:30.408Z"
   },
   {
    "duration": 54,
    "start_time": "2022-01-06T09:17:00.784Z"
   },
   {
    "duration": 345,
    "start_time": "2022-01-06T09:18:03.830Z"
   },
   {
    "duration": 562,
    "start_time": "2022-01-06T09:18:23.353Z"
   },
   {
    "duration": 6,
    "start_time": "2022-01-06T09:28:52.093Z"
   },
   {
    "duration": 15,
    "start_time": "2022-01-06T09:29:26.898Z"
   },
   {
    "duration": 17,
    "start_time": "2022-01-06T09:32:54.530Z"
   },
   {
    "duration": 113,
    "start_time": "2022-01-06T09:37:04.511Z"
   },
   {
    "duration": 44,
    "start_time": "2022-01-06T09:40:27.654Z"
   },
   {
    "duration": 48,
    "start_time": "2022-01-06T09:40:51.871Z"
   },
   {
    "duration": 37,
    "start_time": "2022-01-06T09:41:17.050Z"
   },
   {
    "duration": 328,
    "start_time": "2022-01-06T09:41:32.828Z"
   },
   {
    "duration": 343,
    "start_time": "2022-01-06T09:42:09.129Z"
   },
   {
    "duration": 14,
    "start_time": "2022-01-06T09:43:22.205Z"
   },
   {
    "duration": 14,
    "start_time": "2022-01-06T09:43:29.723Z"
   },
   {
    "duration": 99,
    "start_time": "2022-01-06T09:47:38.938Z"
   },
   {
    "duration": 301,
    "start_time": "2022-01-06T09:49:12.868Z"
   },
   {
    "duration": 16,
    "start_time": "2022-01-06T09:49:27.945Z"
   },
   {
    "duration": 17,
    "start_time": "2022-01-06T09:56:25.490Z"
   },
   {
    "duration": 18,
    "start_time": "2022-01-06T10:03:07.212Z"
   },
   {
    "duration": 23,
    "start_time": "2022-01-06T10:03:31.370Z"
   },
   {
    "duration": 23,
    "start_time": "2022-01-06T10:03:51.580Z"
   },
   {
    "duration": 16,
    "start_time": "2022-01-06T10:20:31.527Z"
   },
   {
    "duration": 15,
    "start_time": "2022-01-06T10:21:08.511Z"
   },
   {
    "duration": 297,
    "start_time": "2022-01-06T10:23:25.285Z"
   },
   {
    "duration": 315,
    "start_time": "2022-01-06T10:23:59.157Z"
   },
   {
    "duration": 307,
    "start_time": "2022-01-06T10:24:13.651Z"
   },
   {
    "duration": 16,
    "start_time": "2022-01-06T10:24:39.979Z"
   },
   {
    "duration": 8,
    "start_time": "2022-01-06T10:29:49.424Z"
   },
   {
    "duration": 8,
    "start_time": "2022-01-06T10:30:06.013Z"
   },
   {
    "duration": 9,
    "start_time": "2022-01-06T10:30:29.813Z"
   },
   {
    "duration": 9,
    "start_time": "2022-01-06T10:30:37.297Z"
   },
   {
    "duration": 9,
    "start_time": "2022-01-06T10:30:47.440Z"
   },
   {
    "duration": 10,
    "start_time": "2022-01-06T10:30:52.493Z"
   },
   {
    "duration": 285,
    "start_time": "2022-01-06T10:31:11.599Z"
   },
   {
    "duration": 8,
    "start_time": "2022-01-06T10:31:49.451Z"
   },
   {
    "duration": 17,
    "start_time": "2022-01-06T10:34:38.731Z"
   },
   {
    "duration": 21,
    "start_time": "2022-01-06T10:35:14.963Z"
   },
   {
    "duration": 327,
    "start_time": "2022-01-06T10:37:20.819Z"
   },
   {
    "duration": 374,
    "start_time": "2022-01-06T10:39:24.945Z"
   },
   {
    "duration": 327,
    "start_time": "2022-01-06T10:39:57.809Z"
   },
   {
    "duration": 13,
    "start_time": "2022-01-06T10:40:28.359Z"
   },
   {
    "duration": 19,
    "start_time": "2022-01-06T10:41:15.881Z"
   },
   {
    "duration": 432,
    "start_time": "2022-01-06T10:50:09.095Z"
   },
   {
    "duration": 17,
    "start_time": "2022-01-06T10:58:44.217Z"
   },
   {
    "duration": 7,
    "start_time": "2022-01-06T10:59:35.919Z"
   },
   {
    "duration": 16,
    "start_time": "2022-01-06T10:59:52.295Z"
   },
   {
    "duration": 296,
    "start_time": "2022-01-06T11:01:07.702Z"
   },
   {
    "duration": 15,
    "start_time": "2022-01-06T11:06:10.147Z"
   },
   {
    "duration": 263,
    "start_time": "2022-01-06T19:30:32.890Z"
   },
   {
    "duration": 189,
    "start_time": "2022-01-06T19:49:14.879Z"
   },
   {
    "duration": 174,
    "start_time": "2022-01-06T19:49:36.739Z"
   },
   {
    "duration": 181,
    "start_time": "2022-01-06T19:50:39.432Z"
   },
   {
    "duration": 170,
    "start_time": "2022-01-06T19:50:55.204Z"
   },
   {
    "duration": 236,
    "start_time": "2022-01-06T19:52:22.964Z"
   },
   {
    "duration": 160,
    "start_time": "2022-01-06T19:52:29.450Z"
   },
   {
    "duration": 743,
    "start_time": "2022-01-06T19:52:39.662Z"
   },
   {
    "duration": 144,
    "start_time": "2022-01-06T19:52:40.408Z"
   },
   {
    "duration": 10,
    "start_time": "2022-01-06T19:52:40.554Z"
   },
   {
    "duration": 35,
    "start_time": "2022-01-06T19:52:40.565Z"
   },
   {
    "duration": 16,
    "start_time": "2022-01-06T19:52:40.603Z"
   },
   {
    "duration": 36,
    "start_time": "2022-01-06T19:52:40.622Z"
   },
   {
    "duration": 22,
    "start_time": "2022-01-06T19:52:40.660Z"
   },
   {
    "duration": 37,
    "start_time": "2022-01-06T19:52:40.685Z"
   },
   {
    "duration": 55,
    "start_time": "2022-01-06T19:52:40.724Z"
   },
   {
    "duration": 32,
    "start_time": "2022-01-06T19:52:40.780Z"
   },
   {
    "duration": 32,
    "start_time": "2022-01-06T19:52:40.814Z"
   },
   {
    "duration": 75,
    "start_time": "2022-01-06T19:52:40.848Z"
   },
   {
    "duration": 46,
    "start_time": "2022-01-06T19:52:40.925Z"
   },
   {
    "duration": 19,
    "start_time": "2022-01-06T19:52:40.973Z"
   },
   {
    "duration": 35,
    "start_time": "2022-01-06T19:52:40.994Z"
   },
   {
    "duration": 26,
    "start_time": "2022-01-06T19:52:41.030Z"
   },
   {
    "duration": 35,
    "start_time": "2022-01-06T19:52:41.058Z"
   },
   {
    "duration": 16,
    "start_time": "2022-01-06T19:52:41.095Z"
   },
   {
    "duration": 12,
    "start_time": "2022-01-06T19:52:41.114Z"
   },
   {
    "duration": 3,
    "start_time": "2022-01-06T19:52:41.128Z"
   },
   {
    "duration": 18,
    "start_time": "2022-01-06T19:52:41.133Z"
   },
   {
    "duration": 22,
    "start_time": "2022-01-06T19:52:41.193Z"
   },
   {
    "duration": 16,
    "start_time": "2022-01-06T19:52:41.218Z"
   },
   {
    "duration": 13,
    "start_time": "2022-01-06T19:52:41.236Z"
   },
   {
    "duration": 41,
    "start_time": "2022-01-06T19:52:41.251Z"
   },
   {
    "duration": 17,
    "start_time": "2022-01-06T19:52:41.294Z"
   },
   {
    "duration": 12,
    "start_time": "2022-01-06T19:52:41.313Z"
   },
   {
    "duration": 15,
    "start_time": "2022-01-06T19:52:41.328Z"
   },
   {
    "duration": 13,
    "start_time": "2022-01-06T19:52:41.345Z"
   },
   {
    "duration": 41,
    "start_time": "2022-01-06T19:52:41.360Z"
   },
   {
    "duration": 2585,
    "start_time": "2022-01-06T19:52:41.404Z"
   },
   {
    "duration": -637,
    "start_time": "2022-01-06T19:52:44.628Z"
   },
   {
    "duration": -642,
    "start_time": "2022-01-06T19:52:44.635Z"
   },
   {
    "duration": -646,
    "start_time": "2022-01-06T19:52:44.640Z"
   },
   {
    "duration": -652,
    "start_time": "2022-01-06T19:52:44.647Z"
   },
   {
    "duration": -655,
    "start_time": "2022-01-06T19:52:44.652Z"
   },
   {
    "duration": -662,
    "start_time": "2022-01-06T19:52:44.660Z"
   },
   {
    "duration": -666,
    "start_time": "2022-01-06T19:52:44.666Z"
   },
   {
    "duration": 24,
    "start_time": "2022-01-06T19:52:58.856Z"
   },
   {
    "duration": 14,
    "start_time": "2022-01-06T19:53:28.082Z"
   },
   {
    "duration": 20,
    "start_time": "2022-01-06T19:54:20.069Z"
   },
   {
    "duration": 24,
    "start_time": "2022-01-06T19:55:01.628Z"
   },
   {
    "duration": 25,
    "start_time": "2022-01-06T19:55:42.322Z"
   },
   {
    "duration": 31,
    "start_time": "2022-01-06T19:56:11.276Z"
   },
   {
    "duration": 24,
    "start_time": "2022-01-06T19:56:23.427Z"
   },
   {
    "duration": 5,
    "start_time": "2022-01-06T19:56:39.465Z"
   },
   {
    "duration": 20,
    "start_time": "2022-01-06T19:57:01.656Z"
   },
   {
    "duration": 14,
    "start_time": "2022-01-06T19:59:36.075Z"
   },
   {
    "duration": 18,
    "start_time": "2022-01-06T19:59:42.295Z"
   },
   {
    "duration": 15,
    "start_time": "2022-01-06T19:59:55.487Z"
   },
   {
    "duration": 5,
    "start_time": "2022-01-06T20:00:00.757Z"
   },
   {
    "duration": 24,
    "start_time": "2022-01-06T20:03:07.110Z"
   },
   {
    "duration": 19,
    "start_time": "2022-01-06T20:03:15.277Z"
   },
   {
    "duration": 17,
    "start_time": "2022-01-06T20:03:23.824Z"
   },
   {
    "duration": 17,
    "start_time": "2022-01-06T20:03:28.749Z"
   },
   {
    "duration": 16,
    "start_time": "2022-01-06T20:04:33.133Z"
   },
   {
    "duration": 6,
    "start_time": "2022-01-06T20:04:54.007Z"
   },
   {
    "duration": 2851,
    "start_time": "2022-01-06T20:05:14.746Z"
   },
   {
    "duration": 2925,
    "start_time": "2022-01-06T20:06:48.279Z"
   },
   {
    "duration": 2308,
    "start_time": "2022-01-06T20:12:11.496Z"
   },
   {
    "duration": 59,
    "start_time": "2022-01-06T20:27:56.734Z"
   },
   {
    "duration": 51,
    "start_time": "2022-01-06T20:28:28.950Z"
   },
   {
    "duration": 58,
    "start_time": "2022-01-06T20:28:52.882Z"
   },
   {
    "duration": 7,
    "start_time": "2022-01-06T20:29:52.535Z"
   },
   {
    "duration": 58,
    "start_time": "2022-01-06T20:31:44.001Z"
   },
   {
    "duration": 58,
    "start_time": "2022-01-06T20:34:16.329Z"
   },
   {
    "duration": 65,
    "start_time": "2022-01-06T20:35:12.629Z"
   },
   {
    "duration": 4,
    "start_time": "2022-01-06T20:48:00.384Z"
   },
   {
    "duration": 2439,
    "start_time": "2022-01-06T20:48:08.709Z"
   },
   {
    "duration": 5,
    "start_time": "2022-01-06T20:51:42.252Z"
   },
   {
    "duration": 413,
    "start_time": "2022-01-06T20:51:50.371Z"
   },
   {
    "duration": 6,
    "start_time": "2022-01-06T20:52:34.311Z"
   },
   {
    "duration": 384,
    "start_time": "2022-01-06T20:52:39.926Z"
   },
   {
    "duration": 5,
    "start_time": "2022-01-06T20:53:22.249Z"
   },
   {
    "duration": 3146,
    "start_time": "2022-01-06T20:53:28.980Z"
   },
   {
    "duration": 4,
    "start_time": "2022-01-06T20:55:14.377Z"
   },
   {
    "duration": 24,
    "start_time": "2022-01-06T20:55:21.688Z"
   },
   {
    "duration": 13,
    "start_time": "2022-01-06T20:55:48.277Z"
   },
   {
    "duration": 2570,
    "start_time": "2022-01-06T20:56:00.512Z"
   },
   {
    "duration": 21,
    "start_time": "2022-01-06T20:57:31.211Z"
   },
   {
    "duration": 2501,
    "start_time": "2022-01-06T20:57:53.424Z"
   },
   {
    "duration": 5,
    "start_time": "2022-01-06T21:05:17.774Z"
   },
   {
    "duration": 2500,
    "start_time": "2022-01-06T21:05:22.779Z"
   },
   {
    "duration": 5,
    "start_time": "2022-01-06T21:05:56.441Z"
   },
   {
    "duration": 21,
    "start_time": "2022-01-06T21:06:08.824Z"
   },
   {
    "duration": 19,
    "start_time": "2022-01-06T21:06:27.453Z"
   },
   {
    "duration": 27,
    "start_time": "2022-01-06T21:06:39.997Z"
   },
   {
    "duration": 23,
    "start_time": "2022-01-06T21:06:51.113Z"
   },
   {
    "duration": 19,
    "start_time": "2022-01-06T21:08:13.604Z"
   },
   {
    "duration": 2385,
    "start_time": "2022-01-06T21:09:05.903Z"
   },
   {
    "duration": 11,
    "start_time": "2022-01-06T21:10:48.595Z"
   },
   {
    "duration": 15,
    "start_time": "2022-01-06T21:11:00.207Z"
   },
   {
    "duration": 14,
    "start_time": "2022-01-06T21:11:46.729Z"
   },
   {
    "duration": 20,
    "start_time": "2022-01-06T21:12:10.962Z"
   },
   {
    "duration": 216,
    "start_time": "2022-01-06T21:26:19.843Z"
   },
   {
    "duration": 261,
    "start_time": "2022-01-06T21:26:46.243Z"
   },
   {
    "duration": 214,
    "start_time": "2022-01-06T21:28:37.883Z"
   },
   {
    "duration": 216,
    "start_time": "2022-01-06T21:28:55.514Z"
   },
   {
    "duration": 227,
    "start_time": "2022-01-06T21:29:34.668Z"
   },
   {
    "duration": 26,
    "start_time": "2022-01-06T21:29:48.806Z"
   },
   {
    "duration": 17,
    "start_time": "2022-01-06T21:41:31.886Z"
   },
   {
    "duration": 5,
    "start_time": "2022-01-06T21:42:12.133Z"
   },
   {
    "duration": 731,
    "start_time": "2022-01-07T14:26:40.377Z"
   },
   {
    "duration": 133,
    "start_time": "2022-01-07T14:26:41.110Z"
   },
   {
    "duration": 18,
    "start_time": "2022-01-07T14:26:41.247Z"
   },
   {
    "duration": 33,
    "start_time": "2022-01-07T14:26:41.267Z"
   },
   {
    "duration": 14,
    "start_time": "2022-01-07T14:26:41.302Z"
   },
   {
    "duration": 26,
    "start_time": "2022-01-07T14:26:41.317Z"
   },
   {
    "duration": 3,
    "start_time": "2022-01-07T14:26:41.346Z"
   },
   {
    "duration": 28,
    "start_time": "2022-01-07T14:26:41.351Z"
   },
   {
    "duration": 34,
    "start_time": "2022-01-07T14:26:41.380Z"
   },
   {
    "duration": 22,
    "start_time": "2022-01-07T14:26:41.416Z"
   },
   {
    "duration": 27,
    "start_time": "2022-01-07T14:26:41.440Z"
   },
   {
    "duration": 68,
    "start_time": "2022-01-07T14:26:41.468Z"
   },
   {
    "duration": 48,
    "start_time": "2022-01-07T14:26:41.538Z"
   },
   {
    "duration": 9,
    "start_time": "2022-01-07T14:26:41.587Z"
   },
   {
    "duration": 31,
    "start_time": "2022-01-07T14:26:41.598Z"
   },
   {
    "duration": 42,
    "start_time": "2022-01-07T14:26:41.630Z"
   },
   {
    "duration": 8,
    "start_time": "2022-01-07T14:26:41.674Z"
   },
   {
    "duration": 18,
    "start_time": "2022-01-07T14:26:41.684Z"
   },
   {
    "duration": 26,
    "start_time": "2022-01-07T14:26:41.703Z"
   },
   {
    "duration": 8,
    "start_time": "2022-01-07T14:26:41.731Z"
   },
   {
    "duration": 33,
    "start_time": "2022-01-07T14:26:41.741Z"
   },
   {
    "duration": 16,
    "start_time": "2022-01-07T14:26:41.777Z"
   },
   {
    "duration": 19,
    "start_time": "2022-01-07T14:26:41.795Z"
   },
   {
    "duration": 18,
    "start_time": "2022-01-07T14:26:41.816Z"
   },
   {
    "duration": 35,
    "start_time": "2022-01-07T14:26:41.836Z"
   },
   {
    "duration": 24,
    "start_time": "2022-01-07T14:26:41.872Z"
   },
   {
    "duration": 27,
    "start_time": "2022-01-07T14:26:41.897Z"
   },
   {
    "duration": 15,
    "start_time": "2022-01-07T14:26:41.926Z"
   },
   {
    "duration": 11,
    "start_time": "2022-01-07T14:26:41.943Z"
   },
   {
    "duration": 4,
    "start_time": "2022-01-07T14:26:41.956Z"
   },
   {
    "duration": 21,
    "start_time": "2022-01-07T14:26:41.962Z"
   },
   {
    "duration": 11,
    "start_time": "2022-01-07T14:26:41.985Z"
   },
   {
    "duration": 18,
    "start_time": "2022-01-07T14:26:41.998Z"
   },
   {
    "duration": 13,
    "start_time": "2022-01-07T14:26:42.018Z"
   },
   {
    "duration": 42,
    "start_time": "2022-01-07T14:26:42.033Z"
   },
   {
    "duration": 4,
    "start_time": "2022-01-07T14:26:42.077Z"
   },
   {
    "duration": 20,
    "start_time": "2022-01-07T14:26:42.083Z"
   },
   {
    "duration": 5,
    "start_time": "2022-01-07T14:26:42.104Z"
   }
  ],
  "colab": {
   "collapsed_sections": [
    "E0vqbgi9ay0H",
    "VUC88oWjTJw2",
    "atZAxtq4_Zcu"
   ],
   "name": "EmptyFinalProject.ipynb\"",
   "provenance": []
  },
  "kernelspec": {
   "display_name": "Python 3 (ipykernel)",
   "language": "python",
   "name": "python3"
  },
  "language_info": {
   "codemirror_mode": {
    "name": "ipython",
    "version": 3
   },
   "file_extension": ".py",
   "mimetype": "text/x-python",
   "name": "python",
   "nbconvert_exporter": "python",
   "pygments_lexer": "ipython3",
   "version": "3.9.7"
  },
  "toc": {
   "base_numbering": 1,
   "nav_menu": {},
   "number_sections": true,
   "sideBar": true,
   "skip_h1_title": true,
   "title_cell": "Table of Contents",
   "title_sidebar": "Contents",
   "toc_cell": false,
   "toc_position": {},
   "toc_section_display": true,
   "toc_window_display": false
  }
 },
 "nbformat": 4,
 "nbformat_minor": 4
}
