{
 "cells": [
  {
   "cell_type": "markdown",
   "metadata": {},
   "source": [
    "# How impact of weather on ride frequency ?"
   ]
  },
  {
   "cell_type": "markdown",
   "metadata": {},
   "source": [
    "We are analyzing a new ride-sharing company Zuber, that's launching in Chicago. \n",
    "Our task is to find patterns in the available information. \n",
    "We want to understand passenger preferences and the impact of external factors on rides.\n",
    "Working with a database, we'll analyze data from competitors and test a hypothesis about the impact of weather on ride frequency."
   ]
  },
  {
   "cell_type": "markdown",
   "metadata": {},
   "source": [
    "## Goal:\n",
    "\n",
    "Test hypotheses:\n",
    "\n",
    "1. Test statistical hypotheses  the average duration of rides from the Loop to O'Hare International Airport changes on rainy Saturdays "
   ]
  },
  {
   "cell_type": "markdown",
   "metadata": {},
   "source": [
    "##  Plan:\n",
    "1. Colecting the data\n",
    "2. Prepare the data and exploring the data\n",
    "3. Study data behaviour\n",
    "4. Test statistical hypotheses\n",
    "5. General conclusion"
   ]
  },
  {
   "cell_type": "markdown",
   "metadata": {},
   "source": [
    "## Initialization"
   ]
  },
  {
   "cell_type": "code",
   "execution_count": 1,
   "metadata": {},
   "outputs": [],
   "source": [
    "# Loading all the libraries\n",
    "import pandas as pd\n",
    "import scipy as sp\n",
    "import matplotlib.pyplot as plt\n",
    "import seaborn as sns\n",
    "import numpy as np"
   ]
  },
  {
   "cell_type": "code",
   "execution_count": 2,
   "metadata": {},
   "outputs": [],
   "source": [
    "# Colecting data\n",
    "df_company = pd.read_csv('/datasets/project_sql_result_01.csv')\n",
    "df_location= pd.read_csv('/datasets/project_sql_result_04.csv')\n",
    "df_3 = pd.read_csv('/datasets/project_sql_result_07.csv')"
   ]
  },
  {
   "cell_type": "markdown",
   "metadata": {},
   "source": [
    "##  Explore initial data"
   ]
  },
  {
   "cell_type": "markdown",
   "metadata": {},
   "source": [
    "project_sql_result_01.csv. It contains the following data:\n",
    "- company_name: taxi company name\n",
    "- trips_amount: the number of rides for each taxi company on November 15-16, 2017.\n",
    "\n",
    "\n",
    "project_sql_result_04.csv. It contains the following data:\n",
    "- dropoff_location_name: Chicago neighborhoods where rides ended\n",
    "- average_trips: the average number of rides that ended in each neighborhood in November 2017.  \n",
    "\n",
    "\n",
    "\n",
    "project_sql_result_07.csv — the result of the last query. It contains data on rides from the Loop to O'Hare International Airport:\n",
    "- start_ts — pickup date and time\n",
    "- weather_conditions — weather conditions at the moment the ride started\n",
    "- duration_seconds — ride duration in seconds\n",
    "    \n",
    "    \n",
    "    \n",
    "    \n",
    "    \n",
    "    "
   ]
  },
  {
   "cell_type": "markdown",
   "metadata": {},
   "source": [
    "##  Prepare the data"
   ]
  },
  {
   "cell_type": "markdown",
   "metadata": {},
   "source": [
    "Let's explore each df to get an initial understanding of the data and do necessary corrections to each table if necessary."
   ]
  },
  {
   "cell_type": "markdown",
   "metadata": {},
   "source": [
    "### df_company"
   ]
  },
  {
   "cell_type": "code",
   "execution_count": 3,
   "metadata": {
    "scrolled": true
   },
   "outputs": [
    {
     "data": {
      "text/html": [
       "<div>\n",
       "<style scoped>\n",
       "    .dataframe tbody tr th:only-of-type {\n",
       "        vertical-align: middle;\n",
       "    }\n",
       "\n",
       "    .dataframe tbody tr th {\n",
       "        vertical-align: top;\n",
       "    }\n",
       "\n",
       "    .dataframe thead th {\n",
       "        text-align: right;\n",
       "    }\n",
       "</style>\n",
       "<table border=\"1\" class=\"dataframe\">\n",
       "  <thead>\n",
       "    <tr style=\"text-align: right;\">\n",
       "      <th></th>\n",
       "      <th>company_name</th>\n",
       "      <th>trips_amount</th>\n",
       "    </tr>\n",
       "  </thead>\n",
       "  <tbody>\n",
       "    <tr>\n",
       "      <th>0</th>\n",
       "      <td>Flash Cab</td>\n",
       "      <td>19558</td>\n",
       "    </tr>\n",
       "    <tr>\n",
       "      <th>1</th>\n",
       "      <td>Taxi Affiliation Services</td>\n",
       "      <td>11422</td>\n",
       "    </tr>\n",
       "    <tr>\n",
       "      <th>2</th>\n",
       "      <td>Medallion Leasing</td>\n",
       "      <td>10367</td>\n",
       "    </tr>\n",
       "    <tr>\n",
       "      <th>3</th>\n",
       "      <td>Yellow Cab</td>\n",
       "      <td>9888</td>\n",
       "    </tr>\n",
       "    <tr>\n",
       "      <th>4</th>\n",
       "      <td>Taxi Affiliation Service Yellow</td>\n",
       "      <td>9299</td>\n",
       "    </tr>\n",
       "  </tbody>\n",
       "</table>\n",
       "</div>"
      ],
      "text/plain": [
       "                      company_name  trips_amount\n",
       "0                        Flash Cab         19558\n",
       "1        Taxi Affiliation Services         11422\n",
       "2                Medallion Leasing         10367\n",
       "3                       Yellow Cab          9888\n",
       "4  Taxi Affiliation Service Yellow          9299"
      ]
     },
     "execution_count": 3,
     "metadata": {},
     "output_type": "execute_result"
    }
   ],
   "source": [
    "# Print sample of data\n",
    "df_company.head()"
   ]
  },
  {
   "cell_type": "code",
   "execution_count": 4,
   "metadata": {
    "scrolled": true
   },
   "outputs": [
    {
     "name": "stdout",
     "output_type": "stream",
     "text": [
      "<class 'pandas.core.frame.DataFrame'>\n",
      "RangeIndex: 64 entries, 0 to 63\n",
      "Data columns (total 2 columns):\n",
      " #   Column        Non-Null Count  Dtype \n",
      "---  ------        --------------  ----- \n",
      " 0   company_name  64 non-null     object\n",
      " 1   trips_amount  64 non-null     int64 \n",
      "dtypes: int64(1), object(1)\n",
      "memory usage: 1.1+ KB\n"
     ]
    }
   ],
   "source": [
    "# Print general information/summury of data\n",
    "df_company.info()"
   ]
  },
  {
   "cell_type": "code",
   "execution_count": 5,
   "metadata": {},
   "outputs": [
    {
     "data": {
      "text/plain": [
       "company_name    0\n",
       "trips_amount    0\n",
       "dtype: int64"
      ]
     },
     "execution_count": 5,
     "metadata": {},
     "output_type": "execute_result"
    }
   ],
   "source": [
    "# Check for missing values\n",
    "df_company.isna().sum()"
   ]
  },
  {
   "cell_type": "markdown",
   "metadata": {},
   "source": [
    "### df_location"
   ]
  },
  {
   "cell_type": "code",
   "execution_count": 6,
   "metadata": {
    "scrolled": false
   },
   "outputs": [
    {
     "data": {
      "text/html": [
       "<div>\n",
       "<style scoped>\n",
       "    .dataframe tbody tr th:only-of-type {\n",
       "        vertical-align: middle;\n",
       "    }\n",
       "\n",
       "    .dataframe tbody tr th {\n",
       "        vertical-align: top;\n",
       "    }\n",
       "\n",
       "    .dataframe thead th {\n",
       "        text-align: right;\n",
       "    }\n",
       "</style>\n",
       "<table border=\"1\" class=\"dataframe\">\n",
       "  <thead>\n",
       "    <tr style=\"text-align: right;\">\n",
       "      <th></th>\n",
       "      <th>dropoff_location_name</th>\n",
       "      <th>average_trips</th>\n",
       "    </tr>\n",
       "  </thead>\n",
       "  <tbody>\n",
       "    <tr>\n",
       "      <th>0</th>\n",
       "      <td>Loop</td>\n",
       "      <td>10727.466667</td>\n",
       "    </tr>\n",
       "    <tr>\n",
       "      <th>1</th>\n",
       "      <td>River North</td>\n",
       "      <td>9523.666667</td>\n",
       "    </tr>\n",
       "    <tr>\n",
       "      <th>2</th>\n",
       "      <td>Streeterville</td>\n",
       "      <td>6664.666667</td>\n",
       "    </tr>\n",
       "    <tr>\n",
       "      <th>3</th>\n",
       "      <td>West Loop</td>\n",
       "      <td>5163.666667</td>\n",
       "    </tr>\n",
       "    <tr>\n",
       "      <th>4</th>\n",
       "      <td>O'Hare</td>\n",
       "      <td>2546.900000</td>\n",
       "    </tr>\n",
       "  </tbody>\n",
       "</table>\n",
       "</div>"
      ],
      "text/plain": [
       "  dropoff_location_name  average_trips\n",
       "0                  Loop   10727.466667\n",
       "1           River North    9523.666667\n",
       "2         Streeterville    6664.666667\n",
       "3             West Loop    5163.666667\n",
       "4                O'Hare    2546.900000"
      ]
     },
     "execution_count": 6,
     "metadata": {},
     "output_type": "execute_result"
    }
   ],
   "source": [
    "# Print sample of data\n",
    "df_location.head()"
   ]
  },
  {
   "cell_type": "code",
   "execution_count": 7,
   "metadata": {},
   "outputs": [
    {
     "name": "stdout",
     "output_type": "stream",
     "text": [
      "<class 'pandas.core.frame.DataFrame'>\n",
      "RangeIndex: 94 entries, 0 to 93\n",
      "Data columns (total 2 columns):\n",
      " #   Column                 Non-Null Count  Dtype  \n",
      "---  ------                 --------------  -----  \n",
      " 0   dropoff_location_name  94 non-null     object \n",
      " 1   average_trips          94 non-null     float64\n",
      "dtypes: float64(1), object(1)\n",
      "memory usage: 1.6+ KB\n"
     ]
    }
   ],
   "source": [
    "# Print general information/summury of data\n",
    "df_location.info()"
   ]
  },
  {
   "cell_type": "code",
   "execution_count": 8,
   "metadata": {},
   "outputs": [
    {
     "data": {
      "text/plain": [
       "dropoff_location_name    0\n",
       "average_trips            0\n",
       "dtype: int64"
      ]
     },
     "execution_count": 8,
     "metadata": {},
     "output_type": "execute_result"
    }
   ],
   "source": [
    "# Check for missing values\n",
    "df_location.isna().sum()"
   ]
  },
  {
   "cell_type": "markdown",
   "metadata": {},
   "source": [
    "### df_3"
   ]
  },
  {
   "cell_type": "code",
   "execution_count": 9,
   "metadata": {
    "scrolled": false
   },
   "outputs": [
    {
     "data": {
      "text/html": [
       "<div>\n",
       "<style scoped>\n",
       "    .dataframe tbody tr th:only-of-type {\n",
       "        vertical-align: middle;\n",
       "    }\n",
       "\n",
       "    .dataframe tbody tr th {\n",
       "        vertical-align: top;\n",
       "    }\n",
       "\n",
       "    .dataframe thead th {\n",
       "        text-align: right;\n",
       "    }\n",
       "</style>\n",
       "<table border=\"1\" class=\"dataframe\">\n",
       "  <thead>\n",
       "    <tr style=\"text-align: right;\">\n",
       "      <th></th>\n",
       "      <th>start_ts</th>\n",
       "      <th>weather_conditions</th>\n",
       "      <th>duration_seconds</th>\n",
       "    </tr>\n",
       "  </thead>\n",
       "  <tbody>\n",
       "    <tr>\n",
       "      <th>0</th>\n",
       "      <td>2017-11-25 16:00:00</td>\n",
       "      <td>Good</td>\n",
       "      <td>2410.0</td>\n",
       "    </tr>\n",
       "    <tr>\n",
       "      <th>1</th>\n",
       "      <td>2017-11-25 14:00:00</td>\n",
       "      <td>Good</td>\n",
       "      <td>1920.0</td>\n",
       "    </tr>\n",
       "    <tr>\n",
       "      <th>2</th>\n",
       "      <td>2017-11-25 12:00:00</td>\n",
       "      <td>Good</td>\n",
       "      <td>1543.0</td>\n",
       "    </tr>\n",
       "    <tr>\n",
       "      <th>3</th>\n",
       "      <td>2017-11-04 10:00:00</td>\n",
       "      <td>Good</td>\n",
       "      <td>2512.0</td>\n",
       "    </tr>\n",
       "    <tr>\n",
       "      <th>4</th>\n",
       "      <td>2017-11-11 07:00:00</td>\n",
       "      <td>Good</td>\n",
       "      <td>1440.0</td>\n",
       "    </tr>\n",
       "  </tbody>\n",
       "</table>\n",
       "</div>"
      ],
      "text/plain": [
       "              start_ts weather_conditions  duration_seconds\n",
       "0  2017-11-25 16:00:00               Good            2410.0\n",
       "1  2017-11-25 14:00:00               Good            1920.0\n",
       "2  2017-11-25 12:00:00               Good            1543.0\n",
       "3  2017-11-04 10:00:00               Good            2512.0\n",
       "4  2017-11-11 07:00:00               Good            1440.0"
      ]
     },
     "execution_count": 9,
     "metadata": {},
     "output_type": "execute_result"
    }
   ],
   "source": [
    "# Print sample of data\n",
    "df_3.head()"
   ]
  },
  {
   "cell_type": "code",
   "execution_count": 10,
   "metadata": {},
   "outputs": [
    {
     "name": "stdout",
     "output_type": "stream",
     "text": [
      "<class 'pandas.core.frame.DataFrame'>\n",
      "RangeIndex: 1068 entries, 0 to 1067\n",
      "Data columns (total 3 columns):\n",
      " #   Column              Non-Null Count  Dtype  \n",
      "---  ------              --------------  -----  \n",
      " 0   start_ts            1068 non-null   object \n",
      " 1   weather_conditions  1068 non-null   object \n",
      " 2   duration_seconds    1068 non-null   float64\n",
      "dtypes: float64(1), object(2)\n",
      "memory usage: 25.2+ KB\n"
     ]
    }
   ],
   "source": [
    "# Print generalinformation/summury of dataset of df_3\n",
    "df_3.info()"
   ]
  },
  {
   "cell_type": "code",
   "execution_count": 11,
   "metadata": {
    "scrolled": true
   },
   "outputs": [
    {
     "data": {
      "text/plain": [
       "start_ts              0\n",
       "weather_conditions    0\n",
       "duration_seconds      0\n",
       "dtype: int64"
      ]
     },
     "execution_count": 11,
     "metadata": {},
     "output_type": "execute_result"
    }
   ],
   "source": [
    "# Check for missing values \n",
    "df_3.isna().sum()"
   ]
  },
  {
   "cell_type": "code",
   "execution_count": 12,
   "metadata": {
    "scrolled": true
   },
   "outputs": [
    {
     "data": {
      "text/plain": [
       "str"
      ]
     },
     "execution_count": 12,
     "metadata": {},
     "output_type": "execute_result"
    }
   ],
   "source": [
    "# Let's check column 'start_ts'\n",
    "type(df_3.start_ts[0])"
   ]
  },
  {
   "cell_type": "markdown",
   "metadata": {},
   "source": [
    "### Fix data"
   ]
  },
  {
   "cell_type": "code",
   "execution_count": 13,
   "metadata": {},
   "outputs": [],
   "source": [
    "# Convert to Timestamps\n",
    "df_3['start_ts'] = pd.to_datetime(df_3['start_ts'],format ='%Y-%m-%d' )"
   ]
  },
  {
   "cell_type": "code",
   "execution_count": 14,
   "metadata": {},
   "outputs": [
    {
     "data": {
      "text/plain": [
       "pandas._libs.tslibs.timestamps.Timestamp"
      ]
     },
     "execution_count": 14,
     "metadata": {},
     "output_type": "execute_result"
    }
   ],
   "source": [
    "# Check it again\n",
    "type(df_3.start_ts[0])"
   ]
  },
  {
   "cell_type": "markdown",
   "metadata": {},
   "source": [
    "###  Conclusion"
   ]
  },
  {
   "cell_type": "markdown",
   "metadata": {},
   "source": [
    "- Thera is no missing values and inappropriate data types \n",
    "- The data in DataFrames represented object and float64\n",
    "- The data in  'column start_ts' of df_3 represented as object so it will be converted to Timestamp"
   ]
  },
  {
   "cell_type": "markdown",
   "metadata": {},
   "source": [
    "##  Study the data"
   ]
  },
  {
   "cell_type": "markdown",
   "metadata": {},
   "source": [
    "For these two datasets we now need to:\n",
    "\n",
    "- identify the top 10 neighborhoods in terms of drop-offs\n",
    "- make graphs: taxi companies and number of rides, top 10 neighborhoods by number of dropoffs\n",
    "- draw conclusions based on each graph and explain the results"
   ]
  },
  {
   "cell_type": "markdown",
   "metadata": {},
   "source": [
    "### Identify the top 10 neighborhoods in terms of drop-offs"
   ]
  },
  {
   "cell_type": "code",
   "execution_count": 15,
   "metadata": {},
   "outputs": [
    {
     "data": {
      "text/html": [
       "<div>\n",
       "<style scoped>\n",
       "    .dataframe tbody tr th:only-of-type {\n",
       "        vertical-align: middle;\n",
       "    }\n",
       "\n",
       "    .dataframe tbody tr th {\n",
       "        vertical-align: top;\n",
       "    }\n",
       "\n",
       "    .dataframe thead th {\n",
       "        text-align: right;\n",
       "    }\n",
       "</style>\n",
       "<table border=\"1\" class=\"dataframe\">\n",
       "  <thead>\n",
       "    <tr style=\"text-align: right;\">\n",
       "      <th></th>\n",
       "      <th>dropoff_location_name</th>\n",
       "      <th>average_trips</th>\n",
       "    </tr>\n",
       "  </thead>\n",
       "  <tbody>\n",
       "    <tr>\n",
       "      <th>0</th>\n",
       "      <td>Loop</td>\n",
       "      <td>10727.466667</td>\n",
       "    </tr>\n",
       "    <tr>\n",
       "      <th>1</th>\n",
       "      <td>River North</td>\n",
       "      <td>9523.666667</td>\n",
       "    </tr>\n",
       "    <tr>\n",
       "      <th>2</th>\n",
       "      <td>Streeterville</td>\n",
       "      <td>6664.666667</td>\n",
       "    </tr>\n",
       "    <tr>\n",
       "      <th>3</th>\n",
       "      <td>West Loop</td>\n",
       "      <td>5163.666667</td>\n",
       "    </tr>\n",
       "    <tr>\n",
       "      <th>4</th>\n",
       "      <td>O'Hare</td>\n",
       "      <td>2546.900000</td>\n",
       "    </tr>\n",
       "    <tr>\n",
       "      <th>5</th>\n",
       "      <td>Lake View</td>\n",
       "      <td>2420.966667</td>\n",
       "    </tr>\n",
       "    <tr>\n",
       "      <th>6</th>\n",
       "      <td>Grant Park</td>\n",
       "      <td>2068.533333</td>\n",
       "    </tr>\n",
       "    <tr>\n",
       "      <th>7</th>\n",
       "      <td>Museum Campus</td>\n",
       "      <td>1510.000000</td>\n",
       "    </tr>\n",
       "    <tr>\n",
       "      <th>8</th>\n",
       "      <td>Gold Coast</td>\n",
       "      <td>1364.233333</td>\n",
       "    </tr>\n",
       "    <tr>\n",
       "      <th>9</th>\n",
       "      <td>Sheffield &amp; DePaul</td>\n",
       "      <td>1259.766667</td>\n",
       "    </tr>\n",
       "  </tbody>\n",
       "</table>\n",
       "</div>"
      ],
      "text/plain": [
       "  dropoff_location_name  average_trips\n",
       "0                  Loop   10727.466667\n",
       "1           River North    9523.666667\n",
       "2         Streeterville    6664.666667\n",
       "3             West Loop    5163.666667\n",
       "4                O'Hare    2546.900000\n",
       "5             Lake View    2420.966667\n",
       "6            Grant Park    2068.533333\n",
       "7         Museum Campus    1510.000000\n",
       "8            Gold Coast    1364.233333\n",
       "9    Sheffield & DePaul    1259.766667"
      ]
     },
     "execution_count": 15,
     "metadata": {},
     "output_type": "execute_result"
    }
   ],
   "source": [
    "# Identify the top 10 neighborhoods in terms of drop-offs\n",
    "\n",
    "top_10_neighborhoods = df_location.sort_values(by='average_trips',ascending = False).head(10)\n",
    "top_10_neighborhoods\n"
   ]
  },
  {
   "cell_type": "code",
   "execution_count": 16,
   "metadata": {},
   "outputs": [
    {
     "data": {
      "image/png": "[encoded data removed]",
      "text/plain": [
       "<Figure size 1440x576 with 1 Axes>"
      ]
     },
     "metadata": {
      "needs_background": "light"
     },
     "output_type": "display_data"
    }
   ],
   "source": [
    "# The bar chart showing distribution of 10 drop off location of neighborhoods in Chicago\n",
    "\n",
    "top_10_neighborhoods.plot.bar(x='dropoff_location_name', y='average_trips', rot=0, figsize=(20, 8),color=['#A0E8AF'])\n",
    "\n",
    "plt.title('Top 10 Dropoff Locations')#titles the chart: Top 10 Dropoff Locations\n",
    "plt.xlabel('Neighborhood')#labels the x-axis: Neighborhood\n",
    "plt.ylabel('Average Trips')#labels the y-axis: Average Trips\n",
    "plt.show()#shows the plotted chart"
   ]
  },
  {
   "cell_type": "markdown",
   "metadata": {},
   "source": [
    "- As we see top 3 leading location are Loop, River North,Streetervulle"
   ]
  },
  {
   "cell_type": "markdown",
   "metadata": {},
   "source": [
    "### Taxi companies and number of rides"
   ]
  },
  {
   "cell_type": "code",
   "execution_count": 17,
   "metadata": {
    "scrolled": true
   },
   "outputs": [
    {
     "data": {
      "text/html": [
       "<div>\n",
       "<style scoped>\n",
       "    .dataframe tbody tr th:only-of-type {\n",
       "        vertical-align: middle;\n",
       "    }\n",
       "\n",
       "    .dataframe tbody tr th {\n",
       "        vertical-align: top;\n",
       "    }\n",
       "\n",
       "    .dataframe thead th {\n",
       "        text-align: right;\n",
       "    }\n",
       "</style>\n",
       "<table border=\"1\" class=\"dataframe\">\n",
       "  <thead>\n",
       "    <tr style=\"text-align: right;\">\n",
       "      <th></th>\n",
       "      <th>company_name</th>\n",
       "      <th>trips_amount</th>\n",
       "    </tr>\n",
       "  </thead>\n",
       "  <tbody>\n",
       "    <tr>\n",
       "      <th>0</th>\n",
       "      <td>Flash Cab</td>\n",
       "      <td>19558</td>\n",
       "    </tr>\n",
       "    <tr>\n",
       "      <th>1</th>\n",
       "      <td>Taxi Affiliation Services</td>\n",
       "      <td>11422</td>\n",
       "    </tr>\n",
       "    <tr>\n",
       "      <th>2</th>\n",
       "      <td>Medallion Leasing</td>\n",
       "      <td>10367</td>\n",
       "    </tr>\n",
       "    <tr>\n",
       "      <th>3</th>\n",
       "      <td>Yellow Cab</td>\n",
       "      <td>9888</td>\n",
       "    </tr>\n",
       "    <tr>\n",
       "      <th>4</th>\n",
       "      <td>Taxi Affiliation Service Yellow</td>\n",
       "      <td>9299</td>\n",
       "    </tr>\n",
       "  </tbody>\n",
       "</table>\n",
       "</div>"
      ],
      "text/plain": [
       "                      company_name  trips_amount\n",
       "0                        Flash Cab         19558\n",
       "1        Taxi Affiliation Services         11422\n",
       "2                Medallion Leasing         10367\n",
       "3                       Yellow Cab          9888\n",
       "4  Taxi Affiliation Service Yellow          9299"
      ]
     },
     "execution_count": 17,
     "metadata": {},
     "output_type": "execute_result"
    }
   ],
   "source": [
    "df_company.head()"
   ]
  },
  {
   "cell_type": "code",
   "execution_count": 18,
   "metadata": {},
   "outputs": [
    {
     "data": {
      "text/plain": [
       "count       64.000000\n",
       "mean      2145.484375\n",
       "std       3812.310186\n",
       "min          2.000000\n",
       "25%         20.750000\n",
       "50%        178.500000\n",
       "75%       2106.500000\n",
       "max      19558.000000\n",
       "Name: trips_amount, dtype: float64"
      ]
     },
     "execution_count": 18,
     "metadata": {},
     "output_type": "execute_result"
    }
   ],
   "source": [
    "# Numerical description of average_trips column\n",
    "df_company['trips_amount'].describe()"
   ]
  },
  {
   "cell_type": "code",
   "execution_count": 19,
   "metadata": {},
   "outputs": [
    {
     "data": {
      "image/png": "[encoded data removed]",
      "text/plain": [
       "<Figure size 2088x1296 with 1 Axes>"
      ]
     },
     "metadata": {
      "needs_background": "light"
     },
     "output_type": "display_data"
    }
   ],
   "source": [
    "# This bar chart showing distribution of number of rides taxi companies\n",
    "df_company.query('trips_amount >= 500').plot.barh(x='company_name', y='trips_amount', rot=0, figsize=(29, 18))\n",
    "plt.title('Cab companies and number of trips')\n",
    "plt.xlabel('Number of Trips')\n",
    "plt.ylabel('Company')\n",
    "plt.show()"
   ]
  },
  {
   "cell_type": "markdown",
   "metadata": {},
   "source": [
    "- The leading company in terms of the number of trips is Flash Cab with 19558 trips"
   ]
  },
  {
   "cell_type": "markdown",
   "metadata": {},
   "source": [
    "Flash Cab is clearly at the top, by a lot. They probably own more cabs on the road. Second is Taxi Affilliation Services. After filtering with a threshold of 500, there are only 26 companies in our chart. That means 38 companies had fewer than 500 trips, so most of the market share is held by a smaller number of companies"
   ]
  },
  {
   "cell_type": "markdown",
   "metadata": {},
   "source": [
    "## Test statistical hypotheses"
   ]
  },
  {
   "cell_type": "markdown",
   "metadata": {},
   "source": [
    "- Test the hypothesis that the duration of rides from the the Loop to O'Hare International Airport changes on rainy Saturdays"
   ]
  },
  {
   "cell_type": "markdown",
   "metadata": {},
   "source": [
    "- null hypothesis H₀: the average user duration of rides from  the Loop to O'Hare International Airport on rainy Saturdays  are the are equal(same), there’s no difference.( no changes)\n",
    "\n",
    "- hypothesis H₁ : the average user duration of rides from  the Loop to O'Hare International Airport on rainy Saturdays  are not equal(not same), there is difference.(have changes)\n",
    "\n",
    "- alpha value - 5%"
   ]
  },
  {
   "cell_type": "code",
   "execution_count": 20,
   "metadata": {},
   "outputs": [
    {
     "data": {
      "text/html": [
       "<div>\n",
       "<style scoped>\n",
       "    .dataframe tbody tr th:only-of-type {\n",
       "        vertical-align: middle;\n",
       "    }\n",
       "\n",
       "    .dataframe tbody tr th {\n",
       "        vertical-align: top;\n",
       "    }\n",
       "\n",
       "    .dataframe thead th {\n",
       "        text-align: right;\n",
       "    }\n",
       "</style>\n",
       "<table border=\"1\" class=\"dataframe\">\n",
       "  <thead>\n",
       "    <tr style=\"text-align: right;\">\n",
       "      <th></th>\n",
       "      <th>start_ts</th>\n",
       "      <th>weather_conditions</th>\n",
       "      <th>duration_seconds</th>\n",
       "    </tr>\n",
       "  </thead>\n",
       "  <tbody>\n",
       "    <tr>\n",
       "      <th>0</th>\n",
       "      <td>2017-11-25 16:00:00</td>\n",
       "      <td>Good</td>\n",
       "      <td>2410.0</td>\n",
       "    </tr>\n",
       "    <tr>\n",
       "      <th>1</th>\n",
       "      <td>2017-11-25 14:00:00</td>\n",
       "      <td>Good</td>\n",
       "      <td>1920.0</td>\n",
       "    </tr>\n",
       "    <tr>\n",
       "      <th>2</th>\n",
       "      <td>2017-11-25 12:00:00</td>\n",
       "      <td>Good</td>\n",
       "      <td>1543.0</td>\n",
       "    </tr>\n",
       "    <tr>\n",
       "      <th>3</th>\n",
       "      <td>2017-11-04 10:00:00</td>\n",
       "      <td>Good</td>\n",
       "      <td>2512.0</td>\n",
       "    </tr>\n",
       "    <tr>\n",
       "      <th>4</th>\n",
       "      <td>2017-11-11 07:00:00</td>\n",
       "      <td>Good</td>\n",
       "      <td>1440.0</td>\n",
       "    </tr>\n",
       "  </tbody>\n",
       "</table>\n",
       "</div>"
      ],
      "text/plain": [
       "             start_ts weather_conditions  duration_seconds\n",
       "0 2017-11-25 16:00:00               Good            2410.0\n",
       "1 2017-11-25 14:00:00               Good            1920.0\n",
       "2 2017-11-25 12:00:00               Good            1543.0\n",
       "3 2017-11-04 10:00:00               Good            2512.0\n",
       "4 2017-11-11 07:00:00               Good            1440.0"
      ]
     },
     "execution_count": 20,
     "metadata": {},
     "output_type": "execute_result"
    }
   ],
   "source": [
    "# Let's have a look our dataset which is we are going to test\n",
    "df_3.head()"
   ]
  },
  {
   "cell_type": "code",
   "execution_count": 21,
   "metadata": {},
   "outputs": [
    {
     "data": {
      "text/plain": [
       "weather_conditions\n",
       "Good    1775712.0\n",
       "Bad      436897.0\n",
       "Name: duration_seconds, dtype: float64"
      ]
     },
     "execution_count": 21,
     "metadata": {},
     "output_type": "execute_result"
    }
   ],
   "source": [
    "df_3.groupby('weather_conditions')['duration_seconds'].sum().sort_values(ascending = False)"
   ]
  },
  {
   "cell_type": "code",
   "execution_count": 22,
   "metadata": {},
   "outputs": [
    {
     "name": "stdout",
     "output_type": "stream",
     "text": [
      "<class 'pandas.core.frame.DataFrame'>\n",
      "Int64Index: 888 entries, 0 to 1066\n",
      "Data columns (total 3 columns):\n",
      " #   Column              Non-Null Count  Dtype         \n",
      "---  ------              --------------  -----         \n",
      " 0   start_ts            888 non-null    datetime64[ns]\n",
      " 1   weather_conditions  888 non-null    object        \n",
      " 2   duration_seconds    888 non-null    float64       \n",
      "dtypes: datetime64[ns](1), float64(1), object(1)\n",
      "memory usage: 27.8+ KB\n"
     ]
    }
   ],
   "source": [
    "# Retrive from df_3  where the weahter is'Good' by slicing\n",
    "good_weather = df_3.query('weather_conditions == \"Good\"')\n",
    "good_weather.info()"
   ]
  },
  {
   "cell_type": "code",
   "execution_count": 23,
   "metadata": {},
   "outputs": [
    {
     "name": "stdout",
     "output_type": "stream",
     "text": [
      "<class 'pandas.core.frame.DataFrame'>\n",
      "Int64Index: 180 entries, 6 to 1067\n",
      "Data columns (total 3 columns):\n",
      " #   Column              Non-Null Count  Dtype         \n",
      "---  ------              --------------  -----         \n",
      " 0   start_ts            180 non-null    datetime64[ns]\n",
      " 1   weather_conditions  180 non-null    object        \n",
      " 2   duration_seconds    180 non-null    float64       \n",
      "dtypes: datetime64[ns](1), float64(1), object(1)\n",
      "memory usage: 5.6+ KB\n"
     ]
    }
   ],
   "source": [
    "#Ccreates slice from df_3 where the weather condition is \"Bad\" \n",
    "bad_weather = df_3.query('weather_conditions == \"Bad\"')\n",
    "bad_weather.info()"
   ]
  },
  {
   "cell_type": "code",
   "execution_count": 24,
   "metadata": {},
   "outputs": [
    {
     "name": "stdout",
     "output_type": "stream",
     "text": [
      "p-value: 6.738994326108734e-12\n",
      "We reject the null hypothesis\n"
     ]
    }
   ],
   "source": [
    "# Test hypothesis\n",
    "from scipy import stats as st\n",
    "import numpy as np\n",
    "\n",
    "good_weather = df_3.query('weather_conditions == \"Good\"')\n",
    "bad_weather = df_3.query('weather_conditions == \"Bad\"')\n",
    "\n",
    "#set alpha\n",
    "alpha = 0.05\n",
    "\n",
    "#calculate result\n",
    "results = st.ttest_ind(good_weather['duration_seconds'], bad_weather['duration_seconds'],equal_var=False)\n",
    "print('p-value:', results.pvalue)\n",
    "\n",
    "#check our hypothesis\n",
    "if(results.pvalue<alpha):\n",
    "    print('We reject the null hypothesis')\n",
    "else:\n",
    "    print('We can\\'t reject the null hypothesis')"
   ]
  },
  {
   "cell_type": "code",
   "execution_count": 25,
   "metadata": {},
   "outputs": [
    {
     "name": "stdout",
     "output_type": "stream",
     "text": [
      "p-value: 0.3968505113995001\n",
      "The variances are approximately the same\n"
     ]
    }
   ],
   "source": [
    "# Test our hypothesis using Levene's test\n",
    "from scipy import stats as st\n",
    "import numpy as np\n",
    "\n",
    "alpha = 0.05 #sets our alpha to 5%\n",
    "result = st.levene(good_weather['duration_seconds'], bad_weather['duration_seconds'], center='mean')\n",
    "#implements Levene's test on our slice columns specifying that the variances were calculated from the mean\n",
    "print('p-value:', result.pvalue)#prints the p-value\n",
    "if result.pvalue > alpha:#if the p-value is greater than alpha\n",
    "    print('The variances are approximately the same')#The variances are approx. the same\n",
    "else:#i.e if the p-value is less than alpha\n",
    "    print('The variances are too far apart to be considered homogeneous')\n",
    "    #The variances can't be considered homogeneous"
   ]
  },
  {
   "cell_type": "markdown",
   "metadata": {},
   "source": [
    "# General Conclusion"
   ]
  },
  {
   "cell_type": "markdown",
   "metadata": {},
   "source": [
    "1.In the data's preparation & exploration stage:\n",
    "\n",
    "- We observed missing values of columns in Dataframe\n",
    "- There is no missing values in our dataset\n",
    "\n",
    "\n",
    "2.In the data transformation and data-cleaning process stage:\n",
    "- The data in 'column start_ts' of df_3 represented as object so it was converted to Timestamp  \n",
    "\n",
    "\n",
    "3.In analysis stage to answer our questions we got next conclusion:\n",
    "- We looked at taxi companies and number of rides.\n",
    "- The leading company in terms of the number of trips is Flash Cab with 19558 trips. That means the most popular taxi companies were Flash Cab and Taxi Affiliation Services\n",
    "-  We identify the top 10 neighborhoods in terms of drop-off so top 3 leading location are Loop, River North,Streetervulle\n",
    "\n",
    "- by Testing the hypothesis:\n",
    "- We reject the null hypothesis.\n",
    "- It means the average user duration of rides from the Loop to O'Hare International Airport on rainy Saturdays are not equal(not same), there is difference.(have changes)\n",
    "- Rainy weather impact to ride frequency.\n",
    "\n",
    "\n"
   ]
  },
  {
   "cell_type": "code",
   "execution_count": null,
   "metadata": {},
   "outputs": [],
   "source": []
  },
  {
   "cell_type": "code",
   "execution_count": null,
   "metadata": {},
   "outputs": [],
   "source": []
  },
  {
   "cell_type": "code",
   "execution_count": null,
   "metadata": {},
   "outputs": [],
   "source": []
  },
  {
   "cell_type": "code",
   "execution_count": null,
   "metadata": {},
   "outputs": [],
   "source": []
  }
 ],
 "metadata": {
  "ExecuteTimeLog": [
   {
    "duration": 1291,
    "start_time": "2022-04-07T20:46:43.433Z"
   },
   {
    "duration": 31,
    "start_time": "2022-04-07T20:48:50.419Z"
   },
   {
    "duration": 63,
    "start_time": "2022-04-07T20:53:02.931Z"
   },
   {
    "duration": 13,
    "start_time": "2022-04-07T20:53:21.468Z"
   },
   {
    "duration": 8,
    "start_time": "2022-04-07T20:53:36.742Z"
   },
   {
    "duration": 8,
    "start_time": "2022-04-07T20:53:46.664Z"
   },
   {
    "duration": 12,
    "start_time": "2022-04-07T20:55:45.138Z"
   },
   {
    "duration": 12,
    "start_time": "2022-04-07T20:56:56.486Z"
   },
   {
    "duration": 7,
    "start_time": "2022-04-07T20:57:24.262Z"
   },
   {
    "duration": 10,
    "start_time": "2022-04-07T21:00:21.362Z"
   },
   {
    "duration": 11,
    "start_time": "2022-04-07T21:00:26.718Z"
   },
   {
    "duration": 11,
    "start_time": "2022-04-07T21:02:22.785Z"
   },
   {
    "duration": 107,
    "start_time": "2022-04-07T21:22:34.770Z"
   },
   {
    "duration": 9,
    "start_time": "2022-04-07T21:22:43.194Z"
   },
   {
    "duration": 8,
    "start_time": "2022-04-07T21:23:28.652Z"
   },
   {
    "duration": 6,
    "start_time": "2022-04-07T21:26:59.396Z"
   },
   {
    "duration": 30,
    "start_time": "2022-04-07T21:27:34.830Z"
   },
   {
    "duration": 5,
    "start_time": "2022-04-07T21:32:08.286Z"
   },
   {
    "duration": 5,
    "start_time": "2022-04-07T21:32:44.222Z"
   },
   {
    "duration": 5,
    "start_time": "2022-04-07T21:53:14.677Z"
   },
   {
    "duration": 11,
    "start_time": "2022-04-07T21:54:39.853Z"
   },
   {
    "duration": 7,
    "start_time": "2022-04-07T21:54:51.217Z"
   },
   {
    "duration": 5,
    "start_time": "2022-04-07T21:55:27.098Z"
   },
   {
    "duration": 8,
    "start_time": "2022-04-07T22:09:04.405Z"
   },
   {
    "duration": 5,
    "start_time": "2022-04-07T22:10:15.626Z"
   },
   {
    "duration": 10,
    "start_time": "2022-04-07T22:10:27.322Z"
   },
   {
    "duration": 8,
    "start_time": "2022-04-07T22:13:58.241Z"
   },
   {
    "duration": 112,
    "start_time": "2022-04-07T22:16:53.450Z"
   },
   {
    "duration": 1281,
    "start_time": "2022-04-07T22:17:18.249Z"
   },
   {
    "duration": 1175,
    "start_time": "2022-04-07T22:18:00.987Z"
   },
   {
    "duration": 3,
    "start_time": "2022-04-07T22:22:27.147Z"
   },
   {
    "duration": 7,
    "start_time": "2022-04-07T22:22:45.729Z"
   },
   {
    "duration": 7,
    "start_time": "2022-04-07T22:23:12.139Z"
   },
   {
    "duration": 105,
    "start_time": "2022-04-07T22:25:00.058Z"
   },
   {
    "duration": 1688,
    "start_time": "2022-04-07T22:25:26.010Z"
   },
   {
    "duration": 1763,
    "start_time": "2022-04-07T22:26:12.733Z"
   },
   {
    "duration": 10,
    "start_time": "2022-04-07T22:29:15.560Z"
   },
   {
    "duration": 29,
    "start_time": "2022-04-07T22:29:35.092Z"
   },
   {
    "duration": 7,
    "start_time": "2022-04-07T22:30:16.885Z"
   },
   {
    "duration": 209,
    "start_time": "2022-04-07T22:32:04.728Z"
   },
   {
    "duration": 1179,
    "start_time": "2022-04-07T22:35:01.076Z"
   },
   {
    "duration": 37,
    "start_time": "2022-04-07T22:35:02.257Z"
   },
   {
    "duration": 11,
    "start_time": "2022-04-07T22:35:02.295Z"
   },
   {
    "duration": 55,
    "start_time": "2022-04-07T22:35:02.309Z"
   },
   {
    "duration": 20,
    "start_time": "2022-04-07T22:35:02.366Z"
   },
   {
    "duration": 17,
    "start_time": "2022-04-07T22:35:02.388Z"
   },
   {
    "duration": 22,
    "start_time": "2022-04-07T22:35:02.406Z"
   },
   {
    "duration": 10,
    "start_time": "2022-04-07T22:35:02.430Z"
   },
   {
    "duration": 12,
    "start_time": "2022-04-07T22:35:02.441Z"
   },
   {
    "duration": 18,
    "start_time": "2022-04-07T22:35:02.456Z"
   },
   {
    "duration": 25,
    "start_time": "2022-04-07T22:35:02.476Z"
   },
   {
    "duration": 12,
    "start_time": "2022-04-07T22:35:02.503Z"
   },
   {
    "duration": 11,
    "start_time": "2022-04-07T22:35:02.516Z"
   },
   {
    "duration": 14,
    "start_time": "2022-04-07T22:35:02.529Z"
   },
   {
    "duration": 97,
    "start_time": "2022-04-07T22:35:02.545Z"
   },
   {
    "duration": 0,
    "start_time": "2022-04-07T22:35:02.644Z"
   },
   {
    "duration": 0,
    "start_time": "2022-04-07T22:35:02.645Z"
   },
   {
    "duration": 0,
    "start_time": "2022-04-07T22:35:02.646Z"
   },
   {
    "duration": 31,
    "start_time": "2022-04-07T22:36:28.995Z"
   },
   {
    "duration": 6,
    "start_time": "2022-04-07T22:36:40.829Z"
   },
   {
    "duration": 10,
    "start_time": "2022-04-07T22:36:52.433Z"
   },
   {
    "duration": 10,
    "start_time": "2022-04-07T22:36:58.972Z"
   },
   {
    "duration": 7,
    "start_time": "2022-04-07T22:37:13.296Z"
   },
   {
    "duration": 9,
    "start_time": "2022-04-07T22:37:20.603Z"
   },
   {
    "duration": 8,
    "start_time": "2022-04-07T22:37:31.327Z"
   },
   {
    "duration": 31,
    "start_time": "2022-04-07T22:38:45.403Z"
   },
   {
    "duration": 8,
    "start_time": "2022-04-07T22:39:16.337Z"
   },
   {
    "duration": 31,
    "start_time": "2022-04-07T22:39:27.003Z"
   },
   {
    "duration": 8,
    "start_time": "2022-04-07T22:39:33.878Z"
   },
   {
    "duration": 31,
    "start_time": "2022-04-07T22:40:11.026Z"
   },
   {
    "duration": 8,
    "start_time": "2022-04-07T22:40:22.813Z"
   },
   {
    "duration": 11,
    "start_time": "2022-04-07T22:40:31.571Z"
   },
   {
    "duration": 6,
    "start_time": "2022-04-07T22:40:40.966Z"
   },
   {
    "duration": 8,
    "start_time": "2022-04-07T22:41:03.314Z"
   },
   {
    "duration": 215,
    "start_time": "2022-04-07T22:41:14.701Z"
   },
   {
    "duration": 204,
    "start_time": "2022-04-07T22:44:15.510Z"
   },
   {
    "duration": 191,
    "start_time": "2022-04-07T22:51:09.371Z"
   },
   {
    "duration": 8,
    "start_time": "2022-04-07T22:53:16.903Z"
   },
   {
    "duration": 398,
    "start_time": "2022-04-07T22:54:31.409Z"
   },
   {
    "duration": 392,
    "start_time": "2022-04-07T22:54:58.167Z"
   },
   {
    "duration": 400,
    "start_time": "2022-04-07T22:55:09.827Z"
   },
   {
    "duration": 400,
    "start_time": "2022-04-07T22:55:46.498Z"
   },
   {
    "duration": 455,
    "start_time": "2022-04-07T22:56:00.221Z"
   },
   {
    "duration": 12,
    "start_time": "2022-04-07T22:58:53.759Z"
   },
   {
    "duration": 9,
    "start_time": "2022-04-07T22:59:10.195Z"
   },
   {
    "duration": 10,
    "start_time": "2022-04-07T23:11:21.595Z"
   },
   {
    "duration": 8,
    "start_time": "2022-04-07T23:11:39.792Z"
   },
   {
    "duration": 13,
    "start_time": "2022-04-07T23:24:42.629Z"
   },
   {
    "duration": 13,
    "start_time": "2022-04-07T23:25:13.590Z"
   },
   {
    "duration": 109,
    "start_time": "2022-04-07T23:28:34.725Z"
   },
   {
    "duration": 104,
    "start_time": "2022-04-07T23:28:54.884Z"
   },
   {
    "duration": 110,
    "start_time": "2022-04-07T23:31:13.130Z"
   },
   {
    "duration": 102,
    "start_time": "2022-04-07T23:31:23.604Z"
   },
   {
    "duration": 113,
    "start_time": "2022-04-07T23:33:23.803Z"
   },
   {
    "duration": 9,
    "start_time": "2022-04-07T23:34:35.978Z"
   },
   {
    "duration": 16,
    "start_time": "2022-04-07T23:34:50.294Z"
   },
   {
    "duration": 8,
    "start_time": "2022-04-07T23:35:08.980Z"
   },
   {
    "duration": 103,
    "start_time": "2022-04-07T23:36:22.570Z"
   },
   {
    "duration": 2,
    "start_time": "2022-04-07T23:36:31.647Z"
   },
   {
    "duration": 1919,
    "start_time": "2022-04-07T23:44:49.753Z"
   },
   {
    "duration": 16,
    "start_time": "2022-04-07T23:45:03.252Z"
   },
   {
    "duration": 1733,
    "start_time": "2022-04-07T23:45:12.971Z"
   },
   {
    "duration": 610,
    "start_time": "2022-04-08T01:10:38.552Z"
   },
   {
    "duration": 641,
    "start_time": "2022-04-08T01:10:47.071Z"
   },
   {
    "duration": 62,
    "start_time": "2022-04-08T01:10:47.714Z"
   },
   {
    "duration": 11,
    "start_time": "2022-04-08T01:10:47.778Z"
   },
   {
    "duration": 9,
    "start_time": "2022-04-08T01:10:47.791Z"
   },
   {
    "duration": 7,
    "start_time": "2022-04-08T01:10:47.802Z"
   },
   {
    "duration": 9,
    "start_time": "2022-04-08T01:10:47.811Z"
   },
   {
    "duration": 15,
    "start_time": "2022-04-08T01:10:47.821Z"
   },
   {
    "duration": 8,
    "start_time": "2022-04-08T01:10:47.837Z"
   },
   {
    "duration": 10,
    "start_time": "2022-04-08T01:10:47.846Z"
   },
   {
    "duration": 9,
    "start_time": "2022-04-08T01:10:47.858Z"
   },
   {
    "duration": 5,
    "start_time": "2022-04-08T01:10:47.868Z"
   },
   {
    "duration": 5,
    "start_time": "2022-04-08T01:10:47.874Z"
   },
   {
    "duration": 5,
    "start_time": "2022-04-08T01:10:47.881Z"
   },
   {
    "duration": 5,
    "start_time": "2022-04-08T01:10:47.887Z"
   },
   {
    "duration": 41,
    "start_time": "2022-04-08T01:10:47.894Z"
   },
   {
    "duration": 202,
    "start_time": "2022-04-08T01:10:47.937Z"
   },
   {
    "duration": 7,
    "start_time": "2022-04-08T01:10:48.140Z"
   },
   {
    "duration": 10,
    "start_time": "2022-04-08T01:10:48.148Z"
   },
   {
    "duration": 405,
    "start_time": "2022-04-08T01:10:48.160Z"
   },
   {
    "duration": 7,
    "start_time": "2022-04-08T01:10:48.567Z"
   },
   {
    "duration": 18,
    "start_time": "2022-04-08T01:10:48.576Z"
   },
   {
    "duration": 13,
    "start_time": "2022-04-08T01:10:48.596Z"
   },
   {
    "duration": 19,
    "start_time": "2022-04-08T01:10:48.611Z"
   },
   {
    "duration": 10,
    "start_time": "2022-04-08T01:10:48.632Z"
   },
   {
    "duration": 2015,
    "start_time": "2022-04-08T01:10:48.643Z"
   },
   {
    "duration": 0,
    "start_time": "2022-04-08T01:10:50.660Z"
   },
   {
    "duration": 0,
    "start_time": "2022-04-08T01:10:50.661Z"
   },
   {
    "duration": 8,
    "start_time": "2022-04-08T01:11:58.861Z"
   },
   {
    "duration": 8,
    "start_time": "2022-04-08T01:24:28.873Z"
   },
   {
    "duration": 5,
    "start_time": "2022-04-08T01:25:44.619Z"
   },
   {
    "duration": 6,
    "start_time": "2022-04-08T01:25:59.066Z"
   },
   {
    "duration": 1068,
    "start_time": "2022-04-08T01:26:14.023Z"
   },
   {
    "duration": 28,
    "start_time": "2022-04-08T01:26:15.092Z"
   },
   {
    "duration": 9,
    "start_time": "2022-04-08T01:26:15.121Z"
   },
   {
    "duration": 15,
    "start_time": "2022-04-08T01:26:15.132Z"
   },
   {
    "duration": 13,
    "start_time": "2022-04-08T01:26:15.148Z"
   },
   {
    "duration": 11,
    "start_time": "2022-04-08T01:26:15.163Z"
   },
   {
    "duration": 26,
    "start_time": "2022-04-08T01:26:15.175Z"
   },
   {
    "duration": 12,
    "start_time": "2022-04-08T01:26:15.203Z"
   },
   {
    "duration": 27,
    "start_time": "2022-04-08T01:26:15.216Z"
   },
   {
    "duration": 13,
    "start_time": "2022-04-08T01:26:15.245Z"
   },
   {
    "duration": 19,
    "start_time": "2022-04-08T01:26:15.259Z"
   },
   {
    "duration": 12,
    "start_time": "2022-04-08T01:26:15.279Z"
   },
   {
    "duration": 16,
    "start_time": "2022-04-08T01:26:15.292Z"
   },
   {
    "duration": 22,
    "start_time": "2022-04-08T01:26:15.309Z"
   },
   {
    "duration": 23,
    "start_time": "2022-04-08T01:26:15.332Z"
   },
   {
    "duration": 206,
    "start_time": "2022-04-08T01:26:15.357Z"
   },
   {
    "duration": 6,
    "start_time": "2022-04-08T01:26:15.564Z"
   },
   {
    "duration": 18,
    "start_time": "2022-04-08T01:26:15.571Z"
   },
   {
    "duration": 414,
    "start_time": "2022-04-08T01:26:15.591Z"
   },
   {
    "duration": 8,
    "start_time": "2022-04-08T01:26:16.006Z"
   },
   {
    "duration": 20,
    "start_time": "2022-04-08T01:26:16.016Z"
   },
   {
    "duration": 10,
    "start_time": "2022-04-08T01:26:16.038Z"
   },
   {
    "duration": 4,
    "start_time": "2022-04-08T01:26:16.049Z"
   },
   {
    "duration": 104,
    "start_time": "2022-04-08T01:26:16.055Z"
   },
   {
    "duration": 0,
    "start_time": "2022-04-08T01:26:16.161Z"
   },
   {
    "duration": 0,
    "start_time": "2022-04-08T01:26:16.162Z"
   },
   {
    "duration": 0,
    "start_time": "2022-04-08T01:26:16.163Z"
   },
   {
    "duration": 0,
    "start_time": "2022-04-08T01:26:16.164Z"
   },
   {
    "duration": 9,
    "start_time": "2022-04-08T01:27:09.833Z"
   },
   {
    "duration": 8,
    "start_time": "2022-04-08T01:27:30.220Z"
   },
   {
    "duration": 4,
    "start_time": "2022-04-08T01:27:35.820Z"
   },
   {
    "duration": 6,
    "start_time": "2022-04-08T01:29:34.362Z"
   },
   {
    "duration": 8,
    "start_time": "2022-04-08T01:29:43.633Z"
   },
   {
    "duration": 5,
    "start_time": "2022-04-08T01:29:48.098Z"
   },
   {
    "duration": 7,
    "start_time": "2022-04-08T01:29:52.017Z"
   },
   {
    "duration": 4,
    "start_time": "2022-04-08T01:41:34.330Z"
   },
   {
    "duration": 5,
    "start_time": "2022-04-08T01:42:44.784Z"
   },
   {
    "duration": 5,
    "start_time": "2022-04-08T01:43:18.067Z"
   },
   {
    "duration": 5,
    "start_time": "2022-04-08T01:43:23.155Z"
   },
   {
    "duration": 9,
    "start_time": "2022-04-08T01:44:18.518Z"
   },
   {
    "duration": 8,
    "start_time": "2022-04-08T01:44:39.407Z"
   },
   {
    "duration": 6,
    "start_time": "2022-04-08T01:44:59.936Z"
   },
   {
    "duration": 12,
    "start_time": "2022-04-08T01:48:05.697Z"
   },
   {
    "duration": 5,
    "start_time": "2022-04-08T01:49:03.089Z"
   },
   {
    "duration": 6,
    "start_time": "2022-04-08T02:06:35.634Z"
   },
   {
    "duration": 9,
    "start_time": "2022-04-08T02:28:10.230Z"
   },
   {
    "duration": 6,
    "start_time": "2022-04-08T02:31:17.577Z"
   },
   {
    "duration": 7,
    "start_time": "2022-04-08T02:32:40.684Z"
   },
   {
    "duration": 8,
    "start_time": "2022-04-08T02:33:26.816Z"
   },
   {
    "duration": 1013,
    "start_time": "2022-04-08T02:56:20.866Z"
   },
   {
    "duration": 33,
    "start_time": "2022-04-08T02:56:21.881Z"
   },
   {
    "duration": 9,
    "start_time": "2022-04-08T02:56:21.915Z"
   },
   {
    "duration": 9,
    "start_time": "2022-04-08T02:56:21.925Z"
   },
   {
    "duration": 6,
    "start_time": "2022-04-08T02:56:21.936Z"
   },
   {
    "duration": 7,
    "start_time": "2022-04-08T02:56:21.944Z"
   },
   {
    "duration": 9,
    "start_time": "2022-04-08T02:56:21.952Z"
   },
   {
    "duration": 9,
    "start_time": "2022-04-08T02:56:21.963Z"
   },
   {
    "duration": 8,
    "start_time": "2022-04-08T02:56:21.973Z"
   },
   {
    "duration": 10,
    "start_time": "2022-04-08T02:56:21.983Z"
   },
   {
    "duration": 5,
    "start_time": "2022-04-08T02:56:21.994Z"
   },
   {
    "duration": 5,
    "start_time": "2022-04-08T02:56:22.001Z"
   },
   {
    "duration": 22,
    "start_time": "2022-04-08T02:56:22.007Z"
   },
   {
    "duration": 6,
    "start_time": "2022-04-08T02:56:22.031Z"
   },
   {
    "duration": 8,
    "start_time": "2022-04-08T02:56:22.038Z"
   },
   {
    "duration": 198,
    "start_time": "2022-04-08T02:56:22.048Z"
   },
   {
    "duration": 7,
    "start_time": "2022-04-08T02:56:22.247Z"
   },
   {
    "duration": 8,
    "start_time": "2022-04-08T02:56:22.255Z"
   },
   {
    "duration": 412,
    "start_time": "2022-04-08T02:56:22.265Z"
   },
   {
    "duration": 7,
    "start_time": "2022-04-08T02:56:22.679Z"
   },
   {
    "duration": 7,
    "start_time": "2022-04-08T02:56:22.688Z"
   },
   {
    "duration": 11,
    "start_time": "2022-04-08T02:56:22.696Z"
   },
   {
    "duration": 29,
    "start_time": "2022-04-08T02:56:22.708Z"
   },
   {
    "duration": 8,
    "start_time": "2022-04-08T02:56:22.738Z"
   },
   {
    "duration": 8,
    "start_time": "2022-04-08T02:56:22.747Z"
   }
  ],
  "kernelspec": {
   "display_name": "Python 3 (ipykernel)",
   "language": "python",
   "name": "python3"
  },
  "language_info": {
   "codemirror_mode": {
    "name": "ipython",
    "version": 3
   },
   "file_extension": ".py",
   "mimetype": "text/x-python",
   "name": "python",
   "nbconvert_exporter": "python",
   "pygments_lexer": "ipython3",
   "version": "3.9.7"
  },
  "toc": {
   "base_numbering": 1,
   "nav_menu": {},
   "number_sections": true,
   "sideBar": true,
   "skip_h1_title": true,
   "title_cell": "Table of Contents",
   "title_sidebar": "Contents",
   "toc_cell": false,
   "toc_position": {},
   "toc_section_display": true,
   "toc_window_display": false
  }
 },
 "nbformat": 4,
 "nbformat_minor": 2
}
