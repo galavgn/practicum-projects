{
 "cells": [
  {
   "cell_type": "markdown",
   "metadata": {},
   "source": [
    "# Which game will be succeeded ?\n"
   ]
  },
  {
   "cell_type": "markdown",
   "metadata": {},
   "source": [
    "The online store Ice, which sells video games all over the world.\n",
    "\n",
    "User and expert reviews, genres, platforms (e.g. Xbox or PlayStation), and historical data on game sales are available from open sources.\n",
    "We need to identify patterns that determine whether a game succeeds or not. This will allow you to spot potential big winners and plan advertising campaigns.\n",
    "\n",
    "In front of us is data going back to 2016. Let’s imagine that it’s December 2016 and you’re planning a campaign for 2017.\n",
    "\n",
    "We are  forecasting 2017 sales based on data from 2016 or 2017 sales based on data from 2016.)\n",
    "The dataset contains the abbreviation ESRB. \n",
    "\n",
    "The Entertainment Software Rating Board evaluates a game's content and assigns an age rating such as Teen or Mature."
   ]
  },
  {
   "cell_type": "markdown",
   "metadata": {},
   "source": [
    "## Goal:\n"
   ]
  },
  {
   "cell_type": "markdown",
   "metadata": {},
   "source": [
    "1.Building a forecast for 2017  and prediction  of the sales, popularity, profitability of the platforms\n",
    "\n",
    "There are 2 hypotesis we are testing:\n",
    "\n",
    "1.Average user ratings of the Xbox One and PC platforms are the same.\n",
    "\n",
    "2.Average user ratings for the Action and Sports genres are different"
   ]
  },
  {
   "cell_type": "markdown",
   "metadata": {},
   "source": [
    "## Initialization"
   ]
  },
  {
   "cell_type": "code",
   "execution_count": 1,
   "metadata": {},
   "outputs": [],
   "source": [
    "# Loading all the libraries\n",
    "import pandas as pd\n",
    "import numpy as np\n",
    "import scipy as sp\n",
    "import matplotlib.pyplot as plt\n",
    "import seaborn as sns\n",
    "%matplotlib inline"
   ]
  },
  {
   "cell_type": "code",
   "execution_count": 2,
   "metadata": {},
   "outputs": [],
   "source": [
    "#Loading the data file into a DataFrame\n",
    "df_games = pd.read_csv('/datasets/games.csv')"
   ]
  },
  {
   "cell_type": "markdown",
   "metadata": {},
   "source": [
    "##  Explore initial data"
   ]
  },
  {
   "cell_type": "markdown",
   "metadata": {},
   "source": [
    "The dataset contains the following fields:\n",
    "\n",
    "- Name\n",
    "- Platform\n",
    "- Year_of_Release\n",
    "- Genre\n",
    "- NA_sales (North American sales in USD million)\n",
    "- EU_sales (sales in Europe in USD million)\n",
    "- JP_sales (sales in Japan in USD million)\n",
    "- Other_sales (sales in other countries in USD million)\n",
    "- Critic_Score (maximum of 100)\n",
    "- User_Score (maximum of 10)\n",
    "- Rating (ESRB)"
   ]
  },
  {
   "cell_type": "code",
   "execution_count": 3,
   "metadata": {},
   "outputs": [
    {
     "data": {
      "text/html": [
       "<div>\n",
       "<style scoped>\n",
       "    .dataframe tbody tr th:only-of-type {\n",
       "        vertical-align: middle;\n",
       "    }\n",
       "\n",
       "    .dataframe tbody tr th {\n",
       "        vertical-align: top;\n",
       "    }\n",
       "\n",
       "    .dataframe thead th {\n",
       "        text-align: right;\n",
       "    }\n",
       "</style>\n",
       "<table border=\"1\" class=\"dataframe\">\n",
       "  <thead>\n",
       "    <tr style=\"text-align: right;\">\n",
       "      <th></th>\n",
       "      <th>Name</th>\n",
       "      <th>Platform</th>\n",
       "      <th>Year_of_Release</th>\n",
       "      <th>Genre</th>\n",
       "      <th>NA_sales</th>\n",
       "      <th>EU_sales</th>\n",
       "      <th>JP_sales</th>\n",
       "      <th>Other_sales</th>\n",
       "      <th>Critic_Score</th>\n",
       "      <th>User_Score</th>\n",
       "      <th>Rating</th>\n",
       "    </tr>\n",
       "  </thead>\n",
       "  <tbody>\n",
       "    <tr>\n",
       "      <th>0</th>\n",
       "      <td>Wii Sports</td>\n",
       "      <td>Wii</td>\n",
       "      <td>2006.0</td>\n",
       "      <td>Sports</td>\n",
       "      <td>41.36</td>\n",
       "      <td>28.96</td>\n",
       "      <td>3.77</td>\n",
       "      <td>8.45</td>\n",
       "      <td>76.0</td>\n",
       "      <td>8</td>\n",
       "      <td>E</td>\n",
       "    </tr>\n",
       "    <tr>\n",
       "      <th>1</th>\n",
       "      <td>Super Mario Bros.</td>\n",
       "      <td>NES</td>\n",
       "      <td>1985.0</td>\n",
       "      <td>Platform</td>\n",
       "      <td>29.08</td>\n",
       "      <td>3.58</td>\n",
       "      <td>6.81</td>\n",
       "      <td>0.77</td>\n",
       "      <td>NaN</td>\n",
       "      <td>NaN</td>\n",
       "      <td>NaN</td>\n",
       "    </tr>\n",
       "    <tr>\n",
       "      <th>2</th>\n",
       "      <td>Mario Kart Wii</td>\n",
       "      <td>Wii</td>\n",
       "      <td>2008.0</td>\n",
       "      <td>Racing</td>\n",
       "      <td>15.68</td>\n",
       "      <td>12.76</td>\n",
       "      <td>3.79</td>\n",
       "      <td>3.29</td>\n",
       "      <td>82.0</td>\n",
       "      <td>8.3</td>\n",
       "      <td>E</td>\n",
       "    </tr>\n",
       "    <tr>\n",
       "      <th>3</th>\n",
       "      <td>Wii Sports Resort</td>\n",
       "      <td>Wii</td>\n",
       "      <td>2009.0</td>\n",
       "      <td>Sports</td>\n",
       "      <td>15.61</td>\n",
       "      <td>10.93</td>\n",
       "      <td>3.28</td>\n",
       "      <td>2.95</td>\n",
       "      <td>80.0</td>\n",
       "      <td>8</td>\n",
       "      <td>E</td>\n",
       "    </tr>\n",
       "    <tr>\n",
       "      <th>4</th>\n",
       "      <td>Pokemon Red/Pokemon Blue</td>\n",
       "      <td>GB</td>\n",
       "      <td>1996.0</td>\n",
       "      <td>Role-Playing</td>\n",
       "      <td>11.27</td>\n",
       "      <td>8.89</td>\n",
       "      <td>10.22</td>\n",
       "      <td>1.00</td>\n",
       "      <td>NaN</td>\n",
       "      <td>NaN</td>\n",
       "      <td>NaN</td>\n",
       "    </tr>\n",
       "    <tr>\n",
       "      <th>5</th>\n",
       "      <td>Tetris</td>\n",
       "      <td>GB</td>\n",
       "      <td>1989.0</td>\n",
       "      <td>Puzzle</td>\n",
       "      <td>23.20</td>\n",
       "      <td>2.26</td>\n",
       "      <td>4.22</td>\n",
       "      <td>0.58</td>\n",
       "      <td>NaN</td>\n",
       "      <td>NaN</td>\n",
       "      <td>NaN</td>\n",
       "    </tr>\n",
       "    <tr>\n",
       "      <th>6</th>\n",
       "      <td>New Super Mario Bros.</td>\n",
       "      <td>DS</td>\n",
       "      <td>2006.0</td>\n",
       "      <td>Platform</td>\n",
       "      <td>11.28</td>\n",
       "      <td>9.14</td>\n",
       "      <td>6.50</td>\n",
       "      <td>2.88</td>\n",
       "      <td>89.0</td>\n",
       "      <td>8.5</td>\n",
       "      <td>E</td>\n",
       "    </tr>\n",
       "    <tr>\n",
       "      <th>7</th>\n",
       "      <td>Wii Play</td>\n",
       "      <td>Wii</td>\n",
       "      <td>2006.0</td>\n",
       "      <td>Misc</td>\n",
       "      <td>13.96</td>\n",
       "      <td>9.18</td>\n",
       "      <td>2.93</td>\n",
       "      <td>2.84</td>\n",
       "      <td>58.0</td>\n",
       "      <td>6.6</td>\n",
       "      <td>E</td>\n",
       "    </tr>\n",
       "    <tr>\n",
       "      <th>8</th>\n",
       "      <td>New Super Mario Bros. Wii</td>\n",
       "      <td>Wii</td>\n",
       "      <td>2009.0</td>\n",
       "      <td>Platform</td>\n",
       "      <td>14.44</td>\n",
       "      <td>6.94</td>\n",
       "      <td>4.70</td>\n",
       "      <td>2.24</td>\n",
       "      <td>87.0</td>\n",
       "      <td>8.4</td>\n",
       "      <td>E</td>\n",
       "    </tr>\n",
       "    <tr>\n",
       "      <th>9</th>\n",
       "      <td>Duck Hunt</td>\n",
       "      <td>NES</td>\n",
       "      <td>1984.0</td>\n",
       "      <td>Shooter</td>\n",
       "      <td>26.93</td>\n",
       "      <td>0.63</td>\n",
       "      <td>0.28</td>\n",
       "      <td>0.47</td>\n",
       "      <td>NaN</td>\n",
       "      <td>NaN</td>\n",
       "      <td>NaN</td>\n",
       "    </tr>\n",
       "    <tr>\n",
       "      <th>10</th>\n",
       "      <td>Nintendogs</td>\n",
       "      <td>DS</td>\n",
       "      <td>2005.0</td>\n",
       "      <td>Simulation</td>\n",
       "      <td>9.05</td>\n",
       "      <td>10.95</td>\n",
       "      <td>1.93</td>\n",
       "      <td>2.74</td>\n",
       "      <td>NaN</td>\n",
       "      <td>NaN</td>\n",
       "      <td>NaN</td>\n",
       "    </tr>\n",
       "    <tr>\n",
       "      <th>11</th>\n",
       "      <td>Mario Kart DS</td>\n",
       "      <td>DS</td>\n",
       "      <td>2005.0</td>\n",
       "      <td>Racing</td>\n",
       "      <td>9.71</td>\n",
       "      <td>7.47</td>\n",
       "      <td>4.13</td>\n",
       "      <td>1.90</td>\n",
       "      <td>91.0</td>\n",
       "      <td>8.6</td>\n",
       "      <td>E</td>\n",
       "    </tr>\n",
       "    <tr>\n",
       "      <th>12</th>\n",
       "      <td>Pokemon Gold/Pokemon Silver</td>\n",
       "      <td>GB</td>\n",
       "      <td>1999.0</td>\n",
       "      <td>Role-Playing</td>\n",
       "      <td>9.00</td>\n",
       "      <td>6.18</td>\n",
       "      <td>7.20</td>\n",
       "      <td>0.71</td>\n",
       "      <td>NaN</td>\n",
       "      <td>NaN</td>\n",
       "      <td>NaN</td>\n",
       "    </tr>\n",
       "    <tr>\n",
       "      <th>13</th>\n",
       "      <td>Wii Fit</td>\n",
       "      <td>Wii</td>\n",
       "      <td>2007.0</td>\n",
       "      <td>Sports</td>\n",
       "      <td>8.92</td>\n",
       "      <td>8.03</td>\n",
       "      <td>3.60</td>\n",
       "      <td>2.15</td>\n",
       "      <td>80.0</td>\n",
       "      <td>7.7</td>\n",
       "      <td>E</td>\n",
       "    </tr>\n",
       "    <tr>\n",
       "      <th>14</th>\n",
       "      <td>Kinect Adventures!</td>\n",
       "      <td>X360</td>\n",
       "      <td>2010.0</td>\n",
       "      <td>Misc</td>\n",
       "      <td>15.00</td>\n",
       "      <td>4.89</td>\n",
       "      <td>0.24</td>\n",
       "      <td>1.69</td>\n",
       "      <td>61.0</td>\n",
       "      <td>6.3</td>\n",
       "      <td>E</td>\n",
       "    </tr>\n",
       "  </tbody>\n",
       "</table>\n",
       "</div>"
      ],
      "text/plain": [
       "                           Name Platform  Year_of_Release         Genre  \\\n",
       "0                    Wii Sports      Wii           2006.0        Sports   \n",
       "1             Super Mario Bros.      NES           1985.0      Platform   \n",
       "2                Mario Kart Wii      Wii           2008.0        Racing   \n",
       "3             Wii Sports Resort      Wii           2009.0        Sports   \n",
       "4      Pokemon Red/Pokemon Blue       GB           1996.0  Role-Playing   \n",
       "5                        Tetris       GB           1989.0        Puzzle   \n",
       "6         New Super Mario Bros.       DS           2006.0      Platform   \n",
       "7                      Wii Play      Wii           2006.0          Misc   \n",
       "8     New Super Mario Bros. Wii      Wii           2009.0      Platform   \n",
       "9                     Duck Hunt      NES           1984.0       Shooter   \n",
       "10                   Nintendogs       DS           2005.0    Simulation   \n",
       "11                Mario Kart DS       DS           2005.0        Racing   \n",
       "12  Pokemon Gold/Pokemon Silver       GB           1999.0  Role-Playing   \n",
       "13                      Wii Fit      Wii           2007.0        Sports   \n",
       "14           Kinect Adventures!     X360           2010.0          Misc   \n",
       "\n",
       "    NA_sales  EU_sales  JP_sales  Other_sales  Critic_Score User_Score Rating  \n",
       "0      41.36     28.96      3.77         8.45          76.0          8      E  \n",
       "1      29.08      3.58      6.81         0.77           NaN        NaN    NaN  \n",
       "2      15.68     12.76      3.79         3.29          82.0        8.3      E  \n",
       "3      15.61     10.93      3.28         2.95          80.0          8      E  \n",
       "4      11.27      8.89     10.22         1.00           NaN        NaN    NaN  \n",
       "5      23.20      2.26      4.22         0.58           NaN        NaN    NaN  \n",
       "6      11.28      9.14      6.50         2.88          89.0        8.5      E  \n",
       "7      13.96      9.18      2.93         2.84          58.0        6.6      E  \n",
       "8      14.44      6.94      4.70         2.24          87.0        8.4      E  \n",
       "9      26.93      0.63      0.28         0.47           NaN        NaN    NaN  \n",
       "10      9.05     10.95      1.93         2.74           NaN        NaN    NaN  \n",
       "11      9.71      7.47      4.13         1.90          91.0        8.6      E  \n",
       "12      9.00      6.18      7.20         0.71           NaN        NaN    NaN  \n",
       "13      8.92      8.03      3.60         2.15          80.0        7.7      E  \n",
       "14     15.00      4.89      0.24         1.69          61.0        6.3      E  "
      ]
     },
     "execution_count": 3,
     "metadata": {},
     "output_type": "execute_result"
    }
   ],
   "source": [
    "# print the generalinformation\n",
    "df_games.head(15)"
   ]
  },
  {
   "cell_type": "code",
   "execution_count": 4,
   "metadata": {},
   "outputs": [
    {
     "name": "stdout",
     "output_type": "stream",
     "text": [
      "<class 'pandas.core.frame.DataFrame'>\n",
      "RangeIndex: 16715 entries, 0 to 16714\n",
      "Data columns (total 11 columns):\n",
      " #   Column           Non-Null Count  Dtype  \n",
      "---  ------           --------------  -----  \n",
      " 0   Name             16713 non-null  object \n",
      " 1   Platform         16715 non-null  object \n",
      " 2   Year_of_Release  16446 non-null  float64\n",
      " 3   Genre            16713 non-null  object \n",
      " 4   NA_sales         16715 non-null  float64\n",
      " 5   EU_sales         16715 non-null  float64\n",
      " 6   JP_sales         16715 non-null  float64\n",
      " 7   Other_sales      16715 non-null  float64\n",
      " 8   Critic_Score     8137 non-null   float64\n",
      " 9   User_Score       10014 non-null  object \n",
      " 10  Rating           9949 non-null   object \n",
      "dtypes: float64(6), object(5)\n",
      "memory usage: 1.4+ MB\n"
     ]
    },
    {
     "data": {
      "text/plain": [
       "(16715, 11)"
      ]
     },
     "execution_count": 4,
     "metadata": {},
     "output_type": "execute_result"
    }
   ],
   "source": [
    "# summary information about the DataFrame\n",
    "df_games.info()\n",
    "df_games.shape"
   ]
  },
  {
   "cell_type": "code",
   "execution_count": 5,
   "metadata": {},
   "outputs": [
    {
     "data": {
      "text/plain": [
       "Name                  2\n",
       "Platform              0\n",
       "Year_of_Release     269\n",
       "Genre                 2\n",
       "NA_sales              0\n",
       "EU_sales              0\n",
       "JP_sales              0\n",
       "Other_sales           0\n",
       "Critic_Score       8578\n",
       "User_Score         6701\n",
       "Rating             6766\n",
       "dtype: int64"
      ]
     },
     "execution_count": 5,
     "metadata": {},
     "output_type": "execute_result"
    }
   ],
   "source": [
    "# Checking missing values\n",
    "df_games.isna().sum()"
   ]
  },
  {
   "cell_type": "markdown",
   "metadata": {},
   "source": [
    "What columns contain the most missing values?"
   ]
  },
  {
   "cell_type": "code",
   "execution_count": 6,
   "metadata": {},
   "outputs": [
    {
     "data": {
      "text/plain": [
       "Name                0.011965\n",
       "Year_of_Release     1.609333\n",
       "Genre               0.011965\n",
       "Critic_Score       51.319174\n",
       "User_Score         40.089740\n",
       "Rating             40.478612\n",
       "dtype: float64"
      ]
     },
     "execution_count": 6,
     "metadata": {},
     "output_type": "execute_result"
    }
   ],
   "source": [
    "# Percentage of missing values\n",
    "missing_values=df_games.isnull().sum()\n",
    "missing_values[missing_values>0]/len(df_games)*100"
   ]
  },
  {
   "cell_type": "markdown",
   "metadata": {},
   "source": [
    "\n",
    "- Dataset have 16715 row and 11 columns.\n",
    "- All columns have different number of row. That means they have missing values\n",
    "- The values in the column 'year_of_release' is float \n",
    "- Names of columns have differen register type\n"
   ]
  },
  {
   "cell_type": "code",
   "execution_count": 7,
   "metadata": {},
   "outputs": [
    {
     "data": {
      "text/html": [
       "<div>\n",
       "<style scoped>\n",
       "    .dataframe tbody tr th:only-of-type {\n",
       "        vertical-align: middle;\n",
       "    }\n",
       "\n",
       "    .dataframe tbody tr th {\n",
       "        vertical-align: top;\n",
       "    }\n",
       "\n",
       "    .dataframe thead th {\n",
       "        text-align: right;\n",
       "    }\n",
       "</style>\n",
       "<table border=\"1\" class=\"dataframe\">\n",
       "  <thead>\n",
       "    <tr style=\"text-align: right;\">\n",
       "      <th></th>\n",
       "      <th>Year_of_Release</th>\n",
       "      <th>NA_sales</th>\n",
       "      <th>EU_sales</th>\n",
       "      <th>JP_sales</th>\n",
       "      <th>Other_sales</th>\n",
       "      <th>Critic_Score</th>\n",
       "    </tr>\n",
       "  </thead>\n",
       "  <tbody>\n",
       "    <tr>\n",
       "      <th>count</th>\n",
       "      <td>16446.000000</td>\n",
       "      <td>16715.000000</td>\n",
       "      <td>16715.000000</td>\n",
       "      <td>16715.000000</td>\n",
       "      <td>16715.000000</td>\n",
       "      <td>8137.000000</td>\n",
       "    </tr>\n",
       "    <tr>\n",
       "      <th>mean</th>\n",
       "      <td>2006.484616</td>\n",
       "      <td>0.263377</td>\n",
       "      <td>0.145060</td>\n",
       "      <td>0.077617</td>\n",
       "      <td>0.047342</td>\n",
       "      <td>68.967679</td>\n",
       "    </tr>\n",
       "    <tr>\n",
       "      <th>std</th>\n",
       "      <td>5.877050</td>\n",
       "      <td>0.813604</td>\n",
       "      <td>0.503339</td>\n",
       "      <td>0.308853</td>\n",
       "      <td>0.186731</td>\n",
       "      <td>13.938165</td>\n",
       "    </tr>\n",
       "    <tr>\n",
       "      <th>min</th>\n",
       "      <td>1980.000000</td>\n",
       "      <td>0.000000</td>\n",
       "      <td>0.000000</td>\n",
       "      <td>0.000000</td>\n",
       "      <td>0.000000</td>\n",
       "      <td>13.000000</td>\n",
       "    </tr>\n",
       "    <tr>\n",
       "      <th>25%</th>\n",
       "      <td>2003.000000</td>\n",
       "      <td>0.000000</td>\n",
       "      <td>0.000000</td>\n",
       "      <td>0.000000</td>\n",
       "      <td>0.000000</td>\n",
       "      <td>60.000000</td>\n",
       "    </tr>\n",
       "    <tr>\n",
       "      <th>50%</th>\n",
       "      <td>2007.000000</td>\n",
       "      <td>0.080000</td>\n",
       "      <td>0.020000</td>\n",
       "      <td>0.000000</td>\n",
       "      <td>0.010000</td>\n",
       "      <td>71.000000</td>\n",
       "    </tr>\n",
       "    <tr>\n",
       "      <th>75%</th>\n",
       "      <td>2010.000000</td>\n",
       "      <td>0.240000</td>\n",
       "      <td>0.110000</td>\n",
       "      <td>0.040000</td>\n",
       "      <td>0.030000</td>\n",
       "      <td>79.000000</td>\n",
       "    </tr>\n",
       "    <tr>\n",
       "      <th>max</th>\n",
       "      <td>2016.000000</td>\n",
       "      <td>41.360000</td>\n",
       "      <td>28.960000</td>\n",
       "      <td>10.220000</td>\n",
       "      <td>10.570000</td>\n",
       "      <td>98.000000</td>\n",
       "    </tr>\n",
       "  </tbody>\n",
       "</table>\n",
       "</div>"
      ],
      "text/plain": [
       "       Year_of_Release      NA_sales      EU_sales      JP_sales  \\\n",
       "count     16446.000000  16715.000000  16715.000000  16715.000000   \n",
       "mean       2006.484616      0.263377      0.145060      0.077617   \n",
       "std           5.877050      0.813604      0.503339      0.308853   \n",
       "min        1980.000000      0.000000      0.000000      0.000000   \n",
       "25%        2003.000000      0.000000      0.000000      0.000000   \n",
       "50%        2007.000000      0.080000      0.020000      0.000000   \n",
       "75%        2010.000000      0.240000      0.110000      0.040000   \n",
       "max        2016.000000     41.360000     28.960000     10.220000   \n",
       "\n",
       "        Other_sales  Critic_Score  \n",
       "count  16715.000000   8137.000000  \n",
       "mean       0.047342     68.967679  \n",
       "std        0.186731     13.938165  \n",
       "min        0.000000     13.000000  \n",
       "25%        0.000000     60.000000  \n",
       "50%        0.010000     71.000000  \n",
       "75%        0.030000     79.000000  \n",
       "max       10.570000     98.000000  "
      ]
     },
     "execution_count": 7,
     "metadata": {},
     "output_type": "execute_result"
    }
   ],
   "source": [
    "# Let's check distribution of the data\n",
    "df_games.describe()"
   ]
  },
  {
   "cell_type": "markdown",
   "metadata": {},
   "source": [
    "#### Conclusions and further steps"
   ]
  },
  {
   "cell_type": "markdown",
   "metadata": {},
   "source": [
    "\n",
    "1.Dataset has  of missing values.\n",
    "\n",
    "Variable 'name' and 'genre' have the same amount of missing data.Missing data do have a relationship with other variables in the dataset. However, the actual values that are missing are random.\n",
    "\n",
    "3.Type of missing data is MAP\n",
    "\n",
    "4.Data in columns 'critic_score' and 'user_score' are quantitative variables and \n",
    "\n",
    "\n",
    "5.Data in colums 'name', 'genre' are qualitative and will be replaces with empty string and  column 'rating' by mode\n",
    "\n",
    "6.All dataset have different type of register so will be transformed to lowercase register "
   ]
  },
  {
   "cell_type": "markdown",
   "metadata": {},
   "source": [
    "##  Prepare the Data"
   ]
  },
  {
   "cell_type": "markdown",
   "metadata": {},
   "source": [
    "- Replace the column names (make them lowercase).\n",
    "- Convert the data to the required types.\n",
    "- Describe the columns where the data types have been changed and why.\n",
    "- If necessary, decide how to deal with missing values:\n",
    "- Explain why you filled in the missing values as you did or why you decided to leave them blank.\n",
    "- Why do you think the values are missing? Give possible reasons.\n",
    "- Pay attention to the abbreviation TBD (to be determined). Specify how you intend to handle such cases.\n",
    "- Calculate the total sales (the sum of sales in all regions) for each game and put these values in a separate column."
   ]
  },
  {
   "cell_type": "code",
   "execution_count": 8,
   "metadata": {},
   "outputs": [],
   "source": [
    "# Replace the column names to the lowercase (make them lowercase)\n",
    "df_games.columns = df_games.columns.str.lower()\n"
   ]
  },
  {
   "cell_type": "code",
   "execution_count": 9,
   "metadata": {},
   "outputs": [
    {
     "data": {
      "text/html": [
       "<div>\n",
       "<style scoped>\n",
       "    .dataframe tbody tr th:only-of-type {\n",
       "        vertical-align: middle;\n",
       "    }\n",
       "\n",
       "    .dataframe tbody tr th {\n",
       "        vertical-align: top;\n",
       "    }\n",
       "\n",
       "    .dataframe thead th {\n",
       "        text-align: right;\n",
       "    }\n",
       "</style>\n",
       "<table border=\"1\" class=\"dataframe\">\n",
       "  <thead>\n",
       "    <tr style=\"text-align: right;\">\n",
       "      <th></th>\n",
       "      <th>name</th>\n",
       "      <th>platform</th>\n",
       "      <th>year_of_release</th>\n",
       "      <th>genre</th>\n",
       "      <th>na_sales</th>\n",
       "      <th>eu_sales</th>\n",
       "      <th>jp_sales</th>\n",
       "      <th>other_sales</th>\n",
       "      <th>critic_score</th>\n",
       "      <th>user_score</th>\n",
       "      <th>rating</th>\n",
       "    </tr>\n",
       "  </thead>\n",
       "  <tbody>\n",
       "    <tr>\n",
       "      <th>0</th>\n",
       "      <td>Wii Sports</td>\n",
       "      <td>Wii</td>\n",
       "      <td>2006.0</td>\n",
       "      <td>Sports</td>\n",
       "      <td>41.36</td>\n",
       "      <td>28.96</td>\n",
       "      <td>3.77</td>\n",
       "      <td>8.45</td>\n",
       "      <td>76.0</td>\n",
       "      <td>8</td>\n",
       "      <td>E</td>\n",
       "    </tr>\n",
       "    <tr>\n",
       "      <th>1</th>\n",
       "      <td>Super Mario Bros.</td>\n",
       "      <td>NES</td>\n",
       "      <td>1985.0</td>\n",
       "      <td>Platform</td>\n",
       "      <td>29.08</td>\n",
       "      <td>3.58</td>\n",
       "      <td>6.81</td>\n",
       "      <td>0.77</td>\n",
       "      <td>NaN</td>\n",
       "      <td>NaN</td>\n",
       "      <td>NaN</td>\n",
       "    </tr>\n",
       "    <tr>\n",
       "      <th>2</th>\n",
       "      <td>Mario Kart Wii</td>\n",
       "      <td>Wii</td>\n",
       "      <td>2008.0</td>\n",
       "      <td>Racing</td>\n",
       "      <td>15.68</td>\n",
       "      <td>12.76</td>\n",
       "      <td>3.79</td>\n",
       "      <td>3.29</td>\n",
       "      <td>82.0</td>\n",
       "      <td>8.3</td>\n",
       "      <td>E</td>\n",
       "    </tr>\n",
       "    <tr>\n",
       "      <th>3</th>\n",
       "      <td>Wii Sports Resort</td>\n",
       "      <td>Wii</td>\n",
       "      <td>2009.0</td>\n",
       "      <td>Sports</td>\n",
       "      <td>15.61</td>\n",
       "      <td>10.93</td>\n",
       "      <td>3.28</td>\n",
       "      <td>2.95</td>\n",
       "      <td>80.0</td>\n",
       "      <td>8</td>\n",
       "      <td>E</td>\n",
       "    </tr>\n",
       "    <tr>\n",
       "      <th>4</th>\n",
       "      <td>Pokemon Red/Pokemon Blue</td>\n",
       "      <td>GB</td>\n",
       "      <td>1996.0</td>\n",
       "      <td>Role-Playing</td>\n",
       "      <td>11.27</td>\n",
       "      <td>8.89</td>\n",
       "      <td>10.22</td>\n",
       "      <td>1.00</td>\n",
       "      <td>NaN</td>\n",
       "      <td>NaN</td>\n",
       "      <td>NaN</td>\n",
       "    </tr>\n",
       "    <tr>\n",
       "      <th>...</th>\n",
       "      <td>...</td>\n",
       "      <td>...</td>\n",
       "      <td>...</td>\n",
       "      <td>...</td>\n",
       "      <td>...</td>\n",
       "      <td>...</td>\n",
       "      <td>...</td>\n",
       "      <td>...</td>\n",
       "      <td>...</td>\n",
       "      <td>...</td>\n",
       "      <td>...</td>\n",
       "    </tr>\n",
       "    <tr>\n",
       "      <th>16710</th>\n",
       "      <td>Samurai Warriors: Sanada Maru</td>\n",
       "      <td>PS3</td>\n",
       "      <td>2016.0</td>\n",
       "      <td>Action</td>\n",
       "      <td>0.00</td>\n",
       "      <td>0.00</td>\n",
       "      <td>0.01</td>\n",
       "      <td>0.00</td>\n",
       "      <td>NaN</td>\n",
       "      <td>NaN</td>\n",
       "      <td>NaN</td>\n",
       "    </tr>\n",
       "    <tr>\n",
       "      <th>16711</th>\n",
       "      <td>LMA Manager 2007</td>\n",
       "      <td>X360</td>\n",
       "      <td>2006.0</td>\n",
       "      <td>Sports</td>\n",
       "      <td>0.00</td>\n",
       "      <td>0.01</td>\n",
       "      <td>0.00</td>\n",
       "      <td>0.00</td>\n",
       "      <td>NaN</td>\n",
       "      <td>NaN</td>\n",
       "      <td>NaN</td>\n",
       "    </tr>\n",
       "    <tr>\n",
       "      <th>16712</th>\n",
       "      <td>Haitaka no Psychedelica</td>\n",
       "      <td>PSV</td>\n",
       "      <td>2016.0</td>\n",
       "      <td>Adventure</td>\n",
       "      <td>0.00</td>\n",
       "      <td>0.00</td>\n",
       "      <td>0.01</td>\n",
       "      <td>0.00</td>\n",
       "      <td>NaN</td>\n",
       "      <td>NaN</td>\n",
       "      <td>NaN</td>\n",
       "    </tr>\n",
       "    <tr>\n",
       "      <th>16713</th>\n",
       "      <td>Spirits &amp; Spells</td>\n",
       "      <td>GBA</td>\n",
       "      <td>2003.0</td>\n",
       "      <td>Platform</td>\n",
       "      <td>0.01</td>\n",
       "      <td>0.00</td>\n",
       "      <td>0.00</td>\n",
       "      <td>0.00</td>\n",
       "      <td>NaN</td>\n",
       "      <td>NaN</td>\n",
       "      <td>NaN</td>\n",
       "    </tr>\n",
       "    <tr>\n",
       "      <th>16714</th>\n",
       "      <td>Winning Post 8 2016</td>\n",
       "      <td>PSV</td>\n",
       "      <td>2016.0</td>\n",
       "      <td>Simulation</td>\n",
       "      <td>0.00</td>\n",
       "      <td>0.00</td>\n",
       "      <td>0.01</td>\n",
       "      <td>0.00</td>\n",
       "      <td>NaN</td>\n",
       "      <td>NaN</td>\n",
       "      <td>NaN</td>\n",
       "    </tr>\n",
       "  </tbody>\n",
       "</table>\n",
       "<p>16715 rows × 11 columns</p>\n",
       "</div>"
      ],
      "text/plain": [
       "                                name platform  year_of_release         genre  \\\n",
       "0                         Wii Sports      Wii           2006.0        Sports   \n",
       "1                  Super Mario Bros.      NES           1985.0      Platform   \n",
       "2                     Mario Kart Wii      Wii           2008.0        Racing   \n",
       "3                  Wii Sports Resort      Wii           2009.0        Sports   \n",
       "4           Pokemon Red/Pokemon Blue       GB           1996.0  Role-Playing   \n",
       "...                              ...      ...              ...           ...   \n",
       "16710  Samurai Warriors: Sanada Maru      PS3           2016.0        Action   \n",
       "16711               LMA Manager 2007     X360           2006.0        Sports   \n",
       "16712        Haitaka no Psychedelica      PSV           2016.0     Adventure   \n",
       "16713               Spirits & Spells      GBA           2003.0      Platform   \n",
       "16714            Winning Post 8 2016      PSV           2016.0    Simulation   \n",
       "\n",
       "       na_sales  eu_sales  jp_sales  other_sales  critic_score user_score  \\\n",
       "0         41.36     28.96      3.77         8.45          76.0          8   \n",
       "1         29.08      3.58      6.81         0.77           NaN        NaN   \n",
       "2         15.68     12.76      3.79         3.29          82.0        8.3   \n",
       "3         15.61     10.93      3.28         2.95          80.0          8   \n",
       "4         11.27      8.89     10.22         1.00           NaN        NaN   \n",
       "...         ...       ...       ...          ...           ...        ...   \n",
       "16710      0.00      0.00      0.01         0.00           NaN        NaN   \n",
       "16711      0.00      0.01      0.00         0.00           NaN        NaN   \n",
       "16712      0.00      0.00      0.01         0.00           NaN        NaN   \n",
       "16713      0.01      0.00      0.00         0.00           NaN        NaN   \n",
       "16714      0.00      0.00      0.01         0.00           NaN        NaN   \n",
       "\n",
       "      rating  \n",
       "0          E  \n",
       "1        NaN  \n",
       "2          E  \n",
       "3          E  \n",
       "4        NaN  \n",
       "...      ...  \n",
       "16710    NaN  \n",
       "16711    NaN  \n",
       "16712    NaN  \n",
       "16713    NaN  \n",
       "16714    NaN  \n",
       "\n",
       "[16715 rows x 11 columns]"
      ]
     },
     "execution_count": 9,
     "metadata": {},
     "output_type": "execute_result"
    }
   ],
   "source": [
    "# Check it\n",
    "df_games"
   ]
  },
  {
   "cell_type": "markdown",
   "metadata": {},
   "source": [
    "**Study for each column in more details and let's decide what to do with them based on meaningful hypotheses**"
   ]
  },
  {
   "cell_type": "markdown",
   "metadata": {},
   "source": [
    "### Column ' name'"
   ]
  },
  {
   "cell_type": "code",
   "execution_count": 10,
   "metadata": {},
   "outputs": [
    {
     "data": {
      "text/plain": [
       "Need for Speed: Most Wanted                12\n",
       "Madden NFL 07                               9\n",
       "Ratatouille                                 9\n",
       "FIFA 14                                     9\n",
       "LEGO Marvel Super Heroes                    9\n",
       "                                           ..\n",
       "Cross Ange: Tenshi to Ryuu no Rondo tr.     1\n",
       "Gummy Bears Magical Medallion               1\n",
       "Frogger II: Threeedeep!                     1\n",
       "Vampire Night                               1\n",
       "Ducati Moto                                 1\n",
       "Name: name, Length: 11560, dtype: int64"
      ]
     },
     "execution_count": 10,
     "metadata": {},
     "output_type": "execute_result"
    }
   ],
   "source": [
    "# Look at for distribution of values\n",
    "df_games['name'].value_counts(dropna= False)"
   ]
  },
  {
   "cell_type": "markdown",
   "metadata": {},
   "source": [
    "- here’s no way to find out their 'name', so you can’t manually fill in the missing values with any meaningful data.But we can fill them in with a default value to represent missing names.\n",
    "- Let's replace the missing values in the 'name' column with the empty string '' as our default value."
   ]
  },
  {
   "cell_type": "code",
   "execution_count": 11,
   "metadata": {},
   "outputs": [
    {
     "data": {
      "text/html": [
       "<div>\n",
       "<style scoped>\n",
       "    .dataframe tbody tr th:only-of-type {\n",
       "        vertical-align: middle;\n",
       "    }\n",
       "\n",
       "    .dataframe tbody tr th {\n",
       "        vertical-align: top;\n",
       "    }\n",
       "\n",
       "    .dataframe thead th {\n",
       "        text-align: right;\n",
       "    }\n",
       "</style>\n",
       "<table border=\"1\" class=\"dataframe\">\n",
       "  <thead>\n",
       "    <tr style=\"text-align: right;\">\n",
       "      <th></th>\n",
       "      <th>name</th>\n",
       "      <th>platform</th>\n",
       "      <th>year_of_release</th>\n",
       "      <th>genre</th>\n",
       "      <th>na_sales</th>\n",
       "      <th>eu_sales</th>\n",
       "      <th>jp_sales</th>\n",
       "      <th>other_sales</th>\n",
       "      <th>critic_score</th>\n",
       "      <th>user_score</th>\n",
       "      <th>rating</th>\n",
       "    </tr>\n",
       "  </thead>\n",
       "  <tbody>\n",
       "    <tr>\n",
       "      <th>659</th>\n",
       "      <td>NaN</td>\n",
       "      <td>GEN</td>\n",
       "      <td>1993.0</td>\n",
       "      <td>NaN</td>\n",
       "      <td>1.78</td>\n",
       "      <td>0.53</td>\n",
       "      <td>0.00</td>\n",
       "      <td>0.08</td>\n",
       "      <td>NaN</td>\n",
       "      <td>NaN</td>\n",
       "      <td>NaN</td>\n",
       "    </tr>\n",
       "    <tr>\n",
       "      <th>14244</th>\n",
       "      <td>NaN</td>\n",
       "      <td>GEN</td>\n",
       "      <td>1993.0</td>\n",
       "      <td>NaN</td>\n",
       "      <td>0.00</td>\n",
       "      <td>0.00</td>\n",
       "      <td>0.03</td>\n",
       "      <td>0.00</td>\n",
       "      <td>NaN</td>\n",
       "      <td>NaN</td>\n",
       "      <td>NaN</td>\n",
       "    </tr>\n",
       "  </tbody>\n",
       "</table>\n",
       "</div>"
      ],
      "text/plain": [
       "      name platform  year_of_release genre  na_sales  eu_sales  jp_sales  \\\n",
       "659    NaN      GEN           1993.0   NaN      1.78      0.53      0.00   \n",
       "14244  NaN      GEN           1993.0   NaN      0.00      0.00      0.03   \n",
       "\n",
       "       other_sales  critic_score user_score rating  \n",
       "659           0.08           NaN        NaN    NaN  \n",
       "14244         0.00           NaN        NaN    NaN  "
      ]
     },
     "execution_count": 11,
     "metadata": {},
     "output_type": "execute_result"
    }
   ],
   "source": [
    "# check if there is missing values?\n",
    "df_games[df_games['name'].isnull()]"
   ]
  },
  {
   "cell_type": "code",
   "execution_count": 12,
   "metadata": {
    "scrolled": true
   },
   "outputs": [
    {
     "data": {
      "text/plain": [
       "array(['Wii Sports', 'Super Mario Bros.', 'Mario Kart Wii', ...,\n",
       "       'Woody Woodpecker in Crazy Castle 5', 'LMA Manager 2007',\n",
       "       'Haitaka no Psychedelica'], dtype=object)"
      ]
     },
     "execution_count": 12,
     "metadata": {},
     "output_type": "execute_result"
    }
   ],
   "source": [
    "#Check 'name' for suspicious values  \n",
    "df_games['name'].unique()"
   ]
  },
  {
   "cell_type": "markdown",
   "metadata": {},
   "source": [
    "### Fix the data"
   ]
  },
  {
   "cell_type": "code",
   "execution_count": 13,
   "metadata": {},
   "outputs": [],
   "source": [
    "#  Fix register  to the lowercase\n",
    "df_games['name'] = df_games['name'].str.lower()"
   ]
  },
  {
   "cell_type": "code",
   "execution_count": 14,
   "metadata": {},
   "outputs": [
    {
     "data": {
      "text/plain": [
       "array(['wii sports', 'super mario bros.', 'mario kart wii', ...,\n",
       "       'woody woodpecker in crazy castle 5', 'lma manager 2007',\n",
       "       'haitaka no psychedelica'], dtype=object)"
      ]
     },
     "execution_count": 14,
     "metadata": {},
     "output_type": "execute_result"
    }
   ],
   "source": [
    "df_games['name'].unique()"
   ]
  },
  {
   "cell_type": "code",
   "execution_count": 15,
   "metadata": {},
   "outputs": [],
   "source": [
    "# Using dropna() to fix  the missing values in ' name' \n",
    "df_games.dropna(subset= ['name','genre'], how = 'all', inplace = True)"
   ]
  },
  {
   "cell_type": "code",
   "execution_count": 16,
   "metadata": {},
   "outputs": [
    {
     "data": {
      "text/plain": [
       "name                  0\n",
       "platform              0\n",
       "year_of_release     269\n",
       "genre                 0\n",
       "na_sales              0\n",
       "eu_sales              0\n",
       "jp_sales              0\n",
       "other_sales           0\n",
       "critic_score       8576\n",
       "user_score         6699\n",
       "rating             6764\n",
       "dtype: int64"
      ]
     },
     "execution_count": 16,
     "metadata": {},
     "output_type": "execute_result"
    }
   ],
   "source": [
    "# Checking if it works\n",
    "df_games.isna().sum()"
   ]
  },
  {
   "cell_type": "markdown",
   "metadata": {},
   "source": [
    "### Column 'platform'"
   ]
  },
  {
   "cell_type": "code",
   "execution_count": 17,
   "metadata": {
    "scrolled": true
   },
   "outputs": [
    {
     "data": {
      "text/plain": [
       "PS2     2161\n",
       "DS      2151\n",
       "PS3     1331\n",
       "Wii     1320\n",
       "X360    1262\n",
       "PSP     1209\n",
       "PS      1197\n",
       "PC       974\n",
       "XB       824\n",
       "GBA      822\n",
       "GC       556\n",
       "3DS      520\n",
       "PSV      430\n",
       "PS4      392\n",
       "N64      319\n",
       "XOne     247\n",
       "SNES     239\n",
       "SAT      173\n",
       "WiiU     147\n",
       "2600     133\n",
       "NES       98\n",
       "GB        98\n",
       "DC        52\n",
       "GEN       27\n",
       "NG        12\n",
       "SCD        6\n",
       "WS         6\n",
       "3DO        3\n",
       "TG16       2\n",
       "GG         1\n",
       "PCFX       1\n",
       "Name: platform, dtype: int64"
      ]
     },
     "execution_count": 17,
     "metadata": {},
     "output_type": "execute_result"
    }
   ],
   "source": [
    "# lets check distibustion\n",
    "df_games['platform'].value_counts(dropna=False)"
   ]
  },
  {
   "cell_type": "markdown",
   "metadata": {},
   "source": [
    "### Fix data"
   ]
  },
  {
   "cell_type": "code",
   "execution_count": 18,
   "metadata": {},
   "outputs": [],
   "source": [
    "# Replace to lowercase\n",
    "df_games['platform'] = df_games['platform'].str.lower()"
   ]
  },
  {
   "cell_type": "code",
   "execution_count": 19,
   "metadata": {},
   "outputs": [
    {
     "data": {
      "text/plain": [
       "array(['wii', 'nes', 'gb', 'ds', 'x360', 'ps3', 'ps2', 'snes', 'gba',\n",
       "       'ps4', '3ds', 'n64', 'ps', 'xb', 'pc', '2600', 'psp', 'xone',\n",
       "       'wiiu', 'gc', 'gen', 'dc', 'psv', 'sat', 'scd', 'ws', 'ng', 'tg16',\n",
       "       '3do', 'gg', 'pcfx'], dtype=object)"
      ]
     },
     "execution_count": 19,
     "metadata": {},
     "output_type": "execute_result"
    }
   ],
   "source": [
    "# check it\n",
    "df_games['platform'].unique()"
   ]
  },
  {
   "cell_type": "markdown",
   "metadata": {},
   "source": [
    "### Column 'year_of_release'"
   ]
  },
  {
   "cell_type": "code",
   "execution_count": 20,
   "metadata": {
    "scrolled": true
   },
   "outputs": [
    {
     "data": {
      "text/plain": [
       "2008.0    1427\n",
       "2009.0    1426\n",
       "2010.0    1255\n",
       "2007.0    1197\n",
       "2011.0    1136\n",
       "2006.0    1006\n",
       "2005.0     939\n",
       "2002.0     829\n",
       "2003.0     775\n",
       "2004.0     762\n",
       "2012.0     653\n",
       "2015.0     606\n",
       "2014.0     581\n",
       "2013.0     544\n",
       "2016.0     502\n",
       "2001.0     482\n",
       "1998.0     379\n",
       "2000.0     350\n",
       "1999.0     338\n",
       "1997.0     289\n",
       "NaN        269\n",
       "1996.0     263\n",
       "1995.0     219\n",
       "1994.0     121\n",
       "1993.0      60\n",
       "1981.0      46\n",
       "1992.0      43\n",
       "1991.0      41\n",
       "1982.0      36\n",
       "1986.0      21\n",
       "1983.0      17\n",
       "1989.0      17\n",
       "1990.0      16\n",
       "1987.0      16\n",
       "1988.0      15\n",
       "1984.0      14\n",
       "1985.0      14\n",
       "1980.0       9\n",
       "Name: year_of_release, dtype: int64"
      ]
     },
     "execution_count": 20,
     "metadata": {},
     "output_type": "execute_result"
    }
   ],
   "source": [
    "# Look at for distribution of values\n",
    "df_games['year_of_release'].value_counts(dropna = False)"
   ]
  },
  {
   "cell_type": "markdown",
   "metadata": {},
   "source": [
    "- The value in the 'year of release' is quantitative data so it will be replacing by median"
   ]
  },
  {
   "cell_type": "markdown",
   "metadata": {},
   "source": [
    "### Fix data"
   ]
  },
  {
   "cell_type": "code",
   "execution_count": 21,
   "metadata": {},
   "outputs": [
    {
     "data": {
      "text/plain": [
       "2007.0"
      ]
     },
     "execution_count": 21,
     "metadata": {},
     "output_type": "execute_result"
    }
   ],
   "source": [
    "df_games['year_of_release'].median()"
   ]
  },
  {
   "cell_type": "code",
   "execution_count": 22,
   "metadata": {},
   "outputs": [
    {
     "data": {
      "text/plain": [
       "platform  genre       \n",
       "2600      Action          1982.0\n",
       "          Adventure       1983.0\n",
       "          Fighting        1980.0\n",
       "          Misc            1980.0\n",
       "          Platform        1982.0\n",
       "                           ...  \n",
       "xone      Role-Playing    2015.0\n",
       "          Shooter         2015.0\n",
       "          Simulation      2015.5\n",
       "          Sports          2015.0\n",
       "          Strategy        2015.0\n",
       "Name: year_of_release, Length: 293, dtype: float64"
      ]
     },
     "execution_count": 22,
     "metadata": {},
     "output_type": "execute_result"
    }
   ],
   "source": [
    "# Distribution of `year_of_release` medians  based on  identified parameters\n",
    "df_games.groupby(['platform','genre'])['year_of_release'].median()"
   ]
  },
  {
   "cell_type": "code",
   "execution_count": 23,
   "metadata": {},
   "outputs": [],
   "source": [
    "# Replace missing values based on identified parameter\n",
    "df_games['year_of_release'] = df_games['year_of_release'].fillna(df_games.groupby(['platform'])['year_of_release'].transform('median'))"
   ]
  },
  {
   "cell_type": "code",
   "execution_count": 24,
   "metadata": {},
   "outputs": [
    {
     "data": {
      "text/plain": [
       "0"
      ]
     },
     "execution_count": 24,
     "metadata": {},
     "output_type": "execute_result"
    }
   ],
   "source": [
    "# Lets check it \n",
    "df_games['year_of_release'].isna().sum()"
   ]
  },
  {
   "cell_type": "code",
   "execution_count": 25,
   "metadata": {},
   "outputs": [],
   "source": [
    "# Converting to int type\n",
    "df_games['year_of_release'] = df_games['year_of_release'].astype('int')"
   ]
  },
  {
   "cell_type": "markdown",
   "metadata": {},
   "source": [
    "### Column 'genre'"
   ]
  },
  {
   "cell_type": "code",
   "execution_count": 26,
   "metadata": {},
   "outputs": [
    {
     "data": {
      "text/plain": [
       "Action          3369\n",
       "Sports          2348\n",
       "Misc            1750\n",
       "Role-Playing    1498\n",
       "Shooter         1323\n",
       "Adventure       1303\n",
       "Racing          1249\n",
       "Platform         888\n",
       "Simulation       873\n",
       "Fighting         849\n",
       "Strategy         683\n",
       "Puzzle           580\n",
       "Name: genre, dtype: int64"
      ]
     },
     "execution_count": 26,
     "metadata": {},
     "output_type": "execute_result"
    }
   ],
   "source": [
    "# let's check  \"genre\"  values\n",
    "df_games['genre'].value_counts(dropna = False)"
   ]
  },
  {
   "cell_type": "code",
   "execution_count": 27,
   "metadata": {
    "scrolled": false
   },
   "outputs": [
    {
     "data": {
      "text/plain": [
       "0"
      ]
     },
     "execution_count": 27,
     "metadata": {},
     "output_type": "execute_result"
    }
   ],
   "source": [
    "# check if there is missing values?\n",
    "df_games['genre'].isnull().sum()"
   ]
  },
  {
   "cell_type": "markdown",
   "metadata": {},
   "source": [
    "- The missing values in the 'genre' column dropped with dropna()"
   ]
  },
  {
   "cell_type": "markdown",
   "metadata": {},
   "source": [
    "### Fix data"
   ]
  },
  {
   "cell_type": "markdown",
   "metadata": {},
   "source": [
    " - To tell the truth, there are too many missing values in the columns critic_score and user_score, so it is rather risky to fill in missing values using median. In fact, we do not know why the data in these columns is missing (we can only hypothesize), and we do not have access to a source that would allow us to replenish the data, restore it, so it is better leave missing values in the data "
   ]
  },
  {
   "cell_type": "code",
   "execution_count": 28,
   "metadata": {},
   "outputs": [],
   "source": [
    "#Fix the registers  to lowercase\n",
    "df_games['genre'] = df_games['genre'].str.lower()"
   ]
  },
  {
   "cell_type": "code",
   "execution_count": 29,
   "metadata": {},
   "outputs": [
    {
     "data": {
      "text/plain": [
       "array(['sports', 'platform', 'racing', 'role-playing', 'puzzle', 'misc',\n",
       "       'shooter', 'simulation', 'action', 'fighting', 'adventure',\n",
       "       'strategy'], dtype=object)"
      ]
     },
     "execution_count": 29,
     "metadata": {},
     "output_type": "execute_result"
    }
   ],
   "source": [
    "# Checking all the values in the column to make sure we fixed them\n",
    "df_games['genre'].unique()"
   ]
  },
  {
   "cell_type": "markdown",
   "metadata": {},
   "source": [
    "### Column 'critic_score'"
   ]
  },
  {
   "cell_type": "code",
   "execution_count": 30,
   "metadata": {
    "scrolled": true
   },
   "outputs": [
    {
     "data": {
      "text/plain": [
       "NaN     8576\n",
       "70.0     256\n",
       "71.0     254\n",
       "75.0     245\n",
       "78.0     240\n",
       "        ... \n",
       "29.0       3\n",
       "21.0       1\n",
       "22.0       1\n",
       "13.0       1\n",
       "17.0       1\n",
       "Name: critic_score, Length: 83, dtype: int64"
      ]
     },
     "execution_count": 30,
     "metadata": {},
     "output_type": "execute_result"
    }
   ],
   "source": [
    "# Let's see the distribution of values in the `critic_score` column \n",
    "df_games['critic_score'].value_counts(dropna=False)"
   ]
  },
  {
   "cell_type": "markdown",
   "metadata": {},
   "source": [
    "### Fix data"
   ]
  },
  {
   "cell_type": "markdown",
   "metadata": {},
   "source": [
    "- We are going to leave missing values because the source is not identify"
   ]
  },
  {
   "cell_type": "code",
   "execution_count": 31,
   "metadata": {},
   "outputs": [],
   "source": [
    "#Write a function that we will use for filling in missing value\n",
    "df_games['critic_score'] = df_games.groupby('genre').transform(lambda x: x.fillna(x.median()))"
   ]
  },
  {
   "cell_type": "code",
   "execution_count": 32,
   "metadata": {},
   "outputs": [
    {
     "data": {
      "text/plain": [
       "name                  0\n",
       "platform              0\n",
       "year_of_release       0\n",
       "genre                 0\n",
       "na_sales              0\n",
       "eu_sales              0\n",
       "jp_sales              0\n",
       "other_sales           0\n",
       "critic_score          0\n",
       "user_score         6699\n",
       "rating             6764\n",
       "dtype: int64"
      ]
     },
     "execution_count": 32,
     "metadata": {},
     "output_type": "execute_result"
    }
   ],
   "source": [
    "df_games.isna().sum()"
   ]
  },
  {
   "cell_type": "markdown",
   "metadata": {},
   "source": [
    "###  Column 'user_score'"
   ]
  },
  {
   "cell_type": "code",
   "execution_count": 33,
   "metadata": {},
   "outputs": [
    {
     "data": {
      "text/plain": [
       "NaN    6699\n",
       "tbd    2424\n",
       "7.8     324\n",
       "8       290\n",
       "8.2     282\n",
       "       ... \n",
       "1.3       2\n",
       "0.6       2\n",
       "1.9       2\n",
       "0         1\n",
       "9.7       1\n",
       "Name: user_score, Length: 97, dtype: int64"
      ]
     },
     "execution_count": 33,
     "metadata": {},
     "output_type": "execute_result"
    }
   ],
   "source": [
    "# See distibution \n",
    "df_games['user_score'].value_counts(dropna = False)"
   ]
  },
  {
   "cell_type": "markdown",
   "metadata": {},
   "source": [
    "- As we see we have problem values as \" tbd \" which is suposed to be fixed by replace as NaN\n"
   ]
  },
  {
   "cell_type": "markdown",
   "metadata": {},
   "source": [
    "### Fix data"
   ]
  },
  {
   "cell_type": "code",
   "execution_count": 34,
   "metadata": {},
   "outputs": [],
   "source": [
    "#replaces every 'tbd' value in the user_score column to NaN i.e a missing value\n",
    "df_games['user_score'] = df_games['user_score'].replace({'tbd' : np.nan})\n",
    "\n",
    "#converts the data in the user_score column to float type\n",
    "df_games['user_score'] = df_games['user_score'].astype('float')\n",
    "\n"
   ]
  },
  {
   "cell_type": "code",
   "execution_count": 35,
   "metadata": {},
   "outputs": [],
   "source": [
    "#Write a function that we will use for filling in missing value\n",
    "df_games['user_score'] = df_games.groupby('genre').transform(lambda x: x.fillna(x.median()))"
   ]
  },
  {
   "cell_type": "code",
   "execution_count": 36,
   "metadata": {
    "scrolled": true
   },
   "outputs": [
    {
     "data": {
      "text/plain": [
       "name                  0\n",
       "platform              0\n",
       "year_of_release       0\n",
       "genre                 0\n",
       "na_sales              0\n",
       "eu_sales              0\n",
       "jp_sales              0\n",
       "other_sales           0\n",
       "critic_score          0\n",
       "user_score            0\n",
       "rating             6764\n",
       "dtype: int64"
      ]
     },
     "execution_count": 36,
     "metadata": {},
     "output_type": "execute_result"
    }
   ],
   "source": [
    "df_games.isna().sum()"
   ]
  },
  {
   "cell_type": "markdown",
   "metadata": {},
   "source": [
    "###  Column 'rating'"
   ]
  },
  {
   "cell_type": "code",
   "execution_count": 37,
   "metadata": {
    "scrolled": true
   },
   "outputs": [
    {
     "data": {
      "text/plain": [
       "NaN     6764\n",
       "E       3990\n",
       "T       2961\n",
       "M       1563\n",
       "E10+    1420\n",
       "EC         8\n",
       "K-A        3\n",
       "RP         3\n",
       "AO         1\n",
       "Name: rating, dtype: int64"
      ]
     },
     "execution_count": 37,
     "metadata": {},
     "output_type": "execute_result"
    }
   ],
   "source": [
    "df_games['rating'].value_counts(dropna = False)"
   ]
  },
  {
   "cell_type": "markdown",
   "metadata": {},
   "source": [
    "- Missing values in 'rating' column is categorical (quantitative) and represented as NAN"
   ]
  },
  {
   "cell_type": "markdown",
   "metadata": {},
   "source": [
    "### Fix data"
   ]
  },
  {
   "cell_type": "code",
   "execution_count": 38,
   "metadata": {},
   "outputs": [
    {
     "data": {
      "text/plain": [
       "6764"
      ]
     },
     "execution_count": 38,
     "metadata": {},
     "output_type": "execute_result"
    }
   ],
   "source": [
    "# let's check it missing values\n",
    "df_games['rating'].isna().sum()"
   ]
  },
  {
   "cell_type": "code",
   "execution_count": 39,
   "metadata": {},
   "outputs": [],
   "source": [
    "df_games['rating'] = df_games['rating'].fillna('undefined')"
   ]
  },
  {
   "cell_type": "code",
   "execution_count": 40,
   "metadata": {},
   "outputs": [
    {
     "name": "stdout",
     "output_type": "stream",
     "text": [
      "0\n"
     ]
    }
   ],
   "source": [
    "# Checking duplicates\n",
    "print(df_games.duplicated().sum()) "
   ]
  },
  {
   "cell_type": "code",
   "execution_count": 41,
   "metadata": {},
   "outputs": [
    {
     "name": "stdout",
     "output_type": "stream",
     "text": [
      "<class 'pandas.core.frame.DataFrame'>\n",
      "Int64Index: 16713 entries, 0 to 16714\n",
      "Data columns (total 11 columns):\n",
      " #   Column           Non-Null Count  Dtype  \n",
      "---  ------           --------------  -----  \n",
      " 0   name             16713 non-null  object \n",
      " 1   platform         16713 non-null  object \n",
      " 2   year_of_release  16713 non-null  int64  \n",
      " 3   genre            16713 non-null  object \n",
      " 4   na_sales         16713 non-null  float64\n",
      " 5   eu_sales         16713 non-null  float64\n",
      " 6   jp_sales         16713 non-null  float64\n",
      " 7   other_sales      16713 non-null  float64\n",
      " 8   critic_score     16713 non-null  float64\n",
      " 9   user_score       16713 non-null  float64\n",
      " 10  rating           16713 non-null  object \n",
      "dtypes: float64(6), int64(1), object(4)\n",
      "memory usage: 1.5+ MB\n"
     ]
    }
   ],
   "source": [
    "# print the general/summary information about the DataFrame\n",
    "\n",
    "df_games.info()"
   ]
  },
  {
   "cell_type": "markdown",
   "metadata": {},
   "source": [
    "### Culculating Total Sales\n"
   ]
  },
  {
   "cell_type": "code",
   "execution_count": 42,
   "metadata": {},
   "outputs": [],
   "source": [
    "# Culculate total sales\n",
    "#df_games['total_sales'] = df_games['na_sales'] + df_games['eu_sales'] + df_games['jp_sales'] + df_games['other_sales']\n",
    "\n",
    "\n",
    "df_games['total_sales'] = df_games[['na_sales', 'eu_sales', 'jp_sales', 'other_sales']].sum(axis=1)"
   ]
  },
  {
   "cell_type": "code",
   "execution_count": 43,
   "metadata": {},
   "outputs": [
    {
     "data": {
      "text/html": [
       "<div>\n",
       "<style scoped>\n",
       "    .dataframe tbody tr th:only-of-type {\n",
       "        vertical-align: middle;\n",
       "    }\n",
       "\n",
       "    .dataframe tbody tr th {\n",
       "        vertical-align: top;\n",
       "    }\n",
       "\n",
       "    .dataframe thead th {\n",
       "        text-align: right;\n",
       "    }\n",
       "</style>\n",
       "<table border=\"1\" class=\"dataframe\">\n",
       "  <thead>\n",
       "    <tr style=\"text-align: right;\">\n",
       "      <th></th>\n",
       "      <th>name</th>\n",
       "      <th>platform</th>\n",
       "      <th>year_of_release</th>\n",
       "      <th>genre</th>\n",
       "      <th>na_sales</th>\n",
       "      <th>eu_sales</th>\n",
       "      <th>jp_sales</th>\n",
       "      <th>other_sales</th>\n",
       "      <th>critic_score</th>\n",
       "      <th>user_score</th>\n",
       "      <th>rating</th>\n",
       "      <th>total_sales</th>\n",
       "    </tr>\n",
       "  </thead>\n",
       "  <tbody>\n",
       "    <tr>\n",
       "      <th>0</th>\n",
       "      <td>wii sports</td>\n",
       "      <td>wii</td>\n",
       "      <td>2006</td>\n",
       "      <td>sports</td>\n",
       "      <td>41.36</td>\n",
       "      <td>28.96</td>\n",
       "      <td>3.77</td>\n",
       "      <td>8.45</td>\n",
       "      <td>2006.0</td>\n",
       "      <td>2006.0</td>\n",
       "      <td>E</td>\n",
       "      <td>82.54</td>\n",
       "    </tr>\n",
       "    <tr>\n",
       "      <th>1</th>\n",
       "      <td>super mario bros.</td>\n",
       "      <td>nes</td>\n",
       "      <td>1985</td>\n",
       "      <td>platform</td>\n",
       "      <td>29.08</td>\n",
       "      <td>3.58</td>\n",
       "      <td>6.81</td>\n",
       "      <td>0.77</td>\n",
       "      <td>1985.0</td>\n",
       "      <td>1985.0</td>\n",
       "      <td>undefined</td>\n",
       "      <td>40.24</td>\n",
       "    </tr>\n",
       "    <tr>\n",
       "      <th>2</th>\n",
       "      <td>mario kart wii</td>\n",
       "      <td>wii</td>\n",
       "      <td>2008</td>\n",
       "      <td>racing</td>\n",
       "      <td>15.68</td>\n",
       "      <td>12.76</td>\n",
       "      <td>3.79</td>\n",
       "      <td>3.29</td>\n",
       "      <td>2008.0</td>\n",
       "      <td>2008.0</td>\n",
       "      <td>E</td>\n",
       "      <td>35.52</td>\n",
       "    </tr>\n",
       "    <tr>\n",
       "      <th>3</th>\n",
       "      <td>wii sports resort</td>\n",
       "      <td>wii</td>\n",
       "      <td>2009</td>\n",
       "      <td>sports</td>\n",
       "      <td>15.61</td>\n",
       "      <td>10.93</td>\n",
       "      <td>3.28</td>\n",
       "      <td>2.95</td>\n",
       "      <td>2009.0</td>\n",
       "      <td>2009.0</td>\n",
       "      <td>E</td>\n",
       "      <td>32.77</td>\n",
       "    </tr>\n",
       "    <tr>\n",
       "      <th>4</th>\n",
       "      <td>pokemon red/pokemon blue</td>\n",
       "      <td>gb</td>\n",
       "      <td>1996</td>\n",
       "      <td>role-playing</td>\n",
       "      <td>11.27</td>\n",
       "      <td>8.89</td>\n",
       "      <td>10.22</td>\n",
       "      <td>1.00</td>\n",
       "      <td>1996.0</td>\n",
       "      <td>1996.0</td>\n",
       "      <td>undefined</td>\n",
       "      <td>31.38</td>\n",
       "    </tr>\n",
       "  </tbody>\n",
       "</table>\n",
       "</div>"
      ],
      "text/plain": [
       "                       name platform  year_of_release         genre  na_sales  \\\n",
       "0                wii sports      wii             2006        sports     41.36   \n",
       "1         super mario bros.      nes             1985      platform     29.08   \n",
       "2            mario kart wii      wii             2008        racing     15.68   \n",
       "3         wii sports resort      wii             2009        sports     15.61   \n",
       "4  pokemon red/pokemon blue       gb             1996  role-playing     11.27   \n",
       "\n",
       "   eu_sales  jp_sales  other_sales  critic_score  user_score     rating  \\\n",
       "0     28.96      3.77         8.45        2006.0      2006.0          E   \n",
       "1      3.58      6.81         0.77        1985.0      1985.0  undefined   \n",
       "2     12.76      3.79         3.29        2008.0      2008.0          E   \n",
       "3     10.93      3.28         2.95        2009.0      2009.0          E   \n",
       "4      8.89     10.22         1.00        1996.0      1996.0  undefined   \n",
       "\n",
       "   total_sales  \n",
       "0        82.54  \n",
       "1        40.24  \n",
       "2        35.52  \n",
       "3        32.77  \n",
       "4        31.38  "
      ]
     },
     "execution_count": 43,
     "metadata": {},
     "output_type": "execute_result"
    }
   ],
   "source": [
    "df_games.head()"
   ]
  },
  {
   "cell_type": "markdown",
   "metadata": {},
   "source": [
    "df_games.info()"
   ]
  },
  {
   "cell_type": "markdown",
   "metadata": {},
   "source": [
    "## Analyzing the data"
   ]
  },
  {
   "cell_type": "markdown",
   "metadata": {},
   "source": [
    "- Look at how many games were released in different years. Is the data for every period significant?\n",
    "- Look at how sales varied from platform to platform. Choose the platforms with the greatest total sales and build a distribution based on data for each year. Find platforms that used to be popular but now have zero sales. How long does it generally take for new platforms to appear and old ones to fade?\n",
    "- Determine what period you should take data for. To do so, look at your answers to the previous questions. The data should allow you to build a prognosis for 2017.\n",
    "- Work only with the data that you've decided is relevant. Disregard the data for previous years.\n",
    "- Which platforms are leading in sales? Which ones are growing or shrinking? Select several potentially profitable platforms.\n",
    "- Build a box plot for the global sales of all games, broken down by platform. Are the differences in sales significant? What about average sales on various platforms? Describe your findings.\n",
    "- Take a look at how user and professional reviews affect sales for one popular platform (you choose). Build a scatter plot and calculate the correlation between reviews and sales. Draw conclusions.\n",
    "- Keeping your conclusions in mind, compare the sales of the same games on other platforms.\n",
    "- Take a look at the general distribution of games by genre. What can we say about the most profitable genres? Can you generalize about genres with high and low sales?"
   ]
  },
  {
   "cell_type": "markdown",
   "metadata": {},
   "source": [
    "#### How many games were released in different years. Is the data for every period significant?"
   ]
  },
  {
   "cell_type": "code",
   "execution_count": 44,
   "metadata": {
    "scrolled": true
   },
   "outputs": [
    {
     "data": {
      "text/plain": [
       "year_of_release\n",
       "1980     9\n",
       "1981    46\n",
       "1982    53\n",
       "1983    17\n",
       "1984    14\n",
       "Name: name, dtype: int64"
      ]
     },
     "execution_count": 44,
     "metadata": {},
     "output_type": "execute_result"
    }
   ],
   "source": [
    "#Look at how many games were released in different years.\n",
    "year_count = df_games.groupby(['year_of_release'])['name'].count()\n",
    "year_count. head()"
   ]
  },
  {
   "cell_type": "code",
   "execution_count": 45,
   "metadata": {},
   "outputs": [
    {
     "data": {
      "image/png": "[encoded data removed]",
      "text/plain": [
       "<Figure size 1440x720 with 1 Axes>"
      ]
     },
     "metadata": {
      "needs_background": "light"
     },
     "output_type": "display_data"
    }
   ],
   "source": [
    "# The graph showing number of games release per year\n",
    "year_count.plot.bar(rot=0, figsize=(20, 10))\n",
    "plt.title('Number of game releases per year')\n",
    "plt.xlabel('year of release')\n",
    "plt.ylabel('Number of releases')\n",
    "plt.show()"
   ]
  },
  {
   "cell_type": "markdown",
   "metadata": {},
   "source": [
    "- From  1980 and 1995 period  200 video games were released per year. \n",
    "- From 1995  to 2001 having about 500 games released.\n",
    "- 2002 saw a sharp increase; over 800 games were released that year.\n",
    "- 2007 to 2011 are the top when it comes to releases\n",
    "- 2009 boasting 1476 releases (the peak).\n",
    "- Not all periods are significant."
   ]
  },
  {
   "cell_type": "markdown",
   "metadata": {},
   "source": [
    "#### Look at how sales varied from platform to platform.\n"
   ]
  },
  {
   "cell_type": "code",
   "execution_count": 46,
   "metadata": {
    "scrolled": true
   },
   "outputs": [
    {
     "data": {
      "text/html": [
       "<div>\n",
       "<style scoped>\n",
       "    .dataframe tbody tr th:only-of-type {\n",
       "        vertical-align: middle;\n",
       "    }\n",
       "\n",
       "    .dataframe tbody tr th {\n",
       "        vertical-align: top;\n",
       "    }\n",
       "\n",
       "    .dataframe thead th {\n",
       "        text-align: right;\n",
       "    }\n",
       "</style>\n",
       "<table border=\"1\" class=\"dataframe\">\n",
       "  <thead>\n",
       "    <tr style=\"text-align: right;\">\n",
       "      <th></th>\n",
       "      <th>platform</th>\n",
       "      <th>total_sales</th>\n",
       "    </tr>\n",
       "  </thead>\n",
       "  <tbody>\n",
       "    <tr>\n",
       "      <th>0</th>\n",
       "      <td>2600</td>\n",
       "      <td>96.98</td>\n",
       "    </tr>\n",
       "    <tr>\n",
       "      <th>1</th>\n",
       "      <td>3do</td>\n",
       "      <td>0.10</td>\n",
       "    </tr>\n",
       "    <tr>\n",
       "      <th>2</th>\n",
       "      <td>3ds</td>\n",
       "      <td>259.00</td>\n",
       "    </tr>\n",
       "    <tr>\n",
       "      <th>3</th>\n",
       "      <td>dc</td>\n",
       "      <td>15.95</td>\n",
       "    </tr>\n",
       "    <tr>\n",
       "      <th>4</th>\n",
       "      <td>ds</td>\n",
       "      <td>806.12</td>\n",
       "    </tr>\n",
       "    <tr>\n",
       "      <th>5</th>\n",
       "      <td>gb</td>\n",
       "      <td>255.46</td>\n",
       "    </tr>\n",
       "    <tr>\n",
       "      <th>6</th>\n",
       "      <td>gba</td>\n",
       "      <td>317.85</td>\n",
       "    </tr>\n",
       "    <tr>\n",
       "      <th>7</th>\n",
       "      <td>gc</td>\n",
       "      <td>198.93</td>\n",
       "    </tr>\n",
       "    <tr>\n",
       "      <th>8</th>\n",
       "      <td>gen</td>\n",
       "      <td>28.35</td>\n",
       "    </tr>\n",
       "    <tr>\n",
       "      <th>9</th>\n",
       "      <td>gg</td>\n",
       "      <td>0.04</td>\n",
       "    </tr>\n",
       "    <tr>\n",
       "      <th>10</th>\n",
       "      <td>n64</td>\n",
       "      <td>218.68</td>\n",
       "    </tr>\n",
       "    <tr>\n",
       "      <th>11</th>\n",
       "      <td>nes</td>\n",
       "      <td>251.05</td>\n",
       "    </tr>\n",
       "    <tr>\n",
       "      <th>12</th>\n",
       "      <td>ng</td>\n",
       "      <td>1.44</td>\n",
       "    </tr>\n",
       "    <tr>\n",
       "      <th>13</th>\n",
       "      <td>pc</td>\n",
       "      <td>259.52</td>\n",
       "    </tr>\n",
       "    <tr>\n",
       "      <th>14</th>\n",
       "      <td>pcfx</td>\n",
       "      <td>0.03</td>\n",
       "    </tr>\n",
       "    <tr>\n",
       "      <th>15</th>\n",
       "      <td>ps</td>\n",
       "      <td>730.86</td>\n",
       "    </tr>\n",
       "    <tr>\n",
       "      <th>16</th>\n",
       "      <td>ps2</td>\n",
       "      <td>1255.77</td>\n",
       "    </tr>\n",
       "    <tr>\n",
       "      <th>17</th>\n",
       "      <td>ps3</td>\n",
       "      <td>939.65</td>\n",
       "    </tr>\n",
       "    <tr>\n",
       "      <th>18</th>\n",
       "      <td>ps4</td>\n",
       "      <td>314.14</td>\n",
       "    </tr>\n",
       "    <tr>\n",
       "      <th>19</th>\n",
       "      <td>psp</td>\n",
       "      <td>294.05</td>\n",
       "    </tr>\n",
       "    <tr>\n",
       "      <th>20</th>\n",
       "      <td>psv</td>\n",
       "      <td>54.07</td>\n",
       "    </tr>\n",
       "    <tr>\n",
       "      <th>21</th>\n",
       "      <td>sat</td>\n",
       "      <td>33.59</td>\n",
       "    </tr>\n",
       "    <tr>\n",
       "      <th>22</th>\n",
       "      <td>scd</td>\n",
       "      <td>1.86</td>\n",
       "    </tr>\n",
       "    <tr>\n",
       "      <th>23</th>\n",
       "      <td>snes</td>\n",
       "      <td>200.04</td>\n",
       "    </tr>\n",
       "    <tr>\n",
       "      <th>24</th>\n",
       "      <td>tg16</td>\n",
       "      <td>0.16</td>\n",
       "    </tr>\n",
       "    <tr>\n",
       "      <th>25</th>\n",
       "      <td>wii</td>\n",
       "      <td>907.51</td>\n",
       "    </tr>\n",
       "    <tr>\n",
       "      <th>26</th>\n",
       "      <td>wiiu</td>\n",
       "      <td>82.19</td>\n",
       "    </tr>\n",
       "    <tr>\n",
       "      <th>27</th>\n",
       "      <td>ws</td>\n",
       "      <td>1.42</td>\n",
       "    </tr>\n",
       "    <tr>\n",
       "      <th>28</th>\n",
       "      <td>x360</td>\n",
       "      <td>971.42</td>\n",
       "    </tr>\n",
       "    <tr>\n",
       "      <th>29</th>\n",
       "      <td>xb</td>\n",
       "      <td>257.74</td>\n",
       "    </tr>\n",
       "    <tr>\n",
       "      <th>30</th>\n",
       "      <td>xone</td>\n",
       "      <td>159.32</td>\n",
       "    </tr>\n",
       "  </tbody>\n",
       "</table>\n",
       "</div>"
      ],
      "text/plain": [
       "   platform  total_sales\n",
       "0      2600        96.98\n",
       "1       3do         0.10\n",
       "2       3ds       259.00\n",
       "3        dc        15.95\n",
       "4        ds       806.12\n",
       "5        gb       255.46\n",
       "6       gba       317.85\n",
       "7        gc       198.93\n",
       "8       gen        28.35\n",
       "9        gg         0.04\n",
       "10      n64       218.68\n",
       "11      nes       251.05\n",
       "12       ng         1.44\n",
       "13       pc       259.52\n",
       "14     pcfx         0.03\n",
       "15       ps       730.86\n",
       "16      ps2      1255.77\n",
       "17      ps3       939.65\n",
       "18      ps4       314.14\n",
       "19      psp       294.05\n",
       "20      psv        54.07\n",
       "21      sat        33.59\n",
       "22      scd         1.86\n",
       "23     snes       200.04\n",
       "24     tg16         0.16\n",
       "25      wii       907.51\n",
       "26     wiiu        82.19\n",
       "27       ws         1.42\n",
       "28     x360       971.42\n",
       "29       xb       257.74\n",
       "30     xone       159.32"
      ]
     },
     "execution_count": 46,
     "metadata": {},
     "output_type": "execute_result"
    }
   ],
   "source": [
    "# Calculate total sales per platform\n",
    "sales_per_platform = df_games.pivot_table(index = ('platform'), values = 'total_sales', aggfunc = ('sum')).reset_index()\n",
    "sales_per_platform"
   ]
  },
  {
   "cell_type": "code",
   "execution_count": 47,
   "metadata": {
    "scrolled": false
   },
   "outputs": [
    {
     "data": {
      "image/png": "[encoded data removed]",
      "text/plain": [
       "<Figure size 720x432 with 1 Axes>"
      ]
     },
     "metadata": {
      "needs_background": "light"
     },
     "output_type": "display_data"
    }
   ],
   "source": [
    "# This bar chart showing distribution of the total sales  by platforms\n",
    "df_games.groupby('platform')['total_sales'].sum().sort_values(ascending = False).plot(kind= 'bar',figsize = (10,6),color=['#FFCF56' ],title = 'Disribution of the platforms')\n",
    "plt.show()"
   ]
  },
  {
   "cell_type": "code",
   "execution_count": 48,
   "metadata": {},
   "outputs": [
    {
     "data": {
      "text/html": [
       "<div>\n",
       "<style scoped>\n",
       "    .dataframe tbody tr th:only-of-type {\n",
       "        vertical-align: middle;\n",
       "    }\n",
       "\n",
       "    .dataframe tbody tr th {\n",
       "        vertical-align: top;\n",
       "    }\n",
       "\n",
       "    .dataframe thead th {\n",
       "        text-align: right;\n",
       "    }\n",
       "</style>\n",
       "<table border=\"1\" class=\"dataframe\">\n",
       "  <thead>\n",
       "    <tr style=\"text-align: right;\">\n",
       "      <th></th>\n",
       "      <th>platform</th>\n",
       "      <th>total_sales</th>\n",
       "    </tr>\n",
       "  </thead>\n",
       "  <tbody>\n",
       "    <tr>\n",
       "      <th>16</th>\n",
       "      <td>ps2</td>\n",
       "      <td>1255.77</td>\n",
       "    </tr>\n",
       "    <tr>\n",
       "      <th>28</th>\n",
       "      <td>x360</td>\n",
       "      <td>971.42</td>\n",
       "    </tr>\n",
       "    <tr>\n",
       "      <th>17</th>\n",
       "      <td>ps3</td>\n",
       "      <td>939.65</td>\n",
       "    </tr>\n",
       "    <tr>\n",
       "      <th>25</th>\n",
       "      <td>wii</td>\n",
       "      <td>907.51</td>\n",
       "    </tr>\n",
       "    <tr>\n",
       "      <th>4</th>\n",
       "      <td>ds</td>\n",
       "      <td>806.12</td>\n",
       "    </tr>\n",
       "  </tbody>\n",
       "</table>\n",
       "</div>"
      ],
      "text/plain": [
       "   platform  total_sales\n",
       "16      ps2      1255.77\n",
       "28     x360       971.42\n",
       "17      ps3       939.65\n",
       "25      wii       907.51\n",
       "4        ds       806.12"
      ]
     },
     "execution_count": 48,
     "metadata": {},
     "output_type": "execute_result"
    }
   ],
   "source": [
    "# Find the greatest total sales Top-5 platforms\n",
    "top_5_platform = sales_per_platform.sort_values(by='total_sales',ascending = False).head()\n",
    "top_5_platform"
   ]
  },
  {
   "cell_type": "markdown",
   "metadata": {},
   "source": [
    "- As we see top 5 leading in sales platforms are  1-ps2, 2-x360, 3-ps3, 4-wii, 5- ds"
   ]
  },
  {
   "cell_type": "code",
   "execution_count": 49,
   "metadata": {},
   "outputs": [
    {
     "data": {
      "text/html": [
       "<div>\n",
       "<style scoped>\n",
       "    .dataframe tbody tr th:only-of-type {\n",
       "        vertical-align: middle;\n",
       "    }\n",
       "\n",
       "    .dataframe tbody tr th {\n",
       "        vertical-align: top;\n",
       "    }\n",
       "\n",
       "    .dataframe thead th {\n",
       "        text-align: right;\n",
       "    }\n",
       "</style>\n",
       "<table border=\"1\" class=\"dataframe\">\n",
       "  <thead>\n",
       "    <tr style=\"text-align: right;\">\n",
       "      <th></th>\n",
       "      <th>platform</th>\n",
       "      <th>year_of_release</th>\n",
       "      <th>total_sales</th>\n",
       "    </tr>\n",
       "  </thead>\n",
       "  <tbody>\n",
       "    <tr>\n",
       "      <th>0</th>\n",
       "      <td>ds</td>\n",
       "      <td>1985</td>\n",
       "      <td>0.02</td>\n",
       "    </tr>\n",
       "    <tr>\n",
       "      <th>1</th>\n",
       "      <td>ds</td>\n",
       "      <td>2004</td>\n",
       "      <td>17.27</td>\n",
       "    </tr>\n",
       "    <tr>\n",
       "      <th>2</th>\n",
       "      <td>ds</td>\n",
       "      <td>2005</td>\n",
       "      <td>130.14</td>\n",
       "    </tr>\n",
       "    <tr>\n",
       "      <th>3</th>\n",
       "      <td>ds</td>\n",
       "      <td>2006</td>\n",
       "      <td>119.81</td>\n",
       "    </tr>\n",
       "    <tr>\n",
       "      <th>4</th>\n",
       "      <td>ds</td>\n",
       "      <td>2007</td>\n",
       "      <td>146.94</td>\n",
       "    </tr>\n",
       "    <tr>\n",
       "      <th>5</th>\n",
       "      <td>ds</td>\n",
       "      <td>2008</td>\n",
       "      <td>148.65</td>\n",
       "    </tr>\n",
       "    <tr>\n",
       "      <th>6</th>\n",
       "      <td>ds</td>\n",
       "      <td>2009</td>\n",
       "      <td>119.54</td>\n",
       "    </tr>\n",
       "    <tr>\n",
       "      <th>7</th>\n",
       "      <td>ds</td>\n",
       "      <td>2010</td>\n",
       "      <td>85.02</td>\n",
       "    </tr>\n",
       "    <tr>\n",
       "      <th>8</th>\n",
       "      <td>ds</td>\n",
       "      <td>2011</td>\n",
       "      <td>26.18</td>\n",
       "    </tr>\n",
       "    <tr>\n",
       "      <th>9</th>\n",
       "      <td>ds</td>\n",
       "      <td>2012</td>\n",
       "      <td>11.01</td>\n",
       "    </tr>\n",
       "    <tr>\n",
       "      <th>10</th>\n",
       "      <td>ds</td>\n",
       "      <td>2013</td>\n",
       "      <td>1.54</td>\n",
       "    </tr>\n",
       "    <tr>\n",
       "      <th>11</th>\n",
       "      <td>ps2</td>\n",
       "      <td>2000</td>\n",
       "      <td>39.17</td>\n",
       "    </tr>\n",
       "    <tr>\n",
       "      <th>12</th>\n",
       "      <td>ps2</td>\n",
       "      <td>2001</td>\n",
       "      <td>166.43</td>\n",
       "    </tr>\n",
       "    <tr>\n",
       "      <th>13</th>\n",
       "      <td>ps2</td>\n",
       "      <td>2002</td>\n",
       "      <td>205.38</td>\n",
       "    </tr>\n",
       "    <tr>\n",
       "      <th>14</th>\n",
       "      <td>ps2</td>\n",
       "      <td>2003</td>\n",
       "      <td>184.31</td>\n",
       "    </tr>\n",
       "    <tr>\n",
       "      <th>15</th>\n",
       "      <td>ps2</td>\n",
       "      <td>2004</td>\n",
       "      <td>211.81</td>\n",
       "    </tr>\n",
       "    <tr>\n",
       "      <th>16</th>\n",
       "      <td>ps2</td>\n",
       "      <td>2005</td>\n",
       "      <td>182.87</td>\n",
       "    </tr>\n",
       "    <tr>\n",
       "      <th>17</th>\n",
       "      <td>ps2</td>\n",
       "      <td>2006</td>\n",
       "      <td>103.42</td>\n",
       "    </tr>\n",
       "    <tr>\n",
       "      <th>18</th>\n",
       "      <td>ps2</td>\n",
       "      <td>2007</td>\n",
       "      <td>75.99</td>\n",
       "    </tr>\n",
       "    <tr>\n",
       "      <th>19</th>\n",
       "      <td>ps2</td>\n",
       "      <td>2008</td>\n",
       "      <td>53.90</td>\n",
       "    </tr>\n",
       "    <tr>\n",
       "      <th>20</th>\n",
       "      <td>ps2</td>\n",
       "      <td>2009</td>\n",
       "      <td>26.40</td>\n",
       "    </tr>\n",
       "    <tr>\n",
       "      <th>21</th>\n",
       "      <td>ps2</td>\n",
       "      <td>2010</td>\n",
       "      <td>5.64</td>\n",
       "    </tr>\n",
       "    <tr>\n",
       "      <th>22</th>\n",
       "      <td>ps2</td>\n",
       "      <td>2011</td>\n",
       "      <td>0.45</td>\n",
       "    </tr>\n",
       "    <tr>\n",
       "      <th>23</th>\n",
       "      <td>ps3</td>\n",
       "      <td>2006</td>\n",
       "      <td>20.96</td>\n",
       "    </tr>\n",
       "    <tr>\n",
       "      <th>24</th>\n",
       "      <td>ps3</td>\n",
       "      <td>2007</td>\n",
       "      <td>73.19</td>\n",
       "    </tr>\n",
       "    <tr>\n",
       "      <th>25</th>\n",
       "      <td>ps3</td>\n",
       "      <td>2008</td>\n",
       "      <td>118.52</td>\n",
       "    </tr>\n",
       "    <tr>\n",
       "      <th>26</th>\n",
       "      <td>ps3</td>\n",
       "      <td>2009</td>\n",
       "      <td>130.93</td>\n",
       "    </tr>\n",
       "    <tr>\n",
       "      <th>27</th>\n",
       "      <td>ps3</td>\n",
       "      <td>2010</td>\n",
       "      <td>142.17</td>\n",
       "    </tr>\n",
       "    <tr>\n",
       "      <th>28</th>\n",
       "      <td>ps3</td>\n",
       "      <td>2011</td>\n",
       "      <td>165.09</td>\n",
       "    </tr>\n",
       "    <tr>\n",
       "      <th>29</th>\n",
       "      <td>ps3</td>\n",
       "      <td>2012</td>\n",
       "      <td>107.36</td>\n",
       "    </tr>\n",
       "    <tr>\n",
       "      <th>30</th>\n",
       "      <td>ps3</td>\n",
       "      <td>2013</td>\n",
       "      <td>113.25</td>\n",
       "    </tr>\n",
       "    <tr>\n",
       "      <th>31</th>\n",
       "      <td>ps3</td>\n",
       "      <td>2014</td>\n",
       "      <td>47.76</td>\n",
       "    </tr>\n",
       "    <tr>\n",
       "      <th>32</th>\n",
       "      <td>ps3</td>\n",
       "      <td>2015</td>\n",
       "      <td>16.82</td>\n",
       "    </tr>\n",
       "    <tr>\n",
       "      <th>33</th>\n",
       "      <td>ps3</td>\n",
       "      <td>2016</td>\n",
       "      <td>3.60</td>\n",
       "    </tr>\n",
       "    <tr>\n",
       "      <th>34</th>\n",
       "      <td>wii</td>\n",
       "      <td>2006</td>\n",
       "      <td>137.15</td>\n",
       "    </tr>\n",
       "    <tr>\n",
       "      <th>35</th>\n",
       "      <td>wii</td>\n",
       "      <td>2007</td>\n",
       "      <td>152.77</td>\n",
       "    </tr>\n",
       "    <tr>\n",
       "      <th>36</th>\n",
       "      <td>wii</td>\n",
       "      <td>2008</td>\n",
       "      <td>171.32</td>\n",
       "    </tr>\n",
       "    <tr>\n",
       "      <th>37</th>\n",
       "      <td>wii</td>\n",
       "      <td>2009</td>\n",
       "      <td>223.30</td>\n",
       "    </tr>\n",
       "    <tr>\n",
       "      <th>38</th>\n",
       "      <td>wii</td>\n",
       "      <td>2010</td>\n",
       "      <td>127.95</td>\n",
       "    </tr>\n",
       "    <tr>\n",
       "      <th>39</th>\n",
       "      <td>wii</td>\n",
       "      <td>2011</td>\n",
       "      <td>59.65</td>\n",
       "    </tr>\n",
       "    <tr>\n",
       "      <th>40</th>\n",
       "      <td>wii</td>\n",
       "      <td>2012</td>\n",
       "      <td>21.71</td>\n",
       "    </tr>\n",
       "    <tr>\n",
       "      <th>41</th>\n",
       "      <td>wii</td>\n",
       "      <td>2013</td>\n",
       "      <td>8.59</td>\n",
       "    </tr>\n",
       "    <tr>\n",
       "      <th>42</th>\n",
       "      <td>wii</td>\n",
       "      <td>2014</td>\n",
       "      <td>3.75</td>\n",
       "    </tr>\n",
       "    <tr>\n",
       "      <th>43</th>\n",
       "      <td>wii</td>\n",
       "      <td>2015</td>\n",
       "      <td>1.14</td>\n",
       "    </tr>\n",
       "    <tr>\n",
       "      <th>44</th>\n",
       "      <td>wii</td>\n",
       "      <td>2016</td>\n",
       "      <td>0.18</td>\n",
       "    </tr>\n",
       "    <tr>\n",
       "      <th>45</th>\n",
       "      <td>x360</td>\n",
       "      <td>2005</td>\n",
       "      <td>8.25</td>\n",
       "    </tr>\n",
       "    <tr>\n",
       "      <th>46</th>\n",
       "      <td>x360</td>\n",
       "      <td>2006</td>\n",
       "      <td>51.62</td>\n",
       "    </tr>\n",
       "    <tr>\n",
       "      <th>47</th>\n",
       "      <td>x360</td>\n",
       "      <td>2007</td>\n",
       "      <td>95.41</td>\n",
       "    </tr>\n",
       "    <tr>\n",
       "      <th>48</th>\n",
       "      <td>x360</td>\n",
       "      <td>2008</td>\n",
       "      <td>135.26</td>\n",
       "    </tr>\n",
       "    <tr>\n",
       "      <th>49</th>\n",
       "      <td>x360</td>\n",
       "      <td>2009</td>\n",
       "      <td>120.29</td>\n",
       "    </tr>\n",
       "    <tr>\n",
       "      <th>50</th>\n",
       "      <td>x360</td>\n",
       "      <td>2010</td>\n",
       "      <td>180.21</td>\n",
       "    </tr>\n",
       "    <tr>\n",
       "      <th>51</th>\n",
       "      <td>x360</td>\n",
       "      <td>2011</td>\n",
       "      <td>143.84</td>\n",
       "    </tr>\n",
       "    <tr>\n",
       "      <th>52</th>\n",
       "      <td>x360</td>\n",
       "      <td>2012</td>\n",
       "      <td>99.74</td>\n",
       "    </tr>\n",
       "    <tr>\n",
       "      <th>53</th>\n",
       "      <td>x360</td>\n",
       "      <td>2013</td>\n",
       "      <td>88.58</td>\n",
       "    </tr>\n",
       "    <tr>\n",
       "      <th>54</th>\n",
       "      <td>x360</td>\n",
       "      <td>2014</td>\n",
       "      <td>34.74</td>\n",
       "    </tr>\n",
       "    <tr>\n",
       "      <th>55</th>\n",
       "      <td>x360</td>\n",
       "      <td>2015</td>\n",
       "      <td>11.96</td>\n",
       "    </tr>\n",
       "    <tr>\n",
       "      <th>56</th>\n",
       "      <td>x360</td>\n",
       "      <td>2016</td>\n",
       "      <td>1.52</td>\n",
       "    </tr>\n",
       "  </tbody>\n",
       "</table>\n",
       "</div>"
      ],
      "text/plain": [
       "   platform  year_of_release  total_sales\n",
       "0        ds             1985         0.02\n",
       "1        ds             2004        17.27\n",
       "2        ds             2005       130.14\n",
       "3        ds             2006       119.81\n",
       "4        ds             2007       146.94\n",
       "5        ds             2008       148.65\n",
       "6        ds             2009       119.54\n",
       "7        ds             2010        85.02\n",
       "8        ds             2011        26.18\n",
       "9        ds             2012        11.01\n",
       "10       ds             2013         1.54\n",
       "11      ps2             2000        39.17\n",
       "12      ps2             2001       166.43\n",
       "13      ps2             2002       205.38\n",
       "14      ps2             2003       184.31\n",
       "15      ps2             2004       211.81\n",
       "16      ps2             2005       182.87\n",
       "17      ps2             2006       103.42\n",
       "18      ps2             2007        75.99\n",
       "19      ps2             2008        53.90\n",
       "20      ps2             2009        26.40\n",
       "21      ps2             2010         5.64\n",
       "22      ps2             2011         0.45\n",
       "23      ps3             2006        20.96\n",
       "24      ps3             2007        73.19\n",
       "25      ps3             2008       118.52\n",
       "26      ps3             2009       130.93\n",
       "27      ps3             2010       142.17\n",
       "28      ps3             2011       165.09\n",
       "29      ps3             2012       107.36\n",
       "30      ps3             2013       113.25\n",
       "31      ps3             2014        47.76\n",
       "32      ps3             2015        16.82\n",
       "33      ps3             2016         3.60\n",
       "34      wii             2006       137.15\n",
       "35      wii             2007       152.77\n",
       "36      wii             2008       171.32\n",
       "37      wii             2009       223.30\n",
       "38      wii             2010       127.95\n",
       "39      wii             2011        59.65\n",
       "40      wii             2012        21.71\n",
       "41      wii             2013         8.59\n",
       "42      wii             2014         3.75\n",
       "43      wii             2015         1.14\n",
       "44      wii             2016         0.18\n",
       "45     x360             2005         8.25\n",
       "46     x360             2006        51.62\n",
       "47     x360             2007        95.41\n",
       "48     x360             2008       135.26\n",
       "49     x360             2009       120.29\n",
       "50     x360             2010       180.21\n",
       "51     x360             2011       143.84\n",
       "52     x360             2012        99.74\n",
       "53     x360             2013        88.58\n",
       "54     x360             2014        34.74\n",
       "55     x360             2015        11.96\n",
       "56     x360             2016         1.52"
      ]
     },
     "execution_count": 49,
     "metadata": {},
     "output_type": "execute_result"
    }
   ],
   "source": [
    "# Summury of total sales per platform per year\n",
    "filtered_df = df_games.query('platform in [\"ps2\",\"x360\",\"ps3\",\"wii\",\"ds\"]').pivot_table(index=['platform','year_of_release'],\n",
    "                                                                          \n",
    "                                                                          values = ['total_sales'],\n",
    "                                                                         aggfunc = 'sum').reset_index()\n",
    "filtered_df"
   ]
  },
  {
   "cell_type": "markdown",
   "metadata": {},
   "source": [
    "####  Studing Top 5 platforms  distribution based on data for each year. "
   ]
  },
  {
   "cell_type": "code",
   "execution_count": 50,
   "metadata": {},
   "outputs": [
    {
     "data": {
      "image/png": "[encoded data removed]",
      "text/plain": [
       "<Figure size 720x432 with 1 Axes>"
      ]
     },
     "metadata": {
      "needs_background": "light"
     },
     "output_type": "display_data"
    }
   ],
   "source": [
    "\n",
    "filtered_df.query('platform in[ \"ps2\"]').pivot_table(index = 'year_of_release',values = 'total_sales', aggfunc = 'sum').plot(kind = 'bar', title = 'ps2', figsize = (10,6), color=['#A0E8AF'] )\n",
    "plt.show()"
   ]
  },
  {
   "cell_type": "markdown",
   "metadata": {},
   "source": [
    "- As we see  sales data  are going up or down  over a specific timeframe\n",
    "- From 2000 to 2004 going up and from 2004 to 2011 going to downn \n",
    "- They stay in the market abot 10 years"
   ]
  },
  {
   "cell_type": "code",
   "execution_count": 51,
   "metadata": {},
   "outputs": [
    {
     "data": {
      "image/png": "[encoded data removed]",
      "text/plain": [
       "<Figure size 720x432 with 1 Axes>"
      ]
     },
     "metadata": {
      "needs_background": "light"
     },
     "output_type": "display_data"
    }
   ],
   "source": [
    "# Showing distribution 'x360' platform \n",
    "filtered_df.query('platform in[ \"x360\"]').pivot_table(index = 'year_of_release',values = 'total_sales', aggfunc = 'sum').plot( kind = 'bar', title = 'x360', figsize = (10,6), color=['#A0E8AF'])\n",
    "plt.show()\n",
    "\n",
    "                                                                                                                             \n",
    "    "
   ]
  },
  {
   "cell_type": "markdown",
   "metadata": {},
   "source": [
    "- 2005 released and sales going up to 2010 and going down to 2016\n",
    "- time stay in market  5 years"
   ]
  },
  {
   "cell_type": "code",
   "execution_count": 52,
   "metadata": {},
   "outputs": [
    {
     "data": {
      "image/png": "[encoded data removed]",
      "text/plain": [
       "<Figure size 720x432 with 1 Axes>"
      ]
     },
     "metadata": {
      "needs_background": "light"
     },
     "output_type": "display_data"
    }
   ],
   "source": [
    "filtered_df.query('platform in[ \"wii\"]').pivot_table(index = 'year_of_release',values = 'total_sales', aggfunc = 'sum').plot(kind = 'bar',title = 'wii', figsize = (10,6),color=['#A0E8AF'])\n",
    "plt.show()"
   ]
  },
  {
   "cell_type": "code",
   "execution_count": 53,
   "metadata": {},
   "outputs": [
    {
     "data": {
      "image/png": "[encoded data removed]",
      "text/plain": [
       "<Figure size 720x432 with 1 Axes>"
      ]
     },
     "metadata": {
      "needs_background": "light"
     },
     "output_type": "display_data"
    }
   ],
   "source": [
    "filtered_df.query('platform in[ \"ps3\"]').pivot_table(index = 'year_of_release',values = 'total_sales', aggfunc = 'sum').plot(kind = 'bar',title = 'ps3',figsize = (10,6),color=['#A0E8AF'] ) \n",
    "plt.show()"
   ]
  },
  {
   "cell_type": "code",
   "execution_count": 54,
   "metadata": {},
   "outputs": [
    {
     "data": {
      "image/png": "[encoded data removed]",
      "text/plain": [
       "<Figure size 720x432 with 1 Axes>"
      ]
     },
     "metadata": {
      "needs_background": "light"
     },
     "output_type": "display_data"
    }
   ],
   "source": [
    "filtered_df.query('platform in[ \"ds\"]').pivot_table(index = 'year_of_release',values = 'total_sales', aggfunc = 'sum').plot(kind = 'bar',title = 'ds',figsize = (10,6),color=['#A0E8AF'])\n",
    "plt.show()"
   ]
  },
  {
   "cell_type": "code",
   "execution_count": 55,
   "metadata": {
    "scrolled": true
   },
   "outputs": [
    {
     "data": {
      "text/plain": [
       "0    ps2\n",
       "dtype: object"
      ]
     },
     "execution_count": 55,
     "metadata": {},
     "output_type": "execute_result"
    }
   ],
   "source": [
    "# the most popural platform\n",
    "df_games['platform'].mode()\n"
   ]
  },
  {
   "cell_type": "markdown",
   "metadata": {},
   "source": [
    "#### Conclusion"
   ]
  },
  {
   "cell_type": "markdown",
   "metadata": {},
   "source": [
    "- We obseved 5 top platforms\n",
    "- The all 5 top platform (ps2, x360, ps3, wii, ds)\t have  intermedia trend .That means sales going up and going down\n",
    "- 5 years generally take for new platforms to appear and old ones to fade\n",
    "- The most popural platform is PS2"
   ]
  },
  {
   "cell_type": "markdown",
   "metadata": {},
   "source": [
    "Which platforms are leading in sales?\n",
    "Which ones are growing or shrinking?\n",
    "Select several potentially profitable platforms.\n",
    "\n"
   ]
  },
  {
   "cell_type": "code",
   "execution_count": 56,
   "metadata": {},
   "outputs": [
    {
     "data": {
      "text/plain": [
       "platform\n",
       "ps2     1255.77\n",
       "x360     971.42\n",
       "ps3      939.65\n",
       "wii      907.51\n",
       "ds       806.12\n",
       "ps       730.86\n",
       "gba      317.85\n",
       "ps4      314.14\n",
       "psp      294.05\n",
       "pc       259.52\n",
       "Name: total_sales, dtype: float64"
      ]
     },
     "execution_count": 56,
     "metadata": {},
     "output_type": "execute_result"
    }
   ],
   "source": [
    "df_games.groupby('platform')['total_sales'].sum().sort_values(ascending = False).head(10)"
   ]
  },
  {
   "cell_type": "code",
   "execution_count": 57,
   "metadata": {},
   "outputs": [
    {
     "data": {
      "text/html": [
       "<div>\n",
       "<style scoped>\n",
       "    .dataframe tbody tr th:only-of-type {\n",
       "        vertical-align: middle;\n",
       "    }\n",
       "\n",
       "    .dataframe tbody tr th {\n",
       "        vertical-align: top;\n",
       "    }\n",
       "\n",
       "    .dataframe thead th {\n",
       "        text-align: right;\n",
       "    }\n",
       "</style>\n",
       "<table border=\"1\" class=\"dataframe\">\n",
       "  <thead>\n",
       "    <tr style=\"text-align: right;\">\n",
       "      <th></th>\n",
       "      <th>platform</th>\n",
       "      <th>year_of_release</th>\n",
       "      <th>name</th>\n",
       "      <th>total_sales</th>\n",
       "    </tr>\n",
       "  </thead>\n",
       "  <tbody>\n",
       "    <tr>\n",
       "      <th>0</th>\n",
       "      <td>ps4</td>\n",
       "      <td>2016</td>\n",
       "      <td>fifa 17</td>\n",
       "      <td>7.60</td>\n",
       "    </tr>\n",
       "    <tr>\n",
       "      <th>1</th>\n",
       "      <td>3ds</td>\n",
       "      <td>2016</td>\n",
       "      <td>pokemon sun/moon</td>\n",
       "      <td>7.14</td>\n",
       "    </tr>\n",
       "    <tr>\n",
       "      <th>2</th>\n",
       "      <td>ps4</td>\n",
       "      <td>2016</td>\n",
       "      <td>uncharted 4: a thief's end</td>\n",
       "      <td>5.39</td>\n",
       "    </tr>\n",
       "    <tr>\n",
       "      <th>3</th>\n",
       "      <td>ps4</td>\n",
       "      <td>2016</td>\n",
       "      <td>call of duty: infinite warfare</td>\n",
       "      <td>4.47</td>\n",
       "    </tr>\n",
       "    <tr>\n",
       "      <th>4</th>\n",
       "      <td>ps4</td>\n",
       "      <td>2016</td>\n",
       "      <td>battlefield 1</td>\n",
       "      <td>4.07</td>\n",
       "    </tr>\n",
       "  </tbody>\n",
       "</table>\n",
       "</div>"
      ],
      "text/plain": [
       "  platform  year_of_release                            name  total_sales\n",
       "0      ps4             2016                         fifa 17         7.60\n",
       "1      3ds             2016                pokemon sun/moon         7.14\n",
       "2      ps4             2016      uncharted 4: a thief's end         5.39\n",
       "3      ps4             2016  call of duty: infinite warfare         4.47\n",
       "4      ps4             2016                   battlefield 1         4.07"
      ]
     },
     "execution_count": 57,
     "metadata": {},
     "output_type": "execute_result"
    }
   ],
   "source": [
    "#Select several potentially profitable platforms.\n",
    "\n",
    "platform_2016 = df_games.query('year_of_release == 2016').pivot_table(index=['platform','year_of_release','name'],\n",
    "                                                                          values = ['total_sales'],\n",
    "                                                                          aggfunc = 'sum').sort_values(by =[ 'total_sales','year_of_release'],ascending = False).reset_index()\n",
    "platform_2016.head()"
   ]
  },
  {
   "cell_type": "markdown",
   "metadata": {},
   "source": [
    "- The most profitable platforms in 2016 are 'ps4', '3ds', 'xone'\n",
    "- If the platforms is continuing to trend the could potentially profitable platforms."
   ]
  },
  {
   "cell_type": "markdown",
   "metadata": {},
   "source": [
    "### Prognosis data for 2017"
   ]
  },
  {
   "cell_type": "markdown",
   "metadata": {},
   "source": [
    "- To build prognosis for 2017 we will take data for period  2013 to 2016"
   ]
  },
  {
   "cell_type": "markdown",
   "metadata": {},
   "source": [
    "#### How the best sellers behaved for period 2014 - 2016"
   ]
  },
  {
   "cell_type": "code",
   "execution_count": 58,
   "metadata": {},
   "outputs": [
    {
     "data": {
      "text/html": [
       "<div>\n",
       "<style scoped>\n",
       "    .dataframe tbody tr th:only-of-type {\n",
       "        vertical-align: middle;\n",
       "    }\n",
       "\n",
       "    .dataframe tbody tr th {\n",
       "        vertical-align: top;\n",
       "    }\n",
       "\n",
       "    .dataframe thead th {\n",
       "        text-align: right;\n",
       "    }\n",
       "</style>\n",
       "<table border=\"1\" class=\"dataframe\">\n",
       "  <thead>\n",
       "    <tr style=\"text-align: right;\">\n",
       "      <th></th>\n",
       "      <th>platform</th>\n",
       "      <th>year_of_release</th>\n",
       "      <th>total_sales</th>\n",
       "    </tr>\n",
       "  </thead>\n",
       "  <tbody>\n",
       "    <tr>\n",
       "      <th>0</th>\n",
       "      <td>ps4</td>\n",
       "      <td>2015</td>\n",
       "      <td>118.90</td>\n",
       "    </tr>\n",
       "    <tr>\n",
       "      <th>1</th>\n",
       "      <td>ps4</td>\n",
       "      <td>2014</td>\n",
       "      <td>100.00</td>\n",
       "    </tr>\n",
       "    <tr>\n",
       "      <th>2</th>\n",
       "      <td>ps4</td>\n",
       "      <td>2016</td>\n",
       "      <td>69.25</td>\n",
       "    </tr>\n",
       "    <tr>\n",
       "      <th>3</th>\n",
       "      <td>xone</td>\n",
       "      <td>2015</td>\n",
       "      <td>60.14</td>\n",
       "    </tr>\n",
       "    <tr>\n",
       "      <th>4</th>\n",
       "      <td>xone</td>\n",
       "      <td>2014</td>\n",
       "      <td>54.07</td>\n",
       "    </tr>\n",
       "  </tbody>\n",
       "</table>\n",
       "</div>"
      ],
      "text/plain": [
       "  platform  year_of_release  total_sales\n",
       "0      ps4             2015       118.90\n",
       "1      ps4             2014       100.00\n",
       "2      ps4             2016        69.25\n",
       "3     xone             2015        60.14\n",
       "4     xone             2014        54.07"
      ]
     },
     "execution_count": 58,
     "metadata": {},
     "output_type": "execute_result"
    }
   ],
   "source": [
    "platform_2014 = df_games.query('year_of_release >2013').pivot_table(index=['platform','year_of_release'],\n",
    "                                                                          values = ['total_sales'],\n",
    "                                                                          aggfunc = 'sum').sort_values(by =[ 'total_sales','year_of_release'],ascending = False).reset_index()\n",
    "platform_2014.head(5)"
   ]
  },
  {
   "cell_type": "markdown",
   "metadata": {},
   "source": [
    "**PS4**"
   ]
  },
  {
   "cell_type": "code",
   "execution_count": 59,
   "metadata": {},
   "outputs": [
    {
     "data": {
      "text/html": [
       "<div>\n",
       "<style scoped>\n",
       "    .dataframe tbody tr th:only-of-type {\n",
       "        vertical-align: middle;\n",
       "    }\n",
       "\n",
       "    .dataframe tbody tr th {\n",
       "        vertical-align: top;\n",
       "    }\n",
       "\n",
       "    .dataframe thead th {\n",
       "        text-align: right;\n",
       "    }\n",
       "</style>\n",
       "<table border=\"1\" class=\"dataframe\">\n",
       "  <thead>\n",
       "    <tr style=\"text-align: right;\">\n",
       "      <th></th>\n",
       "      <th>platform</th>\n",
       "      <th>year_of_release</th>\n",
       "      <th>total_sales</th>\n",
       "    </tr>\n",
       "  </thead>\n",
       "  <tbody>\n",
       "    <tr>\n",
       "      <th>0</th>\n",
       "      <td>ps4</td>\n",
       "      <td>2013</td>\n",
       "      <td>25.99</td>\n",
       "    </tr>\n",
       "    <tr>\n",
       "      <th>1</th>\n",
       "      <td>ps4</td>\n",
       "      <td>2014</td>\n",
       "      <td>100.00</td>\n",
       "    </tr>\n",
       "    <tr>\n",
       "      <th>2</th>\n",
       "      <td>ps4</td>\n",
       "      <td>2015</td>\n",
       "      <td>118.90</td>\n",
       "    </tr>\n",
       "    <tr>\n",
       "      <th>3</th>\n",
       "      <td>ps4</td>\n",
       "      <td>2016</td>\n",
       "      <td>69.25</td>\n",
       "    </tr>\n",
       "  </tbody>\n",
       "</table>\n",
       "</div>"
      ],
      "text/plain": [
       "  platform  year_of_release  total_sales\n",
       "0      ps4             2013        25.99\n",
       "1      ps4             2014       100.00\n",
       "2      ps4             2015       118.90\n",
       "3      ps4             2016        69.25"
      ]
     },
     "execution_count": 59,
     "metadata": {},
     "output_type": "execute_result"
    }
   ],
   "source": [
    "# Summury of total sales from 2013-2016\n",
    "ps4_2013 = df_games.query('platform == \"ps4\"and year_of_release >=2013').pivot_table(index =['platform' ,'year_of_release'],values = 'total_sales', aggfunc = 'sum').reset_index()\n",
    " \n",
    "ps4_2013"
   ]
  },
  {
   "cell_type": "code",
   "execution_count": 60,
   "metadata": {},
   "outputs": [
    {
     "data": {
      "image/png": "[encoded data removed]",
      "text/plain": [
       "<Figure size 432x288 with 1 Axes>"
      ]
     },
     "metadata": {
      "needs_background": "light"
     },
     "output_type": "display_data"
    }
   ],
   "source": [
    "# Lets have look in line graph showing trend\n",
    "ps4_2013.plot(x = 'year_of_release', y = 'total_sales')\n",
    "plt.show()"
   ]
  },
  {
   "cell_type": "markdown",
   "metadata": {},
   "source": [
    "**XONE**"
   ]
  },
  {
   "cell_type": "code",
   "execution_count": 61,
   "metadata": {},
   "outputs": [
    {
     "data": {
      "text/html": [
       "<div>\n",
       "<style scoped>\n",
       "    .dataframe tbody tr th:only-of-type {\n",
       "        vertical-align: middle;\n",
       "    }\n",
       "\n",
       "    .dataframe tbody tr th {\n",
       "        vertical-align: top;\n",
       "    }\n",
       "\n",
       "    .dataframe thead th {\n",
       "        text-align: right;\n",
       "    }\n",
       "</style>\n",
       "<table border=\"1\" class=\"dataframe\">\n",
       "  <thead>\n",
       "    <tr style=\"text-align: right;\">\n",
       "      <th></th>\n",
       "      <th>platform</th>\n",
       "      <th>year_of_release</th>\n",
       "      <th>total_sales</th>\n",
       "    </tr>\n",
       "  </thead>\n",
       "  <tbody>\n",
       "    <tr>\n",
       "      <th>0</th>\n",
       "      <td>xone</td>\n",
       "      <td>2013</td>\n",
       "      <td>18.96</td>\n",
       "    </tr>\n",
       "    <tr>\n",
       "      <th>1</th>\n",
       "      <td>xone</td>\n",
       "      <td>2014</td>\n",
       "      <td>54.07</td>\n",
       "    </tr>\n",
       "    <tr>\n",
       "      <th>2</th>\n",
       "      <td>xone</td>\n",
       "      <td>2015</td>\n",
       "      <td>60.14</td>\n",
       "    </tr>\n",
       "    <tr>\n",
       "      <th>3</th>\n",
       "      <td>xone</td>\n",
       "      <td>2016</td>\n",
       "      <td>26.15</td>\n",
       "    </tr>\n",
       "  </tbody>\n",
       "</table>\n",
       "</div>"
      ],
      "text/plain": [
       "  platform  year_of_release  total_sales\n",
       "0     xone             2013        18.96\n",
       "1     xone             2014        54.07\n",
       "2     xone             2015        60.14\n",
       "3     xone             2016        26.15"
      ]
     },
     "execution_count": 61,
     "metadata": {},
     "output_type": "execute_result"
    }
   ],
   "source": [
    "# Summury of total sales from 2013-2016\n",
    "xone_2013 = df_games.query('platform == \"xone\"and year_of_release >= 2013').pivot_table(index =['platform' ,'year_of_release'],values = 'total_sales', aggfunc = 'sum').reset_index()\n",
    " \n",
    "xone_2013"
   ]
  },
  {
   "cell_type": "code",
   "execution_count": 62,
   "metadata": {
    "scrolled": false
   },
   "outputs": [
    {
     "data": {
      "image/png": "[encoded data removed]",
      "text/plain": [
       "<Figure size 432x288 with 1 Axes>"
      ]
     },
     "metadata": {
      "needs_background": "light"
     },
     "output_type": "display_data"
    }
   ],
   "source": [
    "# Trend\n",
    "# Lets have look in line graph showing trend\n",
    "xone_2013.plot(x = 'year_of_release', y = 'total_sales')\n",
    "plt.show()"
   ]
  },
  {
   "cell_type": "markdown",
   "metadata": {},
   "source": [
    "**3DS**"
   ]
  },
  {
   "cell_type": "code",
   "execution_count": 63,
   "metadata": {},
   "outputs": [
    {
     "data": {
      "text/html": [
       "<div>\n",
       "<style scoped>\n",
       "    .dataframe tbody tr th:only-of-type {\n",
       "        vertical-align: middle;\n",
       "    }\n",
       "\n",
       "    .dataframe tbody tr th {\n",
       "        vertical-align: top;\n",
       "    }\n",
       "\n",
       "    .dataframe thead th {\n",
       "        text-align: right;\n",
       "    }\n",
       "</style>\n",
       "<table border=\"1\" class=\"dataframe\">\n",
       "  <thead>\n",
       "    <tr style=\"text-align: right;\">\n",
       "      <th></th>\n",
       "      <th></th>\n",
       "      <th>total_sales</th>\n",
       "    </tr>\n",
       "    <tr>\n",
       "      <th>platform</th>\n",
       "      <th>year_of_release</th>\n",
       "      <th></th>\n",
       "    </tr>\n",
       "  </thead>\n",
       "  <tbody>\n",
       "    <tr>\n",
       "      <th rowspan=\"6\" valign=\"top\">3ds</th>\n",
       "      <th>2011</th>\n",
       "      <td>63.20</td>\n",
       "    </tr>\n",
       "    <tr>\n",
       "      <th>2012</th>\n",
       "      <td>51.36</td>\n",
       "    </tr>\n",
       "    <tr>\n",
       "      <th>2013</th>\n",
       "      <td>57.76</td>\n",
       "    </tr>\n",
       "    <tr>\n",
       "      <th>2014</th>\n",
       "      <td>43.76</td>\n",
       "    </tr>\n",
       "    <tr>\n",
       "      <th>2015</th>\n",
       "      <td>27.78</td>\n",
       "    </tr>\n",
       "    <tr>\n",
       "      <th>2016</th>\n",
       "      <td>15.14</td>\n",
       "    </tr>\n",
       "  </tbody>\n",
       "</table>\n",
       "</div>"
      ],
      "text/plain": [
       "                          total_sales\n",
       "platform year_of_release             \n",
       "3ds      2011                   63.20\n",
       "         2012                   51.36\n",
       "         2013                   57.76\n",
       "         2014                   43.76\n",
       "         2015                   27.78\n",
       "         2016                   15.14"
      ]
     },
     "execution_count": 63,
     "metadata": {},
     "output_type": "execute_result"
    }
   ],
   "source": [
    "# Summury of total sales from 2013 -2016\n",
    "df_games.query('platform == \"3ds\" ').pivot_table(index = ['platform','year_of_release'],values = 'total_sales',aggfunc='sum')"
   ]
  },
  {
   "cell_type": "code",
   "execution_count": 64,
   "metadata": {},
   "outputs": [
    {
     "data": {
      "image/png": "[encoded data removed]",
      "text/plain": [
       "<Figure size 432x288 with 1 Axes>"
      ]
     },
     "metadata": {
      "needs_background": "light"
     },
     "output_type": "display_data"
    }
   ],
   "source": [
    "df_games.query('platform == \"3ds\" ').pivot_table(index = ['platform','year_of_release'],values = 'total_sales',aggfunc='sum').plot(grid = True)\n",
    "plt.show()"
   ]
  },
  {
   "cell_type": "markdown",
   "metadata": {},
   "source": [
    "- As we see the trend of  platforms is going down"
   ]
  },
  {
   "cell_type": "markdown",
   "metadata": {},
   "source": [
    "Build a box plot for the global sales of all games, broken down by platform.\n",
    "Are the differences in sales significant?\n",
    "What about average sales on various platforms? Describe your findings."
   ]
  },
  {
   "cell_type": "code",
   "execution_count": 65,
   "metadata": {},
   "outputs": [
    {
     "data": {
      "text/html": [
       "<div>\n",
       "<style scoped>\n",
       "    .dataframe tbody tr th:only-of-type {\n",
       "        vertical-align: middle;\n",
       "    }\n",
       "\n",
       "    .dataframe tbody tr th {\n",
       "        vertical-align: top;\n",
       "    }\n",
       "\n",
       "    .dataframe thead th {\n",
       "        text-align: right;\n",
       "    }\n",
       "</style>\n",
       "<table border=\"1\" class=\"dataframe\">\n",
       "  <thead>\n",
       "    <tr style=\"text-align: right;\">\n",
       "      <th></th>\n",
       "      <th>platform</th>\n",
       "      <th>year_of_release</th>\n",
       "      <th>total_sales</th>\n",
       "    </tr>\n",
       "  </thead>\n",
       "  <tbody>\n",
       "    <tr>\n",
       "      <th>0</th>\n",
       "      <td>ps4</td>\n",
       "      <td>2015</td>\n",
       "      <td>118.90</td>\n",
       "    </tr>\n",
       "    <tr>\n",
       "      <th>1</th>\n",
       "      <td>ps4</td>\n",
       "      <td>2014</td>\n",
       "      <td>100.00</td>\n",
       "    </tr>\n",
       "    <tr>\n",
       "      <th>2</th>\n",
       "      <td>ps4</td>\n",
       "      <td>2016</td>\n",
       "      <td>69.25</td>\n",
       "    </tr>\n",
       "    <tr>\n",
       "      <th>3</th>\n",
       "      <td>xone</td>\n",
       "      <td>2015</td>\n",
       "      <td>60.14</td>\n",
       "    </tr>\n",
       "    <tr>\n",
       "      <th>4</th>\n",
       "      <td>xone</td>\n",
       "      <td>2014</td>\n",
       "      <td>54.07</td>\n",
       "    </tr>\n",
       "  </tbody>\n",
       "</table>\n",
       "</div>"
      ],
      "text/plain": [
       "  platform  year_of_release  total_sales\n",
       "0      ps4             2015       118.90\n",
       "1      ps4             2014       100.00\n",
       "2      ps4             2016        69.25\n",
       "3     xone             2015        60.14\n",
       "4     xone             2014        54.07"
      ]
     },
     "execution_count": 65,
     "metadata": {},
     "output_type": "execute_result"
    }
   ],
   "source": [
    "# What about average sales on various platforms? (rename column)\n",
    "top_platform_avg =df_games.query('year_of_release >= 2014').pivot_table(index=['platform','year_of_release'],\n",
    "                                                                          values = ['total_sales'],\n",
    "                                                                          aggfunc = 'mean').sort_values(by =[ 'total_sales','year_of_release'],ascending = False).reset_index()\n",
    "platform_2014.head(5)"
   ]
  },
  {
   "cell_type": "code",
   "execution_count": 66,
   "metadata": {},
   "outputs": [
    {
     "data": {
      "image/png": "[encoded data removed]",
      "text/plain": [
       "<Figure size 720x360 with 1 Axes>"
      ]
     },
     "metadata": {
      "needs_background": "light"
     },
     "output_type": "display_data"
    }
   ],
   "source": [
    "top_platform_avg.groupby(['platform'])['total_sales'].mean().sort_values(ascending = False).plot(kind = 'bar',rot=0, figsize=(10, 5) )\n",
    "plt.show()"
   ]
  },
  {
   "cell_type": "code",
   "execution_count": 67,
   "metadata": {
    "scrolled": false
   },
   "outputs": [
    {
     "data": {
      "image/png": "[encoded data removed]",
      "text/plain": [
       "<Figure size 1080x720 with 1 Axes>"
      ]
     },
     "metadata": {
      "needs_background": "light"
     },
     "output_type": "display_data"
    }
   ],
   "source": [
    "# Boxplot showing avarage sales per platforms\n",
    "#sns.set_style(\"whitegrid\")\n",
    "\n",
    "# figure size\n",
    "plt.figure(figsize=(15, 10))  \n",
    "sns.boxplot(x = 'platform', y = 'total_sales', data = top_platform_avg, showmeans = True)\n",
    "plt.ylabel(\"Avarage Sales\", size=14)\n",
    "plt.xlabel(\"Platform\", size=14)\n",
    "plt.title(\"Boxplot on avarage sales on various platforms\", size=15)\n",
    "plt.savefig(\"show_means_in_boxplot_Seaborn_boxplot_Python.png\")\n"
   ]
  },
  {
   "cell_type": "markdown",
   "metadata": {},
   "source": [
    "- Here we see a comparison of the data between the ps4, xone, and 3ds for the year 2016.\n",
    "- The xone doesn't seem like a bad choice as a platform to release a game on either!"
   ]
  },
  {
   "cell_type": "markdown",
   "metadata": {},
   "source": [
    "#### Take a look at how user and professional reviews affect sales for one popular platform . Build a scatter plot and calculate the correlation between reviews and sales. Draw conclusions."
   ]
  },
  {
   "cell_type": "code",
   "execution_count": 68,
   "metadata": {},
   "outputs": [
    {
     "data": {
      "text/html": [
       "<div>\n",
       "<style scoped>\n",
       "    .dataframe tbody tr th:only-of-type {\n",
       "        vertical-align: middle;\n",
       "    }\n",
       "\n",
       "    .dataframe tbody tr th {\n",
       "        vertical-align: top;\n",
       "    }\n",
       "\n",
       "    .dataframe thead th {\n",
       "        text-align: right;\n",
       "    }\n",
       "</style>\n",
       "<table border=\"1\" class=\"dataframe\">\n",
       "  <thead>\n",
       "    <tr style=\"text-align: right;\">\n",
       "      <th></th>\n",
       "      <th>platform</th>\n",
       "      <th>critic_score</th>\n",
       "      <th>total_sales</th>\n",
       "    </tr>\n",
       "  </thead>\n",
       "  <tbody>\n",
       "    <tr>\n",
       "      <th>2</th>\n",
       "      <td>ps4</td>\n",
       "      <td>2015.0</td>\n",
       "      <td>118.90</td>\n",
       "    </tr>\n",
       "    <tr>\n",
       "      <th>1</th>\n",
       "      <td>ps4</td>\n",
       "      <td>2014.0</td>\n",
       "      <td>100.00</td>\n",
       "    </tr>\n",
       "    <tr>\n",
       "      <th>3</th>\n",
       "      <td>ps4</td>\n",
       "      <td>2016.0</td>\n",
       "      <td>69.25</td>\n",
       "    </tr>\n",
       "    <tr>\n",
       "      <th>0</th>\n",
       "      <td>ps4</td>\n",
       "      <td>2013.0</td>\n",
       "      <td>25.99</td>\n",
       "    </tr>\n",
       "  </tbody>\n",
       "</table>\n",
       "</div>"
      ],
      "text/plain": [
       "  platform  critic_score  total_sales\n",
       "2      ps4        2015.0       118.90\n",
       "1      ps4        2014.0       100.00\n",
       "3      ps4        2016.0        69.25\n",
       "0      ps4        2013.0        25.99"
      ]
     },
     "metadata": {},
     "output_type": "display_data"
    }
   ],
   "source": [
    "df_critic = (df_games.query('platform in[ \"ps4\"] and year_of_release  > = 2013').pivot_table(index = ['platform','critic_score'],\n",
    "                                                  values = 'total_sales',\n",
    "                                                  aggfunc = 'sum').reset_index())\n",
    "display(df_critic.sort_values(by = 'total_sales', ascending = False))\n"
   ]
  },
  {
   "cell_type": "code",
   "execution_count": 69,
   "metadata": {},
   "outputs": [
    {
     "data": {
      "image/png": "[encoded data removed]",
      "text/plain": [
       "<Figure size 432x288 with 1 Axes>"
      ]
     },
     "metadata": {
      "needs_background": "light"
     },
     "output_type": "display_data"
    },
    {
     "name": "stdout",
     "output_type": "stream",
     "text": [
      "Corralation critic_score & total_sales : 0.4731449584618677\n"
     ]
    }
   ],
   "source": [
    "# Plot showing is any corallation between critic_score and sales\n",
    "\n",
    "fig, ax = plt.subplots(figsize=(6, 4))\n",
    "colors = {'short': 'MediumVioletRed', 'long': 'Navy'}\n",
    "sns.scatterplot(data=df_critic, x='critic_score', y='total_sales', palette=colors, ax=ax)\n",
    "\n",
    "ax.set(xlabel='Critic_score', ylabel='total_sales')\n",
    "fig.suptitle('Critic_score vs total_scale')\n",
    "plt.show()\n",
    "\n",
    "print(\"Corralation critic_score & total_sales :\", df_critic['critic_score'].corr(df_critic['total_sales']))"
   ]
  },
  {
   "cell_type": "code",
   "execution_count": 70,
   "metadata": {},
   "outputs": [
    {
     "data": {
      "text/html": [
       "<div>\n",
       "<style scoped>\n",
       "    .dataframe tbody tr th:only-of-type {\n",
       "        vertical-align: middle;\n",
       "    }\n",
       "\n",
       "    .dataframe tbody tr th {\n",
       "        vertical-align: top;\n",
       "    }\n",
       "\n",
       "    .dataframe thead th {\n",
       "        text-align: right;\n",
       "    }\n",
       "</style>\n",
       "<table border=\"1\" class=\"dataframe\">\n",
       "  <thead>\n",
       "    <tr style=\"text-align: right;\">\n",
       "      <th></th>\n",
       "      <th>critic_score</th>\n",
       "      <th>user_score</th>\n",
       "      <th>total_sales</th>\n",
       "    </tr>\n",
       "  </thead>\n",
       "  <tbody>\n",
       "    <tr>\n",
       "      <th>2</th>\n",
       "      <td>2015.0</td>\n",
       "      <td>2015.0</td>\n",
       "      <td>118.90</td>\n",
       "    </tr>\n",
       "    <tr>\n",
       "      <th>1</th>\n",
       "      <td>2014.0</td>\n",
       "      <td>2014.0</td>\n",
       "      <td>100.00</td>\n",
       "    </tr>\n",
       "    <tr>\n",
       "      <th>3</th>\n",
       "      <td>2016.0</td>\n",
       "      <td>2016.0</td>\n",
       "      <td>69.25</td>\n",
       "    </tr>\n",
       "    <tr>\n",
       "      <th>0</th>\n",
       "      <td>2013.0</td>\n",
       "      <td>2013.0</td>\n",
       "      <td>25.99</td>\n",
       "    </tr>\n",
       "  </tbody>\n",
       "</table>\n",
       "</div>"
      ],
      "text/plain": [
       "   critic_score  user_score  total_sales\n",
       "2        2015.0      2015.0       118.90\n",
       "1        2014.0      2014.0       100.00\n",
       "3        2016.0      2016.0        69.25\n",
       "0        2013.0      2013.0        25.99"
      ]
     },
     "metadata": {},
     "output_type": "display_data"
    }
   ],
   "source": [
    "df_user = (df_games.query('platform in[ \"ps4\"] and year_of_release >= 2013').pivot_table(index = ['critic_score','user_score'],\n",
    "                                                  values = 'total_sales',\n",
    "                                                  aggfunc = 'sum').reset_index())\n",
    "display(df_user.sort_values(by = 'total_sales',ascending = False))   \n"
   ]
  },
  {
   "cell_type": "code",
   "execution_count": 71,
   "metadata": {},
   "outputs": [
    {
     "data": {
      "image/png": "[encoded data removed]",
      "text/plain": [
       "<Figure size 432x288 with 1 Axes>"
      ]
     },
     "metadata": {
      "needs_background": "light"
     },
     "output_type": "display_data"
    },
    {
     "name": "stdout",
     "output_type": "stream",
     "text": [
      "Corralation of user_score & total_sales : 0.4731449584618677\n"
     ]
    }
   ],
   "source": [
    "\n",
    "fig, ax = plt.subplots(figsize=(6, 4))\n",
    "colors = {'short': 'MediumVioletRed', 'long': 'Navy'}\n",
    "sns.scatterplot(data=df_user, x='user_score', y='total_sales', palette=colors, ax=ax)\n",
    "\n",
    "ax.set(xlabel='user_score', ylabel='total_sales')\n",
    "fig.suptitle('user_score vs total_scale')\n",
    "plt.show()\n",
    "\n",
    "print(\"Corralation of user_score & total_sales :\", df_user['user_score'].corr(df_user['total_sales']))"
   ]
  },
  {
   "cell_type": "markdown",
   "metadata": {},
   "source": [
    "- There is “moderate” correlation between critic score and sales\n",
    "- There is negetive corralation   between user score and sales"
   ]
  },
  {
   "cell_type": "markdown",
   "metadata": {},
   "source": [
    "#### Take a look at the general distribution of games by genre. What can we say about the most profitable genres? Can you generalize about genres with high and low sales?"
   ]
  },
  {
   "cell_type": "code",
   "execution_count": 72,
   "metadata": {},
   "outputs": [
    {
     "data": {
      "image/png": "[encoded data removed]",
      "text/plain": [
       "<Figure size 1080x720 with 1 Axes>"
      ]
     },
     "metadata": {
      "needs_background": "light"
     },
     "output_type": "display_data"
    }
   ],
   "source": [
    "# Visiual distribution by 'genre'\n",
    "df_games.groupby(['genre'])['total_sales'].sum().sort_values(ascending = False).plot(kind = 'bar',rot=0, figsize=(15, 10))\n",
    "plt.show()"
   ]
  },
  {
   "cell_type": "markdown",
   "metadata": {},
   "source": [
    "- The most popular genre are action, sport and shooter"
   ]
  },
  {
   "cell_type": "code",
   "execution_count": 73,
   "metadata": {},
   "outputs": [
    {
     "data": {
      "text/plain": [
       "0    action\n",
       "dtype: object"
      ]
     },
     "execution_count": 73,
     "metadata": {},
     "output_type": "execute_result"
    }
   ],
   "source": [
    "df_games['genre'].mode()"
   ]
  },
  {
   "cell_type": "code",
   "execution_count": 74,
   "metadata": {},
   "outputs": [
    {
     "data": {
      "text/plain": [
       "genre\n",
       "action          1744.17\n",
       "sports          1331.27\n",
       "shooter         1052.45\n",
       "role-playing     934.56\n",
       "platform         827.77\n",
       "misc             802.51\n",
       "racing           728.67\n",
       "fighting         447.53\n",
       "simulation       389.97\n",
       "puzzle           242.57\n",
       "adventure        237.59\n",
       "strategy         174.23\n",
       "Name: total_sales, dtype: float64"
      ]
     },
     "execution_count": 74,
     "metadata": {},
     "output_type": "execute_result"
    }
   ],
   "source": [
    "# Summury by genre\n",
    "df_games.groupby('genre')['total_sales'].sum().sort_values(ascending = False)"
   ]
  },
  {
   "cell_type": "code",
   "execution_count": 75,
   "metadata": {},
   "outputs": [
    {
     "data": {
      "text/html": [
       "<div>\n",
       "<style scoped>\n",
       "    .dataframe tbody tr th:only-of-type {\n",
       "        vertical-align: middle;\n",
       "    }\n",
       "\n",
       "    .dataframe tbody tr th {\n",
       "        vertical-align: top;\n",
       "    }\n",
       "\n",
       "    .dataframe thead th {\n",
       "        text-align: right;\n",
       "    }\n",
       "</style>\n",
       "<table border=\"1\" class=\"dataframe\">\n",
       "  <thead>\n",
       "    <tr style=\"text-align: right;\">\n",
       "      <th></th>\n",
       "      <th>genre</th>\n",
       "      <th>mean</th>\n",
       "      <th>median</th>\n",
       "      <th>var</th>\n",
       "    </tr>\n",
       "  </thead>\n",
       "  <tbody>\n",
       "    <tr>\n",
       "      <th>1</th>\n",
       "      <td>adventure</td>\n",
       "      <td>0.182341</td>\n",
       "      <td>0.05</td>\n",
       "      <td>0.258606</td>\n",
       "    </tr>\n",
       "    <tr>\n",
       "      <th>11</th>\n",
       "      <td>strategy</td>\n",
       "      <td>0.255095</td>\n",
       "      <td>0.10</td>\n",
       "      <td>0.269358</td>\n",
       "    </tr>\n",
       "    <tr>\n",
       "      <th>5</th>\n",
       "      <td>puzzle</td>\n",
       "      <td>0.418224</td>\n",
       "      <td>0.11</td>\n",
       "      <td>2.441231</td>\n",
       "    </tr>\n",
       "    <tr>\n",
       "      <th>9</th>\n",
       "      <td>simulation</td>\n",
       "      <td>0.446701</td>\n",
       "      <td>0.15</td>\n",
       "      <td>1.408543</td>\n",
       "    </tr>\n",
       "    <tr>\n",
       "      <th>3</th>\n",
       "      <td>misc</td>\n",
       "      <td>0.458577</td>\n",
       "      <td>0.16</td>\n",
       "      <td>1.702072</td>\n",
       "    </tr>\n",
       "    <tr>\n",
       "      <th>0</th>\n",
       "      <td>action</td>\n",
       "      <td>0.517711</td>\n",
       "      <td>0.19</td>\n",
       "      <td>1.312392</td>\n",
       "    </tr>\n",
       "    <tr>\n",
       "      <th>2</th>\n",
       "      <td>fighting</td>\n",
       "      <td>0.527126</td>\n",
       "      <td>0.21</td>\n",
       "      <td>0.906882</td>\n",
       "    </tr>\n",
       "    <tr>\n",
       "      <th>10</th>\n",
       "      <td>sports</td>\n",
       "      <td>0.566980</td>\n",
       "      <td>0.22</td>\n",
       "      <td>4.346300</td>\n",
       "    </tr>\n",
       "    <tr>\n",
       "      <th>6</th>\n",
       "      <td>racing</td>\n",
       "      <td>0.583403</td>\n",
       "      <td>0.19</td>\n",
       "      <td>2.744330</td>\n",
       "    </tr>\n",
       "    <tr>\n",
       "      <th>7</th>\n",
       "      <td>role-playing</td>\n",
       "      <td>0.623872</td>\n",
       "      <td>0.18</td>\n",
       "      <td>2.924708</td>\n",
       "    </tr>\n",
       "    <tr>\n",
       "      <th>8</th>\n",
       "      <td>shooter</td>\n",
       "      <td>0.795503</td>\n",
       "      <td>0.24</td>\n",
       "      <td>3.299398</td>\n",
       "    </tr>\n",
       "    <tr>\n",
       "      <th>4</th>\n",
       "      <td>platform</td>\n",
       "      <td>0.932173</td>\n",
       "      <td>0.27</td>\n",
       "      <td>6.628082</td>\n",
       "    </tr>\n",
       "  </tbody>\n",
       "</table>\n",
       "</div>"
      ],
      "text/plain": [
       "           genre      mean  median       var\n",
       "1      adventure  0.182341    0.05  0.258606\n",
       "11      strategy  0.255095    0.10  0.269358\n",
       "5         puzzle  0.418224    0.11  2.441231\n",
       "9     simulation  0.446701    0.15  1.408543\n",
       "3           misc  0.458577    0.16  1.702072\n",
       "0         action  0.517711    0.19  1.312392\n",
       "2       fighting  0.527126    0.21  0.906882\n",
       "10        sports  0.566980    0.22  4.346300\n",
       "6         racing  0.583403    0.19  2.744330\n",
       "7   role-playing  0.623872    0.18  2.924708\n",
       "8        shooter  0.795503    0.24  3.299398\n",
       "4       platform  0.932173    0.27  6.628082"
      ]
     },
     "execution_count": 75,
     "metadata": {},
     "output_type": "execute_result"
    }
   ],
   "source": [
    "df_games.groupby(['genre'])['total_sales'].agg(['mean','median', 'var']).reset_index().sort_values(by = 'mean')"
   ]
  },
  {
   "cell_type": "code",
   "execution_count": 76,
   "metadata": {},
   "outputs": [],
   "source": [
    "genre_years =df_games.query('year_of_release >= 2014')"
   ]
  },
  {
   "cell_type": "code",
   "execution_count": 77,
   "metadata": {},
   "outputs": [
    {
     "data": {
      "text/html": [
       "<div>\n",
       "<style scoped>\n",
       "    .dataframe tbody tr th:only-of-type {\n",
       "        vertical-align: middle;\n",
       "    }\n",
       "\n",
       "    .dataframe tbody tr th {\n",
       "        vertical-align: top;\n",
       "    }\n",
       "\n",
       "    .dataframe thead th {\n",
       "        text-align: right;\n",
       "    }\n",
       "</style>\n",
       "<table border=\"1\" class=\"dataframe\">\n",
       "  <thead>\n",
       "    <tr style=\"text-align: right;\">\n",
       "      <th></th>\n",
       "      <th>mean</th>\n",
       "      <th>median</th>\n",
       "    </tr>\n",
       "    <tr>\n",
       "      <th>genre</th>\n",
       "      <th></th>\n",
       "      <th></th>\n",
       "    </tr>\n",
       "  </thead>\n",
       "  <tbody>\n",
       "    <tr>\n",
       "      <th>shooter</th>\n",
       "      <td>1.335469</td>\n",
       "      <td>0.515</td>\n",
       "    </tr>\n",
       "    <tr>\n",
       "      <th>sports</th>\n",
       "      <td>0.680000</td>\n",
       "      <td>0.180</td>\n",
       "    </tr>\n",
       "    <tr>\n",
       "      <th>platform</th>\n",
       "      <td>0.476053</td>\n",
       "      <td>0.140</td>\n",
       "    </tr>\n",
       "    <tr>\n",
       "      <th>fighting</th>\n",
       "      <td>0.470333</td>\n",
       "      <td>0.125</td>\n",
       "    </tr>\n",
       "    <tr>\n",
       "      <th>role-playing</th>\n",
       "      <td>0.458108</td>\n",
       "      <td>0.110</td>\n",
       "    </tr>\n",
       "    <tr>\n",
       "      <th>simulation</th>\n",
       "      <td>0.298409</td>\n",
       "      <td>0.100</td>\n",
       "    </tr>\n",
       "    <tr>\n",
       "      <th>action</th>\n",
       "      <td>0.322068</td>\n",
       "      <td>0.090</td>\n",
       "    </tr>\n",
       "    <tr>\n",
       "      <th>misc</th>\n",
       "      <td>0.332301</td>\n",
       "      <td>0.090</td>\n",
       "    </tr>\n",
       "    <tr>\n",
       "      <th>racing</th>\n",
       "      <td>0.398841</td>\n",
       "      <td>0.090</td>\n",
       "    </tr>\n",
       "    <tr>\n",
       "      <th>strategy</th>\n",
       "      <td>0.107027</td>\n",
       "      <td>0.060</td>\n",
       "    </tr>\n",
       "    <tr>\n",
       "      <th>puzzle</th>\n",
       "      <td>0.157857</td>\n",
       "      <td>0.045</td>\n",
       "    </tr>\n",
       "    <tr>\n",
       "      <th>adventure</th>\n",
       "      <td>0.094865</td>\n",
       "      <td>0.030</td>\n",
       "    </tr>\n",
       "  </tbody>\n",
       "</table>\n",
       "</div>"
      ],
      "text/plain": [
       "                  mean  median\n",
       "genre                         \n",
       "shooter       1.335469   0.515\n",
       "sports        0.680000   0.180\n",
       "platform      0.476053   0.140\n",
       "fighting      0.470333   0.125\n",
       "role-playing  0.458108   0.110\n",
       "simulation    0.298409   0.100\n",
       "action        0.322068   0.090\n",
       "misc          0.332301   0.090\n",
       "racing        0.398841   0.090\n",
       "strategy      0.107027   0.060\n",
       "puzzle        0.157857   0.045\n",
       "adventure     0.094865   0.030"
      ]
     },
     "execution_count": 77,
     "metadata": {},
     "output_type": "execute_result"
    }
   ],
   "source": [
    "genre_years.groupby('genre')['total_sales'].agg(['mean', 'median',]).sort_values(by = 'median', ascending = False)"
   ]
  },
  {
   "cell_type": "code",
   "execution_count": 78,
   "metadata": {},
   "outputs": [
    {
     "data": {
      "text/plain": [
       "genre\n",
       "shooter         14.63\n",
       "action          12.62\n",
       "role-playing    11.68\n",
       "sports           8.58\n",
       "fighting         7.55\n",
       "racing           7.09\n",
       "misc             5.27\n",
       "platform         3.21\n",
       "simulation       3.05\n",
       "adventure        1.66\n",
       "puzzle           1.19\n",
       "strategy         0.52\n",
       "Name: total_sales, dtype: float64"
      ]
     },
     "execution_count": 78,
     "metadata": {},
     "output_type": "execute_result"
    }
   ],
   "source": [
    "# Generalize about genres with high and low sales\n",
    "genre_years.groupby('genre')['total_sales'].max().sort_values(ascending= False)"
   ]
  },
  {
   "cell_type": "markdown",
   "metadata": {},
   "source": [
    "- The profitable genre : shooter"
   ]
  },
  {
   "cell_type": "markdown",
   "metadata": {},
   "source": [
    "### Create a user profile for each region"
   ]
  },
  {
   "cell_type": "markdown",
   "metadata": {},
   "source": [
    "- For each region (NA, EU, JP), determine:\n",
    "- The top five platforms. Describe variations in their market shares from region to region.\n",
    "- The top five genres. Explain the difference.\n",
    "- Do ESRB ratings affect sales in individual regions?"
   ]
  },
  {
   "cell_type": "code",
   "execution_count": 79,
   "metadata": {},
   "outputs": [
    {
     "data": {
      "text/html": [
       "<div>\n",
       "<style scoped>\n",
       "    .dataframe tbody tr th:only-of-type {\n",
       "        vertical-align: middle;\n",
       "    }\n",
       "\n",
       "    .dataframe tbody tr th {\n",
       "        vertical-align: top;\n",
       "    }\n",
       "\n",
       "    .dataframe thead th {\n",
       "        text-align: right;\n",
       "    }\n",
       "</style>\n",
       "<table border=\"1\" class=\"dataframe\">\n",
       "  <thead>\n",
       "    <tr style=\"text-align: right;\">\n",
       "      <th></th>\n",
       "      <th>name</th>\n",
       "      <th>platform</th>\n",
       "      <th>year_of_release</th>\n",
       "      <th>genre</th>\n",
       "      <th>na_sales</th>\n",
       "      <th>eu_sales</th>\n",
       "      <th>jp_sales</th>\n",
       "      <th>other_sales</th>\n",
       "      <th>critic_score</th>\n",
       "      <th>user_score</th>\n",
       "      <th>rating</th>\n",
       "      <th>total_sales</th>\n",
       "    </tr>\n",
       "  </thead>\n",
       "  <tbody>\n",
       "    <tr>\n",
       "      <th>0</th>\n",
       "      <td>wii sports</td>\n",
       "      <td>wii</td>\n",
       "      <td>2006</td>\n",
       "      <td>sports</td>\n",
       "      <td>41.36</td>\n",
       "      <td>28.96</td>\n",
       "      <td>3.77</td>\n",
       "      <td>8.45</td>\n",
       "      <td>2006.0</td>\n",
       "      <td>2006.0</td>\n",
       "      <td>E</td>\n",
       "      <td>82.54</td>\n",
       "    </tr>\n",
       "    <tr>\n",
       "      <th>1</th>\n",
       "      <td>super mario bros.</td>\n",
       "      <td>nes</td>\n",
       "      <td>1985</td>\n",
       "      <td>platform</td>\n",
       "      <td>29.08</td>\n",
       "      <td>3.58</td>\n",
       "      <td>6.81</td>\n",
       "      <td>0.77</td>\n",
       "      <td>1985.0</td>\n",
       "      <td>1985.0</td>\n",
       "      <td>undefined</td>\n",
       "      <td>40.24</td>\n",
       "    </tr>\n",
       "    <tr>\n",
       "      <th>2</th>\n",
       "      <td>mario kart wii</td>\n",
       "      <td>wii</td>\n",
       "      <td>2008</td>\n",
       "      <td>racing</td>\n",
       "      <td>15.68</td>\n",
       "      <td>12.76</td>\n",
       "      <td>3.79</td>\n",
       "      <td>3.29</td>\n",
       "      <td>2008.0</td>\n",
       "      <td>2008.0</td>\n",
       "      <td>E</td>\n",
       "      <td>35.52</td>\n",
       "    </tr>\n",
       "    <tr>\n",
       "      <th>3</th>\n",
       "      <td>wii sports resort</td>\n",
       "      <td>wii</td>\n",
       "      <td>2009</td>\n",
       "      <td>sports</td>\n",
       "      <td>15.61</td>\n",
       "      <td>10.93</td>\n",
       "      <td>3.28</td>\n",
       "      <td>2.95</td>\n",
       "      <td>2009.0</td>\n",
       "      <td>2009.0</td>\n",
       "      <td>E</td>\n",
       "      <td>32.77</td>\n",
       "    </tr>\n",
       "    <tr>\n",
       "      <th>4</th>\n",
       "      <td>pokemon red/pokemon blue</td>\n",
       "      <td>gb</td>\n",
       "      <td>1996</td>\n",
       "      <td>role-playing</td>\n",
       "      <td>11.27</td>\n",
       "      <td>8.89</td>\n",
       "      <td>10.22</td>\n",
       "      <td>1.00</td>\n",
       "      <td>1996.0</td>\n",
       "      <td>1996.0</td>\n",
       "      <td>undefined</td>\n",
       "      <td>31.38</td>\n",
       "    </tr>\n",
       "  </tbody>\n",
       "</table>\n",
       "</div>"
      ],
      "text/plain": [
       "                       name platform  year_of_release         genre  na_sales  \\\n",
       "0                wii sports      wii             2006        sports     41.36   \n",
       "1         super mario bros.      nes             1985      platform     29.08   \n",
       "2            mario kart wii      wii             2008        racing     15.68   \n",
       "3         wii sports resort      wii             2009        sports     15.61   \n",
       "4  pokemon red/pokemon blue       gb             1996  role-playing     11.27   \n",
       "\n",
       "   eu_sales  jp_sales  other_sales  critic_score  user_score     rating  \\\n",
       "0     28.96      3.77         8.45        2006.0      2006.0          E   \n",
       "1      3.58      6.81         0.77        1985.0      1985.0  undefined   \n",
       "2     12.76      3.79         3.29        2008.0      2008.0          E   \n",
       "3     10.93      3.28         2.95        2009.0      2009.0          E   \n",
       "4      8.89     10.22         1.00        1996.0      1996.0  undefined   \n",
       "\n",
       "   total_sales  \n",
       "0        82.54  \n",
       "1        40.24  \n",
       "2        35.52  \n",
       "3        32.77  \n",
       "4        31.38  "
      ]
     },
     "execution_count": 79,
     "metadata": {},
     "output_type": "execute_result"
    }
   ],
   "source": [
    "df_games.head()"
   ]
  },
  {
   "cell_type": "code",
   "execution_count": 80,
   "metadata": {
    "scrolled": true
   },
   "outputs": [
    {
     "data": {
      "text/html": [
       "<div>\n",
       "<style scoped>\n",
       "    .dataframe tbody tr th:only-of-type {\n",
       "        vertical-align: middle;\n",
       "    }\n",
       "\n",
       "    .dataframe tbody tr th {\n",
       "        vertical-align: top;\n",
       "    }\n",
       "\n",
       "    .dataframe thead th {\n",
       "        text-align: right;\n",
       "    }\n",
       "</style>\n",
       "<table border=\"1\" class=\"dataframe\">\n",
       "  <thead>\n",
       "    <tr style=\"text-align: right;\">\n",
       "      <th></th>\n",
       "      <th>index</th>\n",
       "      <th>platform</th>\n",
       "      <th>genre</th>\n",
       "      <th>na_sales</th>\n",
       "      <th>eu_sales</th>\n",
       "      <th>jp_sales</th>\n",
       "      <th>total_sales</th>\n",
       "    </tr>\n",
       "  </thead>\n",
       "  <tbody>\n",
       "    <tr>\n",
       "      <th>0</th>\n",
       "      <td>31</td>\n",
       "      <td>ps4</td>\n",
       "      <td>shooter</td>\n",
       "      <td>6.03</td>\n",
       "      <td>5.86</td>\n",
       "      <td>0.36</td>\n",
       "      <td>14.63</td>\n",
       "    </tr>\n",
       "    <tr>\n",
       "      <th>1</th>\n",
       "      <td>42</td>\n",
       "      <td>ps4</td>\n",
       "      <td>action</td>\n",
       "      <td>3.96</td>\n",
       "      <td>6.31</td>\n",
       "      <td>0.38</td>\n",
       "      <td>12.62</td>\n",
       "    </tr>\n",
       "    <tr>\n",
       "      <th>2</th>\n",
       "      <td>47</td>\n",
       "      <td>3ds</td>\n",
       "      <td>role-playing</td>\n",
       "      <td>4.35</td>\n",
       "      <td>3.49</td>\n",
       "      <td>3.10</td>\n",
       "      <td>11.68</td>\n",
       "    </tr>\n",
       "    <tr>\n",
       "      <th>3</th>\n",
       "      <td>77</td>\n",
       "      <td>ps4</td>\n",
       "      <td>sports</td>\n",
       "      <td>1.12</td>\n",
       "      <td>6.12</td>\n",
       "      <td>0.06</td>\n",
       "      <td>8.58</td>\n",
       "    </tr>\n",
       "    <tr>\n",
       "      <th>4</th>\n",
       "      <td>87</td>\n",
       "      <td>ps4</td>\n",
       "      <td>shooter</td>\n",
       "      <td>2.99</td>\n",
       "      <td>3.49</td>\n",
       "      <td>0.22</td>\n",
       "      <td>7.98</td>\n",
       "    </tr>\n",
       "  </tbody>\n",
       "</table>\n",
       "</div>"
      ],
      "text/plain": [
       "   index platform         genre  na_sales  eu_sales  jp_sales  total_sales\n",
       "0     31      ps4       shooter      6.03      5.86      0.36        14.63\n",
       "1     42      ps4        action      3.96      6.31      0.38        12.62\n",
       "2     47      3ds  role-playing      4.35      3.49      3.10        11.68\n",
       "3     77      ps4        sports      1.12      6.12      0.06         8.58\n",
       "4     87      ps4       shooter      2.99      3.49      0.22         7.98"
      ]
     },
     "execution_count": 80,
     "metadata": {},
     "output_type": "execute_result"
    }
   ],
   "source": [
    "region_df = df_games.query('year_of_release  > 2013')\n",
    "region_df = region_df[['platform','genre','na_sales','eu_sales','jp_sales','total_sales']].reset_index()\n",
    "region_df.head()\n"
   ]
  },
  {
   "cell_type": "markdown",
   "metadata": {},
   "source": [
    "### NA( north america) region "
   ]
  },
  {
   "cell_type": "code",
   "execution_count": 81,
   "metadata": {},
   "outputs": [
    {
     "data": {
      "text/plain": [
       "platform\n",
       "ps4     98.61\n",
       "xone    81.27\n",
       "x360    28.30\n",
       "3ds     22.64\n",
       "ps3     22.05\n",
       "Name: na_sales, dtype: float64"
      ]
     },
     "execution_count": 81,
     "metadata": {},
     "output_type": "execute_result"
    }
   ],
   "source": [
    "# by 'platform'\n",
    "region_na = region_df.groupby('platform')['na_sales'].sum().sort_values(ascending = False).head()\n",
    "region_na\n"
   ]
  },
  {
   "cell_type": "code",
   "execution_count": 82,
   "metadata": {},
   "outputs": [
    {
     "data": {
      "text/plain": [
       "genre\n",
       "shooter         79.02\n",
       "action          72.53\n",
       "sports          46.13\n",
       "role-playing    33.58\n",
       "misc            15.05\n",
       "Name: na_sales, dtype: float64"
      ]
     },
     "execution_count": 82,
     "metadata": {},
     "output_type": "execute_result"
    }
   ],
   "source": [
    "# by 'genre'\n",
    "region_df.groupby('genre')['na_sales'].sum().sort_values(ascending = False).head()\n"
   ]
  },
  {
   "cell_type": "code",
   "execution_count": 83,
   "metadata": {},
   "outputs": [
    {
     "name": "stdout",
     "output_type": "stream",
     "text": [
      "platform\n",
      "ps4     98.61\n",
      "xone    81.27\n",
      "x360    28.30\n",
      "3ds     22.64\n",
      "ps3     22.05\n",
      "Name: na_sales, dtype: float64\n"
     ]
    },
    {
     "data": {
      "image/png": "[encoded data removed]",
      "text/plain": [
       "<Figure size 432x288 with 1 Axes>"
      ]
     },
     "metadata": {},
     "output_type": "display_data"
    },
    {
     "name": "stdout",
     "output_type": "stream",
     "text": [
      "\n",
      "genre\n",
      "shooter         79.02\n",
      "action          72.53\n",
      "sports          46.13\n",
      "role-playing    33.58\n",
      "misc            15.05\n",
      "Name: na_sales, dtype: float64\n"
     ]
    },
    {
     "data": {
      "image/png": "[encoded data removed]",
      "text/plain": [
       "<Figure size 432x288 with 1 Axes>"
      ]
     },
     "metadata": {},
     "output_type": "display_data"
    },
    {
     "name": "stdout",
     "output_type": "stream",
     "text": [
      "\n"
     ]
    }
   ],
   "source": [
    "# Visualization by pie chart\n",
    "#creates an array called cols with entries 'platform', 'genre', and 'rating'\n",
    "cols=['platform', 'genre']\n",
    "\n",
    "for col in cols:#loops through the cols array\n",
    "    na_slice= region_df.groupby(col)['na_sales'].sum().sort_values(ascending=False).head(5)\n",
    "    #groups relev_data by the present column and gets the sum of the north american sales for each of its \n",
    "    #values sorting them in descending order\n",
    "    print(na_slice.head())#prints the first 5 rows of the grouping\n",
    "    plt.pie(na_slice, labels=na_slice.index, radius=2)#creates a pie chart for our grouping\n",
    "    plt.title('{} shares in North America'.format(col))\n",
    "    #titles the pie chart in the format '<col> shares in North America'\n",
    "    plt.show()#shows the chart above\n",
    "    print('')#prints an empty line"
   ]
  },
  {
   "cell_type": "markdown",
   "metadata": {},
   "source": [
    "### EU(europe) region"
   ]
  },
  {
   "cell_type": "code",
   "execution_count": 84,
   "metadata": {},
   "outputs": [
    {
     "data": {
      "text/plain": [
       "platform\n",
       "ps4     130.04\n",
       "xone     46.25\n",
       "ps3      25.54\n",
       "pc       17.97\n",
       "3ds      16.12\n",
       "Name: eu_sales, dtype: float64"
      ]
     },
     "execution_count": 84,
     "metadata": {},
     "output_type": "execute_result"
    }
   ],
   "source": [
    "region_df.groupby('platform')['eu_sales'].sum().sort_values(ascending = False).head()"
   ]
  },
  {
   "cell_type": "code",
   "execution_count": 85,
   "metadata": {},
   "outputs": [
    {
     "data": {
      "text/plain": [
       "genre\n",
       "action          74.68\n",
       "shooter         65.52\n",
       "sports          45.73\n",
       "role-playing    28.22\n",
       "racing          14.13\n",
       "Name: eu_sales, dtype: float64"
      ]
     },
     "execution_count": 85,
     "metadata": {},
     "output_type": "execute_result"
    }
   ],
   "source": [
    "region_df.groupby('genre')['eu_sales'].sum().sort_values(ascending = False).head()"
   ]
  },
  {
   "cell_type": "code",
   "execution_count": 86,
   "metadata": {},
   "outputs": [
    {
     "name": "stdout",
     "output_type": "stream",
     "text": [
      "platform\n",
      "ps4     130.04\n",
      "xone     46.25\n",
      "ps3      25.54\n",
      "pc       17.97\n",
      "3ds      16.12\n",
      "Name: eu_sales, dtype: float64\n"
     ]
    },
    {
     "data": {
      "image/png": "[encoded data removed]",
      "text/plain": [
       "<Figure size 432x288 with 1 Axes>"
      ]
     },
     "metadata": {},
     "output_type": "display_data"
    },
    {
     "name": "stdout",
     "output_type": "stream",
     "text": [
      "\n",
      "genre\n",
      "action          74.68\n",
      "shooter         65.52\n",
      "sports          45.73\n",
      "role-playing    28.22\n",
      "racing          14.13\n",
      "Name: eu_sales, dtype: float64\n"
     ]
    },
    {
     "data": {
      "image/png": "[encoded data removed]",
      "text/plain": [
       "<Figure size 432x288 with 1 Axes>"
      ]
     },
     "metadata": {},
     "output_type": "display_data"
    },
    {
     "name": "stdout",
     "output_type": "stream",
     "text": [
      "\n"
     ]
    }
   ],
   "source": [
    "# Visualization by pie chart\n",
    "cols=['platform', 'genre']\n",
    "\n",
    "for col in cols:#loops through the cols array\n",
    "    eu_slice=region_df.groupby(col)['eu_sales'].sum().sort_values(ascending=False).head(5)\n",
    "    #groups relev_data by the present column and gets the sum of the eu_sales for each of its \n",
    "    #values sorting them in descending order\n",
    "    print(eu_slice.head())#prints the first 5 rows of the grouping\n",
    "    plt.pie(eu_slice, labels=eu_slice.index, radius=2)#creates a pie chart for our grouping\n",
    "    plt.title('{} shares in the EU'.format(col))\n",
    "    #titles the pie chart in the format '<col> shares in the EU'\n",
    "    plt.show()#shows the chart above\n",
    "    print('')#prints an empty line"
   ]
  },
  {
   "cell_type": "markdown",
   "metadata": {},
   "source": [
    "### JP(japan) region"
   ]
  },
  {
   "cell_type": "code",
   "execution_count": 87,
   "metadata": {},
   "outputs": [
    {
     "data": {
      "text/plain": [
       "platform\n",
       "3ds     44.24\n",
       "ps4     15.02\n",
       "psv     14.61\n",
       "ps3     11.22\n",
       "wiiu     7.31\n",
       "Name: jp_sales, dtype: float64"
      ]
     },
     "execution_count": 87,
     "metadata": {},
     "output_type": "execute_result"
    }
   ],
   "source": [
    "region_df.groupby('platform')['jp_sales'].sum().sort_values(ascending = False).head()"
   ]
  },
  {
   "cell_type": "code",
   "execution_count": 88,
   "metadata": {},
   "outputs": [
    {
     "data": {
      "text/plain": [
       "genre\n",
       "role-playing    31.23\n",
       "action          29.58\n",
       "fighting         6.37\n",
       "misc             5.61\n",
       "shooter          4.87\n",
       "Name: jp_sales, dtype: float64"
      ]
     },
     "execution_count": 88,
     "metadata": {},
     "output_type": "execute_result"
    }
   ],
   "source": [
    "region_df.groupby('genre')['jp_sales'].sum().sort_values(ascending = False).head()"
   ]
  },
  {
   "cell_type": "code",
   "execution_count": 89,
   "metadata": {},
   "outputs": [
    {
     "name": "stdout",
     "output_type": "stream",
     "text": [
      "platform\n",
      "3ds     44.24\n",
      "ps4     15.02\n",
      "psv     14.61\n",
      "ps3     11.22\n",
      "wiiu     7.31\n",
      "Name: jp_sales, dtype: float64\n"
     ]
    },
    {
     "data": {
      "image/png": "[encoded data removed]",
      "text/plain": [
       "<Figure size 432x288 with 1 Axes>"
      ]
     },
     "metadata": {},
     "output_type": "display_data"
    },
    {
     "name": "stdout",
     "output_type": "stream",
     "text": [
      "\n",
      "genre\n",
      "role-playing    31.23\n",
      "action          29.58\n",
      "fighting         6.37\n",
      "misc             5.61\n",
      "shooter          4.87\n",
      "Name: jp_sales, dtype: float64\n"
     ]
    },
    {
     "data": {
      "image/png": "[encoded data removed]",
      "text/plain": [
       "<Figure size 432x288 with 1 Axes>"
      ]
     },
     "metadata": {},
     "output_type": "display_data"
    },
    {
     "name": "stdout",
     "output_type": "stream",
     "text": [
      "\n"
     ]
    }
   ],
   "source": [
    "# Visualization by pie chart\n",
    "\n",
    "#creates an array called cols with entries 'platform', 'genre', and 'rating'\n",
    "cols=['platform', 'genre']\n",
    "\n",
    "#loops through the cols array\n",
    "#groups relev_data by the present column and gets the sum of the jp_sales for each of its \n",
    "    #values sorting them in descending order\n",
    "for col in cols: \n",
    "    jp_slice=region_df.groupby(col)['jp_sales'].sum().sort_values(ascending=False).head(5)\n",
    "#prints the first 5 rows of the grouping    \n",
    "    print(jp_slice.head()) #prints the first 5 rows of the grouping\n",
    "#creates a pie chart for our grouping\n",
    "    plt.pie(jp_slice, labels=jp_slice.index, radius=2)\n",
    "    plt.title('{} shares in Japan'.format(col))\n",
    "    #titles the pie chart in the format '<col> shares in Japan'\n",
    "    plt.show()#shows the chart above\n",
    "    print('')#prints an empty line"
   ]
  },
  {
   "cell_type": "markdown",
   "metadata": {},
   "source": [
    "#### Summary by Platform"
   ]
  },
  {
   "cell_type": "code",
   "execution_count": 90,
   "metadata": {},
   "outputs": [
    {
     "data": {
      "text/html": [
       "<div>\n",
       "<style scoped>\n",
       "    .dataframe tbody tr th:only-of-type {\n",
       "        vertical-align: middle;\n",
       "    }\n",
       "\n",
       "    .dataframe tbody tr th {\n",
       "        vertical-align: top;\n",
       "    }\n",
       "\n",
       "    .dataframe thead th {\n",
       "        text-align: right;\n",
       "    }\n",
       "</style>\n",
       "<table border=\"1\" class=\"dataframe\">\n",
       "  <thead>\n",
       "    <tr style=\"text-align: right;\">\n",
       "      <th></th>\n",
       "      <th>platform</th>\n",
       "      <th>na_sales</th>\n",
       "      <th>eu_sales</th>\n",
       "      <th>jp_sales</th>\n",
       "      <th>total_sales</th>\n",
       "    </tr>\n",
       "  </thead>\n",
       "  <tbody>\n",
       "    <tr>\n",
       "      <th>0</th>\n",
       "      <td>3ds</td>\n",
       "      <td>83.49</td>\n",
       "      <td>61.48</td>\n",
       "      <td>100.67</td>\n",
       "      <td>259.00</td>\n",
       "    </tr>\n",
       "    <tr>\n",
       "      <th>1</th>\n",
       "      <td>ps3</td>\n",
       "      <td>393.49</td>\n",
       "      <td>330.29</td>\n",
       "      <td>80.19</td>\n",
       "      <td>939.65</td>\n",
       "    </tr>\n",
       "    <tr>\n",
       "      <th>2</th>\n",
       "      <td>ps4</td>\n",
       "      <td>108.74</td>\n",
       "      <td>141.09</td>\n",
       "      <td>15.96</td>\n",
       "      <td>314.14</td>\n",
       "    </tr>\n",
       "    <tr>\n",
       "      <th>3</th>\n",
       "      <td>x360</td>\n",
       "      <td>602.47</td>\n",
       "      <td>270.76</td>\n",
       "      <td>12.43</td>\n",
       "      <td>971.42</td>\n",
       "    </tr>\n",
       "    <tr>\n",
       "      <th>4</th>\n",
       "      <td>xone</td>\n",
       "      <td>93.12</td>\n",
       "      <td>51.59</td>\n",
       "      <td>0.34</td>\n",
       "      <td>159.32</td>\n",
       "    </tr>\n",
       "  </tbody>\n",
       "</table>\n",
       "</div>"
      ],
      "text/plain": [
       "  platform  na_sales  eu_sales  jp_sales  total_sales\n",
       "0      3ds     83.49     61.48    100.67       259.00\n",
       "1      ps3    393.49    330.29     80.19       939.65\n",
       "2      ps4    108.74    141.09     15.96       314.14\n",
       "3     x360    602.47    270.76     12.43       971.42\n",
       "4     xone     93.12     51.59      0.34       159.32"
      ]
     },
     "execution_count": 90,
     "metadata": {},
     "output_type": "execute_result"
    }
   ],
   "source": [
    "# sum total sales for each platform, in descending order\n",
    "top_platforms = region_df.groupby('platform').agg({'total_sales':'sum'}).sort_values('total_sales',ascending=False).reset_index()\n",
    "\n",
    "#retrieve top 5 platforms\n",
    "top_5_list = top_platforms['platform'][0:5].to_list()\n",
    "\n",
    "#filter all games on the top 5 platforms\n",
    "top_5_platforms = df_games.query('platform in @top_5_list')\n",
    "\n",
    "top_5_platforms_grouped = top_5_platforms.groupby('platform').agg({'na_sales':'sum','eu_sales':'sum','jp_sales':'sum','total_sales':'sum'}).reset_index()\n",
    "\n",
    "top_5_platforms_grouped"
   ]
  },
  {
   "cell_type": "markdown",
   "metadata": {},
   "source": [
    "- JP has the highest sales on 3DS games\n",
    "- EU has the highest sales on PC3 games and PS4 games\n",
    "- NA has the highest sales on X360 games and XONE games"
   ]
  },
  {
   "cell_type": "markdown",
   "metadata": {},
   "source": [
    "#### Summary by Genre"
   ]
  },
  {
   "cell_type": "code",
   "execution_count": 91,
   "metadata": {},
   "outputs": [
    {
     "data": {
      "text/html": [
       "<div>\n",
       "<style scoped>\n",
       "    .dataframe tbody tr th:only-of-type {\n",
       "        vertical-align: middle;\n",
       "    }\n",
       "\n",
       "    .dataframe tbody tr th {\n",
       "        vertical-align: top;\n",
       "    }\n",
       "\n",
       "    .dataframe thead th {\n",
       "        text-align: right;\n",
       "    }\n",
       "</style>\n",
       "<table border=\"1\" class=\"dataframe\">\n",
       "  <thead>\n",
       "    <tr style=\"text-align: right;\">\n",
       "      <th></th>\n",
       "      <th>genre</th>\n",
       "      <th>na_sales</th>\n",
       "      <th>eu_sales</th>\n",
       "      <th>jp_sales</th>\n",
       "      <th>total_sales</th>\n",
       "    </tr>\n",
       "  </thead>\n",
       "  <tbody>\n",
       "    <tr>\n",
       "      <th>0</th>\n",
       "      <td>action</td>\n",
       "      <td>879.01</td>\n",
       "      <td>519.13</td>\n",
       "      <td>161.43</td>\n",
       "      <td>1744.17</td>\n",
       "    </tr>\n",
       "    <tr>\n",
       "      <th>1</th>\n",
       "      <td>misc</td>\n",
       "      <td>407.27</td>\n",
       "      <td>212.74</td>\n",
       "      <td>108.11</td>\n",
       "      <td>802.51</td>\n",
       "    </tr>\n",
       "    <tr>\n",
       "      <th>2</th>\n",
       "      <td>role-playing</td>\n",
       "      <td>330.81</td>\n",
       "      <td>188.71</td>\n",
       "      <td>355.41</td>\n",
       "      <td>934.56</td>\n",
       "    </tr>\n",
       "    <tr>\n",
       "      <th>3</th>\n",
       "      <td>shooter</td>\n",
       "      <td>592.24</td>\n",
       "      <td>317.34</td>\n",
       "      <td>38.76</td>\n",
       "      <td>1052.45</td>\n",
       "    </tr>\n",
       "    <tr>\n",
       "      <th>4</th>\n",
       "      <td>sports</td>\n",
       "      <td>684.43</td>\n",
       "      <td>376.79</td>\n",
       "      <td>135.54</td>\n",
       "      <td>1331.27</td>\n",
       "    </tr>\n",
       "  </tbody>\n",
       "</table>\n",
       "</div>"
      ],
      "text/plain": [
       "          genre  na_sales  eu_sales  jp_sales  total_sales\n",
       "0        action    879.01    519.13    161.43      1744.17\n",
       "1          misc    407.27    212.74    108.11       802.51\n",
       "2  role-playing    330.81    188.71    355.41       934.56\n",
       "3       shooter    592.24    317.34     38.76      1052.45\n",
       "4        sports    684.43    376.79    135.54      1331.27"
      ]
     },
     "execution_count": 91,
     "metadata": {},
     "output_type": "execute_result"
    }
   ],
   "source": [
    "# sum total sales for each genre, in descending order\n",
    "top_genres = region_df.groupby('genre').agg({'total_sales':'sum'}).sort_values('total_sales',ascending=False).reset_index()\n",
    "\n",
    "#retrieve top 5 genres\n",
    "top_5_genres_list = top_genres['genre'][0:5].to_list()\n",
    "\n",
    "#filter all games on the top 5 genres\n",
    "top_5_genres = df_games.query('genre in @top_5_genres_list')\n",
    "\n",
    "top_5_genres_grouped = top_5_genres.groupby('genre').agg({'na_sales':'sum','eu_sales':'sum','jp_sales':'sum','total_sales':'sum'}).reset_index()\n",
    "\n",
    "top_5_genres_grouped"
   ]
  },
  {
   "cell_type": "markdown",
   "metadata": {},
   "source": [
    "#### Conclusion:\n",
    "\n",
    "- We looked each region (NA, EU, JP):\n",
    "- The top five platforms in NA region are ps4,xone, x360 ,3ds, ps3  and the top five genres are shooter,action,sports,role_playing,misc\n",
    "- In UE region the top 5 platforms: ps4, one, ps3, ps, 3ds and genre: action,shooting,sport,role-playing, racing.\n",
    "- In JP region the top 5 platform :3ds,ps4,psv,ps3,wiiu and genre: role-playing, action, fighting,misc,shooter"
   ]
  },
  {
   "cell_type": "markdown",
   "metadata": {},
   "source": [
    "## Test statistical hypotheses:"
   ]
  },
  {
   "cell_type": "markdown",
   "metadata": {},
   "source": [
    "Average user ratings of the Xbox One and PC platforms are the same.\n",
    "\n",
    "Average user ratings for the Action and Sports genres are different"
   ]
  },
  {
   "cell_type": "code",
   "execution_count": 92,
   "metadata": {},
   "outputs": [
    {
     "data": {
      "text/html": [
       "<div>\n",
       "<style scoped>\n",
       "    .dataframe tbody tr th:only-of-type {\n",
       "        vertical-align: middle;\n",
       "    }\n",
       "\n",
       "    .dataframe tbody tr th {\n",
       "        vertical-align: top;\n",
       "    }\n",
       "\n",
       "    .dataframe thead th {\n",
       "        text-align: right;\n",
       "    }\n",
       "</style>\n",
       "<table border=\"1\" class=\"dataframe\">\n",
       "  <thead>\n",
       "    <tr style=\"text-align: right;\">\n",
       "      <th></th>\n",
       "      <th>name</th>\n",
       "      <th>platform</th>\n",
       "      <th>year_of_release</th>\n",
       "      <th>genre</th>\n",
       "      <th>na_sales</th>\n",
       "      <th>eu_sales</th>\n",
       "      <th>jp_sales</th>\n",
       "      <th>other_sales</th>\n",
       "      <th>critic_score</th>\n",
       "      <th>user_score</th>\n",
       "      <th>rating</th>\n",
       "      <th>total_sales</th>\n",
       "    </tr>\n",
       "  </thead>\n",
       "  <tbody>\n",
       "    <tr>\n",
       "      <th>16</th>\n",
       "      <td>grand theft auto v</td>\n",
       "      <td>ps3</td>\n",
       "      <td>2013</td>\n",
       "      <td>action</td>\n",
       "      <td>7.02</td>\n",
       "      <td>9.09</td>\n",
       "      <td>0.98</td>\n",
       "      <td>3.96</td>\n",
       "      <td>2013.0</td>\n",
       "      <td>2013.0</td>\n",
       "      <td>M</td>\n",
       "      <td>21.05</td>\n",
       "    </tr>\n",
       "    <tr>\n",
       "      <th>31</th>\n",
       "      <td>call of duty: black ops 3</td>\n",
       "      <td>ps4</td>\n",
       "      <td>2015</td>\n",
       "      <td>shooter</td>\n",
       "      <td>6.03</td>\n",
       "      <td>5.86</td>\n",
       "      <td>0.36</td>\n",
       "      <td>2.38</td>\n",
       "      <td>2015.0</td>\n",
       "      <td>2015.0</td>\n",
       "      <td>undefined</td>\n",
       "      <td>14.63</td>\n",
       "    </tr>\n",
       "    <tr>\n",
       "      <th>42</th>\n",
       "      <td>grand theft auto v</td>\n",
       "      <td>ps4</td>\n",
       "      <td>2014</td>\n",
       "      <td>action</td>\n",
       "      <td>3.96</td>\n",
       "      <td>6.31</td>\n",
       "      <td>0.38</td>\n",
       "      <td>1.97</td>\n",
       "      <td>2014.0</td>\n",
       "      <td>2014.0</td>\n",
       "      <td>M</td>\n",
       "      <td>12.62</td>\n",
       "    </tr>\n",
       "    <tr>\n",
       "      <th>69</th>\n",
       "      <td>call of duty: ghosts</td>\n",
       "      <td>ps3</td>\n",
       "      <td>2013</td>\n",
       "      <td>shooter</td>\n",
       "      <td>4.10</td>\n",
       "      <td>3.63</td>\n",
       "      <td>0.38</td>\n",
       "      <td>1.25</td>\n",
       "      <td>2013.0</td>\n",
       "      <td>2013.0</td>\n",
       "      <td>M</td>\n",
       "      <td>9.36</td>\n",
       "    </tr>\n",
       "    <tr>\n",
       "      <th>77</th>\n",
       "      <td>fifa 16</td>\n",
       "      <td>ps4</td>\n",
       "      <td>2015</td>\n",
       "      <td>sports</td>\n",
       "      <td>1.12</td>\n",
       "      <td>6.12</td>\n",
       "      <td>0.06</td>\n",
       "      <td>1.28</td>\n",
       "      <td>2015.0</td>\n",
       "      <td>2015.0</td>\n",
       "      <td>E</td>\n",
       "      <td>8.58</td>\n",
       "    </tr>\n",
       "    <tr>\n",
       "      <th>...</th>\n",
       "      <td>...</td>\n",
       "      <td>...</td>\n",
       "      <td>...</td>\n",
       "      <td>...</td>\n",
       "      <td>...</td>\n",
       "      <td>...</td>\n",
       "      <td>...</td>\n",
       "      <td>...</td>\n",
       "      <td>...</td>\n",
       "      <td>...</td>\n",
       "      <td>...</td>\n",
       "      <td>...</td>\n",
       "    </tr>\n",
       "    <tr>\n",
       "      <th>16672</th>\n",
       "      <td>metal gear solid v: the definitive experience</td>\n",
       "      <td>xone</td>\n",
       "      <td>2016</td>\n",
       "      <td>action</td>\n",
       "      <td>0.01</td>\n",
       "      <td>0.00</td>\n",
       "      <td>0.00</td>\n",
       "      <td>0.00</td>\n",
       "      <td>2016.0</td>\n",
       "      <td>2016.0</td>\n",
       "      <td>M</td>\n",
       "      <td>0.01</td>\n",
       "    </tr>\n",
       "    <tr>\n",
       "      <th>16674</th>\n",
       "      <td>tsukigime ranko's longest day</td>\n",
       "      <td>ps3</td>\n",
       "      <td>2014</td>\n",
       "      <td>action</td>\n",
       "      <td>0.00</td>\n",
       "      <td>0.01</td>\n",
       "      <td>0.00</td>\n",
       "      <td>0.00</td>\n",
       "      <td>2014.0</td>\n",
       "      <td>2014.0</td>\n",
       "      <td>undefined</td>\n",
       "      <td>0.01</td>\n",
       "    </tr>\n",
       "    <tr>\n",
       "      <th>16691</th>\n",
       "      <td>dynasty warriors: eiketsuden</td>\n",
       "      <td>ps3</td>\n",
       "      <td>2016</td>\n",
       "      <td>action</td>\n",
       "      <td>0.00</td>\n",
       "      <td>0.00</td>\n",
       "      <td>0.01</td>\n",
       "      <td>0.00</td>\n",
       "      <td>2016.0</td>\n",
       "      <td>2016.0</td>\n",
       "      <td>undefined</td>\n",
       "      <td>0.01</td>\n",
       "    </tr>\n",
       "    <tr>\n",
       "      <th>16692</th>\n",
       "      <td>metal gear solid v: ground zeroes</td>\n",
       "      <td>pc</td>\n",
       "      <td>2014</td>\n",
       "      <td>action</td>\n",
       "      <td>0.00</td>\n",
       "      <td>0.01</td>\n",
       "      <td>0.00</td>\n",
       "      <td>0.00</td>\n",
       "      <td>2014.0</td>\n",
       "      <td>2014.0</td>\n",
       "      <td>M</td>\n",
       "      <td>0.01</td>\n",
       "    </tr>\n",
       "    <tr>\n",
       "      <th>16710</th>\n",
       "      <td>samurai warriors: sanada maru</td>\n",
       "      <td>ps3</td>\n",
       "      <td>2016</td>\n",
       "      <td>action</td>\n",
       "      <td>0.00</td>\n",
       "      <td>0.00</td>\n",
       "      <td>0.01</td>\n",
       "      <td>0.00</td>\n",
       "      <td>2016.0</td>\n",
       "      <td>2016.0</td>\n",
       "      <td>undefined</td>\n",
       "      <td>0.01</td>\n",
       "    </tr>\n",
       "  </tbody>\n",
       "</table>\n",
       "<p>1173 rows × 12 columns</p>\n",
       "</div>"
      ],
      "text/plain": [
       "                                                name platform  \\\n",
       "16                                grand theft auto v      ps3   \n",
       "31                         call of duty: black ops 3      ps4   \n",
       "42                                grand theft auto v      ps4   \n",
       "69                              call of duty: ghosts      ps3   \n",
       "77                                           fifa 16      ps4   \n",
       "...                                              ...      ...   \n",
       "16672  metal gear solid v: the definitive experience     xone   \n",
       "16674                  tsukigime ranko's longest day      ps3   \n",
       "16691                   dynasty warriors: eiketsuden      ps3   \n",
       "16692              metal gear solid v: ground zeroes       pc   \n",
       "16710                  samurai warriors: sanada maru      ps3   \n",
       "\n",
       "       year_of_release    genre  na_sales  eu_sales  jp_sales  other_sales  \\\n",
       "16                2013   action      7.02      9.09      0.98         3.96   \n",
       "31                2015  shooter      6.03      5.86      0.36         2.38   \n",
       "42                2014   action      3.96      6.31      0.38         1.97   \n",
       "69                2013  shooter      4.10      3.63      0.38         1.25   \n",
       "77                2015   sports      1.12      6.12      0.06         1.28   \n",
       "...                ...      ...       ...       ...       ...          ...   \n",
       "16672             2016   action      0.01      0.00      0.00         0.00   \n",
       "16674             2014   action      0.00      0.01      0.00         0.00   \n",
       "16691             2016   action      0.00      0.00      0.01         0.00   \n",
       "16692             2014   action      0.00      0.01      0.00         0.00   \n",
       "16710             2016   action      0.00      0.00      0.01         0.00   \n",
       "\n",
       "       critic_score  user_score     rating  total_sales  \n",
       "16           2013.0      2013.0          M        21.05  \n",
       "31           2015.0      2015.0  undefined        14.63  \n",
       "42           2014.0      2014.0          M        12.62  \n",
       "69           2013.0      2013.0          M         9.36  \n",
       "77           2015.0      2015.0          E         8.58  \n",
       "...             ...         ...        ...          ...  \n",
       "16672        2016.0      2016.0          M         0.01  \n",
       "16674        2014.0      2014.0  undefined         0.01  \n",
       "16691        2016.0      2016.0  undefined         0.01  \n",
       "16692        2014.0      2014.0          M         0.01  \n",
       "16710        2016.0      2016.0  undefined         0.01  \n",
       "\n",
       "[1173 rows x 12 columns]"
      ]
     },
     "execution_count": 92,
     "metadata": {},
     "output_type": "execute_result"
    }
   ],
   "source": [
    "# Retrive all 'pc' platforms from column 'platform' using slicing\n",
    "data = df_games.query('platform in[ \"pc\",\"xone\",\"ps2\",\"ps3\",\"ps4\"] and year_of_release >= 2013', inplace = False)\n",
    "data"
   ]
  },
  {
   "cell_type": "code",
   "execution_count": 93,
   "metadata": {
    "scrolled": true
   },
   "outputs": [
    {
     "data": {
      "text/html": [
       "<div>\n",
       "<style scoped>\n",
       "    .dataframe tbody tr th:only-of-type {\n",
       "        vertical-align: middle;\n",
       "    }\n",
       "\n",
       "    .dataframe tbody tr th {\n",
       "        vertical-align: top;\n",
       "    }\n",
       "\n",
       "    .dataframe thead th {\n",
       "        text-align: right;\n",
       "    }\n",
       "</style>\n",
       "<table border=\"1\" class=\"dataframe\">\n",
       "  <thead>\n",
       "    <tr style=\"text-align: right;\">\n",
       "      <th></th>\n",
       "      <th>index</th>\n",
       "      <th>name</th>\n",
       "      <th>platform</th>\n",
       "      <th>year_of_release</th>\n",
       "      <th>genre</th>\n",
       "      <th>na_sales</th>\n",
       "      <th>eu_sales</th>\n",
       "      <th>jp_sales</th>\n",
       "      <th>other_sales</th>\n",
       "      <th>critic_score</th>\n",
       "      <th>user_score</th>\n",
       "      <th>rating</th>\n",
       "      <th>total_sales</th>\n",
       "    </tr>\n",
       "  </thead>\n",
       "  <tbody>\n",
       "    <tr>\n",
       "      <th>0</th>\n",
       "      <td>16</td>\n",
       "      <td>grand theft auto v</td>\n",
       "      <td>ps3</td>\n",
       "      <td>2013</td>\n",
       "      <td>action</td>\n",
       "      <td>7.02</td>\n",
       "      <td>9.09</td>\n",
       "      <td>0.98</td>\n",
       "      <td>3.96</td>\n",
       "      <td>2013.0</td>\n",
       "      <td>2013.0</td>\n",
       "      <td>M</td>\n",
       "      <td>21.05</td>\n",
       "    </tr>\n",
       "    <tr>\n",
       "      <th>1</th>\n",
       "      <td>23</td>\n",
       "      <td>grand theft auto v</td>\n",
       "      <td>x360</td>\n",
       "      <td>2013</td>\n",
       "      <td>action</td>\n",
       "      <td>9.66</td>\n",
       "      <td>5.14</td>\n",
       "      <td>0.06</td>\n",
       "      <td>1.41</td>\n",
       "      <td>2013.0</td>\n",
       "      <td>2013.0</td>\n",
       "      <td>M</td>\n",
       "      <td>16.27</td>\n",
       "    </tr>\n",
       "    <tr>\n",
       "      <th>2</th>\n",
       "      <td>31</td>\n",
       "      <td>call of duty: black ops 3</td>\n",
       "      <td>ps4</td>\n",
       "      <td>2015</td>\n",
       "      <td>shooter</td>\n",
       "      <td>6.03</td>\n",
       "      <td>5.86</td>\n",
       "      <td>0.36</td>\n",
       "      <td>2.38</td>\n",
       "      <td>2015.0</td>\n",
       "      <td>2015.0</td>\n",
       "      <td>undefined</td>\n",
       "      <td>14.63</td>\n",
       "    </tr>\n",
       "    <tr>\n",
       "      <th>3</th>\n",
       "      <td>33</td>\n",
       "      <td>pokemon x/pokemon y</td>\n",
       "      <td>3ds</td>\n",
       "      <td>2013</td>\n",
       "      <td>role-playing</td>\n",
       "      <td>5.28</td>\n",
       "      <td>4.19</td>\n",
       "      <td>4.35</td>\n",
       "      <td>0.78</td>\n",
       "      <td>2013.0</td>\n",
       "      <td>2013.0</td>\n",
       "      <td>undefined</td>\n",
       "      <td>14.60</td>\n",
       "    </tr>\n",
       "    <tr>\n",
       "      <th>4</th>\n",
       "      <td>42</td>\n",
       "      <td>grand theft auto v</td>\n",
       "      <td>ps4</td>\n",
       "      <td>2014</td>\n",
       "      <td>action</td>\n",
       "      <td>3.96</td>\n",
       "      <td>6.31</td>\n",
       "      <td>0.38</td>\n",
       "      <td>1.97</td>\n",
       "      <td>2014.0</td>\n",
       "      <td>2014.0</td>\n",
       "      <td>M</td>\n",
       "      <td>12.62</td>\n",
       "    </tr>\n",
       "  </tbody>\n",
       "</table>\n",
       "</div>"
      ],
      "text/plain": [
       "   index                       name platform  year_of_release         genre  \\\n",
       "0     16         grand theft auto v      ps3             2013        action   \n",
       "1     23         grand theft auto v     x360             2013        action   \n",
       "2     31  call of duty: black ops 3      ps4             2015       shooter   \n",
       "3     33        pokemon x/pokemon y      3ds             2013  role-playing   \n",
       "4     42         grand theft auto v      ps4             2014        action   \n",
       "\n",
       "   na_sales  eu_sales  jp_sales  other_sales  critic_score  user_score  \\\n",
       "0      7.02      9.09      0.98         3.96        2013.0      2013.0   \n",
       "1      9.66      5.14      0.06         1.41        2013.0      2013.0   \n",
       "2      6.03      5.86      0.36         2.38        2015.0      2015.0   \n",
       "3      5.28      4.19      4.35         0.78        2013.0      2013.0   \n",
       "4      3.96      6.31      0.38         1.97        2014.0      2014.0   \n",
       "\n",
       "      rating  total_sales  \n",
       "0          M        21.05  \n",
       "1          M        16.27  \n",
       "2  undefined        14.63  \n",
       "3  undefined        14.60  \n",
       "4          M        12.62  "
      ]
     },
     "execution_count": 93,
     "metadata": {},
     "output_type": "execute_result"
    }
   ],
   "source": [
    "#here we have to filter the 'years of release' > = 2013\n",
    "data1 = df_games[ df_games['year_of_release'] >=2013].reset_index()\n",
    "data1.head()"
   ]
  },
  {
   "cell_type": "markdown",
   "metadata": {},
   "source": [
    "###   The  Xbox One and PC platforms"
   ]
  },
  {
   "cell_type": "markdown",
   "metadata": {},
   "source": [
    "- null hypothesis H₀: the average user ratings of the Xbox One and PC platforms are the are equal(same), there’s no difference.\n",
    "\n",
    "- hypothesis H₁ : Average user ratings of the Xbox One and PC platforms  are not equal(not same), there is difference.\n",
    "\n",
    "- alpha value - 5%"
   ]
  },
  {
   "cell_type": "code",
   "execution_count": 94,
   "metadata": {},
   "outputs": [
    {
     "name": "stdout",
     "output_type": "stream",
     "text": [
      "p-value: 0.009817992609413746\n",
      "We reject the null hypothesis\n"
     ]
    }
   ],
   "source": [
    "# Test hypothesis\n",
    "from scipy import stats as st\n",
    "import numpy as np\n",
    "\n",
    "pc_data = data.query('platform == \"ps4\"')\n",
    "xone_data = data.query('platform == \"xone\"')\n",
    "\n",
    "#set alpha\n",
    "alpha = 0.05\n",
    "\n",
    "#calculate result\n",
    "results = st.ttest_ind(pc_data['user_score'], xone_data['user_score'],equal_var=False)\n",
    "print('p-value:', results.pvalue)\n",
    "\n",
    "#check our hypothesis\n",
    "if(results.pvalue<alpha):\n",
    "    print('We reject the null hypothesis')\n",
    "else:\n",
    "    print('We can\\'t reject the null hypothesis')\n"
   ]
  },
  {
   "cell_type": "markdown",
   "metadata": {},
   "source": [
    "### The Action and Sports genres"
   ]
  },
  {
   "cell_type": "markdown",
   "metadata": {},
   "source": [
    "- null hypothesis H₀: the average user ratings of the Action and Sports genres are the are equal, there’s no difference.\n",
    "\n",
    "- hypothesis H₁ : Average user ratings of the Action and Sports genres are not equal, there is difference.\n",
    "\n",
    "- alpha value - 5%"
   ]
  },
  {
   "cell_type": "code",
   "execution_count": 95,
   "metadata": {},
   "outputs": [
    {
     "name": "stdout",
     "output_type": "stream",
     "text": [
      "p-value: 0.11813101981472263\n",
      "We can't reject the null hypothesis\n"
     ]
    }
   ],
   "source": [
    "# Test hypothesis\n",
    "from scipy import stats as st\n",
    "import numpy as np\n",
    "\n",
    "action = data1.query('genre == \"action\"')\n",
    "sports = data1.query('genre == \"sports\"')\n",
    "\n",
    "#set alpha\n",
    "alpha = 0.05\n",
    "\n",
    "#calculate result\n",
    "#results = st.ttest_ind(action, sports)\n",
    "results =  st.ttest_ind(action['user_score'], sports['user_score'], equal_var=False)\n",
    "\n",
    "print('p-value:', results.pvalue)\n",
    "\n",
    "#check our hypothesis\n",
    "if(results.pvalue < alpha):\n",
    "    print('We reject the null hypothesis')\n",
    "else:\n",
    "    print('We can\\'t reject the null hypothesis')"
   ]
  },
  {
   "cell_type": "markdown",
   "metadata": {},
   "source": [
    "## General conclusion¶"
   ]
  },
  {
   "cell_type": "markdown",
   "metadata": {},
   "source": [
    "1.In the data's preparation & exploration stage:\n",
    "\n",
    "- We observed missing values of columns in Dataframe \n",
    "- The most missing values in column 'ctitic_score' and have 51% of misslingness.\n",
    "- Type of missing data is MAP\n",
    "\n",
    "2.In the data transformation and data-cleaning process stage:\n",
    "\n",
    "- Data in columns 'critic_score' and 'user_score' are quantitative variables. Missing values for such variables are filled in with representative values (median)\n",
    "- Data in colums 'name', 'genre' are qualitative removed by method dropna() and column 'rating' replaced with str'undentify'\n",
    "- All dataset have different type of register so transformed to lowercase register\n",
    "- Missing values in colum 'year_of_release'was imputed with median and   converted to int type\n",
    "- The new column 'total_sale' was created using culculation of sales all regions\n",
    "\n",
    "\n",
    "3.In analysis stage to answer our questions we got next conclusion:\n",
    "- We looked at how many games were released in different years. There is no significant for every period.\n",
    "- The sales varied from platform to platform. The greatest total sales showed 1-ps2, 2-x360, 3-ps3, 4-wii, 5- ds based on data distribution bar chart for each year.\n",
    "- The  all top 5 paltform showed intermedia trend. The sales goes up and then goes down\n",
    "- it generally take 5 years for new platforms to appear and old ones to fade\n",
    "- We observe data for period 2016 and selected potentially profitable platforms 'PS4' and 'XONE'\n",
    "- There is “moderate” correlation between critic score and sales and  negetive corralation between user score and sales\n",
    "- The most profitable genres 1)shooter, 2)role_playing and 3)action\n",
    "- by Testing the hypothesis that the average user ratings of the Xbox One and PC platforms are differ and no equal(not same)\n",
    "- by testing the hypothesis that average user ratings for the Action and Sports genres are not diier and equal(same)"
   ]
  },
  {
   "cell_type": "code",
   "execution_count": null,
   "metadata": {},
   "outputs": [],
   "source": []
  }
 ],
 "metadata": {
  "ExecuteTimeLog": [
   {
    "duration": 1475,
    "start_time": "2022-03-11T03:16:24.916Z"
   },
   {
    "duration": 2341,
    "start_time": "2022-03-11T03:19:46.194Z"
   },
   {
    "duration": 2585,
    "start_time": "2022-03-11T03:33:29.991Z"
   },
   {
    "duration": 1420,
    "start_time": "2022-03-11T03:34:37.566Z"
   },
   {
    "duration": 48,
    "start_time": "2022-03-11T03:35:25.324Z"
   },
   {
    "duration": 34,
    "start_time": "2022-03-11T03:35:40.865Z"
   },
   {
    "duration": 49,
    "start_time": "2022-03-11T03:40:07.174Z"
   },
   {
    "duration": 108,
    "start_time": "2022-03-11T03:52:33.352Z"
   },
   {
    "duration": 385,
    "start_time": "2022-03-11T03:57:14.454Z"
   },
   {
    "duration": 315,
    "start_time": "2022-03-11T03:57:22.474Z"
   },
   {
    "duration": 1452,
    "start_time": "2022-03-11T03:57:29.562Z"
   },
   {
    "duration": 48,
    "start_time": "2022-03-11T03:57:32.402Z"
   },
   {
    "duration": 32,
    "start_time": "2022-03-11T03:57:40.888Z"
   },
   {
    "duration": 17,
    "start_time": "2022-03-11T03:58:08.788Z"
   },
   {
    "duration": 23,
    "start_time": "2022-03-11T03:58:43.106Z"
   },
   {
    "duration": 15,
    "start_time": "2022-03-11T03:59:22.368Z"
   },
   {
    "duration": 398,
    "start_time": "2022-03-11T04:07:14.772Z"
   },
   {
    "duration": 42,
    "start_time": "2022-03-11T04:25:52.844Z"
   },
   {
    "duration": 4,
    "start_time": "2022-03-11T04:32:01.915Z"
   },
   {
    "duration": 28,
    "start_time": "2022-03-11T04:32:27.116Z"
   },
   {
    "duration": 12,
    "start_time": "2022-03-11T04:35:35.870Z"
   },
   {
    "duration": 19,
    "start_time": "2022-03-11T04:37:35.460Z"
   },
   {
    "duration": 17,
    "start_time": "2022-03-11T04:48:37.484Z"
   },
   {
    "duration": 357,
    "start_time": "2022-03-11T04:49:51.327Z"
   },
   {
    "duration": 110,
    "start_time": "2022-03-11T04:51:27.103Z"
   },
   {
    "duration": 8,
    "start_time": "2022-03-11T04:51:37.842Z"
   },
   {
    "duration": 343,
    "start_time": "2022-03-11T04:53:00.606Z"
   },
   {
    "duration": 343,
    "start_time": "2022-03-11T04:53:24.344Z"
   },
   {
    "duration": 332,
    "start_time": "2022-03-11T04:55:19.244Z"
   },
   {
    "duration": 18,
    "start_time": "2022-03-11T04:56:14.224Z"
   },
   {
    "duration": 8,
    "start_time": "2022-03-11T04:58:00.998Z"
   },
   {
    "duration": 354,
    "start_time": "2022-03-11T04:59:41.922Z"
   },
   {
    "duration": 11,
    "start_time": "2022-03-11T04:59:53.283Z"
   },
   {
    "duration": 10,
    "start_time": "2022-03-11T05:00:11.228Z"
   },
   {
    "duration": 340,
    "start_time": "2022-03-11T05:03:14.296Z"
   },
   {
    "duration": 7,
    "start_time": "2022-03-11T05:03:24.312Z"
   },
   {
    "duration": 10,
    "start_time": "2022-03-11T05:04:53.125Z"
   },
   {
    "duration": 3,
    "start_time": "2022-03-11T05:07:40.390Z"
   },
   {
    "duration": 10,
    "start_time": "2022-03-11T05:19:34.944Z"
   },
   {
    "duration": 11,
    "start_time": "2022-03-11T05:20:52.049Z"
   },
   {
    "duration": 7,
    "start_time": "2022-03-11T05:22:33.947Z"
   },
   {
    "duration": 9,
    "start_time": "2022-03-11T05:22:50.469Z"
   },
   {
    "duration": 10,
    "start_time": "2022-03-11T05:23:16.189Z"
   },
   {
    "duration": 20,
    "start_time": "2022-03-11T05:25:45.323Z"
   },
   {
    "duration": 8,
    "start_time": "2022-03-11T05:26:40.407Z"
   },
   {
    "duration": 5,
    "start_time": "2022-03-11T05:42:02.779Z"
   },
   {
    "duration": 13,
    "start_time": "2022-03-11T05:42:06.466Z"
   },
   {
    "duration": 16,
    "start_time": "2022-03-11T05:42:32.361Z"
   },
   {
    "duration": 14,
    "start_time": "2022-03-11T05:42:44.970Z"
   },
   {
    "duration": 11,
    "start_time": "2022-03-11T05:42:55.654Z"
   },
   {
    "duration": 5,
    "start_time": "2022-03-11T05:43:01.676Z"
   },
   {
    "duration": 6,
    "start_time": "2022-03-11T05:43:16.990Z"
   },
   {
    "duration": 3,
    "start_time": "2022-03-11T05:48:50.169Z"
   },
   {
    "duration": 8,
    "start_time": "2022-03-11T05:48:55.776Z"
   },
   {
    "duration": 37,
    "start_time": "2022-03-11T05:50:44.962Z"
   },
   {
    "duration": 115,
    "start_time": "2022-03-11T05:53:08.634Z"
   },
   {
    "duration": 9,
    "start_time": "2022-03-11T05:53:22.588Z"
   },
   {
    "duration": 15,
    "start_time": "2022-03-11T05:54:17.034Z"
   },
   {
    "duration": 10,
    "start_time": "2022-03-11T05:54:41.191Z"
   },
   {
    "duration": 335,
    "start_time": "2022-03-11T05:59:10.410Z"
   },
   {
    "duration": 16,
    "start_time": "2022-03-11T05:59:23.689Z"
   },
   {
    "duration": 8037,
    "start_time": "2022-03-11T05:59:30.590Z"
   },
   {
    "duration": 9,
    "start_time": "2022-03-11T06:00:19.200Z"
   },
   {
    "duration": 417,
    "start_time": "2022-03-11T06:00:36.188Z"
   },
   {
    "duration": 7,
    "start_time": "2022-03-11T06:00:48.714Z"
   },
   {
    "duration": 10,
    "start_time": "2022-03-11T06:03:46.018Z"
   },
   {
    "duration": 10700,
    "start_time": "2022-03-11T06:09:14.868Z"
   },
   {
    "duration": 31,
    "start_time": "2022-03-11T06:09:28.477Z"
   },
   {
    "duration": 606,
    "start_time": "2022-03-11T06:12:18.032Z"
   },
   {
    "duration": 22,
    "start_time": "2022-03-11T06:12:45.335Z"
   },
   {
    "duration": 21,
    "start_time": "2022-03-11T06:14:26.185Z"
   },
   {
    "duration": 13,
    "start_time": "2022-03-11T06:14:46.316Z"
   },
   {
    "duration": 15,
    "start_time": "2022-03-11T06:18:25.976Z"
   },
   {
    "duration": 15,
    "start_time": "2022-03-11T06:19:02.266Z"
   },
   {
    "duration": 335,
    "start_time": "2022-03-11T06:19:54.018Z"
   },
   {
    "duration": 19,
    "start_time": "2022-03-11T06:19:58.234Z"
   },
   {
    "duration": 202,
    "start_time": "2022-03-11T23:28:04.671Z"
   },
   {
    "duration": 1031,
    "start_time": "2022-03-11T23:29:01.353Z"
   },
   {
    "duration": 3,
    "start_time": "2022-03-11T23:29:05.921Z"
   },
   {
    "duration": 39,
    "start_time": "2022-03-11T23:29:05.927Z"
   },
   {
    "duration": 16,
    "start_time": "2022-03-11T23:29:05.967Z"
   },
   {
    "duration": 15,
    "start_time": "2022-03-11T23:29:05.985Z"
   },
   {
    "duration": 8,
    "start_time": "2022-03-11T23:29:06.002Z"
   },
   {
    "duration": 29,
    "start_time": "2022-03-11T23:29:06.012Z"
   },
   {
    "duration": 28,
    "start_time": "2022-03-11T23:29:06.043Z"
   },
   {
    "duration": 3,
    "start_time": "2022-03-11T23:29:06.073Z"
   },
   {
    "duration": 20,
    "start_time": "2022-03-11T23:29:06.077Z"
   },
   {
    "duration": 39,
    "start_time": "2022-03-11T23:29:06.100Z"
   },
   {
    "duration": 6,
    "start_time": "2022-03-11T23:29:06.141Z"
   },
   {
    "duration": 13,
    "start_time": "2022-03-11T23:29:06.148Z"
   },
   {
    "duration": 4,
    "start_time": "2022-03-11T23:29:06.163Z"
   },
   {
    "duration": 12,
    "start_time": "2022-03-11T23:29:06.169Z"
   },
   {
    "duration": 7,
    "start_time": "2022-03-11T23:29:06.183Z"
   },
   {
    "duration": 4,
    "start_time": "2022-03-11T23:29:06.191Z"
   },
   {
    "duration": 39,
    "start_time": "2022-03-11T23:29:06.196Z"
   },
   {
    "duration": 5,
    "start_time": "2022-03-11T23:29:06.236Z"
   },
   {
    "duration": 11,
    "start_time": "2022-03-11T23:29:06.243Z"
   },
   {
    "duration": 6,
    "start_time": "2022-03-11T23:29:06.256Z"
   },
   {
    "duration": 5,
    "start_time": "2022-03-11T23:29:06.263Z"
   },
   {
    "duration": 12,
    "start_time": "2022-03-11T23:29:06.269Z"
   },
   {
    "duration": 53,
    "start_time": "2022-03-11T23:29:06.282Z"
   },
   {
    "duration": 4,
    "start_time": "2022-03-11T23:29:06.336Z"
   },
   {
    "duration": 5,
    "start_time": "2022-03-11T23:29:06.342Z"
   },
   {
    "duration": 13,
    "start_time": "2022-03-11T23:29:25.677Z"
   },
   {
    "duration": 9,
    "start_time": "2022-03-11T23:33:25.644Z"
   },
   {
    "duration": 12,
    "start_time": "2022-03-11T23:33:33.717Z"
   },
   {
    "duration": 7,
    "start_time": "2022-03-11T23:38:49.275Z"
   },
   {
    "duration": 9,
    "start_time": "2022-03-11T23:40:58.344Z"
   },
   {
    "duration": 4169,
    "start_time": "2022-03-11T23:42:13.427Z"
   },
   {
    "duration": 10,
    "start_time": "2022-03-11T23:42:54.100Z"
   },
   {
    "duration": 13,
    "start_time": "2022-03-11T23:50:02.887Z"
   },
   {
    "duration": 12,
    "start_time": "2022-03-11T23:57:55.653Z"
   },
   {
    "duration": 453,
    "start_time": "2022-03-11T23:58:53.862Z"
   },
   {
    "duration": 3,
    "start_time": "2022-03-12T00:00:01.610Z"
   },
   {
    "duration": 179,
    "start_time": "2022-03-12T00:04:24.604Z"
   },
   {
    "duration": 7,
    "start_time": "2022-03-12T00:04:40.053Z"
   },
   {
    "duration": 6,
    "start_time": "2022-03-12T00:04:49.662Z"
   },
   {
    "duration": 168,
    "start_time": "2022-03-12T00:08:05.044Z"
   },
   {
    "duration": 58,
    "start_time": "2022-03-12T00:08:18.646Z"
   },
   {
    "duration": 9,
    "start_time": "2022-03-12T00:08:24.526Z"
   },
   {
    "duration": 6,
    "start_time": "2022-03-12T00:09:24.654Z"
   },
   {
    "duration": 14,
    "start_time": "2022-03-12T00:10:20.082Z"
   },
   {
    "duration": 8,
    "start_time": "2022-03-12T00:10:32.805Z"
   },
   {
    "duration": 7,
    "start_time": "2022-03-12T00:10:34.633Z"
   },
   {
    "duration": 13,
    "start_time": "2022-03-12T00:10:38.370Z"
   },
   {
    "duration": 4,
    "start_time": "2022-03-12T00:10:41.593Z"
   },
   {
    "duration": 9,
    "start_time": "2022-03-12T00:10:43.654Z"
   },
   {
    "duration": 7,
    "start_time": "2022-03-12T00:10:54.544Z"
   },
   {
    "duration": 180,
    "start_time": "2022-03-12T00:11:58.780Z"
   },
   {
    "duration": 10,
    "start_time": "2022-03-12T00:12:24.631Z"
   },
   {
    "duration": 1018,
    "start_time": "2022-03-12T00:12:38.064Z"
   },
   {
    "duration": 32,
    "start_time": "2022-03-12T00:12:39.084Z"
   },
   {
    "duration": 23,
    "start_time": "2022-03-12T00:12:39.118Z"
   },
   {
    "duration": 10,
    "start_time": "2022-03-12T00:12:39.143Z"
   },
   {
    "duration": 10,
    "start_time": "2022-03-12T00:12:39.155Z"
   },
   {
    "duration": 26,
    "start_time": "2022-03-12T00:12:39.167Z"
   },
   {
    "duration": 3,
    "start_time": "2022-03-12T00:12:39.195Z"
   },
   {
    "duration": 51,
    "start_time": "2022-03-12T00:12:39.199Z"
   },
   {
    "duration": 12,
    "start_time": "2022-03-12T00:12:39.253Z"
   },
   {
    "duration": 5,
    "start_time": "2022-03-12T00:12:39.268Z"
   },
   {
    "duration": 10,
    "start_time": "2022-03-12T00:12:39.274Z"
   },
   {
    "duration": 8,
    "start_time": "2022-03-12T00:12:39.285Z"
   },
   {
    "duration": 45,
    "start_time": "2022-03-12T00:12:39.295Z"
   },
   {
    "duration": 4,
    "start_time": "2022-03-12T00:12:39.342Z"
   },
   {
    "duration": 11,
    "start_time": "2022-03-12T00:12:39.348Z"
   },
   {
    "duration": 7,
    "start_time": "2022-03-12T00:12:39.360Z"
   },
   {
    "duration": 9,
    "start_time": "2022-03-12T00:12:39.368Z"
   },
   {
    "duration": 9,
    "start_time": "2022-03-12T00:12:39.378Z"
   },
   {
    "duration": 5,
    "start_time": "2022-03-12T00:12:39.389Z"
   },
   {
    "duration": 11,
    "start_time": "2022-03-12T00:12:39.396Z"
   },
   {
    "duration": 26,
    "start_time": "2022-03-12T00:12:39.409Z"
   },
   {
    "duration": 13,
    "start_time": "2022-03-12T00:12:39.437Z"
   },
   {
    "duration": 5,
    "start_time": "2022-03-12T00:12:39.452Z"
   },
   {
    "duration": 4,
    "start_time": "2022-03-12T00:12:39.458Z"
   },
   {
    "duration": 8,
    "start_time": "2022-03-12T00:12:39.464Z"
   },
   {
    "duration": 7,
    "start_time": "2022-03-12T00:12:39.474Z"
   },
   {
    "duration": 6,
    "start_time": "2022-03-12T00:12:39.484Z"
   },
   {
    "duration": 43,
    "start_time": "2022-03-12T00:12:39.491Z"
   },
   {
    "duration": 2,
    "start_time": "2022-03-12T00:12:39.536Z"
   },
   {
    "duration": 5,
    "start_time": "2022-03-12T00:13:30.679Z"
   },
   {
    "duration": 9,
    "start_time": "2022-03-12T00:13:36.208Z"
   },
   {
    "duration": 4,
    "start_time": "2022-03-12T00:13:55.846Z"
   },
   {
    "duration": 6,
    "start_time": "2022-03-12T00:14:07.139Z"
   },
   {
    "duration": 9,
    "start_time": "2022-03-12T00:14:14.277Z"
   },
   {
    "duration": 4,
    "start_time": "2022-03-12T00:14:27.947Z"
   },
   {
    "duration": 12,
    "start_time": "2022-03-12T00:17:34.485Z"
   },
   {
    "duration": 6,
    "start_time": "2022-03-12T00:17:46.219Z"
   },
   {
    "duration": 11,
    "start_time": "2022-03-12T00:17:49.868Z"
   },
   {
    "duration": 7,
    "start_time": "2022-03-12T00:17:54.410Z"
   },
   {
    "duration": 13,
    "start_time": "2022-03-12T00:18:02.912Z"
   },
   {
    "duration": 5,
    "start_time": "2022-03-12T00:18:10.900Z"
   },
   {
    "duration": 9,
    "start_time": "2022-03-12T00:18:15.309Z"
   },
   {
    "duration": 8,
    "start_time": "2022-03-12T00:18:50.590Z"
   },
   {
    "duration": 3,
    "start_time": "2022-03-12T00:22:15.534Z"
   },
   {
    "duration": 13,
    "start_time": "2022-03-12T00:22:21.605Z"
   },
   {
    "duration": 11,
    "start_time": "2022-03-12T00:22:35.512Z"
   },
   {
    "duration": 980,
    "start_time": "2022-03-12T00:22:58.598Z"
   },
   {
    "duration": 31,
    "start_time": "2022-03-12T00:22:59.580Z"
   },
   {
    "duration": 20,
    "start_time": "2022-03-12T00:22:59.613Z"
   },
   {
    "duration": 11,
    "start_time": "2022-03-12T00:22:59.635Z"
   },
   {
    "duration": 10,
    "start_time": "2022-03-12T00:22:59.647Z"
   },
   {
    "duration": 26,
    "start_time": "2022-03-12T00:22:59.658Z"
   },
   {
    "duration": 3,
    "start_time": "2022-03-12T00:22:59.685Z"
   },
   {
    "duration": 44,
    "start_time": "2022-03-12T00:22:59.690Z"
   },
   {
    "duration": 11,
    "start_time": "2022-03-12T00:22:59.736Z"
   },
   {
    "duration": 4,
    "start_time": "2022-03-12T00:22:59.749Z"
   },
   {
    "duration": 9,
    "start_time": "2022-03-12T00:22:59.755Z"
   },
   {
    "duration": 8,
    "start_time": "2022-03-12T00:22:59.765Z"
   },
   {
    "duration": 18,
    "start_time": "2022-03-12T00:22:59.774Z"
   },
   {
    "duration": 3,
    "start_time": "2022-03-12T00:22:59.793Z"
   },
   {
    "duration": 38,
    "start_time": "2022-03-12T00:22:59.798Z"
   },
   {
    "duration": 7,
    "start_time": "2022-03-12T00:22:59.838Z"
   },
   {
    "duration": 9,
    "start_time": "2022-03-12T00:22:59.847Z"
   },
   {
    "duration": 8,
    "start_time": "2022-03-12T00:22:59.858Z"
   },
   {
    "duration": 3,
    "start_time": "2022-03-12T00:22:59.868Z"
   },
   {
    "duration": 7,
    "start_time": "2022-03-12T00:22:59.873Z"
   },
   {
    "duration": 5,
    "start_time": "2022-03-12T00:22:59.882Z"
   },
   {
    "duration": 54,
    "start_time": "2022-03-12T00:22:59.889Z"
   },
   {
    "duration": 5,
    "start_time": "2022-03-12T00:22:59.947Z"
   },
   {
    "duration": 5,
    "start_time": "2022-03-12T00:22:59.954Z"
   },
   {
    "duration": 10,
    "start_time": "2022-03-12T00:22:59.961Z"
   },
   {
    "duration": 9,
    "start_time": "2022-03-12T00:22:59.972Z"
   },
   {
    "duration": 8,
    "start_time": "2022-03-12T00:22:59.983Z"
   },
   {
    "duration": 42,
    "start_time": "2022-03-12T00:22:59.992Z"
   },
   {
    "duration": 2,
    "start_time": "2022-03-12T00:23:00.036Z"
   },
   {
    "duration": 5,
    "start_time": "2022-03-12T00:29:02.068Z"
   },
   {
    "duration": 10,
    "start_time": "2022-03-12T00:29:04.686Z"
   },
   {
    "duration": 14,
    "start_time": "2022-03-12T00:31:03.501Z"
   },
   {
    "duration": 5,
    "start_time": "2022-03-12T00:34:10.958Z"
   },
   {
    "duration": 9,
    "start_time": "2022-03-12T00:34:17.258Z"
   },
   {
    "duration": 5,
    "start_time": "2022-03-12T00:36:24.355Z"
   },
   {
    "duration": 260,
    "start_time": "2022-03-12T00:37:12.773Z"
   },
   {
    "duration": 6,
    "start_time": "2022-03-12T00:37:22.013Z"
   },
   {
    "duration": 4,
    "start_time": "2022-03-12T00:37:31.360Z"
   },
   {
    "duration": 4,
    "start_time": "2022-03-12T00:38:35.549Z"
   },
   {
    "duration": 5,
    "start_time": "2022-03-12T00:38:55.779Z"
   },
   {
    "duration": 4,
    "start_time": "2022-03-12T00:39:21.671Z"
   },
   {
    "duration": 4,
    "start_time": "2022-03-12T00:39:24.889Z"
   },
   {
    "duration": 1049,
    "start_time": "2022-03-12T00:40:04.026Z"
   },
   {
    "duration": 33,
    "start_time": "2022-03-12T00:40:05.077Z"
   },
   {
    "duration": 23,
    "start_time": "2022-03-12T00:40:05.112Z"
   },
   {
    "duration": 23,
    "start_time": "2022-03-12T00:40:05.138Z"
   },
   {
    "duration": 10,
    "start_time": "2022-03-12T00:40:05.163Z"
   },
   {
    "duration": 31,
    "start_time": "2022-03-12T00:40:05.175Z"
   },
   {
    "duration": 3,
    "start_time": "2022-03-12T00:40:05.207Z"
   },
   {
    "duration": 21,
    "start_time": "2022-03-12T00:40:05.233Z"
   },
   {
    "duration": 14,
    "start_time": "2022-03-12T00:40:05.256Z"
   },
   {
    "duration": 6,
    "start_time": "2022-03-12T00:40:05.271Z"
   },
   {
    "duration": 13,
    "start_time": "2022-03-12T00:40:05.278Z"
   },
   {
    "duration": 41,
    "start_time": "2022-03-12T00:40:05.293Z"
   },
   {
    "duration": 14,
    "start_time": "2022-03-12T00:40:05.335Z"
   },
   {
    "duration": 8,
    "start_time": "2022-03-12T00:40:05.350Z"
   },
   {
    "duration": 11,
    "start_time": "2022-03-12T00:40:05.360Z"
   },
   {
    "duration": 7,
    "start_time": "2022-03-12T00:40:05.372Z"
   },
   {
    "duration": 9,
    "start_time": "2022-03-12T00:40:05.381Z"
   },
   {
    "duration": 9,
    "start_time": "2022-03-12T00:40:05.392Z"
   },
   {
    "duration": 29,
    "start_time": "2022-03-12T00:40:05.403Z"
   },
   {
    "duration": 9,
    "start_time": "2022-03-12T00:40:05.434Z"
   },
   {
    "duration": 5,
    "start_time": "2022-03-12T00:40:05.444Z"
   },
   {
    "duration": 12,
    "start_time": "2022-03-12T00:40:05.450Z"
   },
   {
    "duration": 6,
    "start_time": "2022-03-12T00:40:05.464Z"
   },
   {
    "duration": 13,
    "start_time": "2022-03-12T00:40:05.471Z"
   },
   {
    "duration": 13,
    "start_time": "2022-03-12T00:40:05.485Z"
   },
   {
    "duration": 34,
    "start_time": "2022-03-12T00:40:05.500Z"
   },
   {
    "duration": 5,
    "start_time": "2022-03-12T00:40:05.536Z"
   },
   {
    "duration": 10,
    "start_time": "2022-03-12T00:40:05.542Z"
   },
   {
    "duration": 6,
    "start_time": "2022-03-12T00:40:05.554Z"
   },
   {
    "duration": 8,
    "start_time": "2022-03-12T00:40:05.561Z"
   },
   {
    "duration": 6,
    "start_time": "2022-03-12T00:40:05.570Z"
   },
   {
    "duration": 5,
    "start_time": "2022-03-12T00:40:05.578Z"
   },
   {
    "duration": 253,
    "start_time": "2022-03-12T00:41:21.621Z"
   },
   {
    "duration": 7,
    "start_time": "2022-03-12T00:42:02.279Z"
   },
   {
    "duration": 11,
    "start_time": "2022-03-12T00:42:58.381Z"
   },
   {
    "duration": 5,
    "start_time": "2022-03-12T00:43:34.601Z"
   },
   {
    "duration": 8,
    "start_time": "2022-03-12T00:43:36.240Z"
   },
   {
    "duration": 2,
    "start_time": "2022-03-12T00:43:45.587Z"
   },
   {
    "duration": 8,
    "start_time": "2022-03-12T00:43:47.536Z"
   },
   {
    "duration": 2,
    "start_time": "2022-03-12T00:44:09.091Z"
   },
   {
    "duration": 5,
    "start_time": "2022-03-12T00:44:11.175Z"
   },
   {
    "duration": 1037,
    "start_time": "2022-03-12T00:44:52.960Z"
   },
   {
    "duration": 42,
    "start_time": "2022-03-12T00:44:54.000Z"
   },
   {
    "duration": 26,
    "start_time": "2022-03-12T00:44:54.045Z"
   },
   {
    "duration": 18,
    "start_time": "2022-03-12T00:44:54.074Z"
   },
   {
    "duration": 16,
    "start_time": "2022-03-12T00:44:54.094Z"
   },
   {
    "duration": 28,
    "start_time": "2022-03-12T00:44:54.132Z"
   },
   {
    "duration": 3,
    "start_time": "2022-03-12T00:44:54.161Z"
   },
   {
    "duration": 19,
    "start_time": "2022-03-12T00:44:54.167Z"
   },
   {
    "duration": 13,
    "start_time": "2022-03-12T00:44:54.188Z"
   },
   {
    "duration": 31,
    "start_time": "2022-03-12T00:44:54.202Z"
   },
   {
    "duration": 9,
    "start_time": "2022-03-12T00:44:54.234Z"
   },
   {
    "duration": 8,
    "start_time": "2022-03-12T00:44:54.244Z"
   },
   {
    "duration": 13,
    "start_time": "2022-03-12T00:44:54.253Z"
   },
   {
    "duration": 6,
    "start_time": "2022-03-12T00:44:54.267Z"
   },
   {
    "duration": 10,
    "start_time": "2022-03-12T00:44:54.274Z"
   },
   {
    "duration": 7,
    "start_time": "2022-03-12T00:44:54.285Z"
   },
   {
    "duration": 10,
    "start_time": "2022-03-12T00:44:54.294Z"
   },
   {
    "duration": 30,
    "start_time": "2022-03-12T00:44:54.305Z"
   },
   {
    "duration": 2,
    "start_time": "2022-03-12T00:44:54.336Z"
   },
   {
    "duration": 7,
    "start_time": "2022-03-12T00:44:54.340Z"
   },
   {
    "duration": 4,
    "start_time": "2022-03-12T00:44:54.348Z"
   },
   {
    "duration": 11,
    "start_time": "2022-03-12T00:44:54.353Z"
   },
   {
    "duration": 5,
    "start_time": "2022-03-12T00:44:54.367Z"
   },
   {
    "duration": 4,
    "start_time": "2022-03-12T00:44:54.374Z"
   },
   {
    "duration": 13,
    "start_time": "2022-03-12T00:44:54.379Z"
   },
   {
    "duration": 2,
    "start_time": "2022-03-12T00:44:54.433Z"
   },
   {
    "duration": 6,
    "start_time": "2022-03-12T00:44:54.437Z"
   },
   {
    "duration": 7,
    "start_time": "2022-03-12T00:44:54.445Z"
   },
   {
    "duration": 6,
    "start_time": "2022-03-12T00:44:54.454Z"
   },
   {
    "duration": 6,
    "start_time": "2022-03-12T00:44:54.461Z"
   },
   {
    "duration": 6,
    "start_time": "2022-03-12T00:44:54.469Z"
   },
   {
    "duration": 2,
    "start_time": "2022-03-12T00:44:54.477Z"
   },
   {
    "duration": 9,
    "start_time": "2022-03-12T00:49:35.037Z"
   },
   {
    "duration": 251,
    "start_time": "2022-03-12T00:57:04.617Z"
   },
   {
    "duration": 185,
    "start_time": "2022-03-12T00:57:38.506Z"
   },
   {
    "duration": 5,
    "start_time": "2022-03-12T00:58:21.041Z"
   },
   {
    "duration": 2,
    "start_time": "2022-03-12T00:59:04.980Z"
   },
   {
    "duration": 169,
    "start_time": "2022-03-12T01:09:27.262Z"
   },
   {
    "duration": 4,
    "start_time": "2022-03-12T01:09:59.632Z"
   },
   {
    "duration": 9,
    "start_time": "2022-03-12T01:10:05.245Z"
   },
   {
    "duration": 4,
    "start_time": "2022-03-12T01:10:45.496Z"
   },
   {
    "duration": 5,
    "start_time": "2022-03-12T01:10:48.937Z"
   },
   {
    "duration": 166,
    "start_time": "2022-03-12T01:45:19.490Z"
   },
   {
    "duration": 168,
    "start_time": "2022-03-12T01:45:31.570Z"
   },
   {
    "duration": 66,
    "start_time": "2022-03-12T01:45:43.149Z"
   },
   {
    "duration": 10,
    "start_time": "2022-03-12T01:46:08.356Z"
   },
   {
    "duration": 5,
    "start_time": "2022-03-12T01:48:15.194Z"
   },
   {
    "duration": 8,
    "start_time": "2022-03-12T01:50:18.619Z"
   },
   {
    "duration": 7,
    "start_time": "2022-03-12T01:51:52.686Z"
   },
   {
    "duration": 188,
    "start_time": "2022-03-12T01:56:21.868Z"
   },
   {
    "duration": 170,
    "start_time": "2022-03-12T01:56:26.408Z"
   },
   {
    "duration": 7,
    "start_time": "2022-03-12T01:56:47.084Z"
   },
   {
    "duration": 10,
    "start_time": "2022-03-12T01:56:54.346Z"
   },
   {
    "duration": 69,
    "start_time": "2022-03-12T01:58:12.254Z"
   },
   {
    "duration": 10,
    "start_time": "2022-03-12T01:58:40.160Z"
   },
   {
    "duration": 7,
    "start_time": "2022-03-12T01:59:57.490Z"
   },
   {
    "duration": 180,
    "start_time": "2022-03-12T02:07:36.053Z"
   },
   {
    "duration": 6,
    "start_time": "2022-03-12T02:07:46.412Z"
   },
   {
    "duration": 5,
    "start_time": "2022-03-12T02:11:28.001Z"
   },
   {
    "duration": 336,
    "start_time": "2022-03-12T02:11:35.062Z"
   },
   {
    "duration": 346,
    "start_time": "2022-03-12T02:12:34.073Z"
   },
   {
    "duration": 292,
    "start_time": "2022-03-12T02:15:23.615Z"
   },
   {
    "duration": 207,
    "start_time": "2022-03-12T02:15:40.363Z"
   },
   {
    "duration": 2,
    "start_time": "2022-03-12T02:15:59.025Z"
   },
   {
    "duration": 1758,
    "start_time": "2022-03-12T02:17:59.076Z"
   },
   {
    "duration": 1823,
    "start_time": "2022-03-12T02:19:07.829Z"
   },
   {
    "duration": 164,
    "start_time": "2022-03-12T02:20:29.484Z"
   },
   {
    "duration": 5,
    "start_time": "2022-03-12T02:20:32.707Z"
   },
   {
    "duration": 164,
    "start_time": "2022-03-12T02:21:50.425Z"
   },
   {
    "duration": 9,
    "start_time": "2022-03-12T02:24:49.453Z"
   },
   {
    "duration": 15,
    "start_time": "2022-03-12T02:25:33.750Z"
   },
   {
    "duration": 12,
    "start_time": "2022-03-12T02:28:06.080Z"
   },
   {
    "duration": 9,
    "start_time": "2022-03-12T02:28:32.422Z"
   },
   {
    "duration": 13,
    "start_time": "2022-03-12T02:28:44.447Z"
   },
   {
    "duration": 5,
    "start_time": "2022-03-12T02:31:03.134Z"
   },
   {
    "duration": 4,
    "start_time": "2022-03-12T02:31:21.621Z"
   },
   {
    "duration": 10,
    "start_time": "2022-03-12T02:31:36.682Z"
   },
   {
    "duration": 1085,
    "start_time": "2022-03-12T02:31:54.317Z"
   },
   {
    "duration": 35,
    "start_time": "2022-03-12T02:31:55.404Z"
   },
   {
    "duration": 16,
    "start_time": "2022-03-12T02:31:55.441Z"
   },
   {
    "duration": 10,
    "start_time": "2022-03-12T02:31:55.459Z"
   },
   {
    "duration": 10,
    "start_time": "2022-03-12T02:31:55.471Z"
   },
   {
    "duration": 55,
    "start_time": "2022-03-12T02:31:55.482Z"
   },
   {
    "duration": 2,
    "start_time": "2022-03-12T02:31:55.539Z"
   },
   {
    "duration": 19,
    "start_time": "2022-03-12T02:31:55.544Z"
   },
   {
    "duration": 14,
    "start_time": "2022-03-12T02:31:55.565Z"
   },
   {
    "duration": 5,
    "start_time": "2022-03-12T02:31:55.581Z"
   },
   {
    "duration": 11,
    "start_time": "2022-03-12T02:31:55.587Z"
   },
   {
    "duration": 35,
    "start_time": "2022-03-12T02:31:55.599Z"
   },
   {
    "duration": 13,
    "start_time": "2022-03-12T02:31:55.635Z"
   },
   {
    "duration": 4,
    "start_time": "2022-03-12T02:31:55.649Z"
   },
   {
    "duration": 10,
    "start_time": "2022-03-12T02:31:55.655Z"
   },
   {
    "duration": 12,
    "start_time": "2022-03-12T02:31:55.667Z"
   },
   {
    "duration": 10,
    "start_time": "2022-03-12T02:31:55.680Z"
   },
   {
    "duration": 10,
    "start_time": "2022-03-12T02:31:55.692Z"
   },
   {
    "duration": 29,
    "start_time": "2022-03-12T02:31:55.703Z"
   },
   {
    "duration": 7,
    "start_time": "2022-03-12T02:31:55.734Z"
   },
   {
    "duration": 5,
    "start_time": "2022-03-12T02:31:55.742Z"
   },
   {
    "duration": 11,
    "start_time": "2022-03-12T02:31:55.748Z"
   },
   {
    "duration": 5,
    "start_time": "2022-03-12T02:31:55.763Z"
   },
   {
    "duration": 4,
    "start_time": "2022-03-12T02:31:55.770Z"
   },
   {
    "duration": 815,
    "start_time": "2022-03-12T02:31:55.776Z"
   },
   {
    "duration": -1404,
    "start_time": "2022-03-12T02:31:57.997Z"
   },
   {
    "duration": -1405,
    "start_time": "2022-03-12T02:31:57.999Z"
   },
   {
    "duration": -1544,
    "start_time": "2022-03-12T02:31:58.139Z"
   },
   {
    "duration": -1556,
    "start_time": "2022-03-12T02:31:58.152Z"
   },
   {
    "duration": -1559,
    "start_time": "2022-03-12T02:31:58.156Z"
   },
   {
    "duration": -1574,
    "start_time": "2022-03-12T02:31:58.172Z"
   },
   {
    "duration": -1594,
    "start_time": "2022-03-12T02:31:58.193Z"
   },
   {
    "duration": -1603,
    "start_time": "2022-03-12T02:31:58.203Z"
   },
   {
    "duration": -1608,
    "start_time": "2022-03-12T02:31:58.209Z"
   },
   {
    "duration": -1618,
    "start_time": "2022-03-12T02:31:58.219Z"
   },
   {
    "duration": -1623,
    "start_time": "2022-03-12T02:31:58.225Z"
   },
   {
    "duration": -1632,
    "start_time": "2022-03-12T02:31:58.235Z"
   },
   {
    "duration": -1634,
    "start_time": "2022-03-12T02:31:58.238Z"
   },
   {
    "duration": -1645,
    "start_time": "2022-03-12T02:31:58.250Z"
   },
   {
    "duration": -1647,
    "start_time": "2022-03-12T02:31:58.253Z"
   },
   {
    "duration": -1649,
    "start_time": "2022-03-12T02:31:58.255Z"
   },
   {
    "duration": -1660,
    "start_time": "2022-03-12T02:31:58.267Z"
   },
   {
    "duration": -1697,
    "start_time": "2022-03-12T02:31:58.305Z"
   },
   {
    "duration": -1711,
    "start_time": "2022-03-12T02:31:58.320Z"
   },
   {
    "duration": -1713,
    "start_time": "2022-03-12T02:31:58.323Z"
   },
   {
    "duration": -1723,
    "start_time": "2022-03-12T02:31:58.334Z"
   },
   {
    "duration": -1725,
    "start_time": "2022-03-12T02:31:58.337Z"
   },
   {
    "duration": -1738,
    "start_time": "2022-03-12T02:31:58.351Z"
   },
   {
    "duration": -1770,
    "start_time": "2022-03-12T02:31:58.384Z"
   },
   {
    "duration": -1774,
    "start_time": "2022-03-12T02:31:58.388Z"
   },
   {
    "duration": 1071,
    "start_time": "2022-03-12T02:32:06.099Z"
   },
   {
    "duration": 35,
    "start_time": "2022-03-12T02:32:07.172Z"
   },
   {
    "duration": 24,
    "start_time": "2022-03-12T02:32:07.209Z"
   },
   {
    "duration": 12,
    "start_time": "2022-03-12T02:32:07.235Z"
   },
   {
    "duration": 11,
    "start_time": "2022-03-12T02:32:07.248Z"
   },
   {
    "duration": 27,
    "start_time": "2022-03-12T02:32:07.261Z"
   },
   {
    "duration": 3,
    "start_time": "2022-03-12T02:32:07.290Z"
   },
   {
    "duration": 47,
    "start_time": "2022-03-12T02:32:07.296Z"
   },
   {
    "duration": 14,
    "start_time": "2022-03-12T02:32:07.345Z"
   },
   {
    "duration": 6,
    "start_time": "2022-03-12T02:32:07.361Z"
   },
   {
    "duration": 10,
    "start_time": "2022-03-12T02:32:07.369Z"
   },
   {
    "duration": 8,
    "start_time": "2022-03-12T02:32:07.380Z"
   },
   {
    "duration": 52,
    "start_time": "2022-03-12T02:32:07.390Z"
   },
   {
    "duration": 4,
    "start_time": "2022-03-12T02:32:07.444Z"
   },
   {
    "duration": 9,
    "start_time": "2022-03-12T02:32:07.450Z"
   },
   {
    "duration": 8,
    "start_time": "2022-03-12T02:32:07.461Z"
   },
   {
    "duration": 10,
    "start_time": "2022-03-12T02:32:07.470Z"
   },
   {
    "duration": 9,
    "start_time": "2022-03-12T02:32:07.481Z"
   },
   {
    "duration": 3,
    "start_time": "2022-03-12T02:32:07.492Z"
   },
   {
    "duration": 42,
    "start_time": "2022-03-12T02:32:07.497Z"
   },
   {
    "duration": 5,
    "start_time": "2022-03-12T02:32:07.541Z"
   },
   {
    "duration": 12,
    "start_time": "2022-03-12T02:32:07.548Z"
   },
   {
    "duration": 7,
    "start_time": "2022-03-12T02:32:07.564Z"
   },
   {
    "duration": 5,
    "start_time": "2022-03-12T02:32:07.573Z"
   },
   {
    "duration": 1099,
    "start_time": "2022-03-12T02:32:07.580Z"
   },
   {
    "duration": -1388,
    "start_time": "2022-03-12T02:32:10.069Z"
   },
   {
    "duration": -1393,
    "start_time": "2022-03-12T02:32:10.075Z"
   },
   {
    "duration": -1394,
    "start_time": "2022-03-12T02:32:10.078Z"
   },
   {
    "duration": -1396,
    "start_time": "2022-03-12T02:32:10.081Z"
   },
   {
    "duration": -1398,
    "start_time": "2022-03-12T02:32:10.085Z"
   },
   {
    "duration": -1400,
    "start_time": "2022-03-12T02:32:10.088Z"
   },
   {
    "duration": -1402,
    "start_time": "2022-03-12T02:32:10.091Z"
   },
   {
    "duration": -1404,
    "start_time": "2022-03-12T02:32:10.095Z"
   },
   {
    "duration": -1406,
    "start_time": "2022-03-12T02:32:10.098Z"
   },
   {
    "duration": -1420,
    "start_time": "2022-03-12T02:32:10.113Z"
   },
   {
    "duration": -1423,
    "start_time": "2022-03-12T02:32:10.118Z"
   },
   {
    "duration": -1425,
    "start_time": "2022-03-12T02:32:10.121Z"
   },
   {
    "duration": -1546,
    "start_time": "2022-03-12T02:32:10.243Z"
   },
   {
    "duration": -1556,
    "start_time": "2022-03-12T02:32:10.255Z"
   },
   {
    "duration": -1558,
    "start_time": "2022-03-12T02:32:10.258Z"
   },
   {
    "duration": -1561,
    "start_time": "2022-03-12T02:32:10.262Z"
   },
   {
    "duration": -1563,
    "start_time": "2022-03-12T02:32:10.266Z"
   },
   {
    "duration": -1567,
    "start_time": "2022-03-12T02:32:10.271Z"
   },
   {
    "duration": -1568,
    "start_time": "2022-03-12T02:32:10.274Z"
   },
   {
    "duration": -1570,
    "start_time": "2022-03-12T02:32:10.277Z"
   },
   {
    "duration": -1572,
    "start_time": "2022-03-12T02:32:10.280Z"
   },
   {
    "duration": -1574,
    "start_time": "2022-03-12T02:32:10.284Z"
   },
   {
    "duration": -1577,
    "start_time": "2022-03-12T02:32:10.288Z"
   },
   {
    "duration": -1579,
    "start_time": "2022-03-12T02:32:10.292Z"
   },
   {
    "duration": -1580,
    "start_time": "2022-03-12T02:32:10.294Z"
   },
   {
    "duration": 3,
    "start_time": "2022-03-12T02:38:57.725Z"
   },
   {
    "duration": 10,
    "start_time": "2022-03-12T02:39:12.103Z"
   },
   {
    "duration": 4,
    "start_time": "2022-03-12T02:39:24.620Z"
   },
   {
    "duration": 12,
    "start_time": "2022-03-12T02:39:29.751Z"
   },
   {
    "duration": 12,
    "start_time": "2022-03-12T02:39:33.204Z"
   },
   {
    "duration": 9,
    "start_time": "2022-03-12T02:50:42.526Z"
   },
   {
    "duration": 10,
    "start_time": "2022-03-12T02:50:46.471Z"
   },
   {
    "duration": 1029,
    "start_time": "2022-03-12T02:51:02.855Z"
   },
   {
    "duration": 32,
    "start_time": "2022-03-12T02:51:03.885Z"
   },
   {
    "duration": 16,
    "start_time": "2022-03-12T02:51:03.919Z"
   },
   {
    "duration": 15,
    "start_time": "2022-03-12T02:51:03.937Z"
   },
   {
    "duration": 11,
    "start_time": "2022-03-12T02:51:03.954Z"
   },
   {
    "duration": 27,
    "start_time": "2022-03-12T02:51:03.966Z"
   },
   {
    "duration": 3,
    "start_time": "2022-03-12T02:51:03.994Z"
   },
   {
    "duration": 44,
    "start_time": "2022-03-12T02:51:03.999Z"
   },
   {
    "duration": 12,
    "start_time": "2022-03-12T02:51:04.046Z"
   },
   {
    "duration": 12,
    "start_time": "2022-03-12T02:51:04.060Z"
   },
   {
    "duration": 8,
    "start_time": "2022-03-12T02:51:04.074Z"
   },
   {
    "duration": 9,
    "start_time": "2022-03-12T02:51:04.083Z"
   },
   {
    "duration": 9,
    "start_time": "2022-03-12T02:51:04.094Z"
   },
   {
    "duration": 30,
    "start_time": "2022-03-12T02:51:04.105Z"
   },
   {
    "duration": 15,
    "start_time": "2022-03-12T02:51:04.137Z"
   },
   {
    "duration": 8,
    "start_time": "2022-03-12T02:51:04.154Z"
   },
   {
    "duration": 11,
    "start_time": "2022-03-12T02:51:04.164Z"
   },
   {
    "duration": 13,
    "start_time": "2022-03-12T02:51:04.176Z"
   },
   {
    "duration": 8,
    "start_time": "2022-03-12T02:51:04.190Z"
   },
   {
    "duration": 8,
    "start_time": "2022-03-12T02:51:04.199Z"
   },
   {
    "duration": 3,
    "start_time": "2022-03-12T02:51:04.209Z"
   },
   {
    "duration": 11,
    "start_time": "2022-03-12T02:51:04.232Z"
   },
   {
    "duration": 6,
    "start_time": "2022-03-12T02:51:04.246Z"
   },
   {
    "duration": 8,
    "start_time": "2022-03-12T02:51:04.254Z"
   },
   {
    "duration": 8,
    "start_time": "2022-03-12T02:51:04.263Z"
   },
   {
    "duration": 12,
    "start_time": "2022-03-12T02:51:04.272Z"
   },
   {
    "duration": 15,
    "start_time": "2022-03-12T02:51:04.286Z"
   },
   {
    "duration": 9,
    "start_time": "2022-03-12T02:51:04.302Z"
   },
   {
    "duration": 22,
    "start_time": "2022-03-12T02:51:04.312Z"
   },
   {
    "duration": 7,
    "start_time": "2022-03-12T02:51:04.336Z"
   },
   {
    "duration": 5,
    "start_time": "2022-03-12T02:51:04.344Z"
   },
   {
    "duration": 7,
    "start_time": "2022-03-12T02:51:04.350Z"
   },
   {
    "duration": 6,
    "start_time": "2022-03-12T02:51:04.359Z"
   },
   {
    "duration": 7,
    "start_time": "2022-03-12T02:51:04.366Z"
   },
   {
    "duration": 94,
    "start_time": "2022-03-12T02:51:04.374Z"
   },
   {
    "duration": 7,
    "start_time": "2022-03-12T02:51:04.470Z"
   },
   {
    "duration": 9,
    "start_time": "2022-03-12T02:51:04.479Z"
   },
   {
    "duration": 7,
    "start_time": "2022-03-12T02:51:04.489Z"
   },
   {
    "duration": 11,
    "start_time": "2022-03-12T02:51:04.497Z"
   },
   {
    "duration": 88,
    "start_time": "2022-03-12T02:51:04.510Z"
   },
   {
    "duration": 7,
    "start_time": "2022-03-12T02:51:04.600Z"
   },
   {
    "duration": 25,
    "start_time": "2022-03-12T02:51:04.609Z"
   },
   {
    "duration": 5,
    "start_time": "2022-03-12T02:51:04.636Z"
   },
   {
    "duration": 180,
    "start_time": "2022-03-12T02:51:04.643Z"
   },
   {
    "duration": 10,
    "start_time": "2022-03-12T02:51:04.824Z"
   },
   {
    "duration": 19,
    "start_time": "2022-03-12T02:51:04.836Z"
   },
   {
    "duration": 8,
    "start_time": "2022-03-12T02:51:04.856Z"
   },
   {
    "duration": 4,
    "start_time": "2022-03-12T02:51:04.866Z"
   },
   {
    "duration": 13,
    "start_time": "2022-03-12T02:51:04.872Z"
   },
   {
    "duration": 13,
    "start_time": "2022-03-12T02:51:04.886Z"
   },
   {
    "duration": 5,
    "start_time": "2022-03-12T02:54:43.299Z"
   },
   {
    "duration": 61,
    "start_time": "2022-03-12T03:09:24.310Z"
   },
   {
    "duration": 4496,
    "start_time": "2022-03-12T03:13:34.510Z"
   },
   {
    "duration": 3,
    "start_time": "2022-03-12T03:14:07.211Z"
   },
   {
    "duration": 4,
    "start_time": "2022-03-12T03:15:42.630Z"
   },
   {
    "duration": 5,
    "start_time": "2022-03-12T03:15:57.584Z"
   },
   {
    "duration": 5,
    "start_time": "2022-03-12T03:16:03.553Z"
   },
   {
    "duration": 4,
    "start_time": "2022-03-12T03:28:13.241Z"
   },
   {
    "duration": 7,
    "start_time": "2022-03-12T03:31:40.106Z"
   },
   {
    "duration": 7,
    "start_time": "2022-03-12T03:31:44.783Z"
   },
   {
    "duration": 7,
    "start_time": "2022-03-12T03:32:02.227Z"
   },
   {
    "duration": 1048,
    "start_time": "2022-03-12T03:32:26.134Z"
   },
   {
    "duration": 37,
    "start_time": "2022-03-12T03:32:27.183Z"
   },
   {
    "duration": 16,
    "start_time": "2022-03-12T03:32:27.222Z"
   },
   {
    "duration": 11,
    "start_time": "2022-03-12T03:32:27.239Z"
   },
   {
    "duration": 9,
    "start_time": "2022-03-12T03:32:27.252Z"
   },
   {
    "duration": 25,
    "start_time": "2022-03-12T03:32:27.263Z"
   },
   {
    "duration": 3,
    "start_time": "2022-03-12T03:32:27.289Z"
   },
   {
    "duration": 43,
    "start_time": "2022-03-12T03:32:27.294Z"
   },
   {
    "duration": 13,
    "start_time": "2022-03-12T03:32:27.339Z"
   },
   {
    "duration": 12,
    "start_time": "2022-03-12T03:32:27.353Z"
   },
   {
    "duration": 7,
    "start_time": "2022-03-12T03:32:27.366Z"
   },
   {
    "duration": 13,
    "start_time": "2022-03-12T03:32:27.375Z"
   },
   {
    "duration": 11,
    "start_time": "2022-03-12T03:32:27.390Z"
   },
   {
    "duration": 13,
    "start_time": "2022-03-12T03:32:27.403Z"
   },
   {
    "duration": 9,
    "start_time": "2022-03-12T03:32:27.432Z"
   },
   {
    "duration": 7,
    "start_time": "2022-03-12T03:32:27.442Z"
   },
   {
    "duration": 8,
    "start_time": "2022-03-12T03:32:27.450Z"
   },
   {
    "duration": 6,
    "start_time": "2022-03-12T03:32:27.459Z"
   },
   {
    "duration": 6,
    "start_time": "2022-03-12T03:32:27.466Z"
   },
   {
    "duration": 4,
    "start_time": "2022-03-12T03:32:27.474Z"
   },
   {
    "duration": 10,
    "start_time": "2022-03-12T03:32:27.479Z"
   },
   {
    "duration": 43,
    "start_time": "2022-03-12T03:32:27.490Z"
   },
   {
    "duration": 4,
    "start_time": "2022-03-12T03:32:27.536Z"
   },
   {
    "duration": 5,
    "start_time": "2022-03-12T03:32:27.542Z"
   },
   {
    "duration": 7,
    "start_time": "2022-03-12T03:32:27.548Z"
   },
   {
    "duration": 12,
    "start_time": "2022-03-12T03:32:27.556Z"
   },
   {
    "duration": 4,
    "start_time": "2022-03-12T03:32:27.569Z"
   },
   {
    "duration": 6,
    "start_time": "2022-03-12T03:32:27.575Z"
   },
   {
    "duration": 9,
    "start_time": "2022-03-12T03:32:27.583Z"
   },
   {
    "duration": 7,
    "start_time": "2022-03-12T03:32:27.594Z"
   },
   {
    "duration": 11,
    "start_time": "2022-03-12T03:32:27.633Z"
   },
   {
    "duration": 7,
    "start_time": "2022-03-12T03:32:27.646Z"
   },
   {
    "duration": 80,
    "start_time": "2022-03-12T03:32:27.655Z"
   },
   {
    "duration": 10,
    "start_time": "2022-03-12T03:32:27.736Z"
   },
   {
    "duration": 9,
    "start_time": "2022-03-12T03:32:27.748Z"
   },
   {
    "duration": 8,
    "start_time": "2022-03-12T03:32:27.759Z"
   },
   {
    "duration": 11,
    "start_time": "2022-03-12T03:32:27.769Z"
   },
   {
    "duration": 104,
    "start_time": "2022-03-12T03:32:27.782Z"
   },
   {
    "duration": 7,
    "start_time": "2022-03-12T03:32:27.888Z"
   },
   {
    "duration": 6,
    "start_time": "2022-03-12T03:32:27.896Z"
   },
   {
    "duration": 7,
    "start_time": "2022-03-12T03:32:27.904Z"
   },
   {
    "duration": 182,
    "start_time": "2022-03-12T03:32:27.912Z"
   },
   {
    "duration": 5,
    "start_time": "2022-03-12T03:32:28.095Z"
   },
   {
    "duration": 19,
    "start_time": "2022-03-12T03:32:28.101Z"
   },
   {
    "duration": 9,
    "start_time": "2022-03-12T03:32:28.132Z"
   },
   {
    "duration": 4,
    "start_time": "2022-03-12T03:32:28.142Z"
   },
   {
    "duration": 15,
    "start_time": "2022-03-12T03:32:28.147Z"
   },
   {
    "duration": 11,
    "start_time": "2022-03-12T03:32:28.163Z"
   },
   {
    "duration": 349,
    "start_time": "2022-03-12T21:25:45.453Z"
   },
   {
    "duration": 1527,
    "start_time": "2022-03-12T21:25:59.546Z"
   },
   {
    "duration": 41,
    "start_time": "2022-03-12T21:26:01.076Z"
   },
   {
    "duration": 35,
    "start_time": "2022-03-12T21:26:01.120Z"
   },
   {
    "duration": 16,
    "start_time": "2022-03-12T21:26:01.158Z"
   },
   {
    "duration": 18,
    "start_time": "2022-03-12T21:26:01.176Z"
   },
   {
    "duration": 81,
    "start_time": "2022-03-12T21:26:01.196Z"
   },
   {
    "duration": 4,
    "start_time": "2022-03-12T21:26:01.279Z"
   },
   {
    "duration": 36,
    "start_time": "2022-03-12T21:26:01.286Z"
   },
   {
    "duration": 38,
    "start_time": "2022-03-12T21:26:01.326Z"
   },
   {
    "duration": 23,
    "start_time": "2022-03-12T21:26:01.366Z"
   },
   {
    "duration": 14,
    "start_time": "2022-03-12T21:26:01.392Z"
   },
   {
    "duration": 23,
    "start_time": "2022-03-12T21:26:01.408Z"
   },
   {
    "duration": 24,
    "start_time": "2022-03-12T21:26:01.434Z"
   },
   {
    "duration": 16,
    "start_time": "2022-03-12T21:26:01.462Z"
   },
   {
    "duration": 24,
    "start_time": "2022-03-12T21:26:01.481Z"
   },
   {
    "duration": 12,
    "start_time": "2022-03-12T21:26:01.508Z"
   },
   {
    "duration": 41,
    "start_time": "2022-03-12T21:26:01.522Z"
   },
   {
    "duration": 8,
    "start_time": "2022-03-12T21:26:01.566Z"
   },
   {
    "duration": 21,
    "start_time": "2022-03-12T21:26:01.577Z"
   },
   {
    "duration": 8,
    "start_time": "2022-03-12T21:26:01.601Z"
   },
   {
    "duration": 50,
    "start_time": "2022-03-12T21:26:01.611Z"
   },
   {
    "duration": 11,
    "start_time": "2022-03-12T21:26:01.663Z"
   },
   {
    "duration": 11,
    "start_time": "2022-03-12T21:26:01.681Z"
   },
   {
    "duration": 7,
    "start_time": "2022-03-12T21:26:01.696Z"
   },
   {
    "duration": 17,
    "start_time": "2022-03-12T21:26:01.706Z"
   },
   {
    "duration": 19,
    "start_time": "2022-03-12T21:26:01.750Z"
   },
   {
    "duration": 7,
    "start_time": "2022-03-12T21:26:01.773Z"
   },
   {
    "duration": 17,
    "start_time": "2022-03-12T21:26:01.783Z"
   },
   {
    "duration": 20,
    "start_time": "2022-03-12T21:26:01.802Z"
   },
   {
    "duration": 32,
    "start_time": "2022-03-12T21:26:01.824Z"
   },
   {
    "duration": 12,
    "start_time": "2022-03-12T21:26:01.858Z"
   },
   {
    "duration": 11,
    "start_time": "2022-03-12T21:26:01.873Z"
   },
   {
    "duration": 155,
    "start_time": "2022-03-12T21:26:01.887Z"
   },
   {
    "duration": 11,
    "start_time": "2022-03-12T21:26:02.045Z"
   },
   {
    "duration": 19,
    "start_time": "2022-03-12T21:26:02.059Z"
   },
   {
    "duration": 13,
    "start_time": "2022-03-12T21:26:02.080Z"
   },
   {
    "duration": 24,
    "start_time": "2022-03-12T21:26:02.095Z"
   },
   {
    "duration": 142,
    "start_time": "2022-03-12T21:26:02.121Z"
   },
   {
    "duration": 11,
    "start_time": "2022-03-12T21:26:02.265Z"
   },
   {
    "duration": 10,
    "start_time": "2022-03-12T21:26:02.279Z"
   },
   {
    "duration": 22,
    "start_time": "2022-03-12T21:26:02.291Z"
   },
   {
    "duration": 410,
    "start_time": "2022-03-12T21:26:02.315Z"
   },
   {
    "duration": 6,
    "start_time": "2022-03-12T21:26:02.728Z"
   },
   {
    "duration": 33,
    "start_time": "2022-03-12T21:26:02.737Z"
   },
   {
    "duration": 11,
    "start_time": "2022-03-12T21:26:02.773Z"
   },
   {
    "duration": 5,
    "start_time": "2022-03-12T21:26:02.787Z"
   },
   {
    "duration": 57,
    "start_time": "2022-03-12T21:26:02.794Z"
   },
   {
    "duration": 320,
    "start_time": "2022-03-12T21:26:02.853Z"
   },
   {
    "duration": 24,
    "start_time": "2022-03-12T21:26:20.794Z"
   },
   {
    "duration": 31,
    "start_time": "2022-03-12T21:32:31.080Z"
   },
   {
    "duration": 21,
    "start_time": "2022-03-12T21:33:31.623Z"
   },
   {
    "duration": 22,
    "start_time": "2022-03-12T21:33:34.833Z"
   },
   {
    "duration": 1395,
    "start_time": "2022-03-12T21:33:43.601Z"
   },
   {
    "duration": 44,
    "start_time": "2022-03-12T21:33:44.999Z"
   },
   {
    "duration": 27,
    "start_time": "2022-03-12T21:33:45.050Z"
   },
   {
    "duration": 16,
    "start_time": "2022-03-12T21:33:45.079Z"
   },
   {
    "duration": 14,
    "start_time": "2022-03-12T21:33:45.098Z"
   },
   {
    "duration": 76,
    "start_time": "2022-03-12T21:33:45.114Z"
   },
   {
    "duration": 4,
    "start_time": "2022-03-12T21:33:45.192Z"
   },
   {
    "duration": 57,
    "start_time": "2022-03-12T21:33:45.200Z"
   },
   {
    "duration": 19,
    "start_time": "2022-03-12T21:33:45.260Z"
   },
   {
    "duration": 18,
    "start_time": "2022-03-12T21:33:45.282Z"
   },
   {
    "duration": 8,
    "start_time": "2022-03-12T21:33:45.303Z"
   },
   {
    "duration": 42,
    "start_time": "2022-03-12T21:33:45.313Z"
   },
   {
    "duration": 10,
    "start_time": "2022-03-12T21:33:45.357Z"
   },
   {
    "duration": 6,
    "start_time": "2022-03-12T21:33:45.369Z"
   },
   {
    "duration": 12,
    "start_time": "2022-03-12T21:33:45.377Z"
   },
   {
    "duration": 9,
    "start_time": "2022-03-12T21:33:45.392Z"
   },
   {
    "duration": 56,
    "start_time": "2022-03-12T21:33:45.404Z"
   },
   {
    "duration": 8,
    "start_time": "2022-03-12T21:33:45.462Z"
   },
   {
    "duration": 9,
    "start_time": "2022-03-12T21:33:45.473Z"
   },
   {
    "duration": 6,
    "start_time": "2022-03-12T21:33:45.485Z"
   },
   {
    "duration": 60,
    "start_time": "2022-03-12T21:33:45.494Z"
   },
   {
    "duration": 9,
    "start_time": "2022-03-12T21:33:45.556Z"
   },
   {
    "duration": 6,
    "start_time": "2022-03-12T21:33:45.571Z"
   },
   {
    "duration": 5,
    "start_time": "2022-03-12T21:33:45.580Z"
   },
   {
    "duration": 10,
    "start_time": "2022-03-12T21:33:45.588Z"
   },
   {
    "duration": 64,
    "start_time": "2022-03-12T21:33:45.600Z"
   },
   {
    "duration": 9,
    "start_time": "2022-03-12T21:33:45.666Z"
   },
   {
    "duration": 9,
    "start_time": "2022-03-12T21:33:45.677Z"
   },
   {
    "duration": 15,
    "start_time": "2022-03-12T21:33:45.688Z"
   },
   {
    "duration": 10,
    "start_time": "2022-03-12T21:33:45.706Z"
   },
   {
    "duration": 35,
    "start_time": "2022-03-12T21:33:45.718Z"
   },
   {
    "duration": 11,
    "start_time": "2022-03-12T21:33:45.755Z"
   },
   {
    "duration": 133,
    "start_time": "2022-03-12T21:33:45.768Z"
   },
   {
    "duration": 11,
    "start_time": "2022-03-12T21:33:45.903Z"
   },
   {
    "duration": 11,
    "start_time": "2022-03-12T21:33:45.916Z"
   },
   {
    "duration": 10,
    "start_time": "2022-03-12T21:33:45.951Z"
   },
   {
    "duration": 14,
    "start_time": "2022-03-12T21:33:45.963Z"
   },
   {
    "duration": 134,
    "start_time": "2022-03-12T21:33:45.979Z"
   },
   {
    "duration": 11,
    "start_time": "2022-03-12T21:33:46.115Z"
   },
   {
    "duration": 28,
    "start_time": "2022-03-12T21:33:46.128Z"
   },
   {
    "duration": 8,
    "start_time": "2022-03-12T21:33:46.158Z"
   },
   {
    "duration": 283,
    "start_time": "2022-03-12T21:33:46.168Z"
   },
   {
    "duration": 7,
    "start_time": "2022-03-12T21:33:46.453Z"
   },
   {
    "duration": 22,
    "start_time": "2022-03-12T21:33:46.463Z"
   },
   {
    "duration": 11,
    "start_time": "2022-03-12T21:33:46.488Z"
   },
   {
    "duration": 5,
    "start_time": "2022-03-12T21:33:46.501Z"
   },
   {
    "duration": 60,
    "start_time": "2022-03-12T21:33:46.509Z"
   },
   {
    "duration": 21,
    "start_time": "2022-03-12T21:33:46.572Z"
   },
   {
    "duration": 22,
    "start_time": "2022-03-12T21:33:46.596Z"
   },
   {
    "duration": 32,
    "start_time": "2022-03-12T21:33:46.620Z"
   },
   {
    "duration": 24,
    "start_time": "2022-03-12T21:33:52.795Z"
   },
   {
    "duration": 23,
    "start_time": "2022-03-12T21:33:59.163Z"
   },
   {
    "duration": 34,
    "start_time": "2022-03-12T21:34:10.990Z"
   },
   {
    "duration": 26,
    "start_time": "2022-03-12T21:35:22.576Z"
   },
   {
    "duration": 93,
    "start_time": "2022-03-12T21:36:53.767Z"
   },
   {
    "duration": 393,
    "start_time": "2022-03-12T21:37:01.833Z"
   },
   {
    "duration": 279,
    "start_time": "2022-03-12T21:37:15.858Z"
   },
   {
    "duration": 33,
    "start_time": "2022-03-12T21:38:18.604Z"
   },
   {
    "duration": 23,
    "start_time": "2022-03-12T21:38:48.204Z"
   },
   {
    "duration": 299,
    "start_time": "2022-03-12T21:47:23.356Z"
   },
   {
    "duration": 71,
    "start_time": "2022-03-12T21:48:30.085Z"
   },
   {
    "duration": 279,
    "start_time": "2022-03-12T21:54:04.695Z"
   },
   {
    "duration": 5,
    "start_time": "2022-03-12T21:54:25.372Z"
   },
   {
    "duration": 5,
    "start_time": "2022-03-12T21:54:33.582Z"
   },
   {
    "duration": 6,
    "start_time": "2022-03-12T21:54:47.602Z"
   },
   {
    "duration": 262,
    "start_time": "2022-03-12T21:55:47.952Z"
   },
   {
    "duration": 25,
    "start_time": "2022-03-12T21:56:19.930Z"
   },
   {
    "duration": 42,
    "start_time": "2022-03-12T21:56:50.886Z"
   },
   {
    "duration": 273,
    "start_time": "2022-03-12T21:58:27.701Z"
   },
   {
    "duration": 265,
    "start_time": "2022-03-12T21:58:39.289Z"
   },
   {
    "duration": 1459,
    "start_time": "2022-03-12T21:58:55.848Z"
   },
   {
    "duration": 45,
    "start_time": "2022-03-12T21:58:57.310Z"
   },
   {
    "duration": 25,
    "start_time": "2022-03-12T21:58:57.358Z"
   },
   {
    "duration": 17,
    "start_time": "2022-03-12T21:58:57.386Z"
   },
   {
    "duration": 14,
    "start_time": "2022-03-12T21:58:57.405Z"
   },
   {
    "duration": 70,
    "start_time": "2022-03-12T21:58:57.421Z"
   },
   {
    "duration": 4,
    "start_time": "2022-03-12T21:58:57.494Z"
   },
   {
    "duration": 57,
    "start_time": "2022-03-12T21:58:57.502Z"
   },
   {
    "duration": 17,
    "start_time": "2022-03-12T21:58:57.562Z"
   },
   {
    "duration": 19,
    "start_time": "2022-03-12T21:58:57.581Z"
   },
   {
    "duration": 8,
    "start_time": "2022-03-12T21:58:57.602Z"
   },
   {
    "duration": 49,
    "start_time": "2022-03-12T21:58:57.612Z"
   },
   {
    "duration": 10,
    "start_time": "2022-03-12T21:58:57.663Z"
   },
   {
    "duration": 8,
    "start_time": "2022-03-12T21:58:57.675Z"
   },
   {
    "duration": 16,
    "start_time": "2022-03-12T21:58:57.686Z"
   },
   {
    "duration": 17,
    "start_time": "2022-03-12T21:58:57.705Z"
   },
   {
    "duration": 31,
    "start_time": "2022-03-12T21:58:57.725Z"
   },
   {
    "duration": 8,
    "start_time": "2022-03-12T21:58:57.758Z"
   },
   {
    "duration": 11,
    "start_time": "2022-03-12T21:58:57.768Z"
   },
   {
    "duration": 7,
    "start_time": "2022-03-12T21:58:57.782Z"
   },
   {
    "duration": 63,
    "start_time": "2022-03-12T21:58:57.792Z"
   },
   {
    "duration": 9,
    "start_time": "2022-03-12T21:58:57.858Z"
   },
   {
    "duration": 6,
    "start_time": "2022-03-12T21:58:57.874Z"
   },
   {
    "duration": 5,
    "start_time": "2022-03-12T21:58:57.883Z"
   },
   {
    "duration": 10,
    "start_time": "2022-03-12T21:58:57.890Z"
   },
   {
    "duration": 58,
    "start_time": "2022-03-12T21:58:57.903Z"
   },
   {
    "duration": 4,
    "start_time": "2022-03-12T21:58:57.964Z"
   },
   {
    "duration": 8,
    "start_time": "2022-03-12T21:58:57.971Z"
   },
   {
    "duration": 12,
    "start_time": "2022-03-12T21:58:57.981Z"
   },
   {
    "duration": 7,
    "start_time": "2022-03-12T21:58:57.995Z"
   },
   {
    "duration": 48,
    "start_time": "2022-03-12T21:58:58.005Z"
   },
   {
    "duration": 9,
    "start_time": "2022-03-12T21:58:58.056Z"
   },
   {
    "duration": 132,
    "start_time": "2022-03-12T21:58:58.068Z"
   },
   {
    "duration": 11,
    "start_time": "2022-03-12T21:58:58.202Z"
   },
   {
    "duration": 11,
    "start_time": "2022-03-12T21:58:58.215Z"
   },
   {
    "duration": 30,
    "start_time": "2022-03-12T21:58:58.228Z"
   },
   {
    "duration": 16,
    "start_time": "2022-03-12T21:58:58.260Z"
   },
   {
    "duration": 127,
    "start_time": "2022-03-12T21:58:58.279Z"
   },
   {
    "duration": 11,
    "start_time": "2022-03-12T21:58:58.408Z"
   },
   {
    "duration": 31,
    "start_time": "2022-03-12T21:58:58.421Z"
   },
   {
    "duration": 7,
    "start_time": "2022-03-12T21:58:58.454Z"
   },
   {
    "duration": 288,
    "start_time": "2022-03-12T21:58:58.463Z"
   },
   {
    "duration": 7,
    "start_time": "2022-03-12T21:58:58.753Z"
   },
   {
    "duration": 25,
    "start_time": "2022-03-12T21:58:58.762Z"
   },
   {
    "duration": 12,
    "start_time": "2022-03-12T21:58:58.789Z"
   },
   {
    "duration": 10,
    "start_time": "2022-03-12T21:58:58.803Z"
   },
   {
    "duration": 52,
    "start_time": "2022-03-12T21:58:58.816Z"
   },
   {
    "duration": 25,
    "start_time": "2022-03-12T21:58:58.870Z"
   },
   {
    "duration": 447,
    "start_time": "2022-03-12T21:58:58.898Z"
   },
   {
    "duration": -1476,
    "start_time": "2022-03-12T21:59:00.824Z"
   },
   {
    "duration": -1494,
    "start_time": "2022-03-12T21:59:00.844Z"
   },
   {
    "duration": 22,
    "start_time": "2022-03-12T21:59:37.700Z"
   },
   {
    "duration": 39,
    "start_time": "2022-03-12T21:59:47.937Z"
   },
   {
    "duration": 276,
    "start_time": "2022-03-12T22:00:10.595Z"
   },
   {
    "duration": 27,
    "start_time": "2022-03-12T22:02:22.774Z"
   },
   {
    "duration": 14,
    "start_time": "2022-03-12T22:02:29.305Z"
   },
   {
    "duration": 7,
    "start_time": "2022-03-12T22:03:19.856Z"
   },
   {
    "duration": 59,
    "start_time": "2022-03-12T22:03:37.748Z"
   },
   {
    "duration": 25,
    "start_time": "2022-03-12T22:14:08.798Z"
   },
   {
    "duration": 52,
    "start_time": "2022-03-12T22:15:20.325Z"
   },
   {
    "duration": 54,
    "start_time": "2022-03-12T22:17:36.935Z"
   },
   {
    "duration": 58,
    "start_time": "2022-03-12T22:18:00.050Z"
   },
   {
    "duration": 293,
    "start_time": "2022-03-12T22:18:57.082Z"
   },
   {
    "duration": 59,
    "start_time": "2022-03-12T22:19:06.855Z"
   },
   {
    "duration": 66,
    "start_time": "2022-03-12T22:23:21.856Z"
   },
   {
    "duration": 67,
    "start_time": "2022-03-12T22:23:33.727Z"
   },
   {
    "duration": 1448,
    "start_time": "2022-03-12T22:24:32.908Z"
   },
   {
    "duration": 42,
    "start_time": "2022-03-12T22:24:34.359Z"
   },
   {
    "duration": 25,
    "start_time": "2022-03-12T22:24:34.404Z"
   },
   {
    "duration": 31,
    "start_time": "2022-03-12T22:24:34.432Z"
   },
   {
    "duration": 15,
    "start_time": "2022-03-12T22:24:34.465Z"
   },
   {
    "duration": 88,
    "start_time": "2022-03-12T22:24:34.483Z"
   },
   {
    "duration": 4,
    "start_time": "2022-03-12T22:24:34.574Z"
   },
   {
    "duration": 43,
    "start_time": "2022-03-12T22:24:34.583Z"
   },
   {
    "duration": 25,
    "start_time": "2022-03-12T22:24:34.653Z"
   },
   {
    "duration": 26,
    "start_time": "2022-03-12T22:24:34.680Z"
   },
   {
    "duration": 11,
    "start_time": "2022-03-12T22:24:34.708Z"
   },
   {
    "duration": 16,
    "start_time": "2022-03-12T22:24:34.753Z"
   },
   {
    "duration": 13,
    "start_time": "2022-03-12T22:24:34.772Z"
   },
   {
    "duration": 12,
    "start_time": "2022-03-12T22:24:34.788Z"
   },
   {
    "duration": 13,
    "start_time": "2022-03-12T22:24:34.803Z"
   },
   {
    "duration": 39,
    "start_time": "2022-03-12T22:24:34.819Z"
   },
   {
    "duration": 17,
    "start_time": "2022-03-12T22:24:34.861Z"
   },
   {
    "duration": 9,
    "start_time": "2022-03-12T22:24:34.880Z"
   },
   {
    "duration": 10,
    "start_time": "2022-03-12T22:24:34.892Z"
   },
   {
    "duration": 48,
    "start_time": "2022-03-12T22:24:34.905Z"
   },
   {
    "duration": 15,
    "start_time": "2022-03-12T22:24:34.955Z"
   },
   {
    "duration": 8,
    "start_time": "2022-03-12T22:24:34.972Z"
   },
   {
    "duration": 5,
    "start_time": "2022-03-12T22:24:34.986Z"
   },
   {
    "duration": 5,
    "start_time": "2022-03-12T22:24:34.994Z"
   },
   {
    "duration": 55,
    "start_time": "2022-03-12T22:24:35.001Z"
   },
   {
    "duration": 23,
    "start_time": "2022-03-12T22:24:35.059Z"
   },
   {
    "duration": 7,
    "start_time": "2022-03-12T22:24:35.084Z"
   },
   {
    "duration": 9,
    "start_time": "2022-03-12T22:24:35.093Z"
   },
   {
    "duration": 49,
    "start_time": "2022-03-12T22:24:35.104Z"
   },
   {
    "duration": 10,
    "start_time": "2022-03-12T22:24:35.155Z"
   },
   {
    "duration": 9,
    "start_time": "2022-03-12T22:24:35.167Z"
   },
   {
    "duration": 12,
    "start_time": "2022-03-12T22:24:35.178Z"
   },
   {
    "duration": 142,
    "start_time": "2022-03-12T22:24:35.192Z"
   },
   {
    "duration": 19,
    "start_time": "2022-03-12T22:24:35.336Z"
   },
   {
    "duration": 11,
    "start_time": "2022-03-12T22:24:35.358Z"
   },
   {
    "duration": 11,
    "start_time": "2022-03-12T22:24:35.371Z"
   },
   {
    "duration": 14,
    "start_time": "2022-03-12T22:24:35.384Z"
   },
   {
    "duration": 166,
    "start_time": "2022-03-12T22:24:35.400Z"
   },
   {
    "duration": 10,
    "start_time": "2022-03-12T22:24:35.568Z"
   },
   {
    "duration": 9,
    "start_time": "2022-03-12T22:24:35.581Z"
   },
   {
    "duration": 7,
    "start_time": "2022-03-12T22:24:35.592Z"
   },
   {
    "duration": 316,
    "start_time": "2022-03-12T22:24:35.601Z"
   },
   {
    "duration": 6,
    "start_time": "2022-03-12T22:24:35.919Z"
   },
   {
    "duration": 39,
    "start_time": "2022-03-12T22:24:35.927Z"
   },
   {
    "duration": 11,
    "start_time": "2022-03-12T22:24:35.969Z"
   },
   {
    "duration": 5,
    "start_time": "2022-03-12T22:24:35.983Z"
   },
   {
    "duration": 22,
    "start_time": "2022-03-12T22:24:35.991Z"
   },
   {
    "duration": 22,
    "start_time": "2022-03-12T22:24:36.052Z"
   },
   {
    "duration": 24,
    "start_time": "2022-03-12T22:24:36.076Z"
   },
   {
    "duration": 292,
    "start_time": "2022-03-12T22:27:04.300Z"
   },
   {
    "duration": 420,
    "start_time": "2022-03-12T22:33:53.756Z"
   },
   {
    "duration": 86,
    "start_time": "2022-03-12T22:34:18.010Z"
   },
   {
    "duration": 35,
    "start_time": "2022-03-12T22:34:32.342Z"
   },
   {
    "duration": 24,
    "start_time": "2022-03-12T22:35:12.614Z"
   },
   {
    "duration": 35,
    "start_time": "2022-03-12T22:35:23.930Z"
   },
   {
    "duration": 3326,
    "start_time": "2022-03-12T22:39:23.584Z"
   },
   {
    "duration": 296,
    "start_time": "2022-03-12T22:39:54.711Z"
   },
   {
    "duration": 52,
    "start_time": "2022-03-12T22:40:26.688Z"
   },
   {
    "duration": 34,
    "start_time": "2022-03-12T22:41:28.841Z"
   },
   {
    "duration": 35,
    "start_time": "2022-03-12T22:42:26.294Z"
   },
   {
    "duration": 24,
    "start_time": "2022-03-12T22:42:57.848Z"
   },
   {
    "duration": 317,
    "start_time": "2022-03-12T22:43:09.812Z"
   },
   {
    "duration": 37,
    "start_time": "2022-03-12T22:43:20.738Z"
   },
   {
    "duration": 366,
    "start_time": "2022-03-12T22:49:41.083Z"
   },
   {
    "duration": 639,
    "start_time": "2022-03-12T22:49:56.922Z"
   },
   {
    "duration": 11,
    "start_time": "2022-03-12T22:56:35.922Z"
   },
   {
    "duration": 1220,
    "start_time": "2022-03-12T23:11:10.761Z"
   },
   {
    "duration": 386,
    "start_time": "2022-03-12T23:12:30.249Z"
   },
   {
    "duration": 298,
    "start_time": "2022-03-12T23:14:30.606Z"
   },
   {
    "duration": 26,
    "start_time": "2022-03-12T23:15:11.733Z"
   },
   {
    "duration": 249,
    "start_time": "2022-03-12T23:17:36.168Z"
   },
   {
    "duration": 272,
    "start_time": "2022-03-12T23:17:50.061Z"
   },
   {
    "duration": 319,
    "start_time": "2022-03-12T23:27:06.003Z"
   },
   {
    "duration": 321,
    "start_time": "2022-03-12T23:28:54.416Z"
   },
   {
    "duration": 214,
    "start_time": "2022-03-12T23:29:12.423Z"
   },
   {
    "duration": 297,
    "start_time": "2022-03-12T23:42:03.780Z"
   },
   {
    "duration": 284,
    "start_time": "2022-03-12T23:42:14.921Z"
   },
   {
    "duration": 474,
    "start_time": "2022-03-13T00:51:52.226Z"
   },
   {
    "duration": 285,
    "start_time": "2022-03-13T00:55:13.066Z"
   },
   {
    "duration": 471,
    "start_time": "2022-03-13T00:55:23.421Z"
   },
   {
    "duration": 317,
    "start_time": "2022-03-13T00:55:52.416Z"
   },
   {
    "duration": 271,
    "start_time": "2022-03-13T01:04:34.101Z"
   },
   {
    "duration": 343,
    "start_time": "2022-03-13T01:04:41.749Z"
   },
   {
    "duration": 21,
    "start_time": "2022-03-13T01:04:56.232Z"
   },
   {
    "duration": 257,
    "start_time": "2022-03-13T01:06:32.097Z"
   },
   {
    "duration": 254,
    "start_time": "2022-03-13T01:06:40.896Z"
   },
   {
    "duration": 272,
    "start_time": "2022-03-13T01:06:47.627Z"
   },
   {
    "duration": 95,
    "start_time": "2022-03-13T01:06:57.043Z"
   },
   {
    "duration": 22,
    "start_time": "2022-03-13T01:13:02.117Z"
   },
   {
    "duration": 4,
    "start_time": "2022-03-13T01:13:13.565Z"
   },
   {
    "duration": 5,
    "start_time": "2022-03-13T01:13:13.575Z"
   },
   {
    "duration": 44,
    "start_time": "2022-03-13T01:13:13.583Z"
   },
   {
    "duration": 33,
    "start_time": "2022-03-13T01:13:13.630Z"
   },
   {
    "duration": 17,
    "start_time": "2022-03-13T01:13:13.666Z"
   },
   {
    "duration": 12,
    "start_time": "2022-03-13T01:13:13.685Z"
   },
   {
    "duration": 81,
    "start_time": "2022-03-13T01:13:13.699Z"
   },
   {
    "duration": 3,
    "start_time": "2022-03-13T01:13:13.782Z"
   },
   {
    "duration": 32,
    "start_time": "2022-03-13T01:13:13.789Z"
   },
   {
    "duration": 42,
    "start_time": "2022-03-13T01:13:13.824Z"
   },
   {
    "duration": 18,
    "start_time": "2022-03-13T01:13:13.868Z"
   },
   {
    "duration": 7,
    "start_time": "2022-03-13T01:13:13.888Z"
   },
   {
    "duration": 13,
    "start_time": "2022-03-13T01:13:13.897Z"
   },
   {
    "duration": 45,
    "start_time": "2022-03-13T01:13:13.913Z"
   },
   {
    "duration": 5,
    "start_time": "2022-03-13T01:13:13.961Z"
   },
   {
    "duration": 13,
    "start_time": "2022-03-13T01:13:13.969Z"
   },
   {
    "duration": 9,
    "start_time": "2022-03-13T01:13:13.984Z"
   },
   {
    "duration": 10,
    "start_time": "2022-03-13T01:13:13.995Z"
   },
   {
    "duration": 44,
    "start_time": "2022-03-13T01:13:14.008Z"
   },
   {
    "duration": 12,
    "start_time": "2022-03-13T01:13:14.055Z"
   },
   {
    "duration": 6,
    "start_time": "2022-03-13T01:13:14.069Z"
   },
   {
    "duration": 31,
    "start_time": "2022-03-13T01:13:14.077Z"
   },
   {
    "duration": 43,
    "start_time": "2022-03-13T01:13:14.110Z"
   },
   {
    "duration": 6,
    "start_time": "2022-03-13T01:13:14.158Z"
   },
   {
    "duration": 6,
    "start_time": "2022-03-13T01:13:14.166Z"
   },
   {
    "duration": 11,
    "start_time": "2022-03-13T01:13:14.174Z"
   },
   {
    "duration": 18,
    "start_time": "2022-03-13T01:13:14.187Z"
   },
   {
    "duration": 5,
    "start_time": "2022-03-13T01:13:14.207Z"
   },
   {
    "duration": 42,
    "start_time": "2022-03-13T01:13:14.214Z"
   },
   {
    "duration": 12,
    "start_time": "2022-03-13T01:13:14.259Z"
   },
   {
    "duration": 6,
    "start_time": "2022-03-13T01:13:14.273Z"
   },
   {
    "duration": 8,
    "start_time": "2022-03-13T01:13:14.281Z"
   },
   {
    "duration": 10,
    "start_time": "2022-03-13T01:13:14.291Z"
   },
   {
    "duration": 141,
    "start_time": "2022-03-13T01:13:14.303Z"
   },
   {
    "duration": 12,
    "start_time": "2022-03-13T01:13:14.452Z"
   },
   {
    "duration": 10,
    "start_time": "2022-03-13T01:13:14.466Z"
   },
   {
    "duration": 8,
    "start_time": "2022-03-13T01:13:14.479Z"
   },
   {
    "duration": 15,
    "start_time": "2022-03-13T01:13:14.489Z"
   },
   {
    "duration": 147,
    "start_time": "2022-03-13T01:13:14.506Z"
   },
   {
    "duration": 10,
    "start_time": "2022-03-13T01:13:14.656Z"
   },
   {
    "duration": 9,
    "start_time": "2022-03-13T01:13:14.668Z"
   },
   {
    "duration": 7,
    "start_time": "2022-03-13T01:13:14.680Z"
   },
   {
    "duration": 297,
    "start_time": "2022-03-13T01:13:14.689Z"
   },
   {
    "duration": 6,
    "start_time": "2022-03-13T01:13:14.988Z"
   },
   {
    "duration": 22,
    "start_time": "2022-03-13T01:13:14.997Z"
   },
   {
    "duration": 36,
    "start_time": "2022-03-13T01:13:15.022Z"
   },
   {
    "duration": 6,
    "start_time": "2022-03-13T01:13:15.061Z"
   },
   {
    "duration": 24,
    "start_time": "2022-03-13T01:13:15.069Z"
   },
   {
    "duration": 21,
    "start_time": "2022-03-13T01:13:15.096Z"
   },
   {
    "duration": 26,
    "start_time": "2022-03-13T01:13:15.151Z"
   },
   {
    "duration": 35,
    "start_time": "2022-03-13T01:13:15.179Z"
   },
   {
    "duration": 269,
    "start_time": "2022-03-13T01:13:15.216Z"
   },
   {
    "duration": -1598,
    "start_time": "2022-03-13T01:13:17.085Z"
   },
   {
    "duration": -1601,
    "start_time": "2022-03-13T01:13:17.089Z"
   },
   {
    "duration": 329,
    "start_time": "2022-03-13T01:14:00.929Z"
   },
   {
    "duration": 254,
    "start_time": "2022-03-13T01:15:35.536Z"
   },
   {
    "duration": 11,
    "start_time": "2022-03-13T01:15:57.369Z"
   },
   {
    "duration": 410,
    "start_time": "2022-03-13T01:16:26.079Z"
   },
   {
    "duration": 500,
    "start_time": "2022-03-13T01:18:33.688Z"
   },
   {
    "duration": 428,
    "start_time": "2022-03-13T01:18:44.787Z"
   },
   {
    "duration": 550,
    "start_time": "2022-03-13T01:19:07.968Z"
   },
   {
    "duration": 507,
    "start_time": "2022-03-13T01:19:21.002Z"
   },
   {
    "duration": 487,
    "start_time": "2022-03-13T01:19:43.601Z"
   },
   {
    "duration": 474,
    "start_time": "2022-03-13T01:20:09.499Z"
   },
   {
    "duration": 5,
    "start_time": "2022-03-13T01:24:15.117Z"
   },
   {
    "duration": 556,
    "start_time": "2022-03-13T01:25:06.563Z"
   },
   {
    "duration": 493,
    "start_time": "2022-03-13T01:26:11.366Z"
   },
   {
    "duration": 5,
    "start_time": "2022-03-13T01:28:22.796Z"
   },
   {
    "duration": 584,
    "start_time": "2022-03-13T01:28:28.865Z"
   },
   {
    "duration": 522,
    "start_time": "2022-03-13T01:29:42.997Z"
   },
   {
    "duration": 324,
    "start_time": "2022-03-13T01:31:41.285Z"
   },
   {
    "duration": 324,
    "start_time": "2022-03-13T01:32:21.102Z"
   },
   {
    "duration": 519,
    "start_time": "2022-03-13T01:32:48.097Z"
   },
   {
    "duration": 296,
    "start_time": "2022-03-13T01:34:18.160Z"
   },
   {
    "duration": 298,
    "start_time": "2022-03-13T01:34:23.804Z"
   },
   {
    "duration": 306,
    "start_time": "2022-03-13T01:34:26.871Z"
   },
   {
    "duration": 291,
    "start_time": "2022-03-13T01:35:36.272Z"
   },
   {
    "duration": 318,
    "start_time": "2022-03-13T01:35:56.315Z"
   },
   {
    "duration": 327,
    "start_time": "2022-03-13T01:36:28.485Z"
   },
   {
    "duration": 373,
    "start_time": "2022-03-13T01:37:15.924Z"
   },
   {
    "duration": 371,
    "start_time": "2022-03-13T01:37:51.180Z"
   },
   {
    "duration": 387,
    "start_time": "2022-03-13T01:38:12.862Z"
   },
   {
    "duration": 383,
    "start_time": "2022-03-13T01:38:43.405Z"
   },
   {
    "duration": 405,
    "start_time": "2022-03-13T01:38:55.735Z"
   },
   {
    "duration": 20,
    "start_time": "2022-03-13T01:39:14.277Z"
   },
   {
    "duration": 24,
    "start_time": "2022-03-13T01:39:32.161Z"
   },
   {
    "duration": 491,
    "start_time": "2022-03-13T01:40:49.693Z"
   },
   {
    "duration": 478,
    "start_time": "2022-03-13T01:41:38.041Z"
   },
   {
    "duration": 494,
    "start_time": "2022-03-13T01:43:06.136Z"
   },
   {
    "duration": 29,
    "start_time": "2022-03-13T01:43:34.376Z"
   },
   {
    "duration": 678,
    "start_time": "2022-03-13T01:46:04.915Z"
   },
   {
    "duration": 398,
    "start_time": "2022-03-13T01:46:22.095Z"
   },
   {
    "duration": 506,
    "start_time": "2022-03-13T01:46:48.728Z"
   },
   {
    "duration": 8,
    "start_time": "2022-03-13T01:51:16.403Z"
   },
   {
    "duration": 102,
    "start_time": "2022-03-13T01:53:10.213Z"
   },
   {
    "duration": 395,
    "start_time": "2022-03-13T01:53:22.247Z"
   },
   {
    "duration": 98,
    "start_time": "2022-03-13T01:53:42.352Z"
   },
   {
    "duration": 374,
    "start_time": "2022-03-13T01:54:05.385Z"
   },
   {
    "duration": 356,
    "start_time": "2022-03-13T01:54:23.339Z"
   },
   {
    "duration": 363,
    "start_time": "2022-03-13T01:54:43.191Z"
   },
   {
    "duration": 370,
    "start_time": "2022-03-13T01:54:57.643Z"
   },
   {
    "duration": 85,
    "start_time": "2022-03-13T01:57:58.087Z"
   },
   {
    "duration": 89,
    "start_time": "2022-03-13T01:58:09.784Z"
   },
   {
    "duration": 81,
    "start_time": "2022-03-13T01:58:23.525Z"
   },
   {
    "duration": 610,
    "start_time": "2022-03-13T01:58:28.384Z"
   },
   {
    "duration": 383,
    "start_time": "2022-03-13T01:58:57.345Z"
   },
   {
    "duration": 704,
    "start_time": "2022-03-13T02:10:52.094Z"
   },
   {
    "duration": 992,
    "start_time": "2022-03-13T02:11:08.667Z"
   },
   {
    "duration": 799,
    "start_time": "2022-03-13T02:11:21.031Z"
   },
   {
    "duration": 683,
    "start_time": "2022-03-13T02:11:45.867Z"
   },
   {
    "duration": 1009,
    "start_time": "2022-03-13T02:11:52.580Z"
   },
   {
    "duration": 991,
    "start_time": "2022-03-13T02:12:33.902Z"
   },
   {
    "duration": 667,
    "start_time": "2022-03-13T02:12:50.999Z"
   },
   {
    "duration": 1017,
    "start_time": "2022-03-13T02:13:02.821Z"
   },
   {
    "duration": 306,
    "start_time": "2022-03-13T02:14:51.794Z"
   },
   {
    "duration": 19,
    "start_time": "2022-03-13T02:27:59.553Z"
   },
   {
    "duration": 1410,
    "start_time": "2022-03-13T02:28:14.103Z"
   },
   {
    "duration": 8,
    "start_time": "2022-03-13T02:28:15.516Z"
   },
   {
    "duration": 51,
    "start_time": "2022-03-13T02:28:15.527Z"
   },
   {
    "duration": 26,
    "start_time": "2022-03-13T02:28:15.581Z"
   },
   {
    "duration": 16,
    "start_time": "2022-03-13T02:28:15.609Z"
   },
   {
    "duration": 16,
    "start_time": "2022-03-13T02:28:15.651Z"
   },
   {
    "duration": 43,
    "start_time": "2022-03-13T02:28:15.670Z"
   },
   {
    "duration": 4,
    "start_time": "2022-03-13T02:28:15.717Z"
   },
   {
    "duration": 28,
    "start_time": "2022-03-13T02:28:15.752Z"
   },
   {
    "duration": 20,
    "start_time": "2022-03-13T02:28:15.782Z"
   },
   {
    "duration": 49,
    "start_time": "2022-03-13T02:28:15.805Z"
   },
   {
    "duration": 9,
    "start_time": "2022-03-13T02:28:15.856Z"
   },
   {
    "duration": 13,
    "start_time": "2022-03-13T02:28:15.867Z"
   },
   {
    "duration": 10,
    "start_time": "2022-03-13T02:28:15.883Z"
   },
   {
    "duration": 5,
    "start_time": "2022-03-13T02:28:15.896Z"
   },
   {
    "duration": 49,
    "start_time": "2022-03-13T02:28:15.904Z"
   },
   {
    "duration": 10,
    "start_time": "2022-03-13T02:28:15.955Z"
   },
   {
    "duration": 14,
    "start_time": "2022-03-13T02:28:15.967Z"
   },
   {
    "duration": 11,
    "start_time": "2022-03-13T02:28:15.984Z"
   },
   {
    "duration": 10,
    "start_time": "2022-03-13T02:28:15.998Z"
   },
   {
    "duration": 45,
    "start_time": "2022-03-13T02:28:16.010Z"
   },
   {
    "duration": 16,
    "start_time": "2022-03-13T02:28:16.058Z"
   },
   {
    "duration": 8,
    "start_time": "2022-03-13T02:28:16.080Z"
   },
   {
    "duration": 7,
    "start_time": "2022-03-13T02:28:16.091Z"
   },
   {
    "duration": 5,
    "start_time": "2022-03-13T02:28:16.100Z"
   },
   {
    "duration": 52,
    "start_time": "2022-03-13T02:28:16.107Z"
   },
   {
    "duration": 18,
    "start_time": "2022-03-13T02:28:16.161Z"
   },
   {
    "duration": 7,
    "start_time": "2022-03-13T02:28:16.181Z"
   },
   {
    "duration": 8,
    "start_time": "2022-03-13T02:28:16.191Z"
   },
   {
    "duration": 49,
    "start_time": "2022-03-13T02:28:16.202Z"
   },
   {
    "duration": 7,
    "start_time": "2022-03-13T02:28:16.253Z"
   },
   {
    "duration": 10,
    "start_time": "2022-03-13T02:28:16.262Z"
   },
   {
    "duration": 9,
    "start_time": "2022-03-13T02:28:16.274Z"
   },
   {
    "duration": 140,
    "start_time": "2022-03-13T02:28:16.285Z"
   },
   {
    "duration": 11,
    "start_time": "2022-03-13T02:28:16.427Z"
   },
   {
    "duration": 10,
    "start_time": "2022-03-13T02:28:16.452Z"
   },
   {
    "duration": 11,
    "start_time": "2022-03-13T02:28:16.464Z"
   },
   {
    "duration": 14,
    "start_time": "2022-03-13T02:28:16.477Z"
   },
   {
    "duration": 142,
    "start_time": "2022-03-13T02:28:16.493Z"
   },
   {
    "duration": 19,
    "start_time": "2022-03-13T02:28:16.637Z"
   },
   {
    "duration": 10,
    "start_time": "2022-03-13T02:28:16.658Z"
   },
   {
    "duration": 10,
    "start_time": "2022-03-13T02:28:16.670Z"
   },
   {
    "duration": 295,
    "start_time": "2022-03-13T02:28:16.682Z"
   },
   {
    "duration": 7,
    "start_time": "2022-03-13T02:28:16.979Z"
   },
   {
    "duration": 24,
    "start_time": "2022-03-13T02:28:16.989Z"
   },
   {
    "duration": 40,
    "start_time": "2022-03-13T02:28:17.016Z"
   },
   {
    "duration": 6,
    "start_time": "2022-03-13T02:28:17.058Z"
   },
   {
    "duration": 22,
    "start_time": "2022-03-13T02:28:17.066Z"
   },
   {
    "duration": 22,
    "start_time": "2022-03-13T02:28:17.091Z"
   },
   {
    "duration": 1096,
    "start_time": "2022-03-13T02:28:17.115Z"
   },
   {
    "duration": 39,
    "start_time": "2022-03-13T02:28:18.213Z"
   },
   {
    "duration": 540,
    "start_time": "2022-03-13T02:28:18.255Z"
   },
   {
    "duration": 30,
    "start_time": "2022-03-13T02:28:18.797Z"
   },
   {
    "duration": 327,
    "start_time": "2022-03-13T02:28:18.830Z"
   },
   {
    "duration": 451,
    "start_time": "2022-03-13T02:28:19.159Z"
   },
   {
    "duration": 3,
    "start_time": "2022-03-13T02:28:19.612Z"
   },
   {
    "duration": 101,
    "start_time": "2022-03-13T02:28:19.618Z"
   },
   {
    "duration": -1120,
    "start_time": "2022-03-13T02:28:20.841Z"
   },
   {
    "duration": -1129,
    "start_time": "2022-03-13T02:28:20.851Z"
   },
   {
    "duration": -1130,
    "start_time": "2022-03-13T02:28:20.854Z"
   },
   {
    "duration": -1132,
    "start_time": "2022-03-13T02:28:20.857Z"
   },
   {
    "duration": -1132,
    "start_time": "2022-03-13T02:28:20.859Z"
   },
   {
    "duration": 989,
    "start_time": "2022-03-13T02:29:41.325Z"
   },
   {
    "duration": 12,
    "start_time": "2022-03-13T02:31:52.756Z"
   },
   {
    "duration": 553,
    "start_time": "2022-03-13T02:32:03.081Z"
   },
   {
    "duration": 776,
    "start_time": "2022-03-13T02:32:25.675Z"
   },
   {
    "duration": 7,
    "start_time": "2022-03-13T03:12:51.139Z"
   },
   {
    "duration": 32,
    "start_time": "2022-03-13T03:16:10.969Z"
   },
   {
    "duration": 440,
    "start_time": "2022-03-13T03:16:28.035Z"
   },
   {
    "duration": 521,
    "start_time": "2022-03-13T03:16:36.273Z"
   },
   {
    "duration": 378,
    "start_time": "2022-03-13T03:18:49.555Z"
   },
   {
    "duration": 5,
    "start_time": "2022-03-13T03:21:50.145Z"
   },
   {
    "duration": 12,
    "start_time": "2022-03-13T03:22:03.429Z"
   },
   {
    "duration": 16,
    "start_time": "2022-03-13T03:22:33.953Z"
   },
   {
    "duration": 23,
    "start_time": "2022-03-13T03:22:45.693Z"
   },
   {
    "duration": 563,
    "start_time": "2022-03-13T03:23:45.433Z"
   },
   {
    "duration": 404,
    "start_time": "2022-03-13T03:32:53.781Z"
   },
   {
    "duration": 410,
    "start_time": "2022-03-13T03:33:04.385Z"
   },
   {
    "duration": 8,
    "start_time": "2022-03-13T04:23:43.377Z"
   },
   {
    "duration": 280,
    "start_time": "2022-03-13T04:30:39.131Z"
   },
   {
    "duration": 253,
    "start_time": "2022-03-13T04:30:52.327Z"
   },
   {
    "duration": 266,
    "start_time": "2022-03-13T04:31:03.416Z"
   },
   {
    "duration": 8,
    "start_time": "2022-03-13T04:31:19.870Z"
   },
   {
    "duration": 10,
    "start_time": "2022-03-13T04:37:00.512Z"
   },
   {
    "duration": 11,
    "start_time": "2022-03-13T04:37:34.504Z"
   },
   {
    "duration": 11,
    "start_time": "2022-03-13T04:38:25.674Z"
   },
   {
    "duration": 83,
    "start_time": "2022-03-13T04:41:02.879Z"
   },
   {
    "duration": 88,
    "start_time": "2022-03-13T04:41:18.706Z"
   },
   {
    "duration": 32,
    "start_time": "2022-03-13T04:41:33.610Z"
   },
   {
    "duration": 14,
    "start_time": "2022-03-13T04:42:47.461Z"
   },
   {
    "duration": 32,
    "start_time": "2022-03-13T04:42:55.750Z"
   },
   {
    "duration": 215,
    "start_time": "2022-03-14T01:13:17.718Z"
   },
   {
    "duration": 1096,
    "start_time": "2022-03-14T01:13:27.312Z"
   },
   {
    "duration": 6,
    "start_time": "2022-03-14T01:13:28.410Z"
   },
   {
    "duration": 37,
    "start_time": "2022-03-14T01:13:28.418Z"
   },
   {
    "duration": 17,
    "start_time": "2022-03-14T01:13:28.457Z"
   },
   {
    "duration": 11,
    "start_time": "2022-03-14T01:13:28.475Z"
   },
   {
    "duration": 10,
    "start_time": "2022-03-14T01:13:28.487Z"
   },
   {
    "duration": 55,
    "start_time": "2022-03-14T01:13:28.498Z"
   },
   {
    "duration": 2,
    "start_time": "2022-03-14T01:13:28.555Z"
   },
   {
    "duration": 22,
    "start_time": "2022-03-14T01:13:28.560Z"
   },
   {
    "duration": 13,
    "start_time": "2022-03-14T01:13:28.584Z"
   },
   {
    "duration": 13,
    "start_time": "2022-03-14T01:13:28.599Z"
   },
   {
    "duration": 6,
    "start_time": "2022-03-14T01:13:28.638Z"
   },
   {
    "duration": 11,
    "start_time": "2022-03-14T01:13:28.646Z"
   },
   {
    "duration": 11,
    "start_time": "2022-03-14T01:13:28.658Z"
   },
   {
    "duration": 5,
    "start_time": "2022-03-14T01:13:28.671Z"
   },
   {
    "duration": 11,
    "start_time": "2022-03-14T01:13:28.677Z"
   },
   {
    "duration": 7,
    "start_time": "2022-03-14T01:13:28.689Z"
   },
   {
    "duration": 10,
    "start_time": "2022-03-14T01:13:28.697Z"
   },
   {
    "duration": 31,
    "start_time": "2022-03-14T01:13:28.708Z"
   },
   {
    "duration": 6,
    "start_time": "2022-03-14T01:13:28.741Z"
   },
   {
    "duration": 6,
    "start_time": "2022-03-14T01:13:28.748Z"
   },
   {
    "duration": 10,
    "start_time": "2022-03-14T01:13:28.756Z"
   },
   {
    "duration": 6,
    "start_time": "2022-03-14T01:13:28.768Z"
   },
   {
    "duration": 4,
    "start_time": "2022-03-14T01:13:28.775Z"
   },
   {
    "duration": 7,
    "start_time": "2022-03-14T01:13:28.781Z"
   },
   {
    "duration": 8,
    "start_time": "2022-03-14T01:13:28.790Z"
   },
   {
    "duration": 47,
    "start_time": "2022-03-14T01:13:28.802Z"
   },
   {
    "duration": 6,
    "start_time": "2022-03-14T01:13:28.852Z"
   },
   {
    "duration": 7,
    "start_time": "2022-03-14T01:13:28.860Z"
   },
   {
    "duration": 10,
    "start_time": "2022-03-14T01:13:28.869Z"
   },
   {
    "duration": 8,
    "start_time": "2022-03-14T01:13:28.880Z"
   },
   {
    "duration": 11,
    "start_time": "2022-03-14T01:13:28.889Z"
   },
   {
    "duration": 7,
    "start_time": "2022-03-14T01:13:28.901Z"
   },
   {
    "duration": 91,
    "start_time": "2022-03-14T01:13:28.910Z"
   },
   {
    "duration": 9,
    "start_time": "2022-03-14T01:13:29.002Z"
   },
   {
    "duration": 10,
    "start_time": "2022-03-14T01:13:29.013Z"
   },
   {
    "duration": 18,
    "start_time": "2022-03-14T01:13:29.024Z"
   },
   {
    "duration": 13,
    "start_time": "2022-03-14T01:13:29.044Z"
   },
   {
    "duration": 79,
    "start_time": "2022-03-14T01:13:29.059Z"
   },
   {
    "duration": 8,
    "start_time": "2022-03-14T01:13:29.139Z"
   },
   {
    "duration": 7,
    "start_time": "2022-03-14T01:13:29.149Z"
   },
   {
    "duration": 10,
    "start_time": "2022-03-14T01:13:29.157Z"
   },
   {
    "duration": 198,
    "start_time": "2022-03-14T01:13:29.168Z"
   },
   {
    "duration": 4,
    "start_time": "2022-03-14T01:13:29.368Z"
   },
   {
    "duration": 17,
    "start_time": "2022-03-14T01:13:29.374Z"
   },
   {
    "duration": 8,
    "start_time": "2022-03-14T01:13:29.393Z"
   },
   {
    "duration": 11,
    "start_time": "2022-03-14T01:13:29.403Z"
   },
   {
    "duration": 29,
    "start_time": "2022-03-14T01:13:29.416Z"
   },
   {
    "duration": 8,
    "start_time": "2022-03-14T01:13:29.447Z"
   },
   {
    "duration": 507,
    "start_time": "2022-03-14T01:13:29.456Z"
   },
   {
    "duration": 17,
    "start_time": "2022-03-14T01:13:29.964Z"
   },
   {
    "duration": 7,
    "start_time": "2022-03-14T01:13:29.983Z"
   },
   {
    "duration": 384,
    "start_time": "2022-03-14T01:13:29.992Z"
   },
   {
    "duration": 24,
    "start_time": "2022-03-14T01:13:30.377Z"
   },
   {
    "duration": 293,
    "start_time": "2022-03-14T01:13:30.403Z"
   },
   {
    "duration": 2,
    "start_time": "2022-03-14T01:13:30.698Z"
   },
   {
    "duration": 288,
    "start_time": "2022-03-14T01:13:30.701Z"
   },
   {
    "duration": 282,
    "start_time": "2022-03-14T01:13:30.991Z"
   },
   {
    "duration": 365,
    "start_time": "2022-03-14T01:13:31.275Z"
   },
   {
    "duration": 269,
    "start_time": "2022-03-14T01:13:31.642Z"
   },
   {
    "duration": 6,
    "start_time": "2022-03-14T01:13:31.912Z"
   },
   {
    "duration": 26,
    "start_time": "2022-03-14T01:13:31.920Z"
   },
   {
    "duration": 21,
    "start_time": "2022-03-14T01:13:31.947Z"
   },
   {
    "duration": 241,
    "start_time": "2022-03-14T01:13:31.970Z"
   },
   {
    "duration": 174,
    "start_time": "2022-03-14T01:13:56.646Z"
   },
   {
    "duration": 16,
    "start_time": "2022-03-14T01:14:07.884Z"
   },
   {
    "duration": 24,
    "start_time": "2022-03-14T01:14:23.267Z"
   },
   {
    "duration": 199,
    "start_time": "2022-03-14T01:15:02.674Z"
   },
   {
    "duration": 54,
    "start_time": "2022-03-14T01:15:38.384Z"
   },
   {
    "duration": 27,
    "start_time": "2022-03-14T01:15:55.223Z"
   },
   {
    "duration": 22,
    "start_time": "2022-03-14T01:16:39.736Z"
   },
   {
    "duration": 20,
    "start_time": "2022-03-14T01:18:37.344Z"
   },
   {
    "duration": 200,
    "start_time": "2022-03-14T01:22:19.678Z"
   },
   {
    "duration": 203,
    "start_time": "2022-03-14T01:23:22.171Z"
   },
   {
    "duration": 24,
    "start_time": "2022-03-14T01:23:41.986Z"
   },
   {
    "duration": 219,
    "start_time": "2022-03-14T01:23:46.241Z"
   },
   {
    "duration": 24,
    "start_time": "2022-03-14T01:24:50.556Z"
   },
   {
    "duration": 215,
    "start_time": "2022-03-14T01:25:20.626Z"
   },
   {
    "duration": 22,
    "start_time": "2022-03-14T01:27:29.672Z"
   },
   {
    "duration": 21,
    "start_time": "2022-03-14T01:27:46.846Z"
   },
   {
    "duration": 19,
    "start_time": "2022-03-14T01:28:12.142Z"
   },
   {
    "duration": 214,
    "start_time": "2022-03-14T01:29:14.052Z"
   },
   {
    "duration": 226,
    "start_time": "2022-03-14T01:29:24.999Z"
   },
   {
    "duration": 26,
    "start_time": "2022-03-14T01:31:10.788Z"
   },
   {
    "duration": 20,
    "start_time": "2022-03-14T01:35:27.759Z"
   },
   {
    "duration": 20,
    "start_time": "2022-03-14T01:37:38.965Z"
   },
   {
    "duration": 21,
    "start_time": "2022-03-14T01:38:26.701Z"
   },
   {
    "duration": 22,
    "start_time": "2022-03-14T01:38:50.166Z"
   },
   {
    "duration": 61,
    "start_time": "2022-03-14T01:42:12.528Z"
   },
   {
    "duration": 138,
    "start_time": "2022-03-14T01:42:22.159Z"
   },
   {
    "duration": 25,
    "start_time": "2022-03-14T01:45:14.457Z"
   },
   {
    "duration": 11,
    "start_time": "2022-03-14T01:49:13.453Z"
   },
   {
    "duration": 6,
    "start_time": "2022-03-14T01:49:38.066Z"
   },
   {
    "duration": 11,
    "start_time": "2022-03-14T01:49:45.639Z"
   },
   {
    "duration": 176,
    "start_time": "2022-03-14T01:51:28.054Z"
   },
   {
    "duration": 186,
    "start_time": "2022-03-14T01:51:41.379Z"
   },
   {
    "duration": 11,
    "start_time": "2022-03-14T01:51:52.851Z"
   },
   {
    "duration": 190,
    "start_time": "2022-03-14T01:52:38.169Z"
   },
   {
    "duration": 13,
    "start_time": "2022-03-14T01:52:44.267Z"
   },
   {
    "duration": 13,
    "start_time": "2022-03-14T01:53:02.610Z"
   },
   {
    "duration": 12,
    "start_time": "2022-03-14T01:54:36.381Z"
   },
   {
    "duration": 20,
    "start_time": "2022-03-14T01:58:44.517Z"
   },
   {
    "duration": 219,
    "start_time": "2022-03-14T02:05:35.460Z"
   },
   {
    "duration": 243,
    "start_time": "2022-03-14T02:07:10.436Z"
   },
   {
    "duration": 3,
    "start_time": "2022-03-14T02:35:04.673Z"
   },
   {
    "duration": 4,
    "start_time": "2022-03-14T02:35:15.142Z"
   },
   {
    "duration": 23,
    "start_time": "2022-03-14T02:35:58.248Z"
   },
   {
    "duration": 4,
    "start_time": "2022-03-14T02:36:18.427Z"
   },
   {
    "duration": 23,
    "start_time": "2022-03-14T02:36:28.603Z"
   },
   {
    "duration": 194,
    "start_time": "2022-03-14T02:37:18.813Z"
   },
   {
    "duration": 22,
    "start_time": "2022-03-14T02:37:43.843Z"
   },
   {
    "duration": 198,
    "start_time": "2022-03-14T02:39:38.146Z"
   },
   {
    "duration": 175,
    "start_time": "2022-03-14T02:41:22.390Z"
   },
   {
    "duration": 36,
    "start_time": "2022-03-14T02:41:35.656Z"
   },
   {
    "duration": 37,
    "start_time": "2022-03-14T02:41:50.731Z"
   },
   {
    "duration": 170,
    "start_time": "2022-03-14T02:42:15.027Z"
   },
   {
    "duration": 172,
    "start_time": "2022-03-14T02:44:34.158Z"
   },
   {
    "duration": 31,
    "start_time": "2022-03-14T02:44:41.010Z"
   },
   {
    "duration": 37,
    "start_time": "2022-03-14T02:44:52.883Z"
   },
   {
    "duration": 181,
    "start_time": "2022-03-14T02:47:20.876Z"
   },
   {
    "duration": 8,
    "start_time": "2022-03-14T02:47:33.212Z"
   },
   {
    "duration": 8,
    "start_time": "2022-03-14T02:48:31.271Z"
   },
   {
    "duration": 359,
    "start_time": "2022-03-14T02:50:30.982Z"
   },
   {
    "duration": 472,
    "start_time": "2022-03-14T02:51:25.179Z"
   },
   {
    "duration": 193,
    "start_time": "2022-03-14T02:53:30.254Z"
   },
   {
    "duration": 53,
    "start_time": "2022-03-14T02:55:30.510Z"
   },
   {
    "duration": 61,
    "start_time": "2022-03-14T02:55:39.166Z"
   },
   {
    "duration": 266,
    "start_time": "2022-03-14T02:55:51.999Z"
   },
   {
    "duration": 258,
    "start_time": "2022-03-14T02:56:25.951Z"
   },
   {
    "duration": 266,
    "start_time": "2022-03-14T02:57:08.250Z"
   },
   {
    "duration": 272,
    "start_time": "2022-03-14T02:57:27.825Z"
   },
   {
    "duration": 186,
    "start_time": "2022-03-14T03:04:14.483Z"
   },
   {
    "duration": 193,
    "start_time": "2022-03-14T03:04:25.390Z"
   },
   {
    "duration": 65,
    "start_time": "2022-03-14T03:05:18.016Z"
   },
   {
    "duration": 56,
    "start_time": "2022-03-14T03:05:31.376Z"
   },
   {
    "duration": 62,
    "start_time": "2022-03-14T03:05:44.114Z"
   },
   {
    "duration": 182,
    "start_time": "2022-03-14T03:05:59.222Z"
   },
   {
    "duration": 55,
    "start_time": "2022-03-14T03:07:27.482Z"
   },
   {
    "duration": 63,
    "start_time": "2022-03-14T03:07:38.096Z"
   },
   {
    "duration": 68,
    "start_time": "2022-03-14T03:07:51.983Z"
   },
   {
    "duration": 20,
    "start_time": "2022-03-14T03:08:27.032Z"
   },
   {
    "duration": 556,
    "start_time": "2022-03-14T03:12:19.755Z"
   },
   {
    "duration": 177,
    "start_time": "2022-03-14T03:12:36.095Z"
   },
   {
    "duration": 552,
    "start_time": "2022-03-14T03:12:41.838Z"
   },
   {
    "duration": 61,
    "start_time": "2022-03-14T03:17:27.604Z"
   },
   {
    "duration": 354,
    "start_time": "2022-03-14T03:21:00.402Z"
   },
   {
    "duration": 17,
    "start_time": "2022-03-14T03:22:08.550Z"
   },
   {
    "duration": 21,
    "start_time": "2022-03-14T03:22:20.233Z"
   },
   {
    "duration": 539,
    "start_time": "2022-03-14T03:22:48.126Z"
   },
   {
    "duration": 340,
    "start_time": "2022-03-14T03:23:33.214Z"
   },
   {
    "duration": 344,
    "start_time": "2022-03-14T03:23:53.603Z"
   },
   {
    "duration": 410,
    "start_time": "2022-03-14T03:24:15.744Z"
   },
   {
    "duration": 23,
    "start_time": "2022-03-14T03:25:08.654Z"
   },
   {
    "duration": 280,
    "start_time": "2022-03-14T03:25:13.266Z"
   },
   {
    "duration": 58,
    "start_time": "2022-03-14T03:25:28.988Z"
   },
   {
    "duration": 369,
    "start_time": "2022-03-14T03:26:00.831Z"
   },
   {
    "duration": 23,
    "start_time": "2022-03-14T03:26:31.946Z"
   },
   {
    "duration": 289,
    "start_time": "2022-03-14T03:26:47.940Z"
   },
   {
    "duration": 301,
    "start_time": "2022-03-14T03:28:08.814Z"
   },
   {
    "duration": 297,
    "start_time": "2022-03-14T03:31:37.225Z"
   },
   {
    "duration": 348,
    "start_time": "2022-03-14T03:32:17.853Z"
   },
   {
    "duration": 20,
    "start_time": "2022-03-14T03:33:28.447Z"
   },
   {
    "duration": 277,
    "start_time": "2022-03-14T03:33:43.307Z"
   },
   {
    "duration": 293,
    "start_time": "2022-03-14T03:34:08.229Z"
   },
   {
    "duration": 21,
    "start_time": "2022-03-14T03:35:03.434Z"
   },
   {
    "duration": 306,
    "start_time": "2022-03-14T03:35:52.421Z"
   },
   {
    "duration": 279,
    "start_time": "2022-03-14T03:37:37.144Z"
   },
   {
    "duration": 22,
    "start_time": "2022-03-14T03:38:06.164Z"
   },
   {
    "duration": 258,
    "start_time": "2022-03-14T03:38:09.596Z"
   },
   {
    "duration": 58,
    "start_time": "2022-03-14T03:38:44.755Z"
   },
   {
    "duration": 55,
    "start_time": "2022-03-14T03:39:00.373Z"
   },
   {
    "duration": 84,
    "start_time": "2022-03-14T03:39:08.565Z"
   },
   {
    "duration": 59,
    "start_time": "2022-03-14T03:39:31.220Z"
   },
   {
    "duration": 54,
    "start_time": "2022-03-14T03:40:27.483Z"
   },
   {
    "duration": 20,
    "start_time": "2022-03-14T03:40:37.881Z"
   },
   {
    "duration": 27,
    "start_time": "2022-03-14T03:41:36.657Z"
   },
   {
    "duration": 266,
    "start_time": "2022-03-14T03:42:15.173Z"
   },
   {
    "duration": 18,
    "start_time": "2022-03-14T03:49:15.720Z"
   },
   {
    "duration": 22,
    "start_time": "2022-03-14T03:49:49.262Z"
   },
   {
    "duration": 23,
    "start_time": "2022-03-14T03:50:22.028Z"
   },
   {
    "duration": 297,
    "start_time": "2022-03-14T03:50:43.013Z"
   },
   {
    "duration": 23,
    "start_time": "2022-03-14T03:51:37.236Z"
   },
   {
    "duration": 22,
    "start_time": "2022-03-14T03:52:42.290Z"
   },
   {
    "duration": 267,
    "start_time": "2022-03-14T03:52:56.699Z"
   },
   {
    "duration": 190,
    "start_time": "2022-03-14T03:53:31.250Z"
   },
   {
    "duration": 23,
    "start_time": "2022-03-14T03:53:40.484Z"
   },
   {
    "duration": 283,
    "start_time": "2022-03-14T03:53:58.036Z"
   },
   {
    "duration": 4220,
    "start_time": "2022-03-14T03:55:52.200Z"
   },
   {
    "duration": 17,
    "start_time": "2022-03-14T03:56:21.629Z"
   },
   {
    "duration": 23,
    "start_time": "2022-03-14T03:56:59.849Z"
   },
   {
    "duration": 304,
    "start_time": "2022-03-14T03:57:36.014Z"
   },
   {
    "duration": 306,
    "start_time": "2022-03-14T03:58:05.913Z"
   },
   {
    "duration": 22,
    "start_time": "2022-03-14T03:58:22.608Z"
   },
   {
    "duration": 246,
    "start_time": "2022-03-14T03:58:42.382Z"
   },
   {
    "duration": 21,
    "start_time": "2022-03-14T03:59:08.549Z"
   },
   {
    "duration": 385,
    "start_time": "2022-03-14T04:02:45.384Z"
   },
   {
    "duration": 305,
    "start_time": "2022-03-14T04:03:52.740Z"
   },
   {
    "duration": 343,
    "start_time": "2022-03-14T04:04:11.062Z"
   },
   {
    "duration": 8,
    "start_time": "2022-03-14T04:07:04.302Z"
   },
   {
    "duration": 8,
    "start_time": "2022-03-14T04:07:28.364Z"
   },
   {
    "duration": 173,
    "start_time": "2022-03-14T04:07:54.601Z"
   },
   {
    "duration": 8,
    "start_time": "2022-03-14T04:08:11.002Z"
   },
   {
    "duration": 346,
    "start_time": "2022-03-14T04:08:58.703Z"
   },
   {
    "duration": 520,
    "start_time": "2022-03-14T04:09:45.888Z"
   },
   {
    "duration": 9,
    "start_time": "2022-03-14T04:10:03.235Z"
   },
   {
    "duration": 8,
    "start_time": "2022-03-14T04:10:32.981Z"
   },
   {
    "duration": 340,
    "start_time": "2022-03-14T04:12:24.876Z"
   },
   {
    "duration": 7,
    "start_time": "2022-03-14T04:14:50.171Z"
   },
   {
    "duration": 332,
    "start_time": "2022-03-15T22:51:18.385Z"
   },
   {
    "duration": 1132,
    "start_time": "2022-03-15T22:51:23.114Z"
   },
   {
    "duration": 6,
    "start_time": "2022-03-15T22:51:24.247Z"
   },
   {
    "duration": 639,
    "start_time": "2022-03-15T22:51:24.254Z"
   },
   {
    "duration": 546,
    "start_time": "2022-03-15T22:51:24.895Z"
   },
   {
    "duration": 823,
    "start_time": "2022-03-15T22:51:25.443Z"
   },
   {
    "duration": 530,
    "start_time": "2022-03-15T22:51:26.268Z"
   },
   {
    "duration": 617,
    "start_time": "2022-03-15T22:51:26.799Z"
   },
   {
    "duration": 352,
    "start_time": "2022-03-15T22:51:27.419Z"
   },
   {
    "duration": 575,
    "start_time": "2022-03-15T22:51:27.773Z"
   },
   {
    "duration": 389,
    "start_time": "2022-03-15T22:51:28.350Z"
   },
   {
    "duration": 741,
    "start_time": "2022-03-15T22:51:28.741Z"
   },
   {
    "duration": 637,
    "start_time": "2022-03-15T22:51:29.484Z"
   },
   {
    "duration": 640,
    "start_time": "2022-03-15T22:51:30.123Z"
   },
   {
    "duration": 779,
    "start_time": "2022-03-15T22:51:30.764Z"
   },
   {
    "duration": 849,
    "start_time": "2022-03-15T22:51:31.544Z"
   },
   {
    "duration": 661,
    "start_time": "2022-03-15T22:51:32.395Z"
   },
   {
    "duration": 824,
    "start_time": "2022-03-15T22:51:33.058Z"
   },
   {
    "duration": 997,
    "start_time": "2022-03-15T22:51:33.884Z"
   },
   {
    "duration": 1098,
    "start_time": "2022-03-15T22:51:34.883Z"
   },
   {
    "duration": 599,
    "start_time": "2022-03-15T22:51:35.982Z"
   },
   {
    "duration": 646,
    "start_time": "2022-03-15T22:51:36.582Z"
   },
   {
    "duration": 721,
    "start_time": "2022-03-15T22:51:37.230Z"
   },
   {
    "duration": 544,
    "start_time": "2022-03-15T22:51:37.955Z"
   },
   {
    "duration": 777,
    "start_time": "2022-03-15T22:51:38.502Z"
   },
   {
    "duration": 789,
    "start_time": "2022-03-15T22:51:39.280Z"
   },
   {
    "duration": 467,
    "start_time": "2022-03-15T22:51:40.070Z"
   },
   {
    "duration": 794,
    "start_time": "2022-03-15T22:51:40.538Z"
   },
   {
    "duration": 830,
    "start_time": "2022-03-15T22:51:41.334Z"
   },
   {
    "duration": 1024,
    "start_time": "2022-03-15T22:51:42.166Z"
   },
   {
    "duration": 1006,
    "start_time": "2022-03-15T22:51:43.191Z"
   },
   {
    "duration": 827,
    "start_time": "2022-03-15T22:51:44.199Z"
   },
   {
    "duration": 704,
    "start_time": "2022-03-15T22:51:45.028Z"
   },
   {
    "duration": 711,
    "start_time": "2022-03-15T22:51:45.733Z"
   },
   {
    "duration": 576,
    "start_time": "2022-03-15T22:51:46.446Z"
   },
   {
    "duration": 300,
    "start_time": "2022-03-15T22:51:47.024Z"
   },
   {
    "duration": 627,
    "start_time": "2022-03-15T22:51:47.325Z"
   },
   {
    "duration": 419,
    "start_time": "2022-03-15T22:51:47.953Z"
   },
   {
    "duration": 480,
    "start_time": "2022-03-15T22:51:48.374Z"
   },
   {
    "duration": 480,
    "start_time": "2022-03-15T22:51:48.855Z"
   },
   {
    "duration": 573,
    "start_time": "2022-03-15T22:51:49.337Z"
   },
   {
    "duration": 356,
    "start_time": "2022-03-15T22:51:49.912Z"
   },
   {
    "duration": 651,
    "start_time": "2022-03-15T22:51:50.269Z"
   },
   {
    "duration": 541,
    "start_time": "2022-03-15T22:51:50.922Z"
   },
   {
    "duration": 862,
    "start_time": "2022-03-15T22:51:51.465Z"
   },
   {
    "duration": 883,
    "start_time": "2022-03-15T22:51:52.329Z"
   },
   {
    "duration": 532,
    "start_time": "2022-03-15T22:51:53.214Z"
   },
   {
    "duration": 503,
    "start_time": "2022-03-15T22:51:53.748Z"
   },
   {
    "duration": 694,
    "start_time": "2022-03-15T22:51:54.253Z"
   },
   {
    "duration": 753,
    "start_time": "2022-03-15T22:51:54.949Z"
   },
   {
    "duration": 402,
    "start_time": "2022-03-15T22:51:57.486Z"
   },
   {
    "duration": 512,
    "start_time": "2022-03-15T22:51:57.890Z"
   },
   {
    "duration": 1069,
    "start_time": "2022-03-15T22:51:58.404Z"
   },
   {
    "duration": 273,
    "start_time": "2022-03-15T22:51:59.475Z"
   },
   {
    "duration": 672,
    "start_time": "2022-03-15T22:51:59.749Z"
   },
   {
    "duration": 1396,
    "start_time": "2022-03-15T22:52:00.422Z"
   },
   {
    "duration": 467,
    "start_time": "2022-03-15T22:52:01.819Z"
   },
   {
    "duration": 1163,
    "start_time": "2022-03-15T22:52:02.288Z"
   },
   {
    "duration": 1103,
    "start_time": "2022-03-15T22:52:03.453Z"
   },
   {
    "duration": 1279,
    "start_time": "2022-03-15T22:52:04.558Z"
   },
   {
    "duration": 1066,
    "start_time": "2022-03-15T22:52:05.839Z"
   },
   {
    "duration": 671,
    "start_time": "2022-03-15T22:52:06.907Z"
   },
   {
    "duration": 671,
    "start_time": "2022-03-15T22:52:07.579Z"
   },
   {
    "duration": 951,
    "start_time": "2022-03-15T22:52:08.251Z"
   },
   {
    "duration": -1052,
    "start_time": "2022-03-15T22:52:10.257Z"
   },
   {
    "duration": -1057,
    "start_time": "2022-03-15T22:52:10.264Z"
   },
   {
    "duration": -1062,
    "start_time": "2022-03-15T22:52:10.270Z"
   },
   {
    "duration": -1289,
    "start_time": "2022-03-15T22:52:10.498Z"
   },
   {
    "duration": -1293,
    "start_time": "2022-03-15T22:52:10.504Z"
   },
   {
    "duration": -1297,
    "start_time": "2022-03-15T22:52:10.509Z"
   },
   {
    "duration": -1302,
    "start_time": "2022-03-15T22:52:10.516Z"
   },
   {
    "duration": -1305,
    "start_time": "2022-03-15T22:52:10.520Z"
   },
   {
    "duration": -1312,
    "start_time": "2022-03-15T22:52:10.529Z"
   },
   {
    "duration": -1316,
    "start_time": "2022-03-15T22:52:10.534Z"
   },
   {
    "duration": -1321,
    "start_time": "2022-03-15T22:52:10.540Z"
   },
   {
    "duration": -1325,
    "start_time": "2022-03-15T22:52:10.546Z"
   },
   {
    "duration": -1329,
    "start_time": "2022-03-15T22:52:10.551Z"
   },
   {
    "duration": -1333,
    "start_time": "2022-03-15T22:52:10.556Z"
   },
   {
    "duration": -1337,
    "start_time": "2022-03-15T22:52:10.562Z"
   },
   {
    "duration": -1341,
    "start_time": "2022-03-15T22:52:10.567Z"
   },
   {
    "duration": -1437,
    "start_time": "2022-03-15T22:52:10.665Z"
   },
   {
    "duration": -1456,
    "start_time": "2022-03-15T22:52:10.685Z"
   },
   {
    "duration": 8,
    "start_time": "2022-03-15T22:52:14.975Z"
   },
   {
    "duration": 26,
    "start_time": "2022-03-15T22:52:20.094Z"
   },
   {
    "duration": 11,
    "start_time": "2022-03-15T22:52:38.480Z"
   },
   {
    "duration": 21,
    "start_time": "2022-03-15T22:54:51.190Z"
   },
   {
    "duration": 289,
    "start_time": "2022-03-15T22:55:09.417Z"
   },
   {
    "duration": 204,
    "start_time": "2022-03-15T22:56:54.045Z"
   },
   {
    "duration": 296,
    "start_time": "2022-03-15T22:57:23.283Z"
   },
   {
    "duration": 201,
    "start_time": "2022-03-15T22:57:37.219Z"
   },
   {
    "duration": 196,
    "start_time": "2022-03-15T22:58:31.005Z"
   },
   {
    "duration": 221,
    "start_time": "2022-03-15T22:58:37.577Z"
   },
   {
    "duration": 158,
    "start_time": "2022-03-15T22:59:15.225Z"
   },
   {
    "duration": 37,
    "start_time": "2022-03-15T22:59:47.275Z"
   },
   {
    "duration": 452,
    "start_time": "2022-03-15T23:00:29.385Z"
   },
   {
    "duration": 327,
    "start_time": "2022-03-15T23:00:39.313Z"
   },
   {
    "duration": 24,
    "start_time": "2022-03-15T23:00:42.867Z"
   },
   {
    "duration": 318,
    "start_time": "2022-03-15T23:00:46.363Z"
   },
   {
    "duration": 18,
    "start_time": "2022-03-15T23:00:52.333Z"
   },
   {
    "duration": 19,
    "start_time": "2022-03-15T23:01:57.161Z"
   },
   {
    "duration": 284,
    "start_time": "2022-03-15T23:02:00.241Z"
   },
   {
    "duration": 322,
    "start_time": "2022-03-15T23:04:10.898Z"
   },
   {
    "duration": 7,
    "start_time": "2022-03-15T23:04:44.179Z"
   },
   {
    "duration": 7,
    "start_time": "2022-03-15T23:04:57.600Z"
   },
   {
    "duration": 14,
    "start_time": "2022-03-15T23:09:28.757Z"
   },
   {
    "duration": 5,
    "start_time": "2022-03-15T23:15:39.249Z"
   },
   {
    "duration": 12,
    "start_time": "2022-03-15T23:16:37.213Z"
   },
   {
    "duration": 378,
    "start_time": "2022-03-15T23:18:15.739Z"
   },
   {
    "duration": 7,
    "start_time": "2022-03-15T23:19:20.265Z"
   },
   {
    "duration": 15,
    "start_time": "2022-03-15T23:20:10.870Z"
   },
   {
    "duration": 22,
    "start_time": "2022-03-15T23:20:22.463Z"
   },
   {
    "duration": 282,
    "start_time": "2022-03-15T23:21:27.665Z"
   },
   {
    "duration": 6,
    "start_time": "2022-03-15T23:21:38.025Z"
   },
   {
    "duration": 64,
    "start_time": "2022-03-15T23:23:26.321Z"
   },
   {
    "duration": 183,
    "start_time": "2022-03-15T23:24:51.321Z"
   },
   {
    "duration": 317,
    "start_time": "2022-03-15T23:25:04.047Z"
   },
   {
    "duration": 319,
    "start_time": "2022-03-15T23:26:15.899Z"
   },
   {
    "duration": 292,
    "start_time": "2022-03-15T23:27:09.125Z"
   },
   {
    "duration": 18,
    "start_time": "2022-03-15T23:27:23.482Z"
   },
   {
    "duration": 19,
    "start_time": "2022-03-15T23:28:49.200Z"
   },
   {
    "duration": 96,
    "start_time": "2022-03-15T23:29:08.142Z"
   },
   {
    "duration": 14,
    "start_time": "2022-03-15T23:29:14.627Z"
   },
   {
    "duration": 276,
    "start_time": "2022-03-15T23:29:25.662Z"
   },
   {
    "duration": 4,
    "start_time": "2022-03-15T23:29:37.890Z"
   },
   {
    "duration": 763,
    "start_time": "2022-03-15T23:36:20.868Z"
   },
   {
    "duration": 480,
    "start_time": "2022-03-15T23:36:34.506Z"
   },
   {
    "duration": 292,
    "start_time": "2022-03-15T23:37:07.458Z"
   },
   {
    "duration": 352,
    "start_time": "2022-03-15T23:41:00.762Z"
   },
   {
    "duration": 17,
    "start_time": "2022-03-15T23:41:28.850Z"
   },
   {
    "duration": 12,
    "start_time": "2022-03-15T23:41:37.874Z"
   },
   {
    "duration": 8,
    "start_time": "2022-03-15T23:44:48.164Z"
   },
   {
    "duration": 315,
    "start_time": "2022-03-15T23:45:27.854Z"
   },
   {
    "duration": 9,
    "start_time": "2022-03-15T23:45:36.055Z"
   },
   {
    "duration": 13,
    "start_time": "2022-03-15T23:45:47.160Z"
   },
   {
    "duration": 16,
    "start_time": "2022-03-16T00:00:20.676Z"
   },
   {
    "duration": 324,
    "start_time": "2022-03-16T00:01:06.397Z"
   },
   {
    "duration": 11,
    "start_time": "2022-03-16T00:01:21.318Z"
   },
   {
    "duration": 11,
    "start_time": "2022-03-16T00:03:19.491Z"
   },
   {
    "duration": 304,
    "start_time": "2022-03-16T00:05:00.648Z"
   },
   {
    "duration": 8,
    "start_time": "2022-03-16T00:05:13.180Z"
   },
   {
    "duration": 8,
    "start_time": "2022-03-16T00:05:44.768Z"
   },
   {
    "duration": 376,
    "start_time": "2022-03-16T00:06:42.411Z"
   },
   {
    "duration": 8,
    "start_time": "2022-03-16T00:06:49.481Z"
   },
   {
    "duration": 8,
    "start_time": "2022-03-16T00:07:43.333Z"
   },
   {
    "duration": 283,
    "start_time": "2022-03-16T00:08:32.511Z"
   },
   {
    "duration": 109,
    "start_time": "2022-03-16T00:08:58.911Z"
   },
   {
    "duration": 97,
    "start_time": "2022-03-16T00:09:14.153Z"
   },
   {
    "duration": 21,
    "start_time": "2022-03-16T00:09:39.778Z"
   },
   {
    "duration": 21,
    "start_time": "2022-03-16T00:10:10.582Z"
   },
   {
    "duration": 19,
    "start_time": "2022-03-16T00:10:29.489Z"
   },
   {
    "duration": 22,
    "start_time": "2022-03-16T00:15:28.771Z"
   },
   {
    "duration": 13,
    "start_time": "2022-03-16T00:27:18.965Z"
   },
   {
    "duration": 9,
    "start_time": "2022-03-16T00:29:10.681Z"
   },
   {
    "duration": 300,
    "start_time": "2022-03-16T00:30:16.738Z"
   },
   {
    "duration": 7,
    "start_time": "2022-03-16T00:30:23.429Z"
   },
   {
    "duration": 11,
    "start_time": "2022-03-16T00:32:32.031Z"
   },
   {
    "duration": 7,
    "start_time": "2022-03-16T00:33:15.595Z"
   },
   {
    "duration": 7,
    "start_time": "2022-03-16T00:33:25.693Z"
   },
   {
    "duration": 307,
    "start_time": "2022-03-16T00:39:37.721Z"
   },
   {
    "duration": 305,
    "start_time": "2022-03-16T00:39:51.855Z"
   },
   {
    "duration": 344,
    "start_time": "2022-03-16T00:40:05.392Z"
   },
   {
    "duration": 1800,
    "start_time": "2022-03-16T00:40:16.843Z"
   },
   {
    "duration": 962,
    "start_time": "2022-03-16T00:40:56.993Z"
   },
   {
    "duration": 27,
    "start_time": "2022-03-16T00:41:29.726Z"
   },
   {
    "duration": 11,
    "start_time": "2022-03-16T00:44:10.730Z"
   },
   {
    "duration": 2,
    "start_time": "2022-03-16T00:46:27.575Z"
   },
   {
    "duration": 4,
    "start_time": "2022-03-16T00:46:27.582Z"
   },
   {
    "duration": 37,
    "start_time": "2022-03-16T00:46:27.587Z"
   },
   {
    "duration": 13,
    "start_time": "2022-03-16T00:46:27.626Z"
   },
   {
    "duration": 11,
    "start_time": "2022-03-16T00:46:27.640Z"
   },
   {
    "duration": 29,
    "start_time": "2022-03-16T00:46:27.653Z"
   },
   {
    "duration": 24,
    "start_time": "2022-03-16T00:46:27.683Z"
   },
   {
    "duration": 2,
    "start_time": "2022-03-16T00:46:27.708Z"
   },
   {
    "duration": 17,
    "start_time": "2022-03-16T00:46:27.712Z"
   },
   {
    "duration": 12,
    "start_time": "2022-03-16T00:46:27.731Z"
   },
   {
    "duration": 43,
    "start_time": "2022-03-16T00:46:27.745Z"
   },
   {
    "duration": 11,
    "start_time": "2022-03-16T00:46:27.789Z"
   },
   {
    "duration": 12,
    "start_time": "2022-03-16T00:46:27.801Z"
   },
   {
    "duration": 7,
    "start_time": "2022-03-16T00:46:27.815Z"
   },
   {
    "duration": 5,
    "start_time": "2022-03-16T00:46:27.823Z"
   },
   {
    "duration": 12,
    "start_time": "2022-03-16T00:46:27.830Z"
   },
   {
    "duration": 41,
    "start_time": "2022-03-16T00:46:27.843Z"
   },
   {
    "duration": 8,
    "start_time": "2022-03-16T00:46:27.885Z"
   },
   {
    "duration": 5,
    "start_time": "2022-03-16T00:46:27.895Z"
   },
   {
    "duration": 6,
    "start_time": "2022-03-16T00:46:27.902Z"
   },
   {
    "duration": 4,
    "start_time": "2022-03-16T00:46:27.910Z"
   },
   {
    "duration": 10,
    "start_time": "2022-03-16T00:46:27.916Z"
   },
   {
    "duration": 5,
    "start_time": "2022-03-16T00:46:27.927Z"
   },
   {
    "duration": 47,
    "start_time": "2022-03-16T00:46:27.934Z"
   },
   {
    "duration": 5,
    "start_time": "2022-03-16T00:46:27.983Z"
   },
   {
    "duration": 7,
    "start_time": "2022-03-16T00:46:27.989Z"
   },
   {
    "duration": 11,
    "start_time": "2022-03-16T00:46:27.998Z"
   },
   {
    "duration": 4,
    "start_time": "2022-03-16T00:46:28.013Z"
   },
   {
    "duration": 6,
    "start_time": "2022-03-16T00:46:28.019Z"
   },
   {
    "duration": 8,
    "start_time": "2022-03-16T00:46:28.026Z"
   },
   {
    "duration": 6,
    "start_time": "2022-03-16T00:46:28.036Z"
   },
   {
    "duration": 41,
    "start_time": "2022-03-16T00:46:28.043Z"
   },
   {
    "duration": 5,
    "start_time": "2022-03-16T00:46:28.086Z"
   },
   {
    "duration": 58,
    "start_time": "2022-03-16T00:46:28.093Z"
   },
   {
    "duration": 33,
    "start_time": "2022-03-16T00:46:28.152Z"
   },
   {
    "duration": 6,
    "start_time": "2022-03-16T00:46:28.187Z"
   },
   {
    "duration": 8,
    "start_time": "2022-03-16T00:46:28.195Z"
   },
   {
    "duration": 9,
    "start_time": "2022-03-16T00:46:28.204Z"
   },
   {
    "duration": 93,
    "start_time": "2022-03-16T00:46:28.214Z"
   },
   {
    "duration": 8,
    "start_time": "2022-03-16T00:46:28.308Z"
   },
   {
    "duration": 7,
    "start_time": "2022-03-16T00:46:28.317Z"
   },
   {
    "duration": 7,
    "start_time": "2022-03-16T00:46:28.325Z"
   },
   {
    "duration": 185,
    "start_time": "2022-03-16T00:46:28.334Z"
   },
   {
    "duration": 4,
    "start_time": "2022-03-16T00:46:28.521Z"
   },
   {
    "duration": 16,
    "start_time": "2022-03-16T00:46:28.526Z"
   },
   {
    "duration": 8,
    "start_time": "2022-03-16T00:46:28.543Z"
   },
   {
    "duration": 30,
    "start_time": "2022-03-16T00:46:28.552Z"
   },
   {
    "duration": 13,
    "start_time": "2022-03-16T00:46:28.583Z"
   },
   {
    "duration": 7,
    "start_time": "2022-03-16T00:46:28.597Z"
   },
   {
    "duration": 446,
    "start_time": "2022-03-16T00:46:28.606Z"
   },
   {
    "duration": 16,
    "start_time": "2022-03-16T00:46:29.054Z"
   },
   {
    "duration": 324,
    "start_time": "2022-03-16T00:46:29.080Z"
   },
   {
    "duration": 8,
    "start_time": "2022-03-16T00:46:29.406Z"
   },
   {
    "duration": 27,
    "start_time": "2022-03-16T00:46:29.415Z"
   },
   {
    "duration": 265,
    "start_time": "2022-03-16T00:46:29.443Z"
   },
   {
    "duration": 2,
    "start_time": "2022-03-16T00:46:29.710Z"
   },
   {
    "duration": 246,
    "start_time": "2022-03-16T00:46:29.714Z"
   },
   {
    "duration": 236,
    "start_time": "2022-03-16T00:46:29.962Z"
   },
   {
    "duration": 254,
    "start_time": "2022-03-16T00:46:30.199Z"
   },
   {
    "duration": 254,
    "start_time": "2022-03-16T00:46:30.455Z"
   },
   {
    "duration": 5,
    "start_time": "2022-03-16T00:46:30.711Z"
   },
   {
    "duration": 10,
    "start_time": "2022-03-16T00:46:30.717Z"
   },
   {
    "duration": 18,
    "start_time": "2022-03-16T00:46:30.728Z"
   },
   {
    "duration": 226,
    "start_time": "2022-03-16T00:46:30.748Z"
   },
   {
    "duration": 211,
    "start_time": "2022-03-16T00:46:30.976Z"
   },
   {
    "duration": 210,
    "start_time": "2022-03-16T00:46:31.188Z"
   },
   {
    "duration": 159,
    "start_time": "2022-03-16T00:46:31.400Z"
   },
   {
    "duration": 41,
    "start_time": "2022-03-16T00:46:31.561Z"
   },
   {
    "duration": 434,
    "start_time": "2022-03-16T00:46:31.604Z"
   },
   {
    "duration": 261,
    "start_time": "2022-03-16T00:46:32.040Z"
   },
   {
    "duration": 19,
    "start_time": "2022-03-16T00:46:32.302Z"
   },
   {
    "duration": 243,
    "start_time": "2022-03-16T00:46:32.323Z"
   },
   {
    "duration": 26,
    "start_time": "2022-03-16T00:46:32.568Z"
   },
   {
    "duration": 262,
    "start_time": "2022-03-16T00:46:32.595Z"
   },
   {
    "duration": 437,
    "start_time": "2022-03-16T00:46:32.859Z"
   },
   {
    "duration": 6,
    "start_time": "2022-03-16T00:46:33.298Z"
   },
   {
    "duration": 10,
    "start_time": "2022-03-16T00:46:33.306Z"
   },
   {
    "duration": 14,
    "start_time": "2022-03-16T00:46:33.317Z"
   },
   {
    "duration": 3,
    "start_time": "2022-03-16T00:46:33.333Z"
   },
   {
    "duration": 46,
    "start_time": "2022-03-16T00:46:33.338Z"
   },
   {
    "duration": 18,
    "start_time": "2022-03-16T00:46:33.385Z"
   },
   {
    "duration": 8,
    "start_time": "2022-03-16T00:46:33.409Z"
   },
   {
    "duration": 9,
    "start_time": "2022-03-16T00:46:33.419Z"
   },
   {
    "duration": 15,
    "start_time": "2022-03-16T00:46:33.430Z"
   },
   {
    "duration": 10,
    "start_time": "2022-03-16T00:46:33.446Z"
   },
   {
    "duration": 24,
    "start_time": "2022-03-16T00:46:33.458Z"
   },
   {
    "duration": 8,
    "start_time": "2022-03-16T00:47:11.148Z"
   },
   {
    "duration": 8,
    "start_time": "2022-03-16T00:47:18.445Z"
   },
   {
    "duration": 7,
    "start_time": "2022-03-16T00:47:58.061Z"
   },
   {
    "duration": 7,
    "start_time": "2022-03-16T00:48:04.951Z"
   },
   {
    "duration": 8,
    "start_time": "2022-03-16T00:48:11.000Z"
   },
   {
    "duration": 7,
    "start_time": "2022-03-16T00:48:25.269Z"
   },
   {
    "duration": 94,
    "start_time": "2022-03-16T00:57:16.284Z"
   },
   {
    "duration": 14,
    "start_time": "2022-03-16T00:57:21.852Z"
   },
   {
    "duration": 297,
    "start_time": "2022-03-16T00:57:39.096Z"
   },
   {
    "duration": 16,
    "start_time": "2022-03-16T00:57:50.820Z"
   },
   {
    "duration": 631,
    "start_time": "2022-03-16T00:58:12.006Z"
   },
   {
    "duration": 292,
    "start_time": "2022-03-16T01:04:43.508Z"
   },
   {
    "duration": 11,
    "start_time": "2022-03-16T01:05:20.687Z"
   },
   {
    "duration": 244,
    "start_time": "2022-03-16T01:05:38.065Z"
   },
   {
    "duration": 7,
    "start_time": "2022-03-16T01:07:17.374Z"
   },
   {
    "duration": 7,
    "start_time": "2022-03-16T01:08:06.406Z"
   },
   {
    "duration": 6,
    "start_time": "2022-03-16T01:08:28.904Z"
   },
   {
    "duration": 7,
    "start_time": "2022-03-16T01:08:42.817Z"
   },
   {
    "duration": 366,
    "start_time": "2022-03-16T01:09:02.675Z"
   },
   {
    "duration": 233,
    "start_time": "2022-03-16T01:09:20.391Z"
   },
   {
    "duration": 145,
    "start_time": "2022-03-16T01:09:48.106Z"
   },
   {
    "duration": 155,
    "start_time": "2022-03-16T01:14:24.711Z"
   },
   {
    "duration": 9,
    "start_time": "2022-03-16T01:15:16.066Z"
   },
   {
    "duration": 8,
    "start_time": "2022-03-16T01:16:03.098Z"
   },
   {
    "duration": 8,
    "start_time": "2022-03-16T01:17:54.796Z"
   },
   {
    "duration": 150,
    "start_time": "2022-03-16T01:18:26.894Z"
   },
   {
    "duration": 296,
    "start_time": "2022-03-16T01:19:24.790Z"
   },
   {
    "duration": 477,
    "start_time": "2022-03-16T01:19:43.462Z"
   },
   {
    "duration": 13,
    "start_time": "2022-03-16T01:20:28.962Z"
   },
   {
    "duration": 241,
    "start_time": "2022-03-16T01:20:45.367Z"
   },
   {
    "duration": 17,
    "start_time": "2022-03-16T01:22:25.888Z"
   },
   {
    "duration": 17,
    "start_time": "2022-03-16T01:24:36.671Z"
   },
   {
    "duration": 244,
    "start_time": "2022-03-16T01:24:53.492Z"
   },
   {
    "duration": 18,
    "start_time": "2022-03-16T01:25:21.744Z"
   },
   {
    "duration": 70077,
    "start_time": "2022-03-16T01:26:05.326Z"
   },
   {
    "duration": 1141,
    "start_time": "2022-03-16T01:30:45.174Z"
   },
   {
    "duration": 5,
    "start_time": "2022-03-16T01:30:46.316Z"
   },
   {
    "duration": 37,
    "start_time": "2022-03-16T01:30:46.323Z"
   },
   {
    "duration": 20,
    "start_time": "2022-03-16T01:30:46.362Z"
   },
   {
    "duration": 10,
    "start_time": "2022-03-16T01:30:46.383Z"
   },
   {
    "duration": 9,
    "start_time": "2022-03-16T01:30:46.395Z"
   },
   {
    "duration": 24,
    "start_time": "2022-03-16T01:30:46.406Z"
   },
   {
    "duration": 3,
    "start_time": "2022-03-16T01:30:46.432Z"
   },
   {
    "duration": 50,
    "start_time": "2022-03-16T01:30:46.437Z"
   },
   {
    "duration": 13,
    "start_time": "2022-03-16T01:30:46.489Z"
   },
   {
    "duration": 12,
    "start_time": "2022-03-16T01:30:46.503Z"
   },
   {
    "duration": 7,
    "start_time": "2022-03-16T01:30:46.516Z"
   },
   {
    "duration": 9,
    "start_time": "2022-03-16T01:30:46.524Z"
   },
   {
    "duration": 6,
    "start_time": "2022-03-16T01:30:46.535Z"
   },
   {
    "duration": 38,
    "start_time": "2022-03-16T01:30:46.543Z"
   },
   {
    "duration": 8,
    "start_time": "2022-03-16T01:30:46.582Z"
   },
   {
    "duration": 13,
    "start_time": "2022-03-16T01:30:46.591Z"
   },
   {
    "duration": 8,
    "start_time": "2022-03-16T01:30:46.605Z"
   },
   {
    "duration": 8,
    "start_time": "2022-03-16T01:30:46.615Z"
   },
   {
    "duration": 6,
    "start_time": "2022-03-16T01:30:46.625Z"
   },
   {
    "duration": 7,
    "start_time": "2022-03-16T01:30:46.633Z"
   },
   {
    "duration": 45,
    "start_time": "2022-03-16T01:30:46.641Z"
   },
   {
    "duration": 6,
    "start_time": "2022-03-16T01:30:46.690Z"
   },
   {
    "duration": 4,
    "start_time": "2022-03-16T01:30:46.698Z"
   },
   {
    "duration": 5,
    "start_time": "2022-03-16T01:30:46.703Z"
   },
   {
    "duration": 8,
    "start_time": "2022-03-16T01:30:46.710Z"
   },
   {
    "duration": 16,
    "start_time": "2022-03-16T01:30:46.720Z"
   },
   {
    "duration": 4,
    "start_time": "2022-03-16T01:30:46.738Z"
   },
   {
    "duration": 38,
    "start_time": "2022-03-16T01:30:46.743Z"
   },
   {
    "duration": 8,
    "start_time": "2022-03-16T01:30:46.782Z"
   },
   {
    "duration": 9,
    "start_time": "2022-03-16T01:30:46.791Z"
   },
   {
    "duration": 6,
    "start_time": "2022-03-16T01:30:46.801Z"
   },
   {
    "duration": 6,
    "start_time": "2022-03-16T01:30:46.809Z"
   },
   {
    "duration": 93,
    "start_time": "2022-03-16T01:30:46.816Z"
   },
   {
    "duration": 8,
    "start_time": "2022-03-16T01:30:46.910Z"
   },
   {
    "duration": 7,
    "start_time": "2022-03-16T01:30:46.920Z"
   },
   {
    "duration": 7,
    "start_time": "2022-03-16T01:30:46.928Z"
   },
   {
    "duration": 12,
    "start_time": "2022-03-16T01:30:46.936Z"
   },
   {
    "duration": 92,
    "start_time": "2022-03-16T01:30:46.950Z"
   },
   {
    "duration": 7,
    "start_time": "2022-03-16T01:30:47.044Z"
   },
   {
    "duration": 34,
    "start_time": "2022-03-16T01:30:47.053Z"
   },
   {
    "duration": 5,
    "start_time": "2022-03-16T01:30:47.089Z"
   },
   {
    "duration": 168,
    "start_time": "2022-03-16T01:30:47.096Z"
   },
   {
    "duration": 4,
    "start_time": "2022-03-16T01:30:47.265Z"
   },
   {
    "duration": 19,
    "start_time": "2022-03-16T01:30:47.271Z"
   },
   {
    "duration": 7,
    "start_time": "2022-03-16T01:30:47.292Z"
   },
   {
    "duration": 3,
    "start_time": "2022-03-16T01:30:47.300Z"
   },
   {
    "duration": 13,
    "start_time": "2022-03-16T01:30:47.305Z"
   },
   {
    "duration": 8,
    "start_time": "2022-03-16T01:30:47.320Z"
   },
   {
    "duration": 477,
    "start_time": "2022-03-16T01:30:47.330Z"
   },
   {
    "duration": 14,
    "start_time": "2022-03-16T01:30:47.808Z"
   },
   {
    "duration": 318,
    "start_time": "2022-03-16T01:30:47.824Z"
   },
   {
    "duration": 8,
    "start_time": "2022-03-16T01:30:48.144Z"
   },
   {
    "duration": 39,
    "start_time": "2022-03-16T01:30:48.154Z"
   },
   {
    "duration": 253,
    "start_time": "2022-03-16T01:30:48.195Z"
   },
   {
    "duration": 2,
    "start_time": "2022-03-16T01:30:48.450Z"
   },
   {
    "duration": 262,
    "start_time": "2022-03-16T01:30:48.454Z"
   },
   {
    "duration": 299,
    "start_time": "2022-03-16T01:30:48.718Z"
   },
   {
    "duration": 243,
    "start_time": "2022-03-16T01:30:49.020Z"
   },
   {
    "duration": 245,
    "start_time": "2022-03-16T01:30:49.265Z"
   },
   {
    "duration": 7,
    "start_time": "2022-03-16T01:30:49.512Z"
   },
   {
    "duration": 9,
    "start_time": "2022-03-16T01:30:49.520Z"
   },
   {
    "duration": 20,
    "start_time": "2022-03-16T01:30:49.530Z"
   },
   {
    "duration": 223,
    "start_time": "2022-03-16T01:30:49.552Z"
   },
   {
    "duration": 196,
    "start_time": "2022-03-16T01:30:49.780Z"
   },
   {
    "duration": 214,
    "start_time": "2022-03-16T01:30:49.980Z"
   },
   {
    "duration": 158,
    "start_time": "2022-03-16T01:30:50.195Z"
   },
   {
    "duration": 41,
    "start_time": "2022-03-16T01:30:50.358Z"
   },
   {
    "duration": 431,
    "start_time": "2022-03-16T01:30:50.401Z"
   },
   {
    "duration": 258,
    "start_time": "2022-03-16T01:30:50.834Z"
   },
   {
    "duration": 18,
    "start_time": "2022-03-16T01:30:51.094Z"
   },
   {
    "duration": 247,
    "start_time": "2022-03-16T01:30:51.113Z"
   },
   {
    "duration": 29,
    "start_time": "2022-03-16T01:30:51.362Z"
   },
   {
    "duration": 257,
    "start_time": "2022-03-16T01:30:51.393Z"
   },
   {
    "duration": 386,
    "start_time": "2022-03-16T01:30:51.652Z"
   },
   {
    "duration": 6,
    "start_time": "2022-03-16T01:30:52.039Z"
   },
   {
    "duration": 9,
    "start_time": "2022-03-16T01:30:52.046Z"
   },
   {
    "duration": 35,
    "start_time": "2022-03-16T01:30:52.056Z"
   },
   {
    "duration": 4,
    "start_time": "2022-03-16T01:30:52.092Z"
   },
   {
    "duration": 12,
    "start_time": "2022-03-16T01:30:52.097Z"
   },
   {
    "duration": 11,
    "start_time": "2022-03-16T01:30:52.111Z"
   },
   {
    "duration": 6,
    "start_time": "2022-03-16T01:30:52.123Z"
   },
   {
    "duration": 9,
    "start_time": "2022-03-16T01:30:52.130Z"
   },
   {
    "duration": 53,
    "start_time": "2022-03-16T01:30:52.140Z"
   },
   {
    "duration": 252,
    "start_time": "2022-03-16T01:30:52.194Z"
   },
   {
    "duration": 7,
    "start_time": "2022-03-16T01:30:52.448Z"
   },
   {
    "duration": 25,
    "start_time": "2022-03-16T01:30:52.456Z"
   },
   {
    "duration": 15,
    "start_time": "2022-03-16T01:30:52.483Z"
   },
   {
    "duration": 263,
    "start_time": "2022-03-16T01:30:52.500Z"
   },
   {
    "duration": 20,
    "start_time": "2022-03-16T01:30:52.765Z"
   },
   {
    "duration": 7,
    "start_time": "2022-03-16T01:30:52.786Z"
   },
   {
    "duration": 15,
    "start_time": "2022-03-16T01:30:52.795Z"
   },
   {
    "duration": 68247,
    "start_time": "2022-03-16T01:30:52.811Z"
   },
   {
    "duration": 2,
    "start_time": "2022-03-16T01:32:01.060Z"
   },
   {
    "duration": 246,
    "start_time": "2022-03-16T01:32:37.725Z"
   },
   {
    "duration": 358,
    "start_time": "2022-03-16T01:53:34.520Z"
   },
   {
    "duration": 309,
    "start_time": "2022-03-16T01:53:46.915Z"
   },
   {
    "duration": 9,
    "start_time": "2022-03-16T01:54:01.017Z"
   },
   {
    "duration": 20,
    "start_time": "2022-03-16T01:54:21.535Z"
   },
   {
    "duration": 14,
    "start_time": "2022-03-16T01:54:31.510Z"
   },
   {
    "duration": 9,
    "start_time": "2022-03-16T01:55:26.409Z"
   },
   {
    "duration": 15,
    "start_time": "2022-03-16T01:55:43.845Z"
   },
   {
    "duration": 7,
    "start_time": "2022-03-16T01:56:02.879Z"
   },
   {
    "duration": 8,
    "start_time": "2022-03-16T01:56:25.770Z"
   },
   {
    "duration": 7,
    "start_time": "2022-03-16T01:56:32.416Z"
   },
   {
    "duration": 15,
    "start_time": "2022-03-16T01:56:43.258Z"
   },
   {
    "duration": 15,
    "start_time": "2022-03-16T01:56:48.321Z"
   },
   {
    "duration": 16,
    "start_time": "2022-03-16T01:57:30.328Z"
   },
   {
    "duration": 16,
    "start_time": "2022-03-16T02:08:01.837Z"
   },
   {
    "duration": 298,
    "start_time": "2022-03-16T02:11:24.713Z"
   },
   {
    "duration": 7594,
    "start_time": "2022-03-16T02:12:59.562Z"
   },
   {
    "duration": 20,
    "start_time": "2022-03-16T02:13:52.500Z"
   },
   {
    "duration": 19,
    "start_time": "2022-03-16T02:17:29.025Z"
   },
   {
    "duration": 22,
    "start_time": "2022-03-16T02:17:40.257Z"
   },
   {
    "duration": 304,
    "start_time": "2022-03-16T02:18:47.126Z"
   },
   {
    "duration": 295,
    "start_time": "2022-03-16T02:19:34.770Z"
   },
   {
    "duration": 916,
    "start_time": "2022-03-16T02:20:09.131Z"
   },
   {
    "duration": 316,
    "start_time": "2022-03-16T02:20:34.735Z"
   },
   {
    "duration": 10,
    "start_time": "2022-03-16T02:21:00.037Z"
   },
   {
    "duration": 10,
    "start_time": "2022-03-16T02:21:10.488Z"
   },
   {
    "duration": 14,
    "start_time": "2022-03-16T02:22:33.999Z"
   },
   {
    "duration": 293,
    "start_time": "2022-03-16T02:22:38.672Z"
   },
   {
    "duration": 1072,
    "start_time": "2022-03-16T02:23:17.541Z"
   },
   {
    "duration": 5,
    "start_time": "2022-03-16T02:23:18.615Z"
   },
   {
    "duration": 49,
    "start_time": "2022-03-16T02:23:18.621Z"
   },
   {
    "duration": 15,
    "start_time": "2022-03-16T02:23:18.672Z"
   },
   {
    "duration": 12,
    "start_time": "2022-03-16T02:23:18.688Z"
   },
   {
    "duration": 9,
    "start_time": "2022-03-16T02:23:18.701Z"
   },
   {
    "duration": 25,
    "start_time": "2022-03-16T02:23:18.711Z"
   },
   {
    "duration": 3,
    "start_time": "2022-03-16T02:23:18.738Z"
   },
   {
    "duration": 40,
    "start_time": "2022-03-16T02:23:18.742Z"
   },
   {
    "duration": 12,
    "start_time": "2022-03-16T02:23:18.783Z"
   },
   {
    "duration": 14,
    "start_time": "2022-03-16T02:23:18.796Z"
   },
   {
    "duration": 18,
    "start_time": "2022-03-16T02:23:18.811Z"
   },
   {
    "duration": 11,
    "start_time": "2022-03-16T02:23:18.830Z"
   },
   {
    "duration": 9,
    "start_time": "2022-03-16T02:23:18.842Z"
   },
   {
    "duration": 5,
    "start_time": "2022-03-16T02:23:18.853Z"
   },
   {
    "duration": 10,
    "start_time": "2022-03-16T02:23:18.859Z"
   },
   {
    "duration": 6,
    "start_time": "2022-03-16T02:23:18.881Z"
   },
   {
    "duration": 11,
    "start_time": "2022-03-16T02:23:18.888Z"
   },
   {
    "duration": 14,
    "start_time": "2022-03-16T02:23:18.900Z"
   },
   {
    "duration": 7,
    "start_time": "2022-03-16T02:23:18.916Z"
   },
   {
    "duration": 4,
    "start_time": "2022-03-16T02:23:18.924Z"
   },
   {
    "duration": 16,
    "start_time": "2022-03-16T02:23:18.930Z"
   },
   {
    "duration": 6,
    "start_time": "2022-03-16T02:23:18.949Z"
   },
   {
    "duration": 4,
    "start_time": "2022-03-16T02:23:18.957Z"
   },
   {
    "duration": 3,
    "start_time": "2022-03-16T02:23:18.981Z"
   },
   {
    "duration": 7,
    "start_time": "2022-03-16T02:23:18.986Z"
   },
   {
    "duration": 14,
    "start_time": "2022-03-16T02:23:18.994Z"
   },
   {
    "duration": 5,
    "start_time": "2022-03-16T02:23:19.009Z"
   },
   {
    "duration": 9,
    "start_time": "2022-03-16T02:23:19.015Z"
   },
   {
    "duration": 7,
    "start_time": "2022-03-16T02:23:19.026Z"
   },
   {
    "duration": 8,
    "start_time": "2022-03-16T02:23:19.034Z"
   },
   {
    "duration": 7,
    "start_time": "2022-03-16T02:23:19.044Z"
   },
   {
    "duration": 32,
    "start_time": "2022-03-16T02:23:19.052Z"
   },
   {
    "duration": 63,
    "start_time": "2022-03-16T02:23:19.085Z"
   },
   {
    "duration": 9,
    "start_time": "2022-03-16T02:23:19.150Z"
   },
   {
    "duration": 27,
    "start_time": "2022-03-16T02:23:19.160Z"
   },
   {
    "duration": 12,
    "start_time": "2022-03-16T02:23:19.189Z"
   },
   {
    "duration": 10,
    "start_time": "2022-03-16T02:23:19.202Z"
   },
   {
    "duration": 84,
    "start_time": "2022-03-16T02:23:19.214Z"
   },
   {
    "duration": 9,
    "start_time": "2022-03-16T02:23:19.300Z"
   },
   {
    "duration": 15,
    "start_time": "2022-03-16T02:23:19.311Z"
   },
   {
    "duration": 10,
    "start_time": "2022-03-16T02:23:19.328Z"
   },
   {
    "duration": 172,
    "start_time": "2022-03-16T02:23:19.340Z"
   },
   {
    "duration": 6,
    "start_time": "2022-03-16T02:23:19.513Z"
   },
   {
    "duration": 27,
    "start_time": "2022-03-16T02:23:19.520Z"
   },
   {
    "duration": 8,
    "start_time": "2022-03-16T02:23:19.549Z"
   },
   {
    "duration": 9,
    "start_time": "2022-03-16T02:23:19.558Z"
   },
   {
    "duration": 26,
    "start_time": "2022-03-16T02:23:19.568Z"
   },
   {
    "duration": 14,
    "start_time": "2022-03-16T02:23:19.595Z"
   },
   {
    "duration": 431,
    "start_time": "2022-03-16T02:23:19.611Z"
   },
   {
    "duration": 15,
    "start_time": "2022-03-16T02:23:20.044Z"
   },
   {
    "duration": 317,
    "start_time": "2022-03-16T02:23:20.060Z"
   },
   {
    "duration": 8,
    "start_time": "2022-03-16T02:23:20.378Z"
   },
   {
    "duration": 31,
    "start_time": "2022-03-16T02:23:20.387Z"
   },
   {
    "duration": 248,
    "start_time": "2022-03-16T02:23:20.419Z"
   },
   {
    "duration": 2,
    "start_time": "2022-03-16T02:23:20.669Z"
   },
   {
    "duration": 240,
    "start_time": "2022-03-16T02:23:20.680Z"
   },
   {
    "duration": 284,
    "start_time": "2022-03-16T02:23:20.922Z"
   },
   {
    "duration": 246,
    "start_time": "2022-03-16T02:23:21.207Z"
   },
   {
    "duration": 240,
    "start_time": "2022-03-16T02:23:21.454Z"
   },
   {
    "duration": 5,
    "start_time": "2022-03-16T02:23:21.696Z"
   },
   {
    "duration": 26,
    "start_time": "2022-03-16T02:23:21.703Z"
   },
   {
    "duration": 19,
    "start_time": "2022-03-16T02:23:21.731Z"
   },
   {
    "duration": 198,
    "start_time": "2022-03-16T02:23:21.752Z"
   },
   {
    "duration": 207,
    "start_time": "2022-03-16T02:23:21.952Z"
   },
   {
    "duration": 202,
    "start_time": "2022-03-16T02:23:22.160Z"
   },
   {
    "duration": 156,
    "start_time": "2022-03-16T02:23:22.363Z"
   },
   {
    "duration": 32,
    "start_time": "2022-03-16T02:23:22.523Z"
   },
   {
    "duration": 428,
    "start_time": "2022-03-16T02:23:22.557Z"
   },
   {
    "duration": 249,
    "start_time": "2022-03-16T02:23:22.986Z"
   },
   {
    "duration": 17,
    "start_time": "2022-03-16T02:23:23.237Z"
   },
   {
    "duration": 281,
    "start_time": "2022-03-16T02:23:23.256Z"
   },
   {
    "duration": 18,
    "start_time": "2022-03-16T02:23:23.538Z"
   },
   {
    "duration": 312,
    "start_time": "2022-03-16T02:23:23.557Z"
   },
   {
    "duration": 383,
    "start_time": "2022-03-16T02:23:23.871Z"
   },
   {
    "duration": 6,
    "start_time": "2022-03-16T02:23:24.256Z"
   },
   {
    "duration": 10,
    "start_time": "2022-03-16T02:23:24.263Z"
   },
   {
    "duration": 15,
    "start_time": "2022-03-16T02:23:24.281Z"
   },
   {
    "duration": 4,
    "start_time": "2022-03-16T02:23:24.297Z"
   },
   {
    "duration": 14,
    "start_time": "2022-03-16T02:23:24.302Z"
   },
   {
    "duration": 13,
    "start_time": "2022-03-16T02:23:24.318Z"
   },
   {
    "duration": 6,
    "start_time": "2022-03-16T02:23:24.333Z"
   },
   {
    "duration": 43,
    "start_time": "2022-03-16T02:23:24.340Z"
   },
   {
    "duration": 15,
    "start_time": "2022-03-16T02:23:24.385Z"
   },
   {
    "duration": 249,
    "start_time": "2022-03-16T02:23:24.402Z"
   },
   {
    "duration": 6,
    "start_time": "2022-03-16T02:23:24.653Z"
   },
   {
    "duration": 20,
    "start_time": "2022-03-16T02:23:24.661Z"
   },
   {
    "duration": 15,
    "start_time": "2022-03-16T02:23:24.683Z"
   },
   {
    "duration": 257,
    "start_time": "2022-03-16T02:23:24.699Z"
   },
   {
    "duration": 7,
    "start_time": "2022-03-16T02:23:24.958Z"
   },
   {
    "duration": 21,
    "start_time": "2022-03-16T02:23:24.966Z"
   },
   {
    "duration": 29,
    "start_time": "2022-03-16T02:23:24.989Z"
   },
   {
    "duration": 272,
    "start_time": "2022-03-16T02:23:25.019Z"
   },
   {
    "duration": 2,
    "start_time": "2022-03-16T02:23:25.293Z"
   },
   {
    "duration": 27,
    "start_time": "2022-03-16T02:23:25.296Z"
   },
   {
    "duration": 27,
    "start_time": "2022-03-16T02:23:25.325Z"
   },
   {
    "duration": 37,
    "start_time": "2022-03-16T02:23:25.354Z"
   },
   {
    "duration": 363,
    "start_time": "2022-03-16T02:23:25.393Z"
   },
   {
    "duration": -4512,
    "start_time": "2022-03-16T02:23:30.270Z"
   },
   {
    "duration": -4517,
    "start_time": "2022-03-16T02:23:30.276Z"
   },
   {
    "duration": -4530,
    "start_time": "2022-03-16T02:23:30.290Z"
   },
   {
    "duration": 15,
    "start_time": "2022-03-16T02:37:43.916Z"
   },
   {
    "duration": 15,
    "start_time": "2022-03-16T02:37:52.129Z"
   },
   {
    "duration": 11,
    "start_time": "2022-03-16T02:38:44.661Z"
   },
   {
    "duration": 15,
    "start_time": "2022-03-16T02:43:00.694Z"
   },
   {
    "duration": 14,
    "start_time": "2022-03-16T02:43:11.692Z"
   },
   {
    "duration": 10,
    "start_time": "2022-03-16T02:46:35.318Z"
   },
   {
    "duration": 6986,
    "start_time": "2022-03-16T02:49:51.754Z"
   },
   {
    "duration": 1123,
    "start_time": "2022-03-16T02:50:59.169Z"
   },
   {
    "duration": 5,
    "start_time": "2022-03-16T02:51:00.294Z"
   },
   {
    "duration": 43,
    "start_time": "2022-03-16T02:51:00.301Z"
   },
   {
    "duration": 16,
    "start_time": "2022-03-16T02:51:00.346Z"
   },
   {
    "duration": 14,
    "start_time": "2022-03-16T02:51:00.363Z"
   },
   {
    "duration": 10,
    "start_time": "2022-03-16T02:51:00.379Z"
   },
   {
    "duration": 39,
    "start_time": "2022-03-16T02:51:00.391Z"
   },
   {
    "duration": 2,
    "start_time": "2022-03-16T02:51:00.432Z"
   },
   {
    "duration": 31,
    "start_time": "2022-03-16T02:51:00.436Z"
   },
   {
    "duration": 19,
    "start_time": "2022-03-16T02:51:00.468Z"
   },
   {
    "duration": 21,
    "start_time": "2022-03-16T02:51:00.488Z"
   },
   {
    "duration": 16,
    "start_time": "2022-03-16T02:51:00.510Z"
   },
   {
    "duration": 15,
    "start_time": "2022-03-16T02:51:00.528Z"
   },
   {
    "duration": 16,
    "start_time": "2022-03-16T02:51:00.544Z"
   },
   {
    "duration": 33,
    "start_time": "2022-03-16T02:51:00.561Z"
   },
   {
    "duration": 30,
    "start_time": "2022-03-16T02:51:00.595Z"
   },
   {
    "duration": 29,
    "start_time": "2022-03-16T02:51:00.626Z"
   },
   {
    "duration": 30,
    "start_time": "2022-03-16T02:51:00.657Z"
   },
   {
    "duration": 26,
    "start_time": "2022-03-16T02:51:00.689Z"
   },
   {
    "duration": 27,
    "start_time": "2022-03-16T02:51:00.716Z"
   },
   {
    "duration": 29,
    "start_time": "2022-03-16T02:51:00.745Z"
   },
   {
    "duration": 40,
    "start_time": "2022-03-16T02:51:00.776Z"
   },
   {
    "duration": 25,
    "start_time": "2022-03-16T02:51:00.820Z"
   },
   {
    "duration": 26,
    "start_time": "2022-03-16T02:51:00.848Z"
   },
   {
    "duration": 42,
    "start_time": "2022-03-16T02:51:00.876Z"
   },
   {
    "duration": 41,
    "start_time": "2022-03-16T02:51:00.920Z"
   },
   {
    "duration": 64,
    "start_time": "2022-03-16T02:51:00.962Z"
   },
   {
    "duration": 24,
    "start_time": "2022-03-16T02:51:01.027Z"
   },
   {
    "duration": 24,
    "start_time": "2022-03-16T02:51:01.053Z"
   },
   {
    "duration": 30,
    "start_time": "2022-03-16T02:51:01.078Z"
   },
   {
    "duration": 29,
    "start_time": "2022-03-16T02:51:01.109Z"
   },
   {
    "duration": 25,
    "start_time": "2022-03-16T02:51:01.139Z"
   },
   {
    "duration": 37,
    "start_time": "2022-03-16T02:51:01.165Z"
   },
   {
    "duration": 80,
    "start_time": "2022-03-16T02:51:01.203Z"
   },
   {
    "duration": 8,
    "start_time": "2022-03-16T02:51:01.284Z"
   },
   {
    "duration": 38,
    "start_time": "2022-03-16T02:51:01.293Z"
   },
   {
    "duration": 53,
    "start_time": "2022-03-16T02:51:01.333Z"
   },
   {
    "duration": 27,
    "start_time": "2022-03-16T02:51:01.388Z"
   },
   {
    "duration": 88,
    "start_time": "2022-03-16T02:51:01.417Z"
   },
   {
    "duration": 7,
    "start_time": "2022-03-16T02:51:01.507Z"
   },
   {
    "duration": 29,
    "start_time": "2022-03-16T02:51:01.516Z"
   },
   {
    "duration": 38,
    "start_time": "2022-03-16T02:51:01.547Z"
   },
   {
    "duration": 209,
    "start_time": "2022-03-16T02:51:01.586Z"
   },
   {
    "duration": 5,
    "start_time": "2022-03-16T02:51:01.796Z"
   },
   {
    "duration": 42,
    "start_time": "2022-03-16T02:51:01.802Z"
   },
   {
    "duration": 14,
    "start_time": "2022-03-16T02:51:01.846Z"
   },
   {
    "duration": 16,
    "start_time": "2022-03-16T02:51:01.861Z"
   },
   {
    "duration": 54,
    "start_time": "2022-03-16T02:51:01.878Z"
   },
   {
    "duration": 22,
    "start_time": "2022-03-16T02:51:01.933Z"
   },
   {
    "duration": 449,
    "start_time": "2022-03-16T02:51:01.956Z"
   },
   {
    "duration": 14,
    "start_time": "2022-03-16T02:51:02.407Z"
   },
   {
    "duration": 325,
    "start_time": "2022-03-16T02:51:02.422Z"
   },
   {
    "duration": 9,
    "start_time": "2022-03-16T02:51:02.748Z"
   },
   {
    "duration": 32,
    "start_time": "2022-03-16T02:51:02.758Z"
   },
   {
    "duration": 247,
    "start_time": "2022-03-16T02:51:02.791Z"
   },
   {
    "duration": 2,
    "start_time": "2022-03-16T02:51:03.040Z"
   },
   {
    "duration": 249,
    "start_time": "2022-03-16T02:51:03.043Z"
   },
   {
    "duration": 289,
    "start_time": "2022-03-16T02:51:03.293Z"
   },
   {
    "duration": 234,
    "start_time": "2022-03-16T02:51:03.583Z"
   },
   {
    "duration": 241,
    "start_time": "2022-03-16T02:51:03.818Z"
   },
   {
    "duration": 5,
    "start_time": "2022-03-16T02:51:04.060Z"
   },
   {
    "duration": 15,
    "start_time": "2022-03-16T02:51:04.067Z"
   },
   {
    "duration": 25,
    "start_time": "2022-03-16T02:51:04.084Z"
   },
   {
    "duration": 194,
    "start_time": "2022-03-16T02:51:04.110Z"
   },
   {
    "duration": 202,
    "start_time": "2022-03-16T02:51:04.305Z"
   },
   {
    "duration": 213,
    "start_time": "2022-03-16T02:51:04.509Z"
   },
   {
    "duration": 157,
    "start_time": "2022-03-16T02:51:04.724Z"
   },
   {
    "duration": 31,
    "start_time": "2022-03-16T02:51:04.886Z"
   },
   {
    "duration": 423,
    "start_time": "2022-03-16T02:51:04.919Z"
   },
   {
    "duration": 262,
    "start_time": "2022-03-16T02:51:05.343Z"
   },
   {
    "duration": 20,
    "start_time": "2022-03-16T02:51:05.607Z"
   },
   {
    "duration": 262,
    "start_time": "2022-03-16T02:51:05.629Z"
   },
   {
    "duration": 18,
    "start_time": "2022-03-16T02:51:05.893Z"
   },
   {
    "duration": 256,
    "start_time": "2022-03-16T02:51:05.913Z"
   },
   {
    "duration": 394,
    "start_time": "2022-03-16T02:51:06.171Z"
   },
   {
    "duration": 6,
    "start_time": "2022-03-16T02:51:06.566Z"
   },
   {
    "duration": 7,
    "start_time": "2022-03-16T02:51:06.581Z"
   },
   {
    "duration": 14,
    "start_time": "2022-03-16T02:51:06.589Z"
   },
   {
    "duration": 3,
    "start_time": "2022-03-16T02:51:06.605Z"
   },
   {
    "duration": 12,
    "start_time": "2022-03-16T02:51:06.610Z"
   },
   {
    "duration": 13,
    "start_time": "2022-03-16T02:51:06.623Z"
   },
   {
    "duration": 7,
    "start_time": "2022-03-16T02:51:06.637Z"
   },
   {
    "duration": 39,
    "start_time": "2022-03-16T02:51:06.645Z"
   },
   {
    "duration": 16,
    "start_time": "2022-03-16T02:51:06.685Z"
   },
   {
    "duration": 260,
    "start_time": "2022-03-16T02:51:06.703Z"
   },
   {
    "duration": 17,
    "start_time": "2022-03-16T02:51:06.965Z"
   },
   {
    "duration": 7,
    "start_time": "2022-03-16T02:51:06.983Z"
   },
   {
    "duration": 17,
    "start_time": "2022-03-16T02:51:06.992Z"
   },
   {
    "duration": 282,
    "start_time": "2022-03-16T02:51:07.011Z"
   },
   {
    "duration": 7,
    "start_time": "2022-03-16T02:51:07.294Z"
   },
   {
    "duration": 6,
    "start_time": "2022-03-16T02:51:07.303Z"
   },
   {
    "duration": 16,
    "start_time": "2022-03-16T02:51:07.311Z"
   },
   {
    "duration": 275,
    "start_time": "2022-03-16T02:51:07.329Z"
   },
   {
    "duration": 2,
    "start_time": "2022-03-16T02:51:07.605Z"
   },
   {
    "duration": 22,
    "start_time": "2022-03-16T02:51:07.608Z"
   },
   {
    "duration": 17,
    "start_time": "2022-03-16T02:51:07.631Z"
   },
   {
    "duration": 41,
    "start_time": "2022-03-16T02:51:07.650Z"
   },
   {
    "duration": 13,
    "start_time": "2022-03-16T02:51:07.692Z"
   },
   {
    "duration": 15,
    "start_time": "2022-03-16T02:51:07.706Z"
   },
   {
    "duration": 8,
    "start_time": "2022-03-16T02:51:07.723Z"
   },
   {
    "duration": 7086,
    "start_time": "2022-03-16T02:51:07.733Z"
   },
   {
    "duration": 7049,
    "start_time": "2022-03-16T02:51:34.803Z"
   },
   {
    "duration": 9,
    "start_time": "2022-03-16T02:52:20.173Z"
   },
   {
    "duration": 7228,
    "start_time": "2022-03-16T02:55:25.017Z"
   },
   {
    "duration": 7,
    "start_time": "2022-03-16T02:56:15.166Z"
   },
   {
    "duration": 10,
    "start_time": "2022-03-16T02:56:51.326Z"
   },
   {
    "duration": 10,
    "start_time": "2022-03-16T02:57:52.666Z"
   },
   {
    "duration": 19,
    "start_time": "2022-03-16T03:00:42.765Z"
   },
   {
    "duration": 6,
    "start_time": "2022-03-16T03:02:01.703Z"
   },
   {
    "duration": 7,
    "start_time": "2022-03-16T03:02:09.052Z"
   },
   {
    "duration": 21,
    "start_time": "2022-03-16T03:02:23.514Z"
   },
   {
    "duration": 12,
    "start_time": "2022-03-16T03:02:50.023Z"
   },
   {
    "duration": 15,
    "start_time": "2022-03-16T03:04:00.093Z"
   },
   {
    "duration": 15,
    "start_time": "2022-03-16T03:04:06.911Z"
   },
   {
    "duration": 12,
    "start_time": "2022-03-16T03:05:46.273Z"
   },
   {
    "duration": 12,
    "start_time": "2022-03-16T03:12:01.395Z"
   },
   {
    "duration": 147,
    "start_time": "2022-03-16T03:12:31.529Z"
   },
   {
    "duration": 159,
    "start_time": "2022-03-16T03:12:56.930Z"
   },
   {
    "duration": 147,
    "start_time": "2022-03-16T03:13:18.749Z"
   },
   {
    "duration": 304,
    "start_time": "2022-03-16T03:16:11.957Z"
   },
   {
    "duration": 20,
    "start_time": "2022-03-16T03:16:32.201Z"
   },
   {
    "duration": 19,
    "start_time": "2022-03-16T03:18:14.339Z"
   },
   {
    "duration": 24,
    "start_time": "2022-03-16T03:21:14.697Z"
   },
   {
    "duration": 22,
    "start_time": "2022-03-16T03:23:15.296Z"
   },
   {
    "duration": 21,
    "start_time": "2022-03-16T03:23:31.105Z"
   },
   {
    "duration": 309,
    "start_time": "2022-03-16T03:27:58.343Z"
   },
   {
    "duration": 285,
    "start_time": "2022-03-16T03:28:10.428Z"
   },
   {
    "duration": 277,
    "start_time": "2022-03-16T03:28:31.747Z"
   },
   {
    "duration": 13,
    "start_time": "2022-03-16T03:29:16.183Z"
   },
   {
    "duration": 18,
    "start_time": "2022-03-16T03:29:24.315Z"
   },
   {
    "duration": 338,
    "start_time": "2022-03-16T03:29:41.145Z"
   },
   {
    "duration": 17,
    "start_time": "2022-03-16T03:30:04.921Z"
   },
   {
    "duration": 250,
    "start_time": "2022-03-16T03:30:19.883Z"
   },
   {
    "duration": 297,
    "start_time": "2022-03-16T03:30:43.600Z"
   },
   {
    "duration": 17,
    "start_time": "2022-03-16T03:30:51.998Z"
   },
   {
    "duration": 260,
    "start_time": "2022-03-16T03:31:04.229Z"
   },
   {
    "duration": 4,
    "start_time": "2022-03-16T03:59:15.496Z"
   },
   {
    "duration": 15,
    "start_time": "2022-03-16T04:16:54.544Z"
   },
   {
    "duration": 116,
    "start_time": "2022-03-16T22:42:59.733Z"
   },
   {
    "duration": 383,
    "start_time": "2022-03-16T22:48:08.882Z"
   },
   {
    "duration": 1511,
    "start_time": "2022-03-16T22:48:14.189Z"
   },
   {
    "duration": 66,
    "start_time": "2022-03-16T22:48:15.703Z"
   },
   {
    "duration": 27,
    "start_time": "2022-03-16T22:48:15.772Z"
   },
   {
    "duration": 16,
    "start_time": "2022-03-16T22:48:15.801Z"
   },
   {
    "duration": 21,
    "start_time": "2022-03-16T22:48:15.843Z"
   },
   {
    "duration": 43,
    "start_time": "2022-03-16T22:48:15.867Z"
   },
   {
    "duration": 4,
    "start_time": "2022-03-16T22:48:15.912Z"
   },
   {
    "duration": 53,
    "start_time": "2022-03-16T22:48:15.920Z"
   },
   {
    "duration": 24,
    "start_time": "2022-03-16T22:48:15.977Z"
   },
   {
    "duration": 52,
    "start_time": "2022-03-16T22:48:16.004Z"
   },
   {
    "duration": 16,
    "start_time": "2022-03-16T22:48:16.059Z"
   },
   {
    "duration": 22,
    "start_time": "2022-03-16T22:48:16.078Z"
   },
   {
    "duration": 12,
    "start_time": "2022-03-16T22:48:16.103Z"
   },
   {
    "duration": 14,
    "start_time": "2022-03-16T22:48:16.143Z"
   },
   {
    "duration": 17,
    "start_time": "2022-03-16T22:48:16.161Z"
   },
   {
    "duration": 9,
    "start_time": "2022-03-16T22:48:16.180Z"
   },
   {
    "duration": 12,
    "start_time": "2022-03-16T22:48:16.191Z"
   },
   {
    "duration": 8,
    "start_time": "2022-03-16T22:48:16.205Z"
   },
   {
    "duration": 18,
    "start_time": "2022-03-16T22:48:16.243Z"
   },
   {
    "duration": 8,
    "start_time": "2022-03-16T22:48:16.264Z"
   },
   {
    "duration": 17,
    "start_time": "2022-03-16T22:48:16.275Z"
   },
   {
    "duration": 8,
    "start_time": "2022-03-16T22:48:16.295Z"
   },
   {
    "duration": 19,
    "start_time": "2022-03-16T22:48:16.343Z"
   },
   {
    "duration": 6,
    "start_time": "2022-03-16T22:48:16.367Z"
   },
   {
    "duration": 13,
    "start_time": "2022-03-16T22:48:16.376Z"
   },
   {
    "duration": 60,
    "start_time": "2022-03-16T22:48:16.391Z"
   },
   {
    "duration": 7,
    "start_time": "2022-03-16T22:48:16.454Z"
   },
   {
    "duration": 9,
    "start_time": "2022-03-16T22:48:16.464Z"
   },
   {
    "duration": 12,
    "start_time": "2022-03-16T22:48:16.478Z"
   },
   {
    "duration": 7,
    "start_time": "2022-03-16T22:48:16.492Z"
   },
   {
    "duration": 10,
    "start_time": "2022-03-16T22:48:16.501Z"
   },
   {
    "duration": 21,
    "start_time": "2022-03-16T22:48:16.546Z"
   },
   {
    "duration": 126,
    "start_time": "2022-03-16T22:48:16.570Z"
   },
   {
    "duration": 12,
    "start_time": "2022-03-16T22:48:16.699Z"
   },
   {
    "duration": 10,
    "start_time": "2022-03-16T22:48:16.714Z"
   },
   {
    "duration": 40,
    "start_time": "2022-03-16T22:48:16.727Z"
   },
   {
    "duration": 18,
    "start_time": "2022-03-16T22:48:16.769Z"
   },
   {
    "duration": 130,
    "start_time": "2022-03-16T22:48:16.790Z"
   },
   {
    "duration": 12,
    "start_time": "2022-03-16T22:48:16.922Z"
   },
   {
    "duration": 12,
    "start_time": "2022-03-16T22:48:16.943Z"
   },
   {
    "duration": 15,
    "start_time": "2022-03-16T22:48:16.957Z"
   },
   {
    "duration": 313,
    "start_time": "2022-03-16T22:48:16.975Z"
   },
   {
    "duration": 7,
    "start_time": "2022-03-16T22:48:17.290Z"
   },
   {
    "duration": 25,
    "start_time": "2022-03-16T22:48:17.300Z"
   },
   {
    "duration": 14,
    "start_time": "2022-03-16T22:48:17.344Z"
   },
   {
    "duration": 10,
    "start_time": "2022-03-16T22:48:17.360Z"
   },
   {
    "duration": 25,
    "start_time": "2022-03-16T22:48:17.372Z"
   },
   {
    "duration": 15,
    "start_time": "2022-03-16T22:48:17.400Z"
   },
   {
    "duration": 867,
    "start_time": "2022-03-16T22:48:17.444Z"
   },
   {
    "duration": 40,
    "start_time": "2022-03-16T22:48:18.314Z"
   },
   {
    "duration": 790,
    "start_time": "2022-03-16T22:48:18.357Z"
   },
   {
    "duration": 13,
    "start_time": "2022-03-16T22:48:19.150Z"
   },
   {
    "duration": 38,
    "start_time": "2022-03-16T22:48:19.166Z"
   },
   {
    "duration": 496,
    "start_time": "2022-03-16T22:48:19.206Z"
   },
   {
    "duration": 480,
    "start_time": "2022-03-16T22:48:19.704Z"
   },
   {
    "duration": 523,
    "start_time": "2022-03-16T22:48:20.186Z"
   },
   {
    "duration": 471,
    "start_time": "2022-03-16T22:48:20.711Z"
   },
   {
    "duration": 476,
    "start_time": "2022-03-16T22:48:21.184Z"
   },
   {
    "duration": 8,
    "start_time": "2022-03-16T22:48:21.663Z"
   },
   {
    "duration": 11,
    "start_time": "2022-03-16T22:48:21.673Z"
   },
   {
    "duration": 69,
    "start_time": "2022-03-16T22:48:21.686Z"
   },
   {
    "duration": 477,
    "start_time": "2022-03-16T22:48:21.757Z"
   },
   {
    "duration": 391,
    "start_time": "2022-03-16T22:48:22.236Z"
   },
   {
    "duration": 398,
    "start_time": "2022-03-16T22:48:22.630Z"
   },
   {
    "duration": 293,
    "start_time": "2022-03-16T22:48:23.031Z"
   },
   {
    "duration": 67,
    "start_time": "2022-03-16T22:48:23.326Z"
   },
   {
    "duration": 895,
    "start_time": "2022-03-16T22:48:23.395Z"
   },
   {
    "duration": 490,
    "start_time": "2022-03-16T22:48:24.298Z"
   },
   {
    "duration": 30,
    "start_time": "2022-03-16T22:48:24.791Z"
   },
   {
    "duration": 420,
    "start_time": "2022-03-16T22:48:24.843Z"
   },
   {
    "duration": 30,
    "start_time": "2022-03-16T22:48:25.265Z"
   },
   {
    "duration": 452,
    "start_time": "2022-03-16T22:48:25.298Z"
   },
   {
    "duration": 678,
    "start_time": "2022-03-16T22:48:25.753Z"
   },
   {
    "duration": 16,
    "start_time": "2022-03-16T22:48:26.433Z"
   },
   {
    "duration": 20,
    "start_time": "2022-03-16T22:48:26.452Z"
   },
   {
    "duration": 21,
    "start_time": "2022-03-16T22:48:26.475Z"
   },
   {
    "duration": 5,
    "start_time": "2022-03-16T22:48:26.498Z"
   },
   {
    "duration": 53,
    "start_time": "2022-03-16T22:48:26.505Z"
   },
   {
    "duration": 22,
    "start_time": "2022-03-16T22:48:26.561Z"
   },
   {
    "duration": 10,
    "start_time": "2022-03-16T22:48:26.585Z"
   },
   {
    "duration": 9,
    "start_time": "2022-03-16T22:48:26.597Z"
   },
   {
    "duration": 63,
    "start_time": "2022-03-16T22:48:26.609Z"
   },
   {
    "duration": 482,
    "start_time": "2022-03-16T22:48:26.675Z"
   },
   {
    "duration": 13,
    "start_time": "2022-03-16T22:48:27.160Z"
   },
   {
    "duration": 12,
    "start_time": "2022-03-16T22:48:27.176Z"
   },
   {
    "duration": 68,
    "start_time": "2022-03-16T22:48:27.190Z"
   },
   {
    "duration": 472,
    "start_time": "2022-03-16T22:48:27.262Z"
   },
   {
    "duration": 17,
    "start_time": "2022-03-16T22:48:27.743Z"
   },
   {
    "duration": 11,
    "start_time": "2022-03-16T22:48:27.762Z"
   },
   {
    "duration": 28,
    "start_time": "2022-03-16T22:48:27.775Z"
   },
   {
    "duration": 527,
    "start_time": "2022-03-16T22:48:27.805Z"
   },
   {
    "duration": 40,
    "start_time": "2022-03-16T22:48:28.335Z"
   },
   {
    "duration": 32,
    "start_time": "2022-03-16T22:48:28.378Z"
   },
   {
    "duration": 72,
    "start_time": "2022-03-16T22:48:28.413Z"
   },
   {
    "duration": 22,
    "start_time": "2022-03-16T22:48:28.488Z"
   },
   {
    "duration": 58,
    "start_time": "2022-03-16T22:48:28.513Z"
   },
   {
    "duration": 15,
    "start_time": "2022-03-16T22:48:28.573Z"
   },
   {
    "duration": 23,
    "start_time": "2022-03-16T22:48:28.591Z"
   },
   {
    "duration": 414,
    "start_time": "2022-03-16T23:00:26.472Z"
   },
   {
    "duration": 12,
    "start_time": "2022-03-16T23:01:24.498Z"
   },
   {
    "duration": 18,
    "start_time": "2022-03-16T23:02:17.843Z"
   },
   {
    "duration": 1559,
    "start_time": "2022-03-16T23:02:42.656Z"
   },
   {
    "duration": 53,
    "start_time": "2022-03-16T23:02:44.218Z"
   },
   {
    "duration": 26,
    "start_time": "2022-03-16T23:02:44.274Z"
   },
   {
    "duration": 16,
    "start_time": "2022-03-16T23:02:44.303Z"
   },
   {
    "duration": 38,
    "start_time": "2022-03-16T23:02:44.321Z"
   },
   {
    "duration": 42,
    "start_time": "2022-03-16T23:02:44.362Z"
   },
   {
    "duration": 4,
    "start_time": "2022-03-16T23:02:44.406Z"
   },
   {
    "duration": 57,
    "start_time": "2022-03-16T23:02:44.412Z"
   },
   {
    "duration": 19,
    "start_time": "2022-03-16T23:02:44.473Z"
   },
   {
    "duration": 18,
    "start_time": "2022-03-16T23:02:44.495Z"
   },
   {
    "duration": 16,
    "start_time": "2022-03-16T23:02:44.543Z"
   },
   {
    "duration": 18,
    "start_time": "2022-03-16T23:02:44.561Z"
   },
   {
    "duration": 11,
    "start_time": "2022-03-16T23:02:44.582Z"
   },
   {
    "duration": 7,
    "start_time": "2022-03-16T23:02:44.595Z"
   },
   {
    "duration": 44,
    "start_time": "2022-03-16T23:02:44.604Z"
   },
   {
    "duration": 10,
    "start_time": "2022-03-16T23:02:44.650Z"
   },
   {
    "duration": 12,
    "start_time": "2022-03-16T23:02:44.662Z"
   },
   {
    "duration": 9,
    "start_time": "2022-03-16T23:02:44.676Z"
   },
   {
    "duration": 9,
    "start_time": "2022-03-16T23:02:44.687Z"
   },
   {
    "duration": 46,
    "start_time": "2022-03-16T23:02:44.698Z"
   },
   {
    "duration": 19,
    "start_time": "2022-03-16T23:02:44.746Z"
   },
   {
    "duration": 8,
    "start_time": "2022-03-16T23:02:44.768Z"
   },
   {
    "duration": 6,
    "start_time": "2022-03-16T23:02:44.778Z"
   },
   {
    "duration": 5,
    "start_time": "2022-03-16T23:02:44.787Z"
   },
   {
    "duration": 64,
    "start_time": "2022-03-16T23:02:44.794Z"
   },
   {
    "duration": 21,
    "start_time": "2022-03-16T23:02:44.861Z"
   },
   {
    "duration": 5,
    "start_time": "2022-03-16T23:02:44.891Z"
   },
   {
    "duration": 9,
    "start_time": "2022-03-16T23:02:44.902Z"
   },
   {
    "duration": 51,
    "start_time": "2022-03-16T23:02:44.913Z"
   },
   {
    "duration": 12,
    "start_time": "2022-03-16T23:02:44.966Z"
   },
   {
    "duration": 8,
    "start_time": "2022-03-16T23:02:44.981Z"
   },
   {
    "duration": 9,
    "start_time": "2022-03-16T23:02:44.991Z"
   },
   {
    "duration": 152,
    "start_time": "2022-03-16T23:02:45.003Z"
   },
   {
    "duration": 13,
    "start_time": "2022-03-16T23:02:45.157Z"
   },
   {
    "duration": 11,
    "start_time": "2022-03-16T23:02:45.173Z"
   },
   {
    "duration": 9,
    "start_time": "2022-03-16T23:02:45.186Z"
   },
   {
    "duration": 52,
    "start_time": "2022-03-16T23:02:45.198Z"
   },
   {
    "duration": 120,
    "start_time": "2022-03-16T23:02:45.254Z"
   },
   {
    "duration": 11,
    "start_time": "2022-03-16T23:02:45.377Z"
   },
   {
    "duration": 9,
    "start_time": "2022-03-16T23:02:45.391Z"
   },
   {
    "duration": 8,
    "start_time": "2022-03-16T23:02:45.402Z"
   },
   {
    "duration": 305,
    "start_time": "2022-03-16T23:02:45.412Z"
   },
   {
    "duration": 6,
    "start_time": "2022-03-16T23:02:45.720Z"
   },
   {
    "duration": 38,
    "start_time": "2022-03-16T23:02:45.728Z"
   },
   {
    "duration": 12,
    "start_time": "2022-03-16T23:02:45.769Z"
   },
   {
    "duration": 5,
    "start_time": "2022-03-16T23:02:45.784Z"
   },
   {
    "duration": 65,
    "start_time": "2022-03-16T23:02:45.791Z"
   },
   {
    "duration": 17,
    "start_time": "2022-03-16T23:02:45.858Z"
   },
   {
    "duration": 953,
    "start_time": "2022-03-16T23:02:45.878Z"
   },
   {
    "duration": 38,
    "start_time": "2022-03-16T23:02:46.833Z"
   },
   {
    "duration": 622,
    "start_time": "2022-03-16T23:02:46.874Z"
   },
   {
    "duration": 11,
    "start_time": "2022-03-16T23:02:47.499Z"
   },
   {
    "duration": 56,
    "start_time": "2022-03-16T23:02:47.512Z"
   },
   {
    "duration": 476,
    "start_time": "2022-03-16T23:02:47.570Z"
   },
   {
    "duration": 461,
    "start_time": "2022-03-16T23:02:48.048Z"
   },
   {
    "duration": 493,
    "start_time": "2022-03-16T23:02:48.511Z"
   },
   {
    "duration": 450,
    "start_time": "2022-03-16T23:02:49.006Z"
   },
   {
    "duration": 542,
    "start_time": "2022-03-16T23:02:49.458Z"
   },
   {
    "duration": 8,
    "start_time": "2022-03-16T23:02:50.002Z"
   },
   {
    "duration": 11,
    "start_time": "2022-03-16T23:02:50.012Z"
   },
   {
    "duration": 32,
    "start_time": "2022-03-16T23:02:50.050Z"
   },
   {
    "duration": 375,
    "start_time": "2022-03-16T23:02:50.084Z"
   },
   {
    "duration": 17,
    "start_time": "2022-03-16T23:02:50.462Z"
   },
   {
    "duration": 391,
    "start_time": "2022-03-16T23:02:50.482Z"
   },
   {
    "duration": 387,
    "start_time": "2022-03-16T23:02:50.876Z"
   },
   {
    "duration": 477,
    "start_time": "2022-03-16T23:02:51.265Z"
   },
   {
    "duration": -981,
    "start_time": "2022-03-16T23:02:52.728Z"
   },
   {
    "duration": -995,
    "start_time": "2022-03-16T23:02:52.744Z"
   },
   {
    "duration": -1009,
    "start_time": "2022-03-16T23:02:52.761Z"
   },
   {
    "duration": -1023,
    "start_time": "2022-03-16T23:02:52.776Z"
   },
   {
    "duration": -1038,
    "start_time": "2022-03-16T23:02:52.793Z"
   },
   {
    "duration": -1049,
    "start_time": "2022-03-16T23:02:52.805Z"
   },
   {
    "duration": -1063,
    "start_time": "2022-03-16T23:02:52.820Z"
   },
   {
    "duration": -1067,
    "start_time": "2022-03-16T23:02:52.826Z"
   },
   {
    "duration": -1077,
    "start_time": "2022-03-16T23:02:52.838Z"
   },
   {
    "duration": -1083,
    "start_time": "2022-03-16T23:02:52.846Z"
   },
   {
    "duration": -1092,
    "start_time": "2022-03-16T23:02:52.856Z"
   },
   {
    "duration": -1105,
    "start_time": "2022-03-16T23:02:52.870Z"
   },
   {
    "duration": -1111,
    "start_time": "2022-03-16T23:02:52.877Z"
   },
   {
    "duration": -1126,
    "start_time": "2022-03-16T23:02:52.894Z"
   },
   {
    "duration": -1138,
    "start_time": "2022-03-16T23:02:52.907Z"
   },
   {
    "duration": -1151,
    "start_time": "2022-03-16T23:02:52.921Z"
   },
   {
    "duration": -1170,
    "start_time": "2022-03-16T23:02:52.942Z"
   },
   {
    "duration": -1173,
    "start_time": "2022-03-16T23:02:52.946Z"
   },
   {
    "duration": -1176,
    "start_time": "2022-03-16T23:02:52.950Z"
   },
   {
    "duration": -1177,
    "start_time": "2022-03-16T23:02:52.953Z"
   },
   {
    "duration": -1190,
    "start_time": "2022-03-16T23:02:52.967Z"
   },
   {
    "duration": -1194,
    "start_time": "2022-03-16T23:02:52.972Z"
   },
   {
    "duration": -1215,
    "start_time": "2022-03-16T23:02:52.995Z"
   },
   {
    "duration": -1225,
    "start_time": "2022-03-16T23:02:53.006Z"
   },
   {
    "duration": -1228,
    "start_time": "2022-03-16T23:02:53.010Z"
   },
   {
    "duration": -1230,
    "start_time": "2022-03-16T23:02:53.014Z"
   },
   {
    "duration": -1232,
    "start_time": "2022-03-16T23:02:53.017Z"
   },
   {
    "duration": -1244,
    "start_time": "2022-03-16T23:02:53.030Z"
   },
   {
    "duration": -1248,
    "start_time": "2022-03-16T23:02:53.036Z"
   },
   {
    "duration": -1190,
    "start_time": "2022-03-16T23:02:53.040Z"
   },
   {
    "duration": -1192,
    "start_time": "2022-03-16T23:02:53.044Z"
   },
   {
    "duration": -1196,
    "start_time": "2022-03-16T23:02:53.051Z"
   },
   {
    "duration": -1198,
    "start_time": "2022-03-16T23:02:53.055Z"
   },
   {
    "duration": -1200,
    "start_time": "2022-03-16T23:02:53.059Z"
   },
   {
    "duration": -1201,
    "start_time": "2022-03-16T23:02:53.063Z"
   },
   {
    "duration": 327,
    "start_time": "2022-03-16T23:04:42.690Z"
   },
   {
    "duration": 7,
    "start_time": "2022-03-16T23:05:30.772Z"
   },
   {
    "duration": 49,
    "start_time": "2022-03-16T23:05:30.783Z"
   },
   {
    "duration": 27,
    "start_time": "2022-03-16T23:05:30.835Z"
   },
   {
    "duration": 21,
    "start_time": "2022-03-16T23:05:30.866Z"
   },
   {
    "duration": 15,
    "start_time": "2022-03-16T23:05:30.890Z"
   },
   {
    "duration": 48,
    "start_time": "2022-03-16T23:05:30.943Z"
   },
   {
    "duration": 4,
    "start_time": "2022-03-16T23:05:30.994Z"
   },
   {
    "duration": 71,
    "start_time": "2022-03-16T23:05:31.000Z"
   },
   {
    "duration": 24,
    "start_time": "2022-03-16T23:05:31.077Z"
   },
   {
    "duration": 51,
    "start_time": "2022-03-16T23:05:31.105Z"
   },
   {
    "duration": 13,
    "start_time": "2022-03-16T23:05:31.159Z"
   },
   {
    "duration": 18,
    "start_time": "2022-03-16T23:05:31.175Z"
   },
   {
    "duration": 13,
    "start_time": "2022-03-16T23:05:31.195Z"
   },
   {
    "duration": 40,
    "start_time": "2022-03-16T23:05:31.210Z"
   },
   {
    "duration": 25,
    "start_time": "2022-03-16T23:05:31.254Z"
   },
   {
    "duration": 13,
    "start_time": "2022-03-16T23:05:31.282Z"
   },
   {
    "duration": 14,
    "start_time": "2022-03-16T23:05:31.298Z"
   },
   {
    "duration": 33,
    "start_time": "2022-03-16T23:05:31.315Z"
   },
   {
    "duration": 13,
    "start_time": "2022-03-16T23:05:31.350Z"
   },
   {
    "duration": 11,
    "start_time": "2022-03-16T23:05:31.365Z"
   },
   {
    "duration": 20,
    "start_time": "2022-03-16T23:05:31.378Z"
   },
   {
    "duration": 9,
    "start_time": "2022-03-16T23:05:31.400Z"
   },
   {
    "duration": 13,
    "start_time": "2022-03-16T23:05:31.443Z"
   },
   {
    "duration": 6,
    "start_time": "2022-03-16T23:05:31.464Z"
   },
   {
    "duration": 21,
    "start_time": "2022-03-16T23:05:31.473Z"
   },
   {
    "duration": 20,
    "start_time": "2022-03-16T23:05:31.497Z"
   },
   {
    "duration": 7,
    "start_time": "2022-03-16T23:05:31.552Z"
   },
   {
    "duration": 15,
    "start_time": "2022-03-16T23:05:31.562Z"
   },
   {
    "duration": 19,
    "start_time": "2022-03-16T23:05:31.580Z"
   },
   {
    "duration": 14,
    "start_time": "2022-03-16T23:05:31.601Z"
   },
   {
    "duration": 34,
    "start_time": "2022-03-16T23:05:31.617Z"
   },
   {
    "duration": 11,
    "start_time": "2022-03-16T23:05:31.654Z"
   },
   {
    "duration": 138,
    "start_time": "2022-03-16T23:05:31.668Z"
   },
   {
    "duration": 13,
    "start_time": "2022-03-16T23:05:31.808Z"
   },
   {
    "duration": 27,
    "start_time": "2022-03-16T23:05:31.824Z"
   },
   {
    "duration": 15,
    "start_time": "2022-03-16T23:05:31.853Z"
   },
   {
    "duration": 17,
    "start_time": "2022-03-16T23:05:31.871Z"
   },
   {
    "duration": 139,
    "start_time": "2022-03-16T23:05:31.892Z"
   },
   {
    "duration": 23,
    "start_time": "2022-03-16T23:05:32.033Z"
   },
   {
    "duration": 13,
    "start_time": "2022-03-16T23:05:32.060Z"
   },
   {
    "duration": 10,
    "start_time": "2022-03-16T23:05:32.076Z"
   },
   {
    "duration": 310,
    "start_time": "2022-03-16T23:05:32.089Z"
   },
   {
    "duration": 9,
    "start_time": "2022-03-16T23:05:32.401Z"
   },
   {
    "duration": 43,
    "start_time": "2022-03-16T23:05:32.413Z"
   },
   {
    "duration": 12,
    "start_time": "2022-03-16T23:05:32.459Z"
   },
   {
    "duration": 6,
    "start_time": "2022-03-16T23:05:32.473Z"
   },
   {
    "duration": 20,
    "start_time": "2022-03-16T23:05:32.481Z"
   },
   {
    "duration": 53,
    "start_time": "2022-03-16T23:05:32.503Z"
   },
   {
    "duration": 835,
    "start_time": "2022-03-16T23:05:32.559Z"
   },
   {
    "duration": 24,
    "start_time": "2022-03-16T23:05:33.396Z"
   },
   {
    "duration": 608,
    "start_time": "2022-03-16T23:05:33.422Z"
   },
   {
    "duration": 22,
    "start_time": "2022-03-16T23:05:34.033Z"
   },
   {
    "duration": 40,
    "start_time": "2022-03-16T23:05:34.058Z"
   },
   {
    "duration": 469,
    "start_time": "2022-03-16T23:05:34.100Z"
   },
   {
    "duration": 549,
    "start_time": "2022-03-16T23:05:34.571Z"
   },
   {
    "duration": 443,
    "start_time": "2022-03-16T23:05:35.122Z"
   },
   {
    "duration": 476,
    "start_time": "2022-03-16T23:05:35.567Z"
   },
   {
    "duration": 443,
    "start_time": "2022-03-16T23:05:36.046Z"
   },
   {
    "duration": 8,
    "start_time": "2022-03-16T23:05:36.491Z"
   },
   {
    "duration": 13,
    "start_time": "2022-03-16T23:05:36.501Z"
   },
   {
    "duration": 56,
    "start_time": "2022-03-16T23:05:36.516Z"
   },
   {
    "duration": 379,
    "start_time": "2022-03-16T23:05:36.575Z"
   },
   {
    "duration": 363,
    "start_time": "2022-03-16T23:05:36.956Z"
   },
   {
    "duration": -972,
    "start_time": "2022-03-16T23:05:38.295Z"
   },
   {
    "duration": -997,
    "start_time": "2022-03-16T23:05:38.321Z"
   },
   {
    "duration": -1012,
    "start_time": "2022-03-16T23:05:38.338Z"
   },
   {
    "duration": -1026,
    "start_time": "2022-03-16T23:05:38.354Z"
   },
   {
    "duration": -1033,
    "start_time": "2022-03-16T23:05:38.362Z"
   },
   {
    "duration": -1047,
    "start_time": "2022-03-16T23:05:38.378Z"
   },
   {
    "duration": -1064,
    "start_time": "2022-03-16T23:05:38.396Z"
   },
   {
    "duration": -1076,
    "start_time": "2022-03-16T23:05:38.410Z"
   },
   {
    "duration": -1092,
    "start_time": "2022-03-16T23:05:38.427Z"
   },
   {
    "duration": -1103,
    "start_time": "2022-03-16T23:05:38.440Z"
   },
   {
    "duration": -1137,
    "start_time": "2022-03-16T23:05:38.476Z"
   },
   {
    "duration": -1148,
    "start_time": "2022-03-16T23:05:38.488Z"
   },
   {
    "duration": -1161,
    "start_time": "2022-03-16T23:05:38.503Z"
   },
   {
    "duration": -1163,
    "start_time": "2022-03-16T23:05:38.509Z"
   },
   {
    "duration": -1166,
    "start_time": "2022-03-16T23:05:38.514Z"
   },
   {
    "duration": -1168,
    "start_time": "2022-03-16T23:05:38.517Z"
   },
   {
    "duration": -1171,
    "start_time": "2022-03-16T23:05:38.521Z"
   },
   {
    "duration": -1174,
    "start_time": "2022-03-16T23:05:38.525Z"
   },
   {
    "duration": -1176,
    "start_time": "2022-03-16T23:05:38.529Z"
   },
   {
    "duration": -1241,
    "start_time": "2022-03-16T23:05:38.595Z"
   },
   {
    "duration": -1243,
    "start_time": "2022-03-16T23:05:38.598Z"
   },
   {
    "duration": -1255,
    "start_time": "2022-03-16T23:05:38.611Z"
   },
   {
    "duration": -1260,
    "start_time": "2022-03-16T23:05:38.618Z"
   },
   {
    "duration": -1262,
    "start_time": "2022-03-16T23:05:38.622Z"
   },
   {
    "duration": -1266,
    "start_time": "2022-03-16T23:05:38.627Z"
   },
   {
    "duration": -1269,
    "start_time": "2022-03-16T23:05:38.631Z"
   },
   {
    "duration": -1271,
    "start_time": "2022-03-16T23:05:38.635Z"
   },
   {
    "duration": -1274,
    "start_time": "2022-03-16T23:05:38.639Z"
   },
   {
    "duration": -1276,
    "start_time": "2022-03-16T23:05:38.643Z"
   },
   {
    "duration": -1285,
    "start_time": "2022-03-16T23:05:38.653Z"
   },
   {
    "duration": -1287,
    "start_time": "2022-03-16T23:05:38.657Z"
   },
   {
    "duration": -1290,
    "start_time": "2022-03-16T23:05:38.661Z"
   },
   {
    "duration": -1292,
    "start_time": "2022-03-16T23:05:38.665Z"
   },
   {
    "duration": -1295,
    "start_time": "2022-03-16T23:05:38.669Z"
   },
   {
    "duration": -1297,
    "start_time": "2022-03-16T23:05:38.673Z"
   },
   {
    "duration": -1299,
    "start_time": "2022-03-16T23:05:38.676Z"
   },
   {
    "duration": -1300,
    "start_time": "2022-03-16T23:05:38.679Z"
   },
   {
    "duration": -1303,
    "start_time": "2022-03-16T23:05:38.683Z"
   },
   {
    "duration": 299,
    "start_time": "2022-03-16T23:06:11.035Z"
   },
   {
    "duration": 32,
    "start_time": "2022-03-16T23:06:18.503Z"
   },
   {
    "duration": 106,
    "start_time": "2022-03-16T23:08:04.966Z"
   },
   {
    "duration": 330,
    "start_time": "2022-03-16T23:08:10.680Z"
   },
   {
    "duration": 7903,
    "start_time": "2022-03-16T23:08:59.498Z"
   },
   {
    "duration": 8065,
    "start_time": "2022-03-16T23:09:47.416Z"
   },
   {
    "duration": 107,
    "start_time": "2022-03-16T23:11:05.103Z"
   },
   {
    "duration": 339,
    "start_time": "2022-03-16T23:11:10.618Z"
   },
   {
    "duration": 336,
    "start_time": "2022-03-16T23:11:41.508Z"
   },
   {
    "duration": 321,
    "start_time": "2022-03-16T23:13:15.303Z"
   },
   {
    "duration": 763,
    "start_time": "2022-03-16T23:18:31.657Z"
   },
   {
    "duration": 120,
    "start_time": "2022-03-16T23:20:58.084Z"
   },
   {
    "duration": 1161,
    "start_time": "2022-03-16T23:21:02.262Z"
   },
   {
    "duration": 362,
    "start_time": "2022-03-16T23:21:31.538Z"
   },
   {
    "duration": 433,
    "start_time": "2022-03-16T23:22:34.454Z"
   },
   {
    "duration": 413,
    "start_time": "2022-03-16T23:23:34.918Z"
   },
   {
    "duration": 32,
    "start_time": "2022-03-16T23:24:00.072Z"
   },
   {
    "duration": 32,
    "start_time": "2022-03-16T23:24:07.170Z"
   },
   {
    "duration": 31,
    "start_time": "2022-03-16T23:24:18.440Z"
   },
   {
    "duration": 403,
    "start_time": "2022-03-16T23:25:47.165Z"
   },
   {
    "duration": 108,
    "start_time": "2022-03-16T23:26:15.287Z"
   },
   {
    "duration": 109,
    "start_time": "2022-03-16T23:26:27.560Z"
   },
   {
    "duration": 352,
    "start_time": "2022-03-16T23:27:51.766Z"
   },
   {
    "duration": 526,
    "start_time": "2022-03-16T23:27:56.035Z"
   },
   {
    "duration": 396,
    "start_time": "2022-03-16T23:28:38.022Z"
   },
   {
    "duration": 358,
    "start_time": "2022-03-16T23:28:46.271Z"
   },
   {
    "duration": 375,
    "start_time": "2022-03-16T23:29:14.463Z"
   },
   {
    "duration": 3,
    "start_time": "2022-03-16T23:31:30.408Z"
   },
   {
    "duration": 359,
    "start_time": "2022-03-16T23:39:46.256Z"
   },
   {
    "duration": 305,
    "start_time": "2022-03-16T23:39:57.330Z"
   },
   {
    "duration": 330,
    "start_time": "2022-03-16T23:40:08.964Z"
   },
   {
    "duration": 279,
    "start_time": "2022-03-16T23:40:26.214Z"
   },
   {
    "duration": 105,
    "start_time": "2022-03-16T23:41:51.800Z"
   },
   {
    "duration": 329,
    "start_time": "2022-03-16T23:41:59.166Z"
   },
   {
    "duration": 763,
    "start_time": "2022-03-16T23:42:26.582Z"
   },
   {
    "duration": 668,
    "start_time": "2022-03-16T23:42:41.141Z"
   },
   {
    "duration": 264,
    "start_time": "2022-03-16T23:43:10.738Z"
   },
   {
    "duration": 594,
    "start_time": "2022-03-16T23:56:26.458Z"
   },
   {
    "duration": 192,
    "start_time": "2022-03-16T23:57:24.996Z"
   },
   {
    "duration": 686,
    "start_time": "2022-03-16T23:57:59.934Z"
   },
   {
    "duration": 267,
    "start_time": "2022-03-16T23:58:18.628Z"
   },
   {
    "duration": 599,
    "start_time": "2022-03-17T00:00:03.448Z"
   },
   {
    "duration": 256,
    "start_time": "2022-03-17T00:00:17.126Z"
   },
   {
    "duration": 122,
    "start_time": "2022-03-17T00:03:31.560Z"
   },
   {
    "duration": 62,
    "start_time": "2022-03-17T00:07:35.765Z"
   },
   {
    "duration": 888,
    "start_time": "2022-03-17T00:07:45.211Z"
   },
   {
    "duration": 375,
    "start_time": "2022-03-17T00:08:43.397Z"
   },
   {
    "duration": 332,
    "start_time": "2022-03-17T00:09:09.269Z"
   },
   {
    "duration": 435,
    "start_time": "2022-03-17T00:09:18.557Z"
   },
   {
    "duration": 395,
    "start_time": "2022-03-17T00:10:21.806Z"
   },
   {
    "duration": 371,
    "start_time": "2022-03-17T00:10:39.029Z"
   },
   {
    "duration": 280,
    "start_time": "2022-03-17T00:10:51.809Z"
   },
   {
    "duration": 4,
    "start_time": "2022-03-17T00:11:59.028Z"
   },
   {
    "duration": 245,
    "start_time": "2022-03-17T00:12:18.452Z"
   },
   {
    "duration": 295,
    "start_time": "2022-03-17T00:12:41.739Z"
   },
   {
    "duration": 262,
    "start_time": "2022-03-17T00:13:04.639Z"
   },
   {
    "duration": 261,
    "start_time": "2022-03-17T00:13:44.715Z"
   },
   {
    "duration": 361,
    "start_time": "2022-03-17T00:14:16.947Z"
   },
   {
    "duration": 354,
    "start_time": "2022-03-17T00:14:33.745Z"
   },
   {
    "duration": 426,
    "start_time": "2022-03-17T00:14:43.335Z"
   },
   {
    "duration": 1533,
    "start_time": "2022-03-17T00:17:35.596Z"
   },
   {
    "duration": 58,
    "start_time": "2022-03-17T00:17:37.132Z"
   },
   {
    "duration": 29,
    "start_time": "2022-03-17T00:17:37.193Z"
   },
   {
    "duration": 25,
    "start_time": "2022-03-17T00:17:37.224Z"
   },
   {
    "duration": 15,
    "start_time": "2022-03-17T00:17:37.251Z"
   },
   {
    "duration": 78,
    "start_time": "2022-03-17T00:17:37.269Z"
   },
   {
    "duration": 5,
    "start_time": "2022-03-17T00:17:37.350Z"
   },
   {
    "duration": 36,
    "start_time": "2022-03-17T00:17:37.359Z"
   },
   {
    "duration": 17,
    "start_time": "2022-03-17T00:17:37.398Z"
   },
   {
    "duration": 39,
    "start_time": "2022-03-17T00:17:37.418Z"
   },
   {
    "duration": 8,
    "start_time": "2022-03-17T00:17:37.460Z"
   },
   {
    "duration": 23,
    "start_time": "2022-03-17T00:17:37.471Z"
   },
   {
    "duration": 20,
    "start_time": "2022-03-17T00:17:37.497Z"
   },
   {
    "duration": 24,
    "start_time": "2022-03-17T00:17:37.519Z"
   },
   {
    "duration": 28,
    "start_time": "2022-03-17T00:17:37.546Z"
   },
   {
    "duration": 15,
    "start_time": "2022-03-17T00:17:37.576Z"
   },
   {
    "duration": 18,
    "start_time": "2022-03-17T00:17:37.594Z"
   },
   {
    "duration": 20,
    "start_time": "2022-03-17T00:17:37.615Z"
   },
   {
    "duration": 19,
    "start_time": "2022-03-17T00:17:37.637Z"
   },
   {
    "duration": 17,
    "start_time": "2022-03-17T00:17:37.659Z"
   },
   {
    "duration": 17,
    "start_time": "2022-03-17T00:17:37.679Z"
   },
   {
    "duration": 8,
    "start_time": "2022-03-17T00:17:37.698Z"
   },
   {
    "duration": 31,
    "start_time": "2022-03-17T00:17:37.712Z"
   },
   {
    "duration": 6,
    "start_time": "2022-03-17T00:17:37.748Z"
   },
   {
    "duration": 25,
    "start_time": "2022-03-17T00:17:37.757Z"
   },
   {
    "duration": 27,
    "start_time": "2022-03-17T00:17:37.785Z"
   },
   {
    "duration": 15,
    "start_time": "2022-03-17T00:17:37.815Z"
   },
   {
    "duration": 15,
    "start_time": "2022-03-17T00:17:37.843Z"
   },
   {
    "duration": 16,
    "start_time": "2022-03-17T00:17:37.861Z"
   },
   {
    "duration": 21,
    "start_time": "2022-03-17T00:17:37.880Z"
   },
   {
    "duration": 17,
    "start_time": "2022-03-17T00:17:37.903Z"
   },
   {
    "duration": 15,
    "start_time": "2022-03-17T00:17:37.922Z"
   },
   {
    "duration": 135,
    "start_time": "2022-03-17T00:17:37.939Z"
   },
   {
    "duration": 12,
    "start_time": "2022-03-17T00:17:38.076Z"
   },
   {
    "duration": 21,
    "start_time": "2022-03-17T00:17:38.090Z"
   },
   {
    "duration": 19,
    "start_time": "2022-03-17T00:17:38.113Z"
   },
   {
    "duration": 18,
    "start_time": "2022-03-17T00:17:38.134Z"
   },
   {
    "duration": 137,
    "start_time": "2022-03-17T00:17:38.155Z"
   },
   {
    "duration": 11,
    "start_time": "2022-03-17T00:17:38.294Z"
   },
   {
    "duration": 18,
    "start_time": "2022-03-17T00:17:38.307Z"
   },
   {
    "duration": 23,
    "start_time": "2022-03-17T00:17:38.327Z"
   },
   {
    "duration": 303,
    "start_time": "2022-03-17T00:17:38.352Z"
   },
   {
    "duration": 7,
    "start_time": "2022-03-17T00:17:38.659Z"
   },
   {
    "duration": 28,
    "start_time": "2022-03-17T00:17:38.668Z"
   },
   {
    "duration": 12,
    "start_time": "2022-03-17T00:17:38.698Z"
   },
   {
    "duration": 7,
    "start_time": "2022-03-17T00:17:38.743Z"
   },
   {
    "duration": 25,
    "start_time": "2022-03-17T00:17:38.753Z"
   },
   {
    "duration": 10,
    "start_time": "2022-03-17T00:17:38.781Z"
   },
   {
    "duration": 888,
    "start_time": "2022-03-17T00:17:38.793Z"
   },
   {
    "duration": 27,
    "start_time": "2022-03-17T00:17:39.684Z"
   },
   {
    "duration": 588,
    "start_time": "2022-03-17T00:17:39.714Z"
   },
   {
    "duration": 12,
    "start_time": "2022-03-17T00:17:40.304Z"
   },
   {
    "duration": 66,
    "start_time": "2022-03-17T00:17:40.318Z"
   },
   {
    "duration": 488,
    "start_time": "2022-03-17T00:17:40.386Z"
   },
   {
    "duration": 485,
    "start_time": "2022-03-17T00:17:40.877Z"
   },
   {
    "duration": 531,
    "start_time": "2022-03-17T00:17:41.365Z"
   },
   {
    "duration": 472,
    "start_time": "2022-03-17T00:17:41.899Z"
   },
   {
    "duration": 476,
    "start_time": "2022-03-17T00:17:42.373Z"
   },
   {
    "duration": 9,
    "start_time": "2022-03-17T00:17:42.852Z"
   },
   {
    "duration": 20,
    "start_time": "2022-03-17T00:17:42.864Z"
   },
   {
    "duration": 36,
    "start_time": "2022-03-17T00:17:42.886Z"
   },
   {
    "duration": 362,
    "start_time": "2022-03-17T00:17:42.944Z"
   },
   {
    "duration": 353,
    "start_time": "2022-03-17T00:17:43.309Z"
   },
   {
    "duration": 3,
    "start_time": "2022-03-17T00:17:43.665Z"
   },
   {
    "duration": 363,
    "start_time": "2022-03-17T00:17:43.670Z"
   },
   {
    "duration": 421,
    "start_time": "2022-03-17T00:17:44.035Z"
   },
   {
    "duration": 378,
    "start_time": "2022-03-17T00:17:44.459Z"
   },
   {
    "duration": 383,
    "start_time": "2022-03-17T00:17:44.850Z"
   },
   {
    "duration": 3,
    "start_time": "2022-03-17T00:17:45.244Z"
   },
   {
    "duration": 281,
    "start_time": "2022-03-17T00:17:45.250Z"
   },
   {
    "duration": 281,
    "start_time": "2022-03-17T00:17:45.534Z"
   },
   {
    "duration": 275,
    "start_time": "2022-03-17T00:17:45.817Z"
   },
   {
    "duration": 67,
    "start_time": "2022-03-17T00:17:46.094Z"
   },
   {
    "duration": 891,
    "start_time": "2022-03-17T00:17:46.163Z"
   },
   {
    "duration": 468,
    "start_time": "2022-03-17T00:17:47.056Z"
   },
   {
    "duration": 42,
    "start_time": "2022-03-17T00:17:47.527Z"
   },
   {
    "duration": 371,
    "start_time": "2022-03-17T00:17:47.572Z"
   },
   {
    "duration": 35,
    "start_time": "2022-03-17T00:17:47.946Z"
   },
   {
    "duration": 461,
    "start_time": "2022-03-17T00:17:47.984Z"
   },
   {
    "duration": 599,
    "start_time": "2022-03-17T00:17:48.448Z"
   },
   {
    "duration": 11,
    "start_time": "2022-03-17T00:17:49.050Z"
   },
   {
    "duration": 14,
    "start_time": "2022-03-17T00:17:49.064Z"
   },
   {
    "duration": 20,
    "start_time": "2022-03-17T00:17:49.081Z"
   },
   {
    "duration": 43,
    "start_time": "2022-03-17T00:17:49.104Z"
   },
   {
    "duration": 24,
    "start_time": "2022-03-17T00:17:49.151Z"
   },
   {
    "duration": 19,
    "start_time": "2022-03-17T00:17:49.177Z"
   },
   {
    "duration": 46,
    "start_time": "2022-03-17T00:17:49.198Z"
   },
   {
    "duration": 15,
    "start_time": "2022-03-17T00:17:49.247Z"
   },
   {
    "duration": 28,
    "start_time": "2022-03-17T00:17:49.265Z"
   },
   {
    "duration": 502,
    "start_time": "2022-03-17T00:17:49.296Z"
   },
   {
    "duration": 11,
    "start_time": "2022-03-17T00:17:49.800Z"
   },
   {
    "duration": 30,
    "start_time": "2022-03-17T00:17:49.814Z"
   },
   {
    "duration": 25,
    "start_time": "2022-03-17T00:17:49.847Z"
   },
   {
    "duration": 457,
    "start_time": "2022-03-17T00:17:49.875Z"
   },
   {
    "duration": 11,
    "start_time": "2022-03-17T00:17:50.344Z"
   },
   {
    "duration": 13,
    "start_time": "2022-03-17T00:17:50.358Z"
   },
   {
    "duration": 24,
    "start_time": "2022-03-17T00:17:50.374Z"
   },
   {
    "duration": 523,
    "start_time": "2022-03-17T00:17:50.401Z"
   },
   {
    "duration": 47,
    "start_time": "2022-03-17T00:17:50.926Z"
   },
   {
    "duration": 31,
    "start_time": "2022-03-17T00:17:50.976Z"
   },
   {
    "duration": 72,
    "start_time": "2022-03-17T00:17:51.010Z"
   },
   {
    "duration": 22,
    "start_time": "2022-03-17T00:17:51.085Z"
   },
   {
    "duration": 57,
    "start_time": "2022-03-17T00:17:51.110Z"
   },
   {
    "duration": 15,
    "start_time": "2022-03-17T00:17:51.170Z"
   },
   {
    "duration": 15,
    "start_time": "2022-03-17T00:17:51.187Z"
   },
   {
    "duration": 474,
    "start_time": "2022-03-17T00:19:11.023Z"
   },
   {
    "duration": 32,
    "start_time": "2022-03-17T00:20:40.325Z"
   },
   {
    "duration": 265,
    "start_time": "2022-03-17T00:21:19.205Z"
   },
   {
    "duration": 351,
    "start_time": "2022-03-17T00:21:39.615Z"
   },
   {
    "duration": 250,
    "start_time": "2022-03-17T00:21:57.946Z"
   },
   {
    "duration": 399,
    "start_time": "2022-03-17T00:28:58.453Z"
   },
   {
    "duration": 17,
    "start_time": "2022-03-17T01:00:08.733Z"
   },
   {
    "duration": 1487,
    "start_time": "2022-03-17T01:14:35.221Z"
   },
   {
    "duration": 51,
    "start_time": "2022-03-17T01:14:36.711Z"
   },
   {
    "duration": 28,
    "start_time": "2022-03-17T01:14:36.764Z"
   },
   {
    "duration": 17,
    "start_time": "2022-03-17T01:14:36.794Z"
   },
   {
    "duration": 37,
    "start_time": "2022-03-17T01:14:36.813Z"
   },
   {
    "duration": 40,
    "start_time": "2022-03-17T01:14:36.853Z"
   },
   {
    "duration": 3,
    "start_time": "2022-03-17T01:14:36.896Z"
   },
   {
    "duration": 57,
    "start_time": "2022-03-17T01:14:36.903Z"
   },
   {
    "duration": 18,
    "start_time": "2022-03-17T01:14:36.963Z"
   },
   {
    "duration": 18,
    "start_time": "2022-03-17T01:14:36.984Z"
   },
   {
    "duration": 40,
    "start_time": "2022-03-17T01:14:37.005Z"
   },
   {
    "duration": 15,
    "start_time": "2022-03-17T01:14:37.047Z"
   },
   {
    "duration": 11,
    "start_time": "2022-03-17T01:14:37.064Z"
   },
   {
    "duration": 6,
    "start_time": "2022-03-17T01:14:37.077Z"
   },
   {
    "duration": 13,
    "start_time": "2022-03-17T01:14:37.085Z"
   },
   {
    "duration": 42,
    "start_time": "2022-03-17T01:14:37.101Z"
   },
   {
    "duration": 12,
    "start_time": "2022-03-17T01:14:37.146Z"
   },
   {
    "duration": 9,
    "start_time": "2022-03-17T01:14:37.160Z"
   },
   {
    "duration": 9,
    "start_time": "2022-03-17T01:14:37.171Z"
   },
   {
    "duration": 6,
    "start_time": "2022-03-17T01:14:37.182Z"
   },
   {
    "duration": 61,
    "start_time": "2022-03-17T01:14:37.191Z"
   },
   {
    "duration": 8,
    "start_time": "2022-03-17T01:14:37.254Z"
   },
   {
    "duration": 6,
    "start_time": "2022-03-17T01:14:37.268Z"
   },
   {
    "duration": 5,
    "start_time": "2022-03-17T01:14:37.278Z"
   },
   {
    "duration": 12,
    "start_time": "2022-03-17T01:14:37.285Z"
   },
   {
    "duration": 58,
    "start_time": "2022-03-17T01:14:37.299Z"
   },
   {
    "duration": 5,
    "start_time": "2022-03-17T01:14:37.360Z"
   },
   {
    "duration": 13,
    "start_time": "2022-03-17T01:14:37.367Z"
   },
   {
    "duration": 13,
    "start_time": "2022-03-17T01:14:37.383Z"
   },
   {
    "duration": 9,
    "start_time": "2022-03-17T01:14:37.398Z"
   },
   {
    "duration": 41,
    "start_time": "2022-03-17T01:14:37.410Z"
   },
   {
    "duration": 10,
    "start_time": "2022-03-17T01:14:37.453Z"
   },
   {
    "duration": 139,
    "start_time": "2022-03-17T01:14:37.465Z"
   },
   {
    "duration": 12,
    "start_time": "2022-03-17T01:14:37.606Z"
   },
   {
    "duration": 29,
    "start_time": "2022-03-17T01:14:37.620Z"
   },
   {
    "duration": 8,
    "start_time": "2022-03-17T01:14:37.651Z"
   },
   {
    "duration": 19,
    "start_time": "2022-03-17T01:14:37.662Z"
   },
   {
    "duration": 138,
    "start_time": "2022-03-17T01:14:37.684Z"
   },
   {
    "duration": 19,
    "start_time": "2022-03-17T01:14:37.825Z"
   },
   {
    "duration": 9,
    "start_time": "2022-03-17T01:14:37.846Z"
   },
   {
    "duration": 8,
    "start_time": "2022-03-17T01:14:37.857Z"
   },
   {
    "duration": 405,
    "start_time": "2022-03-17T01:14:37.867Z"
   },
   {
    "duration": 7,
    "start_time": "2022-03-17T01:14:38.275Z"
   },
   {
    "duration": 23,
    "start_time": "2022-03-17T01:14:38.284Z"
   },
   {
    "duration": 37,
    "start_time": "2022-03-17T01:14:38.310Z"
   },
   {
    "duration": 6,
    "start_time": "2022-03-17T01:14:38.349Z"
   },
   {
    "duration": 20,
    "start_time": "2022-03-17T01:14:38.358Z"
   },
   {
    "duration": 11,
    "start_time": "2022-03-17T01:14:38.380Z"
   },
   {
    "duration": 876,
    "start_time": "2022-03-17T01:14:38.394Z"
   },
   {
    "duration": 24,
    "start_time": "2022-03-17T01:14:39.272Z"
   },
   {
    "duration": 687,
    "start_time": "2022-03-17T01:14:39.299Z"
   },
   {
    "duration": 12,
    "start_time": "2022-03-17T01:14:39.988Z"
   },
   {
    "duration": 58,
    "start_time": "2022-03-17T01:14:40.002Z"
   },
   {
    "duration": 444,
    "start_time": "2022-03-17T01:14:40.062Z"
   },
   {
    "duration": 442,
    "start_time": "2022-03-17T01:14:40.509Z"
   },
   {
    "duration": 493,
    "start_time": "2022-03-17T01:14:40.953Z"
   },
   {
    "duration": 437,
    "start_time": "2022-03-17T01:14:41.449Z"
   },
   {
    "duration": 425,
    "start_time": "2022-03-17T01:14:41.888Z"
   },
   {
    "duration": 8,
    "start_time": "2022-03-17T01:14:42.316Z"
   },
   {
    "duration": 19,
    "start_time": "2022-03-17T01:14:42.327Z"
   },
   {
    "duration": 32,
    "start_time": "2022-03-17T01:14:42.349Z"
   },
   {
    "duration": 371,
    "start_time": "2022-03-17T01:14:42.383Z"
   },
   {
    "duration": 335,
    "start_time": "2022-03-17T01:14:42.756Z"
   },
   {
    "duration": 3,
    "start_time": "2022-03-17T01:14:43.093Z"
   },
   {
    "duration": 348,
    "start_time": "2022-03-17T01:14:43.098Z"
   },
   {
    "duration": 382,
    "start_time": "2022-03-17T01:14:43.449Z"
   },
   {
    "duration": 366,
    "start_time": "2022-03-17T01:14:43.834Z"
   },
   {
    "duration": 363,
    "start_time": "2022-03-17T01:14:44.208Z"
   },
   {
    "duration": 3,
    "start_time": "2022-03-17T01:14:44.574Z"
   },
   {
    "duration": 253,
    "start_time": "2022-03-17T01:14:44.579Z"
   },
   {
    "duration": 246,
    "start_time": "2022-03-17T01:14:44.835Z"
   },
   {
    "duration": 281,
    "start_time": "2022-03-17T01:14:45.083Z"
   },
   {
    "duration": 51,
    "start_time": "2022-03-17T01:14:45.367Z"
   },
   {
    "duration": 868,
    "start_time": "2022-03-17T01:14:45.421Z"
   },
   {
    "duration": 403,
    "start_time": "2022-03-17T01:14:46.292Z"
   },
   {
    "duration": 29,
    "start_time": "2022-03-17T01:14:46.698Z"
   },
   {
    "duration": 396,
    "start_time": "2022-03-17T01:14:46.743Z"
   },
   {
    "duration": 29,
    "start_time": "2022-03-17T01:14:47.143Z"
   },
   {
    "duration": 378,
    "start_time": "2022-03-17T01:14:47.174Z"
   },
   {
    "duration": 551,
    "start_time": "2022-03-17T01:14:47.554Z"
   },
   {
    "duration": 8,
    "start_time": "2022-03-17T01:14:48.108Z"
   },
   {
    "duration": 28,
    "start_time": "2022-03-17T01:14:48.119Z"
   },
   {
    "duration": 20,
    "start_time": "2022-03-17T01:14:48.150Z"
   },
   {
    "duration": 5,
    "start_time": "2022-03-17T01:14:48.173Z"
   },
   {
    "duration": 20,
    "start_time": "2022-03-17T01:14:48.180Z"
   },
   {
    "duration": 53,
    "start_time": "2022-03-17T01:14:48.203Z"
   },
   {
    "duration": 12,
    "start_time": "2022-03-17T01:14:48.259Z"
   },
   {
    "duration": 11,
    "start_time": "2022-03-17T01:14:48.274Z"
   },
   {
    "duration": 72,
    "start_time": "2022-03-17T01:14:48.288Z"
   },
   {
    "duration": 442,
    "start_time": "2022-03-17T01:14:48.363Z"
   },
   {
    "duration": 10,
    "start_time": "2022-03-17T01:14:48.808Z"
   },
   {
    "duration": 27,
    "start_time": "2022-03-17T01:14:48.821Z"
   },
   {
    "duration": 31,
    "start_time": "2022-03-17T01:14:48.851Z"
   },
   {
    "duration": 458,
    "start_time": "2022-03-17T01:14:48.885Z"
   },
   {
    "duration": 11,
    "start_time": "2022-03-17T01:14:49.345Z"
   },
   {
    "duration": 10,
    "start_time": "2022-03-17T01:14:49.358Z"
   },
   {
    "duration": 23,
    "start_time": "2022-03-17T01:14:49.370Z"
   },
   {
    "duration": 475,
    "start_time": "2022-03-17T01:14:49.396Z"
   },
   {
    "duration": 29,
    "start_time": "2022-03-17T01:14:49.874Z"
   },
   {
    "duration": 49,
    "start_time": "2022-03-17T01:14:49.906Z"
   },
   {
    "duration": 37,
    "start_time": "2022-03-17T01:14:49.958Z"
   },
   {
    "duration": 46,
    "start_time": "2022-03-17T01:14:49.997Z"
   },
   {
    "duration": 26,
    "start_time": "2022-03-17T01:14:50.046Z"
   },
   {
    "duration": 16,
    "start_time": "2022-03-17T01:14:50.074Z"
   },
   {
    "duration": 56,
    "start_time": "2022-03-17T01:14:50.092Z"
   },
   {
    "duration": 1246,
    "start_time": "2022-03-17T08:00:10.690Z"
   },
   {
    "duration": 40,
    "start_time": "2022-03-17T08:00:11.938Z"
   },
   {
    "duration": 22,
    "start_time": "2022-03-17T08:00:11.980Z"
   },
   {
    "duration": 17,
    "start_time": "2022-03-17T08:00:12.003Z"
   },
   {
    "duration": 12,
    "start_time": "2022-03-17T08:00:12.022Z"
   },
   {
    "duration": 50,
    "start_time": "2022-03-17T08:00:12.035Z"
   },
   {
    "duration": 3,
    "start_time": "2022-03-17T08:00:12.086Z"
   },
   {
    "duration": 20,
    "start_time": "2022-03-17T08:00:12.091Z"
   },
   {
    "duration": 14,
    "start_time": "2022-03-17T08:00:12.112Z"
   },
   {
    "duration": 14,
    "start_time": "2022-03-17T08:00:12.127Z"
   },
   {
    "duration": 30,
    "start_time": "2022-03-17T08:00:12.142Z"
   },
   {
    "duration": 13,
    "start_time": "2022-03-17T08:00:12.174Z"
   },
   {
    "duration": 13,
    "start_time": "2022-03-17T08:00:12.189Z"
   },
   {
    "duration": 8,
    "start_time": "2022-03-17T08:00:12.205Z"
   },
   {
    "duration": 14,
    "start_time": "2022-03-17T08:00:12.215Z"
   },
   {
    "duration": 8,
    "start_time": "2022-03-17T08:00:12.230Z"
   },
   {
    "duration": 12,
    "start_time": "2022-03-17T08:00:12.240Z"
   },
   {
    "duration": 13,
    "start_time": "2022-03-17T08:00:12.253Z"
   },
   {
    "duration": 9,
    "start_time": "2022-03-17T08:00:12.268Z"
   },
   {
    "duration": 4,
    "start_time": "2022-03-17T08:00:12.279Z"
   },
   {
    "duration": 22,
    "start_time": "2022-03-17T08:00:12.285Z"
   },
   {
    "duration": 10,
    "start_time": "2022-03-17T08:00:12.308Z"
   },
   {
    "duration": 4,
    "start_time": "2022-03-17T08:00:12.319Z"
   },
   {
    "duration": 5,
    "start_time": "2022-03-17T08:00:12.325Z"
   },
   {
    "duration": 32,
    "start_time": "2022-03-17T08:00:12.331Z"
   },
   {
    "duration": 13,
    "start_time": "2022-03-17T08:00:12.365Z"
   },
   {
    "duration": 5,
    "start_time": "2022-03-17T08:00:12.380Z"
   },
   {
    "duration": 9,
    "start_time": "2022-03-17T08:00:12.386Z"
   },
   {
    "duration": 11,
    "start_time": "2022-03-17T08:00:12.396Z"
   },
   {
    "duration": 10,
    "start_time": "2022-03-17T08:00:12.409Z"
   },
   {
    "duration": 9,
    "start_time": "2022-03-17T08:00:12.420Z"
   },
   {
    "duration": 38,
    "start_time": "2022-03-17T08:00:12.431Z"
   },
   {
    "duration": 60,
    "start_time": "2022-03-17T08:00:12.471Z"
   },
   {
    "duration": 31,
    "start_time": "2022-03-17T08:00:12.533Z"
   },
   {
    "duration": 8,
    "start_time": "2022-03-17T08:00:12.565Z"
   },
   {
    "duration": 9,
    "start_time": "2022-03-17T08:00:12.575Z"
   },
   {
    "duration": 18,
    "start_time": "2022-03-17T08:00:12.585Z"
   },
   {
    "duration": 81,
    "start_time": "2022-03-17T08:00:12.605Z"
   },
   {
    "duration": 8,
    "start_time": "2022-03-17T08:00:12.688Z"
   },
   {
    "duration": 10,
    "start_time": "2022-03-17T08:00:12.698Z"
   },
   {
    "duration": 7,
    "start_time": "2022-03-17T08:00:12.713Z"
   },
   {
    "duration": 231,
    "start_time": "2022-03-17T08:00:12.722Z"
   },
   {
    "duration": 10,
    "start_time": "2022-03-17T08:00:12.954Z"
   },
   {
    "duration": 18,
    "start_time": "2022-03-17T08:00:12.966Z"
   },
   {
    "duration": 16,
    "start_time": "2022-03-17T08:00:12.986Z"
   },
   {
    "duration": 4,
    "start_time": "2022-03-17T08:00:13.004Z"
   },
   {
    "duration": 18,
    "start_time": "2022-03-17T08:00:13.010Z"
   },
   {
    "duration": 35,
    "start_time": "2022-03-17T08:00:13.029Z"
   },
   {
    "duration": 355,
    "start_time": "2022-03-17T08:00:13.066Z"
   },
   {
    "duration": 18,
    "start_time": "2022-03-17T08:00:13.422Z"
   },
   {
    "duration": 259,
    "start_time": "2022-03-17T08:00:13.441Z"
   },
   {
    "duration": 8,
    "start_time": "2022-03-17T08:00:13.702Z"
   },
   {
    "duration": 28,
    "start_time": "2022-03-17T08:00:13.711Z"
   },
   {
    "duration": 201,
    "start_time": "2022-03-17T08:00:13.740Z"
   },
   {
    "duration": 198,
    "start_time": "2022-03-17T08:00:13.942Z"
   },
   {
    "duration": 171,
    "start_time": "2022-03-17T08:00:14.141Z"
   },
   {
    "duration": 189,
    "start_time": "2022-03-17T08:00:14.314Z"
   },
   {
    "duration": 247,
    "start_time": "2022-03-17T08:00:14.504Z"
   },
   {
    "duration": 10,
    "start_time": "2022-03-17T08:00:14.753Z"
   },
   {
    "duration": 8,
    "start_time": "2022-03-17T08:00:14.764Z"
   },
   {
    "duration": 26,
    "start_time": "2022-03-17T08:00:14.774Z"
   },
   {
    "duration": 150,
    "start_time": "2022-03-17T08:00:14.801Z"
   },
   {
    "duration": 169,
    "start_time": "2022-03-17T08:00:14.952Z"
   },
   {
    "duration": 2,
    "start_time": "2022-03-17T08:00:15.123Z"
   },
   {
    "duration": 157,
    "start_time": "2022-03-17T08:00:15.127Z"
   },
   {
    "duration": 166,
    "start_time": "2022-03-17T08:00:15.286Z"
   },
   {
    "duration": 164,
    "start_time": "2022-03-17T08:00:15.454Z"
   },
   {
    "duration": 159,
    "start_time": "2022-03-17T08:00:15.620Z"
   },
   {
    "duration": 2,
    "start_time": "2022-03-17T08:00:15.780Z"
   },
   {
    "duration": 114,
    "start_time": "2022-03-17T08:00:15.784Z"
   },
   {
    "duration": 109,
    "start_time": "2022-03-17T08:00:15.900Z"
   },
   {
    "duration": 129,
    "start_time": "2022-03-17T08:00:16.011Z"
   },
   {
    "duration": 42,
    "start_time": "2022-03-17T08:00:16.142Z"
   },
   {
    "duration": 293,
    "start_time": "2022-03-17T08:00:16.186Z"
   },
   {
    "duration": 166,
    "start_time": "2022-03-17T08:00:16.481Z"
   },
   {
    "duration": 27,
    "start_time": "2022-03-17T08:00:16.649Z"
   },
   {
    "duration": 228,
    "start_time": "2022-03-17T08:00:16.678Z"
   },
   {
    "duration": 21,
    "start_time": "2022-03-17T08:00:16.908Z"
   },
   {
    "duration": 145,
    "start_time": "2022-03-17T08:00:16.930Z"
   },
   {
    "duration": 201,
    "start_time": "2022-03-17T08:00:17.077Z"
   },
   {
    "duration": 7,
    "start_time": "2022-03-17T08:00:17.279Z"
   },
   {
    "duration": 11,
    "start_time": "2022-03-17T08:00:17.288Z"
   },
   {
    "duration": 17,
    "start_time": "2022-03-17T08:00:17.300Z"
   },
   {
    "duration": 4,
    "start_time": "2022-03-17T08:00:17.319Z"
   },
   {
    "duration": 39,
    "start_time": "2022-03-17T08:00:17.324Z"
   },
   {
    "duration": 13,
    "start_time": "2022-03-17T08:00:17.365Z"
   },
   {
    "duration": 10,
    "start_time": "2022-03-17T08:00:17.380Z"
   },
   {
    "duration": 8,
    "start_time": "2022-03-17T08:00:17.392Z"
   },
   {
    "duration": 21,
    "start_time": "2022-03-17T08:00:17.402Z"
   },
   {
    "duration": 320,
    "start_time": "2022-03-17T08:00:17.425Z"
   },
   {
    "duration": 17,
    "start_time": "2022-03-17T08:00:17.746Z"
   },
   {
    "duration": 7,
    "start_time": "2022-03-17T08:00:17.765Z"
   },
   {
    "duration": 19,
    "start_time": "2022-03-17T08:00:17.774Z"
   },
   {
    "duration": 307,
    "start_time": "2022-03-17T08:00:17.794Z"
   },
   {
    "duration": 9,
    "start_time": "2022-03-17T08:00:18.102Z"
   },
   {
    "duration": 12,
    "start_time": "2022-03-17T08:00:18.113Z"
   },
   {
    "duration": 40,
    "start_time": "2022-03-17T08:00:18.127Z"
   },
   {
    "duration": 309,
    "start_time": "2022-03-17T08:00:18.169Z"
   },
   {
    "duration": 26,
    "start_time": "2022-03-17T08:00:18.480Z"
   },
   {
    "duration": 23,
    "start_time": "2022-03-17T08:00:18.508Z"
   },
   {
    "duration": 58,
    "start_time": "2022-03-17T08:00:18.533Z"
   },
   {
    "duration": 16,
    "start_time": "2022-03-17T08:00:18.592Z"
   },
   {
    "duration": 17,
    "start_time": "2022-03-17T08:00:18.610Z"
   },
   {
    "duration": 35,
    "start_time": "2022-03-17T08:00:18.629Z"
   },
   {
    "duration": 12,
    "start_time": "2022-03-17T08:00:18.666Z"
   },
   {
    "duration": 1205,
    "start_time": "2022-03-17T08:00:44.444Z"
   },
   {
    "duration": 36,
    "start_time": "2022-03-17T08:00:45.651Z"
   },
   {
    "duration": 21,
    "start_time": "2022-03-17T08:00:45.689Z"
   },
   {
    "duration": 16,
    "start_time": "2022-03-17T08:00:45.712Z"
   },
   {
    "duration": 11,
    "start_time": "2022-03-17T08:00:45.730Z"
   },
   {
    "duration": 26,
    "start_time": "2022-03-17T08:00:45.763Z"
   },
   {
    "duration": 3,
    "start_time": "2022-03-17T08:00:45.790Z"
   },
   {
    "duration": 26,
    "start_time": "2022-03-17T08:00:45.795Z"
   },
   {
    "duration": 13,
    "start_time": "2022-03-17T08:00:45.822Z"
   },
   {
    "duration": 28,
    "start_time": "2022-03-17T08:00:45.836Z"
   },
   {
    "duration": 6,
    "start_time": "2022-03-17T08:00:45.866Z"
   },
   {
    "duration": 9,
    "start_time": "2022-03-17T08:00:45.873Z"
   },
   {
    "duration": 6,
    "start_time": "2022-03-17T08:00:45.884Z"
   },
   {
    "duration": 4,
    "start_time": "2022-03-17T08:00:45.893Z"
   },
   {
    "duration": 10,
    "start_time": "2022-03-17T08:00:45.899Z"
   },
   {
    "duration": 6,
    "start_time": "2022-03-17T08:00:45.911Z"
   },
   {
    "duration": 9,
    "start_time": "2022-03-17T08:00:45.919Z"
   },
   {
    "duration": 5,
    "start_time": "2022-03-17T08:00:45.963Z"
   },
   {
    "duration": 9,
    "start_time": "2022-03-17T08:00:45.970Z"
   },
   {
    "duration": 5,
    "start_time": "2022-03-17T08:00:45.980Z"
   },
   {
    "duration": 11,
    "start_time": "2022-03-17T08:00:45.986Z"
   },
   {
    "duration": 5,
    "start_time": "2022-03-17T08:00:45.999Z"
   },
   {
    "duration": 6,
    "start_time": "2022-03-17T08:00:46.005Z"
   },
   {
    "duration": 6,
    "start_time": "2022-03-17T08:00:46.012Z"
   },
   {
    "duration": 43,
    "start_time": "2022-03-17T08:00:46.020Z"
   },
   {
    "duration": 13,
    "start_time": "2022-03-17T08:00:46.065Z"
   },
   {
    "duration": 7,
    "start_time": "2022-03-17T08:00:46.079Z"
   },
   {
    "duration": 8,
    "start_time": "2022-03-17T08:00:46.088Z"
   },
   {
    "duration": 9,
    "start_time": "2022-03-17T08:00:46.098Z"
   },
   {
    "duration": 13,
    "start_time": "2022-03-17T08:00:46.109Z"
   },
   {
    "duration": 9,
    "start_time": "2022-03-17T08:00:46.124Z"
   },
   {
    "duration": 7,
    "start_time": "2022-03-17T08:00:46.135Z"
   },
   {
    "duration": 55,
    "start_time": "2022-03-17T08:00:46.163Z"
   },
   {
    "duration": 10,
    "start_time": "2022-03-17T08:00:46.219Z"
   },
   {
    "duration": 21,
    "start_time": "2022-03-17T08:00:46.230Z"
   },
   {
    "duration": 8,
    "start_time": "2022-03-17T08:00:46.262Z"
   },
   {
    "duration": 24,
    "start_time": "2022-03-17T08:00:46.272Z"
   },
   {
    "duration": 62,
    "start_time": "2022-03-17T08:00:46.298Z"
   },
   {
    "duration": 9,
    "start_time": "2022-03-17T08:00:46.362Z"
   },
   {
    "duration": 8,
    "start_time": "2022-03-17T08:00:46.372Z"
   },
   {
    "duration": 5,
    "start_time": "2022-03-17T08:00:46.386Z"
   },
   {
    "duration": 228,
    "start_time": "2022-03-17T08:00:46.393Z"
   },
   {
    "duration": 5,
    "start_time": "2022-03-17T08:00:46.622Z"
   },
   {
    "duration": 22,
    "start_time": "2022-03-17T08:00:46.629Z"
   },
   {
    "duration": 20,
    "start_time": "2022-03-17T08:00:46.653Z"
   },
   {
    "duration": 4,
    "start_time": "2022-03-17T08:00:46.674Z"
   },
   {
    "duration": 13,
    "start_time": "2022-03-17T08:00:46.680Z"
   },
   {
    "duration": 8,
    "start_time": "2022-03-17T08:00:46.695Z"
   },
   {
    "duration": 345,
    "start_time": "2022-03-17T08:00:46.704Z"
   },
   {
    "duration": 26,
    "start_time": "2022-03-17T08:00:47.050Z"
   },
   {
    "duration": 261,
    "start_time": "2022-03-17T08:00:47.079Z"
   },
   {
    "duration": 9,
    "start_time": "2022-03-17T08:00:47.342Z"
   },
   {
    "duration": 37,
    "start_time": "2022-03-17T08:00:47.352Z"
   },
   {
    "duration": 195,
    "start_time": "2022-03-17T08:00:47.391Z"
   },
   {
    "duration": 186,
    "start_time": "2022-03-17T08:00:47.588Z"
   },
   {
    "duration": 173,
    "start_time": "2022-03-17T08:00:47.776Z"
   },
   {
    "duration": 190,
    "start_time": "2022-03-17T08:00:47.951Z"
   },
   {
    "duration": 254,
    "start_time": "2022-03-17T08:00:48.142Z"
   },
   {
    "duration": 6,
    "start_time": "2022-03-17T08:00:48.398Z"
   },
   {
    "duration": 11,
    "start_time": "2022-03-17T08:00:48.405Z"
   },
   {
    "duration": 21,
    "start_time": "2022-03-17T08:00:48.418Z"
   },
   {
    "duration": 167,
    "start_time": "2022-03-17T08:00:48.441Z"
   },
   {
    "duration": 152,
    "start_time": "2022-03-17T08:00:48.611Z"
   },
   {
    "duration": 3,
    "start_time": "2022-03-17T08:00:48.764Z"
   },
   {
    "duration": 143,
    "start_time": "2022-03-17T08:00:48.769Z"
   },
   {
    "duration": 163,
    "start_time": "2022-03-17T08:00:48.914Z"
   },
   {
    "duration": 162,
    "start_time": "2022-03-17T08:00:49.079Z"
   },
   {
    "duration": 151,
    "start_time": "2022-03-17T08:00:49.244Z"
   },
   {
    "duration": 3,
    "start_time": "2022-03-17T08:00:49.397Z"
   },
   {
    "duration": 111,
    "start_time": "2022-03-17T08:00:49.401Z"
   },
   {
    "duration": 108,
    "start_time": "2022-03-17T08:00:49.514Z"
   },
   {
    "duration": 114,
    "start_time": "2022-03-17T08:00:49.624Z"
   },
   {
    "duration": 44,
    "start_time": "2022-03-17T08:00:49.740Z"
   },
   {
    "duration": 283,
    "start_time": "2022-03-17T08:00:49.785Z"
   },
   {
    "duration": 172,
    "start_time": "2022-03-17T08:00:50.070Z"
   },
   {
    "duration": 26,
    "start_time": "2022-03-17T08:00:50.243Z"
   },
   {
    "duration": 210,
    "start_time": "2022-03-17T08:00:50.271Z"
   },
   {
    "duration": 20,
    "start_time": "2022-03-17T08:00:50.483Z"
   },
   {
    "duration": 141,
    "start_time": "2022-03-17T08:00:50.504Z"
   },
   {
    "duration": 194,
    "start_time": "2022-03-17T08:00:50.646Z"
   },
   {
    "duration": 6,
    "start_time": "2022-03-17T08:00:50.842Z"
   },
   {
    "duration": 19,
    "start_time": "2022-03-17T08:00:50.850Z"
   },
   {
    "duration": 15,
    "start_time": "2022-03-17T08:00:50.870Z"
   },
   {
    "duration": 4,
    "start_time": "2022-03-17T08:00:50.886Z"
   },
   {
    "duration": 14,
    "start_time": "2022-03-17T08:00:50.892Z"
   },
   {
    "duration": 14,
    "start_time": "2022-03-17T08:00:50.908Z"
   },
   {
    "duration": 7,
    "start_time": "2022-03-17T08:00:50.923Z"
   },
   {
    "duration": 8,
    "start_time": "2022-03-17T08:00:50.963Z"
   },
   {
    "duration": 19,
    "start_time": "2022-03-17T08:00:50.972Z"
   },
   {
    "duration": 297,
    "start_time": "2022-03-17T08:00:50.992Z"
   },
   {
    "duration": 8,
    "start_time": "2022-03-17T08:00:51.291Z"
   },
   {
    "duration": 8,
    "start_time": "2022-03-17T08:00:51.300Z"
   },
   {
    "duration": 19,
    "start_time": "2022-03-17T08:00:51.309Z"
   },
   {
    "duration": 311,
    "start_time": "2022-03-17T08:00:51.330Z"
   },
   {
    "duration": 9,
    "start_time": "2022-03-17T08:00:51.642Z"
   },
   {
    "duration": 19,
    "start_time": "2022-03-17T08:00:51.663Z"
   },
   {
    "duration": 27,
    "start_time": "2022-03-17T08:00:51.684Z"
   },
   {
    "duration": 294,
    "start_time": "2022-03-17T08:00:51.712Z"
   },
   {
    "duration": 24,
    "start_time": "2022-03-17T08:00:52.008Z"
   },
   {
    "duration": 37,
    "start_time": "2022-03-17T08:00:52.033Z"
   },
   {
    "duration": 31,
    "start_time": "2022-03-17T08:00:52.072Z"
   },
   {
    "duration": 16,
    "start_time": "2022-03-17T08:00:52.105Z"
   },
   {
    "duration": 41,
    "start_time": "2022-03-17T08:00:52.123Z"
   },
   {
    "duration": 12,
    "start_time": "2022-03-17T08:00:52.166Z"
   },
   {
    "duration": 12,
    "start_time": "2022-03-17T08:00:52.179Z"
   },
   {
    "duration": 71,
    "start_time": "2022-03-17T20:03:14.279Z"
   },
   {
    "duration": 2239,
    "start_time": "2022-03-17T20:03:21.910Z"
   },
   {
    "duration": 71,
    "start_time": "2022-03-17T20:03:24.152Z"
   },
   {
    "duration": 33,
    "start_time": "2022-03-17T20:03:24.225Z"
   },
   {
    "duration": 38,
    "start_time": "2022-03-17T20:03:24.261Z"
   },
   {
    "duration": 19,
    "start_time": "2022-03-17T20:03:24.302Z"
   },
   {
    "duration": 20,
    "start_time": "2022-03-17T20:03:24.324Z"
   },
   {
    "duration": 42,
    "start_time": "2022-03-17T20:03:24.383Z"
   },
   {
    "duration": 4,
    "start_time": "2022-03-17T20:03:24.428Z"
   },
   {
    "duration": 60,
    "start_time": "2022-03-17T20:03:24.434Z"
   },
   {
    "duration": 20,
    "start_time": "2022-03-17T20:03:24.499Z"
   },
   {
    "duration": 35,
    "start_time": "2022-03-17T20:03:24.521Z"
   },
   {
    "duration": 29,
    "start_time": "2022-03-17T20:03:24.558Z"
   },
   {
    "duration": 17,
    "start_time": "2022-03-17T20:03:24.590Z"
   },
   {
    "duration": 12,
    "start_time": "2022-03-17T20:03:24.609Z"
   },
   {
    "duration": 9,
    "start_time": "2022-03-17T20:03:24.623Z"
   },
   {
    "duration": 51,
    "start_time": "2022-03-17T20:03:24.634Z"
   },
   {
    "duration": 10,
    "start_time": "2022-03-17T20:03:24.687Z"
   },
   {
    "duration": 15,
    "start_time": "2022-03-17T20:03:24.699Z"
   },
   {
    "duration": 9,
    "start_time": "2022-03-17T20:03:24.716Z"
   },
   {
    "duration": 10,
    "start_time": "2022-03-17T20:03:24.727Z"
   },
   {
    "duration": 51,
    "start_time": "2022-03-17T20:03:24.739Z"
   },
   {
    "duration": 23,
    "start_time": "2022-03-17T20:03:24.793Z"
   },
   {
    "duration": 12,
    "start_time": "2022-03-17T20:03:24.818Z"
   },
   {
    "duration": 7,
    "start_time": "2022-03-17T20:03:24.833Z"
   },
   {
    "duration": 57,
    "start_time": "2022-03-17T20:03:24.842Z"
   },
   {
    "duration": 13,
    "start_time": "2022-03-17T20:03:24.902Z"
   },
   {
    "duration": 19,
    "start_time": "2022-03-17T20:03:24.918Z"
   },
   {
    "duration": 6,
    "start_time": "2022-03-17T20:03:24.944Z"
   },
   {
    "duration": 32,
    "start_time": "2022-03-17T20:03:24.952Z"
   },
   {
    "duration": 11,
    "start_time": "2022-03-17T20:03:24.986Z"
   },
   {
    "duration": 11,
    "start_time": "2022-03-17T20:03:25.000Z"
   },
   {
    "duration": 11,
    "start_time": "2022-03-17T20:03:25.015Z"
   },
   {
    "duration": 54,
    "start_time": "2022-03-17T20:03:25.030Z"
   },
   {
    "duration": 136,
    "start_time": "2022-03-17T20:03:25.087Z"
   },
   {
    "duration": 20,
    "start_time": "2022-03-17T20:03:25.226Z"
   },
   {
    "duration": 36,
    "start_time": "2022-03-17T20:03:25.248Z"
   },
   {
    "duration": 14,
    "start_time": "2022-03-17T20:03:25.287Z"
   },
   {
    "duration": 20,
    "start_time": "2022-03-17T20:03:25.303Z"
   },
   {
    "duration": 124,
    "start_time": "2022-03-17T20:03:25.325Z"
   },
   {
    "duration": 15,
    "start_time": "2022-03-17T20:03:25.452Z"
   },
   {
    "duration": 10,
    "start_time": "2022-03-17T20:03:25.482Z"
   },
   {
    "duration": 11,
    "start_time": "2022-03-17T20:03:25.494Z"
   },
   {
    "duration": 406,
    "start_time": "2022-03-17T20:03:25.509Z"
   },
   {
    "duration": 8,
    "start_time": "2022-03-17T20:03:25.917Z"
   },
   {
    "duration": 27,
    "start_time": "2022-03-17T20:03:25.927Z"
   },
   {
    "duration": 42,
    "start_time": "2022-03-17T20:03:25.957Z"
   },
   {
    "duration": 8,
    "start_time": "2022-03-17T20:03:26.001Z"
   },
   {
    "duration": 22,
    "start_time": "2022-03-17T20:03:26.012Z"
   },
   {
    "duration": 48,
    "start_time": "2022-03-17T20:03:26.037Z"
   },
   {
    "duration": 908,
    "start_time": "2022-03-17T20:03:26.088Z"
   },
   {
    "duration": 37,
    "start_time": "2022-03-17T20:03:26.999Z"
   },
   {
    "duration": 652,
    "start_time": "2022-03-17T20:03:27.038Z"
   },
   {
    "duration": 17,
    "start_time": "2022-03-17T20:03:27.694Z"
   },
   {
    "duration": 80,
    "start_time": "2022-03-17T20:03:27.714Z"
   },
   {
    "duration": 478,
    "start_time": "2022-03-17T20:03:27.797Z"
   },
   {
    "duration": 441,
    "start_time": "2022-03-17T20:03:28.282Z"
   },
   {
    "duration": 400,
    "start_time": "2022-03-17T20:03:28.726Z"
   },
   {
    "duration": 422,
    "start_time": "2022-03-17T20:03:29.129Z"
   },
   {
    "duration": 373,
    "start_time": "2022-03-17T20:03:29.553Z"
   },
   {
    "duration": 10,
    "start_time": "2022-03-17T20:03:29.929Z"
   },
   {
    "duration": 18,
    "start_time": "2022-03-17T20:03:29.941Z"
   },
   {
    "duration": 62,
    "start_time": "2022-03-17T20:03:29.961Z"
   },
   {
    "duration": 283,
    "start_time": "2022-03-17T20:03:30.026Z"
   },
   {
    "duration": 275,
    "start_time": "2022-03-17T20:03:30.313Z"
   },
   {
    "duration": 4,
    "start_time": "2022-03-17T20:03:30.591Z"
   },
   {
    "duration": 316,
    "start_time": "2022-03-17T20:03:30.597Z"
   },
   {
    "duration": 280,
    "start_time": "2022-03-17T20:03:30.916Z"
   },
   {
    "duration": 271,
    "start_time": "2022-03-17T20:03:31.199Z"
   },
   {
    "duration": 340,
    "start_time": "2022-03-17T20:03:31.473Z"
   },
   {
    "duration": 5,
    "start_time": "2022-03-17T20:03:31.816Z"
   },
   {
    "duration": 196,
    "start_time": "2022-03-17T20:03:31.824Z"
   },
   {
    "duration": 250,
    "start_time": "2022-03-17T20:03:32.022Z"
   },
   {
    "duration": 272,
    "start_time": "2022-03-17T20:03:32.275Z"
   },
   {
    "duration": 72,
    "start_time": "2022-03-17T20:03:32.550Z"
   },
   {
    "duration": 733,
    "start_time": "2022-03-17T20:03:32.624Z"
   },
   {
    "duration": 504,
    "start_time": "2022-03-17T20:03:33.361Z"
   },
   {
    "duration": 44,
    "start_time": "2022-03-17T20:03:33.868Z"
   },
   {
    "duration": 244,
    "start_time": "2022-03-17T20:03:33.915Z"
   },
   {
    "duration": 43,
    "start_time": "2022-03-17T20:03:34.162Z"
   },
   {
    "duration": 239,
    "start_time": "2022-03-17T20:03:34.207Z"
   },
   {
    "duration": 380,
    "start_time": "2022-03-17T20:03:34.448Z"
   },
   {
    "duration": 12,
    "start_time": "2022-03-17T20:03:34.843Z"
   },
   {
    "duration": 36,
    "start_time": "2022-03-17T20:03:34.858Z"
   },
   {
    "duration": 32,
    "start_time": "2022-03-17T20:03:34.897Z"
   },
   {
    "duration": 7,
    "start_time": "2022-03-17T20:03:34.932Z"
   },
   {
    "duration": 59,
    "start_time": "2022-03-17T20:03:34.941Z"
   },
   {
    "duration": 30,
    "start_time": "2022-03-17T20:03:35.003Z"
   },
   {
    "duration": 19,
    "start_time": "2022-03-17T20:03:35.036Z"
   },
   {
    "duration": 28,
    "start_time": "2022-03-17T20:03:35.058Z"
   },
   {
    "duration": 25,
    "start_time": "2022-03-17T20:03:35.089Z"
   },
   {
    "duration": 524,
    "start_time": "2022-03-17T20:03:35.117Z"
   },
   {
    "duration": 11,
    "start_time": "2022-03-17T20:03:35.644Z"
   },
   {
    "duration": 33,
    "start_time": "2022-03-17T20:03:35.658Z"
   },
   {
    "duration": 44,
    "start_time": "2022-03-17T20:03:35.694Z"
   },
   {
    "duration": 710,
    "start_time": "2022-03-17T20:03:35.740Z"
   },
   {
    "duration": 31,
    "start_time": "2022-03-17T20:03:36.453Z"
   },
   {
    "duration": 40,
    "start_time": "2022-03-17T20:03:36.486Z"
   },
   {
    "duration": 51,
    "start_time": "2022-03-17T20:03:36.528Z"
   },
   {
    "duration": 542,
    "start_time": "2022-03-17T20:03:36.582Z"
   },
   {
    "duration": 55,
    "start_time": "2022-03-17T20:03:37.127Z"
   },
   {
    "duration": 35,
    "start_time": "2022-03-17T20:03:37.185Z"
   },
   {
    "duration": 68,
    "start_time": "2022-03-17T20:03:37.223Z"
   },
   {
    "duration": 35,
    "start_time": "2022-03-17T20:03:37.293Z"
   },
   {
    "duration": 66,
    "start_time": "2022-03-17T20:03:37.331Z"
   },
   {
    "duration": 46,
    "start_time": "2022-03-17T20:03:37.401Z"
   },
   {
    "duration": 32,
    "start_time": "2022-03-17T20:03:37.450Z"
   },
   {
    "duration": 7,
    "start_time": "2022-03-17T20:07:22.829Z"
   },
   {
    "duration": 10,
    "start_time": "2022-03-17T20:07:43.105Z"
   },
   {
    "duration": 12,
    "start_time": "2022-03-17T20:08:09.509Z"
   },
   {
    "duration": 9,
    "start_time": "2022-03-17T20:08:20.751Z"
   },
   {
    "duration": 24,
    "start_time": "2022-03-17T20:08:36.261Z"
   },
   {
    "duration": 155,
    "start_time": "2022-03-17T20:08:40.713Z"
   },
   {
    "duration": 23,
    "start_time": "2022-03-17T20:08:54.626Z"
   },
   {
    "duration": 10,
    "start_time": "2022-03-17T20:09:26.831Z"
   },
   {
    "duration": 49,
    "start_time": "2022-03-17T20:09:36.558Z"
   },
   {
    "duration": 7,
    "start_time": "2022-03-17T20:09:43.738Z"
   },
   {
    "duration": 4,
    "start_time": "2022-03-17T20:10:17.626Z"
   },
   {
    "duration": 34,
    "start_time": "2022-03-17T20:10:23.915Z"
   },
   {
    "duration": 6,
    "start_time": "2022-03-17T20:10:40.167Z"
   },
   {
    "duration": 9,
    "start_time": "2022-03-17T20:10:44.931Z"
   },
   {
    "duration": 49,
    "start_time": "2022-03-17T20:10:50.073Z"
   },
   {
    "duration": 6,
    "start_time": "2022-03-17T20:10:58.643Z"
   },
   {
    "duration": 17,
    "start_time": "2022-03-17T20:11:02.550Z"
   },
   {
    "duration": 1597,
    "start_time": "2022-03-17T20:11:48.815Z"
   },
   {
    "duration": 55,
    "start_time": "2022-03-17T20:11:50.417Z"
   },
   {
    "duration": 34,
    "start_time": "2022-03-17T20:11:50.474Z"
   },
   {
    "duration": 23,
    "start_time": "2022-03-17T20:11:50.512Z"
   },
   {
    "duration": 46,
    "start_time": "2022-03-17T20:11:50.537Z"
   },
   {
    "duration": 16,
    "start_time": "2022-03-17T20:11:50.585Z"
   },
   {
    "duration": 42,
    "start_time": "2022-03-17T20:11:50.603Z"
   },
   {
    "duration": 4,
    "start_time": "2022-03-17T20:11:50.648Z"
   },
   {
    "duration": 32,
    "start_time": "2022-03-17T20:11:50.683Z"
   },
   {
    "duration": 27,
    "start_time": "2022-03-17T20:11:50.720Z"
   },
   {
    "duration": 48,
    "start_time": "2022-03-17T20:11:50.750Z"
   },
   {
    "duration": 10,
    "start_time": "2022-03-17T20:11:50.801Z"
   },
   {
    "duration": 21,
    "start_time": "2022-03-17T20:11:50.813Z"
   },
   {
    "duration": 15,
    "start_time": "2022-03-17T20:11:50.837Z"
   },
   {
    "duration": 8,
    "start_time": "2022-03-17T20:11:50.883Z"
   },
   {
    "duration": 15,
    "start_time": "2022-03-17T20:11:50.893Z"
   },
   {
    "duration": 12,
    "start_time": "2022-03-17T20:11:50.911Z"
   },
   {
    "duration": 18,
    "start_time": "2022-03-17T20:11:50.925Z"
   },
   {
    "duration": 40,
    "start_time": "2022-03-17T20:11:50.945Z"
   },
   {
    "duration": 13,
    "start_time": "2022-03-17T20:11:50.988Z"
   },
   {
    "duration": 15,
    "start_time": "2022-03-17T20:11:51.003Z"
   },
   {
    "duration": 20,
    "start_time": "2022-03-17T20:11:51.021Z"
   },
   {
    "duration": 45,
    "start_time": "2022-03-17T20:11:51.043Z"
   },
   {
    "duration": 9,
    "start_time": "2022-03-17T20:11:51.090Z"
   },
   {
    "duration": 11,
    "start_time": "2022-03-17T20:11:51.102Z"
   },
   {
    "duration": 20,
    "start_time": "2022-03-17T20:11:51.116Z"
   },
   {
    "duration": 52,
    "start_time": "2022-03-17T20:11:51.138Z"
   },
   {
    "duration": 5,
    "start_time": "2022-03-17T20:11:51.198Z"
   },
   {
    "duration": 12,
    "start_time": "2022-03-17T20:11:51.206Z"
   },
   {
    "duration": 15,
    "start_time": "2022-03-17T20:11:51.221Z"
   },
   {
    "duration": 44,
    "start_time": "2022-03-17T20:11:51.239Z"
   },
   {
    "duration": 10,
    "start_time": "2022-03-17T20:11:51.286Z"
   },
   {
    "duration": 17,
    "start_time": "2022-03-17T20:11:51.298Z"
   },
   {
    "duration": 117,
    "start_time": "2022-03-17T20:11:51.317Z"
   },
   {
    "duration": 14,
    "start_time": "2022-03-17T20:11:51.436Z"
   },
   {
    "duration": 32,
    "start_time": "2022-03-17T20:11:51.452Z"
   },
   {
    "duration": 25,
    "start_time": "2022-03-17T20:11:51.486Z"
   },
   {
    "duration": 32,
    "start_time": "2022-03-17T20:11:51.513Z"
   },
   {
    "duration": 93,
    "start_time": "2022-03-17T20:11:51.547Z"
   },
   {
    "duration": 12,
    "start_time": "2022-03-17T20:11:51.642Z"
   },
   {
    "duration": 31,
    "start_time": "2022-03-17T20:11:51.656Z"
   },
   {
    "duration": 29,
    "start_time": "2022-03-17T20:11:51.690Z"
   },
   {
    "duration": 360,
    "start_time": "2022-03-17T20:11:51.722Z"
   },
   {
    "duration": 7,
    "start_time": "2022-03-17T20:11:52.084Z"
   },
   {
    "duration": 30,
    "start_time": "2022-03-17T20:11:52.094Z"
   },
   {
    "duration": 22,
    "start_time": "2022-03-17T20:11:52.126Z"
   },
   {
    "duration": 36,
    "start_time": "2022-03-17T20:11:52.150Z"
   },
   {
    "duration": 31,
    "start_time": "2022-03-17T20:11:52.189Z"
   },
   {
    "duration": 10,
    "start_time": "2022-03-17T20:11:52.223Z"
   },
   {
    "duration": 765,
    "start_time": "2022-03-17T20:11:52.236Z"
   },
   {
    "duration": 26,
    "start_time": "2022-03-17T20:11:53.004Z"
   },
   {
    "duration": 459,
    "start_time": "2022-03-17T20:11:53.032Z"
   },
   {
    "duration": 12,
    "start_time": "2022-03-17T20:11:53.493Z"
   },
   {
    "duration": 42,
    "start_time": "2022-03-17T20:11:53.508Z"
   },
   {
    "duration": 479,
    "start_time": "2022-03-17T20:11:53.552Z"
   },
   {
    "duration": 449,
    "start_time": "2022-03-17T20:11:54.033Z"
   },
   {
    "duration": 328,
    "start_time": "2022-03-17T20:11:54.484Z"
   },
   {
    "duration": 345,
    "start_time": "2022-03-17T20:11:54.815Z"
   },
   {
    "duration": 422,
    "start_time": "2022-03-17T20:11:55.163Z"
   },
   {
    "duration": 9,
    "start_time": "2022-03-17T20:11:55.588Z"
   },
   {
    "duration": 13,
    "start_time": "2022-03-17T20:11:55.600Z"
   },
   {
    "duration": 78,
    "start_time": "2022-03-17T20:11:55.617Z"
   },
   {
    "duration": 342,
    "start_time": "2022-03-17T20:11:55.698Z"
   },
   {
    "duration": 335,
    "start_time": "2022-03-17T20:11:56.042Z"
   },
   {
    "duration": 4,
    "start_time": "2022-03-17T20:11:56.383Z"
   },
   {
    "duration": 310,
    "start_time": "2022-03-17T20:11:56.390Z"
   },
   {
    "duration": 370,
    "start_time": "2022-03-17T20:11:56.704Z"
   },
   {
    "duration": 303,
    "start_time": "2022-03-17T20:11:57.081Z"
   },
   {
    "duration": 263,
    "start_time": "2022-03-17T20:11:57.387Z"
   },
   {
    "duration": 3,
    "start_time": "2022-03-17T20:11:57.652Z"
   },
   {
    "duration": 201,
    "start_time": "2022-03-17T20:11:57.657Z"
   },
   {
    "duration": 183,
    "start_time": "2022-03-17T20:11:57.860Z"
   },
   {
    "duration": 193,
    "start_time": "2022-03-17T20:11:58.045Z"
   },
   {
    "duration": 69,
    "start_time": "2022-03-17T20:11:58.240Z"
   },
   {
    "duration": 535,
    "start_time": "2022-03-17T20:11:58.311Z"
   },
   {
    "duration": 285,
    "start_time": "2022-03-17T20:11:58.848Z"
   },
   {
    "duration": 48,
    "start_time": "2022-03-17T20:11:59.135Z"
   },
   {
    "duration": 322,
    "start_time": "2022-03-17T20:11:59.186Z"
   },
   {
    "duration": 39,
    "start_time": "2022-03-17T20:11:59.510Z"
   },
   {
    "duration": 309,
    "start_time": "2022-03-17T20:11:59.552Z"
   },
   {
    "duration": 468,
    "start_time": "2022-03-17T20:11:59.864Z"
   },
   {
    "duration": 13,
    "start_time": "2022-03-17T20:12:00.344Z"
   },
   {
    "duration": 32,
    "start_time": "2022-03-17T20:12:00.359Z"
   },
   {
    "duration": 26,
    "start_time": "2022-03-17T20:12:00.394Z"
   },
   {
    "duration": 6,
    "start_time": "2022-03-17T20:12:00.422Z"
   },
   {
    "duration": 51,
    "start_time": "2022-03-17T20:12:00.431Z"
   },
   {
    "duration": 29,
    "start_time": "2022-03-17T20:12:00.486Z"
   },
   {
    "duration": 14,
    "start_time": "2022-03-17T20:12:00.518Z"
   },
   {
    "duration": 48,
    "start_time": "2022-03-17T20:12:00.534Z"
   },
   {
    "duration": 36,
    "start_time": "2022-03-17T20:12:00.585Z"
   },
   {
    "duration": 688,
    "start_time": "2022-03-17T20:12:00.624Z"
   },
   {
    "duration": 14,
    "start_time": "2022-03-17T20:12:01.315Z"
   },
   {
    "duration": 14,
    "start_time": "2022-03-17T20:12:01.332Z"
   },
   {
    "duration": 65,
    "start_time": "2022-03-17T20:12:01.348Z"
   },
   {
    "duration": 694,
    "start_time": "2022-03-17T20:12:01.416Z"
   },
   {
    "duration": 14,
    "start_time": "2022-03-17T20:12:02.113Z"
   },
   {
    "duration": 17,
    "start_time": "2022-03-17T20:12:02.130Z"
   },
   {
    "duration": 50,
    "start_time": "2022-03-17T20:12:02.149Z"
   },
   {
    "duration": 665,
    "start_time": "2022-03-17T20:12:02.202Z"
   },
   {
    "duration": 43,
    "start_time": "2022-03-17T20:12:02.871Z"
   },
   {
    "duration": 35,
    "start_time": "2022-03-17T20:12:02.917Z"
   },
   {
    "duration": 85,
    "start_time": "2022-03-17T20:12:02.955Z"
   },
   {
    "duration": 46,
    "start_time": "2022-03-17T20:12:03.043Z"
   },
   {
    "duration": 26,
    "start_time": "2022-03-17T20:12:03.091Z"
   },
   {
    "duration": 15,
    "start_time": "2022-03-17T20:12:03.120Z"
   },
   {
    "duration": 58,
    "start_time": "2022-03-17T20:12:03.137Z"
   },
   {
    "duration": 14,
    "start_time": "2022-03-17T20:12:55.603Z"
   },
   {
    "duration": 12,
    "start_time": "2022-03-17T20:12:58.087Z"
   },
   {
    "duration": 14,
    "start_time": "2022-03-17T20:14:40.202Z"
   },
   {
    "duration": 17,
    "start_time": "2022-03-17T20:14:50.751Z"
   },
   {
    "duration": 4,
    "start_time": "2022-03-17T20:15:18.019Z"
   },
   {
    "duration": 14,
    "start_time": "2022-03-17T20:15:21.102Z"
   },
   {
    "duration": 1551,
    "start_time": "2022-03-17T20:15:38.109Z"
   },
   {
    "duration": 48,
    "start_time": "2022-03-17T20:15:39.663Z"
   },
   {
    "duration": 33,
    "start_time": "2022-03-17T20:15:39.714Z"
   },
   {
    "duration": 45,
    "start_time": "2022-03-17T20:15:39.751Z"
   },
   {
    "duration": 18,
    "start_time": "2022-03-17T20:15:39.798Z"
   },
   {
    "duration": 19,
    "start_time": "2022-03-17T20:15:39.819Z"
   },
   {
    "duration": 77,
    "start_time": "2022-03-17T20:15:39.840Z"
   },
   {
    "duration": 4,
    "start_time": "2022-03-17T20:15:39.919Z"
   },
   {
    "duration": 41,
    "start_time": "2022-03-17T20:15:39.926Z"
   },
   {
    "duration": 23,
    "start_time": "2022-03-17T20:15:39.985Z"
   },
   {
    "duration": 22,
    "start_time": "2022-03-17T20:15:40.010Z"
   },
   {
    "duration": 47,
    "start_time": "2022-03-17T20:15:40.035Z"
   },
   {
    "duration": 12,
    "start_time": "2022-03-17T20:15:40.085Z"
   },
   {
    "duration": 29,
    "start_time": "2022-03-17T20:15:40.099Z"
   },
   {
    "duration": 5,
    "start_time": "2022-03-17T20:15:40.131Z"
   },
   {
    "duration": 28,
    "start_time": "2022-03-17T20:15:40.139Z"
   },
   {
    "duration": 30,
    "start_time": "2022-03-17T20:15:40.169Z"
   },
   {
    "duration": 23,
    "start_time": "2022-03-17T20:15:40.202Z"
   },
   {
    "duration": 18,
    "start_time": "2022-03-17T20:15:40.228Z"
   },
   {
    "duration": 12,
    "start_time": "2022-03-17T20:15:40.249Z"
   },
   {
    "duration": 9,
    "start_time": "2022-03-17T20:15:40.283Z"
   },
   {
    "duration": 28,
    "start_time": "2022-03-17T20:15:40.294Z"
   },
   {
    "duration": 10,
    "start_time": "2022-03-17T20:15:40.325Z"
   },
   {
    "duration": 13,
    "start_time": "2022-03-17T20:15:40.338Z"
   },
   {
    "duration": 6,
    "start_time": "2022-03-17T20:15:40.382Z"
   },
   {
    "duration": 11,
    "start_time": "2022-03-17T20:15:40.390Z"
   },
   {
    "duration": 21,
    "start_time": "2022-03-17T20:15:40.403Z"
   },
   {
    "duration": 5,
    "start_time": "2022-03-17T20:15:40.431Z"
   },
   {
    "duration": 47,
    "start_time": "2022-03-17T20:15:40.438Z"
   },
   {
    "duration": 12,
    "start_time": "2022-03-17T20:15:40.487Z"
   },
   {
    "duration": 11,
    "start_time": "2022-03-17T20:15:40.502Z"
   },
   {
    "duration": 9,
    "start_time": "2022-03-17T20:15:40.515Z"
   },
   {
    "duration": 13,
    "start_time": "2022-03-17T20:15:40.526Z"
   },
   {
    "duration": 148,
    "start_time": "2022-03-17T20:15:40.541Z"
   },
   {
    "duration": 14,
    "start_time": "2022-03-17T20:15:40.691Z"
   },
   {
    "duration": 14,
    "start_time": "2022-03-17T20:15:40.708Z"
   },
   {
    "duration": 17,
    "start_time": "2022-03-17T20:15:40.725Z"
   },
   {
    "duration": 59,
    "start_time": "2022-03-17T20:15:40.744Z"
   },
   {
    "duration": 150,
    "start_time": "2022-03-17T20:15:40.806Z"
   },
   {
    "duration": 24,
    "start_time": "2022-03-17T20:15:40.960Z"
   },
   {
    "duration": 12,
    "start_time": "2022-03-17T20:15:40.986Z"
   },
   {
    "duration": 10,
    "start_time": "2022-03-17T20:15:41.001Z"
   },
   {
    "duration": 379,
    "start_time": "2022-03-17T20:15:41.013Z"
   },
   {
    "duration": 7,
    "start_time": "2022-03-17T20:15:41.394Z"
   },
   {
    "duration": 25,
    "start_time": "2022-03-17T20:15:41.404Z"
   },
   {
    "duration": 50,
    "start_time": "2022-03-17T20:15:41.432Z"
   },
   {
    "duration": 8,
    "start_time": "2022-03-17T20:15:41.485Z"
   },
   {
    "duration": 24,
    "start_time": "2022-03-17T20:15:41.495Z"
   },
   {
    "duration": 13,
    "start_time": "2022-03-17T20:15:41.522Z"
   },
   {
    "duration": 652,
    "start_time": "2022-03-17T20:15:41.537Z"
   },
   {
    "duration": 27,
    "start_time": "2022-03-17T20:15:42.191Z"
   },
   {
    "duration": 555,
    "start_time": "2022-03-17T20:15:42.220Z"
   },
   {
    "duration": 11,
    "start_time": "2022-03-17T20:15:42.782Z"
   },
   {
    "duration": 39,
    "start_time": "2022-03-17T20:15:42.796Z"
   },
   {
    "duration": 467,
    "start_time": "2022-03-17T20:15:42.838Z"
   },
   {
    "duration": 454,
    "start_time": "2022-03-17T20:15:43.308Z"
   },
   {
    "duration": 342,
    "start_time": "2022-03-17T20:15:43.765Z"
   },
   {
    "duration": 351,
    "start_time": "2022-03-17T20:15:44.109Z"
   },
   {
    "duration": 522,
    "start_time": "2022-03-17T20:15:44.463Z"
   },
   {
    "duration": 8,
    "start_time": "2022-03-17T20:15:44.987Z"
   },
   {
    "duration": 16,
    "start_time": "2022-03-17T20:15:44.998Z"
   },
   {
    "duration": 35,
    "start_time": "2022-03-17T20:15:45.016Z"
   },
   {
    "duration": 328,
    "start_time": "2022-03-17T20:15:45.082Z"
   },
   {
    "duration": 258,
    "start_time": "2022-03-17T20:15:45.412Z"
   },
   {
    "duration": 10,
    "start_time": "2022-03-17T20:15:45.673Z"
   },
   {
    "duration": 263,
    "start_time": "2022-03-17T20:15:45.685Z"
   },
   {
    "duration": 285,
    "start_time": "2022-03-17T20:15:45.951Z"
   },
   {
    "duration": 287,
    "start_time": "2022-03-17T20:15:46.238Z"
   },
   {
    "duration": 260,
    "start_time": "2022-03-17T20:15:46.528Z"
   },
   {
    "duration": 4,
    "start_time": "2022-03-17T20:15:46.791Z"
   },
   {
    "duration": 191,
    "start_time": "2022-03-17T20:15:46.798Z"
   },
   {
    "duration": 187,
    "start_time": "2022-03-17T20:15:46.991Z"
   },
   {
    "duration": 217,
    "start_time": "2022-03-17T20:15:47.180Z"
   },
   {
    "duration": 83,
    "start_time": "2022-03-17T20:15:47.400Z"
   },
   {
    "duration": 540,
    "start_time": "2022-03-17T20:15:47.486Z"
   },
   {
    "duration": 297,
    "start_time": "2022-03-17T20:15:48.029Z"
   },
   {
    "duration": 33,
    "start_time": "2022-03-17T20:15:48.328Z"
   },
   {
    "duration": 303,
    "start_time": "2022-03-17T20:15:48.383Z"
   },
   {
    "duration": 30,
    "start_time": "2022-03-17T20:15:48.689Z"
   },
   {
    "duration": 248,
    "start_time": "2022-03-17T20:15:48.722Z"
   },
   {
    "duration": 470,
    "start_time": "2022-03-17T20:15:48.973Z"
   },
   {
    "duration": 10,
    "start_time": "2022-03-17T20:15:49.454Z"
   },
   {
    "duration": 28,
    "start_time": "2022-03-17T20:15:49.466Z"
   },
   {
    "duration": 22,
    "start_time": "2022-03-17T20:15:49.497Z"
   },
   {
    "duration": 6,
    "start_time": "2022-03-17T20:15:49.521Z"
   },
   {
    "duration": 61,
    "start_time": "2022-03-17T20:15:49.530Z"
   },
   {
    "duration": 25,
    "start_time": "2022-03-17T20:15:49.594Z"
   },
   {
    "duration": 13,
    "start_time": "2022-03-17T20:15:49.622Z"
   },
   {
    "duration": 49,
    "start_time": "2022-03-17T20:15:49.637Z"
   },
   {
    "duration": 28,
    "start_time": "2022-03-17T20:15:49.688Z"
   },
   {
    "duration": 530,
    "start_time": "2022-03-17T20:15:49.719Z"
   },
   {
    "duration": 12,
    "start_time": "2022-03-17T20:15:50.252Z"
   },
   {
    "duration": 24,
    "start_time": "2022-03-17T20:15:50.267Z"
   },
   {
    "duration": 25,
    "start_time": "2022-03-17T20:15:50.294Z"
   },
   {
    "duration": 585,
    "start_time": "2022-03-17T20:15:50.322Z"
   },
   {
    "duration": 14,
    "start_time": "2022-03-17T20:15:50.910Z"
   },
   {
    "duration": 14,
    "start_time": "2022-03-17T20:15:50.927Z"
   },
   {
    "duration": 54,
    "start_time": "2022-03-17T20:15:50.944Z"
   },
   {
    "duration": 554,
    "start_time": "2022-03-17T20:15:51.001Z"
   },
   {
    "duration": 58,
    "start_time": "2022-03-17T20:15:51.558Z"
   },
   {
    "duration": 45,
    "start_time": "2022-03-17T20:15:51.618Z"
   },
   {
    "duration": 60,
    "start_time": "2022-03-17T20:15:51.682Z"
   },
   {
    "duration": 49,
    "start_time": "2022-03-17T20:15:51.745Z"
   },
   {
    "duration": 26,
    "start_time": "2022-03-17T20:15:51.797Z"
   },
   {
    "duration": 17,
    "start_time": "2022-03-17T20:15:51.826Z"
   },
   {
    "duration": 48,
    "start_time": "2022-03-17T20:15:51.849Z"
   },
   {
    "duration": 31,
    "start_time": "2022-03-17T20:16:31.803Z"
   },
   {
    "duration": 23,
    "start_time": "2022-03-17T20:16:37.609Z"
   },
   {
    "duration": 16,
    "start_time": "2022-03-17T20:16:41.452Z"
   },
   {
    "duration": 15,
    "start_time": "2022-03-17T20:17:05.615Z"
   },
   {
    "duration": 31,
    "start_time": "2022-03-17T20:17:10.295Z"
   },
   {
    "duration": 14,
    "start_time": "2022-03-17T20:25:16.896Z"
   },
   {
    "duration": 16,
    "start_time": "2022-03-17T20:25:19.079Z"
   },
   {
    "duration": 14,
    "start_time": "2022-03-17T20:26:01.173Z"
   },
   {
    "duration": 13,
    "start_time": "2022-03-17T20:26:03.316Z"
   },
   {
    "duration": 4,
    "start_time": "2022-03-17T20:26:17.570Z"
   },
   {
    "duration": 13,
    "start_time": "2022-03-17T20:26:20.050Z"
   },
   {
    "duration": 1773,
    "start_time": "2022-03-17T20:26:32.124Z"
   },
   {
    "duration": 49,
    "start_time": "2022-03-17T20:26:33.900Z"
   },
   {
    "duration": 44,
    "start_time": "2022-03-17T20:26:33.951Z"
   },
   {
    "duration": 29,
    "start_time": "2022-03-17T20:26:33.998Z"
   },
   {
    "duration": 15,
    "start_time": "2022-03-17T20:26:34.030Z"
   },
   {
    "duration": 46,
    "start_time": "2022-03-17T20:26:34.049Z"
   },
   {
    "duration": 45,
    "start_time": "2022-03-17T20:26:34.098Z"
   },
   {
    "duration": 4,
    "start_time": "2022-03-17T20:26:34.146Z"
   },
   {
    "duration": 54,
    "start_time": "2022-03-17T20:26:34.152Z"
   },
   {
    "duration": 17,
    "start_time": "2022-03-17T20:26:34.210Z"
   },
   {
    "duration": 24,
    "start_time": "2022-03-17T20:26:34.229Z"
   },
   {
    "duration": 33,
    "start_time": "2022-03-17T20:26:34.255Z"
   },
   {
    "duration": 30,
    "start_time": "2022-03-17T20:26:34.290Z"
   },
   {
    "duration": 18,
    "start_time": "2022-03-17T20:26:34.322Z"
   },
   {
    "duration": 9,
    "start_time": "2022-03-17T20:26:34.342Z"
   },
   {
    "duration": 23,
    "start_time": "2022-03-17T20:26:34.353Z"
   },
   {
    "duration": 14,
    "start_time": "2022-03-17T20:26:34.378Z"
   },
   {
    "duration": 21,
    "start_time": "2022-03-17T20:26:34.394Z"
   },
   {
    "duration": 43,
    "start_time": "2022-03-17T20:26:34.417Z"
   },
   {
    "duration": 18,
    "start_time": "2022-03-17T20:26:34.462Z"
   },
   {
    "duration": 18,
    "start_time": "2022-03-17T20:26:34.482Z"
   },
   {
    "duration": 18,
    "start_time": "2022-03-17T20:26:34.502Z"
   },
   {
    "duration": 7,
    "start_time": "2022-03-17T20:26:34.522Z"
   },
   {
    "duration": 6,
    "start_time": "2022-03-17T20:26:34.531Z"
   },
   {
    "duration": 5,
    "start_time": "2022-03-17T20:26:34.539Z"
   },
   {
    "duration": 10,
    "start_time": "2022-03-17T20:26:34.582Z"
   },
   {
    "duration": 19,
    "start_time": "2022-03-17T20:26:34.594Z"
   },
   {
    "duration": 5,
    "start_time": "2022-03-17T20:26:34.620Z"
   },
   {
    "duration": 10,
    "start_time": "2022-03-17T20:26:34.627Z"
   },
   {
    "duration": 49,
    "start_time": "2022-03-17T20:26:34.639Z"
   },
   {
    "duration": 10,
    "start_time": "2022-03-17T20:26:34.691Z"
   },
   {
    "duration": 10,
    "start_time": "2022-03-17T20:26:34.704Z"
   },
   {
    "duration": 13,
    "start_time": "2022-03-17T20:26:34.716Z"
   },
   {
    "duration": 152,
    "start_time": "2022-03-17T20:26:34.731Z"
   },
   {
    "duration": 14,
    "start_time": "2022-03-17T20:26:34.885Z"
   },
   {
    "duration": 11,
    "start_time": "2022-03-17T20:26:34.901Z"
   },
   {
    "duration": 11,
    "start_time": "2022-03-17T20:26:34.914Z"
   },
   {
    "duration": 57,
    "start_time": "2022-03-17T20:26:34.928Z"
   },
   {
    "duration": 114,
    "start_time": "2022-03-17T20:26:34.987Z"
   },
   {
    "duration": 12,
    "start_time": "2022-03-17T20:26:35.103Z"
   },
   {
    "duration": 12,
    "start_time": "2022-03-17T20:26:35.118Z"
   },
   {
    "duration": 10,
    "start_time": "2022-03-17T20:26:35.132Z"
   },
   {
    "duration": 394,
    "start_time": "2022-03-17T20:26:35.144Z"
   },
   {
    "duration": 7,
    "start_time": "2022-03-17T20:26:35.541Z"
   },
   {
    "duration": 40,
    "start_time": "2022-03-17T20:26:35.550Z"
   },
   {
    "duration": 19,
    "start_time": "2022-03-17T20:26:35.593Z"
   },
   {
    "duration": 6,
    "start_time": "2022-03-17T20:26:35.614Z"
   },
   {
    "duration": 22,
    "start_time": "2022-03-17T20:26:35.622Z"
   },
   {
    "duration": 42,
    "start_time": "2022-03-17T20:26:35.646Z"
   },
   {
    "duration": 615,
    "start_time": "2022-03-17T20:26:35.691Z"
   },
   {
    "duration": 28,
    "start_time": "2022-03-17T20:26:36.308Z"
   },
   {
    "duration": 445,
    "start_time": "2022-03-17T20:26:36.340Z"
   },
   {
    "duration": 13,
    "start_time": "2022-03-17T20:26:36.788Z"
   },
   {
    "duration": 42,
    "start_time": "2022-03-17T20:26:36.803Z"
   },
   {
    "duration": 360,
    "start_time": "2022-03-17T20:26:36.848Z"
   },
   {
    "duration": 341,
    "start_time": "2022-03-17T20:26:37.211Z"
   },
   {
    "duration": 302,
    "start_time": "2022-03-17T20:26:37.554Z"
   },
   {
    "duration": 337,
    "start_time": "2022-03-17T20:26:37.859Z"
   },
   {
    "duration": 392,
    "start_time": "2022-03-17T20:26:38.199Z"
   },
   {
    "duration": 9,
    "start_time": "2022-03-17T20:26:38.593Z"
   },
   {
    "duration": 18,
    "start_time": "2022-03-17T20:26:38.604Z"
   },
   {
    "duration": 32,
    "start_time": "2022-03-17T20:26:38.625Z"
   },
   {
    "duration": 274,
    "start_time": "2022-03-17T20:26:38.659Z"
   },
   {
    "duration": 241,
    "start_time": "2022-03-17T20:26:38.936Z"
   },
   {
    "duration": 3,
    "start_time": "2022-03-17T20:26:39.182Z"
   },
   {
    "duration": 248,
    "start_time": "2022-03-17T20:26:39.187Z"
   },
   {
    "duration": 274,
    "start_time": "2022-03-17T20:26:39.438Z"
   },
   {
    "duration": 285,
    "start_time": "2022-03-17T20:26:39.714Z"
   },
   {
    "duration": 272,
    "start_time": "2022-03-17T20:26:40.002Z"
   },
   {
    "duration": 3,
    "start_time": "2022-03-17T20:26:40.281Z"
   },
   {
    "duration": 196,
    "start_time": "2022-03-17T20:26:40.288Z"
   },
   {
    "duration": 184,
    "start_time": "2022-03-17T20:26:40.487Z"
   },
   {
    "duration": 232,
    "start_time": "2022-03-17T20:26:40.673Z"
   },
   {
    "duration": 53,
    "start_time": "2022-03-17T20:26:40.908Z"
   },
   {
    "duration": 513,
    "start_time": "2022-03-17T20:26:40.981Z"
   },
   {
    "duration": 285,
    "start_time": "2022-03-17T20:26:41.497Z"
   },
   {
    "duration": 31,
    "start_time": "2022-03-17T20:26:41.784Z"
   },
   {
    "duration": 325,
    "start_time": "2022-03-17T20:26:41.817Z"
   },
   {
    "duration": 42,
    "start_time": "2022-03-17T20:26:42.144Z"
   },
   {
    "duration": 214,
    "start_time": "2022-03-17T20:26:42.189Z"
   },
   {
    "duration": 357,
    "start_time": "2022-03-17T20:26:42.406Z"
   },
   {
    "duration": 18,
    "start_time": "2022-03-17T20:26:42.772Z"
   },
   {
    "duration": 16,
    "start_time": "2022-03-17T20:26:42.792Z"
   },
   {
    "duration": 24,
    "start_time": "2022-03-17T20:26:42.810Z"
   },
   {
    "duration": 6,
    "start_time": "2022-03-17T20:26:42.837Z"
   },
   {
    "duration": 55,
    "start_time": "2022-03-17T20:26:42.845Z"
   },
   {
    "duration": 35,
    "start_time": "2022-03-17T20:26:42.902Z"
   },
   {
    "duration": 13,
    "start_time": "2022-03-17T20:26:42.940Z"
   },
   {
    "duration": 38,
    "start_time": "2022-03-17T20:26:42.955Z"
   },
   {
    "duration": 26,
    "start_time": "2022-03-17T20:26:42.995Z"
   },
   {
    "duration": 522,
    "start_time": "2022-03-17T20:26:43.023Z"
   },
   {
    "duration": 12,
    "start_time": "2022-03-17T20:26:43.547Z"
   },
   {
    "duration": 29,
    "start_time": "2022-03-17T20:26:43.561Z"
   },
   {
    "duration": 39,
    "start_time": "2022-03-17T20:26:43.593Z"
   },
   {
    "duration": 513,
    "start_time": "2022-03-17T20:26:43.635Z"
   },
   {
    "duration": 31,
    "start_time": "2022-03-17T20:26:44.151Z"
   },
   {
    "duration": 15,
    "start_time": "2022-03-17T20:26:44.184Z"
   },
   {
    "duration": 24,
    "start_time": "2022-03-17T20:26:44.202Z"
   },
   {
    "duration": 579,
    "start_time": "2022-03-17T20:26:44.229Z"
   },
   {
    "duration": 38,
    "start_time": "2022-03-17T20:26:44.810Z"
   },
   {
    "duration": 59,
    "start_time": "2022-03-17T20:26:44.850Z"
   },
   {
    "duration": 75,
    "start_time": "2022-03-17T20:26:44.912Z"
   },
   {
    "duration": 25,
    "start_time": "2022-03-17T20:26:44.990Z"
   },
   {
    "duration": 36,
    "start_time": "2022-03-17T20:26:45.018Z"
   },
   {
    "duration": 34,
    "start_time": "2022-03-17T20:26:45.056Z"
   },
   {
    "duration": 19,
    "start_time": "2022-03-17T20:26:45.093Z"
   },
   {
    "duration": 9,
    "start_time": "2022-03-17T20:28:41.101Z"
   },
   {
    "duration": 17,
    "start_time": "2022-03-17T20:28:43.167Z"
   },
   {
    "duration": 1632,
    "start_time": "2022-03-17T20:28:59.944Z"
   },
   {
    "duration": 51,
    "start_time": "2022-03-17T20:29:01.581Z"
   },
   {
    "duration": 50,
    "start_time": "2022-03-17T20:29:01.634Z"
   },
   {
    "duration": 22,
    "start_time": "2022-03-17T20:29:01.687Z"
   },
   {
    "duration": 14,
    "start_time": "2022-03-17T20:29:01.712Z"
   },
   {
    "duration": 21,
    "start_time": "2022-03-17T20:29:01.728Z"
   },
   {
    "duration": 50,
    "start_time": "2022-03-17T20:29:01.783Z"
   },
   {
    "duration": 4,
    "start_time": "2022-03-17T20:29:01.835Z"
   },
   {
    "duration": 60,
    "start_time": "2022-03-17T20:29:01.841Z"
   },
   {
    "duration": 25,
    "start_time": "2022-03-17T20:29:01.905Z"
   },
   {
    "duration": 27,
    "start_time": "2022-03-17T20:29:01.933Z"
   },
   {
    "duration": 9,
    "start_time": "2022-03-17T20:29:01.982Z"
   },
   {
    "duration": 16,
    "start_time": "2022-03-17T20:29:01.994Z"
   },
   {
    "duration": 14,
    "start_time": "2022-03-17T20:29:02.012Z"
   },
   {
    "duration": 5,
    "start_time": "2022-03-17T20:29:02.029Z"
   },
   {
    "duration": 58,
    "start_time": "2022-03-17T20:29:02.037Z"
   },
   {
    "duration": 10,
    "start_time": "2022-03-17T20:29:02.098Z"
   },
   {
    "duration": 19,
    "start_time": "2022-03-17T20:29:02.110Z"
   },
   {
    "duration": 22,
    "start_time": "2022-03-17T20:29:02.132Z"
   },
   {
    "duration": 27,
    "start_time": "2022-03-17T20:29:02.157Z"
   },
   {
    "duration": 9,
    "start_time": "2022-03-17T20:29:02.187Z"
   },
   {
    "duration": 22,
    "start_time": "2022-03-17T20:29:02.198Z"
   },
   {
    "duration": 10,
    "start_time": "2022-03-17T20:29:02.223Z"
   },
   {
    "duration": 49,
    "start_time": "2022-03-17T20:29:02.235Z"
   },
   {
    "duration": 7,
    "start_time": "2022-03-17T20:29:02.286Z"
   },
   {
    "duration": 20,
    "start_time": "2022-03-17T20:29:02.296Z"
   },
   {
    "duration": 31,
    "start_time": "2022-03-17T20:29:02.318Z"
   },
   {
    "duration": 35,
    "start_time": "2022-03-17T20:29:02.359Z"
   },
   {
    "duration": 11,
    "start_time": "2022-03-17T20:29:02.397Z"
   },
   {
    "duration": 15,
    "start_time": "2022-03-17T20:29:02.411Z"
   },
   {
    "duration": 16,
    "start_time": "2022-03-17T20:29:02.429Z"
   },
   {
    "duration": 13,
    "start_time": "2022-03-17T20:29:02.448Z"
   },
   {
    "duration": 14,
    "start_time": "2022-03-17T20:29:02.483Z"
   },
   {
    "duration": 126,
    "start_time": "2022-03-17T20:29:02.500Z"
   },
   {
    "duration": 15,
    "start_time": "2022-03-17T20:29:02.628Z"
   },
   {
    "duration": 11,
    "start_time": "2022-03-17T20:29:02.646Z"
   },
   {
    "duration": 11,
    "start_time": "2022-03-17T20:29:02.682Z"
   },
   {
    "duration": 27,
    "start_time": "2022-03-17T20:29:02.695Z"
   },
   {
    "duration": 121,
    "start_time": "2022-03-17T20:29:02.725Z"
   },
   {
    "duration": 13,
    "start_time": "2022-03-17T20:29:02.848Z"
   },
   {
    "duration": 29,
    "start_time": "2022-03-17T20:29:02.863Z"
   },
   {
    "duration": 14,
    "start_time": "2022-03-17T20:29:02.894Z"
   },
   {
    "duration": 372,
    "start_time": "2022-03-17T20:29:02.910Z"
   },
   {
    "duration": 7,
    "start_time": "2022-03-17T20:29:03.285Z"
   },
   {
    "duration": 34,
    "start_time": "2022-03-17T20:29:03.295Z"
   },
   {
    "duration": 51,
    "start_time": "2022-03-17T20:29:03.332Z"
   },
   {
    "duration": 8,
    "start_time": "2022-03-17T20:29:03.386Z"
   },
   {
    "duration": 28,
    "start_time": "2022-03-17T20:29:03.397Z"
   },
   {
    "duration": 15,
    "start_time": "2022-03-17T20:29:03.428Z"
   },
   {
    "duration": 650,
    "start_time": "2022-03-17T20:29:03.446Z"
   },
   {
    "duration": 28,
    "start_time": "2022-03-17T20:29:04.098Z"
   },
   {
    "duration": 458,
    "start_time": "2022-03-17T20:29:04.129Z"
   },
   {
    "duration": 12,
    "start_time": "2022-03-17T20:29:04.589Z"
   },
   {
    "duration": 39,
    "start_time": "2022-03-17T20:29:04.604Z"
   },
   {
    "duration": 362,
    "start_time": "2022-03-17T20:29:04.645Z"
   },
   {
    "duration": 431,
    "start_time": "2022-03-17T20:29:05.009Z"
   },
   {
    "duration": 309,
    "start_time": "2022-03-17T20:29:05.443Z"
   },
   {
    "duration": 388,
    "start_time": "2022-03-17T20:29:05.754Z"
   },
   {
    "duration": 413,
    "start_time": "2022-03-17T20:29:06.145Z"
   },
   {
    "duration": 21,
    "start_time": "2022-03-17T20:29:06.561Z"
   },
   {
    "duration": 15,
    "start_time": "2022-03-17T20:29:06.585Z"
   },
   {
    "duration": 42,
    "start_time": "2022-03-17T20:29:06.602Z"
   },
   {
    "duration": 287,
    "start_time": "2022-03-17T20:29:06.646Z"
   },
   {
    "duration": 262,
    "start_time": "2022-03-17T20:29:06.935Z"
   },
   {
    "duration": 4,
    "start_time": "2022-03-17T20:29:07.200Z"
   },
   {
    "duration": 292,
    "start_time": "2022-03-17T20:29:07.206Z"
   },
   {
    "duration": 357,
    "start_time": "2022-03-17T20:29:07.500Z"
   },
   {
    "duration": 281,
    "start_time": "2022-03-17T20:29:07.861Z"
   },
   {
    "duration": 272,
    "start_time": "2022-03-17T20:29:08.148Z"
   },
   {
    "duration": 4,
    "start_time": "2022-03-17T20:29:08.423Z"
   },
   {
    "duration": 215,
    "start_time": "2022-03-17T20:29:08.430Z"
   },
   {
    "duration": 201,
    "start_time": "2022-03-17T20:29:08.648Z"
   },
   {
    "duration": 269,
    "start_time": "2022-03-17T20:29:08.852Z"
   },
   {
    "duration": 72,
    "start_time": "2022-03-17T20:29:09.124Z"
   },
   {
    "duration": 553,
    "start_time": "2022-03-17T20:29:09.198Z"
   },
   {
    "duration": 394,
    "start_time": "2022-03-17T20:29:09.754Z"
   },
   {
    "duration": 47,
    "start_time": "2022-03-17T20:29:10.151Z"
   },
   {
    "duration": 334,
    "start_time": "2022-03-17T20:29:10.201Z"
   },
   {
    "duration": 48,
    "start_time": "2022-03-17T20:29:10.538Z"
   },
   {
    "duration": 227,
    "start_time": "2022-03-17T20:29:10.589Z"
   },
   {
    "duration": 368,
    "start_time": "2022-03-17T20:29:10.818Z"
   },
   {
    "duration": 9,
    "start_time": "2022-03-17T20:29:11.197Z"
   },
   {
    "duration": 13,
    "start_time": "2022-03-17T20:29:11.208Z"
   },
   {
    "duration": 62,
    "start_time": "2022-03-17T20:29:11.224Z"
   },
   {
    "duration": 7,
    "start_time": "2022-03-17T20:29:11.289Z"
   },
   {
    "duration": 22,
    "start_time": "2022-03-17T20:29:11.299Z"
   },
   {
    "duration": 27,
    "start_time": "2022-03-17T20:29:11.323Z"
   },
   {
    "duration": 15,
    "start_time": "2022-03-17T20:29:11.383Z"
   },
   {
    "duration": 11,
    "start_time": "2022-03-17T20:29:11.401Z"
   },
   {
    "duration": 26,
    "start_time": "2022-03-17T20:29:11.414Z"
   },
   {
    "duration": 538,
    "start_time": "2022-03-17T20:29:11.442Z"
   },
   {
    "duration": 13,
    "start_time": "2022-03-17T20:29:11.983Z"
   },
   {
    "duration": 12,
    "start_time": "2022-03-17T20:29:11.999Z"
   },
   {
    "duration": 30,
    "start_time": "2022-03-17T20:29:12.013Z"
   },
   {
    "duration": 707,
    "start_time": "2022-03-17T20:29:12.081Z"
   },
   {
    "duration": 13,
    "start_time": "2022-03-17T20:29:12.791Z"
   },
   {
    "duration": 13,
    "start_time": "2022-03-17T20:29:12.806Z"
   },
   {
    "duration": 66,
    "start_time": "2022-03-17T20:29:12.822Z"
   },
   {
    "duration": 543,
    "start_time": "2022-03-17T20:29:12.891Z"
   },
   {
    "duration": 52,
    "start_time": "2022-03-17T20:29:13.436Z"
   },
   {
    "duration": 38,
    "start_time": "2022-03-17T20:29:13.490Z"
   },
   {
    "duration": 90,
    "start_time": "2022-03-17T20:29:13.530Z"
   },
   {
    "duration": 35,
    "start_time": "2022-03-17T20:29:13.623Z"
   },
   {
    "duration": 54,
    "start_time": "2022-03-17T20:29:13.661Z"
   },
   {
    "duration": 22,
    "start_time": "2022-03-17T20:29:13.717Z"
   },
   {
    "duration": 46,
    "start_time": "2022-03-17T20:29:13.741Z"
   },
   {
    "duration": 6,
    "start_time": "2022-03-17T20:32:22.728Z"
   },
   {
    "duration": 12,
    "start_time": "2022-03-17T20:32:25.254Z"
   },
   {
    "duration": 1517,
    "start_time": "2022-03-17T20:32:45.359Z"
   },
   {
    "duration": 48,
    "start_time": "2022-03-17T20:32:46.883Z"
   },
   {
    "duration": 49,
    "start_time": "2022-03-17T20:32:46.933Z"
   },
   {
    "duration": 33,
    "start_time": "2022-03-17T20:32:46.985Z"
   },
   {
    "duration": 35,
    "start_time": "2022-03-17T20:32:47.021Z"
   },
   {
    "duration": 40,
    "start_time": "2022-03-17T20:32:47.059Z"
   },
   {
    "duration": 101,
    "start_time": "2022-03-17T20:32:47.102Z"
   },
   {
    "duration": 8,
    "start_time": "2022-03-17T20:32:47.205Z"
   },
   {
    "duration": 62,
    "start_time": "2022-03-17T20:32:47.215Z"
   },
   {
    "duration": 53,
    "start_time": "2022-03-17T20:32:47.283Z"
   },
   {
    "duration": 55,
    "start_time": "2022-03-17T20:32:47.339Z"
   },
   {
    "duration": 50,
    "start_time": "2022-03-17T20:32:47.397Z"
   },
   {
    "duration": 51,
    "start_time": "2022-03-17T20:32:47.450Z"
   },
   {
    "duration": 31,
    "start_time": "2022-03-17T20:32:47.503Z"
   },
   {
    "duration": 54,
    "start_time": "2022-03-17T20:32:47.537Z"
   },
   {
    "duration": 61,
    "start_time": "2022-03-17T20:32:47.594Z"
   },
   {
    "duration": 50,
    "start_time": "2022-03-17T20:32:47.658Z"
   },
   {
    "duration": 38,
    "start_time": "2022-03-17T20:32:47.710Z"
   },
   {
    "duration": 59,
    "start_time": "2022-03-17T20:32:47.750Z"
   },
   {
    "duration": 38,
    "start_time": "2022-03-17T20:32:47.813Z"
   },
   {
    "duration": 22,
    "start_time": "2022-03-17T20:32:47.854Z"
   },
   {
    "duration": 64,
    "start_time": "2022-03-17T20:32:47.879Z"
   },
   {
    "duration": 30,
    "start_time": "2022-03-17T20:32:47.946Z"
   },
   {
    "duration": 38,
    "start_time": "2022-03-17T20:32:47.978Z"
   },
   {
    "duration": 52,
    "start_time": "2022-03-17T20:32:48.019Z"
   },
   {
    "duration": 73,
    "start_time": "2022-03-17T20:32:48.074Z"
   },
   {
    "duration": 66,
    "start_time": "2022-03-17T20:32:48.150Z"
   },
   {
    "duration": 44,
    "start_time": "2022-03-17T20:32:48.223Z"
   },
   {
    "duration": 79,
    "start_time": "2022-03-17T20:32:48.269Z"
   },
   {
    "duration": 89,
    "start_time": "2022-03-17T20:32:48.350Z"
   },
   {
    "duration": 61,
    "start_time": "2022-03-17T20:32:48.441Z"
   },
   {
    "duration": 65,
    "start_time": "2022-03-17T20:32:48.505Z"
   },
   {
    "duration": 72,
    "start_time": "2022-03-17T20:32:48.572Z"
   },
   {
    "duration": 133,
    "start_time": "2022-03-17T20:32:48.646Z"
   },
   {
    "duration": 12,
    "start_time": "2022-03-17T20:32:48.782Z"
   },
   {
    "duration": 62,
    "start_time": "2022-03-17T20:32:48.796Z"
   },
   {
    "duration": 29,
    "start_time": "2022-03-17T20:32:48.860Z"
   },
   {
    "duration": 51,
    "start_time": "2022-03-17T20:32:48.892Z"
   },
   {
    "duration": 338,
    "start_time": "2022-03-17T20:32:48.946Z"
   },
   {
    "duration": 13,
    "start_time": "2022-03-17T20:32:49.287Z"
   },
   {
    "duration": 91,
    "start_time": "2022-03-17T20:32:49.302Z"
   },
   {
    "duration": 54,
    "start_time": "2022-03-17T20:32:49.404Z"
   },
   {
    "duration": 687,
    "start_time": "2022-03-17T20:32:49.460Z"
   },
   {
    "duration": 8,
    "start_time": "2022-03-17T20:32:50.150Z"
   },
   {
    "duration": 53,
    "start_time": "2022-03-17T20:32:50.161Z"
   },
   {
    "duration": 64,
    "start_time": "2022-03-17T20:32:50.217Z"
   },
   {
    "duration": 15,
    "start_time": "2022-03-17T20:32:50.284Z"
   },
   {
    "duration": 87,
    "start_time": "2022-03-17T20:32:50.302Z"
   },
   {
    "duration": 70,
    "start_time": "2022-03-17T20:32:50.392Z"
   },
   {
    "duration": 700,
    "start_time": "2022-03-17T20:32:50.465Z"
   },
   {
    "duration": 33,
    "start_time": "2022-03-17T20:32:51.168Z"
   },
   {
    "duration": 497,
    "start_time": "2022-03-17T20:32:51.203Z"
   },
   {
    "duration": 14,
    "start_time": "2022-03-17T20:32:51.702Z"
   },
   {
    "duration": 74,
    "start_time": "2022-03-17T20:32:51.719Z"
   },
   {
    "duration": 446,
    "start_time": "2022-03-17T20:32:51.796Z"
   },
   {
    "duration": 450,
    "start_time": "2022-03-17T20:32:52.245Z"
   },
   {
    "duration": 398,
    "start_time": "2022-03-17T20:32:52.698Z"
   },
   {
    "duration": 349,
    "start_time": "2022-03-17T20:32:53.099Z"
   },
   {
    "duration": 399,
    "start_time": "2022-03-17T20:32:53.450Z"
   },
   {
    "duration": 8,
    "start_time": "2022-03-17T20:32:53.851Z"
   },
   {
    "duration": 61,
    "start_time": "2022-03-17T20:32:53.861Z"
   },
   {
    "duration": 177,
    "start_time": "2022-03-17T20:32:53.924Z"
   },
   {
    "duration": 0,
    "start_time": "2022-03-17T20:32:54.106Z"
   },
   {
    "duration": 0,
    "start_time": "2022-03-17T20:32:54.108Z"
   },
   {
    "duration": 0,
    "start_time": "2022-03-17T20:32:54.110Z"
   },
   {
    "duration": 0,
    "start_time": "2022-03-17T20:32:54.113Z"
   },
   {
    "duration": 0,
    "start_time": "2022-03-17T20:32:54.115Z"
   },
   {
    "duration": 0,
    "start_time": "2022-03-17T20:32:54.117Z"
   },
   {
    "duration": 0,
    "start_time": "2022-03-17T20:32:54.119Z"
   },
   {
    "duration": 0,
    "start_time": "2022-03-17T20:32:54.121Z"
   },
   {
    "duration": 0,
    "start_time": "2022-03-17T20:32:54.123Z"
   },
   {
    "duration": 0,
    "start_time": "2022-03-17T20:32:54.125Z"
   },
   {
    "duration": 0,
    "start_time": "2022-03-17T20:32:54.127Z"
   },
   {
    "duration": 0,
    "start_time": "2022-03-17T20:32:54.129Z"
   },
   {
    "duration": 0,
    "start_time": "2022-03-17T20:32:54.131Z"
   },
   {
    "duration": 0,
    "start_time": "2022-03-17T20:32:54.133Z"
   },
   {
    "duration": 0,
    "start_time": "2022-03-17T20:32:54.183Z"
   },
   {
    "duration": 0,
    "start_time": "2022-03-17T20:32:54.185Z"
   },
   {
    "duration": 0,
    "start_time": "2022-03-17T20:32:54.187Z"
   },
   {
    "duration": 0,
    "start_time": "2022-03-17T20:32:54.189Z"
   },
   {
    "duration": 0,
    "start_time": "2022-03-17T20:32:54.190Z"
   },
   {
    "duration": 0,
    "start_time": "2022-03-17T20:32:54.192Z"
   },
   {
    "duration": 0,
    "start_time": "2022-03-17T20:32:54.194Z"
   },
   {
    "duration": 0,
    "start_time": "2022-03-17T20:32:54.196Z"
   },
   {
    "duration": 0,
    "start_time": "2022-03-17T20:32:54.197Z"
   },
   {
    "duration": 0,
    "start_time": "2022-03-17T20:32:54.199Z"
   },
   {
    "duration": 0,
    "start_time": "2022-03-17T20:32:54.202Z"
   },
   {
    "duration": 0,
    "start_time": "2022-03-17T20:32:54.203Z"
   },
   {
    "duration": 0,
    "start_time": "2022-03-17T20:32:54.205Z"
   },
   {
    "duration": 0,
    "start_time": "2022-03-17T20:32:54.207Z"
   },
   {
    "duration": 0,
    "start_time": "2022-03-17T20:32:54.209Z"
   },
   {
    "duration": 0,
    "start_time": "2022-03-17T20:32:54.210Z"
   },
   {
    "duration": 0,
    "start_time": "2022-03-17T20:32:54.213Z"
   },
   {
    "duration": 0,
    "start_time": "2022-03-17T20:32:54.214Z"
   },
   {
    "duration": 0,
    "start_time": "2022-03-17T20:32:54.216Z"
   },
   {
    "duration": 0,
    "start_time": "2022-03-17T20:32:54.217Z"
   },
   {
    "duration": 0,
    "start_time": "2022-03-17T20:32:54.220Z"
   },
   {
    "duration": 0,
    "start_time": "2022-03-17T20:32:54.222Z"
   },
   {
    "duration": 0,
    "start_time": "2022-03-17T20:32:54.224Z"
   },
   {
    "duration": 0,
    "start_time": "2022-03-17T20:32:54.283Z"
   },
   {
    "duration": 0,
    "start_time": "2022-03-17T20:32:54.285Z"
   },
   {
    "duration": 0,
    "start_time": "2022-03-17T20:32:54.287Z"
   },
   {
    "duration": 0,
    "start_time": "2022-03-17T20:32:54.288Z"
   },
   {
    "duration": 0,
    "start_time": "2022-03-17T20:32:54.290Z"
   },
   {
    "duration": 0,
    "start_time": "2022-03-17T20:32:54.292Z"
   },
   {
    "duration": 0,
    "start_time": "2022-03-17T20:32:54.294Z"
   },
   {
    "duration": 7,
    "start_time": "2022-03-17T20:33:27.015Z"
   },
   {
    "duration": 6,
    "start_time": "2022-03-17T20:33:32.197Z"
   },
   {
    "duration": 15,
    "start_time": "2022-03-17T20:33:37.899Z"
   },
   {
    "duration": 1539,
    "start_time": "2022-03-17T20:34:12.021Z"
   },
   {
    "duration": 51,
    "start_time": "2022-03-17T20:34:13.563Z"
   },
   {
    "duration": 31,
    "start_time": "2022-03-17T20:34:13.616Z"
   },
   {
    "duration": 41,
    "start_time": "2022-03-17T20:34:13.649Z"
   },
   {
    "duration": 12,
    "start_time": "2022-03-17T20:34:13.693Z"
   },
   {
    "duration": 29,
    "start_time": "2022-03-17T20:34:13.707Z"
   },
   {
    "duration": 63,
    "start_time": "2022-03-17T20:34:13.738Z"
   },
   {
    "duration": 5,
    "start_time": "2022-03-17T20:34:13.803Z"
   },
   {
    "duration": 38,
    "start_time": "2022-03-17T20:34:13.810Z"
   },
   {
    "duration": 42,
    "start_time": "2022-03-17T20:34:13.850Z"
   },
   {
    "duration": 25,
    "start_time": "2022-03-17T20:34:13.894Z"
   },
   {
    "duration": 18,
    "start_time": "2022-03-17T20:34:13.922Z"
   },
   {
    "duration": 34,
    "start_time": "2022-03-17T20:34:13.943Z"
   },
   {
    "duration": 44,
    "start_time": "2022-03-17T20:34:13.983Z"
   },
   {
    "duration": 21,
    "start_time": "2022-03-17T20:34:14.030Z"
   },
   {
    "duration": 40,
    "start_time": "2022-03-17T20:34:14.054Z"
   },
   {
    "duration": 18,
    "start_time": "2022-03-17T20:34:14.097Z"
   },
   {
    "duration": 33,
    "start_time": "2022-03-17T20:34:14.118Z"
   },
   {
    "duration": 20,
    "start_time": "2022-03-17T20:34:14.154Z"
   },
   {
    "duration": 23,
    "start_time": "2022-03-17T20:34:14.176Z"
   },
   {
    "duration": 27,
    "start_time": "2022-03-17T20:34:14.202Z"
   },
   {
    "duration": 40,
    "start_time": "2022-03-17T20:34:14.232Z"
   },
   {
    "duration": 16,
    "start_time": "2022-03-17T20:34:14.275Z"
   },
   {
    "duration": 20,
    "start_time": "2022-03-17T20:34:14.294Z"
   },
   {
    "duration": 37,
    "start_time": "2022-03-17T20:34:14.317Z"
   },
   {
    "duration": 37,
    "start_time": "2022-03-17T20:34:14.357Z"
   },
   {
    "duration": 45,
    "start_time": "2022-03-17T20:34:14.397Z"
   },
   {
    "duration": 15,
    "start_time": "2022-03-17T20:34:14.445Z"
   },
   {
    "duration": 17,
    "start_time": "2022-03-17T20:34:14.462Z"
   },
   {
    "duration": 32,
    "start_time": "2022-03-17T20:34:14.482Z"
   },
   {
    "duration": 21,
    "start_time": "2022-03-17T20:34:14.517Z"
   },
   {
    "duration": 26,
    "start_time": "2022-03-17T20:34:14.540Z"
   },
   {
    "duration": 36,
    "start_time": "2022-03-17T20:34:14.568Z"
   },
   {
    "duration": 112,
    "start_time": "2022-03-17T20:34:14.607Z"
   },
   {
    "duration": 12,
    "start_time": "2022-03-17T20:34:14.721Z"
   },
   {
    "duration": 22,
    "start_time": "2022-03-17T20:34:14.736Z"
   },
   {
    "duration": 28,
    "start_time": "2022-03-17T20:34:14.761Z"
   },
   {
    "duration": 23,
    "start_time": "2022-03-17T20:34:14.791Z"
   },
   {
    "duration": 123,
    "start_time": "2022-03-17T20:34:14.816Z"
   },
   {
    "duration": 12,
    "start_time": "2022-03-17T20:34:14.942Z"
   },
   {
    "duration": 22,
    "start_time": "2022-03-17T20:34:14.963Z"
   },
   {
    "duration": 38,
    "start_time": "2022-03-17T20:34:14.987Z"
   },
   {
    "duration": 379,
    "start_time": "2022-03-17T20:34:15.028Z"
   },
   {
    "duration": 7,
    "start_time": "2022-03-17T20:34:15.409Z"
   },
   {
    "duration": 24,
    "start_time": "2022-03-17T20:34:15.419Z"
   },
   {
    "duration": 42,
    "start_time": "2022-03-17T20:34:15.446Z"
   },
   {
    "duration": 6,
    "start_time": "2022-03-17T20:34:15.490Z"
   },
   {
    "duration": 23,
    "start_time": "2022-03-17T20:34:15.498Z"
   },
   {
    "duration": 9,
    "start_time": "2022-03-17T20:34:15.523Z"
   },
   {
    "duration": 654,
    "start_time": "2022-03-17T20:34:15.534Z"
   },
   {
    "duration": 28,
    "start_time": "2022-03-17T20:34:16.190Z"
   },
   {
    "duration": 476,
    "start_time": "2022-03-17T20:34:16.220Z"
   },
   {
    "duration": 12,
    "start_time": "2022-03-17T20:34:16.699Z"
   },
   {
    "duration": 43,
    "start_time": "2022-03-17T20:34:16.714Z"
   },
   {
    "duration": 350,
    "start_time": "2022-03-17T20:34:16.783Z"
   },
   {
    "duration": 366,
    "start_time": "2022-03-17T20:34:17.135Z"
   },
   {
    "duration": 311,
    "start_time": "2022-03-17T20:34:17.504Z"
   },
   {
    "duration": 334,
    "start_time": "2022-03-17T20:34:17.818Z"
   },
   {
    "duration": 403,
    "start_time": "2022-03-17T20:34:18.154Z"
   },
   {
    "duration": 22,
    "start_time": "2022-03-17T20:34:18.560Z"
   },
   {
    "duration": 13,
    "start_time": "2022-03-17T20:34:18.586Z"
   },
   {
    "duration": 34,
    "start_time": "2022-03-17T20:34:18.601Z"
   },
   {
    "duration": 292,
    "start_time": "2022-03-17T20:34:18.637Z"
   },
   {
    "duration": 254,
    "start_time": "2022-03-17T20:34:18.931Z"
   },
   {
    "duration": 4,
    "start_time": "2022-03-17T20:34:19.188Z"
   },
   {
    "duration": 262,
    "start_time": "2022-03-17T20:34:19.194Z"
   },
   {
    "duration": 280,
    "start_time": "2022-03-17T20:34:19.459Z"
   },
   {
    "duration": 286,
    "start_time": "2022-03-17T20:34:19.741Z"
   },
   {
    "duration": 265,
    "start_time": "2022-03-17T20:34:20.029Z"
   },
   {
    "duration": 4,
    "start_time": "2022-03-17T20:34:20.296Z"
   },
   {
    "duration": 287,
    "start_time": "2022-03-17T20:34:20.303Z"
   },
   {
    "duration": 191,
    "start_time": "2022-03-17T20:34:20.593Z"
   },
   {
    "duration": 195,
    "start_time": "2022-03-17T20:34:20.787Z"
   },
   {
    "duration": 76,
    "start_time": "2022-03-17T20:34:20.984Z"
   },
   {
    "duration": 733,
    "start_time": "2022-03-17T20:34:21.063Z"
   },
   {
    "duration": 406,
    "start_time": "2022-03-17T20:34:21.799Z"
   },
   {
    "duration": 35,
    "start_time": "2022-03-17T20:34:22.208Z"
   },
   {
    "duration": 347,
    "start_time": "2022-03-17T20:34:22.246Z"
   },
   {
    "duration": 33,
    "start_time": "2022-03-17T20:34:22.596Z"
   },
   {
    "duration": 257,
    "start_time": "2022-03-17T20:34:22.632Z"
   },
   {
    "duration": 395,
    "start_time": "2022-03-17T20:34:22.892Z"
   },
   {
    "duration": 9,
    "start_time": "2022-03-17T20:34:23.290Z"
   },
   {
    "duration": 16,
    "start_time": "2022-03-17T20:34:23.303Z"
   },
   {
    "duration": 24,
    "start_time": "2022-03-17T20:34:23.322Z"
   },
   {
    "duration": 8,
    "start_time": "2022-03-17T20:34:23.381Z"
   },
   {
    "duration": 31,
    "start_time": "2022-03-17T20:34:23.392Z"
   },
   {
    "duration": 24,
    "start_time": "2022-03-17T20:34:23.426Z"
   },
   {
    "duration": 36,
    "start_time": "2022-03-17T20:34:23.453Z"
   },
   {
    "duration": 14,
    "start_time": "2022-03-17T20:34:23.491Z"
   },
   {
    "duration": 33,
    "start_time": "2022-03-17T20:34:23.507Z"
   },
   {
    "duration": 582,
    "start_time": "2022-03-17T20:34:23.542Z"
   },
   {
    "duration": 13,
    "start_time": "2022-03-17T20:34:24.127Z"
   },
   {
    "duration": 12,
    "start_time": "2022-03-17T20:34:24.142Z"
   },
   {
    "duration": 50,
    "start_time": "2022-03-17T20:34:24.156Z"
   },
   {
    "duration": 535,
    "start_time": "2022-03-17T20:34:24.208Z"
   },
   {
    "duration": 11,
    "start_time": "2022-03-17T20:34:24.745Z"
   },
   {
    "duration": 28,
    "start_time": "2022-03-17T20:34:24.762Z"
   },
   {
    "duration": 29,
    "start_time": "2022-03-17T20:34:24.792Z"
   },
   {
    "duration": 562,
    "start_time": "2022-03-17T20:34:24.823Z"
   },
   {
    "duration": 35,
    "start_time": "2022-03-17T20:34:25.388Z"
   },
   {
    "duration": 57,
    "start_time": "2022-03-17T20:34:25.426Z"
   },
   {
    "duration": 43,
    "start_time": "2022-03-17T20:34:25.486Z"
   },
   {
    "duration": 26,
    "start_time": "2022-03-17T20:34:25.532Z"
   },
   {
    "duration": 26,
    "start_time": "2022-03-17T20:34:25.582Z"
   },
   {
    "duration": 16,
    "start_time": "2022-03-17T20:34:25.611Z"
   },
   {
    "duration": 52,
    "start_time": "2022-03-17T20:34:25.630Z"
   },
   {
    "duration": 10,
    "start_time": "2022-03-17T20:35:26.132Z"
   },
   {
    "duration": 13,
    "start_time": "2022-03-17T20:35:30.816Z"
   },
   {
    "duration": 7,
    "start_time": "2022-03-17T20:35:33.738Z"
   },
   {
    "duration": 11,
    "start_time": "2022-03-17T20:35:37.247Z"
   },
   {
    "duration": 7,
    "start_time": "2022-03-17T20:35:41.018Z"
   },
   {
    "duration": 24,
    "start_time": "2022-03-17T20:35:46.040Z"
   },
   {
    "duration": 10,
    "start_time": "2022-03-17T20:35:52.168Z"
   },
   {
    "duration": 8,
    "start_time": "2022-03-17T20:35:55.222Z"
   },
   {
    "duration": 5,
    "start_time": "2022-03-17T20:35:58.842Z"
   },
   {
    "duration": 10,
    "start_time": "2022-03-17T20:36:05.373Z"
   },
   {
    "duration": 14,
    "start_time": "2022-03-17T20:36:16.672Z"
   },
   {
    "duration": 5,
    "start_time": "2022-03-17T20:36:51.112Z"
   },
   {
    "duration": 8,
    "start_time": "2022-03-17T20:36:52.198Z"
   },
   {
    "duration": 12,
    "start_time": "2022-03-17T20:36:55.633Z"
   },
   {
    "duration": 9,
    "start_time": "2022-03-17T20:36:59.330Z"
   },
   {
    "duration": 6,
    "start_time": "2022-03-17T20:37:24.732Z"
   },
   {
    "duration": 140,
    "start_time": "2022-03-17T20:45:50.117Z"
   },
   {
    "duration": 13,
    "start_time": "2022-03-17T20:46:04.264Z"
   },
   {
    "duration": 8,
    "start_time": "2022-03-17T20:46:11.325Z"
   },
   {
    "duration": 7,
    "start_time": "2022-03-17T20:46:13.674Z"
   },
   {
    "duration": 6,
    "start_time": "2022-03-17T20:46:32.673Z"
   },
   {
    "duration": 28,
    "start_time": "2022-03-17T20:46:37.154Z"
   },
   {
    "duration": 24,
    "start_time": "2022-03-17T20:46:43.551Z"
   },
   {
    "duration": 2123,
    "start_time": "2022-03-17T20:49:20.452Z"
   },
   {
    "duration": 50,
    "start_time": "2022-03-17T20:49:24.104Z"
   },
   {
    "duration": 37,
    "start_time": "2022-03-17T20:49:30.352Z"
   },
   {
    "duration": 22,
    "start_time": "2022-03-17T20:49:43.740Z"
   },
   {
    "duration": 17,
    "start_time": "2022-03-17T20:49:49.463Z"
   },
   {
    "duration": 26,
    "start_time": "2022-03-17T20:49:55.485Z"
   },
   {
    "duration": 43,
    "start_time": "2022-03-17T20:50:01.095Z"
   },
   {
    "duration": 5,
    "start_time": "2022-03-17T20:50:29.236Z"
   },
   {
    "duration": 32,
    "start_time": "2022-03-17T20:50:32.701Z"
   },
   {
    "duration": 26,
    "start_time": "2022-03-17T20:50:48.295Z"
   },
   {
    "duration": 23,
    "start_time": "2022-03-17T20:50:57.000Z"
   },
   {
    "duration": 12,
    "start_time": "2022-03-17T20:51:05.215Z"
   },
   {
    "duration": 9,
    "start_time": "2022-03-17T20:51:08.848Z"
   },
   {
    "duration": 16,
    "start_time": "2022-03-17T21:50:32.722Z"
   },
   {
    "duration": 12,
    "start_time": "2022-03-17T21:50:43.926Z"
   },
   {
    "duration": 144,
    "start_time": "2022-03-17T21:51:05.228Z"
   },
   {
    "duration": 13,
    "start_time": "2022-03-17T21:51:11.596Z"
   },
   {
    "duration": 14,
    "start_time": "2022-03-17T21:51:15.160Z"
   },
   {
    "duration": 8,
    "start_time": "2022-03-17T21:52:06.676Z"
   },
   {
    "duration": 18,
    "start_time": "2022-03-17T21:52:09.068Z"
   },
   {
    "duration": 11,
    "start_time": "2022-03-17T21:52:14.269Z"
   },
   {
    "duration": 7,
    "start_time": "2022-03-17T21:52:16.572Z"
   },
   {
    "duration": 7,
    "start_time": "2022-03-17T21:52:19.722Z"
   },
   {
    "duration": 10,
    "start_time": "2022-03-17T21:52:29.307Z"
   },
   {
    "duration": 13,
    "start_time": "2022-03-17T21:52:33.597Z"
   },
   {
    "duration": 7,
    "start_time": "2022-03-17T21:53:06.804Z"
   },
   {
    "duration": 13,
    "start_time": "2022-03-17T21:55:12.384Z"
   },
   {
    "duration": 11,
    "start_time": "2022-03-17T21:56:07.833Z"
   },
   {
    "duration": 7,
    "start_time": "2022-03-17T21:56:10.561Z"
   },
   {
    "duration": 22,
    "start_time": "2022-03-17T22:04:21.880Z"
   },
   {
    "duration": 13,
    "start_time": "2022-03-17T22:04:34.502Z"
   },
   {
    "duration": 18,
    "start_time": "2022-03-17T22:06:39.933Z"
   },
   {
    "duration": 7,
    "start_time": "2022-03-17T22:07:48.131Z"
   },
   {
    "duration": 25,
    "start_time": "2022-03-17T22:07:54.183Z"
   },
   {
    "duration": 487,
    "start_time": "2022-03-17T22:08:49.940Z"
   },
   {
    "duration": 16,
    "start_time": "2022-03-17T22:13:44.513Z"
   },
   {
    "duration": 12,
    "start_time": "2022-03-17T22:14:16.338Z"
   },
   {
    "duration": 13,
    "start_time": "2022-03-17T22:14:32.330Z"
   },
   {
    "duration": 7,
    "start_time": "2022-03-17T22:14:40.067Z"
   },
   {
    "duration": 54,
    "start_time": "2022-03-17T22:14:40.076Z"
   },
   {
    "duration": 26,
    "start_time": "2022-03-17T22:14:40.133Z"
   },
   {
    "duration": 23,
    "start_time": "2022-03-17T22:14:40.182Z"
   },
   {
    "duration": 21,
    "start_time": "2022-03-17T22:14:40.208Z"
   },
   {
    "duration": 51,
    "start_time": "2022-03-17T22:14:40.231Z"
   },
   {
    "duration": 45,
    "start_time": "2022-03-17T22:14:40.284Z"
   },
   {
    "duration": 5,
    "start_time": "2022-03-17T22:14:40.332Z"
   },
   {
    "duration": 69,
    "start_time": "2022-03-17T22:14:40.339Z"
   },
   {
    "duration": 21,
    "start_time": "2022-03-17T22:14:40.411Z"
   },
   {
    "duration": 55,
    "start_time": "2022-03-17T22:14:40.435Z"
   },
   {
    "duration": 13,
    "start_time": "2022-03-17T22:14:40.492Z"
   },
   {
    "duration": 14,
    "start_time": "2022-03-17T22:14:40.507Z"
   },
   {
    "duration": 12,
    "start_time": "2022-03-17T22:14:40.523Z"
   },
   {
    "duration": 16,
    "start_time": "2022-03-17T22:14:40.538Z"
   },
   {
    "duration": 38,
    "start_time": "2022-03-17T22:14:40.556Z"
   },
   {
    "duration": 18,
    "start_time": "2022-03-17T22:14:40.596Z"
   },
   {
    "duration": 14,
    "start_time": "2022-03-17T22:14:40.616Z"
   },
   {
    "duration": 11,
    "start_time": "2022-03-17T22:14:40.632Z"
   },
   {
    "duration": 42,
    "start_time": "2022-03-17T22:14:40.645Z"
   },
   {
    "duration": 7,
    "start_time": "2022-03-17T22:14:40.689Z"
   },
   {
    "duration": 23,
    "start_time": "2022-03-17T22:14:40.698Z"
   },
   {
    "duration": 11,
    "start_time": "2022-03-17T22:14:40.723Z"
   },
   {
    "duration": 9,
    "start_time": "2022-03-17T22:14:40.736Z"
   },
   {
    "duration": 37,
    "start_time": "2022-03-17T22:14:40.747Z"
   },
   {
    "duration": 13,
    "start_time": "2022-03-17T22:14:40.786Z"
   },
   {
    "duration": 24,
    "start_time": "2022-03-17T22:14:40.801Z"
   },
   {
    "duration": 17,
    "start_time": "2022-03-17T22:14:40.827Z"
   },
   {
    "duration": 12,
    "start_time": "2022-03-17T22:14:40.852Z"
   },
   {
    "duration": 19,
    "start_time": "2022-03-17T22:14:40.866Z"
   },
   {
    "duration": 7,
    "start_time": "2022-03-17T22:14:40.887Z"
   },
   {
    "duration": 16,
    "start_time": "2022-03-17T22:14:40.897Z"
   },
   {
    "duration": 14,
    "start_time": "2022-03-17T22:14:40.916Z"
   },
   {
    "duration": 32,
    "start_time": "2022-03-17T22:14:40.932Z"
   },
   {
    "duration": 22,
    "start_time": "2022-03-17T22:14:40.966Z"
   },
   {
    "duration": 37,
    "start_time": "2022-03-17T22:14:40.990Z"
   },
   {
    "duration": 10,
    "start_time": "2022-03-17T22:14:41.030Z"
   },
   {
    "duration": 45,
    "start_time": "2022-03-17T22:14:41.042Z"
   },
   {
    "duration": 30,
    "start_time": "2022-03-17T22:14:41.090Z"
   },
   {
    "duration": 14,
    "start_time": "2022-03-17T22:14:41.123Z"
   },
   {
    "duration": 33,
    "start_time": "2022-03-17T22:14:41.139Z"
   },
   {
    "duration": 24,
    "start_time": "2022-03-17T22:14:41.174Z"
   },
   {
    "duration": 602,
    "start_time": "2022-03-17T22:14:41.201Z"
   },
   {
    "duration": 27,
    "start_time": "2022-03-17T22:14:41.806Z"
   },
   {
    "duration": 476,
    "start_time": "2022-03-17T22:14:41.836Z"
   },
   {
    "duration": 13,
    "start_time": "2022-03-17T22:14:42.314Z"
   },
   {
    "duration": 94,
    "start_time": "2022-03-17T22:14:42.329Z"
   },
   {
    "duration": 334,
    "start_time": "2022-03-17T22:14:42.426Z"
   },
   {
    "duration": 321,
    "start_time": "2022-03-17T22:14:42.762Z"
   },
   {
    "duration": 405,
    "start_time": "2022-03-17T22:14:43.086Z"
   },
   {
    "duration": 331,
    "start_time": "2022-03-17T22:14:43.493Z"
   },
   {
    "duration": 334,
    "start_time": "2022-03-17T22:14:43.827Z"
   },
   {
    "duration": 9,
    "start_time": "2022-03-17T22:14:44.163Z"
   },
   {
    "duration": 44,
    "start_time": "2022-03-17T22:14:44.183Z"
   },
   {
    "duration": 86,
    "start_time": "2022-03-17T22:14:44.229Z"
   },
   {
    "duration": 276,
    "start_time": "2022-03-17T22:14:44.317Z"
   },
   {
    "duration": 238,
    "start_time": "2022-03-17T22:14:44.596Z"
   },
   {
    "duration": 3,
    "start_time": "2022-03-17T22:14:44.837Z"
   },
   {
    "duration": 284,
    "start_time": "2022-03-17T22:14:44.843Z"
   },
   {
    "duration": 281,
    "start_time": "2022-03-17T22:14:45.130Z"
   },
   {
    "duration": 255,
    "start_time": "2022-03-17T22:14:45.413Z"
   },
   {
    "duration": 249,
    "start_time": "2022-03-17T22:14:45.670Z"
   },
   {
    "duration": 4,
    "start_time": "2022-03-17T22:14:45.922Z"
   },
   {
    "duration": 181,
    "start_time": "2022-03-17T22:14:45.927Z"
   },
   {
    "duration": 178,
    "start_time": "2022-03-17T22:14:46.111Z"
   },
   {
    "duration": 193,
    "start_time": "2022-03-17T22:14:46.292Z"
   },
   {
    "duration": 51,
    "start_time": "2022-03-17T22:14:46.487Z"
   },
   {
    "duration": 604,
    "start_time": "2022-03-17T22:14:46.541Z"
   },
   {
    "duration": 296,
    "start_time": "2022-03-17T22:14:47.148Z"
   },
   {
    "duration": 50,
    "start_time": "2022-03-17T22:14:47.447Z"
   },
   {
    "duration": 256,
    "start_time": "2022-03-17T22:14:47.500Z"
   },
   {
    "duration": 50,
    "start_time": "2022-03-17T22:14:47.758Z"
   },
   {
    "duration": 236,
    "start_time": "2022-03-17T22:14:47.811Z"
   },
   {
    "duration": 340,
    "start_time": "2022-03-17T22:14:48.049Z"
   },
   {
    "duration": 9,
    "start_time": "2022-03-17T22:14:48.391Z"
   },
   {
    "duration": 13,
    "start_time": "2022-03-17T22:14:48.402Z"
   },
   {
    "duration": 20,
    "start_time": "2022-03-17T22:14:48.417Z"
   },
   {
    "duration": 5,
    "start_time": "2022-03-17T22:14:48.440Z"
   },
   {
    "duration": 22,
    "start_time": "2022-03-17T22:14:48.483Z"
   },
   {
    "duration": 20,
    "start_time": "2022-03-17T22:14:48.508Z"
   },
   {
    "duration": 12,
    "start_time": "2022-03-17T22:14:48.531Z"
   },
   {
    "duration": 11,
    "start_time": "2022-03-17T22:14:48.581Z"
   },
   {
    "duration": 11,
    "start_time": "2022-03-17T22:14:48.600Z"
   },
   {
    "duration": 459,
    "start_time": "2022-03-17T22:14:48.613Z"
   },
   {
    "duration": 15,
    "start_time": "2022-03-17T22:14:49.074Z"
   },
   {
    "duration": 21,
    "start_time": "2022-03-17T22:14:49.091Z"
   },
   {
    "duration": 14,
    "start_time": "2022-03-17T22:14:49.114Z"
   },
   {
    "duration": 482,
    "start_time": "2022-03-17T22:14:49.130Z"
   },
   {
    "duration": 12,
    "start_time": "2022-03-17T22:14:49.615Z"
   },
   {
    "duration": 11,
    "start_time": "2022-03-17T22:14:49.630Z"
   },
   {
    "duration": 41,
    "start_time": "2022-03-17T22:14:49.644Z"
   },
   {
    "duration": 475,
    "start_time": "2022-03-17T22:14:49.687Z"
   },
   {
    "duration": 42,
    "start_time": "2022-03-17T22:14:50.164Z"
   },
   {
    "duration": 55,
    "start_time": "2022-03-17T22:14:50.208Z"
   },
   {
    "duration": 22,
    "start_time": "2022-03-17T22:14:50.265Z"
   },
   {
    "duration": 27,
    "start_time": "2022-03-17T22:14:50.289Z"
   },
   {
    "duration": 32,
    "start_time": "2022-03-17T22:14:50.319Z"
   },
   {
    "duration": 37,
    "start_time": "2022-03-17T22:14:50.354Z"
   },
   {
    "duration": 16,
    "start_time": "2022-03-17T22:14:50.393Z"
   },
   {
    "duration": 153,
    "start_time": "2022-03-17T22:16:22.142Z"
   },
   {
    "duration": 427,
    "start_time": "2022-03-17T22:16:35.016Z"
   },
   {
    "duration": 505,
    "start_time": "2022-03-17T22:17:50.440Z"
   },
   {
    "duration": 301,
    "start_time": "2022-03-17T22:19:08.996Z"
   },
   {
    "duration": 304,
    "start_time": "2022-03-17T22:19:50.862Z"
   },
   {
    "duration": 161,
    "start_time": "2022-03-17T22:20:15.987Z"
   },
   {
    "duration": 277,
    "start_time": "2022-03-17T22:21:03.280Z"
   },
   {
    "duration": 306,
    "start_time": "2022-03-17T22:21:43.076Z"
   },
   {
    "duration": 297,
    "start_time": "2022-03-17T22:22:20.611Z"
   },
   {
    "duration": 149,
    "start_time": "2022-03-17T22:34:16.743Z"
   },
   {
    "duration": 140,
    "start_time": "2022-03-17T22:34:42.419Z"
   },
   {
    "duration": 181,
    "start_time": "2022-03-17T22:36:20.277Z"
   },
   {
    "duration": 163,
    "start_time": "2022-03-17T22:37:34.348Z"
   },
   {
    "duration": 16,
    "start_time": "2022-03-17T22:37:53.172Z"
   },
   {
    "duration": 197,
    "start_time": "2022-03-17T22:41:41.838Z"
   },
   {
    "duration": 800,
    "start_time": "2022-03-17T22:41:55.650Z"
   },
   {
    "duration": 336,
    "start_time": "2022-03-17T22:42:45.494Z"
   },
   {
    "duration": 544,
    "start_time": "2022-03-17T22:42:58.608Z"
   },
   {
    "duration": 396,
    "start_time": "2022-03-17T22:43:25.202Z"
   },
   {
    "duration": 135,
    "start_time": "2022-03-17T22:43:59.374Z"
   },
   {
    "duration": 225,
    "start_time": "2022-03-17T22:46:30.072Z"
   },
   {
    "duration": 191,
    "start_time": "2022-03-17T22:46:41.355Z"
   },
   {
    "duration": 225,
    "start_time": "2022-03-17T22:48:19.454Z"
   },
   {
    "duration": 22,
    "start_time": "2022-03-17T22:53:52.794Z"
   },
   {
    "duration": 20,
    "start_time": "2022-03-17T22:54:12.328Z"
   },
   {
    "duration": 382,
    "start_time": "2022-03-17T22:54:39.267Z"
   },
   {
    "duration": 242,
    "start_time": "2022-03-17T22:55:59.332Z"
   },
   {
    "duration": 245,
    "start_time": "2022-03-17T22:56:34.740Z"
   },
   {
    "duration": 223,
    "start_time": "2022-03-17T22:56:57.766Z"
   },
   {
    "duration": 201,
    "start_time": "2022-03-17T22:58:11.322Z"
   },
   {
    "duration": 33,
    "start_time": "2022-03-17T23:09:13.887Z"
   },
   {
    "duration": 30,
    "start_time": "2022-03-17T23:09:43.332Z"
   },
   {
    "duration": 32,
    "start_time": "2022-03-17T23:10:09.084Z"
   },
   {
    "duration": 33,
    "start_time": "2022-03-17T23:11:12.580Z"
   },
   {
    "duration": 246,
    "start_time": "2022-03-17T23:13:26.879Z"
   },
   {
    "duration": 387,
    "start_time": "2022-03-17T23:13:49.321Z"
   },
   {
    "duration": 140,
    "start_time": "2022-03-17T23:16:16.731Z"
   },
   {
    "duration": 22,
    "start_time": "2022-03-17T23:16:28.543Z"
   },
   {
    "duration": 24,
    "start_time": "2022-03-17T23:17:01.920Z"
   },
   {
    "duration": 22,
    "start_time": "2022-03-17T23:17:23.887Z"
   },
   {
    "duration": 23,
    "start_time": "2022-03-17T23:17:31.457Z"
   },
   {
    "duration": 23,
    "start_time": "2022-03-17T23:17:48.682Z"
   },
   {
    "duration": 24,
    "start_time": "2022-03-17T23:17:57.564Z"
   },
   {
    "duration": 25,
    "start_time": "2022-03-17T23:40:56.216Z"
   },
   {
    "duration": 27,
    "start_time": "2022-03-17T23:41:41.649Z"
   },
   {
    "duration": 4,
    "start_time": "2022-03-17T23:42:08.561Z"
   },
   {
    "duration": 32,
    "start_time": "2022-03-17T23:42:38.585Z"
   },
   {
    "duration": 33,
    "start_time": "2022-03-17T23:43:44.291Z"
   },
   {
    "duration": 23,
    "start_time": "2022-03-17T23:46:23.420Z"
   },
   {
    "duration": 19,
    "start_time": "2022-03-17T23:46:59.773Z"
   },
   {
    "duration": 25,
    "start_time": "2022-03-17T23:47:18.835Z"
   },
   {
    "duration": 23,
    "start_time": "2022-03-17T23:47:36.825Z"
   },
   {
    "duration": 30,
    "start_time": "2022-03-17T23:48:37.518Z"
   },
   {
    "duration": 31,
    "start_time": "2022-03-17T23:49:05.419Z"
   },
   {
    "duration": 160,
    "start_time": "2022-03-17T23:51:01.379Z"
   },
   {
    "duration": 11,
    "start_time": "2022-03-17T23:54:19.070Z"
   },
   {
    "duration": 313,
    "start_time": "2022-03-17T23:54:27.929Z"
   },
   {
    "duration": 27,
    "start_time": "2022-03-18T00:00:13.346Z"
   },
   {
    "duration": 29,
    "start_time": "2022-03-18T00:00:40.760Z"
   },
   {
    "duration": 2943,
    "start_time": "2022-03-18T00:03:01.978Z"
   },
   {
    "duration": 439,
    "start_time": "2022-03-18T00:03:17.219Z"
   },
   {
    "duration": 202,
    "start_time": "2022-03-18T00:03:45.950Z"
   },
   {
    "duration": 29,
    "start_time": "2022-03-18T00:04:10.076Z"
   },
   {
    "duration": 225,
    "start_time": "2022-03-18T00:04:14.594Z"
   },
   {
    "duration": 30,
    "start_time": "2022-03-18T00:04:25.308Z"
   },
   {
    "duration": 201,
    "start_time": "2022-03-18T00:04:29.130Z"
   },
   {
    "duration": 29,
    "start_time": "2022-03-18T00:06:37.501Z"
   },
   {
    "duration": 6,
    "start_time": "2022-03-18T00:07:21.762Z"
   },
   {
    "duration": 272,
    "start_time": "2022-03-18T00:08:04.073Z"
   },
   {
    "duration": 332,
    "start_time": "2022-03-18T00:08:24.789Z"
   },
   {
    "duration": 159,
    "start_time": "2022-03-18T00:10:17.987Z"
   },
   {
    "duration": 260,
    "start_time": "2022-03-18T00:10:41.716Z"
   },
   {
    "duration": 198,
    "start_time": "2022-03-18T00:14:07.787Z"
   },
   {
    "duration": 172,
    "start_time": "2022-03-18T00:15:21.620Z"
   },
   {
    "duration": 144,
    "start_time": "2022-03-18T00:15:49.568Z"
   },
   {
    "duration": 32,
    "start_time": "2022-03-18T00:16:07.120Z"
   },
   {
    "duration": 30,
    "start_time": "2022-03-18T00:17:03.512Z"
   },
   {
    "duration": 28,
    "start_time": "2022-03-18T00:17:09.222Z"
   },
   {
    "duration": 154,
    "start_time": "2022-03-18T00:18:01.117Z"
   },
   {
    "duration": 149,
    "start_time": "2022-03-18T00:18:31.403Z"
   },
   {
    "duration": 3,
    "start_time": "2022-03-18T00:18:49.818Z"
   },
   {
    "duration": 161,
    "start_time": "2022-03-18T00:21:36.491Z"
   },
   {
    "duration": 26,
    "start_time": "2022-03-18T00:22:25.770Z"
   },
   {
    "duration": 23,
    "start_time": "2022-03-18T00:23:29.411Z"
   },
   {
    "duration": 26,
    "start_time": "2022-03-18T00:23:57.732Z"
   },
   {
    "duration": 200,
    "start_time": "2022-03-18T00:25:05.013Z"
   },
   {
    "duration": 195,
    "start_time": "2022-03-18T00:25:34.454Z"
   },
   {
    "duration": 205,
    "start_time": "2022-03-18T00:26:12.857Z"
   },
   {
    "duration": 29,
    "start_time": "2022-03-18T00:28:06.657Z"
   },
   {
    "duration": 347,
    "start_time": "2022-03-18T00:29:30.077Z"
   },
   {
    "duration": 314,
    "start_time": "2022-03-18T00:30:45.640Z"
   },
   {
    "duration": 11,
    "start_time": "2022-03-18T00:32:51.576Z"
   },
   {
    "duration": 256,
    "start_time": "2022-03-18T00:33:00.722Z"
   },
   {
    "duration": 238,
    "start_time": "2022-03-18T00:33:40.228Z"
   },
   {
    "duration": 238,
    "start_time": "2022-03-18T00:34:06.014Z"
   },
   {
    "duration": 370,
    "start_time": "2022-03-18T00:35:44.378Z"
   },
   {
    "duration": 8,
    "start_time": "2022-03-18T01:25:05.699Z"
   },
   {
    "duration": 29,
    "start_time": "2022-03-18T01:45:04.772Z"
   },
   {
    "duration": 30,
    "start_time": "2022-03-18T01:45:13.070Z"
   },
   {
    "duration": 30,
    "start_time": "2022-03-18T01:45:54.843Z"
   },
   {
    "duration": 30,
    "start_time": "2022-03-18T01:46:07.190Z"
   },
   {
    "duration": 28,
    "start_time": "2022-03-18T01:46:15.669Z"
   },
   {
    "duration": 27,
    "start_time": "2022-03-18T01:46:26.435Z"
   },
   {
    "duration": 31,
    "start_time": "2022-03-18T01:47:23.938Z"
   },
   {
    "duration": 32,
    "start_time": "2022-03-18T01:47:36.847Z"
   },
   {
    "duration": 29,
    "start_time": "2022-03-18T01:47:48.233Z"
   },
   {
    "duration": 29,
    "start_time": "2022-03-18T01:47:58.483Z"
   },
   {
    "duration": 377,
    "start_time": "2022-03-18T01:56:50.205Z"
   },
   {
    "duration": 425,
    "start_time": "2022-03-18T02:02:39.669Z"
   },
   {
    "duration": 418,
    "start_time": "2022-03-18T02:02:55.077Z"
   },
   {
    "duration": 847,
    "start_time": "2022-03-18T02:06:10.896Z"
   },
   {
    "duration": 789,
    "start_time": "2022-03-18T02:06:42.567Z"
   },
   {
    "duration": 393,
    "start_time": "2022-03-18T02:08:19.030Z"
   },
   {
    "duration": 826,
    "start_time": "2022-03-18T02:08:34.356Z"
   },
   {
    "duration": 1091,
    "start_time": "2022-03-18T02:09:16.796Z"
   },
   {
    "duration": 908,
    "start_time": "2022-03-18T02:09:39.195Z"
   },
   {
    "duration": 904,
    "start_time": "2022-03-18T02:10:05.054Z"
   },
   {
    "duration": 39,
    "start_time": "2022-03-18T02:21:04.154Z"
   },
   {
    "duration": 278,
    "start_time": "2022-03-18T02:21:38.725Z"
   },
   {
    "duration": 35,
    "start_time": "2022-03-18T02:21:56.376Z"
   },
   {
    "duration": 285,
    "start_time": "2022-03-18T02:22:55.137Z"
   },
   {
    "duration": 42,
    "start_time": "2022-03-18T02:24:56.635Z"
   },
   {
    "duration": 39,
    "start_time": "2022-03-18T02:25:15.637Z"
   },
   {
    "duration": 38,
    "start_time": "2022-03-18T02:25:31.743Z"
   },
   {
    "duration": 278,
    "start_time": "2022-03-18T02:25:46.715Z"
   },
   {
    "duration": 33,
    "start_time": "2022-03-18T02:27:15.150Z"
   },
   {
    "duration": 295,
    "start_time": "2022-03-18T02:27:21.188Z"
   },
   {
    "duration": 40,
    "start_time": "2022-03-18T02:29:15.954Z"
   },
   {
    "duration": 51,
    "start_time": "2022-03-18T02:29:50.705Z"
   },
   {
    "duration": 9,
    "start_time": "2022-03-18T02:30:09.778Z"
   },
   {
    "duration": 8,
    "start_time": "2022-03-18T02:30:51.496Z"
   },
   {
    "duration": 70,
    "start_time": "2022-03-18T02:31:55.860Z"
   },
   {
    "duration": 57,
    "start_time": "2022-03-18T02:32:23.684Z"
   },
   {
    "duration": 53,
    "start_time": "2022-03-18T02:32:36.996Z"
   },
   {
    "duration": 22,
    "start_time": "2022-03-18T02:38:59.323Z"
   },
   {
    "duration": 11,
    "start_time": "2022-03-18T02:48:46.267Z"
   },
   {
    "duration": 45,
    "start_time": "2022-03-18T02:48:56.796Z"
   },
   {
    "duration": 357,
    "start_time": "2022-03-18T02:50:49.535Z"
   },
   {
    "duration": 10,
    "start_time": "2022-03-18T02:52:49.736Z"
   },
   {
    "duration": 159,
    "start_time": "2022-03-18T02:56:49.609Z"
   },
   {
    "duration": 14,
    "start_time": "2022-03-18T02:57:06.670Z"
   },
   {
    "duration": 3087,
    "start_time": "2022-03-18T02:57:19.684Z"
   },
   {
    "duration": 295,
    "start_time": "2022-03-18T02:57:40.740Z"
   },
   {
    "duration": 3005,
    "start_time": "2022-03-18T02:58:06.806Z"
   },
   {
    "duration": 2796,
    "start_time": "2022-03-18T02:58:30.831Z"
   },
   {
    "duration": 348,
    "start_time": "2022-03-18T02:59:05.773Z"
   },
   {
    "duration": 29,
    "start_time": "2022-03-18T03:05:58.255Z"
   },
   {
    "duration": 14,
    "start_time": "2022-03-18T03:06:11.242Z"
   },
   {
    "duration": 36,
    "start_time": "2022-03-18T03:06:43.945Z"
   },
   {
    "duration": 155,
    "start_time": "2022-03-18T03:07:56.635Z"
   },
   {
    "duration": 39,
    "start_time": "2022-03-18T03:10:32.041Z"
   },
   {
    "duration": 147,
    "start_time": "2022-03-18T03:10:58.257Z"
   },
   {
    "duration": 31,
    "start_time": "2022-03-18T03:11:15.343Z"
   },
   {
    "duration": 20,
    "start_time": "2022-03-18T03:11:24.482Z"
   },
   {
    "duration": 27,
    "start_time": "2022-03-18T03:12:31.292Z"
   },
   {
    "duration": 14,
    "start_time": "2022-03-18T03:12:37.915Z"
   },
   {
    "duration": 26,
    "start_time": "2022-03-18T03:13:22.502Z"
   },
   {
    "duration": 14,
    "start_time": "2022-03-18T03:13:27.111Z"
   },
   {
    "duration": 12,
    "start_time": "2022-03-18T03:14:44.150Z"
   },
   {
    "duration": 28,
    "start_time": "2022-03-18T03:14:50.880Z"
   },
   {
    "duration": 11,
    "start_time": "2022-03-18T03:16:19.044Z"
   },
   {
    "duration": 12,
    "start_time": "2022-03-18T03:16:29.904Z"
   },
   {
    "duration": 20,
    "start_time": "2022-03-18T03:16:42.272Z"
   },
   {
    "duration": 45,
    "start_time": "2022-03-18T03:19:28.543Z"
   },
   {
    "duration": 41,
    "start_time": "2022-03-18T03:20:03.608Z"
   },
   {
    "duration": 44,
    "start_time": "2022-03-18T03:20:27.790Z"
   },
   {
    "duration": 47,
    "start_time": "2022-03-18T03:20:41.404Z"
   },
   {
    "duration": 47,
    "start_time": "2022-03-18T03:21:57.952Z"
   },
   {
    "duration": 47,
    "start_time": "2022-03-18T03:23:59.242Z"
   },
   {
    "duration": 43,
    "start_time": "2022-03-18T03:24:14.018Z"
   },
   {
    "duration": 48,
    "start_time": "2022-03-18T03:24:21.721Z"
   },
   {
    "duration": 19,
    "start_time": "2022-03-18T03:24:37.312Z"
   },
   {
    "duration": 20,
    "start_time": "2022-03-18T03:25:23.047Z"
   },
   {
    "duration": 20,
    "start_time": "2022-03-18T03:25:41.378Z"
   },
   {
    "duration": 23,
    "start_time": "2022-03-18T03:25:51.830Z"
   },
   {
    "duration": 23,
    "start_time": "2022-03-18T03:26:18.800Z"
   },
   {
    "duration": 43,
    "start_time": "2022-03-18T03:37:40.961Z"
   },
   {
    "duration": 43,
    "start_time": "2022-03-18T03:38:03.790Z"
   },
   {
    "duration": 40,
    "start_time": "2022-03-18T03:38:51.996Z"
   },
   {
    "duration": 278,
    "start_time": "2022-03-18T03:39:24.520Z"
   },
   {
    "duration": 43,
    "start_time": "2022-03-18T03:39:51.528Z"
   },
   {
    "duration": 33,
    "start_time": "2022-03-18T03:40:34.528Z"
   },
   {
    "duration": 36,
    "start_time": "2022-03-18T03:40:55.506Z"
   },
   {
    "duration": 277,
    "start_time": "2022-03-18T03:41:02.582Z"
   },
   {
    "duration": 48,
    "start_time": "2022-03-18T03:43:05.017Z"
   },
   {
    "duration": 42,
    "start_time": "2022-03-18T03:44:20.772Z"
   },
   {
    "duration": 49,
    "start_time": "2022-03-18T03:44:26.128Z"
   },
   {
    "duration": 25,
    "start_time": "2022-03-18T03:48:29.673Z"
   },
   {
    "duration": 15,
    "start_time": "2022-03-18T03:48:37.689Z"
   },
   {
    "duration": 21,
    "start_time": "2022-03-18T03:49:11.550Z"
   },
   {
    "duration": 35,
    "start_time": "2022-03-18T03:49:24.020Z"
   },
   {
    "duration": 38,
    "start_time": "2022-03-18T03:49:27.840Z"
   },
   {
    "duration": 142,
    "start_time": "2022-03-18T03:49:57.804Z"
   },
   {
    "duration": 25,
    "start_time": "2022-03-18T03:50:05.172Z"
   },
   {
    "duration": 15,
    "start_time": "2022-03-18T03:50:08.602Z"
   },
   {
    "duration": 9,
    "start_time": "2022-03-18T03:51:26.816Z"
   },
   {
    "duration": 33,
    "start_time": "2022-03-18T03:51:28.536Z"
   },
   {
    "duration": 17,
    "start_time": "2022-03-18T03:53:03.054Z"
   },
   {
    "duration": 16,
    "start_time": "2022-03-18T03:53:24.898Z"
   },
   {
    "duration": 17,
    "start_time": "2022-03-18T03:53:50.633Z"
   },
   {
    "duration": 18,
    "start_time": "2022-03-18T03:54:05.750Z"
   },
   {
    "duration": 4,
    "start_time": "2022-03-18T03:55:40.394Z"
   },
   {
    "duration": 8,
    "start_time": "2022-03-18T03:56:28.905Z"
   },
   {
    "duration": 17,
    "start_time": "2022-03-18T03:56:40.426Z"
   },
   {
    "duration": 10,
    "start_time": "2022-03-18T03:58:51.875Z"
   },
   {
    "duration": 14,
    "start_time": "2022-03-18T04:00:16.527Z"
   },
   {
    "duration": 11,
    "start_time": "2022-03-18T04:00:24.055Z"
   },
   {
    "duration": 11,
    "start_time": "2022-03-18T04:00:40.439Z"
   },
   {
    "duration": 21,
    "start_time": "2022-03-18T04:08:27.778Z"
   },
   {
    "duration": 12,
    "start_time": "2022-03-18T04:09:42.471Z"
   },
   {
    "duration": 13,
    "start_time": "2022-03-18T04:10:01.361Z"
   },
   {
    "duration": 12,
    "start_time": "2022-03-18T04:10:17.455Z"
   },
   {
    "duration": 24,
    "start_time": "2022-03-18T04:11:08.756Z"
   },
   {
    "duration": 24,
    "start_time": "2022-03-18T04:11:25.005Z"
   },
   {
    "duration": 25,
    "start_time": "2022-03-18T04:12:32.251Z"
   },
   {
    "duration": 22,
    "start_time": "2022-03-18T04:13:03.846Z"
   },
   {
    "duration": 13,
    "start_time": "2022-03-18T04:13:35.679Z"
   },
   {
    "duration": 11,
    "start_time": "2022-03-18T04:13:48.290Z"
   },
   {
    "duration": 11,
    "start_time": "2022-03-18T04:13:57.617Z"
   },
   {
    "duration": 484,
    "start_time": "2022-03-18T04:14:06.937Z"
   },
   {
    "duration": 11,
    "start_time": "2022-03-18T04:14:22.049Z"
   },
   {
    "duration": 11,
    "start_time": "2022-03-18T04:14:25.795Z"
   },
   {
    "duration": 11,
    "start_time": "2022-03-18T04:14:30.526Z"
   },
   {
    "duration": 10,
    "start_time": "2022-03-18T04:14:40.474Z"
   },
   {
    "duration": 10,
    "start_time": "2022-03-18T04:14:43.267Z"
   },
   {
    "duration": 10,
    "start_time": "2022-03-18T04:14:45.862Z"
   },
   {
    "duration": 439,
    "start_time": "2022-03-18T04:14:52.302Z"
   },
   {
    "duration": 312,
    "start_time": "2022-03-18T04:16:51.958Z"
   },
   {
    "duration": 310,
    "start_time": "2022-03-18T04:17:13.332Z"
   },
   {
    "duration": 507,
    "start_time": "2022-03-18T04:17:32.230Z"
   },
   {
    "duration": 21,
    "start_time": "2022-03-18T04:18:36.701Z"
   },
   {
    "duration": 33,
    "start_time": "2022-03-18T04:18:55.806Z"
   },
   {
    "duration": 24,
    "start_time": "2022-03-18T04:19:38.153Z"
   },
   {
    "duration": 12,
    "start_time": "2022-03-18T04:19:54.185Z"
   },
   {
    "duration": 10,
    "start_time": "2022-03-18T04:19:56.660Z"
   },
   {
    "duration": 315,
    "start_time": "2022-03-18T04:19:58.804Z"
   },
   {
    "duration": 327,
    "start_time": "2022-03-18T04:20:01.712Z"
   },
   {
    "duration": 36,
    "start_time": "2022-03-18T04:20:19.681Z"
   },
   {
    "duration": 36,
    "start_time": "2022-03-18T04:23:27.028Z"
   },
   {
    "duration": 27,
    "start_time": "2022-03-18T04:36:12.544Z"
   },
   {
    "duration": 25,
    "start_time": "2022-03-18T04:36:45.708Z"
   },
   {
    "duration": 93,
    "start_time": "2022-03-18T04:38:17.285Z"
   },
   {
    "duration": 29,
    "start_time": "2022-03-18T04:39:31.085Z"
   },
   {
    "duration": 28,
    "start_time": "2022-03-18T04:39:34.851Z"
   },
   {
    "duration": 28,
    "start_time": "2022-03-18T04:40:50.015Z"
   },
   {
    "duration": 29,
    "start_time": "2022-03-18T04:41:26.273Z"
   },
   {
    "duration": 27,
    "start_time": "2022-03-18T04:42:08.980Z"
   },
   {
    "duration": 27,
    "start_time": "2022-03-18T04:42:12.304Z"
   },
   {
    "duration": 144,
    "start_time": "2022-03-18T04:43:15.484Z"
   },
   {
    "duration": 148,
    "start_time": "2022-03-18T04:43:37.468Z"
   },
   {
    "duration": 26,
    "start_time": "2022-03-18T04:44:02.544Z"
   },
   {
    "duration": 28,
    "start_time": "2022-03-18T04:44:06.728Z"
   },
   {
    "duration": 17,
    "start_time": "2022-03-18T04:44:35.605Z"
   },
   {
    "duration": 26,
    "start_time": "2022-03-18T04:44:48.786Z"
   },
   {
    "duration": 3,
    "start_time": "2022-03-18T04:46:29.243Z"
   },
   {
    "duration": 4,
    "start_time": "2022-03-18T04:46:32.182Z"
   },
   {
    "duration": 12,
    "start_time": "2022-03-18T04:47:38.308Z"
   },
   {
    "duration": 10,
    "start_time": "2022-03-18T04:47:49.460Z"
   },
   {
    "duration": 36,
    "start_time": "2022-03-18T04:47:56.042Z"
   },
   {
    "duration": 24,
    "start_time": "2022-03-18T04:48:03.730Z"
   },
   {
    "duration": 27,
    "start_time": "2022-03-18T04:48:11.472Z"
   },
   {
    "duration": 181,
    "start_time": "2022-03-18T04:48:56.882Z"
   },
   {
    "duration": 155,
    "start_time": "2022-03-18T04:49:31.926Z"
   },
   {
    "duration": 14,
    "start_time": "2022-03-18T04:50:21.650Z"
   },
   {
    "duration": 70,
    "start_time": "2022-03-18T04:51:05.220Z"
   },
   {
    "duration": 1456,
    "start_time": "2022-03-18T04:51:11.899Z"
   },
   {
    "duration": 51,
    "start_time": "2022-03-18T04:51:13.357Z"
   },
   {
    "duration": 33,
    "start_time": "2022-03-18T04:51:13.410Z"
   },
   {
    "duration": 42,
    "start_time": "2022-03-18T04:51:13.446Z"
   },
   {
    "duration": 13,
    "start_time": "2022-03-18T04:51:13.490Z"
   },
   {
    "duration": 20,
    "start_time": "2022-03-18T04:51:13.505Z"
   },
   {
    "duration": 76,
    "start_time": "2022-03-18T04:51:13.528Z"
   },
   {
    "duration": 4,
    "start_time": "2022-03-18T04:51:13.606Z"
   },
   {
    "duration": 37,
    "start_time": "2022-03-18T04:51:13.613Z"
   },
   {
    "duration": 39,
    "start_time": "2022-03-18T04:51:13.654Z"
   },
   {
    "duration": 26,
    "start_time": "2022-03-18T04:51:13.695Z"
   },
   {
    "duration": 16,
    "start_time": "2022-03-18T04:51:13.723Z"
   },
   {
    "duration": 15,
    "start_time": "2022-03-18T04:51:13.741Z"
   },
   {
    "duration": 28,
    "start_time": "2022-03-18T04:51:13.758Z"
   },
   {
    "duration": 12,
    "start_time": "2022-03-18T04:51:13.788Z"
   },
   {
    "duration": 13,
    "start_time": "2022-03-18T04:51:13.802Z"
   },
   {
    "duration": 10,
    "start_time": "2022-03-18T04:51:13.817Z"
   },
   {
    "duration": 56,
    "start_time": "2022-03-18T04:51:13.829Z"
   },
   {
    "duration": 7,
    "start_time": "2022-03-18T04:51:13.887Z"
   },
   {
    "duration": 9,
    "start_time": "2022-03-18T04:51:13.897Z"
   },
   {
    "duration": 7,
    "start_time": "2022-03-18T04:51:13.909Z"
   },
   {
    "duration": 19,
    "start_time": "2022-03-18T04:51:13.918Z"
   },
   {
    "duration": 48,
    "start_time": "2022-03-18T04:51:13.939Z"
   },
   {
    "duration": 18,
    "start_time": "2022-03-18T04:51:13.990Z"
   },
   {
    "duration": 12,
    "start_time": "2022-03-18T04:51:14.011Z"
   },
   {
    "duration": 18,
    "start_time": "2022-03-18T04:51:14.025Z"
   },
   {
    "duration": 12,
    "start_time": "2022-03-18T04:51:14.046Z"
   },
   {
    "duration": 24,
    "start_time": "2022-03-18T04:51:14.066Z"
   },
   {
    "duration": 12,
    "start_time": "2022-03-18T04:51:14.092Z"
   },
   {
    "duration": 11,
    "start_time": "2022-03-18T04:51:14.107Z"
   },
   {
    "duration": 6,
    "start_time": "2022-03-18T04:51:14.120Z"
   },
   {
    "duration": 17,
    "start_time": "2022-03-18T04:51:14.128Z"
   },
   {
    "duration": 45,
    "start_time": "2022-03-18T04:51:14.148Z"
   },
   {
    "duration": 44,
    "start_time": "2022-03-18T04:51:14.195Z"
   },
   {
    "duration": 15,
    "start_time": "2022-03-18T04:51:14.241Z"
   },
   {
    "duration": 24,
    "start_time": "2022-03-18T04:51:14.259Z"
   },
   {
    "duration": 8,
    "start_time": "2022-03-18T04:51:14.285Z"
   },
   {
    "duration": 27,
    "start_time": "2022-03-18T04:51:14.296Z"
   },
   {
    "duration": 19,
    "start_time": "2022-03-18T04:51:14.326Z"
   },
   {
    "duration": 11,
    "start_time": "2022-03-18T04:51:14.383Z"
   },
   {
    "duration": 22,
    "start_time": "2022-03-18T04:51:14.396Z"
   },
   {
    "duration": 11,
    "start_time": "2022-03-18T04:51:14.421Z"
   },
   {
    "duration": 636,
    "start_time": "2022-03-18T04:51:14.435Z"
   },
   {
    "duration": 31,
    "start_time": "2022-03-18T04:51:15.073Z"
   },
   {
    "duration": 420,
    "start_time": "2022-03-18T04:51:15.106Z"
   },
   {
    "duration": 12,
    "start_time": "2022-03-18T04:51:15.528Z"
   },
   {
    "duration": 80,
    "start_time": "2022-03-18T04:51:15.542Z"
   },
   {
    "duration": 312,
    "start_time": "2022-03-18T04:51:15.624Z"
   },
   {
    "duration": 312,
    "start_time": "2022-03-18T04:51:15.939Z"
   },
   {
    "duration": 291,
    "start_time": "2022-03-18T04:51:16.253Z"
   },
   {
    "duration": 320,
    "start_time": "2022-03-18T04:51:16.547Z"
   },
   {
    "duration": 397,
    "start_time": "2022-03-18T04:51:16.869Z"
   },
   {
    "duration": 21,
    "start_time": "2022-03-18T04:51:17.268Z"
   },
   {
    "duration": 24,
    "start_time": "2022-03-18T04:51:17.291Z"
   },
   {
    "duration": 57,
    "start_time": "2022-03-18T04:51:17.317Z"
   },
   {
    "duration": 44,
    "start_time": "2022-03-18T04:51:17.377Z"
   },
   {
    "duration": 29,
    "start_time": "2022-03-18T04:51:17.425Z"
   },
   {
    "duration": 214,
    "start_time": "2022-03-18T04:51:17.457Z"
   },
   {
    "duration": 31,
    "start_time": "2022-03-18T04:51:17.674Z"
   },
   {
    "duration": 208,
    "start_time": "2022-03-18T04:51:17.708Z"
   },
   {
    "duration": 27,
    "start_time": "2022-03-18T04:51:17.919Z"
   },
   {
    "duration": 234,
    "start_time": "2022-03-18T04:51:17.948Z"
   },
   {
    "duration": 29,
    "start_time": "2022-03-18T04:51:18.184Z"
   },
   {
    "duration": 239,
    "start_time": "2022-03-18T04:51:18.215Z"
   },
   {
    "duration": 813,
    "start_time": "2022-03-18T04:51:18.457Z"
   },
   {
    "duration": 49,
    "start_time": "2022-03-18T04:51:19.272Z"
   },
   {
    "duration": 245,
    "start_time": "2022-03-18T04:51:19.324Z"
   },
   {
    "duration": 39,
    "start_time": "2022-03-18T04:51:19.572Z"
   },
   {
    "duration": 252,
    "start_time": "2022-03-18T04:51:19.614Z"
   },
   {
    "duration": 344,
    "start_time": "2022-03-18T04:51:19.868Z"
   },
   {
    "duration": 9,
    "start_time": "2022-03-18T04:51:20.215Z"
   },
   {
    "duration": 40,
    "start_time": "2022-03-18T04:51:20.227Z"
   },
   {
    "duration": 28,
    "start_time": "2022-03-18T04:51:20.270Z"
   },
   {
    "duration": 12,
    "start_time": "2022-03-18T04:51:20.302Z"
   },
   {
    "duration": 20,
    "start_time": "2022-03-18T04:51:20.317Z"
   },
   {
    "duration": 25,
    "start_time": "2022-03-18T04:51:20.340Z"
   },
   {
    "duration": 67,
    "start_time": "2022-03-18T04:51:20.367Z"
   },
   {
    "duration": 33,
    "start_time": "2022-03-18T04:51:20.437Z"
   },
   {
    "duration": 11,
    "start_time": "2022-03-18T04:51:20.473Z"
   },
   {
    "duration": 25,
    "start_time": "2022-03-18T04:51:20.487Z"
   },
   {
    "duration": 407,
    "start_time": "2022-03-18T04:51:20.515Z"
   },
   {
    "duration": 10,
    "start_time": "2022-03-18T04:51:20.933Z"
   },
   {
    "duration": 36,
    "start_time": "2022-03-18T04:51:20.946Z"
   },
   {
    "duration": 343,
    "start_time": "2022-03-18T04:51:20.985Z"
   },
   {
    "duration": 13,
    "start_time": "2022-03-18T04:51:21.331Z"
   },
   {
    "duration": 37,
    "start_time": "2022-03-18T04:51:21.347Z"
   },
   {
    "duration": 328,
    "start_time": "2022-03-18T04:51:21.387Z"
   },
   {
    "duration": 34,
    "start_time": "2022-03-18T04:51:21.717Z"
   },
   {
    "duration": 57,
    "start_time": "2022-03-18T04:51:21.753Z"
   },
   {
    "duration": 134,
    "start_time": "2022-03-18T04:51:21.812Z"
   },
   {
    "duration": 0,
    "start_time": "2022-03-18T04:51:21.948Z"
   },
   {
    "duration": 0,
    "start_time": "2022-03-18T04:51:21.949Z"
   },
   {
    "duration": 0,
    "start_time": "2022-03-18T04:51:21.951Z"
   },
   {
    "duration": 0,
    "start_time": "2022-03-18T04:51:21.953Z"
   },
   {
    "duration": 0,
    "start_time": "2022-03-18T04:51:21.954Z"
   },
   {
    "duration": 88,
    "start_time": "2022-03-18T04:51:30.822Z"
   },
   {
    "duration": 28,
    "start_time": "2022-03-18T04:51:43.696Z"
   },
   {
    "duration": 16,
    "start_time": "2022-03-18T04:51:53.884Z"
   },
   {
    "duration": 28,
    "start_time": "2022-03-18T04:52:31.370Z"
   },
   {
    "duration": 14,
    "start_time": "2022-03-18T04:58:58.236Z"
   },
   {
    "duration": 16,
    "start_time": "2022-03-18T05:07:36.300Z"
   },
   {
    "duration": 9,
    "start_time": "2022-03-18T05:07:51.158Z"
   },
   {
    "duration": 10,
    "start_time": "2022-03-18T05:07:57.088Z"
   },
   {
    "duration": 1454,
    "start_time": "2022-03-18T05:08:13.205Z"
   },
   {
    "duration": 49,
    "start_time": "2022-03-18T05:08:14.662Z"
   },
   {
    "duration": 31,
    "start_time": "2022-03-18T05:08:14.713Z"
   },
   {
    "duration": 43,
    "start_time": "2022-03-18T05:08:14.747Z"
   },
   {
    "duration": 13,
    "start_time": "2022-03-18T05:08:14.792Z"
   },
   {
    "duration": 39,
    "start_time": "2022-03-18T05:08:14.807Z"
   },
   {
    "duration": 51,
    "start_time": "2022-03-18T05:08:14.848Z"
   },
   {
    "duration": 4,
    "start_time": "2022-03-18T05:08:14.901Z"
   },
   {
    "duration": 56,
    "start_time": "2022-03-18T05:08:14.907Z"
   },
   {
    "duration": 42,
    "start_time": "2022-03-18T05:08:14.967Z"
   },
   {
    "duration": 31,
    "start_time": "2022-03-18T05:08:15.012Z"
   },
   {
    "duration": 22,
    "start_time": "2022-03-18T05:08:15.045Z"
   },
   {
    "duration": 30,
    "start_time": "2022-03-18T05:08:15.070Z"
   },
   {
    "duration": 43,
    "start_time": "2022-03-18T05:08:15.102Z"
   },
   {
    "duration": 27,
    "start_time": "2022-03-18T05:08:15.148Z"
   },
   {
    "duration": 24,
    "start_time": "2022-03-18T05:08:15.177Z"
   },
   {
    "duration": 14,
    "start_time": "2022-03-18T05:08:15.203Z"
   },
   {
    "duration": 21,
    "start_time": "2022-03-18T05:08:15.219Z"
   },
   {
    "duration": 12,
    "start_time": "2022-03-18T05:08:15.242Z"
   },
   {
    "duration": 31,
    "start_time": "2022-03-18T05:08:15.256Z"
   },
   {
    "duration": 29,
    "start_time": "2022-03-18T05:08:15.290Z"
   },
   {
    "duration": 21,
    "start_time": "2022-03-18T05:08:15.321Z"
   },
   {
    "duration": 19,
    "start_time": "2022-03-18T05:08:15.345Z"
   },
   {
    "duration": 11,
    "start_time": "2022-03-18T05:08:15.366Z"
   },
   {
    "duration": 35,
    "start_time": "2022-03-18T05:08:15.380Z"
   },
   {
    "duration": 23,
    "start_time": "2022-03-18T05:08:15.418Z"
   },
   {
    "duration": 17,
    "start_time": "2022-03-18T05:08:15.443Z"
   },
   {
    "duration": 11,
    "start_time": "2022-03-18T05:08:15.466Z"
   },
   {
    "duration": 31,
    "start_time": "2022-03-18T05:08:15.479Z"
   },
   {
    "duration": 18,
    "start_time": "2022-03-18T05:08:15.512Z"
   },
   {
    "duration": 21,
    "start_time": "2022-03-18T05:08:15.532Z"
   },
   {
    "duration": 25,
    "start_time": "2022-03-18T05:08:15.555Z"
   },
   {
    "duration": 23,
    "start_time": "2022-03-18T05:08:15.582Z"
   },
   {
    "duration": 19,
    "start_time": "2022-03-18T05:08:15.607Z"
   },
   {
    "duration": 28,
    "start_time": "2022-03-18T05:08:15.628Z"
   },
   {
    "duration": 15,
    "start_time": "2022-03-18T05:08:15.659Z"
   },
   {
    "duration": 21,
    "start_time": "2022-03-18T05:08:15.677Z"
   },
   {
    "duration": 38,
    "start_time": "2022-03-18T05:08:15.701Z"
   },
   {
    "duration": 28,
    "start_time": "2022-03-18T05:08:15.742Z"
   },
   {
    "duration": 19,
    "start_time": "2022-03-18T05:08:15.774Z"
   },
   {
    "duration": 27,
    "start_time": "2022-03-18T05:08:15.796Z"
   },
   {
    "duration": 19,
    "start_time": "2022-03-18T05:08:15.825Z"
   },
   {
    "duration": 636,
    "start_time": "2022-03-18T05:08:15.846Z"
   },
   {
    "duration": 28,
    "start_time": "2022-03-18T05:08:16.485Z"
   },
   {
    "duration": 466,
    "start_time": "2022-03-18T05:08:16.516Z"
   },
   {
    "duration": 12,
    "start_time": "2022-03-18T05:08:16.984Z"
   },
   {
    "duration": 58,
    "start_time": "2022-03-18T05:08:16.998Z"
   },
   {
    "duration": 347,
    "start_time": "2022-03-18T05:08:17.058Z"
   },
   {
    "duration": 336,
    "start_time": "2022-03-18T05:08:17.408Z"
   },
   {
    "duration": 296,
    "start_time": "2022-03-18T05:08:17.746Z"
   },
   {
    "duration": 338,
    "start_time": "2022-03-18T05:08:18.044Z"
   },
   {
    "duration": 386,
    "start_time": "2022-03-18T05:08:18.384Z"
   },
   {
    "duration": 13,
    "start_time": "2022-03-18T05:08:18.772Z"
   },
   {
    "duration": 30,
    "start_time": "2022-03-18T05:08:18.787Z"
   },
   {
    "duration": 37,
    "start_time": "2022-03-18T05:08:18.820Z"
   },
   {
    "duration": 37,
    "start_time": "2022-03-18T05:08:18.860Z"
   },
   {
    "duration": 28,
    "start_time": "2022-03-18T05:08:18.900Z"
   },
   {
    "duration": 228,
    "start_time": "2022-03-18T05:08:18.930Z"
   },
   {
    "duration": 37,
    "start_time": "2022-03-18T05:08:19.160Z"
   },
   {
    "duration": 216,
    "start_time": "2022-03-18T05:08:19.199Z"
   },
   {
    "duration": 26,
    "start_time": "2022-03-18T05:08:19.418Z"
   },
   {
    "duration": 229,
    "start_time": "2022-03-18T05:08:19.446Z"
   },
   {
    "duration": 30,
    "start_time": "2022-03-18T05:08:19.682Z"
   },
   {
    "duration": 247,
    "start_time": "2022-03-18T05:08:19.714Z"
   },
   {
    "duration": 846,
    "start_time": "2022-03-18T05:08:19.963Z"
   },
   {
    "duration": 42,
    "start_time": "2022-03-18T05:08:20.812Z"
   },
   {
    "duration": 276,
    "start_time": "2022-03-18T05:08:20.856Z"
   },
   {
    "duration": 49,
    "start_time": "2022-03-18T05:08:21.135Z"
   },
   {
    "duration": 244,
    "start_time": "2022-03-18T05:08:21.187Z"
   },
   {
    "duration": 334,
    "start_time": "2022-03-18T05:08:21.434Z"
   },
   {
    "duration": 17,
    "start_time": "2022-03-18T05:08:21.770Z"
   },
   {
    "duration": 33,
    "start_time": "2022-03-18T05:08:21.789Z"
   },
   {
    "duration": 22,
    "start_time": "2022-03-18T05:08:21.824Z"
   },
   {
    "duration": 8,
    "start_time": "2022-03-18T05:08:21.848Z"
   },
   {
    "duration": 33,
    "start_time": "2022-03-18T05:08:21.858Z"
   },
   {
    "duration": 10,
    "start_time": "2022-03-18T05:08:21.893Z"
   },
   {
    "duration": 35,
    "start_time": "2022-03-18T05:08:21.905Z"
   },
   {
    "duration": 33,
    "start_time": "2022-03-18T05:08:21.942Z"
   },
   {
    "duration": 10,
    "start_time": "2022-03-18T05:08:21.982Z"
   },
   {
    "duration": 13,
    "start_time": "2022-03-18T05:08:21.993Z"
   },
   {
    "duration": 427,
    "start_time": "2022-03-18T05:08:22.008Z"
   },
   {
    "duration": 9,
    "start_time": "2022-03-18T05:08:22.443Z"
   },
   {
    "duration": 35,
    "start_time": "2022-03-18T05:08:22.455Z"
   },
   {
    "duration": 327,
    "start_time": "2022-03-18T05:08:22.493Z"
   },
   {
    "duration": 10,
    "start_time": "2022-03-18T05:08:22.823Z"
   },
   {
    "duration": 32,
    "start_time": "2022-03-18T05:08:22.835Z"
   },
   {
    "duration": 321,
    "start_time": "2022-03-18T05:08:22.870Z"
   },
   {
    "duration": 34,
    "start_time": "2022-03-18T05:08:23.193Z"
   },
   {
    "duration": 61,
    "start_time": "2022-03-18T05:08:23.230Z"
   },
   {
    "duration": 159,
    "start_time": "2022-03-18T05:08:23.293Z"
   },
   {
    "duration": 0,
    "start_time": "2022-03-18T05:08:23.454Z"
   },
   {
    "duration": 0,
    "start_time": "2022-03-18T05:08:23.455Z"
   },
   {
    "duration": 0,
    "start_time": "2022-03-18T05:08:23.457Z"
   },
   {
    "duration": 0,
    "start_time": "2022-03-18T05:08:23.458Z"
   },
   {
    "duration": 0,
    "start_time": "2022-03-18T05:08:23.459Z"
   },
   {
    "duration": 131,
    "start_time": "2022-03-18T05:08:26.639Z"
   },
   {
    "duration": 10,
    "start_time": "2022-03-18T05:08:33.359Z"
   },
   {
    "duration": 9,
    "start_time": "2022-03-18T05:08:44.745Z"
   },
   {
    "duration": 4,
    "start_time": "2022-03-18T05:08:58.203Z"
   },
   {
    "duration": 4,
    "start_time": "2022-03-18T05:09:01.845Z"
   },
   {
    "duration": 36,
    "start_time": "2022-03-18T05:09:10.207Z"
   },
   {
    "duration": 37,
    "start_time": "2022-03-18T05:09:22.936Z"
   },
   {
    "duration": 13,
    "start_time": "2022-03-18T05:15:39.970Z"
   },
   {
    "duration": 92,
    "start_time": "2022-03-18T05:17:31.608Z"
   },
   {
    "duration": 14,
    "start_time": "2022-03-18T05:18:26.720Z"
   },
   {
    "duration": 12,
    "start_time": "2022-03-18T05:18:29.974Z"
   },
   {
    "duration": 11,
    "start_time": "2022-03-18T05:18:36.698Z"
   },
   {
    "duration": 6,
    "start_time": "2022-03-18T05:29:57.897Z"
   },
   {
    "duration": 64,
    "start_time": "2022-03-18T05:29:57.906Z"
   },
   {
    "duration": 27,
    "start_time": "2022-03-18T05:29:57.973Z"
   },
   {
    "duration": 55,
    "start_time": "2022-03-18T05:29:58.002Z"
   },
   {
    "duration": 13,
    "start_time": "2022-03-18T05:29:58.060Z"
   },
   {
    "duration": 26,
    "start_time": "2022-03-18T05:29:58.075Z"
   },
   {
    "duration": 50,
    "start_time": "2022-03-18T05:29:58.103Z"
   },
   {
    "duration": 5,
    "start_time": "2022-03-18T05:29:58.155Z"
   },
   {
    "duration": 41,
    "start_time": "2022-03-18T05:29:58.183Z"
   },
   {
    "duration": 37,
    "start_time": "2022-03-18T05:29:58.226Z"
   },
   {
    "duration": 61,
    "start_time": "2022-03-18T05:29:58.267Z"
   },
   {
    "duration": 38,
    "start_time": "2022-03-18T05:29:58.330Z"
   },
   {
    "duration": 33,
    "start_time": "2022-03-18T05:29:58.370Z"
   },
   {
    "duration": 32,
    "start_time": "2022-03-18T05:29:58.405Z"
   },
   {
    "duration": 32,
    "start_time": "2022-03-18T05:29:58.439Z"
   },
   {
    "duration": 27,
    "start_time": "2022-03-18T05:29:58.473Z"
   },
   {
    "duration": 35,
    "start_time": "2022-03-18T05:29:58.502Z"
   },
   {
    "duration": 22,
    "start_time": "2022-03-18T05:29:58.539Z"
   },
   {
    "duration": 43,
    "start_time": "2022-03-18T05:29:58.563Z"
   },
   {
    "duration": 24,
    "start_time": "2022-03-18T05:29:58.608Z"
   },
   {
    "duration": 30,
    "start_time": "2022-03-18T05:29:58.634Z"
   },
   {
    "duration": 45,
    "start_time": "2022-03-18T05:29:58.666Z"
   },
   {
    "duration": 17,
    "start_time": "2022-03-18T05:29:58.713Z"
   },
   {
    "duration": 34,
    "start_time": "2022-03-18T05:29:58.733Z"
   },
   {
    "duration": 13,
    "start_time": "2022-03-18T05:29:58.769Z"
   },
   {
    "duration": 35,
    "start_time": "2022-03-18T05:29:58.784Z"
   },
   {
    "duration": 32,
    "start_time": "2022-03-18T05:29:58.822Z"
   },
   {
    "duration": 27,
    "start_time": "2022-03-18T05:29:58.857Z"
   },
   {
    "duration": 28,
    "start_time": "2022-03-18T05:29:58.891Z"
   },
   {
    "duration": 26,
    "start_time": "2022-03-18T05:29:58.921Z"
   },
   {
    "duration": 18,
    "start_time": "2022-03-18T05:29:58.950Z"
   },
   {
    "duration": 50,
    "start_time": "2022-03-18T05:29:58.970Z"
   },
   {
    "duration": 17,
    "start_time": "2022-03-18T05:29:59.022Z"
   },
   {
    "duration": 21,
    "start_time": "2022-03-18T05:29:59.041Z"
   },
   {
    "duration": 29,
    "start_time": "2022-03-18T05:29:59.065Z"
   },
   {
    "duration": 17,
    "start_time": "2022-03-18T05:29:59.096Z"
   },
   {
    "duration": 25,
    "start_time": "2022-03-18T05:29:59.115Z"
   },
   {
    "duration": 46,
    "start_time": "2022-03-18T05:29:59.142Z"
   },
   {
    "duration": 25,
    "start_time": "2022-03-18T05:29:59.191Z"
   },
   {
    "duration": 20,
    "start_time": "2022-03-18T05:29:59.218Z"
   },
   {
    "duration": 41,
    "start_time": "2022-03-18T05:29:59.240Z"
   },
   {
    "duration": 25,
    "start_time": "2022-03-18T05:29:59.284Z"
   },
   {
    "duration": 595,
    "start_time": "2022-03-18T05:29:59.312Z"
   },
   {
    "duration": 26,
    "start_time": "2022-03-18T05:29:59.909Z"
   },
   {
    "duration": 432,
    "start_time": "2022-03-18T05:29:59.938Z"
   },
   {
    "duration": 18,
    "start_time": "2022-03-18T05:30:00.373Z"
   },
   {
    "duration": 50,
    "start_time": "2022-03-18T05:30:00.394Z"
   },
   {
    "duration": 352,
    "start_time": "2022-03-18T05:30:00.446Z"
   },
   {
    "duration": 416,
    "start_time": "2022-03-18T05:30:00.800Z"
   },
   {
    "duration": 297,
    "start_time": "2022-03-18T05:30:01.219Z"
   },
   {
    "duration": 313,
    "start_time": "2022-03-18T05:30:01.519Z"
   },
   {
    "duration": 321,
    "start_time": "2022-03-18T05:30:01.835Z"
   },
   {
    "duration": 24,
    "start_time": "2022-03-18T05:30:02.159Z"
   },
   {
    "duration": 27,
    "start_time": "2022-03-18T05:30:02.185Z"
   },
   {
    "duration": 34,
    "start_time": "2022-03-18T05:30:02.215Z"
   },
   {
    "duration": 36,
    "start_time": "2022-03-18T05:30:02.252Z"
   },
   {
    "duration": 28,
    "start_time": "2022-03-18T05:30:02.291Z"
   },
   {
    "duration": 234,
    "start_time": "2022-03-18T05:30:02.322Z"
   },
   {
    "duration": 38,
    "start_time": "2022-03-18T05:30:02.559Z"
   },
   {
    "duration": 205,
    "start_time": "2022-03-18T05:30:02.600Z"
   },
   {
    "duration": 26,
    "start_time": "2022-03-18T05:30:02.808Z"
   },
   {
    "duration": 231,
    "start_time": "2022-03-18T05:30:02.837Z"
   },
   {
    "duration": 30,
    "start_time": "2022-03-18T05:30:03.081Z"
   },
   {
    "duration": 226,
    "start_time": "2022-03-18T05:30:03.114Z"
   },
   {
    "duration": 837,
    "start_time": "2022-03-18T05:30:03.343Z"
   },
   {
    "duration": 42,
    "start_time": "2022-03-18T05:30:04.182Z"
   },
   {
    "duration": 249,
    "start_time": "2022-03-18T05:30:04.227Z"
   },
   {
    "duration": 34,
    "start_time": "2022-03-18T05:30:04.483Z"
   },
   {
    "duration": 340,
    "start_time": "2022-03-18T05:30:04.520Z"
   },
   {
    "duration": 346,
    "start_time": "2022-03-18T05:30:04.862Z"
   },
   {
    "duration": 10,
    "start_time": "2022-03-18T05:30:05.210Z"
   },
   {
    "duration": 16,
    "start_time": "2022-03-18T05:30:05.222Z"
   },
   {
    "duration": 45,
    "start_time": "2022-03-18T05:30:05.240Z"
   },
   {
    "duration": 9,
    "start_time": "2022-03-18T05:30:05.287Z"
   },
   {
    "duration": 26,
    "start_time": "2022-03-18T05:30:05.298Z"
   },
   {
    "duration": 10,
    "start_time": "2022-03-18T05:30:05.326Z"
   },
   {
    "duration": 51,
    "start_time": "2022-03-18T05:30:05.340Z"
   },
   {
    "duration": 32,
    "start_time": "2022-03-18T05:30:05.393Z"
   },
   {
    "duration": 10,
    "start_time": "2022-03-18T05:30:05.427Z"
   },
   {
    "duration": 10,
    "start_time": "2022-03-18T05:30:05.439Z"
   },
   {
    "duration": 339,
    "start_time": "2022-03-18T05:30:05.451Z"
   },
   {
    "duration": 10,
    "start_time": "2022-03-18T05:30:05.792Z"
   },
   {
    "duration": 9,
    "start_time": "2022-03-18T05:30:05.811Z"
   },
   {
    "duration": 354,
    "start_time": "2022-03-18T05:30:05.822Z"
   },
   {
    "duration": 10,
    "start_time": "2022-03-18T05:30:06.182Z"
   },
   {
    "duration": 11,
    "start_time": "2022-03-18T05:30:06.194Z"
   },
   {
    "duration": 340,
    "start_time": "2022-03-18T05:30:06.207Z"
   },
   {
    "duration": 47,
    "start_time": "2022-03-18T05:30:06.549Z"
   },
   {
    "duration": 34,
    "start_time": "2022-03-18T05:30:06.598Z"
   },
   {
    "duration": 216,
    "start_time": "2022-03-18T05:30:06.634Z"
   },
   {
    "duration": 0,
    "start_time": "2022-03-18T05:30:06.852Z"
   },
   {
    "duration": 0,
    "start_time": "2022-03-18T05:30:06.854Z"
   },
   {
    "duration": 0,
    "start_time": "2022-03-18T05:30:06.856Z"
   },
   {
    "duration": 0,
    "start_time": "2022-03-18T05:30:06.857Z"
   },
   {
    "duration": 0,
    "start_time": "2022-03-18T05:30:06.859Z"
   },
   {
    "duration": 141,
    "start_time": "2022-03-18T05:31:36.675Z"
   },
   {
    "duration": 25,
    "start_time": "2022-03-18T05:31:47.724Z"
   },
   {
    "duration": 28,
    "start_time": "2022-03-18T05:32:48.424Z"
   },
   {
    "duration": 15,
    "start_time": "2022-03-18T05:33:17.634Z"
   },
   {
    "duration": 25,
    "start_time": "2022-03-18T05:33:23.198Z"
   },
   {
    "duration": 13,
    "start_time": "2022-03-18T05:33:27.872Z"
   },
   {
    "duration": 1447,
    "start_time": "2022-03-18T05:33:53.545Z"
   },
   {
    "duration": 46,
    "start_time": "2022-03-18T05:33:54.995Z"
   },
   {
    "duration": 45,
    "start_time": "2022-03-18T05:33:55.043Z"
   },
   {
    "duration": 23,
    "start_time": "2022-03-18T05:33:55.091Z"
   },
   {
    "duration": 14,
    "start_time": "2022-03-18T05:33:55.116Z"
   },
   {
    "duration": 50,
    "start_time": "2022-03-18T05:33:55.132Z"
   },
   {
    "duration": 40,
    "start_time": "2022-03-18T05:33:55.184Z"
   },
   {
    "duration": 4,
    "start_time": "2022-03-18T05:33:55.226Z"
   },
   {
    "duration": 54,
    "start_time": "2022-03-18T05:33:55.232Z"
   },
   {
    "duration": 18,
    "start_time": "2022-03-18T05:33:55.290Z"
   },
   {
    "duration": 18,
    "start_time": "2022-03-18T05:33:55.311Z"
   },
   {
    "duration": 10,
    "start_time": "2022-03-18T05:33:55.331Z"
   },
   {
    "duration": 46,
    "start_time": "2022-03-18T05:33:55.343Z"
   },
   {
    "duration": 11,
    "start_time": "2022-03-18T05:33:55.391Z"
   },
   {
    "duration": 16,
    "start_time": "2022-03-18T05:33:55.404Z"
   },
   {
    "duration": 11,
    "start_time": "2022-03-18T05:33:55.422Z"
   },
   {
    "duration": 15,
    "start_time": "2022-03-18T05:33:55.435Z"
   },
   {
    "duration": 38,
    "start_time": "2022-03-18T05:33:55.453Z"
   },
   {
    "duration": 14,
    "start_time": "2022-03-18T05:33:55.493Z"
   },
   {
    "duration": 10,
    "start_time": "2022-03-18T05:33:55.509Z"
   },
   {
    "duration": 8,
    "start_time": "2022-03-18T05:33:55.522Z"
   },
   {
    "duration": 19,
    "start_time": "2022-03-18T05:33:55.532Z"
   },
   {
    "duration": 7,
    "start_time": "2022-03-18T05:33:55.583Z"
   },
   {
    "duration": 5,
    "start_time": "2022-03-18T05:33:55.593Z"
   },
   {
    "duration": 7,
    "start_time": "2022-03-18T05:33:55.600Z"
   },
   {
    "duration": 11,
    "start_time": "2022-03-18T05:33:55.609Z"
   },
   {
    "duration": 11,
    "start_time": "2022-03-18T05:33:55.622Z"
   },
   {
    "duration": 44,
    "start_time": "2022-03-18T05:33:55.640Z"
   },
   {
    "duration": 12,
    "start_time": "2022-03-18T05:33:55.686Z"
   },
   {
    "duration": 10,
    "start_time": "2022-03-18T05:33:55.700Z"
   },
   {
    "duration": 4,
    "start_time": "2022-03-18T05:33:55.712Z"
   },
   {
    "duration": 15,
    "start_time": "2022-03-18T05:33:55.718Z"
   },
   {
    "duration": 47,
    "start_time": "2022-03-18T05:33:55.735Z"
   },
   {
    "duration": 13,
    "start_time": "2022-03-18T05:33:55.785Z"
   },
   {
    "duration": 12,
    "start_time": "2022-03-18T05:33:55.800Z"
   },
   {
    "duration": 17,
    "start_time": "2022-03-18T05:33:55.814Z"
   },
   {
    "duration": 10,
    "start_time": "2022-03-18T05:33:55.833Z"
   },
   {
    "duration": 45,
    "start_time": "2022-03-18T05:33:55.844Z"
   },
   {
    "duration": 20,
    "start_time": "2022-03-18T05:33:55.891Z"
   },
   {
    "duration": 7,
    "start_time": "2022-03-18T05:33:55.913Z"
   },
   {
    "duration": 20,
    "start_time": "2022-03-18T05:33:55.922Z"
   },
   {
    "duration": 45,
    "start_time": "2022-03-18T05:33:55.944Z"
   },
   {
    "duration": 610,
    "start_time": "2022-03-18T05:33:55.991Z"
   },
   {
    "duration": 27,
    "start_time": "2022-03-18T05:33:56.604Z"
   },
   {
    "duration": 421,
    "start_time": "2022-03-18T05:33:56.633Z"
   },
   {
    "duration": 12,
    "start_time": "2022-03-18T05:33:57.056Z"
   },
   {
    "duration": 38,
    "start_time": "2022-03-18T05:33:57.083Z"
   },
   {
    "duration": 329,
    "start_time": "2022-03-18T05:33:57.123Z"
   },
   {
    "duration": 304,
    "start_time": "2022-03-18T05:33:57.454Z"
   },
   {
    "duration": 284,
    "start_time": "2022-03-18T05:33:57.760Z"
   },
   {
    "duration": 307,
    "start_time": "2022-03-18T05:33:58.046Z"
   },
   {
    "duration": 369,
    "start_time": "2022-03-18T05:33:58.355Z"
   },
   {
    "duration": 8,
    "start_time": "2022-03-18T05:33:58.726Z"
   },
   {
    "duration": 15,
    "start_time": "2022-03-18T05:33:58.736Z"
   },
   {
    "duration": 54,
    "start_time": "2022-03-18T05:33:58.753Z"
   },
   {
    "duration": 28,
    "start_time": "2022-03-18T05:33:58.809Z"
   },
   {
    "duration": 51,
    "start_time": "2022-03-18T05:33:58.840Z"
   },
   {
    "duration": 206,
    "start_time": "2022-03-18T05:33:58.893Z"
   },
   {
    "duration": 28,
    "start_time": "2022-03-18T05:33:59.102Z"
   },
   {
    "duration": 218,
    "start_time": "2022-03-18T05:33:59.133Z"
   },
   {
    "duration": 41,
    "start_time": "2022-03-18T05:33:59.353Z"
   },
   {
    "duration": 220,
    "start_time": "2022-03-18T05:33:59.396Z"
   },
   {
    "duration": 32,
    "start_time": "2022-03-18T05:33:59.619Z"
   },
   {
    "duration": 243,
    "start_time": "2022-03-18T05:33:59.654Z"
   },
   {
    "duration": 821,
    "start_time": "2022-03-18T05:33:59.900Z"
   },
   {
    "duration": 41,
    "start_time": "2022-03-18T05:34:00.724Z"
   },
   {
    "duration": 240,
    "start_time": "2022-03-18T05:34:00.767Z"
   },
   {
    "duration": 32,
    "start_time": "2022-03-18T05:34:01.009Z"
   },
   {
    "duration": 256,
    "start_time": "2022-03-18T05:34:01.043Z"
   },
   {
    "duration": 334,
    "start_time": "2022-03-18T05:34:01.301Z"
   },
   {
    "duration": 11,
    "start_time": "2022-03-18T05:34:01.637Z"
   },
   {
    "duration": 35,
    "start_time": "2022-03-18T05:34:01.651Z"
   },
   {
    "duration": 23,
    "start_time": "2022-03-18T05:34:01.688Z"
   },
   {
    "duration": 8,
    "start_time": "2022-03-18T05:34:01.713Z"
   },
   {
    "duration": 36,
    "start_time": "2022-03-18T05:34:01.723Z"
   },
   {
    "duration": 22,
    "start_time": "2022-03-18T05:34:01.761Z"
   },
   {
    "duration": 21,
    "start_time": "2022-03-18T05:34:01.786Z"
   },
   {
    "duration": 34,
    "start_time": "2022-03-18T05:34:01.809Z"
   },
   {
    "duration": 9,
    "start_time": "2022-03-18T05:34:01.845Z"
   },
   {
    "duration": 34,
    "start_time": "2022-03-18T05:34:01.857Z"
   },
   {
    "duration": 412,
    "start_time": "2022-03-18T05:34:01.893Z"
   },
   {
    "duration": 10,
    "start_time": "2022-03-18T05:34:02.314Z"
   },
   {
    "duration": 12,
    "start_time": "2022-03-18T05:34:02.326Z"
   },
   {
    "duration": 353,
    "start_time": "2022-03-18T05:34:02.341Z"
   },
   {
    "duration": 11,
    "start_time": "2022-03-18T05:34:02.696Z"
   },
   {
    "duration": 10,
    "start_time": "2022-03-18T05:34:02.709Z"
   },
   {
    "duration": 329,
    "start_time": "2022-03-18T05:34:02.721Z"
   },
   {
    "duration": 44,
    "start_time": "2022-03-18T05:34:03.053Z"
   },
   {
    "duration": 34,
    "start_time": "2022-03-18T05:34:03.100Z"
   },
   {
    "duration": 4,
    "start_time": "2022-03-18T05:34:03.136Z"
   },
   {
    "duration": 19,
    "start_time": "2022-03-18T05:34:03.143Z"
   },
   {
    "duration": 38,
    "start_time": "2022-03-18T05:34:03.183Z"
   },
   {
    "duration": 24,
    "start_time": "2022-03-18T05:34:03.224Z"
   },
   {
    "duration": 38,
    "start_time": "2022-03-18T05:34:03.250Z"
   },
   {
    "duration": 18,
    "start_time": "2022-03-18T05:34:03.290Z"
   },
   {
    "duration": 14,
    "start_time": "2022-03-18T05:34:55.574Z"
   },
   {
    "duration": 4,
    "start_time": "2022-03-18T05:35:23.857Z"
   },
   {
    "duration": 28,
    "start_time": "2022-03-18T05:35:30.782Z"
   },
   {
    "duration": 15,
    "start_time": "2022-03-18T05:35:37.099Z"
   },
   {
    "duration": 13,
    "start_time": "2022-03-18T05:35:40.550Z"
   },
   {
    "duration": 26,
    "start_time": "2022-03-18T05:35:57.076Z"
   },
   {
    "duration": 865,
    "start_time": "2022-03-18T05:38:45.861Z"
   },
   {
    "duration": 11,
    "start_time": "2022-03-18T05:38:54.680Z"
   },
   {
    "duration": 720,
    "start_time": "2022-03-18T05:38:58.796Z"
   },
   {
    "duration": 46,
    "start_time": "2022-03-18T05:38:59.518Z"
   },
   {
    "duration": 41,
    "start_time": "2022-03-18T05:38:59.566Z"
   },
   {
    "duration": 22,
    "start_time": "2022-03-18T05:38:59.610Z"
   },
   {
    "duration": 12,
    "start_time": "2022-03-18T05:38:59.634Z"
   },
   {
    "duration": 44,
    "start_time": "2022-03-18T05:38:59.648Z"
   },
   {
    "duration": 39,
    "start_time": "2022-03-18T05:38:59.695Z"
   },
   {
    "duration": 4,
    "start_time": "2022-03-18T05:38:59.736Z"
   },
   {
    "duration": 60,
    "start_time": "2022-03-18T05:38:59.743Z"
   },
   {
    "duration": 18,
    "start_time": "2022-03-18T05:38:59.810Z"
   },
   {
    "duration": 19,
    "start_time": "2022-03-18T05:38:59.830Z"
   },
   {
    "duration": 8,
    "start_time": "2022-03-18T05:38:59.881Z"
   },
   {
    "duration": 13,
    "start_time": "2022-03-18T05:38:59.891Z"
   },
   {
    "duration": 9,
    "start_time": "2022-03-18T05:38:59.906Z"
   },
   {
    "duration": 13,
    "start_time": "2022-03-18T05:38:59.917Z"
   },
   {
    "duration": 50,
    "start_time": "2022-03-18T05:38:59.932Z"
   },
   {
    "duration": 10,
    "start_time": "2022-03-18T05:38:59.984Z"
   },
   {
    "duration": 12,
    "start_time": "2022-03-18T05:38:59.996Z"
   },
   {
    "duration": 13,
    "start_time": "2022-03-18T05:39:00.010Z"
   },
   {
    "duration": 11,
    "start_time": "2022-03-18T05:39:00.025Z"
   },
   {
    "duration": 7,
    "start_time": "2022-03-18T05:39:00.038Z"
   },
   {
    "duration": 18,
    "start_time": "2022-03-18T05:39:00.082Z"
   },
   {
    "duration": 8,
    "start_time": "2022-03-18T05:39:00.102Z"
   },
   {
    "duration": 10,
    "start_time": "2022-03-18T05:39:00.112Z"
   },
   {
    "duration": 9,
    "start_time": "2022-03-18T05:39:00.125Z"
   },
   {
    "duration": 13,
    "start_time": "2022-03-18T05:39:00.136Z"
   },
   {
    "duration": 9,
    "start_time": "2022-03-18T05:39:00.184Z"
   },
   {
    "duration": 11,
    "start_time": "2022-03-18T05:39:00.202Z"
   },
   {
    "duration": 16,
    "start_time": "2022-03-18T05:39:00.216Z"
   },
   {
    "duration": 10,
    "start_time": "2022-03-18T05:39:00.234Z"
   },
   {
    "duration": 37,
    "start_time": "2022-03-18T05:39:00.247Z"
   },
   {
    "duration": 21,
    "start_time": "2022-03-18T05:39:00.286Z"
   },
   {
    "duration": 17,
    "start_time": "2022-03-18T05:39:00.309Z"
   },
   {
    "duration": 17,
    "start_time": "2022-03-18T05:39:00.328Z"
   },
   {
    "duration": 36,
    "start_time": "2022-03-18T05:39:00.347Z"
   },
   {
    "duration": 10,
    "start_time": "2022-03-18T05:39:00.386Z"
   },
   {
    "duration": 15,
    "start_time": "2022-03-18T05:39:00.398Z"
   },
   {
    "duration": 28,
    "start_time": "2022-03-18T05:39:00.415Z"
   },
   {
    "duration": 39,
    "start_time": "2022-03-18T05:39:00.445Z"
   },
   {
    "duration": 9,
    "start_time": "2022-03-18T05:39:00.486Z"
   },
   {
    "duration": 22,
    "start_time": "2022-03-18T05:39:00.497Z"
   },
   {
    "duration": 30,
    "start_time": "2022-03-18T05:39:00.521Z"
   },
   {
    "duration": 614,
    "start_time": "2022-03-18T05:39:00.554Z"
   },
   {
    "duration": 31,
    "start_time": "2022-03-18T05:39:01.170Z"
   },
   {
    "duration": 426,
    "start_time": "2022-03-18T05:39:01.203Z"
   },
   {
    "duration": 11,
    "start_time": "2022-03-18T05:39:01.632Z"
   },
   {
    "duration": 57,
    "start_time": "2022-03-18T05:39:01.645Z"
   },
   {
    "duration": 322,
    "start_time": "2022-03-18T05:39:01.704Z"
   },
   {
    "duration": 329,
    "start_time": "2022-03-18T05:39:02.028Z"
   },
   {
    "duration": 304,
    "start_time": "2022-03-18T05:39:02.361Z"
   },
   {
    "duration": 316,
    "start_time": "2022-03-18T05:39:02.668Z"
   },
   {
    "duration": 383,
    "start_time": "2022-03-18T05:39:02.987Z"
   },
   {
    "duration": 14,
    "start_time": "2022-03-18T05:39:03.372Z"
   },
   {
    "duration": 14,
    "start_time": "2022-03-18T05:39:03.389Z"
   },
   {
    "duration": 34,
    "start_time": "2022-03-18T05:39:03.405Z"
   },
   {
    "duration": 31,
    "start_time": "2022-03-18T05:39:03.482Z"
   },
   {
    "duration": 30,
    "start_time": "2022-03-18T05:39:03.516Z"
   },
   {
    "duration": 242,
    "start_time": "2022-03-18T05:39:03.548Z"
   },
   {
    "duration": 29,
    "start_time": "2022-03-18T05:39:03.792Z"
   },
   {
    "duration": 225,
    "start_time": "2022-03-18T05:39:03.823Z"
   },
   {
    "duration": 38,
    "start_time": "2022-03-18T05:39:04.050Z"
   },
   {
    "duration": 214,
    "start_time": "2022-03-18T05:39:04.090Z"
   },
   {
    "duration": 29,
    "start_time": "2022-03-18T05:39:04.307Z"
   },
   {
    "duration": 242,
    "start_time": "2022-03-18T05:39:04.339Z"
   },
   {
    "duration": 813,
    "start_time": "2022-03-18T05:39:04.584Z"
   },
   {
    "duration": 40,
    "start_time": "2022-03-18T05:39:05.400Z"
   },
   {
    "duration": 247,
    "start_time": "2022-03-18T05:39:05.442Z"
   },
   {
    "duration": 33,
    "start_time": "2022-03-18T05:39:05.691Z"
   },
   {
    "duration": 263,
    "start_time": "2022-03-18T05:39:05.726Z"
   },
   {
    "duration": 346,
    "start_time": "2022-03-18T05:39:05.992Z"
   },
   {
    "duration": 10,
    "start_time": "2022-03-18T05:39:06.341Z"
   },
   {
    "duration": 30,
    "start_time": "2022-03-18T05:39:06.353Z"
   },
   {
    "duration": 23,
    "start_time": "2022-03-18T05:39:06.386Z"
   },
   {
    "duration": 8,
    "start_time": "2022-03-18T05:39:06.411Z"
   },
   {
    "duration": 23,
    "start_time": "2022-03-18T05:39:06.421Z"
   },
   {
    "duration": 38,
    "start_time": "2022-03-18T05:39:06.448Z"
   },
   {
    "duration": 23,
    "start_time": "2022-03-18T05:39:06.489Z"
   },
   {
    "duration": 25,
    "start_time": "2022-03-18T05:39:06.515Z"
   },
   {
    "duration": 46,
    "start_time": "2022-03-18T05:39:06.542Z"
   },
   {
    "duration": 10,
    "start_time": "2022-03-18T05:39:06.591Z"
   },
   {
    "duration": 428,
    "start_time": "2022-03-18T05:39:06.603Z"
   },
   {
    "duration": 12,
    "start_time": "2022-03-18T05:39:07.042Z"
   },
   {
    "duration": 32,
    "start_time": "2022-03-18T05:39:07.057Z"
   },
   {
    "duration": 337,
    "start_time": "2022-03-18T05:39:07.092Z"
   },
   {
    "duration": 12,
    "start_time": "2022-03-18T05:39:07.432Z"
   },
   {
    "duration": 24,
    "start_time": "2022-03-18T05:39:07.447Z"
   },
   {
    "duration": 319,
    "start_time": "2022-03-18T05:39:07.483Z"
   },
   {
    "duration": 34,
    "start_time": "2022-03-18T05:39:07.805Z"
   },
   {
    "duration": 55,
    "start_time": "2022-03-18T05:39:07.841Z"
   },
   {
    "duration": 3,
    "start_time": "2022-03-18T05:39:07.899Z"
   },
   {
    "duration": 27,
    "start_time": "2022-03-18T05:39:07.904Z"
   },
   {
    "duration": 18,
    "start_time": "2022-03-18T05:39:07.934Z"
   },
   {
    "duration": 48,
    "start_time": "2022-03-18T05:39:07.955Z"
   },
   {
    "duration": 16,
    "start_time": "2022-03-18T05:39:08.006Z"
   },
   {
    "duration": 1930,
    "start_time": "2022-03-18T05:39:08.025Z"
   },
   {
    "duration": 2095,
    "start_time": "2022-03-18T05:39:15.306Z"
   },
   {
    "duration": 24,
    "start_time": "2022-03-18T05:39:55.902Z"
   },
   {
    "duration": 15,
    "start_time": "2022-03-18T05:41:14.379Z"
   },
   {
    "duration": 15,
    "start_time": "2022-03-18T05:41:22.820Z"
   },
   {
    "duration": 24,
    "start_time": "2022-03-18T05:41:27.368Z"
   },
   {
    "duration": 22,
    "start_time": "2022-03-18T05:41:55.056Z"
   },
   {
    "duration": 1446,
    "start_time": "2022-03-18T05:42:32.131Z"
   },
   {
    "duration": 48,
    "start_time": "2022-03-18T05:42:35.817Z"
   },
   {
    "duration": 31,
    "start_time": "2022-03-18T05:42:42.122Z"
   },
   {
    "duration": 22,
    "start_time": "2022-03-18T05:42:48.918Z"
   },
   {
    "duration": 12,
    "start_time": "2022-03-18T05:42:52.167Z"
   },
   {
    "duration": 18,
    "start_time": "2022-03-18T05:42:55.354Z"
   },
   {
    "duration": 40,
    "start_time": "2022-03-18T05:42:59.401Z"
   },
   {
    "duration": 4,
    "start_time": "2022-03-18T05:43:12.922Z"
   },
   {
    "duration": 31,
    "start_time": "2022-03-18T05:43:15.529Z"
   },
   {
    "duration": 19,
    "start_time": "2022-03-18T05:43:30.697Z"
   },
   {
    "duration": 19,
    "start_time": "2022-03-18T05:43:33.780Z"
   },
   {
    "duration": 8,
    "start_time": "2022-03-18T05:43:37.343Z"
   },
   {
    "duration": 12,
    "start_time": "2022-03-18T05:43:41.876Z"
   },
   {
    "duration": 10,
    "start_time": "2022-03-18T05:43:44.213Z"
   },
   {
    "duration": 12,
    "start_time": "2022-03-18T05:43:48.730Z"
   },
   {
    "duration": 13,
    "start_time": "2022-03-18T05:43:51.665Z"
   },
   {
    "duration": 9,
    "start_time": "2022-03-18T05:43:58.622Z"
   },
   {
    "duration": 11,
    "start_time": "2022-03-18T05:44:06.228Z"
   },
   {
    "duration": 8,
    "start_time": "2022-03-18T05:44:08.828Z"
   },
   {
    "duration": 11,
    "start_time": "2022-03-18T05:44:12.002Z"
   },
   {
    "duration": 7,
    "start_time": "2022-03-18T05:44:17.873Z"
   },
   {
    "duration": 17,
    "start_time": "2022-03-18T05:44:22.008Z"
   },
   {
    "duration": 9,
    "start_time": "2022-03-18T05:44:26.103Z"
   },
   {
    "duration": 7,
    "start_time": "2022-03-18T05:44:28.656Z"
   },
   {
    "duration": 4,
    "start_time": "2022-03-18T05:44:31.242Z"
   },
   {
    "duration": 11,
    "start_time": "2022-03-18T05:44:33.957Z"
   },
   {
    "duration": 7,
    "start_time": "2022-03-18T05:44:37.679Z"
   },
   {
    "duration": 11,
    "start_time": "2022-03-18T05:44:40.863Z"
   },
   {
    "duration": 8,
    "start_time": "2022-03-18T05:44:43.903Z"
   },
   {
    "duration": 9,
    "start_time": "2022-03-18T05:44:47.093Z"
   },
   {
    "duration": 4,
    "start_time": "2022-03-18T05:44:50.691Z"
   },
   {
    "duration": 12,
    "start_time": "2022-03-18T05:44:53.104Z"
   },
   {
    "duration": 11,
    "start_time": "2022-03-18T05:44:58.089Z"
   },
   {
    "duration": 11,
    "start_time": "2022-03-18T05:45:26.655Z"
   },
   {
    "duration": 13,
    "start_time": "2022-03-18T05:45:31.268Z"
   },
   {
    "duration": 10,
    "start_time": "2022-03-18T05:45:34.640Z"
   },
   {
    "duration": 7,
    "start_time": "2022-03-18T05:45:39.915Z"
   },
   {
    "duration": 22,
    "start_time": "2022-03-18T05:45:42.533Z"
   },
   {
    "duration": 18,
    "start_time": "2022-03-18T05:45:45.101Z"
   },
   {
    "duration": 6,
    "start_time": "2022-03-18T05:46:53.147Z"
   },
   {
    "duration": 7,
    "start_time": "2022-03-18T05:47:02.730Z"
   },
   {
    "duration": 21,
    "start_time": "2022-03-18T05:47:05.097Z"
   },
   {
    "duration": 18,
    "start_time": "2022-03-18T05:47:07.742Z"
   },
   {
    "duration": 9,
    "start_time": "2022-03-18T05:57:34.197Z"
   },
   {
    "duration": 10,
    "start_time": "2022-03-18T05:57:39.396Z"
   },
   {
    "duration": 9,
    "start_time": "2022-03-18T05:57:41.846Z"
   },
   {
    "duration": 10,
    "start_time": "2022-03-18T05:57:45.010Z"
   },
   {
    "duration": 4,
    "start_time": "2022-03-18T05:57:48.596Z"
   },
   {
    "duration": 11,
    "start_time": "2022-03-18T05:57:51.398Z"
   },
   {
    "duration": 11,
    "start_time": "2022-03-18T05:57:58.939Z"
   },
   {
    "duration": 7,
    "start_time": "2022-03-18T05:58:06.221Z"
   },
   {
    "duration": 53,
    "start_time": "2022-03-18T05:58:06.230Z"
   },
   {
    "duration": 26,
    "start_time": "2022-03-18T05:58:06.286Z"
   },
   {
    "duration": 33,
    "start_time": "2022-03-18T05:58:06.315Z"
   },
   {
    "duration": 41,
    "start_time": "2022-03-18T05:58:06.351Z"
   },
   {
    "duration": 23,
    "start_time": "2022-03-18T05:58:06.395Z"
   },
   {
    "duration": 72,
    "start_time": "2022-03-18T05:58:06.420Z"
   },
   {
    "duration": 4,
    "start_time": "2022-03-18T05:58:06.494Z"
   },
   {
    "duration": 45,
    "start_time": "2022-03-18T05:58:06.501Z"
   },
   {
    "duration": 59,
    "start_time": "2022-03-18T05:58:06.549Z"
   },
   {
    "duration": 20,
    "start_time": "2022-03-18T05:58:06.613Z"
   },
   {
    "duration": 26,
    "start_time": "2022-03-18T05:58:06.636Z"
   },
   {
    "duration": 25,
    "start_time": "2022-03-18T05:58:06.664Z"
   },
   {
    "duration": 18,
    "start_time": "2022-03-18T05:58:06.691Z"
   },
   {
    "duration": 29,
    "start_time": "2022-03-18T05:58:06.711Z"
   },
   {
    "duration": 16,
    "start_time": "2022-03-18T05:58:06.742Z"
   },
   {
    "duration": 19,
    "start_time": "2022-03-18T05:58:06.760Z"
   },
   {
    "duration": 24,
    "start_time": "2022-03-18T05:58:06.782Z"
   },
   {
    "duration": 12,
    "start_time": "2022-03-18T05:58:06.808Z"
   },
   {
    "duration": 12,
    "start_time": "2022-03-18T05:58:06.823Z"
   },
   {
    "duration": 7,
    "start_time": "2022-03-18T05:58:06.838Z"
   },
   {
    "duration": 38,
    "start_time": "2022-03-18T05:58:06.848Z"
   },
   {
    "duration": 8,
    "start_time": "2022-03-18T05:58:06.889Z"
   },
   {
    "duration": 19,
    "start_time": "2022-03-18T05:58:06.900Z"
   },
   {
    "duration": 15,
    "start_time": "2022-03-18T05:58:06.921Z"
   },
   {
    "duration": 17,
    "start_time": "2022-03-18T05:58:06.938Z"
   },
   {
    "duration": 25,
    "start_time": "2022-03-18T05:58:06.958Z"
   },
   {
    "duration": 11,
    "start_time": "2022-03-18T05:58:06.986Z"
   },
   {
    "duration": 8,
    "start_time": "2022-03-18T05:58:07.004Z"
   },
   {
    "duration": 17,
    "start_time": "2022-03-18T05:58:07.015Z"
   },
   {
    "duration": 3,
    "start_time": "2022-03-18T05:58:07.035Z"
   },
   {
    "duration": 48,
    "start_time": "2022-03-18T05:58:07.040Z"
   },
   {
    "duration": 11,
    "start_time": "2022-03-18T05:58:07.090Z"
   },
   {
    "duration": 14,
    "start_time": "2022-03-18T05:58:07.103Z"
   },
   {
    "duration": 16,
    "start_time": "2022-03-18T05:58:07.119Z"
   },
   {
    "duration": 14,
    "start_time": "2022-03-18T05:58:07.137Z"
   },
   {
    "duration": 30,
    "start_time": "2022-03-18T05:58:07.153Z"
   },
   {
    "duration": 18,
    "start_time": "2022-03-18T05:58:07.185Z"
   },
   {
    "duration": 32,
    "start_time": "2022-03-18T05:58:07.205Z"
   },
   {
    "duration": 19,
    "start_time": "2022-03-18T05:58:07.240Z"
   },
   {
    "duration": 21,
    "start_time": "2022-03-18T05:58:07.261Z"
   },
   {
    "duration": 21,
    "start_time": "2022-03-18T05:58:07.284Z"
   },
   {
    "duration": 16,
    "start_time": "2022-03-18T05:58:07.307Z"
   },
   {
    "duration": 646,
    "start_time": "2022-03-18T05:58:07.325Z"
   },
   {
    "duration": 31,
    "start_time": "2022-03-18T05:58:07.973Z"
   },
   {
    "duration": 431,
    "start_time": "2022-03-18T05:58:08.006Z"
   },
   {
    "duration": 13,
    "start_time": "2022-03-18T05:58:08.440Z"
   },
   {
    "duration": 55,
    "start_time": "2022-03-18T05:58:08.456Z"
   },
   {
    "duration": 323,
    "start_time": "2022-03-18T05:58:08.514Z"
   },
   {
    "duration": 323,
    "start_time": "2022-03-18T05:58:08.841Z"
   },
   {
    "duration": 278,
    "start_time": "2022-03-18T05:58:09.166Z"
   },
   {
    "duration": 383,
    "start_time": "2022-03-18T05:58:09.446Z"
   },
   {
    "duration": 309,
    "start_time": "2022-03-18T05:58:09.832Z"
   },
   {
    "duration": 8,
    "start_time": "2022-03-18T05:58:10.143Z"
   },
   {
    "duration": 36,
    "start_time": "2022-03-18T05:58:10.153Z"
   },
   {
    "duration": 49,
    "start_time": "2022-03-18T05:58:10.192Z"
   },
   {
    "duration": 35,
    "start_time": "2022-03-18T05:58:10.243Z"
   },
   {
    "duration": 26,
    "start_time": "2022-03-18T05:58:10.281Z"
   },
   {
    "duration": 227,
    "start_time": "2022-03-18T05:58:10.309Z"
   },
   {
    "duration": 46,
    "start_time": "2022-03-18T05:58:10.538Z"
   },
   {
    "duration": 206,
    "start_time": "2022-03-18T05:58:10.587Z"
   },
   {
    "duration": 27,
    "start_time": "2022-03-18T05:58:10.796Z"
   },
   {
    "duration": 221,
    "start_time": "2022-03-18T05:58:10.826Z"
   },
   {
    "duration": 49,
    "start_time": "2022-03-18T05:58:11.050Z"
   },
   {
    "duration": 222,
    "start_time": "2022-03-18T05:58:11.102Z"
   },
   {
    "duration": 848,
    "start_time": "2022-03-18T05:58:11.327Z"
   },
   {
    "duration": 40,
    "start_time": "2022-03-18T05:58:12.182Z"
   },
   {
    "duration": 244,
    "start_time": "2022-03-18T05:58:12.224Z"
   },
   {
    "duration": 42,
    "start_time": "2022-03-18T05:58:12.470Z"
   },
   {
    "duration": 234,
    "start_time": "2022-03-18T05:58:12.514Z"
   },
   {
    "duration": 328,
    "start_time": "2022-03-18T05:58:12.750Z"
   },
   {
    "duration": 10,
    "start_time": "2022-03-18T05:58:13.083Z"
   },
   {
    "duration": 24,
    "start_time": "2022-03-18T05:58:13.096Z"
   },
   {
    "duration": 40,
    "start_time": "2022-03-18T05:58:13.122Z"
   },
   {
    "duration": 17,
    "start_time": "2022-03-18T05:58:13.165Z"
   },
   {
    "duration": 47,
    "start_time": "2022-03-18T05:58:13.184Z"
   },
   {
    "duration": 11,
    "start_time": "2022-03-18T05:58:13.233Z"
   },
   {
    "duration": 40,
    "start_time": "2022-03-18T05:58:13.246Z"
   },
   {
    "duration": 130,
    "start_time": "2022-03-18T05:58:13.289Z"
   },
   {
    "duration": 10,
    "start_time": "2022-03-18T05:58:13.421Z"
   },
   {
    "duration": 19,
    "start_time": "2022-03-18T05:58:13.434Z"
   },
   {
    "duration": 350,
    "start_time": "2022-03-18T05:58:13.455Z"
   },
   {
    "duration": 10,
    "start_time": "2022-03-18T05:58:13.813Z"
   },
   {
    "duration": 51,
    "start_time": "2022-03-18T05:58:13.825Z"
   },
   {
    "duration": 320,
    "start_time": "2022-03-18T05:58:13.878Z"
   },
   {
    "duration": 9,
    "start_time": "2022-03-18T05:58:14.201Z"
   },
   {
    "duration": 26,
    "start_time": "2022-03-18T05:58:14.212Z"
   },
   {
    "duration": 320,
    "start_time": "2022-03-18T05:58:14.240Z"
   },
   {
    "duration": 46,
    "start_time": "2022-03-18T05:58:14.563Z"
   },
   {
    "duration": 32,
    "start_time": "2022-03-18T05:58:14.611Z"
   },
   {
    "duration": 5,
    "start_time": "2022-03-18T05:58:14.645Z"
   },
   {
    "duration": 31,
    "start_time": "2022-03-18T05:58:14.652Z"
   },
   {
    "duration": 5,
    "start_time": "2022-03-18T05:58:14.686Z"
   },
   {
    "duration": 26,
    "start_time": "2022-03-18T05:58:14.693Z"
   },
   {
    "duration": 14,
    "start_time": "2022-03-18T05:58:14.721Z"
   },
   {
    "duration": 49,
    "start_time": "2022-03-18T05:58:14.738Z"
   },
   {
    "duration": 26,
    "start_time": "2022-03-18T05:58:26.575Z"
   },
   {
    "duration": 24,
    "start_time": "2022-03-18T05:58:40.930Z"
   },
   {
    "duration": 16,
    "start_time": "2022-03-18T05:58:50.661Z"
   },
   {
    "duration": 15,
    "start_time": "2022-03-18T05:59:09.498Z"
   },
   {
    "duration": 24,
    "start_time": "2022-03-18T06:01:56.599Z"
   },
   {
    "duration": 15,
    "start_time": "2022-03-18T06:02:06.817Z"
   },
   {
    "duration": 14,
    "start_time": "2022-03-18T06:02:10.126Z"
   },
   {
    "duration": 16,
    "start_time": "2022-03-18T06:02:22.547Z"
   },
   {
    "duration": 14,
    "start_time": "2022-03-18T06:08:05.117Z"
   },
   {
    "duration": 27,
    "start_time": "2022-03-18T06:09:11.111Z"
   },
   {
    "duration": 17,
    "start_time": "2022-03-18T06:09:31.857Z"
   },
   {
    "duration": 15,
    "start_time": "2022-03-18T06:10:04.578Z"
   },
   {
    "duration": 106,
    "start_time": "2022-03-18T06:16:06.331Z"
   },
   {
    "duration": 13,
    "start_time": "2022-03-18T06:16:09.750Z"
   },
   {
    "duration": 12,
    "start_time": "2022-03-18T06:16:52.327Z"
   },
   {
    "duration": 108,
    "start_time": "2022-03-18T06:17:43.970Z"
   },
   {
    "duration": 13,
    "start_time": "2022-03-18T06:17:50.928Z"
   },
   {
    "duration": 8,
    "start_time": "2022-03-18T06:18:02.338Z"
   },
   {
    "duration": 6,
    "start_time": "2022-03-18T06:18:05.317Z"
   },
   {
    "duration": 21,
    "start_time": "2022-03-18T06:18:07.688Z"
   },
   {
    "duration": 19,
    "start_time": "2022-03-18T06:18:11.838Z"
   },
   {
    "duration": 7,
    "start_time": "2022-03-18T06:18:22.320Z"
   },
   {
    "duration": 22,
    "start_time": "2022-03-18T06:18:26.947Z"
   },
   {
    "duration": 10,
    "start_time": "2022-03-18T06:18:37.736Z"
   },
   {
    "duration": 582,
    "start_time": "2022-03-18T06:18:41.524Z"
   },
   {
    "duration": 25,
    "start_time": "2022-03-18T06:18:46.490Z"
   },
   {
    "duration": 399,
    "start_time": "2022-03-18T06:18:50.590Z"
   },
   {
    "duration": 12,
    "start_time": "2022-03-18T06:18:54.702Z"
   },
   {
    "duration": 37,
    "start_time": "2022-03-18T06:18:58.381Z"
   },
   {
    "duration": 314,
    "start_time": "2022-03-18T06:19:03.788Z"
   },
   {
    "duration": 407,
    "start_time": "2022-03-18T06:19:07.602Z"
   },
   {
    "duration": 289,
    "start_time": "2022-03-18T06:19:13.362Z"
   },
   {
    "duration": 309,
    "start_time": "2022-03-18T06:19:17.773Z"
   },
   {
    "duration": 317,
    "start_time": "2022-03-18T06:19:23.547Z"
   },
   {
    "duration": 8,
    "start_time": "2022-03-18T06:19:27.718Z"
   },
   {
    "duration": 11,
    "start_time": "2022-03-18T06:19:34.777Z"
   },
   {
    "duration": 32,
    "start_time": "2022-03-18T06:19:38.690Z"
   },
   {
    "duration": 29,
    "start_time": "2022-03-18T06:19:53.278Z"
   },
   {
    "duration": 26,
    "start_time": "2022-03-18T06:19:58.945Z"
   },
   {
    "duration": 196,
    "start_time": "2022-03-18T06:20:03.468Z"
   },
   {
    "duration": 27,
    "start_time": "2022-03-18T06:20:07.932Z"
   },
   {
    "duration": 201,
    "start_time": "2022-03-18T06:20:12.363Z"
   },
   {
    "duration": 27,
    "start_time": "2022-03-18T06:20:17.603Z"
   },
   {
    "duration": 209,
    "start_time": "2022-03-18T06:20:22.267Z"
   },
   {
    "duration": 30,
    "start_time": "2022-03-18T06:20:26.962Z"
   },
   {
    "duration": 223,
    "start_time": "2022-03-18T06:20:29.881Z"
   },
   {
    "duration": 838,
    "start_time": "2022-03-18T06:20:41.598Z"
   },
   {
    "duration": 31,
    "start_time": "2022-03-18T06:20:51.392Z"
   },
   {
    "duration": 32,
    "start_time": "2022-03-18T06:20:56.303Z"
   },
   {
    "duration": 315,
    "start_time": "2022-03-18T06:21:07.821Z"
   },
   {
    "duration": 8,
    "start_time": "2022-03-18T06:21:12.454Z"
   },
   {
    "duration": 11,
    "start_time": "2022-03-18T06:21:16.913Z"
   },
   {
    "duration": 23,
    "start_time": "2022-03-18T06:21:23.536Z"
   },
   {
    "duration": 11,
    "start_time": "2022-03-18T06:21:42.562Z"
   },
   {
    "duration": 19,
    "start_time": "2022-03-18T06:21:45.945Z"
   },
   {
    "duration": 9,
    "start_time": "2022-03-18T06:21:56.267Z"
   },
   {
    "duration": 20,
    "start_time": "2022-03-18T06:22:21.092Z"
   },
   {
    "duration": 22,
    "start_time": "2022-03-18T06:22:24.474Z"
   },
   {
    "duration": 10,
    "start_time": "2022-03-18T06:22:27.851Z"
   },
   {
    "duration": 10,
    "start_time": "2022-03-18T06:22:31.160Z"
   },
   {
    "duration": 405,
    "start_time": "2022-03-18T06:22:34.358Z"
   },
   {
    "duration": 10,
    "start_time": "2022-03-18T06:22:40.261Z"
   },
   {
    "duration": 11,
    "start_time": "2022-03-18T06:22:43.188Z"
   },
   {
    "duration": 326,
    "start_time": "2022-03-18T06:22:51.176Z"
   },
   {
    "duration": 318,
    "start_time": "2022-03-18T06:22:59.670Z"
   },
   {
    "duration": 12,
    "start_time": "2022-03-18T06:23:08.275Z"
   },
   {
    "duration": 9,
    "start_time": "2022-03-18T06:23:12.223Z"
   },
   {
    "duration": 301,
    "start_time": "2022-03-18T06:23:19.613Z"
   },
   {
    "duration": 33,
    "start_time": "2022-03-18T06:23:33.189Z"
   },
   {
    "duration": 35,
    "start_time": "2022-03-18T06:23:36.348Z"
   },
   {
    "duration": 26,
    "start_time": "2022-03-18T06:23:50.391Z"
   },
   {
    "duration": 18,
    "start_time": "2022-03-18T06:23:56.464Z"
   },
   {
    "duration": 15,
    "start_time": "2022-03-18T06:24:00.296Z"
   },
   {
    "duration": 15,
    "start_time": "2022-03-18T06:24:04.068Z"
   },
   {
    "duration": 17,
    "start_time": "2022-03-18T06:26:06.991Z"
   },
   {
    "duration": 15,
    "start_time": "2022-03-18T06:26:24.841Z"
   },
   {
    "duration": 15,
    "start_time": "2022-03-18T06:28:07.528Z"
   },
   {
    "duration": 8,
    "start_time": "2022-03-18T06:28:34.468Z"
   },
   {
    "duration": 8,
    "start_time": "2022-03-18T06:28:50.774Z"
   },
   {
    "duration": 37,
    "start_time": "2022-03-18T06:29:51.867Z"
   },
   {
    "duration": 36,
    "start_time": "2022-03-18T06:31:42.882Z"
   },
   {
    "duration": 36,
    "start_time": "2022-03-18T06:36:07.062Z"
   },
   {
    "duration": 15,
    "start_time": "2022-03-18T06:37:12.050Z"
   },
   {
    "duration": 15,
    "start_time": "2022-03-18T06:37:22.468Z"
   },
   {
    "duration": 27,
    "start_time": "2022-03-18T06:43:19.255Z"
   },
   {
    "duration": 16,
    "start_time": "2022-03-18T06:43:24.152Z"
   },
   {
    "duration": 17,
    "start_time": "2022-03-18T06:43:42.070Z"
   },
   {
    "duration": 1534,
    "start_time": "2022-03-18T06:56:09.445Z"
   },
   {
    "duration": 54,
    "start_time": "2022-03-18T06:56:10.983Z"
   },
   {
    "duration": 32,
    "start_time": "2022-03-18T06:56:11.039Z"
   },
   {
    "duration": 27,
    "start_time": "2022-03-18T06:56:11.074Z"
   },
   {
    "duration": 12,
    "start_time": "2022-03-18T06:56:11.103Z"
   },
   {
    "duration": 15,
    "start_time": "2022-03-18T06:56:11.118Z"
   },
   {
    "duration": 79,
    "start_time": "2022-03-18T06:56:11.136Z"
   },
   {
    "duration": 4,
    "start_time": "2022-03-18T06:56:11.218Z"
   },
   {
    "duration": 59,
    "start_time": "2022-03-18T06:56:11.225Z"
   },
   {
    "duration": 20,
    "start_time": "2022-03-18T06:56:11.287Z"
   },
   {
    "duration": 19,
    "start_time": "2022-03-18T06:56:11.309Z"
   },
   {
    "duration": 11,
    "start_time": "2022-03-18T06:56:11.331Z"
   },
   {
    "duration": 13,
    "start_time": "2022-03-18T06:56:11.382Z"
   },
   {
    "duration": 15,
    "start_time": "2022-03-18T06:56:11.397Z"
   },
   {
    "duration": 14,
    "start_time": "2022-03-18T06:56:11.414Z"
   },
   {
    "duration": 12,
    "start_time": "2022-03-18T06:56:11.430Z"
   },
   {
    "duration": 45,
    "start_time": "2022-03-18T06:56:11.445Z"
   },
   {
    "duration": 13,
    "start_time": "2022-03-18T06:56:11.493Z"
   },
   {
    "duration": 9,
    "start_time": "2022-03-18T06:56:11.509Z"
   },
   {
    "duration": 12,
    "start_time": "2022-03-18T06:56:11.521Z"
   },
   {
    "duration": 6,
    "start_time": "2022-03-18T06:56:11.536Z"
   },
   {
    "duration": 17,
    "start_time": "2022-03-18T06:56:11.583Z"
   },
   {
    "duration": 9,
    "start_time": "2022-03-18T06:56:11.602Z"
   },
   {
    "duration": 7,
    "start_time": "2022-03-18T06:56:11.613Z"
   },
   {
    "duration": 14,
    "start_time": "2022-03-18T06:56:11.622Z"
   },
   {
    "duration": 44,
    "start_time": "2022-03-18T06:56:11.638Z"
   },
   {
    "duration": 7,
    "start_time": "2022-03-18T06:56:11.684Z"
   },
   {
    "duration": 10,
    "start_time": "2022-03-18T06:56:11.698Z"
   },
   {
    "duration": 11,
    "start_time": "2022-03-18T06:56:11.711Z"
   },
   {
    "duration": 9,
    "start_time": "2022-03-18T06:56:11.724Z"
   },
   {
    "duration": 131,
    "start_time": "2022-03-18T06:56:11.735Z"
   },
   {
    "duration": 21,
    "start_time": "2022-03-18T06:56:11.868Z"
   },
   {
    "duration": 10,
    "start_time": "2022-03-18T06:56:11.891Z"
   },
   {
    "duration": 12,
    "start_time": "2022-03-18T06:56:11.903Z"
   },
   {
    "duration": 128,
    "start_time": "2022-03-18T06:56:11.918Z"
   },
   {
    "duration": 12,
    "start_time": "2022-03-18T06:56:12.048Z"
   },
   {
    "duration": 24,
    "start_time": "2022-03-18T06:56:12.062Z"
   },
   {
    "duration": 7,
    "start_time": "2022-03-18T06:56:12.088Z"
   },
   {
    "duration": 9,
    "start_time": "2022-03-18T06:56:12.097Z"
   },
   {
    "duration": 23,
    "start_time": "2022-03-18T06:56:12.108Z"
   },
   {
    "duration": 51,
    "start_time": "2022-03-18T06:56:12.133Z"
   },
   {
    "duration": 9,
    "start_time": "2022-03-18T06:56:12.186Z"
   },
   {
    "duration": 23,
    "start_time": "2022-03-18T06:56:12.198Z"
   },
   {
    "duration": 10,
    "start_time": "2022-03-18T06:56:12.224Z"
   },
   {
    "duration": 626,
    "start_time": "2022-03-18T06:56:12.236Z"
   },
   {
    "duration": 34,
    "start_time": "2022-03-18T06:56:12.865Z"
   },
   {
    "duration": 424,
    "start_time": "2022-03-18T06:56:12.901Z"
   },
   {
    "duration": 12,
    "start_time": "2022-03-18T06:56:13.327Z"
   },
   {
    "duration": 59,
    "start_time": "2022-03-18T06:56:13.341Z"
   },
   {
    "duration": 350,
    "start_time": "2022-03-18T06:56:13.403Z"
   },
   {
    "duration": 330,
    "start_time": "2022-03-18T06:56:13.756Z"
   },
   {
    "duration": 310,
    "start_time": "2022-03-18T06:56:14.089Z"
   },
   {
    "duration": 335,
    "start_time": "2022-03-18T06:56:14.401Z"
   },
   {
    "duration": 391,
    "start_time": "2022-03-18T06:56:14.738Z"
   },
   {
    "duration": 9,
    "start_time": "2022-03-18T06:56:15.131Z"
   },
   {
    "duration": 17,
    "start_time": "2022-03-18T06:56:15.142Z"
   },
   {
    "duration": 48,
    "start_time": "2022-03-18T06:56:15.162Z"
   },
   {
    "duration": 29,
    "start_time": "2022-03-18T06:56:15.213Z"
   },
   {
    "duration": 56,
    "start_time": "2022-03-18T06:56:15.244Z"
   },
   {
    "duration": 223,
    "start_time": "2022-03-18T06:56:15.302Z"
   },
   {
    "duration": 30,
    "start_time": "2022-03-18T06:56:15.527Z"
   },
   {
    "duration": 207,
    "start_time": "2022-03-18T06:56:15.582Z"
   },
   {
    "duration": 25,
    "start_time": "2022-03-18T06:56:15.791Z"
   },
   {
    "duration": 242,
    "start_time": "2022-03-18T06:56:15.818Z"
   },
   {
    "duration": 40,
    "start_time": "2022-03-18T06:56:16.062Z"
   },
   {
    "duration": 241,
    "start_time": "2022-03-18T06:56:16.105Z"
   },
   {
    "duration": 908,
    "start_time": "2022-03-18T06:56:16.349Z"
   },
   {
    "duration": 42,
    "start_time": "2022-03-18T06:56:17.259Z"
   },
   {
    "duration": 310,
    "start_time": "2022-03-18T06:56:17.303Z"
   },
   {
    "duration": 29,
    "start_time": "2022-03-18T06:56:17.616Z"
   },
   {
    "duration": 243,
    "start_time": "2022-03-18T06:56:17.647Z"
   },
   {
    "duration": 347,
    "start_time": "2022-03-18T06:56:17.892Z"
   },
   {
    "duration": 8,
    "start_time": "2022-03-18T06:56:18.241Z"
   },
   {
    "duration": 31,
    "start_time": "2022-03-18T06:56:18.252Z"
   },
   {
    "duration": 22,
    "start_time": "2022-03-18T06:56:18.285Z"
   },
   {
    "duration": 8,
    "start_time": "2022-03-18T06:56:18.309Z"
   },
   {
    "duration": 18,
    "start_time": "2022-03-18T06:56:18.319Z"
   },
   {
    "duration": 9,
    "start_time": "2022-03-18T06:56:18.339Z"
   },
   {
    "duration": 23,
    "start_time": "2022-03-18T06:56:18.384Z"
   },
   {
    "duration": 22,
    "start_time": "2022-03-18T06:56:18.410Z"
   },
   {
    "duration": 49,
    "start_time": "2022-03-18T06:56:18.435Z"
   },
   {
    "duration": 9,
    "start_time": "2022-03-18T06:56:18.494Z"
   },
   {
    "duration": 424,
    "start_time": "2022-03-18T06:56:18.505Z"
   },
   {
    "duration": 10,
    "start_time": "2022-03-18T06:56:18.932Z"
   },
   {
    "duration": 12,
    "start_time": "2022-03-18T06:56:18.944Z"
   },
   {
    "duration": 332,
    "start_time": "2022-03-18T06:56:18.958Z"
   },
   {
    "duration": 11,
    "start_time": "2022-03-18T06:56:19.293Z"
   },
   {
    "duration": 11,
    "start_time": "2022-03-18T06:56:19.306Z"
   },
   {
    "duration": 353,
    "start_time": "2022-03-18T06:56:19.319Z"
   },
   {
    "duration": 33,
    "start_time": "2022-03-18T06:56:19.683Z"
   },
   {
    "duration": 33,
    "start_time": "2022-03-18T06:56:19.719Z"
   },
   {
    "duration": 61,
    "start_time": "2022-03-18T06:56:19.754Z"
   },
   {
    "duration": 24,
    "start_time": "2022-03-18T06:56:19.817Z"
   },
   {
    "duration": 39,
    "start_time": "2022-03-18T06:56:19.843Z"
   },
   {
    "duration": 18,
    "start_time": "2022-03-18T06:56:19.885Z"
   },
   {
    "duration": 1509,
    "start_time": "2022-03-18T11:44:07.961Z"
   },
   {
    "duration": 216,
    "start_time": "2022-03-18T11:44:09.472Z"
   },
   {
    "duration": 29,
    "start_time": "2022-03-18T11:44:09.690Z"
   },
   {
    "duration": 17,
    "start_time": "2022-03-18T11:44:09.721Z"
   },
   {
    "duration": 17,
    "start_time": "2022-03-18T11:44:09.740Z"
   },
   {
    "duration": 25,
    "start_time": "2022-03-18T11:44:09.758Z"
   },
   {
    "duration": 38,
    "start_time": "2022-03-18T11:44:09.784Z"
   },
   {
    "duration": 4,
    "start_time": "2022-03-18T11:44:09.824Z"
   },
   {
    "duration": 44,
    "start_time": "2022-03-18T11:44:09.829Z"
   },
   {
    "duration": 19,
    "start_time": "2022-03-18T11:44:09.875Z"
   },
   {
    "duration": 21,
    "start_time": "2022-03-18T11:44:09.896Z"
   },
   {
    "duration": 13,
    "start_time": "2022-03-18T11:44:09.919Z"
   },
   {
    "duration": 23,
    "start_time": "2022-03-18T11:44:09.933Z"
   },
   {
    "duration": 21,
    "start_time": "2022-03-18T11:44:09.960Z"
   },
   {
    "duration": 19,
    "start_time": "2022-03-18T11:44:09.983Z"
   },
   {
    "duration": 13,
    "start_time": "2022-03-18T11:44:10.005Z"
   },
   {
    "duration": 17,
    "start_time": "2022-03-18T11:44:10.020Z"
   },
   {
    "duration": 25,
    "start_time": "2022-03-18T11:44:10.038Z"
   },
   {
    "duration": 11,
    "start_time": "2022-03-18T11:44:10.065Z"
   },
   {
    "duration": 18,
    "start_time": "2022-03-18T11:44:10.077Z"
   },
   {
    "duration": 13,
    "start_time": "2022-03-18T11:44:10.096Z"
   },
   {
    "duration": 32,
    "start_time": "2022-03-18T11:44:10.111Z"
   },
   {
    "duration": 5,
    "start_time": "2022-03-18T11:44:10.145Z"
   },
   {
    "duration": 22,
    "start_time": "2022-03-18T11:44:10.152Z"
   },
   {
    "duration": 16,
    "start_time": "2022-03-18T11:44:10.176Z"
   },
   {
    "duration": 22,
    "start_time": "2022-03-18T11:44:10.194Z"
   },
   {
    "duration": 21,
    "start_time": "2022-03-18T11:44:10.218Z"
   },
   {
    "duration": 14,
    "start_time": "2022-03-18T11:44:10.241Z"
   },
   {
    "duration": 21,
    "start_time": "2022-03-18T11:44:10.256Z"
   },
   {
    "duration": 32,
    "start_time": "2022-03-18T11:44:10.279Z"
   },
   {
    "duration": 70,
    "start_time": "2022-03-18T11:44:10.313Z"
   },
   {
    "duration": 12,
    "start_time": "2022-03-18T11:44:10.385Z"
   },
   {
    "duration": 19,
    "start_time": "2022-03-18T11:44:10.398Z"
   },
   {
    "duration": 14,
    "start_time": "2022-03-18T11:44:10.419Z"
   },
   {
    "duration": 87,
    "start_time": "2022-03-18T11:44:10.435Z"
   },
   {
    "duration": 9,
    "start_time": "2022-03-18T11:44:10.524Z"
   },
   {
    "duration": 21,
    "start_time": "2022-03-18T11:44:10.534Z"
   },
   {
    "duration": 13,
    "start_time": "2022-03-18T11:44:10.556Z"
   },
   {
    "duration": 10,
    "start_time": "2022-03-18T11:44:10.571Z"
   },
   {
    "duration": 24,
    "start_time": "2022-03-18T11:44:10.582Z"
   },
   {
    "duration": 14,
    "start_time": "2022-03-18T11:44:10.613Z"
   },
   {
    "duration": 15,
    "start_time": "2022-03-18T11:44:10.630Z"
   },
   {
    "duration": 32,
    "start_time": "2022-03-18T11:44:10.647Z"
   },
   {
    "duration": 29,
    "start_time": "2022-03-18T11:44:10.681Z"
   },
   {
    "duration": 373,
    "start_time": "2022-03-18T11:44:10.712Z"
   },
   {
    "duration": 22,
    "start_time": "2022-03-18T11:44:11.087Z"
   },
   {
    "duration": 272,
    "start_time": "2022-03-18T11:44:11.111Z"
   },
   {
    "duration": 9,
    "start_time": "2022-03-18T11:44:11.385Z"
   },
   {
    "duration": 44,
    "start_time": "2022-03-18T11:44:11.396Z"
   },
   {
    "duration": 210,
    "start_time": "2022-03-18T11:44:11.442Z"
   },
   {
    "duration": 292,
    "start_time": "2022-03-18T11:44:11.654Z"
   },
   {
    "duration": 189,
    "start_time": "2022-03-18T11:44:11.948Z"
   },
   {
    "duration": 276,
    "start_time": "2022-03-18T11:44:12.139Z"
   },
   {
    "duration": 204,
    "start_time": "2022-03-18T11:44:12.417Z"
   },
   {
    "duration": 6,
    "start_time": "2022-03-18T11:44:12.622Z"
   },
   {
    "duration": 16,
    "start_time": "2022-03-18T11:44:12.630Z"
   },
   {
    "duration": 33,
    "start_time": "2022-03-18T11:44:12.648Z"
   },
   {
    "duration": 31,
    "start_time": "2022-03-18T11:44:12.683Z"
   },
   {
    "duration": 21,
    "start_time": "2022-03-18T11:44:12.716Z"
   },
   {
    "duration": 146,
    "start_time": "2022-03-18T11:44:12.738Z"
   },
   {
    "duration": 21,
    "start_time": "2022-03-18T11:44:12.886Z"
   },
   {
    "duration": 152,
    "start_time": "2022-03-18T11:44:12.909Z"
   },
   {
    "duration": 22,
    "start_time": "2022-03-18T11:44:13.062Z"
   },
   {
    "duration": 150,
    "start_time": "2022-03-18T11:44:13.086Z"
   },
   {
    "duration": 18,
    "start_time": "2022-03-18T11:44:13.238Z"
   },
   {
    "duration": 155,
    "start_time": "2022-03-18T11:44:13.258Z"
   },
   {
    "duration": 858,
    "start_time": "2022-03-18T11:44:13.415Z"
   },
   {
    "duration": 29,
    "start_time": "2022-03-18T11:44:14.286Z"
   },
   {
    "duration": 188,
    "start_time": "2022-03-18T11:44:14.317Z"
   },
   {
    "duration": 24,
    "start_time": "2022-03-18T11:44:14.506Z"
   },
   {
    "duration": 155,
    "start_time": "2022-03-18T11:44:14.532Z"
   },
   {
    "duration": 230,
    "start_time": "2022-03-18T11:44:14.690Z"
   },
   {
    "duration": 9,
    "start_time": "2022-03-18T11:44:14.922Z"
   },
   {
    "duration": 32,
    "start_time": "2022-03-18T11:44:14.933Z"
   },
   {
    "duration": 30,
    "start_time": "2022-03-18T11:44:14.967Z"
   },
   {
    "duration": 8,
    "start_time": "2022-03-18T11:44:14.999Z"
   },
   {
    "duration": 20,
    "start_time": "2022-03-18T11:44:15.008Z"
   },
   {
    "duration": 25,
    "start_time": "2022-03-18T11:44:15.032Z"
   },
   {
    "duration": 45,
    "start_time": "2022-03-18T11:44:15.059Z"
   },
   {
    "duration": 19,
    "start_time": "2022-03-18T11:44:15.106Z"
   },
   {
    "duration": 7,
    "start_time": "2022-03-18T11:44:15.127Z"
   },
   {
    "duration": 94,
    "start_time": "2022-03-18T11:44:15.136Z"
   },
   {
    "duration": 208,
    "start_time": "2022-03-18T11:44:15.232Z"
   },
   {
    "duration": 7,
    "start_time": "2022-03-18T11:44:15.442Z"
   },
   {
    "duration": 30,
    "start_time": "2022-03-18T11:44:15.451Z"
   },
   {
    "duration": 215,
    "start_time": "2022-03-18T11:44:15.483Z"
   },
   {
    "duration": 9,
    "start_time": "2022-03-18T11:44:15.700Z"
   },
   {
    "duration": 13,
    "start_time": "2022-03-18T11:44:15.711Z"
   },
   {
    "duration": 211,
    "start_time": "2022-03-18T11:44:15.726Z"
   },
   {
    "duration": 23,
    "start_time": "2022-03-18T11:44:15.939Z"
   },
   {
    "duration": 41,
    "start_time": "2022-03-18T11:44:15.964Z"
   },
   {
    "duration": 36,
    "start_time": "2022-03-18T11:44:16.008Z"
   },
   {
    "duration": 19,
    "start_time": "2022-03-18T11:44:16.046Z"
   },
   {
    "duration": 21,
    "start_time": "2022-03-18T11:44:16.067Z"
   },
   {
    "duration": 29,
    "start_time": "2022-03-18T11:44:16.090Z"
   }
  ],
  "kernelspec": {
   "display_name": "Python 3 (ipykernel)",
   "language": "python",
   "name": "python3"
  },
  "language_info": {
   "codemirror_mode": {
    "name": "ipython",
    "version": 3
   },
   "file_extension": ".py",
   "mimetype": "text/x-python",
   "name": "python",
   "nbconvert_exporter": "python",
   "pygments_lexer": "ipython3",
   "version": "3.9.7"
  },
  "toc": {
   "base_numbering": 1,
   "nav_menu": {},
   "number_sections": true,
   "sideBar": true,
   "skip_h1_title": true,
   "title_cell": "Table of Contents",
   "title_sidebar": "Contents",
   "toc_cell": false,
   "toc_position": {},
   "toc_section_display": true,
   "toc_window_display": false
  }
 },
 "nbformat": 4,
 "nbformat_minor": 2
}
