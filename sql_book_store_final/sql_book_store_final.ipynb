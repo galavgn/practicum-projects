{
 "cells": [
  {
   "cell_type": "markdown",
   "metadata": {},
   "source": [
    "## Goal:\n",
    "- To generate and retrive enough information from DataBase\n"
   ]
  },
  {
   "cell_type": "markdown",
   "metadata": {},
   "source": [
    "## Description of the data\n",
    "\n",
    "**books:**\n",
    "Contains data on books:\n",
    "\n",
    "- `book_id`\n",
    "\n",
    "- `author_id`\n",
    "-`title`\n",
    "\n",
    "- `num_pages` — number of pages\n",
    "\n",
    "- `publication_date`\n",
    "\n",
    "- `publisher_id\n",
    "\n",
    "***authors:***\n",
    "Contains data on authors:\n",
    "\n",
    "- `author_id`\n",
    "- `author`\n",
    "\n",
    "**publishers:**\n",
    "Contains data on publishers:\n",
    "- `publisher_id`\n",
    "- `publisher`\n",
    "\n",
    "**ratings:**\n",
    "Contains data on user ratings:\n",
    "\n",
    "- `rating_id`\n",
    "- `book_id`\n",
    "- `username` — the name of the user who rated the book\n",
    "- `rating`\n",
    "\n",
    "**reviews:**\n",
    "Contains data on customer reviews:\n",
    "\n",
    "- `review_id`\n",
    "- `book_id`\n",
    "- `username` — the name of the user who reviewed the book\n",
    "- `text` — the text of the review\n"
   ]
  },
  {
   "cell_type": "markdown",
   "metadata": {},
   "source": [
    "## Accessing the database Connect to the database\n",
    "\n"
   ]
  },
  {
   "cell_type": "code",
   "execution_count": 1,
   "metadata": {},
   "outputs": [],
   "source": [
    "# Loading libraries\n",
    "import pandas as pd\n",
    "from sqlalchemy import create_engine"
   ]
  },
  {
   "cell_type": "code",
   "execution_count": 2,
   "metadata": {},
   "outputs": [],
   "source": [
    "db_config = {'user': 'praktikum_student',         # user name\n",
    "             'pwd': 'Sdf4$2;d-d30pp', # password\n",
    "             'host': 'rc1b-wcoijxj3yxfsf3fs.mdb.yandexcloud.net',\n",
    "             'port': 6432,              # connection port\n",
    "             'db': 'data-analyst-final-project-db'}          # the name of the data base\n",
    "\n",
    "connection_string = 'postgresql://{}:{}@{}:{}/{}'.format(db_config['user'],\n",
    "                                                                     db_config['pwd'],\n",
    "                                                                       db_config['host'],\n",
    "                                                                       db_config['port'],\n",
    "                                                                       db_config['db'])\n",
    "\n",
    "engine = create_engine(connection_string, connect_args={'sslmode':'require'})"
   ]
  },
  {
   "cell_type": "markdown",
   "metadata": {},
   "source": [
    "## Colecting data"
   ]
  },
  {
   "cell_type": "code",
   "execution_count": 3,
   "metadata": {},
   "outputs": [],
   "source": [
    "books = '''\n",
    "        SELECT * FROM BOOKS\n",
    "        '''\n",
    "\n",
    "books = pd.io.sql.read_sql(books, con = engine)     "
   ]
  },
  {
   "cell_type": "code",
   "execution_count": null,
   "metadata": {},
   "outputs": [],
   "source": []
  },
  {
   "cell_type": "code",
   "execution_count": 4,
   "metadata": {},
   "outputs": [],
   "source": [
    "authors = '''\n",
    "        SELECT * FROM authors\n",
    "\n",
    "        '''\n",
    "authors = pd.io.sql.read_sql(authors, con = engine)"
   ]
  },
  {
   "cell_type": "code",
   "execution_count": 5,
   "metadata": {},
   "outputs": [],
   "source": [
    "publishers =  '''\n",
    "        SELECT * FROM publishers\n",
    "\n",
    "        '''\n",
    "publishers = pd.io.sql.read_sql(publishers, con = engine)"
   ]
  },
  {
   "cell_type": "code",
   "execution_count": null,
   "metadata": {},
   "outputs": [],
   "source": []
  },
  {
   "cell_type": "code",
   "execution_count": 6,
   "metadata": {},
   "outputs": [],
   "source": [
    "ratings =  '''\n",
    "        SELECT * FROM ratings\n",
    "\n",
    "        '''\n",
    "ratings = pd.io.sql.read_sql(ratings, con = engine)"
   ]
  },
  {
   "cell_type": "code",
   "execution_count": 7,
   "metadata": {},
   "outputs": [],
   "source": [
    "reviews =  '''\n",
    "        SELECT * FROM reviews\n",
    "\n",
    "        '''\n",
    "reviews = pd.io.sql.read_sql(reviews, con = engine)"
   ]
  },
  {
   "cell_type": "markdown",
   "metadata": {},
   "source": [
    "## Data Preprocessing \n",
    "1. Study the tables (print the first rows)\n",
    "2. Write SQL script inside pandas read_sql method as follows:"
   ]
  },
  {
   "cell_type": "code",
   "execution_count": 8,
   "metadata": {},
   "outputs": [
    {
     "data": {
      "text/html": [
       "<div>\n",
       "<style scoped>\n",
       "    .dataframe tbody tr th:only-of-type {\n",
       "        vertical-align: middle;\n",
       "    }\n",
       "\n",
       "    .dataframe tbody tr th {\n",
       "        vertical-align: top;\n",
       "    }\n",
       "\n",
       "    .dataframe thead th {\n",
       "        text-align: right;\n",
       "    }\n",
       "</style>\n",
       "<table border=\"1\" class=\"dataframe\">\n",
       "  <thead>\n",
       "    <tr style=\"text-align: right;\">\n",
       "      <th></th>\n",
       "      <th>book_id</th>\n",
       "      <th>author_id</th>\n",
       "      <th>title</th>\n",
       "      <th>num_pages</th>\n",
       "      <th>publication_date</th>\n",
       "      <th>publisher_id</th>\n",
       "    </tr>\n",
       "  </thead>\n",
       "  <tbody>\n",
       "    <tr>\n",
       "      <th>0</th>\n",
       "      <td>1</td>\n",
       "      <td>546</td>\n",
       "      <td>'Salem's Lot</td>\n",
       "      <td>594</td>\n",
       "      <td>2005-11-01</td>\n",
       "      <td>93</td>\n",
       "    </tr>\n",
       "    <tr>\n",
       "      <th>1</th>\n",
       "      <td>2</td>\n",
       "      <td>465</td>\n",
       "      <td>1 000 Places to See Before You Die</td>\n",
       "      <td>992</td>\n",
       "      <td>2003-05-22</td>\n",
       "      <td>336</td>\n",
       "    </tr>\n",
       "    <tr>\n",
       "      <th>2</th>\n",
       "      <td>3</td>\n",
       "      <td>407</td>\n",
       "      <td>13 Little Blue Envelopes (Little Blue Envelope...</td>\n",
       "      <td>322</td>\n",
       "      <td>2010-12-21</td>\n",
       "      <td>135</td>\n",
       "    </tr>\n",
       "    <tr>\n",
       "      <th>3</th>\n",
       "      <td>4</td>\n",
       "      <td>82</td>\n",
       "      <td>1491: New Revelations of the Americas Before C...</td>\n",
       "      <td>541</td>\n",
       "      <td>2006-10-10</td>\n",
       "      <td>309</td>\n",
       "    </tr>\n",
       "    <tr>\n",
       "      <th>4</th>\n",
       "      <td>5</td>\n",
       "      <td>125</td>\n",
       "      <td>1776</td>\n",
       "      <td>386</td>\n",
       "      <td>2006-07-04</td>\n",
       "      <td>268</td>\n",
       "    </tr>\n",
       "  </tbody>\n",
       "</table>\n",
       "</div>"
      ],
      "text/plain": [
       "   book_id  author_id                                              title  \\\n",
       "0        1        546                                       'Salem's Lot   \n",
       "1        2        465                 1 000 Places to See Before You Die   \n",
       "2        3        407  13 Little Blue Envelopes (Little Blue Envelope...   \n",
       "3        4         82  1491: New Revelations of the Americas Before C...   \n",
       "4        5        125                                               1776   \n",
       "\n",
       "   num_pages publication_date  publisher_id  \n",
       "0        594       2005-11-01            93  \n",
       "1        992       2003-05-22           336  \n",
       "2        322       2010-12-21           135  \n",
       "3        541       2006-10-10           309  \n",
       "4        386       2006-07-04           268  "
      ]
     },
     "execution_count": 8,
     "metadata": {},
     "output_type": "execute_result"
    }
   ],
   "source": [
    "# Print sample of the data\n",
    "books.head()"
   ]
  },
  {
   "cell_type": "code",
   "execution_count": 9,
   "metadata": {
    "scrolled": true
   },
   "outputs": [
    {
     "data": {
      "text/plain": [
       "book_id             0\n",
       "author_id           0\n",
       "title               0\n",
       "num_pages           0\n",
       "publication_date    0\n",
       "publisher_id        0\n",
       "dtype: int64"
      ]
     },
     "execution_count": 9,
     "metadata": {},
     "output_type": "execute_result"
    }
   ],
   "source": [
    "# Check missing values\n",
    "books.isna().sum()"
   ]
  },
  {
   "cell_type": "code",
   "execution_count": 10,
   "metadata": {},
   "outputs": [
    {
     "data": {
      "text/plain": [
       "0"
      ]
     },
     "metadata": {},
     "output_type": "display_data"
    }
   ],
   "source": [
    "# Check for dublicates\n",
    "display(books.duplicated().sum()) "
   ]
  },
  {
   "cell_type": "code",
   "execution_count": 11,
   "metadata": {
    "scrolled": true
   },
   "outputs": [
    {
     "data": {
      "text/html": [
       "<div>\n",
       "<style scoped>\n",
       "    .dataframe tbody tr th:only-of-type {\n",
       "        vertical-align: middle;\n",
       "    }\n",
       "\n",
       "    .dataframe tbody tr th {\n",
       "        vertical-align: top;\n",
       "    }\n",
       "\n",
       "    .dataframe thead th {\n",
       "        text-align: right;\n",
       "    }\n",
       "</style>\n",
       "<table border=\"1\" class=\"dataframe\">\n",
       "  <thead>\n",
       "    <tr style=\"text-align: right;\">\n",
       "      <th></th>\n",
       "      <th>author_id</th>\n",
       "      <th>author</th>\n",
       "    </tr>\n",
       "  </thead>\n",
       "  <tbody>\n",
       "    <tr>\n",
       "      <th>0</th>\n",
       "      <td>1</td>\n",
       "      <td>A.S. Byatt</td>\n",
       "    </tr>\n",
       "    <tr>\n",
       "      <th>1</th>\n",
       "      <td>2</td>\n",
       "      <td>Aesop/Laura Harris/Laura Gibbs</td>\n",
       "    </tr>\n",
       "    <tr>\n",
       "      <th>2</th>\n",
       "      <td>3</td>\n",
       "      <td>Agatha Christie</td>\n",
       "    </tr>\n",
       "    <tr>\n",
       "      <th>3</th>\n",
       "      <td>4</td>\n",
       "      <td>Alan Brennert</td>\n",
       "    </tr>\n",
       "    <tr>\n",
       "      <th>4</th>\n",
       "      <td>5</td>\n",
       "      <td>Alan Moore/David   Lloyd</td>\n",
       "    </tr>\n",
       "  </tbody>\n",
       "</table>\n",
       "</div>"
      ],
      "text/plain": [
       "   author_id                          author\n",
       "0          1                      A.S. Byatt\n",
       "1          2  Aesop/Laura Harris/Laura Gibbs\n",
       "2          3                 Agatha Christie\n",
       "3          4                   Alan Brennert\n",
       "4          5        Alan Moore/David   Lloyd"
      ]
     },
     "execution_count": 11,
     "metadata": {},
     "output_type": "execute_result"
    }
   ],
   "source": [
    "# \n",
    "authors.head()"
   ]
  },
  {
   "cell_type": "code",
   "execution_count": 12,
   "metadata": {},
   "outputs": [
    {
     "data": {
      "text/plain": [
       "author_id    0\n",
       "author       0\n",
       "dtype: int64"
      ]
     },
     "execution_count": 12,
     "metadata": {},
     "output_type": "execute_result"
    }
   ],
   "source": [
    "# Check missing values\n",
    "authors.isna().sum()"
   ]
  },
  {
   "cell_type": "code",
   "execution_count": 13,
   "metadata": {},
   "outputs": [
    {
     "data": {
      "text/plain": [
       "0"
      ]
     },
     "metadata": {},
     "output_type": "display_data"
    }
   ],
   "source": [
    "# Check for dublicates\n",
    "display(authors.duplicated().sum())"
   ]
  },
  {
   "cell_type": "code",
   "execution_count": 14,
   "metadata": {},
   "outputs": [
    {
     "data": {
      "text/html": [
       "<div>\n",
       "<style scoped>\n",
       "    .dataframe tbody tr th:only-of-type {\n",
       "        vertical-align: middle;\n",
       "    }\n",
       "\n",
       "    .dataframe tbody tr th {\n",
       "        vertical-align: top;\n",
       "    }\n",
       "\n",
       "    .dataframe thead th {\n",
       "        text-align: right;\n",
       "    }\n",
       "</style>\n",
       "<table border=\"1\" class=\"dataframe\">\n",
       "  <thead>\n",
       "    <tr style=\"text-align: right;\">\n",
       "      <th></th>\n",
       "      <th>publisher_id</th>\n",
       "      <th>publisher</th>\n",
       "    </tr>\n",
       "  </thead>\n",
       "  <tbody>\n",
       "    <tr>\n",
       "      <th>0</th>\n",
       "      <td>1</td>\n",
       "      <td>Ace</td>\n",
       "    </tr>\n",
       "    <tr>\n",
       "      <th>1</th>\n",
       "      <td>2</td>\n",
       "      <td>Ace Book</td>\n",
       "    </tr>\n",
       "    <tr>\n",
       "      <th>2</th>\n",
       "      <td>3</td>\n",
       "      <td>Ace Books</td>\n",
       "    </tr>\n",
       "    <tr>\n",
       "      <th>3</th>\n",
       "      <td>4</td>\n",
       "      <td>Ace Hardcover</td>\n",
       "    </tr>\n",
       "    <tr>\n",
       "      <th>4</th>\n",
       "      <td>5</td>\n",
       "      <td>Addison Wesley Publishing Company</td>\n",
       "    </tr>\n",
       "  </tbody>\n",
       "</table>\n",
       "</div>"
      ],
      "text/plain": [
       "   publisher_id                          publisher\n",
       "0             1                                Ace\n",
       "1             2                           Ace Book\n",
       "2             3                          Ace Books\n",
       "3             4                      Ace Hardcover\n",
       "4             5  Addison Wesley Publishing Company"
      ]
     },
     "execution_count": 14,
     "metadata": {},
     "output_type": "execute_result"
    }
   ],
   "source": [
    "publishers.head()"
   ]
  },
  {
   "cell_type": "code",
   "execution_count": 15,
   "metadata": {},
   "outputs": [
    {
     "data": {
      "text/html": [
       "<div>\n",
       "<style scoped>\n",
       "    .dataframe tbody tr th:only-of-type {\n",
       "        vertical-align: middle;\n",
       "    }\n",
       "\n",
       "    .dataframe tbody tr th {\n",
       "        vertical-align: top;\n",
       "    }\n",
       "\n",
       "    .dataframe thead th {\n",
       "        text-align: right;\n",
       "    }\n",
       "</style>\n",
       "<table border=\"1\" class=\"dataframe\">\n",
       "  <thead>\n",
       "    <tr style=\"text-align: right;\">\n",
       "      <th></th>\n",
       "      <th>rating_id</th>\n",
       "      <th>book_id</th>\n",
       "      <th>username</th>\n",
       "      <th>rating</th>\n",
       "    </tr>\n",
       "  </thead>\n",
       "  <tbody>\n",
       "    <tr>\n",
       "      <th>0</th>\n",
       "      <td>1</td>\n",
       "      <td>1</td>\n",
       "      <td>ryanfranco</td>\n",
       "      <td>4</td>\n",
       "    </tr>\n",
       "    <tr>\n",
       "      <th>1</th>\n",
       "      <td>2</td>\n",
       "      <td>1</td>\n",
       "      <td>grantpatricia</td>\n",
       "      <td>2</td>\n",
       "    </tr>\n",
       "    <tr>\n",
       "      <th>2</th>\n",
       "      <td>3</td>\n",
       "      <td>1</td>\n",
       "      <td>brandtandrea</td>\n",
       "      <td>5</td>\n",
       "    </tr>\n",
       "    <tr>\n",
       "      <th>3</th>\n",
       "      <td>4</td>\n",
       "      <td>2</td>\n",
       "      <td>lorichen</td>\n",
       "      <td>3</td>\n",
       "    </tr>\n",
       "    <tr>\n",
       "      <th>4</th>\n",
       "      <td>5</td>\n",
       "      <td>2</td>\n",
       "      <td>mariokeller</td>\n",
       "      <td>2</td>\n",
       "    </tr>\n",
       "  </tbody>\n",
       "</table>\n",
       "</div>"
      ],
      "text/plain": [
       "   rating_id  book_id       username  rating\n",
       "0          1        1     ryanfranco       4\n",
       "1          2        1  grantpatricia       2\n",
       "2          3        1   brandtandrea       5\n",
       "3          4        2       lorichen       3\n",
       "4          5        2    mariokeller       2"
      ]
     },
     "execution_count": 15,
     "metadata": {},
     "output_type": "execute_result"
    }
   ],
   "source": [
    "ratings.head()"
   ]
  },
  {
   "cell_type": "code",
   "execution_count": 16,
   "metadata": {},
   "outputs": [
    {
     "data": {
      "text/plain": [
       "rating_id    0\n",
       "book_id      0\n",
       "username     0\n",
       "rating       0\n",
       "dtype: int64"
      ]
     },
     "execution_count": 16,
     "metadata": {},
     "output_type": "execute_result"
    }
   ],
   "source": [
    "# Check missing values\n",
    "ratings.isna().sum()"
   ]
  },
  {
   "cell_type": "code",
   "execution_count": 17,
   "metadata": {},
   "outputs": [
    {
     "data": {
      "text/plain": [
       "0"
      ]
     },
     "metadata": {},
     "output_type": "display_data"
    }
   ],
   "source": [
    "# Check for dublicates\n",
    "display(ratings.duplicated().sum())"
   ]
  },
  {
   "cell_type": "code",
   "execution_count": 18,
   "metadata": {
    "scrolled": false
   },
   "outputs": [
    {
     "data": {
      "text/html": [
       "<div>\n",
       "<style scoped>\n",
       "    .dataframe tbody tr th:only-of-type {\n",
       "        vertical-align: middle;\n",
       "    }\n",
       "\n",
       "    .dataframe tbody tr th {\n",
       "        vertical-align: top;\n",
       "    }\n",
       "\n",
       "    .dataframe thead th {\n",
       "        text-align: right;\n",
       "    }\n",
       "</style>\n",
       "<table border=\"1\" class=\"dataframe\">\n",
       "  <thead>\n",
       "    <tr style=\"text-align: right;\">\n",
       "      <th></th>\n",
       "      <th>review_id</th>\n",
       "      <th>book_id</th>\n",
       "      <th>username</th>\n",
       "      <th>text</th>\n",
       "    </tr>\n",
       "  </thead>\n",
       "  <tbody>\n",
       "    <tr>\n",
       "      <th>0</th>\n",
       "      <td>1</td>\n",
       "      <td>1</td>\n",
       "      <td>brandtandrea</td>\n",
       "      <td>Mention society tell send professor analysis. ...</td>\n",
       "    </tr>\n",
       "    <tr>\n",
       "      <th>1</th>\n",
       "      <td>2</td>\n",
       "      <td>1</td>\n",
       "      <td>ryanfranco</td>\n",
       "      <td>Foot glass pretty audience hit themselves. Amo...</td>\n",
       "    </tr>\n",
       "    <tr>\n",
       "      <th>2</th>\n",
       "      <td>3</td>\n",
       "      <td>2</td>\n",
       "      <td>lorichen</td>\n",
       "      <td>Listen treat keep worry. Miss husband tax but ...</td>\n",
       "    </tr>\n",
       "    <tr>\n",
       "      <th>3</th>\n",
       "      <td>4</td>\n",
       "      <td>3</td>\n",
       "      <td>johnsonamanda</td>\n",
       "      <td>Finally month interesting blue could nature cu...</td>\n",
       "    </tr>\n",
       "    <tr>\n",
       "      <th>4</th>\n",
       "      <td>5</td>\n",
       "      <td>3</td>\n",
       "      <td>scotttamara</td>\n",
       "      <td>Nation purpose heavy give wait song will. List...</td>\n",
       "    </tr>\n",
       "  </tbody>\n",
       "</table>\n",
       "</div>"
      ],
      "text/plain": [
       "   review_id  book_id       username  \\\n",
       "0          1        1   brandtandrea   \n",
       "1          2        1     ryanfranco   \n",
       "2          3        2       lorichen   \n",
       "3          4        3  johnsonamanda   \n",
       "4          5        3    scotttamara   \n",
       "\n",
       "                                                text  \n",
       "0  Mention society tell send professor analysis. ...  \n",
       "1  Foot glass pretty audience hit themselves. Amo...  \n",
       "2  Listen treat keep worry. Miss husband tax but ...  \n",
       "3  Finally month interesting blue could nature cu...  \n",
       "4  Nation purpose heavy give wait song will. List...  "
      ]
     },
     "execution_count": 18,
     "metadata": {},
     "output_type": "execute_result"
    }
   ],
   "source": [
    "reviews.head()"
   ]
  },
  {
   "cell_type": "code",
   "execution_count": 19,
   "metadata": {},
   "outputs": [
    {
     "data": {
      "text/plain": [
       "review_id    0\n",
       "book_id      0\n",
       "username     0\n",
       "text         0\n",
       "dtype: int64"
      ]
     },
     "execution_count": 19,
     "metadata": {},
     "output_type": "execute_result"
    }
   ],
   "source": [
    "# Check missing values\n",
    "reviews.isna().sum()"
   ]
  },
  {
   "cell_type": "code",
   "execution_count": 20,
   "metadata": {
    "scrolled": true
   },
   "outputs": [
    {
     "data": {
      "text/plain": [
       "0"
      ]
     },
     "metadata": {},
     "output_type": "display_data"
    }
   ],
   "source": [
    "#Check for dublicates\n",
    "display(reviews.duplicated().sum())"
   ]
  },
  {
   "cell_type": "markdown",
   "metadata": {},
   "source": [
    "### Conclusion\n",
    "- There is no missing values and dublicates in dataset"
   ]
  },
  {
   "cell_type": "code",
   "execution_count": 21,
   "metadata": {},
   "outputs": [],
   "source": [
    "# Let's create a function that displays the result of an SQL query:\n",
    "def sql_result(query):\n",
    "    return pd.io.sql.read_sql(query, con = engine)"
   ]
  },
  {
   "cell_type": "code",
   "execution_count": 22,
   "metadata": {
    "scrolled": true
   },
   "outputs": [
    {
     "data": {
      "text/html": [
       "<div>\n",
       "<style scoped>\n",
       "    .dataframe tbody tr th:only-of-type {\n",
       "        vertical-align: middle;\n",
       "    }\n",
       "\n",
       "    .dataframe tbody tr th {\n",
       "        vertical-align: top;\n",
       "    }\n",
       "\n",
       "    .dataframe thead th {\n",
       "        text-align: right;\n",
       "    }\n",
       "</style>\n",
       "<table border=\"1\" class=\"dataframe\">\n",
       "  <thead>\n",
       "    <tr style=\"text-align: right;\">\n",
       "      <th></th>\n",
       "      <th>book_id</th>\n",
       "      <th>author_id</th>\n",
       "      <th>title</th>\n",
       "      <th>num_pages</th>\n",
       "      <th>publication_date</th>\n",
       "      <th>publisher_id</th>\n",
       "    </tr>\n",
       "  </thead>\n",
       "  <tbody>\n",
       "    <tr>\n",
       "      <th>0</th>\n",
       "      <td>1</td>\n",
       "      <td>546</td>\n",
       "      <td>'Salem's Lot</td>\n",
       "      <td>594</td>\n",
       "      <td>2005-11-01</td>\n",
       "      <td>93</td>\n",
       "    </tr>\n",
       "    <tr>\n",
       "      <th>1</th>\n",
       "      <td>2</td>\n",
       "      <td>465</td>\n",
       "      <td>1 000 Places to See Before You Die</td>\n",
       "      <td>992</td>\n",
       "      <td>2003-05-22</td>\n",
       "      <td>336</td>\n",
       "    </tr>\n",
       "    <tr>\n",
       "      <th>2</th>\n",
       "      <td>3</td>\n",
       "      <td>407</td>\n",
       "      <td>13 Little Blue Envelopes (Little Blue Envelope...</td>\n",
       "      <td>322</td>\n",
       "      <td>2010-12-21</td>\n",
       "      <td>135</td>\n",
       "    </tr>\n",
       "    <tr>\n",
       "      <th>3</th>\n",
       "      <td>4</td>\n",
       "      <td>82</td>\n",
       "      <td>1491: New Revelations of the Americas Before C...</td>\n",
       "      <td>541</td>\n",
       "      <td>2006-10-10</td>\n",
       "      <td>309</td>\n",
       "    </tr>\n",
       "    <tr>\n",
       "      <th>4</th>\n",
       "      <td>5</td>\n",
       "      <td>125</td>\n",
       "      <td>1776</td>\n",
       "      <td>386</td>\n",
       "      <td>2006-07-04</td>\n",
       "      <td>268</td>\n",
       "    </tr>\n",
       "  </tbody>\n",
       "</table>\n",
       "</div>"
      ],
      "text/plain": [
       "   book_id  author_id                                              title  \\\n",
       "0        1        546                                       'Salem's Lot   \n",
       "1        2        465                 1 000 Places to See Before You Die   \n",
       "2        3        407  13 Little Blue Envelopes (Little Blue Envelope...   \n",
       "3        4         82  1491: New Revelations of the Americas Before C...   \n",
       "4        5        125                                               1776   \n",
       "\n",
       "   num_pages publication_date  publisher_id  \n",
       "0        594       2005-11-01            93  \n",
       "1        992       2003-05-22           336  \n",
       "2        322       2010-12-21           135  \n",
       "3        541       2006-10-10           309  \n",
       "4        386       2006-07-04           268  "
      ]
     },
     "execution_count": 22,
     "metadata": {},
     "output_type": "execute_result"
    }
   ],
   "source": [
    "# Check if it works\n",
    "query = \\\n",
    "'''\n",
    "\n",
    "SELECT * \n",
    "FROM books\n",
    "LIMIT 5\n",
    "\n",
    "'''\n",
    "sql_result(query)"
   ]
  },
  {
   "cell_type": "markdown",
   "metadata": {},
   "source": [
    "## Analysis\n",
    " Now we will analyze the collected data and compute some statistics."
   ]
  },
  {
   "cell_type": "markdown",
   "metadata": {},
   "source": [
    "### Find the number of books released after January 1, 2000"
   ]
  },
  {
   "cell_type": "code",
   "execution_count": 23,
   "metadata": {},
   "outputs": [
    {
     "data": {
      "text/html": [
       "<div>\n",
       "<style scoped>\n",
       "    .dataframe tbody tr th:only-of-type {\n",
       "        vertical-align: middle;\n",
       "    }\n",
       "\n",
       "    .dataframe tbody tr th {\n",
       "        vertical-align: top;\n",
       "    }\n",
       "\n",
       "    .dataframe thead th {\n",
       "        text-align: right;\n",
       "    }\n",
       "</style>\n",
       "<table border=\"1\" class=\"dataframe\">\n",
       "  <thead>\n",
       "    <tr style=\"text-align: right;\">\n",
       "      <th></th>\n",
       "      <th>book_cnt</th>\n",
       "    </tr>\n",
       "  </thead>\n",
       "  <tbody>\n",
       "    <tr>\n",
       "      <th>0</th>\n",
       "      <td>819</td>\n",
       "    </tr>\n",
       "  </tbody>\n",
       "</table>\n",
       "</div>"
      ],
      "text/plain": [
       "   book_cnt\n",
       "0       819"
      ]
     },
     "metadata": {},
     "output_type": "display_data"
    }
   ],
   "source": [
    "query_1 =   '''\n",
    "                    SELECT\n",
    "                        COUNT(book_id) AS book_cnt\n",
    "                    FROM\n",
    "                        books\n",
    "                    WHERE  \n",
    "                        publication_date::date > '2000-01-01'\n",
    "                    ''' \n",
    "query_1 = pd.io.sql.read_sql(query_1, con = engine)        \n",
    "display(query_1)"
   ]
  },
  {
   "cell_type": "markdown",
   "metadata": {},
   "source": [
    "- There are 819 books released after 2000"
   ]
  },
  {
   "cell_type": "markdown",
   "metadata": {},
   "source": [
    "### Find the number of user reviews and the average rating for each book."
   ]
  },
  {
   "cell_type": "code",
   "execution_count": 24,
   "metadata": {},
   "outputs": [
    {
     "data": {
      "text/html": [
       "<div>\n",
       "<style scoped>\n",
       "    .dataframe tbody tr th:only-of-type {\n",
       "        vertical-align: middle;\n",
       "    }\n",
       "\n",
       "    .dataframe tbody tr th {\n",
       "        vertical-align: top;\n",
       "    }\n",
       "\n",
       "    .dataframe thead th {\n",
       "        text-align: right;\n",
       "    }\n",
       "</style>\n",
       "<table border=\"1\" class=\"dataframe\">\n",
       "  <thead>\n",
       "    <tr style=\"text-align: right;\">\n",
       "      <th></th>\n",
       "      <th>title</th>\n",
       "      <th>review_cnt</th>\n",
       "      <th>avg_rating</th>\n",
       "    </tr>\n",
       "  </thead>\n",
       "  <tbody>\n",
       "    <tr>\n",
       "      <th>0</th>\n",
       "      <td>Twilight (Twilight  #1)</td>\n",
       "      <td>7</td>\n",
       "      <td>3.662500</td>\n",
       "    </tr>\n",
       "    <tr>\n",
       "      <th>1</th>\n",
       "      <td>The Hobbit  or There and Back Again</td>\n",
       "      <td>6</td>\n",
       "      <td>4.125000</td>\n",
       "    </tr>\n",
       "    <tr>\n",
       "      <th>2</th>\n",
       "      <td>The Catcher in the Rye</td>\n",
       "      <td>6</td>\n",
       "      <td>3.825581</td>\n",
       "    </tr>\n",
       "    <tr>\n",
       "      <th>3</th>\n",
       "      <td>Harry Potter and the Prisoner of Azkaban (Harr...</td>\n",
       "      <td>6</td>\n",
       "      <td>4.414634</td>\n",
       "    </tr>\n",
       "    <tr>\n",
       "      <th>4</th>\n",
       "      <td>Harry Potter and the Chamber of Secrets (Harry...</td>\n",
       "      <td>6</td>\n",
       "      <td>4.287500</td>\n",
       "    </tr>\n",
       "    <tr>\n",
       "      <th>...</th>\n",
       "      <td>...</td>\n",
       "      <td>...</td>\n",
       "      <td>...</td>\n",
       "    </tr>\n",
       "    <tr>\n",
       "      <th>994</th>\n",
       "      <td>Disney's Beauty and the Beast (A Little Golden...</td>\n",
       "      <td>0</td>\n",
       "      <td>4.000000</td>\n",
       "    </tr>\n",
       "    <tr>\n",
       "      <th>995</th>\n",
       "      <td>Essential Tales and Poems</td>\n",
       "      <td>0</td>\n",
       "      <td>4.000000</td>\n",
       "    </tr>\n",
       "    <tr>\n",
       "      <th>996</th>\n",
       "      <td>Leonardo's Notebooks</td>\n",
       "      <td>0</td>\n",
       "      <td>4.000000</td>\n",
       "    </tr>\n",
       "    <tr>\n",
       "      <th>997</th>\n",
       "      <td>The Natural Way to Draw</td>\n",
       "      <td>0</td>\n",
       "      <td>3.000000</td>\n",
       "    </tr>\n",
       "    <tr>\n",
       "      <th>998</th>\n",
       "      <td>The Cat in the Hat and Other Dr. Seuss Favorites</td>\n",
       "      <td>0</td>\n",
       "      <td>5.000000</td>\n",
       "    </tr>\n",
       "  </tbody>\n",
       "</table>\n",
       "<p>999 rows × 3 columns</p>\n",
       "</div>"
      ],
      "text/plain": [
       "                                                 title  review_cnt  avg_rating\n",
       "0                              Twilight (Twilight  #1)           7    3.662500\n",
       "1                  The Hobbit  or There and Back Again           6    4.125000\n",
       "2                               The Catcher in the Rye           6    3.825581\n",
       "3    Harry Potter and the Prisoner of Azkaban (Harr...           6    4.414634\n",
       "4    Harry Potter and the Chamber of Secrets (Harry...           6    4.287500\n",
       "..                                                 ...         ...         ...\n",
       "994  Disney's Beauty and the Beast (A Little Golden...           0    4.000000\n",
       "995                          Essential Tales and Poems           0    4.000000\n",
       "996                               Leonardo's Notebooks           0    4.000000\n",
       "997                            The Natural Way to Draw           0    3.000000\n",
       "998   The Cat in the Hat and Other Dr. Seuss Favorites           0    5.000000\n",
       "\n",
       "[999 rows x 3 columns]"
      ]
     },
     "execution_count": 24,
     "metadata": {},
     "output_type": "execute_result"
    }
   ],
   "source": [
    "query = \\\n",
    "'''\n",
    "\n",
    "SELECT\n",
    "  books.title,\n",
    "  COUNT (distinct review_id) as review_cnt,\n",
    "  AVG(rating) AS avg_rating\n",
    "FROM\n",
    "  books\n",
    "LEFT JOIN\n",
    "  reviews ON reviews.book_id = books.book_id\n",
    "LEFT JOIN\n",
    "  ratings ON ratings.book_id = books.book_id\n",
    "GROUP BY\n",
    "  books.title\n",
    "ORDER BY \n",
    "    COUNT(reviews.review_id) DESC\n",
    "\n",
    "'''\n",
    "sql_result(query)"
   ]
  },
  {
   "cell_type": "markdown",
   "metadata": {},
   "source": [
    "- For each title of  book we see the number of review and the average rating."
   ]
  },
  {
   "cell_type": "markdown",
   "metadata": {},
   "source": [
    "### Identify the publisher that has released the greatest number of books with more than 50 pages (this will help you exclude brochures and similar publications from your analysis)."
   ]
  },
  {
   "cell_type": "code",
   "execution_count": 25,
   "metadata": {},
   "outputs": [
    {
     "data": {
      "text/html": [
       "<div>\n",
       "<style scoped>\n",
       "    .dataframe tbody tr th:only-of-type {\n",
       "        vertical-align: middle;\n",
       "    }\n",
       "\n",
       "    .dataframe tbody tr th {\n",
       "        vertical-align: top;\n",
       "    }\n",
       "\n",
       "    .dataframe thead th {\n",
       "        text-align: right;\n",
       "    }\n",
       "</style>\n",
       "<table border=\"1\" class=\"dataframe\">\n",
       "  <thead>\n",
       "    <tr style=\"text-align: right;\">\n",
       "      <th></th>\n",
       "      <th>publisher_id</th>\n",
       "      <th>publisher_name</th>\n",
       "      <th>cnt_books</th>\n",
       "    </tr>\n",
       "  </thead>\n",
       "  <tbody>\n",
       "    <tr>\n",
       "      <th>0</th>\n",
       "      <td>212</td>\n",
       "      <td>Penguin Books</td>\n",
       "      <td>42</td>\n",
       "    </tr>\n",
       "    <tr>\n",
       "      <th>1</th>\n",
       "      <td>309</td>\n",
       "      <td>Vintage</td>\n",
       "      <td>31</td>\n",
       "    </tr>\n",
       "    <tr>\n",
       "      <th>2</th>\n",
       "      <td>116</td>\n",
       "      <td>Grand Central Publishing</td>\n",
       "      <td>25</td>\n",
       "    </tr>\n",
       "    <tr>\n",
       "      <th>3</th>\n",
       "      <td>217</td>\n",
       "      <td>Penguin Classics</td>\n",
       "      <td>24</td>\n",
       "    </tr>\n",
       "    <tr>\n",
       "      <th>4</th>\n",
       "      <td>35</td>\n",
       "      <td>Bantam</td>\n",
       "      <td>19</td>\n",
       "    </tr>\n",
       "    <tr>\n",
       "      <th>5</th>\n",
       "      <td>33</td>\n",
       "      <td>Ballantine Books</td>\n",
       "      <td>19</td>\n",
       "    </tr>\n",
       "    <tr>\n",
       "      <th>6</th>\n",
       "      <td>45</td>\n",
       "      <td>Berkley</td>\n",
       "      <td>17</td>\n",
       "    </tr>\n",
       "    <tr>\n",
       "      <th>7</th>\n",
       "      <td>46</td>\n",
       "      <td>Berkley Books</td>\n",
       "      <td>14</td>\n",
       "    </tr>\n",
       "    <tr>\n",
       "      <th>8</th>\n",
       "      <td>284</td>\n",
       "      <td>St. Martin's Press</td>\n",
       "      <td>14</td>\n",
       "    </tr>\n",
       "    <tr>\n",
       "      <th>9</th>\n",
       "      <td>333</td>\n",
       "      <td>William Morrow Paperbacks</td>\n",
       "      <td>13</td>\n",
       "    </tr>\n",
       "    <tr>\n",
       "      <th>10</th>\n",
       "      <td>83</td>\n",
       "      <td>Delta</td>\n",
       "      <td>13</td>\n",
       "    </tr>\n",
       "    <tr>\n",
       "      <th>11</th>\n",
       "      <td>129</td>\n",
       "      <td>Harper Perennial</td>\n",
       "      <td>12</td>\n",
       "    </tr>\n",
       "    <tr>\n",
       "      <th>12</th>\n",
       "      <td>133</td>\n",
       "      <td>HarperCollins</td>\n",
       "      <td>12</td>\n",
       "    </tr>\n",
       "    <tr>\n",
       "      <th>13</th>\n",
       "      <td>176</td>\n",
       "      <td>Little  Brown and Company</td>\n",
       "      <td>12</td>\n",
       "    </tr>\n",
       "    <tr>\n",
       "      <th>14</th>\n",
       "      <td>297</td>\n",
       "      <td>Tor Books</td>\n",
       "      <td>11</td>\n",
       "    </tr>\n",
       "    <tr>\n",
       "      <th>15</th>\n",
       "      <td>31</td>\n",
       "      <td>Back Bay Books</td>\n",
       "      <td>11</td>\n",
       "    </tr>\n",
       "    <tr>\n",
       "      <th>16</th>\n",
       "      <td>143</td>\n",
       "      <td>HarperTorch</td>\n",
       "      <td>10</td>\n",
       "    </tr>\n",
       "    <tr>\n",
       "      <th>17</th>\n",
       "      <td>229</td>\n",
       "      <td>Pocket Books</td>\n",
       "      <td>10</td>\n",
       "    </tr>\n",
       "    <tr>\n",
       "      <th>18</th>\n",
       "      <td>210</td>\n",
       "      <td>Penguin</td>\n",
       "      <td>10</td>\n",
       "    </tr>\n",
       "    <tr>\n",
       "      <th>19</th>\n",
       "      <td>178</td>\n",
       "      <td>Mariner Books</td>\n",
       "      <td>10</td>\n",
       "    </tr>\n",
       "  </tbody>\n",
       "</table>\n",
       "</div>"
      ],
      "text/plain": [
       "    publisher_id             publisher_name  cnt_books\n",
       "0            212              Penguin Books         42\n",
       "1            309                    Vintage         31\n",
       "2            116   Grand Central Publishing         25\n",
       "3            217           Penguin Classics         24\n",
       "4             35                     Bantam         19\n",
       "5             33           Ballantine Books         19\n",
       "6             45                    Berkley         17\n",
       "7             46              Berkley Books         14\n",
       "8            284         St. Martin's Press         14\n",
       "9            333  William Morrow Paperbacks         13\n",
       "10            83                      Delta         13\n",
       "11           129           Harper Perennial         12\n",
       "12           133              HarperCollins         12\n",
       "13           176  Little  Brown and Company         12\n",
       "14           297                  Tor Books         11\n",
       "15            31             Back Bay Books         11\n",
       "16           143                HarperTorch         10\n",
       "17           229               Pocket Books         10\n",
       "18           210                    Penguin         10\n",
       "19           178              Mariner Books         10"
      ]
     },
     "metadata": {},
     "output_type": "display_data"
    }
   ],
   "source": [
    "query_3 = '''\n",
    "        SELECT\n",
    "            publishers.publisher_id AS publisher_id,\n",
    "            publishers.publisher AS publisher_name,\n",
    "            COUNT(DISTINCT(books.book_id)) AS cnt_books\n",
    "        FROM\n",
    "            publishers\n",
    "        INNER JOIN books ON books.publisher_id = publishers.publisher_id\n",
    "        WHERE\n",
    "            books.num_pages > 50\n",
    "        GROUP BY\n",
    "            publishers.publisher_id, publishers.publisher\n",
    "        ORDER BY\n",
    "            cnt_books DESC\n",
    "        LIMIT 20;\n",
    "            \n",
    "    \n",
    "'''\n",
    "query_3 = pd.io.sql.read_sql(query_3, con = engine)        \n",
    "display(query_3)"
   ]
  },
  {
   "cell_type": "markdown",
   "metadata": {},
   "source": [
    "- The top 20 of publishers are displayed in this table\n",
    "- Penguin Books released the highest number of books."
   ]
  },
  {
   "cell_type": "markdown",
   "metadata": {},
   "source": [
    "### Identify the author with the highest average book rating: look only at books with at least 50 ratings"
   ]
  },
  {
   "cell_type": "code",
   "execution_count": 26,
   "metadata": {},
   "outputs": [
    {
     "data": {
      "text/html": [
       "<div>\n",
       "<style scoped>\n",
       "    .dataframe tbody tr th:only-of-type {\n",
       "        vertical-align: middle;\n",
       "    }\n",
       "\n",
       "    .dataframe tbody tr th {\n",
       "        vertical-align: top;\n",
       "    }\n",
       "\n",
       "    .dataframe thead th {\n",
       "        text-align: right;\n",
       "    }\n",
       "</style>\n",
       "<table border=\"1\" class=\"dataframe\">\n",
       "  <thead>\n",
       "    <tr style=\"text-align: right;\">\n",
       "      <th></th>\n",
       "      <th>author_id</th>\n",
       "      <th>author_name</th>\n",
       "      <th>book_id</th>\n",
       "      <th>avg_reating</th>\n",
       "    </tr>\n",
       "  </thead>\n",
       "  <tbody>\n",
       "    <tr>\n",
       "      <th>0</th>\n",
       "      <td>236</td>\n",
       "      <td>J.K. Rowling/Mary GrandPré</td>\n",
       "      <td>302</td>\n",
       "      <td>4.414634</td>\n",
       "    </tr>\n",
       "    <tr>\n",
       "      <th>1</th>\n",
       "      <td>240</td>\n",
       "      <td>J.R.R. Tolkien</td>\n",
       "      <td>722</td>\n",
       "      <td>4.391892</td>\n",
       "    </tr>\n",
       "    <tr>\n",
       "      <th>2</th>\n",
       "      <td>236</td>\n",
       "      <td>J.K. Rowling/Mary GrandPré</td>\n",
       "      <td>299</td>\n",
       "      <td>4.287500</td>\n",
       "    </tr>\n",
       "    <tr>\n",
       "      <th>3</th>\n",
       "      <td>402</td>\n",
       "      <td>Markus Zusak/Cao Xuân Việt Khương</td>\n",
       "      <td>656</td>\n",
       "      <td>4.264151</td>\n",
       "    </tr>\n",
       "    <tr>\n",
       "      <th>4</th>\n",
       "      <td>236</td>\n",
       "      <td>J.K. Rowling/Mary GrandPré</td>\n",
       "      <td>300</td>\n",
       "      <td>4.246575</td>\n",
       "    </tr>\n",
       "    <tr>\n",
       "      <th>5</th>\n",
       "      <td>376</td>\n",
       "      <td>Louisa May Alcott</td>\n",
       "      <td>399</td>\n",
       "      <td>4.192308</td>\n",
       "    </tr>\n",
       "    <tr>\n",
       "      <th>6</th>\n",
       "      <td>236</td>\n",
       "      <td>J.K. Rowling/Mary GrandPré</td>\n",
       "      <td>301</td>\n",
       "      <td>4.186667</td>\n",
       "    </tr>\n",
       "    <tr>\n",
       "      <th>7</th>\n",
       "      <td>240</td>\n",
       "      <td>J.R.R. Tolkien</td>\n",
       "      <td>750</td>\n",
       "      <td>4.125000</td>\n",
       "    </tr>\n",
       "    <tr>\n",
       "      <th>8</th>\n",
       "      <td>498</td>\n",
       "      <td>Rick Riordan</td>\n",
       "      <td>779</td>\n",
       "      <td>4.080645</td>\n",
       "    </tr>\n",
       "    <tr>\n",
       "      <th>9</th>\n",
       "      <td>621</td>\n",
       "      <td>William Golding</td>\n",
       "      <td>405</td>\n",
       "      <td>3.901408</td>\n",
       "    </tr>\n",
       "    <tr>\n",
       "      <th>10</th>\n",
       "      <td>106</td>\n",
       "      <td>Dan Brown</td>\n",
       "      <td>696</td>\n",
       "      <td>3.830508</td>\n",
       "    </tr>\n",
       "    <tr>\n",
       "      <th>11</th>\n",
       "      <td>235</td>\n",
       "      <td>J.D. Salinger</td>\n",
       "      <td>673</td>\n",
       "      <td>3.825581</td>\n",
       "    </tr>\n",
       "    <tr>\n",
       "      <th>12</th>\n",
       "      <td>469</td>\n",
       "      <td>Paulo Coelho/Alan R. Clarke/Özdemir İnce</td>\n",
       "      <td>627</td>\n",
       "      <td>3.789474</td>\n",
       "    </tr>\n",
       "    <tr>\n",
       "      <th>13</th>\n",
       "      <td>630</td>\n",
       "      <td>William Shakespeare/Paul Werstine/Barbara A. M...</td>\n",
       "      <td>545</td>\n",
       "      <td>3.787879</td>\n",
       "    </tr>\n",
       "    <tr>\n",
       "      <th>14</th>\n",
       "      <td>372</td>\n",
       "      <td>Lois Lowry</td>\n",
       "      <td>733</td>\n",
       "      <td>3.750000</td>\n",
       "    </tr>\n",
       "    <tr>\n",
       "      <th>15</th>\n",
       "      <td>195</td>\n",
       "      <td>George Orwell/Boris Grabnar/Peter Škerl</td>\n",
       "      <td>79</td>\n",
       "      <td>3.729730</td>\n",
       "    </tr>\n",
       "    <tr>\n",
       "      <th>16</th>\n",
       "      <td>106</td>\n",
       "      <td>Dan Brown</td>\n",
       "      <td>75</td>\n",
       "      <td>3.678571</td>\n",
       "    </tr>\n",
       "    <tr>\n",
       "      <th>17</th>\n",
       "      <td>554</td>\n",
       "      <td>Stephenie Meyer</td>\n",
       "      <td>948</td>\n",
       "      <td>3.662500</td>\n",
       "    </tr>\n",
       "    <tr>\n",
       "      <th>18</th>\n",
       "      <td>311</td>\n",
       "      <td>John Steinbeck</td>\n",
       "      <td>488</td>\n",
       "      <td>3.622951</td>\n",
       "    </tr>\n",
       "  </tbody>\n",
       "</table>\n",
       "</div>"
      ],
      "text/plain": [
       "    author_id                                        author_name  book_id  \\\n",
       "0         236                         J.K. Rowling/Mary GrandPré      302   \n",
       "1         240                                     J.R.R. Tolkien      722   \n",
       "2         236                         J.K. Rowling/Mary GrandPré      299   \n",
       "3         402                  Markus Zusak/Cao Xuân Việt Khương      656   \n",
       "4         236                         J.K. Rowling/Mary GrandPré      300   \n",
       "5         376                                  Louisa May Alcott      399   \n",
       "6         236                         J.K. Rowling/Mary GrandPré      301   \n",
       "7         240                                     J.R.R. Tolkien      750   \n",
       "8         498                                       Rick Riordan      779   \n",
       "9         621                                    William Golding      405   \n",
       "10        106                                          Dan Brown      696   \n",
       "11        235                                      J.D. Salinger      673   \n",
       "12        469           Paulo Coelho/Alan R. Clarke/Özdemir İnce      627   \n",
       "13        630  William Shakespeare/Paul Werstine/Barbara A. M...      545   \n",
       "14        372                                         Lois Lowry      733   \n",
       "15        195            George Orwell/Boris Grabnar/Peter Škerl       79   \n",
       "16        106                                          Dan Brown       75   \n",
       "17        554                                    Stephenie Meyer      948   \n",
       "18        311                                     John Steinbeck      488   \n",
       "\n",
       "    avg_reating  \n",
       "0      4.414634  \n",
       "1      4.391892  \n",
       "2      4.287500  \n",
       "3      4.264151  \n",
       "4      4.246575  \n",
       "5      4.192308  \n",
       "6      4.186667  \n",
       "7      4.125000  \n",
       "8      4.080645  \n",
       "9      3.901408  \n",
       "10     3.830508  \n",
       "11     3.825581  \n",
       "12     3.789474  \n",
       "13     3.787879  \n",
       "14     3.750000  \n",
       "15     3.729730  \n",
       "16     3.678571  \n",
       "17     3.662500  \n",
       "18     3.622951  "
      ]
     },
     "metadata": {},
     "output_type": "display_data"
    }
   ],
   "source": [
    "query_4 = '''\n",
    "    SELECT    \n",
    "        books.author_id AS author_id,\n",
    "        authors.author AS author_name,\n",
    "        ratings.book_id AS book_id,\n",
    "        AVG(ratings.rating) AS avg_reating    \n",
    "    FROM\n",
    "        ratings\n",
    "    INNER JOIN\n",
    "        books ON books.book_id = ratings.book_id\n",
    "    INNER JOIN\n",
    "        authors ON authors.author_id = books.author_id    \n",
    "    GROUP BY\n",
    "        ratings.book_id, books.author_id, authors.author\n",
    "    HAVING\n",
    "        COUNT(ratings.rating_id) > 49\n",
    "    ORDER BY\n",
    "        avg_reating DESC\n",
    "    LIMIT 20;\n",
    "\n",
    "'''\n",
    "query_4 = pd.io.sql.read_sql(query_4, con = engine)        \n",
    "display(query_4)"
   ]
  },
  {
   "cell_type": "markdown",
   "metadata": {},
   "source": [
    "- We see the top 20 outhors . The highest average rating is 4.41."
   ]
  },
  {
   "cell_type": "markdown",
   "metadata": {},
   "source": [
    "### Find the average number of text reviews among users who rated more than 50 books."
   ]
  },
  {
   "cell_type": "code",
   "execution_count": 27,
   "metadata": {},
   "outputs": [
    {
     "data": {
      "text/html": [
       "<div>\n",
       "<style scoped>\n",
       "    .dataframe tbody tr th:only-of-type {\n",
       "        vertical-align: middle;\n",
       "    }\n",
       "\n",
       "    .dataframe tbody tr th {\n",
       "        vertical-align: top;\n",
       "    }\n",
       "\n",
       "    .dataframe thead th {\n",
       "        text-align: right;\n",
       "    }\n",
       "</style>\n",
       "<table border=\"1\" class=\"dataframe\">\n",
       "  <thead>\n",
       "    <tr style=\"text-align: right;\">\n",
       "      <th></th>\n",
       "      <th>avg_review_cnt</th>\n",
       "    </tr>\n",
       "  </thead>\n",
       "  <tbody>\n",
       "    <tr>\n",
       "      <th>0</th>\n",
       "      <td>24.333333</td>\n",
       "    </tr>\n",
       "  </tbody>\n",
       "</table>\n",
       "</div>"
      ],
      "text/plain": [
       "   avg_review_cnt\n",
       "0       24.333333"
      ]
     },
     "execution_count": 27,
     "metadata": {},
     "output_type": "execute_result"
    }
   ],
   "source": [
    "query = \\\n",
    "'''\n",
    "SELECT\n",
    "  AVG(review_cnt) as avg_review_cnt\n",
    "FROM\n",
    "(SELECT\n",
    "  COUNT(review_id) as review_cnt\n",
    "FROM\n",
    "  reviews\n",
    "WHERE username IN\n",
    "(SELECT\n",
    "  username\n",
    "FROM\n",
    "  ratings\n",
    "GROUP BY\n",
    "  username\n",
    "HAVING\n",
    "  COUNT(ratings) > 50)\n",
    "GROUP BY\n",
    "  username) as sub_review_cnt \n",
    "\n",
    "'''\n",
    "sql_result(query)"
   ]
  },
  {
   "cell_type": "markdown",
   "metadata": {},
   "source": [
    "\n",
    "- The average number of text review is 24.333333"
   ]
  },
  {
   "cell_type": "markdown",
   "metadata": {},
   "source": [
    "## Conclusion\n",
    "We went through the topics that were important for us to check out\n",
    "1. Number of books released after January 1, 2000 are 819 books\n",
    "2. For each book we retrive title, avg rating and counted rating (see N7.2)\n",
    "3. The publisher that has released the greatest number of books with more than 50 pages:\n",
    "- `publisher_id`is 212\t and  Penguin Books released the highest number of books:42\n",
    "3. The author with the highest average book rating is J.K. Rowling/Mary GrandPré with rating 4.41\n",
    "4. The average number of text reviews is 24.33333\n",
    "\n",
    "- This definitely brought us important initial information that will help us in the further process of developing a new product."
   ]
  }
 ],
 "metadata": {
  "ExecuteTimeLog": [
   {
    "duration": 621,
    "start_time": "2022-07-23T20:50:50.176Z"
   },
   {
    "duration": 10277,
    "start_time": "2022-07-23T20:51:04.912Z"
   },
   {
    "duration": 5,
    "start_time": "2022-07-23T20:52:07.201Z"
   },
   {
    "duration": 7,
    "start_time": "2022-07-23T20:54:09.330Z"
   },
   {
    "duration": 84,
    "start_time": "2022-07-23T20:54:12.476Z"
   },
   {
    "duration": 20,
    "start_time": "2022-07-23T20:55:22.387Z"
   },
   {
    "duration": 52,
    "start_time": "2022-07-23T20:56:04.629Z"
   },
   {
    "duration": 22,
    "start_time": "2022-07-23T20:57:09.929Z"
   },
   {
    "duration": 6,
    "start_time": "2022-07-23T20:58:22.029Z"
   },
   {
    "duration": 10,
    "start_time": "2022-07-23T21:00:09.803Z"
   },
   {
    "duration": 9,
    "start_time": "2022-07-23T21:01:34.113Z"
   },
   {
    "duration": 74,
    "start_time": "2022-07-23T21:01:55.038Z"
   },
   {
    "duration": 9,
    "start_time": "2022-07-23T21:02:21.478Z"
   },
   {
    "duration": 10,
    "start_time": "2022-07-23T21:02:32.675Z"
   },
   {
    "duration": 10,
    "start_time": "2022-07-23T21:02:34.075Z"
   },
   {
    "duration": 27,
    "start_time": "2022-07-23T21:02:36.369Z"
   },
   {
    "duration": 22,
    "start_time": "2022-07-23T21:02:37.354Z"
   },
   {
    "duration": 9,
    "start_time": "2022-07-23T21:02:39.185Z"
   },
   {
    "duration": 8,
    "start_time": "2022-07-23T21:02:40.340Z"
   },
   {
    "duration": 15,
    "start_time": "2022-07-23T21:02:43.604Z"
   },
   {
    "duration": 15,
    "start_time": "2022-07-23T21:02:59.034Z"
   },
   {
    "duration": 13,
    "start_time": "2022-07-23T21:03:13.470Z"
   },
   {
    "duration": 13,
    "start_time": "2022-07-23T21:05:44.294Z"
   },
   {
    "duration": 27,
    "start_time": "2022-07-23T21:06:59.661Z"
   },
   {
    "duration": 22,
    "start_time": "2022-07-23T21:09:00.955Z"
   },
   {
    "duration": 36,
    "start_time": "2022-07-23T21:10:34.537Z"
   },
   {
    "duration": 32,
    "start_time": "2022-07-23T21:10:54.739Z"
   },
   {
    "duration": 62,
    "start_time": "2022-07-23T21:11:08.905Z"
   },
   {
    "duration": 52,
    "start_time": "2022-07-23T21:11:22.063Z"
   },
   {
    "duration": 26,
    "start_time": "2022-07-23T21:11:34.626Z"
   },
   {
    "duration": 21,
    "start_time": "2022-07-23T21:13:46.878Z"
   },
   {
    "duration": 20,
    "start_time": "2022-07-23T21:13:55.759Z"
   },
   {
    "duration": 579,
    "start_time": "2022-07-23T21:37:18.383Z"
   },
   {
    "duration": 7939,
    "start_time": "2022-07-23T21:37:18.964Z"
   },
   {
    "duration": 53,
    "start_time": "2022-07-23T21:37:26.906Z"
   },
   {
    "duration": 9,
    "start_time": "2022-07-23T21:37:26.961Z"
   },
   {
    "duration": 32,
    "start_time": "2022-07-23T21:37:26.972Z"
   },
   {
    "duration": 57,
    "start_time": "2022-07-23T21:37:27.005Z"
   },
   {
    "duration": 14,
    "start_time": "2022-07-23T21:37:27.063Z"
   },
   {
    "duration": 19,
    "start_time": "2022-07-23T21:37:27.079Z"
   },
   {
    "duration": 28,
    "start_time": "2022-07-23T21:37:27.099Z"
   },
   {
    "duration": 19,
    "start_time": "2022-07-23T21:37:27.129Z"
   },
   {
    "duration": 20,
    "start_time": "2022-07-23T21:37:27.150Z"
   },
   {
    "duration": 19,
    "start_time": "2022-07-23T21:37:27.172Z"
   },
   {
    "duration": 29,
    "start_time": "2022-07-23T21:37:27.193Z"
   },
   {
    "duration": 35,
    "start_time": "2022-07-23T21:37:27.226Z"
   },
   {
    "duration": 14,
    "start_time": "2022-07-23T21:37:27.263Z"
   },
   {
    "duration": 24,
    "start_time": "2022-07-23T21:37:27.279Z"
   },
   {
    "duration": 16,
    "start_time": "2022-07-23T21:37:27.305Z"
   },
   {
    "duration": 3,
    "start_time": "2022-07-23T21:37:38.923Z"
   },
   {
    "duration": 5,
    "start_time": "2022-07-23T21:37:39.681Z"
   },
   {
    "duration": 55,
    "start_time": "2022-07-23T21:37:41.002Z"
   },
   {
    "duration": 11,
    "start_time": "2022-07-23T21:37:42.214Z"
   },
   {
    "duration": 11,
    "start_time": "2022-07-23T21:37:43.074Z"
   },
   {
    "duration": 33,
    "start_time": "2022-07-23T21:37:44.280Z"
   },
   {
    "duration": 19,
    "start_time": "2022-07-23T21:37:44.840Z"
   },
   {
    "duration": 9,
    "start_time": "2022-07-23T21:37:45.940Z"
   },
   {
    "duration": 7,
    "start_time": "2022-07-23T21:37:46.442Z"
   },
   {
    "duration": 7,
    "start_time": "2022-07-23T21:37:46.891Z"
   },
   {
    "duration": 8,
    "start_time": "2022-07-23T21:37:47.358Z"
   },
   {
    "duration": 8,
    "start_time": "2022-07-23T21:37:47.915Z"
   },
   {
    "duration": 12,
    "start_time": "2022-07-23T21:37:48.752Z"
   },
   {
    "duration": 30,
    "start_time": "2022-07-23T21:37:50.256Z"
   },
   {
    "duration": 17,
    "start_time": "2022-07-23T21:37:52.875Z"
   },
   {
    "duration": 21,
    "start_time": "2022-07-23T21:37:55.465Z"
   },
   {
    "duration": 22,
    "start_time": "2022-07-23T21:37:57.204Z"
   },
   {
    "duration": 522,
    "start_time": "2022-07-24T17:17:30.825Z"
   },
   {
    "duration": 11637,
    "start_time": "2022-07-24T17:17:31.349Z"
   },
   {
    "duration": 67,
    "start_time": "2022-07-24T17:17:42.988Z"
   },
   {
    "duration": 9,
    "start_time": "2022-07-24T17:17:43.056Z"
   },
   {
    "duration": 7,
    "start_time": "2022-07-24T17:17:43.067Z"
   },
   {
    "duration": 31,
    "start_time": "2022-07-24T17:17:43.076Z"
   },
   {
    "duration": 17,
    "start_time": "2022-07-24T17:17:43.110Z"
   },
   {
    "duration": 16,
    "start_time": "2022-07-24T17:17:43.129Z"
   },
   {
    "duration": 9,
    "start_time": "2022-07-24T17:17:43.146Z"
   },
   {
    "duration": 9,
    "start_time": "2022-07-24T17:17:43.156Z"
   },
   {
    "duration": 11,
    "start_time": "2022-07-24T17:17:43.167Z"
   },
   {
    "duration": 27,
    "start_time": "2022-07-24T17:17:43.179Z"
   },
   {
    "duration": 15,
    "start_time": "2022-07-24T17:17:43.208Z"
   },
   {
    "duration": 25,
    "start_time": "2022-07-24T17:17:43.225Z"
   },
   {
    "duration": 14,
    "start_time": "2022-07-24T17:17:43.252Z"
   },
   {
    "duration": 19,
    "start_time": "2022-07-24T17:17:43.268Z"
   },
   {
    "duration": 28,
    "start_time": "2022-07-24T17:17:43.289Z"
   },
   {
    "duration": 49,
    "start_time": "2022-07-24T20:20:35.028Z"
   },
   {
    "duration": 489,
    "start_time": "2022-07-24T20:20:39.150Z"
   },
   {
    "duration": 5625,
    "start_time": "2022-07-24T20:20:39.641Z"
   },
   {
    "duration": 280,
    "start_time": "2022-07-24T20:20:45.268Z"
   },
   {
    "duration": 71,
    "start_time": "2022-07-24T20:20:45.550Z"
   },
   {
    "duration": 70,
    "start_time": "2022-07-24T20:20:45.623Z"
   },
   {
    "duration": 102,
    "start_time": "2022-07-24T20:20:45.695Z"
   },
   {
    "duration": 111,
    "start_time": "2022-07-24T20:20:45.799Z"
   },
   {
    "duration": 15,
    "start_time": "2022-07-24T20:20:45.912Z"
   },
   {
    "duration": 17,
    "start_time": "2022-07-24T20:20:45.928Z"
   },
   {
    "duration": 3,
    "start_time": "2022-07-24T20:22:56.155Z"
   },
   {
    "duration": 35,
    "start_time": "2022-07-24T20:27:18.141Z"
   },
   {
    "duration": 10,
    "start_time": "2022-07-24T20:27:32.133Z"
   },
   {
    "duration": 7,
    "start_time": "2022-07-24T20:33:08.666Z"
   },
   {
    "duration": 6,
    "start_time": "2022-07-24T20:33:16.263Z"
   },
   {
    "duration": 17,
    "start_time": "2022-07-24T20:34:13.935Z"
   },
   {
    "duration": 5,
    "start_time": "2022-07-24T20:34:16.706Z"
   },
   {
    "duration": 6,
    "start_time": "2022-07-24T20:34:48.591Z"
   },
   {
    "duration": 6,
    "start_time": "2022-07-24T20:34:50.870Z"
   },
   {
    "duration": 46,
    "start_time": "2022-07-24T20:36:00.908Z"
   },
   {
    "duration": 6,
    "start_time": "2022-07-24T20:36:13.150Z"
   },
   {
    "duration": 456,
    "start_time": "2022-07-24T20:39:46.168Z"
   },
   {
    "duration": 6680,
    "start_time": "2022-07-24T20:39:46.626Z"
   },
   {
    "duration": 269,
    "start_time": "2022-07-24T20:39:53.307Z"
   },
   {
    "duration": 72,
    "start_time": "2022-07-24T20:39:53.578Z"
   },
   {
    "duration": 69,
    "start_time": "2022-07-24T20:39:53.651Z"
   },
   {
    "duration": 100,
    "start_time": "2022-07-24T20:39:53.722Z"
   },
   {
    "duration": 101,
    "start_time": "2022-07-24T20:39:53.823Z"
   },
   {
    "duration": 14,
    "start_time": "2022-07-24T20:39:53.926Z"
   },
   {
    "duration": 7,
    "start_time": "2022-07-24T20:39:53.941Z"
   },
   {
    "duration": 10,
    "start_time": "2022-07-24T20:39:53.951Z"
   },
   {
    "duration": 7,
    "start_time": "2022-07-24T20:39:53.963Z"
   },
   {
    "duration": 20,
    "start_time": "2022-07-24T20:39:53.972Z"
   },
   {
    "duration": 15,
    "start_time": "2022-07-24T20:39:53.994Z"
   },
   {
    "duration": 8,
    "start_time": "2022-07-24T20:39:54.011Z"
   },
   {
    "duration": 10,
    "start_time": "2022-07-24T20:39:54.021Z"
   },
   {
    "duration": 13,
    "start_time": "2022-07-24T20:39:54.033Z"
   },
   {
    "duration": 14,
    "start_time": "2022-07-24T20:39:54.047Z"
   },
   {
    "duration": 9,
    "start_time": "2022-07-24T20:39:54.062Z"
   },
   {
    "duration": 6,
    "start_time": "2022-07-24T20:39:54.073Z"
   },
   {
    "duration": 7,
    "start_time": "2022-07-24T20:39:54.080Z"
   },
   {
    "duration": 78,
    "start_time": "2022-07-24T20:39:54.089Z"
   },
   {
    "duration": 0,
    "start_time": "2022-07-24T20:39:54.169Z"
   },
   {
    "duration": 0,
    "start_time": "2022-07-24T20:39:54.170Z"
   },
   {
    "duration": 0,
    "start_time": "2022-07-24T20:39:54.171Z"
   },
   {
    "duration": 0,
    "start_time": "2022-07-24T20:39:54.173Z"
   },
   {
    "duration": 0,
    "start_time": "2022-07-24T20:39:54.173Z"
   },
   {
    "duration": 51,
    "start_time": "2022-07-24T20:41:30.947Z"
   },
   {
    "duration": 45,
    "start_time": "2022-07-24T20:42:44.003Z"
   },
   {
    "duration": 74,
    "start_time": "2022-07-24T20:42:53.170Z"
   },
   {
    "duration": 64,
    "start_time": "2022-07-24T20:44:28.962Z"
   },
   {
    "duration": 533,
    "start_time": "2022-07-24T20:46:14.382Z"
   },
   {
    "duration": 5922,
    "start_time": "2022-07-24T20:46:14.917Z"
   },
   {
    "duration": 267,
    "start_time": "2022-07-24T20:46:20.840Z"
   },
   {
    "duration": 71,
    "start_time": "2022-07-24T20:46:21.109Z"
   },
   {
    "duration": 71,
    "start_time": "2022-07-24T20:46:21.182Z"
   },
   {
    "duration": 90,
    "start_time": "2022-07-24T20:46:21.255Z"
   },
   {
    "duration": 86,
    "start_time": "2022-07-24T20:46:21.347Z"
   },
   {
    "duration": 16,
    "start_time": "2022-07-24T20:46:21.436Z"
   },
   {
    "duration": 20,
    "start_time": "2022-07-24T20:46:21.454Z"
   },
   {
    "duration": 16,
    "start_time": "2022-07-24T20:46:21.477Z"
   },
   {
    "duration": 13,
    "start_time": "2022-07-24T20:46:21.494Z"
   },
   {
    "duration": 14,
    "start_time": "2022-07-24T20:46:21.509Z"
   },
   {
    "duration": 20,
    "start_time": "2022-07-24T20:46:21.525Z"
   },
   {
    "duration": 17,
    "start_time": "2022-07-24T20:46:21.547Z"
   },
   {
    "duration": 15,
    "start_time": "2022-07-24T20:46:21.566Z"
   },
   {
    "duration": 13,
    "start_time": "2022-07-24T20:46:21.583Z"
   },
   {
    "duration": 14,
    "start_time": "2022-07-24T20:46:21.597Z"
   },
   {
    "duration": 10,
    "start_time": "2022-07-24T20:46:21.613Z"
   },
   {
    "duration": 13,
    "start_time": "2022-07-24T20:46:21.625Z"
   },
   {
    "duration": 17,
    "start_time": "2022-07-24T20:46:21.640Z"
   },
   {
    "duration": 45,
    "start_time": "2022-07-24T20:46:21.659Z"
   },
   {
    "duration": 0,
    "start_time": "2022-07-24T20:46:21.705Z"
   },
   {
    "duration": 0,
    "start_time": "2022-07-24T20:46:21.706Z"
   },
   {
    "duration": 0,
    "start_time": "2022-07-24T20:46:21.708Z"
   },
   {
    "duration": 0,
    "start_time": "2022-07-24T20:46:21.709Z"
   },
   {
    "duration": 0,
    "start_time": "2022-07-24T20:46:21.710Z"
   },
   {
    "duration": 0,
    "start_time": "2022-07-24T20:46:21.711Z"
   },
   {
    "duration": 3,
    "start_time": "2022-07-24T20:49:54.210Z"
   },
   {
    "duration": 73,
    "start_time": "2022-07-24T20:50:12.343Z"
   },
   {
    "duration": 78,
    "start_time": "2022-07-24T20:53:08.680Z"
   },
   {
    "duration": 78,
    "start_time": "2022-07-24T20:53:33.067Z"
   },
   {
    "duration": 73,
    "start_time": "2022-07-24T20:54:18.545Z"
   },
   {
    "duration": 102,
    "start_time": "2022-07-24T20:55:26.244Z"
   },
   {
    "duration": 111,
    "start_time": "2022-07-24T20:55:41.689Z"
   },
   {
    "duration": 70,
    "start_time": "2022-07-24T20:57:50.861Z"
   },
   {
    "duration": 3,
    "start_time": "2022-07-24T20:58:29.407Z"
   },
   {
    "duration": 73,
    "start_time": "2022-07-24T20:58:45.977Z"
   },
   {
    "duration": 72,
    "start_time": "2022-07-24T20:59:16.172Z"
   },
   {
    "duration": 3,
    "start_time": "2022-07-24T20:59:40.305Z"
   },
   {
    "duration": 71,
    "start_time": "2022-07-24T20:59:41.281Z"
   },
   {
    "duration": 71,
    "start_time": "2022-07-24T21:00:04.505Z"
   },
   {
    "duration": 110,
    "start_time": "2022-07-24T21:01:45.795Z"
   },
   {
    "duration": 74,
    "start_time": "2022-07-24T21:05:01.191Z"
   },
   {
    "duration": 2,
    "start_time": "2022-07-24T21:07:16.732Z"
   },
   {
    "duration": 4,
    "start_time": "2022-07-24T21:07:17.828Z"
   },
   {
    "duration": 308,
    "start_time": "2022-07-24T21:07:22.598Z"
   },
   {
    "duration": 80,
    "start_time": "2022-07-24T21:07:31.153Z"
   },
   {
    "duration": 68,
    "start_time": "2022-07-24T21:07:31.858Z"
   },
   {
    "duration": 118,
    "start_time": "2022-07-24T21:07:33.309Z"
   },
   {
    "duration": 93,
    "start_time": "2022-07-24T21:07:34.045Z"
   },
   {
    "duration": 8,
    "start_time": "2022-07-24T21:07:44.944Z"
   },
   {
    "duration": 5,
    "start_time": "2022-07-24T21:07:46.944Z"
   },
   {
    "duration": 5,
    "start_time": "2022-07-24T21:07:54.450Z"
   },
   {
    "duration": 7,
    "start_time": "2022-07-24T21:07:55.343Z"
   },
   {
    "duration": 5,
    "start_time": "2022-07-24T21:07:58.357Z"
   },
   {
    "duration": 5,
    "start_time": "2022-07-24T21:07:59.286Z"
   },
   {
    "duration": 6,
    "start_time": "2022-07-24T21:08:00.098Z"
   },
   {
    "duration": 7,
    "start_time": "2022-07-24T21:08:02.825Z"
   },
   {
    "duration": 6,
    "start_time": "2022-07-24T21:08:03.853Z"
   },
   {
    "duration": 6,
    "start_time": "2022-07-24T21:08:06.725Z"
   },
   {
    "duration": 8,
    "start_time": "2022-07-24T21:08:07.563Z"
   },
   {
    "duration": 6,
    "start_time": "2022-07-24T21:08:08.991Z"
   },
   {
    "duration": 9,
    "start_time": "2022-07-24T21:08:11.466Z"
   },
   {
    "duration": 3,
    "start_time": "2022-07-24T21:09:27.977Z"
   },
   {
    "duration": 76,
    "start_time": "2022-07-24T21:09:29.211Z"
   },
   {
    "duration": 70,
    "start_time": "2022-07-24T21:09:51.923Z"
   },
   {
    "duration": 73,
    "start_time": "2022-07-24T21:09:56.345Z"
   },
   {
    "duration": 119,
    "start_time": "2022-07-24T21:10:00.044Z"
   },
   {
    "duration": 241,
    "start_time": "2022-07-24T21:10:58.305Z"
   },
   {
    "duration": 127,
    "start_time": "2022-07-24T21:12:06.590Z"
   },
   {
    "duration": 132,
    "start_time": "2022-07-24T21:12:19.496Z"
   },
   {
    "duration": 114,
    "start_time": "2022-07-24T21:13:05.184Z"
   },
   {
    "duration": 3,
    "start_time": "2022-07-24T21:15:47.210Z"
   },
   {
    "duration": 9,
    "start_time": "2022-07-24T21:17:00.003Z"
   },
   {
    "duration": 6,
    "start_time": "2022-07-24T21:17:02.130Z"
   },
   {
    "duration": 7,
    "start_time": "2022-07-24T21:17:04.792Z"
   },
   {
    "duration": 6,
    "start_time": "2022-07-24T21:17:05.607Z"
   },
   {
    "duration": 6,
    "start_time": "2022-07-24T21:17:06.492Z"
   },
   {
    "duration": 6,
    "start_time": "2022-07-24T21:17:07.353Z"
   },
   {
    "duration": 7,
    "start_time": "2022-07-24T21:17:08.138Z"
   },
   {
    "duration": 8,
    "start_time": "2022-07-24T21:17:08.950Z"
   },
   {
    "duration": 6,
    "start_time": "2022-07-24T21:17:09.678Z"
   },
   {
    "duration": 5,
    "start_time": "2022-07-24T21:17:10.505Z"
   },
   {
    "duration": 7,
    "start_time": "2022-07-24T21:17:11.250Z"
   },
   {
    "duration": 6,
    "start_time": "2022-07-24T21:17:12.011Z"
   },
   {
    "duration": 8,
    "start_time": "2022-07-24T21:17:12.903Z"
   },
   {
    "duration": 2,
    "start_time": "2022-07-24T21:17:17.862Z"
   },
   {
    "duration": 73,
    "start_time": "2022-07-24T21:17:18.991Z"
   },
   {
    "duration": 48,
    "start_time": "2022-07-24T21:17:20.203Z"
   },
   {
    "duration": 72,
    "start_time": "2022-07-24T21:17:24.313Z"
   },
   {
    "duration": 75,
    "start_time": "2022-07-24T21:18:17.622Z"
   },
   {
    "duration": 156,
    "start_time": "2022-07-24T21:18:21.879Z"
   },
   {
    "duration": 117,
    "start_time": "2022-07-24T21:18:49.950Z"
   },
   {
    "duration": 75,
    "start_time": "2022-07-24T21:18:57.359Z"
   },
   {
    "duration": 83,
    "start_time": "2022-07-24T21:19:05.051Z"
   },
   {
    "duration": 74,
    "start_time": "2022-07-24T21:19:10.979Z"
   },
   {
    "duration": 75,
    "start_time": "2022-07-24T21:23:51.829Z"
   },
   {
    "duration": 73,
    "start_time": "2022-07-24T21:25:07.787Z"
   },
   {
    "duration": 115,
    "start_time": "2022-07-24T21:25:12.374Z"
   },
   {
    "duration": 78,
    "start_time": "2022-07-24T21:25:16.223Z"
   },
   {
    "duration": 82,
    "start_time": "2022-07-24T21:25:22.439Z"
   },
   {
    "duration": 76,
    "start_time": "2022-07-24T21:25:28.898Z"
   },
   {
    "duration": 522,
    "start_time": "2022-07-25T12:05:31.707Z"
   },
   {
    "duration": 14284,
    "start_time": "2022-07-25T12:05:32.231Z"
   },
   {
    "duration": 267,
    "start_time": "2022-07-25T12:05:46.517Z"
   },
   {
    "duration": 74,
    "start_time": "2022-07-25T12:05:46.786Z"
   },
   {
    "duration": 62,
    "start_time": "2022-07-25T12:05:46.861Z"
   },
   {
    "duration": 103,
    "start_time": "2022-07-25T12:05:46.925Z"
   },
   {
    "duration": 83,
    "start_time": "2022-07-25T12:05:47.030Z"
   },
   {
    "duration": 14,
    "start_time": "2022-07-25T12:05:47.114Z"
   },
   {
    "duration": 12,
    "start_time": "2022-07-25T12:05:47.130Z"
   },
   {
    "duration": 33,
    "start_time": "2022-07-25T12:05:47.145Z"
   },
   {
    "duration": 14,
    "start_time": "2022-07-25T12:05:47.179Z"
   },
   {
    "duration": 13,
    "start_time": "2022-07-25T12:05:47.194Z"
   },
   {
    "duration": 15,
    "start_time": "2022-07-25T12:05:47.209Z"
   },
   {
    "duration": 9,
    "start_time": "2022-07-25T12:05:47.225Z"
   },
   {
    "duration": 27,
    "start_time": "2022-07-25T12:05:47.236Z"
   },
   {
    "duration": 12,
    "start_time": "2022-07-25T12:05:47.265Z"
   },
   {
    "duration": 13,
    "start_time": "2022-07-25T12:05:47.278Z"
   },
   {
    "duration": 11,
    "start_time": "2022-07-25T12:05:47.292Z"
   },
   {
    "duration": 14,
    "start_time": "2022-07-25T12:05:47.305Z"
   },
   {
    "duration": 13,
    "start_time": "2022-07-25T12:05:47.320Z"
   },
   {
    "duration": 24,
    "start_time": "2022-07-25T12:05:47.335Z"
   },
   {
    "duration": 79,
    "start_time": "2022-07-25T12:05:47.361Z"
   },
   {
    "duration": 159,
    "start_time": "2022-07-25T12:05:47.442Z"
   },
   {
    "duration": 0,
    "start_time": "2022-07-25T12:05:47.603Z"
   },
   {
    "duration": 0,
    "start_time": "2022-07-25T12:05:47.605Z"
   },
   {
    "duration": 0,
    "start_time": "2022-07-25T12:05:47.606Z"
   },
   {
    "duration": 0,
    "start_time": "2022-07-25T12:05:47.607Z"
   },
   {
    "duration": 0,
    "start_time": "2022-07-25T12:05:47.609Z"
   },
   {
    "duration": 517,
    "start_time": "2022-07-25T12:13:57.209Z"
   },
   {
    "duration": 17317,
    "start_time": "2022-07-25T12:13:57.728Z"
   },
   {
    "duration": 273,
    "start_time": "2022-07-25T12:14:15.047Z"
   },
   {
    "duration": 65,
    "start_time": "2022-07-25T12:14:15.322Z"
   },
   {
    "duration": 71,
    "start_time": "2022-07-25T12:14:15.390Z"
   },
   {
    "duration": 96,
    "start_time": "2022-07-25T12:14:15.462Z"
   },
   {
    "duration": 75,
    "start_time": "2022-07-25T12:14:15.560Z"
   },
   {
    "duration": 16,
    "start_time": "2022-07-25T12:14:15.636Z"
   },
   {
    "duration": 19,
    "start_time": "2022-07-25T12:14:15.653Z"
   },
   {
    "duration": 8,
    "start_time": "2022-07-25T12:14:15.673Z"
   },
   {
    "duration": 7,
    "start_time": "2022-07-25T12:14:15.683Z"
   },
   {
    "duration": 23,
    "start_time": "2022-07-25T12:14:15.691Z"
   },
   {
    "duration": 16,
    "start_time": "2022-07-25T12:14:15.716Z"
   },
   {
    "duration": 12,
    "start_time": "2022-07-25T12:14:15.734Z"
   },
   {
    "duration": 33,
    "start_time": "2022-07-25T12:14:15.748Z"
   },
   {
    "duration": 16,
    "start_time": "2022-07-25T12:14:15.782Z"
   },
   {
    "duration": 14,
    "start_time": "2022-07-25T12:14:15.799Z"
   },
   {
    "duration": 14,
    "start_time": "2022-07-25T12:14:15.815Z"
   },
   {
    "duration": 20,
    "start_time": "2022-07-25T12:14:15.830Z"
   },
   {
    "duration": 20,
    "start_time": "2022-07-25T12:14:15.852Z"
   },
   {
    "duration": 6,
    "start_time": "2022-07-25T12:14:15.874Z"
   },
   {
    "duration": 83,
    "start_time": "2022-07-25T12:14:15.882Z"
   },
   {
    "duration": 65,
    "start_time": "2022-07-25T12:14:15.967Z"
   },
   {
    "duration": 102,
    "start_time": "2022-07-25T12:14:16.033Z"
   },
   {
    "duration": 76,
    "start_time": "2022-07-25T12:14:16.136Z"
   },
   {
    "duration": 87,
    "start_time": "2022-07-25T12:14:16.214Z"
   },
   {
    "duration": 67,
    "start_time": "2022-07-25T12:14:16.303Z"
   }
  ],
  "kernelspec": {
   "display_name": "Python 3 (ipykernel)",
   "language": "python",
   "name": "python3"
  },
  "language_info": {
   "codemirror_mode": {
    "name": "ipython",
    "version": 3
   },
   "file_extension": ".py",
   "mimetype": "text/x-python",
   "name": "python",
   "nbconvert_exporter": "python",
   "pygments_lexer": "ipython3",
   "version": "3.9.7"
  },
  "toc": {
   "base_numbering": 1,
   "nav_menu": {},
   "number_sections": true,
   "sideBar": true,
   "skip_h1_title": true,
   "title_cell": "Table of Contents",
   "title_sidebar": "Contents",
   "toc_cell": false,
   "toc_position": {},
   "toc_section_display": true,
   "toc_window_display": false
  }
 },
 "nbformat": 4,
 "nbformat_minor": 2
}
